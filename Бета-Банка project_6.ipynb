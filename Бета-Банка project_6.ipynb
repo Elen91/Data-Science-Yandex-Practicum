{
 "cells": [
  {
   "cell_type": "markdown",
   "metadata": {},
   "source": [
    "<h1>Содержание<span class=\"tocSkip\"></span></h1>\n",
    "<div class=\"toc\"><ul class=\"toc-item\"><li><span><a href=\"#Описание-проекта\" data-toc-modified-id=\"Описание-проекта-0\"><span class=\"toc-item-num\">0&nbsp;&nbsp;</span>Описание проекта</a></span></li><li><span><a href=\"#Изучение-данных-из-файла\" data-toc-modified-id=\"Изучение-данных-из-файла-1\"><span class=\"toc-item-num\">1&nbsp;&nbsp;</span>Изучение данных из файла</a></span></li><li><span><a href=\"#Предобработка-данных\" data-toc-modified-id=\"Предобработка-данных-2\"><span class=\"toc-item-num\">2&nbsp;&nbsp;</span>Предобработка данных</a></span><ul class=\"toc-item\"><li><span><a href=\"#Выбросы\" data-toc-modified-id=\"Выбросы-2.1\"><span class=\"toc-item-num\">2.1&nbsp;&nbsp;</span>Выбросы</a></span><li><span><a href=\"#Перекодировка-признаков\" data-toc-modified-id=\"Перекодировка-признаков-2.2\"><span class=\"toc-item-num\">2.2&nbsp;&nbsp;</span>Перекодировка признаков</a></span><li><span><a href=\"#Масштабирование-признаков\" data-toc-modified-id=\"Масштабирование-признаков-2.3\"><span class=\"toc-item-num\">2.3&nbsp;&nbsp;</span>Масштабирование признаков</a></span><li><span><a href=\"#Замена-пропусков\" data-toc-modified-id=\"Замена-пропусков-2.4\"><span class=\"toc-item-num\">2.4&nbsp;&nbsp;</span>Замена пропусков</a></span></li></ul></li><li><span><a href=\"#Исследовательский-анализ\" data-toc-modified-id=\"Исследовательский-анализ-3\"><span class=\"toc-item-num\">3&nbsp;&nbsp;</span>Исследовательский анализ</a></span></li><li><span><a href=\"#Обучение-моделей\" data-toc-modified-id=\"Обучение-моделей-4\"><span class=\"toc-item-num\">4&nbsp;&nbsp;</span>Обучение моделей</a></span><ul class=\"toc-item\"><li><span><a href=\"#Логистическая-регрессия\" data-toc-modified-id=\"Логистическая-регрессия-4.1\"><span class=\"toc-item-num\">4.1&nbsp;&nbsp;</span>Логистическая регрессия</a></span><li><span><a href=\"#Случайный-лес\" data-toc-modified-id=\"Случайный-лес-4.2\"><span class=\"toc-item-num\">4.2&nbsp;&nbsp;</span>Случайный лес</a></span></li></ul></li><li><span><a href=\"#Проверка-качества-модели-на-тестовой-выборке\" data-toc-modified-id=\"Проверка-качества-модели-на-тестовой-выборке-5\"><span class=\"toc-item-num\">5&nbsp;&nbsp;</span>Проверка качества модели на тестовой выборке</a></span></li><li><span><a href=\"#Общий-вывод\" data-toc-modified-id=\"Общий-вывод-6\"><span class=\"toc-item-num\">6&nbsp;&nbsp;</span>Общий вывод</a></span></li></ul></div>"
   ]
  },
  {
   "cell_type": "markdown",
   "metadata": {},
   "source": [
    "## Описание проекта\n",
    "\n",
    "Из «Бета-Банка» стали уходить клиенты. Каждый месяц. Немного, но заметно. Банковские маркетологи посчитали: сохранять текущих клиентов дешевле, чем привлекать новых.\n",
    "\n",
    "**Задача**: спрогнозировать, уйдёт клиент из банка в ближайшее время или нет. \n",
    "Имеются исторические данные о поведении клиентов и расторжении договоров с банком.\n",
    "Необходимо: \n",
    "1) построить модель с предельно большим значением F1-меры (чтобы сдать проект успешно, нужно довести метрику до 0.59).  \n",
    "2) проверить F1-меру на тестовой выборке самостоятельно.  \n",
    "3) дополнительно измерить AUC-ROC, сравнить её значение с F1-мерой.  \n",
    "\n",
    "### Описание данных\n",
    "Каждый объект в наборе данных — это информация о поведении клиентов. \n",
    "\n",
    "**Признаки**  \n",
    "* `RowNumber` — индекс строки в данных  \n",
    "* `CustomerId` — уникальный идентификатор клиента  \n",
    "* `Surname` — фамилия  \n",
    "* `CreditScore` — кредитный рейтинг  \n",
    "* `Geography` — страна проживания  \n",
    "* `Gender` — пол  \n",
    "* `Age` — возраст  \n",
    "* `Tenure` — сколько лет человек является клиентом банка  \n",
    "* `Balance` — баланс на счёте  \n",
    "* `NumOfProducts` — количество продуктов банка, используемых клиентом  \n",
    "* `HasCrCard` — наличие кредитной карты  \n",
    "* `IsActiveMember` — активность клиента  \n",
    "* `EstimatedSalary` — предполагаемая зарплата  \n",
    "\n",
    "**Целевой признак**\n",
    "* `Exited` — факт ухода клиента  "
   ]
  },
  {
   "cell_type": "markdown",
   "metadata": {},
   "source": [
    "### План  \n",
    "1) Изучу данные. Проведу преобработку данных.  \n",
    "2) Разделю исходные данные на обучающую, валидационную и тестовую выборки.  \n",
    "3) Исследую баланс классов, обучу модели без учёта дисбаланса.  \n",
    "4) Постараюсь улучшить качество модели, учитывая дисбаланс классов. Попробую обучить разные модели и найти лучшую.  \n",
    "5) Проведу финальное тестирование и проверю качество модели на тестовой выборке.   "
   ]
  },
  {
   "cell_type": "markdown",
   "metadata": {},
   "source": [
    "## Изучение данных из файла"
   ]
  },
  {
   "cell_type": "code",
   "execution_count": 1,
   "metadata": {},
   "outputs": [],
   "source": [
    "import pandas as pd \n",
    "import numpy as np\n",
    "\n",
    "# для графиков\n",
    "import seaborn as sns\n",
    "from matplotlib import pyplot as plt\n",
    "\n",
    "# импорт моделей \n",
    "#from sklearn.tree import DecisionTreeClassifier \n",
    "from sklearn.ensemble import RandomForestClassifier \n",
    "from sklearn.linear_model import LogisticRegression \n",
    "\n",
    "from sklearn.model_selection import train_test_split\n",
    "from sklearn.preprocessing import StandardScaler \n",
    "\n",
    "from sklearn.model_selection import GridSearchCV\n",
    "\n",
    "from sklearn.utils import shuffle\n",
    "\n",
    "from sklearn.metrics import plot_confusion_matrix # для отрисовки матрицы ошибок\n",
    "\n",
    "from sklearn.metrics import roc_curve # для построения ROC-AUC кривой\n",
    "\n",
    "# для заполнения миссингов\n",
    "from sklearn.impute import KNNImputer\n",
    "\n",
    "# импорт метрик оценки качества моделей\n",
    "from sklearn.metrics import accuracy_score # загрузим тоже\n",
    "from sklearn.metrics import precision_score\n",
    "from sklearn.metrics import recall_score\n",
    "from sklearn.metrics import f1_score\n",
    "from sklearn.metrics import roc_auc_score"
   ]
  },
  {
   "cell_type": "code",
   "execution_count": 2,
   "metadata": {},
   "outputs": [],
   "source": [
    "# два числа после запятой\n",
    "pd.options.display.float_format = '{:,.2f}'.format"
   ]
  },
  {
   "cell_type": "code",
   "execution_count": 3,
   "metadata": {},
   "outputs": [],
   "source": [
    "# читаем данные\n",
    "try:\n",
    "    data = pd.read_csv('/datasets/Churn.csv')\n",
    "except:\n",
    "    data = pd.read_csv('Churn.csv')"
   ]
  },
  {
   "cell_type": "code",
   "execution_count": 4,
   "metadata": {},
   "outputs": [
    {
     "data": {
      "text/html": [
       "<div>\n",
       "<style scoped>\n",
       "    .dataframe tbody tr th:only-of-type {\n",
       "        vertical-align: middle;\n",
       "    }\n",
       "\n",
       "    .dataframe tbody tr th {\n",
       "        vertical-align: top;\n",
       "    }\n",
       "\n",
       "    .dataframe thead th {\n",
       "        text-align: right;\n",
       "    }\n",
       "</style>\n",
       "<table border=\"1\" class=\"dataframe\">\n",
       "  <thead>\n",
       "    <tr style=\"text-align: right;\">\n",
       "      <th></th>\n",
       "      <th>RowNumber</th>\n",
       "      <th>CustomerId</th>\n",
       "      <th>Surname</th>\n",
       "      <th>CreditScore</th>\n",
       "      <th>Geography</th>\n",
       "      <th>Gender</th>\n",
       "      <th>Age</th>\n",
       "      <th>Tenure</th>\n",
       "      <th>Balance</th>\n",
       "      <th>NumOfProducts</th>\n",
       "      <th>HasCrCard</th>\n",
       "      <th>IsActiveMember</th>\n",
       "      <th>EstimatedSalary</th>\n",
       "      <th>Exited</th>\n",
       "    </tr>\n",
       "  </thead>\n",
       "  <tbody>\n",
       "    <tr>\n",
       "      <th>0</th>\n",
       "      <td>1</td>\n",
       "      <td>15634602</td>\n",
       "      <td>Hargrave</td>\n",
       "      <td>619</td>\n",
       "      <td>France</td>\n",
       "      <td>Female</td>\n",
       "      <td>42</td>\n",
       "      <td>2.00</td>\n",
       "      <td>0.00</td>\n",
       "      <td>1</td>\n",
       "      <td>1</td>\n",
       "      <td>1</td>\n",
       "      <td>101,348.88</td>\n",
       "      <td>1</td>\n",
       "    </tr>\n",
       "    <tr>\n",
       "      <th>1</th>\n",
       "      <td>2</td>\n",
       "      <td>15647311</td>\n",
       "      <td>Hill</td>\n",
       "      <td>608</td>\n",
       "      <td>Spain</td>\n",
       "      <td>Female</td>\n",
       "      <td>41</td>\n",
       "      <td>1.00</td>\n",
       "      <td>83,807.86</td>\n",
       "      <td>1</td>\n",
       "      <td>0</td>\n",
       "      <td>1</td>\n",
       "      <td>112,542.58</td>\n",
       "      <td>0</td>\n",
       "    </tr>\n",
       "    <tr>\n",
       "      <th>2</th>\n",
       "      <td>3</td>\n",
       "      <td>15619304</td>\n",
       "      <td>Onio</td>\n",
       "      <td>502</td>\n",
       "      <td>France</td>\n",
       "      <td>Female</td>\n",
       "      <td>42</td>\n",
       "      <td>8.00</td>\n",
       "      <td>159,660.80</td>\n",
       "      <td>3</td>\n",
       "      <td>1</td>\n",
       "      <td>0</td>\n",
       "      <td>113,931.57</td>\n",
       "      <td>1</td>\n",
       "    </tr>\n",
       "    <tr>\n",
       "      <th>3</th>\n",
       "      <td>4</td>\n",
       "      <td>15701354</td>\n",
       "      <td>Boni</td>\n",
       "      <td>699</td>\n",
       "      <td>France</td>\n",
       "      <td>Female</td>\n",
       "      <td>39</td>\n",
       "      <td>1.00</td>\n",
       "      <td>0.00</td>\n",
       "      <td>2</td>\n",
       "      <td>0</td>\n",
       "      <td>0</td>\n",
       "      <td>93,826.63</td>\n",
       "      <td>0</td>\n",
       "    </tr>\n",
       "    <tr>\n",
       "      <th>4</th>\n",
       "      <td>5</td>\n",
       "      <td>15737888</td>\n",
       "      <td>Mitchell</td>\n",
       "      <td>850</td>\n",
       "      <td>Spain</td>\n",
       "      <td>Female</td>\n",
       "      <td>43</td>\n",
       "      <td>2.00</td>\n",
       "      <td>125,510.82</td>\n",
       "      <td>1</td>\n",
       "      <td>1</td>\n",
       "      <td>1</td>\n",
       "      <td>79,084.10</td>\n",
       "      <td>0</td>\n",
       "    </tr>\n",
       "  </tbody>\n",
       "</table>\n",
       "</div>"
      ],
      "text/plain": [
       "   RowNumber  CustomerId   Surname  CreditScore Geography  Gender  Age  \\\n",
       "0          1    15634602  Hargrave          619    France  Female   42   \n",
       "1          2    15647311      Hill          608     Spain  Female   41   \n",
       "2          3    15619304      Onio          502    France  Female   42   \n",
       "3          4    15701354      Boni          699    France  Female   39   \n",
       "4          5    15737888  Mitchell          850     Spain  Female   43   \n",
       "\n",
       "   Tenure    Balance  NumOfProducts  HasCrCard  IsActiveMember  \\\n",
       "0    2.00       0.00              1          1               1   \n",
       "1    1.00  83,807.86              1          0               1   \n",
       "2    8.00 159,660.80              3          1               0   \n",
       "3    1.00       0.00              2          0               0   \n",
       "4    2.00 125,510.82              1          1               1   \n",
       "\n",
       "   EstimatedSalary  Exited  \n",
       "0       101,348.88       1  \n",
       "1       112,542.58       0  \n",
       "2       113,931.57       1  \n",
       "3        93,826.63       0  \n",
       "4        79,084.10       0  "
      ]
     },
     "execution_count": 4,
     "metadata": {},
     "output_type": "execute_result"
    }
   ],
   "source": [
    "# посмотрим на первые 5 строк\n",
    "data.head()"
   ]
  },
  {
   "cell_type": "code",
   "execution_count": 5,
   "metadata": {},
   "outputs": [
    {
     "name": "stdout",
     "output_type": "stream",
     "text": [
      "<class 'pandas.core.frame.DataFrame'>\n",
      "RangeIndex: 10000 entries, 0 to 9999\n",
      "Data columns (total 14 columns):\n",
      " #   Column           Non-Null Count  Dtype  \n",
      "---  ------           --------------  -----  \n",
      " 0   RowNumber        10000 non-null  int64  \n",
      " 1   CustomerId       10000 non-null  int64  \n",
      " 2   Surname          10000 non-null  object \n",
      " 3   CreditScore      10000 non-null  int64  \n",
      " 4   Geography        10000 non-null  object \n",
      " 5   Gender           10000 non-null  object \n",
      " 6   Age              10000 non-null  int64  \n",
      " 7   Tenure           9091 non-null   float64\n",
      " 8   Balance          10000 non-null  float64\n",
      " 9   NumOfProducts    10000 non-null  int64  \n",
      " 10  HasCrCard        10000 non-null  int64  \n",
      " 11  IsActiveMember   10000 non-null  int64  \n",
      " 12  EstimatedSalary  10000 non-null  float64\n",
      " 13  Exited           10000 non-null  int64  \n",
      "dtypes: float64(3), int64(8), object(3)\n",
      "memory usage: 1.1+ MB\n"
     ]
    }
   ],
   "source": [
    "# посмотрим на общую информацию о данных\n",
    "data.info()"
   ]
  },
  {
   "cell_type": "code",
   "execution_count": 6,
   "metadata": {
    "scrolled": true
   },
   "outputs": [
    {
     "data": {
      "text/plain": [
       "RowNumber            0\n",
       "CustomerId           0\n",
       "Surname              0\n",
       "CreditScore          0\n",
       "Geography            0\n",
       "Gender               0\n",
       "Age                  0\n",
       "Tenure             909\n",
       "Balance              0\n",
       "NumOfProducts        0\n",
       "HasCrCard            0\n",
       "IsActiveMember       0\n",
       "EstimatedSalary      0\n",
       "Exited               0\n",
       "dtype: int64"
      ]
     },
     "execution_count": 6,
     "metadata": {},
     "output_type": "execute_result"
    }
   ],
   "source": [
    "# сколько миссингов\n",
    "data.isna().sum()"
   ]
  },
  {
   "cell_type": "markdown",
   "metadata": {},
   "source": [
    "**Краткий вывод:**\n",
    "В базе 10.000 записей. Большая часть переменных - числовые, кроме переменных `Surname`, `Geography` и `Gender`.  \n",
    "В переменной `Tenure` (количество лет человек является клиентом банка) есть примерно 10% миссингов. Далее взглянем на эту переменную ближе и выясним - может быть это новые клиенты, которые сотрудничают с банком менее года. \n",
    "\n",
    "Также нужно будет привести названия столбцов к единому нижнему регистру. "
   ]
  },
  {
   "cell_type": "code",
   "execution_count": 7,
   "metadata": {},
   "outputs": [],
   "source": [
    "# приведем названия столбцов к единому нижнему регистру\n",
    "data = data.rename(columns={'RowNumber': 'row_number', 'CustomerId': 'customer_id', 'Surname': 'surname', \n",
    "                            'CreditScore': 'credit_score', 'Geography': 'geography', 'Gender': 'gender', \n",
    "                            'Age': 'age', 'Tenure': 'tenure', 'Balance': 'balance', 'NumOfProducts': 'number_of_products',  \n",
    "                            'HasCrCard': 'has_credit_card', 'IsActiveMember': 'is_active_member', \n",
    "                            'EstimatedSalary': 'estimated_salary', 'Exited': 'exited'})"
   ]
  },
  {
   "cell_type": "code",
   "execution_count": 8,
   "metadata": {},
   "outputs": [
    {
     "data": {
      "text/plain": [
       "0    7963\n",
       "1    2037\n",
       "Name: exited, dtype: int64"
      ]
     },
     "execution_count": 8,
     "metadata": {},
     "output_type": "execute_result"
    }
   ],
   "source": [
    "# посмотрим на баланс классов \n",
    "data['exited'].value_counts(sort=False)"
   ]
  },
  {
   "cell_type": "code",
   "execution_count": 9,
   "metadata": {},
   "outputs": [
    {
     "data": {
      "text/plain": [
       "0   79.63\n",
       "1   20.37\n",
       "Name: exited, dtype: float64"
      ]
     },
     "execution_count": 9,
     "metadata": {},
     "output_type": "execute_result"
    }
   ],
   "source": [
    "# а сколько это в процентах?\n",
    "data['exited'].value_counts(sort=False, normalize=True) * 100"
   ]
  },
  {
   "cell_type": "markdown",
   "metadata": {},
   "source": [
    "**Краткий вывод**. Видим, что в целевом признаке явных дисбаланс классов. "
   ]
  },
  {
   "cell_type": "markdown",
   "metadata": {},
   "source": [
    "Среди тех, кто ушел больше \"неактивных\" клиентов. А среди тех, кто еще сотрудничают с банком больше \"активных\" клиентов. "
   ]
  },
  {
   "cell_type": "code",
   "execution_count": 10,
   "metadata": {},
   "outputs": [
    {
     "data": {
      "text/plain": [
       "0"
      ]
     },
     "execution_count": 10,
     "metadata": {},
     "output_type": "execute_result"
    }
   ],
   "source": [
    "# поиск дублей\n",
    "data.duplicated().sum()"
   ]
  },
  {
   "cell_type": "code",
   "execution_count": 11,
   "metadata": {},
   "outputs": [
    {
     "data": {
      "text/plain": [
       "0"
      ]
     },
     "execution_count": 11,
     "metadata": {},
     "output_type": "execute_result"
    }
   ],
   "source": [
    "data['customer_id'].duplicated().sum()"
   ]
  },
  {
   "cell_type": "markdown",
   "metadata": {},
   "source": [
    "Дублей в базе нет."
   ]
  },
  {
   "cell_type": "code",
   "execution_count": 12,
   "metadata": {},
   "outputs": [
    {
     "data": {
      "text/html": [
       "<div>\n",
       "<style scoped>\n",
       "    .dataframe tbody tr th:only-of-type {\n",
       "        vertical-align: middle;\n",
       "    }\n",
       "\n",
       "    .dataframe tbody tr th {\n",
       "        vertical-align: top;\n",
       "    }\n",
       "\n",
       "    .dataframe thead th {\n",
       "        text-align: right;\n",
       "    }\n",
       "</style>\n",
       "<table border=\"1\" class=\"dataframe\">\n",
       "  <thead>\n",
       "    <tr style=\"text-align: right;\">\n",
       "      <th></th>\n",
       "      <th>credit_score</th>\n",
       "      <th>age</th>\n",
       "      <th>tenure</th>\n",
       "      <th>balance</th>\n",
       "      <th>number_of_products</th>\n",
       "      <th>estimated_salary</th>\n",
       "    </tr>\n",
       "  </thead>\n",
       "  <tbody>\n",
       "    <tr>\n",
       "      <th>count</th>\n",
       "      <td>10,000.00</td>\n",
       "      <td>10,000.00</td>\n",
       "      <td>9,091.00</td>\n",
       "      <td>10,000.00</td>\n",
       "      <td>10,000.00</td>\n",
       "      <td>10,000.00</td>\n",
       "    </tr>\n",
       "    <tr>\n",
       "      <th>mean</th>\n",
       "      <td>650.53</td>\n",
       "      <td>38.92</td>\n",
       "      <td>5.00</td>\n",
       "      <td>76,485.89</td>\n",
       "      <td>1.53</td>\n",
       "      <td>100,090.24</td>\n",
       "    </tr>\n",
       "    <tr>\n",
       "      <th>std</th>\n",
       "      <td>96.65</td>\n",
       "      <td>10.49</td>\n",
       "      <td>2.89</td>\n",
       "      <td>62,397.41</td>\n",
       "      <td>0.58</td>\n",
       "      <td>57,510.49</td>\n",
       "    </tr>\n",
       "    <tr>\n",
       "      <th>min</th>\n",
       "      <td>350.00</td>\n",
       "      <td>18.00</td>\n",
       "      <td>0.00</td>\n",
       "      <td>0.00</td>\n",
       "      <td>1.00</td>\n",
       "      <td>11.58</td>\n",
       "    </tr>\n",
       "    <tr>\n",
       "      <th>25%</th>\n",
       "      <td>584.00</td>\n",
       "      <td>32.00</td>\n",
       "      <td>2.00</td>\n",
       "      <td>0.00</td>\n",
       "      <td>1.00</td>\n",
       "      <td>51,002.11</td>\n",
       "    </tr>\n",
       "    <tr>\n",
       "      <th>50%</th>\n",
       "      <td>652.00</td>\n",
       "      <td>37.00</td>\n",
       "      <td>5.00</td>\n",
       "      <td>97,198.54</td>\n",
       "      <td>1.00</td>\n",
       "      <td>100,193.91</td>\n",
       "    </tr>\n",
       "    <tr>\n",
       "      <th>75%</th>\n",
       "      <td>718.00</td>\n",
       "      <td>44.00</td>\n",
       "      <td>7.00</td>\n",
       "      <td>127,644.24</td>\n",
       "      <td>2.00</td>\n",
       "      <td>149,388.25</td>\n",
       "    </tr>\n",
       "    <tr>\n",
       "      <th>max</th>\n",
       "      <td>850.00</td>\n",
       "      <td>92.00</td>\n",
       "      <td>10.00</td>\n",
       "      <td>250,898.09</td>\n",
       "      <td>4.00</td>\n",
       "      <td>199,992.48</td>\n",
       "    </tr>\n",
       "  </tbody>\n",
       "</table>\n",
       "</div>"
      ],
      "text/plain": [
       "       credit_score       age   tenure    balance  number_of_products  \\\n",
       "count     10,000.00 10,000.00 9,091.00  10,000.00           10,000.00   \n",
       "mean         650.53     38.92     5.00  76,485.89                1.53   \n",
       "std           96.65     10.49     2.89  62,397.41                0.58   \n",
       "min          350.00     18.00     0.00       0.00                1.00   \n",
       "25%          584.00     32.00     2.00       0.00                1.00   \n",
       "50%          652.00     37.00     5.00  97,198.54                1.00   \n",
       "75%          718.00     44.00     7.00 127,644.24                2.00   \n",
       "max          850.00     92.00    10.00 250,898.09                4.00   \n",
       "\n",
       "       estimated_salary  \n",
       "count         10,000.00  \n",
       "mean         100,090.24  \n",
       "std           57,510.49  \n",
       "min               11.58  \n",
       "25%           51,002.11  \n",
       "50%          100,193.91  \n",
       "75%          149,388.25  \n",
       "max          199,992.48  "
      ]
     },
     "execution_count": 12,
     "metadata": {},
     "output_type": "execute_result"
    }
   ],
   "source": [
    "# посмотрим на описательную статистику\n",
    "data[['credit_score', 'age', 'tenure', 'balance', 'number_of_products', 'estimated_salary']].describe()"
   ]
  },
  {
   "cell_type": "markdown",
   "metadata": {},
   "source": [
    "**Кракий вывод**.  \n",
    "\n",
    "* Итак, кредитный рейтинг клиентов варьирует от 350 до 850, средний рейтинг равен 650,53 (медианный - 652) при стандартном отклонении 96,65. \n",
    "\n",
    "* Средний возраст клиентов 39 лет (ст. откл. 10,49). Самому юному клиенту - 18 лет, самому взрослому - 92 года. Медианный возраст - 37 лет. \n",
    "\n",
    "* В среднем клиенты работают с банком 5 лет. Самый преданный клиент работает с банком 10 лет. \n",
    "\n",
    "* Баланс на счетах клинетов варьирует от 0 до примерно 251 тыс. руб. При этом медиана равна 97 тыс., а средний счет составляет приблизительно 77 тыс. (ст. откл 63 тыс.), что говорит о том, что у большинства клиентов на счету немного денег.  \n",
    "\n",
    "* Как правило, клиенты пользуются только 1 продуктом банка, максимальное число используемых продуктов равно 4. \n",
    "\n",
    "* Предполагаемая зарплата варьирует от 11,58 (?) руб. до приблизительно 200 тыс. Среднее и медиана не сильно различаются. Средняя зарплата равна примерно 100 тыс., при ст.откл. - 57,5 тыс. \n",
    "\n",
    "Посмотрим на распределения этих переменных. "
   ]
  },
  {
   "cell_type": "code",
   "execution_count": 13,
   "metadata": {},
   "outputs": [
    {
     "data": {
      "image/png": "[encoded data removed]",
      "text/plain": [
       "<Figure size 1080x576 with 6 Axes>"
      ]
     },
     "metadata": {},
     "output_type": "display_data"
    }
   ],
   "source": [
    "# посмотрим на распределения \n",
    "\n",
    "sns.set_theme(style=\"ticks\")\n",
    "fig, ax = plt.subplots(2, 3, figsize=(25,6))\n",
    "\n",
    "ax[0][0].hist(x=data[['credit_score']])\n",
    "ax[0][0].set_title('Кредитный рейтинг клиента')\n",
    "\n",
    "ax[0][1].hist(x=data[['age']]) \n",
    "ax[0][1].set_title('Возраст клиента')\n",
    "\n",
    "ax[0][2].hist(x=data[['tenure']]) \n",
    "ax[0][2].set_title('Сколько лет клиент сотрудничает с банком')\n",
    "\n",
    "ax[1][0].hist(x=data[['balance']])\n",
    "ax[1][0].set_title('Баланс на счёте')\n",
    "\n",
    "ax[1][1].hist(x=data[['number_of_products']]) \n",
    "ax[1][1].set_title('Число используемых банковских продуктов')\n",
    "\n",
    "ax[1][2].hist(x=data[['estimated_salary']]) \n",
    "ax[1][2].set_title('Предполагаемая зарплата')\n",
    "\n",
    "fig.set_figwidth(15)     #  ширина и\n",
    "fig.set_figheight(8)    #  высота \"Figure\"\n",
    "\n",
    "plt.show()"
   ]
  },
  {
   "cell_type": "code",
   "execution_count": 14,
   "metadata": {},
   "outputs": [
    {
     "data": {
      "image/png": "[encoded data removed]",
      "text/plain": [
       "<Figure size 1080x576 with 6 Axes>"
      ]
     },
     "metadata": {},
     "output_type": "display_data"
    }
   ],
   "source": [
    "# посмотрим на распределения \n",
    "\n",
    "sns.set_theme(style=\"ticks\")\n",
    "fig, ax = plt.subplots(2, 3, figsize=(25,6))\n",
    "\n",
    "ax[0][0].hist(x=data.query('exited == 0')[['credit_score']],alpha=0.7, color='c')\n",
    "ax[0][0].hist(x=data.query('exited == 1')[['credit_score']],alpha=0.5, color='b')\n",
    "ax[0][0].set_title('Кредитный рейтинг клиента')\n",
    "\n",
    "ax[0][1].hist(x=data.query('exited == 0')[['age']],alpha=0.7, color='c') \n",
    "ax[0][1].hist(x=data.query('exited == 1')[['age']],alpha=0.5, color='b') \n",
    "ax[0][1].set_title('Возраст клиента')\n",
    "\n",
    "ax[0][2].hist(x=data.query('exited == 0')[['tenure']],alpha=0.7, color='c') \n",
    "ax[0][2].hist(x=data.query('exited == 1')[['tenure']],alpha=0.5, color='b') \n",
    "ax[0][2].set_title('Сколько лет клиент сотрудничает с банком')\n",
    "\n",
    "ax[1][0].hist(x=data.query('exited == 0')[['balance']],alpha=0.7, color='c')\n",
    "ax[1][0].hist(x=data.query('exited == 1')[['balance']],alpha=0.5, color='b')\n",
    "ax[1][0].set_title('Баланс на счёте')\n",
    "\n",
    "ax[1][1].hist(x=data.query('exited == 0')[['number_of_products']],alpha=0.7, color='c')\n",
    "ax[1][1].hist(x=data.query('exited == 1')[['number_of_products']],alpha=0.5, color='b')\n",
    "ax[1][1].set_title('Число используемых банковских продуктов')\n",
    "\n",
    "ax[1][2].hist(x=data.query('exited == 0')[['estimated_salary']],alpha=0.7, color='c') \n",
    "ax[1][2].hist(x=data.query('exited == 1')[['estimated_salary']],alpha=0.5, color='b') \n",
    "ax[1][2].set_title('Предполагаемая зарплата')\n",
    "\n",
    "fig.set_figwidth(15)     #  ширина и\n",
    "fig.set_figheight(8)    #  высота \"Figure\"\n",
    "\n",
    "plt.show()"
   ]
  },
  {
   "cell_type": "markdown",
   "metadata": {},
   "source": [
    "**Краткий вывод**.  \n",
    "\n",
    "Распределения кредитного рейтинга и возраста близки к нормальному (у возраст с положительным скосом). \n",
    "\n",
    "Гистограмма переменной `balance` подтверждает гипотезу о том, что есть большая доля клинетов с небольшим балансом денег на счету (менее 50 тыс. руб.). Если отбросить часть этих клиентов, то распределение баланса на счету оставшихся клиентов будет похоже на нормальное распределение. \n",
    "\n",
    "Распределение переменной `estimated_salary` похоже на равномерную. Практически равномерное распределение напоминает и распределение переменной `tenure` (помним, что в этой переменной есть миссинги).  \n",
    "\n",
    "Большинство клиентов пользуются 1-2 банковскими продуктами. Очень мало клиентов, которые используют 3 или 4 продукта. \n",
    "\n",
    "\n",
    "Посмотрим далее на оставшиеся переменные. "
   ]
  },
  {
   "cell_type": "code",
   "execution_count": 15,
   "metadata": {},
   "outputs": [
    {
     "data": {
      "text/plain": [
       "Male     0.55\n",
       "Female   0.45\n",
       "Name: gender, dtype: float64"
      ]
     },
     "execution_count": 15,
     "metadata": {},
     "output_type": "execute_result"
    }
   ],
   "source": [
    "data['gender'].value_counts(sort=False, normalize=True)"
   ]
  },
  {
   "cell_type": "markdown",
   "metadata": {},
   "source": [
    "Мужчин и женщин примерно одинаковое число."
   ]
  },
  {
   "cell_type": "code",
   "execution_count": 16,
   "metadata": {},
   "outputs": [
    {
     "data": {
      "text/plain": [
       "exited  gender\n",
       "0       Female   0.43\n",
       "        Male     0.57\n",
       "1       Female   0.56\n",
       "        Male     0.44\n",
       "Name: gender, dtype: float64"
      ]
     },
     "execution_count": 16,
     "metadata": {},
     "output_type": "execute_result"
    }
   ],
   "source": [
    "# посмотрим в разрезе групп\n",
    "data.groupby('exited')['gender'].value_counts(sort=False, normalize=True)"
   ]
  },
  {
   "cell_type": "markdown",
   "metadata": {},
   "source": [
    "Представители женского пола чаще уходят из банка. "
   ]
  },
  {
   "cell_type": "code",
   "execution_count": 17,
   "metadata": {},
   "outputs": [
    {
     "data": {
      "text/plain": [
       "France    0.50\n",
       "Germany   0.25\n",
       "Spain     0.25\n",
       "Name: geography, dtype: float64"
      ]
     },
     "execution_count": 17,
     "metadata": {},
     "output_type": "execute_result"
    }
   ],
   "source": [
    "data['geography'].value_counts(sort=False, normalize=True)"
   ]
  },
  {
   "cell_type": "markdown",
   "metadata": {},
   "source": [
    "В базе есть данные о клиентах трех стран - Франции (половина клиентов), Германии и Испании."
   ]
  },
  {
   "cell_type": "code",
   "execution_count": 18,
   "metadata": {},
   "outputs": [
    {
     "data": {
      "text/plain": [
       "exited  geography\n",
       "0       France      0.53\n",
       "        Germany     0.21\n",
       "        Spain       0.26\n",
       "1       France      0.40\n",
       "        Germany     0.40\n",
       "        Spain       0.20\n",
       "Name: geography, dtype: float64"
      ]
     },
     "execution_count": 18,
     "metadata": {},
     "output_type": "execute_result"
    }
   ],
   "source": [
    "# посмотрим в разрезе групп\n",
    "data.groupby('exited')['geography'].value_counts(sort=False, normalize=True)"
   ]
  },
  {
   "cell_type": "markdown",
   "metadata": {},
   "source": [
    "Французов в группе тех, кто не уходит больше. В группе тех, кто уходит больше граждан Франции и Германии (по 40%)"
   ]
  },
  {
   "cell_type": "code",
   "execution_count": 19,
   "metadata": {},
   "outputs": [
    {
     "data": {
      "text/plain": [
       "0   0.29\n",
       "1   0.71\n",
       "Name: has_credit_card, dtype: float64"
      ]
     },
     "execution_count": 19,
     "metadata": {},
     "output_type": "execute_result"
    }
   ],
   "source": [
    "data['has_credit_card'].value_counts(sort=False, normalize=True)"
   ]
  },
  {
   "cell_type": "markdown",
   "metadata": {},
   "source": [
    "Практически 71% клиентов имеют кредитные карты."
   ]
  },
  {
   "cell_type": "code",
   "execution_count": 20,
   "metadata": {},
   "outputs": [
    {
     "data": {
      "text/plain": [
       "exited  has_credit_card\n",
       "0       0                 0.29\n",
       "        1                 0.71\n",
       "1       0                 0.30\n",
       "        1                 0.70\n",
       "Name: has_credit_card, dtype: float64"
      ]
     },
     "execution_count": 20,
     "metadata": {},
     "output_type": "execute_result"
    }
   ],
   "source": [
    "data.groupby('exited')['has_credit_card'].value_counts(sort=False, normalize=True)"
   ]
  },
  {
   "cell_type": "markdown",
   "metadata": {},
   "source": [
    "Здесь распределение по группам не отличаются. "
   ]
  },
  {
   "cell_type": "code",
   "execution_count": 21,
   "metadata": {},
   "outputs": [
    {
     "data": {
      "text/plain": [
       "0   0.48\n",
       "1   0.52\n",
       "Name: is_active_member, dtype: float64"
      ]
     },
     "execution_count": 21,
     "metadata": {},
     "output_type": "execute_result"
    }
   ],
   "source": [
    "data['is_active_member'].value_counts(sort=False, normalize=True)"
   ]
  },
  {
   "cell_type": "markdown",
   "metadata": {},
   "source": [
    "Активных и неактивных клиентов тоже распределились примерно поровну. "
   ]
  },
  {
   "cell_type": "code",
   "execution_count": 22,
   "metadata": {},
   "outputs": [
    {
     "data": {
      "text/plain": [
       "exited  is_active_member\n",
       "0       0                  0.45\n",
       "        1                  0.55\n",
       "1       0                  0.64\n",
       "        1                  0.36\n",
       "Name: is_active_member, dtype: float64"
      ]
     },
     "execution_count": 22,
     "metadata": {},
     "output_type": "execute_result"
    }
   ],
   "source": [
    "data.groupby('exited')['is_active_member'].value_counts(sort=False, normalize=True)"
   ]
  },
  {
   "cell_type": "markdown",
   "metadata": {},
   "source": [
    "Среди тех, кто ушел больше \"неактивных\" клиентов. А среди тех, кто еще сотрудничают с банком больше \"активных\" клиентов. "
   ]
  },
  {
   "cell_type": "markdown",
   "metadata": {},
   "source": [
    "## Предобработка данных\n",
    "\n",
    "Перейдем к преобработке данных:  \n",
    "1) исследую на аномалии, удали аномальные значения из выборки   \n",
    "2) перекодируем переменные `geography`, `gender`, `number_of_products`  \n",
    "3) масштабируем переменные `credit_score`, `age`, `tenure`, `balance`, `estimated_salary`  \n",
    "4) посмотрим на миссинги в переменной `tenure`."
   ]
  },
  {
   "cell_type": "markdown",
   "metadata": {},
   "source": [
    "### Выбросы"
   ]
  },
  {
   "cell_type": "markdown",
   "metadata": {},
   "source": [
    "Посмотрим насколько разброс сильный у количественных переменных. И избавимся от аномалий."
   ]
  },
  {
   "cell_type": "code",
   "execution_count": 23,
   "metadata": {},
   "outputs": [
    {
     "data": {
      "image/png": "[encoded data removed]",
      "text/plain": [
       "<Figure size 432x288 with 1 Axes>"
      ]
     },
     "metadata": {},
     "output_type": "display_data"
    }
   ],
   "source": [
    "data[['credit_score']].boxplot();"
   ]
  },
  {
   "cell_type": "code",
   "execution_count": 24,
   "metadata": {},
   "outputs": [
    {
     "data": {
      "image/png": "[encoded data removed]",
      "text/plain": [
       "<Figure size 432x288 with 1 Axes>"
      ]
     },
     "metadata": {},
     "output_type": "display_data"
    }
   ],
   "source": [
    "data[['age']].boxplot();"
   ]
  },
  {
   "cell_type": "code",
   "execution_count": 25,
   "metadata": {},
   "outputs": [],
   "source": [
    "# удалим аномальные данные\n",
    "q1 = data[['age']].quantile(0.25)\n",
    "q3 = data[['age']].quantile(0.75)\n",
    "iqr = q3 - q1\n",
    "\n",
    "data['outlier_age'] = (\n",
    "    data['age']\n",
    "    .apply(lambda x: \n",
    "           True if ((x < (float(q1) - 2.5 * float(iqr))) or (x > (float(q3) + 2.5 * float(iqr)))) \n",
    "           else False)\n",
    ")"
   ]
  },
  {
   "cell_type": "code",
   "execution_count": 26,
   "metadata": {},
   "outputs": [],
   "source": [
    "data.drop(data[data['outlier_age'] == True].index, inplace=True)"
   ]
  },
  {
   "cell_type": "code",
   "execution_count": 27,
   "metadata": {},
   "outputs": [
    {
     "data": {
      "image/png": "[encoded data removed]",
      "text/plain": [
       "<Figure size 432x288 with 1 Axes>"
      ]
     },
     "metadata": {},
     "output_type": "display_data"
    }
   ],
   "source": [
    "data[['age']].boxplot();"
   ]
  },
  {
   "cell_type": "code",
   "execution_count": 28,
   "metadata": {},
   "outputs": [
    {
     "data": {
      "image/png": "[encoded data removed]",
      "text/plain": [
       "<Figure size 432x288 with 1 Axes>"
      ]
     },
     "metadata": {},
     "output_type": "display_data"
    }
   ],
   "source": [
    "data[['tenure']].boxplot();"
   ]
  },
  {
   "cell_type": "code",
   "execution_count": 29,
   "metadata": {},
   "outputs": [
    {
     "data": {
      "image/png": "[encoded data removed]",
      "text/plain": [
       "<Figure size 432x288 with 1 Axes>"
      ]
     },
     "metadata": {},
     "output_type": "display_data"
    }
   ],
   "source": [
    "data[['balance']].boxplot();"
   ]
  },
  {
   "cell_type": "code",
   "execution_count": 30,
   "metadata": {},
   "outputs": [
    {
     "data": {
      "image/png": "[encoded data removed]",
      "text/plain": [
       "<Figure size 432x288 with 1 Axes>"
      ]
     },
     "metadata": {},
     "output_type": "display_data"
    }
   ],
   "source": [
    "data[['estimated_salary']].boxplot();"
   ]
  },
  {
   "cell_type": "markdown",
   "metadata": {},
   "source": [
    "Сильные выбросы были только в переменной `age`. Избавились от выбросов, чтобы в дальнейшем это не вызвало проблем с обучением моделей.  "
   ]
  },
  {
   "cell_type": "markdown",
   "metadata": {},
   "source": [
    "### Перекодировка признаков"
   ]
  },
  {
   "cell_type": "code",
   "execution_count": 31,
   "metadata": {},
   "outputs": [],
   "source": [
    "# оставим в датасете только те переменные, которые будут нужны для обучения моделей\n",
    "data.drop(['row_number', 'customer_id', 'surname', 'outlier_age'], axis=1, inplace=True)"
   ]
  },
  {
   "cell_type": "code",
   "execution_count": 32,
   "metadata": {},
   "outputs": [
    {
     "data": {
      "text/plain": [
       "Index(['credit_score', 'geography', 'gender', 'age', 'tenure', 'balance',\n",
       "       'number_of_products', 'has_credit_card', 'is_active_member',\n",
       "       'estimated_salary', 'exited'],\n",
       "      dtype='object')"
      ]
     },
     "execution_count": 32,
     "metadata": {},
     "output_type": "execute_result"
    }
   ],
   "source": [
    "# оставим только те колонки, которые будем использовать для анализа\n",
    "data.columns"
   ]
  },
  {
   "cell_type": "code",
   "execution_count": 33,
   "metadata": {},
   "outputs": [],
   "source": [
    "# перекодируем переменную 'number_of_products' в категориальную\n",
    "data['number_of_products'] = data['number_of_products'].astype('category')"
   ]
  },
  {
   "cell_type": "code",
   "execution_count": 34,
   "metadata": {},
   "outputs": [
    {
     "data": {
      "text/plain": [
       "Index(['credit_score', 'geography', 'gender', 'age', 'tenure', 'balance',\n",
       "       'number_of_products', 'has_credit_card', 'is_active_member',\n",
       "       'estimated_salary', 'exited'],\n",
       "      dtype='object')"
      ]
     },
     "execution_count": 34,
     "metadata": {},
     "output_type": "execute_result"
    }
   ],
   "source": [
    "# проверим\n",
    "data.columns"
   ]
  },
  {
   "cell_type": "code",
   "execution_count": 35,
   "metadata": {},
   "outputs": [],
   "source": [
    "# перекодируем `geography`, `gender`, `number_of_products`\n",
    "data_ohe = pd.get_dummies(data, drop_first=True)"
   ]
  },
  {
   "cell_type": "code",
   "execution_count": 36,
   "metadata": {},
   "outputs": [
    {
     "data": {
      "text/html": [
       "<div>\n",
       "<style scoped>\n",
       "    .dataframe tbody tr th:only-of-type {\n",
       "        vertical-align: middle;\n",
       "    }\n",
       "\n",
       "    .dataframe tbody tr th {\n",
       "        vertical-align: top;\n",
       "    }\n",
       "\n",
       "    .dataframe thead th {\n",
       "        text-align: right;\n",
       "    }\n",
       "</style>\n",
       "<table border=\"1\" class=\"dataframe\">\n",
       "  <thead>\n",
       "    <tr style=\"text-align: right;\">\n",
       "      <th></th>\n",
       "      <th>credit_score</th>\n",
       "      <th>age</th>\n",
       "      <th>tenure</th>\n",
       "      <th>balance</th>\n",
       "      <th>has_credit_card</th>\n",
       "      <th>is_active_member</th>\n",
       "      <th>estimated_salary</th>\n",
       "      <th>exited</th>\n",
       "      <th>geography_Germany</th>\n",
       "      <th>geography_Spain</th>\n",
       "      <th>gender_Male</th>\n",
       "      <th>number_of_products_2</th>\n",
       "      <th>number_of_products_3</th>\n",
       "      <th>number_of_products_4</th>\n",
       "    </tr>\n",
       "  </thead>\n",
       "  <tbody>\n",
       "    <tr>\n",
       "      <th>0</th>\n",
       "      <td>619</td>\n",
       "      <td>42</td>\n",
       "      <td>2.00</td>\n",
       "      <td>0.00</td>\n",
       "      <td>1</td>\n",
       "      <td>1</td>\n",
       "      <td>101,348.88</td>\n",
       "      <td>1</td>\n",
       "      <td>0</td>\n",
       "      <td>0</td>\n",
       "      <td>0</td>\n",
       "      <td>0</td>\n",
       "      <td>0</td>\n",
       "      <td>0</td>\n",
       "    </tr>\n",
       "    <tr>\n",
       "      <th>1</th>\n",
       "      <td>608</td>\n",
       "      <td>41</td>\n",
       "      <td>1.00</td>\n",
       "      <td>83,807.86</td>\n",
       "      <td>0</td>\n",
       "      <td>1</td>\n",
       "      <td>112,542.58</td>\n",
       "      <td>0</td>\n",
       "      <td>0</td>\n",
       "      <td>1</td>\n",
       "      <td>0</td>\n",
       "      <td>0</td>\n",
       "      <td>0</td>\n",
       "      <td>0</td>\n",
       "    </tr>\n",
       "    <tr>\n",
       "      <th>2</th>\n",
       "      <td>502</td>\n",
       "      <td>42</td>\n",
       "      <td>8.00</td>\n",
       "      <td>159,660.80</td>\n",
       "      <td>1</td>\n",
       "      <td>0</td>\n",
       "      <td>113,931.57</td>\n",
       "      <td>1</td>\n",
       "      <td>0</td>\n",
       "      <td>0</td>\n",
       "      <td>0</td>\n",
       "      <td>0</td>\n",
       "      <td>1</td>\n",
       "      <td>0</td>\n",
       "    </tr>\n",
       "    <tr>\n",
       "      <th>3</th>\n",
       "      <td>699</td>\n",
       "      <td>39</td>\n",
       "      <td>1.00</td>\n",
       "      <td>0.00</td>\n",
       "      <td>0</td>\n",
       "      <td>0</td>\n",
       "      <td>93,826.63</td>\n",
       "      <td>0</td>\n",
       "      <td>0</td>\n",
       "      <td>0</td>\n",
       "      <td>0</td>\n",
       "      <td>1</td>\n",
       "      <td>0</td>\n",
       "      <td>0</td>\n",
       "    </tr>\n",
       "    <tr>\n",
       "      <th>4</th>\n",
       "      <td>850</td>\n",
       "      <td>43</td>\n",
       "      <td>2.00</td>\n",
       "      <td>125,510.82</td>\n",
       "      <td>1</td>\n",
       "      <td>1</td>\n",
       "      <td>79,084.10</td>\n",
       "      <td>0</td>\n",
       "      <td>0</td>\n",
       "      <td>1</td>\n",
       "      <td>0</td>\n",
       "      <td>0</td>\n",
       "      <td>0</td>\n",
       "      <td>0</td>\n",
       "    </tr>\n",
       "  </tbody>\n",
       "</table>\n",
       "</div>"
      ],
      "text/plain": [
       "   credit_score  age  tenure    balance  has_credit_card  is_active_member  \\\n",
       "0           619   42    2.00       0.00                1                 1   \n",
       "1           608   41    1.00  83,807.86                0                 1   \n",
       "2           502   42    8.00 159,660.80                1                 0   \n",
       "3           699   39    1.00       0.00                0                 0   \n",
       "4           850   43    2.00 125,510.82                1                 1   \n",
       "\n",
       "   estimated_salary  exited  geography_Germany  geography_Spain  gender_Male  \\\n",
       "0        101,348.88       1                  0                0            0   \n",
       "1        112,542.58       0                  0                1            0   \n",
       "2        113,931.57       1                  0                0            0   \n",
       "3         93,826.63       0                  0                0            0   \n",
       "4         79,084.10       0                  0                1            0   \n",
       "\n",
       "   number_of_products_2  number_of_products_3  number_of_products_4  \n",
       "0                     0                     0                     0  \n",
       "1                     0                     0                     0  \n",
       "2                     0                     1                     0  \n",
       "3                     1                     0                     0  \n",
       "4                     0                     0                     0  "
      ]
     },
     "execution_count": 36,
     "metadata": {},
     "output_type": "execute_result"
    }
   ],
   "source": [
    "data_ohe.head()"
   ]
  },
  {
   "cell_type": "markdown",
   "metadata": {},
   "source": [
    "### Масштабирование признаков "
   ]
  },
  {
   "cell_type": "markdown",
   "metadata": {},
   "source": [
    "Для корректности сначала извлечем признаки и целевой признак, затем поделим исходные данные на обучающую, валидационную и тестовую."
   ]
  },
  {
   "cell_type": "code",
   "execution_count": 37,
   "metadata": {},
   "outputs": [],
   "source": [
    "# разделим выборку на обучающую и валидационную \n",
    "target = data_ohe['exited']\n",
    "features = data_ohe.drop(['exited'], axis=1)\n",
    "features_train, features_valid, target_train, target_valid = train_test_split(\n",
    "    features, target, test_size=0.3, random_state=12345)\n",
    "\n",
    "features_valid, features_test, target_valid, target_test = train_test_split(\n",
    "    features_valid, target_valid, test_size=0.5, random_state=12345)"
   ]
  },
  {
   "cell_type": "markdown",
   "metadata": {},
   "source": [
    "<div class=\"alert alert-block alert-info\">\n",
    "<b>Комментарий студента:</b> Разделила выборку на тренировочную, валидационную и тестовую. И соответственно поправила код ниже. \n",
    "</div>"
   ]
  },
  {
   "cell_type": "code",
   "execution_count": 38,
   "metadata": {},
   "outputs": [],
   "source": [
    "numeric = ['credit_score', 'age', 'tenure', 'balance', 'estimated_salary']"
   ]
  },
  {
   "cell_type": "code",
   "execution_count": 39,
   "metadata": {},
   "outputs": [
    {
     "name": "stderr",
     "output_type": "stream",
     "text": [
      "/tmp/ipykernel_37/2243149860.py:4: SettingWithCopyWarning: \n",
      "A value is trying to be set on a copy of a slice from a DataFrame.\n",
      "Try using .loc[row_indexer,col_indexer] = value instead\n",
      "\n",
      "See the caveats in the documentation: https://pandas.pydata.org/pandas-docs/stable/user_guide/indexing.html#returning-a-view-versus-a-copy\n",
      "  features_train[numeric] = scaler.transform(features_train[numeric])\n",
      "/opt/conda/lib/python3.9/site-packages/pandas/core/indexing.py:1738: SettingWithCopyWarning: \n",
      "A value is trying to be set on a copy of a slice from a DataFrame.\n",
      "Try using .loc[row_indexer,col_indexer] = value instead\n",
      "\n",
      "See the caveats in the documentation: https://pandas.pydata.org/pandas-docs/stable/user_guide/indexing.html#returning-a-view-versus-a-copy\n",
      "  self._setitem_single_column(loc, value[:, i].tolist(), pi)\n"
     ]
    }
   ],
   "source": [
    "# стандартизируем выборку\n",
    "scaler = StandardScaler()\n",
    "scaler.fit(features_train[numeric]) \n",
    "features_train[numeric] = scaler.transform(features_train[numeric])\n",
    "\n",
    "# преобразуем валидационную и тренировочную выборки\n",
    "features_valid[numeric] = scaler.transform(features_valid[numeric])\n",
    "features_test[numeric] = scaler.transform(features_test[numeric])"
   ]
  },
  {
   "cell_type": "code",
   "execution_count": 40,
   "metadata": {},
   "outputs": [
    {
     "data": {
      "text/html": [
       "<div>\n",
       "<style scoped>\n",
       "    .dataframe tbody tr th:only-of-type {\n",
       "        vertical-align: middle;\n",
       "    }\n",
       "\n",
       "    .dataframe tbody tr th {\n",
       "        vertical-align: top;\n",
       "    }\n",
       "\n",
       "    .dataframe thead th {\n",
       "        text-align: right;\n",
       "    }\n",
       "</style>\n",
       "<table border=\"1\" class=\"dataframe\">\n",
       "  <thead>\n",
       "    <tr style=\"text-align: right;\">\n",
       "      <th></th>\n",
       "      <th>credit_score</th>\n",
       "      <th>age</th>\n",
       "      <th>tenure</th>\n",
       "      <th>balance</th>\n",
       "      <th>has_credit_card</th>\n",
       "      <th>is_active_member</th>\n",
       "      <th>estimated_salary</th>\n",
       "      <th>geography_Germany</th>\n",
       "      <th>geography_Spain</th>\n",
       "      <th>gender_Male</th>\n",
       "      <th>number_of_products_2</th>\n",
       "      <th>number_of_products_3</th>\n",
       "      <th>number_of_products_4</th>\n",
       "    </tr>\n",
       "  </thead>\n",
       "  <tbody>\n",
       "    <tr>\n",
       "      <th>9742</th>\n",
       "      <td>0.66</td>\n",
       "      <td>0.62</td>\n",
       "      <td>-0.34</td>\n",
       "      <td>-1.23</td>\n",
       "      <td>1</td>\n",
       "      <td>1</td>\n",
       "      <td>-0.78</td>\n",
       "      <td>0</td>\n",
       "      <td>0</td>\n",
       "      <td>1</td>\n",
       "      <td>1</td>\n",
       "      <td>0</td>\n",
       "      <td>0</td>\n",
       "    </tr>\n",
       "    <tr>\n",
       "      <th>5591</th>\n",
       "      <td>-1.16</td>\n",
       "      <td>-0.07</td>\n",
       "      <td>0.00</td>\n",
       "      <td>-1.23</td>\n",
       "      <td>1</td>\n",
       "      <td>0</td>\n",
       "      <td>-0.92</td>\n",
       "      <td>0</td>\n",
       "      <td>0</td>\n",
       "      <td>1</td>\n",
       "      <td>1</td>\n",
       "      <td>0</td>\n",
       "      <td>0</td>\n",
       "    </tr>\n",
       "    <tr>\n",
       "      <th>5826</th>\n",
       "      <td>-1.47</td>\n",
       "      <td>-0.97</td>\n",
       "      <td>-1.73</td>\n",
       "      <td>0.50</td>\n",
       "      <td>1</td>\n",
       "      <td>1</td>\n",
       "      <td>-0.13</td>\n",
       "      <td>1</td>\n",
       "      <td>0</td>\n",
       "      <td>0</td>\n",
       "      <td>1</td>\n",
       "      <td>0</td>\n",
       "      <td>0</td>\n",
       "    </tr>\n",
       "    <tr>\n",
       "      <th>6131</th>\n",
       "      <td>0.36</td>\n",
       "      <td>2.11</td>\n",
       "      <td>1.39</td>\n",
       "      <td>-1.23</td>\n",
       "      <td>1</td>\n",
       "      <td>1</td>\n",
       "      <td>-0.43</td>\n",
       "      <td>0</td>\n",
       "      <td>0</td>\n",
       "      <td>1</td>\n",
       "      <td>0</td>\n",
       "      <td>1</td>\n",
       "      <td>0</td>\n",
       "    </tr>\n",
       "    <tr>\n",
       "      <th>8476</th>\n",
       "      <td>0.52</td>\n",
       "      <td>1.22</td>\n",
       "      <td>1.39</td>\n",
       "      <td>-1.23</td>\n",
       "      <td>0</td>\n",
       "      <td>0</td>\n",
       "      <td>-0.66</td>\n",
       "      <td>0</td>\n",
       "      <td>0</td>\n",
       "      <td>1</td>\n",
       "      <td>1</td>\n",
       "      <td>0</td>\n",
       "      <td>0</td>\n",
       "    </tr>\n",
       "  </tbody>\n",
       "</table>\n",
       "</div>"
      ],
      "text/plain": [
       "      credit_score   age  tenure  balance  has_credit_card  is_active_member  \\\n",
       "9742          0.66  0.62   -0.34    -1.23                1                 1   \n",
       "5591         -1.16 -0.07    0.00    -1.23                1                 0   \n",
       "5826         -1.47 -0.97   -1.73     0.50                1                 1   \n",
       "6131          0.36  2.11    1.39    -1.23                1                 1   \n",
       "8476          0.52  1.22    1.39    -1.23                0                 0   \n",
       "\n",
       "      estimated_salary  geography_Germany  geography_Spain  gender_Male  \\\n",
       "9742             -0.78                  0                0            1   \n",
       "5591             -0.92                  0                0            1   \n",
       "5826             -0.13                  1                0            0   \n",
       "6131             -0.43                  0                0            1   \n",
       "8476             -0.66                  0                0            1   \n",
       "\n",
       "      number_of_products_2  number_of_products_3  number_of_products_4  \n",
       "9742                     1                     0                     0  \n",
       "5591                     1                     0                     0  \n",
       "5826                     1                     0                     0  \n",
       "6131                     0                     1                     0  \n",
       "8476                     1                     0                     0  "
      ]
     },
     "metadata": {},
     "output_type": "display_data"
    }
   ],
   "source": [
    "display(features_train.head())"
   ]
  },
  {
   "cell_type": "markdown",
   "metadata": {},
   "source": [
    "### Замена пропусков "
   ]
  },
  {
   "cell_type": "markdown",
   "metadata": {},
   "source": [
    "Проверю как связан признак `'tenure'` с другими признаками. Связи буду проверять в исходном датасете `data`. В случае, если решу `заглушить` миссинги, то буду работать с датасетами `feautures_train`, `features_valid`, `features_test`. "
   ]
  },
  {
   "cell_type": "code",
   "execution_count": 41,
   "metadata": {},
   "outputs": [
    {
     "data": {
      "text/plain": [
       "1.00     948\n",
       "2.00     942\n",
       "8.00     929\n",
       "3.00     925\n",
       "7.00     922\n",
       "5.00     920\n",
       "NaN      905\n",
       "4.00     882\n",
       "9.00     878\n",
       "6.00     874\n",
       "10.00    440\n",
       "0.00     381\n",
       "Name: tenure, dtype: int64"
      ]
     },
     "execution_count": 41,
     "metadata": {},
     "output_type": "execute_result"
    }
   ],
   "source": [
    "data['tenure'].value_counts(dropna=False)"
   ]
  },
  {
   "cell_type": "markdown",
   "metadata": {},
   "source": [
    "Итак, в базе есть и 0, и `nan`. Посмотрим на описательную статистику по данным, где `'tenure'` равно `nan`."
   ]
  },
  {
   "cell_type": "code",
   "execution_count": 42,
   "metadata": {},
   "outputs": [
    {
     "data": {
      "text/html": [
       "<div>\n",
       "<style scoped>\n",
       "    .dataframe tbody tr th:only-of-type {\n",
       "        vertical-align: middle;\n",
       "    }\n",
       "\n",
       "    .dataframe tbody tr th {\n",
       "        vertical-align: top;\n",
       "    }\n",
       "\n",
       "    .dataframe thead th {\n",
       "        text-align: right;\n",
       "    }\n",
       "</style>\n",
       "<table border=\"1\" class=\"dataframe\">\n",
       "  <thead>\n",
       "    <tr style=\"text-align: right;\">\n",
       "      <th></th>\n",
       "      <th>credit_score</th>\n",
       "      <th>age</th>\n",
       "      <th>tenure</th>\n",
       "      <th>balance</th>\n",
       "      <th>estimated_salary</th>\n",
       "    </tr>\n",
       "  </thead>\n",
       "  <tbody>\n",
       "    <tr>\n",
       "      <th>count</th>\n",
       "      <td>905.00</td>\n",
       "      <td>905.00</td>\n",
       "      <td>0.00</td>\n",
       "      <td>905.00</td>\n",
       "      <td>905.00</td>\n",
       "    </tr>\n",
       "    <tr>\n",
       "      <th>mean</th>\n",
       "      <td>648.50</td>\n",
       "      <td>38.47</td>\n",
       "      <td>NaN</td>\n",
       "      <td>76,150.28</td>\n",
       "      <td>99,027.52</td>\n",
       "    </tr>\n",
       "    <tr>\n",
       "      <th>std</th>\n",
       "      <td>99.13</td>\n",
       "      <td>9.40</td>\n",
       "      <td>NaN</td>\n",
       "      <td>63,161.65</td>\n",
       "      <td>56,404.69</td>\n",
       "    </tr>\n",
       "    <tr>\n",
       "      <th>min</th>\n",
       "      <td>359.00</td>\n",
       "      <td>18.00</td>\n",
       "      <td>NaN</td>\n",
       "      <td>0.00</td>\n",
       "      <td>106.67</td>\n",
       "    </tr>\n",
       "    <tr>\n",
       "      <th>25%</th>\n",
       "      <td>580.00</td>\n",
       "      <td>32.00</td>\n",
       "      <td>NaN</td>\n",
       "      <td>0.00</td>\n",
       "      <td>49,865.04</td>\n",
       "    </tr>\n",
       "    <tr>\n",
       "      <th>50%</th>\n",
       "      <td>647.00</td>\n",
       "      <td>37.00</td>\n",
       "      <td>NaN</td>\n",
       "      <td>96,674.55</td>\n",
       "      <td>98,060.51</td>\n",
       "    </tr>\n",
       "    <tr>\n",
       "      <th>75%</th>\n",
       "      <td>718.00</td>\n",
       "      <td>43.00</td>\n",
       "      <td>NaN</td>\n",
       "      <td>128,647.98</td>\n",
       "      <td>145,759.70</td>\n",
       "    </tr>\n",
       "    <tr>\n",
       "      <th>max</th>\n",
       "      <td>850.00</td>\n",
       "      <td>74.00</td>\n",
       "      <td>NaN</td>\n",
       "      <td>206,663.75</td>\n",
       "      <td>199,390.45</td>\n",
       "    </tr>\n",
       "  </tbody>\n",
       "</table>\n",
       "</div>"
      ],
      "text/plain": [
       "       credit_score    age  tenure    balance  estimated_salary\n",
       "count        905.00 905.00    0.00     905.00            905.00\n",
       "mean         648.50  38.47     NaN  76,150.28         99,027.52\n",
       "std           99.13   9.40     NaN  63,161.65         56,404.69\n",
       "min          359.00  18.00     NaN       0.00            106.67\n",
       "25%          580.00  32.00     NaN       0.00         49,865.04\n",
       "50%          647.00  37.00     NaN  96,674.55         98,060.51\n",
       "75%          718.00  43.00     NaN 128,647.98        145,759.70\n",
       "max          850.00  74.00     NaN 206,663.75        199,390.45"
      ]
     },
     "execution_count": 42,
     "metadata": {},
     "output_type": "execute_result"
    }
   ],
   "source": [
    "(\n",
    "    data\n",
    "    .loc[data['tenure']\n",
    "         .isna(), ['credit_score', 'age', 'tenure', 'balance', 'number_of_products', 'estimated_salary']]\n",
    "    .describe()\n",
    ")"
   ]
  },
  {
   "cell_type": "code",
   "execution_count": 43,
   "metadata": {},
   "outputs": [
    {
     "data": {
      "image/png": "[encoded data removed]",
      "text/plain": [
       "<Figure size 1080x720 with 5 Axes>"
      ]
     },
     "metadata": {},
     "output_type": "display_data"
    }
   ],
   "source": [
    "# посмотрим на распределения \n",
    "\n",
    "data_nan = data[data['tenure'].isna()].copy()\n",
    "\n",
    "fig = plt.figure(figsize=(15,10))\n",
    "\n",
    "ax_1 = fig.add_subplot(2, 3, 1)\n",
    "ax_2 = fig.add_subplot(2, 3, 2)\n",
    "ax_3 = fig.add_subplot(2, 3, 3)\n",
    "ax_4 = fig.add_subplot(2, 3, 4)\n",
    "ax_5 = fig.add_subplot(2, 3, 5)\n",
    "\n",
    "axes = [ax_1, ax_2, ax_3, ax_4, ax_5]\n",
    "\n",
    "\n",
    "sns.histplot(data_nan['credit_score'], ax=ax_1, bins=10)\n",
    "sns.histplot(data_nan['age'], ax=ax_2, bins=10)\n",
    "sns.histplot(data_nan['balance'], ax=ax_3, bins=10)\n",
    "sns.histplot(data_nan['number_of_products'].astype('int'), ax=ax_4, bins=10)\n",
    "sns.histplot(data_nan['estimated_salary'], ax=ax_5, bins=10)\n",
    "\n",
    "ax_1.set(title = 'Кредитный рейтинг клиента')\n",
    "ax_2.set(title = 'Возраст клиента')\n",
    "ax_3.set(title = 'Баланс на счёте')\n",
    "ax_4.set(title = 'Число используемых банковских продуктов')\n",
    "ax_5.set(title = 'Предполагаемая зарплата')\n",
    "\n",
    "fig.suptitle('Histplot');"
   ]
  },
  {
   "cell_type": "code",
   "execution_count": 44,
   "metadata": {},
   "outputs": [
    {
     "data": {
      "text/html": [
       "<div>\n",
       "<style scoped>\n",
       "    .dataframe tbody tr th:only-of-type {\n",
       "        vertical-align: middle;\n",
       "    }\n",
       "\n",
       "    .dataframe tbody tr th {\n",
       "        vertical-align: top;\n",
       "    }\n",
       "\n",
       "    .dataframe thead th {\n",
       "        text-align: right;\n",
       "    }\n",
       "</style>\n",
       "<table border=\"1\" class=\"dataframe\">\n",
       "  <thead>\n",
       "    <tr style=\"text-align: right;\">\n",
       "      <th></th>\n",
       "      <th>credit_score</th>\n",
       "      <th>geography</th>\n",
       "      <th>gender</th>\n",
       "      <th>age</th>\n",
       "      <th>tenure</th>\n",
       "      <th>balance</th>\n",
       "      <th>number_of_products</th>\n",
       "      <th>has_credit_card</th>\n",
       "      <th>is_active_member</th>\n",
       "      <th>estimated_salary</th>\n",
       "      <th>exited</th>\n",
       "    </tr>\n",
       "  </thead>\n",
       "  <tbody>\n",
       "    <tr>\n",
       "      <th>30</th>\n",
       "      <td>591</td>\n",
       "      <td>Spain</td>\n",
       "      <td>Female</td>\n",
       "      <td>39</td>\n",
       "      <td>NaN</td>\n",
       "      <td>0.00</td>\n",
       "      <td>3</td>\n",
       "      <td>1</td>\n",
       "      <td>0</td>\n",
       "      <td>140,469.38</td>\n",
       "      <td>1</td>\n",
       "    </tr>\n",
       "    <tr>\n",
       "      <th>48</th>\n",
       "      <td>550</td>\n",
       "      <td>Germany</td>\n",
       "      <td>Male</td>\n",
       "      <td>38</td>\n",
       "      <td>NaN</td>\n",
       "      <td>103,391.38</td>\n",
       "      <td>1</td>\n",
       "      <td>0</td>\n",
       "      <td>1</td>\n",
       "      <td>90,878.13</td>\n",
       "      <td>0</td>\n",
       "    </tr>\n",
       "    <tr>\n",
       "      <th>51</th>\n",
       "      <td>585</td>\n",
       "      <td>Germany</td>\n",
       "      <td>Male</td>\n",
       "      <td>36</td>\n",
       "      <td>NaN</td>\n",
       "      <td>146,050.97</td>\n",
       "      <td>2</td>\n",
       "      <td>0</td>\n",
       "      <td>0</td>\n",
       "      <td>86,424.57</td>\n",
       "      <td>0</td>\n",
       "    </tr>\n",
       "    <tr>\n",
       "      <th>53</th>\n",
       "      <td>655</td>\n",
       "      <td>Germany</td>\n",
       "      <td>Male</td>\n",
       "      <td>41</td>\n",
       "      <td>NaN</td>\n",
       "      <td>125,561.97</td>\n",
       "      <td>1</td>\n",
       "      <td>0</td>\n",
       "      <td>0</td>\n",
       "      <td>164,040.94</td>\n",
       "      <td>1</td>\n",
       "    </tr>\n",
       "    <tr>\n",
       "      <th>60</th>\n",
       "      <td>742</td>\n",
       "      <td>Germany</td>\n",
       "      <td>Male</td>\n",
       "      <td>35</td>\n",
       "      <td>NaN</td>\n",
       "      <td>136,857.00</td>\n",
       "      <td>1</td>\n",
       "      <td>0</td>\n",
       "      <td>0</td>\n",
       "      <td>84,509.57</td>\n",
       "      <td>0</td>\n",
       "    </tr>\n",
       "  </tbody>\n",
       "</table>\n",
       "</div>"
      ],
      "text/plain": [
       "    credit_score geography  gender  age  tenure    balance number_of_products  \\\n",
       "30           591     Spain  Female   39     NaN       0.00                  3   \n",
       "48           550   Germany    Male   38     NaN 103,391.38                  1   \n",
       "51           585   Germany    Male   36     NaN 146,050.97                  2   \n",
       "53           655   Germany    Male   41     NaN 125,561.97                  1   \n",
       "60           742   Germany    Male   35     NaN 136,857.00                  1   \n",
       "\n",
       "    has_credit_card  is_active_member  estimated_salary  exited  \n",
       "30                1                 0        140,469.38       1  \n",
       "48                0                 1         90,878.13       0  \n",
       "51                0                 0         86,424.57       0  \n",
       "53                0                 0        164,040.94       1  \n",
       "60                0                 0         84,509.57       0  "
      ]
     },
     "execution_count": 44,
     "metadata": {},
     "output_type": "execute_result"
    }
   ],
   "source": [
    "data[data['tenure'].isna()].head()"
   ]
  },
  {
   "cell_type": "code",
   "execution_count": 45,
   "metadata": {},
   "outputs": [
    {
     "data": {
      "text/plain": [
       "0   0.80\n",
       "1   0.20\n",
       "Name: exited, dtype: float64"
      ]
     },
     "execution_count": 45,
     "metadata": {},
     "output_type": "execute_result"
    }
   ],
   "source": [
    "(\n",
    "    data\n",
    "    .loc[data['tenure']\n",
    "         .isna(), 'exited']\n",
    "    .value_counts(sort=False, normalize=True)\n",
    ")"
   ]
  },
  {
   "cell_type": "code",
   "execution_count": 46,
   "metadata": {},
   "outputs": [
    {
     "data": {
      "text/plain": [
       "Male     0.53\n",
       "Female   0.47\n",
       "Name: gender, dtype: float64"
      ]
     },
     "execution_count": 46,
     "metadata": {},
     "output_type": "execute_result"
    }
   ],
   "source": [
    "(\n",
    "    data\n",
    "    .loc[data['tenure']\n",
    "         .isna(), 'gender']\n",
    "    .value_counts(sort=False, normalize=True)\n",
    ")"
   ]
  },
  {
   "cell_type": "code",
   "execution_count": 47,
   "metadata": {},
   "outputs": [
    {
     "data": {
      "text/plain": [
       "Spain     0.25\n",
       "France    0.51\n",
       "Germany   0.24\n",
       "Name: geography, dtype: float64"
      ]
     },
     "execution_count": 47,
     "metadata": {},
     "output_type": "execute_result"
    }
   ],
   "source": [
    "(\n",
    "    data\n",
    "    .loc[data['tenure']\n",
    "         .isna(), 'geography']\n",
    "    .value_counts(sort=False, normalize=True)\n",
    ")"
   ]
  },
  {
   "cell_type": "code",
   "execution_count": 48,
   "metadata": {},
   "outputs": [
    {
     "data": {
      "text/plain": [
       "0   0.29\n",
       "1   0.71\n",
       "Name: has_credit_card, dtype: float64"
      ]
     },
     "execution_count": 48,
     "metadata": {},
     "output_type": "execute_result"
    }
   ],
   "source": [
    "(\n",
    "    data\n",
    "    .loc[data['tenure']\n",
    "         .isna(), 'has_credit_card']\n",
    "    .value_counts(sort=False, normalize=True)\n",
    ")"
   ]
  },
  {
   "cell_type": "code",
   "execution_count": 49,
   "metadata": {},
   "outputs": [
    {
     "data": {
      "text/plain": [
       "0   0.49\n",
       "1   0.51\n",
       "Name: is_active_member, dtype: float64"
      ]
     },
     "execution_count": 49,
     "metadata": {},
     "output_type": "execute_result"
    }
   ],
   "source": [
    "(\n",
    "    data\n",
    "    .loc[data['tenure']\n",
    "         .isna(), 'is_active_member']\n",
    "    .value_counts(sort=False, normalize=True)\n",
    ")"
   ]
  },
  {
   "cell_type": "markdown",
   "metadata": {},
   "source": [
    "**Краткий вывод.**  Итак, видим, что подвыборка с `nan` практически не отличается от общей картины. "
   ]
  },
  {
   "cell_type": "markdown",
   "metadata": {},
   "source": [
    "В общем я в замешательстве, что делать с миссингами. Есть заменить медианой или средним значением, то очевидно, что это отразится на распределении. \n",
    "\n",
    "Попробую посмотреть на медиану и средние значения переменной `tenure` в зависимости от страны, возраста, пола."
   ]
  },
  {
   "cell_type": "code",
   "execution_count": 50,
   "metadata": {
    "scrolled": true
   },
   "outputs": [
    {
     "data": {
      "text/html": [
       "<div>\n",
       "<style scoped>\n",
       "    .dataframe tbody tr th:only-of-type {\n",
       "        vertical-align: middle;\n",
       "    }\n",
       "\n",
       "    .dataframe tbody tr th {\n",
       "        vertical-align: top;\n",
       "    }\n",
       "\n",
       "    .dataframe thead tr th {\n",
       "        text-align: left;\n",
       "    }\n",
       "\n",
       "    .dataframe thead tr:last-of-type th {\n",
       "        text-align: right;\n",
       "    }\n",
       "</style>\n",
       "<table border=\"1\" class=\"dataframe\">\n",
       "  <thead>\n",
       "    <tr>\n",
       "      <th></th>\n",
       "      <th colspan=\"2\" halign=\"left\">tenure</th>\n",
       "    </tr>\n",
       "    <tr>\n",
       "      <th></th>\n",
       "      <th>mean</th>\n",
       "      <th>median</th>\n",
       "    </tr>\n",
       "    <tr>\n",
       "      <th>geography</th>\n",
       "      <th></th>\n",
       "      <th></th>\n",
       "    </tr>\n",
       "  </thead>\n",
       "  <tbody>\n",
       "    <tr>\n",
       "      <th>France</th>\n",
       "      <td>5.00</td>\n",
       "      <td>5.00</td>\n",
       "    </tr>\n",
       "    <tr>\n",
       "      <th>Germany</th>\n",
       "      <td>4.98</td>\n",
       "      <td>5.00</td>\n",
       "    </tr>\n",
       "    <tr>\n",
       "      <th>Spain</th>\n",
       "      <td>5.00</td>\n",
       "      <td>5.00</td>\n",
       "    </tr>\n",
       "  </tbody>\n",
       "</table>\n",
       "</div>"
      ],
      "text/plain": [
       "          tenure       \n",
       "            mean median\n",
       "geography              \n",
       "France      5.00   5.00\n",
       "Germany     4.98   5.00\n",
       "Spain       5.00   5.00"
      ]
     },
     "execution_count": 50,
     "metadata": {},
     "output_type": "execute_result"
    }
   ],
   "source": [
    "data[['geography', 'tenure']].groupby('geography').agg(['mean', 'median'])"
   ]
  },
  {
   "cell_type": "code",
   "execution_count": 51,
   "metadata": {
    "scrolled": true
   },
   "outputs": [
    {
     "data": {
      "text/html": [
       "<div>\n",
       "<style scoped>\n",
       "    .dataframe tbody tr th:only-of-type {\n",
       "        vertical-align: middle;\n",
       "    }\n",
       "\n",
       "    .dataframe tbody tr th {\n",
       "        vertical-align: top;\n",
       "    }\n",
       "\n",
       "    .dataframe thead tr th {\n",
       "        text-align: left;\n",
       "    }\n",
       "\n",
       "    .dataframe thead tr:last-of-type th {\n",
       "        text-align: right;\n",
       "    }\n",
       "</style>\n",
       "<table border=\"1\" class=\"dataframe\">\n",
       "  <thead>\n",
       "    <tr>\n",
       "      <th></th>\n",
       "      <th colspan=\"2\" halign=\"left\">tenure</th>\n",
       "    </tr>\n",
       "    <tr>\n",
       "      <th></th>\n",
       "      <th>mean</th>\n",
       "      <th>median</th>\n",
       "    </tr>\n",
       "    <tr>\n",
       "      <th>gender</th>\n",
       "      <th></th>\n",
       "      <th></th>\n",
       "    </tr>\n",
       "  </thead>\n",
       "  <tbody>\n",
       "    <tr>\n",
       "      <th>Female</th>\n",
       "      <td>4.96</td>\n",
       "      <td>5.00</td>\n",
       "    </tr>\n",
       "    <tr>\n",
       "      <th>Male</th>\n",
       "      <td>5.03</td>\n",
       "      <td>5.00</td>\n",
       "    </tr>\n",
       "  </tbody>\n",
       "</table>\n",
       "</div>"
      ],
      "text/plain": [
       "       tenure       \n",
       "         mean median\n",
       "gender              \n",
       "Female   4.96   5.00\n",
       "Male     5.03   5.00"
      ]
     },
     "execution_count": 51,
     "metadata": {},
     "output_type": "execute_result"
    }
   ],
   "source": [
    "data[['gender', 'tenure']].groupby('gender').agg(['mean', 'median'])"
   ]
  },
  {
   "cell_type": "code",
   "execution_count": 52,
   "metadata": {},
   "outputs": [
    {
     "data": {
      "image/png": "[encoded data removed]",
      "text/plain": [
       "<Figure size 360x360 with 2 Axes>"
      ]
     },
     "metadata": {},
     "output_type": "display_data"
    }
   ],
   "source": [
    "\n",
    "plt.figure(figsize=(5,5))\n",
    "(\n",
    "    sns.heatmap(data[['tenure', 'credit_score', 'age', 'balance', 'number_of_products', 'estimated_salary']]\n",
    "                .corr()[['tenure']], \n",
    "                annot=True, \n",
    "                cmap=\"Blues\", \n",
    "                fmt='.2f', \n",
    "                annot_kws={'size':16})\n",
    ");\n",
    "\n"
   ]
  },
  {
   "cell_type": "code",
   "execution_count": 53,
   "metadata": {},
   "outputs": [
    {
     "name": "stdout",
     "output_type": "stream",
     "text": [
      "        mean  median\n",
      "exited              \n",
      "0       5.02    5.00\n",
      "1       4.90    5.00\n",
      "\n",
      "        mean  median\n",
      "gender              \n",
      "Female  4.96    5.00\n",
      "Male    5.03    5.00\n",
      "\n",
      "           mean  median\n",
      "geography              \n",
      "France     5.00    5.00\n",
      "Germany    4.98    5.00\n",
      "Spain      5.00    5.00\n",
      "\n",
      "                 mean  median\n",
      "has_credit_card              \n",
      "0                4.88    5.00\n",
      "1                5.05    5.00\n",
      "\n",
      "                  mean  median\n",
      "is_active_member              \n",
      "0                 5.09    5.00\n",
      "1                 4.90    5.00\n"
     ]
    }
   ],
   "source": [
    "print(\n",
    "    data\n",
    "    .groupby('exited')['tenure']\n",
    "    .agg(['mean', 'median'])\n",
    ")\n",
    "print()\n",
    "print(\n",
    "    data\n",
    "    .groupby('gender')['tenure']\n",
    "    .agg(['mean', 'median'])\n",
    ")\n",
    "print()\n",
    "print(\n",
    "    data\n",
    "    .groupby('geography')['tenure']\n",
    "    .agg(['mean', 'median'])\n",
    ")\n",
    "print()\n",
    "print(\n",
    "    data\n",
    "    .groupby('has_credit_card')['tenure']\n",
    "    .agg(['mean', 'median'])\n",
    ")\n",
    "print()\n",
    "print(\n",
    "    data\n",
    "    .groupby('is_active_member')['tenure']\n",
    "    .agg(['mean', 'median'])\n",
    ")"
   ]
  },
  {
   "cell_type": "markdown",
   "metadata": {},
   "source": [
    "В общем, как-то так. И связи между `tenure` и остальными переменными нет. Удалять практически 10% данных не хочется.  \n",
    "В общем, после поиска решения в интернете, решила воспользоваться `KNNImputer` из библиотеки `sklearn.impute`. "
   ]
  },
  {
   "cell_type": "code",
   "execution_count": 54,
   "metadata": {},
   "outputs": [
    {
     "name": "stderr",
     "output_type": "stream",
     "text": [
      "/tmp/ipykernel_37/814519607.py:3: SettingWithCopyWarning: \n",
      "A value is trying to be set on a copy of a slice from a DataFrame.\n",
      "Try using .loc[row_indexer,col_indexer] = value instead\n",
      "\n",
      "See the caveats in the documentation: https://pandas.pydata.org/pandas-docs/stable/user_guide/indexing.html#returning-a-view-versus-a-copy\n",
      "  features_train['tenure_was_nan'] = features_train['tenure'].apply(lambda x: 0 if np.isnan(x) else 1)\n"
     ]
    }
   ],
   "source": [
    "# добавим столбец - булевый признак, который указывает в каких строках переменной `tenure` были миссинги. \n",
    "features_train_original = features_train.copy()\n",
    "features_train['tenure_was_nan'] = features_train['tenure'].apply(lambda x: 0 if np.isnan(x) else 1) "
   ]
  },
  {
   "cell_type": "code",
   "execution_count": 55,
   "metadata": {},
   "outputs": [
    {
     "data": {
      "text/plain": [
       "1    6313\n",
       "0     649\n",
       "Name: tenure_was_nan, dtype: int64"
      ]
     },
     "execution_count": 55,
     "metadata": {},
     "output_type": "execute_result"
    }
   ],
   "source": [
    "features_train['tenure_was_nan'].value_counts()"
   ]
  },
  {
   "cell_type": "code",
   "execution_count": 56,
   "metadata": {},
   "outputs": [
    {
     "data": {
      "text/html": [
       "<div>\n",
       "<style scoped>\n",
       "    .dataframe tbody tr th:only-of-type {\n",
       "        vertical-align: middle;\n",
       "    }\n",
       "\n",
       "    .dataframe tbody tr th {\n",
       "        vertical-align: top;\n",
       "    }\n",
       "\n",
       "    .dataframe thead th {\n",
       "        text-align: right;\n",
       "    }\n",
       "</style>\n",
       "<table border=\"1\" class=\"dataframe\">\n",
       "  <thead>\n",
       "    <tr style=\"text-align: right;\">\n",
       "      <th></th>\n",
       "      <th>tenure</th>\n",
       "      <th>tenure_was_nan</th>\n",
       "    </tr>\n",
       "  </thead>\n",
       "  <tbody>\n",
       "    <tr>\n",
       "      <th>7256</th>\n",
       "      <td>NaN</td>\n",
       "      <td>0</td>\n",
       "    </tr>\n",
       "    <tr>\n",
       "      <th>6439</th>\n",
       "      <td>NaN</td>\n",
       "      <td>0</td>\n",
       "    </tr>\n",
       "    <tr>\n",
       "      <th>7293</th>\n",
       "      <td>NaN</td>\n",
       "      <td>0</td>\n",
       "    </tr>\n",
       "  </tbody>\n",
       "</table>\n",
       "</div>"
      ],
      "text/plain": [
       "      tenure  tenure_was_nan\n",
       "7256     NaN               0\n",
       "6439     NaN               0\n",
       "7293     NaN               0"
      ]
     },
     "execution_count": 56,
     "metadata": {},
     "output_type": "execute_result"
    }
   ],
   "source": [
    "features_train.loc[features_train['tenure'].isna(), ['tenure', 'tenure_was_nan']].head(3)"
   ]
  },
  {
   "cell_type": "code",
   "execution_count": 57,
   "metadata": {},
   "outputs": [
    {
     "data": {
      "text/html": [
       "<div>\n",
       "<style scoped>\n",
       "    .dataframe tbody tr th:only-of-type {\n",
       "        vertical-align: middle;\n",
       "    }\n",
       "\n",
       "    .dataframe tbody tr th {\n",
       "        vertical-align: top;\n",
       "    }\n",
       "\n",
       "    .dataframe thead th {\n",
       "        text-align: right;\n",
       "    }\n",
       "</style>\n",
       "<table border=\"1\" class=\"dataframe\">\n",
       "  <thead>\n",
       "    <tr style=\"text-align: right;\">\n",
       "      <th></th>\n",
       "      <th>tenure</th>\n",
       "      <th>tenure_was_nan</th>\n",
       "    </tr>\n",
       "  </thead>\n",
       "  <tbody>\n",
       "    <tr>\n",
       "      <th>9742</th>\n",
       "      <td>-0.34</td>\n",
       "      <td>1</td>\n",
       "    </tr>\n",
       "    <tr>\n",
       "      <th>5591</th>\n",
       "      <td>0.00</td>\n",
       "      <td>1</td>\n",
       "    </tr>\n",
       "    <tr>\n",
       "      <th>5826</th>\n",
       "      <td>-1.73</td>\n",
       "      <td>1</td>\n",
       "    </tr>\n",
       "  </tbody>\n",
       "</table>\n",
       "</div>"
      ],
      "text/plain": [
       "      tenure  tenure_was_nan\n",
       "9742   -0.34               1\n",
       "5591    0.00               1\n",
       "5826   -1.73               1"
      ]
     },
     "execution_count": 57,
     "metadata": {},
     "output_type": "execute_result"
    }
   ],
   "source": [
    "features_train.loc[~features_train['tenure'].isna(), ['tenure', 'tenure_was_nan']].head(3)"
   ]
  },
  {
   "cell_type": "markdown",
   "metadata": {},
   "source": [
    "Ура! Сделали. А теперь заменим пропуски."
   ]
  },
  {
   "cell_type": "code",
   "execution_count": 58,
   "metadata": {},
   "outputs": [
    {
     "name": "stderr",
     "output_type": "stream",
     "text": [
      "/tmp/ipykernel_37/1992494488.py:5: SettingWithCopyWarning: \n",
      "A value is trying to be set on a copy of a slice from a DataFrame.\n",
      "Try using .loc[row_indexer,col_indexer] = value instead\n",
      "\n",
      "See the caveats in the documentation: https://pandas.pydata.org/pandas-docs/stable/user_guide/indexing.html#returning-a-view-versus-a-copy\n",
      "  features_train[numeric] = imputer.transform(features_train[numeric])\n",
      "/opt/conda/lib/python3.9/site-packages/pandas/core/indexing.py:1738: SettingWithCopyWarning: \n",
      "A value is trying to be set on a copy of a slice from a DataFrame.\n",
      "Try using .loc[row_indexer,col_indexer] = value instead\n",
      "\n",
      "See the caveats in the documentation: https://pandas.pydata.org/pandas-docs/stable/user_guide/indexing.html#returning-a-view-versus-a-copy\n",
      "  self._setitem_single_column(loc, value[:, i].tolist(), pi)\n"
     ]
    }
   ],
   "source": [
    "# ПОМЕНЯЛА!\n",
    "\n",
    "imputer = KNNImputer(n_neighbors=5, weights='uniform')\n",
    "imputer.fit(features_train[numeric]) \n",
    "features_train[numeric] = imputer.transform(features_train[numeric])"
   ]
  },
  {
   "cell_type": "code",
   "execution_count": 59,
   "metadata": {},
   "outputs": [],
   "source": [
    "# преобразуем валидационную и тренировочную выборки\n",
    "features_valid[numeric] = imputer.transform(features_valid[numeric])\n",
    "features_test[numeric] = imputer.transform(features_test[numeric])"
   ]
  },
  {
   "cell_type": "code",
   "execution_count": 60,
   "metadata": {},
   "outputs": [
    {
     "data": {
      "text/html": [
       "<div>\n",
       "<style scoped>\n",
       "    .dataframe tbody tr th:only-of-type {\n",
       "        vertical-align: middle;\n",
       "    }\n",
       "\n",
       "    .dataframe tbody tr th {\n",
       "        vertical-align: top;\n",
       "    }\n",
       "\n",
       "    .dataframe thead th {\n",
       "        text-align: right;\n",
       "    }\n",
       "</style>\n",
       "<table border=\"1\" class=\"dataframe\">\n",
       "  <thead>\n",
       "    <tr style=\"text-align: right;\">\n",
       "      <th></th>\n",
       "      <th>credit_score</th>\n",
       "      <th>age</th>\n",
       "      <th>tenure</th>\n",
       "      <th>balance</th>\n",
       "      <th>has_credit_card</th>\n",
       "      <th>is_active_member</th>\n",
       "      <th>estimated_salary</th>\n",
       "      <th>geography_Germany</th>\n",
       "      <th>geography_Spain</th>\n",
       "      <th>gender_Male</th>\n",
       "      <th>number_of_products_2</th>\n",
       "      <th>number_of_products_3</th>\n",
       "      <th>number_of_products_4</th>\n",
       "      <th>tenure_was_nan</th>\n",
       "    </tr>\n",
       "  </thead>\n",
       "  <tbody>\n",
       "    <tr>\n",
       "      <th>9742</th>\n",
       "      <td>0.66</td>\n",
       "      <td>0.62</td>\n",
       "      <td>-0.34</td>\n",
       "      <td>-1.23</td>\n",
       "      <td>1</td>\n",
       "      <td>1</td>\n",
       "      <td>-0.78</td>\n",
       "      <td>0</td>\n",
       "      <td>0</td>\n",
       "      <td>1</td>\n",
       "      <td>1</td>\n",
       "      <td>0</td>\n",
       "      <td>0</td>\n",
       "      <td>1</td>\n",
       "    </tr>\n",
       "    <tr>\n",
       "      <th>5591</th>\n",
       "      <td>-1.16</td>\n",
       "      <td>-0.07</td>\n",
       "      <td>0.00</td>\n",
       "      <td>-1.23</td>\n",
       "      <td>1</td>\n",
       "      <td>0</td>\n",
       "      <td>-0.92</td>\n",
       "      <td>0</td>\n",
       "      <td>0</td>\n",
       "      <td>1</td>\n",
       "      <td>1</td>\n",
       "      <td>0</td>\n",
       "      <td>0</td>\n",
       "      <td>1</td>\n",
       "    </tr>\n",
       "    <tr>\n",
       "      <th>5826</th>\n",
       "      <td>-1.47</td>\n",
       "      <td>-0.97</td>\n",
       "      <td>-1.73</td>\n",
       "      <td>0.50</td>\n",
       "      <td>1</td>\n",
       "      <td>1</td>\n",
       "      <td>-0.13</td>\n",
       "      <td>1</td>\n",
       "      <td>0</td>\n",
       "      <td>0</td>\n",
       "      <td>1</td>\n",
       "      <td>0</td>\n",
       "      <td>0</td>\n",
       "      <td>1</td>\n",
       "    </tr>\n",
       "    <tr>\n",
       "      <th>6131</th>\n",
       "      <td>0.36</td>\n",
       "      <td>2.11</td>\n",
       "      <td>1.39</td>\n",
       "      <td>-1.23</td>\n",
       "      <td>1</td>\n",
       "      <td>1</td>\n",
       "      <td>-0.43</td>\n",
       "      <td>0</td>\n",
       "      <td>0</td>\n",
       "      <td>1</td>\n",
       "      <td>0</td>\n",
       "      <td>1</td>\n",
       "      <td>0</td>\n",
       "      <td>1</td>\n",
       "    </tr>\n",
       "    <tr>\n",
       "      <th>8476</th>\n",
       "      <td>0.52</td>\n",
       "      <td>1.22</td>\n",
       "      <td>1.39</td>\n",
       "      <td>-1.23</td>\n",
       "      <td>0</td>\n",
       "      <td>0</td>\n",
       "      <td>-0.66</td>\n",
       "      <td>0</td>\n",
       "      <td>0</td>\n",
       "      <td>1</td>\n",
       "      <td>1</td>\n",
       "      <td>0</td>\n",
       "      <td>0</td>\n",
       "      <td>1</td>\n",
       "    </tr>\n",
       "  </tbody>\n",
       "</table>\n",
       "</div>"
      ],
      "text/plain": [
       "      credit_score   age  tenure  balance  has_credit_card  is_active_member  \\\n",
       "9742          0.66  0.62   -0.34    -1.23                1                 1   \n",
       "5591         -1.16 -0.07    0.00    -1.23                1                 0   \n",
       "5826         -1.47 -0.97   -1.73     0.50                1                 1   \n",
       "6131          0.36  2.11    1.39    -1.23                1                 1   \n",
       "8476          0.52  1.22    1.39    -1.23                0                 0   \n",
       "\n",
       "      estimated_salary  geography_Germany  geography_Spain  gender_Male  \\\n",
       "9742             -0.78                  0                0            1   \n",
       "5591             -0.92                  0                0            1   \n",
       "5826             -0.13                  1                0            0   \n",
       "6131             -0.43                  0                0            1   \n",
       "8476             -0.66                  0                0            1   \n",
       "\n",
       "      number_of_products_2  number_of_products_3  number_of_products_4  \\\n",
       "9742                     1                     0                     0   \n",
       "5591                     1                     0                     0   \n",
       "5826                     1                     0                     0   \n",
       "6131                     0                     1                     0   \n",
       "8476                     1                     0                     0   \n",
       "\n",
       "      tenure_was_nan  \n",
       "9742               1  \n",
       "5591               1  \n",
       "5826               1  \n",
       "6131               1  \n",
       "8476               1  "
      ]
     },
     "execution_count": 60,
     "metadata": {},
     "output_type": "execute_result"
    }
   ],
   "source": [
    "features_train.head()"
   ]
  },
  {
   "cell_type": "code",
   "execution_count": 61,
   "metadata": {},
   "outputs": [
    {
     "data": {
      "text/plain": [
       "credit_score            0\n",
       "age                     0\n",
       "tenure                  0\n",
       "balance                 0\n",
       "has_credit_card         0\n",
       "is_active_member        0\n",
       "estimated_salary        0\n",
       "geography_Germany       0\n",
       "geography_Spain         0\n",
       "gender_Male             0\n",
       "number_of_products_2    0\n",
       "number_of_products_3    0\n",
       "number_of_products_4    0\n",
       "tenure_was_nan          0\n",
       "dtype: int64"
      ]
     },
     "execution_count": 61,
     "metadata": {},
     "output_type": "execute_result"
    }
   ],
   "source": [
    "features_train.isna().sum()"
   ]
  },
  {
   "cell_type": "markdown",
   "metadata": {},
   "source": [
    "Вроде бы получилось. Произведем замену в исходном датасете + в исходный датасет добавим новую переменную, которая будет указывать в каких строках переменной `tenure` были миссинги."
   ]
  },
  {
   "cell_type": "code",
   "execution_count": 62,
   "metadata": {
    "scrolled": true
   },
   "outputs": [
    {
     "data": {
      "image/png": "[encoded data removed]",
      "text/plain": [
       "<Figure size 432x288 with 1 Axes>"
      ]
     },
     "metadata": {},
     "output_type": "display_data"
    }
   ],
   "source": [
    "# посмотрим на распределение `tenure` с вмененными значениями и исходные\n",
    "features_train['tenure'].hist(alpha = 0.7, lw=3, color= 'b')\n",
    "features_train_original['tenure'].hist(ls='dotted', alpha = 0.5, lw=3, color='r');"
   ]
  },
  {
   "cell_type": "code",
   "execution_count": 63,
   "metadata": {},
   "outputs": [
    {
     "data": {
      "image/png": "[encoded data removed]",
      "text/plain": [
       "<Figure size 360x360 with 2 Axes>"
      ]
     },
     "metadata": {},
     "output_type": "display_data"
    }
   ],
   "source": [
    "# проверим корреляции \n",
    "plt.figure(figsize=(5,5))\n",
    "(\n",
    "    sns.heatmap(features_train[['tenure', 'credit_score', 'age', 'balance', 'estimated_salary']]\n",
    "                .corr()[['tenure']], \n",
    "                annot=True, \n",
    "                cmap=\"Blues\", \n",
    "                fmt='.2f', \n",
    "                annot_kws={'size':16})\n",
    ");"
   ]
  },
  {
   "cell_type": "code",
   "execution_count": 64,
   "metadata": {},
   "outputs": [
    {
     "name": "stdout",
     "output_type": "stream",
     "text": [
      "       tenure       \n",
      "         mean median\n",
      "exited              \n",
      "0        0.01   0.00\n",
      "1       -0.03   0.00\n",
      "\n",
      "        mean  median\n",
      "exited              \n",
      "0       0.01    0.00\n",
      "1      -0.03    0.00\n"
     ]
    }
   ],
   "source": [
    "print(pd.concat([features_train[['tenure']], target_train], axis=1)\n",
    "      .groupby('exited').agg(['mean', 'median']))\n",
    "print()\n",
    "print(\n",
    "    pd.concat([features_train_original[['tenure']], target_train], axis=1)\n",
    "    .groupby('exited')['tenure']\n",
    "    .agg(['mean', 'median'])\n",
    ")"
   ]
  },
  {
   "cell_type": "markdown",
   "metadata": {},
   "source": [
    "**Краткий вывод**\n",
    "\n",
    "При предобработке данных проведена замена миссингов в признаке `tenure` с помощью команды `KNNImputer()`.   \n",
    "\n",
    "С `OHE` были перекодированы категориальные признаки. \n",
    "\n",
    "Далее, количественные переменные были стандартизированы и приведены к единому масштабу. Перед этим, выборка была поделена на обучающую и валидационную выборки. \n",
    "\n",
    "Давайте перейдем к исследовательскому анализу. Будем работать с датасетом `data_knn`"
   ]
  },
  {
   "cell_type": "markdown",
   "metadata": {},
   "source": [
    "## Исследовательский анализ"
   ]
  },
  {
   "cell_type": "markdown",
   "metadata": {},
   "source": [
    "В этом пункте посмотрим на корреляции между признаками, чтобы понять какие признаки оставить. "
   ]
  },
  {
   "cell_type": "code",
   "execution_count": 65,
   "metadata": {},
   "outputs": [
    {
     "data": {
      "image/png": "[encoded data removed]",
      "text/plain": [
       "<Figure size 720x720 with 2 Axes>"
      ]
     },
     "metadata": {},
     "output_type": "display_data"
    }
   ],
   "source": [
    "# проверим как скоррелированы переменные друг с другом. \n",
    "# если есть сильные корреляции, то исключим из анализа некоторые переменные\n",
    "\n",
    "plt.figure(figsize=(10,10))\n",
    "(\n",
    "    sns.heatmap(features_train.drop('tenure_was_nan', axis=1)\n",
    "                .corr(), \n",
    "                annot=True, \n",
    "                cmap=\"Blues\", \n",
    "                fmt='.2f', \n",
    "                annot_kws={'size':10})\n",
    ");"
   ]
  },
  {
   "cell_type": "markdown",
   "metadata": {},
   "source": [
    "**Краткий вывод** \n",
    "\n",
    "Как видно из диаграммы `heatmap` все корреляции между признаками меньше `0,5`. Все признаки можно оставить и использовать при построении модели. "
   ]
  },
  {
   "cell_type": "markdown",
   "metadata": {},
   "source": [
    "## Обучение моделей"
   ]
  },
  {
   "cell_type": "markdown",
   "metadata": {},
   "source": [
    "*Целевой признак* - ушел клиент из банка. Категориальная переменная. Поэтому будем использовать методы классификации.\n",
    "\n",
    "Я буду в этом проекте обучу две модели: Random Forest Classification и Logistic Regression. \n",
    "Сначала обучу модели без учета дисбаланса. Посмотрю на значения метрик. \n",
    "\n",
    "Затем постараюсь улучшить качество модели, учитывая дисбаланс классов. Попробую определить гиперпараметры, которые дают лучшие показатели метрики F1-score на валидационной выборке."
   ]
  },
  {
   "cell_type": "markdown",
   "metadata": {},
   "source": [
    "### Логистическая регрессия "
   ]
  },
  {
   "cell_type": "markdown",
   "metadata": {},
   "source": [
    "Обучим логистическую регрессию без учета дисбаланса. "
   ]
  },
  {
   "cell_type": "code",
   "execution_count": 66,
   "metadata": {},
   "outputs": [
    {
     "name": "stderr",
     "output_type": "stream",
     "text": [
      "/opt/conda/lib/python3.9/site-packages/pandas/core/frame.py:4308: SettingWithCopyWarning: \n",
      "A value is trying to be set on a copy of a slice from a DataFrame\n",
      "\n",
      "See the caveats in the documentation: https://pandas.pydata.org/pandas-docs/stable/user_guide/indexing.html#returning-a-view-versus-a-copy\n",
      "  return super().drop(\n"
     ]
    }
   ],
   "source": [
    "features_train.drop('tenure_was_nan', axis=1, inplace=True)"
   ]
  },
  {
   "cell_type": "code",
   "execution_count": 67,
   "metadata": {},
   "outputs": [],
   "source": [
    "logistic = LogisticRegression(random_state=12345, solver='liblinear', max_iter=1000) # зададим модель\n",
    "logistic.fit(features_train, target_train) # обучим модель\n",
    "predicted_valid = logistic.predict(features_valid)"
   ]
  },
  {
   "cell_type": "code",
   "execution_count": 68,
   "metadata": {},
   "outputs": [
    {
     "name": "stdout",
     "output_type": "stream",
     "text": [
      "F1-score logistic-модели без учета дисбаланса равно: 0.52\n",
      "\n",
      "Accuracy logistic-модели без учета дисбаланса равно: 0.84\n",
      "\n",
      "Precision logistic-модели без учета дисбаланса равно: 0.71\n",
      "\n",
      "Recall logistic-модели без учета дисбаланса равно: 0.41\n"
     ]
    }
   ],
   "source": [
    "# проверим метрики f1-score, accuracy, precision, recall\n",
    "\n",
    "print('F1-score logistic-модели без учета дисбаланса равно:',\\\n",
    "      f1_score(target_valid, predicted_valid).round(2)) # проверим качество модели\n",
    "print()\n",
    "print('Accuracy logistic-модели без учета дисбаланса равно:',\\\n",
    "      accuracy_score(target_valid, predicted_valid).round(2))\n",
    "print()\n",
    "print('Precision logistic-модели без учета дисбаланса равно:',\\\n",
    "      precision_score(target_valid, predicted_valid).round(2))\n",
    "print()\n",
    "print('Recall logistic-модели без учета дисбаланса равно:',\\\n",
    "      recall_score(target_valid, predicted_valid).round(2))"
   ]
  },
  {
   "cell_type": "code",
   "execution_count": 69,
   "metadata": {},
   "outputs": [
    {
     "data": {
      "image/png": "[encoded data removed]",
      "text/plain": [
       "<Figure size 432x288 with 2 Axes>"
      ]
     },
     "metadata": {},
     "output_type": "display_data"
    }
   ],
   "source": [
    "# построим матрицу ошибок\n",
    "plot_confusion_matrix(estimator=logistic, X=features_valid, y_true=target_valid,\n",
    "                      normalize='true', cmap='Blues');"
   ]
  },
  {
   "cell_type": "markdown",
   "metadata": {},
   "source": [
    "Метрика `f1-score` равна `0,52`. Наша модель, как и ожидалось, хорошо предсказывает отрицательные значения (клиент не уйдет из банка) - 0,96. За счет этого и показатель `accuracy` получился высоким. Но положительные предсказывает не очень хорошо, менее 41%. \n",
    "\n",
    "Теперь добавим в модель параметр `class_weight='balanced'`, который позволит алгоритм посчитать, во сколько раз группа `0` встречается чаще группы `1`."
   ]
  },
  {
   "cell_type": "code",
   "execution_count": 70,
   "metadata": {},
   "outputs": [],
   "source": [
    "logistic = LogisticRegression(random_state=12345, solver='liblinear', max_iter=1000, class_weight='balanced') # зададим модель\n",
    "logistic.fit(features_train, target_train) # обучим модель\n",
    "predicted_valid = logistic.predict(features_valid)"
   ]
  },
  {
   "cell_type": "code",
   "execution_count": 71,
   "metadata": {},
   "outputs": [
    {
     "name": "stdout",
     "output_type": "stream",
     "text": [
      "F1-score logistic-модели с параметром class_weight=\"balanced\" равно: 0.56\n",
      "\n",
      "Accuracy logistic-модели с параметром class_weight=\"balanced\" равно: 0.76\n",
      "\n",
      "Precision logistic-модели с параметром class_weight=\"balanced\" равно: 0.45\n",
      "\n",
      "Recall logistic-модели с параметром class_weight=\"balanced\" равно: 0.75\n"
     ]
    }
   ],
   "source": [
    "# проверим метрики f1-score, accuracy, precision, recall\n",
    "\n",
    "print('F1-score logistic-модели с параметром class_weight=\"balanced\" равно:',\\\n",
    "      f1_score(target_valid, predicted_valid).round(2)) # проверим качество модели\n",
    "print()\n",
    "print('Accuracy logistic-модели с параметром class_weight=\"balanced\" равно:',\\\n",
    "      accuracy_score(target_valid, predicted_valid).round(2))\n",
    "print()\n",
    "print('Precision logistic-модели с параметром class_weight=\"balanced\" равно:',\\\n",
    "      precision_score(target_valid, predicted_valid).round(2))\n",
    "print()\n",
    "print('Recall logistic-модели с параметром class_weight=\"balanced\" равно:',\\\n",
    "      recall_score(target_valid, predicted_valid).round(2))"
   ]
  },
  {
   "cell_type": "code",
   "execution_count": 72,
   "metadata": {},
   "outputs": [
    {
     "data": {
      "image/png": "[encoded data removed]",
      "text/plain": [
       "<Figure size 432x288 with 2 Axes>"
      ]
     },
     "metadata": {},
     "output_type": "display_data"
    }
   ],
   "source": [
    "# построим матрицу ошибок\n",
    "plot_confusion_matrix(estimator=logistic, X=features_valid, y_true=target_valid,\n",
    "                      normalize='true', cmap='Blues');"
   ]
  },
  {
   "cell_type": "markdown",
   "metadata": {},
   "source": [
    "Метрика `f1-score` повысилась с `0,51` до `0.56`. Показатели метрки `accuracy` и `precision` снизились, но показатель полноты `recall` повысился. Иными словами, доля TP-ответов, которые выделила модель среди всех, у которых истинная метка 1, повысилась, что также видим из матрицы ошибок.\n",
    "\n",
    "Попробуем подобрать гиперпараметры для логистической модели с помощью `GridSearchCV`."
   ]
  },
  {
   "cell_type": "code",
   "execution_count": 73,
   "metadata": {},
   "outputs": [],
   "source": [
    "tuned_parameters = [{'penalty':['l1', 'l2']},\n",
    "              {'C':[0.001, 0.01, 0.1, 1, 10, 100]}]\n",
    "\n",
    "logistic_gsc = GridSearchCV(LogisticRegression(random_state=12345, max_iter=1000, class_weight='balanced'), \n",
    "                            tuned_parameters, cv=5, scoring=\"f1\", n_jobs=4)"
   ]
  },
  {
   "cell_type": "code",
   "execution_count": 74,
   "metadata": {},
   "outputs": [
    {
     "name": "stderr",
     "output_type": "stream",
     "text": [
      "/opt/conda/lib/python3.9/site-packages/sklearn/model_selection/_validation.py:610: FitFailedWarning: Estimator fit failed. The score on this train-test partition for these parameters will be set to nan. Details: \n",
      "Traceback (most recent call last):\n",
      "  File \"/opt/conda/lib/python3.9/site-packages/sklearn/model_selection/_validation.py\", line 593, in _fit_and_score\n",
      "    estimator.fit(X_train, y_train, **fit_params)\n",
      "  File \"/opt/conda/lib/python3.9/site-packages/sklearn/linear_model/_logistic.py\", line 1306, in fit\n",
      "    solver = _check_solver(self.solver, self.penalty, self.dual)\n",
      "  File \"/opt/conda/lib/python3.9/site-packages/sklearn/linear_model/_logistic.py\", line 443, in _check_solver\n",
      "    raise ValueError(\"Solver %s supports only 'l2' or 'none' penalties, \"\n",
      "ValueError: Solver lbfgs supports only 'l2' or 'none' penalties, got l1 penalty.\n",
      "\n",
      "  warnings.warn(\"Estimator fit failed. The score on this train-test\"\n",
      "/opt/conda/lib/python3.9/site-packages/sklearn/model_selection/_validation.py:610: FitFailedWarning: Estimator fit failed. The score on this train-test partition for these parameters will be set to nan. Details: \n",
      "Traceback (most recent call last):\n",
      "  File \"/opt/conda/lib/python3.9/site-packages/sklearn/model_selection/_validation.py\", line 593, in _fit_and_score\n",
      "    estimator.fit(X_train, y_train, **fit_params)\n",
      "  File \"/opt/conda/lib/python3.9/site-packages/sklearn/linear_model/_logistic.py\", line 1306, in fit\n",
      "    solver = _check_solver(self.solver, self.penalty, self.dual)\n",
      "  File \"/opt/conda/lib/python3.9/site-packages/sklearn/linear_model/_logistic.py\", line 443, in _check_solver\n",
      "    raise ValueError(\"Solver %s supports only 'l2' or 'none' penalties, \"\n",
      "ValueError: Solver lbfgs supports only 'l2' or 'none' penalties, got l1 penalty.\n",
      "\n",
      "  warnings.warn(\"Estimator fit failed. The score on this train-test\"\n",
      "/opt/conda/lib/python3.9/site-packages/sklearn/model_selection/_validation.py:610: FitFailedWarning: Estimator fit failed. The score on this train-test partition for these parameters will be set to nan. Details: \n",
      "Traceback (most recent call last):\n",
      "  File \"/opt/conda/lib/python3.9/site-packages/sklearn/model_selection/_validation.py\", line 593, in _fit_and_score\n",
      "    estimator.fit(X_train, y_train, **fit_params)\n",
      "  File \"/opt/conda/lib/python3.9/site-packages/sklearn/linear_model/_logistic.py\", line 1306, in fit\n",
      "    solver = _check_solver(self.solver, self.penalty, self.dual)\n",
      "  File \"/opt/conda/lib/python3.9/site-packages/sklearn/linear_model/_logistic.py\", line 443, in _check_solver\n",
      "    raise ValueError(\"Solver %s supports only 'l2' or 'none' penalties, \"\n",
      "ValueError: Solver lbfgs supports only 'l2' or 'none' penalties, got l1 penalty.\n",
      "\n",
      "  warnings.warn(\"Estimator fit failed. The score on this train-test\"\n",
      "/opt/conda/lib/python3.9/site-packages/sklearn/model_selection/_validation.py:610: FitFailedWarning: Estimator fit failed. The score on this train-test partition for these parameters will be set to nan. Details: \n",
      "Traceback (most recent call last):\n",
      "  File \"/opt/conda/lib/python3.9/site-packages/sklearn/model_selection/_validation.py\", line 593, in _fit_and_score\n",
      "    estimator.fit(X_train, y_train, **fit_params)\n",
      "  File \"/opt/conda/lib/python3.9/site-packages/sklearn/linear_model/_logistic.py\", line 1306, in fit\n",
      "    solver = _check_solver(self.solver, self.penalty, self.dual)\n",
      "  File \"/opt/conda/lib/python3.9/site-packages/sklearn/linear_model/_logistic.py\", line 443, in _check_solver\n",
      "    raise ValueError(\"Solver %s supports only 'l2' or 'none' penalties, \"\n",
      "ValueError: Solver lbfgs supports only 'l2' or 'none' penalties, got l1 penalty.\n",
      "\n",
      "  warnings.warn(\"Estimator fit failed. The score on this train-test\"\n",
      "/opt/conda/lib/python3.9/site-packages/sklearn/model_selection/_validation.py:610: FitFailedWarning: Estimator fit failed. The score on this train-test partition for these parameters will be set to nan. Details: \n",
      "Traceback (most recent call last):\n",
      "  File \"/opt/conda/lib/python3.9/site-packages/sklearn/model_selection/_validation.py\", line 593, in _fit_and_score\n",
      "    estimator.fit(X_train, y_train, **fit_params)\n",
      "  File \"/opt/conda/lib/python3.9/site-packages/sklearn/linear_model/_logistic.py\", line 1306, in fit\n",
      "    solver = _check_solver(self.solver, self.penalty, self.dual)\n",
      "  File \"/opt/conda/lib/python3.9/site-packages/sklearn/linear_model/_logistic.py\", line 443, in _check_solver\n",
      "    raise ValueError(\"Solver %s supports only 'l2' or 'none' penalties, \"\n",
      "ValueError: Solver lbfgs supports only 'l2' or 'none' penalties, got l1 penalty.\n",
      "\n",
      "  warnings.warn(\"Estimator fit failed. The score on this train-test\"\n",
      "/opt/conda/lib/python3.9/site-packages/sklearn/model_selection/_search.py:918: UserWarning: One or more of the test scores are non-finite: [       nan 0.56732653 0.53602764 0.55941298 0.566377   0.56732653\n",
      " 0.56838004 0.56831487]\n",
      "  warnings.warn(\n"
     ]
    }
   ],
   "source": [
    "result = logistic_gsc.fit(features_train, target_train)"
   ]
  },
  {
   "cell_type": "code",
   "execution_count": 75,
   "metadata": {},
   "outputs": [
    {
     "name": "stdout",
     "output_type": "stream",
     "text": [
      "Best Score: 0.5683800371704394\n",
      "Best Hyperparameters: {'C': 10}\n"
     ]
    }
   ],
   "source": [
    "# посмотрим на результаты\n",
    "print('Best Score: %s' % result.best_score_)\n",
    "print('Best Hyperparameters: %s' % result.best_params_)"
   ]
  },
  {
   "cell_type": "code",
   "execution_count": 76,
   "metadata": {},
   "outputs": [
    {
     "data": {
      "image/png": "[encoded data removed]",
      "text/plain": [
       "<Figure size 432x288 with 2 Axes>"
      ]
     },
     "metadata": {},
     "output_type": "display_data"
    }
   ],
   "source": [
    "# построим матрицу ошибок\n",
    "\n",
    "predicted_valid_gsc = logistic_gsc.predict(features_valid)\n",
    "plot_confusion_matrix(estimator=logistic_gsc, X=features_valid, y_true=target_valid,\n",
    "                      normalize='true', cmap='Blues');"
   ]
  },
  {
   "cell_type": "code",
   "execution_count": 77,
   "metadata": {},
   "outputs": [
    {
     "name": "stdout",
     "output_type": "stream",
     "text": [
      "F1-score равно: 0.56\n",
      "\n",
      "Accuracy равно: 0.76\n",
      "\n",
      "Precision равно: 0.45\n",
      "\n",
      "Recall равно: 0.75\n"
     ]
    }
   ],
   "source": [
    "print('F1-score равно:',\\\n",
    "      f1_score(target_valid, predicted_valid_gsc).round(2)) # проверим качество модели\n",
    "print()\n",
    "print('Accuracy равно:',\\\n",
    "      accuracy_score(target_valid, predicted_valid_gsc).round(2))\n",
    "print()\n",
    "print('Precision равно:',\\\n",
    "      precision_score(target_valid, predicted_valid_gsc).round(2))\n",
    "print()\n",
    "print('Recall равно:',\\\n",
    "      recall_score(target_valid, predicted_valid_gsc).round(2))"
   ]
  },
  {
   "cell_type": "markdown",
   "metadata": {},
   "source": [
    "Проделанная работа с поиском гиперпараметров не позволила повысить `f1-score`. Попробуем поработать с устранением дисбаланса и сначала увеличим выборку с помощью `upsampling`. "
   ]
  },
  {
   "cell_type": "code",
   "execution_count": 78,
   "metadata": {},
   "outputs": [],
   "source": [
    "# создадим функцию для увеличения выборки\n",
    "def upsample(features, target, repeat):\n",
    "    features_zeros = features[target == 0]\n",
    "    features_ones = features[target == 1]\n",
    "    target_zeros = target[target == 0]\n",
    "    target_ones = target[target == 1]\n",
    "\n",
    "    features_upsampled = pd.concat([features_zeros] + [features_ones] * repeat)\n",
    "    target_upsampled = pd.concat([target_zeros] + [target_ones] * repeat)\n",
    "    \n",
    "    features_upsampled, target_upsampled = shuffle(\n",
    "        features_upsampled, target_upsampled, random_state=12345)\n",
    "    \n",
    "    return features_upsampled, target_upsampled"
   ]
  },
  {
   "cell_type": "code",
   "execution_count": 79,
   "metadata": {},
   "outputs": [
    {
     "name": "stdout",
     "output_type": "stream",
     "text": [
      "F1 на валидационной выборке: 0.47877758913412566\n"
     ]
    }
   ],
   "source": [
    "features_upsampled, target_upsampled = upsample(features_train, target_train, 10)\n",
    "\n",
    "logistic = LogisticRegression(random_state=12345, solver='liblinear', C=10)\n",
    "logistic.fit(features_upsampled, target_upsampled)\n",
    "\n",
    "predicted_valid = logistic.predict(features_valid)\n",
    "\n",
    "print(\"F1 на валидационной выборке:\", f1_score(target_valid, predicted_valid))"
   ]
  },
  {
   "cell_type": "code",
   "execution_count": 80,
   "metadata": {},
   "outputs": [
    {
     "data": {
      "image/png": "[encoded data removed]",
      "text/plain": [
       "<Figure size 432x288 with 2 Axes>"
      ]
     },
     "metadata": {},
     "output_type": "display_data"
    }
   ],
   "source": [
    "plot_confusion_matrix(estimator=logistic, X=features_valid, y_true=target_valid,\n",
    "                      normalize='true', cmap='Blues');"
   ]
  },
  {
   "cell_type": "markdown",
   "metadata": {},
   "source": [
    "Как-то странно, `f1-score` уменьшился. 🤔 Хотя при этом наша модель стала лучше предсказывать положительные значения (клиент уйдет из банка), но снизилось аккуратность предсказания отрицательных значений (группа 0 - клиент останется в банке). \n",
    "\n",
    "А если наоборот, уменьшить выборку. "
   ]
  },
  {
   "cell_type": "code",
   "execution_count": 81,
   "metadata": {},
   "outputs": [],
   "source": [
    "def downsample(features, target, fraction):\n",
    "    features_zeros = features[target == 0]\n",
    "    features_ones = features[target == 1]\n",
    "    target_zeros = target[target == 0]\n",
    "    target_ones = target[target == 1]\n",
    "\n",
    "    features_downsampled = pd.concat(\n",
    "        [features_zeros.sample(frac=fraction, random_state=12345)] + [features_ones])\n",
    "    target_downsampled = pd.concat(\n",
    "        [target_zeros.sample(frac=fraction, random_state=12345)] + [target_ones])\n",
    "    \n",
    "    features_downsampled, target_downsampled = shuffle(\n",
    "        features_downsampled, target_downsampled, random_state=12345)\n",
    "    \n",
    "    return features_downsampled, target_downsampled"
   ]
  },
  {
   "cell_type": "code",
   "execution_count": 82,
   "metadata": {},
   "outputs": [
    {
     "name": "stdout",
     "output_type": "stream",
     "text": [
      "F1: 0.4746621621621622\n"
     ]
    }
   ],
   "source": [
    "features_downsampled, target_downsampled = downsample(features_train, target_train, 0.1)\n",
    "\n",
    "logistic = LogisticRegression(random_state=12345, solver='liblinear', C=10)\n",
    "logistic.fit(features_downsampled, target_downsampled)\n",
    "predicted_valid = logistic.predict(features_valid)\n",
    "print(\"F1:\", f1_score(target_valid, predicted_valid))"
   ]
  },
  {
   "cell_type": "code",
   "execution_count": 83,
   "metadata": {},
   "outputs": [
    {
     "data": {
      "image/png": "[encoded data removed]",
      "text/plain": [
       "<Figure size 432x288 with 2 Axes>"
      ]
     },
     "metadata": {},
     "output_type": "display_data"
    }
   ],
   "source": [
    "plot_confusion_matrix(estimator=logistic, X=features_valid, y_true=target_valid,\n",
    "                      normalize='true', cmap='Blues');"
   ]
  },
  {
   "cell_type": "markdown",
   "metadata": {},
   "source": [
    "Результат получился таким же, как и при увеличении выборки. `F1-score` не улучшился. \n",
    "\n",
    "Пока самый лучший показатель `f1-score`, который получился равен `0,56`. Модель `LogisticRegression(random_state=12345, solver='liblinear', max_iter=1000, class_weight='balanced')`."
   ]
  },
  {
   "cell_type": "markdown",
   "metadata": {},
   "source": [
    "### Случайный лес\n",
    "\n",
    "Попробуем обучить модель `Random Forest`. "
   ]
  },
  {
   "cell_type": "code",
   "execution_count": 110,
   "metadata": {},
   "outputs": [],
   "source": [
    "forest = RandomForestClassifier()\n",
    "\n",
    "n_estimators = [int(x) for x in np.linspace(start = 10, stop = 100, num = 10)]\n",
    "\n",
    "max_depth = [int(x) for x in np.linspace(10, 110, num = 11)]\n",
    "\n",
    "rf_grid = {'n_estimators': n_estimators, 'max_depth': max_depth}\n",
    "\n",
    "\n",
    "forest_gsc = GridSearchCV(forest, rf_grid, scoring = 'f1', cv = 5, n_jobs=4)\n",
    "\n",
    "# fit the model\n",
    "result = forest_gsc.fit(features_train, target_train)"
   ]
  },
  {
   "cell_type": "code",
   "execution_count": 112,
   "metadata": {},
   "outputs": [
    {
     "name": "stdout",
     "output_type": "stream",
     "text": [
      "Random Forest Classifier лучшее значение метрики f1-score: 0.5838670635329928\n",
      "Random Forest Classifier лучшие гиперпараметры: {'max_depth': 110, 'n_estimators': 60}\n"
     ]
    }
   ],
   "source": [
    "# посмотрим на результаты\n",
    "print('Random Forest Classifier лучшее значение метрики f1-score: %s' % result.best_score_)\n",
    "print('Random Forest Classifier лучшие гиперпараметры: %s' % result.best_params_)"
   ]
  },
  {
   "cell_type": "markdown",
   "metadata": {},
   "source": [
    "Значение `f1-score` повысилось. Посмотрим какое значени принимает `f1-score` на валидационной выборке. "
   ]
  },
  {
   "cell_type": "code",
   "execution_count": 113,
   "metadata": {},
   "outputs": [],
   "source": [
    "predicted_valid_gsc = forest_gsc.predict(features_valid)"
   ]
  },
  {
   "cell_type": "code",
   "execution_count": 114,
   "metadata": {},
   "outputs": [
    {
     "name": "stdout",
     "output_type": "stream",
     "text": [
      "F1-score forest_gsc-модели равно: 0.61\n",
      "\n",
      "Accuracy forest_gsc-модели равно: 0.87\n",
      "\n",
      "Precision forest_gsc-модели равно: 0.82\n",
      "\n",
      "Recall forest_gsc-модели равно: 0.49\n"
     ]
    }
   ],
   "source": [
    "print('F1-score forest_gsc-модели равно:',\\\n",
    "      f1_score(target_valid, predicted_valid_gsc).round(2)) # проверим качество модели\n",
    "print()\n",
    "print('Accuracy forest_gsc-модели равно:',\\\n",
    "      accuracy_score(target_valid, predicted_valid_gsc).round(2))\n",
    "print()\n",
    "print('Precision forest_gsc-модели равно:',\\\n",
    "      precision_score(target_valid, predicted_valid_gsc).round(2))\n",
    "print()\n",
    "print('Recall forest_gsc-модели равно:',\\\n",
    "      recall_score(target_valid, predicted_valid_gsc).round(2))"
   ]
  },
  {
   "cell_type": "code",
   "execution_count": 115,
   "metadata": {},
   "outputs": [
    {
     "data": {
      "image/png": "[encoded data removed]",
      "text/plain": [
       "<Figure size 432x288 with 2 Axes>"
      ]
     },
     "metadata": {},
     "output_type": "display_data"
    }
   ],
   "source": [
    "plot_confusion_matrix(estimator=forest_gsc, X=features_valid, y_true=target_valid,\n",
    "                      normalize='true', cmap='Blues');"
   ]
  },
  {
   "cell_type": "markdown",
   "metadata": {},
   "source": [
    "Значение f1-score на валидационной выборке выше и равно `0.6`. \n",
    "\n",
    "Значение метрики `recall` невысокая. \n",
    "\n",
    "Как видим, из матрицы ошибок, модель отлично предсказывает отрицательные значения (группа 0), но аккуратность предсказаний положительных значений (группа 1) меньше 50%. \n",
    "\n",
    "Далее попробуем сбалансировать выборку и посмотрим на значения `f1-score`. Будем использовать модель `RandomForestClassifier` с гиперпараметрами, найденными при помощи `GridSearchCv`."
   ]
  },
  {
   "cell_type": "code",
   "execution_count": 118,
   "metadata": {},
   "outputs": [
    {
     "name": "stdout",
     "output_type": "stream",
     "text": [
      "F1: 0.6024096385542168\n"
     ]
    }
   ],
   "source": [
    "forest = RandomForestClassifier(n_estimators=110, max_depth=60, random_state=12345)\n",
    "\n",
    "forest.fit(features_train, target_train)\n",
    "predicted_valid = forest.predict(features_valid)\n",
    "\n",
    "print(\"F1:\", f1_score(target_valid, predicted_valid))\n",
    "\n"
   ]
  },
  {
   "cell_type": "code",
   "execution_count": 119,
   "metadata": {},
   "outputs": [
    {
     "data": {
      "image/png": "[encoded data removed]",
      "text/plain": [
       "<Figure size 432x288 with 2 Axes>"
      ]
     },
     "metadata": {},
     "output_type": "display_data"
    }
   ],
   "source": [
    "plot_confusion_matrix(estimator=forest, X=features_valid, y_true=target_valid,\n",
    "                      normalize='true', cmap='Blues');"
   ]
  },
  {
   "cell_type": "markdown",
   "metadata": {},
   "source": [
    "`F1-score` достигла `0,60`. Но как видно из матрицы ошибок, аккуратность предсказания положительных значений меньше 50%. \n",
    "\n",
    "Попробуем обучить модель на сбалансированных выборках. "
   ]
  },
  {
   "cell_type": "code",
   "execution_count": 120,
   "metadata": {},
   "outputs": [
    {
     "name": "stdout",
     "output_type": "stream",
     "text": [
      "F1: 0.4900086880973067\n"
     ]
    }
   ],
   "source": [
    "# посмотрим на уменьшенной выборке\n",
    "forest.fit(features_downsampled, target_downsampled)\n",
    "predicted_valid = forest.predict(features_valid)\n",
    "print(\"F1:\", f1_score(target_valid, predicted_valid))"
   ]
  },
  {
   "cell_type": "code",
   "execution_count": 121,
   "metadata": {},
   "outputs": [
    {
     "data": {
      "image/png": "[encoded data removed]",
      "text/plain": [
       "<Figure size 432x288 with 2 Axes>"
      ]
     },
     "metadata": {},
     "output_type": "display_data"
    }
   ],
   "source": [
    "plot_confusion_matrix(estimator=forest, X=features_valid, y_true=target_valid,\n",
    "                      normalize='true', cmap='Blues');"
   ]
  },
  {
   "cell_type": "markdown",
   "metadata": {},
   "source": [
    "При уменьшении выборки и обучении модели на ней только уменьшили показатель `f1-score`. Точность предсказания положительных значений довольно высока - `0,92`, однако отрицательные значения предсказывают только в 53% случаев.  \n",
    "\n",
    "Давайте проверим какое значени `f1-score` примет, если обучить модель на увеличенной выборке. "
   ]
  },
  {
   "cell_type": "code",
   "execution_count": 122,
   "metadata": {},
   "outputs": [
    {
     "name": "stdout",
     "output_type": "stream",
     "text": [
      "F1: 0.6219081272084805\n"
     ]
    }
   ],
   "source": [
    "forest.fit(features_upsampled, target_upsampled)\n",
    "predicted_valid = forest.predict(features_valid)\n",
    "\n",
    "print(\"F1:\", f1_score(target_valid, predicted_valid))"
   ]
  },
  {
   "cell_type": "code",
   "execution_count": 123,
   "metadata": {},
   "outputs": [
    {
     "data": {
      "image/png": "[encoded data removed]",
      "text/plain": [
       "<Figure size 432x288 with 2 Axes>"
      ]
     },
     "metadata": {},
     "output_type": "display_data"
    }
   ],
   "source": [
    "plot_confusion_matrix(estimator=forest, X=features_valid, y_true=target_valid,\n",
    "                      normalize='true', cmap='Blues');"
   ]
  },
  {
   "cell_type": "code",
   "execution_count": 124,
   "metadata": {},
   "outputs": [
    {
     "name": "stdout",
     "output_type": "stream",
     "text": [
      "Accuracy forest-модели равно: 0.86\n",
      "\n",
      "Precision forest-модели равно: 0.68\n",
      "\n",
      "Recall forest-модели равно: 0.58\n"
     ]
    }
   ],
   "source": [
    "print('Accuracy forest-модели равно:',\\\n",
    "      accuracy_score(target_valid, predicted_valid).round(2))\n",
    "print()\n",
    "print('Precision forest-модели равно:',\\\n",
    "      precision_score(target_valid, predicted_valid).round(2))\n",
    "print()\n",
    "print('Recall forest-модели равно:',\\\n",
    "      recall_score(target_valid, predicted_valid).round(2))"
   ]
  },
  {
   "cell_type": "markdown",
   "metadata": {},
   "source": [
    "Метрика `f1-score` получилась в этом случае самой высокой и достигает на валидационной выборке `0,62`. Хотя `recall` равен `0,58`. \n",
    "Проверим какое значение пример `f1-score` для тестовой выборки. "
   ]
  },
  {
   "cell_type": "markdown",
   "metadata": {},
   "source": [
    "## Проверка качества модели на тестовой выборке"
   ]
  },
  {
   "cell_type": "code",
   "execution_count": 125,
   "metadata": {},
   "outputs": [
    {
     "name": "stdout",
     "output_type": "stream",
     "text": [
      "F1-score наилучшей модели на тестовой выборке: 0.59\n"
     ]
    }
   ],
   "source": [
    "# обучите модель на тестовой выборке\n",
    "# forest.fit(features_train, target_train) \n",
    "\n",
    "predicted_train = forest.predict(features_test)\n",
    "\n",
    "print(\"F1-score наилучшей модели на тестовой выборке:\", \n",
    "      f1_score(target_test, predicted_train).round(2)) # оценим качество"
   ]
  },
  {
   "cell_type": "code",
   "execution_count": 126,
   "metadata": {},
   "outputs": [
    {
     "data": {
      "image/png": "[encoded data removed]",
      "text/plain": [
       "<Figure size 432x288 with 2 Axes>"
      ]
     },
     "metadata": {},
     "output_type": "display_data"
    }
   ],
   "source": [
    "plot_confusion_matrix(estimator=forest, X=features_test, y_true=target_test,\n",
    "                      normalize='true', cmap='Blues');"
   ]
  },
  {
   "cell_type": "markdown",
   "metadata": {},
   "source": [
    "\n",
    "`F1-score` на тестовой выборке достигла `0,59`. \n",
    "\n",
    "Хотя `recall` небольшой. Наша модель предсказывает группу 1 с точность 0,54. \n",
    "\n",
    "Дополнительно измерим AUC-ROC. "
   ]
  },
  {
   "cell_type": "code",
   "execution_count": 127,
   "metadata": {},
   "outputs": [
    {
     "name": "stdout",
     "output_type": "stream",
     "text": [
      "0.8403820468584784\n"
     ]
    }
   ],
   "source": [
    "# ПОПРАВИЛА с VALID на TEST\n",
    "\n",
    "probabilities_test = forest.predict_proba(features_test)\n",
    "probabilities_one_test = probabilities_test[:, 1]\n",
    "\n",
    "# < напишите код здесь >\n",
    "auc_roc = roc_auc_score(target_test, probabilities_one_test)\n",
    "\n",
    "print(auc_roc)"
   ]
  },
  {
   "cell_type": "code",
   "execution_count": 128,
   "metadata": {},
   "outputs": [
    {
     "data": {
      "image/png": "[encoded data removed]",
      "text/plain": [
       "<Figure size 432x288 with 1 Axes>"
      ]
     },
     "metadata": {},
     "output_type": "display_data"
    }
   ],
   "source": [
    "fpr, tpr, thresholds = roc_curve(target_test, probabilities_one_test) \n",
    "\n",
    "plt.figure()\n",
    "\n",
    "# < постройте график >\n",
    "plt.plot(fpr, tpr)\n",
    "# ROC-кривая случайной модели (выглядит как прямая)\n",
    "plt.plot([0, 1], [0, 1], linestyle='--')\n",
    "# установим границы осей от 0 до 1 >\n",
    "plt.xlim([0.0, 1.0])\n",
    "plt.ylim([0.0, 1.0])\n",
    "# подписшем оси \"False Positive Rate\" и \"True Positive Rate\" >\n",
    "plt.xlabel(\"False Positive Rate\")\n",
    "plt.ylabel(\"True Positive Rate\")\n",
    "# добавим заголовки\n",
    "plt.title(\"ROC-кривая\")\n",
    "plt.show()"
   ]
  },
  {
   "cell_type": "markdown",
   "metadata": {},
   "source": [
    "Проверим еще важность полученных весов. "
   ]
  },
  {
   "cell_type": "code",
   "execution_count": 129,
   "metadata": {},
   "outputs": [
    {
     "data": {
      "text/plain": [
       "array([0.14219812, 0.2213265 , 0.09429083, 0.15186448, 0.01752437,\n",
       "       0.0329141 , 0.14505227, 0.02707613, 0.0154485 , 0.02020371,\n",
       "       0.10801935, 0.01858465, 0.00549698])"
      ]
     },
     "execution_count": 129,
     "metadata": {},
     "output_type": "execute_result"
    }
   ],
   "source": [
    "forest.feature_importances_"
   ]
  },
  {
   "cell_type": "code",
   "execution_count": 130,
   "metadata": {},
   "outputs": [
    {
     "data": {
      "image/png": "[encoded data removed]",
      "text/plain": [
       "<Figure size 432x288 with 1 Axes>"
      ]
     },
     "metadata": {},
     "output_type": "display_data"
    }
   ],
   "source": [
    "feature_names = features_test.columns\n",
    "importances = forest.feature_importances_\n",
    "std = np.std([tree.feature_importances_ for tree in forest.estimators_], axis=0)\n",
    "\n",
    "forest_importances = pd.Series(importances, index=feature_names)\n",
    "\n",
    "fig, ax = plt.subplots()\n",
    "forest_importances.plot.bar(yerr=std, ax=ax)\n",
    "ax.set_title(\"Feature importances using MDI\")\n",
    "ax.set_ylabel(\"Mean decrease in impurity\")\n",
    "fig.tight_layout();"
   ]
  },
  {
   "cell_type": "markdown",
   "metadata": {},
   "source": [
    "Если смотреть на веса признаков, то наиболее важными признаками являются возраст (`age`), кредитный рейтинг (`credit_score`), баланс банковского счета (`balance`) и предполагаемая зарплата (`estimated_salary`)."
   ]
  },
  {
   "cell_type": "markdown",
   "metadata": {},
   "source": [
    "## Общий вывод"
   ]
  },
  {
   "cell_type": "markdown",
   "metadata": {},
   "source": [
    "Итак, в этом проекте мы построили модель RandomForestClassifier(n_estimators=110, max_depth=70, random_state=12345) со значением `f1-score` `0,59` на тестовой выборке. ROC-AUC равен `0,84`. "
   ]
  }
 ],
 "metadata": {
  "ExecuteTimeLog": [
   {
    "duration": 1875,
    "start_time": "2022-05-11T04:07:11.253Z"
   },
   {
    "duration": 3,
    "start_time": "2022-05-11T04:07:13.131Z"
   },
   {
    "duration": 43,
    "start_time": "2022-05-11T04:19:46.873Z"
   },
   {
    "duration": 17,
    "start_time": "2022-05-11T04:19:48.012Z"
   },
   {
    "duration": 16,
    "start_time": "2022-05-11T04:19:50.975Z"
   },
   {
    "duration": 8,
    "start_time": "2022-05-11T04:19:53.880Z"
   },
   {
    "duration": 5,
    "start_time": "2022-05-11T04:20:07.262Z"
   },
   {
    "duration": 6,
    "start_time": "2022-05-11T04:20:09.243Z"
   },
   {
    "duration": 8,
    "start_time": "2022-05-11T04:20:20.313Z"
   },
   {
    "duration": 701,
    "start_time": "2022-05-11T04:21:39.552Z"
   },
   {
    "duration": 7,
    "start_time": "2022-05-11T04:25:53.226Z"
   },
   {
    "duration": 9,
    "start_time": "2022-05-11T04:25:57.864Z"
   },
   {
    "duration": 8,
    "start_time": "2022-05-11T04:26:26.284Z"
   },
   {
    "duration": 13,
    "start_time": "2022-05-11T04:26:28.126Z"
   },
   {
    "duration": 7,
    "start_time": "2022-05-11T04:27:55.803Z"
   },
   {
    "duration": 9,
    "start_time": "2022-05-11T04:27:57.441Z"
   },
   {
    "duration": 6,
    "start_time": "2022-05-11T04:28:12.721Z"
   },
   {
    "duration": 8,
    "start_time": "2022-05-11T04:28:31.291Z"
   },
   {
    "duration": 112,
    "start_time": "2022-05-11T04:28:37.136Z"
   },
   {
    "duration": 201,
    "start_time": "2022-05-11T04:28:39.568Z"
   },
   {
    "duration": 233,
    "start_time": "2022-05-11T04:29:39.364Z"
   },
   {
    "duration": 7,
    "start_time": "2022-05-11T04:29:40.026Z"
   },
   {
    "duration": 111,
    "start_time": "2022-05-11T04:29:40.706Z"
   },
   {
    "duration": 107,
    "start_time": "2022-05-11T04:29:47.529Z"
   },
   {
    "duration": 109,
    "start_time": "2022-05-11T04:29:48.048Z"
   },
   {
    "duration": 122,
    "start_time": "2022-05-11T04:29:49.086Z"
   },
   {
    "duration": 4,
    "start_time": "2022-05-11T04:30:58.224Z"
   },
   {
    "duration": 115,
    "start_time": "2022-05-11T04:31:00.533Z"
   },
   {
    "duration": 112,
    "start_time": "2022-05-11T04:31:03.639Z"
   },
   {
    "duration": 135,
    "start_time": "2022-05-11T04:31:06.399Z"
   },
   {
    "duration": 5,
    "start_time": "2022-05-11T04:31:22.407Z"
   },
   {
    "duration": 4,
    "start_time": "2022-05-11T04:31:24.132Z"
   },
   {
    "duration": 5,
    "start_time": "2022-05-11T04:31:26.988Z"
   },
   {
    "duration": 4,
    "start_time": "2022-05-11T04:31:27.889Z"
   },
   {
    "duration": 13,
    "start_time": "2022-05-11T04:31:40.921Z"
   },
   {
    "duration": 12,
    "start_time": "2022-05-11T04:31:41.854Z"
   },
   {
    "duration": 3,
    "start_time": "2022-05-11T04:32:10.515Z"
   },
   {
    "duration": 30,
    "start_time": "2022-05-11T04:32:29.639Z"
   },
   {
    "duration": 7,
    "start_time": "2022-05-11T04:34:37.246Z"
   },
   {
    "duration": 25,
    "start_time": "2022-05-11T04:34:46.784Z"
   },
   {
    "duration": 776,
    "start_time": "2022-05-11T04:34:50.367Z"
   },
   {
    "duration": 14,
    "start_time": "2022-05-11T04:34:57.155Z"
   },
   {
    "duration": 7,
    "start_time": "2022-05-11T04:35:01.069Z"
   },
   {
    "duration": 7,
    "start_time": "2022-05-11T04:35:04.485Z"
   },
   {
    "duration": 7,
    "start_time": "2022-05-11T04:35:05.187Z"
   },
   {
    "duration": 7,
    "start_time": "2022-05-11T04:35:06.612Z"
   },
   {
    "duration": 8,
    "start_time": "2022-05-11T04:35:07.026Z"
   },
   {
    "duration": 16,
    "start_time": "2022-05-11T04:35:24.200Z"
   },
   {
    "duration": 15,
    "start_time": "2022-05-11T04:35:39.516Z"
   },
   {
    "duration": 370,
    "start_time": "2022-05-11T04:35:47.495Z"
   },
   {
    "duration": 29,
    "start_time": "2022-05-11T04:35:51.471Z"
   },
   {
    "duration": 3,
    "start_time": "2022-05-11T04:36:14.022Z"
   },
   {
    "duration": 23,
    "start_time": "2022-05-11T04:36:21.817Z"
   },
   {
    "duration": 6,
    "start_time": "2022-05-11T04:36:22.500Z"
   },
   {
    "duration": 11,
    "start_time": "2022-05-11T04:36:35.426Z"
   },
   {
    "duration": 12,
    "start_time": "2022-05-11T04:37:00.945Z"
   },
   {
    "duration": 1395,
    "start_time": "2022-05-11T04:37:43.237Z"
   },
   {
    "duration": 13,
    "start_time": "2022-05-11T04:37:48.866Z"
   },
   {
    "duration": 7,
    "start_time": "2022-05-11T04:38:00.633Z"
   },
   {
    "duration": 293,
    "start_time": "2022-05-11T04:39:09.866Z"
   },
   {
    "duration": 275,
    "start_time": "2022-05-11T04:39:37.850Z"
   },
   {
    "duration": 15,
    "start_time": "2022-05-11T04:39:50.035Z"
   },
   {
    "duration": 1523,
    "start_time": "2022-05-11T04:40:40.927Z"
   },
   {
    "duration": 122,
    "start_time": "2022-05-11T04:43:16.124Z"
   },
   {
    "duration": 7,
    "start_time": "2022-05-11T04:43:20.469Z"
   },
   {
    "duration": 31,
    "start_time": "2022-05-11T04:43:22.456Z"
   },
   {
    "duration": 15,
    "start_time": "2022-05-11T04:43:31.402Z"
   },
   {
    "duration": 29,
    "start_time": "2022-05-11T05:00:58.511Z"
   },
   {
    "duration": 14,
    "start_time": "2022-05-11T05:01:02.587Z"
   },
   {
    "duration": 311,
    "start_time": "2022-05-11T05:01:18.756Z"
   },
   {
    "duration": 33,
    "start_time": "2022-05-11T05:01:42.564Z"
   },
   {
    "duration": 16,
    "start_time": "2022-05-11T05:01:43.856Z"
   },
   {
    "duration": 309,
    "start_time": "2022-05-11T05:01:50.170Z"
   },
   {
    "duration": 12,
    "start_time": "2022-05-11T05:12:00.435Z"
   },
   {
    "duration": 3,
    "start_time": "2022-05-11T05:12:07.752Z"
   },
   {
    "duration": 7541,
    "start_time": "2022-05-11T05:12:08.395Z"
   },
   {
    "duration": 4,
    "start_time": "2022-05-11T05:12:26.608Z"
   },
   {
    "duration": 326,
    "start_time": "2022-05-11T05:12:29.550Z"
   },
   {
    "duration": 2264,
    "start_time": "2022-05-11T05:12:53.178Z"
   },
   {
    "duration": 4,
    "start_time": "2022-05-11T05:13:56.345Z"
   },
   {
    "duration": 2607,
    "start_time": "2022-05-11T05:13:57.033Z"
   },
   {
    "duration": 3,
    "start_time": "2022-05-11T05:14:01.129Z"
   },
   {
    "duration": 16,
    "start_time": "2022-05-11T05:14:20.830Z"
   },
   {
    "duration": 5,
    "start_time": "2022-05-11T05:15:07.915Z"
   },
   {
    "duration": 152,
    "start_time": "2022-05-11T05:15:09.682Z"
   },
   {
    "duration": 303,
    "start_time": "2022-05-11T05:15:15.398Z"
   },
   {
    "duration": 5,
    "start_time": "2022-05-11T05:15:45.503Z"
   },
   {
    "duration": 33,
    "start_time": "2022-05-11T05:15:49.550Z"
   },
   {
    "duration": 361,
    "start_time": "2022-05-11T05:15:52.314Z"
   },
   {
    "duration": 258510,
    "start_time": "2022-05-11T05:16:20.491Z"
   },
   {
    "duration": 4,
    "start_time": "2022-05-11T05:21:49.493Z"
   },
   {
    "duration": 60,
    "start_time": "2022-05-11T05:21:52.621Z"
   },
   {
    "duration": 14,
    "start_time": "2022-05-11T05:21:53.211Z"
   },
   {
    "duration": 9,
    "start_time": "2022-05-11T05:24:05.677Z"
   },
   {
    "duration": 870,
    "start_time": "2022-05-11T05:24:06.473Z"
   },
   {
    "duration": 204,
    "start_time": "2022-05-11T05:24:07.367Z"
   },
   {
    "duration": 71,
    "start_time": "2022-05-11T05:24:14.157Z"
   },
   {
    "duration": 127,
    "start_time": "2022-05-11T05:24:16.775Z"
   },
   {
    "duration": 201,
    "start_time": "2022-05-11T12:23:21.179Z"
   },
   {
    "duration": 4979,
    "start_time": "2022-05-11T12:48:14.567Z"
   },
   {
    "duration": 3,
    "start_time": "2022-05-11T12:48:19.551Z"
   },
   {
    "duration": 186,
    "start_time": "2022-05-11T12:48:19.556Z"
   },
   {
    "duration": 33,
    "start_time": "2022-05-11T12:48:19.745Z"
   },
   {
    "duration": 43,
    "start_time": "2022-05-11T12:48:19.780Z"
   },
   {
    "duration": 37,
    "start_time": "2022-05-11T12:48:19.826Z"
   },
   {
    "duration": 71,
    "start_time": "2022-05-11T12:48:19.865Z"
   },
   {
    "duration": 96,
    "start_time": "2022-05-11T12:48:19.938Z"
   },
   {
    "duration": 11,
    "start_time": "2022-05-11T12:48:20.036Z"
   },
   {
    "duration": 57,
    "start_time": "2022-05-11T12:48:20.052Z"
   },
   {
    "duration": 34,
    "start_time": "2022-05-11T12:48:20.111Z"
   },
   {
    "duration": 124,
    "start_time": "2022-05-11T12:48:20.147Z"
   },
   {
    "duration": 1085,
    "start_time": "2022-05-11T12:48:20.274Z"
   },
   {
    "duration": 1054,
    "start_time": "2022-05-11T12:48:21.361Z"
   },
   {
    "duration": 9,
    "start_time": "2022-05-11T12:48:22.417Z"
   },
   {
    "duration": 33,
    "start_time": "2022-05-11T12:48:22.427Z"
   },
   {
    "duration": 42,
    "start_time": "2022-05-11T12:48:22.463Z"
   },
   {
    "duration": 18,
    "start_time": "2022-05-11T12:48:22.507Z"
   },
   {
    "duration": 6,
    "start_time": "2022-05-11T12:48:22.526Z"
   },
   {
    "duration": 19,
    "start_time": "2022-05-11T12:48:22.534Z"
   },
   {
    "duration": 21,
    "start_time": "2022-05-11T12:48:22.557Z"
   },
   {
    "duration": 42,
    "start_time": "2022-05-11T12:48:22.580Z"
   },
   {
    "duration": 115,
    "start_time": "2022-05-11T12:48:22.623Z"
   },
   {
    "duration": 162,
    "start_time": "2022-05-11T12:48:22.740Z"
   },
   {
    "duration": 307,
    "start_time": "2022-05-11T12:48:22.904Z"
   },
   {
    "duration": 6,
    "start_time": "2022-05-11T12:48:23.222Z"
   },
   {
    "duration": 125,
    "start_time": "2022-05-11T12:48:23.230Z"
   },
   {
    "duration": 129,
    "start_time": "2022-05-11T12:48:23.359Z"
   },
   {
    "duration": 128,
    "start_time": "2022-05-11T12:48:23.491Z"
   },
   {
    "duration": 162,
    "start_time": "2022-05-11T12:48:23.626Z"
   },
   {
    "duration": 6,
    "start_time": "2022-05-11T12:48:23.789Z"
   },
   {
    "duration": 29,
    "start_time": "2022-05-11T12:48:23.797Z"
   },
   {
    "duration": 9,
    "start_time": "2022-05-11T12:48:23.828Z"
   },
   {
    "duration": 17,
    "start_time": "2022-05-11T12:48:23.839Z"
   },
   {
    "duration": 70,
    "start_time": "2022-05-11T12:48:23.857Z"
   },
   {
    "duration": 13,
    "start_time": "2022-05-11T12:48:23.929Z"
   },
   {
    "duration": 63,
    "start_time": "2022-05-11T12:48:23.944Z"
   },
   {
    "duration": 26,
    "start_time": "2022-05-11T12:48:24.009Z"
   },
   {
    "duration": 86,
    "start_time": "2022-05-11T12:48:24.038Z"
   },
   {
    "duration": 32,
    "start_time": "2022-05-11T12:48:24.127Z"
   },
   {
    "duration": 6,
    "start_time": "2022-05-11T14:53:50.458Z"
   },
   {
    "duration": 21,
    "start_time": "2022-05-11T14:53:52.773Z"
   },
   {
    "duration": 688,
    "start_time": "2022-05-11T14:53:54.415Z"
   },
   {
    "duration": 10,
    "start_time": "2022-05-11T14:53:55.137Z"
   },
   {
    "duration": 6,
    "start_time": "2022-05-11T14:53:55.821Z"
   },
   {
    "duration": 7,
    "start_time": "2022-05-11T14:53:56.455Z"
   },
   {
    "duration": 5,
    "start_time": "2022-05-11T14:53:56.865Z"
   },
   {
    "duration": 5,
    "start_time": "2022-05-11T14:53:57.274Z"
   },
   {
    "duration": 6,
    "start_time": "2022-05-11T14:53:57.576Z"
   },
   {
    "duration": 13,
    "start_time": "2022-05-11T14:53:59.821Z"
   },
   {
    "duration": 12,
    "start_time": "2022-05-11T14:54:00.193Z"
   },
   {
    "duration": 321,
    "start_time": "2022-05-11T14:54:00.730Z"
   },
   {
    "duration": 22,
    "start_time": "2022-05-11T14:54:01.165Z"
   },
   {
    "duration": 3,
    "start_time": "2022-05-11T14:54:01.978Z"
   },
   {
    "duration": 14,
    "start_time": "2022-05-11T14:56:31.960Z"
   },
   {
    "duration": 6,
    "start_time": "2022-05-11T14:56:42.206Z"
   },
   {
    "duration": 12,
    "start_time": "2022-05-11T14:56:43.831Z"
   },
   {
    "duration": 961,
    "start_time": "2022-05-11T15:17:51.012Z"
   },
   {
    "duration": 690,
    "start_time": "2022-05-11T15:17:58.005Z"
   },
   {
    "duration": 15,
    "start_time": "2022-05-11T15:18:06.028Z"
   },
   {
    "duration": 7,
    "start_time": "2022-05-11T15:18:12.197Z"
   },
   {
    "duration": 283,
    "start_time": "2022-05-11T15:20:47.395Z"
   },
   {
    "duration": 137,
    "start_time": "2022-05-11T15:28:04.998Z"
   },
   {
    "duration": 155,
    "start_time": "2022-05-11T15:28:20.350Z"
   },
   {
    "duration": 1496,
    "start_time": "2022-05-11T18:40:22.017Z"
   },
   {
    "duration": 3,
    "start_time": "2022-05-11T18:40:23.515Z"
   },
   {
    "duration": 30,
    "start_time": "2022-05-11T18:40:23.519Z"
   },
   {
    "duration": 15,
    "start_time": "2022-05-11T18:40:23.551Z"
   },
   {
    "duration": 16,
    "start_time": "2022-05-11T18:40:23.571Z"
   },
   {
    "duration": 7,
    "start_time": "2022-05-11T18:40:23.589Z"
   },
   {
    "duration": 8,
    "start_time": "2022-05-11T18:40:23.597Z"
   },
   {
    "duration": 7,
    "start_time": "2022-05-11T18:40:23.606Z"
   },
   {
    "duration": 9,
    "start_time": "2022-05-11T18:40:23.614Z"
   },
   {
    "duration": 12,
    "start_time": "2022-05-11T18:40:23.624Z"
   },
   {
    "duration": 29,
    "start_time": "2022-05-11T18:40:23.638Z"
   },
   {
    "duration": 33,
    "start_time": "2022-05-11T18:40:23.669Z"
   },
   {
    "duration": 588,
    "start_time": "2022-05-11T18:40:23.703Z"
   },
   {
    "duration": 759,
    "start_time": "2022-05-11T18:40:24.294Z"
   },
   {
    "duration": 11,
    "start_time": "2022-05-11T18:40:25.055Z"
   },
   {
    "duration": 27,
    "start_time": "2022-05-11T18:40:25.067Z"
   },
   {
    "duration": 6,
    "start_time": "2022-05-11T18:40:25.096Z"
   },
   {
    "duration": 12,
    "start_time": "2022-05-11T18:40:25.104Z"
   },
   {
    "duration": 5,
    "start_time": "2022-05-11T18:40:25.118Z"
   },
   {
    "duration": 9,
    "start_time": "2022-05-11T18:40:25.125Z"
   },
   {
    "duration": 6,
    "start_time": "2022-05-11T18:40:25.135Z"
   },
   {
    "duration": 32,
    "start_time": "2022-05-11T18:40:25.143Z"
   },
   {
    "duration": 94,
    "start_time": "2022-05-11T18:40:25.180Z"
   },
   {
    "duration": 107,
    "start_time": "2022-05-11T18:40:25.276Z"
   },
   {
    "duration": 231,
    "start_time": "2022-05-11T18:40:25.385Z"
   },
   {
    "duration": 6,
    "start_time": "2022-05-11T18:40:25.617Z"
   },
   {
    "duration": 101,
    "start_time": "2022-05-11T18:40:25.624Z"
   },
   {
    "duration": 100,
    "start_time": "2022-05-11T18:40:25.726Z"
   },
   {
    "duration": 107,
    "start_time": "2022-05-11T18:40:25.828Z"
   },
   {
    "duration": 114,
    "start_time": "2022-05-11T18:40:25.936Z"
   },
   {
    "duration": 4,
    "start_time": "2022-05-11T18:40:26.052Z"
   },
   {
    "duration": 22,
    "start_time": "2022-05-11T18:40:26.062Z"
   },
   {
    "duration": 9,
    "start_time": "2022-05-11T18:40:26.085Z"
   },
   {
    "duration": 9,
    "start_time": "2022-05-11T18:40:26.095Z"
   },
   {
    "duration": 18,
    "start_time": "2022-05-11T18:40:26.106Z"
   },
   {
    "duration": 11,
    "start_time": "2022-05-11T18:40:26.125Z"
   },
   {
    "duration": 15,
    "start_time": "2022-05-11T18:40:26.138Z"
   },
   {
    "duration": 4,
    "start_time": "2022-05-11T18:40:26.155Z"
   },
   {
    "duration": 44,
    "start_time": "2022-05-11T18:40:26.160Z"
   },
   {
    "duration": 10,
    "start_time": "2022-05-11T18:40:26.206Z"
   },
   {
    "duration": 5,
    "start_time": "2022-05-11T18:40:26.220Z"
   },
   {
    "duration": 27,
    "start_time": "2022-05-11T18:40:26.227Z"
   },
   {
    "duration": 766,
    "start_time": "2022-05-11T18:40:26.255Z"
   },
   {
    "duration": 11,
    "start_time": "2022-05-11T18:40:27.023Z"
   },
   {
    "duration": 5,
    "start_time": "2022-05-11T18:40:27.036Z"
   },
   {
    "duration": 26,
    "start_time": "2022-05-11T18:40:27.043Z"
   },
   {
    "duration": 20,
    "start_time": "2022-05-11T18:40:27.071Z"
   },
   {
    "duration": 7,
    "start_time": "2022-05-11T18:40:27.093Z"
   },
   {
    "duration": 10,
    "start_time": "2022-05-11T18:40:27.101Z"
   },
   {
    "duration": 13,
    "start_time": "2022-05-11T18:40:27.113Z"
   },
   {
    "duration": 12,
    "start_time": "2022-05-11T18:40:27.128Z"
   },
   {
    "duration": 307,
    "start_time": "2022-05-11T18:40:27.141Z"
   },
   {
    "duration": 39,
    "start_time": "2022-05-11T18:40:27.449Z"
   },
   {
    "duration": 14,
    "start_time": "2022-05-11T18:40:27.490Z"
   },
   {
    "duration": 6,
    "start_time": "2022-05-11T18:40:27.506Z"
   },
   {
    "duration": 125,
    "start_time": "2022-05-11T18:40:27.514Z"
   },
   {
    "duration": 0,
    "start_time": "2022-05-11T18:40:27.640Z"
   },
   {
    "duration": 0,
    "start_time": "2022-05-11T18:40:27.641Z"
   },
   {
    "duration": 0,
    "start_time": "2022-05-11T18:40:27.642Z"
   },
   {
    "duration": 0,
    "start_time": "2022-05-11T18:40:27.644Z"
   },
   {
    "duration": 0,
    "start_time": "2022-05-11T18:40:27.645Z"
   },
   {
    "duration": 9,
    "start_time": "2022-05-11T18:40:39.694Z"
   },
   {
    "duration": 8,
    "start_time": "2022-05-11T18:40:43.653Z"
   },
   {
    "duration": 729,
    "start_time": "2022-05-11T18:40:47.150Z"
   },
   {
    "duration": 622,
    "start_time": "2022-05-11T18:40:50.979Z"
   },
   {
    "duration": 10,
    "start_time": "2022-05-11T18:40:52.527Z"
   },
   {
    "duration": 6,
    "start_time": "2022-05-11T18:40:56.087Z"
   },
   {
    "duration": 132,
    "start_time": "2022-05-11T18:40:58.779Z"
   },
   {
    "duration": 218,
    "start_time": "2022-05-11T18:41:03.803Z"
   },
   {
    "duration": 14,
    "start_time": "2022-05-11T18:41:07.228Z"
   },
   {
    "duration": 20,
    "start_time": "2022-05-11T18:41:54.667Z"
   },
   {
    "duration": 13,
    "start_time": "2022-05-11T18:42:03.890Z"
   },
   {
    "duration": 20,
    "start_time": "2022-05-11T18:42:15.350Z"
   },
   {
    "duration": 21,
    "start_time": "2022-05-11T18:42:28.545Z"
   },
   {
    "duration": 14,
    "start_time": "2022-05-11T18:44:54.093Z"
   },
   {
    "duration": 14,
    "start_time": "2022-05-11T18:45:41.748Z"
   },
   {
    "duration": 23,
    "start_time": "2022-05-11T18:45:57.442Z"
   },
   {
    "duration": 11,
    "start_time": "2022-05-11T18:46:13.452Z"
   },
   {
    "duration": 4,
    "start_time": "2022-05-11T18:46:53.039Z"
   },
   {
    "duration": 23,
    "start_time": "2022-05-11T18:46:59.432Z"
   },
   {
    "duration": 19,
    "start_time": "2022-05-11T18:47:05.478Z"
   },
   {
    "duration": 27,
    "start_time": "2022-05-11T18:48:15.549Z"
   },
   {
    "duration": 1385,
    "start_time": "2022-05-11T18:48:21.038Z"
   },
   {
    "duration": 1315,
    "start_time": "2022-05-11T18:48:45.618Z"
   },
   {
    "duration": 16,
    "start_time": "2022-05-11T18:49:23.229Z"
   },
   {
    "duration": 4,
    "start_time": "2022-05-11T18:49:30.882Z"
   },
   {
    "duration": 114,
    "start_time": "2022-05-11T18:49:33.250Z"
   },
   {
    "duration": 11,
    "start_time": "2022-05-11T18:49:34.733Z"
   },
   {
    "duration": 492,
    "start_time": "2022-05-11T18:49:38.875Z"
   },
   {
    "duration": 47,
    "start_time": "2022-05-11T18:50:23.143Z"
   },
   {
    "duration": 10,
    "start_time": "2022-05-11T18:50:24.000Z"
   },
   {
    "duration": 312,
    "start_time": "2022-05-11T18:50:26.353Z"
   },
   {
    "duration": 4,
    "start_time": "2022-05-11T18:50:36.067Z"
   },
   {
    "duration": 6718,
    "start_time": "2022-05-11T18:50:37.043Z"
   },
   {
    "duration": 3,
    "start_time": "2022-05-11T18:50:43.775Z"
   },
   {
    "duration": 283,
    "start_time": "2022-05-11T18:50:51.992Z"
   },
   {
    "duration": 11,
    "start_time": "2022-05-11T18:50:55.828Z"
   },
   {
    "duration": 4,
    "start_time": "2022-05-11T18:50:59.407Z"
   },
   {
    "duration": 141,
    "start_time": "2022-05-11T18:51:04.449Z"
   },
   {
    "duration": 277,
    "start_time": "2022-05-11T18:51:06.709Z"
   },
   {
    "duration": 4,
    "start_time": "2022-05-11T18:51:15.213Z"
   },
   {
    "duration": 102,
    "start_time": "2022-05-11T18:51:16.261Z"
   },
   {
    "duration": 307,
    "start_time": "2022-05-11T18:51:17.743Z"
   },
   {
    "duration": 253224,
    "start_time": "2022-05-11T18:51:25.096Z"
   },
   {
    "duration": 131,
    "start_time": "2022-05-11T18:55:38.323Z"
   },
   {
    "duration": 3,
    "start_time": "2022-05-11T18:56:46.808Z"
   },
   {
    "duration": 52,
    "start_time": "2022-05-11T18:56:49.980Z"
   },
   {
    "duration": 13,
    "start_time": "2022-05-11T18:56:50.832Z"
   },
   {
    "duration": 233,
    "start_time": "2022-05-11T18:56:53.269Z"
   },
   {
    "duration": 960,
    "start_time": "2022-05-11T18:57:07.157Z"
   },
   {
    "duration": 213,
    "start_time": "2022-05-11T18:57:09.583Z"
   },
   {
    "duration": 307,
    "start_time": "2022-05-11T18:57:15.208Z"
   },
   {
    "duration": 176,
    "start_time": "2022-05-11T18:57:19.945Z"
   },
   {
    "duration": 1610,
    "start_time": "2022-05-11T18:58:24.568Z"
   },
   {
    "duration": 183,
    "start_time": "2022-05-11T18:58:26.927Z"
   },
   {
    "duration": 12,
    "start_time": "2022-05-11T18:58:29.978Z"
   },
   {
    "duration": 775,
    "start_time": "2022-05-11T18:58:49.211Z"
   },
   {
    "duration": 156,
    "start_time": "2022-05-11T18:58:51.593Z"
   },
   {
    "duration": 46,
    "start_time": "2022-05-11T18:59:07.075Z"
   },
   {
    "duration": 111,
    "start_time": "2022-05-11T18:59:08.862Z"
   },
   {
    "duration": 25,
    "start_time": "2022-05-11T18:59:11.647Z"
   },
   {
    "duration": 431,
    "start_time": "2022-05-11T18:59:14.857Z"
   },
   {
    "duration": 1587,
    "start_time": "2022-05-11T20:27:02.458Z"
   },
   {
    "duration": 4,
    "start_time": "2022-05-11T20:27:04.047Z"
   },
   {
    "duration": 33,
    "start_time": "2022-05-11T20:27:04.052Z"
   },
   {
    "duration": 14,
    "start_time": "2022-05-11T20:27:04.086Z"
   },
   {
    "duration": 14,
    "start_time": "2022-05-11T20:27:04.102Z"
   },
   {
    "duration": 7,
    "start_time": "2022-05-11T20:27:04.118Z"
   },
   {
    "duration": 5,
    "start_time": "2022-05-11T20:27:04.126Z"
   },
   {
    "duration": 10,
    "start_time": "2022-05-11T20:27:04.132Z"
   },
   {
    "duration": 9,
    "start_time": "2022-05-11T20:27:04.161Z"
   },
   {
    "duration": 16,
    "start_time": "2022-05-11T20:27:04.172Z"
   },
   {
    "duration": 4,
    "start_time": "2022-05-11T20:27:04.190Z"
   },
   {
    "duration": 27,
    "start_time": "2022-05-11T20:27:04.196Z"
   },
   {
    "duration": 586,
    "start_time": "2022-05-11T20:27:04.225Z"
   },
   {
    "duration": 706,
    "start_time": "2022-05-11T20:27:04.814Z"
   },
   {
    "duration": 9,
    "start_time": "2022-05-11T20:27:05.522Z"
   },
   {
    "duration": 10,
    "start_time": "2022-05-11T20:27:05.532Z"
   },
   {
    "duration": 25,
    "start_time": "2022-05-11T20:27:05.544Z"
   },
   {
    "duration": 11,
    "start_time": "2022-05-11T20:27:05.571Z"
   },
   {
    "duration": 6,
    "start_time": "2022-05-11T20:27:05.583Z"
   },
   {
    "duration": 8,
    "start_time": "2022-05-11T20:27:05.591Z"
   },
   {
    "duration": 6,
    "start_time": "2022-05-11T20:27:05.600Z"
   },
   {
    "duration": 9,
    "start_time": "2022-05-11T20:27:05.608Z"
   },
   {
    "duration": 175,
    "start_time": "2022-05-11T20:27:05.619Z"
   },
   {
    "duration": 169,
    "start_time": "2022-05-11T20:27:05.797Z"
   },
   {
    "duration": 358,
    "start_time": "2022-05-11T20:27:05.968Z"
   },
   {
    "duration": 8,
    "start_time": "2022-05-11T20:27:06.328Z"
   },
   {
    "duration": 149,
    "start_time": "2022-05-11T20:27:06.338Z"
   },
   {
    "duration": 97,
    "start_time": "2022-05-11T20:27:06.489Z"
   },
   {
    "duration": 93,
    "start_time": "2022-05-11T20:27:06.588Z"
   },
   {
    "duration": 110,
    "start_time": "2022-05-11T20:27:06.683Z"
   },
   {
    "duration": 6,
    "start_time": "2022-05-11T20:27:06.796Z"
   },
   {
    "duration": 10,
    "start_time": "2022-05-11T20:27:06.803Z"
   },
   {
    "duration": 7,
    "start_time": "2022-05-11T20:27:06.814Z"
   },
   {
    "duration": 5,
    "start_time": "2022-05-11T20:27:06.823Z"
   },
   {
    "duration": 34,
    "start_time": "2022-05-11T20:27:06.830Z"
   },
   {
    "duration": 15,
    "start_time": "2022-05-11T20:27:06.866Z"
   },
   {
    "duration": 16,
    "start_time": "2022-05-11T20:27:06.883Z"
   },
   {
    "duration": 3,
    "start_time": "2022-05-11T20:27:06.901Z"
   },
   {
    "duration": 26,
    "start_time": "2022-05-11T20:27:06.906Z"
   },
   {
    "duration": 30,
    "start_time": "2022-05-11T20:27:06.934Z"
   },
   {
    "duration": 6,
    "start_time": "2022-05-11T20:27:06.969Z"
   },
   {
    "duration": 21,
    "start_time": "2022-05-11T20:27:06.976Z"
   },
   {
    "duration": 1218,
    "start_time": "2022-05-11T20:27:06.999Z"
   },
   {
    "duration": 12,
    "start_time": "2022-05-11T20:27:08.220Z"
   },
   {
    "duration": 10,
    "start_time": "2022-05-11T20:27:08.233Z"
   },
   {
    "duration": 22,
    "start_time": "2022-05-11T20:27:08.245Z"
   },
   {
    "duration": 9,
    "start_time": "2022-05-11T20:27:08.269Z"
   },
   {
    "duration": 10,
    "start_time": "2022-05-11T20:27:08.280Z"
   },
   {
    "duration": 6,
    "start_time": "2022-05-11T20:27:08.292Z"
   },
   {
    "duration": 15,
    "start_time": "2022-05-11T20:27:08.300Z"
   },
   {
    "duration": 14,
    "start_time": "2022-05-11T20:27:08.317Z"
   },
   {
    "duration": 302,
    "start_time": "2022-05-11T20:27:08.333Z"
   },
   {
    "duration": 42,
    "start_time": "2022-05-11T20:27:08.637Z"
   },
   {
    "duration": 15,
    "start_time": "2022-05-11T20:27:08.681Z"
   },
   {
    "duration": 6,
    "start_time": "2022-05-11T20:27:08.698Z"
   },
   {
    "duration": 9,
    "start_time": "2022-05-11T20:27:08.706Z"
   },
   {
    "duration": 10,
    "start_time": "2022-05-11T20:27:08.716Z"
   },
   {
    "duration": 718,
    "start_time": "2022-05-11T20:27:08.728Z"
   },
   {
    "duration": 441,
    "start_time": "2022-05-11T20:27:09.448Z"
   },
   {
    "duration": 11,
    "start_time": "2022-05-11T20:27:09.890Z"
   },
   {
    "duration": 13,
    "start_time": "2022-05-11T20:27:09.904Z"
   },
   {
    "duration": 139,
    "start_time": "2022-05-11T20:27:09.918Z"
   },
   {
    "duration": 250,
    "start_time": "2022-05-11T20:27:10.062Z"
   },
   {
    "duration": 15,
    "start_time": "2022-05-11T20:27:10.314Z"
   },
   {
    "duration": 1196,
    "start_time": "2022-05-11T20:27:10.331Z"
   },
   {
    "duration": 7,
    "start_time": "2022-05-11T20:27:11.529Z"
   },
   {
    "duration": 40,
    "start_time": "2022-05-11T20:27:11.537Z"
   },
   {
    "duration": 98,
    "start_time": "2022-05-11T20:27:11.579Z"
   },
   {
    "duration": 392,
    "start_time": "2022-05-11T20:27:11.679Z"
   },
   {
    "duration": 25,
    "start_time": "2022-05-11T20:27:12.073Z"
   },
   {
    "duration": 75,
    "start_time": "2022-05-11T20:27:12.100Z"
   },
   {
    "duration": 468,
    "start_time": "2022-05-11T20:27:12.177Z"
   },
   {
    "duration": 4,
    "start_time": "2022-05-11T20:27:12.648Z"
   },
   {
    "duration": 6321,
    "start_time": "2022-05-11T20:27:12.654Z"
   },
   {
    "duration": 83,
    "start_time": "2022-05-11T20:27:18.980Z"
   },
   {
    "duration": 299,
    "start_time": "2022-05-11T20:27:19.066Z"
   },
   {
    "duration": 12,
    "start_time": "2022-05-11T20:27:19.367Z"
   },
   {
    "duration": 4,
    "start_time": "2022-05-11T20:27:19.382Z"
   },
   {
    "duration": 110,
    "start_time": "2022-05-11T20:27:19.388Z"
   },
   {
    "duration": 372,
    "start_time": "2022-05-11T20:27:19.501Z"
   },
   {
    "duration": 5,
    "start_time": "2022-05-11T20:27:19.876Z"
   },
   {
    "duration": 33,
    "start_time": "2022-05-11T20:27:19.884Z"
   },
   {
    "duration": 562,
    "start_time": "2022-05-11T20:27:19.962Z"
   },
   {
    "duration": 251581,
    "start_time": "2022-05-11T20:27:20.526Z"
   },
   {
    "duration": 4,
    "start_time": "2022-05-11T20:31:32.109Z"
   },
   {
    "duration": 32,
    "start_time": "2022-05-11T20:31:32.114Z"
   },
   {
    "duration": 16,
    "start_time": "2022-05-11T20:31:32.148Z"
   },
   {
    "duration": 143,
    "start_time": "2022-05-11T20:31:32.165Z"
   },
   {
    "duration": 739,
    "start_time": "2022-05-11T20:31:32.310Z"
   },
   {
    "duration": 171,
    "start_time": "2022-05-11T20:31:33.050Z"
   },
   {
    "duration": 291,
    "start_time": "2022-05-11T20:31:33.223Z"
   },
   {
    "duration": 164,
    "start_time": "2022-05-11T20:31:33.516Z"
   },
   {
    "duration": 1449,
    "start_time": "2022-05-11T20:31:33.682Z"
   },
   {
    "duration": 239,
    "start_time": "2022-05-11T20:31:35.133Z"
   },
   {
    "duration": 10,
    "start_time": "2022-05-11T20:31:35.374Z"
   },
   {
    "duration": 750,
    "start_time": "2022-05-11T20:31:35.386Z"
   },
   {
    "duration": 159,
    "start_time": "2022-05-11T20:31:36.137Z"
   },
   {
    "duration": 46,
    "start_time": "2022-05-11T20:31:36.298Z"
   },
   {
    "duration": 121,
    "start_time": "2022-05-11T20:31:36.346Z"
   },
   {
    "duration": 16,
    "start_time": "2022-05-11T20:31:36.468Z"
   },
   {
    "duration": 330,
    "start_time": "2022-05-11T20:31:36.486Z"
   },
   {
    "duration": 1519,
    "start_time": "2022-05-12T04:05:03.255Z"
   },
   {
    "duration": 2,
    "start_time": "2022-05-12T04:05:04.777Z"
   },
   {
    "duration": 26,
    "start_time": "2022-05-12T04:05:04.781Z"
   },
   {
    "duration": 15,
    "start_time": "2022-05-12T04:05:04.808Z"
   },
   {
    "duration": 14,
    "start_time": "2022-05-12T04:05:04.826Z"
   },
   {
    "duration": 33,
    "start_time": "2022-05-12T04:05:04.842Z"
   },
   {
    "duration": 5,
    "start_time": "2022-05-12T04:05:04.877Z"
   },
   {
    "duration": 10,
    "start_time": "2022-05-12T04:05:04.883Z"
   },
   {
    "duration": 8,
    "start_time": "2022-05-12T04:05:04.895Z"
   },
   {
    "duration": 13,
    "start_time": "2022-05-12T04:05:04.904Z"
   },
   {
    "duration": 5,
    "start_time": "2022-05-12T04:05:04.919Z"
   },
   {
    "duration": 62,
    "start_time": "2022-05-12T04:05:04.925Z"
   },
   {
    "duration": 553,
    "start_time": "2022-05-12T04:05:04.989Z"
   },
   {
    "duration": 714,
    "start_time": "2022-05-12T04:05:05.546Z"
   },
   {
    "duration": 14,
    "start_time": "2022-05-12T04:05:06.262Z"
   },
   {
    "duration": 8,
    "start_time": "2022-05-12T04:05:06.278Z"
   },
   {
    "duration": 7,
    "start_time": "2022-05-12T04:05:06.288Z"
   },
   {
    "duration": 9,
    "start_time": "2022-05-12T04:05:06.297Z"
   },
   {
    "duration": 5,
    "start_time": "2022-05-12T04:05:06.308Z"
   },
   {
    "duration": 8,
    "start_time": "2022-05-12T04:05:06.315Z"
   },
   {
    "duration": 5,
    "start_time": "2022-05-12T04:05:06.325Z"
   },
   {
    "duration": 8,
    "start_time": "2022-05-12T04:05:06.371Z"
   },
   {
    "duration": 102,
    "start_time": "2022-05-12T04:05:06.381Z"
   },
   {
    "duration": 101,
    "start_time": "2022-05-12T04:05:06.484Z"
   },
   {
    "duration": 203,
    "start_time": "2022-05-12T04:05:06.587Z"
   },
   {
    "duration": 5,
    "start_time": "2022-05-12T04:05:06.792Z"
   },
   {
    "duration": 94,
    "start_time": "2022-05-12T04:05:06.799Z"
   },
   {
    "duration": 92,
    "start_time": "2022-05-12T04:05:06.895Z"
   },
   {
    "duration": 98,
    "start_time": "2022-05-12T04:05:06.989Z"
   },
   {
    "duration": 112,
    "start_time": "2022-05-12T04:05:07.089Z"
   },
   {
    "duration": 5,
    "start_time": "2022-05-12T04:05:07.203Z"
   },
   {
    "duration": 7,
    "start_time": "2022-05-12T04:05:07.210Z"
   },
   {
    "duration": 5,
    "start_time": "2022-05-12T04:05:07.218Z"
   },
   {
    "duration": 6,
    "start_time": "2022-05-12T04:05:07.224Z"
   },
   {
    "duration": 12,
    "start_time": "2022-05-12T04:05:07.231Z"
   },
   {
    "duration": 35,
    "start_time": "2022-05-12T04:05:07.244Z"
   },
   {
    "duration": 11,
    "start_time": "2022-05-12T04:05:07.281Z"
   },
   {
    "duration": 3,
    "start_time": "2022-05-12T04:05:07.293Z"
   },
   {
    "duration": 25,
    "start_time": "2022-05-12T04:05:07.298Z"
   },
   {
    "duration": 45,
    "start_time": "2022-05-12T04:05:07.325Z"
   },
   {
    "duration": 10,
    "start_time": "2022-05-12T04:05:11.812Z"
   },
   {
    "duration": 5,
    "start_time": "2022-05-12T04:11:51.026Z"
   },
   {
    "duration": 11,
    "start_time": "2022-05-12T04:11:51.032Z"
   },
   {
    "duration": 30,
    "start_time": "2022-05-12T04:11:51.046Z"
   },
   {
    "duration": 11,
    "start_time": "2022-05-12T04:11:51.077Z"
   },
   {
    "duration": 14,
    "start_time": "2022-05-12T04:11:51.090Z"
   },
   {
    "duration": 7,
    "start_time": "2022-05-12T04:11:51.106Z"
   },
   {
    "duration": 6,
    "start_time": "2022-05-12T04:11:51.114Z"
   },
   {
    "duration": 8,
    "start_time": "2022-05-12T04:11:51.121Z"
   },
   {
    "duration": 5,
    "start_time": "2022-05-12T04:11:51.131Z"
   },
   {
    "duration": 43,
    "start_time": "2022-05-12T04:11:51.138Z"
   },
   {
    "duration": 4,
    "start_time": "2022-05-12T04:11:51.184Z"
   },
   {
    "duration": 22,
    "start_time": "2022-05-12T04:11:51.190Z"
   },
   {
    "duration": 684,
    "start_time": "2022-05-12T04:11:51.214Z"
   },
   {
    "duration": 619,
    "start_time": "2022-05-12T04:11:51.900Z"
   },
   {
    "duration": 5,
    "start_time": "2022-05-12T04:11:52.521Z"
   },
   {
    "duration": 8,
    "start_time": "2022-05-12T04:11:52.528Z"
   },
   {
    "duration": 5,
    "start_time": "2022-05-12T04:11:52.538Z"
   },
   {
    "duration": 32,
    "start_time": "2022-05-12T04:11:52.544Z"
   },
   {
    "duration": 5,
    "start_time": "2022-05-12T04:11:52.577Z"
   },
   {
    "duration": 7,
    "start_time": "2022-05-12T04:11:52.584Z"
   },
   {
    "duration": 5,
    "start_time": "2022-05-12T04:11:52.592Z"
   },
   {
    "duration": 8,
    "start_time": "2022-05-12T04:11:52.598Z"
   },
   {
    "duration": 106,
    "start_time": "2022-05-12T04:11:52.607Z"
   },
   {
    "duration": 96,
    "start_time": "2022-05-12T04:11:52.715Z"
   },
   {
    "duration": 206,
    "start_time": "2022-05-12T04:11:52.812Z"
   },
   {
    "duration": 6,
    "start_time": "2022-05-12T04:11:53.019Z"
   },
   {
    "duration": 99,
    "start_time": "2022-05-12T04:11:53.027Z"
   },
   {
    "duration": 90,
    "start_time": "2022-05-12T04:11:53.128Z"
   },
   {
    "duration": 97,
    "start_time": "2022-05-12T04:11:53.223Z"
   },
   {
    "duration": 104,
    "start_time": "2022-05-12T04:11:53.322Z"
   },
   {
    "duration": 5,
    "start_time": "2022-05-12T04:11:53.428Z"
   },
   {
    "duration": 5,
    "start_time": "2022-05-12T04:11:53.435Z"
   },
   {
    "duration": 6,
    "start_time": "2022-05-12T04:11:53.442Z"
   },
   {
    "duration": 23,
    "start_time": "2022-05-12T04:11:53.449Z"
   },
   {
    "duration": 11,
    "start_time": "2022-05-12T04:11:53.474Z"
   },
   {
    "duration": 11,
    "start_time": "2022-05-12T04:11:53.487Z"
   },
   {
    "duration": 12,
    "start_time": "2022-05-12T04:11:53.500Z"
   },
   {
    "duration": 15,
    "start_time": "2022-05-12T04:11:53.513Z"
   },
   {
    "duration": 35,
    "start_time": "2022-05-12T04:11:53.529Z"
   },
   {
    "duration": 113,
    "start_time": "2022-05-12T04:11:53.566Z"
   },
   {
    "duration": 7,
    "start_time": "2022-05-12T04:11:53.681Z"
   },
   {
    "duration": 23,
    "start_time": "2022-05-12T04:11:53.690Z"
   },
   {
    "duration": 630,
    "start_time": "2022-05-12T04:11:53.714Z"
   },
   {
    "duration": 12,
    "start_time": "2022-05-12T04:11:54.346Z"
   },
   {
    "duration": 6,
    "start_time": "2022-05-12T04:11:54.371Z"
   },
   {
    "duration": 6,
    "start_time": "2022-05-12T04:11:54.379Z"
   },
   {
    "duration": 6,
    "start_time": "2022-05-12T04:11:54.387Z"
   },
   {
    "duration": 6,
    "start_time": "2022-05-12T04:11:54.394Z"
   },
   {
    "duration": 6,
    "start_time": "2022-05-12T04:11:54.402Z"
   },
   {
    "duration": 13,
    "start_time": "2022-05-12T04:11:54.409Z"
   },
   {
    "duration": 11,
    "start_time": "2022-05-12T04:11:54.423Z"
   },
   {
    "duration": 264,
    "start_time": "2022-05-12T04:11:54.471Z"
   },
   {
    "duration": 22,
    "start_time": "2022-05-12T04:11:54.736Z"
   },
   {
    "duration": 23,
    "start_time": "2022-05-12T04:11:54.770Z"
   },
   {
    "duration": 6,
    "start_time": "2022-05-12T04:11:54.795Z"
   },
   {
    "duration": 11,
    "start_time": "2022-05-12T04:11:54.803Z"
   },
   {
    "duration": 10,
    "start_time": "2022-05-12T04:11:54.816Z"
   },
   {
    "duration": 863,
    "start_time": "2022-05-12T04:11:54.828Z"
   },
   {
    "duration": 599,
    "start_time": "2022-05-12T04:11:55.693Z"
   },
   {
    "duration": 10,
    "start_time": "2022-05-12T04:11:56.294Z"
   },
   {
    "duration": 10,
    "start_time": "2022-05-12T04:11:56.305Z"
   },
   {
    "duration": 156,
    "start_time": "2022-05-12T04:11:56.317Z"
   },
   {
    "duration": 273,
    "start_time": "2022-05-12T04:11:56.475Z"
   },
   {
    "duration": 29,
    "start_time": "2022-05-12T04:11:56.749Z"
   },
   {
    "duration": 1148,
    "start_time": "2022-05-12T04:11:56.780Z"
   },
   {
    "duration": 7,
    "start_time": "2022-05-12T04:11:57.929Z"
   },
   {
    "duration": 42,
    "start_time": "2022-05-12T04:11:57.937Z"
   },
   {
    "duration": 99,
    "start_time": "2022-05-12T04:11:58.073Z"
   },
   {
    "duration": 301,
    "start_time": "2022-05-12T04:11:58.174Z"
   },
   {
    "duration": 25,
    "start_time": "2022-05-12T04:11:58.476Z"
   },
   {
    "duration": 77,
    "start_time": "2022-05-12T04:11:58.504Z"
   },
   {
    "duration": 377,
    "start_time": "2022-05-12T04:11:58.584Z"
   },
   {
    "duration": 9,
    "start_time": "2022-05-12T04:11:58.963Z"
   },
   {
    "duration": 6101,
    "start_time": "2022-05-12T04:11:58.974Z"
   },
   {
    "duration": 94,
    "start_time": "2022-05-12T04:12:05.078Z"
   },
   {
    "duration": 396,
    "start_time": "2022-05-12T04:12:05.175Z"
   },
   {
    "duration": 11,
    "start_time": "2022-05-12T04:12:05.573Z"
   },
   {
    "duration": 4,
    "start_time": "2022-05-12T04:12:05.585Z"
   },
   {
    "duration": 102,
    "start_time": "2022-05-12T04:12:05.590Z"
   },
   {
    "duration": 391,
    "start_time": "2022-05-12T04:12:05.694Z"
   },
   {
    "duration": 4,
    "start_time": "2022-05-12T04:12:06.086Z"
   },
   {
    "duration": 25,
    "start_time": "2022-05-12T04:12:06.091Z"
   },
   {
    "duration": 320,
    "start_time": "2022-05-12T04:12:06.172Z"
   },
   {
    "duration": 214377,
    "start_time": "2022-05-12T04:12:06.494Z"
   },
   {
    "duration": 4,
    "start_time": "2022-05-12T04:15:40.872Z"
   },
   {
    "duration": 34,
    "start_time": "2022-05-12T04:15:40.877Z"
   },
   {
    "duration": 10,
    "start_time": "2022-05-12T04:15:40.913Z"
   },
   {
    "duration": 154,
    "start_time": "2022-05-12T04:15:40.924Z"
   },
   {
    "duration": 730,
    "start_time": "2022-05-12T04:15:41.080Z"
   },
   {
    "duration": 154,
    "start_time": "2022-05-12T04:15:41.811Z"
   },
   {
    "duration": 288,
    "start_time": "2022-05-12T04:15:41.970Z"
   },
   {
    "duration": 161,
    "start_time": "2022-05-12T04:15:42.260Z"
   },
   {
    "duration": 1400,
    "start_time": "2022-05-12T04:15:42.423Z"
   },
   {
    "duration": 174,
    "start_time": "2022-05-12T04:15:43.825Z"
   },
   {
    "duration": 8,
    "start_time": "2022-05-12T04:15:44.000Z"
   },
   {
    "duration": 717,
    "start_time": "2022-05-12T04:16:16.123Z"
   },
   {
    "duration": 46,
    "start_time": "2022-05-12T04:17:10.059Z"
   },
   {
    "duration": 47,
    "start_time": "2022-05-12T05:16:06.695Z"
   },
   {
    "duration": 1649,
    "start_time": "2022-05-12T05:27:49.857Z"
   },
   {
    "duration": 3,
    "start_time": "2022-05-12T05:27:51.508Z"
   },
   {
    "duration": 43,
    "start_time": "2022-05-12T05:27:51.512Z"
   },
   {
    "duration": 13,
    "start_time": "2022-05-12T05:27:51.557Z"
   },
   {
    "duration": 12,
    "start_time": "2022-05-12T05:27:51.572Z"
   },
   {
    "duration": 6,
    "start_time": "2022-05-12T05:27:51.586Z"
   },
   {
    "duration": 4,
    "start_time": "2022-05-12T05:27:51.593Z"
   },
   {
    "duration": 8,
    "start_time": "2022-05-12T05:27:51.598Z"
   },
   {
    "duration": 8,
    "start_time": "2022-05-12T05:27:51.608Z"
   },
   {
    "duration": 10,
    "start_time": "2022-05-12T05:27:51.619Z"
   },
   {
    "duration": 4,
    "start_time": "2022-05-12T05:27:51.631Z"
   },
   {
    "duration": 24,
    "start_time": "2022-05-12T05:27:51.636Z"
   },
   {
    "duration": 549,
    "start_time": "2022-05-12T05:27:51.661Z"
   },
   {
    "duration": 692,
    "start_time": "2022-05-12T05:27:52.211Z"
   },
   {
    "duration": 6,
    "start_time": "2022-05-12T05:27:52.904Z"
   },
   {
    "duration": 9,
    "start_time": "2022-05-12T05:27:52.912Z"
   },
   {
    "duration": 5,
    "start_time": "2022-05-12T05:27:52.922Z"
   },
   {
    "duration": 9,
    "start_time": "2022-05-12T05:27:52.929Z"
   },
   {
    "duration": 7,
    "start_time": "2022-05-12T05:27:52.939Z"
   },
   {
    "duration": 11,
    "start_time": "2022-05-12T05:27:52.947Z"
   },
   {
    "duration": 5,
    "start_time": "2022-05-12T05:27:52.959Z"
   },
   {
    "duration": 36,
    "start_time": "2022-05-12T05:27:52.965Z"
   },
   {
    "duration": 83,
    "start_time": "2022-05-12T05:27:53.003Z"
   },
   {
    "duration": 91,
    "start_time": "2022-05-12T05:27:53.099Z"
   },
   {
    "duration": 208,
    "start_time": "2022-05-12T05:27:53.200Z"
   },
   {
    "duration": 5,
    "start_time": "2022-05-12T05:27:53.410Z"
   },
   {
    "duration": 97,
    "start_time": "2022-05-12T05:27:53.416Z"
   },
   {
    "duration": 89,
    "start_time": "2022-05-12T05:27:53.517Z"
   },
   {
    "duration": 93,
    "start_time": "2022-05-12T05:27:53.607Z"
   },
   {
    "duration": 105,
    "start_time": "2022-05-12T05:27:53.702Z"
   },
   {
    "duration": 3,
    "start_time": "2022-05-12T05:27:53.809Z"
   },
   {
    "duration": 14,
    "start_time": "2022-05-12T05:27:53.814Z"
   },
   {
    "duration": 8,
    "start_time": "2022-05-12T05:27:53.830Z"
   },
   {
    "duration": 11,
    "start_time": "2022-05-12T05:27:53.839Z"
   },
   {
    "duration": 22,
    "start_time": "2022-05-12T05:27:53.851Z"
   },
   {
    "duration": 12,
    "start_time": "2022-05-12T05:27:53.875Z"
   },
   {
    "duration": 27,
    "start_time": "2022-05-12T05:27:53.889Z"
   },
   {
    "duration": 10,
    "start_time": "2022-05-12T05:27:53.917Z"
   },
   {
    "duration": 28,
    "start_time": "2022-05-12T05:27:53.929Z"
   },
   {
    "duration": 8,
    "start_time": "2022-05-12T05:27:53.959Z"
   },
   {
    "duration": 19,
    "start_time": "2022-05-12T05:27:53.968Z"
   },
   {
    "duration": 27,
    "start_time": "2022-05-12T05:27:53.989Z"
   },
   {
    "duration": 686,
    "start_time": "2022-05-12T05:27:54.017Z"
   },
   {
    "duration": 11,
    "start_time": "2022-05-12T05:27:54.704Z"
   },
   {
    "duration": 5,
    "start_time": "2022-05-12T05:27:54.717Z"
   },
   {
    "duration": 7,
    "start_time": "2022-05-12T05:27:54.723Z"
   },
   {
    "duration": 5,
    "start_time": "2022-05-12T05:27:54.732Z"
   },
   {
    "duration": 7,
    "start_time": "2022-05-12T05:27:54.738Z"
   },
   {
    "duration": 7,
    "start_time": "2022-05-12T05:27:54.746Z"
   },
   {
    "duration": 11,
    "start_time": "2022-05-12T05:27:54.754Z"
   },
   {
    "duration": 44,
    "start_time": "2022-05-12T05:27:54.766Z"
   },
   {
    "duration": 292,
    "start_time": "2022-05-12T05:27:54.811Z"
   },
   {
    "duration": 23,
    "start_time": "2022-05-12T05:27:55.105Z"
   },
   {
    "duration": 15,
    "start_time": "2022-05-12T05:27:55.130Z"
   },
   {
    "duration": 5,
    "start_time": "2022-05-12T05:27:55.147Z"
   },
   {
    "duration": 12,
    "start_time": "2022-05-12T05:27:55.153Z"
   },
   {
    "duration": 40,
    "start_time": "2022-05-12T05:27:55.166Z"
   },
   {
    "duration": 782,
    "start_time": "2022-05-12T05:27:55.208Z"
   },
   {
    "duration": 623,
    "start_time": "2022-05-12T05:27:55.992Z"
   },
   {
    "duration": 9,
    "start_time": "2022-05-12T05:27:56.617Z"
   },
   {
    "duration": 16,
    "start_time": "2022-05-12T05:27:56.627Z"
   },
   {
    "duration": 136,
    "start_time": "2022-05-12T05:27:56.645Z"
   },
   {
    "duration": 258,
    "start_time": "2022-05-12T05:27:56.783Z"
   },
   {
    "duration": 15,
    "start_time": "2022-05-12T05:27:57.043Z"
   },
   {
    "duration": 1129,
    "start_time": "2022-05-12T05:27:57.059Z"
   },
   {
    "duration": 6,
    "start_time": "2022-05-12T05:27:58.190Z"
   },
   {
    "duration": 26,
    "start_time": "2022-05-12T05:27:58.198Z"
   },
   {
    "duration": 75,
    "start_time": "2022-05-12T05:27:58.227Z"
   },
   {
    "duration": 385,
    "start_time": "2022-05-12T05:27:58.303Z"
   },
   {
    "duration": 26,
    "start_time": "2022-05-12T05:27:58.700Z"
   },
   {
    "duration": 172,
    "start_time": "2022-05-12T05:27:58.728Z"
   },
   {
    "duration": 284,
    "start_time": "2022-05-12T05:27:58.902Z"
   },
   {
    "duration": 13,
    "start_time": "2022-05-12T05:27:59.188Z"
   },
   {
    "duration": 5904,
    "start_time": "2022-05-12T05:27:59.203Z"
   },
   {
    "duration": 5,
    "start_time": "2022-05-12T05:28:05.200Z"
   },
   {
    "duration": 397,
    "start_time": "2022-05-12T05:28:05.207Z"
   },
   {
    "duration": 10,
    "start_time": "2022-05-12T05:28:05.606Z"
   },
   {
    "duration": 4,
    "start_time": "2022-05-12T05:28:05.617Z"
   },
   {
    "duration": 100,
    "start_time": "2022-05-12T05:28:05.622Z"
   },
   {
    "duration": 388,
    "start_time": "2022-05-12T05:28:05.725Z"
   },
   {
    "duration": 3,
    "start_time": "2022-05-12T05:28:06.115Z"
   },
   {
    "duration": 21,
    "start_time": "2022-05-12T05:28:06.125Z"
   },
   {
    "duration": 486,
    "start_time": "2022-05-12T05:28:06.147Z"
   },
   {
    "duration": 233275,
    "start_time": "2022-05-12T05:28:06.635Z"
   },
   {
    "duration": 3,
    "start_time": "2022-05-12T05:31:59.911Z"
   },
   {
    "duration": 43,
    "start_time": "2022-05-12T05:31:59.916Z"
   },
   {
    "duration": 9,
    "start_time": "2022-05-12T05:31:59.961Z"
   },
   {
    "duration": 147,
    "start_time": "2022-05-12T05:31:59.972Z"
   },
   {
    "duration": 753,
    "start_time": "2022-05-12T05:32:00.120Z"
   },
   {
    "duration": 157,
    "start_time": "2022-05-12T05:32:00.875Z"
   },
   {
    "duration": 295,
    "start_time": "2022-05-12T05:32:01.034Z"
   },
   {
    "duration": 175,
    "start_time": "2022-05-12T05:32:01.331Z"
   },
   {
    "duration": 1542,
    "start_time": "2022-05-12T05:32:01.508Z"
   },
   {
    "duration": 173,
    "start_time": "2022-05-12T05:32:03.051Z"
   },
   {
    "duration": 9,
    "start_time": "2022-05-12T05:32:03.226Z"
   },
   {
    "duration": 1686,
    "start_time": "2022-05-12T08:10:10.870Z"
   },
   {
    "duration": 2,
    "start_time": "2022-05-12T08:10:12.558Z"
   },
   {
    "duration": 52,
    "start_time": "2022-05-12T08:10:12.562Z"
   },
   {
    "duration": 16,
    "start_time": "2022-05-12T08:10:12.616Z"
   },
   {
    "duration": 16,
    "start_time": "2022-05-12T08:10:12.634Z"
   },
   {
    "duration": 24,
    "start_time": "2022-05-12T08:10:12.651Z"
   },
   {
    "duration": 8,
    "start_time": "2022-05-12T08:10:12.677Z"
   },
   {
    "duration": 15,
    "start_time": "2022-05-12T08:10:12.688Z"
   },
   {
    "duration": 27,
    "start_time": "2022-05-12T08:10:12.705Z"
   },
   {
    "duration": 24,
    "start_time": "2022-05-12T08:10:12.734Z"
   },
   {
    "duration": 23,
    "start_time": "2022-05-12T08:10:12.760Z"
   },
   {
    "duration": 51,
    "start_time": "2022-05-12T08:10:12.785Z"
   },
   {
    "duration": 629,
    "start_time": "2022-05-12T08:10:12.838Z"
   },
   {
    "duration": 814,
    "start_time": "2022-05-12T08:10:13.470Z"
   },
   {
    "duration": 7,
    "start_time": "2022-05-12T08:10:14.285Z"
   },
   {
    "duration": 14,
    "start_time": "2022-05-12T08:10:14.294Z"
   },
   {
    "duration": 22,
    "start_time": "2022-05-12T08:10:14.310Z"
   },
   {
    "duration": 18,
    "start_time": "2022-05-12T08:10:14.333Z"
   },
   {
    "duration": 28,
    "start_time": "2022-05-12T08:10:14.352Z"
   },
   {
    "duration": 32,
    "start_time": "2022-05-12T08:10:14.382Z"
   },
   {
    "duration": 15,
    "start_time": "2022-05-12T08:10:14.415Z"
   },
   {
    "duration": 19,
    "start_time": "2022-05-12T08:10:14.432Z"
   },
   {
    "duration": 107,
    "start_time": "2022-05-12T08:10:14.453Z"
   },
   {
    "duration": 104,
    "start_time": "2022-05-12T08:10:14.562Z"
   },
   {
    "duration": 221,
    "start_time": "2022-05-12T08:10:14.667Z"
   },
   {
    "duration": 6,
    "start_time": "2022-05-12T08:10:14.889Z"
   },
   {
    "duration": 104,
    "start_time": "2022-05-12T08:10:14.897Z"
   },
   {
    "duration": 112,
    "start_time": "2022-05-12T08:10:15.003Z"
   },
   {
    "duration": 100,
    "start_time": "2022-05-12T08:10:15.117Z"
   },
   {
    "duration": 121,
    "start_time": "2022-05-12T08:10:15.219Z"
   },
   {
    "duration": 5,
    "start_time": "2022-05-12T08:10:15.341Z"
   },
   {
    "duration": 15,
    "start_time": "2022-05-12T08:10:15.348Z"
   },
   {
    "duration": 8,
    "start_time": "2022-05-12T08:10:15.364Z"
   },
   {
    "duration": 23,
    "start_time": "2022-05-12T08:10:15.374Z"
   },
   {
    "duration": 28,
    "start_time": "2022-05-12T08:10:15.398Z"
   },
   {
    "duration": 14,
    "start_time": "2022-05-12T08:10:15.428Z"
   },
   {
    "duration": 16,
    "start_time": "2022-05-12T08:10:15.444Z"
   },
   {
    "duration": 22,
    "start_time": "2022-05-12T08:10:15.462Z"
   },
   {
    "duration": 37,
    "start_time": "2022-05-12T08:10:15.486Z"
   },
   {
    "duration": 11,
    "start_time": "2022-05-12T08:10:15.525Z"
   },
   {
    "duration": 24,
    "start_time": "2022-05-12T08:10:15.541Z"
   },
   {
    "duration": 26,
    "start_time": "2022-05-12T08:10:15.566Z"
   },
   {
    "duration": 789,
    "start_time": "2022-05-12T08:10:15.594Z"
   },
   {
    "duration": 14,
    "start_time": "2022-05-12T08:10:16.384Z"
   },
   {
    "duration": 31,
    "start_time": "2022-05-12T08:10:16.400Z"
   },
   {
    "duration": 14,
    "start_time": "2022-05-12T08:10:16.433Z"
   },
   {
    "duration": 14,
    "start_time": "2022-05-12T08:10:16.449Z"
   },
   {
    "duration": 16,
    "start_time": "2022-05-12T08:10:16.465Z"
   },
   {
    "duration": 18,
    "start_time": "2022-05-12T08:10:16.482Z"
   },
   {
    "duration": 24,
    "start_time": "2022-05-12T08:10:16.502Z"
   },
   {
    "duration": 13,
    "start_time": "2022-05-12T08:10:16.528Z"
   },
   {
    "duration": 359,
    "start_time": "2022-05-12T08:10:16.543Z"
   },
   {
    "duration": 23,
    "start_time": "2022-05-12T08:10:16.904Z"
   },
   {
    "duration": 17,
    "start_time": "2022-05-12T08:10:16.928Z"
   },
   {
    "duration": 5,
    "start_time": "2022-05-12T08:10:16.947Z"
   },
   {
    "duration": 36,
    "start_time": "2022-05-12T08:10:16.953Z"
   },
   {
    "duration": 9,
    "start_time": "2022-05-12T08:10:16.991Z"
   },
   {
    "duration": 924,
    "start_time": "2022-05-12T08:10:17.001Z"
   },
   {
    "duration": 584,
    "start_time": "2022-05-12T08:10:17.927Z"
   },
   {
    "duration": 10,
    "start_time": "2022-05-12T08:10:18.513Z"
   },
   {
    "duration": 13,
    "start_time": "2022-05-12T08:10:18.525Z"
   },
   {
    "duration": 166,
    "start_time": "2022-05-12T08:10:18.540Z"
   },
   {
    "duration": 262,
    "start_time": "2022-05-12T08:10:18.708Z"
   },
   {
    "duration": 25,
    "start_time": "2022-05-12T08:10:18.971Z"
   },
   {
    "duration": 1250,
    "start_time": "2022-05-12T08:10:18.998Z"
   },
   {
    "duration": 7,
    "start_time": "2022-05-12T08:10:20.250Z"
   },
   {
    "duration": 31,
    "start_time": "2022-05-12T08:10:20.258Z"
   },
   {
    "duration": 100,
    "start_time": "2022-05-12T08:10:20.291Z"
   },
   {
    "duration": 385,
    "start_time": "2022-05-12T08:10:20.395Z"
   },
   {
    "duration": 29,
    "start_time": "2022-05-12T08:10:20.788Z"
   },
   {
    "duration": 169,
    "start_time": "2022-05-12T08:10:20.820Z"
   },
   {
    "duration": 321,
    "start_time": "2022-05-12T08:10:20.991Z"
   },
   {
    "duration": 4,
    "start_time": "2022-05-12T08:10:21.314Z"
   },
   {
    "duration": 6374,
    "start_time": "2022-05-12T08:10:21.319Z"
   },
   {
    "duration": 96,
    "start_time": "2022-05-12T08:10:27.696Z"
   },
   {
    "duration": 336,
    "start_time": "2022-05-12T08:10:27.887Z"
   },
   {
    "duration": 12,
    "start_time": "2022-05-12T08:10:28.225Z"
   },
   {
    "duration": 4,
    "start_time": "2022-05-12T08:10:28.239Z"
   },
   {
    "duration": 145,
    "start_time": "2022-05-12T08:10:28.245Z"
   },
   {
    "duration": 397,
    "start_time": "2022-05-12T08:10:28.393Z"
   },
   {
    "duration": 4,
    "start_time": "2022-05-12T08:10:28.792Z"
   },
   {
    "duration": 25,
    "start_time": "2022-05-12T08:10:28.798Z"
   },
   {
    "duration": 535,
    "start_time": "2022-05-12T08:10:28.825Z"
   },
   {
    "duration": 245144,
    "start_time": "2022-05-12T08:10:29.362Z"
   },
   {
    "duration": 4,
    "start_time": "2022-05-12T08:14:34.507Z"
   },
   {
    "duration": 30,
    "start_time": "2022-05-12T08:14:34.513Z"
   },
   {
    "duration": 10,
    "start_time": "2022-05-12T08:14:34.545Z"
   },
   {
    "duration": 174,
    "start_time": "2022-05-12T08:14:34.557Z"
   },
   {
    "duration": 840,
    "start_time": "2022-05-12T08:14:34.733Z"
   },
   {
    "duration": 184,
    "start_time": "2022-05-12T08:14:35.575Z"
   },
   {
    "duration": 333,
    "start_time": "2022-05-12T08:14:35.760Z"
   },
   {
    "duration": 197,
    "start_time": "2022-05-12T08:14:36.095Z"
   },
   {
    "duration": 1600,
    "start_time": "2022-05-12T08:14:36.294Z"
   },
   {
    "duration": 205,
    "start_time": "2022-05-12T08:14:37.896Z"
   },
   {
    "duration": 10,
    "start_time": "2022-05-12T08:14:38.103Z"
   },
   {
    "duration": 115,
    "start_time": "2022-05-12T08:20:46.648Z"
   },
   {
    "duration": 20,
    "start_time": "2022-05-12T08:21:01.801Z"
   },
   {
    "duration": 60,
    "start_time": "2022-05-12T08:21:42.274Z"
   },
   {
    "duration": 207,
    "start_time": "2022-05-12T08:24:06.441Z"
   },
   {
    "duration": 57,
    "start_time": "2022-05-12T08:24:43.063Z"
   },
   {
    "duration": 56,
    "start_time": "2022-05-12T08:25:38.381Z"
   },
   {
    "duration": 116,
    "start_time": "2022-05-12T08:25:48.383Z"
   },
   {
    "duration": 17,
    "start_time": "2022-05-12T08:25:51.958Z"
   },
   {
    "duration": 315,
    "start_time": "2022-05-12T08:25:54.413Z"
   },
   {
    "duration": 390,
    "start_time": "2022-05-12T08:26:40.256Z"
   },
   {
    "duration": 156,
    "start_time": "2022-05-12T08:26:42.245Z"
   },
   {
    "duration": 149,
    "start_time": "2022-05-12T08:26:53.251Z"
   },
   {
    "duration": 164,
    "start_time": "2022-05-12T08:26:55.758Z"
   },
   {
    "duration": 712,
    "start_time": "2022-05-12T08:27:05.507Z"
   },
   {
    "duration": 227624,
    "start_time": "2022-05-12T08:27:17.471Z"
   },
   {
    "duration": 788,
    "start_time": "2022-05-12T08:31:05.097Z"
   },
   {
    "duration": 3,
    "start_time": "2022-05-12T08:35:10.647Z"
   },
   {
    "duration": 30,
    "start_time": "2022-05-12T08:35:20.149Z"
   },
   {
    "duration": 12,
    "start_time": "2022-05-12T08:35:21.609Z"
   },
   {
    "duration": 157,
    "start_time": "2022-05-12T08:35:24.057Z"
   },
   {
    "duration": 823,
    "start_time": "2022-05-12T08:35:27.919Z"
   },
   {
    "duration": 829,
    "start_time": "2022-05-12T08:35:32.452Z"
   },
   {
    "duration": 777,
    "start_time": "2022-05-12T08:35:38.389Z"
   },
   {
    "duration": 329,
    "start_time": "2022-05-12T08:35:40.460Z"
   },
   {
    "duration": 331,
    "start_time": "2022-05-12T08:35:46.579Z"
   },
   {
    "duration": 188,
    "start_time": "2022-05-12T08:35:48.402Z"
   },
   {
    "duration": 1584,
    "start_time": "2022-05-12T08:35:54.279Z"
   },
   {
    "duration": 197,
    "start_time": "2022-05-12T08:36:00.115Z"
   },
   {
    "duration": 11,
    "start_time": "2022-05-12T08:36:03.448Z"
   },
   {
    "duration": 55,
    "start_time": "2022-05-12T08:36:09.745Z"
   },
   {
    "duration": 200,
    "start_time": "2022-05-12T08:36:12.537Z"
   },
   {
    "duration": 55,
    "start_time": "2022-05-12T08:36:17.060Z"
   },
   {
    "duration": 123,
    "start_time": "2022-05-12T08:36:19.035Z"
   },
   {
    "duration": 20,
    "start_time": "2022-05-12T08:36:21.200Z"
   },
   {
    "duration": 359,
    "start_time": "2022-05-12T08:36:25.529Z"
   }
  ],
  "kernelspec": {
   "display_name": "Python 3 (ipykernel)",
   "language": "python",
   "name": "python3"
  },
  "language_info": {
   "codemirror_mode": {
    "name": "ipython",
    "version": 3
   },
   "file_extension": ".py",
   "mimetype": "text/x-python",
   "name": "python",
   "nbconvert_exporter": "python",
   "pygments_lexer": "ipython3",
   "version": "3.9.12"
  },
  "toc": {
   "base_numbering": 1,
   "nav_menu": {},
   "number_sections": true,
   "sideBar": true,
   "skip_h1_title": true,
   "title_cell": "Table of Contents",
   "title_sidebar": "Contents",
   "toc_cell": false,
   "toc_position": {
    "height": "calc(100% - 180px)",
    "left": "10px",
    "top": "150px",
    "width": "255.594px"
   },
   "toc_section_display": true,
   "toc_window_display": true
  }
 },
 "nbformat": 4,
 "nbformat_minor": 4
}
