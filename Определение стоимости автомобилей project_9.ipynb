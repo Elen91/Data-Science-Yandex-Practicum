{
 "cells": [
  {
   "cell_type": "markdown",
   "metadata": {},
   "source": [
    "# Определение стоимости автомобилей"
   ]
  },
  {
   "cell_type": "markdown",
   "metadata": {},
   "source": [
    "Сервис по продаже автомобилей с пробегом «Не бит, не крашен» разрабатывает приложение для привлечения новых клиентов. В нём можно быстро узнать рыночную стоимость своего автомобиля. В вашем распоряжении исторические данные: технические характеристики, комплектации и цены автомобилей. Вам нужно построить модель для определения стоимости. \n",
    "\n",
    "Заказчику важны:\n",
    "\n",
    "- качество предсказания;\n",
    "- скорость предсказания;\n",
    "- время обучения.\n",
    "\n",
    "\n",
    "**План работы:**\n",
    "\n",
    "- вначале я проведу преодобработку данных;\n",
    "- затем обучу выбранные мною модели;\n",
    "- в итоге сравню важные для заказчика показатели и выберу оптимальную модель для предсказания стоимости автомобиля. "
   ]
  },
  {
   "cell_type": "markdown",
   "metadata": {},
   "source": [
    "## Подготовка данных\n",
    "\n",
    "### Загрузка данных и подключение библиотек"
   ]
  },
  {
   "cell_type": "markdown",
   "metadata": {},
   "source": [
    "#pip install lightgbm   \n",
    "#pip install ipywidgets   \n",
    "#pip install catboost"
   ]
  },
  {
   "cell_type": "code",
   "execution_count": 1,
   "metadata": {},
   "outputs": [],
   "source": [
    "import pandas as pd\n",
    "import numpy as np\n",
    "import lightgbm as lgb\n",
    "import seaborn as sns\n",
    "import time\n",
    "from matplotlib import pyplot as plt\n",
    "\n",
    "# импорт метрики качества \n",
    "from sklearn.metrics import r2_score\n",
    "from sklearn.metrics import mean_squared_error\n",
    "\n",
    "# импорт для предобработки данных\n",
    "from sklearn.preprocessing import OneHotEncoder, StandardScaler, OrdinalEncoder # добавила\n",
    "\n",
    "# импорт моделей \n",
    "from sklearn.linear_model import LinearRegression, SGDRegressor\n",
    "from sklearn.tree import DecisionTreeRegressor\n",
    "from catboost import CatBoostRegressor\n",
    "from lightgbm import LGBMRegressor\n",
    "\n",
    "from sklearn.model_selection import cross_val_score, GridSearchCV, train_test_split\n",
    "\n",
    "import warnings\n",
    "warnings.filterwarnings('ignore')"
   ]
  },
  {
   "cell_type": "code",
   "execution_count": 2,
   "metadata": {},
   "outputs": [],
   "source": [
    "# чтение данных\n",
    "try:\n",
    "    data = pd.read_csv('/datasets/autos.csv')\n",
    "except:\n",
    "    data = pd.read_csv('autos.csv')"
   ]
  },
  {
   "cell_type": "markdown",
   "metadata": {},
   "source": [
    "### Предобработка данных \n",
    "\n",
    "Здесь проверю наличие:  \n",
    "* миссингов;  \n",
    "* выбросов;  \n",
    "* дублей.\n",
    "\n",
    "Затем: \n",
    "* приму решение по поводу миссингов, если будут - удалю, оставлю как есть или попробую импутировать;  \n",
    "* приму решение по поводу выбросов, если будут - удалю или оставлю как есть;  \n",
    "* удалю дубли при их наличии.\n",
    "\n",
    "Далее:  \n",
    "* масштабирую данные;  \n",
    "* перекодирую категориальные переменные.  "
   ]
  },
  {
   "cell_type": "code",
   "execution_count": 3,
   "metadata": {},
   "outputs": [
    {
     "name": "stdout",
     "output_type": "stream",
     "text": [
      "<class 'pandas.core.frame.DataFrame'>\n",
      "RangeIndex: 354369 entries, 0 to 354368\n",
      "Data columns (total 16 columns):\n",
      " #   Column             Non-Null Count   Dtype \n",
      "---  ------             --------------   ----- \n",
      " 0   DateCrawled        354369 non-null  object\n",
      " 1   Price              354369 non-null  int64 \n",
      " 2   VehicleType        316879 non-null  object\n",
      " 3   RegistrationYear   354369 non-null  int64 \n",
      " 4   Gearbox            334536 non-null  object\n",
      " 5   Power              354369 non-null  int64 \n",
      " 6   Model              334664 non-null  object\n",
      " 7   Kilometer          354369 non-null  int64 \n",
      " 8   RegistrationMonth  354369 non-null  int64 \n",
      " 9   FuelType           321474 non-null  object\n",
      " 10  Brand              354369 non-null  object\n",
      " 11  NotRepaired        283215 non-null  object\n",
      " 12  DateCreated        354369 non-null  object\n",
      " 13  NumberOfPictures   354369 non-null  int64 \n",
      " 14  PostalCode         354369 non-null  int64 \n",
      " 15  LastSeen           354369 non-null  object\n",
      "dtypes: int64(7), object(9)\n",
      "memory usage: 43.3+ MB\n"
     ]
    }
   ],
   "source": [
    "data.info()"
   ]
  },
  {
   "cell_type": "markdown",
   "metadata": {},
   "source": [
    "**Краткий вывод**\n",
    "\n",
    "В нашем датасете 16 столбцов: 15 признаков и 1 целевой признак. \n",
    "\n",
    "*Признаки*\n",
    "* `DateCrawled` — дата скачивания анкеты из базы  \n",
    "* `VehicleType` — тип автомобильного кузова  \n",
    "* `RegistrationYear` — год регистрации автомобиля  \n",
    "* `Gearbox` — тип коробки передач  \n",
    "* `Power` — мощность (л. с.)  \n",
    "* `Model` — модель автомобиля  \n",
    "* `Kilometer` — пробег (км)  \n",
    "* `RegistrationMonth` — месяц регистрации автомобиля  \n",
    "* `FuelType` — тип топлива  \n",
    "* `Brand` — марка автомобиля  \n",
    "* `NotRepaired` — была машина в ремонте или нет  \n",
    "* `DateCreated` — дата создания анкеты  \n",
    "* `NumberOfPictures` — количество фотографий автомобиля  \n",
    "* `PostalCode` — почтовый индекс владельца анкеты (пользователя)  \n",
    "* `LastSeen` — дата последней активности пользователя  \n",
    "\n",
    "\n",
    "Названия переменных не соответствуют нижнему регистру. Приведу названия столбцов к нижнему регистру. "
   ]
  },
  {
   "cell_type": "code",
   "execution_count": 4,
   "metadata": {},
   "outputs": [],
   "source": [
    "data.rename(columns={\"DateCrawled\": \"Date_Crawled\", \n",
    "                     \"VehicleType\": \"Vehicle_Type\",\n",
    "                     \"RegistrationYear\": \"Registration_Year\",\n",
    "                     \"RegistrationMonth\": \"Registration_Month\",\n",
    "                     \"FuelType\": \"Fuel_Type\",\n",
    "                     \"NotRepaired\": \"Not_Repaired\",\n",
    "                     \"DateCreated\": \"Date_Created\",\n",
    "                     \"NumberOfPictures\": \"Number_Of_Pictures\",\n",
    "                     \"PostalCode\": \"Postal_Code\",\n",
    "                     \"LastSeen\": \"Last_Seen\"}, inplace = True)\n",
    "data.columns = data.columns.str.lower()"
   ]
  },
  {
   "cell_type": "code",
   "execution_count": 5,
   "metadata": {},
   "outputs": [
    {
     "data": {
      "text/plain": [
       "Index(['date_crawled', 'price', 'vehicle_type', 'registration_year', 'gearbox',\n",
       "       'power', 'model', 'kilometer', 'registration_month', 'fuel_type',\n",
       "       'brand', 'not_repaired', 'date_created', 'number_of_pictures',\n",
       "       'postal_code', 'last_seen'],\n",
       "      dtype='object')"
      ]
     },
     "execution_count": 5,
     "metadata": {},
     "output_type": "execute_result"
    }
   ],
   "source": [
    "data.columns"
   ]
  },
  {
   "cell_type": "markdown",
   "metadata": {},
   "source": [
    "Привела к единому нижнему регистру. Посмотрим сколько в данных миссингов.\n",
    "\n",
    "Далее заметим, что признаки `registration_year`, `registration_month` и `postal_code` хорошо бы перекодировать в тип категориальных переменных. "
   ]
  },
  {
   "cell_type": "code",
   "execution_count": 6,
   "metadata": {},
   "outputs": [
    {
     "data": {
      "text/plain": [
       "151"
      ]
     },
     "execution_count": 6,
     "metadata": {},
     "output_type": "execute_result"
    }
   ],
   "source": [
    "# посмотрим сколько уникальных значений в registration_year\n",
    "len(data['registration_year'].unique())"
   ]
  },
  {
   "cell_type": "markdown",
   "metadata": {},
   "source": [
    "В этой переменной 138 уникальных годов. Ну что же делать... Оставлять эту переменную в виде числовой и работать с ней как с числовой не имеет смысла. "
   ]
  },
  {
   "cell_type": "code",
   "execution_count": 7,
   "metadata": {},
   "outputs": [
    {
     "data": {
      "text/plain": [
       "13"
      ]
     },
     "execution_count": 7,
     "metadata": {},
     "output_type": "execute_result"
    }
   ],
   "source": [
    "# посмотрим сколько уникальных значений в registration_month\n",
    "len(data['registration_month'].unique())"
   ]
  },
  {
   "cell_type": "markdown",
   "metadata": {},
   "source": [
    "Так, странно... 13 месяцев? 🤔\n",
    "\n",
    "Посмотрим ближе "
   ]
  },
  {
   "cell_type": "code",
   "execution_count": 8,
   "metadata": {},
   "outputs": [
    {
     "data": {
      "text/plain": [
       "array([ 0,  5,  8,  6,  7, 10, 12, 11,  2,  3,  1,  4,  9])"
      ]
     },
     "execution_count": 8,
     "metadata": {},
     "output_type": "execute_result"
    }
   ],
   "source": [
    "data['registration_month'].unique()"
   ]
  },
  {
   "cell_type": "code",
   "execution_count": 9,
   "metadata": {},
   "outputs": [
    {
     "data": {
      "text/plain": [
       "0     37352\n",
       "1     23219\n",
       "2     21267\n",
       "3     34373\n",
       "4     29270\n",
       "5     29153\n",
       "6     31508\n",
       "7     27213\n",
       "8     22627\n",
       "9     23813\n",
       "10    26099\n",
       "11    24186\n",
       "12    24289\n",
       "Name: registration_month, dtype: int64"
      ]
     },
     "execution_count": 9,
     "metadata": {},
     "output_type": "execute_result"
    }
   ],
   "source": [
    "data['registration_month'].value_counts(sort=False)"
   ]
  },
  {
   "cell_type": "markdown",
   "metadata": {},
   "source": [
    "Очень странные значения. Но видимо придется работать с этим как есть. "
   ]
  },
  {
   "cell_type": "code",
   "execution_count": 10,
   "metadata": {},
   "outputs": [],
   "source": [
    "data['registration_month'] = data['registration_month'].astype(str)\n",
    "data['registration_year'] = data['registration_year'].astype(str)\n",
    "data['postal_code'] = data['postal_code'].astype(str)"
   ]
  },
  {
   "cell_type": "code",
   "execution_count": 11,
   "metadata": {},
   "outputs": [
    {
     "name": "stdout",
     "output_type": "stream",
     "text": [
      "<class 'pandas.core.frame.DataFrame'>\n",
      "RangeIndex: 354369 entries, 0 to 354368\n",
      "Data columns (total 16 columns):\n",
      " #   Column              Non-Null Count   Dtype \n",
      "---  ------              --------------   ----- \n",
      " 0   date_crawled        354369 non-null  object\n",
      " 1   price               354369 non-null  int64 \n",
      " 2   vehicle_type        316879 non-null  object\n",
      " 3   registration_year   354369 non-null  object\n",
      " 4   gearbox             334536 non-null  object\n",
      " 5   power               354369 non-null  int64 \n",
      " 6   model               334664 non-null  object\n",
      " 7   kilometer           354369 non-null  int64 \n",
      " 8   registration_month  354369 non-null  object\n",
      " 9   fuel_type           321474 non-null  object\n",
      " 10  brand               354369 non-null  object\n",
      " 11  not_repaired        283215 non-null  object\n",
      " 12  date_created        354369 non-null  object\n",
      " 13  number_of_pictures  354369 non-null  int64 \n",
      " 14  postal_code         354369 non-null  object\n",
      " 15  last_seen           354369 non-null  object\n",
      "dtypes: int64(4), object(12)\n",
      "memory usage: 43.3+ MB\n"
     ]
    }
   ],
   "source": [
    "data.info()"
   ]
  },
  {
   "cell_type": "markdown",
   "metadata": {},
   "source": [
    "Отлично, перекодировали. Идем дальше."
   ]
  },
  {
   "cell_type": "markdown",
   "metadata": {},
   "source": [
    "#### Миссинги"
   ]
  },
  {
   "cell_type": "code",
   "execution_count": 12,
   "metadata": {
    "scrolled": true
   },
   "outputs": [
    {
     "data": {
      "text/plain": [
       "date_crawled              0\n",
       "price                     0\n",
       "vehicle_type          37490\n",
       "registration_year         0\n",
       "gearbox               19833\n",
       "power                     0\n",
       "model                 19705\n",
       "kilometer                 0\n",
       "registration_month        0\n",
       "fuel_type             32895\n",
       "brand                     0\n",
       "not_repaired          71154\n",
       "date_created              0\n",
       "number_of_pictures        0\n",
       "postal_code               0\n",
       "last_seen                 0\n",
       "dtype: int64"
      ]
     },
     "execution_count": 12,
     "metadata": {},
     "output_type": "execute_result"
    }
   ],
   "source": [
    "data.isna().sum()"
   ]
  },
  {
   "cell_type": "code",
   "execution_count": 13,
   "metadata": {},
   "outputs": [],
   "source": [
    "def pass_value(df):\n",
    "    (\n",
    "        (df.isna().mean()*100)\n",
    "        .to_frame()\n",
    "        .rename(columns = {0:'space'})\n",
    "        .query('space > 0')\n",
    "        .sort_values(by = 'space', ascending = False)\n",
    "        .plot(kind= 'bar', figsize=(19,3), rot = 10, legend = False)\n",
    "        .set_title('Число миссингов' + \"\\n\", fontsize = 20, color = 'SteelBlue') # чуть добавил\n",
    "    );"
   ]
  },
  {
   "cell_type": "code",
   "execution_count": 14,
   "metadata": {},
   "outputs": [
    {
     "data": {
      "image/png": "[encoded data removed]",
      "text/plain": [
       "<Figure size 1368x216 with 1 Axes>"
      ]
     },
     "metadata": {},
     "output_type": "display_data"
    }
   ],
   "source": [
    "sns.set_theme(style=\"ticks\")\n",
    "# изобразим долю пропусков\n",
    "pass_value(data)"
   ]
  },
  {
   "cell_type": "markdown",
   "metadata": {},
   "source": [
    "**Краткий вывод**\n",
    "\n",
    "В данных есть миссинги в категориальных переменных (типа object). Больше всего миссингов в признаке `not_repaired` (была машина в ремонте или нет) - почти 20%. От 10% и менее в признаках `vehicle_type` (тип автомобильного кузова), `fuel_type`(тип топлива), `gearbox` (тип коробки передач) и `model` (модель автомобиля). \n",
    "\n",
    "Удалять миссинги не хотелось бы, теряется много информации. Посмотрим сколько объектов, где миссинги по всем этим признакам. "
   ]
  },
  {
   "cell_type": "code",
   "execution_count": 15,
   "metadata": {},
   "outputs": [
    {
     "data": {
      "text/plain": [
       "(2237, 16)"
      ]
     },
     "execution_count": 15,
     "metadata": {},
     "output_type": "execute_result"
    }
   ],
   "source": [
    "data.loc[data['not_repaired'].isna() & \n",
    "         data['vehicle_type'].isna() & \n",
    "         data['fuel_type'].isna() &  \n",
    "         data['gearbox'].isna() & \n",
    "         data['model'].isna()].shape"
   ]
  },
  {
   "cell_type": "markdown",
   "metadata": {},
   "source": [
    "Таких объектов 2237, что менее 1% от данных (точнее 0,63). Посмотрим чуть ближе на несколько таких объектов. "
   ]
  },
  {
   "cell_type": "code",
   "execution_count": 16,
   "metadata": {},
   "outputs": [
    {
     "data": {
      "text/html": [
       "<div>\n",
       "<style scoped>\n",
       "    .dataframe tbody tr th:only-of-type {\n",
       "        vertical-align: middle;\n",
       "    }\n",
       "\n",
       "    .dataframe tbody tr th {\n",
       "        vertical-align: top;\n",
       "    }\n",
       "\n",
       "    .dataframe thead th {\n",
       "        text-align: right;\n",
       "    }\n",
       "</style>\n",
       "<table border=\"1\" class=\"dataframe\">\n",
       "  <thead>\n",
       "    <tr style=\"text-align: right;\">\n",
       "      <th></th>\n",
       "      <th>date_crawled</th>\n",
       "      <th>price</th>\n",
       "      <th>vehicle_type</th>\n",
       "      <th>registration_year</th>\n",
       "      <th>gearbox</th>\n",
       "      <th>power</th>\n",
       "      <th>model</th>\n",
       "      <th>kilometer</th>\n",
       "      <th>registration_month</th>\n",
       "      <th>fuel_type</th>\n",
       "      <th>brand</th>\n",
       "      <th>not_repaired</th>\n",
       "      <th>date_created</th>\n",
       "      <th>number_of_pictures</th>\n",
       "      <th>postal_code</th>\n",
       "      <th>last_seen</th>\n",
       "    </tr>\n",
       "  </thead>\n",
       "  <tbody>\n",
       "    <tr>\n",
       "      <th>306</th>\n",
       "      <td>2016-03-21 14:38:37</td>\n",
       "      <td>200</td>\n",
       "      <td>NaN</td>\n",
       "      <td>2009</td>\n",
       "      <td>NaN</td>\n",
       "      <td>0</td>\n",
       "      <td>NaN</td>\n",
       "      <td>10000</td>\n",
       "      <td>0</td>\n",
       "      <td>NaN</td>\n",
       "      <td>sonstige_autos</td>\n",
       "      <td>NaN</td>\n",
       "      <td>2016-03-21 00:00:00</td>\n",
       "      <td>0</td>\n",
       "      <td>6493</td>\n",
       "      <td>2016-03-24 02:47:34</td>\n",
       "    </tr>\n",
       "    <tr>\n",
       "      <th>522</th>\n",
       "      <td>2016-03-14 18:40:14</td>\n",
       "      <td>0</td>\n",
       "      <td>NaN</td>\n",
       "      <td>2000</td>\n",
       "      <td>NaN</td>\n",
       "      <td>0</td>\n",
       "      <td>NaN</td>\n",
       "      <td>150000</td>\n",
       "      <td>0</td>\n",
       "      <td>NaN</td>\n",
       "      <td>volvo</td>\n",
       "      <td>NaN</td>\n",
       "      <td>2016-03-14 00:00:00</td>\n",
       "      <td>0</td>\n",
       "      <td>25524</td>\n",
       "      <td>2016-03-14 18:40:14</td>\n",
       "    </tr>\n",
       "    <tr>\n",
       "      <th>538</th>\n",
       "      <td>2016-03-15 17:43:21</td>\n",
       "      <td>2600</td>\n",
       "      <td>NaN</td>\n",
       "      <td>2005</td>\n",
       "      <td>NaN</td>\n",
       "      <td>0</td>\n",
       "      <td>NaN</td>\n",
       "      <td>125000</td>\n",
       "      <td>0</td>\n",
       "      <td>NaN</td>\n",
       "      <td>chevrolet</td>\n",
       "      <td>NaN</td>\n",
       "      <td>2016-03-15 00:00:00</td>\n",
       "      <td>0</td>\n",
       "      <td>94315</td>\n",
       "      <td>2016-04-06 14:45:44</td>\n",
       "    </tr>\n",
       "    <tr>\n",
       "      <th>552</th>\n",
       "      <td>2016-03-21 10:52:52</td>\n",
       "      <td>50</td>\n",
       "      <td>NaN</td>\n",
       "      <td>1985</td>\n",
       "      <td>NaN</td>\n",
       "      <td>0</td>\n",
       "      <td>NaN</td>\n",
       "      <td>150000</td>\n",
       "      <td>11</td>\n",
       "      <td>NaN</td>\n",
       "      <td>trabant</td>\n",
       "      <td>NaN</td>\n",
       "      <td>2016-03-21 00:00:00</td>\n",
       "      <td>0</td>\n",
       "      <td>69120</td>\n",
       "      <td>2016-03-22 14:50:41</td>\n",
       "    </tr>\n",
       "    <tr>\n",
       "      <th>622</th>\n",
       "      <td>2016-03-16 16:55:09</td>\n",
       "      <td>0</td>\n",
       "      <td>NaN</td>\n",
       "      <td>1111</td>\n",
       "      <td>NaN</td>\n",
       "      <td>0</td>\n",
       "      <td>NaN</td>\n",
       "      <td>5000</td>\n",
       "      <td>0</td>\n",
       "      <td>NaN</td>\n",
       "      <td>opel</td>\n",
       "      <td>NaN</td>\n",
       "      <td>2016-03-16 00:00:00</td>\n",
       "      <td>0</td>\n",
       "      <td>44628</td>\n",
       "      <td>2016-03-20 16:44:37</td>\n",
       "    </tr>\n",
       "  </tbody>\n",
       "</table>\n",
       "</div>"
      ],
      "text/plain": [
       "            date_crawled  price vehicle_type registration_year gearbox  power  \\\n",
       "306  2016-03-21 14:38:37    200          NaN              2009     NaN      0   \n",
       "522  2016-03-14 18:40:14      0          NaN              2000     NaN      0   \n",
       "538  2016-03-15 17:43:21   2600          NaN              2005     NaN      0   \n",
       "552  2016-03-21 10:52:52     50          NaN              1985     NaN      0   \n",
       "622  2016-03-16 16:55:09      0          NaN              1111     NaN      0   \n",
       "\n",
       "    model  kilometer registration_month fuel_type           brand  \\\n",
       "306   NaN      10000                  0       NaN  sonstige_autos   \n",
       "522   NaN     150000                  0       NaN           volvo   \n",
       "538   NaN     125000                  0       NaN       chevrolet   \n",
       "552   NaN     150000                 11       NaN         trabant   \n",
       "622   NaN       5000                  0       NaN            opel   \n",
       "\n",
       "    not_repaired         date_created  number_of_pictures postal_code  \\\n",
       "306          NaN  2016-03-21 00:00:00                   0        6493   \n",
       "522          NaN  2016-03-14 00:00:00                   0       25524   \n",
       "538          NaN  2016-03-15 00:00:00                   0       94315   \n",
       "552          NaN  2016-03-21 00:00:00                   0       69120   \n",
       "622          NaN  2016-03-16 00:00:00                   0       44628   \n",
       "\n",
       "               last_seen  \n",
       "306  2016-03-24 02:47:34  \n",
       "522  2016-03-14 18:40:14  \n",
       "538  2016-04-06 14:45:44  \n",
       "552  2016-03-22 14:50:41  \n",
       "622  2016-03-20 16:44:37  "
      ]
     },
     "execution_count": 16,
     "metadata": {},
     "output_type": "execute_result"
    }
   ],
   "source": [
    "data.loc[data['not_repaired'].isna() & \n",
    "         data['vehicle_type'].isna() & \n",
    "         data['fuel_type'].isna() &  \n",
    "         data['gearbox'].isna() & \n",
    "         data['model'].isna()].head()"
   ]
  },
  {
   "cell_type": "markdown",
   "metadata": {},
   "source": [
    "Думаю, что от этих данных можно спокойно избавиться. "
   ]
  },
  {
   "cell_type": "code",
   "execution_count": 17,
   "metadata": {},
   "outputs": [],
   "source": [
    "data.drop(data.loc[data['not_repaired'].isna() & \n",
    "         data['vehicle_type'].isna() & \n",
    "         data['fuel_type'].isna() &  \n",
    "         data['gearbox'].isna() & \n",
    "         data['model'].isna()].index, \n",
    "         inplace=True)"
   ]
  },
  {
   "cell_type": "code",
   "execution_count": 18,
   "metadata": {},
   "outputs": [
    {
     "data": {
      "image/png": "[encoded data removed]",
      "text/plain": [
       "<Figure size 1368x216 with 1 Axes>"
      ]
     },
     "metadata": {},
     "output_type": "display_data"
    }
   ],
   "source": [
    "pass_value(data)"
   ]
  },
  {
   "cell_type": "markdown",
   "metadata": {},
   "source": [
    "Миссингов все равно осталось довольно много. Заменю их при помощи `IterativeImputer`, когда поделю данные на обучающую и тестовую выборки. \n",
    "\n",
    "#### Выбросы \n",
    "\n",
    "Посмотрим насколько разброс сильный у количественных переменных. "
   ]
  },
  {
   "cell_type": "code",
   "execution_count": 19,
   "metadata": {},
   "outputs": [
    {
     "data": {
      "text/plain": [
       "Index(['price', 'power', 'kilometer', 'number_of_pictures'], dtype='object')"
      ]
     },
     "execution_count": 19,
     "metadata": {},
     "output_type": "execute_result"
    }
   ],
   "source": [
    "data.select_dtypes(include='number').columns"
   ]
  },
  {
   "cell_type": "code",
   "execution_count": 20,
   "metadata": {},
   "outputs": [
    {
     "data": {
      "image/png": "[encoded data removed]",
      "text/plain": [
       "<Figure size 1440x720 with 4 Axes>"
      ]
     },
     "metadata": {},
     "output_type": "display_data"
    }
   ],
   "source": [
    "# посмотрим на распределения \n",
    "\n",
    "fig = plt.figure(figsize=(20,10))\n",
    "\n",
    "ax_1 = fig.add_subplot(2, 3, 1)\n",
    "ax_2 = fig.add_subplot(2, 3, 2)\n",
    "ax_3 = fig.add_subplot(2, 3, 3)\n",
    "ax_4 = fig.add_subplot(2, 3, 4)\n",
    "\n",
    "axes = [ax_1, ax_2, ax_3, ax_4]\n",
    "\n",
    "\n",
    "sns.histplot(data['price'], ax=ax_1, bins=20)\n",
    "sns.histplot(data['power'], ax=ax_2, bins=20)\n",
    "sns.histplot(data['kilometer'], ax=ax_3, bins=20)\n",
    "sns.histplot(data['number_of_pictures'], ax=ax_4, bins=20)\n",
    "\n",
    "ax_1.set(title = 'Цена (евро)')\n",
    "ax_2.set(title = 'Мощность (л.с.)')\n",
    "ax_3.set(title = 'Пробег (км)')\n",
    "ax_4.set(title = 'Количество фотографий автомобиля')\n",
    "\n",
    "fig.suptitle('Histplot');"
   ]
  },
  {
   "cell_type": "markdown",
   "metadata": {},
   "source": [
    "**Краткий вывод** \n",
    "\n",
    "Первое, что бросается в глаза, это гистрограмма признака `number_of_pictures`. Убедимся, что там действительно нулевые значения. "
   ]
  },
  {
   "cell_type": "code",
   "execution_count": 21,
   "metadata": {
    "scrolled": true
   },
   "outputs": [
    {
     "data": {
      "text/plain": [
       "0    352132\n",
       "Name: number_of_pictures, dtype: int64"
      ]
     },
     "execution_count": 21,
     "metadata": {},
     "output_type": "execute_result"
    }
   ],
   "source": [
    "data['number_of_pictures'].value_counts()"
   ]
  },
  {
   "cell_type": "markdown",
   "metadata": {},
   "source": [
    "В признаке `number_of_pictures` одни нули. Этот признак не будем рассматривать при обучении. \n",
    "\n",
    "Далее, для остальных признаков хорошо бы посмотреть на box-plot."
   ]
  },
  {
   "cell_type": "code",
   "execution_count": 22,
   "metadata": {},
   "outputs": [
    {
     "data": {
      "image/png": "[encoded data removed]",
      "text/plain": [
       "<Figure size 1440x720 with 3 Axes>"
      ]
     },
     "metadata": {},
     "output_type": "display_data"
    }
   ],
   "source": [
    "# посмотрим на распределения \n",
    "\n",
    "fig = plt.figure(figsize=(20,10))\n",
    "\n",
    "ax_1 = fig.add_subplot(2, 3, 1)\n",
    "ax_2 = fig.add_subplot(2, 3, 2)\n",
    "ax_3 = fig.add_subplot(2, 3, 3)\n",
    "\n",
    "axes = [ax_1, ax_2, ax_3, ax_4]\n",
    "\n",
    "\n",
    "sns.boxplot(data['price'], ax=ax_1)\n",
    "sns.boxplot(data['power'], ax=ax_2)\n",
    "sns.boxplot(data['kilometer'], ax=ax_3)\n",
    "\n",
    "ax_1.set(title = 'Цена (евро)')\n",
    "ax_2.set(title = 'Мощность (л.с.)')\n",
    "ax_3.set(title = 'Пробег (км)')\n",
    "\n",
    "fig.suptitle('Histplot');"
   ]
  },
  {
   "cell_type": "markdown",
   "metadata": {},
   "source": [
    "Итак, видим, что у признака `power` очень много аномальных значений, и много значений, близких к нулю. "
   ]
  },
  {
   "cell_type": "code",
   "execution_count": 23,
   "metadata": {},
   "outputs": [
    {
     "data": {
      "text/plain": [
       "0       38204\n",
       "75      24000\n",
       "60      15881\n",
       "150     14584\n",
       "101     13292\n",
       "        ...  \n",
       "645         1\n",
       "525         1\n",
       "1922        1\n",
       "6018        1\n",
       "902         1\n",
       "Name: power, Length: 712, dtype: int64"
      ]
     },
     "execution_count": 23,
     "metadata": {},
     "output_type": "execute_result"
    }
   ],
   "source": [
    "data['power'].value_counts()"
   ]
  },
  {
   "cell_type": "markdown",
   "metadata": {},
   "source": [
    "Посмотрим на дескриптивку. "
   ]
  },
  {
   "cell_type": "code",
   "execution_count": 24,
   "metadata": {},
   "outputs": [
    {
     "data": {
      "text/html": [
       "<div>\n",
       "<style scoped>\n",
       "    .dataframe tbody tr th:only-of-type {\n",
       "        vertical-align: middle;\n",
       "    }\n",
       "\n",
       "    .dataframe tbody tr th {\n",
       "        vertical-align: top;\n",
       "    }\n",
       "\n",
       "    .dataframe thead th {\n",
       "        text-align: right;\n",
       "    }\n",
       "</style>\n",
       "<table border=\"1\" class=\"dataframe\">\n",
       "  <thead>\n",
       "    <tr style=\"text-align: right;\">\n",
       "      <th></th>\n",
       "      <th>price</th>\n",
       "      <th>power</th>\n",
       "      <th>kilometer</th>\n",
       "      <th>number_of_pictures</th>\n",
       "    </tr>\n",
       "  </thead>\n",
       "  <tbody>\n",
       "    <tr>\n",
       "      <th>count</th>\n",
       "      <td>352132.000000</td>\n",
       "      <td>352132.000000</td>\n",
       "      <td>352132.000000</td>\n",
       "      <td>352132.0</td>\n",
       "    </tr>\n",
       "    <tr>\n",
       "      <th>mean</th>\n",
       "      <td>4437.540570</td>\n",
       "      <td>110.720108</td>\n",
       "      <td>128438.071519</td>\n",
       "      <td>0.0</td>\n",
       "    </tr>\n",
       "    <tr>\n",
       "      <th>std</th>\n",
       "      <td>4516.540446</td>\n",
       "      <td>190.249667</td>\n",
       "      <td>37562.896848</td>\n",
       "      <td>0.0</td>\n",
       "    </tr>\n",
       "    <tr>\n",
       "      <th>min</th>\n",
       "      <td>0.000000</td>\n",
       "      <td>0.000000</td>\n",
       "      <td>5000.000000</td>\n",
       "      <td>0.0</td>\n",
       "    </tr>\n",
       "    <tr>\n",
       "      <th>25%</th>\n",
       "      <td>1100.000000</td>\n",
       "      <td>69.000000</td>\n",
       "      <td>125000.000000</td>\n",
       "      <td>0.0</td>\n",
       "    </tr>\n",
       "    <tr>\n",
       "      <th>50%</th>\n",
       "      <td>2750.000000</td>\n",
       "      <td>105.000000</td>\n",
       "      <td>150000.000000</td>\n",
       "      <td>0.0</td>\n",
       "    </tr>\n",
       "    <tr>\n",
       "      <th>75%</th>\n",
       "      <td>6450.000000</td>\n",
       "      <td>143.000000</td>\n",
       "      <td>150000.000000</td>\n",
       "      <td>0.0</td>\n",
       "    </tr>\n",
       "    <tr>\n",
       "      <th>max</th>\n",
       "      <td>20000.000000</td>\n",
       "      <td>20000.000000</td>\n",
       "      <td>150000.000000</td>\n",
       "      <td>0.0</td>\n",
       "    </tr>\n",
       "  </tbody>\n",
       "</table>\n",
       "</div>"
      ],
      "text/plain": [
       "               price          power      kilometer  number_of_pictures\n",
       "count  352132.000000  352132.000000  352132.000000            352132.0\n",
       "mean     4437.540570     110.720108  128438.071519                 0.0\n",
       "std      4516.540446     190.249667   37562.896848                 0.0\n",
       "min         0.000000       0.000000    5000.000000                 0.0\n",
       "25%      1100.000000      69.000000  125000.000000                 0.0\n",
       "50%      2750.000000     105.000000  150000.000000                 0.0\n",
       "75%      6450.000000     143.000000  150000.000000                 0.0\n",
       "max     20000.000000   20000.000000  150000.000000                 0.0"
      ]
     },
     "execution_count": 24,
     "metadata": {},
     "output_type": "execute_result"
    }
   ],
   "source": [
    "data.select_dtypes(include='number').describe()"
   ]
  },
  {
   "cell_type": "markdown",
   "metadata": {},
   "source": [
    "У нас есть странные нулевые значения в признаках `price` и `power`.  В общем как-то нужно эти нули заменить, скорее всего это миссинги. Далее, перед обучением заменим нули на медианное значение.\n",
    "\n",
    "Это с одной стороны. А с другой стороны, очень любопытно, что есть огромные значения больше 5000 л.с. Давайте посмотрим сколько таких значений. Сгруппируем еще по типу автомобильного кузова, мб это-то что даст."
   ]
  },
  {
   "cell_type": "code",
   "execution_count": 25,
   "metadata": {},
   "outputs": [
    {
     "data": {
      "text/plain": [
       "vehicle_type\n",
       "bus             6\n",
       "convertible     4\n",
       "coupe           2\n",
       "other           3\n",
       "sedan          16\n",
       "small          24\n",
       "wagon          15\n",
       "Name: vehicle_type, dtype: int64"
      ]
     },
     "execution_count": 25,
     "metadata": {},
     "output_type": "execute_result"
    }
   ],
   "source": [
    "data.loc[data['power'] > 5000].groupby('vehicle_type')['vehicle_type'].count()"
   ]
  },
  {
   "cell_type": "markdown",
   "metadata": {},
   "source": [
    "Итак, в базе 82 записи, где указана мощность у транспортного средства более 5000 л.с. Это менее 0,3%. Предлагаю от них избавиться. "
   ]
  },
  {
   "cell_type": "code",
   "execution_count": 26,
   "metadata": {},
   "outputs": [],
   "source": [
    "data.drop(data.loc[data['power'] > 5000].index, inplace=True)"
   ]
  },
  {
   "cell_type": "code",
   "execution_count": 27,
   "metadata": {},
   "outputs": [
    {
     "data": {
      "image/png": "[encoded data removed]",
      "text/plain": [
       "<Figure size 432x288 with 1 Axes>"
      ]
     },
     "metadata": {},
     "output_type": "display_data"
    }
   ],
   "source": [
    "# посмотрим на распределения \n",
    "sns.boxplot(data['power']);"
   ]
  },
  {
   "cell_type": "markdown",
   "metadata": {},
   "source": [
    "Если смотреть на выбросы с точки зрения того, что объекты удалены от третьего квартила больше чем на 3 межквартильных размаха, то аномальные значения еще остаются. Но удалять эти выбросы представляется неразумным, поскольку мощности машин могут достигать до 5 тыс. л.с. \n",
    "\n",
    "Выбросы признака `price` не сильные. Можно проверить эту гипотезу."
   ]
  },
  {
   "cell_type": "code",
   "execution_count": 28,
   "metadata": {},
   "outputs": [
    {
     "data": {
      "text/plain": [
       "False    352050\n",
       "Name: price, dtype: int64"
      ]
     },
     "execution_count": 28,
     "metadata": {},
     "output_type": "execute_result"
    }
   ],
   "source": [
    "q1 = data[['price']].quantile(0.25)\n",
    "q3 = data[['price']].quantile(0.75)\n",
    "iqr = q3 - q1\n",
    "\n",
    "(\n",
    "    data['price']\n",
    "    .apply(lambda x: \n",
    "           True if ((x < (float(q1) - 3 * float(iqr))) or (x > (float(q3) + 3 * float(iqr)))) \n",
    "           else False)\n",
    ").value_counts()"
   ]
  },
  {
   "cell_type": "markdown",
   "metadata": {},
   "source": [
    "Убедились, что действительно нет объектов, которые удалены от третьего квартила больше чем на 3 межквартильных размаха.\n",
    "\n",
    "Итак, от выбросов избавилиись. Перейдем к проверке дублей. "
   ]
  },
  {
   "cell_type": "markdown",
   "metadata": {},
   "source": [
    "#### Дубли\n",
    "\n",
    "Сначала посмотрим на полные дубли. \n",
    "Посмотрим на дубли по переменной `postal_code` — почтовый индекс владельца анкеты (пользователя), а потом посмотрим на сочетания `postal_code` с другими признаками, а именно: `vehicle_type` — тип автомобильного кузова, `registration_year` — год регистрации автомобиля, `model` — модель автомобиля, `brand` — марка автомобиля."
   ]
  },
  {
   "cell_type": "code",
   "execution_count": 29,
   "metadata": {},
   "outputs": [
    {
     "data": {
      "text/plain": [
       "4"
      ]
     },
     "execution_count": 29,
     "metadata": {},
     "output_type": "execute_result"
    }
   ],
   "source": [
    "(\n",
    "    data\n",
    "    .duplicated().sum()\n",
    ")"
   ]
  },
  {
   "cell_type": "markdown",
   "metadata": {},
   "source": [
    "В базе есть 4 полных дубля. Удалим их. "
   ]
  },
  {
   "cell_type": "code",
   "execution_count": 30,
   "metadata": {},
   "outputs": [],
   "source": [
    "data = data.drop_duplicates().reset_index(drop=True)"
   ]
  },
  {
   "cell_type": "code",
   "execution_count": 31,
   "metadata": {},
   "outputs": [
    {
     "data": {
      "text/plain": [
       "array(['100', '145', '147', '156', '159', '1_reihe', '1er', '200',\n",
       "       '2_reihe', '300c', '3_reihe', '3er', '4_reihe', '500', '5_reihe',\n",
       "       '5er', '601', '6_reihe', '6er', '7er', '80', '850', '90', '900',\n",
       "       '9000', '911', 'a1', 'a2', 'a3', 'a4', 'a5', 'a6', 'a8',\n",
       "       'a_klasse', 'accord', 'agila', 'alhambra', 'almera', 'altea',\n",
       "       'amarok', 'antara', 'arosa', 'astra', 'auris', 'avensis', 'aveo',\n",
       "       'aygo', 'b_klasse', 'b_max', 'beetle', 'berlingo', 'bora',\n",
       "       'boxster', 'bravo', 'c1', 'c2', 'c3', 'c4', 'c5', 'c_klasse',\n",
       "       'c_max', 'c_reihe', 'caddy', 'calibra', 'captiva', 'carisma',\n",
       "       'carnival', 'cayenne', 'cc', 'ceed', 'charade', 'cherokee',\n",
       "       'citigo', 'civic', 'cl', 'clio', 'clk', 'clubman', 'colt', 'combo',\n",
       "       'cooper', 'cordoba', 'corolla', 'corsa', 'cr_reihe', 'croma',\n",
       "       'crossfire', 'cuore', 'cx_reihe', 'defender', 'delta', 'discovery',\n",
       "       'doblo', 'ducato', 'duster', 'e_klasse', 'elefantino', 'eos',\n",
       "       'escort', 'espace', 'exeo', 'fabia', 'fiesta', 'focus', 'forester',\n",
       "       'forfour', 'fortwo', 'fox', 'freelander', 'fusion', 'g_klasse',\n",
       "       'galant', 'galaxy', 'getz', 'gl', 'glk', 'golf', 'grand', 'i3',\n",
       "       'i_reihe', 'ibiza', 'impreza', 'insignia', 'jazz', 'jetta',\n",
       "       'jimny', 'juke', 'justy', 'ka', 'kadett', 'kaefer', 'kalina',\n",
       "       'kalos', 'kangoo', 'kappa', 'kuga', 'laguna', 'lancer', 'lanos',\n",
       "       'legacy', 'leon', 'lodgy', 'logan', 'lupo', 'lybra', 'm_klasse',\n",
       "       'm_reihe', 'materia', 'matiz', 'megane', 'meriva', 'micra', 'mii',\n",
       "       'modus', 'mondeo', 'move', 'musa', 'mustang', 'mx_reihe', 'navara',\n",
       "       'niva', 'note', 'nubira', 'octavia', 'omega', 'one', 'other',\n",
       "       'outlander', 'pajero', 'panda', 'passat', 'phaeton', 'picanto',\n",
       "       'polo', 'primera', 'ptcruiser', 'punto', 'q3', 'q5', 'q7',\n",
       "       'qashqai', 'r19', 'range_rover', 'range_rover_evoque',\n",
       "       'range_rover_sport', 'rangerover', 'rav', 'rio', 'roadster',\n",
       "       'roomster', 'rx_reihe', 's60', 's_klasse', 's_max', 's_type',\n",
       "       'samara', 'sandero', 'santa', 'scenic', 'scirocco', 'seicento',\n",
       "       'serie_1', 'serie_2', 'serie_3', 'sharan', 'signum', 'sirion',\n",
       "       'sl', 'slk', 'sorento', 'spark', 'spider', 'sportage', 'sprinter',\n",
       "       'stilo', 'superb', 'swift', 'terios', 'tigra', 'tiguan', 'toledo',\n",
       "       'touareg', 'touran', 'transit', 'transporter', 'tt', 'tucson',\n",
       "       'twingo', 'up', 'v40', 'v50', 'v60', 'v70', 'v_klasse', 'vectra',\n",
       "       'verso', 'viano', 'vito', 'vivaro', 'voyager', 'wrangler',\n",
       "       'x_reihe', 'x_trail', 'x_type', 'xc_reihe', 'yaris', 'yeti',\n",
       "       'ypsilon', 'z_reihe', 'zafira', nan], dtype=object)"
      ]
     },
     "execution_count": 31,
     "metadata": {},
     "output_type": "execute_result"
    }
   ],
   "source": [
    "data['model'].sort_values().unique()"
   ]
  },
  {
   "cell_type": "code",
   "execution_count": 32,
   "metadata": {},
   "outputs": [],
   "source": [
    "data.loc[data['model'] == 'rangerover', 'model'] = 'range_rover'"
   ]
  },
  {
   "cell_type": "code",
   "execution_count": 33,
   "metadata": {},
   "outputs": [
    {
     "data": {
      "text/plain": [
       "array(['100', '145', '147', '156', '159', '1_reihe', '1er', '200',\n",
       "       '2_reihe', '300c', '3_reihe', '3er', '4_reihe', '500', '5_reihe',\n",
       "       '5er', '601', '6_reihe', '6er', '7er', '80', '850', '90', '900',\n",
       "       '9000', '911', 'a1', 'a2', 'a3', 'a4', 'a5', 'a6', 'a8',\n",
       "       'a_klasse', 'accord', 'agila', 'alhambra', 'almera', 'altea',\n",
       "       'amarok', 'antara', 'arosa', 'astra', 'auris', 'avensis', 'aveo',\n",
       "       'aygo', 'b_klasse', 'b_max', 'beetle', 'berlingo', 'bora',\n",
       "       'boxster', 'bravo', 'c1', 'c2', 'c3', 'c4', 'c5', 'c_klasse',\n",
       "       'c_max', 'c_reihe', 'caddy', 'calibra', 'captiva', 'carisma',\n",
       "       'carnival', 'cayenne', 'cc', 'ceed', 'charade', 'cherokee',\n",
       "       'citigo', 'civic', 'cl', 'clio', 'clk', 'clubman', 'colt', 'combo',\n",
       "       'cooper', 'cordoba', 'corolla', 'corsa', 'cr_reihe', 'croma',\n",
       "       'crossfire', 'cuore', 'cx_reihe', 'defender', 'delta', 'discovery',\n",
       "       'doblo', 'ducato', 'duster', 'e_klasse', 'elefantino', 'eos',\n",
       "       'escort', 'espace', 'exeo', 'fabia', 'fiesta', 'focus', 'forester',\n",
       "       'forfour', 'fortwo', 'fox', 'freelander', 'fusion', 'g_klasse',\n",
       "       'galant', 'galaxy', 'getz', 'gl', 'glk', 'golf', 'grand', 'i3',\n",
       "       'i_reihe', 'ibiza', 'impreza', 'insignia', 'jazz', 'jetta',\n",
       "       'jimny', 'juke', 'justy', 'ka', 'kadett', 'kaefer', 'kalina',\n",
       "       'kalos', 'kangoo', 'kappa', 'kuga', 'laguna', 'lancer', 'lanos',\n",
       "       'legacy', 'leon', 'lodgy', 'logan', 'lupo', 'lybra', 'm_klasse',\n",
       "       'm_reihe', 'materia', 'matiz', 'megane', 'meriva', 'micra', 'mii',\n",
       "       'modus', 'mondeo', 'move', 'musa', 'mustang', 'mx_reihe', 'navara',\n",
       "       'niva', 'note', 'nubira', 'octavia', 'omega', 'one', 'other',\n",
       "       'outlander', 'pajero', 'panda', 'passat', 'phaeton', 'picanto',\n",
       "       'polo', 'primera', 'ptcruiser', 'punto', 'q3', 'q5', 'q7',\n",
       "       'qashqai', 'r19', 'range_rover', 'range_rover_evoque',\n",
       "       'range_rover_sport', 'rav', 'rio', 'roadster', 'roomster',\n",
       "       'rx_reihe', 's60', 's_klasse', 's_max', 's_type', 'samara',\n",
       "       'sandero', 'santa', 'scenic', 'scirocco', 'seicento', 'serie_1',\n",
       "       'serie_2', 'serie_3', 'sharan', 'signum', 'sirion', 'sl', 'slk',\n",
       "       'sorento', 'spark', 'spider', 'sportage', 'sprinter', 'stilo',\n",
       "       'superb', 'swift', 'terios', 'tigra', 'tiguan', 'toledo',\n",
       "       'touareg', 'touran', 'transit', 'transporter', 'tt', 'tucson',\n",
       "       'twingo', 'up', 'v40', 'v50', 'v60', 'v70', 'v_klasse', 'vectra',\n",
       "       'verso', 'viano', 'vito', 'vivaro', 'voyager', 'wrangler',\n",
       "       'x_reihe', 'x_trail', 'x_type', 'xc_reihe', 'yaris', 'yeti',\n",
       "       'ypsilon', 'z_reihe', 'zafira', nan], dtype=object)"
      ]
     },
     "execution_count": 33,
     "metadata": {},
     "output_type": "execute_result"
    }
   ],
   "source": [
    "data['model'].sort_values().unique()"
   ]
  },
  {
   "cell_type": "markdown",
   "metadata": {},
   "source": [
    "Полные дубли удалили. Теперь посмотрим на дубли по сочетанию признаков (неявные дубли)."
   ]
  },
  {
   "cell_type": "code",
   "execution_count": 34,
   "metadata": {},
   "outputs": [
    {
     "data": {
      "text/plain": [
       "343905"
      ]
     },
     "execution_count": 34,
     "metadata": {},
     "output_type": "execute_result"
    }
   ],
   "source": [
    "(\n",
    "    data[['postal_code']]\n",
    "    .duplicated().sum()\n",
    ")"
   ]
  },
  {
   "cell_type": "markdown",
   "metadata": {},
   "source": [
    "Это было ожидаемо, потому что почтовый индекс может быть одинаковым у многих пользователей. Посмотрим на сочетание."
   ]
  },
  {
   "cell_type": "code",
   "execution_count": 35,
   "metadata": {},
   "outputs": [
    {
     "data": {
      "text/plain": [
       "64021"
      ]
     },
     "execution_count": 35,
     "metadata": {},
     "output_type": "execute_result"
    }
   ],
   "source": [
    "(\n",
    "    data[['postal_code', 'brand', 'model', 'vehicle_type', 'registration_year']]\n",
    "    .duplicated().sum()\n",
    ")"
   ]
  },
  {
   "cell_type": "markdown",
   "metadata": {},
   "source": [
    "Ого! Таких дублей что-то прямо совсем много. Может быть стоить добавить в `registration_month` и `gearbox`."
   ]
  },
  {
   "cell_type": "code",
   "execution_count": 36,
   "metadata": {},
   "outputs": [
    {
     "data": {
      "text/plain": [
       "47082"
      ]
     },
     "execution_count": 36,
     "metadata": {},
     "output_type": "execute_result"
    }
   ],
   "source": [
    "(\n",
    "    data[['postal_code', 'brand', 'model', 'vehicle_type', 'registration_year', 'registration_month', 'gearbox']]\n",
    "    .duplicated().sum()\n",
    ")"
   ]
  },
  {
   "cell_type": "markdown",
   "metadata": {},
   "source": [
    "Все равно дублей как-то многовато остаетсят. Глянем на первые 10 записей."
   ]
  },
  {
   "cell_type": "code",
   "execution_count": 37,
   "metadata": {},
   "outputs": [
    {
     "data": {
      "text/html": [
       "<div>\n",
       "<style scoped>\n",
       "    .dataframe tbody tr th:only-of-type {\n",
       "        vertical-align: middle;\n",
       "    }\n",
       "\n",
       "    .dataframe tbody tr th {\n",
       "        vertical-align: top;\n",
       "    }\n",
       "\n",
       "    .dataframe thead th {\n",
       "        text-align: right;\n",
       "    }\n",
       "</style>\n",
       "<table border=\"1\" class=\"dataframe\">\n",
       "  <thead>\n",
       "    <tr style=\"text-align: right;\">\n",
       "      <th></th>\n",
       "      <th>date_crawled</th>\n",
       "      <th>price</th>\n",
       "      <th>vehicle_type</th>\n",
       "      <th>registration_year</th>\n",
       "      <th>gearbox</th>\n",
       "      <th>power</th>\n",
       "      <th>model</th>\n",
       "      <th>kilometer</th>\n",
       "      <th>registration_month</th>\n",
       "      <th>fuel_type</th>\n",
       "      <th>brand</th>\n",
       "      <th>not_repaired</th>\n",
       "      <th>date_created</th>\n",
       "      <th>number_of_pictures</th>\n",
       "      <th>postal_code</th>\n",
       "      <th>last_seen</th>\n",
       "    </tr>\n",
       "  </thead>\n",
       "  <tbody>\n",
       "    <tr>\n",
       "      <th>7373</th>\n",
       "      <td>2016-03-24 17:52:09</td>\n",
       "      <td>16000</td>\n",
       "      <td>sedan</td>\n",
       "      <td>2014</td>\n",
       "      <td>auto</td>\n",
       "      <td>150</td>\n",
       "      <td>a3</td>\n",
       "      <td>20000</td>\n",
       "      <td>3</td>\n",
       "      <td>gasoline</td>\n",
       "      <td>audi</td>\n",
       "      <td>no</td>\n",
       "      <td>2016-03-24 00:00:00</td>\n",
       "      <td>0</td>\n",
       "      <td>10115</td>\n",
       "      <td>2016-03-24 17:52:09</td>\n",
       "    </tr>\n",
       "    <tr>\n",
       "      <th>10701</th>\n",
       "      <td>2016-03-24 14:54:51</td>\n",
       "      <td>16000</td>\n",
       "      <td>sedan</td>\n",
       "      <td>2014</td>\n",
       "      <td>auto</td>\n",
       "      <td>150</td>\n",
       "      <td>a3</td>\n",
       "      <td>20000</td>\n",
       "      <td>3</td>\n",
       "      <td>gasoline</td>\n",
       "      <td>audi</td>\n",
       "      <td>no</td>\n",
       "      <td>2016-03-24 00:00:00</td>\n",
       "      <td>0</td>\n",
       "      <td>10115</td>\n",
       "      <td>2016-03-24 15:42:42</td>\n",
       "    </tr>\n",
       "    <tr>\n",
       "      <th>15610</th>\n",
       "      <td>2016-03-10 13:58:16</td>\n",
       "      <td>9500</td>\n",
       "      <td>sedan</td>\n",
       "      <td>2012</td>\n",
       "      <td>auto</td>\n",
       "      <td>170</td>\n",
       "      <td>a3</td>\n",
       "      <td>80000</td>\n",
       "      <td>6</td>\n",
       "      <td>gasoline</td>\n",
       "      <td>audi</td>\n",
       "      <td>no</td>\n",
       "      <td>2016-03-10 00:00:00</td>\n",
       "      <td>0</td>\n",
       "      <td>10115</td>\n",
       "      <td>2016-03-10 13:58:16</td>\n",
       "    </tr>\n",
       "    <tr>\n",
       "      <th>17227</th>\n",
       "      <td>2016-03-23 19:54:01</td>\n",
       "      <td>9500</td>\n",
       "      <td>sedan</td>\n",
       "      <td>2012</td>\n",
       "      <td>auto</td>\n",
       "      <td>170</td>\n",
       "      <td>a3</td>\n",
       "      <td>80000</td>\n",
       "      <td>6</td>\n",
       "      <td>gasoline</td>\n",
       "      <td>audi</td>\n",
       "      <td>no</td>\n",
       "      <td>2016-03-23 00:00:00</td>\n",
       "      <td>0</td>\n",
       "      <td>10115</td>\n",
       "      <td>2016-03-23 19:54:01</td>\n",
       "    </tr>\n",
       "    <tr>\n",
       "      <th>32897</th>\n",
       "      <td>2016-03-19 13:51:40</td>\n",
       "      <td>16000</td>\n",
       "      <td>sedan</td>\n",
       "      <td>2014</td>\n",
       "      <td>auto</td>\n",
       "      <td>150</td>\n",
       "      <td>a3</td>\n",
       "      <td>20000</td>\n",
       "      <td>3</td>\n",
       "      <td>gasoline</td>\n",
       "      <td>audi</td>\n",
       "      <td>no</td>\n",
       "      <td>2016-03-19 00:00:00</td>\n",
       "      <td>0</td>\n",
       "      <td>10115</td>\n",
       "      <td>2016-03-19 13:51:40</td>\n",
       "    </tr>\n",
       "  </tbody>\n",
       "</table>\n",
       "</div>"
      ],
      "text/plain": [
       "              date_crawled  price vehicle_type registration_year gearbox  \\\n",
       "7373   2016-03-24 17:52:09  16000        sedan              2014    auto   \n",
       "10701  2016-03-24 14:54:51  16000        sedan              2014    auto   \n",
       "15610  2016-03-10 13:58:16   9500        sedan              2012    auto   \n",
       "17227  2016-03-23 19:54:01   9500        sedan              2012    auto   \n",
       "32897  2016-03-19 13:51:40  16000        sedan              2014    auto   \n",
       "\n",
       "       power model  kilometer registration_month fuel_type brand not_repaired  \\\n",
       "7373     150    a3      20000                  3  gasoline  audi           no   \n",
       "10701    150    a3      20000                  3  gasoline  audi           no   \n",
       "15610    170    a3      80000                  6  gasoline  audi           no   \n",
       "17227    170    a3      80000                  6  gasoline  audi           no   \n",
       "32897    150    a3      20000                  3  gasoline  audi           no   \n",
       "\n",
       "              date_created  number_of_pictures postal_code  \\\n",
       "7373   2016-03-24 00:00:00                   0       10115   \n",
       "10701  2016-03-24 00:00:00                   0       10115   \n",
       "15610  2016-03-10 00:00:00                   0       10115   \n",
       "17227  2016-03-23 00:00:00                   0       10115   \n",
       "32897  2016-03-19 00:00:00                   0       10115   \n",
       "\n",
       "                 last_seen  \n",
       "7373   2016-03-24 17:52:09  \n",
       "10701  2016-03-24 15:42:42  \n",
       "15610  2016-03-10 13:58:16  \n",
       "17227  2016-03-23 19:54:01  \n",
       "32897  2016-03-19 13:51:40  "
      ]
     },
     "execution_count": 37,
     "metadata": {},
     "output_type": "execute_result"
    }
   ],
   "source": [
    "(\n",
    "    data.loc[data[['postal_code', 'brand', 'model', 'vehicle_type', 'registration_year', 'registration_month', 'gearbox']]\n",
    "    .duplicated(keep='first')==True].sort_values(by=['postal_code','brand', 'model',]).head()\n",
    ")"
   ]
  },
  {
   "cell_type": "markdown",
   "metadata": {},
   "source": [
    "Что видим: нужно добавить в проверку дублей признак `power`, `fuel_type` и `kilometer`. Посмотрим еще раз сколько останется. Если все еще много дублей, то добавим `date_created`. В основном предполагаемые дубли отличаются по признакам `date_crawled\t` - дата выгрузки анкеты и `last_seen` - дата последней активности пользователя. Думаю, что ими можно пренебречь. "
   ]
  },
  {
   "cell_type": "code",
   "execution_count": 38,
   "metadata": {},
   "outputs": [
    {
     "data": {
      "text/plain": [
       "39098"
      ]
     },
     "execution_count": 38,
     "metadata": {},
     "output_type": "execute_result"
    }
   ],
   "source": [
    "(\n",
    "    data[['postal_code', 'brand', 'model', \n",
    "                   'vehicle_type', 'registration_year', \n",
    "                   'registration_month', 'gearbox',\n",
    "                  'power', 'kilometer', 'fuel_type']]\n",
    "    .duplicated().sum()\n",
    ")"
   ]
  },
  {
   "cell_type": "code",
   "execution_count": 39,
   "metadata": {},
   "outputs": [
    {
     "data": {
      "text/plain": [
       "13524"
      ]
     },
     "execution_count": 39,
     "metadata": {},
     "output_type": "execute_result"
    }
   ],
   "source": [
    "(\n",
    "    data[['postal_code', 'brand', 'model', \n",
    "          'vehicle_type', 'registration_year', \n",
    "          'registration_month', 'gearbox',\n",
    "          'power', 'kilometer', 'fuel_type',\n",
    "          'date_created']]\n",
    "    .duplicated().sum()\n",
    ")"
   ]
  },
  {
   "cell_type": "markdown",
   "metadata": {},
   "source": [
    "Итак, по этим признакам у нас еще выявлено 13524 потенциальных дублей (что приблизительно 4% от данных). Посмотрим на них ближе, выясним чем они отличаются друг от друга.  "
   ]
  },
  {
   "cell_type": "code",
   "execution_count": 40,
   "metadata": {},
   "outputs": [
    {
     "data": {
      "text/html": [
       "<div>\n",
       "<style scoped>\n",
       "    .dataframe tbody tr th:only-of-type {\n",
       "        vertical-align: middle;\n",
       "    }\n",
       "\n",
       "    .dataframe tbody tr th {\n",
       "        vertical-align: top;\n",
       "    }\n",
       "\n",
       "    .dataframe thead th {\n",
       "        text-align: right;\n",
       "    }\n",
       "</style>\n",
       "<table border=\"1\" class=\"dataframe\">\n",
       "  <thead>\n",
       "    <tr style=\"text-align: right;\">\n",
       "      <th></th>\n",
       "      <th>date_crawled</th>\n",
       "      <th>price</th>\n",
       "      <th>vehicle_type</th>\n",
       "      <th>registration_year</th>\n",
       "      <th>gearbox</th>\n",
       "      <th>power</th>\n",
       "      <th>model</th>\n",
       "      <th>kilometer</th>\n",
       "      <th>registration_month</th>\n",
       "      <th>fuel_type</th>\n",
       "      <th>brand</th>\n",
       "      <th>not_repaired</th>\n",
       "      <th>date_created</th>\n",
       "      <th>number_of_pictures</th>\n",
       "      <th>postal_code</th>\n",
       "      <th>last_seen</th>\n",
       "    </tr>\n",
       "  </thead>\n",
       "  <tbody>\n",
       "    <tr>\n",
       "      <th>3097</th>\n",
       "      <td>2016-03-26 20:36:56</td>\n",
       "      <td>9500</td>\n",
       "      <td>sedan</td>\n",
       "      <td>2012</td>\n",
       "      <td>auto</td>\n",
       "      <td>170</td>\n",
       "      <td>a3</td>\n",
       "      <td>80000</td>\n",
       "      <td>6</td>\n",
       "      <td>gasoline</td>\n",
       "      <td>audi</td>\n",
       "      <td>no</td>\n",
       "      <td>2016-03-26 00:00:00</td>\n",
       "      <td>0</td>\n",
       "      <td>10115</td>\n",
       "      <td>2016-03-26 20:36:56</td>\n",
       "    </tr>\n",
       "    <tr>\n",
       "      <th>7373</th>\n",
       "      <td>2016-03-24 17:52:09</td>\n",
       "      <td>16000</td>\n",
       "      <td>sedan</td>\n",
       "      <td>2014</td>\n",
       "      <td>auto</td>\n",
       "      <td>150</td>\n",
       "      <td>a3</td>\n",
       "      <td>20000</td>\n",
       "      <td>3</td>\n",
       "      <td>gasoline</td>\n",
       "      <td>audi</td>\n",
       "      <td>no</td>\n",
       "      <td>2016-03-24 00:00:00</td>\n",
       "      <td>0</td>\n",
       "      <td>10115</td>\n",
       "      <td>2016-03-24 17:52:09</td>\n",
       "    </tr>\n",
       "    <tr>\n",
       "      <th>10701</th>\n",
       "      <td>2016-03-24 14:54:51</td>\n",
       "      <td>16000</td>\n",
       "      <td>sedan</td>\n",
       "      <td>2014</td>\n",
       "      <td>auto</td>\n",
       "      <td>150</td>\n",
       "      <td>a3</td>\n",
       "      <td>20000</td>\n",
       "      <td>3</td>\n",
       "      <td>gasoline</td>\n",
       "      <td>audi</td>\n",
       "      <td>no</td>\n",
       "      <td>2016-03-24 00:00:00</td>\n",
       "      <td>0</td>\n",
       "      <td>10115</td>\n",
       "      <td>2016-03-24 15:42:42</td>\n",
       "    </tr>\n",
       "    <tr>\n",
       "      <th>15610</th>\n",
       "      <td>2016-03-10 13:58:16</td>\n",
       "      <td>9500</td>\n",
       "      <td>sedan</td>\n",
       "      <td>2012</td>\n",
       "      <td>auto</td>\n",
       "      <td>170</td>\n",
       "      <td>a3</td>\n",
       "      <td>80000</td>\n",
       "      <td>6</td>\n",
       "      <td>gasoline</td>\n",
       "      <td>audi</td>\n",
       "      <td>no</td>\n",
       "      <td>2016-03-10 00:00:00</td>\n",
       "      <td>0</td>\n",
       "      <td>10115</td>\n",
       "      <td>2016-03-10 13:58:16</td>\n",
       "    </tr>\n",
       "    <tr>\n",
       "      <th>17227</th>\n",
       "      <td>2016-03-23 19:54:01</td>\n",
       "      <td>9500</td>\n",
       "      <td>sedan</td>\n",
       "      <td>2012</td>\n",
       "      <td>auto</td>\n",
       "      <td>170</td>\n",
       "      <td>a3</td>\n",
       "      <td>80000</td>\n",
       "      <td>6</td>\n",
       "      <td>gasoline</td>\n",
       "      <td>audi</td>\n",
       "      <td>no</td>\n",
       "      <td>2016-03-23 00:00:00</td>\n",
       "      <td>0</td>\n",
       "      <td>10115</td>\n",
       "      <td>2016-03-23 19:54:01</td>\n",
       "    </tr>\n",
       "  </tbody>\n",
       "</table>\n",
       "</div>"
      ],
      "text/plain": [
       "              date_crawled  price vehicle_type registration_year gearbox  \\\n",
       "3097   2016-03-26 20:36:56   9500        sedan              2012    auto   \n",
       "7373   2016-03-24 17:52:09  16000        sedan              2014    auto   \n",
       "10701  2016-03-24 14:54:51  16000        sedan              2014    auto   \n",
       "15610  2016-03-10 13:58:16   9500        sedan              2012    auto   \n",
       "17227  2016-03-23 19:54:01   9500        sedan              2012    auto   \n",
       "\n",
       "       power model  kilometer registration_month fuel_type brand not_repaired  \\\n",
       "3097     170    a3      80000                  6  gasoline  audi           no   \n",
       "7373     150    a3      20000                  3  gasoline  audi           no   \n",
       "10701    150    a3      20000                  3  gasoline  audi           no   \n",
       "15610    170    a3      80000                  6  gasoline  audi           no   \n",
       "17227    170    a3      80000                  6  gasoline  audi           no   \n",
       "\n",
       "              date_created  number_of_pictures postal_code  \\\n",
       "3097   2016-03-26 00:00:00                   0       10115   \n",
       "7373   2016-03-24 00:00:00                   0       10115   \n",
       "10701  2016-03-24 00:00:00                   0       10115   \n",
       "15610  2016-03-10 00:00:00                   0       10115   \n",
       "17227  2016-03-23 00:00:00                   0       10115   \n",
       "\n",
       "                 last_seen  \n",
       "3097   2016-03-26 20:36:56  \n",
       "7373   2016-03-24 17:52:09  \n",
       "10701  2016-03-24 15:42:42  \n",
       "15610  2016-03-10 13:58:16  \n",
       "17227  2016-03-23 19:54:01  "
      ]
     },
     "execution_count": 40,
     "metadata": {},
     "output_type": "execute_result"
    }
   ],
   "source": [
    "(\n",
    "    data.loc[data[['postal_code', 'brand', 'model', \n",
    "                   'vehicle_type', 'registration_year', \n",
    "                   'registration_month', 'gearbox',\n",
    "                   'power', 'kilometer', 'fuel_type',\n",
    "                   'date_created']]\n",
    "    .duplicated(keep=False)==True].sort_values(by=['postal_code','brand', 'model']).head()\n",
    ")"
   ]
  },
  {
   "cell_type": "code",
   "execution_count": 41,
   "metadata": {},
   "outputs": [
    {
     "data": {
      "text/plain": [
       "11490"
      ]
     },
     "execution_count": 41,
     "metadata": {},
     "output_type": "execute_result"
    }
   ],
   "source": [
    "# посмотрим сколько дублей останется если еще добавить переменную price\n",
    "(\n",
    "    data[['postal_code', 'brand', 'model', \n",
    "                   'vehicle_type', 'registration_year', \n",
    "                   'registration_month', 'gearbox',\n",
    "                  'power', 'kilometer', 'fuel_type', \n",
    "          'date_created',\n",
    "          'price']]\n",
    "    .duplicated().sum()\n",
    ")"
   ]
  },
  {
   "cell_type": "markdown",
   "metadata": {},
   "source": [
    "Если добавляем `price`, то дубли уменьшаются. Интересно посмотреть, есть ли среди предполагаемых дублей записи, где `price` указали равным 0."
   ]
  },
  {
   "cell_type": "code",
   "execution_count": 42,
   "metadata": {},
   "outputs": [
    {
     "data": {
      "text/html": [
       "<div>\n",
       "<style scoped>\n",
       "    .dataframe tbody tr th:only-of-type {\n",
       "        vertical-align: middle;\n",
       "    }\n",
       "\n",
       "    .dataframe tbody tr th {\n",
       "        vertical-align: top;\n",
       "    }\n",
       "\n",
       "    .dataframe thead th {\n",
       "        text-align: right;\n",
       "    }\n",
       "</style>\n",
       "<table border=\"1\" class=\"dataframe\">\n",
       "  <thead>\n",
       "    <tr style=\"text-align: right;\">\n",
       "      <th></th>\n",
       "      <th>date_crawled</th>\n",
       "      <th>price</th>\n",
       "      <th>vehicle_type</th>\n",
       "      <th>registration_year</th>\n",
       "      <th>gearbox</th>\n",
       "      <th>power</th>\n",
       "      <th>model</th>\n",
       "      <th>kilometer</th>\n",
       "      <th>registration_month</th>\n",
       "      <th>fuel_type</th>\n",
       "      <th>brand</th>\n",
       "      <th>not_repaired</th>\n",
       "      <th>date_created</th>\n",
       "      <th>number_of_pictures</th>\n",
       "      <th>postal_code</th>\n",
       "      <th>last_seen</th>\n",
       "    </tr>\n",
       "  </thead>\n",
       "  <tbody>\n",
       "    <tr>\n",
       "      <th>117500</th>\n",
       "      <td>2016-03-10 21:48:33</td>\n",
       "      <td>0</td>\n",
       "      <td>coupe</td>\n",
       "      <td>2003</td>\n",
       "      <td>manual</td>\n",
       "      <td>143</td>\n",
       "      <td>c_klasse</td>\n",
       "      <td>150000</td>\n",
       "      <td>6</td>\n",
       "      <td>petrol</td>\n",
       "      <td>mercedes_benz</td>\n",
       "      <td>no</td>\n",
       "      <td>2016-03-10 00:00:00</td>\n",
       "      <td>0</td>\n",
       "      <td>10405</td>\n",
       "      <td>2016-03-11 10:44:50</td>\n",
       "    </tr>\n",
       "    <tr>\n",
       "      <th>184769</th>\n",
       "      <td>2016-03-10 17:47:46</td>\n",
       "      <td>0</td>\n",
       "      <td>coupe</td>\n",
       "      <td>2003</td>\n",
       "      <td>manual</td>\n",
       "      <td>143</td>\n",
       "      <td>c_klasse</td>\n",
       "      <td>150000</td>\n",
       "      <td>6</td>\n",
       "      <td>petrol</td>\n",
       "      <td>mercedes_benz</td>\n",
       "      <td>no</td>\n",
       "      <td>2016-03-10 00:00:00</td>\n",
       "      <td>0</td>\n",
       "      <td>10405</td>\n",
       "      <td>2016-03-10 17:47:46</td>\n",
       "    </tr>\n",
       "    <tr>\n",
       "      <th>76047</th>\n",
       "      <td>2016-03-15 20:52:12</td>\n",
       "      <td>0</td>\n",
       "      <td>NaN</td>\n",
       "      <td>2017</td>\n",
       "      <td>manual</td>\n",
       "      <td>70</td>\n",
       "      <td>golf</td>\n",
       "      <td>150000</td>\n",
       "      <td>3</td>\n",
       "      <td>petrol</td>\n",
       "      <td>volkswagen</td>\n",
       "      <td>NaN</td>\n",
       "      <td>2016-03-15 00:00:00</td>\n",
       "      <td>0</td>\n",
       "      <td>12524</td>\n",
       "      <td>2016-03-16 19:17:09</td>\n",
       "    </tr>\n",
       "    <tr>\n",
       "      <th>120471</th>\n",
       "      <td>2016-03-14 07:55:40</td>\n",
       "      <td>0</td>\n",
       "      <td>NaN</td>\n",
       "      <td>2017</td>\n",
       "      <td>manual</td>\n",
       "      <td>70</td>\n",
       "      <td>golf</td>\n",
       "      <td>150000</td>\n",
       "      <td>3</td>\n",
       "      <td>petrol</td>\n",
       "      <td>volkswagen</td>\n",
       "      <td>NaN</td>\n",
       "      <td>2016-03-14 00:00:00</td>\n",
       "      <td>0</td>\n",
       "      <td>12524</td>\n",
       "      <td>2016-03-14 09:44:45</td>\n",
       "    </tr>\n",
       "    <tr>\n",
       "      <th>226416</th>\n",
       "      <td>2016-03-14 18:41:12</td>\n",
       "      <td>0</td>\n",
       "      <td>NaN</td>\n",
       "      <td>2017</td>\n",
       "      <td>manual</td>\n",
       "      <td>70</td>\n",
       "      <td>golf</td>\n",
       "      <td>150000</td>\n",
       "      <td>3</td>\n",
       "      <td>petrol</td>\n",
       "      <td>volkswagen</td>\n",
       "      <td>NaN</td>\n",
       "      <td>2016-03-14 00:00:00</td>\n",
       "      <td>0</td>\n",
       "      <td>12524</td>\n",
       "      <td>2016-03-15 13:45:02</td>\n",
       "    </tr>\n",
       "  </tbody>\n",
       "</table>\n",
       "</div>"
      ],
      "text/plain": [
       "               date_crawled  price vehicle_type registration_year gearbox  \\\n",
       "117500  2016-03-10 21:48:33      0        coupe              2003  manual   \n",
       "184769  2016-03-10 17:47:46      0        coupe              2003  manual   \n",
       "76047   2016-03-15 20:52:12      0          NaN              2017  manual   \n",
       "120471  2016-03-14 07:55:40      0          NaN              2017  manual   \n",
       "226416  2016-03-14 18:41:12      0          NaN              2017  manual   \n",
       "\n",
       "        power     model  kilometer registration_month fuel_type  \\\n",
       "117500    143  c_klasse     150000                  6    petrol   \n",
       "184769    143  c_klasse     150000                  6    petrol   \n",
       "76047      70      golf     150000                  3    petrol   \n",
       "120471     70      golf     150000                  3    petrol   \n",
       "226416     70      golf     150000                  3    petrol   \n",
       "\n",
       "                brand not_repaired         date_created  number_of_pictures  \\\n",
       "117500  mercedes_benz           no  2016-03-10 00:00:00                   0   \n",
       "184769  mercedes_benz           no  2016-03-10 00:00:00                   0   \n",
       "76047      volkswagen          NaN  2016-03-15 00:00:00                   0   \n",
       "120471     volkswagen          NaN  2016-03-14 00:00:00                   0   \n",
       "226416     volkswagen          NaN  2016-03-14 00:00:00                   0   \n",
       "\n",
       "       postal_code            last_seen  \n",
       "117500       10405  2016-03-11 10:44:50  \n",
       "184769       10405  2016-03-10 17:47:46  \n",
       "76047        12524  2016-03-16 19:17:09  \n",
       "120471       12524  2016-03-14 09:44:45  \n",
       "226416       12524  2016-03-15 13:45:02  "
      ]
     },
     "execution_count": 42,
     "metadata": {},
     "output_type": "execute_result"
    }
   ],
   "source": [
    "(\n",
    "    data.loc[(data[['postal_code', 'brand', 'model', \n",
    "                   'vehicle_type', 'registration_year', \n",
    "                   'registration_month', 'gearbox',\n",
    "                   'power', 'kilometer', 'fuel_type',\n",
    "                   'date_created']]\n",
    "    .duplicated(keep=False)==True) & (data['price']==0)]\n",
    "    .sort_values(by=['postal_code','brand', 'model', 'registration_year'])\n",
    "    .head()\n",
    ")"
   ]
  },
  {
   "cell_type": "code",
   "execution_count": 43,
   "metadata": {},
   "outputs": [
    {
     "data": {
      "text/plain": [
       "553"
      ]
     },
     "execution_count": 43,
     "metadata": {},
     "output_type": "execute_result"
    }
   ],
   "source": [
    "(\n",
    "    data.loc[(data[['postal_code', 'brand', 'model', \n",
    "                   'vehicle_type', 'registration_year', \n",
    "                   'registration_month', 'gearbox',\n",
    "                   'power', 'kilometer', 'fuel_type',\n",
    "                   'date_created']]\n",
    "    .duplicated(keep=False)==True) & (data['price']==0)]\n",
    "    .shape[0]\n",
    ")"
   ]
  },
  {
   "cell_type": "markdown",
   "metadata": {},
   "source": [
    "Да, такие данные есть и таких записей - 553. Но любопытно, что дубли отличаются друг от друга признаками `date_crawled` (датой скачивания анкеты из базы) и `last_seen` (датой последней активности пользователя), все остальное буквально идентично. Я предлагаю избавиться от таких дублей, вне зависимости от значений `price`, оставим последнюю запись как оригинальную. Так удалим примерно 3,3% от данных."
   ]
  },
  {
   "cell_type": "code",
   "execution_count": 44,
   "metadata": {},
   "outputs": [],
   "source": [
    "(\n",
    "    data.drop_duplicates(subset=['postal_code', 'brand', 'model', \n",
    "                                 'vehicle_type', 'registration_year', \n",
    "                                 'registration_month', 'gearbox',\n",
    "                                 'power', 'kilometer', 'fuel_type', \n",
    "                                 'date_created', 'price'], \n",
    "                         keep='last', \n",
    "                         inplace=True)\n",
    ")"
   ]
  },
  {
   "cell_type": "markdown",
   "metadata": {},
   "source": [
    "**Краткий вывод** \n",
    "\n",
    "Избавились от странных дублей. \n",
    "\n",
    "Перейдем к перекодировке категориальных признаков, их масштабированию и заполнению миссингов. \n",
    "\n",
    "#### Перекодировка данных и замена миссингов"
   ]
  },
  {
   "cell_type": "code",
   "execution_count": 45,
   "metadata": {},
   "outputs": [
    {
     "name": "stdout",
     "output_type": "stream",
     "text": [
      "<class 'pandas.core.frame.DataFrame'>\n",
      "Int64Index: 340556 entries, 0 to 352045\n",
      "Data columns (total 16 columns):\n",
      " #   Column              Non-Null Count   Dtype \n",
      "---  ------              --------------   ----- \n",
      " 0   date_crawled        340556 non-null  object\n",
      " 1   price               340556 non-null  int64 \n",
      " 2   vehicle_type        305825 non-null  object\n",
      " 3   registration_year   340556 non-null  object\n",
      " 4   gearbox             323316 non-null  object\n",
      " 5   power               340556 non-null  int64 \n",
      " 6   model               323357 non-null  object\n",
      " 7   kilometer           340556 non-null  int64 \n",
      " 8   registration_month  340556 non-null  object\n",
      " 9   fuel_type           310339 non-null  object\n",
      " 10  brand               340556 non-null  object\n",
      " 11  not_repaired        273449 non-null  object\n",
      " 12  date_created        340556 non-null  object\n",
      " 13  number_of_pictures  340556 non-null  int64 \n",
      " 14  postal_code         340556 non-null  object\n",
      " 15  last_seen           340556 non-null  object\n",
      "dtypes: int64(4), object(12)\n",
      "memory usage: 44.2+ MB\n"
     ]
    }
   ],
   "source": [
    "# еще раз посмотрим на наши признаки\n",
    "data.info()"
   ]
  },
  {
   "cell_type": "markdown",
   "metadata": {},
   "source": [
    "План: \n",
    "\n",
    "- сначала создам столбцы для дня недели, месяца и года создания объявления, включим их при обучении моделей;\n",
    "- оставлю только те признаки, которые буду использовать при обучении моделей;  \n",
    "- перекодирую категориальные признаки при помощи One-Hot-Encoding. "
   ]
  },
  {
   "cell_type": "code",
   "execution_count": 46,
   "metadata": {},
   "outputs": [
    {
     "data": {
      "text/plain": [
       "0    2016-03-24 00:00:00\n",
       "1    2016-03-24 00:00:00\n",
       "2    2016-03-14 00:00:00\n",
       "3    2016-03-17 00:00:00\n",
       "4    2016-03-31 00:00:00\n",
       "Name: date_created, dtype: object"
      ]
     },
     "execution_count": 46,
     "metadata": {},
     "output_type": "execute_result"
    }
   ],
   "source": [
    "data['date_created'].head()"
   ]
  },
  {
   "cell_type": "code",
   "execution_count": 47,
   "metadata": {},
   "outputs": [],
   "source": [
    "# создание новых столбцов для даты\n",
    "data['date_created'] = pd.to_datetime(data['date_created'], format='%Y-%m-%d %H:%M:%S')"
   ]
  },
  {
   "cell_type": "code",
   "execution_count": 48,
   "metadata": {},
   "outputs": [],
   "source": [
    "data['weekday_created'] = data['date_created'].dt.weekday\n",
    "data['month_created'] = data['date_created'].dt.month\n",
    "data['year_created'] = data['date_created'].dt.year"
   ]
  },
  {
   "cell_type": "code",
   "execution_count": 49,
   "metadata": {},
   "outputs": [],
   "source": [
    "# удаление неиспользуемых признаков\n",
    "data.drop(['date_crawled', 'date_created', 'number_of_pictures', 'postal_code', 'last_seen'], axis=1, inplace=True)"
   ]
  },
  {
   "cell_type": "code",
   "execution_count": 50,
   "metadata": {},
   "outputs": [
    {
     "name": "stdout",
     "output_type": "stream",
     "text": [
      "<class 'pandas.core.frame.DataFrame'>\n",
      "Int64Index: 340556 entries, 0 to 352045\n",
      "Data columns (total 14 columns):\n",
      " #   Column              Non-Null Count   Dtype \n",
      "---  ------              --------------   ----- \n",
      " 0   price               340556 non-null  int64 \n",
      " 1   vehicle_type        305825 non-null  object\n",
      " 2   registration_year   340556 non-null  object\n",
      " 3   gearbox             323316 non-null  object\n",
      " 4   power               340556 non-null  int64 \n",
      " 5   model               323357 non-null  object\n",
      " 6   kilometer           340556 non-null  int64 \n",
      " 7   registration_month  340556 non-null  object\n",
      " 8   fuel_type           310339 non-null  object\n",
      " 9   brand               340556 non-null  object\n",
      " 10  not_repaired        273449 non-null  object\n",
      " 11  weekday_created     340556 non-null  int64 \n",
      " 12  month_created       340556 non-null  int64 \n",
      " 13  year_created        340556 non-null  int64 \n",
      "dtypes: int64(6), object(8)\n",
      "memory usage: 39.0+ MB\n"
     ]
    }
   ],
   "source": [
    "# перекодировка признаков\n",
    "data.info()"
   ]
  },
  {
   "cell_type": "code",
   "execution_count": 51,
   "metadata": {},
   "outputs": [],
   "source": [
    "# изменим тип признака year_created с числового на текстовый\n",
    "data['year_created'] = data['year_created'].astype(str)"
   ]
  },
  {
   "cell_type": "code",
   "execution_count": 52,
   "metadata": {},
   "outputs": [
    {
     "name": "stdout",
     "output_type": "stream",
     "text": [
      "<class 'pandas.core.frame.DataFrame'>\n",
      "Int64Index: 340556 entries, 0 to 352045\n",
      "Data columns (total 14 columns):\n",
      " #   Column              Non-Null Count   Dtype \n",
      "---  ------              --------------   ----- \n",
      " 0   price               340556 non-null  int64 \n",
      " 1   vehicle_type        305825 non-null  object\n",
      " 2   registration_year   340556 non-null  object\n",
      " 3   gearbox             323316 non-null  object\n",
      " 4   power               340556 non-null  int64 \n",
      " 5   model               323357 non-null  object\n",
      " 6   kilometer           340556 non-null  int64 \n",
      " 7   registration_month  340556 non-null  object\n",
      " 8   fuel_type           310339 non-null  object\n",
      " 9   brand               340556 non-null  object\n",
      " 10  not_repaired        273449 non-null  object\n",
      " 11  weekday_created     340556 non-null  int64 \n",
      " 12  month_created       340556 non-null  int64 \n",
      " 13  year_created        340556 non-null  object\n",
      "dtypes: int64(5), object(9)\n",
      "memory usage: 39.0+ MB\n"
     ]
    }
   ],
   "source": [
    "data.info()"
   ]
  },
  {
   "cell_type": "markdown",
   "metadata": {},
   "source": [
    "Перед кодировкой категориальных переменных сначала нужно будет как-то обработать миссинги. Например, большую часть миссингов в `vehicle_type` можно будет заменить, ориентируясь на модель автомобиля. Пропуски в признаке `model` заменим на `unknown`. А признак `not_repaired` заменим миссинги, предполагая, что продавец пропуская ответ имел ввиду, что машина не была в ремонте."
   ]
  },
  {
   "cell_type": "code",
   "execution_count": 53,
   "metadata": {},
   "outputs": [],
   "source": [
    "# заполним пропуски в model\n",
    "data['model'] = data['model'] .fillna(\"unknown\")"
   ]
  },
  {
   "cell_type": "code",
   "execution_count": 54,
   "metadata": {},
   "outputs": [
    {
     "data": {
      "text/plain": [
       "17199"
      ]
     },
     "execution_count": 54,
     "metadata": {},
     "output_type": "execute_result"
    }
   ],
   "source": [
    "data[data[\"model\"]==\"unknown\"][\"model\"].count() # посмотрим сколько таких значений"
   ]
  },
  {
   "cell_type": "code",
   "execution_count": 55,
   "metadata": {},
   "outputs": [],
   "source": [
    "# создадим словарь, где в качестве ключа будет название модели, а значение - тип кузова\n",
    "models_vechile_type = data.groupby('model')['vehicle_type'].agg(lambda x:x.value_counts().index[0]).to_dict()\n",
    "\n",
    "# напишем функцию, которая заменит \n",
    "def vehicle_type_inputer(row):\n",
    "    model = row[\"model\"]\n",
    "    vech_type = row[\"vehicle_type\"]\n",
    "    if model == \"unknown\" and vech_type == \"unknown\":\n",
    "        return \"unknown\"\n",
    "    elif model == \"unknown\" and vech_type != \"unknown\":\n",
    "        return vech_type\n",
    "    return models_vechile_type[model]\n",
    "\n",
    "# сначала заполним пропуски в vehicle_type тоже как unknown \n",
    "data[\"vehicle_type\"] = data[\"vehicle_type\"].fillna(\"unknown\")\n",
    "\n",
    "# применим функцию \n",
    "data[\"vehicle_type\"] = data[[\"vehicle_type\", \"model\"]].apply(vehicle_type_inputer, axis=1)"
   ]
  },
  {
   "cell_type": "code",
   "execution_count": 56,
   "metadata": {},
   "outputs": [
    {
     "data": {
      "text/plain": [
       "4526"
      ]
     },
     "execution_count": 56,
     "metadata": {},
     "output_type": "execute_result"
    }
   ],
   "source": [
    "data[data[\"vehicle_type\"]==\"unknown\"][\"vehicle_type\"].count() # проверим"
   ]
  },
  {
   "cell_type": "code",
   "execution_count": 57,
   "metadata": {},
   "outputs": [
    {
     "data": {
      "text/plain": [
       "price                     0\n",
       "vehicle_type              0\n",
       "registration_year         0\n",
       "gearbox               17240\n",
       "power                     0\n",
       "model                     0\n",
       "kilometer                 0\n",
       "registration_month        0\n",
       "fuel_type             30217\n",
       "brand                     0\n",
       "not_repaired          67107\n",
       "weekday_created           0\n",
       "month_created             0\n",
       "year_created              0\n",
       "dtype: int64"
      ]
     },
     "execution_count": 57,
     "metadata": {},
     "output_type": "execute_result"
    }
   ],
   "source": [
    "# посмотрим сколько миссингов осталось и в каких признаках\n",
    "data.isna().sum()"
   ]
  },
  {
   "cell_type": "code",
   "execution_count": 58,
   "metadata": {},
   "outputs": [
    {
     "data": {
      "text/plain": [
       "no     238227\n",
       "yes     35222\n",
       "Name: not_repaired, dtype: int64"
      ]
     },
     "execution_count": 58,
     "metadata": {},
     "output_type": "execute_result"
    }
   ],
   "source": [
    "# посмотрим на значения признака not_repaired\n",
    "data['not_repaired'].value_counts()"
   ]
  },
  {
   "cell_type": "code",
   "execution_count": 59,
   "metadata": {},
   "outputs": [
    {
     "data": {
      "text/plain": [
       "price                     0\n",
       "vehicle_type              0\n",
       "registration_year         0\n",
       "gearbox               17240\n",
       "power                     0\n",
       "model                     0\n",
       "kilometer                 0\n",
       "registration_month        0\n",
       "fuel_type             30217\n",
       "brand                     0\n",
       "not_repaired              0\n",
       "weekday_created           0\n",
       "month_created             0\n",
       "year_created              0\n",
       "dtype: int64"
      ]
     },
     "execution_count": 59,
     "metadata": {},
     "output_type": "execute_result"
    }
   ],
   "source": [
    "# считаем, что если not_repaired пропущено, то продавец имел ввиду отсутствие ремонта\n",
    "data['not_repaired'].fillna('yes', inplace=True) \n",
    "\n",
    "data.isna().sum()"
   ]
  },
  {
   "cell_type": "markdown",
   "metadata": {},
   "source": [
    "Очень много пропусков в признаке `fuel_type` (тип топлива). Думаю, что эти пропуски можно заменить по тому же принципу, как заменяли пропуски для `vehicle_type`. Там, где модель неизвестна (`unknown`), тип топлива тоже сделаем неизвестным (`unknown`). "
   ]
  },
  {
   "cell_type": "code",
   "execution_count": 60,
   "metadata": {},
   "outputs": [],
   "source": [
    "# сначала заполним пропуски в fuel_type тоже как unknown \n",
    "data[\"fuel_type\"] = data[\"fuel_type\"].fillna(\"unknown\")"
   ]
  },
  {
   "cell_type": "code",
   "execution_count": 61,
   "metadata": {},
   "outputs": [
    {
     "data": {
      "text/plain": [
       "petrol      9043\n",
       "unknown     4872\n",
       "gasoline    2805\n",
       "lpg          339\n",
       "other         71\n",
       "hybrid        25\n",
       "electric      24\n",
       "cng           20\n",
       "Name: fuel_type, dtype: int64"
      ]
     },
     "execution_count": 61,
     "metadata": {},
     "output_type": "execute_result"
    }
   ],
   "source": [
    "data.loc[data['model'] == 'unknown','fuel_type'].value_counts()"
   ]
  },
  {
   "cell_type": "code",
   "execution_count": 62,
   "metadata": {},
   "outputs": [
    {
     "data": {
      "text/html": [
       "<div>\n",
       "<style scoped>\n",
       "    .dataframe tbody tr th:only-of-type {\n",
       "        vertical-align: middle;\n",
       "    }\n",
       "\n",
       "    .dataframe tbody tr th {\n",
       "        vertical-align: top;\n",
       "    }\n",
       "\n",
       "    .dataframe thead tr th {\n",
       "        text-align: left;\n",
       "    }\n",
       "\n",
       "    .dataframe thead tr:last-of-type th {\n",
       "        text-align: right;\n",
       "    }\n",
       "</style>\n",
       "<table border=\"1\" class=\"dataframe\">\n",
       "  <thead>\n",
       "    <tr>\n",
       "      <th></th>\n",
       "      <th colspan=\"8\" halign=\"left\">count</th>\n",
       "    </tr>\n",
       "    <tr>\n",
       "      <th></th>\n",
       "      <th colspan=\"8\" halign=\"left\">brand</th>\n",
       "    </tr>\n",
       "    <tr>\n",
       "      <th>fuel_type</th>\n",
       "      <th>cng</th>\n",
       "      <th>electric</th>\n",
       "      <th>gasoline</th>\n",
       "      <th>hybrid</th>\n",
       "      <th>lpg</th>\n",
       "      <th>other</th>\n",
       "      <th>petrol</th>\n",
       "      <th>unknown</th>\n",
       "    </tr>\n",
       "    <tr>\n",
       "      <th>model</th>\n",
       "      <th></th>\n",
       "      <th></th>\n",
       "      <th></th>\n",
       "      <th></th>\n",
       "      <th></th>\n",
       "      <th></th>\n",
       "      <th></th>\n",
       "      <th></th>\n",
       "    </tr>\n",
       "  </thead>\n",
       "  <tbody>\n",
       "    <tr>\n",
       "      <th>100</th>\n",
       "      <td>NaN</td>\n",
       "      <td>NaN</td>\n",
       "      <td>15.0</td>\n",
       "      <td>NaN</td>\n",
       "      <td>7.0</td>\n",
       "      <td>NaN</td>\n",
       "      <td>345.0</td>\n",
       "      <td>35.0</td>\n",
       "    </tr>\n",
       "    <tr>\n",
       "      <th>145</th>\n",
       "      <td>NaN</td>\n",
       "      <td>NaN</td>\n",
       "      <td>1.0</td>\n",
       "      <td>NaN</td>\n",
       "      <td>NaN</td>\n",
       "      <td>NaN</td>\n",
       "      <td>42.0</td>\n",
       "      <td>5.0</td>\n",
       "    </tr>\n",
       "    <tr>\n",
       "      <th>147</th>\n",
       "      <td>NaN</td>\n",
       "      <td>NaN</td>\n",
       "      <td>120.0</td>\n",
       "      <td>NaN</td>\n",
       "      <td>17.0</td>\n",
       "      <td>NaN</td>\n",
       "      <td>380.0</td>\n",
       "      <td>31.0</td>\n",
       "    </tr>\n",
       "    <tr>\n",
       "      <th>156</th>\n",
       "      <td>NaN</td>\n",
       "      <td>NaN</td>\n",
       "      <td>180.0</td>\n",
       "      <td>NaN</td>\n",
       "      <td>15.0</td>\n",
       "      <td>NaN</td>\n",
       "      <td>348.0</td>\n",
       "      <td>58.0</td>\n",
       "    </tr>\n",
       "    <tr>\n",
       "      <th>159</th>\n",
       "      <td>NaN</td>\n",
       "      <td>NaN</td>\n",
       "      <td>136.0</td>\n",
       "      <td>NaN</td>\n",
       "      <td>NaN</td>\n",
       "      <td>NaN</td>\n",
       "      <td>56.0</td>\n",
       "      <td>12.0</td>\n",
       "    </tr>\n",
       "    <tr>\n",
       "      <th>...</th>\n",
       "      <td>...</td>\n",
       "      <td>...</td>\n",
       "      <td>...</td>\n",
       "      <td>...</td>\n",
       "      <td>...</td>\n",
       "      <td>...</td>\n",
       "      <td>...</td>\n",
       "      <td>...</td>\n",
       "    </tr>\n",
       "    <tr>\n",
       "      <th>yaris</th>\n",
       "      <td>NaN</td>\n",
       "      <td>NaN</td>\n",
       "      <td>92.0</td>\n",
       "      <td>19.0</td>\n",
       "      <td>NaN</td>\n",
       "      <td>NaN</td>\n",
       "      <td>840.0</td>\n",
       "      <td>51.0</td>\n",
       "    </tr>\n",
       "    <tr>\n",
       "      <th>yeti</th>\n",
       "      <td>NaN</td>\n",
       "      <td>NaN</td>\n",
       "      <td>78.0</td>\n",
       "      <td>NaN</td>\n",
       "      <td>NaN</td>\n",
       "      <td>NaN</td>\n",
       "      <td>84.0</td>\n",
       "      <td>3.0</td>\n",
       "    </tr>\n",
       "    <tr>\n",
       "      <th>ypsilon</th>\n",
       "      <td>NaN</td>\n",
       "      <td>NaN</td>\n",
       "      <td>6.0</td>\n",
       "      <td>NaN</td>\n",
       "      <td>1.0</td>\n",
       "      <td>NaN</td>\n",
       "      <td>166.0</td>\n",
       "      <td>23.0</td>\n",
       "    </tr>\n",
       "    <tr>\n",
       "      <th>z_reihe</th>\n",
       "      <td>NaN</td>\n",
       "      <td>NaN</td>\n",
       "      <td>2.0</td>\n",
       "      <td>NaN</td>\n",
       "      <td>10.0</td>\n",
       "      <td>NaN</td>\n",
       "      <td>661.0</td>\n",
       "      <td>22.0</td>\n",
       "    </tr>\n",
       "    <tr>\n",
       "      <th>zafira</th>\n",
       "      <td>114.0</td>\n",
       "      <td>NaN</td>\n",
       "      <td>1135.0</td>\n",
       "      <td>1.0</td>\n",
       "      <td>83.0</td>\n",
       "      <td>NaN</td>\n",
       "      <td>1328.0</td>\n",
       "      <td>252.0</td>\n",
       "    </tr>\n",
       "  </tbody>\n",
       "</table>\n",
       "<p>250 rows × 8 columns</p>\n",
       "</div>"
      ],
      "text/plain": [
       "           count                                                     \n",
       "           brand                                                     \n",
       "fuel_type    cng electric gasoline hybrid   lpg other  petrol unknown\n",
       "model                                                                \n",
       "100          NaN      NaN     15.0    NaN   7.0   NaN   345.0    35.0\n",
       "145          NaN      NaN      1.0    NaN   NaN   NaN    42.0     5.0\n",
       "147          NaN      NaN    120.0    NaN  17.0   NaN   380.0    31.0\n",
       "156          NaN      NaN    180.0    NaN  15.0   NaN   348.0    58.0\n",
       "159          NaN      NaN    136.0    NaN   NaN   NaN    56.0    12.0\n",
       "...          ...      ...      ...    ...   ...   ...     ...     ...\n",
       "yaris        NaN      NaN     92.0   19.0   NaN   NaN   840.0    51.0\n",
       "yeti         NaN      NaN     78.0    NaN   NaN   NaN    84.0     3.0\n",
       "ypsilon      NaN      NaN      6.0    NaN   1.0   NaN   166.0    23.0\n",
       "z_reihe      NaN      NaN      2.0    NaN  10.0   NaN   661.0    22.0\n",
       "zafira     114.0      NaN   1135.0    1.0  83.0   NaN  1328.0   252.0\n",
       "\n",
       "[250 rows x 8 columns]"
      ]
     },
     "execution_count": 62,
     "metadata": {},
     "output_type": "execute_result"
    }
   ],
   "source": [
    "data.pivot_table(index=['model'], \n",
    "                 columns=['fuel_type'],\n",
    "                 values=['brand'],\n",
    "                 aggfunc=['count'])"
   ]
  },
  {
   "cell_type": "markdown",
   "metadata": {},
   "source": [
    "Скорее всего заменить `fuel_type` по такому же принципу, как выше для типа кузова не получится. Оставим как `unknown`."
   ]
  },
  {
   "cell_type": "code",
   "execution_count": 63,
   "metadata": {},
   "outputs": [
    {
     "data": {
      "text/plain": [
       "petrol      61.402236\n",
       "gasoline    27.914352\n",
       "unknown      8.872843\n",
       "lpg          1.495496\n",
       "cng          0.162969\n",
       "hybrid       0.066949\n",
       "other        0.059021\n",
       "electric     0.026134\n",
       "Name: fuel_type, dtype: float64"
      ]
     },
     "execution_count": 63,
     "metadata": {},
     "output_type": "execute_result"
    }
   ],
   "source": [
    "# проверим какую долю от всех данных занимает тип `unknown`\n",
    "data['fuel_type'].value_counts() / len(data) *100"
   ]
  },
  {
   "cell_type": "markdown",
   "metadata": {},
   "source": [
    "Почти 9%. Проверим, отличается ли распределение целевого признака `price` для разных типов топлива. "
   ]
  },
  {
   "cell_type": "code",
   "execution_count": 64,
   "metadata": {},
   "outputs": [
    {
     "data": {
      "image/png": "[encoded data removed]",
      "text/plain": [
       "<Figure size 720x360 with 1 Axes>"
      ]
     },
     "metadata": {},
     "output_type": "display_data"
    }
   ],
   "source": [
    "fig = plt.figure(figsize=(10,5))\n",
    "\n",
    "sns.boxplot(x = data['fuel_type'],\n",
    "            y = data['price']);"
   ]
  },
  {
   "cell_type": "markdown",
   "metadata": {},
   "source": [
    "Сложно сказать, судя по диаграмме распределение цены по типу `unknown` практически не отличается от `other`. В общем, оставим так как заменили. \n",
    "\n",
    "Проверим оставшиеся миссинги в `gearbox`. "
   ]
  },
  {
   "cell_type": "code",
   "execution_count": 65,
   "metadata": {},
   "outputs": [
    {
     "data": {
      "text/html": [
       "<div>\n",
       "<style scoped>\n",
       "    .dataframe tbody tr th:only-of-type {\n",
       "        vertical-align: middle;\n",
       "    }\n",
       "\n",
       "    .dataframe tbody tr th {\n",
       "        vertical-align: top;\n",
       "    }\n",
       "\n",
       "    .dataframe thead tr th {\n",
       "        text-align: left;\n",
       "    }\n",
       "\n",
       "    .dataframe thead tr:last-of-type th {\n",
       "        text-align: right;\n",
       "    }\n",
       "</style>\n",
       "<table border=\"1\" class=\"dataframe\">\n",
       "  <thead>\n",
       "    <tr>\n",
       "      <th></th>\n",
       "      <th colspan=\"2\" halign=\"left\">count</th>\n",
       "    </tr>\n",
       "    <tr>\n",
       "      <th></th>\n",
       "      <th colspan=\"2\" halign=\"left\">brand</th>\n",
       "    </tr>\n",
       "    <tr>\n",
       "      <th>gearbox</th>\n",
       "      <th>auto</th>\n",
       "      <th>manual</th>\n",
       "    </tr>\n",
       "    <tr>\n",
       "      <th>model</th>\n",
       "      <th></th>\n",
       "      <th></th>\n",
       "    </tr>\n",
       "  </thead>\n",
       "  <tbody>\n",
       "    <tr>\n",
       "      <th>100</th>\n",
       "      <td>62.0</td>\n",
       "      <td>322.0</td>\n",
       "    </tr>\n",
       "    <tr>\n",
       "      <th>145</th>\n",
       "      <td>NaN</td>\n",
       "      <td>39.0</td>\n",
       "    </tr>\n",
       "    <tr>\n",
       "      <th>147</th>\n",
       "      <td>28.0</td>\n",
       "      <td>497.0</td>\n",
       "    </tr>\n",
       "    <tr>\n",
       "      <th>156</th>\n",
       "      <td>44.0</td>\n",
       "      <td>529.0</td>\n",
       "    </tr>\n",
       "    <tr>\n",
       "      <th>159</th>\n",
       "      <td>26.0</td>\n",
       "      <td>177.0</td>\n",
       "    </tr>\n",
       "    <tr>\n",
       "      <th>...</th>\n",
       "      <td>...</td>\n",
       "      <td>...</td>\n",
       "    </tr>\n",
       "    <tr>\n",
       "      <th>yaris</th>\n",
       "      <td>91.0</td>\n",
       "      <td>881.0</td>\n",
       "    </tr>\n",
       "    <tr>\n",
       "      <th>yeti</th>\n",
       "      <td>30.0</td>\n",
       "      <td>134.0</td>\n",
       "    </tr>\n",
       "    <tr>\n",
       "      <th>ypsilon</th>\n",
       "      <td>14.0</td>\n",
       "      <td>172.0</td>\n",
       "    </tr>\n",
       "    <tr>\n",
       "      <th>z_reihe</th>\n",
       "      <td>76.0</td>\n",
       "      <td>603.0</td>\n",
       "    </tr>\n",
       "    <tr>\n",
       "      <th>zafira</th>\n",
       "      <td>289.0</td>\n",
       "      <td>2473.0</td>\n",
       "    </tr>\n",
       "  </tbody>\n",
       "</table>\n",
       "<p>250 rows × 2 columns</p>\n",
       "</div>"
      ],
      "text/plain": [
       "         count        \n",
       "         brand        \n",
       "gearbox   auto  manual\n",
       "model                 \n",
       "100       62.0   322.0\n",
       "145        NaN    39.0\n",
       "147       28.0   497.0\n",
       "156       44.0   529.0\n",
       "159       26.0   177.0\n",
       "...        ...     ...\n",
       "yaris     91.0   881.0\n",
       "yeti      30.0   134.0\n",
       "ypsilon   14.0   172.0\n",
       "z_reihe   76.0   603.0\n",
       "zafira   289.0  2473.0\n",
       "\n",
       "[250 rows x 2 columns]"
      ]
     },
     "execution_count": 65,
     "metadata": {},
     "output_type": "execute_result"
    }
   ],
   "source": [
    "data.pivot_table(index=['model'], \n",
    "                 columns=['gearbox'],\n",
    "                 values=['brand'],\n",
    "                 aggfunc=['count'])"
   ]
  },
  {
   "cell_type": "markdown",
   "metadata": {},
   "source": [
    "Некоторые миссинги можно заполнить, ориентируясь на модель машины. Заполним также `unknown`"
   ]
  },
  {
   "cell_type": "code",
   "execution_count": 66,
   "metadata": {},
   "outputs": [],
   "source": [
    "# сначала заполним пропуски в gearbox тоже как unknown \n",
    "data[\"gearbox\"] = data[\"gearbox\"].fillna(\"unknown\")"
   ]
  },
  {
   "cell_type": "markdown",
   "metadata": {},
   "source": [
    "**Краткие выводы**\n",
    "\n",
    "Итак, мы провели замену миссингов в категориальных переменных. \n",
    "\n",
    "Теперь разберемся с нулями в признаках `price` и `power`."
   ]
  },
  {
   "cell_type": "code",
   "execution_count": 67,
   "metadata": {},
   "outputs": [
    {
     "data": {
      "text/plain": [
       "(9807, 14)"
      ]
     },
     "execution_count": 67,
     "metadata": {},
     "output_type": "execute_result"
    }
   ],
   "source": [
    "data[data['price'] == 0].shape"
   ]
  },
  {
   "cell_type": "code",
   "execution_count": 68,
   "metadata": {},
   "outputs": [
    {
     "data": {
      "text/plain": [
       "(37524, 14)"
      ]
     },
     "execution_count": 68,
     "metadata": {},
     "output_type": "execute_result"
    }
   ],
   "source": [
    "data[data['power'] == 0].shape"
   ]
  },
  {
   "cell_type": "markdown",
   "metadata": {},
   "source": [
    "Но для начала заменим нули в `power` и `price` на миссинги, затем разделим выборку на тестовую и обучающую, проведем масштабирование данных. И только после этого проведем импутацию миссингов. "
   ]
  },
  {
   "cell_type": "markdown",
   "metadata": {},
   "source": [
    "Прежде чем проводить проводить импутацию миссингов, проверим корреляции между признаками. "
   ]
  },
  {
   "cell_type": "code",
   "execution_count": 69,
   "metadata": {},
   "outputs": [
    {
     "data": {
      "image/png": "[encoded data removed]",
      "text/plain": [
       "<Figure size 360x360 with 2 Axes>"
      ]
     },
     "metadata": {},
     "output_type": "display_data"
    }
   ],
   "source": [
    "# проверим корреляции \n",
    "plt.figure(figsize=(5,5))\n",
    "(\n",
    "    sns.heatmap(data[['power', 'price', 'kilometer', 'weekday_created', 'month_created']]\n",
    "                .corr()[['power', 'price']], \n",
    "                annot=True, \n",
    "                cmap=\"Blues\", \n",
    "                fmt='.2f', \n",
    "                annot_kws={'size':16})\n",
    ");"
   ]
  },
  {
   "cell_type": "code",
   "execution_count": 70,
   "metadata": {},
   "outputs": [],
   "source": [
    "# замена 0 в power на миссинги\n",
    "data['power'].replace(0, np.nan, inplace=True)\n",
    "data['price'].replace(0, np.nan, inplace=True)"
   ]
  },
  {
   "cell_type": "code",
   "execution_count": 71,
   "metadata": {},
   "outputs": [],
   "source": [
    "# проведем замену\n",
    "data['power'] = data['power'].fillna(data['power'].median())\n",
    "data['price'] = data['price'].fillna(data['price'].median())"
   ]
  },
  {
   "cell_type": "code",
   "execution_count": 72,
   "metadata": {},
   "outputs": [
    {
     "data": {
      "text/html": [
       "<div>\n",
       "<style scoped>\n",
       "    .dataframe tbody tr th:only-of-type {\n",
       "        vertical-align: middle;\n",
       "    }\n",
       "\n",
       "    .dataframe tbody tr th {\n",
       "        vertical-align: top;\n",
       "    }\n",
       "\n",
       "    .dataframe thead th {\n",
       "        text-align: right;\n",
       "    }\n",
       "</style>\n",
       "<table border=\"1\" class=\"dataframe\">\n",
       "  <thead>\n",
       "    <tr style=\"text-align: right;\">\n",
       "      <th></th>\n",
       "      <th>price</th>\n",
       "      <th>vehicle_type</th>\n",
       "      <th>registration_year</th>\n",
       "      <th>gearbox</th>\n",
       "      <th>power</th>\n",
       "      <th>model</th>\n",
       "      <th>kilometer</th>\n",
       "      <th>registration_month</th>\n",
       "      <th>fuel_type</th>\n",
       "      <th>brand</th>\n",
       "      <th>not_repaired</th>\n",
       "      <th>weekday_created</th>\n",
       "      <th>month_created</th>\n",
       "      <th>year_created</th>\n",
       "    </tr>\n",
       "  </thead>\n",
       "  <tbody>\n",
       "    <tr>\n",
       "      <th>0</th>\n",
       "      <td>480.0</td>\n",
       "      <td>sedan</td>\n",
       "      <td>1993</td>\n",
       "      <td>manual</td>\n",
       "      <td>110.0</td>\n",
       "      <td>golf</td>\n",
       "      <td>150000</td>\n",
       "      <td>0</td>\n",
       "      <td>petrol</td>\n",
       "      <td>volkswagen</td>\n",
       "      <td>yes</td>\n",
       "      <td>3</td>\n",
       "      <td>3</td>\n",
       "      <td>2016</td>\n",
       "    </tr>\n",
       "    <tr>\n",
       "      <th>1</th>\n",
       "      <td>18300.0</td>\n",
       "      <td>coupe</td>\n",
       "      <td>2011</td>\n",
       "      <td>manual</td>\n",
       "      <td>190.0</td>\n",
       "      <td>unknown</td>\n",
       "      <td>125000</td>\n",
       "      <td>5</td>\n",
       "      <td>gasoline</td>\n",
       "      <td>audi</td>\n",
       "      <td>yes</td>\n",
       "      <td>3</td>\n",
       "      <td>3</td>\n",
       "      <td>2016</td>\n",
       "    </tr>\n",
       "    <tr>\n",
       "      <th>2</th>\n",
       "      <td>9800.0</td>\n",
       "      <td>suv</td>\n",
       "      <td>2004</td>\n",
       "      <td>auto</td>\n",
       "      <td>163.0</td>\n",
       "      <td>grand</td>\n",
       "      <td>125000</td>\n",
       "      <td>8</td>\n",
       "      <td>gasoline</td>\n",
       "      <td>jeep</td>\n",
       "      <td>yes</td>\n",
       "      <td>0</td>\n",
       "      <td>3</td>\n",
       "      <td>2016</td>\n",
       "    </tr>\n",
       "    <tr>\n",
       "      <th>3</th>\n",
       "      <td>1500.0</td>\n",
       "      <td>sedan</td>\n",
       "      <td>2001</td>\n",
       "      <td>manual</td>\n",
       "      <td>75.0</td>\n",
       "      <td>golf</td>\n",
       "      <td>150000</td>\n",
       "      <td>6</td>\n",
       "      <td>petrol</td>\n",
       "      <td>volkswagen</td>\n",
       "      <td>no</td>\n",
       "      <td>3</td>\n",
       "      <td>3</td>\n",
       "      <td>2016</td>\n",
       "    </tr>\n",
       "    <tr>\n",
       "      <th>4</th>\n",
       "      <td>3600.0</td>\n",
       "      <td>small</td>\n",
       "      <td>2008</td>\n",
       "      <td>manual</td>\n",
       "      <td>69.0</td>\n",
       "      <td>fabia</td>\n",
       "      <td>90000</td>\n",
       "      <td>7</td>\n",
       "      <td>gasoline</td>\n",
       "      <td>skoda</td>\n",
       "      <td>no</td>\n",
       "      <td>3</td>\n",
       "      <td>3</td>\n",
       "      <td>2016</td>\n",
       "    </tr>\n",
       "  </tbody>\n",
       "</table>\n",
       "</div>"
      ],
      "text/plain": [
       "     price vehicle_type registration_year gearbox  power    model  kilometer  \\\n",
       "0    480.0        sedan              1993  manual  110.0     golf     150000   \n",
       "1  18300.0        coupe              2011  manual  190.0  unknown     125000   \n",
       "2   9800.0          suv              2004    auto  163.0    grand     125000   \n",
       "3   1500.0        sedan              2001  manual   75.0     golf     150000   \n",
       "4   3600.0        small              2008  manual   69.0    fabia      90000   \n",
       "\n",
       "  registration_month fuel_type       brand not_repaired  weekday_created  \\\n",
       "0                  0    petrol  volkswagen          yes                3   \n",
       "1                  5  gasoline        audi          yes                3   \n",
       "2                  8  gasoline        jeep          yes                0   \n",
       "3                  6    petrol  volkswagen           no                3   \n",
       "4                  7  gasoline       skoda           no                3   \n",
       "\n",
       "   month_created year_created  \n",
       "0              3         2016  \n",
       "1              3         2016  \n",
       "2              3         2016  \n",
       "3              3         2016  \n",
       "4              3         2016  "
      ]
     },
     "execution_count": 72,
     "metadata": {},
     "output_type": "execute_result"
    }
   ],
   "source": [
    "data.head()"
   ]
  },
  {
   "cell_type": "code",
   "execution_count": 73,
   "metadata": {},
   "outputs": [
    {
     "data": {
      "image/png": "[encoded data removed]",
      "text/plain": [
       "<Figure size 360x360 with 2 Axes>"
      ]
     },
     "metadata": {},
     "output_type": "display_data"
    }
   ],
   "source": [
    "# проверим корреляции после импутации\n",
    "plt.figure(figsize=(5,5))\n",
    "(\n",
    "    sns.heatmap(data[['power', 'price', 'kilometer', 'weekday_created', 'month_created']]\n",
    "                .corr()[['power', 'price']], \n",
    "                annot=True, \n",
    "                cmap=\"Blues\", \n",
    "                fmt='.2f', \n",
    "                annot_kws={'size':16})\n",
    ");"
   ]
  },
  {
   "cell_type": "markdown",
   "metadata": {},
   "source": [
    "**Краткий вывод**\n",
    "\n",
    "Корреляции между некоторыми признаками немного изменились, но в целом теснота связи не изменилась. "
   ]
  },
  {
   "cell_type": "markdown",
   "metadata": {},
   "source": [
    "Теперь можно проделать перекодировку. Перекодированные значения сохраним в отдельном датасете. "
   ]
  },
  {
   "cell_type": "code",
   "execution_count": 74,
   "metadata": {},
   "outputs": [],
   "source": [
    "# перекодируем категориальные переменные\n",
    "data_ohe = pd.get_dummies(data, drop_first=True)"
   ]
  },
  {
   "cell_type": "code",
   "execution_count": 75,
   "metadata": {
    "scrolled": false
   },
   "outputs": [
    {
     "data": {
      "text/html": [
       "<div>\n",
       "<style scoped>\n",
       "    .dataframe tbody tr th:only-of-type {\n",
       "        vertical-align: middle;\n",
       "    }\n",
       "\n",
       "    .dataframe tbody tr th {\n",
       "        vertical-align: top;\n",
       "    }\n",
       "\n",
       "    .dataframe thead th {\n",
       "        text-align: right;\n",
       "    }\n",
       "</style>\n",
       "<table border=\"1\" class=\"dataframe\">\n",
       "  <thead>\n",
       "    <tr style=\"text-align: right;\">\n",
       "      <th></th>\n",
       "      <th>price</th>\n",
       "      <th>power</th>\n",
       "      <th>kilometer</th>\n",
       "      <th>weekday_created</th>\n",
       "      <th>month_created</th>\n",
       "      <th>vehicle_type_convertible</th>\n",
       "      <th>vehicle_type_coupe</th>\n",
       "      <th>vehicle_type_other</th>\n",
       "      <th>vehicle_type_sedan</th>\n",
       "      <th>vehicle_type_small</th>\n",
       "      <th>...</th>\n",
       "      <th>brand_sonstige_autos</th>\n",
       "      <th>brand_subaru</th>\n",
       "      <th>brand_suzuki</th>\n",
       "      <th>brand_toyota</th>\n",
       "      <th>brand_trabant</th>\n",
       "      <th>brand_volkswagen</th>\n",
       "      <th>brand_volvo</th>\n",
       "      <th>not_repaired_yes</th>\n",
       "      <th>year_created_2015</th>\n",
       "      <th>year_created_2016</th>\n",
       "    </tr>\n",
       "  </thead>\n",
       "  <tbody>\n",
       "    <tr>\n",
       "      <th>0</th>\n",
       "      <td>480.0</td>\n",
       "      <td>110.0</td>\n",
       "      <td>150000</td>\n",
       "      <td>3</td>\n",
       "      <td>3</td>\n",
       "      <td>0</td>\n",
       "      <td>0</td>\n",
       "      <td>0</td>\n",
       "      <td>1</td>\n",
       "      <td>0</td>\n",
       "      <td>...</td>\n",
       "      <td>0</td>\n",
       "      <td>0</td>\n",
       "      <td>0</td>\n",
       "      <td>0</td>\n",
       "      <td>0</td>\n",
       "      <td>1</td>\n",
       "      <td>0</td>\n",
       "      <td>1</td>\n",
       "      <td>0</td>\n",
       "      <td>1</td>\n",
       "    </tr>\n",
       "    <tr>\n",
       "      <th>1</th>\n",
       "      <td>18300.0</td>\n",
       "      <td>190.0</td>\n",
       "      <td>125000</td>\n",
       "      <td>3</td>\n",
       "      <td>3</td>\n",
       "      <td>0</td>\n",
       "      <td>1</td>\n",
       "      <td>0</td>\n",
       "      <td>0</td>\n",
       "      <td>0</td>\n",
       "      <td>...</td>\n",
       "      <td>0</td>\n",
       "      <td>0</td>\n",
       "      <td>0</td>\n",
       "      <td>0</td>\n",
       "      <td>0</td>\n",
       "      <td>0</td>\n",
       "      <td>0</td>\n",
       "      <td>1</td>\n",
       "      <td>0</td>\n",
       "      <td>1</td>\n",
       "    </tr>\n",
       "    <tr>\n",
       "      <th>2</th>\n",
       "      <td>9800.0</td>\n",
       "      <td>163.0</td>\n",
       "      <td>125000</td>\n",
       "      <td>0</td>\n",
       "      <td>3</td>\n",
       "      <td>0</td>\n",
       "      <td>0</td>\n",
       "      <td>0</td>\n",
       "      <td>0</td>\n",
       "      <td>0</td>\n",
       "      <td>...</td>\n",
       "      <td>0</td>\n",
       "      <td>0</td>\n",
       "      <td>0</td>\n",
       "      <td>0</td>\n",
       "      <td>0</td>\n",
       "      <td>0</td>\n",
       "      <td>0</td>\n",
       "      <td>1</td>\n",
       "      <td>0</td>\n",
       "      <td>1</td>\n",
       "    </tr>\n",
       "    <tr>\n",
       "      <th>3</th>\n",
       "      <td>1500.0</td>\n",
       "      <td>75.0</td>\n",
       "      <td>150000</td>\n",
       "      <td>3</td>\n",
       "      <td>3</td>\n",
       "      <td>0</td>\n",
       "      <td>0</td>\n",
       "      <td>0</td>\n",
       "      <td>1</td>\n",
       "      <td>0</td>\n",
       "      <td>...</td>\n",
       "      <td>0</td>\n",
       "      <td>0</td>\n",
       "      <td>0</td>\n",
       "      <td>0</td>\n",
       "      <td>0</td>\n",
       "      <td>1</td>\n",
       "      <td>0</td>\n",
       "      <td>0</td>\n",
       "      <td>0</td>\n",
       "      <td>1</td>\n",
       "    </tr>\n",
       "    <tr>\n",
       "      <th>4</th>\n",
       "      <td>3600.0</td>\n",
       "      <td>69.0</td>\n",
       "      <td>90000</td>\n",
       "      <td>3</td>\n",
       "      <td>3</td>\n",
       "      <td>0</td>\n",
       "      <td>0</td>\n",
       "      <td>0</td>\n",
       "      <td>0</td>\n",
       "      <td>1</td>\n",
       "      <td>...</td>\n",
       "      <td>0</td>\n",
       "      <td>0</td>\n",
       "      <td>0</td>\n",
       "      <td>0</td>\n",
       "      <td>0</td>\n",
       "      <td>0</td>\n",
       "      <td>0</td>\n",
       "      <td>0</td>\n",
       "      <td>0</td>\n",
       "      <td>1</td>\n",
       "    </tr>\n",
       "  </tbody>\n",
       "</table>\n",
       "<p>5 rows × 462 columns</p>\n",
       "</div>"
      ],
      "text/plain": [
       "     price  power  kilometer  weekday_created  month_created  \\\n",
       "0    480.0  110.0     150000                3              3   \n",
       "1  18300.0  190.0     125000                3              3   \n",
       "2   9800.0  163.0     125000                0              3   \n",
       "3   1500.0   75.0     150000                3              3   \n",
       "4   3600.0   69.0      90000                3              3   \n",
       "\n",
       "   vehicle_type_convertible  vehicle_type_coupe  vehicle_type_other  \\\n",
       "0                         0                   0                   0   \n",
       "1                         0                   1                   0   \n",
       "2                         0                   0                   0   \n",
       "3                         0                   0                   0   \n",
       "4                         0                   0                   0   \n",
       "\n",
       "   vehicle_type_sedan  vehicle_type_small  ...  brand_sonstige_autos  \\\n",
       "0                   1                   0  ...                     0   \n",
       "1                   0                   0  ...                     0   \n",
       "2                   0                   0  ...                     0   \n",
       "3                   1                   0  ...                     0   \n",
       "4                   0                   1  ...                     0   \n",
       "\n",
       "   brand_subaru  brand_suzuki  brand_toyota  brand_trabant  brand_volkswagen  \\\n",
       "0             0             0             0              0                 1   \n",
       "1             0             0             0              0                 0   \n",
       "2             0             0             0              0                 0   \n",
       "3             0             0             0              0                 1   \n",
       "4             0             0             0              0                 0   \n",
       "\n",
       "   brand_volvo  not_repaired_yes  year_created_2015  year_created_2016  \n",
       "0            0                 1                  0                  1  \n",
       "1            0                 1                  0                  1  \n",
       "2            0                 1                  0                  1  \n",
       "3            0                 0                  0                  1  \n",
       "4            0                 0                  0                  1  \n",
       "\n",
       "[5 rows x 462 columns]"
      ]
     },
     "execution_count": 75,
     "metadata": {},
     "output_type": "execute_result"
    }
   ],
   "source": [
    "data_ohe.head()"
   ]
  },
  {
   "cell_type": "code",
   "execution_count": 76,
   "metadata": {},
   "outputs": [],
   "source": [
    "# перекодируем категориальные переменные\n",
    "\n",
    "# создам функцию \n",
    "def encoder(data, categorical):\n",
    "    encoder = OrdinalEncoder()\n",
    "    encoder.fit(data[categorical])\n",
    "    data.loc[:, [categorical]] = encoder.transform(data[categorical])\n",
    "    return data"
   ]
  },
  {
   "cell_type": "code",
   "execution_count": 77,
   "metadata": {},
   "outputs": [],
   "source": [
    "data_ordinal = data.copy()\n",
    "\n",
    "categorical = ['vehicle_type', 'registration_year', 'gearbox', 'model',\n",
    "              'registration_month', 'fuel_type', 'brand', 'not_repaired', \n",
    "              'year_created']\n",
    "\n",
    "encoder = OrdinalEncoder()\n",
    "\n",
    "encoder.fit(data_ordinal[categorical])\n",
    "\n",
    "data_ordinal.loc[:, categorical] = encoder.transform(data_ordinal[categorical])\n"
   ]
  },
  {
   "cell_type": "code",
   "execution_count": 78,
   "metadata": {},
   "outputs": [
    {
     "data": {
      "text/html": [
       "<div>\n",
       "<style scoped>\n",
       "    .dataframe tbody tr th:only-of-type {\n",
       "        vertical-align: middle;\n",
       "    }\n",
       "\n",
       "    .dataframe tbody tr th {\n",
       "        vertical-align: top;\n",
       "    }\n",
       "\n",
       "    .dataframe thead th {\n",
       "        text-align: right;\n",
       "    }\n",
       "</style>\n",
       "<table border=\"1\" class=\"dataframe\">\n",
       "  <thead>\n",
       "    <tr style=\"text-align: right;\">\n",
       "      <th></th>\n",
       "      <th>price</th>\n",
       "      <th>vehicle_type</th>\n",
       "      <th>registration_year</th>\n",
       "      <th>gearbox</th>\n",
       "      <th>power</th>\n",
       "      <th>model</th>\n",
       "      <th>kilometer</th>\n",
       "      <th>registration_month</th>\n",
       "      <th>fuel_type</th>\n",
       "      <th>brand</th>\n",
       "      <th>not_repaired</th>\n",
       "      <th>weekday_created</th>\n",
       "      <th>month_created</th>\n",
       "      <th>year_created</th>\n",
       "    </tr>\n",
       "  </thead>\n",
       "  <tbody>\n",
       "    <tr>\n",
       "      <th>0</th>\n",
       "      <td>480.0</td>\n",
       "      <td>4.0</td>\n",
       "      <td>83.0</td>\n",
       "      <td>1.0</td>\n",
       "      <td>110.0</td>\n",
       "      <td>116.0</td>\n",
       "      <td>150000</td>\n",
       "      <td>0.0</td>\n",
       "      <td>6.0</td>\n",
       "      <td>38.0</td>\n",
       "      <td>1.0</td>\n",
       "      <td>3</td>\n",
       "      <td>3</td>\n",
       "      <td>2.0</td>\n",
       "    </tr>\n",
       "    <tr>\n",
       "      <th>1</th>\n",
       "      <td>18300.0</td>\n",
       "      <td>2.0</td>\n",
       "      <td>101.0</td>\n",
       "      <td>1.0</td>\n",
       "      <td>190.0</td>\n",
       "      <td>227.0</td>\n",
       "      <td>125000</td>\n",
       "      <td>8.0</td>\n",
       "      <td>2.0</td>\n",
       "      <td>1.0</td>\n",
       "      <td>1.0</td>\n",
       "      <td>3</td>\n",
       "      <td>3</td>\n",
       "      <td>2.0</td>\n",
       "    </tr>\n",
       "    <tr>\n",
       "      <th>2</th>\n",
       "      <td>9800.0</td>\n",
       "      <td>6.0</td>\n",
       "      <td>94.0</td>\n",
       "      <td>0.0</td>\n",
       "      <td>163.0</td>\n",
       "      <td>117.0</td>\n",
       "      <td>125000</td>\n",
       "      <td>11.0</td>\n",
       "      <td>2.0</td>\n",
       "      <td>14.0</td>\n",
       "      <td>1.0</td>\n",
       "      <td>0</td>\n",
       "      <td>3</td>\n",
       "      <td>2.0</td>\n",
       "    </tr>\n",
       "    <tr>\n",
       "      <th>3</th>\n",
       "      <td>1500.0</td>\n",
       "      <td>4.0</td>\n",
       "      <td>91.0</td>\n",
       "      <td>1.0</td>\n",
       "      <td>75.0</td>\n",
       "      <td>116.0</td>\n",
       "      <td>150000</td>\n",
       "      <td>9.0</td>\n",
       "      <td>6.0</td>\n",
       "      <td>38.0</td>\n",
       "      <td>0.0</td>\n",
       "      <td>3</td>\n",
       "      <td>3</td>\n",
       "      <td>2.0</td>\n",
       "    </tr>\n",
       "    <tr>\n",
       "      <th>4</th>\n",
       "      <td>3600.0</td>\n",
       "      <td>5.0</td>\n",
       "      <td>98.0</td>\n",
       "      <td>1.0</td>\n",
       "      <td>69.0</td>\n",
       "      <td>101.0</td>\n",
       "      <td>90000</td>\n",
       "      <td>10.0</td>\n",
       "      <td>2.0</td>\n",
       "      <td>31.0</td>\n",
       "      <td>0.0</td>\n",
       "      <td>3</td>\n",
       "      <td>3</td>\n",
       "      <td>2.0</td>\n",
       "    </tr>\n",
       "  </tbody>\n",
       "</table>\n",
       "</div>"
      ],
      "text/plain": [
       "     price  vehicle_type  registration_year  gearbox  power  model  kilometer  \\\n",
       "0    480.0           4.0               83.0      1.0  110.0  116.0     150000   \n",
       "1  18300.0           2.0              101.0      1.0  190.0  227.0     125000   \n",
       "2   9800.0           6.0               94.0      0.0  163.0  117.0     125000   \n",
       "3   1500.0           4.0               91.0      1.0   75.0  116.0     150000   \n",
       "4   3600.0           5.0               98.0      1.0   69.0  101.0      90000   \n",
       "\n",
       "   registration_month  fuel_type  brand  not_repaired  weekday_created  \\\n",
       "0                 0.0        6.0   38.0           1.0                3   \n",
       "1                 8.0        2.0    1.0           1.0                3   \n",
       "2                11.0        2.0   14.0           1.0                0   \n",
       "3                 9.0        6.0   38.0           0.0                3   \n",
       "4                10.0        2.0   31.0           0.0                3   \n",
       "\n",
       "   month_created  year_created  \n",
       "0              3           2.0  \n",
       "1              3           2.0  \n",
       "2              3           2.0  \n",
       "3              3           2.0  \n",
       "4              3           2.0  "
      ]
     },
     "execution_count": 78,
     "metadata": {},
     "output_type": "execute_result"
    }
   ],
   "source": [
    "data_ordinal.head()"
   ]
  },
  {
   "cell_type": "code",
   "execution_count": 79,
   "metadata": {},
   "outputs": [
    {
     "name": "stdout",
     "output_type": "stream",
     "text": [
      "<class 'pandas.core.frame.DataFrame'>\n",
      "Int64Index: 340556 entries, 0 to 352045\n",
      "Data columns (total 14 columns):\n",
      " #   Column              Non-Null Count   Dtype  \n",
      "---  ------              --------------   -----  \n",
      " 0   price               340556 non-null  float64\n",
      " 1   vehicle_type        340556 non-null  object \n",
      " 2   registration_year   340556 non-null  object \n",
      " 3   gearbox             340556 non-null  object \n",
      " 4   power               340556 non-null  float64\n",
      " 5   model               340556 non-null  object \n",
      " 6   kilometer           340556 non-null  int64  \n",
      " 7   registration_month  340556 non-null  object \n",
      " 8   fuel_type           340556 non-null  object \n",
      " 9   brand               340556 non-null  object \n",
      " 10  not_repaired        340556 non-null  object \n",
      " 11  weekday_created     340556 non-null  int64  \n",
      " 12  month_created       340556 non-null  int64  \n",
      " 13  year_created        340556 non-null  object \n",
      "dtypes: float64(2), int64(3), object(9)\n",
      "memory usage: 47.0+ MB\n"
     ]
    }
   ],
   "source": [
    "data.info()"
   ]
  },
  {
   "cell_type": "markdown",
   "metadata": {},
   "source": [
    "#### Масштабирование данных\n",
    "\n",
    "Перейдем к стандартизации признаков. Разделим сначала выборку на обучающую и тестовую. Причем придется два раза сделать: для `data` и `data_ohe` (с dummy-переменными)."
   ]
  },
  {
   "cell_type": "code",
   "execution_count": 80,
   "metadata": {},
   "outputs": [],
   "source": [
    "# разделим выборку на обучающую и тестовая \n",
    "target = data['price']\n",
    "features = data.drop(['price'], axis=1)\n",
    "features_train, features_test, target_train, target_test = train_test_split(\n",
    "    features, target, test_size=0.25, random_state=12345)"
   ]
  },
  {
   "cell_type": "code",
   "execution_count": 81,
   "metadata": {},
   "outputs": [],
   "source": [
    "numeric = ['power', 'kilometer', 'weekday_created', 'month_created']"
   ]
  },
  {
   "cell_type": "code",
   "execution_count": 82,
   "metadata": {},
   "outputs": [],
   "source": [
    "# стандартизируем выборку\n",
    "scaler = StandardScaler()\n",
    "scaler.fit(features_train[numeric]) \n",
    "features_train[numeric] = scaler.transform(features_train[numeric])\n",
    "\n",
    "# преобразуем тестовую выборки\n",
    "features_test[numeric] = scaler.transform(features_test[numeric])"
   ]
  },
  {
   "cell_type": "markdown",
   "metadata": {},
   "source": [
    "Стандатизировали датасет `data`. Теперь перейдем к `data_ohe`. "
   ]
  },
  {
   "cell_type": "code",
   "execution_count": 83,
   "metadata": {},
   "outputs": [],
   "source": [
    "# разделим выборку на обучающую и валидационную data_ohe\n",
    "features_ohe = data_ohe.drop(['price'], axis=1)\n",
    "features_ohe_train, features_ohe_test = train_test_split(\n",
    "    features_ohe, test_size=0.25, random_state=12345)"
   ]
  },
  {
   "cell_type": "code",
   "execution_count": 84,
   "metadata": {},
   "outputs": [],
   "source": [
    "# стандартизируем выборку\n",
    "scaler = StandardScaler()\n",
    "scaler.fit(features_ohe_train[numeric]) \n",
    "features_ohe_train[numeric] = scaler.transform(features_ohe_train[numeric])\n",
    "\n",
    "# преобразуем тестовую выборки\n",
    "features_ohe_test[numeric] = scaler.transform(features_ohe_test[numeric])"
   ]
  },
  {
   "cell_type": "code",
   "execution_count": 85,
   "metadata": {},
   "outputs": [],
   "source": [
    "# разделим выборку на обучающую и валидационную data_ohe\n",
    "features_ordinal = data_ordinal.drop(['price'], axis=1)\n",
    "features_ordinal_train, features_ordinal_test = train_test_split(\n",
    "    features_ordinal, test_size=0.25, random_state=12345)"
   ]
  },
  {
   "cell_type": "code",
   "execution_count": 86,
   "metadata": {},
   "outputs": [],
   "source": [
    "# стандартизируем выборку\n",
    "scaler = StandardScaler()\n",
    "scaler.fit(features_ordinal_train[numeric]) \n",
    "features_ordinal_train[numeric] = scaler.transform(features_ordinal_train[numeric])\n",
    "\n",
    "# преобразуем тестовую выборки\n",
    "features_ordinal_test[numeric] = scaler.transform(features_ordinal_test[numeric])"
   ]
  },
  {
   "cell_type": "markdown",
   "metadata": {},
   "source": [
    "**Вывод по предобработке данных**\n",
    "\n",
    "Итак, в этой части провела предобработку данных: избавилась от дублей, удалила сильные выбросы, обработала миссинги. \n",
    "\n",
    "Перейдем к исследовательскому анализу данных и обучению моделей. "
   ]
  },
  {
   "cell_type": "markdown",
   "metadata": {},
   "source": [
    "<div class=\"alert alert-block alert-success\">\n",
    "<b>✔️ Успех:</b>\n",
    "\n",
    "С аномальными значениями и пропусками успешно справились 👍\n",
    "</div>"
   ]
  },
  {
   "cell_type": "markdown",
   "metadata": {},
   "source": [
    "## Обучение моделей\n",
    "\n",
    "### Исследовательский анализ данных\n",
    "\n",
    "В этом пункте посмотрим на корреляции между признаками, чтобы понять какие признаки оставить."
   ]
  },
  {
   "cell_type": "code",
   "execution_count": 87,
   "metadata": {},
   "outputs": [
    {
     "data": {
      "image/png": "[encoded data removed]",
      "text/plain": [
       "<Figure size 360x360 with 2 Axes>"
      ]
     },
     "metadata": {},
     "output_type": "display_data"
    }
   ],
   "source": [
    "# проверим как скоррелированы переменные друг с другом. \n",
    "# если есть сильные корреляции, то исключим из анализа некоторые переменные\n",
    "\n",
    "plt.figure(figsize=(5,5))\n",
    "(\n",
    "    sns.heatmap(features_train\n",
    "                .corr(), \n",
    "                annot=True, \n",
    "                cmap=\"Blues\", \n",
    "                fmt='.2f', \n",
    "                annot_kws={'size':10})\n",
    ");"
   ]
  },
  {
   "cell_type": "markdown",
   "metadata": {},
   "source": [
    "**Краткий вывод**\n",
    "\n",
    "Как видно из диаграммы heatmap все корреляции между признаками довольно небольшие. Все числовые признаки можно оставить и использовать при построении модели.\n",
    "\n",
    "### Построение моделей\n",
    "\n",
    "Выберем следующие алгоритмы для обучения модели:\n",
    "\n",
    "- `LinearRegression`\n",
    "- `SGDRegressor`\n",
    "- `DecisionTreeRegressor`\n",
    "- `CatBoostRegressor`\n",
    "- `LGBMRegressor`\n",
    "\n",
    "В качестве метрики для всех моделей буду использовать `RMSE`. Качество моделей будем проверять на кроссвалидации.\n",
    "\n",
    "Будем использовать два типа признаков для кроссвалидации:\n",
    "\n",
    "- Неизмененные **(`features_ordinal_train`, `features_ordinal_test`)** для `CatBoostRegressor` и `LGBMRegressor`.\n",
    "- Закодированные методом `OHE` (`features_ohe_train`, `features_ohe_test`) для `LinearRegression`, `SGDRegressor` и `DecisionTreeRegressor`. \n",
    "\n",
    "#### Линейная регрессия "
   ]
  },
  {
   "cell_type": "code",
   "execution_count": 88,
   "metadata": {},
   "outputs": [
    {
     "name": "stdout",
     "output_type": "stream",
     "text": [
      "CPU times: user 41.3 s, sys: 35.8 s, total: 1min 17s\n",
      "Wall time: 1min 17s\n"
     ]
    }
   ],
   "source": [
    "%%time\n",
    "# время обучения\n",
    "\n",
    "start_time = time.time()\n",
    "linear_model = LinearRegression()\n",
    "\n",
    "linear_model.fit(features_ohe_train, target_train)\n",
    "\n",
    "linear_model_fit_time = time.time() - start_time"
   ]
  },
  {
   "cell_type": "code",
   "execution_count": 89,
   "metadata": {},
   "outputs": [
    {
     "name": "stdout",
     "output_type": "stream",
     "text": [
      "77.50337767601013\n"
     ]
    }
   ],
   "source": [
    "print(linear_model_fit_time)"
   ]
  },
  {
   "cell_type": "code",
   "execution_count": 90,
   "metadata": {},
   "outputs": [
    {
     "name": "stdout",
     "output_type": "stream",
     "text": [
      "RMSE для линейной регрессии на тренировочной выборке равен 2315.9998079647885\n"
     ]
    }
   ],
   "source": [
    "print('RMSE для линейной регрессии на тренировочной выборке равен', \n",
    "      mean_squared_error(target_train, linear_model.predict(features_ohe_train), squared=False))"
   ]
  },
  {
   "cell_type": "code",
   "execution_count": 91,
   "metadata": {},
   "outputs": [
    {
     "name": "stdout",
     "output_type": "stream",
     "text": [
      "CPU times: user 120 ms, sys: 96.4 ms, total: 217 ms\n",
      "Wall time: 218 ms\n"
     ]
    }
   ],
   "source": [
    "%%time\n",
    "\n",
    "# время предсказания\n",
    "start_time = time.time()\n",
    "\n",
    "target_linear_pred = linear_model.predict(features_ohe_test)\n",
    "\n",
    "linear_model_predicted_time = time.time() - start_time"
   ]
  },
  {
   "cell_type": "code",
   "execution_count": 92,
   "metadata": {},
   "outputs": [
    {
     "name": "stdout",
     "output_type": "stream",
     "text": [
      "RMSE для линейной регрессии равен 365024053328.0275\n",
      "R-score для линейной регрессии равен -6765085950977845.0\n"
     ]
    }
   ],
   "source": [
    "print('RMSE для линейной регрессии равен', mean_squared_error(target_test, target_linear_pred, squared=False))\n",
    "print('R-score для линейной регрессии равен', r2_score(target_test, target_linear_pred))"
   ]
  },
  {
   "cell_type": "code",
   "execution_count": 93,
   "metadata": {},
   "outputs": [],
   "source": [
    "linear_model_test_rmse = mean_squared_error(target_test, target_linear_pred, squared=False)"
   ]
  },
  {
   "cell_type": "code",
   "execution_count": 94,
   "metadata": {},
   "outputs": [
    {
     "data": {
      "text/plain": [
       "365024053328.0275"
      ]
     },
     "execution_count": 94,
     "metadata": {},
     "output_type": "execute_result"
    }
   ],
   "source": [
    "linear_model_test_rmse"
   ]
  },
  {
   "cell_type": "markdown",
   "metadata": {},
   "source": [
    "Судя по всему, модель переобучилась. "
   ]
  },
  {
   "cell_type": "markdown",
   "metadata": {},
   "source": [
    "Качество модели оставляет желать лучшего. `R-score` отрицательный, `RMSE` довольно большой. Проверим еще качество модели на \n",
    "кросс-валидации. "
   ]
  },
  {
   "cell_type": "code",
   "execution_count": 95,
   "metadata": {},
   "outputs": [
    {
     "name": "stdout",
     "output_type": "stream",
     "text": [
      "RMSE на кросс-валидации равен 4020439285499.827\n",
      "CPU times: user 2min 45s, sys: 2min 24s, total: 5min 9s\n",
      "Wall time: 5min 10s\n"
     ]
    }
   ],
   "source": [
    "%%time\n",
    "\n",
    "# Проверим качество модели на кросс-валидации\n",
    "cv_rmse_linear_model = (cross_val_score(linear_model, \n",
    "                             features_ohe_train, \n",
    "                             target_train, \n",
    "                             cv=5, \n",
    "                             scoring='neg_mean_squared_error').mean() * -1) ** 0.5\n",
    "print('RMSE на кросс-валидации равен', cv_rmse_linear_model)"
   ]
  },
  {
   "cell_type": "markdown",
   "metadata": {},
   "source": [
    "**Краткий вывод**\n",
    "\n",
    "Модель обучалась чуть меньше минуты. Предсказывала модель почти секунду. Однако качество модели довольно низкое, в том числе на кросс-валидации. "
   ]
  },
  {
   "cell_type": "markdown",
   "metadata": {},
   "source": [
    "#### SGD Regressor"
   ]
  },
  {
   "cell_type": "code",
   "execution_count": 96,
   "metadata": {},
   "outputs": [
    {
     "name": "stdout",
     "output_type": "stream",
     "text": [
      "CPU times: user 12.9 s, sys: 437 ms, total: 13.3 s\n",
      "Wall time: 13.4 s\n"
     ]
    }
   ],
   "source": [
    "%%time\n",
    "\n",
    "start_time = time.time()\n",
    "sgd_regressor = SGDRegressor()\n",
    "\n",
    "sgd_regressor.fit(features_ohe_train, target_train)\n",
    "\n",
    "sgd_model_fit_time = time.time() - start_time"
   ]
  },
  {
   "cell_type": "code",
   "execution_count": 97,
   "metadata": {},
   "outputs": [
    {
     "name": "stdout",
     "output_type": "stream",
     "text": [
      "RMSE для SGD regressor для тренировочной выборки равен 2335.538299865981\n"
     ]
    }
   ],
   "source": [
    "sgd_model_train_rmse = mean_squared_error(target_train, sgd_regressor.predict(features_ohe_train),squared=False)\n",
    "\n",
    "print('RMSE для SGD regressor для тренировочной выборки равен', \n",
    "      sgd_model_train_rmse)"
   ]
  },
  {
   "cell_type": "code",
   "execution_count": 98,
   "metadata": {},
   "outputs": [
    {
     "name": "stdout",
     "output_type": "stream",
     "text": [
      "CPU times: user 155 ms, sys: 139 ms, total: 293 ms\n",
      "Wall time: 296 ms\n"
     ]
    }
   ],
   "source": [
    "%%time\n",
    "\n",
    "# время предсказания \n",
    "start_time = time.time()\n",
    "\n",
    "target_sgd_pred = sgd_regressor.predict(features_ohe_test)\n",
    "\n",
    "sgd_model_predicted_time = time.time() - start_time"
   ]
  },
  {
   "cell_type": "code",
   "execution_count": 99,
   "metadata": {},
   "outputs": [],
   "source": [
    "sgd_model_test_rmse =  mean_squared_error(target_test, target_sgd_pred,squared=False)"
   ]
  },
  {
   "cell_type": "code",
   "execution_count": 100,
   "metadata": {},
   "outputs": [
    {
     "name": "stdout",
     "output_type": "stream",
     "text": [
      "RMSE для SGD regressor равен 2332.4404199230526\n",
      "R-square для SGD regressor равен 0.7237823221263988\n"
     ]
    }
   ],
   "source": [
    "print('RMSE для SGD regressor равен', sgd_model_test_rmse)\n",
    "print('R-square для SGD regressor равен', r2_score(target_test, target_sgd_pred))"
   ]
  },
  {
   "cell_type": "code",
   "execution_count": 101,
   "metadata": {},
   "outputs": [
    {
     "name": "stdout",
     "output_type": "stream",
     "text": [
      "RMSE на кросс-валидации для SGD regressor равен 2350.2579126490605\n",
      "CPU times: user 44.8 s, sys: 2.23 s, total: 47 s\n",
      "Wall time: 47.3 s\n"
     ]
    }
   ],
   "source": [
    "%%time\n",
    "\n",
    "# Проверим качество модели на кросс-валидации\n",
    "cv_rmse_sgd_model = (cross_val_score(sgd_regressor, \n",
    "                             features_ohe_train, \n",
    "                             target_train, \n",
    "                             cv=5, \n",
    "                             scoring='neg_mean_squared_error').mean() * -1) ** 0.5\n",
    "print('RMSE на кросс-валидации для SGD regressor равен', cv_rmse_sgd_model)"
   ]
  },
  {
   "cell_type": "markdown",
   "metadata": {},
   "source": [
    "**Краткий вывод**\n",
    "\n",
    "ОГО! Круто! Благодаря кросс-валидации, смогла сильно уменьшить RMSE для модели. \n",
    "\n",
    "К тому время обучения и предсказания тоже низкие. Модель обучалась менее полуминуты, а предсказывала меньше секунды. "
   ]
  },
  {
   "cell_type": "markdown",
   "metadata": {},
   "source": [
    "#### Decision Tree Regression"
   ]
  },
  {
   "cell_type": "markdown",
   "metadata": {},
   "source": [
    "Сначала хотела обучить случайный лес обучает очень долго. Я начинала подбор параметров в таких:\n",
    "> `n_estimators = [int(x) for x in np.linspace(start = 50, stop = 100, num = 10)]`  \n",
    "> `max_depth = [int(x) for x in np.linspace(10, 80, num = 11)]`\n",
    "\n",
    "> `rf_grid = {'n_estimators': n_estimators, 'max_depth': max_depth}`\n",
    "> `forest_gsc = GridSearchCV(forest, rf_grid, scoring = 'neg_root_mean_squared_error', cv = 5, n_jobs=4)`\n",
    "\n",
    "Но модель обучалась очень долго. Пробовала подобрать другие гиперпараметры, но время обучения не уменьшалось. В итоге решила обучить дерево решений. "
   ]
  },
  {
   "cell_type": "code",
   "execution_count": 102,
   "metadata": {},
   "outputs": [
    {
     "name": "stdout",
     "output_type": "stream",
     "text": [
      "CPU times: user 999 µs, sys: 0 ns, total: 999 µs\n",
      "Wall time: 504 µs\n"
     ]
    }
   ],
   "source": [
    "%%time\n",
    "\n",
    "tree = DecisionTreeRegressor(random_state = 12345) \n",
    "\n",
    "# подберем гиперпараметры \n",
    "max_depth = [int(x) for x in np.linspace(10, 20, num = 10)]\n",
    "hyperparams = {'max_depth':max_depth}\n",
    "\n",
    "tree_gsc = GridSearchCV(tree, hyperparams, scoring = 'neg_root_mean_squared_error', cv = 5, n_jobs=4)"
   ]
  },
  {
   "cell_type": "code",
   "execution_count": 103,
   "metadata": {},
   "outputs": [
    {
     "name": "stdout",
     "output_type": "stream",
     "text": [
      "CPU times: user 1.02 s, sys: 362 ms, total: 1.38 s\n",
      "Wall time: 1min 3s\n"
     ]
    }
   ],
   "source": [
    "%%time\n",
    "\n",
    "# обучение модели\n",
    "result = tree_gsc.fit(features_ordinal_train, target_train)"
   ]
  },
  {
   "cell_type": "code",
   "execution_count": 104,
   "metadata": {
    "scrolled": true
   },
   "outputs": [
    {
     "name": "stdout",
     "output_type": "stream",
     "text": [
      "Decision Tree Regressor лучшее значение метрики neg_root_mean_squared_error: -2075.9640084960306\n",
      "Decision Tree Regressor лучшие гиперпараметры: {'max_depth': 12}\n"
     ]
    }
   ],
   "source": [
    "# посмотрим на результаты и лучшие параметры \n",
    "print('Decision Tree Regressor лучшее значение метрики neg_root_mean_squared_error: %s' % result.best_score_)\n",
    "print('Decision Tree Regressor лучшие гиперпараметры: %s' % result.best_params_)"
   ]
  },
  {
   "cell_type": "code",
   "execution_count": 105,
   "metadata": {},
   "outputs": [
    {
     "name": "stdout",
     "output_type": "stream",
     "text": [
      "CPU times: user 744 ms, sys: 0 ns, total: 744 ms\n",
      "Wall time: 752 ms\n"
     ]
    }
   ],
   "source": [
    "%%time\n",
    "\n",
    "start_time = time.time()\n",
    "\n",
    "# сохраним в отдельной модели и обучим\n",
    "tree = DecisionTreeRegressor(max_depth = 12, random_state = 12345) \n",
    "\n",
    "tree.fit(features_ordinal_train, target_train)\n",
    "\n",
    "tree_model_fit_time = time.time() - start_time"
   ]
  },
  {
   "cell_type": "code",
   "execution_count": 106,
   "metadata": {},
   "outputs": [
    {
     "name": "stdout",
     "output_type": "stream",
     "text": [
      "CPU times: user 18.3 ms, sys: 0 ns, total: 18.3 ms\n",
      "Wall time: 16.8 ms\n"
     ]
    }
   ],
   "source": [
    "%%time\n",
    "\n",
    "# время предсказания \n",
    "start_time = time.time()\n",
    "\n",
    "target_tree_pred = tree.predict(features_ordinal_test)\n",
    "\n",
    "tree_model_predicted_time = time.time() - start_time"
   ]
  },
  {
   "cell_type": "code",
   "execution_count": 107,
   "metadata": {},
   "outputs": [
    {
     "name": "stdout",
     "output_type": "stream",
     "text": [
      "RMSE на кросс-валидации для Decision Tree regressor равен 2135.1802498420425\n",
      "CPU times: user 863 ms, sys: 0 ns, total: 863 ms\n",
      "Wall time: 868 ms\n"
     ]
    }
   ],
   "source": [
    "%%time\n",
    "\n",
    "# Проверим качество модели на кросс-валидации\n",
    "cv_rmse_tree_model = (cross_val_score(tree, \n",
    "                             features_ordinal_train, \n",
    "                             target_train, \n",
    "                             cv=2, # выборка большая\n",
    "                             scoring='neg_mean_squared_error').mean() * -1) ** 0.5\n",
    "print('RMSE на кросс-валидации для Decision Tree regressor равен', cv_rmse_tree_model)"
   ]
  },
  {
   "cell_type": "code",
   "execution_count": 108,
   "metadata": {},
   "outputs": [],
   "source": [
    "tree_model_test_rmse = mean_squared_error(target_test, target_tree_pred, squared=False)"
   ]
  },
  {
   "cell_type": "code",
   "execution_count": 109,
   "metadata": {},
   "outputs": [
    {
     "name": "stdout",
     "output_type": "stream",
     "text": [
      "RMSE для Decision Tree Regressor равен 2034.3623264426915\n",
      "R-square для Decision Tree Regressor равен 0.7898705317449433\n"
     ]
    }
   ],
   "source": [
    "print('RMSE для Decision Tree Regressor равен', tree_model_test_rmse)\n",
    "print('R-square для Decision Tree Regressor равен', r2_score(target_test, target_tree_pred))"
   ]
  },
  {
   "cell_type": "markdown",
   "metadata": {},
   "source": [
    "**Краткий вывод**\n",
    "\n",
    "Дерево решений дает чуть более лучший результат, но в целом, думаю, что результаты SGD regressor и дерева решений близки. Но обучается модель дольше. "
   ]
  },
  {
   "cell_type": "markdown",
   "metadata": {},
   "source": [
    "#### CatBoost Regression\n",
    "\n",
    "Попробуем теперь методы градиентного бустинга. "
   ]
  },
  {
   "cell_type": "code",
   "execution_count": 110,
   "metadata": {},
   "outputs": [
    {
     "name": "stdout",
     "output_type": "stream",
     "text": [
      "CPU times: user 180 µs, sys: 0 ns, total: 180 µs\n",
      "Wall time: 185 µs\n"
     ]
    }
   ],
   "source": [
    "%%time\n",
    "\n",
    "catboost = CatBoostRegressor(random_state=12345) \n",
    "\n",
    "# подберем гиперпараметры \n",
    "params_cat = {'iterations': [100], 'depth':[x for x in range (2,16,2)]}\n",
    "\n",
    "catboost_gsc = GridSearchCV(catboost, params_cat, scoring = 'neg_root_mean_squared_error', cv = 5, n_jobs=4)"
   ]
  },
  {
   "cell_type": "code",
   "execution_count": 111,
   "metadata": {},
   "outputs": [
    {
     "name": "stdout",
     "output_type": "stream",
     "text": [
      "Learning rate set to 0.5\n",
      "0:\tlearn: 3630.5986466\ttotal: 74.9ms\tremaining: 7.41s\n",
      "1:\tlearn: 3279.7643994\ttotal: 95.1ms\tremaining: 4.66s\n",
      "2:\tlearn: 3008.5743228\ttotal: 120ms\tremaining: 3.89s\n",
      "3:\tlearn: 2852.1922480\ttotal: 142ms\tremaining: 3.41s\n",
      "4:\tlearn: 2746.5806508\ttotal: 160ms\tremaining: 3.03s\n",
      "5:\tlearn: 2648.5628446\ttotal: 222ms\tremaining: 3.48s\n",
      "6:\tlearn: 2597.2033403\ttotal: 241ms\tremaining: 3.2s\n",
      "7:\tlearn: 2563.0197371\ttotal: 258ms\tremaining: 2.97s\n",
      "8:\tlearn: 2513.3820944\ttotal: 286ms\tremaining: 2.89s\n",
      "9:\tlearn: 2490.3548731\ttotal: 305ms\tremaining: 2.75s\n",
      "10:\tlearn: 2464.7657959\ttotal: 363ms\tremaining: 2.94s\n",
      "11:\tlearn: 2446.6069293\ttotal: 383ms\tremaining: 2.81s\n",
      "12:\tlearn: 2427.2524543\ttotal: 464ms\tremaining: 3.11s\n",
      "13:\tlearn: 2413.0924975\ttotal: 548ms\tremaining: 3.37s\n",
      "14:\tlearn: 2397.8714287\ttotal: 565ms\tremaining: 3.2s\n",
      "15:\tlearn: 2389.2080235\ttotal: 636ms\tremaining: 3.34s\n",
      "16:\tlearn: 2376.9930986\ttotal: 660ms\tremaining: 3.22s\n",
      "17:\tlearn: 2358.5478170\ttotal: 743ms\tremaining: 3.38s\n",
      "18:\tlearn: 2337.8762271\ttotal: 762ms\tremaining: 3.25s\n",
      "19:\tlearn: 2328.0378180\ttotal: 784ms\tremaining: 3.13s\n",
      "20:\tlearn: 2312.2079431\ttotal: 870ms\tremaining: 3.27s\n",
      "21:\tlearn: 2300.0523798\ttotal: 955ms\tremaining: 3.39s\n",
      "22:\tlearn: 2288.9290928\ttotal: 982ms\tremaining: 3.29s\n",
      "23:\tlearn: 2284.3235872\ttotal: 1.06s\tremaining: 3.36s\n",
      "24:\tlearn: 2279.6914499\ttotal: 1.15s\tremaining: 3.44s\n",
      "25:\tlearn: 2269.2479827\ttotal: 1.17s\tremaining: 3.32s\n",
      "26:\tlearn: 2258.8380185\ttotal: 1.25s\tremaining: 3.38s\n",
      "27:\tlearn: 2252.7168697\ttotal: 1.27s\tremaining: 3.27s\n",
      "28:\tlearn: 2245.8637118\ttotal: 1.36s\tremaining: 3.32s\n",
      "29:\tlearn: 2239.7784717\ttotal: 1.45s\tremaining: 3.37s\n",
      "30:\tlearn: 2232.7674546\ttotal: 1.53s\tremaining: 3.42s\n",
      "31:\tlearn: 2227.2446226\ttotal: 1.56s\tremaining: 3.31s\n",
      "32:\tlearn: 2213.3147168\ttotal: 1.64s\tremaining: 3.33s\n",
      "33:\tlearn: 2207.0847717\ttotal: 1.73s\tremaining: 3.36s\n",
      "34:\tlearn: 2198.0053963\ttotal: 1.83s\tremaining: 3.39s\n",
      "35:\tlearn: 2193.3807018\ttotal: 1.85s\tremaining: 3.28s\n",
      "36:\tlearn: 2188.5456592\ttotal: 1.93s\tremaining: 3.29s\n",
      "37:\tlearn: 2182.2726988\ttotal: 2.02s\tremaining: 3.3s\n",
      "38:\tlearn: 2177.5889422\ttotal: 2.04s\tremaining: 3.2s\n",
      "39:\tlearn: 2174.8571028\ttotal: 2.07s\tremaining: 3.1s\n",
      "40:\tlearn: 2170.8713855\ttotal: 2.16s\tremaining: 3.11s\n",
      "41:\tlearn: 2165.5058437\ttotal: 2.25s\tremaining: 3.11s\n",
      "42:\tlearn: 2162.8215362\ttotal: 2.34s\tremaining: 3.1s\n",
      "43:\tlearn: 2159.6530745\ttotal: 2.36s\tremaining: 3s\n",
      "44:\tlearn: 2152.6713568\ttotal: 2.44s\tremaining: 2.98s\n",
      "45:\tlearn: 2149.7889033\ttotal: 2.53s\tremaining: 2.97s\n",
      "46:\tlearn: 2146.5600776\ttotal: 2.56s\tremaining: 2.88s\n",
      "47:\tlearn: 2144.6633491\ttotal: 2.63s\tremaining: 2.85s\n",
      "48:\tlearn: 2142.4155848\ttotal: 2.65s\tremaining: 2.76s\n",
      "49:\tlearn: 2140.1547401\ttotal: 2.67s\tremaining: 2.67s\n",
      "50:\tlearn: 2138.4761933\ttotal: 2.75s\tremaining: 2.64s\n",
      "51:\tlearn: 2132.6234360\ttotal: 2.84s\tremaining: 2.62s\n",
      "52:\tlearn: 2129.8448526\ttotal: 2.93s\tremaining: 2.6s\n",
      "53:\tlearn: 2128.7041963\ttotal: 2.95s\tremaining: 2.51s\n",
      "54:\tlearn: 2124.9527782\ttotal: 2.97s\tremaining: 2.43s\n",
      "55:\tlearn: 2120.8770068\ttotal: 3.05s\tremaining: 2.4s\n",
      "56:\tlearn: 2117.4554585\ttotal: 3.14s\tremaining: 2.37s\n",
      "57:\tlearn: 2114.5441691\ttotal: 3.16s\tremaining: 2.29s\n",
      "58:\tlearn: 2111.1845151\ttotal: 3.25s\tremaining: 2.26s\n",
      "59:\tlearn: 2108.3590767\ttotal: 3.33s\tremaining: 2.22s\n",
      "60:\tlearn: 2106.7040755\ttotal: 3.42s\tremaining: 2.19s\n",
      "61:\tlearn: 2104.8742193\ttotal: 3.44s\tremaining: 2.11s\n",
      "62:\tlearn: 2101.6237863\ttotal: 3.53s\tremaining: 2.08s\n",
      "63:\tlearn: 2099.2760601\ttotal: 3.62s\tremaining: 2.04s\n",
      "64:\tlearn: 2097.8453730\ttotal: 3.71s\tremaining: 2s\n",
      "65:\tlearn: 2095.8657730\ttotal: 3.74s\tremaining: 1.93s\n",
      "66:\tlearn: 2095.0608619\ttotal: 3.76s\tremaining: 1.85s\n",
      "67:\tlearn: 2092.7668763\ttotal: 3.85s\tremaining: 1.81s\n",
      "68:\tlearn: 2091.6854883\ttotal: 3.87s\tremaining: 1.74s\n",
      "69:\tlearn: 2088.8939473\ttotal: 3.89s\tremaining: 1.67s\n",
      "70:\tlearn: 2087.4797304\ttotal: 3.91s\tremaining: 1.59s\n",
      "71:\tlearn: 2085.3091317\ttotal: 3.93s\tremaining: 1.53s\n",
      "72:\tlearn: 2084.6864422\ttotal: 4.01s\tremaining: 1.48s\n",
      "73:\tlearn: 2083.1936411\ttotal: 4.03s\tremaining: 1.42s\n",
      "74:\tlearn: 2080.9003584\ttotal: 4.12s\tremaining: 1.37s\n",
      "75:\tlearn: 2079.0088738\ttotal: 4.21s\tremaining: 1.33s\n",
      "76:\tlearn: 2077.0399011\ttotal: 4.23s\tremaining: 1.26s\n",
      "77:\tlearn: 2075.6672820\ttotal: 4.32s\tremaining: 1.22s\n",
      "78:\tlearn: 2074.8195420\ttotal: 4.41s\tremaining: 1.17s\n",
      "79:\tlearn: 2073.3306985\ttotal: 4.43s\tremaining: 1.11s\n",
      "80:\tlearn: 2071.7317088\ttotal: 4.52s\tremaining: 1.06s\n",
      "81:\tlearn: 2070.2068909\ttotal: 4.6s\tremaining: 1.01s\n",
      "82:\tlearn: 2068.9396703\ttotal: 4.63s\tremaining: 948ms\n",
      "83:\tlearn: 2067.8096748\ttotal: 4.72s\tremaining: 899ms\n",
      "84:\tlearn: 2065.9349140\ttotal: 4.8s\tremaining: 848ms\n",
      "85:\tlearn: 2064.3274820\ttotal: 4.82s\tremaining: 785ms\n",
      "86:\tlearn: 2062.6150879\ttotal: 4.91s\tremaining: 734ms\n",
      "87:\tlearn: 2061.1521349\ttotal: 4.99s\tremaining: 681ms\n",
      "88:\tlearn: 2060.7071119\ttotal: 5.01s\tremaining: 620ms\n",
      "89:\tlearn: 2059.8183593\ttotal: 5.09s\tremaining: 566ms\n",
      "90:\tlearn: 2058.4947479\ttotal: 5.18s\tremaining: 513ms\n",
      "91:\tlearn: 2056.8798877\ttotal: 5.21s\tremaining: 453ms\n",
      "92:\tlearn: 2052.5418490\ttotal: 5.3s\tremaining: 399ms\n",
      "93:\tlearn: 2051.3567096\ttotal: 5.39s\tremaining: 344ms\n",
      "94:\tlearn: 2050.0989138\ttotal: 5.41s\tremaining: 285ms\n",
      "95:\tlearn: 2049.1438992\ttotal: 5.49s\tremaining: 229ms\n",
      "96:\tlearn: 2048.3736020\ttotal: 5.58s\tremaining: 172ms\n",
      "97:\tlearn: 2047.0158915\ttotal: 5.67s\tremaining: 116ms\n",
      "98:\tlearn: 2046.6166151\ttotal: 5.7s\tremaining: 57.5ms\n",
      "99:\tlearn: 2045.5504863\ttotal: 5.79s\tremaining: 0us\n",
      "Learning rate set to 0.5\n",
      "0:\tlearn: 3623.7974489\ttotal: 31.3ms\tremaining: 3.1s\n",
      "1:\tlearn: 3272.7039167\ttotal: 93.6ms\tremaining: 4.59s\n",
      "2:\tlearn: 2999.3849664\ttotal: 162ms\tremaining: 5.25s\n",
      "3:\tlearn: 2827.1494532\ttotal: 181ms\tremaining: 4.34s\n",
      "4:\tlearn: 2718.0784955\ttotal: 199ms\tremaining: 3.79s\n",
      "5:\tlearn: 2626.3401521\ttotal: 226ms\tremaining: 3.54s\n",
      "6:\tlearn: 2576.1579407\ttotal: 289ms\tremaining: 3.83s\n",
      "7:\tlearn: 2537.8077179\ttotal: 307ms\tremaining: 3.53s\n",
      "8:\tlearn: 2500.8763358\ttotal: 385ms\tremaining: 3.89s\n",
      "9:\tlearn: 2478.7840457\ttotal: 472ms\tremaining: 4.24s\n",
      "10:\tlearn: 2459.0415667\ttotal: 567ms\tremaining: 4.58s\n",
      "11:\tlearn: 2421.5713727\ttotal: 590ms\tremaining: 4.33s\n",
      "12:\tlearn: 2404.9218003\ttotal: 673ms\tremaining: 4.5s\n",
      "13:\tlearn: 2387.7593800\ttotal: 765ms\tremaining: 4.7s\n",
      "14:\tlearn: 2377.4934010\ttotal: 862ms\tremaining: 4.89s\n",
      "15:\tlearn: 2367.2577665\ttotal: 952ms\tremaining: 5s\n",
      "16:\tlearn: 2351.7706237\ttotal: 1.04s\tremaining: 5.08s\n",
      "17:\tlearn: 2340.8622328\ttotal: 1.14s\tremaining: 5.21s\n",
      "18:\tlearn: 2325.5589629\ttotal: 1.24s\tremaining: 5.27s\n",
      "19:\tlearn: 2308.5853530\ttotal: 1.33s\tremaining: 5.34s\n",
      "20:\tlearn: 2297.0804615\ttotal: 1.44s\tremaining: 5.4s\n",
      "21:\tlearn: 2286.5984889\ttotal: 1.53s\tremaining: 5.43s\n",
      "22:\tlearn: 2277.6721390\ttotal: 1.63s\tremaining: 5.46s\n",
      "23:\tlearn: 2272.8699261\ttotal: 1.66s\tremaining: 5.24s\n",
      "24:\tlearn: 2264.8342259\ttotal: 1.75s\tremaining: 5.26s\n",
      "25:\tlearn: 2259.9844117\ttotal: 1.84s\tremaining: 5.25s\n",
      "26:\tlearn: 2249.7528846\ttotal: 1.95s\tremaining: 5.27s\n",
      "27:\tlearn: 2232.6956302\ttotal: 2.05s\tremaining: 5.27s\n",
      "28:\tlearn: 2226.6496439\ttotal: 2.07s\tremaining: 5.07s\n",
      "29:\tlearn: 2213.3046482\ttotal: 2.17s\tremaining: 5.07s\n",
      "30:\tlearn: 2206.4965415\ttotal: 2.27s\tremaining: 5.05s\n",
      "31:\tlearn: 2198.6004495\ttotal: 2.37s\tremaining: 5.03s\n",
      "32:\tlearn: 2195.1478231\ttotal: 2.47s\tremaining: 5.01s\n",
      "33:\tlearn: 2191.2644181\ttotal: 2.56s\tremaining: 4.97s\n",
      "34:\tlearn: 2187.6047763\ttotal: 2.65s\tremaining: 4.93s\n",
      "35:\tlearn: 2184.9078490\ttotal: 2.75s\tremaining: 4.88s\n",
      "36:\tlearn: 2179.7671134\ttotal: 2.84s\tremaining: 4.84s\n",
      "37:\tlearn: 2173.5605671\ttotal: 2.87s\tremaining: 4.68s\n",
      "38:\tlearn: 2170.1320175\ttotal: 2.89s\tremaining: 4.53s\n",
      "39:\tlearn: 2167.1904260\ttotal: 2.92s\tremaining: 4.38s\n",
      "40:\tlearn: 2165.4322637\ttotal: 3.02s\tremaining: 4.34s\n",
      "41:\tlearn: 2162.5379093\ttotal: 3.11s\tremaining: 4.3s\n",
      "42:\tlearn: 2159.6978698\ttotal: 3.21s\tremaining: 4.26s\n",
      "43:\tlearn: 2156.4864222\ttotal: 3.3s\tremaining: 4.21s\n",
      "44:\tlearn: 2149.6495283\ttotal: 3.4s\tremaining: 4.16s\n",
      "45:\tlearn: 2146.5891959\ttotal: 3.58s\tremaining: 4.2s\n",
      "46:\tlearn: 2144.4622069\ttotal: 3.68s\tremaining: 4.15s\n",
      "47:\tlearn: 2141.2855499\ttotal: 3.71s\tremaining: 4.02s\n",
      "48:\tlearn: 2139.0288009\ttotal: 3.73s\tremaining: 3.89s\n",
      "49:\tlearn: 2138.1074987\ttotal: 3.83s\tremaining: 3.83s\n",
      "50:\tlearn: 2137.1311728\ttotal: 3.92s\tremaining: 3.76s\n",
      "Learning rate set to 0.5\n",
      "0:\tlearn: 3632.5053058\ttotal: 99.3ms\tremaining: 9.83s\n",
      "1:\tlearn: 3280.2807979\ttotal: 189ms\tremaining: 9.28s\n",
      "2:\tlearn: 3008.4769144\ttotal: 269ms\tremaining: 8.71s\n",
      "3:\tlearn: 2851.2530895\ttotal: 295ms\tremaining: 7.08s\n",
      "4:\tlearn: 2746.9558815\ttotal: 376ms\tremaining: 7.14s\n",
      "5:\tlearn: 2649.0933753\ttotal: 461ms\tremaining: 7.23s\n",
      "6:\tlearn: 2597.9947043\ttotal: 482ms\tremaining: 6.4s\n",
      "7:\tlearn: 2561.8888425\ttotal: 569ms\tremaining: 6.54s\n",
      "8:\tlearn: 2512.1189214\ttotal: 660ms\tremaining: 6.68s\n",
      "9:\tlearn: 2489.0173129\ttotal: 682ms\tremaining: 6.14s\n",
      "10:\tlearn: 2463.4083674\ttotal: 705ms\tremaining: 5.7s\n",
      "11:\tlearn: 2445.1587103\ttotal: 792ms\tremaining: 5.81s\n",
      "12:\tlearn: 2426.5746023\ttotal: 811ms\tremaining: 5.43s\n",
      "13:\tlearn: 2413.3623174\ttotal: 895ms\tremaining: 5.5s\n",
      "14:\tlearn: 2398.2807031\ttotal: 985ms\tremaining: 5.58s\n",
      "15:\tlearn: 2388.8219010\ttotal: 1s\tremaining: 5.28s\n",
      "16:\tlearn: 2376.4452932\ttotal: 1.1s\tremaining: 5.36s\n",
      "17:\tlearn: 2358.5059609\ttotal: 1.19s\tremaining: 5.41s\n",
      "18:\tlearn: 2340.1081526\ttotal: 1.28s\tremaining: 5.45s\n",
      "19:\tlearn: 2319.9301872\ttotal: 1.3s\tremaining: 5.21s\n",
      "20:\tlearn: 2311.3696007\ttotal: 1.38s\tremaining: 5.19s\n",
      "21:\tlearn: 2300.0053579\ttotal: 1.47s\tremaining: 5.22s\n",
      "22:\tlearn: 2292.1703538\ttotal: 1.49s\tremaining: 5s\n",
      "23:\tlearn: 2286.7076766\ttotal: 1.58s\tremaining: 5s\n",
      "24:\tlearn: 2279.2658477\ttotal: 1.66s\tremaining: 4.99s\n",
      "25:\tlearn: 2274.5122565\ttotal: 1.68s\tremaining: 4.79s\n",
      "26:\tlearn: 2266.7477350\ttotal: 1.77s\tremaining: 4.79s\n",
      "27:\tlearn: 2255.3096508\ttotal: 1.86s\tremaining: 4.79s\n",
      "28:\tlearn: 2248.1794663\ttotal: 1.88s\tremaining: 4.61s\n",
      "29:\tlearn: 2238.9757446\ttotal: 1.97s\tremaining: 4.59s\n",
      "30:\tlearn: 2232.7604816\ttotal: 2.05s\tremaining: 4.57s\n",
      "31:\tlearn: 2226.8326139\ttotal: 2.08s\tremaining: 4.41s\n",
      "32:\tlearn: 2222.5925272\ttotal: 2.16s\tremaining: 4.39s\n",
      "33:\tlearn: 2214.2010639\ttotal: 2.25s\tremaining: 4.36s\n",
      "34:\tlearn: 2208.2431262\ttotal: 2.27s\tremaining: 4.21s\n",
      "35:\tlearn: 2205.3589411\ttotal: 2.35s\tremaining: 4.19s\n",
      "36:\tlearn: 2190.2252582\ttotal: 2.37s\tremaining: 4.04s\n",
      "37:\tlearn: 2185.6104124\ttotal: 2.46s\tremaining: 4.01s\n",
      "38:\tlearn: 2180.6303155\ttotal: 2.47s\tremaining: 3.87s\n",
      "39:\tlearn: 2176.1029773\ttotal: 2.5s\tremaining: 3.75s\n",
      "40:\tlearn: 2173.9571984\ttotal: 2.58s\tremaining: 3.72s\n",
      "41:\tlearn: 2169.3917152\ttotal: 2.61s\tremaining: 3.6s\n",
      "42:\tlearn: 2167.4432924\ttotal: 2.69s\tremaining: 3.56s\n",
      "43:\tlearn: 2165.2975537\ttotal: 2.7s\tremaining: 3.44s\n",
      "44:\tlearn: 2161.7568109\ttotal: 2.78s\tremaining: 3.4s\n",
      "45:\tlearn: 2157.5167043\ttotal: 2.86s\tremaining: 3.36s\n",
      "46:\tlearn: 2154.2140786\ttotal: 2.89s\tremaining: 3.26s\n",
      "47:\tlearn: 2151.2926353\ttotal: 2.96s\tremaining: 3.21s\n",
      "48:\tlearn: 2148.1315568\ttotal: 2.98s\tremaining: 3.1s\n",
      "49:\tlearn: 2141.6286440\ttotal: 3s\tremaining: 3s\n",
      "50:\tlearn: 2140.2971364\ttotal: 3.09s\tremaining: 2.97s\n",
      "51:\tlearn: 2133.5616188\ttotal: 3.11s\tremaining: 2.87s\n",
      "52:\tlearn: 2132.5687694\ttotal: 3.19s\tremaining: 2.82s\n",
      "53:\tlearn: 2128.6905848\ttotal: 3.27s\tremaining: 2.79s\n",
      "54:\tlearn: 2126.6880771\ttotal: 3.29s\tremaining: 2.69s\n",
      "55:\tlearn: 2124.5667034\ttotal: 3.38s\tremaining: 2.65s\n",
      "56:\tlearn: 2120.0047412\ttotal: 3.47s\tremaining: 2.62s\n",
      "57:\tlearn: 2118.0776341\ttotal: 3.5s\tremaining: 2.53s\n",
      "58:\tlearn: 2115.9056767\ttotal: 3.52s\tremaining: 2.45s\n",
      "59:\tlearn: 2111.7589514\ttotal: 3.6s\tremaining: 2.4s\n",
      "60:\tlearn: 2109.9709019\ttotal: 3.62s\tremaining: 2.32s\n",
      "61:\tlearn: 2108.1099212\ttotal: 3.65s\tremaining: 2.24s\n",
      "62:\tlearn: 2107.2652212\ttotal: 3.74s\tremaining: 2.2s\n",
      "63:\tlearn: 2106.2133018\ttotal: 3.76s\tremaining: 2.11s\n",
      "64:\tlearn: 2102.5164471\ttotal: 3.78s\tremaining: 2.04s\n",
      "65:\tlearn: 2100.0317837\ttotal: 3.81s\tremaining: 1.96s\n",
      "66:\tlearn: 2098.4500830\ttotal: 3.89s\tremaining: 1.91s\n",
      "67:\tlearn: 2095.9678315\ttotal: 3.91s\tremaining: 1.84s\n",
      "68:\tlearn: 2093.9856754\ttotal: 3.99s\tremaining: 1.79s\n",
      "69:\tlearn: 2092.5742765\ttotal: 4.08s\tremaining: 1.75s\n",
      "70:\tlearn: 2091.9948701\ttotal: 4.1s\tremaining: 1.67s\n",
      "71:\tlearn: 2091.4138220\ttotal: 4.18s\tremaining: 1.63s\n",
      "72:\tlearn: 2090.4508661\ttotal: 4.21s\tremaining: 1.55s\n",
      "73:\tlearn: 2088.8798710\ttotal: 4.29s\tremaining: 1.51s\n",
      "74:\tlearn: 2086.3500862\ttotal: 4.38s\tremaining: 1.46s\n",
      "75:\tlearn: 2084.6249214\ttotal: 4.4s\tremaining: 1.39s\n",
      "76:\tlearn: 2083.0738383\ttotal: 4.49s\tremaining: 1.34s\n",
      "77:\tlearn: 2080.2464858\ttotal: 4.58s\tremaining: 1.29s\n",
      "78:\tlearn: 2079.6024445\ttotal: 4.6s\tremaining: 1.22s\n",
      "79:\tlearn: 2078.0010589\ttotal: 4.69s\tremaining: 1.17s\n",
      "80:\tlearn: 2077.5836461\ttotal: 4.77s\tremaining: 1.12s\n",
      "81:\tlearn: 2075.1203572\ttotal: 4.86s\tremaining: 1.07s\n",
      "82:\tlearn: 2073.2405281\ttotal: 4.88s\tremaining: 1s\n",
      "83:\tlearn: 2071.3722310\ttotal: 4.96s\tremaining: 944ms\n",
      "84:\tlearn: 2070.5038664\ttotal: 4.98s\tremaining: 879ms\n",
      "85:\tlearn: 2069.1494235\ttotal: 5.07s\tremaining: 825ms\n",
      "86:\tlearn: 2067.0558336\ttotal: 5.16s\tremaining: 770ms\n",
      "87:\tlearn: 2065.6630337\ttotal: 5.18s\tremaining: 706ms\n",
      "88:\tlearn: 2063.2956558\ttotal: 5.26s\tremaining: 650ms\n",
      "89:\tlearn: 2061.5035309\ttotal: 5.35s\tremaining: 594ms\n",
      "90:\tlearn: 2060.1091125\ttotal: 5.44s\tremaining: 538ms\n",
      "91:\tlearn: 2059.0771301\ttotal: 5.47s\tremaining: 475ms\n",
      "92:\tlearn: 2057.6506699\ttotal: 5.56s\tremaining: 418ms\n",
      "93:\tlearn: 2057.1193677\ttotal: 5.65s\tremaining: 360ms\n",
      "94:\tlearn: 2055.3017152\ttotal: 5.67s\tremaining: 298ms\n",
      "95:\tlearn: 2053.9767118\ttotal: 5.73s\tremaining: 239ms\n",
      "96:\tlearn: 2053.2861983\ttotal: 5.75s\tremaining: 178ms\n",
      "97:\tlearn: 2049.0353444\ttotal: 5.77s\tremaining: 118ms\n",
      "98:\tlearn: 2047.4765981\ttotal: 5.79s\tremaining: 58.5ms\n",
      "99:\tlearn: 2046.3393610\ttotal: 5.81s\tremaining: 0us\n",
      "Learning rate set to 0.5\n",
      "0:\tlearn: 3402.1648707\ttotal: 22.8ms\tremaining: 2.26s\n",
      "1:\tlearn: 2916.1338061\ttotal: 47.3ms\tremaining: 2.32s\n",
      "2:\tlearn: 2642.5812109\ttotal: 119ms\tremaining: 3.85s\n",
      "3:\tlearn: 2479.0175050\ttotal: 222ms\tremaining: 5.33s\n",
      "4:\tlearn: 2406.2888491\ttotal: 325ms\tremaining: 6.17s\n",
      "5:\tlearn: 2348.8727376\ttotal: 502ms\tremaining: 7.87s\n",
      "6:\tlearn: 2300.0955394\ttotal: 612ms\tremaining: 8.13s\n",
      "7:\tlearn: 2274.3124778\ttotal: 710ms\tremaining: 8.17s\n",
      "8:\tlearn: 2255.1220293\ttotal: 819ms\tremaining: 8.28s\n",
      "9:\tlearn: 2237.5542879\ttotal: 917ms\tremaining: 8.25s\n",
      "10:\tlearn: 2210.9882655\ttotal: 1.1s\tremaining: 8.87s\n",
      "11:\tlearn: 2190.4751289\ttotal: 1.2s\tremaining: 8.81s\n",
      "12:\tlearn: 2165.2983758\ttotal: 1.31s\tremaining: 8.8s\n",
      "13:\tlearn: 2152.8160714\ttotal: 1.41s\tremaining: 8.68s\n",
      "14:\tlearn: 2136.4293730\ttotal: 1.44s\tremaining: 8.18s\n",
      "15:\tlearn: 2125.4585214\ttotal: 1.55s\tremaining: 8.17s\n",
      "16:\tlearn: 2110.8753512\ttotal: 1.66s\tremaining: 8.09s\n",
      "17:\tlearn: 2105.7973440\ttotal: 1.76s\tremaining: 8s\n",
      "18:\tlearn: 2099.2376865\ttotal: 1.85s\tremaining: 7.9s\n",
      "19:\tlearn: 2093.6515403\ttotal: 1.95s\tremaining: 7.82s\n",
      "20:\tlearn: 2081.9623976\ttotal: 2.06s\tremaining: 7.74s\n",
      "21:\tlearn: 2074.9756656\ttotal: 2.16s\tremaining: 7.65s\n",
      "22:\tlearn: 2067.3318167\ttotal: 2.34s\tremaining: 7.82s\n",
      "23:\tlearn: 2056.2767239\ttotal: 2.44s\tremaining: 7.73s\n",
      "24:\tlearn: 2051.2243778\ttotal: 2.55s\tremaining: 7.64s\n",
      "25:\tlearn: 2044.7536580\ttotal: 2.65s\tremaining: 7.55s\n",
      "26:\tlearn: 2038.0223330\ttotal: 2.76s\tremaining: 7.47s\n",
      "27:\tlearn: 2035.1110325\ttotal: 2.94s\tremaining: 7.56s\n",
      "28:\tlearn: 2030.1156968\ttotal: 3.04s\tremaining: 7.45s\n",
      "29:\tlearn: 2026.4822378\ttotal: 3.14s\tremaining: 7.33s\n",
      "30:\tlearn: 2022.5652514\ttotal: 3.24s\tremaining: 7.22s\n",
      "31:\tlearn: 2020.1100440\ttotal: 3.33s\tremaining: 7.09s\n",
      "32:\tlearn: 2014.2841685\ttotal: 3.44s\tremaining: 6.97s\n",
      "33:\tlearn: 2011.0415953\ttotal: 3.62s\tremaining: 7.02s\n",
      "34:\tlearn: 2007.1409707\ttotal: 3.73s\tremaining: 6.93s\n",
      "35:\tlearn: 2003.7607618\ttotal: 3.9s\tremaining: 6.94s\n",
      "36:\tlearn: 1999.2966597\ttotal: 4s\tremaining: 6.81s\n",
      "37:\tlearn: 1996.1276235\ttotal: 4.1s\tremaining: 6.69s\n",
      "38:\tlearn: 1993.6099242\ttotal: 4.21s\tremaining: 6.59s\n",
      "39:\tlearn: 1990.3402874\ttotal: 4.31s\tremaining: 6.46s\n",
      "40:\tlearn: 1987.9788130\ttotal: 4.34s\tremaining: 6.25s\n",
      "41:\tlearn: 1984.6309783\ttotal: 4.45s\tremaining: 6.14s\n",
      "42:\tlearn: 1982.5743527\ttotal: 4.55s\tremaining: 6.03s\n",
      "43:\tlearn: 1980.7182853\ttotal: 4.64s\tremaining: 5.91s\n",
      "44:\tlearn: 1977.3016347\ttotal: 4.74s\tremaining: 5.8s\n",
      "45:\tlearn: 1974.0335078\ttotal: 4.92s\tremaining: 5.78s\n",
      "46:\tlearn: 1971.8831658\ttotal: 5.02s\tremaining: 5.66s\n",
      "47:\tlearn: 1969.8302208\ttotal: 5.13s\tremaining: 5.55s\n",
      "48:\tlearn: 1967.1488014\ttotal: 5.23s\tremaining: 5.45s\n",
      "49:\tlearn: 1963.9924133\ttotal: 5.33s\tremaining: 5.33s\n",
      "50:\tlearn: 1962.2093816\ttotal: 5.43s\tremaining: 5.22s\n",
      "51:\tlearn: 1959.2905353\ttotal: 5.53s\tremaining: 5.11s\n",
      "Learning rate set to 0.5\n",
      "0:\tlearn: 3627.9847207\ttotal: 82.2ms\tremaining: 8.14s\n",
      "1:\tlearn: 3275.3029514\ttotal: 106ms\tremaining: 5.21s\n",
      "2:\tlearn: 3002.5147626\ttotal: 169ms\tremaining: 5.45s\n",
      "3:\tlearn: 2844.8077219\ttotal: 188ms\tremaining: 4.52s\n",
      "4:\tlearn: 2738.9549902\ttotal: 219ms\tremaining: 4.16s\n",
      "5:\tlearn: 2642.2467919\ttotal: 238ms\tremaining: 3.73s\n",
      "6:\tlearn: 2590.7008971\ttotal: 256ms\tremaining: 3.4s\n",
      "7:\tlearn: 2555.1116178\ttotal: 278ms\tremaining: 3.2s\n",
      "8:\tlearn: 2504.2002137\ttotal: 365ms\tremaining: 3.69s\n",
      "9:\tlearn: 2480.5888561\ttotal: 385ms\tremaining: 3.46s\n",
      "10:\tlearn: 2455.3917508\ttotal: 410ms\tremaining: 3.31s\n",
      "11:\tlearn: 2437.6061312\ttotal: 485ms\tremaining: 3.55s\n",
      "12:\tlearn: 2418.7154167\ttotal: 504ms\tremaining: 3.38s\n",
      "13:\tlearn: 2405.3642567\ttotal: 527ms\tremaining: 3.24s\n",
      "14:\tlearn: 2391.0101299\ttotal: 612ms\tremaining: 3.47s\n",
      "15:\tlearn: 2382.2418673\ttotal: 634ms\tremaining: 3.33s\n",
      "16:\tlearn: 2370.7137560\ttotal: 716ms\tremaining: 3.5s\n",
      "17:\tlearn: 2351.1290747\ttotal: 803ms\tremaining: 3.66s\n",
      "18:\tlearn: 2333.1895403\ttotal: 895ms\tremaining: 3.81s\n",
      "19:\tlearn: 2320.6134239\ttotal: 920ms\tremaining: 3.68s\n",
      "20:\tlearn: 2313.8862555\ttotal: 1s\tremaining: 3.76s\n",
      "21:\tlearn: 2299.7910446\ttotal: 1.02s\tremaining: 3.62s\n",
      "22:\tlearn: 2291.4947538\ttotal: 1.1s\tremaining: 3.7s\n",
      "23:\tlearn: 2284.8641535\ttotal: 1.19s\tremaining: 3.77s\n",
      "24:\tlearn: 2271.4488938\ttotal: 1.28s\tremaining: 3.85s\n",
      "25:\tlearn: 2260.4160283\ttotal: 1.3s\tremaining: 3.71s\n",
      "26:\tlearn: 2255.4404993\ttotal: 1.39s\tremaining: 3.75s\n",
      "27:\tlearn: 2247.0778026\ttotal: 1.48s\tremaining: 3.8s\n",
      "28:\tlearn: 2242.2316076\ttotal: 1.5s\tremaining: 3.66s\n",
      "29:\tlearn: 2236.8049271\ttotal: 1.58s\tremaining: 3.69s\n",
      "30:\tlearn: 2225.7393899\ttotal: 1.67s\tremaining: 3.71s\n",
      "31:\tlearn: 2222.0491303\ttotal: 1.69s\tremaining: 3.59s\n",
      "32:\tlearn: 2216.6462479\ttotal: 1.77s\tremaining: 3.6s\n",
      "33:\tlearn: 2210.6867990\ttotal: 1.87s\tremaining: 3.62s\n",
      "34:\tlearn: 2204.7366389\ttotal: 1.89s\tremaining: 3.51s\n",
      "35:\tlearn: 2190.4556624\ttotal: 1.98s\tremaining: 3.52s\n",
      "36:\tlearn: 2185.4718891\ttotal: 2.07s\tremaining: 3.53s\n",
      "37:\tlearn: 2181.1509415\ttotal: 2.16s\tremaining: 3.53s\n",
      "38:\tlearn: 2173.9490260\ttotal: 2.18s\tremaining: 3.42s\n",
      "39:\tlearn: 2165.6188490\ttotal: 2.27s\tremaining: 3.41s\n",
      "40:\tlearn: 2160.3683756\ttotal: 2.35s\tremaining: 3.39s\n",
      "41:\tlearn: 2156.8090134\ttotal: 2.38s\tremaining: 3.28s\n",
      "42:\tlearn: 2154.9543646\ttotal: 2.46s\tremaining: 3.26s\n",
      "43:\tlearn: 2153.3053342\ttotal: 2.55s\tremaining: 3.24s\n",
      "44:\tlearn: 2150.3939435\ttotal: 2.57s\tremaining: 3.14s\n",
      "45:\tlearn: 2148.1362690\ttotal: 2.65s\tremaining: 3.11s\n",
      "46:\tlearn: 2146.2971878\ttotal: 2.73s\tremaining: 3.08s\n",
      "47:\tlearn: 2143.3412777\ttotal: 2.75s\tremaining: 2.98s\n",
      "48:\tlearn: 2139.9006684\ttotal: 2.83s\tremaining: 2.95s\n",
      "49:\tlearn: 2134.3216425\ttotal: 2.85s\tremaining: 2.85s\n",
      "50:\tlearn: 2132.2791124\ttotal: 2.93s\tremaining: 2.81s\n",
      "51:\tlearn: 2129.1197215\ttotal: 2.95s\tremaining: 2.72s\n",
      "52:\tlearn: 2126.8270861\ttotal: 2.98s\tremaining: 2.64s\n",
      "53:\tlearn: 2121.9988837\ttotal: 3.06s\tremaining: 2.61s\n",
      "54:\tlearn: 2119.3317692\ttotal: 3.15s\tremaining: 2.58s\n",
      "55:\tlearn: 2113.8930648\ttotal: 3.24s\tremaining: 2.55s\n",
      "56:\tlearn: 2110.7744208\ttotal: 3.33s\tremaining: 2.52s\n",
      "57:\tlearn: 2106.9117107\ttotal: 3.35s\tremaining: 2.43s\n",
      "58:\tlearn: 2105.9506004\ttotal: 3.43s\tremaining: 2.38s\n",
      "59:\tlearn: 2102.5946644\ttotal: 3.46s\tremaining: 2.31s\n",
      "60:\tlearn: 2101.3356217\ttotal: 3.48s\tremaining: 2.23s\n",
      "61:\tlearn: 2098.8618327\ttotal: 3.58s\tremaining: 2.19s\n",
      "62:\tlearn: 2096.9629120\ttotal: 3.66s\tremaining: 2.15s\n",
      "63:\tlearn: 2093.2495986\ttotal: 3.67s\tremaining: 2.07s\n",
      "64:\tlearn: 2092.4973238\ttotal: 3.76s\tremaining: 2.02s\n",
      "65:\tlearn: 2091.3112454\ttotal: 3.84s\tremaining: 1.98s\n",
      "66:\tlearn: 2090.5452909\ttotal: 3.86s\tremaining: 1.9s\n",
      "67:\tlearn: 2088.2340974\ttotal: 3.94s\tremaining: 1.86s\n",
      "68:\tlearn: 2086.2997683\ttotal: 3.96s\tremaining: 1.78s\n",
      "69:\tlearn: 2082.3750377\ttotal: 3.99s\tremaining: 1.71s\n",
      "70:\tlearn: 2081.4115614\ttotal: 4.01s\tremaining: 1.64s\n",
      "71:\tlearn: 2079.3233961\ttotal: 4.09s\tremaining: 1.59s\n",
      "72:\tlearn: 2077.3355924\ttotal: 4.17s\tremaining: 1.54s\n",
      "73:\tlearn: 2075.5243503\ttotal: 4.2s\tremaining: 1.48s\n",
      "74:\tlearn: 2073.8631787\ttotal: 4.28s\tremaining: 1.43s\n",
      "75:\tlearn: 2072.6085775\ttotal: 4.38s\tremaining: 1.38s\n",
      "76:\tlearn: 2070.4740305\ttotal: 4.47s\tremaining: 1.33s\n",
      "77:\tlearn: 2069.7566202\ttotal: 4.49s\tremaining: 1.27s\n",
      "78:\tlearn: 2067.9884173\ttotal: 4.59s\tremaining: 1.22s\n",
      "79:\tlearn: 2066.5384779\ttotal: 4.68s\tremaining: 1.17s\n",
      "80:\tlearn: 2064.7605595\ttotal: 4.77s\tremaining: 1.12s\n",
      "81:\tlearn: 2063.4047181\ttotal: 4.79s\tremaining: 1.05s\n",
      "82:\tlearn: 2062.1897690\ttotal: 4.87s\tremaining: 997ms\n",
      "83:\tlearn: 2060.0548387\ttotal: 4.89s\tremaining: 931ms\n",
      "84:\tlearn: 2058.6766911\ttotal: 4.91s\tremaining: 867ms\n",
      "85:\tlearn: 2056.6967659\ttotal: 4.99s\tremaining: 812ms\n",
      "86:\tlearn: 2055.5409551\ttotal: 5.01s\tremaining: 749ms\n",
      "87:\tlearn: 2053.4385402\ttotal: 5.09s\tremaining: 695ms\n",
      "88:\tlearn: 2052.0400823\ttotal: 5.18s\tremaining: 641ms\n",
      "89:\tlearn: 2050.7930612\ttotal: 5.21s\tremaining: 579ms\n",
      "90:\tlearn: 2049.5596182\ttotal: 5.23s\tremaining: 518ms\n",
      "91:\tlearn: 2048.9875716\ttotal: 5.31s\tremaining: 462ms\n",
      "92:\tlearn: 2048.3654261\ttotal: 5.33s\tremaining: 401ms\n",
      "93:\tlearn: 2045.2146404\ttotal: 5.42s\tremaining: 346ms\n",
      "94:\tlearn: 2044.8536379\ttotal: 5.44s\tremaining: 286ms\n",
      "95:\tlearn: 2043.8701013\ttotal: 5.46s\tremaining: 228ms\n",
      "96:\tlearn: 2043.4299013\ttotal: 5.55s\tremaining: 172ms\n",
      "97:\tlearn: 2042.6908256\ttotal: 5.57s\tremaining: 114ms\n",
      "98:\tlearn: 2042.2279515\ttotal: 5.66s\tremaining: 57.1ms\n",
      "99:\tlearn: 2041.1181554\ttotal: 5.67s\tremaining: 0us\n",
      "Learning rate set to 0.5\n",
      "0:\tlearn: 3407.2649649\ttotal: 75.6ms\tremaining: 7.48s\n",
      "1:\tlearn: 2920.5977584\ttotal: 168ms\tremaining: 8.23s\n",
      "2:\tlearn: 2653.0401101\ttotal: 261ms\tremaining: 8.45s\n",
      "3:\tlearn: 2492.6121509\ttotal: 362ms\tremaining: 8.68s\n",
      "4:\tlearn: 2406.8657205\ttotal: 536ms\tremaining: 10.2s\n",
      "5:\tlearn: 2347.2704067\ttotal: 643ms\tremaining: 10.1s\n",
      "6:\tlearn: 2306.2553630\ttotal: 747ms\tremaining: 9.93s\n",
      "7:\tlearn: 2281.6061109\ttotal: 846ms\tremaining: 9.73s\n",
      "8:\tlearn: 2252.5843557\ttotal: 945ms\tremaining: 9.55s\n",
      "9:\tlearn: 2235.5516924\ttotal: 1.04s\tremaining: 9.4s\n",
      "10:\tlearn: 2208.7484428\ttotal: 1.15s\tremaining: 9.32s\n",
      "11:\tlearn: 2188.8741849\ttotal: 1.26s\tremaining: 9.21s\n",
      "12:\tlearn: 2177.0483258\ttotal: 1.36s\tremaining: 9.08s\n",
      "13:\tlearn: 2151.3342831\ttotal: 1.55s\tremaining: 9.53s\n",
      "14:\tlearn: 2132.2331865\ttotal: 1.65s\tremaining: 9.36s\n",
      "15:\tlearn: 2119.1557876\ttotal: 1.76s\tremaining: 9.25s\n",
      "16:\tlearn: 2108.6690221\ttotal: 1.87s\tremaining: 9.12s\n",
      "17:\tlearn: 2097.5170229\ttotal: 1.97s\tremaining: 8.98s\n",
      "18:\tlearn: 2089.9146881\ttotal: 2.07s\tremaining: 8.82s\n",
      "19:\tlearn: 2083.3012026\ttotal: 2.18s\tremaining: 8.71s\n",
      "20:\tlearn: 2076.5340628\ttotal: 2.28s\tremaining: 8.59s\n",
      "21:\tlearn: 2072.0320099\ttotal: 2.38s\tremaining: 8.44s\n",
      "22:\tlearn: 2066.3497907\ttotal: 2.49s\tremaining: 8.33s\n",
      "23:\tlearn: 2063.2545093\ttotal: 2.66s\tremaining: 8.41s\n",
      "24:\tlearn: 2059.0273508\ttotal: 2.76s\tremaining: 8.28s\n",
      "25:\tlearn: 2054.8744722\ttotal: 2.87s\tremaining: 8.16s\n",
      "26:\tlearn: 2051.0770103\ttotal: 2.98s\tremaining: 8.04s\n",
      "27:\tlearn: 2045.6719184\ttotal: 3s\tremaining: 7.73s\n",
      "28:\tlearn: 2041.0145235\ttotal: 3.12s\tremaining: 7.63s\n",
      "29:\tlearn: 2036.0484037\ttotal: 3.22s\tremaining: 7.52s\n",
      "30:\tlearn: 2029.6212577\ttotal: 3.4s\tremaining: 7.57s\n",
      "31:\tlearn: 2024.7604293\ttotal: 3.51s\tremaining: 7.45s\n",
      "32:\tlearn: 2020.5104697\ttotal: 3.6s\tremaining: 7.32s\n",
      "33:\tlearn: 2016.0675609\ttotal: 3.71s\tremaining: 7.2s\n",
      "34:\tlearn: 2012.7362812\ttotal: 3.88s\tremaining: 7.21s\n",
      "35:\tlearn: 2008.8054924\ttotal: 3.98s\tremaining: 7.08s\n",
      "36:\tlearn: 2005.9542805\ttotal: 4.08s\tremaining: 6.96s\n",
      "37:\tlearn: 2004.7778037\ttotal: 4.18s\tremaining: 6.83s\n",
      "38:\tlearn: 2001.1759787\ttotal: 4.29s\tremaining: 6.71s\n",
      "39:\tlearn: 1998.3401265\ttotal: 4.38s\tremaining: 6.58s\n",
      "40:\tlearn: 1992.8428536\ttotal: 4.48s\tremaining: 6.45s\n",
      "41:\tlearn: 1990.7657437\ttotal: 4.58s\tremaining: 6.33s\n",
      "42:\tlearn: 1987.6173739\ttotal: 4.75s\tremaining: 6.3s\n",
      "43:\tlearn: 1981.7568618\ttotal: 4.86s\tremaining: 6.18s\n",
      "44:\tlearn: 1979.8347878\ttotal: 4.96s\tremaining: 6.06s\n",
      "45:\tlearn: 1978.0865141\ttotal: 5.06s\tremaining: 5.94s\n",
      "46:\tlearn: 1976.3773811\ttotal: 5.16s\tremaining: 5.82s\n",
      "47:\tlearn: 1974.0289558\ttotal: 5.34s\tremaining: 5.79s\n",
      "48:\tlearn: 1970.2085425\ttotal: 5.45s\tremaining: 5.67s\n",
      "49:\tlearn: 1967.0688010\ttotal: 5.55s\tremaining: 5.55s\n",
      "50:\tlearn: 1964.0749125\ttotal: 5.74s\tremaining: 5.52s\n",
      "Learning rate set to 0.5\n",
      "0:\tlearn: 3631.8646221\ttotal: 135ms\tremaining: 13.4s\n",
      "1:\tlearn: 3278.7834120\ttotal: 233ms\tremaining: 11.4s\n",
      "2:\tlearn: 3005.1445598\ttotal: 335ms\tremaining: 10.8s\n",
      "3:\tlearn: 2848.8440277\ttotal: 435ms\tremaining: 10.4s\n",
      "4:\tlearn: 2742.1078347\ttotal: 531ms\tremaining: 10.1s\n",
      "5:\tlearn: 2644.4553719\ttotal: 628ms\tremaining: 9.84s\n",
      "6:\tlearn: 2592.6636544\ttotal: 725ms\tremaining: 9.63s\n",
      "7:\tlearn: 2555.4655344\ttotal: 747ms\tremaining: 8.59s\n",
      "8:\tlearn: 2505.3886458\ttotal: 837ms\tremaining: 8.46s\n",
      "9:\tlearn: 2482.7225123\ttotal: 933ms\tremaining: 8.39s\n",
      "10:\tlearn: 2457.7327785\ttotal: 1.03s\tremaining: 8.35s\n",
      "11:\tlearn: 2439.3978344\ttotal: 1.13s\tremaining: 8.28s\n",
      "12:\tlearn: 2419.8813437\ttotal: 1.23s\tremaining: 8.2s\n",
      "13:\tlearn: 2406.7145110\ttotal: 1.32s\tremaining: 8.14s\n",
      "14:\tlearn: 2391.9864821\ttotal: 1.43s\tremaining: 8.08s\n",
      "15:\tlearn: 2383.8564147\ttotal: 1.52s\tremaining: 7.97s\n",
      "16:\tlearn: 2371.6176800\ttotal: 1.61s\tremaining: 7.89s\n",
      "17:\tlearn: 2352.6785241\ttotal: 1.71s\tremaining: 7.78s\n",
      "18:\tlearn: 2331.7274875\ttotal: 1.8s\tremaining: 7.66s\n",
      "19:\tlearn: 2322.3129645\ttotal: 1.9s\tremaining: 7.58s\n",
      "20:\tlearn: 2314.6388380\ttotal: 1.99s\tremaining: 7.47s\n",
      "21:\tlearn: 2298.5942654\ttotal: 2.08s\tremaining: 7.39s\n",
      "22:\tlearn: 2288.2179460\ttotal: 2.11s\tremaining: 7.06s\n",
      "23:\tlearn: 2282.1907096\ttotal: 2.21s\tremaining: 7s\n",
      "24:\tlearn: 2273.2682320\ttotal: 2.31s\tremaining: 6.94s\n",
      "25:\tlearn: 2266.3291625\ttotal: 2.41s\tremaining: 6.87s\n",
      "26:\tlearn: 2262.1097226\ttotal: 2.5s\tremaining: 6.77s\n",
      "27:\tlearn: 2257.8371440\ttotal: 2.52s\tremaining: 6.49s\n",
      "28:\tlearn: 2252.3230629\ttotal: 2.55s\tremaining: 6.24s\n",
      "29:\tlearn: 2245.5271217\ttotal: 2.64s\tremaining: 6.16s\n",
      "30:\tlearn: 2236.3153527\ttotal: 2.73s\tremaining: 6.08s\n",
      "31:\tlearn: 2229.9561416\ttotal: 2.83s\tremaining: 6.01s\n",
      "32:\tlearn: 2225.9797060\ttotal: 2.93s\tremaining: 5.95s\n",
      "33:\tlearn: 2215.2530053\ttotal: 3.02s\tremaining: 5.87s\n",
      "34:\tlearn: 2209.6394085\ttotal: 3.12s\tremaining: 5.8s\n",
      "35:\tlearn: 2201.9399742\ttotal: 3.22s\tremaining: 5.72s\n",
      "36:\tlearn: 2196.7892066\ttotal: 3.31s\tremaining: 5.63s\n",
      "37:\tlearn: 2193.0531522\ttotal: 3.4s\tremaining: 5.55s\n",
      "38:\tlearn: 2190.3378771\ttotal: 3.43s\tremaining: 5.37s\n",
      "39:\tlearn: 2187.8900988\ttotal: 3.46s\tremaining: 5.18s\n",
      "40:\tlearn: 2182.4610549\ttotal: 3.64s\tremaining: 5.23s\n",
      "41:\tlearn: 2180.4103591\ttotal: 3.73s\tremaining: 5.15s\n",
      "42:\tlearn: 2173.8177345\ttotal: 3.82s\tremaining: 5.07s\n",
      "43:\tlearn: 2169.7767781\ttotal: 3.92s\tremaining: 4.99s\n",
      "44:\tlearn: 2156.7681557\ttotal: 4.02s\tremaining: 4.92s\n",
      "45:\tlearn: 2153.4335211\ttotal: 4.12s\tremaining: 4.84s\n",
      "46:\tlearn: 2150.0137269\ttotal: 4.21s\tremaining: 4.75s\n",
      "47:\tlearn: 2143.2494140\ttotal: 4.31s\tremaining: 4.67s\n",
      "48:\tlearn: 2139.7532845\ttotal: 4.4s\tremaining: 4.58s\n",
      "49:\tlearn: 2136.3814430\ttotal: 4.5s\tremaining: 4.5s\n",
      "50:\tlearn: 2134.8546282\ttotal: 4.6s\tremaining: 4.42s\n",
      "51:\tlearn: 2132.5490397\ttotal: 4.69s\tremaining: 4.33s\n",
      "52:\tlearn: 2131.5250541\ttotal: 4.78s\tremaining: 4.24s\n",
      "53:\tlearn: 2130.2629461\ttotal: 4.88s\tremaining: 4.16s\n",
      "54:\tlearn: 2127.3250552\ttotal: 4.98s\tremaining: 4.07s\n",
      "55:\tlearn: 2122.6451747\ttotal: 5.07s\tremaining: 3.98s\n",
      "56:\tlearn: 2118.9842545\ttotal: 5.17s\tremaining: 3.9s\n",
      "57:\tlearn: 2117.0252125\ttotal: 5.26s\tremaining: 3.81s\n",
      "58:\tlearn: 2112.3469149\ttotal: 5.36s\tremaining: 3.72s\n",
      "59:\tlearn: 2110.2804952\ttotal: 5.38s\tremaining: 3.59s\n",
      "60:\tlearn: 2107.7969884\ttotal: 5.41s\tremaining: 3.46s\n",
      "61:\tlearn: 2107.0211068\ttotal: 5.5s\tremaining: 3.37s\n",
      "62:\tlearn: 2103.6783654\ttotal: 5.59s\tremaining: 3.28s\n",
      "63:\tlearn: 2101.0344675\ttotal: 5.69s\tremaining: 3.2s\n",
      "64:\tlearn: 2100.2308920\ttotal: 5.78s\tremaining: 3.11s\n",
      "65:\tlearn: 2099.1536871\ttotal: 5.87s\tremaining: 3.02s\n",
      "66:\tlearn: 2098.1974296\ttotal: 5.96s\tremaining: 2.94s\n",
      "67:\tlearn: 2094.5386436\ttotal: 6.07s\tremaining: 2.85s\n",
      "68:\tlearn: 2092.2677880\ttotal: 6.17s\tremaining: 2.77s\n",
      "69:\tlearn: 2090.5010845\ttotal: 6.27s\tremaining: 2.69s\n",
      "70:\tlearn: 2088.5538642\ttotal: 6.36s\tremaining: 2.6s\n",
      "71:\tlearn: 2086.2939694\ttotal: 6.46s\tremaining: 2.51s\n",
      "72:\tlearn: 2083.7152929\ttotal: 6.55s\tremaining: 2.42s\n",
      "73:\tlearn: 2081.9505672\ttotal: 6.65s\tremaining: 2.34s\n",
      "74:\tlearn: 2081.1269608\ttotal: 6.83s\tremaining: 2.28s\n",
      "75:\tlearn: 2080.0148717\ttotal: 6.93s\tremaining: 2.19s\n",
      "76:\tlearn: 2079.4162481\ttotal: 7.02s\tremaining: 2.1s\n",
      "77:\tlearn: 2077.7501535\ttotal: 7.12s\tremaining: 2.01s\n",
      "78:\tlearn: 2076.3921349\ttotal: 7.22s\tremaining: 1.92s\n",
      "79:\tlearn: 2075.7353516\ttotal: 7.32s\tremaining: 1.83s\n",
      "80:\tlearn: 2074.3235738\ttotal: 7.42s\tremaining: 1.74s\n",
      "81:\tlearn: 2073.8569985\ttotal: 7.51s\tremaining: 1.65s\n",
      "82:\tlearn: 2071.9354853\ttotal: 7.6s\tremaining: 1.56s\n",
      "83:\tlearn: 2070.8509763\ttotal: 7.7s\tremaining: 1.47s\n",
      "84:\tlearn: 2069.5700475\ttotal: 7.8s\tremaining: 1.38s\n",
      "85:\tlearn: 2067.0750984\ttotal: 7.9s\tremaining: 1.28s\n",
      "86:\tlearn: 2062.7362083\ttotal: 8s\tremaining: 1.2s\n",
      "87:\tlearn: 2061.1009464\ttotal: 8.1s\tremaining: 1.1s\n",
      "88:\tlearn: 2058.8767556\ttotal: 8.2s\tremaining: 1.01s\n",
      "89:\tlearn: 2056.5244317\ttotal: 8.3s\tremaining: 922ms\n",
      "90:\tlearn: 2055.9683598\ttotal: 8.39s\tremaining: 830ms\n",
      "91:\tlearn: 2054.6750129\ttotal: 8.49s\tremaining: 738ms\n",
      "92:\tlearn: 2051.8660077\ttotal: 8.58s\tremaining: 646ms\n",
      "93:\tlearn: 2050.1685711\ttotal: 8.68s\tremaining: 554ms\n",
      "94:\tlearn: 2048.6394037\ttotal: 8.7s\tremaining: 458ms\n",
      "95:\tlearn: 2047.6207514\ttotal: 8.76s\tremaining: 365ms\n",
      "96:\tlearn: 2046.9067236\ttotal: 8.84s\tremaining: 274ms\n",
      "97:\tlearn: 2045.7795439\ttotal: 8.94s\tremaining: 182ms\n",
      "98:\tlearn: 2044.4871283\ttotal: 9.03s\tremaining: 91.2ms\n",
      "99:\tlearn: 2043.4563679\ttotal: 9.13s\tremaining: 0us\n",
      "Learning rate set to 0.5\n",
      "0:\tlearn: 3406.7096101\ttotal: 103ms\tremaining: 10.2s\n",
      "1:\tlearn: 2919.0696979\ttotal: 194ms\tremaining: 9.52s\n",
      "2:\tlearn: 2650.5449800\ttotal: 261ms\tremaining: 8.43s\n",
      "3:\tlearn: 2484.9415911\ttotal: 323ms\tremaining: 7.76s\n",
      "4:\tlearn: 2396.9594446\ttotal: 346ms\tremaining: 6.58s\n",
      "5:\tlearn: 2338.7819961\ttotal: 433ms\tremaining: 6.79s\n",
      "6:\tlearn: 2300.3216208\ttotal: 526ms\tremaining: 6.99s\n",
      "7:\tlearn: 2275.4862969\ttotal: 550ms\tremaining: 6.32s\n",
      "8:\tlearn: 2247.8399786\ttotal: 628ms\tremaining: 6.35s\n",
      "9:\tlearn: 2225.1880625\ttotal: 651ms\tremaining: 5.86s\n",
      "10:\tlearn: 2199.2777485\ttotal: 726ms\tremaining: 5.87s\n",
      "11:\tlearn: 2188.1543486\ttotal: 746ms\tremaining: 5.47s\n",
      "12:\tlearn: 2164.6944759\ttotal: 830ms\tremaining: 5.56s\n",
      "13:\tlearn: 2137.0171694\ttotal: 931ms\tremaining: 5.72s\n",
      "14:\tlearn: 2123.9333411\ttotal: 1.03s\tremaining: 5.84s\n",
      "15:\tlearn: 2108.2893098\ttotal: 1.11s\tremaining: 5.82s\n",
      "16:\tlearn: 2098.9918357\ttotal: 1.2s\tremaining: 5.88s\n",
      "17:\tlearn: 2090.4911024\ttotal: 1.31s\tremaining: 5.96s\n",
      "18:\tlearn: 2080.0746376\ttotal: 1.41s\tremaining: 6.01s\n",
      "19:\tlearn: 2073.6238470\ttotal: 1.5s\tremaining: 6s\n",
      "20:\tlearn: 2066.7210762\ttotal: 1.59s\tremaining: 5.99s\n",
      "21:\tlearn: 2059.8035634\ttotal: 1.68s\tremaining: 5.96s\n",
      "22:\tlearn: 2051.9440950\ttotal: 1.79s\tremaining: 5.99s\n",
      "23:\tlearn: 2047.9831646\ttotal: 1.88s\tremaining: 5.94s\n",
      "24:\tlearn: 2043.3727564\ttotal: 2.04s\tremaining: 6.12s\n",
      "25:\tlearn: 2034.4316343\ttotal: 2.23s\tremaining: 6.35s\n",
      "26:\tlearn: 2031.8221959\ttotal: 2.33s\tremaining: 6.31s\n",
      "27:\tlearn: 2025.6451719\ttotal: 2.52s\tremaining: 6.49s\n",
      "28:\tlearn: 2020.6462412\ttotal: 2.63s\tremaining: 6.44s\n",
      "29:\tlearn: 2017.5704008\ttotal: 2.82s\tremaining: 6.58s\n",
      "30:\tlearn: 2011.9324702\ttotal: 2.92s\tremaining: 6.51s\n",
      "31:\tlearn: 2008.9103012\ttotal: 3.02s\tremaining: 6.41s\n",
      "32:\tlearn: 2005.7697734\ttotal: 3.11s\tremaining: 6.32s\n",
      "33:\tlearn: 2001.6447928\ttotal: 3.3s\tremaining: 6.4s\n",
      "34:\tlearn: 1998.2031746\ttotal: 3.39s\tremaining: 6.3s\n",
      "35:\tlearn: 1996.0743201\ttotal: 3.5s\tremaining: 6.23s\n",
      "36:\tlearn: 1991.1888669\ttotal: 3.61s\tremaining: 6.14s\n",
      "37:\tlearn: 1988.0604120\ttotal: 3.71s\tremaining: 6.05s\n",
      "38:\tlearn: 1984.1963740\ttotal: 3.81s\tremaining: 5.96s\n",
      "39:\tlearn: 1979.6574325\ttotal: 4s\tremaining: 6.01s\n",
      "40:\tlearn: 1976.4012905\ttotal: 4.1s\tremaining: 5.9s\n",
      "41:\tlearn: 1973.5817971\ttotal: 4.21s\tremaining: 5.81s\n",
      "42:\tlearn: 1970.0654179\ttotal: 4.31s\tremaining: 5.72s\n",
      "43:\tlearn: 1967.5331637\ttotal: 4.42s\tremaining: 5.62s\n",
      "44:\tlearn: 1963.4971804\ttotal: 4.53s\tremaining: 5.53s\n",
      "45:\tlearn: 1962.7407387\ttotal: 4.62s\tremaining: 5.42s\n",
      "46:\tlearn: 1958.0854628\ttotal: 4.73s\tremaining: 5.34s\n",
      "47:\tlearn: 1955.9245437\ttotal: 4.92s\tremaining: 5.33s\n",
      "48:\tlearn: 1954.1994714\ttotal: 5.02s\tremaining: 5.23s\n",
      "49:\tlearn: 1951.4557699\ttotal: 5.2s\tremaining: 5.2s\n",
      "50:\tlearn: 1949.4631772\ttotal: 5.3s\tremaining: 5.09s\n",
      "51:\tlearn: 1946.8784658\ttotal: 5.39s\tremaining: 4.98s\n",
      "51:\tlearn: 2134.2368695\ttotal: 4.01s\tremaining: 3.71s\n",
      "52:\tlearn: 2132.7739609\ttotal: 4.11s\tremaining: 3.65s\n",
      "53:\tlearn: 2129.8882537\ttotal: 4.22s\tremaining: 3.6s\n",
      "54:\tlearn: 2126.8100998\ttotal: 4.24s\tremaining: 3.47s\n",
      "55:\tlearn: 2122.7372423\ttotal: 4.34s\tremaining: 3.41s\n",
      "56:\tlearn: 2119.4354282\ttotal: 4.43s\tremaining: 3.34s\n",
      "57:\tlearn: 2115.8649383\ttotal: 4.53s\tremaining: 3.28s\n",
      "58:\tlearn: 2112.9757940\ttotal: 4.62s\tremaining: 3.21s\n",
      "59:\tlearn: 2110.0940137\ttotal: 4.72s\tremaining: 3.14s\n",
      "60:\tlearn: 2105.5564224\ttotal: 4.81s\tremaining: 3.08s\n",
      "61:\tlearn: 2103.8752755\ttotal: 4.91s\tremaining: 3.01s\n",
      "62:\tlearn: 2102.9035662\ttotal: 5.01s\tremaining: 2.94s\n",
      "63:\tlearn: 2100.8111563\ttotal: 5.1s\tremaining: 2.87s\n",
      "64:\tlearn: 2098.4393567\ttotal: 5.2s\tremaining: 2.8s\n",
      "65:\tlearn: 2096.9937343\ttotal: 5.3s\tremaining: 2.73s\n",
      "66:\tlearn: 2095.8776541\ttotal: 5.39s\tremaining: 2.66s\n",
      "67:\tlearn: 2093.0907900\ttotal: 5.49s\tremaining: 2.58s\n",
      "68:\tlearn: 2089.8540921\ttotal: 5.59s\tremaining: 2.51s\n",
      "69:\tlearn: 2087.7105053\ttotal: 5.69s\tremaining: 2.44s\n",
      "70:\tlearn: 2087.0935453\ttotal: 5.79s\tremaining: 2.36s\n",
      "71:\tlearn: 2085.0925347\ttotal: 5.88s\tremaining: 2.29s\n",
      "72:\tlearn: 2081.6843122\ttotal: 5.97s\tremaining: 2.21s\n",
      "73:\tlearn: 2078.5909601\ttotal: 6.07s\tremaining: 2.13s\n",
      "74:\tlearn: 2077.2138237\ttotal: 6.17s\tremaining: 2.06s\n",
      "75:\tlearn: 2075.9577702\ttotal: 6.27s\tremaining: 1.98s\n",
      "76:\tlearn: 2074.0165206\ttotal: 6.38s\tremaining: 1.9s\n",
      "77:\tlearn: 2072.3639687\ttotal: 6.49s\tremaining: 1.83s\n",
      "78:\tlearn: 2071.5658152\ttotal: 6.58s\tremaining: 1.75s\n",
      "79:\tlearn: 2069.7338912\ttotal: 6.68s\tremaining: 1.67s\n",
      "80:\tlearn: 2068.5507856\ttotal: 6.78s\tremaining: 1.59s\n",
      "81:\tlearn: 2066.9399642\ttotal: 6.88s\tremaining: 1.51s\n",
      "82:\tlearn: 2065.3325948\ttotal: 6.98s\tremaining: 1.43s\n",
      "83:\tlearn: 2063.7956400\ttotal: 7.08s\tremaining: 1.35s\n",
      "84:\tlearn: 2062.2295273\ttotal: 7.18s\tremaining: 1.27s\n",
      "85:\tlearn: 2060.7397661\ttotal: 7.28s\tremaining: 1.18s\n",
      "86:\tlearn: 2059.4904119\ttotal: 7.37s\tremaining: 1.1s\n",
      "87:\tlearn: 2059.0260487\ttotal: 7.46s\tremaining: 1.02s\n",
      "88:\tlearn: 2057.7583259\ttotal: 7.56s\tremaining: 934ms\n",
      "89:\tlearn: 2056.4127798\ttotal: 7.65s\tremaining: 850ms\n",
      "90:\tlearn: 2056.0062387\ttotal: 7.74s\tremaining: 765ms\n",
      "91:\tlearn: 2054.9327419\ttotal: 7.83s\tremaining: 681ms\n",
      "92:\tlearn: 2053.6412084\ttotal: 7.93s\tremaining: 597ms\n",
      "93:\tlearn: 2052.5847619\ttotal: 7.96s\tremaining: 508ms\n",
      "94:\tlearn: 2051.7521215\ttotal: 7.98s\tremaining: 420ms\n",
      "95:\tlearn: 2048.3262869\ttotal: 8.08s\tremaining: 337ms\n",
      "96:\tlearn: 2046.7625942\ttotal: 8.18s\tremaining: 253ms\n",
      "97:\tlearn: 2045.7397147\ttotal: 8.21s\tremaining: 167ms\n",
      "98:\tlearn: 2044.6528756\ttotal: 8.23s\tremaining: 83.2ms\n",
      "99:\tlearn: 2043.7727938\ttotal: 8.25s\tremaining: 0us\n",
      "Learning rate set to 0.5\n",
      "0:\tlearn: 3405.8908846\ttotal: 100ms\tremaining: 9.91s\n",
      "1:\tlearn: 2921.0251992\ttotal: 201ms\tremaining: 9.84s\n",
      "2:\tlearn: 2651.9244178\ttotal: 224ms\tremaining: 7.25s\n",
      "3:\tlearn: 2488.5868998\ttotal: 287ms\tremaining: 6.88s\n",
      "4:\tlearn: 2408.2770190\ttotal: 460ms\tremaining: 8.74s\n",
      "5:\tlearn: 2350.6292409\ttotal: 483ms\tremaining: 7.57s\n",
      "6:\tlearn: 2309.9460988\ttotal: 544ms\tremaining: 7.23s\n",
      "7:\tlearn: 2279.8399534\ttotal: 606ms\tremaining: 6.96s\n",
      "8:\tlearn: 2244.7310717\ttotal: 671ms\tremaining: 6.78s\n",
      "9:\tlearn: 2216.7713083\ttotal: 695ms\tremaining: 6.25s\n",
      "10:\tlearn: 2195.9602978\ttotal: 728ms\tremaining: 5.89s\n",
      "11:\tlearn: 2182.1448815\ttotal: 753ms\tremaining: 5.52s\n",
      "12:\tlearn: 2170.1621902\ttotal: 828ms\tremaining: 5.54s\n",
      "13:\tlearn: 2155.2670997\ttotal: 852ms\tremaining: 5.23s\n",
      "14:\tlearn: 2140.6392363\ttotal: 924ms\tremaining: 5.23s\n",
      "15:\tlearn: 2124.3535828\ttotal: 949ms\tremaining: 4.98s\n",
      "16:\tlearn: 2116.8132855\ttotal: 1.02s\tremaining: 4.99s\n",
      "17:\tlearn: 2106.2111986\ttotal: 1.13s\tremaining: 5.14s\n",
      "18:\tlearn: 2098.0275498\ttotal: 1.23s\tremaining: 5.24s\n",
      "19:\tlearn: 2091.3585998\ttotal: 1.31s\tremaining: 5.23s\n",
      "20:\tlearn: 2086.2373121\ttotal: 1.4s\tremaining: 5.28s\n",
      "21:\tlearn: 2076.3468818\ttotal: 1.5s\tremaining: 5.33s\n",
      "22:\tlearn: 2071.7324677\ttotal: 1.6s\tremaining: 5.37s\n",
      "23:\tlearn: 2064.2213937\ttotal: 1.7s\tremaining: 5.39s\n",
      "24:\tlearn: 2052.5562265\ttotal: 1.79s\tremaining: 5.37s\n",
      "25:\tlearn: 2048.0340413\ttotal: 1.89s\tremaining: 5.38s\n",
      "26:\tlearn: 2044.2063101\ttotal: 2s\tremaining: 5.4s\n",
      "27:\tlearn: 2039.3787618\ttotal: 2.09s\tremaining: 5.37s\n",
      "28:\tlearn: 2029.9124680\ttotal: 2.25s\tremaining: 5.5s\n",
      "29:\tlearn: 2023.5736307\ttotal: 2.36s\tremaining: 5.51s\n",
      "30:\tlearn: 2021.3797788\ttotal: 2.46s\tremaining: 5.48s\n",
      "31:\tlearn: 2019.0518696\ttotal: 2.56s\tremaining: 5.45s\n",
      "32:\tlearn: 2016.5808911\ttotal: 2.67s\tremaining: 5.43s\n",
      "33:\tlearn: 2013.7900926\ttotal: 2.85s\tremaining: 5.53s\n",
      "34:\tlearn: 2009.5288298\ttotal: 2.96s\tremaining: 5.49s\n",
      "35:\tlearn: 2007.4751716\ttotal: 3.07s\tremaining: 5.45s\n",
      "36:\tlearn: 2003.3663916\ttotal: 3.17s\tremaining: 5.4s\n",
      "37:\tlearn: 2000.1960879\ttotal: 3.28s\tremaining: 5.36s\n",
      "38:\tlearn: 1997.4733562\ttotal: 3.46s\tremaining: 5.42s\n",
      "39:\tlearn: 1994.6158556\ttotal: 3.56s\tremaining: 5.35s\n",
      "40:\tlearn: 1990.1934538\ttotal: 3.66s\tremaining: 5.27s\n",
      "41:\tlearn: 1988.0030149\ttotal: 3.77s\tremaining: 5.2s\n",
      "42:\tlearn: 1985.7129199\ttotal: 3.87s\tremaining: 5.13s\n",
      "43:\tlearn: 1982.0462521\ttotal: 3.97s\tremaining: 5.05s\n",
      "44:\tlearn: 1978.4754041\ttotal: 4.08s\tremaining: 4.99s\n",
      "45:\tlearn: 1975.3430877\ttotal: 4.18s\tremaining: 4.91s\n",
      "46:\tlearn: 1972.3430070\ttotal: 4.37s\tremaining: 4.92s\n",
      "47:\tlearn: 1968.7796154\ttotal: 4.49s\tremaining: 4.87s\n",
      "48:\tlearn: 1965.5676010\ttotal: 4.61s\tremaining: 4.8s\n",
      "49:\tlearn: 1963.9017766\ttotal: 4.79s\tremaining: 4.79s\n",
      "50:\tlearn: 1959.5335043\ttotal: 4.9s\tremaining: 4.71s\n",
      "51:\tlearn: 1957.2198413\ttotal: 5.01s\tremaining: 4.62s\n",
      "52:\tlearn: 1954.9788011\ttotal: 5.18s\tremaining: 4.6s\n",
      "53:\tlearn: 1953.4897585\ttotal: 5.28s\tremaining: 4.5s\n",
      "54:\tlearn: 1951.8172803\ttotal: 5.39s\tremaining: 4.41s\n",
      "55:\tlearn: 1950.9393393\ttotal: 5.49s\tremaining: 4.31s\n",
      "56:\tlearn: 1949.7135613\ttotal: 5.67s\tremaining: 4.28s\n",
      "57:\tlearn: 1948.3726017\ttotal: 5.77s\tremaining: 4.18s\n",
      "58:\tlearn: 1947.5125869\ttotal: 5.87s\tremaining: 4.08s\n",
      "59:\tlearn: 1945.0637251\ttotal: 5.97s\tremaining: 3.98s\n",
      "60:\tlearn: 1942.9771065\ttotal: 6.16s\tremaining: 3.94s\n",
      "61:\tlearn: 1940.6863108\ttotal: 6.26s\tremaining: 3.84s\n",
      "62:\tlearn: 1939.1248996\ttotal: 6.36s\tremaining: 3.74s\n",
      "63:\tlearn: 1938.0362461\ttotal: 6.54s\tremaining: 3.68s\n",
      "64:\tlearn: 1936.3803910\ttotal: 6.64s\tremaining: 3.58s\n",
      "65:\tlearn: 1935.5394034\ttotal: 6.74s\tremaining: 3.47s\n",
      "66:\tlearn: 1934.4260242\ttotal: 6.84s\tremaining: 3.37s\n",
      "67:\tlearn: 1932.9283997\ttotal: 6.95s\tremaining: 3.27s\n",
      "68:\tlearn: 1931.9437645\ttotal: 7.13s\tremaining: 3.2s\n",
      "69:\tlearn: 1929.7060835\ttotal: 7.24s\tremaining: 3.1s\n",
      "70:\tlearn: 1929.0072467\ttotal: 7.36s\tremaining: 3.01s\n",
      "71:\tlearn: 1927.8928803\ttotal: 7.46s\tremaining: 2.9s\n",
      "72:\tlearn: 1926.4102670\ttotal: 7.57s\tremaining: 2.8s\n",
      "73:\tlearn: 1925.3910949\ttotal: 7.67s\tremaining: 2.69s\n",
      "74:\tlearn: 1923.9417606\ttotal: 7.77s\tremaining: 2.59s\n",
      "75:\tlearn: 1923.3949910\ttotal: 7.95s\tremaining: 2.51s\n",
      "76:\tlearn: 1921.8891610\ttotal: 8.06s\tremaining: 2.41s\n",
      "77:\tlearn: 1920.6575627\ttotal: 8.16s\tremaining: 2.3s\n",
      "78:\tlearn: 1919.3860837\ttotal: 8.27s\tremaining: 2.2s\n",
      "79:\tlearn: 1916.8895772\ttotal: 8.37s\tremaining: 2.09s\n",
      "80:\tlearn: 1915.8570200\ttotal: 8.47s\tremaining: 1.99s\n",
      "81:\tlearn: 1913.6306317\ttotal: 8.58s\tremaining: 1.88s\n",
      "82:\tlearn: 1912.9145990\ttotal: 8.69s\tremaining: 1.78s\n",
      "83:\tlearn: 1911.9222207\ttotal: 8.79s\tremaining: 1.67s\n",
      "84:\tlearn: 1910.6848884\ttotal: 8.89s\tremaining: 1.57s\n",
      "85:\tlearn: 1909.4948317\ttotal: 8.99s\tremaining: 1.46s\n",
      "86:\tlearn: 1908.5720481\ttotal: 9.18s\tremaining: 1.37s\n",
      "87:\tlearn: 1907.1767327\ttotal: 9.29s\tremaining: 1.27s\n",
      "88:\tlearn: 1905.8300551\ttotal: 9.47s\tremaining: 1.17s\n",
      "89:\tlearn: 1903.9920622\ttotal: 9.58s\tremaining: 1.06s\n",
      "90:\tlearn: 1902.7088733\ttotal: 9.69s\tremaining: 958ms\n",
      "91:\tlearn: 1901.0888888\ttotal: 9.87s\tremaining: 858ms\n",
      "92:\tlearn: 1899.7365392\ttotal: 10.1s\tremaining: 757ms\n",
      "93:\tlearn: 1898.5064095\ttotal: 10.2s\tremaining: 649ms\n",
      "94:\tlearn: 1897.1504680\ttotal: 10.3s\tremaining: 540ms\n",
      "95:\tlearn: 1896.3816745\ttotal: 10.4s\tremaining: 432ms\n",
      "96:\tlearn: 1895.3253164\ttotal: 10.5s\tremaining: 324ms\n",
      "97:\tlearn: 1894.2243441\ttotal: 10.6s\tremaining: 217ms\n",
      "98:\tlearn: 1893.5308926\ttotal: 10.8s\tremaining: 109ms\n",
      "99:\tlearn: 1891.5870035\ttotal: 10.9s\tremaining: 0us\n",
      "Learning rate set to 0.5\n",
      "0:\tlearn: 3252.6281351\ttotal: 172ms\tremaining: 17s\n",
      "1:\tlearn: 2725.5957289\ttotal: 250ms\tremaining: 12.3s\n",
      "51:\tlearn: 1961.3894420\ttotal: 5.84s\tremaining: 5.39s\n",
      "52:\tlearn: 1959.5353260\ttotal: 5.95s\tremaining: 5.27s\n",
      "53:\tlearn: 1956.6601932\ttotal: 6.04s\tremaining: 5.15s\n",
      "54:\tlearn: 1954.9207332\ttotal: 6.22s\tremaining: 5.09s\n",
      "55:\tlearn: 1953.2266060\ttotal: 6.33s\tremaining: 4.97s\n",
      "56:\tlearn: 1950.3863282\ttotal: 6.45s\tremaining: 4.87s\n",
      "57:\tlearn: 1948.0759581\ttotal: 6.55s\tremaining: 4.74s\n",
      "58:\tlearn: 1945.6674995\ttotal: 6.65s\tremaining: 4.62s\n",
      "59:\tlearn: 1943.5561676\ttotal: 6.74s\tremaining: 4.49s\n",
      "60:\tlearn: 1941.8955515\ttotal: 6.84s\tremaining: 4.37s\n",
      "61:\tlearn: 1940.6927129\ttotal: 6.94s\tremaining: 4.25s\n",
      "62:\tlearn: 1938.0884318\ttotal: 6.97s\tremaining: 4.1s\n",
      "63:\tlearn: 1937.2079645\ttotal: 7.08s\tremaining: 3.98s\n",
      "64:\tlearn: 1935.9019636\ttotal: 7.19s\tremaining: 3.87s\n",
      "65:\tlearn: 1933.8429922\ttotal: 7.29s\tremaining: 3.76s\n",
      "66:\tlearn: 1932.7086751\ttotal: 7.39s\tremaining: 3.64s\n",
      "67:\tlearn: 1931.0887051\ttotal: 7.57s\tremaining: 3.56s\n",
      "68:\tlearn: 1929.3642803\ttotal: 7.68s\tremaining: 3.45s\n",
      "69:\tlearn: 1927.1949716\ttotal: 7.79s\tremaining: 3.34s\n",
      "70:\tlearn: 1923.8831251\ttotal: 7.89s\tremaining: 3.22s\n",
      "71:\tlearn: 1922.5501406\ttotal: 7.99s\tremaining: 3.11s\n",
      "72:\tlearn: 1920.8936643\ttotal: 8.1s\tremaining: 3s\n",
      "73:\tlearn: 1918.1871555\ttotal: 8.2s\tremaining: 2.88s\n",
      "74:\tlearn: 1917.4292223\ttotal: 8.3s\tremaining: 2.77s\n",
      "75:\tlearn: 1915.0675252\ttotal: 8.41s\tremaining: 2.66s\n",
      "76:\tlearn: 1913.7757530\ttotal: 8.51s\tremaining: 2.54s\n",
      "77:\tlearn: 1912.2206167\ttotal: 8.54s\tremaining: 2.41s\n",
      "78:\tlearn: 1911.3368584\ttotal: 8.56s\tremaining: 2.28s\n",
      "79:\tlearn: 1909.9717094\ttotal: 8.62s\tremaining: 2.15s\n",
      "80:\tlearn: 1909.1505195\ttotal: 8.71s\tremaining: 2.04s\n",
      "81:\tlearn: 1907.7972362\ttotal: 8.81s\tremaining: 1.93s\n",
      "82:\tlearn: 1907.0381429\ttotal: 8.92s\tremaining: 1.83s\n",
      "83:\tlearn: 1906.2041952\ttotal: 9.02s\tremaining: 1.72s\n",
      "84:\tlearn: 1905.2418625\ttotal: 9.05s\tremaining: 1.6s\n",
      "85:\tlearn: 1901.9184320\ttotal: 9.14s\tremaining: 1.49s\n",
      "86:\tlearn: 1900.9144062\ttotal: 9.23s\tremaining: 1.38s\n",
      "87:\tlearn: 1899.4530829\ttotal: 9.32s\tremaining: 1.27s\n",
      "88:\tlearn: 1898.3681508\ttotal: 9.41s\tremaining: 1.16s\n",
      "89:\tlearn: 1897.1760345\ttotal: 9.5s\tremaining: 1.05s\n",
      "90:\tlearn: 1896.3918822\ttotal: 9.6s\tremaining: 949ms\n",
      "91:\tlearn: 1895.8104968\ttotal: 9.62s\tremaining: 837ms\n",
      "92:\tlearn: 1894.1394478\ttotal: 9.79s\tremaining: 737ms\n",
      "93:\tlearn: 1893.7255624\ttotal: 9.82s\tremaining: 627ms\n",
      "94:\tlearn: 1892.8477073\ttotal: 9.91s\tremaining: 521ms\n",
      "95:\tlearn: 1891.6492579\ttotal: 10s\tremaining: 417ms\n",
      "96:\tlearn: 1890.3254539\ttotal: 10.1s\tremaining: 312ms\n",
      "97:\tlearn: 1889.9572641\ttotal: 10.2s\tremaining: 208ms\n",
      "98:\tlearn: 1889.3047846\ttotal: 10.3s\tremaining: 104ms\n",
      "99:\tlearn: 1888.2019595\ttotal: 10.4s\tremaining: 0us\n",
      "Learning rate set to 0.5\n",
      "0:\tlearn: 3400.6329541\ttotal: 99.1ms\tremaining: 9.81s\n",
      "1:\tlearn: 2908.7734894\ttotal: 128ms\tremaining: 6.26s\n",
      "2:\tlearn: 2640.6878139\ttotal: 157ms\tremaining: 5.06s\n",
      "3:\tlearn: 2485.4502464\ttotal: 250ms\tremaining: 5.99s\n",
      "4:\tlearn: 2398.9781152\ttotal: 343ms\tremaining: 6.52s\n",
      "5:\tlearn: 2347.6726980\ttotal: 516ms\tremaining: 8.08s\n",
      "6:\tlearn: 2311.0918958\ttotal: 611ms\tremaining: 8.12s\n",
      "7:\tlearn: 2278.0859825\ttotal: 708ms\tremaining: 8.14s\n",
      "8:\tlearn: 2256.8734624\ttotal: 896ms\tremaining: 9.06s\n",
      "9:\tlearn: 2226.3926782\ttotal: 1s\tremaining: 9.03s\n",
      "10:\tlearn: 2209.4847684\ttotal: 1.1s\tremaining: 8.95s\n",
      "11:\tlearn: 2190.3134325\ttotal: 1.22s\tremaining: 8.93s\n",
      "12:\tlearn: 2172.5469398\ttotal: 1.4s\tremaining: 9.34s\n",
      "13:\tlearn: 2144.8601812\ttotal: 1.51s\tremaining: 9.26s\n",
      "14:\tlearn: 2126.6674729\ttotal: 1.69s\tremaining: 9.56s\n",
      "15:\tlearn: 2115.1504058\ttotal: 1.79s\tremaining: 9.41s\n",
      "16:\tlearn: 2107.3749352\ttotal: 1.89s\tremaining: 9.23s\n",
      "17:\tlearn: 2097.8081839\ttotal: 2.07s\tremaining: 9.44s\n",
      "18:\tlearn: 2090.0659135\ttotal: 2.17s\tremaining: 9.27s\n",
      "19:\tlearn: 2083.1451288\ttotal: 2.28s\tremaining: 9.12s\n",
      "20:\tlearn: 2074.6680298\ttotal: 2.38s\tremaining: 8.97s\n",
      "21:\tlearn: 2064.2607170\ttotal: 2.49s\tremaining: 8.83s\n",
      "22:\tlearn: 2057.9673464\ttotal: 2.59s\tremaining: 8.67s\n",
      "23:\tlearn: 2053.6432705\ttotal: 2.69s\tremaining: 8.52s\n",
      "24:\tlearn: 2049.5172634\ttotal: 2.87s\tremaining: 8.61s\n",
      "25:\tlearn: 2045.5639001\ttotal: 2.97s\tremaining: 8.46s\n",
      "26:\tlearn: 2042.5908035\ttotal: 3.07s\tremaining: 8.3s\n",
      "27:\tlearn: 2039.3661347\ttotal: 3.17s\tremaining: 8.15s\n",
      "28:\tlearn: 2037.2940074\ttotal: 3.27s\tremaining: 8.01s\n",
      "29:\tlearn: 2031.1302526\ttotal: 3.38s\tremaining: 7.88s\n",
      "30:\tlearn: 2026.1728843\ttotal: 3.55s\tremaining: 7.91s\n",
      "31:\tlearn: 2021.1044293\ttotal: 3.66s\tremaining: 7.79s\n",
      "32:\tlearn: 2015.5854137\ttotal: 3.85s\tremaining: 7.81s\n",
      "33:\tlearn: 2011.9004693\ttotal: 3.94s\tremaining: 7.65s\n",
      "34:\tlearn: 2009.1009163\ttotal: 4.04s\tremaining: 7.51s\n",
      "35:\tlearn: 2006.7505811\ttotal: 4.14s\tremaining: 7.37s\n",
      "36:\tlearn: 2005.3417573\ttotal: 4.25s\tremaining: 7.23s\n",
      "37:\tlearn: 2001.9958238\ttotal: 4.42s\tremaining: 7.21s\n",
      "38:\tlearn: 1998.3699336\ttotal: 4.53s\tremaining: 7.08s\n",
      "39:\tlearn: 1995.0903807\ttotal: 4.63s\tremaining: 6.95s\n",
      "40:\tlearn: 1988.8803153\ttotal: 4.74s\tremaining: 6.81s\n",
      "41:\tlearn: 1984.3392845\ttotal: 4.84s\tremaining: 6.69s\n",
      "42:\tlearn: 1979.2573650\ttotal: 4.94s\tremaining: 6.55s\n",
      "43:\tlearn: 1975.1887983\ttotal: 5.13s\tremaining: 6.53s\n",
      "44:\tlearn: 1972.1814054\ttotal: 5.24s\tremaining: 6.4s\n",
      "45:\tlearn: 1969.4423289\ttotal: 5.33s\tremaining: 6.26s\n",
      "46:\tlearn: 1966.6014600\ttotal: 5.52s\tremaining: 6.22s\n",
      "47:\tlearn: 1964.4466468\ttotal: 5.63s\tremaining: 6.1s\n",
      "48:\tlearn: 1961.5413048\ttotal: 5.73s\tremaining: 5.96s\n",
      "49:\tlearn: 1959.7417164\ttotal: 5.92s\tremaining: 5.92s\n",
      "50:\tlearn: 1959.0645409\ttotal: 6.01s\tremaining: 5.78s\n",
      "51:\tlearn: 1956.5891005\ttotal: 6.12s\tremaining: 5.65s\n",
      "52:\tlearn: 1954.9412758\ttotal: 6.3s\tremaining: 5.59s\n",
      "53:\tlearn: 1952.6296028\ttotal: 6.4s\tremaining: 5.45s\n",
      "54:\tlearn: 1950.0706040\ttotal: 6.51s\tremaining: 5.33s\n",
      "55:\tlearn: 1947.3356512\ttotal: 6.69s\tremaining: 5.26s\n",
      "56:\tlearn: 1945.9531411\ttotal: 6.79s\tremaining: 5.12s\n",
      "57:\tlearn: 1944.3549722\ttotal: 6.9s\tremaining: 4.99s\n",
      "58:\tlearn: 1941.2460992\ttotal: 7.08s\tremaining: 4.92s\n",
      "59:\tlearn: 1938.5771758\ttotal: 7.2s\tremaining: 4.8s\n",
      "60:\tlearn: 1937.5326948\ttotal: 7.37s\tremaining: 4.71s\n",
      "61:\tlearn: 1934.9559866\ttotal: 7.48s\tremaining: 4.58s\n",
      "62:\tlearn: 1932.9576055\ttotal: 7.59s\tremaining: 4.46s\n",
      "63:\tlearn: 1931.1512860\ttotal: 7.76s\tremaining: 4.37s\n",
      "64:\tlearn: 1929.7470841\ttotal: 7.88s\tremaining: 4.24s\n",
      "65:\tlearn: 1928.3243371\ttotal: 8.06s\tremaining: 4.15s\n",
      "66:\tlearn: 1927.2901045\ttotal: 8.16s\tremaining: 4.02s\n",
      "67:\tlearn: 1925.6277364\ttotal: 8.26s\tremaining: 3.89s\n",
      "68:\tlearn: 1923.9952766\ttotal: 8.37s\tremaining: 3.76s\n",
      "69:\tlearn: 1921.1522155\ttotal: 8.55s\tremaining: 3.66s\n",
      "70:\tlearn: 1919.9538894\ttotal: 8.65s\tremaining: 3.53s\n",
      "71:\tlearn: 1917.3596634\ttotal: 8.76s\tremaining: 3.41s\n",
      "72:\tlearn: 1915.4801332\ttotal: 8.86s\tremaining: 3.28s\n",
      "73:\tlearn: 1914.2557546\ttotal: 8.96s\tremaining: 3.15s\n",
      "74:\tlearn: 1912.8261865\ttotal: 9.07s\tremaining: 3.02s\n",
      "75:\tlearn: 1911.0381404\ttotal: 9.17s\tremaining: 2.9s\n",
      "76:\tlearn: 1908.9693989\ttotal: 9.28s\tremaining: 2.77s\n",
      "77:\tlearn: 1908.0559076\ttotal: 9.46s\tremaining: 2.67s\n",
      "78:\tlearn: 1906.8706274\ttotal: 9.57s\tremaining: 2.54s\n",
      "79:\tlearn: 1905.9128299\ttotal: 9.65s\tremaining: 2.41s\n",
      "80:\tlearn: 1905.2975187\ttotal: 9.67s\tremaining: 2.27s\n",
      "81:\tlearn: 1904.3255072\ttotal: 9.72s\tremaining: 2.13s\n",
      "82:\tlearn: 1903.8963908\ttotal: 9.75s\tremaining: 2s\n",
      "83:\tlearn: 1902.0866856\ttotal: 9.77s\tremaining: 1.86s\n",
      "84:\tlearn: 1900.9519232\ttotal: 9.83s\tremaining: 1.73s\n",
      "85:\tlearn: 1900.0874807\ttotal: 9.9s\tremaining: 1.61s\n",
      "86:\tlearn: 1899.0257460\ttotal: 9.99s\tremaining: 1.49s\n",
      "87:\tlearn: 1898.2257033\ttotal: 10.1s\tremaining: 1.38s\n",
      "88:\tlearn: 1897.0072510\ttotal: 10.3s\tremaining: 1.27s\n",
      "89:\tlearn: 1895.5796508\ttotal: 10.4s\tremaining: 1.15s\n",
      "90:\tlearn: 1894.7467730\ttotal: 10.5s\tremaining: 1.04s\n",
      "91:\tlearn: 1894.1199482\ttotal: 10.6s\tremaining: 922ms\n",
      "92:\tlearn: 1892.9995933\ttotal: 10.6s\tremaining: 801ms\n",
      "93:\tlearn: 1891.8234376\ttotal: 10.7s\tremaining: 686ms\n",
      "94:\tlearn: 1890.1520053\ttotal: 10.8s\tremaining: 567ms\n",
      "95:\tlearn: 1889.2933695\ttotal: 10.8s\tremaining: 452ms\n",
      "96:\tlearn: 1888.2021766\ttotal: 10.9s\tremaining: 338ms\n",
      "97:\tlearn: 1885.9062225\ttotal: 11s\tremaining: 225ms\n",
      "98:\tlearn: 1885.0119842\ttotal: 11.1s\tremaining: 112ms\n",
      "99:\tlearn: 1883.0672799\ttotal: 11.1s\tremaining: 0us\n",
      "Learning rate set to 0.5\n",
      "0:\tlearn: 3238.8987773\ttotal: 187ms\tremaining: 18.5s\n",
      "1:\tlearn: 2707.6285430\ttotal: 306ms\tremaining: 15s\n",
      "52:\tlearn: 1957.8583342\ttotal: 5.63s\tremaining: 5s\n",
      "53:\tlearn: 1955.7345011\ttotal: 5.74s\tremaining: 4.89s\n",
      "54:\tlearn: 1954.6094683\ttotal: 5.76s\tremaining: 4.72s\n",
      "55:\tlearn: 1952.4880041\ttotal: 5.87s\tremaining: 4.61s\n",
      "56:\tlearn: 1950.4393509\ttotal: 5.97s\tremaining: 4.51s\n",
      "57:\tlearn: 1949.0507039\ttotal: 6.08s\tremaining: 4.4s\n",
      "58:\tlearn: 1948.6738636\ttotal: 6.17s\tremaining: 4.29s\n",
      "59:\tlearn: 1947.3914562\ttotal: 6.28s\tremaining: 4.19s\n",
      "60:\tlearn: 1945.5958981\ttotal: 6.37s\tremaining: 4.07s\n",
      "61:\tlearn: 1942.9583069\ttotal: 6.48s\tremaining: 3.97s\n",
      "62:\tlearn: 1941.1551249\ttotal: 6.59s\tremaining: 3.87s\n",
      "63:\tlearn: 1938.0461218\ttotal: 6.69s\tremaining: 3.76s\n",
      "64:\tlearn: 1935.9963340\ttotal: 6.87s\tremaining: 3.7s\n",
      "65:\tlearn: 1934.2076044\ttotal: 6.97s\tremaining: 3.59s\n",
      "66:\tlearn: 1933.0185947\ttotal: 7.08s\tremaining: 3.48s\n",
      "67:\tlearn: 1932.2367135\ttotal: 7.18s\tremaining: 3.38s\n",
      "68:\tlearn: 1931.0141518\ttotal: 7.28s\tremaining: 3.27s\n",
      "69:\tlearn: 1929.6222710\ttotal: 7.37s\tremaining: 3.16s\n",
      "70:\tlearn: 1927.8637467\ttotal: 7.55s\tremaining: 3.08s\n",
      "71:\tlearn: 1925.3674614\ttotal: 7.66s\tremaining: 2.98s\n",
      "72:\tlearn: 1923.8959361\ttotal: 7.85s\tremaining: 2.9s\n",
      "73:\tlearn: 1922.5438068\ttotal: 7.95s\tremaining: 2.79s\n",
      "74:\tlearn: 1921.5004951\ttotal: 8.15s\tremaining: 2.72s\n",
      "75:\tlearn: 1920.1094329\ttotal: 8.25s\tremaining: 2.61s\n",
      "76:\tlearn: 1918.5302116\ttotal: 8.36s\tremaining: 2.5s\n",
      "77:\tlearn: 1917.5243062\ttotal: 8.46s\tremaining: 2.38s\n",
      "78:\tlearn: 1916.1486032\ttotal: 8.48s\tremaining: 2.25s\n",
      "79:\tlearn: 1915.2248467\ttotal: 8.51s\tremaining: 2.13s\n",
      "80:\tlearn: 1913.7848029\ttotal: 8.62s\tremaining: 2.02s\n",
      "81:\tlearn: 1911.7877446\ttotal: 8.72s\tremaining: 1.92s\n",
      "82:\tlearn: 1911.0686770\ttotal: 8.83s\tremaining: 1.81s\n",
      "83:\tlearn: 1908.7042417\ttotal: 8.92s\tremaining: 1.7s\n",
      "84:\tlearn: 1907.8148261\ttotal: 9.01s\tremaining: 1.59s\n",
      "85:\tlearn: 1907.1020216\ttotal: 9.17s\tremaining: 1.49s\n",
      "86:\tlearn: 1905.5968332\ttotal: 9.2s\tremaining: 1.37s\n",
      "87:\tlearn: 1903.9928540\ttotal: 9.3s\tremaining: 1.27s\n",
      "88:\tlearn: 1903.1080881\ttotal: 9.32s\tremaining: 1.15s\n",
      "89:\tlearn: 1902.1371279\ttotal: 9.42s\tremaining: 1.05s\n",
      "90:\tlearn: 1900.7624687\ttotal: 9.59s\tremaining: 949ms\n",
      "91:\tlearn: 1899.6197875\ttotal: 9.68s\tremaining: 842ms\n",
      "92:\tlearn: 1898.9010514\ttotal: 9.71s\tremaining: 731ms\n",
      "93:\tlearn: 1897.5396284\ttotal: 9.8s\tremaining: 625ms\n",
      "94:\tlearn: 1896.0624724\ttotal: 9.9s\tremaining: 521ms\n",
      "95:\tlearn: 1894.9167887\ttotal: 9.98s\tremaining: 416ms\n",
      "96:\tlearn: 1893.7916755\ttotal: 10.1s\tremaining: 312ms\n",
      "97:\tlearn: 1892.6412625\ttotal: 10.2s\tremaining: 208ms\n",
      "98:\tlearn: 1891.5892539\ttotal: 10.3s\tremaining: 104ms\n",
      "99:\tlearn: 1890.1012056\ttotal: 10.3s\tremaining: 0us\n",
      "Learning rate set to 0.5\n",
      "0:\tlearn: 3245.7208716\ttotal: 182ms\tremaining: 18s\n",
      "1:\tlearn: 2718.3763383\ttotal: 379ms\tremaining: 18.6s\n",
      "2:\tlearn: 2448.1224906\ttotal: 490ms\tremaining: 15.8s\n",
      "3:\tlearn: 2327.2955236\ttotal: 681ms\tremaining: 16.3s\n",
      "4:\tlearn: 2254.4967859\ttotal: 875ms\tremaining: 16.6s\n",
      "5:\tlearn: 2207.7851402\ttotal: 1.07s\tremaining: 16.8s\n",
      "6:\tlearn: 2178.2033869\ttotal: 1.18s\tremaining: 15.7s\n",
      "7:\tlearn: 2137.1018748\ttotal: 1.36s\tremaining: 15.7s\n",
      "8:\tlearn: 2115.8015788\ttotal: 1.47s\tremaining: 14.8s\n",
      "9:\tlearn: 2089.7884266\ttotal: 1.67s\tremaining: 15s\n",
      "10:\tlearn: 2071.7462797\ttotal: 1.86s\tremaining: 15.1s\n",
      "11:\tlearn: 2056.6113377\ttotal: 1.97s\tremaining: 14.4s\n",
      "12:\tlearn: 2046.0097400\ttotal: 2.15s\tremaining: 14.4s\n",
      "13:\tlearn: 2035.3898277\ttotal: 2.26s\tremaining: 13.9s\n",
      "14:\tlearn: 2023.5018351\ttotal: 2.45s\tremaining: 13.9s\n",
      "15:\tlearn: 2020.1437070\ttotal: 2.56s\tremaining: 13.4s\n",
      "16:\tlearn: 2012.8973498\ttotal: 2.67s\tremaining: 13s\n",
      "17:\tlearn: 2007.9904845\ttotal: 2.78s\tremaining: 12.7s\n",
      "18:\tlearn: 1999.3543913\ttotal: 2.98s\tremaining: 12.7s\n",
      "19:\tlearn: 1990.7854477\ttotal: 3.16s\tremaining: 12.6s\n",
      "20:\tlearn: 1981.3198954\ttotal: 3.27s\tremaining: 12.3s\n",
      "21:\tlearn: 1977.0394539\ttotal: 3.37s\tremaining: 12s\n",
      "22:\tlearn: 1972.0587488\ttotal: 3.55s\tremaining: 11.9s\n",
      "23:\tlearn: 1964.2761428\ttotal: 3.66s\tremaining: 11.6s\n",
      "24:\tlearn: 1954.6905179\ttotal: 3.85s\tremaining: 11.5s\n",
      "25:\tlearn: 1948.4973578\ttotal: 3.96s\tremaining: 11.3s\n",
      "26:\tlearn: 1943.4520612\ttotal: 4.14s\tremaining: 11.2s\n",
      "27:\tlearn: 1939.6816733\ttotal: 4.26s\tremaining: 11s\n",
      "28:\tlearn: 1936.1942218\ttotal: 4.37s\tremaining: 10.7s\n",
      "29:\tlearn: 1932.8102242\ttotal: 4.48s\tremaining: 10.5s\n",
      "30:\tlearn: 1928.2061568\ttotal: 4.67s\tremaining: 10.4s\n",
      "31:\tlearn: 1925.1387066\ttotal: 4.78s\tremaining: 10.2s\n",
      "32:\tlearn: 1921.1253604\ttotal: 4.97s\tremaining: 10.1s\n",
      "33:\tlearn: 1917.4881843\ttotal: 5.17s\tremaining: 10s\n",
      "34:\tlearn: 1913.8064261\ttotal: 5.36s\tremaining: 9.95s\n",
      "35:\tlearn: 1910.8072207\ttotal: 5.46s\tremaining: 9.71s\n",
      "36:\tlearn: 1907.4966429\ttotal: 5.64s\tremaining: 9.61s\n",
      "37:\tlearn: 1904.9172760\ttotal: 5.75s\tremaining: 9.38s\n",
      "38:\tlearn: 1901.7691307\ttotal: 5.94s\tremaining: 9.29s\n",
      "39:\tlearn: 1898.9498736\ttotal: 6.06s\tremaining: 9.09s\n",
      "40:\tlearn: 1896.1520022\ttotal: 6.15s\tremaining: 8.86s\n",
      "41:\tlearn: 1893.0328207\ttotal: 6.27s\tremaining: 8.66s\n",
      "42:\tlearn: 1889.0274595\ttotal: 6.46s\tremaining: 8.56s\n",
      "43:\tlearn: 1886.0798253\ttotal: 6.57s\tremaining: 8.36s\n",
      "44:\tlearn: 1883.5359683\ttotal: 6.68s\tremaining: 8.16s\n",
      "45:\tlearn: 1880.3568796\ttotal: 6.79s\tremaining: 7.96s\n",
      "46:\tlearn: 1877.8544637\ttotal: 6.97s\tremaining: 7.86s\n",
      "47:\tlearn: 1876.4287669\ttotal: 7.16s\tremaining: 7.76s\n",
      "48:\tlearn: 1872.2508512\ttotal: 7.36s\tremaining: 7.66s\n",
      "49:\tlearn: 1871.1556124\ttotal: 7.46s\tremaining: 7.46s\n",
      "50:\tlearn: 1868.1830132\ttotal: 7.57s\tremaining: 7.27s\n",
      "51:\tlearn: 1865.8517607\ttotal: 7.76s\tremaining: 7.16s\n",
      "52:\tlearn: 1863.4349537\ttotal: 7.88s\tremaining: 6.99s\n",
      "53:\tlearn: 1862.7553908\ttotal: 7.98s\tremaining: 6.8s\n",
      "54:\tlearn: 1860.0730466\ttotal: 8.1s\tremaining: 6.63s\n",
      "55:\tlearn: 1858.1677549\ttotal: 8.2s\tremaining: 6.45s\n",
      "56:\tlearn: 1856.4902900\ttotal: 8.41s\tremaining: 6.34s\n",
      "57:\tlearn: 1854.0876820\ttotal: 8.6s\tremaining: 6.23s\n",
      "58:\tlearn: 1852.3844869\ttotal: 8.71s\tremaining: 6.05s\n",
      "59:\tlearn: 1851.0898461\ttotal: 8.82s\tremaining: 5.88s\n",
      "60:\tlearn: 1849.9437789\ttotal: 8.91s\tremaining: 5.69s\n",
      "61:\tlearn: 1848.0399621\ttotal: 8.97s\tremaining: 5.5s\n",
      "62:\tlearn: 1845.4508814\ttotal: 9.01s\tremaining: 5.29s\n",
      "63:\tlearn: 1844.1121240\ttotal: 9.06s\tremaining: 5.1s\n",
      "64:\tlearn: 1841.7804229\ttotal: 9.15s\tremaining: 4.93s\n",
      "65:\tlearn: 1840.5001266\ttotal: 9.25s\tremaining: 4.76s\n",
      "66:\tlearn: 1836.6886868\ttotal: 9.36s\tremaining: 4.61s\n",
      "67:\tlearn: 1835.3256999\ttotal: 9.47s\tremaining: 4.46s\n",
      "68:\tlearn: 1833.7667209\ttotal: 9.59s\tremaining: 4.31s\n",
      "69:\tlearn: 1832.5700903\ttotal: 9.77s\tremaining: 4.19s\n",
      "70:\tlearn: 1831.0922131\ttotal: 9.88s\tremaining: 4.03s\n",
      "71:\tlearn: 1829.4806461\ttotal: 9.99s\tremaining: 3.89s\n",
      "72:\tlearn: 1828.2482889\ttotal: 10.1s\tremaining: 3.73s\n",
      "73:\tlearn: 1826.7631163\ttotal: 10.2s\tremaining: 3.57s\n",
      "74:\tlearn: 1825.7105703\ttotal: 10.3s\tremaining: 3.42s\n",
      "75:\tlearn: 1824.1174242\ttotal: 10.3s\tremaining: 3.26s\n",
      "76:\tlearn: 1822.8719645\ttotal: 10.4s\tremaining: 3.11s\n",
      "77:\tlearn: 1821.9653559\ttotal: 10.5s\tremaining: 2.96s\n",
      "78:\tlearn: 1820.7268206\ttotal: 10.7s\tremaining: 2.84s\n",
      "79:\tlearn: 1819.8098309\ttotal: 10.9s\tremaining: 2.72s\n",
      "80:\tlearn: 1818.5034544\ttotal: 11s\tremaining: 2.58s\n",
      "81:\tlearn: 1816.9474940\ttotal: 11.2s\tremaining: 2.45s\n",
      "82:\tlearn: 1815.7623080\ttotal: 11.3s\tremaining: 2.31s\n",
      "83:\tlearn: 1814.3651330\ttotal: 11.4s\tremaining: 2.17s\n",
      "84:\tlearn: 1813.2164390\ttotal: 11.5s\tremaining: 2.03s\n",
      "85:\tlearn: 1812.3674971\ttotal: 11.6s\tremaining: 1.89s\n",
      "86:\tlearn: 1811.3907757\ttotal: 11.6s\tremaining: 1.74s\n",
      "87:\tlearn: 1810.7394752\ttotal: 11.7s\tremaining: 1.59s\n",
      "88:\tlearn: 1809.8187278\ttotal: 11.7s\tremaining: 1.45s\n",
      "89:\tlearn: 1808.2058429\ttotal: 11.9s\tremaining: 1.32s\n",
      "90:\tlearn: 1806.9447850\ttotal: 12s\tremaining: 1.19s\n",
      "91:\tlearn: 1805.8913722\ttotal: 12.2s\tremaining: 1.06s\n",
      "92:\tlearn: 1805.2358837\ttotal: 12.4s\tremaining: 933ms\n",
      "93:\tlearn: 1804.6238748\ttotal: 12.5s\tremaining: 798ms\n",
      "94:\tlearn: 1803.6038434\ttotal: 12.6s\tremaining: 664ms\n",
      "95:\tlearn: 1801.8094903\ttotal: 12.7s\tremaining: 531ms\n",
      "96:\tlearn: 1800.8377498\ttotal: 12.9s\tremaining: 400ms\n",
      "97:\tlearn: 1800.0486480\ttotal: 13s\tremaining: 266ms\n",
      "98:\tlearn: 1798.4501047\ttotal: 13.1s\tremaining: 133ms\n",
      "99:\tlearn: 1797.3451707\ttotal: 13.3s\tremaining: 0us\n",
      "Learning rate set to 0.5\n",
      "0:\tlearn: 3241.5165034\ttotal: 186ms\tremaining: 18.4s\n",
      "1:\tlearn: 2716.0730983\ttotal: 295ms\tremaining: 14.5s\n",
      "2:\tlearn: 2453.5028161\ttotal: 479ms\tremaining: 15.5s\n",
      "52:\tlearn: 1943.9095738\ttotal: 5.5s\tremaining: 4.88s\n",
      "53:\tlearn: 1942.2393750\ttotal: 5.68s\tremaining: 4.84s\n",
      "54:\tlearn: 1940.8620900\ttotal: 5.79s\tremaining: 4.74s\n",
      "55:\tlearn: 1938.3296653\ttotal: 5.97s\tremaining: 4.69s\n",
      "56:\tlearn: 1936.0576583\ttotal: 6.08s\tremaining: 4.59s\n",
      "57:\tlearn: 1933.3637962\ttotal: 6.18s\tremaining: 4.48s\n",
      "58:\tlearn: 1931.3970947\ttotal: 6.28s\tremaining: 4.37s\n",
      "59:\tlearn: 1929.0652189\ttotal: 6.38s\tremaining: 4.26s\n",
      "60:\tlearn: 1927.3295608\ttotal: 6.57s\tremaining: 4.2s\n",
      "61:\tlearn: 1926.2202596\ttotal: 6.66s\tremaining: 4.08s\n",
      "62:\tlearn: 1924.5494040\ttotal: 6.77s\tremaining: 3.97s\n",
      "63:\tlearn: 1923.3253357\ttotal: 6.87s\tremaining: 3.87s\n",
      "64:\tlearn: 1921.8469676\ttotal: 6.97s\tremaining: 3.75s\n",
      "65:\tlearn: 1920.4824178\ttotal: 7.08s\tremaining: 3.65s\n",
      "66:\tlearn: 1918.5785659\ttotal: 7.19s\tremaining: 3.54s\n",
      "67:\tlearn: 1917.5097398\ttotal: 7.23s\tremaining: 3.4s\n",
      "68:\tlearn: 1915.1268316\ttotal: 7.33s\tremaining: 3.29s\n",
      "69:\tlearn: 1913.7522778\ttotal: 7.44s\tremaining: 3.19s\n",
      "70:\tlearn: 1912.8241984\ttotal: 7.54s\tremaining: 3.08s\n",
      "71:\tlearn: 1911.3187361\ttotal: 7.72s\tremaining: 3s\n",
      "72:\tlearn: 1910.0219970\ttotal: 7.83s\tremaining: 2.89s\n",
      "73:\tlearn: 1908.7575794\ttotal: 7.93s\tremaining: 2.79s\n",
      "74:\tlearn: 1907.5252511\ttotal: 8.11s\tremaining: 2.7s\n",
      "75:\tlearn: 1906.1816628\ttotal: 8.22s\tremaining: 2.6s\n",
      "76:\tlearn: 1904.8311419\ttotal: 8.32s\tremaining: 2.49s\n",
      "77:\tlearn: 1903.3403489\ttotal: 8.43s\tremaining: 2.38s\n",
      "78:\tlearn: 1902.3965309\ttotal: 8.54s\tremaining: 2.27s\n",
      "79:\tlearn: 1901.6819837\ttotal: 8.65s\tremaining: 2.16s\n",
      "80:\tlearn: 1900.6275933\ttotal: 8.83s\tremaining: 2.07s\n",
      "81:\tlearn: 1900.1302055\ttotal: 8.93s\tremaining: 1.96s\n",
      "82:\tlearn: 1899.0693094\ttotal: 9.04s\tremaining: 1.85s\n",
      "83:\tlearn: 1898.0677918\ttotal: 9.14s\tremaining: 1.74s\n",
      "84:\tlearn: 1897.4999692\ttotal: 9.24s\tremaining: 1.63s\n",
      "85:\tlearn: 1894.1254396\ttotal: 9.34s\tremaining: 1.52s\n",
      "86:\tlearn: 1893.3089798\ttotal: 9.45s\tremaining: 1.41s\n",
      "87:\tlearn: 1892.0689414\ttotal: 9.55s\tremaining: 1.3s\n",
      "88:\tlearn: 1889.6922449\ttotal: 9.66s\tremaining: 1.19s\n",
      "89:\tlearn: 1888.8645362\ttotal: 9.76s\tremaining: 1.08s\n",
      "90:\tlearn: 1888.1313850\ttotal: 9.94s\tremaining: 983ms\n",
      "91:\tlearn: 1886.9959103\ttotal: 10s\tremaining: 872ms\n",
      "92:\tlearn: 1885.7679298\ttotal: 10.1s\tremaining: 763ms\n",
      "93:\tlearn: 1884.5927213\ttotal: 10.2s\tremaining: 654ms\n",
      "94:\tlearn: 1883.7682283\ttotal: 10.4s\tremaining: 549ms\n",
      "95:\tlearn: 1882.4500337\ttotal: 10.5s\tremaining: 439ms\n",
      "96:\tlearn: 1881.5911848\ttotal: 10.6s\tremaining: 329ms\n",
      "97:\tlearn: 1880.8247285\ttotal: 10.7s\tremaining: 219ms\n",
      "98:\tlearn: 1878.9792542\ttotal: 10.8s\tremaining: 109ms\n",
      "99:\tlearn: 1876.7594375\ttotal: 10.9s\tremaining: 0us\n",
      "Learning rate set to 0.5\n",
      "0:\tlearn: 3252.3555141\ttotal: 63.6ms\tremaining: 6.29s\n",
      "1:\tlearn: 2723.1463510\ttotal: 231ms\tremaining: 11.3s\n",
      "2:\tlearn: 2462.6258024\ttotal: 423ms\tremaining: 13.7s\n",
      "3:\tlearn: 2326.3784676\ttotal: 542ms\tremaining: 13s\n",
      "4:\tlearn: 2258.9215431\ttotal: 646ms\tremaining: 12.3s\n",
      "5:\tlearn: 2212.3388607\ttotal: 758ms\tremaining: 11.9s\n",
      "6:\tlearn: 2174.1026015\ttotal: 940ms\tremaining: 12.5s\n",
      "7:\tlearn: 2152.3543527\ttotal: 1.05s\tremaining: 12.1s\n",
      "8:\tlearn: 2128.3234288\ttotal: 1.15s\tremaining: 11.6s\n",
      "9:\tlearn: 2105.3791060\ttotal: 1.24s\tremaining: 11.2s\n",
      "10:\tlearn: 2081.7841574\ttotal: 1.36s\tremaining: 11s\n",
      "11:\tlearn: 2064.6538634\ttotal: 1.46s\tremaining: 10.7s\n",
      "12:\tlearn: 2055.6475201\ttotal: 1.56s\tremaining: 10.5s\n",
      "13:\tlearn: 2048.9565765\ttotal: 1.67s\tremaining: 10.3s\n",
      "14:\tlearn: 2036.4242267\ttotal: 1.86s\tremaining: 10.5s\n",
      "15:\tlearn: 2028.9831838\ttotal: 2.05s\tremaining: 10.8s\n",
      "16:\tlearn: 2017.1066448\ttotal: 2.24s\tremaining: 11s\n",
      "17:\tlearn: 2011.0713450\ttotal: 2.35s\tremaining: 10.7s\n",
      "18:\tlearn: 2002.9661284\ttotal: 2.46s\tremaining: 10.5s\n",
      "19:\tlearn: 1996.3728396\ttotal: 2.65s\tremaining: 10.6s\n",
      "20:\tlearn: 1986.3318826\ttotal: 2.85s\tremaining: 10.7s\n",
      "21:\tlearn: 1982.2126534\ttotal: 2.95s\tremaining: 10.4s\n",
      "22:\tlearn: 1979.1385011\ttotal: 3.06s\tremaining: 10.2s\n",
      "23:\tlearn: 1974.5354003\ttotal: 3.24s\tremaining: 10.3s\n",
      "24:\tlearn: 1965.1300284\ttotal: 3.34s\tremaining: 10s\n",
      "25:\tlearn: 1957.9102876\ttotal: 3.5s\tremaining: 9.96s\n",
      "26:\tlearn: 1952.1257200\ttotal: 3.61s\tremaining: 9.77s\n",
      "27:\tlearn: 1948.7186400\ttotal: 3.73s\tremaining: 9.58s\n",
      "28:\tlearn: 1943.9390864\ttotal: 3.91s\tremaining: 9.58s\n",
      "29:\tlearn: 1941.9413525\ttotal: 4.03s\tremaining: 9.4s\n",
      "30:\tlearn: 1936.2809376\ttotal: 4.21s\tremaining: 9.38s\n",
      "31:\tlearn: 1930.3652617\ttotal: 4.4s\tremaining: 9.36s\n",
      "32:\tlearn: 1927.9944973\ttotal: 4.5s\tremaining: 9.14s\n",
      "33:\tlearn: 1924.5130359\ttotal: 4.6s\tremaining: 8.94s\n",
      "34:\tlearn: 1921.2563371\ttotal: 4.72s\tremaining: 8.76s\n",
      "35:\tlearn: 1918.6972804\ttotal: 4.82s\tremaining: 8.58s\n",
      "36:\tlearn: 1916.0854120\ttotal: 4.87s\tremaining: 8.29s\n",
      "37:\tlearn: 1911.8919831\ttotal: 4.94s\tremaining: 8.05s\n",
      "38:\tlearn: 1908.8504403\ttotal: 5.03s\tremaining: 7.86s\n",
      "39:\tlearn: 1904.3538136\ttotal: 5.09s\tremaining: 7.64s\n",
      "40:\tlearn: 1902.2645839\ttotal: 5.2s\tremaining: 7.49s\n",
      "41:\tlearn: 1899.0512607\ttotal: 5.32s\tremaining: 7.34s\n",
      "42:\tlearn: 1896.5138956\ttotal: 5.43s\tremaining: 7.2s\n",
      "43:\tlearn: 1893.8866680\ttotal: 5.54s\tremaining: 7.04s\n",
      "44:\tlearn: 1891.0140880\ttotal: 5.72s\tremaining: 6.99s\n",
      "45:\tlearn: 1888.0671766\ttotal: 5.91s\tremaining: 6.94s\n",
      "46:\tlearn: 1885.6894423\ttotal: 6.02s\tremaining: 6.79s\n",
      "47:\tlearn: 1882.7401949\ttotal: 6.21s\tremaining: 6.73s\n",
      "48:\tlearn: 1881.2769437\ttotal: 6.32s\tremaining: 6.58s\n",
      "49:\tlearn: 1878.6549504\ttotal: 6.43s\tremaining: 6.43s\n",
      "50:\tlearn: 1876.3796777\ttotal: 6.62s\tremaining: 6.36s\n",
      "51:\tlearn: 1874.4340360\ttotal: 6.72s\tremaining: 6.21s\n",
      "52:\tlearn: 1871.6981286\ttotal: 6.91s\tremaining: 6.12s\n",
      "53:\tlearn: 1870.0738350\ttotal: 7.02s\tremaining: 5.98s\n",
      "54:\tlearn: 1867.5050229\ttotal: 7.2s\tremaining: 5.89s\n",
      "55:\tlearn: 1865.4081881\ttotal: 7.39s\tremaining: 5.81s\n",
      "56:\tlearn: 1863.6890734\ttotal: 7.51s\tremaining: 5.66s\n",
      "57:\tlearn: 1862.4254599\ttotal: 7.69s\tremaining: 5.57s\n",
      "58:\tlearn: 1860.9096024\ttotal: 7.87s\tremaining: 5.47s\n",
      "59:\tlearn: 1859.4381902\ttotal: 7.97s\tremaining: 5.32s\n",
      "60:\tlearn: 1857.2683693\ttotal: 8.16s\tremaining: 5.22s\n",
      "61:\tlearn: 1855.5039972\ttotal: 8.27s\tremaining: 5.07s\n",
      "62:\tlearn: 1852.5022798\ttotal: 8.46s\tremaining: 4.97s\n",
      "63:\tlearn: 1850.3965589\ttotal: 8.57s\tremaining: 4.82s\n",
      "64:\tlearn: 1849.2434695\ttotal: 8.69s\tremaining: 4.68s\n",
      "65:\tlearn: 1846.8799261\ttotal: 8.8s\tremaining: 4.54s\n",
      "66:\tlearn: 1845.9795857\ttotal: 9s\tremaining: 4.43s\n",
      "67:\tlearn: 1844.5379943\ttotal: 9.11s\tremaining: 4.29s\n",
      "68:\tlearn: 1842.9301397\ttotal: 9.23s\tremaining: 4.14s\n",
      "69:\tlearn: 1841.2418480\ttotal: 9.42s\tremaining: 4.04s\n",
      "70:\tlearn: 1840.2791814\ttotal: 9.53s\tremaining: 3.89s\n",
      "71:\tlearn: 1838.2511185\ttotal: 9.71s\tremaining: 3.78s\n",
      "72:\tlearn: 1836.8643894\ttotal: 9.82s\tremaining: 3.63s\n",
      "73:\tlearn: 1835.8800601\ttotal: 10s\tremaining: 3.52s\n",
      "74:\tlearn: 1833.8692665\ttotal: 10.1s\tremaining: 3.37s\n",
      "75:\tlearn: 1832.8333112\ttotal: 10.3s\tremaining: 3.25s\n",
      "76:\tlearn: 1831.5950659\ttotal: 10.4s\tremaining: 3.11s\n",
      "77:\tlearn: 1830.1285943\ttotal: 10.6s\tremaining: 2.99s\n",
      "78:\tlearn: 1827.9100839\ttotal: 10.7s\tremaining: 2.85s\n",
      "79:\tlearn: 1826.8771750\ttotal: 10.9s\tremaining: 2.72s\n",
      "80:\tlearn: 1825.7362293\ttotal: 11s\tremaining: 2.58s\n",
      "81:\tlearn: 1824.7935023\ttotal: 11.2s\tremaining: 2.46s\n",
      "82:\tlearn: 1823.5391146\ttotal: 11.4s\tremaining: 2.33s\n",
      "83:\tlearn: 1822.3434621\ttotal: 11.6s\tremaining: 2.21s\n",
      "84:\tlearn: 1821.2307120\ttotal: 11.8s\tremaining: 2.08s\n",
      "85:\tlearn: 1819.6383877\ttotal: 11.9s\tremaining: 1.93s\n",
      "86:\tlearn: 1818.6366164\ttotal: 12.1s\tremaining: 1.8s\n",
      "87:\tlearn: 1817.6330019\ttotal: 12.2s\tremaining: 1.66s\n",
      "88:\tlearn: 1814.9768602\ttotal: 12.4s\tremaining: 1.53s\n",
      "89:\tlearn: 1813.9297271\ttotal: 12.5s\tremaining: 1.39s\n",
      "90:\tlearn: 1812.6073958\ttotal: 12.7s\tremaining: 1.25s\n",
      "91:\tlearn: 1811.8927574\ttotal: 12.8s\tremaining: 1.11s\n",
      "92:\tlearn: 1810.7193104\ttotal: 12.9s\tremaining: 969ms\n",
      "93:\tlearn: 1809.7459430\ttotal: 13.1s\tremaining: 834ms\n",
      "94:\tlearn: 1809.2029162\ttotal: 13.2s\tremaining: 693ms\n",
      "95:\tlearn: 1808.4100019\ttotal: 13.3s\tremaining: 553ms\n",
      "96:\tlearn: 1807.6285210\ttotal: 13.4s\tremaining: 414ms\n",
      "97:\tlearn: 1806.6525174\ttotal: 13.5s\tremaining: 275ms\n",
      "98:\tlearn: 1804.5730265\ttotal: 13.6s\tremaining: 137ms\n",
      "99:\tlearn: 1804.1698859\ttotal: 13.7s\tremaining: 0us\n",
      "Learning rate set to 0.5\n",
      "0:\tlearn: 3148.8705401\ttotal: 43ms\tremaining: 4.25s\n",
      "1:\tlearn: 2583.8221143\ttotal: 137ms\tremaining: 6.73s\n",
      "2:\tlearn: 2323.3194423\ttotal: 322ms\tremaining: 10.4s\n",
      "2:\tlearn: 2460.0673510\ttotal: 315ms\tremaining: 10.2s\n",
      "3:\tlearn: 2325.5491114\ttotal: 341ms\tremaining: 8.19s\n",
      "4:\tlearn: 2256.2615815\ttotal: 505ms\tremaining: 9.6s\n",
      "5:\tlearn: 2211.3974096\ttotal: 619ms\tremaining: 9.69s\n",
      "6:\tlearn: 2167.6591221\ttotal: 829ms\tremaining: 11s\n",
      "7:\tlearn: 2134.8012713\ttotal: 949ms\tremaining: 10.9s\n",
      "8:\tlearn: 2112.9721247\ttotal: 1.13s\tremaining: 11.4s\n",
      "9:\tlearn: 2091.6037975\ttotal: 1.24s\tremaining: 11.2s\n",
      "10:\tlearn: 2073.5201005\ttotal: 1.35s\tremaining: 10.9s\n",
      "11:\tlearn: 2060.8476931\ttotal: 1.45s\tremaining: 10.7s\n",
      "12:\tlearn: 2046.2597946\ttotal: 1.56s\tremaining: 10.5s\n",
      "13:\tlearn: 2032.6639126\ttotal: 1.68s\tremaining: 10.3s\n",
      "14:\tlearn: 2026.4420181\ttotal: 1.83s\tremaining: 10.4s\n",
      "15:\tlearn: 2018.8647546\ttotal: 1.94s\tremaining: 10.2s\n",
      "16:\tlearn: 2011.4342365\ttotal: 2.14s\tremaining: 10.4s\n",
      "17:\tlearn: 2007.0749833\ttotal: 2.33s\tremaining: 10.6s\n",
      "18:\tlearn: 1999.2919084\ttotal: 2.52s\tremaining: 10.8s\n",
      "19:\tlearn: 1993.2741233\ttotal: 2.63s\tremaining: 10.5s\n",
      "20:\tlearn: 1984.5126863\ttotal: 2.83s\tremaining: 10.6s\n",
      "21:\tlearn: 1979.4955269\ttotal: 3.01s\tremaining: 10.7s\n",
      "22:\tlearn: 1972.9931964\ttotal: 3.13s\tremaining: 10.5s\n",
      "23:\tlearn: 1969.6454865\ttotal: 3.24s\tremaining: 10.3s\n",
      "24:\tlearn: 1959.8945312\ttotal: 3.42s\tremaining: 10.3s\n",
      "25:\tlearn: 1953.9091253\ttotal: 3.53s\tremaining: 10.1s\n",
      "26:\tlearn: 1950.9889485\ttotal: 3.63s\tremaining: 9.81s\n",
      "27:\tlearn: 1946.9261453\ttotal: 3.79s\tremaining: 9.75s\n",
      "28:\tlearn: 1940.9598785\ttotal: 3.98s\tremaining: 9.74s\n",
      "29:\tlearn: 1934.9952875\ttotal: 4.09s\tremaining: 9.55s\n",
      "30:\tlearn: 1928.0000963\ttotal: 4.28s\tremaining: 9.53s\n",
      "31:\tlearn: 1923.5073353\ttotal: 4.48s\tremaining: 9.51s\n",
      "32:\tlearn: 1919.4002383\ttotal: 4.59s\tremaining: 9.33s\n",
      "33:\tlearn: 1915.6442605\ttotal: 4.78s\tremaining: 9.27s\n",
      "34:\tlearn: 1912.8309253\ttotal: 4.89s\tremaining: 9.07s\n",
      "35:\tlearn: 1910.2139497\ttotal: 4.99s\tremaining: 8.87s\n",
      "36:\tlearn: 1906.4799946\ttotal: 5.09s\tremaining: 8.66s\n",
      "37:\tlearn: 1903.7691692\ttotal: 5.14s\tremaining: 8.39s\n",
      "38:\tlearn: 1900.3254847\ttotal: 5.21s\tremaining: 8.15s\n",
      "39:\tlearn: 1896.1254695\ttotal: 5.31s\tremaining: 7.96s\n",
      "40:\tlearn: 1894.0131709\ttotal: 5.37s\tremaining: 7.73s\n",
      "41:\tlearn: 1892.8126570\ttotal: 5.54s\tremaining: 7.65s\n",
      "42:\tlearn: 1891.2912634\ttotal: 5.65s\tremaining: 7.49s\n",
      "43:\tlearn: 1888.8571653\ttotal: 5.84s\tremaining: 7.43s\n",
      "44:\tlearn: 1886.9956701\ttotal: 5.95s\tremaining: 7.27s\n",
      "45:\tlearn: 1884.9176338\ttotal: 6.14s\tremaining: 7.21s\n",
      "46:\tlearn: 1882.2250526\ttotal: 6.33s\tremaining: 7.14s\n",
      "47:\tlearn: 1878.9976647\ttotal: 6.51s\tremaining: 7.05s\n",
      "48:\tlearn: 1877.2891499\ttotal: 6.62s\tremaining: 6.89s\n",
      "49:\tlearn: 1875.5097437\ttotal: 6.81s\tremaining: 6.81s\n",
      "50:\tlearn: 1873.7732959\ttotal: 6.92s\tremaining: 6.65s\n",
      "51:\tlearn: 1872.2607815\ttotal: 7.11s\tremaining: 6.56s\n",
      "52:\tlearn: 1870.3578830\ttotal: 7.22s\tremaining: 6.41s\n",
      "53:\tlearn: 1868.1485258\ttotal: 7.33s\tremaining: 6.25s\n",
      "54:\tlearn: 1867.1051934\ttotal: 7.45s\tremaining: 6.09s\n",
      "55:\tlearn: 1865.2427035\ttotal: 7.64s\tremaining: 6s\n",
      "56:\tlearn: 1861.9674903\ttotal: 7.83s\tremaining: 5.91s\n",
      "57:\tlearn: 1860.3697458\ttotal: 7.95s\tremaining: 5.75s\n",
      "58:\tlearn: 1859.2032259\ttotal: 8.13s\tremaining: 5.65s\n",
      "59:\tlearn: 1857.1401830\ttotal: 8.32s\tremaining: 5.55s\n",
      "60:\tlearn: 1854.6184064\ttotal: 8.43s\tremaining: 5.39s\n",
      "61:\tlearn: 1852.8713552\ttotal: 8.54s\tremaining: 5.23s\n",
      "62:\tlearn: 1851.1887639\ttotal: 8.64s\tremaining: 5.08s\n",
      "63:\tlearn: 1849.4908535\ttotal: 8.84s\tremaining: 4.97s\n",
      "64:\tlearn: 1847.7746485\ttotal: 8.95s\tremaining: 4.82s\n",
      "65:\tlearn: 1846.2134453\ttotal: 9.14s\tremaining: 4.71s\n",
      "66:\tlearn: 1845.2440413\ttotal: 9.33s\tremaining: 4.59s\n",
      "67:\tlearn: 1843.2515003\ttotal: 9.45s\tremaining: 4.45s\n",
      "68:\tlearn: 1841.9406315\ttotal: 9.63s\tremaining: 4.33s\n",
      "69:\tlearn: 1839.4474821\ttotal: 9.82s\tremaining: 4.21s\n",
      "70:\tlearn: 1837.3450455\ttotal: 9.94s\tremaining: 4.06s\n",
      "71:\tlearn: 1835.4030940\ttotal: 10.1s\tremaining: 3.94s\n",
      "72:\tlearn: 1831.9677173\ttotal: 10.3s\tremaining: 3.81s\n",
      "73:\tlearn: 1830.9326545\ttotal: 10.4s\tremaining: 3.66s\n",
      "74:\tlearn: 1829.2370203\ttotal: 10.6s\tremaining: 3.54s\n",
      "75:\tlearn: 1827.4938444\ttotal: 10.8s\tremaining: 3.41s\n",
      "76:\tlearn: 1826.3667979\ttotal: 10.9s\tremaining: 3.26s\n",
      "77:\tlearn: 1824.6616429\ttotal: 11.1s\tremaining: 3.13s\n",
      "78:\tlearn: 1823.1403446\ttotal: 11.2s\tremaining: 2.98s\n",
      "79:\tlearn: 1822.0760517\ttotal: 11.4s\tremaining: 2.85s\n",
      "80:\tlearn: 1821.1106728\ttotal: 11.6s\tremaining: 2.72s\n",
      "81:\tlearn: 1819.7849094\ttotal: 11.7s\tremaining: 2.57s\n",
      "82:\tlearn: 1817.6959930\ttotal: 11.9s\tremaining: 2.44s\n",
      "83:\tlearn: 1816.1334746\ttotal: 12.1s\tremaining: 2.3s\n",
      "84:\tlearn: 1814.6862108\ttotal: 12.2s\tremaining: 2.15s\n",
      "85:\tlearn: 1813.4559990\ttotal: 12.4s\tremaining: 2.01s\n",
      "86:\tlearn: 1811.7094694\ttotal: 12.5s\tremaining: 1.86s\n",
      "87:\tlearn: 1810.3613601\ttotal: 12.7s\tremaining: 1.73s\n",
      "88:\tlearn: 1808.3052202\ttotal: 12.9s\tremaining: 1.59s\n",
      "89:\tlearn: 1807.4571726\ttotal: 13s\tremaining: 1.44s\n",
      "90:\tlearn: 1806.2806522\ttotal: 13.2s\tremaining: 1.3s\n",
      "91:\tlearn: 1804.9932944\ttotal: 13.4s\tremaining: 1.16s\n",
      "92:\tlearn: 1803.9875375\ttotal: 13.5s\tremaining: 1.01s\n",
      "93:\tlearn: 1803.0456948\ttotal: 13.6s\tremaining: 866ms\n",
      "94:\tlearn: 1801.8792359\ttotal: 13.7s\tremaining: 719ms\n",
      "95:\tlearn: 1800.6369568\ttotal: 13.8s\tremaining: 577ms\n",
      "96:\tlearn: 1799.5544753\ttotal: 14s\tremaining: 432ms\n",
      "97:\tlearn: 1798.1920296\ttotal: 14.1s\tremaining: 287ms\n",
      "98:\tlearn: 1797.0851919\ttotal: 14.2s\tremaining: 143ms\n",
      "99:\tlearn: 1796.4539832\ttotal: 14.2s\tremaining: 0us\n",
      "Learning rate set to 0.5\n",
      "0:\tlearn: 3154.6615993\ttotal: 48.4ms\tremaining: 4.79s\n",
      "1:\tlearn: 2589.7470930\ttotal: 151ms\tremaining: 7.41s\n",
      "2:\tlearn: 2327.8484331\ttotal: 321ms\tremaining: 10.4s\n",
      "3:\tlearn: 2223.3349245\ttotal: 436ms\tremaining: 10.5s\n",
      "4:\tlearn: 2166.6860664\ttotal: 545ms\tremaining: 10.3s\n",
      "5:\tlearn: 2101.5968117\ttotal: 664ms\tremaining: 10.4s\n",
      "6:\tlearn: 2072.0330555\ttotal: 851ms\tremaining: 11.3s\n",
      "7:\tlearn: 2048.1488636\ttotal: 969ms\tremaining: 11.1s\n",
      "8:\tlearn: 2032.9038112\ttotal: 1.08s\tremaining: 10.9s\n",
      "9:\tlearn: 2006.5476800\ttotal: 1.19s\tremaining: 10.7s\n",
      "10:\tlearn: 1996.3758950\ttotal: 1.37s\tremaining: 11.1s\n",
      "11:\tlearn: 1983.7168601\ttotal: 1.48s\tremaining: 10.9s\n",
      "12:\tlearn: 1970.7549040\ttotal: 1.55s\tremaining: 10.4s\n",
      "13:\tlearn: 1962.5123445\ttotal: 1.58s\tremaining: 9.71s\n",
      "14:\tlearn: 1956.1904237\ttotal: 1.7s\tremaining: 9.63s\n",
      "15:\tlearn: 1948.8824883\ttotal: 1.81s\tremaining: 9.48s\n",
      "16:\tlearn: 1945.5421139\ttotal: 1.91s\tremaining: 9.35s\n",
      "17:\tlearn: 1938.7002663\ttotal: 2.1s\tremaining: 9.55s\n",
      "18:\tlearn: 1928.2475036\ttotal: 2.2s\tremaining: 9.39s\n",
      "19:\tlearn: 1924.5767083\ttotal: 2.3s\tremaining: 9.22s\n",
      "20:\tlearn: 1919.0338767\ttotal: 2.4s\tremaining: 9.03s\n",
      "21:\tlearn: 1910.1649307\ttotal: 2.58s\tremaining: 9.16s\n",
      "22:\tlearn: 1905.1835144\ttotal: 2.69s\tremaining: 9.02s\n",
      "23:\tlearn: 1898.4426512\ttotal: 2.81s\tremaining: 8.88s\n",
      "24:\tlearn: 1892.0814699\ttotal: 2.92s\tremaining: 8.76s\n",
      "25:\tlearn: 1886.1375086\ttotal: 3.11s\tremaining: 8.85s\n",
      "26:\tlearn: 1880.4097304\ttotal: 3.21s\tremaining: 8.69s\n",
      "27:\tlearn: 1875.7482509\ttotal: 3.32s\tremaining: 8.55s\n",
      "28:\tlearn: 1872.2793624\ttotal: 3.4s\tremaining: 8.33s\n",
      "29:\tlearn: 1868.7683402\ttotal: 3.44s\tremaining: 8.02s\n",
      "30:\tlearn: 1862.4877156\ttotal: 3.47s\tremaining: 7.73s\n",
      "31:\tlearn: 1857.4142742\ttotal: 3.55s\tremaining: 7.54s\n",
      "32:\tlearn: 1853.1982208\ttotal: 3.72s\tremaining: 7.55s\n",
      "33:\tlearn: 1850.8233685\ttotal: 3.9s\tremaining: 7.57s\n",
      "34:\tlearn: 1847.1669506\ttotal: 4.01s\tremaining: 7.46s\n",
      "35:\tlearn: 1843.5867762\ttotal: 4.2s\tremaining: 7.47s\n",
      "36:\tlearn: 1841.4282431\ttotal: 4.31s\tremaining: 7.34s\n",
      "37:\tlearn: 1838.9472689\ttotal: 4.42s\tremaining: 7.2s\n",
      "38:\tlearn: 1836.0000442\ttotal: 4.59s\tremaining: 7.19s\n",
      "39:\tlearn: 1832.9504546\ttotal: 4.71s\tremaining: 7.06s\n",
      "40:\tlearn: 1827.8180334\ttotal: 4.9s\tremaining: 7.05s\n",
      "41:\tlearn: 1825.8329785\ttotal: 5.1s\tremaining: 7.04s\n",
      "42:\tlearn: 1821.6399479\ttotal: 5.3s\tremaining: 7.03s\n",
      "43:\tlearn: 1818.9500511\ttotal: 5.51s\tremaining: 7.01s\n",
      "44:\tlearn: 1815.1370345\ttotal: 5.7s\tremaining: 6.97s\n",
      "45:\tlearn: 1813.7272264\ttotal: 5.9s\tremaining: 6.92s\n",
      "46:\tlearn: 1811.5361970\ttotal: 6.09s\tremaining: 6.87s\n",
      "47:\tlearn: 1808.4813596\ttotal: 6.29s\tremaining: 6.82s\n",
      "48:\tlearn: 1806.7047958\ttotal: 6.5s\tremaining: 6.76s\n",
      "49:\tlearn: 1803.8609934\ttotal: 6.7s\tremaining: 6.7s\n",
      "50:\tlearn: 1802.0423186\ttotal: 6.9s\tremaining: 6.63s\n",
      "51:\tlearn: 1799.8186796\ttotal: 7.1s\tremaining: 6.55s\n",
      "52:\tlearn: 1798.1753635\ttotal: 7.29s\tremaining: 6.47s\n",
      "53:\tlearn: 1796.2994482\ttotal: 7.49s\tremaining: 6.38s\n",
      "2:\tlearn: 2465.7766760\ttotal: 421ms\tremaining: 13.6s\n",
      "3:\tlearn: 2344.4323472\ttotal: 529ms\tremaining: 12.7s\n",
      "4:\tlearn: 2261.3015461\ttotal: 645ms\tremaining: 12.3s\n",
      "5:\tlearn: 2217.1502437\ttotal: 748ms\tremaining: 11.7s\n",
      "6:\tlearn: 2181.5996728\ttotal: 862ms\tremaining: 11.5s\n",
      "7:\tlearn: 2154.3018042\ttotal: 1.05s\tremaining: 12.1s\n",
      "8:\tlearn: 2136.6583990\ttotal: 1.15s\tremaining: 11.7s\n",
      "9:\tlearn: 2109.5053457\ttotal: 1.26s\tremaining: 11.3s\n",
      "10:\tlearn: 2086.8640400\ttotal: 1.36s\tremaining: 11s\n",
      "11:\tlearn: 2065.9016529\ttotal: 1.48s\tremaining: 10.9s\n",
      "12:\tlearn: 2052.9600854\ttotal: 1.51s\tremaining: 10.1s\n",
      "13:\tlearn: 2041.9078762\ttotal: 1.6s\tremaining: 9.85s\n",
      "14:\tlearn: 2030.9326744\ttotal: 1.68s\tremaining: 9.54s\n",
      "15:\tlearn: 2021.4705700\ttotal: 1.85s\tremaining: 9.74s\n",
      "16:\tlearn: 2010.3365314\ttotal: 1.97s\tremaining: 9.62s\n",
      "17:\tlearn: 2002.9209706\ttotal: 2.08s\tremaining: 9.47s\n",
      "18:\tlearn: 1997.8387970\ttotal: 2.19s\tremaining: 9.34s\n",
      "19:\tlearn: 1990.7767526\ttotal: 2.38s\tremaining: 9.5s\n",
      "20:\tlearn: 1984.1968150\ttotal: 2.5s\tremaining: 9.39s\n",
      "21:\tlearn: 1977.5907236\ttotal: 2.69s\tremaining: 9.55s\n",
      "22:\tlearn: 1971.8436411\ttotal: 2.87s\tremaining: 9.61s\n",
      "23:\tlearn: 1963.0295987\ttotal: 2.9s\tremaining: 9.18s\n",
      "24:\tlearn: 1954.7281330\ttotal: 3.01s\tremaining: 9.03s\n",
      "25:\tlearn: 1951.0832243\ttotal: 3.05s\tremaining: 8.68s\n",
      "26:\tlearn: 1947.4462270\ttotal: 3.08s\tremaining: 8.32s\n",
      "27:\tlearn: 1942.6993087\ttotal: 3.15s\tremaining: 8.09s\n",
      "28:\tlearn: 1939.2703042\ttotal: 3.24s\tremaining: 7.94s\n",
      "29:\tlearn: 1935.5409585\ttotal: 3.38s\tremaining: 7.88s\n",
      "30:\tlearn: 1929.1530959\ttotal: 3.58s\tremaining: 7.96s\n",
      "31:\tlearn: 1922.6498098\ttotal: 3.69s\tremaining: 7.85s\n",
      "32:\tlearn: 1920.7013474\ttotal: 3.89s\tremaining: 7.89s\n",
      "33:\tlearn: 1917.8771404\ttotal: 4.07s\tremaining: 7.91s\n",
      "34:\tlearn: 1914.6734028\ttotal: 4.27s\tremaining: 7.92s\n",
      "35:\tlearn: 1912.2431869\ttotal: 4.38s\tremaining: 7.78s\n",
      "36:\tlearn: 1908.0392849\ttotal: 4.48s\tremaining: 7.63s\n",
      "37:\tlearn: 1905.5345220\ttotal: 4.6s\tremaining: 7.51s\n",
      "38:\tlearn: 1901.8820250\ttotal: 4.72s\tremaining: 7.38s\n",
      "39:\tlearn: 1897.7960032\ttotal: 4.83s\tremaining: 7.25s\n",
      "40:\tlearn: 1895.1237566\ttotal: 5.03s\tremaining: 7.23s\n",
      "41:\tlearn: 1891.9809628\ttotal: 5.21s\tremaining: 7.2s\n",
      "42:\tlearn: 1888.4150338\ttotal: 5.33s\tremaining: 7.06s\n",
      "43:\tlearn: 1885.9523777\ttotal: 5.51s\tremaining: 7.01s\n",
      "44:\tlearn: 1882.2518267\ttotal: 5.62s\tremaining: 6.87s\n",
      "45:\tlearn: 1880.1729174\ttotal: 5.73s\tremaining: 6.72s\n",
      "46:\tlearn: 1877.7658733\ttotal: 5.92s\tremaining: 6.67s\n",
      "47:\tlearn: 1875.6982329\ttotal: 6.02s\tremaining: 6.52s\n",
      "48:\tlearn: 1873.3713665\ttotal: 6.2s\tremaining: 6.46s\n",
      "49:\tlearn: 1871.0210700\ttotal: 6.31s\tremaining: 6.31s\n",
      "50:\tlearn: 1868.2956475\ttotal: 6.51s\tremaining: 6.25s\n",
      "51:\tlearn: 1865.7815130\ttotal: 6.7s\tremaining: 6.18s\n",
      "52:\tlearn: 1863.0209218\ttotal: 6.82s\tremaining: 6.04s\n",
      "53:\tlearn: 1860.6749445\ttotal: 6.93s\tremaining: 5.9s\n",
      "54:\tlearn: 1858.8544766\ttotal: 7.12s\tremaining: 5.83s\n",
      "55:\tlearn: 1856.0272770\ttotal: 7.31s\tremaining: 5.75s\n",
      "56:\tlearn: 1852.7347954\ttotal: 7.5s\tremaining: 5.66s\n",
      "57:\tlearn: 1851.7098026\ttotal: 7.61s\tremaining: 5.51s\n",
      "58:\tlearn: 1849.3671457\ttotal: 7.8s\tremaining: 5.42s\n",
      "59:\tlearn: 1847.4114236\ttotal: 7.91s\tremaining: 5.27s\n",
      "60:\tlearn: 1845.5409890\ttotal: 8.1s\tremaining: 5.18s\n",
      "61:\tlearn: 1844.2604530\ttotal: 8.21s\tremaining: 5.03s\n",
      "62:\tlearn: 1842.6240475\ttotal: 8.4s\tremaining: 4.93s\n",
      "63:\tlearn: 1840.7949720\ttotal: 8.58s\tremaining: 4.83s\n",
      "64:\tlearn: 1839.3482163\ttotal: 8.7s\tremaining: 4.69s\n",
      "65:\tlearn: 1837.5797994\ttotal: 8.89s\tremaining: 4.58s\n",
      "66:\tlearn: 1835.8278175\ttotal: 9.08s\tremaining: 4.47s\n",
      "67:\tlearn: 1833.5329618\ttotal: 9.18s\tremaining: 4.32s\n",
      "68:\tlearn: 1831.9090448\ttotal: 9.29s\tremaining: 4.17s\n",
      "69:\tlearn: 1830.1148236\ttotal: 9.4s\tremaining: 4.03s\n",
      "70:\tlearn: 1827.9441038\ttotal: 9.6s\tremaining: 3.92s\n",
      "71:\tlearn: 1826.4372505\ttotal: 9.79s\tremaining: 3.81s\n",
      "72:\tlearn: 1825.3239199\ttotal: 9.98s\tremaining: 3.69s\n",
      "73:\tlearn: 1823.7629808\ttotal: 10.1s\tremaining: 3.54s\n",
      "74:\tlearn: 1822.3147048\ttotal: 10.2s\tremaining: 3.4s\n",
      "75:\tlearn: 1820.8817773\ttotal: 10.4s\tremaining: 3.28s\n",
      "76:\tlearn: 1819.1644566\ttotal: 10.5s\tremaining: 3.13s\n",
      "77:\tlearn: 1818.4140349\ttotal: 10.6s\tremaining: 2.99s\n",
      "78:\tlearn: 1817.3078154\ttotal: 10.8s\tremaining: 2.87s\n",
      "79:\tlearn: 1815.9333209\ttotal: 10.9s\tremaining: 2.72s\n",
      "80:\tlearn: 1815.1447182\ttotal: 11.1s\tremaining: 2.6s\n",
      "81:\tlearn: 1813.9712012\ttotal: 11.2s\tremaining: 2.46s\n",
      "82:\tlearn: 1812.9710738\ttotal: 11.4s\tremaining: 2.34s\n",
      "83:\tlearn: 1811.5780446\ttotal: 11.5s\tremaining: 2.19s\n",
      "84:\tlearn: 1809.9387857\ttotal: 11.7s\tremaining: 2.07s\n",
      "85:\tlearn: 1808.7774446\ttotal: 11.8s\tremaining: 1.92s\n",
      "86:\tlearn: 1807.6068961\ttotal: 11.8s\tremaining: 1.77s\n",
      "87:\tlearn: 1806.9133270\ttotal: 11.9s\tremaining: 1.62s\n",
      "88:\tlearn: 1805.9138077\ttotal: 11.9s\tremaining: 1.48s\n",
      "89:\tlearn: 1805.4162540\ttotal: 12s\tremaining: 1.34s\n",
      "90:\tlearn: 1804.1120662\ttotal: 12.2s\tremaining: 1.21s\n",
      "91:\tlearn: 1801.2779797\ttotal: 12.3s\tremaining: 1.07s\n",
      "92:\tlearn: 1799.7976453\ttotal: 12.5s\tremaining: 938ms\n",
      "93:\tlearn: 1798.7295063\ttotal: 12.6s\tremaining: 807ms\n",
      "94:\tlearn: 1797.6894974\ttotal: 12.7s\tremaining: 671ms\n",
      "95:\tlearn: 1796.7101902\ttotal: 12.8s\tremaining: 532ms\n",
      "96:\tlearn: 1795.1338337\ttotal: 12.8s\tremaining: 397ms\n",
      "97:\tlearn: 1793.4230775\ttotal: 12.9s\tremaining: 263ms\n",
      "98:\tlearn: 1792.3628158\ttotal: 13s\tremaining: 131ms\n",
      "99:\tlearn: 1791.2403116\ttotal: 13s\tremaining: 0us\n",
      "Learning rate set to 0.5\n",
      "0:\tlearn: 3153.9289013\ttotal: 117ms\tremaining: 11.6s\n",
      "1:\tlearn: 2597.1114835\ttotal: 235ms\tremaining: 11.5s\n",
      "2:\tlearn: 2337.6526557\ttotal: 347ms\tremaining: 11.2s\n",
      "3:\tlearn: 2228.3957365\ttotal: 552ms\tremaining: 13.3s\n",
      "4:\tlearn: 2162.8192550\ttotal: 726ms\tremaining: 13.8s\n",
      "5:\tlearn: 2122.3299667\ttotal: 924ms\tremaining: 14.5s\n",
      "6:\tlearn: 2088.7154978\ttotal: 1.12s\tremaining: 14.9s\n",
      "7:\tlearn: 2064.4008343\ttotal: 1.33s\tremaining: 15.3s\n",
      "8:\tlearn: 2027.2088511\ttotal: 1.52s\tremaining: 15.4s\n",
      "9:\tlearn: 2012.9944964\ttotal: 1.64s\tremaining: 14.8s\n",
      "10:\tlearn: 1995.9195880\ttotal: 1.76s\tremaining: 14.2s\n",
      "11:\tlearn: 1986.6625954\ttotal: 1.83s\tremaining: 13.5s\n",
      "12:\tlearn: 1975.6261931\ttotal: 1.87s\tremaining: 12.5s\n",
      "13:\tlearn: 1966.3607008\ttotal: 1.93s\tremaining: 11.8s\n",
      "14:\tlearn: 1960.2255848\ttotal: 2.03s\tremaining: 11.5s\n",
      "15:\tlearn: 1951.7296568\ttotal: 2.22s\tremaining: 11.7s\n",
      "16:\tlearn: 1947.7234894\ttotal: 2.42s\tremaining: 11.8s\n",
      "17:\tlearn: 1945.9292845\ttotal: 2.53s\tremaining: 11.5s\n",
      "18:\tlearn: 1938.3818141\ttotal: 2.64s\tremaining: 11.2s\n",
      "19:\tlearn: 1928.8652607\ttotal: 2.75s\tremaining: 11s\n",
      "20:\tlearn: 1924.3941642\ttotal: 2.86s\tremaining: 10.8s\n",
      "21:\tlearn: 1917.3630378\ttotal: 2.97s\tremaining: 10.5s\n",
      "22:\tlearn: 1909.6487191\ttotal: 3.17s\tremaining: 10.6s\n",
      "23:\tlearn: 1906.2220138\ttotal: 3.28s\tremaining: 10.4s\n",
      "24:\tlearn: 1900.7470256\ttotal: 3.46s\tremaining: 10.4s\n",
      "25:\tlearn: 1895.9565582\ttotal: 3.58s\tremaining: 10.2s\n",
      "26:\tlearn: 1889.3539362\ttotal: 3.76s\tremaining: 10.2s\n",
      "27:\tlearn: 1885.4699429\ttotal: 3.87s\tremaining: 9.95s\n",
      "28:\tlearn: 1880.4274971\ttotal: 4.07s\tremaining: 9.96s\n",
      "29:\tlearn: 1873.7673439\ttotal: 4.18s\tremaining: 9.75s\n",
      "30:\tlearn: 1868.8801446\ttotal: 4.36s\tremaining: 9.71s\n",
      "31:\tlearn: 1865.4697599\ttotal: 4.47s\tremaining: 9.5s\n",
      "32:\tlearn: 1861.0660092\ttotal: 4.66s\tremaining: 9.46s\n",
      "33:\tlearn: 1857.2789213\ttotal: 4.78s\tremaining: 9.27s\n",
      "34:\tlearn: 1853.9097156\ttotal: 4.9s\tremaining: 9.1s\n",
      "35:\tlearn: 1850.7469477\ttotal: 5.12s\tremaining: 9.09s\n",
      "36:\tlearn: 1845.7104208\ttotal: 5.32s\tremaining: 9.05s\n",
      "37:\tlearn: 1841.9624305\ttotal: 5.5s\tremaining: 8.97s\n",
      "38:\tlearn: 1836.0505879\ttotal: 5.61s\tremaining: 8.78s\n",
      "39:\tlearn: 1833.0051015\ttotal: 5.8s\tremaining: 8.7s\n",
      "40:\tlearn: 1829.5419514\ttotal: 5.91s\tremaining: 8.51s\n",
      "41:\tlearn: 1825.3465608\ttotal: 6.1s\tremaining: 8.43s\n",
      "42:\tlearn: 1822.7999572\ttotal: 6.21s\tremaining: 8.24s\n",
      "43:\tlearn: 1820.9118600\ttotal: 6.32s\tremaining: 8.04s\n",
      "44:\tlearn: 1816.7320919\ttotal: 6.43s\tremaining: 7.86s\n",
      "45:\tlearn: 1814.1457161\ttotal: 6.62s\tremaining: 7.77s\n",
      "46:\tlearn: 1809.9036651\ttotal: 6.73s\tremaining: 7.59s\n",
      "47:\tlearn: 1807.1641358\ttotal: 6.92s\tremaining: 7.5s\n",
      "48:\tlearn: 1805.0941491\ttotal: 7.04s\tremaining: 7.32s\n",
      "49:\tlearn: 1803.2566220\ttotal: 7.14s\tremaining: 7.14s\n",
      "50:\tlearn: 1798.9433376\ttotal: 7.25s\tremaining: 6.97s\n",
      "51:\tlearn: 1795.1406195\ttotal: 7.45s\tremaining: 6.88s\n",
      "52:\tlearn: 1791.6513643\ttotal: 7.66s\tremaining: 6.79s\n",
      "53:\tlearn: 1789.0416866\ttotal: 7.87s\tremaining: 6.7s\n",
      "3:\tlearn: 2315.9468168\ttotal: 591ms\tremaining: 14.2s\n",
      "4:\tlearn: 2251.1456479\ttotal: 775ms\tremaining: 14.7s\n",
      "5:\tlearn: 2203.4463585\ttotal: 971ms\tremaining: 15.2s\n",
      "6:\tlearn: 2177.6077592\ttotal: 1.07s\tremaining: 14.3s\n",
      "7:\tlearn: 2144.2852888\ttotal: 1.27s\tremaining: 14.6s\n",
      "8:\tlearn: 2127.3299217\ttotal: 1.38s\tremaining: 13.9s\n",
      "9:\tlearn: 2105.1381641\ttotal: 1.48s\tremaining: 13.3s\n",
      "10:\tlearn: 2082.1165788\ttotal: 1.61s\tremaining: 13s\n",
      "11:\tlearn: 2068.0125661\ttotal: 1.72s\tremaining: 12.6s\n",
      "12:\tlearn: 2053.5997514\ttotal: 1.91s\tremaining: 12.8s\n",
      "13:\tlearn: 2042.2403011\ttotal: 2.02s\tremaining: 12.4s\n",
      "14:\tlearn: 2029.1783721\ttotal: 2.21s\tremaining: 12.5s\n",
      "15:\tlearn: 2020.3511075\ttotal: 2.4s\tremaining: 12.6s\n",
      "16:\tlearn: 2011.6260319\ttotal: 2.51s\tremaining: 12.3s\n",
      "17:\tlearn: 2008.2367538\ttotal: 2.62s\tremaining: 11.9s\n",
      "18:\tlearn: 1999.6860188\ttotal: 2.8s\tremaining: 11.9s\n",
      "19:\tlearn: 1992.2245668\ttotal: 2.89s\tremaining: 11.6s\n",
      "20:\tlearn: 1984.4200743\ttotal: 3.08s\tremaining: 11.6s\n",
      "21:\tlearn: 1978.8352799\ttotal: 3.2s\tremaining: 11.4s\n",
      "22:\tlearn: 1973.1696709\ttotal: 3.32s\tremaining: 11.1s\n",
      "23:\tlearn: 1968.8341182\ttotal: 3.5s\tremaining: 11.1s\n",
      "24:\tlearn: 1961.9577102\ttotal: 3.7s\tremaining: 11.1s\n",
      "25:\tlearn: 1956.5432828\ttotal: 3.81s\tremaining: 10.8s\n",
      "26:\tlearn: 1952.1628041\ttotal: 4s\tremaining: 10.8s\n",
      "27:\tlearn: 1946.4689321\ttotal: 4.18s\tremaining: 10.8s\n",
      "28:\tlearn: 1942.3811446\ttotal: 4.3s\tremaining: 10.5s\n",
      "29:\tlearn: 1938.0613969\ttotal: 4.49s\tremaining: 10.5s\n",
      "30:\tlearn: 1933.9450428\ttotal: 4.68s\tremaining: 10.4s\n",
      "31:\tlearn: 1929.0222537\ttotal: 4.88s\tremaining: 10.4s\n",
      "32:\tlearn: 1923.7233083\ttotal: 4.98s\tremaining: 10.1s\n",
      "33:\tlearn: 1918.7626156\ttotal: 5.09s\tremaining: 9.87s\n",
      "34:\tlearn: 1913.9295928\ttotal: 5.2s\tremaining: 9.66s\n",
      "35:\tlearn: 1911.2026420\ttotal: 5.32s\tremaining: 9.46s\n",
      "36:\tlearn: 1907.3920545\ttotal: 5.51s\tremaining: 9.38s\n",
      "37:\tlearn: 1902.5596698\ttotal: 5.7s\tremaining: 9.3s\n",
      "38:\tlearn: 1899.9251737\ttotal: 5.82s\tremaining: 9.1s\n",
      "39:\tlearn: 1897.4693817\ttotal: 6.01s\tremaining: 9.01s\n",
      "40:\tlearn: 1895.4076444\ttotal: 6.2s\tremaining: 8.91s\n",
      "41:\tlearn: 1891.4324430\ttotal: 6.3s\tremaining: 8.7s\n",
      "42:\tlearn: 1887.8093814\ttotal: 6.41s\tremaining: 8.5s\n",
      "43:\tlearn: 1884.6773888\ttotal: 6.6s\tremaining: 8.4s\n",
      "44:\tlearn: 1881.7215932\ttotal: 6.8s\tremaining: 8.31s\n",
      "45:\tlearn: 1880.1382784\ttotal: 6.98s\tremaining: 8.19s\n",
      "46:\tlearn: 1878.5555712\ttotal: 7.09s\tremaining: 8s\n",
      "47:\tlearn: 1877.1999574\ttotal: 7.2s\tremaining: 7.8s\n",
      "48:\tlearn: 1875.5398046\ttotal: 7.37s\tremaining: 7.67s\n",
      "49:\tlearn: 1873.4062495\ttotal: 7.48s\tremaining: 7.48s\n",
      "50:\tlearn: 1871.5277398\ttotal: 7.58s\tremaining: 7.28s\n",
      "51:\tlearn: 1867.8527978\ttotal: 7.78s\tremaining: 7.18s\n",
      "52:\tlearn: 1865.7308244\ttotal: 7.89s\tremaining: 7s\n",
      "53:\tlearn: 1863.4271419\ttotal: 8s\tremaining: 6.82s\n",
      "54:\tlearn: 1859.6412945\ttotal: 8.19s\tremaining: 6.7s\n",
      "55:\tlearn: 1856.4521380\ttotal: 8.31s\tremaining: 6.53s\n",
      "56:\tlearn: 1854.5106535\ttotal: 8.5s\tremaining: 6.41s\n",
      "57:\tlearn: 1852.5578827\ttotal: 8.61s\tremaining: 6.24s\n",
      "58:\tlearn: 1850.7823613\ttotal: 8.69s\tremaining: 6.04s\n",
      "59:\tlearn: 1848.6978458\ttotal: 8.75s\tremaining: 5.83s\n",
      "60:\tlearn: 1846.9141619\ttotal: 8.78s\tremaining: 5.61s\n",
      "61:\tlearn: 1845.0242298\ttotal: 8.86s\tremaining: 5.43s\n",
      "62:\tlearn: 1843.3114605\ttotal: 9.03s\tremaining: 5.3s\n",
      "63:\tlearn: 1841.6951950\ttotal: 9.14s\tremaining: 5.14s\n",
      "64:\tlearn: 1840.2823059\ttotal: 9.34s\tremaining: 5.03s\n",
      "65:\tlearn: 1839.0166716\ttotal: 9.53s\tremaining: 4.91s\n",
      "66:\tlearn: 1837.8098310\ttotal: 9.64s\tremaining: 4.75s\n",
      "67:\tlearn: 1836.8357902\ttotal: 9.73s\tremaining: 4.58s\n",
      "68:\tlearn: 1835.1558994\ttotal: 9.76s\tremaining: 4.38s\n",
      "69:\tlearn: 1832.8762144\ttotal: 9.85s\tremaining: 4.22s\n",
      "70:\tlearn: 1830.8232183\ttotal: 9.95s\tremaining: 4.06s\n",
      "71:\tlearn: 1828.2318307\ttotal: 10s\tremaining: 3.9s\n",
      "72:\tlearn: 1827.2661229\ttotal: 10.1s\tremaining: 3.72s\n",
      "73:\tlearn: 1826.2206501\ttotal: 10.1s\tremaining: 3.54s\n",
      "74:\tlearn: 1825.1750218\ttotal: 10.1s\tremaining: 3.37s\n",
      "75:\tlearn: 1824.0414653\ttotal: 10.2s\tremaining: 3.22s\n",
      "76:\tlearn: 1822.8337370\ttotal: 10.3s\tremaining: 3.08s\n",
      "77:\tlearn: 1822.0444980\ttotal: 10.4s\tremaining: 2.93s\n",
      "78:\tlearn: 1820.7114164\ttotal: 10.5s\tremaining: 2.79s\n",
      "79:\tlearn: 1819.5467412\ttotal: 10.6s\tremaining: 2.65s\n",
      "80:\tlearn: 1818.0642180\ttotal: 10.7s\tremaining: 2.51s\n",
      "81:\tlearn: 1816.3714264\ttotal: 10.8s\tremaining: 2.37s\n",
      "82:\tlearn: 1814.7741409\ttotal: 10.9s\tremaining: 2.23s\n",
      "83:\tlearn: 1814.0063437\ttotal: 11s\tremaining: 2.1s\n",
      "84:\tlearn: 1812.9822746\ttotal: 11.1s\tremaining: 1.96s\n",
      "85:\tlearn: 1810.5002679\ttotal: 11.2s\tremaining: 1.83s\n",
      "86:\tlearn: 1808.5988068\ttotal: 11.3s\tremaining: 1.69s\n",
      "87:\tlearn: 1806.8743592\ttotal: 11.4s\tremaining: 1.56s\n",
      "88:\tlearn: 1805.4114753\ttotal: 11.5s\tremaining: 1.42s\n",
      "89:\tlearn: 1804.2929432\ttotal: 11.6s\tremaining: 1.29s\n",
      "90:\tlearn: 1803.1253921\ttotal: 11.6s\tremaining: 1.15s\n",
      "91:\tlearn: 1802.1127979\ttotal: 11.7s\tremaining: 1.01s\n",
      "92:\tlearn: 1800.9686627\ttotal: 11.7s\tremaining: 880ms\n",
      "93:\tlearn: 1800.3528614\ttotal: 11.7s\tremaining: 748ms\n",
      "94:\tlearn: 1799.0318993\ttotal: 11.8s\tremaining: 623ms\n",
      "95:\tlearn: 1797.5495867\ttotal: 11.9s\tremaining: 497ms\n",
      "96:\tlearn: 1797.1292864\ttotal: 12s\tremaining: 372ms\n",
      "97:\tlearn: 1795.9589369\ttotal: 12.1s\tremaining: 248ms\n",
      "98:\tlearn: 1795.4112944\ttotal: 12.2s\tremaining: 124ms\n",
      "99:\tlearn: 1794.6212663\ttotal: 12.3s\tremaining: 0us\n",
      "Learning rate set to 0.5\n",
      "0:\tlearn: 3141.3889258\ttotal: 107ms\tremaining: 10.6s\n",
      "1:\tlearn: 2574.6158104\ttotal: 225ms\tremaining: 11s\n",
      "2:\tlearn: 2330.9958767\ttotal: 426ms\tremaining: 13.8s\n",
      "3:\tlearn: 2219.5219109\ttotal: 538ms\tremaining: 12.9s\n",
      "4:\tlearn: 2150.4098552\ttotal: 648ms\tremaining: 12.3s\n",
      "5:\tlearn: 2098.1275038\ttotal: 756ms\tremaining: 11.8s\n",
      "6:\tlearn: 2070.0731894\ttotal: 872ms\tremaining: 11.6s\n",
      "7:\tlearn: 2045.5706287\ttotal: 982ms\tremaining: 11.3s\n",
      "8:\tlearn: 2032.4952365\ttotal: 1.17s\tremaining: 11.8s\n",
      "9:\tlearn: 2016.4530446\ttotal: 1.29s\tremaining: 11.6s\n",
      "10:\tlearn: 1995.5455600\ttotal: 1.48s\tremaining: 12s\n",
      "11:\tlearn: 1982.9441371\ttotal: 1.68s\tremaining: 12.3s\n",
      "12:\tlearn: 1978.0934056\ttotal: 1.78s\tremaining: 11.9s\n",
      "13:\tlearn: 1967.7073523\ttotal: 1.97s\tremaining: 12.1s\n",
      "14:\tlearn: 1957.3082552\ttotal: 2.08s\tremaining: 11.8s\n",
      "15:\tlearn: 1942.8030180\ttotal: 2.19s\tremaining: 11.5s\n",
      "16:\tlearn: 1933.4406287\ttotal: 2.38s\tremaining: 11.6s\n",
      "17:\tlearn: 1926.5969828\ttotal: 2.49s\tremaining: 11.3s\n",
      "18:\tlearn: 1920.2874202\ttotal: 2.68s\tremaining: 11.4s\n",
      "19:\tlearn: 1910.8438163\ttotal: 2.88s\tremaining: 11.5s\n",
      "20:\tlearn: 1904.6644761\ttotal: 3.08s\tremaining: 11.6s\n",
      "21:\tlearn: 1900.0084571\ttotal: 3.27s\tremaining: 11.6s\n",
      "22:\tlearn: 1896.1448476\ttotal: 3.38s\tremaining: 11.3s\n",
      "23:\tlearn: 1892.1140582\ttotal: 3.49s\tremaining: 11.1s\n",
      "24:\tlearn: 1886.9846516\ttotal: 3.6s\tremaining: 10.8s\n",
      "25:\tlearn: 1882.6156302\ttotal: 3.71s\tremaining: 10.6s\n",
      "26:\tlearn: 1878.5968876\ttotal: 3.89s\tremaining: 10.5s\n",
      "27:\tlearn: 1873.1783313\ttotal: 4s\tremaining: 10.3s\n",
      "28:\tlearn: 1868.0108658\ttotal: 4.2s\tremaining: 10.3s\n",
      "29:\tlearn: 1862.8379399\ttotal: 4.41s\tremaining: 10.3s\n",
      "30:\tlearn: 1859.6447246\ttotal: 4.62s\tremaining: 10.3s\n",
      "31:\tlearn: 1853.9693722\ttotal: 4.82s\tremaining: 10.2s\n",
      "32:\tlearn: 1850.8233945\ttotal: 5.02s\tremaining: 10.2s\n",
      "33:\tlearn: 1846.7161320\ttotal: 5.22s\tremaining: 10.1s\n",
      "34:\tlearn: 1844.3958819\ttotal: 5.42s\tremaining: 10.1s\n",
      "35:\tlearn: 1842.4942920\ttotal: 5.61s\tremaining: 9.97s\n",
      "36:\tlearn: 1838.7876025\ttotal: 5.74s\tremaining: 9.77s\n",
      "37:\tlearn: 1835.4128884\ttotal: 5.94s\tremaining: 9.69s\n",
      "38:\tlearn: 1830.7565441\ttotal: 6.14s\tremaining: 9.61s\n",
      "39:\tlearn: 1829.3919559\ttotal: 6.26s\tremaining: 9.39s\n",
      "40:\tlearn: 1827.1134671\ttotal: 6.38s\tremaining: 9.18s\n",
      "41:\tlearn: 1824.3226809\ttotal: 6.57s\tremaining: 9.08s\n",
      "42:\tlearn: 1821.3746665\ttotal: 6.78s\tremaining: 8.99s\n",
      "43:\tlearn: 1817.2261196\ttotal: 6.98s\tremaining: 8.89s\n",
      "44:\tlearn: 1814.0756242\ttotal: 7.11s\tremaining: 8.69s\n",
      "45:\tlearn: 1811.7391058\ttotal: 7.3s\tremaining: 8.57s\n",
      "46:\tlearn: 1809.4017068\ttotal: 7.51s\tremaining: 8.47s\n",
      "47:\tlearn: 1807.8363075\ttotal: 7.63s\tremaining: 8.27s\n",
      "48:\tlearn: 1806.4490405\ttotal: 7.82s\tremaining: 8.14s\n",
      "49:\tlearn: 1803.9773564\ttotal: 8.02s\tremaining: 8.02s\n",
      "50:\tlearn: 1802.1291682\ttotal: 8.22s\tremaining: 7.9s\n",
      "51:\tlearn: 1800.2516716\ttotal: 8.51s\tremaining: 7.85s\n",
      "52:\tlearn: 1796.3203133\ttotal: 8.71s\tremaining: 7.72s\n",
      "53:\tlearn: 1793.2932800\ttotal: 8.92s\tremaining: 7.6s\n",
      "54:\tlearn: 1790.4757748\ttotal: 9.21s\tremaining: 7.53s\n",
      "3:\tlearn: 2216.9447541\ttotal: 531ms\tremaining: 12.7s\n",
      "4:\tlearn: 2160.9360869\ttotal: 724ms\tremaining: 13.8s\n",
      "5:\tlearn: 2096.0469039\ttotal: 933ms\tremaining: 14.6s\n",
      "6:\tlearn: 2072.6871121\ttotal: 1.13s\tremaining: 15.1s\n",
      "7:\tlearn: 2038.3427294\ttotal: 1.32s\tremaining: 15.2s\n",
      "8:\tlearn: 2019.5864607\ttotal: 1.43s\tremaining: 14.5s\n",
      "9:\tlearn: 2005.7705682\ttotal: 1.54s\tremaining: 13.8s\n",
      "10:\tlearn: 1984.9418422\ttotal: 1.72s\tremaining: 13.9s\n",
      "11:\tlearn: 1975.4085092\ttotal: 1.75s\tremaining: 12.9s\n",
      "12:\tlearn: 1963.2247184\ttotal: 1.79s\tremaining: 12s\n",
      "13:\tlearn: 1955.6001120\ttotal: 1.82s\tremaining: 11.2s\n",
      "14:\tlearn: 1944.8433135\ttotal: 1.94s\tremaining: 11s\n",
      "15:\tlearn: 1934.3344932\ttotal: 2.05s\tremaining: 10.8s\n",
      "16:\tlearn: 1927.7869014\ttotal: 2.24s\tremaining: 10.9s\n",
      "17:\tlearn: 1920.0874073\ttotal: 2.44s\tremaining: 11.1s\n",
      "18:\tlearn: 1914.8039374\ttotal: 2.56s\tremaining: 10.9s\n",
      "19:\tlearn: 1908.3259950\ttotal: 2.74s\tremaining: 10.9s\n",
      "20:\tlearn: 1903.0283933\ttotal: 2.94s\tremaining: 11.1s\n",
      "21:\tlearn: 1898.2096787\ttotal: 3.06s\tremaining: 10.9s\n",
      "22:\tlearn: 1893.5842768\ttotal: 3.35s\tremaining: 11.2s\n",
      "23:\tlearn: 1886.9839204\ttotal: 3.55s\tremaining: 11.2s\n",
      "24:\tlearn: 1879.9971416\ttotal: 3.67s\tremaining: 11s\n",
      "25:\tlearn: 1874.1176575\ttotal: 3.74s\tremaining: 10.6s\n",
      "26:\tlearn: 1869.4797195\ttotal: 3.77s\tremaining: 10.2s\n",
      "27:\tlearn: 1863.2204054\ttotal: 3.85s\tremaining: 9.9s\n",
      "28:\tlearn: 1859.3567062\ttotal: 4.01s\tremaining: 9.83s\n",
      "29:\tlearn: 1856.2986806\ttotal: 4.22s\tremaining: 9.85s\n",
      "30:\tlearn: 1853.2831173\ttotal: 4.4s\tremaining: 9.79s\n",
      "31:\tlearn: 1848.9489752\ttotal: 4.5s\tremaining: 9.57s\n",
      "32:\tlearn: 1843.8995698\ttotal: 4.62s\tremaining: 9.37s\n",
      "33:\tlearn: 1841.8103982\ttotal: 4.8s\tremaining: 9.31s\n",
      "34:\tlearn: 1838.6496448\ttotal: 4.91s\tremaining: 9.11s\n",
      "35:\tlearn: 1836.6315480\ttotal: 5.02s\tremaining: 8.92s\n",
      "36:\tlearn: 1833.0577724\ttotal: 5.21s\tremaining: 8.87s\n",
      "37:\tlearn: 1827.9682689\ttotal: 5.41s\tremaining: 8.82s\n",
      "38:\tlearn: 1824.4591337\ttotal: 5.61s\tremaining: 8.77s\n",
      "39:\tlearn: 1819.9587979\ttotal: 5.81s\tremaining: 8.71s\n",
      "40:\tlearn: 1816.2416909\ttotal: 6.02s\tremaining: 8.66s\n",
      "41:\tlearn: 1814.5859766\ttotal: 6.14s\tremaining: 8.47s\n",
      "42:\tlearn: 1812.2055130\ttotal: 6.32s\tremaining: 8.38s\n",
      "43:\tlearn: 1809.6108700\ttotal: 6.52s\tremaining: 8.29s\n",
      "44:\tlearn: 1805.5282497\ttotal: 6.72s\tremaining: 8.21s\n",
      "45:\tlearn: 1802.1042705\ttotal: 6.92s\tremaining: 8.12s\n",
      "46:\tlearn: 1800.9976722\ttotal: 7.03s\tremaining: 7.93s\n",
      "47:\tlearn: 1798.9134926\ttotal: 7.23s\tremaining: 7.83s\n",
      "48:\tlearn: 1795.2907494\ttotal: 7.43s\tremaining: 7.73s\n",
      "49:\tlearn: 1792.2350419\ttotal: 7.71s\tremaining: 7.71s\n",
      "50:\tlearn: 1789.8542745\ttotal: 7.92s\tremaining: 7.61s\n",
      "51:\tlearn: 1787.6902139\ttotal: 8.12s\tremaining: 7.49s\n",
      "52:\tlearn: 1784.9510400\ttotal: 8.31s\tremaining: 7.37s\n",
      "53:\tlearn: 1781.1099859\ttotal: 8.42s\tremaining: 7.17s\n",
      "54:\tlearn: 1779.0058074\ttotal: 8.53s\tremaining: 6.98s\n",
      "55:\tlearn: 1776.4408194\ttotal: 8.64s\tremaining: 6.79s\n",
      "56:\tlearn: 1774.3456481\ttotal: 8.75s\tremaining: 6.6s\n",
      "57:\tlearn: 1771.1052091\ttotal: 8.94s\tremaining: 6.47s\n",
      "58:\tlearn: 1769.1484000\ttotal: 9.14s\tremaining: 6.35s\n",
      "59:\tlearn: 1768.0447376\ttotal: 9.34s\tremaining: 6.22s\n",
      "60:\tlearn: 1765.6340687\ttotal: 9.45s\tremaining: 6.04s\n",
      "61:\tlearn: 1763.2543486\ttotal: 9.55s\tremaining: 5.86s\n",
      "62:\tlearn: 1760.9395139\ttotal: 9.67s\tremaining: 5.68s\n",
      "63:\tlearn: 1759.3545258\ttotal: 9.78s\tremaining: 5.5s\n",
      "64:\tlearn: 1756.4604747\ttotal: 9.96s\tremaining: 5.37s\n",
      "65:\tlearn: 1754.9341880\ttotal: 10.1s\tremaining: 5.19s\n",
      "66:\tlearn: 1752.6859697\ttotal: 10.3s\tremaining: 5.05s\n",
      "67:\tlearn: 1751.5677273\ttotal: 10.4s\tremaining: 4.88s\n",
      "68:\tlearn: 1749.7528561\ttotal: 10.5s\tremaining: 4.74s\n",
      "69:\tlearn: 1747.7942377\ttotal: 10.7s\tremaining: 4.57s\n",
      "70:\tlearn: 1746.0980383\ttotal: 10.8s\tremaining: 4.43s\n",
      "71:\tlearn: 1744.8307765\ttotal: 11s\tremaining: 4.26s\n",
      "72:\tlearn: 1743.0805686\ttotal: 11.1s\tremaining: 4.09s\n",
      "73:\tlearn: 1740.9236360\ttotal: 11.3s\tremaining: 3.95s\n",
      "74:\tlearn: 1738.9911526\ttotal: 11.4s\tremaining: 3.79s\n",
      "75:\tlearn: 1736.4278261\ttotal: 11.6s\tremaining: 3.65s\n",
      "76:\tlearn: 1734.8229010\ttotal: 11.7s\tremaining: 3.48s\n",
      "77:\tlearn: 1733.4104384\ttotal: 11.8s\tremaining: 3.32s\n",
      "78:\tlearn: 1731.8957663\ttotal: 11.9s\tremaining: 3.16s\n",
      "79:\tlearn: 1729.7667721\ttotal: 12s\tremaining: 3s\n",
      "80:\tlearn: 1728.1595048\ttotal: 12.2s\tremaining: 2.85s\n",
      "81:\tlearn: 1725.9015742\ttotal: 12.3s\tremaining: 2.7s\n",
      "82:\tlearn: 1723.4570721\ttotal: 12.4s\tremaining: 2.54s\n",
      "83:\tlearn: 1722.1155989\ttotal: 12.5s\tremaining: 2.38s\n",
      "84:\tlearn: 1720.4388179\ttotal: 12.6s\tremaining: 2.22s\n",
      "85:\tlearn: 1718.8570860\ttotal: 12.8s\tremaining: 2.08s\n",
      "86:\tlearn: 1716.7772024\ttotal: 12.9s\tremaining: 1.93s\n",
      "87:\tlearn: 1714.9052189\ttotal: 13.1s\tremaining: 1.78s\n",
      "88:\tlearn: 1714.0243577\ttotal: 13.2s\tremaining: 1.63s\n",
      "89:\tlearn: 1712.8824051\ttotal: 13.3s\tremaining: 1.48s\n",
      "90:\tlearn: 1711.3622615\ttotal: 13.5s\tremaining: 1.33s\n",
      "91:\tlearn: 1710.0252233\ttotal: 13.7s\tremaining: 1.19s\n",
      "92:\tlearn: 1708.7324561\ttotal: 13.9s\tremaining: 1.04s\n",
      "93:\tlearn: 1707.8218986\ttotal: 14.1s\tremaining: 900ms\n",
      "94:\tlearn: 1706.2961783\ttotal: 14.2s\tremaining: 748ms\n",
      "95:\tlearn: 1704.4708046\ttotal: 14.4s\tremaining: 600ms\n",
      "96:\tlearn: 1703.1898923\ttotal: 14.5s\tremaining: 449ms\n",
      "97:\tlearn: 1702.7795570\ttotal: 14.6s\tremaining: 298ms\n",
      "98:\tlearn: 1700.4167849\ttotal: 14.8s\tremaining: 149ms\n",
      "99:\tlearn: 1698.8310263\ttotal: 14.9s\tremaining: 0us\n",
      "Learning rate set to 0.5\n",
      "0:\tlearn: 3151.4923144\ttotal: 88.8ms\tremaining: 8.79s\n",
      "1:\tlearn: 2579.7287861\ttotal: 175ms\tremaining: 8.57s\n",
      "2:\tlearn: 2341.8948514\ttotal: 233ms\tremaining: 7.54s\n",
      "3:\tlearn: 2222.5085720\ttotal: 267ms\tremaining: 6.41s\n",
      "4:\tlearn: 2149.8611329\ttotal: 303ms\tremaining: 5.75s\n",
      "5:\tlearn: 2105.5231582\ttotal: 349ms\tremaining: 5.46s\n",
      "6:\tlearn: 2069.4392859\ttotal: 449ms\tremaining: 5.97s\n",
      "7:\tlearn: 2034.3690550\ttotal: 638ms\tremaining: 7.34s\n",
      "8:\tlearn: 2015.5963934\ttotal: 751ms\tremaining: 7.59s\n",
      "9:\tlearn: 1999.0043969\ttotal: 859ms\tremaining: 7.73s\n",
      "10:\tlearn: 1984.3345247\ttotal: 970ms\tremaining: 7.85s\n",
      "11:\tlearn: 1969.3114353\ttotal: 1.16s\tremaining: 8.52s\n",
      "12:\tlearn: 1962.9263832\ttotal: 1.28s\tremaining: 8.58s\n",
      "13:\tlearn: 1952.5776813\ttotal: 1.38s\tremaining: 8.49s\n",
      "14:\tlearn: 1946.8004252\ttotal: 1.49s\tremaining: 8.42s\n",
      "15:\tlearn: 1937.7737503\ttotal: 1.58s\tremaining: 8.32s\n",
      "16:\tlearn: 1929.8998472\ttotal: 1.77s\tremaining: 8.65s\n",
      "17:\tlearn: 1922.1572112\ttotal: 1.98s\tremaining: 9.03s\n",
      "18:\tlearn: 1915.2005584\ttotal: 2.19s\tremaining: 9.31s\n",
      "19:\tlearn: 1906.8362791\ttotal: 2.38s\tremaining: 9.52s\n",
      "20:\tlearn: 1901.8602245\ttotal: 2.49s\tremaining: 9.36s\n",
      "21:\tlearn: 1893.5496307\ttotal: 2.6s\tremaining: 9.22s\n",
      "22:\tlearn: 1888.7354739\ttotal: 2.69s\tremaining: 9.02s\n",
      "23:\tlearn: 1883.1794821\ttotal: 2.76s\tremaining: 8.75s\n",
      "24:\tlearn: 1878.6296791\ttotal: 2.95s\tremaining: 8.84s\n",
      "25:\tlearn: 1874.4285556\ttotal: 3.14s\tremaining: 8.95s\n",
      "26:\tlearn: 1871.3472480\ttotal: 3.25s\tremaining: 8.8s\n",
      "27:\tlearn: 1867.6003496\ttotal: 3.44s\tremaining: 8.84s\n",
      "28:\tlearn: 1862.8295460\ttotal: 3.55s\tremaining: 8.69s\n",
      "29:\tlearn: 1858.2331088\ttotal: 3.66s\tremaining: 8.53s\n",
      "30:\tlearn: 1854.3365517\ttotal: 3.76s\tremaining: 8.37s\n",
      "31:\tlearn: 1850.4150795\ttotal: 3.85s\tremaining: 8.18s\n",
      "32:\tlearn: 1846.2152146\ttotal: 4.04s\tremaining: 8.2s\n",
      "33:\tlearn: 1843.0047740\ttotal: 4.23s\tremaining: 8.21s\n",
      "34:\tlearn: 1838.8402047\ttotal: 4.33s\tremaining: 8.05s\n",
      "35:\tlearn: 1834.4722329\ttotal: 4.53s\tremaining: 8.05s\n",
      "36:\tlearn: 1830.2619489\ttotal: 4.64s\tremaining: 7.89s\n",
      "37:\tlearn: 1827.0227167\ttotal: 4.75s\tremaining: 7.75s\n",
      "38:\tlearn: 1825.3513884\ttotal: 4.85s\tremaining: 7.59s\n",
      "39:\tlearn: 1823.3424854\ttotal: 4.96s\tremaining: 7.45s\n",
      "40:\tlearn: 1818.0839595\ttotal: 5.07s\tremaining: 7.3s\n",
      "41:\tlearn: 1812.8267517\ttotal: 5.18s\tremaining: 7.15s\n",
      "42:\tlearn: 1810.3001244\ttotal: 5.29s\tremaining: 7.01s\n",
      "43:\tlearn: 1807.9151825\ttotal: 5.48s\tremaining: 6.97s\n",
      "44:\tlearn: 1805.2549134\ttotal: 5.68s\tremaining: 6.94s\n",
      "45:\tlearn: 1802.6757488\ttotal: 5.79s\tremaining: 6.8s\n",
      "46:\tlearn: 1799.7621214\ttotal: 5.97s\tremaining: 6.73s\n",
      "47:\tlearn: 1796.7326090\ttotal: 6.08s\tremaining: 6.59s\n",
      "48:\tlearn: 1794.0511096\ttotal: 6.19s\tremaining: 6.44s\n",
      "49:\tlearn: 1790.7987718\ttotal: 6.3s\tremaining: 6.3s\n",
      "50:\tlearn: 1787.9001008\ttotal: 6.42s\tremaining: 6.17s\n",
      "51:\tlearn: 1785.6648189\ttotal: 6.52s\tremaining: 6.02s\n",
      "52:\tlearn: 1783.4689189\ttotal: 6.64s\tremaining: 5.89s\n",
      "53:\tlearn: 1781.3032384\ttotal: 6.83s\tremaining: 5.82s\n",
      "54:\tlearn: 1779.3880692\ttotal: 7.01s\tremaining: 5.74s\n",
      "54:\tlearn: 1792.7672477\ttotal: 7.7s\tremaining: 6.3s\n",
      "55:\tlearn: 1790.4654513\ttotal: 7.99s\tremaining: 6.28s\n",
      "56:\tlearn: 1788.6841704\ttotal: 8.19s\tremaining: 6.18s\n",
      "57:\tlearn: 1785.7224413\ttotal: 8.4s\tremaining: 6.08s\n",
      "58:\tlearn: 1783.1057319\ttotal: 8.6s\tremaining: 5.97s\n",
      "59:\tlearn: 1780.4620934\ttotal: 8.79s\tremaining: 5.86s\n",
      "60:\tlearn: 1777.9654108\ttotal: 8.99s\tremaining: 5.75s\n",
      "61:\tlearn: 1776.4555388\ttotal: 9.19s\tremaining: 5.63s\n",
      "62:\tlearn: 1773.8343646\ttotal: 9.39s\tremaining: 5.51s\n",
      "63:\tlearn: 1770.4749277\ttotal: 9.5s\tremaining: 5.34s\n",
      "64:\tlearn: 1768.0829757\ttotal: 9.68s\tremaining: 5.21s\n",
      "65:\tlearn: 1766.8496285\ttotal: 9.79s\tremaining: 5.04s\n",
      "66:\tlearn: 1763.9877219\ttotal: 9.9s\tremaining: 4.88s\n",
      "67:\tlearn: 1762.0546950\ttotal: 10s\tremaining: 4.71s\n",
      "68:\tlearn: 1759.2851984\ttotal: 10.2s\tremaining: 4.58s\n",
      "69:\tlearn: 1757.1033256\ttotal: 10.3s\tremaining: 4.42s\n",
      "70:\tlearn: 1755.2117881\ttotal: 10.5s\tremaining: 4.29s\n",
      "71:\tlearn: 1753.6949630\ttotal: 10.6s\tremaining: 4.13s\n",
      "72:\tlearn: 1752.9896017\ttotal: 10.7s\tremaining: 3.97s\n",
      "73:\tlearn: 1751.1573292\ttotal: 10.8s\tremaining: 3.81s\n",
      "74:\tlearn: 1748.5233273\ttotal: 11s\tremaining: 3.68s\n",
      "75:\tlearn: 1747.2698527\ttotal: 11.2s\tremaining: 3.55s\n",
      "76:\tlearn: 1745.3050526\ttotal: 11.4s\tremaining: 3.4s\n",
      "77:\tlearn: 1743.1419910\ttotal: 11.6s\tremaining: 3.26s\n",
      "78:\tlearn: 1741.4781722\ttotal: 11.8s\tremaining: 3.13s\n",
      "79:\tlearn: 1739.9769471\ttotal: 12s\tremaining: 3.01s\n",
      "80:\tlearn: 1737.6376547\ttotal: 12.2s\tremaining: 2.85s\n",
      "81:\tlearn: 1735.6031239\ttotal: 12.4s\tremaining: 2.72s\n",
      "82:\tlearn: 1734.0507423\ttotal: 12.6s\tremaining: 2.58s\n",
      "83:\tlearn: 1733.0360068\ttotal: 12.8s\tremaining: 2.43s\n",
      "84:\tlearn: 1731.5685609\ttotal: 13s\tremaining: 2.29s\n",
      "85:\tlearn: 1730.3793907\ttotal: 13.2s\tremaining: 2.14s\n",
      "86:\tlearn: 1729.0360096\ttotal: 13.4s\tremaining: 2s\n",
      "87:\tlearn: 1726.9639176\ttotal: 13.6s\tremaining: 1.85s\n",
      "88:\tlearn: 1725.9031863\ttotal: 13.8s\tremaining: 1.7s\n",
      "89:\tlearn: 1724.5531933\ttotal: 14s\tremaining: 1.55s\n",
      "90:\tlearn: 1723.0115983\ttotal: 14.1s\tremaining: 1.39s\n",
      "91:\tlearn: 1721.6142393\ttotal: 14.3s\tremaining: 1.24s\n",
      "92:\tlearn: 1719.3596470\ttotal: 14.5s\tremaining: 1.09s\n",
      "93:\tlearn: 1718.1248894\ttotal: 14.7s\tremaining: 936ms\n",
      "94:\tlearn: 1716.2328677\ttotal: 14.8s\tremaining: 777ms\n",
      "95:\tlearn: 1714.8205630\ttotal: 14.9s\tremaining: 620ms\n",
      "96:\tlearn: 1713.5053006\ttotal: 15s\tremaining: 463ms\n",
      "97:\tlearn: 1712.5392162\ttotal: 15s\tremaining: 307ms\n",
      "98:\tlearn: 1710.6537872\ttotal: 15.2s\tremaining: 153ms\n",
      "99:\tlearn: 1708.5002511\ttotal: 15.3s\tremaining: 0us\n",
      "Learning rate set to 0.5\n",
      "0:\tlearn: 3080.2933578\ttotal: 63.3ms\tremaining: 6.26s\n",
      "1:\tlearn: 2503.3797420\ttotal: 393ms\tremaining: 19.3s\n",
      "2:\tlearn: 2259.7900396\ttotal: 704ms\tremaining: 22.8s\n",
      "3:\tlearn: 2151.8651643\ttotal: 988ms\tremaining: 23.7s\n",
      "4:\tlearn: 2072.9118335\ttotal: 1.19s\tremaining: 22.7s\n",
      "5:\tlearn: 2022.9013079\ttotal: 1.39s\tremaining: 21.8s\n",
      "6:\tlearn: 1996.0905320\ttotal: 1.58s\tremaining: 21.1s\n",
      "7:\tlearn: 1976.4456009\ttotal: 1.8s\tremaining: 20.7s\n",
      "8:\tlearn: 1953.7287664\ttotal: 2.08s\tremaining: 21.1s\n",
      "9:\tlearn: 1934.1042779\ttotal: 2.29s\tremaining: 20.7s\n",
      "10:\tlearn: 1921.4439540\ttotal: 2.51s\tremaining: 20.3s\n",
      "11:\tlearn: 1914.7318461\ttotal: 2.68s\tremaining: 19.7s\n",
      "12:\tlearn: 1900.3909778\ttotal: 3.04s\tremaining: 20.4s\n",
      "13:\tlearn: 1893.4294126\ttotal: 3.43s\tremaining: 21s\n",
      "14:\tlearn: 1879.9764760\ttotal: 3.65s\tremaining: 20.7s\n",
      "15:\tlearn: 1870.8928703\ttotal: 3.85s\tremaining: 20.2s\n",
      "16:\tlearn: 1861.2971608\ttotal: 4.13s\tremaining: 20.2s\n",
      "17:\tlearn: 1855.3473851\ttotal: 4.35s\tremaining: 19.8s\n",
      "18:\tlearn: 1847.8086992\ttotal: 4.55s\tremaining: 19.4s\n",
      "19:\tlearn: 1842.4176154\ttotal: 4.77s\tremaining: 19.1s\n",
      "20:\tlearn: 1836.5342029\ttotal: 5.05s\tremaining: 19s\n",
      "21:\tlearn: 1829.5080212\ttotal: 5.26s\tremaining: 18.6s\n",
      "22:\tlearn: 1821.5147783\ttotal: 5.47s\tremaining: 18.3s\n",
      "23:\tlearn: 1817.7904040\ttotal: 5.76s\tremaining: 18.2s\n",
      "24:\tlearn: 1812.8917848\ttotal: 5.97s\tremaining: 17.9s\n",
      "25:\tlearn: 1807.6995870\ttotal: 6.18s\tremaining: 17.6s\n",
      "26:\tlearn: 1802.8252845\ttotal: 6.39s\tremaining: 17.3s\n",
      "27:\tlearn: 1796.5637476\ttotal: 6.67s\tremaining: 17.2s\n",
      "28:\tlearn: 1788.2438673\ttotal: 6.89s\tremaining: 16.9s\n",
      "29:\tlearn: 1784.2388967\ttotal: 7.29s\tremaining: 17s\n",
      "30:\tlearn: 1777.3356964\ttotal: 7.69s\tremaining: 17.1s\n",
      "31:\tlearn: 1772.9816163\ttotal: 8.02s\tremaining: 17s\n",
      "32:\tlearn: 1767.2415362\ttotal: 8.34s\tremaining: 16.9s\n",
      "33:\tlearn: 1761.4180761\ttotal: 8.74s\tremaining: 17s\n",
      "34:\tlearn: 1757.2772653\ttotal: 9.05s\tremaining: 16.8s\n",
      "35:\tlearn: 1753.0179018\ttotal: 9.46s\tremaining: 16.8s\n",
      "36:\tlearn: 1749.5947444\ttotal: 9.68s\tremaining: 16.5s\n",
      "37:\tlearn: 1744.8039378\ttotal: 9.96s\tremaining: 16.3s\n",
      "38:\tlearn: 1742.3831202\ttotal: 10.2s\tremaining: 15.9s\n",
      "39:\tlearn: 1739.4961004\ttotal: 10.5s\tremaining: 15.7s\n",
      "40:\tlearn: 1735.8539153\ttotal: 10.7s\tremaining: 15.4s\n",
      "41:\tlearn: 1732.5519340\ttotal: 11s\tremaining: 15.1s\n",
      "42:\tlearn: 1730.5179554\ttotal: 11.2s\tremaining: 14.8s\n",
      "43:\tlearn: 1726.6547390\ttotal: 11.5s\tremaining: 14.6s\n",
      "44:\tlearn: 1722.0431516\ttotal: 11.7s\tremaining: 14.3s\n",
      "45:\tlearn: 1719.4136990\ttotal: 11.9s\tremaining: 13.9s\n",
      "46:\tlearn: 1717.0408614\ttotal: 12.2s\tremaining: 13.7s\n",
      "47:\tlearn: 1713.0839314\ttotal: 12.4s\tremaining: 13.4s\n",
      "48:\tlearn: 1711.1348757\ttotal: 12.6s\tremaining: 13.1s\n",
      "49:\tlearn: 1708.1732131\ttotal: 12.8s\tremaining: 12.8s\n",
      "50:\tlearn: 1705.9118548\ttotal: 13.1s\tremaining: 12.6s\n",
      "51:\tlearn: 1703.6958946\ttotal: 13.4s\tremaining: 12.3s\n",
      "52:\tlearn: 1700.5923751\ttotal: 13.6s\tremaining: 12.1s\n",
      "53:\tlearn: 1698.8938343\ttotal: 14s\tremaining: 11.9s\n",
      "54:\tlearn: 1697.1196401\ttotal: 14.2s\tremaining: 11.6s\n",
      "55:\tlearn: 1695.5131686\ttotal: 14.4s\tremaining: 11.3s\n",
      "56:\tlearn: 1693.5500200\ttotal: 14.6s\tremaining: 11s\n",
      "57:\tlearn: 1691.5413905\ttotal: 14.9s\tremaining: 10.8s\n",
      "58:\tlearn: 1690.4943855\ttotal: 15.1s\tremaining: 10.5s\n",
      "59:\tlearn: 1687.3125761\ttotal: 15.3s\tremaining: 10.2s\n",
      "60:\tlearn: 1684.5339070\ttotal: 15.6s\tremaining: 9.95s\n",
      "61:\tlearn: 1681.9466620\ttotal: 15.8s\tremaining: 9.67s\n",
      "62:\tlearn: 1679.1233044\ttotal: 16s\tremaining: 9.4s\n",
      "63:\tlearn: 1676.6101262\ttotal: 16.4s\tremaining: 9.22s\n",
      "64:\tlearn: 1675.3092018\ttotal: 16.8s\tremaining: 9.04s\n",
      "65:\tlearn: 1671.7215792\ttotal: 17.2s\tremaining: 8.85s\n",
      "66:\tlearn: 1669.0253624\ttotal: 17.6s\tremaining: 8.67s\n",
      "67:\tlearn: 1667.2649611\ttotal: 17.9s\tremaining: 8.42s\n",
      "68:\tlearn: 1665.4384282\ttotal: 18.2s\tremaining: 8.17s\n",
      "69:\tlearn: 1661.9813268\ttotal: 18.5s\tremaining: 7.93s\n",
      "70:\tlearn: 1659.1911410\ttotal: 18.7s\tremaining: 7.64s\n",
      "71:\tlearn: 1656.8110697\ttotal: 19s\tremaining: 7.4s\n",
      "72:\tlearn: 1654.6587897\ttotal: 19.3s\tremaining: 7.15s\n",
      "73:\tlearn: 1653.2757706\ttotal: 19.6s\tremaining: 6.89s\n",
      "74:\tlearn: 1650.2077482\ttotal: 19.9s\tremaining: 6.64s\n",
      "75:\tlearn: 1646.7995010\ttotal: 20.3s\tremaining: 6.42s\n",
      "76:\tlearn: 1644.4559823\ttotal: 20.7s\tremaining: 6.19s\n",
      "77:\tlearn: 1643.5861353\ttotal: 21s\tremaining: 5.93s\n",
      "78:\tlearn: 1642.4545373\ttotal: 21.2s\tremaining: 5.64s\n",
      "79:\tlearn: 1640.0899774\ttotal: 21.5s\tremaining: 5.38s\n",
      "80:\tlearn: 1637.5615548\ttotal: 21.7s\tremaining: 5.1s\n",
      "81:\tlearn: 1635.4227999\ttotal: 22.2s\tremaining: 4.86s\n",
      "82:\tlearn: 1633.0416835\ttotal: 22.5s\tremaining: 4.6s\n",
      "83:\tlearn: 1630.7279158\ttotal: 22.8s\tremaining: 4.33s\n",
      "84:\tlearn: 1630.0241622\ttotal: 23.2s\tremaining: 4.08s\n",
      "85:\tlearn: 1628.1444983\ttotal: 23.6s\tremaining: 3.83s\n",
      "86:\tlearn: 1625.9829525\ttotal: 23.9s\tremaining: 3.56s\n",
      "87:\tlearn: 1621.4256685\ttotal: 24.2s\tremaining: 3.29s\n",
      "88:\tlearn: 1619.0007075\ttotal: 24.6s\tremaining: 3.05s\n",
      "89:\tlearn: 1616.7272812\ttotal: 24.9s\tremaining: 2.76s\n",
      "90:\tlearn: 1615.0385379\ttotal: 25.2s\tremaining: 2.5s\n",
      "91:\tlearn: 1612.9298614\ttotal: 25.5s\tremaining: 2.21s\n",
      "92:\tlearn: 1611.4225186\ttotal: 25.8s\tremaining: 1.95s\n",
      "93:\tlearn: 1609.6348604\ttotal: 26.3s\tremaining: 1.68s\n",
      "94:\tlearn: 1608.5680178\ttotal: 26.6s\tremaining: 1.4s\n",
      "95:\tlearn: 1605.9930265\ttotal: 26.9s\tremaining: 1.12s\n",
      "96:\tlearn: 1604.6156539\ttotal: 27.3s\tremaining: 844ms\n",
      "97:\tlearn: 1602.9417682\ttotal: 27.6s\tremaining: 563ms\n",
      "98:\tlearn: 1601.5092905\ttotal: 27.9s\tremaining: 282ms\n",
      "99:\tlearn: 1599.1830299\ttotal: 28.2s\tremaining: 0us\n",
      "Learning rate set to 0.5\n",
      "0:\tlearn: 3081.3253455\ttotal: 206ms\tremaining: 20.4s\n",
      "1:\tlearn: 2513.6755125\ttotal: 512ms\tremaining: 25.1s\n",
      "2:\tlearn: 2268.7698390\ttotal: 747ms\tremaining: 24.2s\n",
      "3:\tlearn: 2139.5556684\ttotal: 1.11s\tremaining: 26.7s\n",
      "4:\tlearn: 2083.0826505\ttotal: 1.43s\tremaining: 27.2s\n",
      "5:\tlearn: 2032.0105033\ttotal: 1.75s\tremaining: 27.5s\n",
      "54:\tlearn: 1787.0453391\ttotal: 8.07s\tremaining: 6.6s\n",
      "55:\tlearn: 1784.8130967\ttotal: 8.27s\tremaining: 6.5s\n",
      "56:\tlearn: 1782.5722997\ttotal: 8.48s\tremaining: 6.39s\n",
      "57:\tlearn: 1781.1609043\ttotal: 8.67s\tremaining: 6.28s\n",
      "58:\tlearn: 1780.1081605\ttotal: 8.87s\tremaining: 6.16s\n",
      "59:\tlearn: 1778.6379528\ttotal: 8.99s\tremaining: 5.99s\n",
      "60:\tlearn: 1775.9514782\ttotal: 9.17s\tremaining: 5.86s\n",
      "61:\tlearn: 1773.9460231\ttotal: 9.36s\tremaining: 5.74s\n",
      "62:\tlearn: 1772.9501251\ttotal: 9.47s\tremaining: 5.56s\n",
      "63:\tlearn: 1771.4673543\ttotal: 9.66s\tremaining: 5.44s\n",
      "64:\tlearn: 1769.5161849\ttotal: 9.77s\tremaining: 5.26s\n",
      "65:\tlearn: 1767.6259733\ttotal: 9.88s\tremaining: 5.09s\n",
      "66:\tlearn: 1766.2019288\ttotal: 10.1s\tremaining: 4.96s\n",
      "67:\tlearn: 1764.3066422\ttotal: 10.2s\tremaining: 4.79s\n",
      "68:\tlearn: 1762.0494762\ttotal: 10.3s\tremaining: 4.62s\n",
      "69:\tlearn: 1760.3646412\ttotal: 10.4s\tremaining: 4.45s\n",
      "70:\tlearn: 1759.0667138\ttotal: 10.5s\tremaining: 4.29s\n",
      "71:\tlearn: 1757.1885765\ttotal: 10.7s\tremaining: 4.16s\n",
      "72:\tlearn: 1756.3738924\ttotal: 10.8s\tremaining: 3.99s\n",
      "73:\tlearn: 1754.1224418\ttotal: 10.9s\tremaining: 3.83s\n",
      "74:\tlearn: 1752.0851302\ttotal: 11s\tremaining: 3.67s\n",
      "75:\tlearn: 1750.6713989\ttotal: 11.1s\tremaining: 3.51s\n",
      "76:\tlearn: 1749.0589836\ttotal: 11.3s\tremaining: 3.38s\n",
      "77:\tlearn: 1747.6557788\ttotal: 11.5s\tremaining: 3.25s\n",
      "78:\tlearn: 1744.3810459\ttotal: 11.7s\tremaining: 3.11s\n",
      "79:\tlearn: 1743.5525232\ttotal: 11.8s\tremaining: 2.96s\n",
      "80:\tlearn: 1740.5645602\ttotal: 11.9s\tremaining: 2.8s\n",
      "81:\tlearn: 1739.0546884\ttotal: 12s\tremaining: 2.64s\n",
      "82:\tlearn: 1737.8512874\ttotal: 12.2s\tremaining: 2.5s\n",
      "83:\tlearn: 1735.8356733\ttotal: 12.3s\tremaining: 2.35s\n",
      "84:\tlearn: 1734.1058624\ttotal: 12.4s\tremaining: 2.2s\n",
      "85:\tlearn: 1732.7889728\ttotal: 12.6s\tremaining: 2.06s\n",
      "86:\tlearn: 1731.3695080\ttotal: 12.7s\tremaining: 1.9s\n",
      "87:\tlearn: 1729.3296817\ttotal: 12.8s\tremaining: 1.75s\n",
      "88:\tlearn: 1727.3764530\ttotal: 12.9s\tremaining: 1.59s\n",
      "89:\tlearn: 1726.0473997\ttotal: 13.1s\tremaining: 1.45s\n",
      "90:\tlearn: 1724.6749364\ttotal: 13.2s\tremaining: 1.3s\n",
      "91:\tlearn: 1722.8596352\ttotal: 13.4s\tremaining: 1.16s\n",
      "92:\tlearn: 1721.5742510\ttotal: 13.5s\tremaining: 1.01s\n",
      "93:\tlearn: 1720.2766050\ttotal: 13.6s\tremaining: 867ms\n",
      "94:\tlearn: 1718.9357760\ttotal: 13.7s\tremaining: 720ms\n",
      "95:\tlearn: 1717.3508016\ttotal: 13.9s\tremaining: 579ms\n",
      "96:\tlearn: 1715.5206212\ttotal: 14.1s\tremaining: 435ms\n",
      "97:\tlearn: 1713.9897089\ttotal: 14.2s\tremaining: 289ms\n",
      "98:\tlearn: 1712.6267318\ttotal: 14.3s\tremaining: 144ms\n",
      "99:\tlearn: 1710.9868479\ttotal: 14.3s\tremaining: 0us\n",
      "Learning rate set to 0.5\n",
      "0:\tlearn: 3087.0232112\ttotal: 366ms\tremaining: 36.2s\n",
      "1:\tlearn: 2503.4780943\ttotal: 852ms\tremaining: 41.7s\n",
      "2:\tlearn: 2266.9736946\ttotal: 1.06s\tremaining: 34.4s\n",
      "3:\tlearn: 2151.6639489\ttotal: 1.17s\tremaining: 28.2s\n",
      "4:\tlearn: 2072.9019146\ttotal: 1.53s\tremaining: 29.1s\n",
      "5:\tlearn: 2032.0884087\ttotal: 2.02s\tremaining: 31.7s\n",
      "6:\tlearn: 1998.9189759\ttotal: 2.23s\tremaining: 29.7s\n",
      "7:\tlearn: 1975.8417565\ttotal: 2.5s\tremaining: 28.8s\n",
      "8:\tlearn: 1960.5256629\ttotal: 2.72s\tremaining: 27.5s\n",
      "9:\tlearn: 1955.1386155\ttotal: 3.02s\tremaining: 27.1s\n",
      "10:\tlearn: 1936.5865070\ttotal: 3.31s\tremaining: 26.7s\n",
      "11:\tlearn: 1922.5364425\ttotal: 3.51s\tremaining: 25.8s\n",
      "12:\tlearn: 1908.5035218\ttotal: 3.8s\tremaining: 25.4s\n",
      "13:\tlearn: 1896.0596724\ttotal: 4.02s\tremaining: 24.7s\n",
      "14:\tlearn: 1884.5131484\ttotal: 4.3s\tremaining: 24.4s\n",
      "15:\tlearn: 1880.7627233\ttotal: 4.6s\tremaining: 24.1s\n",
      "16:\tlearn: 1872.3248939\ttotal: 4.82s\tremaining: 23.5s\n",
      "17:\tlearn: 1865.4338163\ttotal: 5.03s\tremaining: 22.9s\n",
      "18:\tlearn: 1856.4868679\ttotal: 5.24s\tremaining: 22.3s\n",
      "19:\tlearn: 1852.7064410\ttotal: 5.46s\tremaining: 21.9s\n",
      "20:\tlearn: 1847.6299323\ttotal: 5.86s\tremaining: 22s\n",
      "21:\tlearn: 1839.6796522\ttotal: 6.25s\tremaining: 22.2s\n",
      "22:\tlearn: 1834.1633846\ttotal: 6.46s\tremaining: 21.6s\n",
      "23:\tlearn: 1829.2369406\ttotal: 6.67s\tremaining: 21.1s\n",
      "24:\tlearn: 1820.4602753\ttotal: 6.89s\tremaining: 20.7s\n",
      "25:\tlearn: 1817.2251527\ttotal: 7.19s\tremaining: 20.5s\n",
      "26:\tlearn: 1813.0925031\ttotal: 7.49s\tremaining: 20.3s\n",
      "27:\tlearn: 1807.5677615\ttotal: 7.71s\tremaining: 19.8s\n",
      "28:\tlearn: 1800.5487179\ttotal: 7.99s\tremaining: 19.6s\n",
      "29:\tlearn: 1796.7375745\ttotal: 8.2s\tremaining: 19.1s\n",
      "30:\tlearn: 1792.1765170\ttotal: 8.51s\tremaining: 18.9s\n",
      "31:\tlearn: 1787.2102001\ttotal: 8.98s\tremaining: 19.1s\n",
      "32:\tlearn: 1784.1835571\ttotal: 9.31s\tremaining: 18.9s\n",
      "33:\tlearn: 1781.0017408\ttotal: 9.69s\tremaining: 18.8s\n",
      "34:\tlearn: 1775.4102501\ttotal: 10.1s\tremaining: 18.7s\n",
      "35:\tlearn: 1769.3546183\ttotal: 10.5s\tremaining: 18.6s\n",
      "36:\tlearn: 1767.0186716\ttotal: 10.9s\tremaining: 18.5s\n",
      "37:\tlearn: 1762.2880989\ttotal: 11.3s\tremaining: 18.4s\n",
      "38:\tlearn: 1759.8804792\ttotal: 11.6s\tremaining: 18.1s\n",
      "39:\tlearn: 1755.5234914\ttotal: 11.8s\tremaining: 17.7s\n",
      "40:\tlearn: 1751.7320842\ttotal: 12.1s\tremaining: 17.4s\n",
      "41:\tlearn: 1748.9009339\ttotal: 12.3s\tremaining: 17s\n",
      "42:\tlearn: 1744.8757228\ttotal: 12.7s\tremaining: 16.8s\n",
      "43:\tlearn: 1741.3402548\ttotal: 12.9s\tremaining: 16.4s\n",
      "44:\tlearn: 1738.7453830\ttotal: 13.1s\tremaining: 16s\n",
      "45:\tlearn: 1735.3404177\ttotal: 13.4s\tremaining: 15.7s\n",
      "46:\tlearn: 1731.9732223\ttotal: 13.6s\tremaining: 15.3s\n",
      "47:\tlearn: 1726.8519409\ttotal: 13.8s\tremaining: 15s\n",
      "48:\tlearn: 1725.0679138\ttotal: 13.9s\tremaining: 14.5s\n",
      "49:\tlearn: 1722.1080486\ttotal: 14.2s\tremaining: 14.2s\n",
      "50:\tlearn: 1718.7960734\ttotal: 14.6s\tremaining: 14s\n",
      "51:\tlearn: 1715.3288136\ttotal: 15s\tremaining: 13.9s\n",
      "52:\tlearn: 1711.3782450\ttotal: 15.4s\tremaining: 13.7s\n",
      "53:\tlearn: 1706.2661857\ttotal: 15.8s\tremaining: 13.5s\n",
      "54:\tlearn: 1702.9961113\ttotal: 16s\tremaining: 13.1s\n",
      "55:\tlearn: 1701.0488917\ttotal: 16.3s\tremaining: 12.8s\n",
      "56:\tlearn: 1699.0397066\ttotal: 16.5s\tremaining: 12.5s\n",
      "57:\tlearn: 1696.0488690\ttotal: 16.8s\tremaining: 12.1s\n",
      "58:\tlearn: 1693.5677506\ttotal: 17.2s\tremaining: 11.9s\n",
      "59:\tlearn: 1688.9570505\ttotal: 17.4s\tremaining: 11.6s\n",
      "60:\tlearn: 1686.5340955\ttotal: 17.7s\tremaining: 11.3s\n",
      "61:\tlearn: 1684.4523995\ttotal: 18s\tremaining: 11s\n",
      "62:\tlearn: 1682.3474853\ttotal: 18.2s\tremaining: 10.7s\n",
      "63:\tlearn: 1679.7007589\ttotal: 18.4s\tremaining: 10.4s\n",
      "64:\tlearn: 1675.9503391\ttotal: 18.9s\tremaining: 10.2s\n",
      "65:\tlearn: 1673.7915502\ttotal: 19.2s\tremaining: 9.91s\n",
      "66:\tlearn: 1670.8420878\ttotal: 19.7s\tremaining: 9.68s\n",
      "67:\tlearn: 1668.7022169\ttotal: 20s\tremaining: 9.39s\n",
      "68:\tlearn: 1667.1261351\ttotal: 20.2s\tremaining: 9.1s\n",
      "69:\tlearn: 1664.7547839\ttotal: 20.5s\tremaining: 8.77s\n",
      "70:\tlearn: 1661.0321845\ttotal: 20.9s\tremaining: 8.52s\n",
      "71:\tlearn: 1658.7437623\ttotal: 21.3s\tremaining: 8.27s\n",
      "72:\tlearn: 1656.5715072\ttotal: 21.6s\tremaining: 7.98s\n",
      "73:\tlearn: 1654.6739917\ttotal: 21.9s\tremaining: 7.69s\n",
      "74:\tlearn: 1652.6128761\ttotal: 22.2s\tremaining: 7.39s\n",
      "75:\tlearn: 1648.9946926\ttotal: 22.5s\tremaining: 7.09s\n",
      "76:\tlearn: 1647.3258833\ttotal: 22.7s\tremaining: 6.78s\n",
      "77:\tlearn: 1644.9963712\ttotal: 23s\tremaining: 6.48s\n",
      "78:\tlearn: 1642.2745771\ttotal: 23.2s\tremaining: 6.16s\n",
      "79:\tlearn: 1639.4706573\ttotal: 23.6s\tremaining: 5.9s\n",
      "80:\tlearn: 1637.7195973\ttotal: 24s\tremaining: 5.63s\n",
      "81:\tlearn: 1636.6539377\ttotal: 24.4s\tremaining: 5.35s\n",
      "82:\tlearn: 1635.0233115\ttotal: 24.6s\tremaining: 5.04s\n",
      "83:\tlearn: 1631.2746324\ttotal: 24.9s\tremaining: 4.74s\n",
      "84:\tlearn: 1629.6989914\ttotal: 25.2s\tremaining: 4.45s\n",
      "85:\tlearn: 1628.8688988\ttotal: 25.5s\tremaining: 4.15s\n",
      "86:\tlearn: 1626.9480143\ttotal: 25.9s\tremaining: 3.87s\n",
      "87:\tlearn: 1625.4373518\ttotal: 26.3s\tremaining: 3.59s\n",
      "88:\tlearn: 1624.1621351\ttotal: 26.6s\tremaining: 3.29s\n",
      "89:\tlearn: 1622.1247655\ttotal: 26.9s\tremaining: 2.99s\n",
      "90:\tlearn: 1620.5336970\ttotal: 27.2s\tremaining: 2.69s\n",
      "91:\tlearn: 1618.9679280\ttotal: 27.4s\tremaining: 2.38s\n",
      "92:\tlearn: 1616.3819389\ttotal: 27.6s\tremaining: 2.07s\n",
      "93:\tlearn: 1613.9789723\ttotal: 27.8s\tremaining: 1.77s\n",
      "94:\tlearn: 1612.3221775\ttotal: 28.1s\tremaining: 1.48s\n",
      "95:\tlearn: 1609.2361298\ttotal: 28.3s\tremaining: 1.18s\n",
      "96:\tlearn: 1607.7202876\ttotal: 28.5s\tremaining: 881ms\n",
      "97:\tlearn: 1606.4021354\ttotal: 28.9s\tremaining: 589ms\n",
      "98:\tlearn: 1604.4276632\ttotal: 29.3s\tremaining: 296ms\n",
      "99:\tlearn: 1602.6866765\ttotal: 29.5s\tremaining: 0us\n",
      "Learning rate set to 0.5\n",
      "0:\tlearn: 3037.1087177\ttotal: 375ms\tremaining: 37.2s\n",
      "1:\tlearn: 2435.3843844\ttotal: 782ms\tremaining: 38.3s\n",
      "2:\tlearn: 2200.6243078\ttotal: 1.09s\tremaining: 35.2s\n",
      "3:\tlearn: 2072.7572409\ttotal: 1.4s\tremaining: 33.5s\n",
      "4:\tlearn: 2003.2777116\ttotal: 1.84s\tremaining: 34.9s\n",
      "55:\tlearn: 1788.7993860\ttotal: 9.41s\tremaining: 7.39s\n",
      "56:\tlearn: 1787.1793704\ttotal: 9.61s\tremaining: 7.25s\n",
      "57:\tlearn: 1784.1701135\ttotal: 9.81s\tremaining: 7.11s\n",
      "58:\tlearn: 1781.4333707\ttotal: 10s\tremaining: 6.96s\n",
      "59:\tlearn: 1779.3679159\ttotal: 10.1s\tremaining: 6.75s\n",
      "60:\tlearn: 1776.6469218\ttotal: 10.3s\tremaining: 6.58s\n",
      "61:\tlearn: 1775.4062528\ttotal: 10.5s\tremaining: 6.44s\n",
      "62:\tlearn: 1772.5272276\ttotal: 10.6s\tremaining: 6.24s\n",
      "63:\tlearn: 1768.1552282\ttotal: 10.8s\tremaining: 6.08s\n",
      "64:\tlearn: 1766.1460283\ttotal: 10.9s\tremaining: 5.87s\n",
      "65:\tlearn: 1764.3534536\ttotal: 11s\tremaining: 5.66s\n",
      "66:\tlearn: 1762.9420443\ttotal: 11.1s\tremaining: 5.45s\n",
      "67:\tlearn: 1761.2630323\ttotal: 11.2s\tremaining: 5.26s\n",
      "68:\tlearn: 1759.2212551\ttotal: 11.3s\tremaining: 5.07s\n",
      "69:\tlearn: 1758.1159215\ttotal: 11.4s\tremaining: 4.88s\n",
      "70:\tlearn: 1755.9859630\ttotal: 11.5s\tremaining: 4.69s\n",
      "71:\tlearn: 1754.4193279\ttotal: 11.7s\tremaining: 4.54s\n",
      "72:\tlearn: 1752.6559350\ttotal: 11.8s\tremaining: 4.36s\n",
      "73:\tlearn: 1751.1479710\ttotal: 12s\tremaining: 4.2s\n",
      "74:\tlearn: 1749.3462987\ttotal: 12.1s\tremaining: 4.02s\n",
      "75:\tlearn: 1748.7905194\ttotal: 12.2s\tremaining: 3.85s\n",
      "76:\tlearn: 1746.4350262\ttotal: 12.3s\tremaining: 3.67s\n",
      "77:\tlearn: 1744.4823719\ttotal: 12.4s\tremaining: 3.49s\n",
      "78:\tlearn: 1742.9575581\ttotal: 12.4s\tremaining: 3.31s\n",
      "79:\tlearn: 1741.1554661\ttotal: 12.5s\tremaining: 3.12s\n",
      "80:\tlearn: 1739.8193203\ttotal: 12.5s\tremaining: 2.94s\n",
      "81:\tlearn: 1737.6000285\ttotal: 12.6s\tremaining: 2.75s\n",
      "82:\tlearn: 1736.0420275\ttotal: 12.6s\tremaining: 2.58s\n",
      "83:\tlearn: 1734.1743635\ttotal: 12.7s\tremaining: 2.42s\n",
      "84:\tlearn: 1732.1580157\ttotal: 12.9s\tremaining: 2.27s\n",
      "85:\tlearn: 1730.3989363\ttotal: 13s\tremaining: 2.11s\n",
      "86:\tlearn: 1729.0204995\ttotal: 13.1s\tremaining: 1.96s\n",
      "87:\tlearn: 1727.8287400\ttotal: 13.2s\tremaining: 1.8s\n",
      "88:\tlearn: 1726.1977946\ttotal: 13.4s\tremaining: 1.66s\n",
      "89:\tlearn: 1724.9041571\ttotal: 13.5s\tremaining: 1.5s\n",
      "90:\tlearn: 1723.6080619\ttotal: 13.6s\tremaining: 1.35s\n",
      "91:\tlearn: 1722.0349037\ttotal: 13.8s\tremaining: 1.2s\n",
      "92:\tlearn: 1720.4370154\ttotal: 13.9s\tremaining: 1.05s\n",
      "93:\tlearn: 1718.6522478\ttotal: 14s\tremaining: 894ms\n",
      "94:\tlearn: 1716.9505169\ttotal: 14.2s\tremaining: 747ms\n",
      "95:\tlearn: 1715.5392847\ttotal: 14.3s\tremaining: 596ms\n",
      "96:\tlearn: 1713.9069799\ttotal: 14.4s\tremaining: 446ms\n",
      "97:\tlearn: 1711.9842514\ttotal: 14.6s\tremaining: 298ms\n",
      "98:\tlearn: 1710.1490433\ttotal: 14.7s\tremaining: 149ms\n",
      "99:\tlearn: 1709.0726420\ttotal: 14.9s\tremaining: 0us\n",
      "Learning rate set to 0.5\n",
      "0:\tlearn: 3086.5244919\ttotal: 229ms\tremaining: 22.6s\n",
      "1:\tlearn: 2510.2562547\ttotal: 438ms\tremaining: 21.4s\n",
      "2:\tlearn: 2257.6681054\ttotal: 645ms\tremaining: 20.9s\n",
      "3:\tlearn: 2122.6119086\ttotal: 853ms\tremaining: 20.5s\n",
      "4:\tlearn: 2061.7530902\ttotal: 1.06s\tremaining: 20.1s\n",
      "5:\tlearn: 2026.0172532\ttotal: 1.27s\tremaining: 19.9s\n",
      "6:\tlearn: 1997.7480861\ttotal: 1.49s\tremaining: 19.7s\n",
      "7:\tlearn: 1986.0697755\ttotal: 1.69s\tremaining: 19.5s\n",
      "8:\tlearn: 1962.0724551\ttotal: 1.91s\tremaining: 19.3s\n",
      "9:\tlearn: 1947.7420605\ttotal: 2.13s\tremaining: 19.1s\n",
      "10:\tlearn: 1938.2016353\ttotal: 2.34s\tremaining: 18.9s\n",
      "11:\tlearn: 1915.9725184\ttotal: 2.55s\tremaining: 18.7s\n",
      "12:\tlearn: 1908.8505874\ttotal: 2.76s\tremaining: 18.5s\n",
      "13:\tlearn: 1898.8226638\ttotal: 3.06s\tremaining: 18.8s\n",
      "14:\tlearn: 1890.0952240\ttotal: 3.28s\tremaining: 18.6s\n",
      "15:\tlearn: 1880.3415439\ttotal: 3.56s\tremaining: 18.7s\n",
      "16:\tlearn: 1866.1840101\ttotal: 3.78s\tremaining: 18.5s\n",
      "17:\tlearn: 1861.9060465\ttotal: 4s\tremaining: 18.2s\n",
      "18:\tlearn: 1853.0447793\ttotal: 4.21s\tremaining: 17.9s\n",
      "19:\tlearn: 1847.0573199\ttotal: 4.5s\tremaining: 18s\n",
      "20:\tlearn: 1840.6561379\ttotal: 4.79s\tremaining: 18s\n",
      "21:\tlearn: 1835.0029969\ttotal: 5.08s\tremaining: 18s\n",
      "22:\tlearn: 1828.8945944\ttotal: 5.49s\tremaining: 18.4s\n",
      "23:\tlearn: 1824.0137857\ttotal: 5.8s\tremaining: 18.4s\n",
      "24:\tlearn: 1815.3418163\ttotal: 6.08s\tremaining: 18.3s\n",
      "25:\tlearn: 1811.5659053\ttotal: 6.5s\tremaining: 18.5s\n",
      "26:\tlearn: 1806.0324930\ttotal: 6.89s\tremaining: 18.6s\n",
      "27:\tlearn: 1802.0393123\ttotal: 7.29s\tremaining: 18.8s\n",
      "28:\tlearn: 1799.1779602\ttotal: 7.7s\tremaining: 18.8s\n",
      "29:\tlearn: 1795.9111878\ttotal: 8.18s\tremaining: 19.1s\n",
      "30:\tlearn: 1791.0718060\ttotal: 8.59s\tremaining: 19.1s\n",
      "31:\tlearn: 1787.3532927\ttotal: 8.9s\tremaining: 18.9s\n",
      "32:\tlearn: 1784.6918893\ttotal: 9.12s\tremaining: 18.5s\n",
      "33:\tlearn: 1781.6169451\ttotal: 9.4s\tremaining: 18.3s\n",
      "34:\tlearn: 1776.8438228\ttotal: 9.62s\tremaining: 17.9s\n",
      "35:\tlearn: 1770.5673119\ttotal: 9.82s\tremaining: 17.5s\n",
      "36:\tlearn: 1766.1346009\ttotal: 10s\tremaining: 17.1s\n",
      "37:\tlearn: 1762.4121924\ttotal: 10.2s\tremaining: 16.7s\n",
      "38:\tlearn: 1758.4449116\ttotal: 10.5s\tremaining: 16.5s\n",
      "39:\tlearn: 1755.2395621\ttotal: 10.8s\tremaining: 16.2s\n",
      "40:\tlearn: 1750.2172188\ttotal: 11s\tremaining: 15.9s\n",
      "41:\tlearn: 1744.8818660\ttotal: 11.2s\tremaining: 15.5s\n",
      "42:\tlearn: 1743.5907962\ttotal: 11.4s\tremaining: 15.1s\n",
      "43:\tlearn: 1741.4902955\ttotal: 11.7s\tremaining: 14.9s\n",
      "44:\tlearn: 1735.4850029\ttotal: 12.1s\tremaining: 14.7s\n",
      "45:\tlearn: 1733.2726792\ttotal: 12.4s\tremaining: 14.6s\n",
      "46:\tlearn: 1728.6966369\ttotal: 12.8s\tremaining: 14.4s\n",
      "47:\tlearn: 1723.4584191\ttotal: 13.1s\tremaining: 14.2s\n",
      "48:\tlearn: 1719.9794396\ttotal: 13.3s\tremaining: 13.8s\n",
      "49:\tlearn: 1718.3972568\ttotal: 13.5s\tremaining: 13.5s\n",
      "50:\tlearn: 1716.0140545\ttotal: 13.7s\tremaining: 13.2s\n",
      "51:\tlearn: 1712.3928535\ttotal: 14s\tremaining: 12.9s\n",
      "52:\tlearn: 1708.5107441\ttotal: 14.3s\tremaining: 12.7s\n",
      "53:\tlearn: 1705.8818022\ttotal: 14.5s\tremaining: 12.4s\n",
      "54:\tlearn: 1702.9392530\ttotal: 14.8s\tremaining: 12.1s\n",
      "55:\tlearn: 1699.6215930\ttotal: 15s\tremaining: 11.8s\n",
      "56:\tlearn: 1698.0265158\ttotal: 15.3s\tremaining: 11.6s\n",
      "57:\tlearn: 1695.4677890\ttotal: 15.6s\tremaining: 11.3s\n",
      "58:\tlearn: 1692.2642544\ttotal: 15.9s\tremaining: 11.1s\n",
      "59:\tlearn: 1689.7324754\ttotal: 16.3s\tremaining: 10.9s\n",
      "60:\tlearn: 1687.2357236\ttotal: 16.7s\tremaining: 10.7s\n",
      "61:\tlearn: 1684.7847700\ttotal: 17.1s\tremaining: 10.5s\n",
      "62:\tlearn: 1682.0588462\ttotal: 17.3s\tremaining: 10.2s\n",
      "63:\tlearn: 1680.4857557\ttotal: 17.6s\tremaining: 9.92s\n",
      "64:\tlearn: 1677.7667985\ttotal: 17.8s\tremaining: 9.61s\n",
      "65:\tlearn: 1674.4446698\ttotal: 18.1s\tremaining: 9.3s\n",
      "66:\tlearn: 1672.7629657\ttotal: 18.5s\tremaining: 9.09s\n",
      "67:\tlearn: 1671.1007985\ttotal: 18.9s\tremaining: 8.88s\n",
      "68:\tlearn: 1668.2032536\ttotal: 19.3s\tremaining: 8.66s\n",
      "69:\tlearn: 1665.5216823\ttotal: 19.6s\tremaining: 8.39s\n",
      "70:\tlearn: 1663.5825268\ttotal: 19.9s\tremaining: 8.12s\n",
      "71:\tlearn: 1661.6156702\ttotal: 20.2s\tremaining: 7.84s\n",
      "72:\tlearn: 1658.9906401\ttotal: 20.5s\tremaining: 7.58s\n",
      "73:\tlearn: 1656.3004313\ttotal: 20.8s\tremaining: 7.3s\n",
      "74:\tlearn: 1653.9044991\ttotal: 21.1s\tremaining: 7.03s\n",
      "75:\tlearn: 1651.1628450\ttotal: 21.5s\tremaining: 6.78s\n",
      "76:\tlearn: 1647.5977066\ttotal: 21.8s\tremaining: 6.51s\n",
      "77:\tlearn: 1644.5687431\ttotal: 22.2s\tremaining: 6.26s\n",
      "78:\tlearn: 1642.4713644\ttotal: 22.5s\tremaining: 5.98s\n",
      "79:\tlearn: 1639.9190389\ttotal: 22.8s\tremaining: 5.7s\n",
      "80:\tlearn: 1638.1475896\ttotal: 23.1s\tremaining: 5.42s\n",
      "81:\tlearn: 1636.8090075\ttotal: 23.4s\tremaining: 5.13s\n",
      "82:\tlearn: 1633.5836859\ttotal: 23.6s\tremaining: 4.83s\n",
      "83:\tlearn: 1632.3261822\ttotal: 24s\tremaining: 4.57s\n",
      "84:\tlearn: 1629.5549153\ttotal: 24.2s\tremaining: 4.27s\n",
      "85:\tlearn: 1627.6730983\ttotal: 24.6s\tremaining: 4s\n",
      "86:\tlearn: 1626.3231538\ttotal: 25s\tremaining: 3.73s\n",
      "87:\tlearn: 1624.4611652\ttotal: 25.4s\tremaining: 3.46s\n",
      "88:\tlearn: 1622.8046257\ttotal: 25.6s\tremaining: 3.16s\n",
      "89:\tlearn: 1620.3145076\ttotal: 25.8s\tremaining: 2.87s\n",
      "90:\tlearn: 1618.3148714\ttotal: 26s\tremaining: 2.58s\n",
      "91:\tlearn: 1616.6371229\ttotal: 26.3s\tremaining: 2.28s\n",
      "92:\tlearn: 1614.6508466\ttotal: 26.5s\tremaining: 2s\n",
      "93:\tlearn: 1613.3155350\ttotal: 26.8s\tremaining: 1.71s\n",
      "94:\tlearn: 1610.7989800\ttotal: 26.9s\tremaining: 1.41s\n",
      "95:\tlearn: 1607.9882214\ttotal: 27s\tremaining: 1.13s\n",
      "96:\tlearn: 1606.7484532\ttotal: 27.5s\tremaining: 849ms\n",
      "97:\tlearn: 1605.0089241\ttotal: 27.9s\tremaining: 570ms\n",
      "98:\tlearn: 1603.4925940\ttotal: 28.2s\tremaining: 285ms\n",
      "99:\tlearn: 1601.3659148\ttotal: 28.5s\tremaining: 0us\n",
      "Learning rate set to 0.5\n",
      "0:\tlearn: 3043.1009492\ttotal: 403ms\tremaining: 39.9s\n",
      "1:\tlearn: 2445.5610220\ttotal: 815ms\tremaining: 39.9s\n",
      "2:\tlearn: 2199.2262527\ttotal: 1.43s\tremaining: 46.2s\n",
      "3:\tlearn: 2063.7452347\ttotal: 1.93s\tremaining: 46.3s\n",
      "4:\tlearn: 1999.2669083\ttotal: 2.33s\tremaining: 44.3s\n",
      "5:\tlearn: 1953.5466451\ttotal: 2.73s\tremaining: 42.8s\n",
      "6:\tlearn: 1927.1020680\ttotal: 3.13s\tremaining: 41.6s\n",
      "55:\tlearn: 1778.1860155\ttotal: 7.12s\tremaining: 5.6s\n",
      "56:\tlearn: 1776.3883615\ttotal: 7.32s\tremaining: 5.52s\n",
      "57:\tlearn: 1774.0350335\ttotal: 7.53s\tremaining: 5.45s\n",
      "58:\tlearn: 1772.9980899\ttotal: 7.72s\tremaining: 5.37s\n",
      "59:\tlearn: 1771.4029566\ttotal: 7.92s\tremaining: 5.28s\n",
      "60:\tlearn: 1769.2319154\ttotal: 8.12s\tremaining: 5.19s\n",
      "61:\tlearn: 1767.2328922\ttotal: 8.33s\tremaining: 5.1s\n",
      "62:\tlearn: 1764.6878338\ttotal: 8.53s\tremaining: 5.01s\n",
      "63:\tlearn: 1763.2346160\ttotal: 8.72s\tremaining: 4.91s\n",
      "64:\tlearn: 1761.9333612\ttotal: 8.92s\tremaining: 4.8s\n",
      "65:\tlearn: 1760.4682551\ttotal: 9.03s\tremaining: 4.65s\n",
      "66:\tlearn: 1758.0113757\ttotal: 9.14s\tremaining: 4.5s\n",
      "67:\tlearn: 1756.5522089\ttotal: 9.32s\tremaining: 4.39s\n",
      "68:\tlearn: 1754.6891865\ttotal: 9.44s\tremaining: 4.24s\n",
      "69:\tlearn: 1753.0392450\ttotal: 9.55s\tremaining: 4.09s\n",
      "70:\tlearn: 1751.9984328\ttotal: 9.67s\tremaining: 3.95s\n",
      "71:\tlearn: 1750.1495247\ttotal: 9.78s\tremaining: 3.8s\n",
      "72:\tlearn: 1748.3819427\ttotal: 9.96s\tremaining: 3.69s\n",
      "73:\tlearn: 1746.8919608\ttotal: 10.1s\tremaining: 3.54s\n",
      "74:\tlearn: 1744.1665869\ttotal: 10.2s\tremaining: 3.4s\n",
      "75:\tlearn: 1741.7426870\ttotal: 10.3s\tremaining: 3.25s\n",
      "76:\tlearn: 1739.5282761\ttotal: 10.5s\tremaining: 3.13s\n",
      "77:\tlearn: 1738.5401080\ttotal: 10.6s\tremaining: 2.99s\n",
      "78:\tlearn: 1737.4025239\ttotal: 10.7s\tremaining: 2.85s\n",
      "79:\tlearn: 1736.5305703\ttotal: 10.9s\tremaining: 2.72s\n",
      "80:\tlearn: 1735.0836315\ttotal: 11s\tremaining: 2.58s\n",
      "81:\tlearn: 1733.4247293\ttotal: 11.1s\tremaining: 2.44s\n",
      "82:\tlearn: 1732.3931228\ttotal: 11.3s\tremaining: 2.31s\n",
      "83:\tlearn: 1730.8694014\ttotal: 11.4s\tremaining: 2.17s\n",
      "84:\tlearn: 1729.6866457\ttotal: 11.5s\tremaining: 2.03s\n",
      "85:\tlearn: 1727.8160874\ttotal: 11.6s\tremaining: 1.89s\n",
      "86:\tlearn: 1726.1195436\ttotal: 11.8s\tremaining: 1.76s\n",
      "87:\tlearn: 1724.6559732\ttotal: 11.9s\tremaining: 1.62s\n",
      "88:\tlearn: 1723.5462577\ttotal: 12s\tremaining: 1.49s\n",
      "89:\tlearn: 1722.1232898\ttotal: 12.2s\tremaining: 1.36s\n",
      "90:\tlearn: 1720.9632550\ttotal: 12.3s\tremaining: 1.22s\n",
      "91:\tlearn: 1718.3789367\ttotal: 12.4s\tremaining: 1.08s\n",
      "92:\tlearn: 1716.3847103\ttotal: 12.5s\tremaining: 944ms\n",
      "93:\tlearn: 1715.2438044\ttotal: 12.7s\tremaining: 812ms\n",
      "94:\tlearn: 1713.3790100\ttotal: 12.8s\tremaining: 676ms\n",
      "95:\tlearn: 1711.8548517\ttotal: 13s\tremaining: 543ms\n",
      "96:\tlearn: 1710.5079079\ttotal: 13.1s\tremaining: 406ms\n",
      "97:\tlearn: 1708.7320445\ttotal: 13.3s\tremaining: 272ms\n",
      "98:\tlearn: 1707.2189046\ttotal: 13.4s\tremaining: 136ms\n",
      "99:\tlearn: 1705.6950314\ttotal: 13.6s\tremaining: 0us\n",
      "Learning rate set to 0.5\n",
      "0:\tlearn: 3077.8034577\ttotal: 218ms\tremaining: 21.6s\n",
      "1:\tlearn: 2510.2370391\ttotal: 516ms\tremaining: 25.3s\n",
      "2:\tlearn: 2260.7135268\ttotal: 813ms\tremaining: 26.3s\n",
      "3:\tlearn: 2145.8314130\ttotal: 1.21s\tremaining: 29s\n",
      "4:\tlearn: 2071.9193565\ttotal: 1.61s\tremaining: 30.6s\n",
      "5:\tlearn: 2030.9674376\ttotal: 2.01s\tremaining: 31.5s\n",
      "6:\tlearn: 2002.7942806\ttotal: 2.41s\tremaining: 32s\n",
      "7:\tlearn: 1980.1457558\ttotal: 2.62s\tremaining: 30.1s\n",
      "8:\tlearn: 1959.9733966\ttotal: 2.83s\tremaining: 28.6s\n",
      "9:\tlearn: 1945.8360093\ttotal: 3.13s\tremaining: 28.2s\n",
      "10:\tlearn: 1935.1531257\ttotal: 3.42s\tremaining: 27.7s\n",
      "11:\tlearn: 1915.1508122\ttotal: 3.63s\tremaining: 26.6s\n",
      "12:\tlearn: 1904.2376539\ttotal: 3.84s\tremaining: 25.7s\n",
      "13:\tlearn: 1895.0653758\ttotal: 4.05s\tremaining: 24.9s\n",
      "14:\tlearn: 1888.7747207\ttotal: 4.44s\tremaining: 25.2s\n",
      "15:\tlearn: 1878.6982938\ttotal: 4.65s\tremaining: 24.4s\n",
      "16:\tlearn: 1867.0955320\ttotal: 4.96s\tremaining: 24.2s\n",
      "17:\tlearn: 1861.0577836\ttotal: 5.37s\tremaining: 24.4s\n",
      "18:\tlearn: 1855.4843440\ttotal: 5.78s\tremaining: 24.6s\n",
      "19:\tlearn: 1849.5540673\ttotal: 6.27s\tremaining: 25.1s\n",
      "20:\tlearn: 1841.3998623\ttotal: 6.76s\tremaining: 25.4s\n",
      "21:\tlearn: 1835.1549698\ttotal: 7.08s\tremaining: 25.1s\n",
      "22:\tlearn: 1830.1405699\ttotal: 7.37s\tremaining: 24.7s\n",
      "23:\tlearn: 1823.7178776\ttotal: 7.67s\tremaining: 24.3s\n",
      "24:\tlearn: 1817.5989233\ttotal: 7.97s\tremaining: 23.9s\n",
      "25:\tlearn: 1810.1814574\ttotal: 8.28s\tremaining: 23.6s\n",
      "26:\tlearn: 1802.7673632\ttotal: 8.87s\tremaining: 24s\n",
      "27:\tlearn: 1797.9086093\ttotal: 9.09s\tremaining: 23.4s\n",
      "28:\tlearn: 1794.8314032\ttotal: 9.4s\tremaining: 23s\n",
      "29:\tlearn: 1790.0150999\ttotal: 9.81s\tremaining: 22.9s\n",
      "30:\tlearn: 1785.0829575\ttotal: 10.3s\tremaining: 22.9s\n",
      "31:\tlearn: 1780.7312634\ttotal: 10.6s\tremaining: 22.5s\n",
      "32:\tlearn: 1776.4055972\ttotal: 10.9s\tremaining: 22.1s\n",
      "33:\tlearn: 1772.9781226\ttotal: 11.2s\tremaining: 21.7s\n",
      "34:\tlearn: 1767.7437288\ttotal: 11.5s\tremaining: 21.3s\n",
      "35:\tlearn: 1764.5331444\ttotal: 11.7s\tremaining: 20.8s\n",
      "36:\tlearn: 1761.7277069\ttotal: 12.1s\tremaining: 20.6s\n",
      "37:\tlearn: 1756.8609040\ttotal: 12.4s\tremaining: 20.2s\n",
      "38:\tlearn: 1752.0869554\ttotal: 12.7s\tremaining: 19.9s\n",
      "39:\tlearn: 1750.0715003\ttotal: 13.1s\tremaining: 19.6s\n",
      "40:\tlearn: 1746.9180959\ttotal: 13.3s\tremaining: 19.1s\n",
      "41:\tlearn: 1743.8236370\ttotal: 13.7s\tremaining: 18.9s\n",
      "42:\tlearn: 1741.5973300\ttotal: 14.1s\tremaining: 18.7s\n",
      "43:\tlearn: 1738.1517872\ttotal: 14.4s\tremaining: 18.3s\n",
      "44:\tlearn: 1735.0071968\ttotal: 14.6s\tremaining: 17.8s\n",
      "45:\tlearn: 1732.2243353\ttotal: 14.9s\tremaining: 17.5s\n",
      "46:\tlearn: 1726.9743409\ttotal: 15.3s\tremaining: 17.2s\n",
      "47:\tlearn: 1723.1554509\ttotal: 15.7s\tremaining: 17s\n",
      "48:\tlearn: 1720.9111765\ttotal: 15.9s\tremaining: 16.5s\n",
      "49:\tlearn: 1717.5251980\ttotal: 16.2s\tremaining: 16.2s\n",
      "50:\tlearn: 1712.8384564\ttotal: 16.7s\tremaining: 16s\n",
      "51:\tlearn: 1711.2804740\ttotal: 17.1s\tremaining: 15.8s\n",
      "52:\tlearn: 1708.5044015\ttotal: 17.3s\tremaining: 15.3s\n",
      "53:\tlearn: 1706.7963706\ttotal: 17.5s\tremaining: 14.9s\n",
      "54:\tlearn: 1702.5608005\ttotal: 17.7s\tremaining: 14.5s\n",
      "55:\tlearn: 1699.3443327\ttotal: 17.9s\tremaining: 14.1s\n",
      "56:\tlearn: 1696.5551433\ttotal: 18.2s\tremaining: 13.8s\n",
      "57:\tlearn: 1693.6638764\ttotal: 18.5s\tremaining: 13.4s\n",
      "58:\tlearn: 1690.1687975\ttotal: 18.7s\tremaining: 13s\n",
      "59:\tlearn: 1687.1763657\ttotal: 18.9s\tremaining: 12.6s\n",
      "60:\tlearn: 1684.2497226\ttotal: 19s\tremaining: 12.1s\n",
      "61:\tlearn: 1680.5291732\ttotal: 19.2s\tremaining: 11.8s\n",
      "62:\tlearn: 1676.7148568\ttotal: 19.5s\tremaining: 11.4s\n",
      "63:\tlearn: 1673.6272004\ttotal: 19.7s\tremaining: 11.1s\n",
      "64:\tlearn: 1670.9686639\ttotal: 20s\tremaining: 10.7s\n",
      "65:\tlearn: 1668.6630598\ttotal: 20.3s\tremaining: 10.4s\n",
      "66:\tlearn: 1665.8270238\ttotal: 20.7s\tremaining: 10.2s\n",
      "67:\tlearn: 1663.6552462\ttotal: 21s\tremaining: 9.86s\n",
      "68:\tlearn: 1661.6606292\ttotal: 21.3s\tremaining: 9.55s\n",
      "69:\tlearn: 1659.2954520\ttotal: 21.7s\tremaining: 9.29s\n",
      "70:\tlearn: 1656.4826448\ttotal: 22.1s\tremaining: 9.02s\n",
      "71:\tlearn: 1654.0977196\ttotal: 22.5s\tremaining: 8.74s\n",
      "72:\tlearn: 1651.2603933\ttotal: 22.9s\tremaining: 8.47s\n",
      "73:\tlearn: 1649.0559699\ttotal: 23.4s\tremaining: 8.21s\n",
      "74:\tlearn: 1646.9131781\ttotal: 23.8s\tremaining: 7.93s\n",
      "75:\tlearn: 1644.2679914\ttotal: 24.3s\tremaining: 7.66s\n",
      "76:\tlearn: 1642.3647805\ttotal: 24.7s\tremaining: 7.37s\n",
      "77:\tlearn: 1640.6199659\ttotal: 25.2s\tremaining: 7.1s\n",
      "78:\tlearn: 1637.6521779\ttotal: 25.5s\tremaining: 6.77s\n",
      "79:\tlearn: 1634.9617601\ttotal: 25.7s\tremaining: 6.42s\n",
      "80:\tlearn: 1632.9549329\ttotal: 26s\tremaining: 6.09s\n",
      "81:\tlearn: 1630.2956668\ttotal: 26.2s\tremaining: 5.75s\n",
      "82:\tlearn: 1628.1528485\ttotal: 26.5s\tremaining: 5.42s\n",
      "83:\tlearn: 1626.2548244\ttotal: 26.8s\tremaining: 5.1s\n",
      "84:\tlearn: 1624.3047159\ttotal: 27.1s\tremaining: 4.78s\n",
      "85:\tlearn: 1620.9093830\ttotal: 27.3s\tremaining: 4.44s\n",
      "86:\tlearn: 1618.5311273\ttotal: 27.5s\tremaining: 4.11s\n",
      "87:\tlearn: 1616.2338872\ttotal: 27.7s\tremaining: 3.78s\n",
      "88:\tlearn: 1615.5358862\ttotal: 27.9s\tremaining: 3.45s\n",
      "89:\tlearn: 1612.7960448\ttotal: 28.2s\tremaining: 3.13s\n",
      "90:\tlearn: 1610.8407078\ttotal: 28.4s\tremaining: 2.81s\n",
      "91:\tlearn: 1608.4881969\ttotal: 28.6s\tremaining: 2.49s\n",
      "92:\tlearn: 1606.5213462\ttotal: 28.9s\tremaining: 2.18s\n",
      "93:\tlearn: 1604.6327336\ttotal: 29.2s\tremaining: 1.86s\n",
      "94:\tlearn: 1601.9476023\ttotal: 29.4s\tremaining: 1.54s\n",
      "95:\tlearn: 1600.6970834\ttotal: 29.6s\tremaining: 1.23s\n",
      "96:\tlearn: 1599.5208849\ttotal: 30s\tremaining: 927ms\n",
      "97:\tlearn: 1598.2734015\ttotal: 30.4s\tremaining: 620ms\n",
      "98:\tlearn: 1596.1907920\ttotal: 30.8s\tremaining: 311ms\n",
      "99:\tlearn: 1594.8455224\ttotal: 31.3s\tremaining: 0us\n",
      "Learning rate set to 0.5\n",
      "0:\tlearn: 3042.5532557\ttotal: 624ms\tremaining: 1m 1s\n",
      "1:\tlearn: 2455.5372355\ttotal: 1.14s\tremaining: 56s\n",
      "2:\tlearn: 2206.6797763\ttotal: 1.75s\tremaining: 56.5s\n",
      "3:\tlearn: 2070.7323130\ttotal: 2.44s\tremaining: 58.6s\n",
      "4:\tlearn: 2008.9366753\ttotal: 3.06s\tremaining: 58.2s\n",
      "5:\tlearn: 1970.5485473\ttotal: 3.75s\tremaining: 58.7s\n",
      "6:\tlearn: 2003.8397750\ttotal: 2.07s\tremaining: 27.5s\n",
      "7:\tlearn: 1974.4782695\ttotal: 2.27s\tremaining: 26.1s\n",
      "8:\tlearn: 1957.8183109\ttotal: 2.44s\tremaining: 24.7s\n",
      "9:\tlearn: 1943.5659178\ttotal: 2.56s\tremaining: 23.1s\n",
      "10:\tlearn: 1932.8287436\ttotal: 2.77s\tremaining: 22.5s\n",
      "11:\tlearn: 1920.6633314\ttotal: 3.06s\tremaining: 22.5s\n",
      "12:\tlearn: 1909.7738764\ttotal: 3.39s\tremaining: 22.7s\n",
      "13:\tlearn: 1897.9508899\ttotal: 3.59s\tremaining: 22s\n",
      "14:\tlearn: 1889.1797979\ttotal: 3.86s\tremaining: 21.9s\n",
      "15:\tlearn: 1880.8575578\ttotal: 4.26s\tremaining: 22.4s\n",
      "16:\tlearn: 1873.7468013\ttotal: 4.66s\tremaining: 22.8s\n",
      "17:\tlearn: 1866.0030825\ttotal: 5.14s\tremaining: 23.4s\n",
      "18:\tlearn: 1859.0710842\ttotal: 5.45s\tremaining: 23.2s\n",
      "19:\tlearn: 1851.9439981\ttotal: 5.66s\tremaining: 22.6s\n",
      "20:\tlearn: 1845.8258790\ttotal: 5.95s\tremaining: 22.4s\n",
      "21:\tlearn: 1838.3550278\ttotal: 6.24s\tremaining: 22.1s\n",
      "22:\tlearn: 1834.6540489\ttotal: 6.45s\tremaining: 21.6s\n",
      "23:\tlearn: 1828.4443498\ttotal: 6.75s\tremaining: 21.4s\n",
      "24:\tlearn: 1823.4925988\ttotal: 7.04s\tremaining: 21.1s\n",
      "25:\tlearn: 1815.5749564\ttotal: 7.34s\tremaining: 20.9s\n",
      "26:\tlearn: 1811.8090078\ttotal: 7.65s\tremaining: 20.7s\n",
      "27:\tlearn: 1806.9829301\ttotal: 7.95s\tremaining: 20.4s\n",
      "28:\tlearn: 1803.4171343\ttotal: 8.16s\tremaining: 20s\n",
      "29:\tlearn: 1796.3692152\ttotal: 8.38s\tremaining: 19.6s\n",
      "30:\tlearn: 1787.1488520\ttotal: 8.6s\tremaining: 19.1s\n",
      "31:\tlearn: 1782.4695365\ttotal: 8.89s\tremaining: 18.9s\n",
      "32:\tlearn: 1778.5062501\ttotal: 9.11s\tremaining: 18.5s\n",
      "33:\tlearn: 1773.1019842\ttotal: 9.32s\tremaining: 18.1s\n",
      "34:\tlearn: 1766.6274750\ttotal: 9.53s\tremaining: 17.7s\n",
      "35:\tlearn: 1762.5369443\ttotal: 9.76s\tremaining: 17.3s\n",
      "36:\tlearn: 1759.0702874\ttotal: 10s\tremaining: 17.1s\n",
      "37:\tlearn: 1755.6205100\ttotal: 10.3s\tremaining: 16.9s\n",
      "38:\tlearn: 1751.6146309\ttotal: 10.6s\tremaining: 16.6s\n",
      "39:\tlearn: 1749.0948305\ttotal: 10.9s\tremaining: 16.3s\n",
      "40:\tlearn: 1746.9291440\ttotal: 11.1s\tremaining: 15.9s\n",
      "41:\tlearn: 1743.7374705\ttotal: 11.3s\tremaining: 15.6s\n",
      "42:\tlearn: 1742.2216013\ttotal: 11.6s\tremaining: 15.3s\n",
      "43:\tlearn: 1738.0467424\ttotal: 11.8s\tremaining: 15s\n",
      "44:\tlearn: 1734.5023315\ttotal: 12.1s\tremaining: 14.8s\n",
      "45:\tlearn: 1730.7078953\ttotal: 12.4s\tremaining: 14.5s\n",
      "46:\tlearn: 1723.9805395\ttotal: 12.7s\tremaining: 14.3s\n",
      "47:\tlearn: 1720.7965318\ttotal: 12.9s\tremaining: 14s\n",
      "48:\tlearn: 1717.6941647\ttotal: 13.1s\tremaining: 13.6s\n",
      "49:\tlearn: 1715.5391924\ttotal: 13.4s\tremaining: 13.4s\n",
      "50:\tlearn: 1711.3340555\ttotal: 13.7s\tremaining: 13.2s\n",
      "51:\tlearn: 1706.1428757\ttotal: 14s\tremaining: 12.9s\n",
      "52:\tlearn: 1703.7699095\ttotal: 14.3s\tremaining: 12.7s\n",
      "53:\tlearn: 1699.3002132\ttotal: 14.5s\tremaining: 12.4s\n",
      "54:\tlearn: 1696.5049288\ttotal: 14.7s\tremaining: 12.1s\n",
      "55:\tlearn: 1693.7996055\ttotal: 15s\tremaining: 11.8s\n",
      "56:\tlearn: 1692.6253910\ttotal: 15.3s\tremaining: 11.6s\n",
      "57:\tlearn: 1690.0432309\ttotal: 15.6s\tremaining: 11.3s\n",
      "58:\tlearn: 1687.9202139\ttotal: 15.9s\tremaining: 11.1s\n",
      "59:\tlearn: 1684.9173726\ttotal: 16.2s\tremaining: 10.8s\n",
      "60:\tlearn: 1681.8146039\ttotal: 16.4s\tremaining: 10.5s\n",
      "61:\tlearn: 1679.5282685\ttotal: 16.8s\tremaining: 10.3s\n",
      "62:\tlearn: 1677.1495562\ttotal: 17.1s\tremaining: 10.1s\n",
      "63:\tlearn: 1675.3315274\ttotal: 17.4s\tremaining: 9.8s\n",
      "64:\tlearn: 1673.3165134\ttotal: 17.6s\tremaining: 9.49s\n",
      "65:\tlearn: 1670.6227854\ttotal: 17.9s\tremaining: 9.23s\n",
      "66:\tlearn: 1667.3927678\ttotal: 18.1s\tremaining: 8.93s\n",
      "67:\tlearn: 1665.2686970\ttotal: 18.4s\tremaining: 8.65s\n",
      "68:\tlearn: 1662.8861784\ttotal: 18.6s\tremaining: 8.36s\n",
      "69:\tlearn: 1661.8138605\ttotal: 18.9s\tremaining: 8.11s\n",
      "70:\tlearn: 1660.1544007\ttotal: 19.2s\tremaining: 7.86s\n",
      "71:\tlearn: 1659.0066745\ttotal: 19.6s\tremaining: 7.64s\n",
      "72:\tlearn: 1657.0756306\ttotal: 20s\tremaining: 7.41s\n",
      "73:\tlearn: 1654.1412714\ttotal: 20.4s\tremaining: 7.18s\n",
      "74:\tlearn: 1651.8813495\ttotal: 20.8s\tremaining: 6.92s\n",
      "75:\tlearn: 1647.3479266\ttotal: 21.2s\tremaining: 6.71s\n",
      "76:\tlearn: 1644.5776540\ttotal: 21.7s\tremaining: 6.47s\n",
      "77:\tlearn: 1643.0437815\ttotal: 22.1s\tremaining: 6.22s\n",
      "78:\tlearn: 1640.1566954\ttotal: 22.5s\tremaining: 5.97s\n",
      "79:\tlearn: 1637.2173374\ttotal: 22.9s\tremaining: 5.73s\n",
      "80:\tlearn: 1634.5785786\ttotal: 23.3s\tremaining: 5.47s\n",
      "81:\tlearn: 1631.2117801\ttotal: 23.7s\tremaining: 5.21s\n",
      "82:\tlearn: 1628.2307956\ttotal: 24.1s\tremaining: 4.94s\n",
      "83:\tlearn: 1626.4660383\ttotal: 24.4s\tremaining: 4.64s\n",
      "84:\tlearn: 1625.0156832\ttotal: 24.6s\tremaining: 4.35s\n",
      "85:\tlearn: 1623.2434297\ttotal: 24.9s\tremaining: 4.06s\n",
      "86:\tlearn: 1619.8053453\ttotal: 25.2s\tremaining: 3.76s\n",
      "87:\tlearn: 1617.5879129\ttotal: 25.5s\tremaining: 3.47s\n",
      "88:\tlearn: 1615.6832061\ttotal: 25.7s\tremaining: 3.17s\n",
      "89:\tlearn: 1613.2903386\ttotal: 25.9s\tremaining: 2.88s\n",
      "90:\tlearn: 1610.2459324\ttotal: 26.1s\tremaining: 2.58s\n",
      "91:\tlearn: 1608.0895686\ttotal: 26.4s\tremaining: 2.29s\n",
      "92:\tlearn: 1606.2968251\ttotal: 26.8s\tremaining: 2.02s\n",
      "93:\tlearn: 1604.9335924\ttotal: 27.1s\tremaining: 1.73s\n",
      "94:\tlearn: 1602.5312383\ttotal: 27.5s\tremaining: 1.45s\n",
      "95:\tlearn: 1600.7058078\ttotal: 27.8s\tremaining: 1.16s\n",
      "96:\tlearn: 1599.4679553\ttotal: 28.1s\tremaining: 870ms\n",
      "97:\tlearn: 1597.8963525\ttotal: 28.3s\tremaining: 578ms\n",
      "98:\tlearn: 1595.4686927\ttotal: 28.6s\tremaining: 288ms\n",
      "99:\tlearn: 1594.3416840\ttotal: 29s\tremaining: 0us\n",
      "Learning rate set to 0.5\n",
      "0:\tlearn: 3064.5714107\ttotal: 403ms\tremaining: 39.9s\n",
      "1:\tlearn: 2446.9761183\ttotal: 810ms\tremaining: 39.7s\n",
      "2:\tlearn: 2203.4441158\ttotal: 1.31s\tremaining: 42.3s\n",
      "3:\tlearn: 2070.9944511\ttotal: 1.79s\tremaining: 43s\n",
      "4:\tlearn: 1999.4113332\ttotal: 2.4s\tremaining: 45.5s\n",
      "5:\tlearn: 1948.9388662\ttotal: 3.1s\tremaining: 48.6s\n",
      "6:\tlearn: 1925.2715745\ttotal: 3.8s\tremaining: 50.5s\n",
      "7:\tlearn: 1911.2050508\ttotal: 4.21s\tremaining: 48.4s\n",
      "8:\tlearn: 1892.0553905\ttotal: 4.79s\tremaining: 48.4s\n",
      "9:\tlearn: 1874.7751119\ttotal: 5.2s\tremaining: 46.8s\n",
      "10:\tlearn: 1862.0313798\ttotal: 5.79s\tremaining: 46.9s\n",
      "11:\tlearn: 1845.8284333\ttotal: 6.3s\tremaining: 46.2s\n",
      "12:\tlearn: 1834.2911804\ttotal: 6.9s\tremaining: 46.2s\n",
      "13:\tlearn: 1824.9239286\ttotal: 7.41s\tremaining: 45.5s\n",
      "14:\tlearn: 1817.1188239\ttotal: 7.81s\tremaining: 44.3s\n",
      "15:\tlearn: 1810.3223112\ttotal: 8.22s\tremaining: 43.2s\n",
      "16:\tlearn: 1801.7615859\ttotal: 8.72s\tremaining: 42.6s\n",
      "17:\tlearn: 1794.3356120\ttotal: 9.21s\tremaining: 42s\n",
      "18:\tlearn: 1790.4108579\ttotal: 9.71s\tremaining: 41.4s\n",
      "19:\tlearn: 1783.4338720\ttotal: 10.2s\tremaining: 40.9s\n",
      "20:\tlearn: 1774.5624136\ttotal: 10.7s\tremaining: 40.3s\n",
      "21:\tlearn: 1765.3658242\ttotal: 11.1s\tremaining: 39.4s\n",
      "22:\tlearn: 1761.6486670\ttotal: 11.5s\tremaining: 38.5s\n",
      "23:\tlearn: 1755.7876109\ttotal: 12s\tremaining: 38s\n",
      "24:\tlearn: 1750.0612756\ttotal: 12.5s\tremaining: 37.5s\n",
      "25:\tlearn: 1743.6476405\ttotal: 12.9s\tremaining: 36.8s\n",
      "26:\tlearn: 1735.7354813\ttotal: 13.6s\tremaining: 36.8s\n",
      "27:\tlearn: 1729.5711906\ttotal: 14.2s\tremaining: 36.6s\n",
      "28:\tlearn: 1724.1496171\ttotal: 14.7s\tremaining: 36s\n",
      "29:\tlearn: 1719.7632862\ttotal: 15.2s\tremaining: 35.5s\n",
      "30:\tlearn: 1715.8130566\ttotal: 15.8s\tremaining: 35.2s\n",
      "31:\tlearn: 1711.1345609\ttotal: 16.2s\tremaining: 34.5s\n",
      "32:\tlearn: 1705.4443496\ttotal: 16.7s\tremaining: 34s\n",
      "33:\tlearn: 1699.9057728\ttotal: 17.1s\tremaining: 33.3s\n",
      "34:\tlearn: 1696.2947818\ttotal: 17.6s\tremaining: 32.7s\n",
      "35:\tlearn: 1692.4620173\ttotal: 18s\tremaining: 32s\n",
      "36:\tlearn: 1684.2074114\ttotal: 18.4s\tremaining: 31.4s\n",
      "37:\tlearn: 1680.3591945\ttotal: 18.8s\tremaining: 30.7s\n",
      "38:\tlearn: 1673.8704368\ttotal: 19.2s\tremaining: 30.1s\n",
      "39:\tlearn: 1668.2226227\ttotal: 19.7s\tremaining: 29.6s\n",
      "40:\tlearn: 1662.8562070\ttotal: 20.1s\tremaining: 29s\n",
      "41:\tlearn: 1652.5474716\ttotal: 20.6s\tremaining: 28.5s\n",
      "42:\tlearn: 1647.7335583\ttotal: 20.9s\tremaining: 27.7s\n",
      "43:\tlearn: 1644.3393804\ttotal: 21.1s\tremaining: 26.9s\n",
      "44:\tlearn: 1641.8409464\ttotal: 21.4s\tremaining: 26.2s\n",
      "45:\tlearn: 1638.1752118\ttotal: 21.8s\tremaining: 25.5s\n",
      "46:\tlearn: 1633.1945609\ttotal: 22.1s\tremaining: 24.9s\n",
      "47:\tlearn: 1628.7016936\ttotal: 22.4s\tremaining: 24.3s\n",
      "48:\tlearn: 1623.2022555\ttotal: 22.6s\tremaining: 23.6s\n",
      "49:\tlearn: 1616.1617955\ttotal: 23s\tremaining: 23s\n",
      "50:\tlearn: 1610.2483207\ttotal: 23.4s\tremaining: 22.5s\n",
      "51:\tlearn: 1606.8857646\ttotal: 23.8s\tremaining: 22s\n",
      "52:\tlearn: 1603.8623521\ttotal: 24.2s\tremaining: 21.5s\n",
      "53:\tlearn: 1599.4353545\ttotal: 24.6s\tremaining: 21s\n",
      "54:\tlearn: 1592.7063565\ttotal: 25.1s\tremaining: 20.5s\n",
      "55:\tlearn: 1589.4463949\ttotal: 25.6s\tremaining: 20.1s\n",
      "56:\tlearn: 1586.2898161\ttotal: 26s\tremaining: 19.6s\n",
      "57:\tlearn: 1583.0198406\ttotal: 26.7s\tremaining: 19.3s\n",
      "7:\tlearn: 1908.1417756\ttotal: 3.62s\tremaining: 41.6s\n",
      "8:\tlearn: 1893.4618664\ttotal: 4.03s\tremaining: 40.7s\n",
      "9:\tlearn: 1873.0148104\ttotal: 4.43s\tremaining: 39.9s\n",
      "10:\tlearn: 1861.3287363\ttotal: 4.82s\tremaining: 39s\n",
      "11:\tlearn: 1853.0996133\ttotal: 5.22s\tremaining: 38.3s\n",
      "12:\tlearn: 1846.3415472\ttotal: 5.62s\tremaining: 37.6s\n",
      "13:\tlearn: 1834.8870817\ttotal: 6.02s\tremaining: 37s\n",
      "14:\tlearn: 1823.3423791\ttotal: 6.41s\tremaining: 36.4s\n",
      "15:\tlearn: 1813.6599388\ttotal: 6.82s\tremaining: 35.8s\n",
      "16:\tlearn: 1802.8091674\ttotal: 7.22s\tremaining: 35.2s\n",
      "17:\tlearn: 1791.8941737\ttotal: 7.62s\tremaining: 34.7s\n",
      "18:\tlearn: 1786.9555090\ttotal: 8.02s\tremaining: 34.2s\n",
      "19:\tlearn: 1779.4460508\ttotal: 8.42s\tremaining: 33.7s\n",
      "20:\tlearn: 1770.3001284\ttotal: 8.82s\tremaining: 33.2s\n",
      "21:\tlearn: 1763.8009241\ttotal: 9.22s\tremaining: 32.7s\n",
      "22:\tlearn: 1754.5587417\ttotal: 9.62s\tremaining: 32.2s\n",
      "23:\tlearn: 1746.5456159\ttotal: 10.1s\tremaining: 32s\n",
      "24:\tlearn: 1740.6722600\ttotal: 10.5s\tremaining: 31.5s\n",
      "25:\tlearn: 1735.6617425\ttotal: 10.9s\tremaining: 31.1s\n",
      "26:\tlearn: 1728.3941244\ttotal: 11.3s\tremaining: 30.6s\n",
      "27:\tlearn: 1724.4622621\ttotal: 11.8s\tremaining: 30.4s\n",
      "28:\tlearn: 1719.9939951\ttotal: 12.2s\tremaining: 29.9s\n",
      "29:\tlearn: 1714.0016314\ttotal: 12.7s\tremaining: 29.6s\n",
      "30:\tlearn: 1709.3657773\ttotal: 13s\tremaining: 28.9s\n",
      "31:\tlearn: 1705.1075260\ttotal: 13.4s\tremaining: 28.5s\n",
      "32:\tlearn: 1697.5175185\ttotal: 13.8s\tremaining: 28.1s\n",
      "33:\tlearn: 1691.4993592\ttotal: 14.3s\tremaining: 27.8s\n",
      "34:\tlearn: 1684.7678277\ttotal: 14.6s\tremaining: 27.1s\n",
      "35:\tlearn: 1682.0204529\ttotal: 15s\tremaining: 26.7s\n",
      "36:\tlearn: 1677.7082711\ttotal: 15.6s\tremaining: 26.6s\n",
      "37:\tlearn: 1671.6861854\ttotal: 16s\tremaining: 26.1s\n",
      "38:\tlearn: 1666.6182037\ttotal: 16.4s\tremaining: 25.7s\n",
      "39:\tlearn: 1662.5557012\ttotal: 16.8s\tremaining: 25.3s\n",
      "40:\tlearn: 1659.6687480\ttotal: 17.2s\tremaining: 24.8s\n",
      "41:\tlearn: 1652.4389166\ttotal: 17.7s\tremaining: 24.5s\n",
      "42:\tlearn: 1645.5499913\ttotal: 18.1s\tremaining: 24s\n",
      "43:\tlearn: 1640.5852142\ttotal: 18.6s\tremaining: 23.7s\n",
      "44:\tlearn: 1636.9308115\ttotal: 19.1s\tremaining: 23.4s\n",
      "45:\tlearn: 1631.2611558\ttotal: 19.8s\tremaining: 23.3s\n",
      "46:\tlearn: 1627.4667878\ttotal: 20.4s\tremaining: 23s\n",
      "47:\tlearn: 1623.5072716\ttotal: 20.9s\tremaining: 22.7s\n",
      "48:\tlearn: 1619.6733287\ttotal: 21.5s\tremaining: 22.4s\n",
      "49:\tlearn: 1613.9160001\ttotal: 21.9s\tremaining: 21.9s\n",
      "50:\tlearn: 1612.1458406\ttotal: 22.4s\tremaining: 21.5s\n",
      "51:\tlearn: 1608.7510296\ttotal: 22.8s\tremaining: 21s\n",
      "52:\tlearn: 1603.7975543\ttotal: 23.2s\tremaining: 20.6s\n",
      "53:\tlearn: 1600.2764072\ttotal: 23.6s\tremaining: 20.1s\n",
      "54:\tlearn: 1598.0994830\ttotal: 24s\tremaining: 19.6s\n",
      "55:\tlearn: 1591.9211683\ttotal: 24.4s\tremaining: 19.2s\n",
      "56:\tlearn: 1587.1968052\ttotal: 25s\tremaining: 18.9s\n",
      "57:\tlearn: 1584.4035264\ttotal: 25.7s\tremaining: 18.6s\n",
      "58:\tlearn: 1580.5334818\ttotal: 26.3s\tremaining: 18.3s\n",
      "59:\tlearn: 1577.3926201\ttotal: 27s\tremaining: 18s\n",
      "60:\tlearn: 1572.7185135\ttotal: 27.5s\tremaining: 17.6s\n",
      "61:\tlearn: 1569.8595602\ttotal: 28.1s\tremaining: 17.2s\n",
      "62:\tlearn: 1566.6582058\ttotal: 28.8s\tremaining: 16.9s\n",
      "63:\tlearn: 1560.8624339\ttotal: 29.3s\tremaining: 16.5s\n",
      "64:\tlearn: 1556.8501588\ttotal: 29.7s\tremaining: 16s\n",
      "65:\tlearn: 1555.1994557\ttotal: 30.1s\tremaining: 15.5s\n",
      "66:\tlearn: 1552.9624069\ttotal: 30.5s\tremaining: 15s\n",
      "67:\tlearn: 1547.0211461\ttotal: 30.9s\tremaining: 14.5s\n",
      "68:\tlearn: 1545.0986614\ttotal: 31.3s\tremaining: 14.1s\n",
      "69:\tlearn: 1541.7401435\ttotal: 31.8s\tremaining: 13.6s\n",
      "70:\tlearn: 1537.5849624\ttotal: 32.3s\tremaining: 13.2s\n",
      "71:\tlearn: 1534.5940706\ttotal: 32.9s\tremaining: 12.8s\n",
      "72:\tlearn: 1532.6668400\ttotal: 33.4s\tremaining: 12.4s\n",
      "73:\tlearn: 1530.9347583\ttotal: 33.8s\tremaining: 11.9s\n",
      "74:\tlearn: 1529.3234147\ttotal: 34.3s\tremaining: 11.4s\n",
      "75:\tlearn: 1526.8389794\ttotal: 34.9s\tremaining: 11s\n",
      "76:\tlearn: 1523.5932602\ttotal: 35.5s\tremaining: 10.6s\n",
      "77:\tlearn: 1520.5598290\ttotal: 36.1s\tremaining: 10.2s\n",
      "78:\tlearn: 1518.8623955\ttotal: 36.6s\tremaining: 9.72s\n",
      "79:\tlearn: 1516.5590243\ttotal: 37.1s\tremaining: 9.26s\n",
      "80:\tlearn: 1514.3595568\ttotal: 37.6s\tremaining: 8.83s\n",
      "81:\tlearn: 1512.3864360\ttotal: 38s\tremaining: 8.35s\n",
      "82:\tlearn: 1509.3255630\ttotal: 38.5s\tremaining: 7.88s\n",
      "83:\tlearn: 1506.2550874\ttotal: 38.9s\tremaining: 7.41s\n",
      "84:\tlearn: 1504.9892667\ttotal: 39.3s\tremaining: 6.93s\n",
      "85:\tlearn: 1502.8063942\ttotal: 39.8s\tremaining: 6.47s\n",
      "86:\tlearn: 1500.0368469\ttotal: 40.2s\tremaining: 6s\n",
      "87:\tlearn: 1497.6983026\ttotal: 40.6s\tremaining: 5.53s\n",
      "88:\tlearn: 1494.9418799\ttotal: 41s\tremaining: 5.07s\n",
      "89:\tlearn: 1491.1456298\ttotal: 41.4s\tremaining: 4.6s\n",
      "90:\tlearn: 1488.0087978\ttotal: 41.8s\tremaining: 4.13s\n",
      "91:\tlearn: 1485.9511530\ttotal: 42.3s\tremaining: 3.67s\n",
      "92:\tlearn: 1484.4165039\ttotal: 42.9s\tremaining: 3.23s\n",
      "93:\tlearn: 1480.4809616\ttotal: 43.3s\tremaining: 2.76s\n",
      "94:\tlearn: 1477.9496006\ttotal: 43.7s\tremaining: 2.3s\n",
      "95:\tlearn: 1476.8675999\ttotal: 44.3s\tremaining: 1.85s\n",
      "96:\tlearn: 1473.5902209\ttotal: 44.9s\tremaining: 1.39s\n",
      "97:\tlearn: 1470.4614848\ttotal: 45.5s\tremaining: 929ms\n",
      "98:\tlearn: 1467.1626061\ttotal: 46.2s\tremaining: 467ms\n",
      "99:\tlearn: 1462.6965463\ttotal: 46.9s\tremaining: 0us\n",
      "Learning rate set to 0.5\n",
      "0:\tlearn: 3048.1747678\ttotal: 312ms\tremaining: 30.9s\n",
      "1:\tlearn: 2440.3754078\ttotal: 626ms\tremaining: 30.7s\n",
      "2:\tlearn: 2205.6816428\ttotal: 931ms\tremaining: 30.1s\n",
      "3:\tlearn: 2077.0169682\ttotal: 1.25s\tremaining: 30s\n",
      "4:\tlearn: 1995.6912494\ttotal: 1.65s\tremaining: 31.4s\n",
      "5:\tlearn: 1949.6752719\ttotal: 2.06s\tremaining: 32.2s\n",
      "6:\tlearn: 1928.2279856\ttotal: 2.76s\tremaining: 36.6s\n",
      "7:\tlearn: 1909.6284191\ttotal: 3.46s\tremaining: 39.9s\n",
      "8:\tlearn: 1890.7341802\ttotal: 3.96s\tremaining: 40.1s\n",
      "9:\tlearn: 1879.7189957\ttotal: 4.45s\tremaining: 40.1s\n",
      "10:\tlearn: 1865.9959360\ttotal: 4.87s\tremaining: 39.4s\n",
      "11:\tlearn: 1856.9064237\ttotal: 5.27s\tremaining: 38.7s\n",
      "12:\tlearn: 1843.9757627\ttotal: 5.67s\tremaining: 38s\n",
      "13:\tlearn: 1831.4091113\ttotal: 6.16s\tremaining: 37.9s\n",
      "14:\tlearn: 1823.4990037\ttotal: 6.59s\tremaining: 37.3s\n",
      "15:\tlearn: 1812.1557788\ttotal: 7.09s\tremaining: 37.2s\n",
      "16:\tlearn: 1801.8766563\ttotal: 7.5s\tremaining: 36.6s\n",
      "17:\tlearn: 1794.8965908\ttotal: 8.19s\tremaining: 37.3s\n",
      "18:\tlearn: 1786.0849327\ttotal: 8.79s\tremaining: 37.5s\n",
      "19:\tlearn: 1777.9120207\ttotal: 9.29s\tremaining: 37.2s\n",
      "20:\tlearn: 1768.8226546\ttotal: 9.7s\tremaining: 36.5s\n",
      "21:\tlearn: 1761.9981152\ttotal: 10.2s\tremaining: 36.1s\n",
      "22:\tlearn: 1756.2944301\ttotal: 10.6s\tremaining: 35.5s\n",
      "23:\tlearn: 1748.5230514\ttotal: 11.1s\tremaining: 35.1s\n",
      "24:\tlearn: 1738.9850579\ttotal: 11.5s\tremaining: 34.5s\n",
      "25:\tlearn: 1733.6526645\ttotal: 11.9s\tremaining: 33.9s\n",
      "26:\tlearn: 1728.6340443\ttotal: 12.4s\tremaining: 33.5s\n",
      "27:\tlearn: 1722.1264475\ttotal: 12.8s\tremaining: 32.9s\n",
      "28:\tlearn: 1709.3831518\ttotal: 13.3s\tremaining: 32.5s\n",
      "29:\tlearn: 1705.3306143\ttotal: 13.8s\tremaining: 32.2s\n",
      "30:\tlearn: 1699.6446938\ttotal: 14.2s\tremaining: 31.6s\n",
      "31:\tlearn: 1694.1724898\ttotal: 14.6s\tremaining: 31s\n",
      "32:\tlearn: 1688.2556663\ttotal: 15s\tremaining: 30.5s\n",
      "33:\tlearn: 1681.1312069\ttotal: 15.4s\tremaining: 29.9s\n",
      "34:\tlearn: 1674.2061895\ttotal: 15.7s\tremaining: 29.2s\n",
      "35:\tlearn: 1668.6636356\ttotal: 16.1s\tremaining: 28.7s\n",
      "36:\tlearn: 1665.7857675\ttotal: 16.6s\tremaining: 28.3s\n",
      "37:\tlearn: 1662.4257728\ttotal: 17s\tremaining: 27.8s\n",
      "38:\tlearn: 1658.1312468\ttotal: 17.4s\tremaining: 27.3s\n",
      "39:\tlearn: 1648.9889883\ttotal: 18.1s\tremaining: 27.2s\n",
      "40:\tlearn: 1644.9136479\ttotal: 18.7s\tremaining: 27s\n",
      "41:\tlearn: 1642.4739913\ttotal: 19.4s\tremaining: 26.8s\n",
      "42:\tlearn: 1638.8286232\ttotal: 20s\tremaining: 26.6s\n",
      "43:\tlearn: 1636.6389264\ttotal: 20.7s\tremaining: 26.3s\n",
      "44:\tlearn: 1633.7797540\ttotal: 21.2s\tremaining: 25.9s\n",
      "45:\tlearn: 1627.3428088\ttotal: 21.6s\tremaining: 25.4s\n",
      "46:\tlearn: 1621.5735458\ttotal: 22.3s\tremaining: 25.1s\n",
      "47:\tlearn: 1616.4807574\ttotal: 22.9s\tremaining: 24.8s\n",
      "48:\tlearn: 1612.3433138\ttotal: 23.5s\tremaining: 24.4s\n",
      "49:\tlearn: 1607.9963957\ttotal: 23.9s\tremaining: 23.9s\n",
      "50:\tlearn: 1603.9835497\ttotal: 24.2s\tremaining: 23.3s\n",
      "51:\tlearn: 1600.4578602\ttotal: 24.6s\tremaining: 22.7s\n",
      "52:\tlearn: 1596.8291635\ttotal: 25s\tremaining: 22.2s\n",
      "53:\tlearn: 1591.9099940\ttotal: 25.4s\tremaining: 21.7s\n",
      "54:\tlearn: 1586.7353017\ttotal: 25.8s\tremaining: 21.1s\n",
      "55:\tlearn: 1580.3416235\ttotal: 26.1s\tremaining: 20.5s\n",
      "56:\tlearn: 1576.3513146\ttotal: 26.5s\tremaining: 20s\n",
      "57:\tlearn: 1573.6232963\ttotal: 26.9s\tremaining: 19.5s\n",
      "58:\tlearn: 1569.5806701\ttotal: 27.4s\tremaining: 19.1s\n",
      "5:\tlearn: 1954.8822842\ttotal: 2.46s\tremaining: 38.5s\n",
      "6:\tlearn: 1921.5855647\ttotal: 3.05s\tremaining: 40.5s\n",
      "7:\tlearn: 1903.8942285\ttotal: 3.46s\tremaining: 39.8s\n",
      "8:\tlearn: 1889.1233812\ttotal: 3.97s\tremaining: 40.1s\n",
      "9:\tlearn: 1872.6310102\ttotal: 4.58s\tremaining: 41.2s\n",
      "10:\tlearn: 1864.2856818\ttotal: 5.18s\tremaining: 41.9s\n",
      "11:\tlearn: 1851.0332668\ttotal: 5.86s\tremaining: 43s\n",
      "12:\tlearn: 1846.0692026\ttotal: 6.17s\tremaining: 41.3s\n",
      "13:\tlearn: 1835.8933395\ttotal: 6.77s\tremaining: 41.6s\n",
      "14:\tlearn: 1827.0521878\ttotal: 7.38s\tremaining: 41.8s\n",
      "15:\tlearn: 1813.9004595\ttotal: 7.87s\tremaining: 41.3s\n",
      "16:\tlearn: 1804.8732385\ttotal: 8.27s\tremaining: 40.4s\n",
      "17:\tlearn: 1793.1779987\ttotal: 8.68s\tremaining: 39.5s\n",
      "18:\tlearn: 1786.8377425\ttotal: 9s\tremaining: 38.4s\n",
      "19:\tlearn: 1778.5673261\ttotal: 9.33s\tremaining: 37.3s\n",
      "20:\tlearn: 1767.3263620\ttotal: 9.73s\tremaining: 36.6s\n",
      "21:\tlearn: 1760.4599535\ttotal: 10.1s\tremaining: 35.9s\n",
      "22:\tlearn: 1750.1379763\ttotal: 10.5s\tremaining: 35.3s\n",
      "23:\tlearn: 1739.0449534\ttotal: 10.9s\tremaining: 34.7s\n",
      "24:\tlearn: 1732.9410798\ttotal: 11.3s\tremaining: 34s\n",
      "25:\tlearn: 1727.5332114\ttotal: 11.8s\tremaining: 33.5s\n",
      "26:\tlearn: 1720.5545327\ttotal: 12.2s\tremaining: 32.9s\n",
      "27:\tlearn: 1717.0769920\ttotal: 12.8s\tremaining: 32.8s\n",
      "28:\tlearn: 1713.7255139\ttotal: 13.4s\tremaining: 32.7s\n",
      "29:\tlearn: 1708.8375877\ttotal: 13.8s\tremaining: 32.1s\n",
      "30:\tlearn: 1704.7118285\ttotal: 14.1s\tremaining: 31.3s\n",
      "31:\tlearn: 1699.6184282\ttotal: 14.7s\tremaining: 31.2s\n",
      "32:\tlearn: 1695.3269908\ttotal: 15.3s\tremaining: 31s\n",
      "33:\tlearn: 1690.3265140\ttotal: 15.7s\tremaining: 30.4s\n",
      "34:\tlearn: 1685.6189982\ttotal: 16.1s\tremaining: 29.8s\n",
      "35:\tlearn: 1679.9948876\ttotal: 16.5s\tremaining: 29.4s\n",
      "36:\tlearn: 1674.6724259\ttotal: 17.1s\tremaining: 29s\n",
      "37:\tlearn: 1672.5757228\ttotal: 17.5s\tremaining: 28.5s\n",
      "38:\tlearn: 1669.6027570\ttotal: 17.8s\tremaining: 27.9s\n",
      "39:\tlearn: 1661.7322364\ttotal: 18.3s\tremaining: 27.4s\n",
      "40:\tlearn: 1657.5578689\ttotal: 18.6s\tremaining: 26.8s\n",
      "41:\tlearn: 1650.3033968\ttotal: 18.9s\tremaining: 26.1s\n",
      "42:\tlearn: 1644.4007299\ttotal: 19.4s\tremaining: 25.7s\n",
      "43:\tlearn: 1638.0970575\ttotal: 19.9s\tremaining: 25.3s\n",
      "44:\tlearn: 1635.2114416\ttotal: 20.4s\tremaining: 24.9s\n",
      "45:\tlearn: 1631.7976358\ttotal: 20.8s\tremaining: 24.4s\n",
      "46:\tlearn: 1627.7394564\ttotal: 21.2s\tremaining: 23.9s\n",
      "47:\tlearn: 1623.8243900\ttotal: 21.7s\tremaining: 23.5s\n",
      "48:\tlearn: 1621.3294497\ttotal: 22.3s\tremaining: 23.2s\n",
      "49:\tlearn: 1616.4876437\ttotal: 22.8s\tremaining: 22.8s\n",
      "50:\tlearn: 1610.3347539\ttotal: 23.3s\tremaining: 22.4s\n",
      "51:\tlearn: 1602.1148717\ttotal: 23.7s\tremaining: 21.9s\n",
      "52:\tlearn: 1599.8068045\ttotal: 24.3s\tremaining: 21.6s\n",
      "53:\tlearn: 1594.3019356\ttotal: 24.9s\tremaining: 21.2s\n",
      "54:\tlearn: 1590.3998732\ttotal: 25.7s\tremaining: 21s\n",
      "55:\tlearn: 1588.6479085\ttotal: 26.3s\tremaining: 20.7s\n",
      "56:\tlearn: 1580.1287925\ttotal: 27s\tremaining: 20.4s\n",
      "57:\tlearn: 1575.6175042\ttotal: 27.6s\tremaining: 20s\n",
      "58:\tlearn: 1571.4059677\ttotal: 28.2s\tremaining: 19.6s\n",
      "59:\tlearn: 1566.7161300\ttotal: 28.8s\tremaining: 19.2s\n",
      "60:\tlearn: 1563.2964330\ttotal: 29.4s\tremaining: 18.8s\n",
      "61:\tlearn: 1559.2522268\ttotal: 30s\tremaining: 18.4s\n",
      "62:\tlearn: 1558.3603592\ttotal: 30.4s\tremaining: 17.9s\n",
      "63:\tlearn: 1556.6902325\ttotal: 31s\tremaining: 17.5s\n",
      "64:\tlearn: 1554.1681263\ttotal: 31.7s\tremaining: 17s\n",
      "65:\tlearn: 1548.5706750\ttotal: 32.3s\tremaining: 16.6s\n",
      "66:\tlearn: 1544.6283828\ttotal: 32.8s\tremaining: 16.1s\n",
      "67:\tlearn: 1539.3899294\ttotal: 33.3s\tremaining: 15.7s\n",
      "68:\tlearn: 1535.5583047\ttotal: 33.9s\tremaining: 15.2s\n",
      "69:\tlearn: 1532.9668589\ttotal: 34.3s\tremaining: 14.7s\n",
      "70:\tlearn: 1529.8805375\ttotal: 34.8s\tremaining: 14.2s\n",
      "71:\tlearn: 1526.9379652\ttotal: 35.3s\tremaining: 13.7s\n",
      "72:\tlearn: 1522.9699057\ttotal: 35.7s\tremaining: 13.2s\n",
      "73:\tlearn: 1520.8091778\ttotal: 36.2s\tremaining: 12.7s\n",
      "74:\tlearn: 1517.6732336\ttotal: 36.6s\tremaining: 12.2s\n",
      "75:\tlearn: 1515.3287814\ttotal: 37s\tremaining: 11.7s\n",
      "76:\tlearn: 1512.6271711\ttotal: 37.5s\tremaining: 11.2s\n",
      "77:\tlearn: 1508.4254169\ttotal: 38.2s\tremaining: 10.8s\n",
      "78:\tlearn: 1506.4600162\ttotal: 39s\tremaining: 10.4s\n",
      "79:\tlearn: 1501.0547886\ttotal: 39.7s\tremaining: 9.93s\n",
      "80:\tlearn: 1497.3941860\ttotal: 40.1s\tremaining: 9.41s\n",
      "81:\tlearn: 1495.6991907\ttotal: 40.5s\tremaining: 8.89s\n",
      "82:\tlearn: 1492.5364895\ttotal: 40.9s\tremaining: 8.38s\n",
      "83:\tlearn: 1491.5023864\ttotal: 41.3s\tremaining: 7.87s\n",
      "84:\tlearn: 1489.7315772\ttotal: 42s\tremaining: 7.41s\n",
      "85:\tlearn: 1487.5549976\ttotal: 42.6s\tremaining: 6.94s\n",
      "86:\tlearn: 1485.1570269\ttotal: 43s\tremaining: 6.43s\n",
      "87:\tlearn: 1481.9402827\ttotal: 43.6s\tremaining: 5.95s\n",
      "88:\tlearn: 1480.4042421\ttotal: 44.3s\tremaining: 5.48s\n",
      "89:\tlearn: 1478.8722070\ttotal: 44.7s\tremaining: 4.97s\n",
      "90:\tlearn: 1475.9975783\ttotal: 45.1s\tremaining: 4.46s\n",
      "91:\tlearn: 1473.4565980\ttotal: 45.5s\tremaining: 3.96s\n",
      "92:\tlearn: 1471.4577270\ttotal: 46s\tremaining: 3.46s\n",
      "93:\tlearn: 1470.9098154\ttotal: 46.4s\tremaining: 2.96s\n",
      "94:\tlearn: 1468.6729473\ttotal: 46.8s\tremaining: 2.46s\n",
      "95:\tlearn: 1467.2710714\ttotal: 47.2s\tremaining: 1.97s\n",
      "96:\tlearn: 1463.9334853\ttotal: 47.6s\tremaining: 1.47s\n",
      "97:\tlearn: 1462.0908200\ttotal: 48s\tremaining: 981ms\n",
      "98:\tlearn: 1458.5010934\ttotal: 48.4s\tremaining: 488ms\n",
      "99:\tlearn: 1454.1529371\ttotal: 48.8s\tremaining: 0us\n",
      "Learning rate set to 0.5\n",
      "0:\tlearn: 3008.7637636\ttotal: 1.56s\tremaining: 2m 34s\n",
      "1:\tlearn: 2401.0577462\ttotal: 2.87s\tremaining: 2m 20s\n",
      "2:\tlearn: 2124.2316050\ttotal: 4.08s\tremaining: 2m 11s\n",
      "3:\tlearn: 1998.3653104\ttotal: 5.58s\tremaining: 2m 13s\n",
      "4:\tlearn: 1931.1328593\ttotal: 7.17s\tremaining: 2m 16s\n",
      "5:\tlearn: 1892.9120796\ttotal: 8.39s\tremaining: 2m 11s\n",
      "6:\tlearn: 1871.0835562\ttotal: 9.71s\tremaining: 2m 8s\n",
      "7:\tlearn: 1847.9407947\ttotal: 11.1s\tremaining: 2m 7s\n",
      "8:\tlearn: 1825.9101707\ttotal: 12.9s\tremaining: 2m 10s\n",
      "9:\tlearn: 1809.8702447\ttotal: 14.4s\tremaining: 2m 9s\n",
      "10:\tlearn: 1790.6654534\ttotal: 15.9s\tremaining: 2m 8s\n",
      "11:\tlearn: 1777.6465892\ttotal: 17s\tremaining: 2m 4s\n",
      "12:\tlearn: 1765.1204971\ttotal: 18.3s\tremaining: 2m 2s\n",
      "13:\tlearn: 1752.4887861\ttotal: 19.6s\tremaining: 2m\n",
      "14:\tlearn: 1742.4008864\ttotal: 21.3s\tremaining: 2m\n",
      "15:\tlearn: 1735.6976647\ttotal: 22.8s\tremaining: 1m 59s\n",
      "16:\tlearn: 1718.4514588\ttotal: 24.4s\tremaining: 1m 59s\n",
      "17:\tlearn: 1709.5560974\ttotal: 25.8s\tremaining: 1m 57s\n",
      "18:\tlearn: 1690.4040191\ttotal: 27.7s\tremaining: 1m 58s\n",
      "19:\tlearn: 1676.9551356\ttotal: 29.5s\tremaining: 1m 57s\n",
      "20:\tlearn: 1666.1438545\ttotal: 31.4s\tremaining: 1m 58s\n",
      "21:\tlearn: 1659.2340776\ttotal: 33.1s\tremaining: 1m 57s\n",
      "22:\tlearn: 1649.2602697\ttotal: 35s\tremaining: 1m 57s\n",
      "23:\tlearn: 1634.8698572\ttotal: 36.6s\tremaining: 1m 55s\n",
      "24:\tlearn: 1627.8719865\ttotal: 37.8s\tremaining: 1m 53s\n",
      "25:\tlearn: 1621.3617938\ttotal: 39s\tremaining: 1m 50s\n",
      "26:\tlearn: 1616.1602600\ttotal: 40.3s\tremaining: 1m 48s\n",
      "27:\tlearn: 1608.7815685\ttotal: 41.6s\tremaining: 1m 46s\n",
      "28:\tlearn: 1599.6979147\ttotal: 43.2s\tremaining: 1m 45s\n",
      "29:\tlearn: 1592.5066383\ttotal: 45s\tremaining: 1m 44s\n",
      "30:\tlearn: 1588.2658450\ttotal: 46.4s\tremaining: 1m 43s\n",
      "31:\tlearn: 1583.2990162\ttotal: 47.6s\tremaining: 1m 41s\n",
      "32:\tlearn: 1576.4697734\ttotal: 49.3s\tremaining: 1m 40s\n",
      "33:\tlearn: 1572.3735962\ttotal: 50.7s\tremaining: 1m 38s\n",
      "34:\tlearn: 1566.5805275\ttotal: 52.5s\tremaining: 1m 37s\n",
      "35:\tlearn: 1560.9590543\ttotal: 54.3s\tremaining: 1m 36s\n",
      "36:\tlearn: 1553.4311679\ttotal: 55.6s\tremaining: 1m 34s\n",
      "37:\tlearn: 1547.5566369\ttotal: 57.2s\tremaining: 1m 33s\n",
      "38:\tlearn: 1542.5208392\ttotal: 58.4s\tremaining: 1m 31s\n",
      "39:\tlearn: 1532.6928539\ttotal: 1m\tremaining: 1m 30s\n",
      "40:\tlearn: 1525.2067017\ttotal: 1m 1s\tremaining: 1m 29s\n",
      "41:\tlearn: 1520.4658247\ttotal: 1m 3s\tremaining: 1m 27s\n",
      "42:\tlearn: 1513.3930443\ttotal: 1m 4s\tremaining: 1m 25s\n",
      "43:\tlearn: 1508.7762392\ttotal: 1m 5s\tremaining: 1m 23s\n",
      "44:\tlearn: 1503.4359232\ttotal: 1m 7s\tremaining: 1m 22s\n",
      "45:\tlearn: 1498.8129225\ttotal: 1m 9s\tremaining: 1m 21s\n",
      "46:\tlearn: 1491.3920846\ttotal: 1m 10s\tremaining: 1m 19s\n",
      "47:\tlearn: 1485.5521384\ttotal: 1m 11s\tremaining: 1m 17s\n",
      "48:\tlearn: 1476.4025279\ttotal: 1m 13s\tremaining: 1m 16s\n",
      "49:\tlearn: 1472.9160961\ttotal: 1m 15s\tremaining: 1m 15s\n",
      "50:\tlearn: 1465.2858347\ttotal: 1m 16s\tremaining: 1m 13s\n",
      "51:\tlearn: 1460.3439588\ttotal: 1m 18s\tremaining: 1m 12s\n",
      "52:\tlearn: 1452.5635630\ttotal: 1m 19s\tremaining: 1m 10s\n",
      "53:\tlearn: 1448.1095122\ttotal: 1m 20s\tremaining: 1m 8s\n",
      "54:\tlearn: 1445.7973606\ttotal: 1m 21s\tremaining: 1m 7s\n",
      "55:\tlearn: 1437.4726536\ttotal: 1m 23s\tremaining: 1m 5s\n",
      "6:\tlearn: 1945.5836852\ttotal: 4.25s\tremaining: 56.4s\n",
      "7:\tlearn: 1923.8538760\ttotal: 4.75s\tremaining: 54.6s\n",
      "8:\tlearn: 1901.9151128\ttotal: 5.15s\tremaining: 52.1s\n",
      "9:\tlearn: 1886.6984241\ttotal: 5.56s\tremaining: 50s\n",
      "10:\tlearn: 1869.2926492\ttotal: 5.96s\tremaining: 48.2s\n",
      "11:\tlearn: 1861.2780944\ttotal: 6.36s\tremaining: 46.7s\n",
      "12:\tlearn: 1848.2076179\ttotal: 6.77s\tremaining: 45.3s\n",
      "13:\tlearn: 1841.6303964\ttotal: 7.27s\tremaining: 44.6s\n",
      "14:\tlearn: 1828.0389390\ttotal: 7.67s\tremaining: 43.5s\n",
      "15:\tlearn: 1813.4710125\ttotal: 8.08s\tremaining: 42.4s\n",
      "16:\tlearn: 1805.9067990\ttotal: 8.51s\tremaining: 41.5s\n",
      "17:\tlearn: 1799.9121988\ttotal: 8.92s\tremaining: 40.6s\n",
      "18:\tlearn: 1793.9090591\ttotal: 9.31s\tremaining: 39.7s\n",
      "19:\tlearn: 1783.8632502\ttotal: 9.71s\tremaining: 38.8s\n",
      "20:\tlearn: 1775.3855371\ttotal: 10.1s\tremaining: 38s\n",
      "21:\tlearn: 1770.0585308\ttotal: 10.6s\tremaining: 37.6s\n",
      "22:\tlearn: 1761.7131789\ttotal: 11.1s\tremaining: 37.2s\n",
      "23:\tlearn: 1754.4779377\ttotal: 11.4s\tremaining: 36.1s\n",
      "24:\tlearn: 1747.0907559\ttotal: 11.8s\tremaining: 35.4s\n",
      "25:\tlearn: 1740.8841072\ttotal: 12.2s\tremaining: 34.7s\n",
      "26:\tlearn: 1736.5013000\ttotal: 12.5s\tremaining: 33.8s\n",
      "27:\tlearn: 1730.8143989\ttotal: 12.8s\tremaining: 33s\n",
      "28:\tlearn: 1725.7700620\ttotal: 13.3s\tremaining: 32.6s\n",
      "29:\tlearn: 1719.1028803\ttotal: 13.7s\tremaining: 32s\n",
      "30:\tlearn: 1713.8757860\ttotal: 14.1s\tremaining: 31.4s\n",
      "31:\tlearn: 1705.8295309\ttotal: 14.6s\tremaining: 31s\n",
      "32:\tlearn: 1700.5982681\ttotal: 15s\tremaining: 30.5s\n",
      "33:\tlearn: 1696.3857210\ttotal: 15.5s\tremaining: 30.1s\n",
      "34:\tlearn: 1692.0052837\ttotal: 15.9s\tremaining: 29.5s\n",
      "35:\tlearn: 1685.0346278\ttotal: 16.4s\tremaining: 29.1s\n",
      "36:\tlearn: 1674.2190178\ttotal: 16.8s\tremaining: 28.6s\n",
      "37:\tlearn: 1670.7094877\ttotal: 17.3s\tremaining: 28.2s\n",
      "38:\tlearn: 1664.4666471\ttotal: 17.8s\tremaining: 27.8s\n",
      "39:\tlearn: 1657.5807372\ttotal: 18.3s\tremaining: 27.5s\n",
      "40:\tlearn: 1653.3605867\ttotal: 18.9s\tremaining: 27.2s\n",
      "41:\tlearn: 1647.9089796\ttotal: 19.6s\tremaining: 27s\n",
      "42:\tlearn: 1644.3211705\ttotal: 20.2s\tremaining: 26.8s\n",
      "43:\tlearn: 1639.8594213\ttotal: 20.8s\tremaining: 26.5s\n",
      "44:\tlearn: 1635.9722001\ttotal: 21.5s\tremaining: 26.3s\n",
      "45:\tlearn: 1632.4982910\ttotal: 21.9s\tremaining: 25.7s\n",
      "46:\tlearn: 1629.4610526\ttotal: 22.7s\tremaining: 25.6s\n",
      "47:\tlearn: 1623.9506691\ttotal: 23.4s\tremaining: 25.4s\n",
      "48:\tlearn: 1618.8093062\ttotal: 24.1s\tremaining: 25s\n",
      "49:\tlearn: 1615.2606163\ttotal: 24.4s\tremaining: 24.4s\n",
      "50:\tlearn: 1609.7519927\ttotal: 24.7s\tremaining: 23.7s\n",
      "51:\tlearn: 1604.7880383\ttotal: 25.1s\tremaining: 23.2s\n",
      "52:\tlearn: 1603.0211370\ttotal: 25.5s\tremaining: 22.6s\n",
      "53:\tlearn: 1600.3138605\ttotal: 25.9s\tremaining: 22.1s\n",
      "54:\tlearn: 1595.2412410\ttotal: 26.4s\tremaining: 21.6s\n",
      "55:\tlearn: 1590.5519530\ttotal: 26.9s\tremaining: 21.1s\n",
      "56:\tlearn: 1586.6129366\ttotal: 27.3s\tremaining: 20.6s\n",
      "57:\tlearn: 1583.0430332\ttotal: 27.8s\tremaining: 20.1s\n",
      "58:\tlearn: 1580.3493032\ttotal: 28.3s\tremaining: 19.7s\n",
      "59:\tlearn: 1577.7718309\ttotal: 28.9s\tremaining: 19.3s\n",
      "60:\tlearn: 1573.8909174\ttotal: 29.5s\tremaining: 18.9s\n",
      "61:\tlearn: 1570.3834042\ttotal: 30.1s\tremaining: 18.5s\n",
      "62:\tlearn: 1566.5017046\ttotal: 30.8s\tremaining: 18.1s\n",
      "63:\tlearn: 1562.6187679\ttotal: 31.5s\tremaining: 17.7s\n",
      "64:\tlearn: 1559.7001467\ttotal: 32.2s\tremaining: 17.3s\n",
      "65:\tlearn: 1557.9446354\ttotal: 32.5s\tremaining: 16.7s\n",
      "66:\tlearn: 1553.7878633\ttotal: 32.9s\tremaining: 16.2s\n",
      "67:\tlearn: 1550.3806684\ttotal: 33.2s\tremaining: 15.6s\n",
      "68:\tlearn: 1547.1363789\ttotal: 33.5s\tremaining: 15.1s\n",
      "69:\tlearn: 1544.2735740\ttotal: 33.7s\tremaining: 14.4s\n",
      "70:\tlearn: 1541.6666606\ttotal: 34s\tremaining: 13.9s\n",
      "71:\tlearn: 1538.9803716\ttotal: 34.4s\tremaining: 13.4s\n",
      "72:\tlearn: 1532.3165456\ttotal: 34.7s\tremaining: 12.8s\n",
      "73:\tlearn: 1528.8848427\ttotal: 35.1s\tremaining: 12.3s\n",
      "74:\tlearn: 1527.7477912\ttotal: 35.4s\tremaining: 11.8s\n",
      "75:\tlearn: 1525.9261116\ttotal: 35.8s\tremaining: 11.3s\n",
      "76:\tlearn: 1523.5905596\ttotal: 36.3s\tremaining: 10.8s\n",
      "77:\tlearn: 1519.9597921\ttotal: 37s\tremaining: 10.4s\n",
      "78:\tlearn: 1516.5587976\ttotal: 37.7s\tremaining: 10s\n",
      "79:\tlearn: 1511.7269224\ttotal: 38.2s\tremaining: 9.54s\n",
      "80:\tlearn: 1509.3207592\ttotal: 38.7s\tremaining: 9.07s\n",
      "81:\tlearn: 1504.4586703\ttotal: 39.4s\tremaining: 8.64s\n",
      "82:\tlearn: 1500.7246867\ttotal: 40s\tremaining: 8.19s\n",
      "83:\tlearn: 1496.7702113\ttotal: 40.5s\tremaining: 7.71s\n",
      "84:\tlearn: 1494.2674622\ttotal: 40.9s\tremaining: 7.22s\n",
      "85:\tlearn: 1490.8762896\ttotal: 41.4s\tremaining: 6.74s\n",
      "86:\tlearn: 1490.5943865\ttotal: 41.5s\tremaining: 6.2s\n",
      "87:\tlearn: 1486.9968925\ttotal: 42.1s\tremaining: 5.74s\n",
      "88:\tlearn: 1484.3254470\ttotal: 42.8s\tremaining: 5.29s\n",
      "89:\tlearn: 1481.3077229\ttotal: 43.5s\tremaining: 4.83s\n",
      "90:\tlearn: 1480.5429256\ttotal: 44s\tremaining: 4.35s\n",
      "91:\tlearn: 1478.2456094\ttotal: 44.5s\tremaining: 3.87s\n",
      "92:\tlearn: 1476.9787403\ttotal: 45.1s\tremaining: 3.4s\n",
      "93:\tlearn: 1474.2209400\ttotal: 45.7s\tremaining: 2.92s\n",
      "94:\tlearn: 1472.5747118\ttotal: 46.3s\tremaining: 2.44s\n",
      "95:\tlearn: 1470.1558905\ttotal: 46.9s\tremaining: 1.96s\n",
      "96:\tlearn: 1467.7281260\ttotal: 47.6s\tremaining: 1.47s\n",
      "97:\tlearn: 1465.7504232\ttotal: 48.3s\tremaining: 986ms\n",
      "98:\tlearn: 1463.7241169\ttotal: 48.9s\tremaining: 494ms\n",
      "99:\tlearn: 1462.6978918\ttotal: 49.4s\tremaining: 0us\n",
      "Learning rate set to 0.5\n",
      "0:\tlearn: 3014.6148023\ttotal: 2.04s\tremaining: 3m 21s\n",
      "1:\tlearn: 2414.7067079\ttotal: 3.85s\tremaining: 3m 8s\n",
      "2:\tlearn: 2138.0603478\ttotal: 5.44s\tremaining: 2m 55s\n",
      "3:\tlearn: 2002.9149294\ttotal: 6.64s\tremaining: 2m 39s\n",
      "4:\tlearn: 1949.1274964\ttotal: 7.84s\tremaining: 2m 28s\n",
      "5:\tlearn: 1903.1756221\ttotal: 8.94s\tremaining: 2m 20s\n",
      "6:\tlearn: 1872.4357049\ttotal: 10.1s\tremaining: 2m 14s\n",
      "7:\tlearn: 1854.4268538\ttotal: 11.4s\tremaining: 2m 11s\n",
      "8:\tlearn: 1838.8425752\ttotal: 12.8s\tremaining: 2m 9s\n",
      "9:\tlearn: 1814.0042719\ttotal: 14s\tremaining: 2m 6s\n",
      "10:\tlearn: 1805.5731489\ttotal: 15.3s\tremaining: 2m 3s\n",
      "11:\tlearn: 1788.5699416\ttotal: 16.7s\tremaining: 2m 2s\n",
      "12:\tlearn: 1776.3760885\ttotal: 18s\tremaining: 2m\n",
      "13:\tlearn: 1768.1540099\ttotal: 19.2s\tremaining: 1m 57s\n",
      "14:\tlearn: 1748.9502982\ttotal: 20.5s\tremaining: 1m 55s\n",
      "15:\tlearn: 1736.0701692\ttotal: 21.7s\tremaining: 1m 53s\n",
      "16:\tlearn: 1726.9551415\ttotal: 23s\tremaining: 1m 52s\n",
      "17:\tlearn: 1718.2338642\ttotal: 24.7s\tremaining: 1m 52s\n",
      "18:\tlearn: 1704.1962930\ttotal: 26.1s\tremaining: 1m 51s\n",
      "19:\tlearn: 1694.4282343\ttotal: 27.6s\tremaining: 1m 50s\n",
      "20:\tlearn: 1687.8593617\ttotal: 29s\tremaining: 1m 49s\n",
      "21:\tlearn: 1677.3283083\ttotal: 30.3s\tremaining: 1m 47s\n",
      "22:\tlearn: 1661.9416009\ttotal: 31.6s\tremaining: 1m 45s\n",
      "23:\tlearn: 1654.1395572\ttotal: 33.2s\tremaining: 1m 45s\n",
      "24:\tlearn: 1648.8632999\ttotal: 34.6s\tremaining: 1m 43s\n",
      "25:\tlearn: 1641.8083505\ttotal: 35.8s\tremaining: 1m 41s\n",
      "26:\tlearn: 1630.8520327\ttotal: 37.1s\tremaining: 1m 40s\n",
      "27:\tlearn: 1624.8520685\ttotal: 38.3s\tremaining: 1m 38s\n",
      "28:\tlearn: 1618.9910698\ttotal: 39.5s\tremaining: 1m 36s\n",
      "29:\tlearn: 1613.2077012\ttotal: 40.7s\tremaining: 1m 35s\n",
      "30:\tlearn: 1607.4031717\ttotal: 42s\tremaining: 1m 33s\n",
      "31:\tlearn: 1603.6098947\ttotal: 43.7s\tremaining: 1m 32s\n",
      "32:\tlearn: 1592.5694798\ttotal: 45.6s\tremaining: 1m 32s\n",
      "33:\tlearn: 1585.9859249\ttotal: 46.9s\tremaining: 1m 31s\n",
      "34:\tlearn: 1574.5308169\ttotal: 48.7s\tremaining: 1m 30s\n",
      "35:\tlearn: 1567.6779855\ttotal: 50.1s\tremaining: 1m 29s\n",
      "36:\tlearn: 1556.7970946\ttotal: 51.3s\tremaining: 1m 27s\n",
      "37:\tlearn: 1549.0721039\ttotal: 52.5s\tremaining: 1m 25s\n",
      "38:\tlearn: 1538.8923859\ttotal: 54.5s\tremaining: 1m 25s\n",
      "39:\tlearn: 1533.4350141\ttotal: 56.1s\tremaining: 1m 24s\n",
      "40:\tlearn: 1528.6343383\ttotal: 57.9s\tremaining: 1m 23s\n",
      "41:\tlearn: 1523.4623895\ttotal: 59.6s\tremaining: 1m 22s\n",
      "42:\tlearn: 1515.4613304\ttotal: 1m\tremaining: 1m 20s\n",
      "43:\tlearn: 1511.4191945\ttotal: 1m 2s\tremaining: 1m 19s\n",
      "44:\tlearn: 1498.9036637\ttotal: 1m 3s\tremaining: 1m 17s\n",
      "45:\tlearn: 1494.9558490\ttotal: 1m 4s\tremaining: 1m 16s\n",
      "46:\tlearn: 1488.0061382\ttotal: 1m 6s\tremaining: 1m 14s\n",
      "47:\tlearn: 1481.7088491\ttotal: 1m 7s\tremaining: 1m 13s\n",
      "48:\tlearn: 1477.2687763\ttotal: 1m 8s\tremaining: 1m 11s\n",
      "49:\tlearn: 1474.5784352\ttotal: 1m 10s\tremaining: 1m 10s\n",
      "50:\tlearn: 1471.0590089\ttotal: 1m 11s\tremaining: 1m 8s\n",
      "51:\tlearn: 1467.7745065\ttotal: 1m 12s\tremaining: 1m 6s\n",
      "52:\tlearn: 1464.0482502\ttotal: 1m 13s\tremaining: 1m 5s\n",
      "53:\tlearn: 1461.8390779\ttotal: 1m 14s\tremaining: 1m 3s\n",
      "54:\tlearn: 1454.1234329\ttotal: 1m 15s\tremaining: 1m 2s\n",
      "55:\tlearn: 1446.0616466\ttotal: 1m 17s\tremaining: 1m\n",
      "56:\tlearn: 1442.4734170\ttotal: 1m 18s\tremaining: 59.3s\n",
      "Learning rate set to 0.5\n",
      "0:\tlearn: 3087.8083382\ttotal: 135ms\tremaining: 13.3s\n",
      "1:\tlearn: 2495.5125193\ttotal: 211ms\tremaining: 10.3s\n",
      "2:\tlearn: 2254.6328400\ttotal: 285ms\tremaining: 9.2s\n",
      "3:\tlearn: 2151.7121256\ttotal: 356ms\tremaining: 8.55s\n",
      "4:\tlearn: 2073.4645047\ttotal: 428ms\tremaining: 8.13s\n",
      "5:\tlearn: 2036.2855309\ttotal: 510ms\tremaining: 7.99s\n",
      "6:\tlearn: 2000.2170054\ttotal: 587ms\tremaining: 7.8s\n",
      "7:\tlearn: 1985.2437081\ttotal: 679ms\tremaining: 7.81s\n",
      "8:\tlearn: 1962.4259395\ttotal: 759ms\tremaining: 7.68s\n",
      "9:\tlearn: 1944.6448858\ttotal: 841ms\tremaining: 7.57s\n",
      "10:\tlearn: 1933.8412783\ttotal: 915ms\tremaining: 7.4s\n",
      "11:\tlearn: 1922.7397076\ttotal: 989ms\tremaining: 7.25s\n",
      "12:\tlearn: 1911.3762640\ttotal: 1.07s\tremaining: 7.18s\n",
      "13:\tlearn: 1899.6740370\ttotal: 1.15s\tremaining: 7.05s\n",
      "14:\tlearn: 1887.2582240\ttotal: 1.23s\tremaining: 6.96s\n",
      "15:\tlearn: 1881.2262668\ttotal: 1.3s\tremaining: 6.83s\n",
      "16:\tlearn: 1869.5138039\ttotal: 1.39s\tremaining: 6.79s\n",
      "17:\tlearn: 1864.5107718\ttotal: 1.46s\tremaining: 6.67s\n",
      "18:\tlearn: 1860.0251491\ttotal: 1.54s\tremaining: 6.56s\n",
      "19:\tlearn: 1852.9281549\ttotal: 1.61s\tremaining: 6.45s\n",
      "20:\tlearn: 1846.4713045\ttotal: 1.68s\tremaining: 6.33s\n",
      "21:\tlearn: 1837.2627332\ttotal: 1.76s\tremaining: 6.23s\n",
      "22:\tlearn: 1831.2749978\ttotal: 1.83s\tremaining: 6.12s\n",
      "23:\tlearn: 1828.0262513\ttotal: 1.9s\tremaining: 6.02s\n",
      "24:\tlearn: 1823.9686802\ttotal: 1.97s\tremaining: 5.92s\n",
      "25:\tlearn: 1820.6618137\ttotal: 2.04s\tremaining: 5.82s\n",
      "26:\tlearn: 1816.4780313\ttotal: 2.13s\tremaining: 5.75s\n",
      "27:\tlearn: 1811.8941077\ttotal: 2.2s\tremaining: 5.66s\n",
      "28:\tlearn: 1808.2137069\ttotal: 2.27s\tremaining: 5.57s\n",
      "29:\tlearn: 1801.2843459\ttotal: 2.35s\tremaining: 5.48s\n",
      "30:\tlearn: 1793.0465306\ttotal: 2.42s\tremaining: 5.39s\n",
      "31:\tlearn: 1787.7151878\ttotal: 2.5s\tremaining: 5.32s\n",
      "32:\tlearn: 1783.0167760\ttotal: 2.58s\tremaining: 5.23s\n",
      "33:\tlearn: 1777.8228511\ttotal: 2.65s\tremaining: 5.15s\n",
      "34:\tlearn: 1774.6633024\ttotal: 2.73s\tremaining: 5.07s\n",
      "35:\tlearn: 1771.0431390\ttotal: 2.8s\tremaining: 4.98s\n",
      "36:\tlearn: 1767.7003529\ttotal: 2.88s\tremaining: 4.9s\n",
      "37:\tlearn: 1765.1985974\ttotal: 2.95s\tremaining: 4.82s\n",
      "38:\tlearn: 1762.8490021\ttotal: 3.04s\tremaining: 4.75s\n",
      "39:\tlearn: 1760.3272586\ttotal: 3.13s\tremaining: 4.69s\n",
      "40:\tlearn: 1755.7034226\ttotal: 3.2s\tremaining: 4.6s\n",
      "41:\tlearn: 1753.2311521\ttotal: 3.27s\tremaining: 4.52s\n",
      "42:\tlearn: 1748.9223243\ttotal: 3.35s\tremaining: 4.44s\n",
      "43:\tlearn: 1745.7193455\ttotal: 3.42s\tremaining: 4.35s\n",
      "44:\tlearn: 1742.0485703\ttotal: 3.5s\tremaining: 4.27s\n",
      "45:\tlearn: 1740.3160816\ttotal: 3.57s\tremaining: 4.19s\n",
      "46:\tlearn: 1737.3876392\ttotal: 3.64s\tremaining: 4.1s\n",
      "47:\tlearn: 1734.4373277\ttotal: 3.71s\tremaining: 4.02s\n",
      "48:\tlearn: 1732.2007336\ttotal: 3.79s\tremaining: 3.94s\n",
      "49:\tlearn: 1729.4987756\ttotal: 3.86s\tremaining: 3.86s\n",
      "50:\tlearn: 1725.9839256\ttotal: 3.93s\tremaining: 3.78s\n",
      "51:\tlearn: 1723.6098411\ttotal: 4.02s\tremaining: 3.71s\n",
      "52:\tlearn: 1720.0357139\ttotal: 4.12s\tremaining: 3.66s\n",
      "53:\tlearn: 1718.2606155\ttotal: 4.22s\tremaining: 3.6s\n",
      "54:\tlearn: 1715.1572389\ttotal: 4.32s\tremaining: 3.54s\n",
      "55:\tlearn: 1711.4922052\ttotal: 4.4s\tremaining: 3.46s\n",
      "56:\tlearn: 1708.2452816\ttotal: 4.48s\tremaining: 3.38s\n",
      "57:\tlearn: 1705.7298397\ttotal: 4.55s\tremaining: 3.3s\n",
      "58:\tlearn: 1703.3166355\ttotal: 4.63s\tremaining: 3.22s\n",
      "59:\tlearn: 1701.2912480\ttotal: 4.71s\tremaining: 3.14s\n",
      "60:\tlearn: 1698.2950145\ttotal: 4.79s\tremaining: 3.06s\n",
      "61:\tlearn: 1695.8617646\ttotal: 4.87s\tremaining: 2.98s\n",
      "62:\tlearn: 1693.0744073\ttotal: 4.94s\tremaining: 2.9s\n",
      "63:\tlearn: 1691.8475368\ttotal: 5.01s\tremaining: 2.82s\n",
      "64:\tlearn: 1689.6106035\ttotal: 5.09s\tremaining: 2.74s\n",
      "65:\tlearn: 1686.6649129\ttotal: 5.17s\tremaining: 2.66s\n",
      "66:\tlearn: 1685.2770122\ttotal: 5.24s\tremaining: 2.58s\n",
      "67:\tlearn: 1683.0512020\ttotal: 5.31s\tremaining: 2.5s\n",
      "68:\tlearn: 1679.4241964\ttotal: 5.39s\tremaining: 2.42s\n",
      "69:\tlearn: 1677.5655879\ttotal: 5.46s\tremaining: 2.34s\n",
      "70:\tlearn: 1674.3148946\ttotal: 5.54s\tremaining: 2.26s\n",
      "71:\tlearn: 1672.7288992\ttotal: 5.61s\tremaining: 2.18s\n",
      "72:\tlearn: 1668.4759939\ttotal: 5.69s\tremaining: 2.1s\n",
      "73:\tlearn: 1665.3456222\ttotal: 5.76s\tremaining: 2.02s\n",
      "74:\tlearn: 1662.2340064\ttotal: 5.84s\tremaining: 1.95s\n",
      "75:\tlearn: 1660.6198764\ttotal: 5.92s\tremaining: 1.87s\n",
      "76:\tlearn: 1659.0590154\ttotal: 6s\tremaining: 1.79s\n",
      "77:\tlearn: 1657.1028451\ttotal: 6.08s\tremaining: 1.71s\n",
      "78:\tlearn: 1655.0256309\ttotal: 6.15s\tremaining: 1.63s\n",
      "79:\tlearn: 1653.2795946\ttotal: 6.23s\tremaining: 1.56s\n",
      "80:\tlearn: 1651.1432773\ttotal: 6.31s\tremaining: 1.48s\n",
      "81:\tlearn: 1649.2601937\ttotal: 6.38s\tremaining: 1.4s\n",
      "82:\tlearn: 1647.0324311\ttotal: 6.47s\tremaining: 1.32s\n",
      "83:\tlearn: 1645.5988428\ttotal: 6.54s\tremaining: 1.25s\n",
      "84:\tlearn: 1644.3528509\ttotal: 6.62s\tremaining: 1.17s\n",
      "85:\tlearn: 1641.3388300\ttotal: 6.7s\tremaining: 1.09s\n",
      "86:\tlearn: 1639.2001752\ttotal: 6.77s\tremaining: 1.01s\n",
      "87:\tlearn: 1638.1852896\ttotal: 6.85s\tremaining: 934ms\n",
      "88:\tlearn: 1636.6122592\ttotal: 6.92s\tremaining: 856ms\n",
      "89:\tlearn: 1633.9982917\ttotal: 7s\tremaining: 778ms\n",
      "90:\tlearn: 1632.3346734\ttotal: 7.08s\tremaining: 700ms\n",
      "91:\tlearn: 1630.8449832\ttotal: 7.15s\tremaining: 622ms\n",
      "92:\tlearn: 1628.4015204\ttotal: 7.22s\tremaining: 544ms\n",
      "93:\tlearn: 1626.4580983\ttotal: 7.29s\tremaining: 465ms\n",
      "94:\tlearn: 1625.1170814\ttotal: 7.36s\tremaining: 388ms\n",
      "95:\tlearn: 1623.5985109\ttotal: 7.43s\tremaining: 310ms\n",
      "96:\tlearn: 1622.4423571\ttotal: 7.51s\tremaining: 232ms\n",
      "97:\tlearn: 1621.3623267\ttotal: 7.58s\tremaining: 155ms\n",
      "98:\tlearn: 1619.5635394\ttotal: 7.66s\tremaining: 77.4ms\n",
      "99:\tlearn: 1617.1537241\ttotal: 7.73s\tremaining: 0us\n",
      "CPU times: user 8.06 s, sys: 156 ms, total: 8.22 s\n",
      "Wall time: 6min 3s\n"
     ]
    },
    {
     "data": {
      "text/plain": [
       "GridSearchCV(cv=5,\n",
       "             estimator=<catboost.core.CatBoostRegressor object at 0x7f85a814fa90>,\n",
       "             n_jobs=4,\n",
       "             param_grid={'depth': [2, 4, 6, 8, 10, 12, 14],\n",
       "                         'iterations': [100]},\n",
       "             scoring='neg_root_mean_squared_error')"
      ]
     },
     "execution_count": 111,
     "metadata": {},
     "output_type": "execute_result"
    }
   ],
   "source": [
    "%%time\n",
    "\n",
    "# обучение модели\n",
    "catboost_gsc.fit(features_ordinal_train, target_train)"
   ]
  },
  {
   "cell_type": "code",
   "execution_count": 112,
   "metadata": {},
   "outputs": [
    {
     "data": {
      "text/plain": [
       "{'depth': 10, 'iterations': 100}"
      ]
     },
     "execution_count": 112,
     "metadata": {},
     "output_type": "execute_result"
    }
   ],
   "source": [
    "catboost_gsc.best_params_"
   ]
  },
  {
   "cell_type": "code",
   "execution_count": 113,
   "metadata": {
    "scrolled": true
   },
   "outputs": [
    {
     "name": "stdout",
     "output_type": "stream",
     "text": [
      "Learning rate set to 0.5\n",
      "0:\tlearn: 3087.8083382\ttotal: 75.3ms\tremaining: 7.46s\n",
      "1:\tlearn: 2495.5125193\ttotal: 146ms\tremaining: 7.16s\n",
      "2:\tlearn: 2254.6328400\ttotal: 216ms\tremaining: 6.98s\n",
      "3:\tlearn: 2151.7121256\ttotal: 283ms\tremaining: 6.8s\n",
      "4:\tlearn: 2073.4645047\ttotal: 354ms\tremaining: 6.72s\n",
      "5:\tlearn: 2036.2855309\ttotal: 422ms\tremaining: 6.62s\n",
      "6:\tlearn: 2000.2170054\ttotal: 494ms\tremaining: 6.56s\n",
      "7:\tlearn: 1985.2437081\ttotal: 568ms\tremaining: 6.53s\n",
      "8:\tlearn: 1962.4259395\ttotal: 640ms\tremaining: 6.47s\n",
      "9:\tlearn: 1944.6448858\ttotal: 709ms\tremaining: 6.38s\n",
      "10:\tlearn: 1933.8412783\ttotal: 784ms\tremaining: 6.35s\n",
      "11:\tlearn: 1922.7397076\ttotal: 855ms\tremaining: 6.27s\n",
      "12:\tlearn: 1911.3762640\ttotal: 926ms\tremaining: 6.19s\n",
      "13:\tlearn: 1899.6740370\ttotal: 996ms\tremaining: 6.12s\n",
      "14:\tlearn: 1887.2582240\ttotal: 1.07s\tremaining: 6.05s\n",
      "15:\tlearn: 1881.2262668\ttotal: 1.14s\tremaining: 5.99s\n",
      "16:\tlearn: 1869.5138039\ttotal: 1.21s\tremaining: 5.91s\n",
      "17:\tlearn: 1864.5107718\ttotal: 1.28s\tremaining: 5.86s\n",
      "18:\tlearn: 1860.0251491\ttotal: 1.36s\tremaining: 5.79s\n",
      "19:\tlearn: 1852.9281549\ttotal: 1.43s\tremaining: 5.72s\n",
      "20:\tlearn: 1846.4713045\ttotal: 1.51s\tremaining: 5.68s\n",
      "21:\tlearn: 1837.2627332\ttotal: 1.58s\tremaining: 5.61s\n",
      "22:\tlearn: 1831.2749978\ttotal: 1.65s\tremaining: 5.54s\n",
      "23:\tlearn: 1828.0262513\ttotal: 1.72s\tremaining: 5.46s\n",
      "24:\tlearn: 1823.9686802\ttotal: 1.79s\tremaining: 5.39s\n",
      "25:\tlearn: 1820.6618137\ttotal: 1.87s\tremaining: 5.34s\n",
      "26:\tlearn: 1816.4780313\ttotal: 1.94s\tremaining: 5.25s\n",
      "27:\tlearn: 1811.8941077\ttotal: 2.01s\tremaining: 5.18s\n",
      "28:\tlearn: 1808.2137069\ttotal: 2.08s\tremaining: 5.1s\n",
      "29:\tlearn: 1801.2843459\ttotal: 2.15s\tremaining: 5.03s\n",
      "30:\tlearn: 1793.0465306\ttotal: 2.23s\tremaining: 4.95s\n",
      "31:\tlearn: 1787.7151878\ttotal: 2.29s\tremaining: 4.88s\n",
      "32:\tlearn: 1783.0167760\ttotal: 2.37s\tremaining: 4.8s\n",
      "33:\tlearn: 1777.8228511\ttotal: 2.46s\tremaining: 4.77s\n",
      "34:\tlearn: 1774.6633024\ttotal: 2.57s\tremaining: 4.77s\n",
      "35:\tlearn: 1771.0431390\ttotal: 2.65s\tremaining: 4.71s\n",
      "36:\tlearn: 1767.7003529\ttotal: 2.72s\tremaining: 4.64s\n",
      "37:\tlearn: 1765.1985974\ttotal: 2.79s\tremaining: 4.56s\n",
      "38:\tlearn: 1762.8490021\ttotal: 2.87s\tremaining: 4.49s\n",
      "39:\tlearn: 1760.3272586\ttotal: 2.94s\tremaining: 4.41s\n",
      "40:\tlearn: 1755.7034226\ttotal: 3.01s\tremaining: 4.33s\n",
      "41:\tlearn: 1753.2311521\ttotal: 3.08s\tremaining: 4.26s\n",
      "42:\tlearn: 1748.9223243\ttotal: 3.16s\tremaining: 4.18s\n",
      "43:\tlearn: 1745.7193455\ttotal: 3.23s\tremaining: 4.11s\n",
      "44:\tlearn: 1742.0485703\ttotal: 3.3s\tremaining: 4.03s\n",
      "45:\tlearn: 1740.3160816\ttotal: 3.37s\tremaining: 3.96s\n",
      "46:\tlearn: 1737.3876392\ttotal: 3.44s\tremaining: 3.88s\n",
      "47:\tlearn: 1734.4373277\ttotal: 3.52s\tremaining: 3.81s\n",
      "48:\tlearn: 1732.2007336\ttotal: 3.59s\tremaining: 3.74s\n",
      "49:\tlearn: 1729.4987756\ttotal: 3.67s\tremaining: 3.67s\n",
      "50:\tlearn: 1725.9839256\ttotal: 3.74s\tremaining: 3.59s\n",
      "51:\tlearn: 1723.6098411\ttotal: 3.81s\tremaining: 3.52s\n",
      "52:\tlearn: 1720.0357139\ttotal: 3.9s\tremaining: 3.46s\n",
      "53:\tlearn: 1718.2606155\ttotal: 3.97s\tremaining: 3.38s\n",
      "54:\tlearn: 1715.1572389\ttotal: 4.04s\tremaining: 3.31s\n",
      "55:\tlearn: 1711.4922052\ttotal: 4.12s\tremaining: 3.23s\n",
      "56:\tlearn: 1708.2452816\ttotal: 4.19s\tremaining: 3.16s\n",
      "57:\tlearn: 1705.7298397\ttotal: 4.26s\tremaining: 3.09s\n",
      "58:\tlearn: 1703.3166355\ttotal: 4.34s\tremaining: 3.02s\n",
      "59:\tlearn: 1701.2912480\ttotal: 4.43s\tremaining: 2.95s\n",
      "60:\tlearn: 1698.2950145\ttotal: 4.51s\tremaining: 2.88s\n",
      "61:\tlearn: 1695.8617646\ttotal: 4.58s\tremaining: 2.81s\n",
      "62:\tlearn: 1693.0744073\ttotal: 4.66s\tremaining: 2.73s\n",
      "63:\tlearn: 1691.8475368\ttotal: 4.73s\tremaining: 2.66s\n",
      "64:\tlearn: 1689.6106035\ttotal: 4.8s\tremaining: 2.59s\n",
      "65:\tlearn: 1686.6649129\ttotal: 4.88s\tremaining: 2.51s\n",
      "66:\tlearn: 1685.2770122\ttotal: 4.95s\tremaining: 2.44s\n",
      "67:\tlearn: 1683.0512020\ttotal: 5.03s\tremaining: 2.37s\n",
      "68:\tlearn: 1679.4241964\ttotal: 5.1s\tremaining: 2.29s\n",
      "69:\tlearn: 1677.5655879\ttotal: 5.17s\tremaining: 2.21s\n",
      "70:\tlearn: 1674.3148946\ttotal: 5.24s\tremaining: 2.14s\n",
      "71:\tlearn: 1672.7288992\ttotal: 5.32s\tremaining: 2.07s\n",
      "72:\tlearn: 1668.4759939\ttotal: 5.41s\tremaining: 2s\n",
      "73:\tlearn: 1665.3456222\ttotal: 5.51s\tremaining: 1.93s\n",
      "74:\tlearn: 1662.2340064\ttotal: 5.61s\tremaining: 1.87s\n",
      "75:\tlearn: 1660.6198764\ttotal: 5.7s\tremaining: 1.8s\n",
      "76:\tlearn: 1659.0590154\ttotal: 5.78s\tremaining: 1.73s\n",
      "77:\tlearn: 1657.1028451\ttotal: 5.86s\tremaining: 1.65s\n",
      "78:\tlearn: 1655.0256309\ttotal: 5.94s\tremaining: 1.58s\n",
      "79:\tlearn: 1653.2795946\ttotal: 6.02s\tremaining: 1.5s\n",
      "80:\tlearn: 1651.1432773\ttotal: 6.09s\tremaining: 1.43s\n",
      "81:\tlearn: 1649.2601937\ttotal: 6.18s\tremaining: 1.36s\n",
      "82:\tlearn: 1647.0324311\ttotal: 6.26s\tremaining: 1.28s\n",
      "83:\tlearn: 1645.5988428\ttotal: 6.33s\tremaining: 1.21s\n",
      "84:\tlearn: 1644.3528509\ttotal: 6.41s\tremaining: 1.13s\n",
      "85:\tlearn: 1641.3388300\ttotal: 6.48s\tremaining: 1.05s\n",
      "86:\tlearn: 1639.2001752\ttotal: 6.56s\tremaining: 980ms\n",
      "87:\tlearn: 1638.1852896\ttotal: 6.63s\tremaining: 905ms\n",
      "88:\tlearn: 1636.6122592\ttotal: 6.71s\tremaining: 829ms\n",
      "89:\tlearn: 1633.9982917\ttotal: 6.79s\tremaining: 754ms\n",
      "90:\tlearn: 1632.3346734\ttotal: 6.86s\tremaining: 679ms\n",
      "91:\tlearn: 1630.8449832\ttotal: 6.94s\tremaining: 603ms\n",
      "92:\tlearn: 1628.4015204\ttotal: 7.01s\tremaining: 527ms\n",
      "93:\tlearn: 1626.4580983\ttotal: 7.08s\tremaining: 452ms\n",
      "94:\tlearn: 1625.1170814\ttotal: 7.15s\tremaining: 376ms\n",
      "95:\tlearn: 1623.5985109\ttotal: 7.23s\tremaining: 301ms\n",
      "96:\tlearn: 1622.4423571\ttotal: 7.3s\tremaining: 226ms\n",
      "97:\tlearn: 1621.3623267\ttotal: 7.38s\tremaining: 151ms\n",
      "98:\tlearn: 1619.5635394\ttotal: 7.45s\tremaining: 75.3ms\n",
      "99:\tlearn: 1617.1537241\ttotal: 7.52s\tremaining: 0us\n",
      "CPU times: user 7.7 s, sys: 0 ns, total: 7.7 s\n",
      "Wall time: 8.25 s\n"
     ]
    }
   ],
   "source": [
    "%%time\n",
    "\n",
    "# сохраним модель с лучшими параметрами и обучим её\n",
    "start_time = time.time()\n",
    "\n",
    "catboost = CatBoostRegressor(depth = 10, iterations = 100, random_state=12345) \n",
    "\n",
    "catboost.fit(features_ordinal_train, target_train)\n",
    "\n",
    "catboost_model_fit_time = time.time() - start_time"
   ]
  },
  {
   "cell_type": "code",
   "execution_count": 114,
   "metadata": {},
   "outputs": [
    {
     "name": "stdout",
     "output_type": "stream",
     "text": [
      "58:\tlearn: 1580.6616417\ttotal: 27.3s\tremaining: 19s\n",
      "59:\tlearn: 1577.8372498\ttotal: 28s\tremaining: 18.7s\n",
      "60:\tlearn: 1573.0127746\ttotal: 28.5s\tremaining: 18.2s\n",
      "61:\tlearn: 1569.8238159\ttotal: 29.1s\tremaining: 17.8s\n",
      "62:\tlearn: 1567.6638608\ttotal: 29.7s\tremaining: 17.4s\n",
      "63:\tlearn: 1565.6352485\ttotal: 30.1s\tremaining: 16.9s\n",
      "64:\tlearn: 1562.6267298\ttotal: 30.5s\tremaining: 16.4s\n",
      "65:\tlearn: 1560.1328596\ttotal: 30.9s\tremaining: 15.9s\n",
      "66:\tlearn: 1554.4355927\ttotal: 31.3s\tremaining: 15.4s\n",
      "67:\tlearn: 1551.7527485\ttotal: 31.8s\tremaining: 15s\n",
      "68:\tlearn: 1546.8732368\ttotal: 32.2s\tremaining: 14.5s\n",
      "69:\tlearn: 1544.7689855\ttotal: 32.6s\tremaining: 14s\n",
      "70:\tlearn: 1541.1448352\ttotal: 33.3s\tremaining: 13.6s\n",
      "71:\tlearn: 1538.7881400\ttotal: 33.7s\tremaining: 13.1s\n",
      "72:\tlearn: 1535.6189943\ttotal: 34.2s\tremaining: 12.6s\n",
      "73:\tlearn: 1531.3924532\ttotal: 34.6s\tremaining: 12.1s\n",
      "74:\tlearn: 1528.0815656\ttotal: 35s\tremaining: 11.7s\n",
      "75:\tlearn: 1525.6409351\ttotal: 35.5s\tremaining: 11.2s\n",
      "76:\tlearn: 1523.1084155\ttotal: 35.9s\tremaining: 10.7s\n",
      "77:\tlearn: 1520.5211556\ttotal: 36.3s\tremaining: 10.2s\n",
      "78:\tlearn: 1518.0413851\ttotal: 36.7s\tremaining: 9.75s\n",
      "79:\tlearn: 1516.0975191\ttotal: 37.1s\tremaining: 9.27s\n",
      "80:\tlearn: 1513.5408753\ttotal: 37.4s\tremaining: 8.76s\n",
      "81:\tlearn: 1512.2324562\ttotal: 37.8s\tremaining: 8.29s\n",
      "82:\tlearn: 1510.7043390\ttotal: 38.2s\tremaining: 7.82s\n",
      "83:\tlearn: 1508.7016409\ttotal: 38.6s\tremaining: 7.35s\n",
      "84:\tlearn: 1506.1663851\ttotal: 38.9s\tremaining: 6.86s\n",
      "85:\tlearn: 1502.3800240\ttotal: 39.3s\tremaining: 6.4s\n",
      "86:\tlearn: 1498.9577873\ttotal: 39.7s\tremaining: 5.93s\n",
      "87:\tlearn: 1496.7797741\ttotal: 40.1s\tremaining: 5.47s\n",
      "88:\tlearn: 1493.7180607\ttotal: 40.5s\tremaining: 5s\n",
      "89:\tlearn: 1492.4076142\ttotal: 40.9s\tremaining: 4.54s\n",
      "90:\tlearn: 1490.4071762\ttotal: 41.3s\tremaining: 4.08s\n",
      "91:\tlearn: 1487.4270834\ttotal: 41.8s\tremaining: 3.63s\n",
      "92:\tlearn: 1482.5247613\ttotal: 42.3s\tremaining: 3.18s\n",
      "93:\tlearn: 1479.7049031\ttotal: 42.7s\tremaining: 2.73s\n",
      "94:\tlearn: 1474.9731475\ttotal: 43.2s\tremaining: 2.27s\n",
      "95:\tlearn: 1472.5870097\ttotal: 43.5s\tremaining: 1.81s\n",
      "96:\tlearn: 1470.7354702\ttotal: 43.8s\tremaining: 1.36s\n",
      "97:\tlearn: 1468.3844068\ttotal: 44.2s\tremaining: 903ms\n",
      "98:\tlearn: 1466.0588446\ttotal: 44.7s\tremaining: 452ms\n",
      "99:\tlearn: 1463.6585666\ttotal: 45.2s\tremaining: 0us\n",
      "Learning rate set to 0.5\n",
      "0:\tlearn: 3012.8245868\ttotal: 1.86s\tremaining: 3m 4s\n",
      "1:\tlearn: 2412.0411013\ttotal: 3.66s\tremaining: 2m 59s\n",
      "2:\tlearn: 2147.9227491\ttotal: 5.37s\tremaining: 2m 53s\n",
      "3:\tlearn: 2008.0763035\ttotal: 7.16s\tremaining: 2m 51s\n",
      "4:\tlearn: 1952.8083335\ttotal: 8.96s\tremaining: 2m 50s\n",
      "5:\tlearn: 1909.1614561\ttotal: 10.6s\tremaining: 2m 45s\n",
      "6:\tlearn: 1876.6436181\ttotal: 11.8s\tremaining: 2m 36s\n",
      "7:\tlearn: 1858.8756905\ttotal: 13.1s\tremaining: 2m 30s\n",
      "8:\tlearn: 1842.9044743\ttotal: 14.3s\tremaining: 2m 24s\n",
      "9:\tlearn: 1826.5158788\ttotal: 15.7s\tremaining: 2m 20s\n",
      "10:\tlearn: 1809.6212213\ttotal: 17.3s\tremaining: 2m 19s\n",
      "11:\tlearn: 1791.0796927\ttotal: 19.1s\tremaining: 2m 20s\n",
      "12:\tlearn: 1766.3312582\ttotal: 20.7s\tremaining: 2m 18s\n",
      "13:\tlearn: 1749.0052966\ttotal: 22.1s\tremaining: 2m 15s\n",
      "14:\tlearn: 1734.8457526\ttotal: 23.6s\tremaining: 2m 13s\n",
      "15:\tlearn: 1723.1357040\ttotal: 24.8s\tremaining: 2m 10s\n",
      "16:\tlearn: 1713.9238051\ttotal: 25.9s\tremaining: 2m 6s\n",
      "17:\tlearn: 1703.4235828\ttotal: 27.3s\tremaining: 2m 4s\n",
      "18:\tlearn: 1693.3025170\ttotal: 28.6s\tremaining: 2m 1s\n",
      "19:\tlearn: 1683.8014860\ttotal: 29.8s\tremaining: 1m 59s\n",
      "20:\tlearn: 1676.4658895\ttotal: 31s\tremaining: 1m 56s\n",
      "21:\tlearn: 1667.1333707\ttotal: 32.3s\tremaining: 1m 54s\n",
      "22:\tlearn: 1652.9181922\ttotal: 33.8s\tremaining: 1m 53s\n",
      "23:\tlearn: 1642.6082317\ttotal: 35s\tremaining: 1m 50s\n",
      "24:\tlearn: 1638.3338922\ttotal: 36.2s\tremaining: 1m 48s\n",
      "25:\tlearn: 1628.1124821\ttotal: 37.5s\tremaining: 1m 46s\n",
      "26:\tlearn: 1619.2846512\ttotal: 39.3s\tremaining: 1m 46s\n",
      "27:\tlearn: 1613.5233736\ttotal: 40.7s\tremaining: 1m 44s\n",
      "28:\tlearn: 1605.2516675\ttotal: 42s\tremaining: 1m 42s\n",
      "29:\tlearn: 1598.2051824\ttotal: 43.2s\tremaining: 1m 40s\n",
      "30:\tlearn: 1591.6396796\ttotal: 44.6s\tremaining: 1m 39s\n",
      "31:\tlearn: 1585.6893239\ttotal: 45.8s\tremaining: 1m 37s\n",
      "32:\tlearn: 1579.9972735\ttotal: 47.1s\tremaining: 1m 35s\n",
      "33:\tlearn: 1568.0845422\ttotal: 48.5s\tremaining: 1m 34s\n",
      "34:\tlearn: 1558.8676499\ttotal: 49.8s\tremaining: 1m 32s\n",
      "35:\tlearn: 1551.7330614\ttotal: 51.1s\tremaining: 1m 30s\n",
      "36:\tlearn: 1545.6030059\ttotal: 52.3s\tremaining: 1m 29s\n",
      "37:\tlearn: 1540.4985241\ttotal: 53.6s\tremaining: 1m 27s\n",
      "38:\tlearn: 1535.6909536\ttotal: 55s\tremaining: 1m 26s\n",
      "39:\tlearn: 1530.0824267\ttotal: 56.3s\tremaining: 1m 24s\n",
      "40:\tlearn: 1525.9142420\ttotal: 57.6s\tremaining: 1m 22s\n",
      "41:\tlearn: 1517.1633728\ttotal: 58.8s\tremaining: 1m 21s\n",
      "42:\tlearn: 1512.8517521\ttotal: 1m\tremaining: 1m 19s\n",
      "43:\tlearn: 1507.9626688\ttotal: 1m 2s\tremaining: 1m 19s\n",
      "44:\tlearn: 1502.7623285\ttotal: 1m 3s\tremaining: 1m 17s\n",
      "45:\tlearn: 1498.1685939\ttotal: 1m 5s\tremaining: 1m 16s\n",
      "46:\tlearn: 1493.0595910\ttotal: 1m 6s\tremaining: 1m 14s\n",
      "47:\tlearn: 1489.8886837\ttotal: 1m 7s\tremaining: 1m 13s\n",
      "48:\tlearn: 1486.0860405\ttotal: 1m 8s\tremaining: 1m 11s\n",
      "49:\tlearn: 1482.1138662\ttotal: 1m 9s\tremaining: 1m 9s\n",
      "50:\tlearn: 1475.6696056\ttotal: 1m 11s\tremaining: 1m 8s\n",
      "51:\tlearn: 1471.0707592\ttotal: 1m 12s\tremaining: 1m 7s\n",
      "52:\tlearn: 1467.5025713\ttotal: 1m 13s\tremaining: 1m 5s\n",
      "53:\tlearn: 1462.5295778\ttotal: 1m 15s\tremaining: 1m 4s\n",
      "54:\tlearn: 1456.7975461\ttotal: 1m 16s\tremaining: 1m 2s\n",
      "55:\tlearn: 1452.0183129\ttotal: 1m 18s\tremaining: 1m 1s\n",
      "56:\tlearn: 1446.3097538\ttotal: 1m 19s\tremaining: 59.8s\n",
      "57:\tlearn: 1443.0213185\ttotal: 1m 20s\tremaining: 58.4s\n",
      "58:\tlearn: 1440.6884966\ttotal: 1m 22s\tremaining: 57.5s\n",
      "59:\tlearn: 1429.9159808\ttotal: 1m 24s\tremaining: 56.4s\n",
      "60:\tlearn: 1421.9696552\ttotal: 1m 26s\tremaining: 55.2s\n",
      "61:\tlearn: 1417.9958007\ttotal: 1m 28s\tremaining: 54s\n",
      "62:\tlearn: 1415.3830558\ttotal: 1m 29s\tremaining: 52.8s\n",
      "63:\tlearn: 1413.6374645\ttotal: 1m 31s\tremaining: 51.3s\n",
      "64:\tlearn: 1409.1493386\ttotal: 1m 32s\tremaining: 49.8s\n",
      "65:\tlearn: 1403.9659848\ttotal: 1m 33s\tremaining: 48.4s\n",
      "66:\tlearn: 1399.7552332\ttotal: 1m 35s\tremaining: 46.9s\n",
      "67:\tlearn: 1396.8072491\ttotal: 1m 36s\tremaining: 45.4s\n",
      "68:\tlearn: 1393.9105311\ttotal: 1m 37s\tremaining: 44s\n",
      "69:\tlearn: 1388.7757645\ttotal: 1m 39s\tremaining: 42.7s\n",
      "70:\tlearn: 1384.2800001\ttotal: 1m 41s\tremaining: 41.3s\n",
      "71:\tlearn: 1382.0941782\ttotal: 1m 42s\tremaining: 39.8s\n",
      "72:\tlearn: 1379.0922685\ttotal: 1m 43s\tremaining: 38.4s\n",
      "73:\tlearn: 1371.9818541\ttotal: 1m 45s\tremaining: 37s\n",
      "74:\tlearn: 1369.8418890\ttotal: 1m 46s\tremaining: 35.5s\n",
      "75:\tlearn: 1362.8304738\ttotal: 1m 48s\tremaining: 34.2s\n",
      "76:\tlearn: 1358.1669544\ttotal: 1m 49s\tremaining: 32.8s\n",
      "77:\tlearn: 1353.0365854\ttotal: 1m 51s\tremaining: 31.5s\n",
      "78:\tlearn: 1347.4650822\ttotal: 1m 53s\tremaining: 30.1s\n",
      "79:\tlearn: 1344.1035354\ttotal: 1m 55s\tremaining: 28.8s\n",
      "80:\tlearn: 1341.3119066\ttotal: 1m 56s\tremaining: 27.4s\n",
      "81:\tlearn: 1339.2383796\ttotal: 1m 58s\tremaining: 26s\n",
      "82:\tlearn: 1334.8697997\ttotal: 1m 59s\tremaining: 24.5s\n",
      "83:\tlearn: 1331.4939839\ttotal: 2m 1s\tremaining: 23.1s\n",
      "84:\tlearn: 1329.3182442\ttotal: 2m 2s\tremaining: 21.6s\n",
      "85:\tlearn: 1327.0675218\ttotal: 2m 3s\tremaining: 20.1s\n",
      "86:\tlearn: 1325.9748624\ttotal: 2m 5s\tremaining: 18.7s\n",
      "87:\tlearn: 1322.0700820\ttotal: 2m 6s\tremaining: 17.3s\n",
      "88:\tlearn: 1318.3225709\ttotal: 2m 7s\tremaining: 15.8s\n",
      "89:\tlearn: 1315.0564422\ttotal: 2m 8s\tremaining: 14.3s\n",
      "90:\tlearn: 1311.4981757\ttotal: 2m 10s\tremaining: 12.9s\n",
      "91:\tlearn: 1308.2471389\ttotal: 2m 12s\tremaining: 11.5s\n",
      "92:\tlearn: 1306.5840729\ttotal: 2m 13s\tremaining: 10.1s\n",
      "93:\tlearn: 1305.2949285\ttotal: 2m 15s\tremaining: 8.64s\n",
      "94:\tlearn: 1301.5259662\ttotal: 2m 16s\tremaining: 7.19s\n",
      "95:\tlearn: 1298.9573664\ttotal: 2m 17s\tremaining: 5.74s\n",
      "96:\tlearn: 1296.4632935\ttotal: 2m 18s\tremaining: 4.29s\n",
      "97:\tlearn: 1293.2862622\ttotal: 2m 19s\tremaining: 2.85s\n",
      "98:\tlearn: 1289.5231062\ttotal: 2m 20s\tremaining: 1.42s\n",
      "99:\tlearn: 1288.2865591\ttotal: 2m 21s\tremaining: 0us\n",
      "Learning rate set to 0.5\n",
      "0:\tlearn: 3108.0649999\ttotal: 40.9ms\tremaining: 4.05s\n",
      "1:\tlearn: 2534.1283564\ttotal: 114ms\tremaining: 5.6s\n",
      "2:\tlearn: 2267.9646819\ttotal: 206ms\tremaining: 6.67s\n",
      "3:\tlearn: 2166.2700799\ttotal: 290ms\tremaining: 6.97s\n",
      "4:\tlearn: 2086.0597191\ttotal: 383ms\tremaining: 7.27s\n",
      "5:\tlearn: 2051.4672472\ttotal: 422ms\tremaining: 6.6s\n",
      "6:\tlearn: 2025.1343557\ttotal: 510ms\tremaining: 6.78s\n",
      "7:\tlearn: 1983.0330804\ttotal: 602ms\tremaining: 6.92s\n",
      "CPU times: user 54.5 ms, sys: 0 ns, total: 54.5 ms\n",
      "Wall time: 9.56 s\n"
     ]
    }
   ],
   "source": [
    "%%time\n",
    "\n",
    "# Проверим качество модели на кросс-валидации\n",
    "cv_rmse_catboost_model = (cross_val_score(catboost, \n",
    "                             features_ordinal_train, \n",
    "                             target_train, \n",
    "                             cv=2, # поскольку выборка довольно большая\n",
    "                             n_jobs=4, \n",
    "                             scoring='neg_mean_squared_error').mean() * -1) ** 0.5"
   ]
  },
  {
   "cell_type": "code",
   "execution_count": 115,
   "metadata": {},
   "outputs": [
    {
     "name": "stdout",
     "output_type": "stream",
     "text": [
      "RMSE на кросс-валидации для CatBoostRegressor на трениворочных данных равен 1831.7763635986607\n"
     ]
    }
   ],
   "source": [
    "print('RMSE на кросс-валидации для CatBoostRegressor на трениворочных данных равен', cv_rmse_catboost_model)"
   ]
  },
  {
   "cell_type": "code",
   "execution_count": 116,
   "metadata": {},
   "outputs": [
    {
     "name": "stdout",
     "output_type": "stream",
     "text": [
      "CPU times: user 51.6 ms, sys: 3.1 ms, total: 54.7 ms\n",
      "Wall time: 54.1 ms\n"
     ]
    }
   ],
   "source": [
    "%%time\n",
    "\n",
    "start_time = time.time()\n",
    "\n",
    "# проверим сколько времени требуется для предсказания и проверим качество модели на тестовой выборке\n",
    "target_catboost_pred = catboost_gsc.predict(features_ordinal_test)\n",
    "\n",
    "catboost_model_predicted_time = time.time() - start_time"
   ]
  },
  {
   "cell_type": "code",
   "execution_count": 117,
   "metadata": {},
   "outputs": [
    {
     "name": "stdout",
     "output_type": "stream",
     "text": [
      "RMSE CatBoostRegressor для тестовой выборки равен 1775.5893869505912\n"
     ]
    }
   ],
   "source": [
    "catboost_model_test_rmse = mean_squared_error(target_test, target_catboost_pred ,squared=False)\n",
    "print('RMSE CatBoostRegressor для тестовой выборки равен', \n",
    "      catboost_model_test_rmse)"
   ]
  },
  {
   "cell_type": "markdown",
   "metadata": {},
   "source": [
    "**Краткий вывод**\n",
    "\n",
    "CatBoostReqressor показывает хорошие результаты, и время обучения и предсказания вполне приемлимые. Попробуем обучить еще одну модель.\n",
    "\n",
    "#### LGBMRegressor"
   ]
  },
  {
   "cell_type": "code",
   "execution_count": 118,
   "metadata": {},
   "outputs": [
    {
     "name": "stdout",
     "output_type": "stream",
     "text": [
      "CPU times: user 44 µs, sys: 27 µs, total: 71 µs\n",
      "Wall time: 73.2 µs\n"
     ]
    }
   ],
   "source": [
    "%%time\n",
    "\n",
    "# подберем гиперпараметры\n",
    "params_lgbm = {'max_depth':[x for x in range (2,16,2)]}\n",
    "\n",
    "lgbm_model = LGBMRegressor(random_state=12345)\n",
    "\n",
    "lgbm_model_gsc = GridSearchCV(estimator=lgbm_model, \n",
    "                              param_grid=params_lgbm,  \n",
    "                              cv=5, \n",
    "                              n_jobs=4)"
   ]
  },
  {
   "cell_type": "code",
   "execution_count": 119,
   "metadata": {},
   "outputs": [
    {
     "name": "stdout",
     "output_type": "stream",
     "text": [
      "CPU times: user 6.19 s, sys: 9.12 ms, total: 6.2 s\n",
      "Wall time: 1min 22s\n"
     ]
    },
    {
     "data": {
      "text/plain": [
       "GridSearchCV(cv=5, estimator=LGBMRegressor(random_state=12345), n_jobs=4,\n",
       "             param_grid={'max_depth': [2, 4, 6, 8, 10, 12, 14]})"
      ]
     },
     "execution_count": 119,
     "metadata": {},
     "output_type": "execute_result"
    }
   ],
   "source": [
    "%%time\n",
    "\n",
    "# обучение модели\n",
    "lgbm_model_gsc.fit(features_ordinal_train, target_train)"
   ]
  },
  {
   "cell_type": "code",
   "execution_count": 120,
   "metadata": {},
   "outputs": [
    {
     "data": {
      "text/plain": [
       "{'max_depth': 12}"
      ]
     },
     "execution_count": 120,
     "metadata": {},
     "output_type": "execute_result"
    }
   ],
   "source": [
    "lgbm_model_gsc.best_params_"
   ]
  },
  {
   "cell_type": "code",
   "execution_count": 121,
   "metadata": {},
   "outputs": [],
   "source": [
    "lgbm_model = LGBMRegressor(max_depth=12, \n",
    "                           random_state=12345, \n",
    "                           n_jobs=4)"
   ]
  },
  {
   "cell_type": "code",
   "execution_count": 122,
   "metadata": {},
   "outputs": [
    {
     "name": "stdout",
     "output_type": "stream",
     "text": [
      "CPU times: user 3.28 s, sys: 0 ns, total: 3.28 s\n",
      "Wall time: 3.29 s\n"
     ]
    }
   ],
   "source": [
    "%%time\n",
    "\n",
    "# сохраним модель с лучшими параметрами и обучим её\n",
    "start_time = time.time()\n",
    "\n",
    "lgbm_model.fit(features_ordinal_train, target_train)\n",
    "\n",
    "lgbm_model_fit_time = time.time() - start_time"
   ]
  },
  {
   "cell_type": "code",
   "execution_count": 123,
   "metadata": {},
   "outputs": [
    {
     "name": "stdout",
     "output_type": "stream",
     "text": [
      "CPU times: user 53.1 ms, sys: 0 ns, total: 53.1 ms\n",
      "Wall time: 7.7 s\n"
     ]
    }
   ],
   "source": [
    "%%time\n",
    "\n",
    "# Проверим качество модели на кросс-валидации\n",
    "cv_rmse_lgbm_model = (cross_val_score(lgbm_model, \n",
    "                             features_ordinal_train, \n",
    "                             target_train, \n",
    "                             cv=2, # поскольку выборка довольно большая\n",
    "                             n_jobs=4,       \n",
    "                             scoring='neg_mean_squared_error').mean() * -1) ** 0.5"
   ]
  },
  {
   "cell_type": "code",
   "execution_count": 124,
   "metadata": {},
   "outputs": [
    {
     "name": "stdout",
     "output_type": "stream",
     "text": [
      "RMSE на кросс-валидации для LGBMRegressor на трениворочных данных равен 1831.7763635986607\n"
     ]
    }
   ],
   "source": [
    "# вывод RMSE на тренировочной выборке\n",
    "print('RMSE на кросс-валидации для LGBMRegressor на трениворочных данных равен', cv_rmse_catboost_model)"
   ]
  },
  {
   "cell_type": "code",
   "execution_count": 125,
   "metadata": {},
   "outputs": [
    {
     "name": "stdout",
     "output_type": "stream",
     "text": [
      "CPU times: user 598 ms, sys: 0 ns, total: 598 ms\n",
      "Wall time: 582 ms\n"
     ]
    }
   ],
   "source": [
    "%%time\n",
    "\n",
    "start_time = time.time()\n",
    "\n",
    "# проверим сколько времени требуется для предсказания и проверим качество модели на тестовой выборке\n",
    "target_lgbm_pred = lgbm_model.predict(features_ordinal_test)\n",
    "\n",
    "lgbm_model_predicted_time = time.time() - start_time"
   ]
  },
  {
   "cell_type": "code",
   "execution_count": 126,
   "metadata": {},
   "outputs": [
    {
     "name": "stdout",
     "output_type": "stream",
     "text": [
      "RMSE LGBMRegressor для тестовой выборки равен 1852.0750936787813\n"
     ]
    }
   ],
   "source": [
    "lgbm_model_test_rmse = mean_squared_error(target_test, target_lgbm_pred ,squared=False)\n",
    "\n",
    "print('RMSE LGBMRegressor для тестовой выборки равен', \n",
    "      lgbm_model_test_rmse)"
   ]
  },
  {
   "cell_type": "markdown",
   "metadata": {},
   "source": [
    "**Краткий вывод**\n",
    "\n",
    "LGBMRegressor показал по ошибке измерения результаты почти такие же, как и CatBoostRegressor, но чуть похуже, но вероятнее всего разница может быть статистически незначимой. При это обучалась модель быстрее.\n",
    "\n",
    "В следующем пункте сравним три показателя всех обученных моделей:\n",
    "\n",
    "- качество предсказания;\n",
    "- время обучения;\n",
    "- время предсказания.\n",
    "\n",
    "Основываясь на предпочтениях клиенты выберем наиболее подходящую модель. "
   ]
  },
  {
   "cell_type": "markdown",
   "metadata": {},
   "source": [
    "## Анализ моделей"
   ]
  },
  {
   "cell_type": "code",
   "execution_count": 127,
   "metadata": {},
   "outputs": [
    {
     "data": {
      "text/html": [
       "<div>\n",
       "<style scoped>\n",
       "    .dataframe tbody tr th:only-of-type {\n",
       "        vertical-align: middle;\n",
       "    }\n",
       "\n",
       "    .dataframe tbody tr th {\n",
       "        vertical-align: top;\n",
       "    }\n",
       "\n",
       "    .dataframe thead th {\n",
       "        text-align: right;\n",
       "    }\n",
       "</style>\n",
       "<table border=\"1\" class=\"dataframe\">\n",
       "  <thead>\n",
       "    <tr style=\"text-align: right;\">\n",
       "      <th></th>\n",
       "      <th>RMSE на кросс-валидации, евро</th>\n",
       "      <th>RMSE модели на тестовой выборке, евро</th>\n",
       "      <th>Время обучения модели, мин</th>\n",
       "      <th>Время предсказания модели, мин</th>\n",
       "    </tr>\n",
       "  </thead>\n",
       "  <tbody>\n",
       "    <tr>\n",
       "      <th>LinearRegression</th>\n",
       "      <td>4.020439e+12</td>\n",
       "      <td>3.650241e+11</td>\n",
       "      <td>77.503378</td>\n",
       "      <td>0.218018</td>\n",
       "    </tr>\n",
       "    <tr>\n",
       "      <th>SGDRegressor</th>\n",
       "      <td>2.350258e+03</td>\n",
       "      <td>2.332440e+03</td>\n",
       "      <td>13.377092</td>\n",
       "      <td>0.295565</td>\n",
       "    </tr>\n",
       "    <tr>\n",
       "      <th>DecisionTreeRegressor</th>\n",
       "      <td>2.135180e+03</td>\n",
       "      <td>2.034362e+03</td>\n",
       "      <td>0.751789</td>\n",
       "      <td>0.016756</td>\n",
       "    </tr>\n",
       "    <tr>\n",
       "      <th>CatBoostRegressor</th>\n",
       "      <td>1.831776e+03</td>\n",
       "      <td>1.775589e+03</td>\n",
       "      <td>8.251129</td>\n",
       "      <td>0.054050</td>\n",
       "    </tr>\n",
       "    <tr>\n",
       "      <th>LGBMRegressor</th>\n",
       "      <td>1.876304e+03</td>\n",
       "      <td>1.852075e+03</td>\n",
       "      <td>3.289951</td>\n",
       "      <td>0.582189</td>\n",
       "    </tr>\n",
       "  </tbody>\n",
       "</table>\n",
       "</div>"
      ],
      "text/plain": [
       "                       RMSE на кросс-валидации, евро  \\\n",
       "LinearRegression                        4.020439e+12   \n",
       "SGDRegressor                            2.350258e+03   \n",
       "DecisionTreeRegressor                   2.135180e+03   \n",
       "CatBoostRegressor                       1.831776e+03   \n",
       "LGBMRegressor                           1.876304e+03   \n",
       "\n",
       "                       RMSE модели на тестовой выборке, евро  \\\n",
       "LinearRegression                                3.650241e+11   \n",
       "SGDRegressor                                    2.332440e+03   \n",
       "DecisionTreeRegressor                           2.034362e+03   \n",
       "CatBoostRegressor                               1.775589e+03   \n",
       "LGBMRegressor                                   1.852075e+03   \n",
       "\n",
       "                       Время обучения модели, мин  \\\n",
       "LinearRegression                        77.503378   \n",
       "SGDRegressor                            13.377092   \n",
       "DecisionTreeRegressor                    0.751789   \n",
       "CatBoostRegressor                        8.251129   \n",
       "LGBMRegressor                            3.289951   \n",
       "\n",
       "                       Время предсказания модели, мин  \n",
       "LinearRegression                             0.218018  \n",
       "SGDRegressor                                 0.295565  \n",
       "DecisionTreeRegressor                        0.016756  \n",
       "CatBoostRegressor                            0.054050  \n",
       "LGBMRegressor                                0.582189  "
      ]
     },
     "metadata": {},
     "output_type": "display_data"
    },
    {
     "name": "stdout",
     "output_type": "stream",
     "text": [
      "59:\tlearn: 1568.7641575\ttotal: 27.8s\tremaining: 18.6s\n",
      "60:\tlearn: 1566.3820833\ttotal: 28.3s\tremaining: 18.1s\n",
      "61:\tlearn: 1561.5454128\ttotal: 28.7s\tremaining: 17.6s\n",
      "62:\tlearn: 1558.5691767\ttotal: 29.1s\tremaining: 17.1s\n",
      "63:\tlearn: 1554.9231552\ttotal: 29.6s\tremaining: 16.6s\n",
      "64:\tlearn: 1551.2341253\ttotal: 30s\tremaining: 16.1s\n",
      "65:\tlearn: 1547.7030043\ttotal: 30.5s\tremaining: 15.7s\n",
      "66:\tlearn: 1542.2187465\ttotal: 30.9s\tremaining: 15.2s\n",
      "67:\tlearn: 1539.0613675\ttotal: 31.3s\tremaining: 14.7s\n",
      "68:\tlearn: 1536.4942560\ttotal: 31.7s\tremaining: 14.2s\n",
      "69:\tlearn: 1534.6504353\ttotal: 32.2s\tremaining: 13.8s\n",
      "70:\tlearn: 1530.4457093\ttotal: 32.6s\tremaining: 13.3s\n",
      "71:\tlearn: 1528.4604176\ttotal: 33.1s\tremaining: 12.9s\n",
      "72:\tlearn: 1523.9441086\ttotal: 33.6s\tremaining: 12.4s\n",
      "73:\tlearn: 1521.4065230\ttotal: 34s\tremaining: 12s\n",
      "74:\tlearn: 1518.5527457\ttotal: 34.8s\tremaining: 11.6s\n",
      "75:\tlearn: 1516.5315430\ttotal: 35.2s\tremaining: 11.1s\n",
      "76:\tlearn: 1511.6776553\ttotal: 35.7s\tremaining: 10.7s\n",
      "77:\tlearn: 1510.7871998\ttotal: 36.3s\tremaining: 10.2s\n",
      "78:\tlearn: 1507.2875412\ttotal: 37s\tremaining: 9.83s\n",
      "79:\tlearn: 1504.3126411\ttotal: 37.5s\tremaining: 9.37s\n",
      "80:\tlearn: 1500.9159236\ttotal: 38s\tremaining: 8.91s\n",
      "81:\tlearn: 1499.1374019\ttotal: 38.5s\tremaining: 8.44s\n",
      "82:\tlearn: 1497.2199829\ttotal: 38.9s\tremaining: 7.96s\n",
      "83:\tlearn: 1494.4251010\ttotal: 39.3s\tremaining: 7.49s\n",
      "84:\tlearn: 1490.5557561\ttotal: 40s\tremaining: 7.06s\n",
      "85:\tlearn: 1488.1110525\ttotal: 40.6s\tremaining: 6.61s\n",
      "86:\tlearn: 1484.5117636\ttotal: 41.3s\tremaining: 6.17s\n",
      "87:\tlearn: 1483.3869142\ttotal: 42s\tremaining: 5.72s\n",
      "88:\tlearn: 1481.2893748\ttotal: 42.5s\tremaining: 5.25s\n",
      "89:\tlearn: 1478.6010999\ttotal: 43.1s\tremaining: 4.79s\n",
      "90:\tlearn: 1477.2831558\ttotal: 43.5s\tremaining: 4.3s\n",
      "91:\tlearn: 1474.7580900\ttotal: 44.2s\tremaining: 3.84s\n",
      "92:\tlearn: 1472.2215935\ttotal: 44.9s\tremaining: 3.38s\n",
      "93:\tlearn: 1471.0763371\ttotal: 45.4s\tremaining: 2.9s\n",
      "94:\tlearn: 1468.6530388\ttotal: 46.1s\tremaining: 2.43s\n",
      "95:\tlearn: 1466.4690564\ttotal: 46.8s\tremaining: 1.95s\n",
      "96:\tlearn: 1465.3030725\ttotal: 47.5s\tremaining: 1.47s\n",
      "97:\tlearn: 1462.4162690\ttotal: 48s\tremaining: 980ms\n",
      "98:\tlearn: 1460.6896671\ttotal: 48.5s\tremaining: 490ms\n",
      "99:\tlearn: 1459.1181217\ttotal: 48.9s\tremaining: 0us\n",
      "Learning rate set to 0.5\n",
      "0:\tlearn: 3038.4256555\ttotal: 1.48s\tremaining: 2m 26s\n",
      "1:\tlearn: 2413.7459153\ttotal: 3.28s\tremaining: 2m 40s\n",
      "2:\tlearn: 2131.5081986\ttotal: 4.78s\tremaining: 2m 34s\n",
      "3:\tlearn: 2009.0832831\ttotal: 6.06s\tremaining: 2m 25s\n",
      "4:\tlearn: 1946.1302252\ttotal: 7.66s\tremaining: 2m 25s\n",
      "5:\tlearn: 1897.7706567\ttotal: 9.18s\tremaining: 2m 23s\n",
      "6:\tlearn: 1871.5963545\ttotal: 10.5s\tremaining: 2m 19s\n",
      "7:\tlearn: 1852.0827762\ttotal: 11.8s\tremaining: 2m 15s\n",
      "8:\tlearn: 1836.1038427\ttotal: 13.4s\tremaining: 2m 15s\n",
      "9:\tlearn: 1807.2709524\ttotal: 14.6s\tremaining: 2m 11s\n",
      "10:\tlearn: 1790.8914889\ttotal: 15.9s\tremaining: 2m 8s\n",
      "11:\tlearn: 1779.6088426\ttotal: 17.7s\tremaining: 2m 9s\n",
      "12:\tlearn: 1765.6359639\ttotal: 19.2s\tremaining: 2m 8s\n",
      "13:\tlearn: 1753.0456875\ttotal: 20.9s\tremaining: 2m 8s\n",
      "14:\tlearn: 1740.2885575\ttotal: 22.5s\tremaining: 2m 7s\n",
      "15:\tlearn: 1732.3511339\ttotal: 23.8s\tremaining: 2m 4s\n",
      "16:\tlearn: 1715.9242589\ttotal: 25s\tremaining: 2m 1s\n",
      "17:\tlearn: 1700.7695320\ttotal: 26.4s\tremaining: 2m\n",
      "18:\tlearn: 1692.6553371\ttotal: 27.6s\tremaining: 1m 57s\n",
      "19:\tlearn: 1678.0680001\ttotal: 28.8s\tremaining: 1m 55s\n",
      "20:\tlearn: 1670.9542456\ttotal: 30s\tremaining: 1m 52s\n",
      "21:\tlearn: 1665.1674286\ttotal: 31.2s\tremaining: 1m 50s\n",
      "22:\tlearn: 1657.2606123\ttotal: 32.6s\tremaining: 1m 48s\n",
      "23:\tlearn: 1651.0145155\ttotal: 33.8s\tremaining: 1m 46s\n",
      "24:\tlearn: 1642.8256278\ttotal: 35.1s\tremaining: 1m 45s\n",
      "25:\tlearn: 1636.4094068\ttotal: 36.3s\tremaining: 1m 43s\n",
      "26:\tlearn: 1623.9409399\ttotal: 37.5s\tremaining: 1m 41s\n",
      "27:\tlearn: 1619.1617678\ttotal: 38.9s\tremaining: 1m 39s\n",
      "28:\tlearn: 1612.5996371\ttotal: 40s\tremaining: 1m 38s\n",
      "29:\tlearn: 1606.6101365\ttotal: 41.3s\tremaining: 1m 36s\n",
      "30:\tlearn: 1597.0461314\ttotal: 42.6s\tremaining: 1m 34s\n",
      "31:\tlearn: 1591.9238500\ttotal: 44s\tremaining: 1m 33s\n",
      "32:\tlearn: 1584.4821415\ttotal: 45.5s\tremaining: 1m 32s\n",
      "33:\tlearn: 1579.1041365\ttotal: 46.8s\tremaining: 1m 30s\n",
      "34:\tlearn: 1574.4290142\ttotal: 48.1s\tremaining: 1m 29s\n",
      "35:\tlearn: 1567.3652447\ttotal: 49.4s\tremaining: 1m 27s\n",
      "36:\tlearn: 1558.1886037\ttotal: 50.6s\tremaining: 1m 26s\n",
      "37:\tlearn: 1552.5903928\ttotal: 51.8s\tremaining: 1m 24s\n",
      "38:\tlearn: 1549.2217271\ttotal: 53.6s\tremaining: 1m 23s\n",
      "39:\tlearn: 1541.9099798\ttotal: 54.8s\tremaining: 1m 22s\n",
      "40:\tlearn: 1536.5218201\ttotal: 56.5s\tremaining: 1m 21s\n",
      "41:\tlearn: 1533.9198139\ttotal: 57.8s\tremaining: 1m 19s\n",
      "42:\tlearn: 1529.4933966\ttotal: 59s\tremaining: 1m 18s\n",
      "43:\tlearn: 1521.8682221\ttotal: 1m\tremaining: 1m 16s\n",
      "44:\tlearn: 1514.3679705\ttotal: 1m 1s\tremaining: 1m 15s\n",
      "45:\tlearn: 1510.9351943\ttotal: 1m 3s\tremaining: 1m 14s\n",
      "46:\tlearn: 1504.7983869\ttotal: 1m 4s\tremaining: 1m 12s\n",
      "47:\tlearn: 1500.0004400\ttotal: 1m 5s\tremaining: 1m 11s\n",
      "48:\tlearn: 1493.9924352\ttotal: 1m 7s\tremaining: 1m 9s\n",
      "49:\tlearn: 1487.4417903\ttotal: 1m 8s\tremaining: 1m 8s\n",
      "50:\tlearn: 1482.7216446\ttotal: 1m 9s\tremaining: 1m 7s\n",
      "51:\tlearn: 1479.0251504\ttotal: 1m 11s\tremaining: 1m 5s\n",
      "52:\tlearn: 1471.1749149\ttotal: 1m 12s\tremaining: 1m 4s\n",
      "53:\tlearn: 1464.0271646\ttotal: 1m 14s\tremaining: 1m 3s\n",
      "54:\tlearn: 1459.4131023\ttotal: 1m 16s\tremaining: 1m 2s\n",
      "55:\tlearn: 1453.4739534\ttotal: 1m 18s\tremaining: 1m 1s\n",
      "56:\tlearn: 1449.7511447\ttotal: 1m 19s\tremaining: 1m\n",
      "57:\tlearn: 1445.0971903\ttotal: 1m 21s\tremaining: 58.9s\n",
      "58:\tlearn: 1441.1818631\ttotal: 1m 22s\tremaining: 57.5s\n",
      "59:\tlearn: 1435.5528306\ttotal: 1m 23s\tremaining: 56s\n",
      "60:\tlearn: 1433.8637486\ttotal: 1m 25s\tremaining: 54.7s\n",
      "61:\tlearn: 1428.4727330\ttotal: 1m 27s\tremaining: 53.4s\n",
      "62:\tlearn: 1425.3092769\ttotal: 1m 28s\tremaining: 52s\n",
      "63:\tlearn: 1421.1966898\ttotal: 1m 30s\tremaining: 50.7s\n",
      "64:\tlearn: 1415.4962394\ttotal: 1m 31s\tremaining: 49.5s\n",
      "65:\tlearn: 1413.6292592\ttotal: 1m 33s\tremaining: 48.2s\n",
      "66:\tlearn: 1404.3446651\ttotal: 1m 34s\tremaining: 46.7s\n",
      "67:\tlearn: 1401.3492600\ttotal: 1m 35s\tremaining: 45.2s\n",
      "68:\tlearn: 1398.9452463\ttotal: 1m 37s\tremaining: 43.7s\n",
      "69:\tlearn: 1393.3235732\ttotal: 1m 38s\tremaining: 42.2s\n",
      "70:\tlearn: 1389.6604217\ttotal: 1m 39s\tremaining: 40.7s\n",
      "71:\tlearn: 1383.8962625\ttotal: 1m 40s\tremaining: 39.2s\n",
      "72:\tlearn: 1379.6147451\ttotal: 1m 42s\tremaining: 37.9s\n",
      "73:\tlearn: 1376.0589923\ttotal: 1m 44s\tremaining: 36.7s\n",
      "74:\tlearn: 1370.1999275\ttotal: 1m 46s\tremaining: 35.4s\n",
      "75:\tlearn: 1366.7761156\ttotal: 1m 47s\tremaining: 33.9s\n",
      "76:\tlearn: 1361.9445557\ttotal: 1m 48s\tremaining: 32.4s\n",
      "77:\tlearn: 1361.7906166\ttotal: 1m 48s\tremaining: 30.7s\n",
      "78:\tlearn: 1356.7865616\ttotal: 1m 49s\tremaining: 29.2s\n",
      "79:\tlearn: 1351.2179770\ttotal: 1m 51s\tremaining: 27.8s\n",
      "80:\tlearn: 1349.4075154\ttotal: 1m 52s\tremaining: 26.3s\n",
      "81:\tlearn: 1346.3851632\ttotal: 1m 53s\tremaining: 24.9s\n",
      "82:\tlearn: 1341.3447540\ttotal: 1m 54s\tremaining: 23.4s\n",
      "83:\tlearn: 1339.1505822\ttotal: 1m 54s\tremaining: 21.9s\n",
      "84:\tlearn: 1335.4496587\ttotal: 1m 55s\tremaining: 20.4s\n",
      "85:\tlearn: 1332.4193228\ttotal: 1m 56s\tremaining: 19s\n",
      "86:\tlearn: 1327.2726682\ttotal: 1m 57s\tremaining: 17.5s\n",
      "87:\tlearn: 1324.7963847\ttotal: 1m 58s\tremaining: 16.1s\n",
      "88:\tlearn: 1323.3929971\ttotal: 1m 58s\tremaining: 14.7s\n",
      "89:\tlearn: 1318.9244805\ttotal: 1m 59s\tremaining: 13.2s\n",
      "90:\tlearn: 1316.2583789\ttotal: 1m 59s\tremaining: 11.8s\n",
      "91:\tlearn: 1314.0842600\ttotal: 2m\tremaining: 10.5s\n",
      "92:\tlearn: 1309.4028234\ttotal: 2m\tremaining: 9.1s\n",
      "93:\tlearn: 1306.7303922\ttotal: 2m 1s\tremaining: 7.76s\n",
      "94:\tlearn: 1304.6736357\ttotal: 2m 2s\tremaining: 6.43s\n",
      "95:\tlearn: 1302.5510662\ttotal: 2m 2s\tremaining: 5.11s\n",
      "96:\tlearn: 1300.8275593\ttotal: 2m 3s\tremaining: 3.81s\n",
      "97:\tlearn: 1296.6750107\ttotal: 2m 3s\tremaining: 2.53s\n",
      "98:\tlearn: 1292.4704704\ttotal: 2m 4s\tremaining: 1.26s\n",
      "99:\tlearn: 1290.9713087\ttotal: 2m 5s\tremaining: 0us\n",
      "56:\tlearn: 1434.3313391\ttotal: 1m 24s\tremaining: 1m 3s\n",
      "57:\tlearn: 1429.0081347\ttotal: 1m 26s\tremaining: 1m 2s\n",
      "58:\tlearn: 1425.6211385\ttotal: 1m 28s\tremaining: 1m 1s\n",
      "59:\tlearn: 1421.5616605\ttotal: 1m 29s\tremaining: 59.6s\n",
      "60:\tlearn: 1419.4771330\ttotal: 1m 30s\tremaining: 57.9s\n",
      "61:\tlearn: 1414.3648157\ttotal: 1m 31s\tremaining: 56.3s\n",
      "62:\tlearn: 1410.1529797\ttotal: 1m 33s\tremaining: 54.7s\n",
      "63:\tlearn: 1406.5144275\ttotal: 1m 34s\tremaining: 53.2s\n",
      "64:\tlearn: 1401.2131781\ttotal: 1m 36s\tremaining: 51.7s\n",
      "65:\tlearn: 1396.7086700\ttotal: 1m 37s\tremaining: 50.4s\n",
      "66:\tlearn: 1392.4916722\ttotal: 1m 39s\tremaining: 49.1s\n",
      "67:\tlearn: 1388.5470295\ttotal: 1m 40s\tremaining: 47.5s\n",
      "68:\tlearn: 1384.9863442\ttotal: 1m 42s\tremaining: 46s\n",
      "69:\tlearn: 1379.1729526\ttotal: 1m 44s\tremaining: 44.6s\n",
      "70:\tlearn: 1375.6474209\ttotal: 1m 45s\tremaining: 43.1s\n",
      "71:\tlearn: 1367.4989640\ttotal: 1m 47s\tremaining: 41.7s\n",
      "72:\tlearn: 1364.6949913\ttotal: 1m 48s\tremaining: 40.1s\n",
      "73:\tlearn: 1362.1473439\ttotal: 1m 49s\tremaining: 38.6s\n",
      "74:\tlearn: 1360.0817558\ttotal: 1m 51s\tremaining: 37s\n",
      "75:\tlearn: 1354.2197607\ttotal: 1m 52s\tremaining: 35.6s\n",
      "76:\tlearn: 1350.3534063\ttotal: 1m 54s\tremaining: 34.1s\n",
      "77:\tlearn: 1344.0246644\ttotal: 1m 55s\tremaining: 32.7s\n",
      "78:\tlearn: 1337.0212937\ttotal: 1m 57s\tremaining: 31.1s\n",
      "79:\tlearn: 1336.6259495\ttotal: 1m 57s\tremaining: 29.3s\n",
      "80:\tlearn: 1333.9297366\ttotal: 1m 58s\tremaining: 27.8s\n",
      "81:\tlearn: 1330.5643520\ttotal: 1m 59s\tremaining: 26.3s\n",
      "82:\tlearn: 1328.8554283\ttotal: 2m 1s\tremaining: 24.8s\n",
      "83:\tlearn: 1324.3326975\ttotal: 2m 2s\tremaining: 23.3s\n",
      "84:\tlearn: 1319.3982485\ttotal: 2m 3s\tremaining: 21.9s\n",
      "85:\tlearn: 1316.4038287\ttotal: 2m 5s\tremaining: 20.4s\n",
      "86:\tlearn: 1313.5280611\ttotal: 2m 7s\tremaining: 19s\n",
      "87:\tlearn: 1310.7874143\ttotal: 2m 8s\tremaining: 17.5s\n",
      "88:\tlearn: 1306.0640591\ttotal: 2m 10s\tremaining: 16.1s\n",
      "89:\tlearn: 1302.8018562\ttotal: 2m 11s\tremaining: 14.7s\n",
      "90:\tlearn: 1298.5879758\ttotal: 2m 13s\tremaining: 13.2s\n",
      "91:\tlearn: 1296.3996251\ttotal: 2m 14s\tremaining: 11.7s\n",
      "92:\tlearn: 1293.9785748\ttotal: 2m 16s\tremaining: 10.3s\n",
      "93:\tlearn: 1290.1680918\ttotal: 2m 18s\tremaining: 8.84s\n",
      "94:\tlearn: 1288.7766402\ttotal: 2m 20s\tremaining: 7.38s\n",
      "95:\tlearn: 1286.4625835\ttotal: 2m 21s\tremaining: 5.9s\n",
      "96:\tlearn: 1283.0664896\ttotal: 2m 22s\tremaining: 4.42s\n",
      "97:\tlearn: 1278.2821283\ttotal: 2m 24s\tremaining: 2.94s\n",
      "98:\tlearn: 1276.1834917\ttotal: 2m 25s\tremaining: 1.47s\n",
      "99:\tlearn: 1274.3097367\ttotal: 2m 27s\tremaining: 0us\n",
      "Learning rate set to 0.5\n",
      "0:\tlearn: 3021.1820268\ttotal: 1.37s\tremaining: 2m 15s\n",
      "1:\tlearn: 2399.9671152\ttotal: 2.67s\tremaining: 2m 10s\n",
      "2:\tlearn: 2134.3088915\ttotal: 3.86s\tremaining: 2m 4s\n",
      "3:\tlearn: 2019.6853701\ttotal: 5.06s\tremaining: 2m 1s\n",
      "4:\tlearn: 1940.4660252\ttotal: 6.26s\tremaining: 1m 59s\n",
      "5:\tlearn: 1883.1582858\ttotal: 7.68s\tremaining: 2m\n",
      "6:\tlearn: 1860.0596245\ttotal: 9.38s\tremaining: 2m 4s\n",
      "7:\tlearn: 1841.0121120\ttotal: 11.1s\tremaining: 2m 7s\n",
      "8:\tlearn: 1820.9030549\ttotal: 12.3s\tremaining: 2m 4s\n",
      "9:\tlearn: 1808.0299429\ttotal: 13.2s\tremaining: 1m 58s\n",
      "10:\tlearn: 1794.5412687\ttotal: 14.2s\tremaining: 1m 54s\n",
      "11:\tlearn: 1781.7679804\ttotal: 15.1s\tremaining: 1m 50s\n",
      "12:\tlearn: 1771.7579915\ttotal: 16s\tremaining: 1m 46s\n",
      "13:\tlearn: 1754.4785759\ttotal: 16.8s\tremaining: 1m 43s\n",
      "14:\tlearn: 1743.5423791\ttotal: 17.6s\tremaining: 1m 39s\n",
      "15:\tlearn: 1734.2111966\ttotal: 18.2s\tremaining: 1m 35s\n",
      "16:\tlearn: 1727.6841800\ttotal: 18.7s\tremaining: 1m 31s\n",
      "17:\tlearn: 1716.8862252\ttotal: 19.3s\tremaining: 1m 27s\n",
      "18:\tlearn: 1705.6055836\ttotal: 19.9s\tremaining: 1m 24s\n",
      "19:\tlearn: 1699.2537458\ttotal: 20.5s\tremaining: 1m 21s\n",
      "20:\tlearn: 1690.9941792\ttotal: 21.1s\tremaining: 1m 19s\n",
      "21:\tlearn: 1683.3489557\ttotal: 21.7s\tremaining: 1m 16s\n",
      "22:\tlearn: 1673.5226190\ttotal: 22.3s\tremaining: 1m 14s\n",
      "23:\tlearn: 1661.8947691\ttotal: 22.9s\tremaining: 1m 12s\n",
      "24:\tlearn: 1653.2744469\ttotal: 23.4s\tremaining: 1m 10s\n",
      "25:\tlearn: 1642.9823812\ttotal: 24s\tremaining: 1m 8s\n",
      "26:\tlearn: 1633.6790282\ttotal: 24.6s\tremaining: 1m 6s\n",
      "27:\tlearn: 1627.4133354\ttotal: 25.1s\tremaining: 1m 4s\n",
      "28:\tlearn: 1622.2417568\ttotal: 25.6s\tremaining: 1m 2s\n",
      "29:\tlearn: 1616.6282826\ttotal: 25.9s\tremaining: 1m\n",
      "30:\tlearn: 1601.9527760\ttotal: 26.2s\tremaining: 58.2s\n",
      "31:\tlearn: 1595.8808276\ttotal: 26.4s\tremaining: 56.2s\n",
      "32:\tlearn: 1584.8893589\ttotal: 26.7s\tremaining: 54.3s\n",
      "33:\tlearn: 1574.6270354\ttotal: 27s\tremaining: 52.4s\n",
      "34:\tlearn: 1567.4429951\ttotal: 27.3s\tremaining: 50.8s\n",
      "35:\tlearn: 1556.5931087\ttotal: 27.6s\tremaining: 49.1s\n",
      "36:\tlearn: 1551.5305757\ttotal: 27.9s\tremaining: 47.5s\n",
      "37:\tlearn: 1546.0564923\ttotal: 28.2s\tremaining: 46s\n",
      "38:\tlearn: 1541.3441591\ttotal: 28.5s\tremaining: 44.5s\n",
      "39:\tlearn: 1535.4663463\ttotal: 28.8s\tremaining: 43.1s\n",
      "40:\tlearn: 1531.1231241\ttotal: 29s\tremaining: 41.8s\n",
      "41:\tlearn: 1522.5546733\ttotal: 29.3s\tremaining: 40.5s\n",
      "42:\tlearn: 1516.7473116\ttotal: 29.6s\tremaining: 39.2s\n",
      "43:\tlearn: 1509.1319390\ttotal: 29.9s\tremaining: 38s\n",
      "44:\tlearn: 1502.9944823\ttotal: 30.2s\tremaining: 36.9s\n",
      "45:\tlearn: 1500.2042496\ttotal: 30.5s\tremaining: 35.8s\n",
      "46:\tlearn: 1491.9558866\ttotal: 30.8s\tremaining: 34.7s\n",
      "47:\tlearn: 1484.0796786\ttotal: 31s\tremaining: 33.6s\n",
      "48:\tlearn: 1478.0690690\ttotal: 31.3s\tremaining: 32.6s\n",
      "49:\tlearn: 1471.9250885\ttotal: 31.7s\tremaining: 31.7s\n",
      "50:\tlearn: 1465.2871590\ttotal: 32s\tremaining: 30.7s\n",
      "51:\tlearn: 1461.5531299\ttotal: 32.3s\tremaining: 29.8s\n",
      "52:\tlearn: 1456.3840551\ttotal: 32.5s\tremaining: 28.8s\n",
      "53:\tlearn: 1451.9967496\ttotal: 32.8s\tremaining: 27.9s\n",
      "54:\tlearn: 1449.1676069\ttotal: 33.1s\tremaining: 27.1s\n",
      "55:\tlearn: 1440.8938634\ttotal: 33.4s\tremaining: 26.2s\n",
      "56:\tlearn: 1436.9186705\ttotal: 33.6s\tremaining: 25.4s\n",
      "57:\tlearn: 1429.2356914\ttotal: 33.9s\tremaining: 24.6s\n",
      "58:\tlearn: 1425.7388082\ttotal: 34.2s\tremaining: 23.8s\n",
      "59:\tlearn: 1418.9210675\ttotal: 34.5s\tremaining: 23s\n",
      "60:\tlearn: 1415.4810979\ttotal: 34.8s\tremaining: 22.3s\n",
      "61:\tlearn: 1410.7493013\ttotal: 35.1s\tremaining: 21.5s\n",
      "62:\tlearn: 1404.4786103\ttotal: 35.4s\tremaining: 20.8s\n",
      "63:\tlearn: 1400.8959461\ttotal: 35.7s\tremaining: 20.1s\n",
      "64:\tlearn: 1395.7068282\ttotal: 36s\tremaining: 19.4s\n",
      "65:\tlearn: 1392.4929037\ttotal: 36.2s\tremaining: 18.7s\n",
      "66:\tlearn: 1388.3267197\ttotal: 36.5s\tremaining: 18s\n",
      "67:\tlearn: 1387.4557182\ttotal: 36.8s\tremaining: 17.3s\n",
      "68:\tlearn: 1382.7023712\ttotal: 37.1s\tremaining: 16.7s\n",
      "69:\tlearn: 1379.6569228\ttotal: 37.4s\tremaining: 16s\n",
      "70:\tlearn: 1375.9349895\ttotal: 37.7s\tremaining: 15.4s\n",
      "71:\tlearn: 1371.2892290\ttotal: 38s\tremaining: 14.8s\n",
      "72:\tlearn: 1367.3465673\ttotal: 38.3s\tremaining: 14.2s\n",
      "73:\tlearn: 1361.0023647\ttotal: 38.6s\tremaining: 13.6s\n",
      "74:\tlearn: 1358.2255857\ttotal: 38.9s\tremaining: 13s\n",
      "75:\tlearn: 1355.2399453\ttotal: 39.2s\tremaining: 12.4s\n",
      "76:\tlearn: 1350.6802966\ttotal: 39.5s\tremaining: 11.8s\n",
      "77:\tlearn: 1346.8684787\ttotal: 39.8s\tremaining: 11.2s\n",
      "78:\tlearn: 1344.7216499\ttotal: 40.1s\tremaining: 10.7s\n",
      "79:\tlearn: 1340.6553999\ttotal: 40.4s\tremaining: 10.1s\n",
      "80:\tlearn: 1336.5068185\ttotal: 40.7s\tremaining: 9.54s\n",
      "81:\tlearn: 1331.3655271\ttotal: 41s\tremaining: 8.99s\n",
      "82:\tlearn: 1330.0606030\ttotal: 41.3s\tremaining: 8.45s\n",
      "83:\tlearn: 1326.4145989\ttotal: 41.6s\tremaining: 7.93s\n",
      "84:\tlearn: 1320.9356601\ttotal: 41.9s\tremaining: 7.4s\n",
      "85:\tlearn: 1319.3945702\ttotal: 42.2s\tremaining: 6.87s\n",
      "86:\tlearn: 1316.6870518\ttotal: 42.5s\tremaining: 6.36s\n",
      "87:\tlearn: 1313.2013835\ttotal: 42.8s\tremaining: 5.84s\n",
      "88:\tlearn: 1310.8071942\ttotal: 43.1s\tremaining: 5.33s\n",
      "89:\tlearn: 1308.5901095\ttotal: 43.4s\tremaining: 4.82s\n",
      "90:\tlearn: 1305.8777749\ttotal: 43.7s\tremaining: 4.32s\n",
      "91:\tlearn: 1304.7087273\ttotal: 44s\tremaining: 3.83s\n",
      "92:\tlearn: 1301.8902366\ttotal: 44.3s\tremaining: 3.34s\n",
      "93:\tlearn: 1299.2566185\ttotal: 44.6s\tremaining: 2.85s\n",
      "94:\tlearn: 1297.0424460\ttotal: 44.9s\tremaining: 2.36s\n",
      "95:\tlearn: 1293.9471629\ttotal: 45.2s\tremaining: 1.88s\n",
      "96:\tlearn: 1291.8616129\ttotal: 45.5s\tremaining: 1.41s\n",
      "97:\tlearn: 1287.9796230\ttotal: 45.8s\tremaining: 934ms\n",
      "98:\tlearn: 1283.9077425\ttotal: 46.1s\tremaining: 465ms\n",
      "99:\tlearn: 1277.2878059\ttotal: 46.4s\tremaining: 0us\n",
      "8:\tlearn: 1965.6884279\ttotal: 690ms\tremaining: 6.98s\n",
      "9:\tlearn: 1948.0841537\ttotal: 784ms\tremaining: 7.06s\n",
      "10:\tlearn: 1932.1742091\ttotal: 875ms\tremaining: 7.08s\n",
      "11:\tlearn: 1920.8167071\ttotal: 915ms\tremaining: 6.71s\n",
      "12:\tlearn: 1914.0456273\ttotal: 1.01s\tremaining: 6.77s\n",
      "13:\tlearn: 1899.9475711\ttotal: 1.1s\tremaining: 6.76s\n",
      "14:\tlearn: 1886.1221216\ttotal: 1.19s\tremaining: 6.75s\n",
      "15:\tlearn: 1876.1570296\ttotal: 1.27s\tremaining: 6.7s\n",
      "16:\tlearn: 1868.1886140\ttotal: 1.31s\tremaining: 6.41s\n",
      "17:\tlearn: 1861.6632688\ttotal: 1.4s\tremaining: 6.38s\n",
      "18:\tlearn: 1855.4791590\ttotal: 1.49s\tremaining: 6.34s\n",
      "19:\tlearn: 1844.0589053\ttotal: 1.58s\tremaining: 6.33s\n",
      "20:\tlearn: 1836.1833984\ttotal: 1.68s\tremaining: 6.31s\n",
      "21:\tlearn: 1828.7507314\ttotal: 1.72s\tremaining: 6.08s\n",
      "22:\tlearn: 1821.4748094\ttotal: 1.76s\tremaining: 5.89s\n",
      "23:\tlearn: 1815.5487369\ttotal: 1.84s\tremaining: 5.84s\n",
      "24:\tlearn: 1808.2082083\ttotal: 1.93s\tremaining: 5.8s\n",
      "25:\tlearn: 1801.7705353\ttotal: 2.03s\tremaining: 5.79s\n",
      "26:\tlearn: 1792.6849201\ttotal: 2.12s\tremaining: 5.73s\n",
      "27:\tlearn: 1786.9906407\ttotal: 2.16s\tremaining: 5.55s\n",
      "28:\tlearn: 1780.5153904\ttotal: 2.25s\tremaining: 5.51s\n",
      "29:\tlearn: 1776.7018293\ttotal: 2.34s\tremaining: 5.46s\n",
      "30:\tlearn: 1771.6714518\ttotal: 2.43s\tremaining: 5.4s\n",
      "31:\tlearn: 1763.2487785\ttotal: 2.52s\tremaining: 5.35s\n",
      "32:\tlearn: 1757.6422020\ttotal: 2.56s\tremaining: 5.19s\n",
      "33:\tlearn: 1749.3100298\ttotal: 2.6s\tremaining: 5.04s\n",
      "34:\tlearn: 1742.7986216\ttotal: 2.69s\tremaining: 5s\n",
      "35:\tlearn: 1735.7018515\ttotal: 2.8s\tremaining: 4.98s\n",
      "36:\tlearn: 1731.8433445\ttotal: 2.88s\tremaining: 4.91s\n",
      "37:\tlearn: 1727.0586070\ttotal: 2.97s\tremaining: 4.85s\n",
      "38:\tlearn: 1723.8543662\ttotal: 3.07s\tremaining: 4.8s\n",
      "39:\tlearn: 1717.5480057\ttotal: 3.16s\tremaining: 4.74s\n",
      "40:\tlearn: 1715.4154013\ttotal: 3.2s\tremaining: 4.6s\n",
      "41:\tlearn: 1711.4502344\ttotal: 3.28s\tremaining: 4.53s\n",
      "42:\tlearn: 1708.5992864\ttotal: 3.37s\tremaining: 4.47s\n",
      "43:\tlearn: 1705.1997527\ttotal: 3.46s\tremaining: 4.4s\n",
      "44:\tlearn: 1701.3414449\ttotal: 3.55s\tremaining: 4.34s\n",
      "45:\tlearn: 1695.8928996\ttotal: 3.59s\tremaining: 4.21s\n",
      "46:\tlearn: 1692.6474651\ttotal: 3.68s\tremaining: 4.15s\n",
      "47:\tlearn: 1689.7435375\ttotal: 3.77s\tremaining: 4.08s\n",
      "48:\tlearn: 1687.5074786\ttotal: 3.87s\tremaining: 4.03s\n",
      "49:\tlearn: 1684.2821867\ttotal: 3.96s\tremaining: 3.96s\n",
      "50:\tlearn: 1680.6592779\ttotal: 4.05s\tremaining: 3.89s\n",
      "51:\tlearn: 1678.9408703\ttotal: 4.09s\tremaining: 3.77s\n",
      "52:\tlearn: 1675.2903612\ttotal: 4.18s\tremaining: 3.71s\n",
      "53:\tlearn: 1670.8149966\ttotal: 4.27s\tremaining: 3.64s\n",
      "54:\tlearn: 1666.1304829\ttotal: 4.36s\tremaining: 3.57s\n",
      "55:\tlearn: 1661.4559014\ttotal: 4.45s\tremaining: 3.5s\n",
      "56:\tlearn: 1658.2848177\ttotal: 4.5s\tremaining: 3.39s\n",
      "57:\tlearn: 1654.6322449\ttotal: 4.58s\tremaining: 3.32s\n",
      "58:\tlearn: 1652.1732337\ttotal: 4.67s\tremaining: 3.25s\n",
      "59:\tlearn: 1646.7828938\ttotal: 4.76s\tremaining: 3.17s\n",
      "60:\tlearn: 1642.7558783\ttotal: 4.85s\tremaining: 3.1s\n",
      "61:\tlearn: 1639.8770927\ttotal: 4.89s\tremaining: 3s\n",
      "62:\tlearn: 1637.3553904\ttotal: 4.99s\tremaining: 2.93s\n",
      "63:\tlearn: 1632.7892790\ttotal: 5.14s\tremaining: 2.89s\n",
      "64:\tlearn: 1629.9217656\ttotal: 5.18s\tremaining: 2.79s\n",
      "65:\tlearn: 1626.6909533\ttotal: 5.27s\tremaining: 2.71s\n",
      "66:\tlearn: 1622.7527376\ttotal: 5.36s\tremaining: 2.64s\n",
      "67:\tlearn: 1619.7772428\ttotal: 5.45s\tremaining: 2.57s\n",
      "68:\tlearn: 1617.7304932\ttotal: 5.55s\tremaining: 2.49s\n",
      "69:\tlearn: 1614.4275028\ttotal: 5.64s\tremaining: 2.42s\n",
      "70:\tlearn: 1612.8545344\ttotal: 5.69s\tremaining: 2.32s\n",
      "71:\tlearn: 1610.8840487\ttotal: 5.73s\tremaining: 2.23s\n",
      "72:\tlearn: 1607.1979659\ttotal: 5.82s\tremaining: 2.15s\n",
      "73:\tlearn: 1604.4659593\ttotal: 5.91s\tremaining: 2.08s\n",
      "74:\tlearn: 1600.4501717\ttotal: 6s\tremaining: 2s\n",
      "75:\tlearn: 1598.4403305\ttotal: 6.11s\tremaining: 1.93s\n",
      "76:\tlearn: 1595.9866934\ttotal: 6.19s\tremaining: 1.85s\n",
      "77:\tlearn: 1592.9595353\ttotal: 6.28s\tremaining: 1.77s\n",
      "78:\tlearn: 1590.0219937\ttotal: 6.33s\tremaining: 1.68s\n",
      "79:\tlearn: 1587.0783230\ttotal: 6.42s\tremaining: 1.6s\n",
      "80:\tlearn: 1584.4018040\ttotal: 6.51s\tremaining: 1.53s\n",
      "81:\tlearn: 1581.4750408\ttotal: 6.62s\tremaining: 1.45s\n",
      "82:\tlearn: 1578.4453244\ttotal: 6.73s\tremaining: 1.38s\n",
      "83:\tlearn: 1576.9179909\ttotal: 6.82s\tremaining: 1.3s\n",
      "84:\tlearn: 1574.7297191\ttotal: 6.91s\tremaining: 1.22s\n",
      "85:\tlearn: 1572.7910141\ttotal: 7.01s\tremaining: 1.14s\n",
      "86:\tlearn: 1568.5063129\ttotal: 7.12s\tremaining: 1.06s\n",
      "87:\tlearn: 1566.2988981\ttotal: 7.22s\tremaining: 984ms\n",
      "88:\tlearn: 1563.9416630\ttotal: 7.33s\tremaining: 906ms\n",
      "89:\tlearn: 1560.5331494\ttotal: 7.37s\tremaining: 819ms\n",
      "90:\tlearn: 1558.5971809\ttotal: 7.47s\tremaining: 738ms\n",
      "91:\tlearn: 1555.5983207\ttotal: 7.56s\tremaining: 657ms\n",
      "92:\tlearn: 1553.8615016\ttotal: 7.65s\tremaining: 576ms\n",
      "93:\tlearn: 1552.0244662\ttotal: 7.74s\tremaining: 494ms\n",
      "94:\tlearn: 1548.3572536\ttotal: 7.83s\tremaining: 412ms\n",
      "95:\tlearn: 1547.0906196\ttotal: 7.88s\tremaining: 328ms\n",
      "96:\tlearn: 1545.4155582\ttotal: 7.98s\tremaining: 247ms\n",
      "97:\tlearn: 1543.3648067\ttotal: 8.09s\tremaining: 165ms\n",
      "98:\tlearn: 1539.7401234\ttotal: 8.21s\tremaining: 82.9ms\n",
      "99:\tlearn: 1537.4965890\ttotal: 8.3s\tremaining: 0us\n",
      "57:\tlearn: 1438.7066210\ttotal: 1m 20s\tremaining: 58.2s\n",
      "58:\tlearn: 1433.7384908\ttotal: 1m 22s\tremaining: 57.1s\n",
      "59:\tlearn: 1427.4673873\ttotal: 1m 23s\tremaining: 55.8s\n",
      "60:\tlearn: 1423.6104746\ttotal: 1m 24s\tremaining: 54.3s\n",
      "61:\tlearn: 1421.1522046\ttotal: 1m 26s\tremaining: 52.9s\n",
      "62:\tlearn: 1417.4406952\ttotal: 1m 27s\tremaining: 51.4s\n",
      "63:\tlearn: 1413.5900332\ttotal: 1m 28s\tremaining: 50s\n",
      "64:\tlearn: 1408.3281940\ttotal: 1m 31s\tremaining: 49s\n",
      "65:\tlearn: 1405.0470465\ttotal: 1m 32s\tremaining: 47.9s\n",
      "66:\tlearn: 1400.6034570\ttotal: 1m 34s\tremaining: 46.6s\n",
      "67:\tlearn: 1398.7858967\ttotal: 1m 36s\tremaining: 45.2s\n",
      "68:\tlearn: 1397.0177236\ttotal: 1m 36s\tremaining: 43.5s\n",
      "69:\tlearn: 1393.0427387\ttotal: 1m 38s\tremaining: 42.1s\n",
      "70:\tlearn: 1387.3808659\ttotal: 1m 39s\tremaining: 40.7s\n",
      "71:\tlearn: 1383.9456144\ttotal: 1m 41s\tremaining: 39.4s\n",
      "72:\tlearn: 1379.5393379\ttotal: 1m 42s\tremaining: 37.9s\n",
      "73:\tlearn: 1375.2888827\ttotal: 1m 43s\tremaining: 36.5s\n",
      "74:\tlearn: 1372.0904153\ttotal: 1m 45s\tremaining: 35.2s\n",
      "75:\tlearn: 1366.8466965\ttotal: 1m 47s\tremaining: 34s\n",
      "76:\tlearn: 1361.5237867\ttotal: 1m 49s\tremaining: 32.6s\n",
      "77:\tlearn: 1354.3386266\ttotal: 1m 51s\tremaining: 31.4s\n",
      "78:\tlearn: 1349.2806500\ttotal: 1m 52s\tremaining: 29.9s\n",
      "79:\tlearn: 1345.3105552\ttotal: 1m 53s\tremaining: 28.4s\n",
      "80:\tlearn: 1342.3315417\ttotal: 1m 55s\tremaining: 27s\n",
      "81:\tlearn: 1338.3353068\ttotal: 1m 56s\tremaining: 25.6s\n",
      "82:\tlearn: 1334.8051570\ttotal: 1m 58s\tremaining: 24.3s\n",
      "83:\tlearn: 1330.9607339\ttotal: 1m 59s\tremaining: 22.8s\n",
      "84:\tlearn: 1327.5089489\ttotal: 2m 1s\tremaining: 21.5s\n",
      "85:\tlearn: 1323.6303940\ttotal: 2m 2s\tremaining: 20s\n",
      "86:\tlearn: 1321.9022702\ttotal: 2m 4s\tremaining: 18.6s\n",
      "87:\tlearn: 1317.3291950\ttotal: 2m 6s\tremaining: 17.2s\n",
      "88:\tlearn: 1314.9298184\ttotal: 2m 7s\tremaining: 15.7s\n",
      "89:\tlearn: 1311.9859035\ttotal: 2m 9s\tremaining: 14.4s\n",
      "90:\tlearn: 1309.4671299\ttotal: 2m 10s\tremaining: 12.9s\n",
      "91:\tlearn: 1305.8383721\ttotal: 2m 12s\tremaining: 11.5s\n",
      "92:\tlearn: 1301.7275363\ttotal: 2m 13s\tremaining: 10.1s\n",
      "93:\tlearn: 1299.6639170\ttotal: 2m 15s\tremaining: 8.64s\n",
      "94:\tlearn: 1296.3123845\ttotal: 2m 17s\tremaining: 7.21s\n",
      "95:\tlearn: 1292.9371412\ttotal: 2m 18s\tremaining: 5.78s\n",
      "96:\tlearn: 1291.4768238\ttotal: 2m 20s\tremaining: 4.34s\n",
      "97:\tlearn: 1288.2101100\ttotal: 2m 21s\tremaining: 2.89s\n",
      "98:\tlearn: 1282.8909267\ttotal: 2m 22s\tremaining: 1.44s\n",
      "99:\tlearn: 1282.4086446\ttotal: 2m 24s\tremaining: 0us\n",
      "Learning rate set to 0.5\n",
      "0:\tlearn: 3114.0261670\ttotal: 41.2ms\tremaining: 4.08s\n",
      "1:\tlearn: 2522.5804789\ttotal: 126ms\tremaining: 6.19s\n",
      "2:\tlearn: 2269.8848442\ttotal: 210ms\tremaining: 6.8s\n",
      "3:\tlearn: 2162.4521207\ttotal: 303ms\tremaining: 7.27s\n",
      "4:\tlearn: 2081.1453803\ttotal: 387ms\tremaining: 7.35s\n",
      "5:\tlearn: 2036.4948171\ttotal: 425ms\tremaining: 6.66s\n",
      "6:\tlearn: 2002.0902020\ttotal: 515ms\tremaining: 6.84s\n",
      "7:\tlearn: 1981.2128272\ttotal: 603ms\tremaining: 6.93s\n",
      "8:\tlearn: 1965.8389927\ttotal: 691ms\tremaining: 6.99s\n",
      "9:\tlearn: 1943.8782979\ttotal: 786ms\tremaining: 7.07s\n",
      "10:\tlearn: 1929.4948848\ttotal: 829ms\tremaining: 6.71s\n",
      "11:\tlearn: 1922.5088727\ttotal: 869ms\tremaining: 6.38s\n",
      "12:\tlearn: 1910.7903271\ttotal: 961ms\tremaining: 6.43s\n",
      "13:\tlearn: 1898.9988658\ttotal: 1.05s\tremaining: 6.48s\n",
      "14:\tlearn: 1885.9096643\ttotal: 1.14s\tremaining: 6.46s\n",
      "15:\tlearn: 1875.1221663\ttotal: 1.25s\tremaining: 6.55s\n",
      "16:\tlearn: 1871.0353216\ttotal: 1.34s\tremaining: 6.54s\n",
      "17:\tlearn: 1865.5285028\ttotal: 1.43s\tremaining: 6.5s\n",
      "18:\tlearn: 1857.8051576\ttotal: 1.47s\tremaining: 6.25s\n",
      "19:\tlearn: 1849.7489628\ttotal: 1.56s\tremaining: 6.23s\n",
      "20:\tlearn: 1840.0055210\ttotal: 1.65s\tremaining: 6.2s\n",
      "21:\tlearn: 1830.1930388\ttotal: 1.74s\tremaining: 6.17s\n",
      "22:\tlearn: 1821.5563951\ttotal: 1.83s\tremaining: 6.14s\n",
      "23:\tlearn: 1812.9840415\ttotal: 1.92s\tremaining: 6.09s\n",
      "24:\tlearn: 1803.7333555\ttotal: 1.97s\tremaining: 5.91s\n",
      "25:\tlearn: 1797.0633808\ttotal: 2.06s\tremaining: 5.86s\n",
      "26:\tlearn: 1792.3407963\ttotal: 2.15s\tremaining: 5.81s\n",
      "27:\tlearn: 1785.4241756\ttotal: 2.24s\tremaining: 5.76s\n",
      "28:\tlearn: 1781.6834668\ttotal: 2.33s\tremaining: 5.7s\n",
      "29:\tlearn: 1778.3204992\ttotal: 2.42s\tremaining: 5.66s\n",
      "30:\tlearn: 1773.6145079\ttotal: 2.46s\tremaining: 5.49s\n",
      "31:\tlearn: 1769.0888240\ttotal: 2.5s\tremaining: 5.32s\n",
      "32:\tlearn: 1763.1693240\ttotal: 2.6s\tremaining: 5.27s\n",
      "33:\tlearn: 1760.8602237\ttotal: 2.69s\tremaining: 5.21s\n",
      "34:\tlearn: 1755.7633686\ttotal: 2.77s\tremaining: 5.15s\n",
      "35:\tlearn: 1750.0224000\ttotal: 2.87s\tremaining: 5.1s\n",
      "36:\tlearn: 1743.9236070\ttotal: 2.96s\tremaining: 5.05s\n",
      "37:\tlearn: 1739.4972514\ttotal: 3s\tremaining: 4.9s\n",
      "38:\tlearn: 1736.4984261\ttotal: 3.09s\tremaining: 4.83s\n",
      "39:\tlearn: 1729.7307012\ttotal: 3.18s\tremaining: 4.77s\n",
      "40:\tlearn: 1725.0378097\ttotal: 3.27s\tremaining: 4.71s\n",
      "41:\tlearn: 1721.5020241\ttotal: 3.37s\tremaining: 4.65s\n",
      "42:\tlearn: 1717.9643423\ttotal: 3.41s\tremaining: 4.52s\n",
      "43:\tlearn: 1713.4875685\ttotal: 3.45s\tremaining: 4.39s\n",
      "44:\tlearn: 1710.0093569\ttotal: 3.54s\tremaining: 4.33s\n",
      "45:\tlearn: 1707.3560452\ttotal: 3.63s\tremaining: 4.26s\n",
      "46:\tlearn: 1703.8054742\ttotal: 3.72s\tremaining: 4.2s\n",
      "47:\tlearn: 1699.1893931\ttotal: 3.81s\tremaining: 4.13s\n",
      "48:\tlearn: 1696.7341426\ttotal: 3.85s\tremaining: 4.01s\n",
      "49:\tlearn: 1692.1680374\ttotal: 3.9s\tremaining: 3.9s\n",
      "50:\tlearn: 1687.8086293\ttotal: 3.99s\tremaining: 3.83s\n",
      "51:\tlearn: 1684.3278036\ttotal: 4.08s\tremaining: 3.76s\n",
      "52:\tlearn: 1680.9131848\ttotal: 4.17s\tremaining: 3.69s\n",
      "53:\tlearn: 1676.5174182\ttotal: 4.26s\tremaining: 3.63s\n",
      "54:\tlearn: 1673.1991241\ttotal: 4.36s\tremaining: 3.56s\n",
      "55:\tlearn: 1668.1030683\ttotal: 4.45s\tremaining: 3.5s\n",
      "56:\tlearn: 1665.8061897\ttotal: 4.55s\tremaining: 3.43s\n",
      "57:\tlearn: 1663.0980319\ttotal: 4.59s\tremaining: 3.33s\n",
      "58:\tlearn: 1661.7603305\ttotal: 4.69s\tremaining: 3.26s\n",
      "59:\tlearn: 1656.9979242\ttotal: 4.78s\tremaining: 3.19s\n",
      "60:\tlearn: 1650.8257795\ttotal: 4.87s\tremaining: 3.11s\n",
      "61:\tlearn: 1649.4416577\ttotal: 4.99s\tremaining: 3.06s\n",
      "62:\tlearn: 1648.2336951\ttotal: 5.08s\tremaining: 2.98s\n",
      "63:\tlearn: 1646.6948689\ttotal: 5.17s\tremaining: 2.91s\n",
      "64:\tlearn: 1644.0974713\ttotal: 5.26s\tremaining: 2.83s\n",
      "65:\tlearn: 1640.6173005\ttotal: 5.35s\tremaining: 2.75s\n",
      "66:\tlearn: 1637.2763920\ttotal: 5.39s\tremaining: 2.66s\n",
      "67:\tlearn: 1633.2688938\ttotal: 5.48s\tremaining: 2.58s\n",
      "68:\tlearn: 1630.2228710\ttotal: 5.57s\tremaining: 2.5s\n",
      "69:\tlearn: 1627.4131021\ttotal: 5.67s\tremaining: 2.43s\n",
      "70:\tlearn: 1623.8343619\ttotal: 5.76s\tremaining: 2.35s\n",
      "71:\tlearn: 1619.6610661\ttotal: 5.85s\tremaining: 2.27s\n",
      "72:\tlearn: 1617.1298763\ttotal: 5.89s\tremaining: 2.18s\n",
      "73:\tlearn: 1615.1658641\ttotal: 5.94s\tremaining: 2.09s\n",
      "74:\tlearn: 1612.4090259\ttotal: 5.98s\tremaining: 1.99s\n",
      "75:\tlearn: 1609.6812912\ttotal: 6.07s\tremaining: 1.92s\n",
      "76:\tlearn: 1606.6732450\ttotal: 6.17s\tremaining: 1.84s\n",
      "77:\tlearn: 1604.9492766\ttotal: 6.26s\tremaining: 1.76s\n",
      "78:\tlearn: 1602.6790997\ttotal: 6.34s\tremaining: 1.69s\n",
      "79:\tlearn: 1600.2720114\ttotal: 6.45s\tremaining: 1.61s\n",
      "80:\tlearn: 1596.9957677\ttotal: 6.54s\tremaining: 1.53s\n",
      "81:\tlearn: 1594.4530271\ttotal: 6.64s\tremaining: 1.46s\n",
      "82:\tlearn: 1591.8476275\ttotal: 6.76s\tremaining: 1.39s\n",
      "83:\tlearn: 1589.9779609\ttotal: 6.88s\tremaining: 1.31s\n",
      "84:\tlearn: 1586.5600664\ttotal: 7s\tremaining: 1.24s\n",
      "85:\tlearn: 1582.9538703\ttotal: 7.12s\tremaining: 1.16s\n",
      "86:\tlearn: 1580.3810517\ttotal: 7.29s\tremaining: 1.09s\n",
      "87:\tlearn: 1580.2634378\ttotal: 7.39s\tremaining: 1.01s\n",
      "88:\tlearn: 1575.7272557\ttotal: 7.43s\tremaining: 918ms\n",
      "89:\tlearn: 1572.0688726\ttotal: 7.47s\tremaining: 830ms\n",
      "90:\tlearn: 1570.7856827\ttotal: 7.56s\tremaining: 748ms\n",
      "91:\tlearn: 1567.5448734\ttotal: 7.66s\tremaining: 666ms\n",
      "92:\tlearn: 1565.4112305\ttotal: 7.75s\tremaining: 583ms\n",
      "93:\tlearn: 1562.6579024\ttotal: 7.84s\tremaining: 500ms\n",
      "94:\tlearn: 1560.3092666\ttotal: 7.93s\tremaining: 417ms\n",
      "95:\tlearn: 1559.1914303\ttotal: 7.97s\tremaining: 332ms\n",
      "96:\tlearn: 1556.9499588\ttotal: 8.05s\tremaining: 249ms\n",
      "97:\tlearn: 1554.0407636\ttotal: 8.14s\tremaining: 166ms\n",
      "98:\tlearn: 1551.2908416\ttotal: 8.22s\tremaining: 83ms\n",
      "99:\tlearn: 1549.2012966\ttotal: 8.26s\tremaining: 0us\n"
     ]
    }
   ],
   "source": [
    "index = ['LinearRegression',\n",
    "         'SGDRegressor',\n",
    "         'DecisionTreeRegressor',\n",
    "         'CatBoostRegressor',\n",
    "         'LGBMRegressor']\n",
    "data = {'RMSE на кросс-валидации, евро':[cv_rmse_linear_model,\n",
    "                                         cv_rmse_sgd_model,\n",
    "                                         cv_rmse_tree_model,\n",
    "                                         cv_rmse_catboost_model,\n",
    "                                         cv_rmse_lgbm_model],\n",
    "        'RMSE модели на тестовой выборке, евро':[linear_model_test_rmse,\n",
    "                                                 sgd_model_test_rmse,\n",
    "                                                 tree_model_test_rmse,\n",
    "                                                 catboost_model_test_rmse,\n",
    "                                                 lgbm_model_test_rmse],\n",
    "        'Время обучения модели, мин':[linear_model_fit_time,\n",
    "                                      sgd_model_fit_time, \n",
    "                                      tree_model_fit_time,\n",
    "                                      catboost_model_fit_time,\n",
    "                                      lgbm_model_fit_time],\n",
    "        'Время предсказания модели, мин':[linear_model_predicted_time,\n",
    "                                          sgd_model_predicted_time,\n",
    "                                          tree_model_predicted_time,\n",
    "                                          catboost_model_predicted_time,\n",
    "                                          lgbm_model_predicted_time]}\n",
    "\n",
    "scores_data = pd.DataFrame(data=data, index=index)\n",
    "\n",
    "display(scores_data)"
   ]
  },
  {
   "cell_type": "markdown",
   "metadata": {},
   "source": [
    "## Общий вывод\n"
   ]
  },
  {
   "cell_type": "markdown",
   "metadata": {},
   "source": [
    "Сравнивая показатели в таблице, представляется разумным выбрать либо LGBMRegressor, либо CatBoostRegressor для предсказания стоимости автомобиля. CatBoostRegressor показывает лучшие наименьшее RMSE, но обучается модель долго. LGBMRegressor обучается относительно быстро, но дольше CatBoostRegressor предсказывает. \n",
    "\n",
    "Я бы предложила остановиться на модели LGBMRegressor. Возможно, что различия в RMSE у CatBoostRegressor и LGBMRegressor статистически значимо на отличаются. "
   ]
  }
 ],
 "metadata": {
  "ExecuteTimeLog": [
   {
    "duration": 1202,
    "start_time": "2022-06-26T20:15:29.120Z"
   },
   {
    "duration": 247,
    "start_time": "2022-06-26T20:15:32.811Z"
   },
   {
    "duration": 1160,
    "start_time": "2022-06-26T20:15:40.917Z"
   },
   {
    "duration": 119,
    "start_time": "2022-06-26T20:15:57.157Z"
   },
   {
    "duration": 1055,
    "start_time": "2022-06-28T14:59:22.084Z"
   },
   {
    "duration": 968,
    "start_time": "2022-06-28T14:59:26.479Z"
   },
   {
    "duration": 96,
    "start_time": "2022-06-28T14:59:28.405Z"
   },
   {
    "duration": 90,
    "start_time": "2022-06-28T15:00:28.031Z"
   },
   {
    "duration": 371,
    "start_time": "2022-06-28T15:06:59.196Z"
   },
   {
    "duration": 4,
    "start_time": "2022-06-28T15:10:51.311Z"
   },
   {
    "duration": 4,
    "start_time": "2022-06-28T15:10:57.943Z"
   },
   {
    "duration": 665,
    "start_time": "2022-06-28T15:11:31.133Z"
   },
   {
    "duration": 4,
    "start_time": "2022-06-28T15:13:30.811Z"
   },
   {
    "duration": 4,
    "start_time": "2022-06-28T15:13:31.529Z"
   },
   {
    "duration": 4,
    "start_time": "2022-06-28T15:13:57.086Z"
   },
   {
    "duration": 3,
    "start_time": "2022-06-28T15:13:58.094Z"
   },
   {
    "duration": 4,
    "start_time": "2022-06-28T15:14:06.451Z"
   },
   {
    "duration": 4,
    "start_time": "2022-06-28T15:14:07.171Z"
   },
   {
    "duration": 667,
    "start_time": "2022-06-28T15:14:12.665Z"
   },
   {
    "duration": 4,
    "start_time": "2022-06-28T15:14:15.611Z"
   },
   {
    "duration": 3,
    "start_time": "2022-06-28T15:14:16.635Z"
   },
   {
    "duration": 90,
    "start_time": "2022-06-28T15:14:56.843Z"
   },
   {
    "duration": 4,
    "start_time": "2022-06-28T15:15:06.320Z"
   },
   {
    "duration": 204,
    "start_time": "2022-06-28T15:15:31.023Z"
   },
   {
    "duration": 67,
    "start_time": "2022-06-28T15:20:54.597Z"
   },
   {
    "duration": 53,
    "start_time": "2022-06-28T15:21:08.439Z"
   },
   {
    "duration": 3,
    "start_time": "2022-06-28T15:21:36.466Z"
   },
   {
    "duration": 4,
    "start_time": "2022-06-28T15:21:40.889Z"
   },
   {
    "duration": 59,
    "start_time": "2022-06-28T15:22:46.871Z"
   },
   {
    "duration": 92,
    "start_time": "2022-06-28T15:26:47.533Z"
   },
   {
    "duration": 253,
    "start_time": "2022-06-28T15:26:56.665Z"
   },
   {
    "duration": 64,
    "start_time": "2022-06-28T15:27:12.289Z"
   },
   {
    "duration": 673,
    "start_time": "2022-06-28T15:27:41.049Z"
   },
   {
    "duration": 4,
    "start_time": "2022-06-28T15:27:44.070Z"
   },
   {
    "duration": 240,
    "start_time": "2022-06-28T15:27:47.424Z"
   },
   {
    "duration": 62,
    "start_time": "2022-06-28T15:27:50.426Z"
   },
   {
    "duration": 52,
    "start_time": "2022-06-28T15:27:53.937Z"
   },
   {
    "duration": 115,
    "start_time": "2022-06-28T15:28:43.766Z"
   },
   {
    "duration": 214,
    "start_time": "2022-06-28T15:28:49.465Z"
   },
   {
    "duration": 101,
    "start_time": "2022-06-28T15:29:00.450Z"
   },
   {
    "duration": 268,
    "start_time": "2022-06-28T15:45:27.874Z"
   },
   {
    "duration": 14,
    "start_time": "2022-06-28T15:51:56.909Z"
   },
   {
    "duration": 1591,
    "start_time": "2022-06-28T15:52:30.765Z"
   },
   {
    "duration": 10,
    "start_time": "2022-06-28T15:52:50.139Z"
   },
   {
    "duration": 7,
    "start_time": "2022-06-28T15:58:06.578Z"
   },
   {
    "duration": 10,
    "start_time": "2022-06-28T15:58:30.546Z"
   },
   {
    "duration": 6,
    "start_time": "2022-06-28T15:58:36.245Z"
   },
   {
    "duration": 5,
    "start_time": "2022-06-28T15:58:56.746Z"
   },
   {
    "duration": 4,
    "start_time": "2022-06-28T15:58:59.715Z"
   },
   {
    "duration": 6,
    "start_time": "2022-06-28T15:59:07.324Z"
   },
   {
    "duration": 32,
    "start_time": "2022-06-28T16:03:11.833Z"
   },
   {
    "duration": 27,
    "start_time": "2022-06-28T16:03:29.380Z"
   },
   {
    "duration": 6,
    "start_time": "2022-06-28T16:03:40.753Z"
   },
   {
    "duration": 9,
    "start_time": "2022-06-28T16:03:50.480Z"
   },
   {
    "duration": 6,
    "start_time": "2022-06-28T16:03:56.322Z"
   },
   {
    "duration": 3,
    "start_time": "2022-06-28T16:05:39.830Z"
   },
   {
    "duration": 3,
    "start_time": "2022-06-28T16:05:43.069Z"
   },
   {
    "duration": 3,
    "start_time": "2022-06-28T16:05:47.722Z"
   },
   {
    "duration": 3,
    "start_time": "2022-06-28T16:05:50.295Z"
   },
   {
    "duration": 3,
    "start_time": "2022-06-28T16:05:51.817Z"
   },
   {
    "duration": 518,
    "start_time": "2022-06-28T16:07:10.517Z"
   },
   {
    "duration": 134,
    "start_time": "2022-06-28T16:07:15.084Z"
   },
   {
    "duration": 92,
    "start_time": "2022-06-28T16:07:52.332Z"
   },
   {
    "duration": 871,
    "start_time": "2022-06-28T16:09:28.595Z"
   },
   {
    "duration": 854,
    "start_time": "2022-06-28T16:09:39.374Z"
   },
   {
    "duration": 874,
    "start_time": "2022-06-28T16:10:10.981Z"
   },
   {
    "duration": 1013,
    "start_time": "2022-06-28T16:10:26.609Z"
   },
   {
    "duration": 853,
    "start_time": "2022-06-28T16:11:26.645Z"
   },
   {
    "duration": 496,
    "start_time": "2022-06-28T16:11:44.647Z"
   },
   {
    "duration": 934,
    "start_time": "2022-06-28T16:11:48.842Z"
   },
   {
    "duration": 6,
    "start_time": "2022-06-28T16:12:14.677Z"
   },
   {
    "duration": 374,
    "start_time": "2022-06-28T16:13:34.692Z"
   },
   {
    "duration": 8,
    "start_time": "2022-06-28T16:16:23.822Z"
   },
   {
    "duration": 1906,
    "start_time": "2022-06-30T15:13:45.017Z"
   },
   {
    "duration": 1751,
    "start_time": "2022-06-30T15:13:46.926Z"
   },
   {
    "duration": 169,
    "start_time": "2022-06-30T15:13:48.680Z"
   },
   {
    "duration": 6,
    "start_time": "2022-06-30T15:13:48.853Z"
   },
   {
    "duration": 16,
    "start_time": "2022-06-30T15:13:48.861Z"
   },
   {
    "duration": 12,
    "start_time": "2022-06-30T15:13:48.879Z"
   },
   {
    "duration": 12,
    "start_time": "2022-06-30T15:13:48.893Z"
   },
   {
    "duration": 30,
    "start_time": "2022-06-30T15:13:48.906Z"
   },
   {
    "duration": 11,
    "start_time": "2022-06-30T15:13:48.941Z"
   },
   {
    "duration": 886,
    "start_time": "2022-06-30T15:13:48.955Z"
   },
   {
    "duration": 243,
    "start_time": "2022-06-30T15:13:49.843Z"
   },
   {
    "duration": 284,
    "start_time": "2022-06-30T15:13:50.088Z"
   },
   {
    "duration": 6,
    "start_time": "2022-06-30T15:13:50.374Z"
   },
   {
    "duration": 428,
    "start_time": "2022-06-30T15:13:50.382Z"
   },
   {
    "duration": 321,
    "start_time": "2022-06-30T15:13:50.812Z"
   },
   {
    "duration": 153,
    "start_time": "2022-06-30T15:13:51.140Z"
   },
   {
    "duration": 195,
    "start_time": "2022-06-30T15:13:51.295Z"
   },
   {
    "duration": 482,
    "start_time": "2022-06-30T15:13:51.493Z"
   },
   {
    "duration": 10,
    "start_time": "2022-06-30T15:13:51.979Z"
   },
   {
    "duration": 1865,
    "start_time": "2022-06-30T15:13:51.992Z"
   },
   {
    "duration": 15,
    "start_time": "2022-06-30T15:13:53.861Z"
   },
   {
    "duration": 510,
    "start_time": "2022-06-30T15:13:53.878Z"
   },
   {
    "duration": 12,
    "start_time": "2022-06-30T15:13:54.390Z"
   },
   {
    "duration": 12,
    "start_time": "2022-06-30T15:15:55.002Z"
   },
   {
    "duration": 9,
    "start_time": "2022-06-30T15:17:18.797Z"
   },
   {
    "duration": 86,
    "start_time": "2022-06-30T15:18:04.885Z"
   },
   {
    "duration": 1995,
    "start_time": "2022-07-01T06:49:43.845Z"
   },
   {
    "duration": 1263,
    "start_time": "2022-07-01T06:49:45.842Z"
   },
   {
    "duration": 136,
    "start_time": "2022-07-01T06:49:47.107Z"
   },
   {
    "duration": 6,
    "start_time": "2022-07-01T06:49:47.245Z"
   },
   {
    "duration": 12,
    "start_time": "2022-07-01T06:49:47.253Z"
   },
   {
    "duration": 17,
    "start_time": "2022-07-01T06:49:47.267Z"
   },
   {
    "duration": 35,
    "start_time": "2022-07-01T06:49:47.286Z"
   },
   {
    "duration": 23,
    "start_time": "2022-07-01T06:49:47.323Z"
   },
   {
    "duration": 34,
    "start_time": "2022-07-01T06:49:47.347Z"
   },
   {
    "duration": 646,
    "start_time": "2022-07-01T06:49:47.383Z"
   },
   {
    "duration": 168,
    "start_time": "2022-07-01T06:49:48.030Z"
   },
   {
    "duration": 180,
    "start_time": "2022-07-01T06:49:48.200Z"
   },
   {
    "duration": 5,
    "start_time": "2022-07-01T06:49:48.382Z"
   },
   {
    "duration": 378,
    "start_time": "2022-07-01T06:49:48.389Z"
   },
   {
    "duration": 255,
    "start_time": "2022-07-01T06:49:48.770Z"
   },
   {
    "duration": 117,
    "start_time": "2022-07-01T06:49:49.028Z"
   },
   {
    "duration": 165,
    "start_time": "2022-07-01T06:49:49.147Z"
   },
   {
    "duration": 306,
    "start_time": "2022-07-01T06:49:49.313Z"
   },
   {
    "duration": 13,
    "start_time": "2022-07-01T06:49:49.620Z"
   },
   {
    "duration": 1234,
    "start_time": "2022-07-01T06:49:49.635Z"
   },
   {
    "duration": 7,
    "start_time": "2022-07-01T06:49:50.871Z"
   },
   {
    "duration": 466,
    "start_time": "2022-07-01T06:49:50.879Z"
   },
   {
    "duration": 9,
    "start_time": "2022-07-01T06:49:51.347Z"
   },
   {
    "duration": 78,
    "start_time": "2022-07-01T06:49:51.357Z"
   },
   {
    "duration": 36,
    "start_time": "2022-07-01T06:50:24.073Z"
   },
   {
    "duration": 125,
    "start_time": "2022-07-01T07:02:19.172Z"
   },
   {
    "duration": 8,
    "start_time": "2022-07-01T07:02:26.545Z"
   },
   {
    "duration": 7,
    "start_time": "2022-07-01T07:14:08.303Z"
   },
   {
    "duration": 4,
    "start_time": "2022-07-01T07:15:48.579Z"
   },
   {
    "duration": 4,
    "start_time": "2022-07-01T07:15:54.461Z"
   },
   {
    "duration": 88,
    "start_time": "2022-07-01T07:17:01.144Z"
   },
   {
    "duration": 79,
    "start_time": "2022-07-01T07:17:12.532Z"
   },
   {
    "duration": 451,
    "start_time": "2022-07-01T07:17:55.850Z"
   },
   {
    "duration": 798,
    "start_time": "2022-07-01T07:18:24.036Z"
   },
   {
    "duration": 7636,
    "start_time": "2022-07-01T07:22:17.741Z"
   },
   {
    "duration": 1390,
    "start_time": "2022-07-01T07:22:37.352Z"
   },
   {
    "duration": 1165,
    "start_time": "2022-07-01T07:22:38.746Z"
   },
   {
    "duration": 142,
    "start_time": "2022-07-01T07:22:39.913Z"
   },
   {
    "duration": 5,
    "start_time": "2022-07-01T07:22:40.058Z"
   },
   {
    "duration": 13,
    "start_time": "2022-07-01T07:22:40.064Z"
   },
   {
    "duration": 7,
    "start_time": "2022-07-01T07:22:40.079Z"
   },
   {
    "duration": 10,
    "start_time": "2022-07-01T07:22:40.087Z"
   },
   {
    "duration": 6,
    "start_time": "2022-07-01T07:22:40.098Z"
   },
   {
    "duration": 38,
    "start_time": "2022-07-01T07:22:40.105Z"
   },
   {
    "duration": 586,
    "start_time": "2022-07-01T07:22:40.146Z"
   },
   {
    "duration": 176,
    "start_time": "2022-07-01T07:22:40.734Z"
   },
   {
    "duration": 208,
    "start_time": "2022-07-01T07:22:40.912Z"
   },
   {
    "duration": 12,
    "start_time": "2022-07-01T07:22:41.121Z"
   },
   {
    "duration": 321,
    "start_time": "2022-07-01T07:22:41.134Z"
   },
   {
    "duration": 219,
    "start_time": "2022-07-01T07:22:41.457Z"
   },
   {
    "duration": 99,
    "start_time": "2022-07-01T07:22:41.678Z"
   },
   {
    "duration": 163,
    "start_time": "2022-07-01T07:22:41.779Z"
   },
   {
    "duration": 278,
    "start_time": "2022-07-01T07:22:41.944Z"
   },
   {
    "duration": 16,
    "start_time": "2022-07-01T07:22:42.223Z"
   },
   {
    "duration": 1194,
    "start_time": "2022-07-01T07:22:42.241Z"
   },
   {
    "duration": 9,
    "start_time": "2022-07-01T07:22:43.443Z"
   },
   {
    "duration": 457,
    "start_time": "2022-07-01T07:22:43.454Z"
   },
   {
    "duration": 20,
    "start_time": "2022-07-01T07:22:43.913Z"
   },
   {
    "duration": 62,
    "start_time": "2022-07-01T07:22:43.934Z"
   },
   {
    "duration": 7,
    "start_time": "2022-07-01T07:22:43.997Z"
   },
   {
    "duration": 7379,
    "start_time": "2022-07-01T07:22:44.005Z"
   },
   {
    "duration": 8,
    "start_time": "2022-07-01T07:22:58.253Z"
   },
   {
    "duration": 7506,
    "start_time": "2022-07-01T07:23:10.814Z"
   },
   {
    "duration": 8,
    "start_time": "2022-07-01T07:23:26.450Z"
   },
   {
    "duration": 4,
    "start_time": "2022-07-01T07:23:56.681Z"
   },
   {
    "duration": 4,
    "start_time": "2022-07-01T07:24:01.348Z"
   },
   {
    "duration": 91,
    "start_time": "2022-07-01T07:24:51.788Z"
   },
   {
    "duration": 789,
    "start_time": "2022-07-01T07:26:35.346Z"
   },
   {
    "duration": 5,
    "start_time": "2022-07-01T07:28:01.946Z"
   },
   {
    "duration": 1449,
    "start_time": "2022-07-01T07:28:13.169Z"
   },
   {
    "duration": 840,
    "start_time": "2022-07-01T07:28:14.621Z"
   },
   {
    "duration": 146,
    "start_time": "2022-07-01T07:28:15.463Z"
   },
   {
    "duration": 4,
    "start_time": "2022-07-01T07:28:15.611Z"
   },
   {
    "duration": 12,
    "start_time": "2022-07-01T07:28:15.616Z"
   },
   {
    "duration": 8,
    "start_time": "2022-07-01T07:28:15.630Z"
   },
   {
    "duration": 5,
    "start_time": "2022-07-01T07:28:15.640Z"
   },
   {
    "duration": 7,
    "start_time": "2022-07-01T07:28:15.646Z"
   },
   {
    "duration": 14,
    "start_time": "2022-07-01T07:28:15.654Z"
   },
   {
    "duration": 639,
    "start_time": "2022-07-01T07:28:15.671Z"
   },
   {
    "duration": 206,
    "start_time": "2022-07-01T07:28:16.312Z"
   },
   {
    "duration": 169,
    "start_time": "2022-07-01T07:28:16.528Z"
   },
   {
    "duration": 4,
    "start_time": "2022-07-01T07:28:16.698Z"
   },
   {
    "duration": 343,
    "start_time": "2022-07-01T07:28:16.703Z"
   },
   {
    "duration": 241,
    "start_time": "2022-07-01T07:28:17.047Z"
   },
   {
    "duration": 104,
    "start_time": "2022-07-01T07:28:17.290Z"
   },
   {
    "duration": 157,
    "start_time": "2022-07-01T07:28:17.395Z"
   },
   {
    "duration": 302,
    "start_time": "2022-07-01T07:28:17.554Z"
   },
   {
    "duration": 9,
    "start_time": "2022-07-01T07:28:17.858Z"
   },
   {
    "duration": 1165,
    "start_time": "2022-07-01T07:28:17.869Z"
   },
   {
    "duration": 9,
    "start_time": "2022-07-01T07:28:19.036Z"
   },
   {
    "duration": 460,
    "start_time": "2022-07-01T07:28:19.047Z"
   },
   {
    "duration": 9,
    "start_time": "2022-07-01T07:28:19.509Z"
   },
   {
    "duration": 62,
    "start_time": "2022-07-01T07:28:19.527Z"
   },
   {
    "duration": 8,
    "start_time": "2022-07-01T07:28:19.591Z"
   },
   {
    "duration": 105,
    "start_time": "2022-07-01T07:28:19.600Z"
   },
   {
    "duration": 813,
    "start_time": "2022-07-01T07:28:19.707Z"
   },
   {
    "duration": 315,
    "start_time": "2022-07-01T07:28:45.713Z"
   },
   {
    "duration": 233,
    "start_time": "2022-07-01T07:29:01.279Z"
   },
   {
    "duration": 107,
    "start_time": "2022-07-01T07:29:13.541Z"
   },
   {
    "duration": 110,
    "start_time": "2022-07-01T07:29:18.611Z"
   },
   {
    "duration": 20,
    "start_time": "2022-07-01T07:29:26.748Z"
   },
   {
    "duration": 117,
    "start_time": "2022-07-01T07:29:34.239Z"
   },
   {
    "duration": 7724,
    "start_time": "2022-07-01T07:35:03.233Z"
   },
   {
    "duration": 7665,
    "start_time": "2022-07-01T07:35:13.843Z"
   },
   {
    "duration": 7517,
    "start_time": "2022-07-01T07:35:22.222Z"
   },
   {
    "duration": 7608,
    "start_time": "2022-07-01T07:35:39.870Z"
   },
   {
    "duration": 37,
    "start_time": "2022-07-01T07:42:34.563Z"
   },
   {
    "duration": 5,
    "start_time": "2022-07-01T07:42:48.450Z"
   },
   {
    "duration": 52,
    "start_time": "2022-07-01T07:42:57.789Z"
   },
   {
    "duration": 124,
    "start_time": "2022-07-01T07:43:39.993Z"
   },
   {
    "duration": 167,
    "start_time": "2022-07-01T07:43:56.782Z"
   },
   {
    "duration": 212,
    "start_time": "2022-07-01T07:44:56.198Z"
   },
   {
    "duration": 199,
    "start_time": "2022-07-01T07:45:35.064Z"
   },
   {
    "duration": 466,
    "start_time": "2022-07-01T07:45:47.940Z"
   },
   {
    "duration": 514,
    "start_time": "2022-07-01T08:22:27.986Z"
   },
   {
    "duration": 622,
    "start_time": "2022-07-01T08:22:36.287Z"
   },
   {
    "duration": 442,
    "start_time": "2022-07-01T08:22:48.035Z"
   },
   {
    "duration": 49,
    "start_time": "2022-07-01T08:23:37.111Z"
   },
   {
    "duration": 170,
    "start_time": "2022-07-01T08:25:06.707Z"
   },
   {
    "duration": 174,
    "start_time": "2022-07-01T08:26:16.402Z"
   },
   {
    "duration": 196,
    "start_time": "2022-07-01T08:27:08.954Z"
   },
   {
    "duration": 211,
    "start_time": "2022-07-01T08:27:54.005Z"
   },
   {
    "duration": 52,
    "start_time": "2022-07-01T08:28:18.474Z"
   },
   {
    "duration": 231,
    "start_time": "2022-07-01T08:28:21.616Z"
   },
   {
    "duration": 253,
    "start_time": "2022-07-01T08:29:35.845Z"
   },
   {
    "duration": 234,
    "start_time": "2022-07-01T08:30:46.816Z"
   },
   {
    "duration": 216,
    "start_time": "2022-07-01T08:30:52.571Z"
   },
   {
    "duration": 269,
    "start_time": "2022-07-01T08:32:45.409Z"
   },
   {
    "duration": 228,
    "start_time": "2022-07-01T08:36:56.369Z"
   },
   {
    "duration": 244,
    "start_time": "2022-07-01T08:37:17.498Z"
   },
   {
    "duration": 258,
    "start_time": "2022-07-01T08:37:40.676Z"
   },
   {
    "duration": 13,
    "start_time": "2022-07-01T08:38:35.709Z"
   },
   {
    "duration": 287,
    "start_time": "2022-07-01T08:38:39.055Z"
   },
   {
    "duration": 4,
    "start_time": "2022-07-01T08:39:28.730Z"
   },
   {
    "duration": 4,
    "start_time": "2022-07-01T08:39:32.109Z"
   },
   {
    "duration": 337,
    "start_time": "2022-07-01T08:40:37.474Z"
   },
   {
    "duration": 352,
    "start_time": "2022-07-01T08:40:58.425Z"
   },
   {
    "duration": 290,
    "start_time": "2022-07-01T08:45:00.270Z"
   },
   {
    "duration": 332,
    "start_time": "2022-07-01T09:31:45.914Z"
   },
   {
    "duration": 318,
    "start_time": "2022-07-01T09:31:50.579Z"
   },
   {
    "duration": 1627,
    "start_time": "2022-07-06T20:07:08.069Z"
   },
   {
    "duration": 1164,
    "start_time": "2022-07-06T20:07:09.698Z"
   },
   {
    "duration": 113,
    "start_time": "2022-07-06T20:07:10.864Z"
   },
   {
    "duration": 5,
    "start_time": "2022-07-06T20:07:10.979Z"
   },
   {
    "duration": 10,
    "start_time": "2022-07-06T20:07:10.985Z"
   },
   {
    "duration": 8,
    "start_time": "2022-07-06T20:07:10.997Z"
   },
   {
    "duration": 7,
    "start_time": "2022-07-06T20:07:11.006Z"
   },
   {
    "duration": 15,
    "start_time": "2022-07-06T20:07:11.041Z"
   },
   {
    "duration": 11,
    "start_time": "2022-07-06T20:07:11.057Z"
   },
   {
    "duration": 650,
    "start_time": "2022-07-06T20:07:11.070Z"
   },
   {
    "duration": 154,
    "start_time": "2022-07-06T20:07:11.722Z"
   },
   {
    "duration": 135,
    "start_time": "2022-07-06T20:07:11.878Z"
   },
   {
    "duration": 4,
    "start_time": "2022-07-06T20:07:12.014Z"
   },
   {
    "duration": 297,
    "start_time": "2022-07-06T20:07:12.020Z"
   },
   {
    "duration": 226,
    "start_time": "2022-07-06T20:07:12.319Z"
   },
   {
    "duration": 78,
    "start_time": "2022-07-06T20:07:12.547Z"
   },
   {
    "duration": 166,
    "start_time": "2022-07-06T20:07:12.627Z"
   },
   {
    "duration": 275,
    "start_time": "2022-07-06T20:07:12.795Z"
   },
   {
    "duration": 8,
    "start_time": "2022-07-06T20:07:13.072Z"
   },
   {
    "duration": 1298,
    "start_time": "2022-07-06T20:07:13.082Z"
   },
   {
    "duration": 10,
    "start_time": "2022-07-06T20:07:14.381Z"
   },
   {
    "duration": 531,
    "start_time": "2022-07-06T20:07:14.393Z"
   },
   {
    "duration": 22,
    "start_time": "2022-07-06T20:07:14.925Z"
   },
   {
    "duration": 64,
    "start_time": "2022-07-06T20:07:14.949Z"
   },
   {
    "duration": 8,
    "start_time": "2022-07-06T20:07:15.014Z"
   },
   {
    "duration": 96,
    "start_time": "2022-07-06T20:07:15.023Z"
   },
   {
    "duration": 133,
    "start_time": "2022-07-06T20:07:15.121Z"
   },
   {
    "duration": 7866,
    "start_time": "2022-07-06T20:07:15.257Z"
   },
   {
    "duration": 508,
    "start_time": "2022-07-06T20:07:23.125Z"
   },
   {
    "duration": 640,
    "start_time": "2022-07-06T20:07:23.635Z"
   },
   {
    "duration": 43,
    "start_time": "2022-07-06T20:07:24.277Z"
   },
   {
    "duration": 172,
    "start_time": "2022-07-06T20:07:24.322Z"
   },
   {
    "duration": 241,
    "start_time": "2022-07-06T20:07:24.497Z"
   },
   {
    "duration": 295,
    "start_time": "2022-07-06T20:07:24.742Z"
   },
   {
    "duration": 242,
    "start_time": "2022-07-06T20:07:25.038Z"
   },
   {
    "duration": 299,
    "start_time": "2022-07-06T20:07:25.282Z"
   },
   {
    "duration": 359,
    "start_time": "2022-07-06T20:07:25.582Z"
   },
   {
    "duration": 298,
    "start_time": "2022-07-06T20:07:25.943Z"
   },
   {
    "duration": 347,
    "start_time": "2022-07-06T20:07:26.242Z"
   },
   {
    "duration": 80,
    "start_time": "2022-07-25T07:51:19.565Z"
   },
   {
    "duration": 53,
    "start_time": "2022-07-25T07:51:23.594Z"
   },
   {
    "duration": 1523,
    "start_time": "2022-07-25T07:51:29.953Z"
   },
   {
    "duration": 1165,
    "start_time": "2022-07-25T07:51:31.478Z"
   },
   {
    "duration": 136,
    "start_time": "2022-07-25T07:51:32.645Z"
   },
   {
    "duration": 4,
    "start_time": "2022-07-25T07:51:32.783Z"
   },
   {
    "duration": 19,
    "start_time": "2022-07-25T07:51:32.789Z"
   },
   {
    "duration": 27,
    "start_time": "2022-07-25T07:51:32.810Z"
   },
   {
    "duration": 11,
    "start_time": "2022-07-25T07:51:32.838Z"
   },
   {
    "duration": 9,
    "start_time": "2022-07-25T07:51:32.850Z"
   },
   {
    "duration": 12,
    "start_time": "2022-07-25T07:51:32.860Z"
   },
   {
    "duration": 688,
    "start_time": "2022-07-25T07:51:32.874Z"
   },
   {
    "duration": 181,
    "start_time": "2022-07-25T07:51:33.564Z"
   },
   {
    "duration": 161,
    "start_time": "2022-07-25T07:51:33.746Z"
   },
   {
    "duration": 3,
    "start_time": "2022-07-25T07:51:33.909Z"
   },
   {
    "duration": 306,
    "start_time": "2022-07-25T07:51:33.932Z"
   },
   {
    "duration": 232,
    "start_time": "2022-07-25T07:51:34.240Z"
   },
   {
    "duration": 98,
    "start_time": "2022-07-25T07:51:34.473Z"
   },
   {
    "duration": 173,
    "start_time": "2022-07-25T07:51:34.573Z"
   },
   {
    "duration": 301,
    "start_time": "2022-07-25T07:51:34.748Z"
   },
   {
    "duration": 9,
    "start_time": "2022-07-25T07:51:35.051Z"
   },
   {
    "duration": 1242,
    "start_time": "2022-07-25T07:51:35.061Z"
   },
   {
    "duration": 8,
    "start_time": "2022-07-25T07:51:36.304Z"
   },
   {
    "duration": 466,
    "start_time": "2022-07-25T07:51:36.315Z"
   },
   {
    "duration": 9,
    "start_time": "2022-07-25T07:51:36.783Z"
   },
   {
    "duration": 80,
    "start_time": "2022-07-25T07:51:36.794Z"
   },
   {
    "duration": 6,
    "start_time": "2022-07-25T07:51:36.876Z"
   },
   {
    "duration": 96,
    "start_time": "2022-07-25T07:51:36.884Z"
   },
   {
    "duration": 120,
    "start_time": "2022-07-25T07:51:36.982Z"
   },
   {
    "duration": 7789,
    "start_time": "2022-07-25T07:51:37.105Z"
   },
   {
    "duration": 538,
    "start_time": "2022-07-25T07:51:44.896Z"
   },
   {
    "duration": 614,
    "start_time": "2022-07-25T07:51:45.436Z"
   },
   {
    "duration": 43,
    "start_time": "2022-07-25T07:51:46.052Z"
   },
   {
    "duration": 166,
    "start_time": "2022-07-25T07:51:46.097Z"
   },
   {
    "duration": 232,
    "start_time": "2022-07-25T07:51:46.265Z"
   },
   {
    "duration": 282,
    "start_time": "2022-07-25T07:51:46.499Z"
   },
   {
    "duration": 256,
    "start_time": "2022-07-25T07:51:46.783Z"
   },
   {
    "duration": 328,
    "start_time": "2022-07-25T07:51:47.040Z"
   },
   {
    "duration": 388,
    "start_time": "2022-07-25T07:51:47.370Z"
   },
   {
    "duration": 297,
    "start_time": "2022-07-25T07:51:47.760Z"
   },
   {
    "duration": 341,
    "start_time": "2022-07-25T07:51:48.059Z"
   },
   {
    "duration": 451,
    "start_time": "2022-07-25T07:52:21.735Z"
   },
   {
    "duration": 332,
    "start_time": "2022-07-25T07:52:34.949Z"
   },
   {
    "duration": 327,
    "start_time": "2022-07-25T07:53:42.797Z"
   },
   {
    "duration": 326,
    "start_time": "2022-07-25T07:54:32.673Z"
   },
   {
    "duration": 416,
    "start_time": "2022-07-25T07:54:44.041Z"
   },
   {
    "duration": 381,
    "start_time": "2022-07-25T07:55:32.758Z"
   },
   {
    "duration": 415,
    "start_time": "2022-07-25T07:56:10.616Z"
   },
   {
    "duration": 373,
    "start_time": "2022-07-25T07:56:36.875Z"
   },
   {
    "duration": 328,
    "start_time": "2022-07-25T08:03:13.278Z"
   },
   {
    "duration": 364,
    "start_time": "2022-07-25T08:03:16.843Z"
   },
   {
    "duration": 5,
    "start_time": "2022-07-25T08:04:38.395Z"
   },
   {
    "duration": 4,
    "start_time": "2022-07-25T08:04:44.769Z"
   },
   {
    "duration": 357,
    "start_time": "2022-07-25T08:05:32.788Z"
   },
   {
    "duration": 4,
    "start_time": "2022-07-25T08:05:52.637Z"
   },
   {
    "duration": 5,
    "start_time": "2022-07-25T08:05:55.340Z"
   },
   {
    "duration": 348,
    "start_time": "2022-07-25T08:07:09.295Z"
   },
   {
    "duration": 204,
    "start_time": "2022-07-25T08:17:17.067Z"
   },
   {
    "duration": 1535,
    "start_time": "2022-07-25T08:25:21.338Z"
   },
   {
    "duration": 850,
    "start_time": "2022-07-25T08:25:22.875Z"
   },
   {
    "duration": 153,
    "start_time": "2022-07-25T08:25:23.728Z"
   },
   {
    "duration": 4,
    "start_time": "2022-07-25T08:25:23.883Z"
   },
   {
    "duration": 15,
    "start_time": "2022-07-25T08:25:23.889Z"
   },
   {
    "duration": 26,
    "start_time": "2022-07-25T08:25:23.905Z"
   },
   {
    "duration": 15,
    "start_time": "2022-07-25T08:25:23.934Z"
   },
   {
    "duration": 7,
    "start_time": "2022-07-25T08:25:23.951Z"
   },
   {
    "duration": 7,
    "start_time": "2022-07-25T08:25:23.960Z"
   },
   {
    "duration": 693,
    "start_time": "2022-07-25T08:25:23.969Z"
   },
   {
    "duration": 195,
    "start_time": "2022-07-25T08:25:24.666Z"
   },
   {
    "duration": 181,
    "start_time": "2022-07-25T08:25:24.863Z"
   },
   {
    "duration": 6,
    "start_time": "2022-07-25T08:25:25.047Z"
   },
   {
    "duration": 337,
    "start_time": "2022-07-25T08:25:25.056Z"
   },
   {
    "duration": 252,
    "start_time": "2022-07-25T08:25:25.395Z"
   },
   {
    "duration": 123,
    "start_time": "2022-07-25T08:25:25.649Z"
   },
   {
    "duration": 159,
    "start_time": "2022-07-25T08:25:25.774Z"
   },
   {
    "duration": 307,
    "start_time": "2022-07-25T08:25:25.935Z"
   },
   {
    "duration": 12,
    "start_time": "2022-07-25T08:25:26.244Z"
   },
   {
    "duration": 1516,
    "start_time": "2022-07-25T08:25:26.258Z"
   },
   {
    "duration": 8,
    "start_time": "2022-07-25T08:25:27.775Z"
   },
   {
    "duration": 493,
    "start_time": "2022-07-25T08:25:27.785Z"
   },
   {
    "duration": 9,
    "start_time": "2022-07-25T08:25:28.280Z"
   },
   {
    "duration": 83,
    "start_time": "2022-07-25T08:25:28.290Z"
   },
   {
    "duration": 7,
    "start_time": "2022-07-25T08:25:28.374Z"
   },
   {
    "duration": 99,
    "start_time": "2022-07-25T08:25:28.383Z"
   },
   {
    "duration": 118,
    "start_time": "2022-07-25T08:25:28.484Z"
   },
   {
    "duration": 7963,
    "start_time": "2022-07-25T08:25:28.605Z"
   },
   {
    "duration": 508,
    "start_time": "2022-07-25T08:25:36.570Z"
   },
   {
    "duration": 797,
    "start_time": "2022-07-25T08:25:37.080Z"
   },
   {
    "duration": 52,
    "start_time": "2022-07-25T08:25:37.879Z"
   },
   {
    "duration": 165,
    "start_time": "2022-07-25T08:25:37.935Z"
   },
   {
    "duration": 246,
    "start_time": "2022-07-25T08:25:38.102Z"
   },
   {
    "duration": 288,
    "start_time": "2022-07-25T08:25:38.352Z"
   },
   {
    "duration": 292,
    "start_time": "2022-07-25T08:25:38.642Z"
   },
   {
    "duration": 323,
    "start_time": "2022-07-25T08:25:38.936Z"
   },
   {
    "duration": 405,
    "start_time": "2022-07-25T08:25:39.261Z"
   },
   {
    "duration": 414,
    "start_time": "2022-07-25T08:25:39.669Z"
   },
   {
    "duration": 396,
    "start_time": "2022-07-25T08:25:40.085Z"
   },
   {
    "duration": 343,
    "start_time": "2022-07-25T08:25:40.482Z"
   },
   {
    "duration": 347,
    "start_time": "2022-07-25T08:25:40.827Z"
   },
   {
    "duration": 172,
    "start_time": "2022-07-25T08:25:41.175Z"
   },
   {
    "duration": 129,
    "start_time": "2022-07-25T08:30:16.443Z"
   },
   {
    "duration": 9,
    "start_time": "2022-07-25T08:33:21.141Z"
   },
   {
    "duration": 82,
    "start_time": "2022-07-25T08:33:39.542Z"
   },
   {
    "duration": 58,
    "start_time": "2022-07-25T08:35:36.439Z"
   },
   {
    "duration": 64,
    "start_time": "2022-07-25T08:36:29.403Z"
   },
   {
    "duration": 82,
    "start_time": "2022-07-25T08:36:50.642Z"
   },
   {
    "duration": 59,
    "start_time": "2022-07-25T08:37:10.610Z"
   },
   {
    "duration": 69,
    "start_time": "2022-07-25T08:37:19.371Z"
   },
   {
    "duration": 186,
    "start_time": "2022-07-25T08:37:26.239Z"
   },
   {
    "duration": 7,
    "start_time": "2022-07-25T08:37:38.940Z"
   },
   {
    "duration": 496,
    "start_time": "2022-07-25T08:38:28.943Z"
   },
   {
    "duration": 773,
    "start_time": "2022-07-25T08:39:22.042Z"
   },
   {
    "duration": 651,
    "start_time": "2022-07-25T08:39:32.943Z"
   },
   {
    "duration": 1112,
    "start_time": "2022-07-25T08:40:14.661Z"
   },
   {
    "duration": 2978,
    "start_time": "2022-07-25T08:41:45.403Z"
   },
   {
    "duration": 152,
    "start_time": "2022-07-25T08:44:12.584Z"
   },
   {
    "duration": 7,
    "start_time": "2022-07-25T08:44:15.092Z"
   },
   {
    "duration": 108,
    "start_time": "2022-07-25T08:44:18.096Z"
   },
   {
    "duration": 175,
    "start_time": "2022-07-25T08:44:42.854Z"
   },
   {
    "duration": 1569,
    "start_time": "2022-07-25T08:47:43.365Z"
   },
   {
    "duration": 922,
    "start_time": "2022-07-25T08:47:44.937Z"
   },
   {
    "duration": 142,
    "start_time": "2022-07-25T08:47:45.861Z"
   },
   {
    "duration": 4,
    "start_time": "2022-07-25T08:47:46.005Z"
   },
   {
    "duration": 31,
    "start_time": "2022-07-25T08:47:46.026Z"
   },
   {
    "duration": 13,
    "start_time": "2022-07-25T08:47:46.059Z"
   },
   {
    "duration": 21,
    "start_time": "2022-07-25T08:47:46.074Z"
   },
   {
    "duration": 7,
    "start_time": "2022-07-25T08:47:46.097Z"
   },
   {
    "duration": 10,
    "start_time": "2022-07-25T08:47:46.106Z"
   },
   {
    "duration": 685,
    "start_time": "2022-07-25T08:47:46.119Z"
   },
   {
    "duration": 201,
    "start_time": "2022-07-25T08:47:46.805Z"
   },
   {
    "duration": 216,
    "start_time": "2022-07-25T08:47:47.008Z"
   },
   {
    "duration": 28,
    "start_time": "2022-07-25T08:47:47.231Z"
   },
   {
    "duration": 428,
    "start_time": "2022-07-25T08:47:47.261Z"
   },
   {
    "duration": 309,
    "start_time": "2022-07-25T08:47:47.692Z"
   },
   {
    "duration": 105,
    "start_time": "2022-07-25T08:47:48.003Z"
   },
   {
    "duration": 181,
    "start_time": "2022-07-25T08:47:48.109Z"
   },
   {
    "duration": 343,
    "start_time": "2022-07-25T08:47:48.292Z"
   },
   {
    "duration": 10,
    "start_time": "2022-07-25T08:47:48.637Z"
   },
   {
    "duration": 1333,
    "start_time": "2022-07-25T08:47:48.650Z"
   },
   {
    "duration": 8,
    "start_time": "2022-07-25T08:47:49.985Z"
   },
   {
    "duration": 512,
    "start_time": "2022-07-25T08:47:49.995Z"
   },
   {
    "duration": 8,
    "start_time": "2022-07-25T08:47:50.509Z"
   },
   {
    "duration": 77,
    "start_time": "2022-07-25T08:47:50.529Z"
   },
   {
    "duration": 8,
    "start_time": "2022-07-25T08:47:50.607Z"
   },
   {
    "duration": 93,
    "start_time": "2022-07-25T08:47:50.617Z"
   },
   {
    "duration": 129,
    "start_time": "2022-07-25T08:47:50.712Z"
   },
   {
    "duration": 8566,
    "start_time": "2022-07-25T08:47:50.845Z"
   },
   {
    "duration": 559,
    "start_time": "2022-07-25T08:47:59.413Z"
   },
   {
    "duration": 715,
    "start_time": "2022-07-25T08:47:59.974Z"
   },
   {
    "duration": 68,
    "start_time": "2022-07-25T08:48:00.691Z"
   },
   {
    "duration": 197,
    "start_time": "2022-07-25T08:48:00.761Z"
   },
   {
    "duration": 236,
    "start_time": "2022-07-25T08:48:00.960Z"
   },
   {
    "duration": 310,
    "start_time": "2022-07-25T08:48:01.197Z"
   },
   {
    "duration": 303,
    "start_time": "2022-07-25T08:48:01.509Z"
   },
   {
    "duration": 360,
    "start_time": "2022-07-25T08:48:01.814Z"
   },
   {
    "duration": 459,
    "start_time": "2022-07-25T08:48:02.176Z"
   },
   {
    "duration": 384,
    "start_time": "2022-07-25T08:48:02.637Z"
   },
   {
    "duration": 390,
    "start_time": "2022-07-25T08:48:03.023Z"
   },
   {
    "duration": 389,
    "start_time": "2022-07-25T08:48:03.414Z"
   },
   {
    "duration": 438,
    "start_time": "2022-07-25T08:48:03.804Z"
   },
   {
    "duration": 197,
    "start_time": "2022-07-25T08:48:04.245Z"
   },
   {
    "duration": 21,
    "start_time": "2022-07-25T08:48:04.444Z"
   },
   {
    "duration": 128,
    "start_time": "2022-07-25T08:48:04.466Z"
   },
   {
    "duration": 109,
    "start_time": "2022-07-25T08:48:04.596Z"
   },
   {
    "duration": 77,
    "start_time": "2022-07-25T08:48:04.707Z"
   },
   {
    "duration": 199,
    "start_time": "2022-07-25T08:54:38.797Z"
   },
   {
    "duration": 153,
    "start_time": "2022-07-25T09:10:50.319Z"
   },
   {
    "duration": 13,
    "start_time": "2022-07-25T09:11:00.680Z"
   },
   {
    "duration": 169,
    "start_time": "2022-07-25T09:11:05.548Z"
   },
   {
    "duration": 18,
    "start_time": "2022-07-25T09:15:40.689Z"
   },
   {
    "duration": 207,
    "start_time": "2022-07-25T09:18:16.093Z"
   },
   {
    "duration": 3359,
    "start_time": "2022-07-25T09:18:36.940Z"
   },
   {
    "duration": 1252,
    "start_time": "2022-07-25T09:19:38.214Z"
   },
   {
    "duration": 26,
    "start_time": "2022-07-25T09:19:44.691Z"
   },
   {
    "duration": 30,
    "start_time": "2022-07-25T09:20:06.549Z"
   },
   {
    "duration": 116,
    "start_time": "2022-07-25T09:20:39.541Z"
   },
   {
    "duration": 41,
    "start_time": "2022-07-25T09:29:15.030Z"
   },
   {
    "duration": 147,
    "start_time": "2022-07-25T09:30:37.751Z"
   },
   {
    "duration": 27,
    "start_time": "2022-07-25T10:34:25.219Z"
   },
   {
    "duration": 161,
    "start_time": "2022-07-25T10:38:03.742Z"
   },
   {
    "duration": 43,
    "start_time": "2022-07-25T10:39:03.062Z"
   },
   {
    "duration": 29,
    "start_time": "2022-07-25T10:39:33.853Z"
   },
   {
    "duration": 28,
    "start_time": "2022-07-25T10:39:38.062Z"
   },
   {
    "duration": 3077,
    "start_time": "2022-07-25T10:43:02.193Z"
   },
   {
    "duration": 903,
    "start_time": "2022-07-25T10:43:11.997Z"
   },
   {
    "duration": 175,
    "start_time": "2022-07-25T10:43:58.517Z"
   },
   {
    "duration": 1336,
    "start_time": "2022-07-25T10:44:30.363Z"
   },
   {
    "duration": 636,
    "start_time": "2022-07-25T10:44:37.538Z"
   },
   {
    "duration": 163,
    "start_time": "2022-07-25T10:44:49.049Z"
   },
   {
    "duration": 11,
    "start_time": "2022-07-25T10:45:46.983Z"
   },
   {
    "duration": 120,
    "start_time": "2022-07-25T10:45:57.936Z"
   },
   {
    "duration": 186,
    "start_time": "2022-07-25T10:46:31.445Z"
   },
   {
    "duration": 98,
    "start_time": "2022-07-25T10:46:53.366Z"
   },
   {
    "duration": 28,
    "start_time": "2022-07-25T10:47:08.940Z"
   },
   {
    "duration": 112,
    "start_time": "2022-07-25T10:47:11.823Z"
   },
   {
    "duration": 85,
    "start_time": "2022-07-25T10:48:20.634Z"
   },
   {
    "duration": 97,
    "start_time": "2022-07-25T10:48:23.887Z"
   },
   {
    "duration": 116,
    "start_time": "2022-07-25T10:48:32.368Z"
   },
   {
    "duration": 105,
    "start_time": "2022-07-25T10:49:23.589Z"
   },
   {
    "duration": 76,
    "start_time": "2022-07-25T10:51:13.535Z"
   },
   {
    "duration": 142,
    "start_time": "2022-07-25T10:51:27.432Z"
   },
   {
    "duration": 34,
    "start_time": "2022-07-25T10:55:58.341Z"
   },
   {
    "duration": 439,
    "start_time": "2022-07-25T11:00:28.211Z"
   },
   {
    "duration": 425,
    "start_time": "2022-07-25T11:01:53.765Z"
   },
   {
    "duration": 429,
    "start_time": "2022-07-25T11:01:58.261Z"
   },
   {
    "duration": 537,
    "start_time": "2022-07-25T11:02:01.643Z"
   },
   {
    "duration": 375,
    "start_time": "2022-07-25T11:02:09.057Z"
   },
   {
    "duration": 365,
    "start_time": "2022-07-25T11:02:15.417Z"
   },
   {
    "duration": 2932,
    "start_time": "2022-07-25T11:03:38.276Z"
   },
   {
    "duration": 989,
    "start_time": "2022-07-25T11:03:46.662Z"
   },
   {
    "duration": 942,
    "start_time": "2022-07-25T11:03:58.572Z"
   },
   {
    "duration": 955,
    "start_time": "2022-07-25T11:04:05.275Z"
   },
   {
    "duration": 969,
    "start_time": "2022-07-25T11:04:09.262Z"
   },
   {
    "duration": 3246,
    "start_time": "2022-07-25T11:04:31.852Z"
   },
   {
    "duration": 1004,
    "start_time": "2022-07-25T11:04:43.212Z"
   },
   {
    "duration": 988,
    "start_time": "2022-07-25T11:07:29.653Z"
   },
   {
    "duration": 957,
    "start_time": "2022-07-25T11:07:35.389Z"
   },
   {
    "duration": 100,
    "start_time": "2022-07-25T11:18:48.160Z"
   },
   {
    "duration": 92,
    "start_time": "2022-07-25T11:19:06.167Z"
   },
   {
    "duration": 31,
    "start_time": "2022-07-25T11:19:43.112Z"
   },
   {
    "duration": 101,
    "start_time": "2022-07-25T11:19:49.760Z"
   },
   {
    "duration": 47,
    "start_time": "2022-07-25T11:29:14.523Z"
   },
   {
    "duration": 1354,
    "start_time": "2022-07-25T11:31:30.611Z"
   },
   {
    "duration": 21,
    "start_time": "2022-07-25T11:31:38.659Z"
   },
   {
    "duration": 13,
    "start_time": "2022-07-25T11:31:48.784Z"
   },
   {
    "duration": 15,
    "start_time": "2022-07-25T11:48:30.352Z"
   },
   {
    "duration": 12,
    "start_time": "2022-07-25T11:53:23.337Z"
   },
   {
    "duration": 16,
    "start_time": "2022-07-25T11:53:28.639Z"
   },
   {
    "duration": 168,
    "start_time": "2022-07-25T13:33:43.781Z"
   },
   {
    "duration": 197,
    "start_time": "2022-07-25T13:33:48.828Z"
   },
   {
    "duration": 110,
    "start_time": "2022-07-25T13:34:13.606Z"
   },
   {
    "duration": 8,
    "start_time": "2022-07-25T13:35:02.292Z"
   },
   {
    "duration": 177,
    "start_time": "2022-07-25T13:36:28.474Z"
   },
   {
    "duration": 118,
    "start_time": "2022-07-25T13:36:36.224Z"
   },
   {
    "duration": 3,
    "start_time": "2022-07-25T13:37:32.038Z"
   },
   {
    "duration": 1597,
    "start_time": "2022-07-25T13:40:07.074Z"
   },
   {
    "duration": 831,
    "start_time": "2022-07-25T13:40:08.673Z"
   },
   {
    "duration": 135,
    "start_time": "2022-07-25T13:40:09.506Z"
   },
   {
    "duration": 5,
    "start_time": "2022-07-25T13:40:09.642Z"
   },
   {
    "duration": 34,
    "start_time": "2022-07-25T13:40:09.648Z"
   },
   {
    "duration": 13,
    "start_time": "2022-07-25T13:40:09.684Z"
   },
   {
    "duration": 23,
    "start_time": "2022-07-25T13:40:09.699Z"
   },
   {
    "duration": 16,
    "start_time": "2022-07-25T13:40:09.724Z"
   },
   {
    "duration": 26,
    "start_time": "2022-07-25T13:40:09.742Z"
   },
   {
    "duration": 637,
    "start_time": "2022-07-25T13:40:09.771Z"
   },
   {
    "duration": 180,
    "start_time": "2022-07-25T13:40:10.411Z"
   },
   {
    "duration": 174,
    "start_time": "2022-07-25T13:40:10.593Z"
   },
   {
    "duration": 4,
    "start_time": "2022-07-25T13:40:10.770Z"
   },
   {
    "duration": 306,
    "start_time": "2022-07-25T13:40:10.776Z"
   },
   {
    "duration": 235,
    "start_time": "2022-07-25T13:40:11.083Z"
   },
   {
    "duration": 81,
    "start_time": "2022-07-25T13:40:11.319Z"
   },
   {
    "duration": 159,
    "start_time": "2022-07-25T13:40:11.402Z"
   },
   {
    "duration": 275,
    "start_time": "2022-07-25T13:40:11.563Z"
   },
   {
    "duration": 9,
    "start_time": "2022-07-25T13:40:11.840Z"
   },
   {
    "duration": 1238,
    "start_time": "2022-07-25T13:40:11.850Z"
   },
   {
    "duration": 8,
    "start_time": "2022-07-25T13:40:13.090Z"
   },
   {
    "duration": 499,
    "start_time": "2022-07-25T13:40:13.101Z"
   },
   {
    "duration": 24,
    "start_time": "2022-07-25T13:40:13.601Z"
   },
   {
    "duration": 66,
    "start_time": "2022-07-25T13:40:13.626Z"
   },
   {
    "duration": 8,
    "start_time": "2022-07-25T13:40:13.694Z"
   },
   {
    "duration": 112,
    "start_time": "2022-07-25T13:40:13.704Z"
   },
   {
    "duration": 122,
    "start_time": "2022-07-25T13:40:13.817Z"
   },
   {
    "duration": 7338,
    "start_time": "2022-07-25T13:40:13.944Z"
   },
   {
    "duration": 505,
    "start_time": "2022-07-25T13:40:21.284Z"
   },
   {
    "duration": 649,
    "start_time": "2022-07-25T13:40:21.791Z"
   },
   {
    "duration": 41,
    "start_time": "2022-07-25T13:40:22.442Z"
   },
   {
    "duration": 167,
    "start_time": "2022-07-25T13:40:22.486Z"
   },
   {
    "duration": 219,
    "start_time": "2022-07-25T13:40:22.655Z"
   },
   {
    "duration": 282,
    "start_time": "2022-07-25T13:40:22.876Z"
   },
   {
    "duration": 255,
    "start_time": "2022-07-25T13:40:23.160Z"
   },
   {
    "duration": 292,
    "start_time": "2022-07-25T13:40:23.424Z"
   },
   {
    "duration": 375,
    "start_time": "2022-07-25T13:40:23.717Z"
   },
   {
    "duration": 351,
    "start_time": "2022-07-25T13:40:24.093Z"
   },
   {
    "duration": 361,
    "start_time": "2022-07-25T13:40:24.445Z"
   },
   {
    "duration": 342,
    "start_time": "2022-07-25T13:40:24.808Z"
   },
   {
    "duration": 348,
    "start_time": "2022-07-25T13:40:25.152Z"
   },
   {
    "duration": 170,
    "start_time": "2022-07-25T13:40:25.501Z"
   },
   {
    "duration": 5,
    "start_time": "2022-07-25T13:40:25.672Z"
   },
   {
    "duration": 121,
    "start_time": "2022-07-25T13:40:25.678Z"
   },
   {
    "duration": 99,
    "start_time": "2022-07-25T13:40:25.801Z"
   },
   {
    "duration": 58,
    "start_time": "2022-07-25T13:40:25.902Z"
   },
   {
    "duration": 118,
    "start_time": "2022-07-25T13:40:25.962Z"
   },
   {
    "duration": 202,
    "start_time": "2022-07-25T13:40:26.082Z"
   },
   {
    "duration": 147,
    "start_time": "2022-07-25T13:40:26.286Z"
   },
   {
    "duration": 19,
    "start_time": "2022-07-25T13:40:26.435Z"
   },
   {
    "duration": 140,
    "start_time": "2022-07-25T13:40:26.456Z"
   },
   {
    "duration": 2975,
    "start_time": "2022-07-25T13:40:26.598Z"
   },
   {
    "duration": 26,
    "start_time": "2022-07-25T13:40:29.575Z"
   },
   {
    "duration": 124,
    "start_time": "2022-07-25T13:40:29.602Z"
   },
   {
    "duration": 35,
    "start_time": "2022-07-25T13:40:29.727Z"
   },
   {
    "duration": 137,
    "start_time": "2022-07-25T13:40:29.764Z"
   },
   {
    "duration": 26,
    "start_time": "2022-07-25T13:40:29.903Z"
   },
   {
    "duration": 45,
    "start_time": "2022-07-25T13:40:29.931Z"
   },
   {
    "duration": 98,
    "start_time": "2022-07-25T13:40:29.978Z"
   },
   {
    "duration": 33,
    "start_time": "2022-07-25T13:40:30.078Z"
   },
   {
    "duration": 405,
    "start_time": "2022-07-25T13:40:30.112Z"
   },
   {
    "duration": 84,
    "start_time": "2022-07-25T13:40:30.523Z"
   },
   {
    "duration": 31,
    "start_time": "2022-07-25T13:40:30.609Z"
   },
   {
    "duration": 28,
    "start_time": "2022-07-25T13:40:30.641Z"
   },
   {
    "duration": 21,
    "start_time": "2022-07-25T13:40:30.671Z"
   },
   {
    "duration": 230,
    "start_time": "2022-07-25T13:40:30.694Z"
   },
   {
    "duration": 3,
    "start_time": "2022-07-25T13:40:30.926Z"
   },
   {
    "duration": 267,
    "start_time": "2022-07-25T13:40:30.932Z"
   },
   {
    "duration": 1687,
    "start_time": "2022-07-26T07:33:46.723Z"
   },
   {
    "duration": 1114,
    "start_time": "2022-07-26T07:33:48.412Z"
   },
   {
    "duration": 141,
    "start_time": "2022-07-26T07:33:49.528Z"
   },
   {
    "duration": 4,
    "start_time": "2022-07-26T07:33:49.671Z"
   },
   {
    "duration": 11,
    "start_time": "2022-07-26T07:33:49.677Z"
   },
   {
    "duration": 10,
    "start_time": "2022-07-26T07:33:49.689Z"
   },
   {
    "duration": 23,
    "start_time": "2022-07-26T07:33:49.700Z"
   },
   {
    "duration": 6,
    "start_time": "2022-07-26T07:33:49.725Z"
   },
   {
    "duration": 21,
    "start_time": "2022-07-26T07:33:49.733Z"
   },
   {
    "duration": 654,
    "start_time": "2022-07-26T07:33:49.755Z"
   },
   {
    "duration": 175,
    "start_time": "2022-07-26T07:33:50.411Z"
   },
   {
    "duration": 183,
    "start_time": "2022-07-26T07:33:50.587Z"
   },
   {
    "duration": 4,
    "start_time": "2022-07-26T07:33:50.771Z"
   },
   {
    "duration": 324,
    "start_time": "2022-07-26T07:33:50.778Z"
   },
   {
    "duration": 246,
    "start_time": "2022-07-26T07:33:51.103Z"
   },
   {
    "duration": 94,
    "start_time": "2022-07-26T07:33:51.350Z"
   },
   {
    "duration": 164,
    "start_time": "2022-07-26T07:33:51.446Z"
   },
   {
    "duration": 297,
    "start_time": "2022-07-26T07:33:51.611Z"
   },
   {
    "duration": 14,
    "start_time": "2022-07-26T07:33:51.909Z"
   },
   {
    "duration": 1242,
    "start_time": "2022-07-26T07:33:51.925Z"
   },
   {
    "duration": 8,
    "start_time": "2022-07-26T07:33:53.168Z"
   },
   {
    "duration": 478,
    "start_time": "2022-07-26T07:33:53.178Z"
   },
   {
    "duration": 8,
    "start_time": "2022-07-26T07:33:53.658Z"
   },
   {
    "duration": 82,
    "start_time": "2022-07-26T07:33:53.668Z"
   },
   {
    "duration": 7,
    "start_time": "2022-07-26T07:33:53.752Z"
   },
   {
    "duration": 102,
    "start_time": "2022-07-26T07:33:53.761Z"
   },
   {
    "duration": 116,
    "start_time": "2022-07-26T07:33:53.866Z"
   },
   {
    "duration": 7376,
    "start_time": "2022-07-26T07:33:53.984Z"
   },
   {
    "duration": 505,
    "start_time": "2022-07-26T07:34:01.362Z"
   },
   {
    "duration": 680,
    "start_time": "2022-07-26T07:34:01.869Z"
   },
   {
    "duration": 48,
    "start_time": "2022-07-26T07:34:02.551Z"
   },
   {
    "duration": 210,
    "start_time": "2022-07-26T07:34:02.601Z"
   },
   {
    "duration": 246,
    "start_time": "2022-07-26T07:34:02.813Z"
   },
   {
    "duration": 308,
    "start_time": "2022-07-26T07:34:03.061Z"
   },
   {
    "duration": 267,
    "start_time": "2022-07-26T07:34:03.371Z"
   },
   {
    "duration": 318,
    "start_time": "2022-07-26T07:34:03.640Z"
   },
   {
    "duration": 413,
    "start_time": "2022-07-26T07:34:03.960Z"
   },
   {
    "duration": 399,
    "start_time": "2022-07-26T07:34:04.375Z"
   },
   {
    "duration": 359,
    "start_time": "2022-07-26T07:34:04.776Z"
   },
   {
    "duration": 345,
    "start_time": "2022-07-26T07:34:05.137Z"
   },
   {
    "duration": 347,
    "start_time": "2022-07-26T07:34:05.487Z"
   },
   {
    "duration": 172,
    "start_time": "2022-07-26T07:34:05.836Z"
   },
   {
    "duration": 15,
    "start_time": "2022-07-26T07:34:06.010Z"
   },
   {
    "duration": 118,
    "start_time": "2022-07-26T07:34:06.027Z"
   },
   {
    "duration": 96,
    "start_time": "2022-07-26T07:34:06.147Z"
   },
   {
    "duration": 78,
    "start_time": "2022-07-26T07:34:06.245Z"
   },
   {
    "duration": 121,
    "start_time": "2022-07-26T07:34:06.325Z"
   },
   {
    "duration": 209,
    "start_time": "2022-07-26T07:34:06.448Z"
   },
   {
    "duration": 128,
    "start_time": "2022-07-26T07:34:06.659Z"
   },
   {
    "duration": 20,
    "start_time": "2022-07-26T07:34:06.788Z"
   },
   {
    "duration": 153,
    "start_time": "2022-07-26T07:34:06.810Z"
   },
   {
    "duration": 3016,
    "start_time": "2022-07-26T07:34:06.965Z"
   },
   {
    "duration": 39,
    "start_time": "2022-07-26T07:34:09.983Z"
   },
   {
    "duration": 134,
    "start_time": "2022-07-26T07:34:10.024Z"
   },
   {
    "duration": 47,
    "start_time": "2022-07-26T07:34:10.160Z"
   },
   {
    "duration": 160,
    "start_time": "2022-07-26T07:34:10.209Z"
   },
   {
    "duration": 23,
    "start_time": "2022-07-26T07:34:10.371Z"
   },
   {
    "duration": 40,
    "start_time": "2022-07-26T07:34:10.396Z"
   },
   {
    "duration": 117,
    "start_time": "2022-07-26T07:34:10.439Z"
   },
   {
    "duration": 36,
    "start_time": "2022-07-26T07:34:10.559Z"
   },
   {
    "duration": 435,
    "start_time": "2022-07-26T07:34:10.597Z"
   },
   {
    "duration": 105,
    "start_time": "2022-07-26T07:34:11.034Z"
   },
   {
    "duration": 23,
    "start_time": "2022-07-26T07:34:11.141Z"
   },
   {
    "duration": 19,
    "start_time": "2022-07-26T07:34:11.166Z"
   },
   {
    "duration": 38,
    "start_time": "2022-07-26T07:34:11.186Z"
   },
   {
    "duration": 230,
    "start_time": "2022-07-26T07:34:11.226Z"
   },
   {
    "duration": 3,
    "start_time": "2022-07-26T07:34:11.458Z"
   },
   {
    "duration": 247,
    "start_time": "2022-07-26T07:34:11.462Z"
   },
   {
    "duration": 133,
    "start_time": "2022-07-26T07:34:20.971Z"
   },
   {
    "duration": 82,
    "start_time": "2022-07-26T07:44:43.633Z"
   },
   {
    "duration": 81,
    "start_time": "2022-07-26T07:44:48.874Z"
   },
   {
    "duration": 266,
    "start_time": "2022-07-26T07:44:58.095Z"
   },
   {
    "duration": 3,
    "start_time": "2022-07-26T07:44:59.107Z"
   },
   {
    "duration": 253,
    "start_time": "2022-07-26T07:44:59.790Z"
   },
   {
    "duration": 131,
    "start_time": "2022-07-26T07:56:56.473Z"
   },
   {
    "duration": 379,
    "start_time": "2022-07-26T07:57:05.870Z"
   },
   {
    "duration": 168759,
    "start_time": "2022-07-26T07:57:25.480Z"
   },
   {
    "duration": 1564,
    "start_time": "2022-07-26T08:01:07.060Z"
   },
   {
    "duration": 1261,
    "start_time": "2022-07-26T08:01:08.627Z"
   },
   {
    "duration": 184,
    "start_time": "2022-07-26T08:01:09.890Z"
   },
   {
    "duration": 6,
    "start_time": "2022-07-26T08:01:10.076Z"
   },
   {
    "duration": 44,
    "start_time": "2022-07-26T08:01:10.085Z"
   },
   {
    "duration": 16,
    "start_time": "2022-07-26T08:01:10.134Z"
   },
   {
    "duration": 17,
    "start_time": "2022-07-26T08:01:10.151Z"
   },
   {
    "duration": 16,
    "start_time": "2022-07-26T08:01:10.169Z"
   },
   {
    "duration": 11,
    "start_time": "2022-07-26T08:01:10.186Z"
   },
   {
    "duration": 666,
    "start_time": "2022-07-26T08:01:10.198Z"
   },
   {
    "duration": 209,
    "start_time": "2022-07-26T08:01:10.866Z"
   },
   {
    "duration": 203,
    "start_time": "2022-07-26T08:01:11.077Z"
   },
   {
    "duration": 5,
    "start_time": "2022-07-26T08:01:11.281Z"
   },
   {
    "duration": 384,
    "start_time": "2022-07-26T08:01:11.289Z"
   },
   {
    "duration": 272,
    "start_time": "2022-07-26T08:01:11.675Z"
   },
   {
    "duration": 112,
    "start_time": "2022-07-26T08:01:11.948Z"
   },
   {
    "duration": 190,
    "start_time": "2022-07-26T08:01:12.062Z"
   },
   {
    "duration": 331,
    "start_time": "2022-07-26T08:01:12.254Z"
   },
   {
    "duration": 10,
    "start_time": "2022-07-26T08:01:12.587Z"
   },
   {
    "duration": 1468,
    "start_time": "2022-07-26T08:01:12.598Z"
   },
   {
    "duration": 8,
    "start_time": "2022-07-26T08:01:14.068Z"
   },
   {
    "duration": 541,
    "start_time": "2022-07-26T08:01:14.078Z"
   },
   {
    "duration": 17,
    "start_time": "2022-07-26T08:01:14.622Z"
   },
   {
    "duration": 129,
    "start_time": "2022-07-26T08:01:14.641Z"
   },
   {
    "duration": 10,
    "start_time": "2022-07-26T08:01:14.773Z"
   },
   {
    "duration": 156,
    "start_time": "2022-07-26T08:01:14.788Z"
   },
   {
    "duration": 137,
    "start_time": "2022-07-26T08:01:14.946Z"
   },
   {
    "duration": 8408,
    "start_time": "2022-07-26T08:01:15.085Z"
   },
   {
    "duration": 592,
    "start_time": "2022-07-26T08:01:23.495Z"
   },
   {
    "duration": 768,
    "start_time": "2022-07-26T08:01:24.089Z"
   },
   {
    "duration": 47,
    "start_time": "2022-07-26T08:01:24.859Z"
   },
   {
    "duration": 179,
    "start_time": "2022-07-26T08:01:24.908Z"
   },
   {
    "duration": 238,
    "start_time": "2022-07-26T08:01:25.089Z"
   },
   {
    "duration": 313,
    "start_time": "2022-07-26T08:01:25.329Z"
   },
   {
    "duration": 293,
    "start_time": "2022-07-26T08:01:25.644Z"
   },
   {
    "duration": 336,
    "start_time": "2022-07-26T08:01:25.939Z"
   },
   {
    "duration": 416,
    "start_time": "2022-07-26T08:01:26.277Z"
   },
   {
    "duration": 369,
    "start_time": "2022-07-26T08:01:26.695Z"
   },
   {
    "duration": 366,
    "start_time": "2022-07-26T08:01:27.066Z"
   },
   {
    "duration": 356,
    "start_time": "2022-07-26T08:01:27.433Z"
   },
   {
    "duration": 366,
    "start_time": "2022-07-26T08:01:27.793Z"
   },
   {
    "duration": 178,
    "start_time": "2022-07-26T08:01:28.161Z"
   },
   {
    "duration": 5,
    "start_time": "2022-07-26T08:01:28.343Z"
   },
   {
    "duration": 129,
    "start_time": "2022-07-26T08:01:28.349Z"
   },
   {
    "duration": 99,
    "start_time": "2022-07-26T08:01:28.480Z"
   },
   {
    "duration": 70,
    "start_time": "2022-07-26T08:01:28.581Z"
   },
   {
    "duration": 121,
    "start_time": "2022-07-26T08:01:28.653Z"
   },
   {
    "duration": 212,
    "start_time": "2022-07-26T08:01:28.776Z"
   },
   {
    "duration": 140,
    "start_time": "2022-07-26T08:01:28.991Z"
   },
   {
    "duration": 19,
    "start_time": "2022-07-26T08:01:29.134Z"
   },
   {
    "duration": 151,
    "start_time": "2022-07-26T08:01:29.155Z"
   },
   {
    "duration": 3454,
    "start_time": "2022-07-26T08:01:29.308Z"
   },
   {
    "duration": 30,
    "start_time": "2022-07-26T08:01:32.764Z"
   },
   {
    "duration": 167,
    "start_time": "2022-07-26T08:01:32.796Z"
   },
   {
    "duration": 50,
    "start_time": "2022-07-26T08:01:32.965Z"
   },
   {
    "duration": 172,
    "start_time": "2022-07-26T08:01:33.022Z"
   },
   {
    "duration": 30,
    "start_time": "2022-07-26T08:01:33.196Z"
   },
   {
    "duration": 59,
    "start_time": "2022-07-26T08:01:33.229Z"
   },
   {
    "duration": 106,
    "start_time": "2022-07-26T08:01:33.290Z"
   },
   {
    "duration": 47,
    "start_time": "2022-07-26T08:01:33.398Z"
   },
   {
    "duration": 431,
    "start_time": "2022-07-26T08:01:33.446Z"
   },
   {
    "duration": 107,
    "start_time": "2022-07-26T08:01:33.879Z"
   },
   {
    "duration": 21,
    "start_time": "2022-07-26T08:01:33.988Z"
   },
   {
    "duration": 18,
    "start_time": "2022-07-26T08:01:34.023Z"
   },
   {
    "duration": 20,
    "start_time": "2022-07-26T08:01:34.043Z"
   },
   {
    "duration": 97,
    "start_time": "2022-07-26T08:01:34.065Z"
   },
   {
    "duration": 242,
    "start_time": "2022-07-26T08:01:34.164Z"
   },
   {
    "duration": 4,
    "start_time": "2022-07-26T08:01:34.408Z"
   },
   {
    "duration": 289,
    "start_time": "2022-07-26T08:01:34.423Z"
   },
   {
    "duration": 303,
    "start_time": "2022-07-26T08:01:34.714Z"
   },
   {
    "duration": 212810,
    "start_time": "2022-07-26T08:01:35.018Z"
   },
   {
    "duration": 0,
    "start_time": "2022-07-26T08:05:07.830Z"
   },
   {
    "duration": 0,
    "start_time": "2022-07-26T08:05:07.832Z"
   },
   {
    "duration": 0,
    "start_time": "2022-07-26T08:05:07.833Z"
   },
   {
    "duration": 0,
    "start_time": "2022-07-26T08:05:07.834Z"
   },
   {
    "duration": 93,
    "start_time": "2022-07-26T08:05:44.736Z"
   },
   {
    "duration": 26,
    "start_time": "2022-07-26T08:06:08.129Z"
   },
   {
    "duration": 429,
    "start_time": "2022-07-26T08:06:14.355Z"
   },
   {
    "duration": 74,
    "start_time": "2022-07-26T08:07:31.735Z"
   },
   {
    "duration": 76,
    "start_time": "2022-07-26T08:07:44.821Z"
   },
   {
    "duration": 33,
    "start_time": "2022-07-26T08:10:11.822Z"
   },
   {
    "duration": 147,
    "start_time": "2022-07-26T08:10:45.035Z"
   },
   {
    "duration": 41,
    "start_time": "2022-07-26T08:10:56.017Z"
   },
   {
    "duration": 43,
    "start_time": "2022-07-26T08:10:56.645Z"
   },
   {
    "duration": 932,
    "start_time": "2022-07-26T08:11:11.278Z"
   },
   {
    "duration": 1735,
    "start_time": "2022-07-26T08:11:28.270Z"
   },
   {
    "duration": 1102,
    "start_time": "2022-07-26T08:11:30.008Z"
   },
   {
    "duration": 197,
    "start_time": "2022-07-26T08:11:31.112Z"
   },
   {
    "duration": 14,
    "start_time": "2022-07-26T08:11:31.315Z"
   },
   {
    "duration": 37,
    "start_time": "2022-07-26T08:11:31.332Z"
   },
   {
    "duration": 78,
    "start_time": "2022-07-26T08:11:31.371Z"
   },
   {
    "duration": 29,
    "start_time": "2022-07-26T08:11:31.451Z"
   },
   {
    "duration": 64,
    "start_time": "2022-07-26T08:11:31.482Z"
   },
   {
    "duration": 20,
    "start_time": "2022-07-26T08:11:31.548Z"
   },
   {
    "duration": 754,
    "start_time": "2022-07-26T08:11:31.571Z"
   },
   {
    "duration": 219,
    "start_time": "2022-07-26T08:11:32.328Z"
   },
   {
    "duration": 217,
    "start_time": "2022-07-26T08:11:32.549Z"
   },
   {
    "duration": 5,
    "start_time": "2022-07-26T08:11:32.768Z"
   },
   {
    "duration": 413,
    "start_time": "2022-07-26T08:11:32.775Z"
   },
   {
    "duration": 318,
    "start_time": "2022-07-26T08:11:33.190Z"
   },
   {
    "duration": 104,
    "start_time": "2022-07-26T08:11:33.510Z"
   },
   {
    "duration": 174,
    "start_time": "2022-07-26T08:11:33.622Z"
   },
   {
    "duration": 340,
    "start_time": "2022-07-26T08:11:33.798Z"
   },
   {
    "duration": 8,
    "start_time": "2022-07-26T08:11:34.141Z"
   },
   {
    "duration": 1382,
    "start_time": "2022-07-26T08:11:34.151Z"
   },
   {
    "duration": 10,
    "start_time": "2022-07-26T08:11:35.535Z"
   },
   {
    "duration": 514,
    "start_time": "2022-07-26T08:11:35.547Z"
   },
   {
    "duration": 9,
    "start_time": "2022-07-26T08:11:36.063Z"
   },
   {
    "duration": 91,
    "start_time": "2022-07-26T08:11:36.074Z"
   },
   {
    "duration": 9,
    "start_time": "2022-07-26T08:11:36.166Z"
   },
   {
    "duration": 117,
    "start_time": "2022-07-26T08:11:36.177Z"
   },
   {
    "duration": 121,
    "start_time": "2022-07-26T08:11:36.296Z"
   },
   {
    "duration": 7940,
    "start_time": "2022-07-26T08:11:36.424Z"
   },
   {
    "duration": 641,
    "start_time": "2022-07-26T08:11:44.366Z"
   },
   {
    "duration": 741,
    "start_time": "2022-07-26T08:11:45.009Z"
   },
   {
    "duration": 49,
    "start_time": "2022-07-26T08:11:45.752Z"
   },
   {
    "duration": 195,
    "start_time": "2022-07-26T08:11:45.803Z"
   },
   {
    "duration": 243,
    "start_time": "2022-07-26T08:11:46.001Z"
   },
   {
    "duration": 330,
    "start_time": "2022-07-26T08:11:46.246Z"
   },
   {
    "duration": 283,
    "start_time": "2022-07-26T08:11:46.578Z"
   },
   {
    "duration": 347,
    "start_time": "2022-07-26T08:11:46.863Z"
   },
   {
    "duration": 446,
    "start_time": "2022-07-26T08:11:47.212Z"
   },
   {
    "duration": 424,
    "start_time": "2022-07-26T08:11:47.660Z"
   },
   {
    "duration": 414,
    "start_time": "2022-07-26T08:11:48.085Z"
   },
   {
    "duration": 398,
    "start_time": "2022-07-26T08:11:48.501Z"
   },
   {
    "duration": 435,
    "start_time": "2022-07-26T08:11:48.901Z"
   },
   {
    "duration": 171,
    "start_time": "2022-07-26T08:11:49.338Z"
   },
   {
    "duration": 13,
    "start_time": "2022-07-26T08:11:49.511Z"
   },
   {
    "duration": 139,
    "start_time": "2022-07-26T08:11:49.526Z"
   },
   {
    "duration": 91,
    "start_time": "2022-07-26T08:11:49.667Z"
   },
   {
    "duration": 81,
    "start_time": "2022-07-26T08:11:49.760Z"
   },
   {
    "duration": 127,
    "start_time": "2022-07-26T08:11:49.843Z"
   },
   {
    "duration": 257,
    "start_time": "2022-07-26T08:11:49.972Z"
   },
   {
    "duration": 138,
    "start_time": "2022-07-26T08:11:50.231Z"
   },
   {
    "duration": 51,
    "start_time": "2022-07-26T08:11:50.372Z"
   },
   {
    "duration": 155,
    "start_time": "2022-07-26T08:11:50.425Z"
   },
   {
    "duration": 3160,
    "start_time": "2022-07-26T08:11:50.581Z"
   },
   {
    "duration": 29,
    "start_time": "2022-07-26T08:11:53.743Z"
   },
   {
    "duration": 131,
    "start_time": "2022-07-26T08:11:53.774Z"
   },
   {
    "duration": 51,
    "start_time": "2022-07-26T08:11:53.907Z"
   },
   {
    "duration": 181,
    "start_time": "2022-07-26T08:11:53.960Z"
   },
   {
    "duration": 20,
    "start_time": "2022-07-26T08:11:54.143Z"
   },
   {
    "duration": 36,
    "start_time": "2022-07-26T08:11:54.165Z"
   },
   {
    "duration": 132,
    "start_time": "2022-07-26T08:11:54.202Z"
   },
   {
    "duration": 37,
    "start_time": "2022-07-26T08:11:54.337Z"
   },
   {
    "duration": 479,
    "start_time": "2022-07-26T08:11:54.377Z"
   },
   {
    "duration": 111,
    "start_time": "2022-07-26T08:11:54.858Z"
   },
   {
    "duration": 20,
    "start_time": "2022-07-26T08:11:54.971Z"
   },
   {
    "duration": 18,
    "start_time": "2022-07-26T08:11:54.993Z"
   },
   {
    "duration": 33,
    "start_time": "2022-07-26T08:11:55.022Z"
   },
   {
    "duration": 375,
    "start_time": "2022-07-26T08:11:55.057Z"
   },
   {
    "duration": 158,
    "start_time": "2022-07-26T08:11:55.438Z"
   },
   {
    "duration": 360,
    "start_time": "2022-07-26T08:11:55.598Z"
   },
   {
    "duration": 1307,
    "start_time": "2022-07-26T08:11:55.959Z"
   },
   {
    "duration": 18,
    "start_time": "2022-07-26T08:11:57.268Z"
   },
   {
    "duration": 256,
    "start_time": "2022-07-26T08:11:57.288Z"
   },
   {
    "duration": 4,
    "start_time": "2022-07-26T08:11:57.546Z"
   },
   {
    "duration": 291,
    "start_time": "2022-07-26T08:11:57.551Z"
   },
   {
    "duration": 81,
    "start_time": "2022-07-26T08:11:57.844Z"
   },
   {
    "duration": 139,
    "start_time": "2022-07-26T08:11:57.936Z"
   },
   {
    "duration": 0,
    "start_time": "2022-07-26T08:11:58.077Z"
   },
   {
    "duration": 0,
    "start_time": "2022-07-26T08:11:58.079Z"
   },
   {
    "duration": 0,
    "start_time": "2022-07-26T08:11:58.080Z"
   },
   {
    "duration": 0,
    "start_time": "2022-07-26T08:11:58.082Z"
   },
   {
    "duration": 0,
    "start_time": "2022-07-26T08:11:58.083Z"
   },
   {
    "duration": 0,
    "start_time": "2022-07-26T08:11:58.085Z"
   },
   {
    "duration": 0,
    "start_time": "2022-07-26T08:11:58.086Z"
   },
   {
    "duration": 34,
    "start_time": "2022-07-26T08:12:05.239Z"
   },
   {
    "duration": 189,
    "start_time": "2022-07-26T08:12:05.955Z"
   },
   {
    "duration": 769,
    "start_time": "2022-07-26T08:12:17.101Z"
   },
   {
    "duration": 50,
    "start_time": "2022-07-26T08:12:33.967Z"
   },
   {
    "duration": 1778,
    "start_time": "2022-07-26T08:12:43.340Z"
   },
   {
    "duration": 1001,
    "start_time": "2022-07-26T08:12:45.120Z"
   },
   {
    "duration": 154,
    "start_time": "2022-07-26T08:12:46.138Z"
   },
   {
    "duration": 5,
    "start_time": "2022-07-26T08:12:46.294Z"
   },
   {
    "duration": 31,
    "start_time": "2022-07-26T08:12:46.302Z"
   },
   {
    "duration": 23,
    "start_time": "2022-07-26T08:12:46.337Z"
   },
   {
    "duration": 10,
    "start_time": "2022-07-26T08:12:46.362Z"
   },
   {
    "duration": 11,
    "start_time": "2022-07-26T08:12:46.373Z"
   },
   {
    "duration": 22,
    "start_time": "2022-07-26T08:12:46.386Z"
   },
   {
    "duration": 674,
    "start_time": "2022-07-26T08:12:46.410Z"
   },
   {
    "duration": 194,
    "start_time": "2022-07-26T08:12:47.086Z"
   },
   {
    "duration": 205,
    "start_time": "2022-07-26T08:12:47.281Z"
   },
   {
    "duration": 5,
    "start_time": "2022-07-26T08:12:47.488Z"
   },
   {
    "duration": 369,
    "start_time": "2022-07-26T08:12:47.496Z"
   },
   {
    "duration": 290,
    "start_time": "2022-07-26T08:12:47.867Z"
   },
   {
    "duration": 109,
    "start_time": "2022-07-26T08:12:48.159Z"
   },
   {
    "duration": 178,
    "start_time": "2022-07-26T08:12:48.270Z"
   },
   {
    "duration": 328,
    "start_time": "2022-07-26T08:12:48.450Z"
   },
   {
    "duration": 9,
    "start_time": "2022-07-26T08:12:48.780Z"
   },
   {
    "duration": 1411,
    "start_time": "2022-07-26T08:12:48.792Z"
   },
   {
    "duration": 8,
    "start_time": "2022-07-26T08:12:50.205Z"
   },
   {
    "duration": 484,
    "start_time": "2022-07-26T08:12:50.229Z"
   },
   {
    "duration": 18,
    "start_time": "2022-07-26T08:12:50.715Z"
   },
   {
    "duration": 76,
    "start_time": "2022-07-26T08:12:50.739Z"
   },
   {
    "duration": 20,
    "start_time": "2022-07-26T08:12:50.817Z"
   },
   {
    "duration": 136,
    "start_time": "2022-07-26T08:12:50.840Z"
   },
   {
    "duration": 127,
    "start_time": "2022-07-26T08:12:50.978Z"
   },
   {
    "duration": 8235,
    "start_time": "2022-07-26T08:12:51.107Z"
   },
   {
    "duration": 559,
    "start_time": "2022-07-26T08:12:59.344Z"
   },
   {
    "duration": 781,
    "start_time": "2022-07-26T08:12:59.905Z"
   },
   {
    "duration": 62,
    "start_time": "2022-07-26T08:13:00.688Z"
   },
   {
    "duration": 192,
    "start_time": "2022-07-26T08:13:00.752Z"
   },
   {
    "duration": 275,
    "start_time": "2022-07-26T08:13:00.946Z"
   },
   {
    "duration": 349,
    "start_time": "2022-07-26T08:13:01.223Z"
   },
   {
    "duration": 294,
    "start_time": "2022-07-26T08:13:01.574Z"
   },
   {
    "duration": 372,
    "start_time": "2022-07-26T08:13:01.870Z"
   },
   {
    "duration": 462,
    "start_time": "2022-07-26T08:13:02.244Z"
   },
   {
    "duration": 408,
    "start_time": "2022-07-26T08:13:02.708Z"
   },
   {
    "duration": 438,
    "start_time": "2022-07-26T08:13:03.119Z"
   },
   {
    "duration": 399,
    "start_time": "2022-07-26T08:13:03.559Z"
   },
   {
    "duration": 399,
    "start_time": "2022-07-26T08:13:03.963Z"
   },
   {
    "duration": 246,
    "start_time": "2022-07-26T08:13:04.364Z"
   },
   {
    "duration": 36,
    "start_time": "2022-07-26T08:13:04.623Z"
   },
   {
    "duration": 175,
    "start_time": "2022-07-26T08:13:04.662Z"
   },
   {
    "duration": 102,
    "start_time": "2022-07-26T08:13:04.839Z"
   },
   {
    "duration": 72,
    "start_time": "2022-07-26T08:13:04.942Z"
   },
   {
    "duration": 125,
    "start_time": "2022-07-26T08:13:05.016Z"
   },
   {
    "duration": 209,
    "start_time": "2022-07-26T08:13:05.143Z"
   },
   {
    "duration": 144,
    "start_time": "2022-07-26T08:13:05.354Z"
   },
   {
    "duration": 34,
    "start_time": "2022-07-26T08:13:05.500Z"
   },
   {
    "duration": 139,
    "start_time": "2022-07-26T08:13:05.536Z"
   },
   {
    "duration": 3307,
    "start_time": "2022-07-26T08:13:05.677Z"
   },
   {
    "duration": 53,
    "start_time": "2022-07-26T08:13:08.986Z"
   },
   {
    "duration": 127,
    "start_time": "2022-07-26T08:13:09.040Z"
   },
   {
    "duration": 34,
    "start_time": "2022-07-26T08:13:09.169Z"
   },
   {
    "duration": 173,
    "start_time": "2022-07-26T08:13:09.205Z"
   },
   {
    "duration": 19,
    "start_time": "2022-07-26T08:13:09.381Z"
   },
   {
    "duration": 51,
    "start_time": "2022-07-26T08:13:09.402Z"
   },
   {
    "duration": 114,
    "start_time": "2022-07-26T08:13:09.455Z"
   },
   {
    "duration": 37,
    "start_time": "2022-07-26T08:13:09.571Z"
   },
   {
    "duration": 415,
    "start_time": "2022-07-26T08:13:09.625Z"
   },
   {
    "duration": 108,
    "start_time": "2022-07-26T08:13:10.042Z"
   },
   {
    "duration": 22,
    "start_time": "2022-07-26T08:13:10.152Z"
   },
   {
    "duration": 16,
    "start_time": "2022-07-26T08:13:10.176Z"
   },
   {
    "duration": 52,
    "start_time": "2022-07-26T08:13:10.195Z"
   },
   {
    "duration": 405,
    "start_time": "2022-07-26T08:13:10.249Z"
   },
   {
    "duration": 176,
    "start_time": "2022-07-26T08:13:10.656Z"
   },
   {
    "duration": 86,
    "start_time": "2022-07-26T08:13:20.521Z"
   },
   {
    "duration": 18,
    "start_time": "2022-07-26T08:13:26.492Z"
   },
   {
    "duration": 121,
    "start_time": "2022-07-26T08:13:40.299Z"
   },
   {
    "duration": 1795,
    "start_time": "2022-07-26T08:14:29.098Z"
   },
   {
    "duration": 1112,
    "start_time": "2022-07-26T08:14:30.896Z"
   },
   {
    "duration": 169,
    "start_time": "2022-07-26T08:14:32.010Z"
   },
   {
    "duration": 6,
    "start_time": "2022-07-26T08:14:32.181Z"
   },
   {
    "duration": 29,
    "start_time": "2022-07-26T08:14:32.190Z"
   },
   {
    "duration": 48,
    "start_time": "2022-07-26T08:14:32.220Z"
   },
   {
    "duration": 17,
    "start_time": "2022-07-26T08:14:32.271Z"
   },
   {
    "duration": 15,
    "start_time": "2022-07-26T08:14:32.291Z"
   },
   {
    "duration": 53,
    "start_time": "2022-07-26T08:14:32.307Z"
   },
   {
    "duration": 788,
    "start_time": "2022-07-26T08:14:32.362Z"
   },
   {
    "duration": 237,
    "start_time": "2022-07-26T08:14:33.153Z"
   },
   {
    "duration": 197,
    "start_time": "2022-07-26T08:14:33.391Z"
   },
   {
    "duration": 5,
    "start_time": "2022-07-26T08:14:33.590Z"
   },
   {
    "duration": 385,
    "start_time": "2022-07-26T08:14:33.598Z"
   },
   {
    "duration": 295,
    "start_time": "2022-07-26T08:14:33.990Z"
   },
   {
    "duration": 153,
    "start_time": "2022-07-26T08:14:34.287Z"
   },
   {
    "duration": 203,
    "start_time": "2022-07-26T08:14:34.446Z"
   },
   {
    "duration": 358,
    "start_time": "2022-07-26T08:14:34.654Z"
   },
   {
    "duration": 23,
    "start_time": "2022-07-26T08:14:35.014Z"
   },
   {
    "duration": 1366,
    "start_time": "2022-07-26T08:14:35.044Z"
   },
   {
    "duration": 27,
    "start_time": "2022-07-26T08:14:36.412Z"
   },
   {
    "duration": 543,
    "start_time": "2022-07-26T08:14:36.441Z"
   },
   {
    "duration": 11,
    "start_time": "2022-07-26T08:14:36.986Z"
   },
   {
    "duration": 101,
    "start_time": "2022-07-26T08:14:36.999Z"
   },
   {
    "duration": 9,
    "start_time": "2022-07-26T08:14:37.102Z"
   },
   {
    "duration": 120,
    "start_time": "2022-07-26T08:14:37.122Z"
   },
   {
    "duration": 138,
    "start_time": "2022-07-26T08:14:37.244Z"
   },
   {
    "duration": 9015,
    "start_time": "2022-07-26T08:14:37.384Z"
   },
   {
    "duration": 649,
    "start_time": "2022-07-26T08:14:46.401Z"
   },
   {
    "duration": 793,
    "start_time": "2022-07-26T08:14:47.052Z"
   },
   {
    "duration": 48,
    "start_time": "2022-07-26T08:14:47.847Z"
   },
   {
    "duration": 195,
    "start_time": "2022-07-26T08:14:47.897Z"
   },
   {
    "duration": 271,
    "start_time": "2022-07-26T08:14:48.094Z"
   },
   {
    "duration": 336,
    "start_time": "2022-07-26T08:14:48.367Z"
   },
   {
    "duration": 322,
    "start_time": "2022-07-26T08:14:48.705Z"
   },
   {
    "duration": 367,
    "start_time": "2022-07-26T08:14:49.029Z"
   },
   {
    "duration": 483,
    "start_time": "2022-07-26T08:14:49.398Z"
   },
   {
    "duration": 432,
    "start_time": "2022-07-26T08:14:49.883Z"
   },
   {
    "duration": 438,
    "start_time": "2022-07-26T08:14:50.316Z"
   },
   {
    "duration": 417,
    "start_time": "2022-07-26T08:14:50.756Z"
   },
   {
    "duration": 422,
    "start_time": "2022-07-26T08:14:51.178Z"
   },
   {
    "duration": 196,
    "start_time": "2022-07-26T08:14:51.602Z"
   },
   {
    "duration": 5,
    "start_time": "2022-07-26T08:14:51.800Z"
   },
   {
    "duration": 137,
    "start_time": "2022-07-26T08:14:51.807Z"
   },
   {
    "duration": 106,
    "start_time": "2022-07-26T08:14:51.946Z"
   },
   {
    "duration": 85,
    "start_time": "2022-07-26T08:14:52.054Z"
   },
   {
    "duration": 141,
    "start_time": "2022-07-26T08:14:52.142Z"
   },
   {
    "duration": 273,
    "start_time": "2022-07-26T08:14:52.285Z"
   },
   {
    "duration": 143,
    "start_time": "2022-07-26T08:14:52.560Z"
   },
   {
    "duration": 48,
    "start_time": "2022-07-26T08:14:52.705Z"
   },
   {
    "duration": 153,
    "start_time": "2022-07-26T08:14:52.755Z"
   },
   {
    "duration": 3347,
    "start_time": "2022-07-26T08:14:52.909Z"
   },
   {
    "duration": 30,
    "start_time": "2022-07-26T08:14:56.258Z"
   },
   {
    "duration": 145,
    "start_time": "2022-07-26T08:14:56.289Z"
   },
   {
    "duration": 51,
    "start_time": "2022-07-26T08:14:56.438Z"
   },
   {
    "duration": 165,
    "start_time": "2022-07-26T08:14:56.491Z"
   },
   {
    "duration": 21,
    "start_time": "2022-07-26T08:14:56.658Z"
   },
   {
    "duration": 26,
    "start_time": "2022-07-26T08:14:56.681Z"
   },
   {
    "duration": 121,
    "start_time": "2022-07-26T08:14:56.709Z"
   },
   {
    "duration": 37,
    "start_time": "2022-07-26T08:14:56.835Z"
   },
   {
    "duration": 425,
    "start_time": "2022-07-26T08:14:56.874Z"
   },
   {
    "duration": 107,
    "start_time": "2022-07-26T08:14:57.301Z"
   },
   {
    "duration": 36,
    "start_time": "2022-07-26T08:14:57.411Z"
   },
   {
    "duration": 25,
    "start_time": "2022-07-26T08:14:57.449Z"
   },
   {
    "duration": 23,
    "start_time": "2022-07-26T08:14:57.477Z"
   },
   {
    "duration": 383,
    "start_time": "2022-07-26T08:14:57.502Z"
   },
   {
    "duration": 176,
    "start_time": "2022-07-26T08:14:57.887Z"
   },
   {
    "duration": 6,
    "start_time": "2022-07-26T08:15:02.739Z"
   },
   {
    "duration": 26,
    "start_time": "2022-07-26T08:15:03.662Z"
   },
   {
    "duration": 16,
    "start_time": "2022-07-26T08:15:04.836Z"
   },
   {
    "duration": 362,
    "start_time": "2022-07-26T08:15:11.993Z"
   },
   {
    "duration": 1470,
    "start_time": "2022-07-26T08:20:34.270Z"
   },
   {
    "duration": 23,
    "start_time": "2022-07-26T08:20:37.359Z"
   },
   {
    "duration": 214,
    "start_time": "2022-07-26T08:36:33.512Z"
   },
   {
    "duration": 3,
    "start_time": "2022-07-26T08:36:34.964Z"
   },
   {
    "duration": 239,
    "start_time": "2022-07-26T08:36:35.751Z"
   },
   {
    "duration": 807,
    "start_time": "2022-07-26T08:38:01.597Z"
   },
   {
    "duration": 254,
    "start_time": "2022-07-26T08:39:13.199Z"
   },
   {
    "duration": 371,
    "start_time": "2022-07-26T09:02:35.801Z"
   },
   {
    "duration": 384,
    "start_time": "2022-07-26T09:03:27.876Z"
   },
   {
    "duration": 55552,
    "start_time": "2022-07-26T09:32:10.004Z"
   },
   {
    "duration": 56518,
    "start_time": "2022-07-26T09:33:14.957Z"
   },
   {
    "duration": 57092,
    "start_time": "2022-07-26T09:34:49.744Z"
   },
   {
    "duration": 4,
    "start_time": "2022-07-26T09:36:39.386Z"
   },
   {
    "duration": 4,
    "start_time": "2022-07-26T09:38:24.244Z"
   },
   {
    "duration": 5,
    "start_time": "2022-07-26T09:38:30.847Z"
   },
   {
    "duration": 3,
    "start_time": "2022-07-26T09:38:34.194Z"
   },
   {
    "duration": 57185,
    "start_time": "2022-07-26T09:38:41.539Z"
   },
   {
    "duration": 314,
    "start_time": "2022-07-26T09:42:40.308Z"
   },
   {
    "duration": 7,
    "start_time": "2022-07-26T09:43:52.758Z"
   },
   {
    "duration": 8,
    "start_time": "2022-07-26T09:44:09.732Z"
   },
   {
    "duration": 7,
    "start_time": "2022-07-26T09:45:02.856Z"
   },
   {
    "duration": 200565,
    "start_time": "2022-07-26T09:46:20.765Z"
   },
   {
    "duration": 1696,
    "start_time": "2022-07-27T11:50:23.501Z"
   },
   {
    "duration": 2896,
    "start_time": "2022-07-27T11:50:25.200Z"
   },
   {
    "duration": 118,
    "start_time": "2022-07-27T11:50:28.097Z"
   },
   {
    "duration": 4,
    "start_time": "2022-07-27T11:50:28.217Z"
   },
   {
    "duration": 7,
    "start_time": "2022-07-27T11:50:28.223Z"
   },
   {
    "duration": 7,
    "start_time": "2022-07-27T11:50:28.232Z"
   },
   {
    "duration": 8,
    "start_time": "2022-07-27T11:50:28.240Z"
   },
   {
    "duration": 5,
    "start_time": "2022-07-27T11:50:28.250Z"
   },
   {
    "duration": 7,
    "start_time": "2022-07-27T11:50:28.257Z"
   },
   {
    "duration": 646,
    "start_time": "2022-07-27T11:50:28.265Z"
   },
   {
    "duration": 161,
    "start_time": "2022-07-27T11:50:28.913Z"
   },
   {
    "duration": 146,
    "start_time": "2022-07-27T11:50:29.076Z"
   },
   {
    "duration": 4,
    "start_time": "2022-07-27T11:50:29.224Z"
   },
   {
    "duration": 279,
    "start_time": "2022-07-27T11:50:29.230Z"
   },
   {
    "duration": 246,
    "start_time": "2022-07-27T11:50:29.511Z"
   },
   {
    "duration": 80,
    "start_time": "2022-07-27T11:50:29.759Z"
   },
   {
    "duration": 150,
    "start_time": "2022-07-27T11:50:29.841Z"
   },
   {
    "duration": 254,
    "start_time": "2022-07-27T11:50:29.993Z"
   },
   {
    "duration": 8,
    "start_time": "2022-07-27T11:50:30.249Z"
   },
   {
    "duration": 1211,
    "start_time": "2022-07-27T11:50:30.258Z"
   },
   {
    "duration": 7,
    "start_time": "2022-07-27T11:50:31.471Z"
   },
   {
    "duration": 469,
    "start_time": "2022-07-27T11:50:31.480Z"
   },
   {
    "duration": 11,
    "start_time": "2022-07-27T11:50:31.950Z"
   },
   {
    "duration": 78,
    "start_time": "2022-07-27T11:50:31.963Z"
   },
   {
    "duration": 7,
    "start_time": "2022-07-27T11:50:32.043Z"
   },
   {
    "duration": 110,
    "start_time": "2022-07-27T11:50:32.051Z"
   },
   {
    "duration": 115,
    "start_time": "2022-07-27T11:50:32.163Z"
   },
   {
    "duration": 7441,
    "start_time": "2022-07-27T11:50:32.280Z"
   },
   {
    "duration": 506,
    "start_time": "2022-07-27T11:50:39.722Z"
   },
   {
    "duration": 656,
    "start_time": "2022-07-27T11:50:40.230Z"
   },
   {
    "duration": 48,
    "start_time": "2022-07-27T11:50:40.888Z"
   },
   {
    "duration": 156,
    "start_time": "2022-07-27T11:50:40.938Z"
   },
   {
    "duration": 209,
    "start_time": "2022-07-27T11:50:41.098Z"
   },
   {
    "duration": 275,
    "start_time": "2022-07-27T11:50:41.309Z"
   },
   {
    "duration": 263,
    "start_time": "2022-07-27T11:50:41.586Z"
   },
   {
    "duration": 299,
    "start_time": "2022-07-27T11:50:41.851Z"
   },
   {
    "duration": 382,
    "start_time": "2022-07-27T11:50:42.152Z"
   },
   {
    "duration": 350,
    "start_time": "2022-07-27T11:50:42.537Z"
   },
   {
    "duration": 341,
    "start_time": "2022-07-27T11:50:42.889Z"
   },
   {
    "duration": 340,
    "start_time": "2022-07-27T11:50:43.232Z"
   },
   {
    "duration": 331,
    "start_time": "2022-07-27T11:50:43.576Z"
   },
   {
    "duration": 142,
    "start_time": "2022-07-27T11:50:43.909Z"
   },
   {
    "duration": 6,
    "start_time": "2022-07-27T11:50:44.052Z"
   },
   {
    "duration": 129,
    "start_time": "2022-07-27T11:50:44.060Z"
   },
   {
    "duration": 90,
    "start_time": "2022-07-27T11:50:44.191Z"
   },
   {
    "duration": 60,
    "start_time": "2022-07-27T11:50:44.283Z"
   },
   {
    "duration": 99,
    "start_time": "2022-07-27T11:50:44.345Z"
   },
   {
    "duration": 199,
    "start_time": "2022-07-27T11:50:44.446Z"
   },
   {
    "duration": 108,
    "start_time": "2022-07-27T11:50:44.647Z"
   },
   {
    "duration": 16,
    "start_time": "2022-07-27T11:50:44.756Z"
   },
   {
    "duration": 146,
    "start_time": "2022-07-27T11:50:44.773Z"
   },
   {
    "duration": 2951,
    "start_time": "2022-07-27T11:50:44.921Z"
   },
   {
    "duration": 27,
    "start_time": "2022-07-27T11:50:47.874Z"
   },
   {
    "duration": 101,
    "start_time": "2022-07-27T11:50:47.903Z"
   },
   {
    "duration": 29,
    "start_time": "2022-07-27T11:50:48.006Z"
   },
   {
    "duration": 126,
    "start_time": "2022-07-27T11:50:48.036Z"
   },
   {
    "duration": 17,
    "start_time": "2022-07-27T11:50:48.164Z"
   },
   {
    "duration": 33,
    "start_time": "2022-07-27T11:50:48.183Z"
   },
   {
    "duration": 112,
    "start_time": "2022-07-27T11:50:48.217Z"
   },
   {
    "duration": 31,
    "start_time": "2022-07-27T11:50:48.330Z"
   },
   {
    "duration": 382,
    "start_time": "2022-07-27T11:50:48.363Z"
   },
   {
    "duration": 93,
    "start_time": "2022-07-27T11:50:48.747Z"
   },
   {
    "duration": 18,
    "start_time": "2022-07-27T11:50:48.842Z"
   },
   {
    "duration": 14,
    "start_time": "2022-07-27T11:50:48.862Z"
   },
   {
    "duration": 37,
    "start_time": "2022-07-27T11:50:48.879Z"
   },
   {
    "duration": 427,
    "start_time": "2022-07-27T11:50:48.918Z"
   },
   {
    "duration": 148,
    "start_time": "2022-07-27T11:50:49.346Z"
   },
   {
    "duration": 24,
    "start_time": "2022-07-27T11:50:49.498Z"
   },
   {
    "duration": 15,
    "start_time": "2022-07-27T11:50:49.524Z"
   },
   {
    "duration": 349,
    "start_time": "2022-07-27T11:50:49.542Z"
   },
   {
    "duration": 1191,
    "start_time": "2022-07-27T11:50:49.897Z"
   },
   {
    "duration": 22,
    "start_time": "2022-07-27T11:50:51.090Z"
   },
   {
    "duration": 220,
    "start_time": "2022-07-27T11:50:51.114Z"
   },
   {
    "duration": 4,
    "start_time": "2022-07-27T11:50:51.336Z"
   },
   {
    "duration": 237,
    "start_time": "2022-07-27T11:50:51.342Z"
   },
   {
    "duration": 784,
    "start_time": "2022-07-27T11:50:51.580Z"
   },
   {
    "duration": 234,
    "start_time": "2022-07-27T11:50:52.366Z"
   },
   {
    "duration": 336,
    "start_time": "2022-07-27T11:50:52.602Z"
   },
   {
    "duration": 33159,
    "start_time": "2022-07-27T11:50:52.941Z"
   },
   {
    "duration": 300,
    "start_time": "2022-07-27T11:51:26.102Z"
   },
   {
    "duration": 7,
    "start_time": "2022-07-27T11:51:26.497Z"
   },
   {
    "duration": 7,
    "start_time": "2022-07-27T11:51:26.505Z"
   },
   {
    "duration": 131190,
    "start_time": "2022-07-27T11:51:26.514Z"
   },
   {
    "duration": 3,
    "start_time": "2022-07-27T13:57:23.927Z"
   },
   {
    "duration": 17996,
    "start_time": "2022-07-27T13:57:24.898Z"
   },
   {
    "duration": 168,
    "start_time": "2022-07-27T13:57:46.536Z"
   },
   {
    "duration": 7,
    "start_time": "2022-07-27T13:57:47.645Z"
   },
   {
    "duration": 27894,
    "start_time": "2022-07-27T13:57:52.349Z"
   },
   {
    "duration": 66040,
    "start_time": "2022-07-27T13:58:22.866Z"
   },
   {
    "duration": 5,
    "start_time": "2022-07-27T14:09:41.702Z"
   },
   {
    "duration": 155,
    "start_time": "2022-07-27T14:14:27.290Z"
   },
   {
    "duration": 1543,
    "start_time": "2022-07-27T14:14:43.476Z"
   },
   {
    "duration": 2882,
    "start_time": "2022-07-27T14:14:45.022Z"
   },
   {
    "duration": 113,
    "start_time": "2022-07-27T14:14:47.906Z"
   },
   {
    "duration": 4,
    "start_time": "2022-07-27T14:14:48.021Z"
   },
   {
    "duration": 11,
    "start_time": "2022-07-27T14:14:48.028Z"
   },
   {
    "duration": 12,
    "start_time": "2022-07-27T14:14:48.040Z"
   },
   {
    "duration": 5,
    "start_time": "2022-07-27T14:14:48.054Z"
   },
   {
    "duration": 11,
    "start_time": "2022-07-27T14:14:48.061Z"
   },
   {
    "duration": 41,
    "start_time": "2022-07-27T14:14:48.074Z"
   },
   {
    "duration": 629,
    "start_time": "2022-07-27T14:14:48.117Z"
   },
   {
    "duration": 150,
    "start_time": "2022-07-27T14:14:48.748Z"
   },
   {
    "duration": 150,
    "start_time": "2022-07-27T14:14:48.901Z"
   },
   {
    "duration": 4,
    "start_time": "2022-07-27T14:14:49.054Z"
   },
   {
    "duration": 298,
    "start_time": "2022-07-27T14:14:49.061Z"
   },
   {
    "duration": 227,
    "start_time": "2022-07-27T14:14:49.360Z"
   },
   {
    "duration": 85,
    "start_time": "2022-07-27T14:14:49.588Z"
   },
   {
    "duration": 154,
    "start_time": "2022-07-27T14:14:49.674Z"
   },
   {
    "duration": 258,
    "start_time": "2022-07-27T14:14:49.830Z"
   },
   {
    "duration": 14,
    "start_time": "2022-07-27T14:14:50.090Z"
   },
   {
    "duration": 1226,
    "start_time": "2022-07-27T14:14:50.106Z"
   },
   {
    "duration": 8,
    "start_time": "2022-07-27T14:14:51.333Z"
   },
   {
    "duration": 487,
    "start_time": "2022-07-27T14:14:51.343Z"
   },
   {
    "duration": 10,
    "start_time": "2022-07-27T14:14:51.832Z"
   },
   {
    "duration": 79,
    "start_time": "2022-07-27T14:14:51.844Z"
   },
   {
    "duration": 8,
    "start_time": "2022-07-27T14:14:51.925Z"
   },
   {
    "duration": 103,
    "start_time": "2022-07-27T14:14:51.935Z"
   },
   {
    "duration": 127,
    "start_time": "2022-07-27T14:14:52.040Z"
   },
   {
    "duration": 7518,
    "start_time": "2022-07-27T14:14:52.169Z"
   },
   {
    "duration": 505,
    "start_time": "2022-07-27T14:14:59.689Z"
   },
   {
    "duration": 659,
    "start_time": "2022-07-27T14:15:00.196Z"
   },
   {
    "duration": 50,
    "start_time": "2022-07-27T14:15:00.857Z"
   },
   {
    "duration": 164,
    "start_time": "2022-07-27T14:15:00.909Z"
   },
   {
    "duration": 216,
    "start_time": "2022-07-27T14:15:01.075Z"
   },
   {
    "duration": 281,
    "start_time": "2022-07-27T14:15:01.292Z"
   },
   {
    "duration": 257,
    "start_time": "2022-07-27T14:15:01.575Z"
   },
   {
    "duration": 297,
    "start_time": "2022-07-27T14:15:01.834Z"
   },
   {
    "duration": 373,
    "start_time": "2022-07-27T14:15:02.133Z"
   },
   {
    "duration": 329,
    "start_time": "2022-07-27T14:15:02.507Z"
   },
   {
    "duration": 329,
    "start_time": "2022-07-27T14:15:02.837Z"
   },
   {
    "duration": 325,
    "start_time": "2022-07-27T14:15:03.168Z"
   },
   {
    "duration": 323,
    "start_time": "2022-07-27T14:15:03.499Z"
   },
   {
    "duration": 137,
    "start_time": "2022-07-27T14:15:03.824Z"
   },
   {
    "duration": 5,
    "start_time": "2022-07-27T14:15:03.963Z"
   },
   {
    "duration": 118,
    "start_time": "2022-07-27T14:15:03.969Z"
   },
   {
    "duration": 93,
    "start_time": "2022-07-27T14:15:04.089Z"
   },
   {
    "duration": 65,
    "start_time": "2022-07-27T14:15:04.183Z"
   },
   {
    "duration": 96,
    "start_time": "2022-07-27T14:15:04.250Z"
   },
   {
    "duration": 210,
    "start_time": "2022-07-27T14:15:04.347Z"
   },
   {
    "duration": 114,
    "start_time": "2022-07-27T14:15:04.559Z"
   },
   {
    "duration": 26,
    "start_time": "2022-07-27T14:15:04.674Z"
   },
   {
    "duration": 130,
    "start_time": "2022-07-27T14:15:04.702Z"
   },
   {
    "duration": 3162,
    "start_time": "2022-07-27T14:15:04.834Z"
   },
   {
    "duration": 27,
    "start_time": "2022-07-27T14:15:07.998Z"
   },
   {
    "duration": 108,
    "start_time": "2022-07-27T14:15:08.026Z"
   },
   {
    "duration": 29,
    "start_time": "2022-07-27T14:15:08.136Z"
   },
   {
    "duration": 124,
    "start_time": "2022-07-27T14:15:08.166Z"
   },
   {
    "duration": 19,
    "start_time": "2022-07-27T14:15:08.291Z"
   },
   {
    "duration": 24,
    "start_time": "2022-07-27T14:15:08.312Z"
   },
   {
    "duration": 104,
    "start_time": "2022-07-27T14:15:08.337Z"
   },
   {
    "duration": 30,
    "start_time": "2022-07-27T14:15:08.442Z"
   },
   {
    "duration": 384,
    "start_time": "2022-07-27T14:15:08.473Z"
   },
   {
    "duration": 107,
    "start_time": "2022-07-27T14:15:08.859Z"
   },
   {
    "duration": 17,
    "start_time": "2022-07-27T14:15:08.968Z"
   },
   {
    "duration": 21,
    "start_time": "2022-07-27T14:15:08.987Z"
   },
   {
    "duration": 18,
    "start_time": "2022-07-27T14:15:09.010Z"
   },
   {
    "duration": 360,
    "start_time": "2022-07-27T14:15:09.030Z"
   },
   {
    "duration": 137,
    "start_time": "2022-07-27T14:15:09.397Z"
   },
   {
    "duration": 22,
    "start_time": "2022-07-27T14:15:09.535Z"
   },
   {
    "duration": 15,
    "start_time": "2022-07-27T14:15:09.559Z"
   },
   {
    "duration": 340,
    "start_time": "2022-07-27T14:15:09.576Z"
   },
   {
    "duration": 1109,
    "start_time": "2022-07-27T14:15:09.918Z"
   },
   {
    "duration": 16,
    "start_time": "2022-07-27T14:15:11.029Z"
   },
   {
    "duration": 213,
    "start_time": "2022-07-27T14:15:11.046Z"
   },
   {
    "duration": 3,
    "start_time": "2022-07-27T14:15:11.261Z"
   },
   {
    "duration": 217,
    "start_time": "2022-07-27T14:15:11.265Z"
   },
   {
    "duration": 775,
    "start_time": "2022-07-27T14:15:11.484Z"
   },
   {
    "duration": 209,
    "start_time": "2022-07-27T14:15:12.260Z"
   },
   {
    "duration": 352,
    "start_time": "2022-07-27T14:15:12.471Z"
   },
   {
    "duration": 34874,
    "start_time": "2022-07-27T14:15:12.824Z"
   },
   {
    "duration": 297,
    "start_time": "2022-07-27T14:15:47.702Z"
   },
   {
    "duration": 101,
    "start_time": "2022-07-27T14:15:48.001Z"
   },
   {
    "duration": 4,
    "start_time": "2022-07-27T14:15:48.103Z"
   },
   {
    "duration": 139192,
    "start_time": "2022-07-27T14:15:48.109Z"
   },
   {
    "duration": 11141,
    "start_time": "2022-07-27T14:18:07.303Z"
   },
   {
    "duration": 162,
    "start_time": "2022-07-27T14:18:18.445Z"
   },
   {
    "duration": 7,
    "start_time": "2022-07-27T14:18:18.699Z"
   },
   {
    "duration": 55897,
    "start_time": "2022-07-27T14:18:18.708Z"
   },
   {
    "duration": 6,
    "start_time": "2022-07-27T14:19:14.699Z"
   },
   {
    "duration": 3795,
    "start_time": "2022-07-27T14:19:50.028Z"
   },
   {
    "duration": 5796,
    "start_time": "2022-07-27T14:19:53.826Z"
   },
   {
    "duration": 389,
    "start_time": "2022-07-27T14:19:59.624Z"
   },
   {
    "duration": 6,
    "start_time": "2022-07-27T14:20:00.015Z"
   },
   {
    "duration": 79,
    "start_time": "2022-07-27T14:20:00.024Z"
   },
   {
    "duration": 19,
    "start_time": "2022-07-27T14:20:00.105Z"
   },
   {
    "duration": 74,
    "start_time": "2022-07-27T14:20:00.126Z"
   },
   {
    "duration": 23,
    "start_time": "2022-07-27T14:20:00.201Z"
   },
   {
    "duration": 12,
    "start_time": "2022-07-27T14:20:00.299Z"
   },
   {
    "duration": 1700,
    "start_time": "2022-07-27T14:20:00.313Z"
   },
   {
    "duration": 410,
    "start_time": "2022-07-27T14:20:02.015Z"
   },
   {
    "duration": 508,
    "start_time": "2022-07-27T14:20:02.500Z"
   },
   {
    "duration": 5,
    "start_time": "2022-07-27T14:20:03.010Z"
   },
   {
    "duration": 980,
    "start_time": "2022-07-27T14:20:03.018Z"
   },
   {
    "duration": 723,
    "start_time": "2022-07-27T14:20:04.000Z"
   },
   {
    "duration": 279,
    "start_time": "2022-07-27T14:20:04.724Z"
   },
   {
    "duration": 415,
    "start_time": "2022-07-27T14:20:05.004Z"
   },
   {
    "duration": 795,
    "start_time": "2022-07-27T14:20:05.420Z"
   },
   {
    "duration": 8,
    "start_time": "2022-07-27T14:20:06.217Z"
   },
   {
    "duration": 4014,
    "start_time": "2022-07-27T14:20:06.299Z"
   },
   {
    "duration": 8,
    "start_time": "2022-07-27T14:20:10.315Z"
   },
   {
    "duration": 1408,
    "start_time": "2022-07-27T14:20:10.398Z"
   },
   {
    "duration": 11,
    "start_time": "2022-07-27T14:20:11.807Z"
   },
   {
    "duration": 284,
    "start_time": "2022-07-27T14:20:11.820Z"
   },
   {
    "duration": 9,
    "start_time": "2022-07-27T14:20:12.106Z"
   },
   {
    "duration": 302,
    "start_time": "2022-07-27T14:20:12.117Z"
   },
   {
    "duration": 386,
    "start_time": "2022-07-27T14:20:12.420Z"
   },
   {
    "duration": 22501,
    "start_time": "2022-07-27T14:20:12.807Z"
   },
   {
    "duration": 1516,
    "start_time": "2022-07-27T14:20:35.310Z"
   },
   {
    "duration": 2078,
    "start_time": "2022-07-27T14:20:36.829Z"
   },
   {
    "duration": 112,
    "start_time": "2022-07-27T14:20:38.909Z"
   },
   {
    "duration": 492,
    "start_time": "2022-07-27T14:20:39.023Z"
   },
   {
    "duration": 606,
    "start_time": "2022-07-27T14:20:39.517Z"
   },
   {
    "duration": 803,
    "start_time": "2022-07-27T14:20:40.198Z"
   },
   {
    "duration": 706,
    "start_time": "2022-07-27T14:20:41.003Z"
   },
   {
    "duration": 899,
    "start_time": "2022-07-27T14:20:41.711Z"
   },
   {
    "duration": 1109,
    "start_time": "2022-07-27T14:20:42.612Z"
   },
   {
    "duration": 1088,
    "start_time": "2022-07-27T14:20:43.723Z"
   },
   {
    "duration": 1004,
    "start_time": "2022-07-27T14:20:44.813Z"
   },
   {
    "duration": 1008,
    "start_time": "2022-07-27T14:20:45.820Z"
   },
   {
    "duration": 1099,
    "start_time": "2022-07-27T14:20:46.902Z"
   },
   {
    "duration": 410,
    "start_time": "2022-07-27T14:20:48.002Z"
   },
   {
    "duration": 6,
    "start_time": "2022-07-27T14:20:48.414Z"
   },
   {
    "duration": 378,
    "start_time": "2022-07-27T14:20:48.422Z"
   },
   {
    "duration": 296,
    "start_time": "2022-07-27T14:20:48.802Z"
   },
   {
    "duration": 127,
    "start_time": "2022-07-27T14:20:49.100Z"
   },
   {
    "duration": 300,
    "start_time": "2022-07-27T14:20:49.298Z"
   },
   {
    "duration": 614,
    "start_time": "2022-07-27T14:20:49.600Z"
   },
   {
    "duration": 301,
    "start_time": "2022-07-27T14:20:50.216Z"
   },
   {
    "duration": 95,
    "start_time": "2022-07-27T14:20:50.520Z"
   },
   {
    "duration": 401,
    "start_time": "2022-07-27T14:20:50.617Z"
   },
   {
    "duration": 9095,
    "start_time": "2022-07-27T14:20:51.020Z"
   },
   {
    "duration": 97,
    "start_time": "2022-07-27T14:21:00.117Z"
   },
   {
    "duration": 310,
    "start_time": "2022-07-27T14:21:00.216Z"
   },
   {
    "duration": 115,
    "start_time": "2022-07-27T14:21:00.597Z"
   },
   {
    "duration": 396,
    "start_time": "2022-07-27T14:21:00.714Z"
   },
   {
    "duration": 87,
    "start_time": "2022-07-27T14:21:01.112Z"
   },
   {
    "duration": 23,
    "start_time": "2022-07-27T14:21:01.201Z"
   },
   {
    "duration": 304,
    "start_time": "2022-07-27T14:21:01.299Z"
   },
   {
    "duration": 102,
    "start_time": "2022-07-27T14:21:01.606Z"
   },
   {
    "duration": 1188,
    "start_time": "2022-07-27T14:21:01.710Z"
   },
   {
    "duration": 219,
    "start_time": "2022-07-27T14:21:02.901Z"
   },
   {
    "duration": 83,
    "start_time": "2022-07-27T14:21:03.122Z"
   },
   {
    "duration": 93,
    "start_time": "2022-07-27T14:21:03.207Z"
   },
   {
    "duration": 19,
    "start_time": "2022-07-27T14:21:03.302Z"
   },
   {
    "duration": 876,
    "start_time": "2022-07-27T14:21:03.323Z"
   },
   {
    "duration": 402,
    "start_time": "2022-07-27T14:21:04.201Z"
   },
   {
    "duration": 93,
    "start_time": "2022-07-27T14:21:04.605Z"
   },
   {
    "duration": 16,
    "start_time": "2022-07-27T14:21:04.700Z"
   },
   {
    "duration": 880,
    "start_time": "2022-07-27T14:21:04.718Z"
   },
   {
    "duration": 3225,
    "start_time": "2022-07-27T14:21:05.600Z"
   },
   {
    "duration": 16,
    "start_time": "2022-07-27T14:21:08.827Z"
   },
   {
    "duration": 220,
    "start_time": "2022-07-27T14:21:08.844Z"
   },
   {
    "duration": 3,
    "start_time": "2022-07-27T14:21:09.065Z"
   },
   {
    "duration": 212,
    "start_time": "2022-07-27T14:21:09.070Z"
   },
   {
    "duration": 761,
    "start_time": "2022-07-27T14:21:09.283Z"
   },
   {
    "duration": 203,
    "start_time": "2022-07-27T14:21:10.046Z"
   },
   {
    "duration": 355,
    "start_time": "2022-07-27T14:21:10.251Z"
   },
   {
    "duration": 33392,
    "start_time": "2022-07-27T14:21:10.608Z"
   },
   {
    "duration": 297,
    "start_time": "2022-07-27T14:21:44.002Z"
   },
   {
    "duration": 96,
    "start_time": "2022-07-27T14:21:44.302Z"
   },
   {
    "duration": 5,
    "start_time": "2022-07-27T14:21:44.400Z"
   },
   {
    "duration": 145599,
    "start_time": "2022-07-27T14:21:44.406Z"
   },
   {
    "duration": 10241,
    "start_time": "2022-07-27T14:24:10.007Z"
   },
   {
    "duration": 156,
    "start_time": "2022-07-27T14:24:20.249Z"
   },
   {
    "duration": 7,
    "start_time": "2022-07-27T14:24:20.500Z"
   },
   {
    "duration": 71302,
    "start_time": "2022-07-27T14:24:20.599Z"
   },
   {
    "duration": 94,
    "start_time": "2022-07-27T14:25:31.904Z"
   },
   {
    "duration": 8018,
    "start_time": "2022-07-27T14:25:55.698Z"
   },
   {
    "duration": 10396,
    "start_time": "2022-07-27T14:26:03.801Z"
   },
   {
    "duration": 706,
    "start_time": "2022-07-27T14:26:14.200Z"
   },
   {
    "duration": 7,
    "start_time": "2022-07-27T14:26:14.909Z"
   },
   {
    "duration": 9,
    "start_time": "2022-07-27T14:26:15.001Z"
   },
   {
    "duration": 89,
    "start_time": "2022-07-27T14:26:15.013Z"
   },
   {
    "duration": 9,
    "start_time": "2022-07-27T14:26:15.104Z"
   },
   {
    "duration": 84,
    "start_time": "2022-07-27T14:26:15.115Z"
   },
   {
    "duration": 8,
    "start_time": "2022-07-27T14:26:15.202Z"
   },
   {
    "duration": 2404,
    "start_time": "2022-07-27T14:26:15.213Z"
   },
   {
    "duration": 598,
    "start_time": "2022-07-27T14:26:17.619Z"
   },
   {
    "duration": 583,
    "start_time": "2022-07-27T14:26:18.219Z"
   },
   {
    "duration": 5,
    "start_time": "2022-07-27T14:26:18.804Z"
   },
   {
    "duration": 1288,
    "start_time": "2022-07-27T14:26:18.813Z"
   },
   {
    "duration": 1097,
    "start_time": "2022-07-27T14:26:20.104Z"
   },
   {
    "duration": 600,
    "start_time": "2022-07-27T14:26:21.204Z"
   },
   {
    "duration": 896,
    "start_time": "2022-07-27T14:26:21.807Z"
   },
   {
    "duration": 1197,
    "start_time": "2022-07-27T14:26:22.705Z"
   },
   {
    "duration": 9,
    "start_time": "2022-07-27T14:26:23.904Z"
   },
   {
    "duration": 5303,
    "start_time": "2022-07-27T14:26:23.915Z"
   },
   {
    "duration": 81,
    "start_time": "2022-07-27T14:26:29.220Z"
   },
   {
    "duration": 2107,
    "start_time": "2022-07-27T14:26:29.303Z"
   },
   {
    "duration": 86,
    "start_time": "2022-07-27T14:26:31.412Z"
   },
   {
    "duration": 309,
    "start_time": "2022-07-27T14:26:31.501Z"
   },
   {
    "duration": 89,
    "start_time": "2022-07-27T14:26:31.813Z"
   },
   {
    "duration": 609,
    "start_time": "2022-07-27T14:26:31.905Z"
   },
   {
    "duration": 700,
    "start_time": "2022-07-27T14:26:32.517Z"
   },
   {
    "duration": 33413,
    "start_time": "2022-07-27T14:26:33.300Z"
   },
   {
    "duration": 2385,
    "start_time": "2022-07-27T14:27:06.715Z"
   },
   {
    "duration": 3105,
    "start_time": "2022-07-27T14:27:09.102Z"
   },
   {
    "duration": 209,
    "start_time": "2022-07-27T14:27:12.210Z"
   },
   {
    "duration": 614,
    "start_time": "2022-07-27T14:27:12.499Z"
   },
   {
    "duration": 1392,
    "start_time": "2022-07-27T14:27:13.116Z"
   },
   {
    "duration": 2297,
    "start_time": "2022-07-27T14:27:14.511Z"
   },
   {
    "duration": 1594,
    "start_time": "2022-07-27T14:27:16.811Z"
   },
   {
    "duration": 1107,
    "start_time": "2022-07-27T14:27:18.409Z"
   },
   {
    "duration": 2011,
    "start_time": "2022-07-27T14:27:19.602Z"
   },
   {
    "duration": 2290,
    "start_time": "2022-07-27T14:27:21.616Z"
   },
   {
    "duration": 1396,
    "start_time": "2022-07-27T14:27:23.908Z"
   },
   {
    "duration": 1392,
    "start_time": "2022-07-27T14:27:25.306Z"
   },
   {
    "duration": 2397,
    "start_time": "2022-07-27T14:27:26.707Z"
   },
   {
    "duration": 1115,
    "start_time": "2022-07-27T14:27:29.107Z"
   },
   {
    "duration": 7,
    "start_time": "2022-07-27T14:27:30.300Z"
   },
   {
    "duration": 702,
    "start_time": "2022-07-27T14:27:30.310Z"
   },
   {
    "duration": 407,
    "start_time": "2022-07-27T14:27:31.015Z"
   },
   {
    "duration": 314,
    "start_time": "2022-07-27T14:27:31.500Z"
   },
   {
    "duration": 782,
    "start_time": "2022-07-27T14:27:31.816Z"
   },
   {
    "duration": 1209,
    "start_time": "2022-07-27T14:27:32.602Z"
   },
   {
    "duration": 805,
    "start_time": "2022-07-27T14:27:33.814Z"
   },
   {
    "duration": 91,
    "start_time": "2022-07-27T14:27:34.621Z"
   },
   {
    "duration": 700,
    "start_time": "2022-07-27T14:27:34.714Z"
   },
   {
    "duration": 15882,
    "start_time": "2022-07-27T14:27:35.417Z"
   },
   {
    "duration": 107,
    "start_time": "2022-07-27T14:27:51.301Z"
   },
   {
    "duration": 504,
    "start_time": "2022-07-27T14:27:51.410Z"
   },
   {
    "duration": 189,
    "start_time": "2022-07-27T14:27:51.916Z"
   },
   {
    "duration": 891,
    "start_time": "2022-07-27T14:27:52.108Z"
   },
   {
    "duration": 111,
    "start_time": "2022-07-27T14:27:53.001Z"
   },
   {
    "duration": 190,
    "start_time": "2022-07-27T14:27:53.114Z"
   },
   {
    "duration": 606,
    "start_time": "2022-07-27T14:27:53.306Z"
   },
   {
    "duration": 204,
    "start_time": "2022-07-27T14:27:53.914Z"
   },
   {
    "duration": 2578,
    "start_time": "2022-07-27T14:27:54.121Z"
   },
   {
    "duration": 606,
    "start_time": "2022-07-27T14:27:56.702Z"
   },
   {
    "duration": 104,
    "start_time": "2022-07-27T14:27:57.311Z"
   },
   {
    "duration": 99,
    "start_time": "2022-07-27T14:27:57.500Z"
   },
   {
    "duration": 107,
    "start_time": "2022-07-27T14:27:57.602Z"
   },
   {
    "duration": 1587,
    "start_time": "2022-07-27T14:27:57.712Z"
   },
   {
    "duration": 596,
    "start_time": "2022-07-27T14:27:59.302Z"
   },
   {
    "duration": 105,
    "start_time": "2022-07-27T14:27:59.900Z"
   },
   {
    "duration": 101,
    "start_time": "2022-07-27T14:28:00.008Z"
   },
   {
    "duration": 1493,
    "start_time": "2022-07-27T14:28:00.112Z"
   },
   {
    "duration": 6807,
    "start_time": "2022-07-27T14:28:01.607Z"
   },
   {
    "duration": 190,
    "start_time": "2022-07-27T14:28:08.417Z"
   },
   {
    "duration": 1688,
    "start_time": "2022-07-27T14:28:08.610Z"
   },
   {
    "duration": 4,
    "start_time": "2022-07-27T14:28:10.301Z"
   },
   {
    "duration": 1608,
    "start_time": "2022-07-27T14:28:10.308Z"
   },
   {
    "duration": 4879,
    "start_time": "2022-07-27T14:28:11.919Z"
   },
   {
    "duration": 1400,
    "start_time": "2022-07-27T14:28:16.801Z"
   },
   {
    "duration": 1800,
    "start_time": "2022-07-27T14:28:18.203Z"
   },
   {
    "duration": 55,
    "start_time": "2022-07-29T11:53:43.569Z"
   },
   {
    "duration": 1870,
    "start_time": "2022-07-29T11:57:15.280Z"
   },
   {
    "duration": 1157,
    "start_time": "2022-07-29T11:57:17.152Z"
   },
   {
    "duration": 127,
    "start_time": "2022-07-29T11:57:18.311Z"
   },
   {
    "duration": 4,
    "start_time": "2022-07-29T11:57:18.440Z"
   },
   {
    "duration": 18,
    "start_time": "2022-07-29T11:57:18.446Z"
   },
   {
    "duration": 11,
    "start_time": "2022-07-29T11:57:18.466Z"
   },
   {
    "duration": 10,
    "start_time": "2022-07-29T11:57:18.479Z"
   },
   {
    "duration": 6,
    "start_time": "2022-07-29T11:57:18.491Z"
   },
   {
    "duration": 13,
    "start_time": "2022-07-29T11:57:18.498Z"
   },
   {
    "duration": 597,
    "start_time": "2022-07-29T11:57:18.515Z"
   },
   {
    "duration": 181,
    "start_time": "2022-07-29T11:57:19.115Z"
   },
   {
    "duration": 163,
    "start_time": "2022-07-29T11:57:19.298Z"
   },
   {
    "duration": 4,
    "start_time": "2022-07-29T11:57:19.463Z"
   },
   {
    "duration": 303,
    "start_time": "2022-07-29T11:57:19.468Z"
   },
   {
    "duration": 223,
    "start_time": "2022-07-29T11:57:19.773Z"
   },
   {
    "duration": 95,
    "start_time": "2022-07-29T11:57:19.998Z"
   },
   {
    "duration": 149,
    "start_time": "2022-07-29T11:57:20.095Z"
   },
   {
    "duration": 288,
    "start_time": "2022-07-29T11:57:20.245Z"
   },
   {
    "duration": 8,
    "start_time": "2022-07-29T11:57:20.535Z"
   },
   {
    "duration": 1194,
    "start_time": "2022-07-29T11:57:20.545Z"
   },
   {
    "duration": 7,
    "start_time": "2022-07-29T11:57:21.741Z"
   },
   {
    "duration": 443,
    "start_time": "2022-07-29T11:57:21.760Z"
   },
   {
    "duration": 9,
    "start_time": "2022-07-29T11:57:22.205Z"
   },
   {
    "duration": 74,
    "start_time": "2022-07-29T11:57:22.216Z"
   },
   {
    "duration": 8,
    "start_time": "2022-07-29T11:57:22.291Z"
   },
   {
    "duration": 99,
    "start_time": "2022-07-29T11:57:22.300Z"
   },
   {
    "duration": 115,
    "start_time": "2022-07-29T11:57:22.400Z"
   },
   {
    "duration": 7453,
    "start_time": "2022-07-29T11:57:22.518Z"
   },
   {
    "duration": 495,
    "start_time": "2022-07-29T11:57:29.973Z"
   },
   {
    "duration": 627,
    "start_time": "2022-07-29T11:57:30.470Z"
   },
   {
    "duration": 32,
    "start_time": "2022-07-29T12:11:41.758Z"
   },
   {
    "duration": 113,
    "start_time": "2022-07-29T12:12:23.071Z"
   },
   {
    "duration": 35,
    "start_time": "2022-07-29T12:12:32.897Z"
   },
   {
    "duration": 31,
    "start_time": "2022-07-29T12:12:36.702Z"
   },
   {
    "duration": 9,
    "start_time": "2022-07-29T12:12:46.957Z"
   },
   {
    "duration": 26,
    "start_time": "2022-07-29T12:12:49.473Z"
   },
   {
    "duration": 27,
    "start_time": "2022-07-29T12:13:05.620Z"
   },
   {
    "duration": 26,
    "start_time": "2022-07-29T12:13:08.105Z"
   },
   {
    "duration": 30,
    "start_time": "2022-07-29T12:13:26.060Z"
   },
   {
    "duration": 38,
    "start_time": "2022-07-29T12:13:28.049Z"
   },
   {
    "duration": 26,
    "start_time": "2022-07-29T12:13:56.977Z"
   },
   {
    "duration": 21,
    "start_time": "2022-07-29T12:14:03.083Z"
   },
   {
    "duration": 37,
    "start_time": "2022-07-29T12:14:13.687Z"
   },
   {
    "duration": 34,
    "start_time": "2022-07-29T12:14:16.061Z"
   },
   {
    "duration": 68,
    "start_time": "2022-07-29T12:14:19.267Z"
   },
   {
    "duration": 22,
    "start_time": "2022-07-29T12:14:21.500Z"
   },
   {
    "duration": 28,
    "start_time": "2022-07-29T12:14:28.157Z"
   },
   {
    "duration": 35,
    "start_time": "2022-07-29T12:14:38.418Z"
   },
   {
    "duration": 14,
    "start_time": "2022-07-29T12:15:01.337Z"
   },
   {
    "duration": 401,
    "start_time": "2022-07-29T12:15:04.429Z"
   },
   {
    "duration": 49,
    "start_time": "2022-07-29T12:17:45.560Z"
   },
   {
    "duration": 40,
    "start_time": "2022-07-29T12:18:02.584Z"
   },
   {
    "duration": 49,
    "start_time": "2022-07-29T12:18:07.417Z"
   },
   {
    "duration": 34,
    "start_time": "2022-07-29T12:18:09.285Z"
   },
   {
    "duration": 36,
    "start_time": "2022-07-29T12:18:19.065Z"
   },
   {
    "duration": 287,
    "start_time": "2022-07-29T12:18:28.264Z"
   },
   {
    "duration": 39,
    "start_time": "2022-07-29T12:19:55.045Z"
   },
   {
    "duration": 155,
    "start_time": "2022-07-29T12:19:58.711Z"
   },
   {
    "duration": 197,
    "start_time": "2022-07-29T12:19:59.610Z"
   },
   {
    "duration": 255,
    "start_time": "2022-07-29T12:20:00.766Z"
   },
   {
    "duration": 247,
    "start_time": "2022-07-29T12:20:03.562Z"
   },
   {
    "duration": 337,
    "start_time": "2022-07-29T12:20:04.597Z"
   },
   {
    "duration": 427,
    "start_time": "2022-07-29T12:20:06.081Z"
   },
   {
    "duration": 315,
    "start_time": "2022-07-29T12:20:08.477Z"
   },
   {
    "duration": 331,
    "start_time": "2022-07-29T12:20:09.644Z"
   },
   {
    "duration": 323,
    "start_time": "2022-07-29T12:20:11.813Z"
   },
   {
    "duration": 182,
    "start_time": "2022-07-29T12:20:14.914Z"
   },
   {
    "duration": 6,
    "start_time": "2022-07-29T12:20:17.021Z"
   },
   {
    "duration": 105,
    "start_time": "2022-07-29T12:20:18.558Z"
   },
   {
    "duration": 98,
    "start_time": "2022-07-29T12:20:18.816Z"
   },
   {
    "duration": 63,
    "start_time": "2022-07-29T12:20:19.140Z"
   },
   {
    "duration": 106,
    "start_time": "2022-07-29T12:20:20.074Z"
   },
   {
    "duration": 205,
    "start_time": "2022-07-29T12:20:20.781Z"
   },
   {
    "duration": 123,
    "start_time": "2022-07-29T12:20:21.217Z"
   },
   {
    "duration": 23,
    "start_time": "2022-07-29T12:20:22.156Z"
   },
   {
    "duration": 133,
    "start_time": "2022-07-29T12:20:22.481Z"
   },
   {
    "duration": 3012,
    "start_time": "2022-07-29T12:20:25.584Z"
   },
   {
    "duration": 27,
    "start_time": "2022-07-29T12:20:28.598Z"
   },
   {
    "duration": 116,
    "start_time": "2022-07-29T12:20:29.911Z"
   },
   {
    "duration": 31,
    "start_time": "2022-07-29T12:20:30.795Z"
   },
   {
    "duration": 134,
    "start_time": "2022-07-29T12:20:31.416Z"
   },
   {
    "duration": 18,
    "start_time": "2022-07-29T12:20:32.539Z"
   },
   {
    "duration": 27,
    "start_time": "2022-07-29T12:20:32.861Z"
   },
   {
    "duration": 120,
    "start_time": "2022-07-29T12:20:33.315Z"
   },
   {
    "duration": 48,
    "start_time": "2022-07-29T12:20:34.946Z"
   },
   {
    "duration": 444,
    "start_time": "2022-07-29T12:20:36.059Z"
   },
   {
    "duration": 93,
    "start_time": "2022-07-29T12:20:38.780Z"
   },
   {
    "duration": 19,
    "start_time": "2022-07-29T12:20:40.148Z"
   },
   {
    "duration": 14,
    "start_time": "2022-07-29T12:20:42.756Z"
   },
   {
    "duration": 19,
    "start_time": "2022-07-29T12:20:43.245Z"
   },
   {
    "duration": 364,
    "start_time": "2022-07-29T12:20:44.941Z"
   },
   {
    "duration": 154,
    "start_time": "2022-07-29T12:20:46.956Z"
   },
   {
    "duration": 25,
    "start_time": "2022-07-29T12:20:48.649Z"
   },
   {
    "duration": 14,
    "start_time": "2022-07-29T12:20:50.077Z"
   },
   {
    "duration": 317,
    "start_time": "2022-07-29T12:20:51.470Z"
   },
   {
    "duration": 1124,
    "start_time": "2022-07-29T12:20:53.520Z"
   },
   {
    "duration": 17,
    "start_time": "2022-07-29T12:20:54.646Z"
   },
   {
    "duration": 3,
    "start_time": "2022-07-29T12:26:15.276Z"
   },
   {
    "duration": 3,
    "start_time": "2022-07-29T12:26:21.399Z"
   },
   {
    "duration": 3,
    "start_time": "2022-07-29T12:26:23.712Z"
   },
   {
    "duration": 52,
    "start_time": "2022-07-29T12:26:25.592Z"
   },
   {
    "duration": 10,
    "start_time": "2022-07-29T12:26:29.247Z"
   },
   {
    "duration": 49,
    "start_time": "2022-07-29T12:26:31.590Z"
   },
   {
    "duration": 58,
    "start_time": "2022-07-29T12:26:54.052Z"
   },
   {
    "duration": 68,
    "start_time": "2022-07-29T12:27:05.357Z"
   },
   {
    "duration": 4,
    "start_time": "2022-07-29T12:27:11.888Z"
   },
   {
    "duration": 94,
    "start_time": "2022-07-29T12:27:15.011Z"
   },
   {
    "duration": 3,
    "start_time": "2022-07-29T12:27:17.015Z"
   },
   {
    "duration": 3,
    "start_time": "2022-07-29T12:29:44.673Z"
   },
   {
    "duration": 69,
    "start_time": "2022-07-29T12:29:48.516Z"
   },
   {
    "duration": 3,
    "start_time": "2022-07-29T12:29:51.246Z"
   },
   {
    "duration": 3,
    "start_time": "2022-07-29T12:29:54.719Z"
   },
   {
    "duration": 4,
    "start_time": "2022-07-29T12:31:51.281Z"
   },
   {
    "duration": 3,
    "start_time": "2022-07-29T12:31:53.142Z"
   },
   {
    "duration": 9,
    "start_time": "2022-07-29T12:34:08.496Z"
   },
   {
    "duration": 5,
    "start_time": "2022-07-29T12:34:44.446Z"
   },
   {
    "duration": 945,
    "start_time": "2022-07-29T12:34:50.511Z"
   },
   {
    "duration": 18,
    "start_time": "2022-07-29T12:34:53.111Z"
   },
   {
    "duration": 133,
    "start_time": "2022-07-29T12:35:12.055Z"
   },
   {
    "duration": 214,
    "start_time": "2022-07-29T12:38:02.243Z"
   },
   {
    "duration": 2,
    "start_time": "2022-07-29T12:38:03.482Z"
   },
   {
    "duration": 230,
    "start_time": "2022-07-29T12:38:03.822Z"
   },
   {
    "duration": 799,
    "start_time": "2022-07-29T12:38:04.558Z"
   },
   {
    "duration": 250,
    "start_time": "2022-07-29T12:38:05.360Z"
   },
   {
    "duration": 57,
    "start_time": "2022-07-29T12:38:07.894Z"
   },
   {
    "duration": 120,
    "start_time": "2022-07-29T12:38:08.650Z"
   },
   {
    "duration": 327,
    "start_time": "2022-07-29T12:38:14.875Z"
   },
   {
    "duration": 90812,
    "start_time": "2022-07-29T12:38:17.153Z"
   },
   {
    "duration": 3,
    "start_time": "2022-07-29T12:55:47.381Z"
   },
   {
    "duration": 638,
    "start_time": "2022-07-29T12:55:52.327Z"
   },
   {
    "duration": 177,
    "start_time": "2022-07-29T12:55:57.194Z"
   },
   {
    "duration": 6,
    "start_time": "2022-07-29T12:55:58.115Z"
   },
   {
    "duration": 4,
    "start_time": "2022-07-29T12:56:16.924Z"
   },
   {
    "duration": 4,
    "start_time": "2022-07-29T12:56:22.215Z"
   },
   {
    "duration": 372827,
    "start_time": "2022-07-29T12:56:25.754Z"
   },
   {
    "duration": 14249,
    "start_time": "2022-07-29T13:46:49.075Z"
   },
   {
    "duration": 569,
    "start_time": "2022-07-29T13:47:09.001Z"
   },
   {
    "duration": 221,
    "start_time": "2022-07-29T13:47:10.742Z"
   },
   {
    "duration": 4,
    "start_time": "2022-07-29T13:47:12.277Z"
   },
   {
    "duration": 6,
    "start_time": "2022-07-29T13:47:13.202Z"
   },
   {
    "duration": 56264,
    "start_time": "2022-07-29T13:47:14.119Z"
   },
   {
    "duration": 122,
    "start_time": "2022-07-29T13:48:31.383Z"
   },
   {
    "duration": 50,
    "start_time": "2022-07-29T13:50:31.383Z"
   },
   {
    "duration": 62,
    "start_time": "2022-07-29T13:50:56.051Z"
   },
   {
    "duration": 1551,
    "start_time": "2022-07-29T13:52:22.236Z"
   },
   {
    "duration": 830,
    "start_time": "2022-07-29T13:52:23.789Z"
   },
   {
    "duration": 152,
    "start_time": "2022-07-29T13:52:24.621Z"
   },
   {
    "duration": 5,
    "start_time": "2022-07-29T13:52:24.775Z"
   },
   {
    "duration": 13,
    "start_time": "2022-07-29T13:52:24.781Z"
   },
   {
    "duration": 12,
    "start_time": "2022-07-29T13:52:24.795Z"
   },
   {
    "duration": 7,
    "start_time": "2022-07-29T13:52:24.809Z"
   },
   {
    "duration": 7,
    "start_time": "2022-07-29T13:52:24.818Z"
   },
   {
    "duration": 8,
    "start_time": "2022-07-29T13:52:24.827Z"
   },
   {
    "duration": 671,
    "start_time": "2022-07-29T13:52:24.866Z"
   },
   {
    "duration": 182,
    "start_time": "2022-07-29T13:52:25.538Z"
   },
   {
    "duration": 173,
    "start_time": "2022-07-29T13:52:25.722Z"
   },
   {
    "duration": 4,
    "start_time": "2022-07-29T13:52:25.896Z"
   },
   {
    "duration": 309,
    "start_time": "2022-07-29T13:52:25.901Z"
   },
   {
    "duration": 272,
    "start_time": "2022-07-29T13:52:26.213Z"
   },
   {
    "duration": 97,
    "start_time": "2022-07-29T13:52:26.487Z"
   },
   {
    "duration": 144,
    "start_time": "2022-07-29T13:52:26.585Z"
   },
   {
    "duration": 275,
    "start_time": "2022-07-29T13:52:26.730Z"
   },
   {
    "duration": 7,
    "start_time": "2022-07-29T13:52:27.007Z"
   },
   {
    "duration": 1184,
    "start_time": "2022-07-29T13:52:27.016Z"
   },
   {
    "duration": 7,
    "start_time": "2022-07-29T13:52:28.201Z"
   },
   {
    "duration": 461,
    "start_time": "2022-07-29T13:52:28.209Z"
   },
   {
    "duration": 10,
    "start_time": "2022-07-29T13:52:28.676Z"
   },
   {
    "duration": 61,
    "start_time": "2022-07-29T13:52:28.688Z"
   },
   {
    "duration": 24,
    "start_time": "2022-07-29T13:52:28.751Z"
   },
   {
    "duration": 109,
    "start_time": "2022-07-29T13:52:28.777Z"
   },
   {
    "duration": 112,
    "start_time": "2022-07-29T13:52:28.888Z"
   },
   {
    "duration": 7532,
    "start_time": "2022-07-29T13:52:29.004Z"
   },
   {
    "duration": 508,
    "start_time": "2022-07-29T13:52:36.538Z"
   },
   {
    "duration": 628,
    "start_time": "2022-07-29T13:52:37.048Z"
   },
   {
    "duration": 281,
    "start_time": "2022-07-29T13:52:37.677Z"
   },
   {
    "duration": 30,
    "start_time": "2022-07-29T13:52:37.961Z"
   },
   {
    "duration": 299,
    "start_time": "2022-07-29T13:52:37.992Z"
   },
   {
    "duration": 38,
    "start_time": "2022-07-29T13:52:38.293Z"
   },
   {
    "duration": 173,
    "start_time": "2022-07-29T13:52:38.332Z"
   },
   {
    "duration": 217,
    "start_time": "2022-07-29T13:52:38.506Z"
   },
   {
    "duration": 312,
    "start_time": "2022-07-29T13:52:38.725Z"
   },
   {
    "duration": 247,
    "start_time": "2022-07-29T13:52:39.039Z"
   },
   {
    "duration": 286,
    "start_time": "2022-07-29T13:52:39.287Z"
   },
   {
    "duration": 366,
    "start_time": "2022-07-29T13:52:39.574Z"
   },
   {
    "duration": 335,
    "start_time": "2022-07-29T13:52:39.942Z"
   },
   {
    "duration": 324,
    "start_time": "2022-07-29T13:52:40.278Z"
   },
   {
    "duration": 316,
    "start_time": "2022-07-29T13:52:40.604Z"
   },
   {
    "duration": 327,
    "start_time": "2022-07-29T13:52:40.922Z"
   },
   {
    "duration": 167,
    "start_time": "2022-07-29T13:52:41.251Z"
   },
   {
    "duration": 5,
    "start_time": "2022-07-29T13:52:41.419Z"
   },
   {
    "duration": 115,
    "start_time": "2022-07-29T13:52:41.425Z"
   },
   {
    "duration": 97,
    "start_time": "2022-07-29T13:52:41.542Z"
   },
   {
    "duration": 70,
    "start_time": "2022-07-29T13:52:41.641Z"
   },
   {
    "duration": 122,
    "start_time": "2022-07-29T13:52:41.713Z"
   },
   {
    "duration": 211,
    "start_time": "2022-07-29T13:52:41.837Z"
   },
   {
    "duration": 133,
    "start_time": "2022-07-29T13:52:42.062Z"
   },
   {
    "duration": 19,
    "start_time": "2022-07-29T13:52:42.197Z"
   },
   {
    "duration": 120,
    "start_time": "2022-07-29T13:52:42.218Z"
   },
   {
    "duration": 2967,
    "start_time": "2022-07-29T13:52:42.340Z"
   },
   {
    "duration": 30,
    "start_time": "2022-07-29T13:52:45.309Z"
   },
   {
    "duration": 144,
    "start_time": "2022-07-29T13:52:45.341Z"
   },
   {
    "duration": 32,
    "start_time": "2022-07-29T13:52:45.487Z"
   },
   {
    "duration": 175,
    "start_time": "2022-07-29T13:52:45.521Z"
   },
   {
    "duration": 20,
    "start_time": "2022-07-29T13:52:45.697Z"
   },
   {
    "duration": 48,
    "start_time": "2022-07-29T13:52:45.721Z"
   },
   {
    "duration": 123,
    "start_time": "2022-07-29T13:52:45.771Z"
   },
   {
    "duration": 36,
    "start_time": "2022-07-29T13:52:45.895Z"
   },
   {
    "duration": 449,
    "start_time": "2022-07-29T13:52:45.933Z"
   },
   {
    "duration": 96,
    "start_time": "2022-07-29T13:52:46.384Z"
   },
   {
    "duration": 22,
    "start_time": "2022-07-29T13:52:46.482Z"
   },
   {
    "duration": 31,
    "start_time": "2022-07-29T13:52:46.506Z"
   },
   {
    "duration": 24,
    "start_time": "2022-07-29T13:52:46.539Z"
   },
   {
    "duration": 410,
    "start_time": "2022-07-29T13:52:46.565Z"
   },
   {
    "duration": 148,
    "start_time": "2022-07-29T13:52:46.977Z"
   },
   {
    "duration": 21,
    "start_time": "2022-07-29T13:52:47.127Z"
   },
   {
    "duration": 26,
    "start_time": "2022-07-29T13:52:47.150Z"
   },
   {
    "duration": 362,
    "start_time": "2022-07-29T13:52:47.178Z"
   },
   {
    "duration": 1009,
    "start_time": "2022-07-29T13:52:47.542Z"
   },
   {
    "duration": 29,
    "start_time": "2022-07-29T13:52:48.552Z"
   },
   {
    "duration": 122,
    "start_time": "2022-07-29T13:52:48.582Z"
   },
   {
    "duration": 156,
    "start_time": "2022-07-29T13:52:53.449Z"
   },
   {
    "duration": 218,
    "start_time": "2022-07-29T13:58:30.619Z"
   },
   {
    "duration": 227,
    "start_time": "2022-07-29T13:58:44.332Z"
   },
   {
    "duration": 213,
    "start_time": "2022-07-29T13:59:58.215Z"
   },
   {
    "duration": 3,
    "start_time": "2022-07-29T14:02:04.239Z"
   },
   {
    "duration": 35,
    "start_time": "2022-07-29T14:02:41.586Z"
   },
   {
    "duration": 866,
    "start_time": "2022-07-29T14:02:56.375Z"
   },
   {
    "duration": 14,
    "start_time": "2022-07-29T14:02:57.576Z"
   },
   {
    "duration": 1918,
    "start_time": "2022-07-29T14:09:23.892Z"
   },
   {
    "duration": 4,
    "start_time": "2022-07-29T14:09:41.182Z"
   },
   {
    "duration": 1850,
    "start_time": "2022-07-29T14:09:55.507Z"
   },
   {
    "duration": 1875,
    "start_time": "2022-07-29T14:10:23.857Z"
   },
   {
    "duration": 1862,
    "start_time": "2022-07-29T14:10:34.992Z"
   },
   {
    "duration": 1892,
    "start_time": "2022-07-29T14:10:43.594Z"
   },
   {
    "duration": 17,
    "start_time": "2022-07-29T14:10:47.773Z"
   },
   {
    "duration": 130,
    "start_time": "2022-07-29T14:10:52.036Z"
   },
   {
    "duration": 1511,
    "start_time": "2022-07-29T14:11:10.143Z"
   },
   {
    "duration": 839,
    "start_time": "2022-07-29T14:11:11.656Z"
   },
   {
    "duration": 135,
    "start_time": "2022-07-29T14:11:12.497Z"
   },
   {
    "duration": 4,
    "start_time": "2022-07-29T14:11:12.634Z"
   },
   {
    "duration": 10,
    "start_time": "2022-07-29T14:11:12.640Z"
   },
   {
    "duration": 23,
    "start_time": "2022-07-29T14:11:12.661Z"
   },
   {
    "duration": 19,
    "start_time": "2022-07-29T14:11:12.685Z"
   },
   {
    "duration": 10,
    "start_time": "2022-07-29T14:11:12.705Z"
   },
   {
    "duration": 13,
    "start_time": "2022-07-29T14:11:12.716Z"
   },
   {
    "duration": 638,
    "start_time": "2022-07-29T14:11:12.732Z"
   },
   {
    "duration": 166,
    "start_time": "2022-07-29T14:11:13.374Z"
   },
   {
    "duration": 182,
    "start_time": "2022-07-29T14:11:13.542Z"
   },
   {
    "duration": 3,
    "start_time": "2022-07-29T14:11:13.726Z"
   },
   {
    "duration": 325,
    "start_time": "2022-07-29T14:11:13.731Z"
   },
   {
    "duration": 237,
    "start_time": "2022-07-29T14:11:14.062Z"
   },
   {
    "duration": 96,
    "start_time": "2022-07-29T14:11:14.301Z"
   },
   {
    "duration": 155,
    "start_time": "2022-07-29T14:11:14.398Z"
   },
   {
    "duration": 299,
    "start_time": "2022-07-29T14:11:14.554Z"
   },
   {
    "duration": 20,
    "start_time": "2022-07-29T14:11:14.854Z"
   },
   {
    "duration": 1218,
    "start_time": "2022-07-29T14:11:14.875Z"
   },
   {
    "duration": 7,
    "start_time": "2022-07-29T14:11:16.095Z"
   },
   {
    "duration": 526,
    "start_time": "2022-07-29T14:11:16.104Z"
   },
   {
    "duration": 13,
    "start_time": "2022-07-29T14:11:16.632Z"
   },
   {
    "duration": 79,
    "start_time": "2022-07-29T14:11:16.647Z"
   },
   {
    "duration": 8,
    "start_time": "2022-07-29T14:11:16.728Z"
   },
   {
    "duration": 113,
    "start_time": "2022-07-29T14:11:16.737Z"
   },
   {
    "duration": 121,
    "start_time": "2022-07-29T14:11:16.851Z"
   },
   {
    "duration": 7218,
    "start_time": "2022-07-29T14:11:16.977Z"
   },
   {
    "duration": 527,
    "start_time": "2022-07-29T14:11:24.196Z"
   },
   {
    "duration": 682,
    "start_time": "2022-07-29T14:11:24.725Z"
   },
   {
    "duration": 313,
    "start_time": "2022-07-29T14:11:25.408Z"
   },
   {
    "duration": 22,
    "start_time": "2022-07-29T14:11:25.723Z"
   },
   {
    "duration": 310,
    "start_time": "2022-07-29T14:11:25.746Z"
   },
   {
    "duration": 53,
    "start_time": "2022-07-29T14:11:26.058Z"
   },
   {
    "duration": 190,
    "start_time": "2022-07-29T14:11:26.113Z"
   },
   {
    "duration": 274,
    "start_time": "2022-07-29T14:11:26.305Z"
   },
   {
    "duration": 307,
    "start_time": "2022-07-29T14:11:26.581Z"
   },
   {
    "duration": 291,
    "start_time": "2022-07-29T14:11:26.890Z"
   },
   {
    "duration": 310,
    "start_time": "2022-07-29T14:11:27.183Z"
   },
   {
    "duration": 382,
    "start_time": "2022-07-29T14:11:27.494Z"
   },
   {
    "duration": 340,
    "start_time": "2022-07-29T14:11:27.878Z"
   },
   {
    "duration": 357,
    "start_time": "2022-07-29T14:11:28.220Z"
   },
   {
    "duration": 346,
    "start_time": "2022-07-29T14:11:28.579Z"
   },
   {
    "duration": 331,
    "start_time": "2022-07-29T14:11:28.926Z"
   },
   {
    "duration": 167,
    "start_time": "2022-07-29T14:11:29.258Z"
   },
   {
    "duration": 4,
    "start_time": "2022-07-29T14:11:29.427Z"
   },
   {
    "duration": 137,
    "start_time": "2022-07-29T14:11:29.433Z"
   },
   {
    "duration": 89,
    "start_time": "2022-07-29T14:11:29.573Z"
   },
   {
    "duration": 61,
    "start_time": "2022-07-29T14:11:29.663Z"
   },
   {
    "duration": 116,
    "start_time": "2022-07-29T14:11:29.726Z"
   },
   {
    "duration": 208,
    "start_time": "2022-07-29T14:11:29.843Z"
   },
   {
    "duration": 140,
    "start_time": "2022-07-29T14:11:30.053Z"
   },
   {
    "duration": 17,
    "start_time": "2022-07-29T14:11:30.194Z"
   },
   {
    "duration": 141,
    "start_time": "2022-07-29T14:11:30.213Z"
   },
   {
    "duration": 3009,
    "start_time": "2022-07-29T14:11:30.356Z"
   },
   {
    "duration": 27,
    "start_time": "2022-07-29T14:11:33.373Z"
   },
   {
    "duration": 119,
    "start_time": "2022-07-29T14:11:33.402Z"
   },
   {
    "duration": 50,
    "start_time": "2022-07-29T14:11:33.522Z"
   },
   {
    "duration": 133,
    "start_time": "2022-07-29T14:11:33.574Z"
   },
   {
    "duration": 19,
    "start_time": "2022-07-29T14:11:33.708Z"
   },
   {
    "duration": 44,
    "start_time": "2022-07-29T14:11:33.729Z"
   },
   {
    "duration": 101,
    "start_time": "2022-07-29T14:11:33.775Z"
   },
   {
    "duration": 33,
    "start_time": "2022-07-29T14:11:33.878Z"
   },
   {
    "duration": 383,
    "start_time": "2022-07-29T14:11:33.913Z"
   },
   {
    "duration": 98,
    "start_time": "2022-07-29T14:11:34.297Z"
   },
   {
    "duration": 19,
    "start_time": "2022-07-29T14:11:34.397Z"
   },
   {
    "duration": 13,
    "start_time": "2022-07-29T14:11:34.418Z"
   },
   {
    "duration": 43,
    "start_time": "2022-07-29T14:11:34.433Z"
   },
   {
    "duration": 353,
    "start_time": "2022-07-29T14:11:34.479Z"
   },
   {
    "duration": 155,
    "start_time": "2022-07-29T14:11:34.834Z"
   },
   {
    "duration": 23,
    "start_time": "2022-07-29T14:11:34.991Z"
   },
   {
    "duration": 14,
    "start_time": "2022-07-29T14:11:35.016Z"
   },
   {
    "duration": 350,
    "start_time": "2022-07-29T14:11:35.032Z"
   },
   {
    "duration": 1116,
    "start_time": "2022-07-29T14:11:35.384Z"
   },
   {
    "duration": 19,
    "start_time": "2022-07-29T14:11:36.502Z"
   },
   {
    "duration": 3,
    "start_time": "2022-07-29T14:11:36.523Z"
   },
   {
    "duration": 1881,
    "start_time": "2022-07-29T14:11:36.528Z"
   },
   {
    "duration": 16,
    "start_time": "2022-07-29T14:11:38.411Z"
   },
   {
    "duration": 141,
    "start_time": "2022-07-29T14:11:38.429Z"
   },
   {
    "duration": 226,
    "start_time": "2022-07-29T14:11:38.572Z"
   },
   {
    "duration": 3,
    "start_time": "2022-07-29T14:11:38.800Z"
   },
   {
    "duration": 238,
    "start_time": "2022-07-29T14:11:38.809Z"
   },
   {
    "duration": 769,
    "start_time": "2022-07-29T14:11:39.048Z"
   },
   {
    "duration": 224,
    "start_time": "2022-07-29T14:11:39.819Z"
   },
   {
    "duration": 92,
    "start_time": "2022-07-29T14:11:40.044Z"
   },
   {
    "duration": 234,
    "start_time": "2022-07-29T14:11:40.138Z"
   },
   {
    "duration": 320,
    "start_time": "2022-07-29T14:11:40.378Z"
   },
   {
    "duration": 70668,
    "start_time": "2022-07-29T14:11:40.700Z"
   },
   {
    "duration": 4,
    "start_time": "2022-07-29T14:12:51.371Z"
   },
   {
    "duration": 713,
    "start_time": "2022-07-29T14:12:51.462Z"
   },
   {
    "duration": 294,
    "start_time": "2022-07-29T14:12:52.182Z"
   },
   {
    "duration": 14,
    "start_time": "2022-07-29T14:12:52.561Z"
   },
   {
    "duration": 11,
    "start_time": "2022-07-29T14:12:52.579Z"
   },
   {
    "duration": 78,
    "start_time": "2022-07-29T14:12:52.592Z"
   },
   {
    "duration": 317195,
    "start_time": "2022-07-29T14:12:52.673Z"
   },
   {
    "duration": 13425,
    "start_time": "2022-07-29T14:18:09.871Z"
   },
   {
    "duration": 580,
    "start_time": "2022-07-29T14:18:23.298Z"
   },
   {
    "duration": 290,
    "start_time": "2022-07-29T14:18:23.881Z"
   },
   {
    "duration": 6,
    "start_time": "2022-07-29T14:18:24.176Z"
   },
   {
    "duration": 99,
    "start_time": "2022-07-29T14:18:24.184Z"
   },
   {
    "duration": 61985,
    "start_time": "2022-07-29T14:18:24.285Z"
   },
   {
    "duration": 5,
    "start_time": "2022-07-29T14:22:31.954Z"
   },
   {
    "duration": 62627,
    "start_time": "2022-07-29T14:22:39.149Z"
   },
   {
    "duration": 5,
    "start_time": "2022-07-29T14:24:04.607Z"
   },
   {
    "duration": 14355,
    "start_time": "2022-07-29T14:24:10.891Z"
   },
   {
    "duration": 1206,
    "start_time": "2022-07-29T14:24:29.244Z"
   },
   {
    "duration": 41,
    "start_time": "2022-07-29T14:24:33.198Z"
   },
   {
    "duration": 1264,
    "start_time": "2022-07-29T14:24:42.628Z"
   },
   {
    "duration": 4,
    "start_time": "2022-07-29T14:24:48.373Z"
   },
   {
    "duration": 6,
    "start_time": "2022-07-29T14:24:50.290Z"
   },
   {
    "duration": 5,
    "start_time": "2022-07-29T14:24:57.302Z"
   },
   {
    "duration": 427308,
    "start_time": "2022-07-29T14:25:01.976Z"
   },
   {
    "duration": 785,
    "start_time": "2022-07-29T14:32:09.286Z"
   },
   {
    "duration": 18,
    "start_time": "2022-07-29T14:32:10.073Z"
   },
   {
    "duration": 783,
    "start_time": "2022-07-29T14:32:10.093Z"
   },
   {
    "duration": 5,
    "start_time": "2022-07-29T14:32:10.877Z"
   },
   {
    "duration": 9,
    "start_time": "2022-07-29T14:32:10.883Z"
   },
   {
    "duration": 4,
    "start_time": "2022-07-29T14:34:49.207Z"
   },
   {
    "duration": 8796,
    "start_time": "2022-07-29T14:35:33.990Z"
   },
   {
    "duration": 10476,
    "start_time": "2022-07-29T14:35:45.653Z"
   },
   {
    "duration": 3,
    "start_time": "2022-07-29T14:35:56.131Z"
   },
   {
    "duration": 47,
    "start_time": "2022-07-29T14:35:56.829Z"
   },
   {
    "duration": 5,
    "start_time": "2022-07-29T14:35:57.697Z"
   },
   {
    "duration": 4,
    "start_time": "2022-07-29T14:36:02.047Z"
   },
   {
    "duration": 157863,
    "start_time": "2022-07-29T14:36:03.018Z"
   },
   {
    "duration": 3,
    "start_time": "2022-07-29T14:38:40.883Z"
   },
   {
    "duration": 3,
    "start_time": "2022-07-29T14:41:25.221Z"
   },
   {
    "duration": 3880,
    "start_time": "2022-07-29T14:41:26.598Z"
   },
   {
    "duration": 13199,
    "start_time": "2022-07-29T14:41:31.681Z"
   },
   {
    "duration": 4,
    "start_time": "2022-07-29T14:41:46.412Z"
   },
   {
    "duration": 536,
    "start_time": "2022-07-29T14:41:47.252Z"
   },
   {
    "duration": 4,
    "start_time": "2022-07-29T14:41:49.352Z"
   },
   {
    "duration": 18,
    "start_time": "2022-07-29T14:41:51.880Z"
   },
   {
    "duration": 1493,
    "start_time": "2022-07-29T14:43:20.641Z"
   },
   {
    "duration": 839,
    "start_time": "2022-07-29T14:43:22.137Z"
   },
   {
    "duration": 137,
    "start_time": "2022-07-29T14:43:22.978Z"
   },
   {
    "duration": 7,
    "start_time": "2022-07-29T14:43:23.116Z"
   },
   {
    "duration": 18,
    "start_time": "2022-07-29T14:43:23.125Z"
   },
   {
    "duration": 34,
    "start_time": "2022-07-29T14:43:23.144Z"
   },
   {
    "duration": 18,
    "start_time": "2022-07-29T14:43:23.180Z"
   },
   {
    "duration": 18,
    "start_time": "2022-07-29T14:43:23.200Z"
   },
   {
    "duration": 20,
    "start_time": "2022-07-29T14:43:23.219Z"
   },
   {
    "duration": 641,
    "start_time": "2022-07-29T14:43:23.241Z"
   },
   {
    "duration": 164,
    "start_time": "2022-07-29T14:43:23.884Z"
   },
   {
    "duration": 173,
    "start_time": "2022-07-29T14:43:24.050Z"
   },
   {
    "duration": 4,
    "start_time": "2022-07-29T14:43:24.225Z"
   },
   {
    "duration": 325,
    "start_time": "2022-07-29T14:43:24.232Z"
   },
   {
    "duration": 255,
    "start_time": "2022-07-29T14:43:24.559Z"
   },
   {
    "duration": 100,
    "start_time": "2022-07-29T14:43:24.816Z"
   },
   {
    "duration": 165,
    "start_time": "2022-07-29T14:43:24.917Z"
   },
   {
    "duration": 301,
    "start_time": "2022-07-29T14:43:25.084Z"
   },
   {
    "duration": 8,
    "start_time": "2022-07-29T14:43:25.386Z"
   },
   {
    "duration": 1327,
    "start_time": "2022-07-29T14:43:25.396Z"
   },
   {
    "duration": 7,
    "start_time": "2022-07-29T14:43:26.725Z"
   },
   {
    "duration": 460,
    "start_time": "2022-07-29T14:43:26.733Z"
   },
   {
    "duration": 9,
    "start_time": "2022-07-29T14:43:27.195Z"
   },
   {
    "duration": 77,
    "start_time": "2022-07-29T14:43:27.205Z"
   },
   {
    "duration": 7,
    "start_time": "2022-07-29T14:43:27.284Z"
   },
   {
    "duration": 116,
    "start_time": "2022-07-29T14:43:27.293Z"
   },
   {
    "duration": 110,
    "start_time": "2022-07-29T14:43:27.411Z"
   },
   {
    "duration": 7178,
    "start_time": "2022-07-29T14:43:27.523Z"
   },
   {
    "duration": 533,
    "start_time": "2022-07-29T14:43:34.703Z"
   },
   {
    "duration": 662,
    "start_time": "2022-07-29T14:43:35.238Z"
   },
   {
    "duration": 316,
    "start_time": "2022-07-29T14:43:35.901Z"
   },
   {
    "duration": 30,
    "start_time": "2022-07-29T14:43:36.219Z"
   },
   {
    "duration": 394,
    "start_time": "2022-07-29T14:43:36.251Z"
   },
   {
    "duration": 54,
    "start_time": "2022-07-29T14:43:36.647Z"
   },
   {
    "duration": 173,
    "start_time": "2022-07-29T14:43:36.703Z"
   },
   {
    "duration": 208,
    "start_time": "2022-07-29T14:43:36.878Z"
   },
   {
    "duration": 286,
    "start_time": "2022-07-29T14:43:37.088Z"
   },
   {
    "duration": 247,
    "start_time": "2022-07-29T14:43:37.377Z"
   },
   {
    "duration": 307,
    "start_time": "2022-07-29T14:43:37.626Z"
   },
   {
    "duration": 375,
    "start_time": "2022-07-29T14:43:37.935Z"
   },
   {
    "duration": 330,
    "start_time": "2022-07-29T14:43:38.315Z"
   },
   {
    "duration": 377,
    "start_time": "2022-07-29T14:43:38.646Z"
   },
   {
    "duration": 352,
    "start_time": "2022-07-29T14:43:39.025Z"
   },
   {
    "duration": 339,
    "start_time": "2022-07-29T14:43:39.379Z"
   },
   {
    "duration": 175,
    "start_time": "2022-07-29T14:43:39.720Z"
   },
   {
    "duration": 6,
    "start_time": "2022-07-29T14:43:39.897Z"
   },
   {
    "duration": 137,
    "start_time": "2022-07-29T14:43:39.904Z"
   },
   {
    "duration": 87,
    "start_time": "2022-07-29T14:43:40.043Z"
   },
   {
    "duration": 64,
    "start_time": "2022-07-29T14:43:40.132Z"
   },
   {
    "duration": 122,
    "start_time": "2022-07-29T14:43:40.198Z"
   },
   {
    "duration": 218,
    "start_time": "2022-07-29T14:43:40.322Z"
   },
   {
    "duration": 134,
    "start_time": "2022-07-29T14:43:40.542Z"
   },
   {
    "duration": 35,
    "start_time": "2022-07-29T14:43:40.679Z"
   },
   {
    "duration": 175,
    "start_time": "2022-07-29T14:43:40.716Z"
   },
   {
    "duration": 2905,
    "start_time": "2022-07-29T14:43:40.893Z"
   },
   {
    "duration": 28,
    "start_time": "2022-07-29T14:43:43.800Z"
   },
   {
    "duration": 123,
    "start_time": "2022-07-29T14:43:43.829Z"
   },
   {
    "duration": 31,
    "start_time": "2022-07-29T14:43:43.972Z"
   },
   {
    "duration": 136,
    "start_time": "2022-07-29T14:43:44.004Z"
   },
   {
    "duration": 33,
    "start_time": "2022-07-29T14:43:44.142Z"
   },
   {
    "duration": 25,
    "start_time": "2022-07-29T14:43:44.177Z"
   },
   {
    "duration": 93,
    "start_time": "2022-07-29T14:43:44.204Z"
   },
   {
    "duration": 32,
    "start_time": "2022-07-29T14:43:44.299Z"
   },
   {
    "duration": 404,
    "start_time": "2022-07-29T14:43:44.332Z"
   },
   {
    "duration": 94,
    "start_time": "2022-07-29T14:43:44.737Z"
   },
   {
    "duration": 33,
    "start_time": "2022-07-29T14:43:44.833Z"
   },
   {
    "duration": 16,
    "start_time": "2022-07-29T14:43:44.868Z"
   },
   {
    "duration": 25,
    "start_time": "2022-07-29T14:43:44.886Z"
   },
   {
    "duration": 351,
    "start_time": "2022-07-29T14:43:44.913Z"
   },
   {
    "duration": 151,
    "start_time": "2022-07-29T14:43:45.271Z"
   },
   {
    "duration": 23,
    "start_time": "2022-07-29T14:43:45.424Z"
   },
   {
    "duration": 25,
    "start_time": "2022-07-29T14:43:45.448Z"
   },
   {
    "duration": 341,
    "start_time": "2022-07-29T14:43:45.474Z"
   },
   {
    "duration": 1164,
    "start_time": "2022-07-29T14:43:45.817Z"
   },
   {
    "duration": 15,
    "start_time": "2022-07-29T14:43:46.983Z"
   },
   {
    "duration": 13,
    "start_time": "2022-07-29T14:43:47.000Z"
   },
   {
    "duration": 2000,
    "start_time": "2022-07-29T14:43:47.015Z"
   },
   {
    "duration": 14,
    "start_time": "2022-07-29T14:43:49.017Z"
   },
   {
    "duration": 139,
    "start_time": "2022-07-29T14:43:49.032Z"
   },
   {
    "duration": 202,
    "start_time": "2022-07-29T14:43:49.173Z"
   },
   {
    "duration": 3,
    "start_time": "2022-07-29T14:43:49.377Z"
   },
   {
    "duration": 216,
    "start_time": "2022-07-29T14:43:49.382Z"
   },
   {
    "duration": 777,
    "start_time": "2022-07-29T14:43:49.599Z"
   },
   {
    "duration": 224,
    "start_time": "2022-07-29T14:43:50.377Z"
   },
   {
    "duration": 92,
    "start_time": "2022-07-29T14:43:50.602Z"
   },
   {
    "duration": 222,
    "start_time": "2022-07-29T14:43:50.696Z"
   },
   {
    "duration": 359,
    "start_time": "2022-07-29T14:43:50.919Z"
   },
   {
    "duration": 77584,
    "start_time": "2022-07-29T14:43:51.280Z"
   },
   {
    "duration": 4,
    "start_time": "2022-07-29T14:45:08.866Z"
   },
   {
    "duration": 696,
    "start_time": "2022-07-29T14:45:08.873Z"
   },
   {
    "duration": 297,
    "start_time": "2022-07-29T14:45:09.572Z"
   },
   {
    "duration": 88,
    "start_time": "2022-07-29T14:45:09.874Z"
   },
   {
    "duration": 20,
    "start_time": "2022-07-29T14:45:09.965Z"
   },
   {
    "duration": 6,
    "start_time": "2022-07-29T14:45:09.987Z"
   },
   {
    "duration": 310374,
    "start_time": "2022-07-29T14:45:09.995Z"
   },
   {
    "duration": 13381,
    "start_time": "2022-07-29T14:50:20.373Z"
   },
   {
    "duration": 531,
    "start_time": "2022-07-29T14:50:33.755Z"
   },
   {
    "duration": 302,
    "start_time": "2022-07-29T14:50:34.364Z"
   },
   {
    "duration": 8,
    "start_time": "2022-07-29T14:50:34.669Z"
   },
   {
    "duration": 104,
    "start_time": "2022-07-29T14:50:34.679Z"
   },
   {
    "duration": 47294,
    "start_time": "2022-07-29T14:50:34.784Z"
   },
   {
    "duration": 88,
    "start_time": "2022-07-29T14:51:22.079Z"
   },
   {
    "duration": 63134,
    "start_time": "2022-07-29T14:51:22.170Z"
   },
   {
    "duration": 4,
    "start_time": "2022-07-29T14:52:25.305Z"
   },
   {
    "duration": 763,
    "start_time": "2022-07-29T14:52:25.311Z"
   },
   {
    "duration": 21,
    "start_time": "2022-07-29T14:52:26.078Z"
   },
   {
    "duration": 875,
    "start_time": "2022-07-29T14:52:26.100Z"
   },
   {
    "duration": 4,
    "start_time": "2022-07-29T14:52:26.977Z"
   },
   {
    "duration": 7,
    "start_time": "2022-07-29T14:52:26.983Z"
   },
   {
    "duration": 5,
    "start_time": "2022-07-29T14:52:26.991Z"
   },
   {
    "duration": 363337,
    "start_time": "2022-07-29T14:52:26.997Z"
   },
   {
    "duration": 3,
    "start_time": "2022-07-29T14:58:30.336Z"
   },
   {
    "duration": 8277,
    "start_time": "2022-07-29T14:58:30.341Z"
   },
   {
    "duration": 9564,
    "start_time": "2022-07-29T14:58:38.620Z"
   },
   {
    "duration": 4,
    "start_time": "2022-07-29T14:58:48.186Z"
   },
   {
    "duration": 62,
    "start_time": "2022-07-29T14:58:48.192Z"
   },
   {
    "duration": 4,
    "start_time": "2022-07-29T14:58:48.256Z"
   },
   {
    "duration": 9,
    "start_time": "2022-07-29T14:58:48.261Z"
   },
   {
    "duration": 82901,
    "start_time": "2022-07-29T14:58:48.271Z"
   },
   {
    "duration": 3,
    "start_time": "2022-07-29T15:00:11.174Z"
   },
   {
    "duration": 82,
    "start_time": "2022-07-29T15:00:11.179Z"
   },
   {
    "duration": 3296,
    "start_time": "2022-07-29T15:00:11.269Z"
   },
   {
    "duration": 7708,
    "start_time": "2022-07-29T15:00:14.567Z"
   },
   {
    "duration": 4,
    "start_time": "2022-07-29T15:00:22.277Z"
   },
   {
    "duration": 590,
    "start_time": "2022-07-29T15:00:22.283Z"
   },
   {
    "duration": 4,
    "start_time": "2022-07-29T15:00:22.875Z"
   },
   {
    "duration": 26,
    "start_time": "2022-07-29T15:00:22.881Z"
   }
  ],
  "kernelspec": {
   "display_name": "Python 3 (ipykernel)",
   "language": "python",
   "name": "python3"
  },
  "language_info": {
   "codemirror_mode": {
    "name": "ipython",
    "version": 3
   },
   "file_extension": ".py",
   "mimetype": "text/x-python",
   "name": "python",
   "nbconvert_exporter": "python",
   "pygments_lexer": "ipython3",
   "version": "3.9.12"
  },
  "toc": {
   "base_numbering": 1,
   "nav_menu": {},
   "number_sections": true,
   "sideBar": true,
   "skip_h1_title": true,
   "title_cell": "Table of Contents",
   "title_sidebar": "Contents",
   "toc_cell": false,
   "toc_position": {},
   "toc_section_display": true,
   "toc_window_display": false
  }
 },
 "nbformat": 4,
 "nbformat_minor": 2
}
