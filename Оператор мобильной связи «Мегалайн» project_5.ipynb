{
 "cells": [
  {
   "cell_type": "markdown",
   "metadata": {},
   "source": [
    "<h1>Содержание<span class=\"tocSkip\"></span></h1>\n",
    "<div class=\"toc\"><ul class=\"toc-item\"><li><span><a href=\"#Описание-проекта\" data-toc-modified-id=\"Описание-проекта-0\"><span class=\"toc-item-num\">0&nbsp;&nbsp;</span>Описание проекта</a></span></li><li><span><a href=\"#Изучение-данных-из-файла\" data-toc-modified-id=\"Изучение-данных-из-файла-1\"><span class=\"toc-item-num\">1&nbsp;&nbsp;</span>Изучение данных из файла</a></span></li><li><span><a href=\"#Обучение-моделей\" data-toc-modified-id=\"ПОбучение-моделей-2\"><span class=\"toc-item-num\">2&nbsp;&nbsp;</span>Обучение моделей</a></span></li><li><span><a href=\"#Проверка-качества-модели-на-тестовой-выборке\" data-toc-modified-id=\"Проверка-качества-модели-на-тестовой-выборке-3\"><span class=\"toc-item-num\">3&nbsp;&nbsp;</span>Проверка качества модели на тестовой выборке</a></span></li><li><span><a href=\"#Проверка-модели-на-вменяемость\" data-toc-modified-id=\"Проверка-модели-на-вменяемость-4\"><span class=\"toc-item-num\">4&nbsp;&nbsp;</span>Проверка модели на вменяемость</a></span></li><li><span><a href=\"#Общий-вывод\" data-toc-modified-id=\"Общий-вывод-5\"><span class=\"toc-item-num\">5&nbsp;&nbsp;</span>Общий вывод</a></span></li></ul></div>"
   ]
  },
  {
   "cell_type": "markdown",
   "metadata": {},
   "source": [
    "## Описание проекта\n",
    "\n",
    "Оператор мобильной связи «Мегалайн» выяснил: многие клиенты пользуются архивными тарифами. Они хотят построить систему, способную проанализировать поведение клиентов и предложить пользователям новый тариф: «Смарт» или «Ультра».\n",
    "\n",
    "На основе данных нужно построить модель для задачи классификации, которая выберет подходящий тариф. \n",
    "\n",
    "Необходимо: \n",
    "1) построить модель с максимально большим значением accuracy;  \n",
    "2) довести долю правильных ответов по крайней мере до 0.75. "
   ]
  },
  {
   "cell_type": "markdown",
   "metadata": {},
   "source": [
    "### Описание данных\n",
    "Каждый объект в наборе данных — это информация о поведении одного пользователя за месяц. \n",
    "\n",
    "Известно:\n",
    "* `сalls` — количество звонков,\n",
    "* `minutes` — суммарная длительность звонков в минутах,\n",
    "* `messages` — количество sms-сообщений,\n",
    "* `mb_used` — израсходованный интернет-трафик в Мб,\n",
    "* `is_ultra` — каким тарифом пользовался в течение месяца («Ультра» — 1, «Смарт» — 0)."
   ]
  },
  {
   "cell_type": "markdown",
   "metadata": {},
   "source": [
    "**План** \n",
    "1) Изучу данные. Предобработка данных не требуется — уже сделано в проекте спринта \"Статистический анализ\".  \n",
    "2) Разделю исходные данные на обучающую, валидационную и тестовую выборки.  \n",
    "3) Исследую качество разных моделей, меняя гиперпараметры. Запишу краткие выводы исследования.  \n",
    "4) Проверю качество модели на тестовой выборке.  \n",
    "5) В рамках проекта также нужно выполнить дополнительное задание: проверить модели на вменяемость. В общем, постараюсь выполнить. "
   ]
  },
  {
   "cell_type": "markdown",
   "metadata": {},
   "source": [
    "## Изучение данных"
   ]
  },
  {
   "cell_type": "code",
   "execution_count": 1,
   "metadata": {},
   "outputs": [],
   "source": [
    "import pandas as pd \n",
    "import numpy as np\n",
    "# для графиков\n",
    "import seaborn as sns\n",
    "from matplotlib import pyplot as plt\n",
    "#import random as rd # для генерации случайных величин\n",
    "\n",
    "# импорт моделей и методов проверки качества моделей\n",
    "from sklearn.tree import DecisionTreeClassifier \n",
    "from sklearn.ensemble import RandomForestClassifier \n",
    "from sklearn.linear_model import LogisticRegression \n",
    "from sklearn.model_selection import train_test_split\n",
    "from sklearn.metrics import accuracy_score # загрузим тоже\n",
    "\n",
    "# добавила\n",
    "from sklearn.metrics import plot_confusion_matrix # для отрисовки матрицы ошибок\n",
    "from sklearn.dummy import DummyClassifier # для константной модели"
   ]
  },
  {
   "cell_type": "code",
   "execution_count": 2,
   "metadata": {},
   "outputs": [],
   "source": [
    "# два числа после запятой\n",
    "pd.options.display.float_format = '{:,.2f}'.format"
   ]
  },
  {
   "cell_type": "code",
   "execution_count": 3,
   "metadata": {},
   "outputs": [],
   "source": [
    "# читаем данные\n",
    "try:\n",
    "    data = pd.read_csv('/datasets/users_behavior.csv')\n",
    "except:\n",
    "    data = pd.read_csv('users_behavior.csv')"
   ]
  },
  {
   "cell_type": "code",
   "execution_count": 4,
   "metadata": {},
   "outputs": [
    {
     "data": {
      "text/html": [
       "<div>\n",
       "<style scoped>\n",
       "    .dataframe tbody tr th:only-of-type {\n",
       "        vertical-align: middle;\n",
       "    }\n",
       "\n",
       "    .dataframe tbody tr th {\n",
       "        vertical-align: top;\n",
       "    }\n",
       "\n",
       "    .dataframe thead th {\n",
       "        text-align: right;\n",
       "    }\n",
       "</style>\n",
       "<table border=\"1\" class=\"dataframe\">\n",
       "  <thead>\n",
       "    <tr style=\"text-align: right;\">\n",
       "      <th></th>\n",
       "      <th>calls</th>\n",
       "      <th>minutes</th>\n",
       "      <th>messages</th>\n",
       "      <th>mb_used</th>\n",
       "      <th>is_ultra</th>\n",
       "    </tr>\n",
       "  </thead>\n",
       "  <tbody>\n",
       "    <tr>\n",
       "      <th>0</th>\n",
       "      <td>40.00</td>\n",
       "      <td>311.90</td>\n",
       "      <td>83.00</td>\n",
       "      <td>19,915.42</td>\n",
       "      <td>0</td>\n",
       "    </tr>\n",
       "    <tr>\n",
       "      <th>1</th>\n",
       "      <td>85.00</td>\n",
       "      <td>516.75</td>\n",
       "      <td>56.00</td>\n",
       "      <td>22,696.96</td>\n",
       "      <td>0</td>\n",
       "    </tr>\n",
       "    <tr>\n",
       "      <th>2</th>\n",
       "      <td>77.00</td>\n",
       "      <td>467.66</td>\n",
       "      <td>86.00</td>\n",
       "      <td>21,060.45</td>\n",
       "      <td>0</td>\n",
       "    </tr>\n",
       "    <tr>\n",
       "      <th>3</th>\n",
       "      <td>106.00</td>\n",
       "      <td>745.53</td>\n",
       "      <td>81.00</td>\n",
       "      <td>8,437.39</td>\n",
       "      <td>1</td>\n",
       "    </tr>\n",
       "    <tr>\n",
       "      <th>4</th>\n",
       "      <td>66.00</td>\n",
       "      <td>418.74</td>\n",
       "      <td>1.00</td>\n",
       "      <td>14,502.75</td>\n",
       "      <td>0</td>\n",
       "    </tr>\n",
       "  </tbody>\n",
       "</table>\n",
       "</div>"
      ],
      "text/plain": [
       "   calls  minutes  messages   mb_used  is_ultra\n",
       "0  40.00   311.90     83.00 19,915.42         0\n",
       "1  85.00   516.75     56.00 22,696.96         0\n",
       "2  77.00   467.66     86.00 21,060.45         0\n",
       "3 106.00   745.53     81.00  8,437.39         1\n",
       "4  66.00   418.74      1.00 14,502.75         0"
      ]
     },
     "execution_count": 4,
     "metadata": {},
     "output_type": "execute_result"
    }
   ],
   "source": [
    "data.head(5)"
   ]
  },
  {
   "cell_type": "code",
   "execution_count": 5,
   "metadata": {},
   "outputs": [
    {
     "name": "stdout",
     "output_type": "stream",
     "text": [
      "<class 'pandas.core.frame.DataFrame'>\n",
      "RangeIndex: 3214 entries, 0 to 3213\n",
      "Data columns (total 5 columns):\n",
      " #   Column    Non-Null Count  Dtype  \n",
      "---  ------    --------------  -----  \n",
      " 0   calls     3214 non-null   float64\n",
      " 1   minutes   3214 non-null   float64\n",
      " 2   messages  3214 non-null   float64\n",
      " 3   mb_used   3214 non-null   float64\n",
      " 4   is_ultra  3214 non-null   int64  \n",
      "dtypes: float64(4), int64(1)\n",
      "memory usage: 125.7 KB\n"
     ]
    }
   ],
   "source": [
    "data.info()"
   ]
  },
  {
   "cell_type": "code",
   "execution_count": 6,
   "metadata": {},
   "outputs": [
    {
     "data": {
      "text/plain": [
       "calls       0\n",
       "minutes     0\n",
       "messages    0\n",
       "mb_used     0\n",
       "is_ultra    0\n",
       "dtype: int64"
      ]
     },
     "execution_count": 6,
     "metadata": {},
     "output_type": "execute_result"
    }
   ],
   "source": [
    "data.isna().sum()"
   ]
  },
  {
   "cell_type": "code",
   "execution_count": 7,
   "metadata": {},
   "outputs": [
    {
     "data": {
      "image/png": "[encoded data removed]",
      "text/plain": [
       "<Figure size 1440x360 with 3 Axes>"
      ]
     },
     "metadata": {},
     "output_type": "display_data"
    }
   ],
   "source": [
    "# посмотрим на распределения \n",
    "\n",
    "sns.set_theme(style=\"ticks\")\n",
    "fig, ax = plt.subplots(1, 3, figsize=(25,6))\n",
    "\n",
    "ax[0].hist(x=data[['minutes']])\n",
    "ax[0].set_title('Длительность звонков')\n",
    "\n",
    "ax[1].hist(x=data[['messages']]) \n",
    "ax[1].set_title('Отправленные сообщения')\n",
    "\n",
    "ax[2].hist(x=data[['mb_used']]) \n",
    "ax[2].set_title('Израсходованный интернет-трафик')\n",
    "\n",
    "fig.set_figwidth(20)     #  ширина и\n",
    "fig.set_figheight(5)    #  высота \"Figure\"\n",
    "\n",
    "plt.show()"
   ]
  },
  {
   "cell_type": "code",
   "execution_count": 8,
   "metadata": {},
   "outputs": [
    {
     "data": {
      "image/png": "[encoded data removed]",
      "text/plain": [
       "<Figure size 1440x360 with 3 Axes>"
      ]
     },
     "metadata": {},
     "output_type": "display_data"
    }
   ],
   "source": [
    "# посмотрим на распределения в разрезе групп по тарифам\n",
    "\n",
    "sns.set_theme(style=\"ticks\")\n",
    "fig, ax = plt.subplots(1, 3, figsize=(25,6))\n",
    "\n",
    "ax[0].hist(x=data.query('is_ultra == 0')[['minutes']],alpha=0.7, color='c')\n",
    "ax[0].hist(x=data.query('is_ultra == 1')[['minutes']],alpha=0.5, color='b')\n",
    "ax[0].set_title('Длительность звонков')\n",
    "\n",
    "ax[1].hist(x=data.query('is_ultra == 0')[['messages']],alpha=0.7, color='c') \n",
    "ax[1].hist(x=data.query('is_ultra == 1')[['messages']],alpha=0.5, color='b') \n",
    "ax[1].set_title('Отправленные сообщения')\n",
    "\n",
    "ax[2].hist(x=data.query('is_ultra == 0')[['mb_used']],alpha=0.7, color='c') \n",
    "ax[2].hist(x=data.query('is_ultra == 1')[['mb_used']],alpha=0.5, color='b') \n",
    "ax[2].set_title('Израсходованный интернет-трафик')\n",
    "\n",
    "fig.set_figwidth(20)     \n",
    "fig.set_figheight(5)    \n",
    "\n",
    "plt.show()"
   ]
  },
  {
   "cell_type": "code",
   "execution_count": 9,
   "metadata": {},
   "outputs": [
    {
     "data": {
      "text/plain": [
       "is_ultra\n",
       "0   69.35\n",
       "1   30.65\n",
       "Name: is_ultra, dtype: float64"
      ]
     },
     "execution_count": 9,
     "metadata": {},
     "output_type": "execute_result"
    }
   ],
   "source": [
    "data.groupby('is_ultra')['is_ultra'].count() / len(data) * 100"
   ]
  },
  {
   "cell_type": "code",
   "execution_count": 10,
   "metadata": {},
   "outputs": [
    {
     "data": {
      "image/png": "[encoded data removed]",
      "text/plain": [
       "<Figure size 504x504 with 2 Axes>"
      ]
     },
     "metadata": {},
     "output_type": "display_data"
    }
   ],
   "source": [
    "# проверим как скоррелированы переменные друг с другом. \n",
    "# если есть сильные корреляции, то исключим из анализа некоторые переменные\n",
    "\n",
    "plt.figure(figsize=(7,7))\n",
    "(\n",
    "    sns.heatmap(data.drop('is_ultra', axis=1)\n",
    "                .corr(), \n",
    "                annot=True, \n",
    "                cmap=\"Blues\", \n",
    "                fmt='.2f', \n",
    "                annot_kws={'size':16})\n",
    ");\n"
   ]
  },
  {
   "cell_type": "markdown",
   "metadata": {},
   "source": [
    "**Краткие выводы**  \n",
    "1) В датасете представлена информация о поведении пользователей: число совершенных звонков и их суммарная длительность в минутах; число отправленных sms-сообщений; объем израсходованного интернет-трафика (в Mб). В последнем столбце представлена информация о тарифе пользователя: `ultra` (1) или `smart` (0).  \n",
    "2) Данные полные, без пропусков.  \n",
    "3) Типы данных соответсвуют значениям в столбцах.  \n",
    "4) Названия столбцов соответствуют нижнему регистру.  \n",
    "5) Пользователей тарифа `smart` больше, чем пользователей тарифа `ultra` (69% против 31%). \n",
    "6) Переменные `calls` и `minutes` сильно коррелируют друг с другом. Далее при обучении моделей удалим `calls` из анализа. "
   ]
  },
  {
   "cell_type": "markdown",
   "metadata": {},
   "source": [
    "## Обучение моделей"
   ]
  },
  {
   "cell_type": "markdown",
   "metadata": {},
   "source": [
    "Сначала извлечем признаки и целевой признак, затем поделим исходные данные на обучающую и валидационную. \n",
    "\n",
    "- *Целевой признак* - какой тариф предложить. Категориальная переменная. Поэтому будем использовать методы классификации.\n",
    "- *Признаки* - число звонков, длительность звонков, число отправленных сообщений и израсходованный интернет-трафик. "
   ]
  },
  {
   "cell_type": "code",
   "execution_count": 11,
   "metadata": {},
   "outputs": [],
   "source": [
    "features = data.drop(['calls', 'is_ultra'], axis=1) # извлекаем признаки \n",
    "target = data['is_ultra'] # извлекаем целевой признак"
   ]
  },
  {
   "cell_type": "code",
   "execution_count": 12,
   "metadata": {},
   "outputs": [],
   "source": [
    "features_train, features_valid, target_train, target_valid = train_test_split(\n",
    "    features, target, test_size=0.25, random_state=12345) # отделяем 25% данных для валидационной выборки"
   ]
  },
  {
   "cell_type": "markdown",
   "metadata": {},
   "source": [
    "Выше и ниже далее `random_state` = 12345, добавляем, чтобы результаты не менялись. \n",
    "\n",
    "Проверим три модели для классификации: дерево решений; случайный лес; логистическая регрессия.  \n",
    "\n",
    "Проверим качество каждой из моделей, меняя их гиперпараметры. \n",
    "\n",
    "Затем выберем лучшую модель, опираясь на `accuracy`. "
   ]
  },
  {
   "cell_type": "markdown",
   "metadata": {},
   "source": [
    "### Дерево решений \n",
    "\n",
    "У дерева решений гиперпараметр - это `max_depth`. "
   ]
  },
  {
   "cell_type": "code",
   "execution_count": 13,
   "metadata": {},
   "outputs": [],
   "source": [
    "# < сделайте цикл для max_depth от 1 до 5 >\n",
    "\n",
    "best_model = None\n",
    "best_result = 0\n",
    "max_depth = 0\n",
    "\n",
    "for depth in range(1, 6):\n",
    "    tree = DecisionTreeClassifier(max_depth = depth, random_state=12345)\n",
    "    tree.fit(features_train, target_train) # обучим модель\n",
    "    result = tree.score(features_valid, target_valid) # посчитаем качество модели на валидационной выборке\n",
    "    if result > best_result:\n",
    "        best_model = tree # сохрании наилучшую модель\n",
    "        best_result = result #  сохраним наилучшее значение метрики accuracy на валидационных данных\n",
    "        max_depth = depth # сохраним глубину"
   ]
  },
  {
   "cell_type": "code",
   "execution_count": 14,
   "metadata": {},
   "outputs": [
    {
     "name": "stdout",
     "output_type": "stream",
     "text": [
      "Accuracy наилучшей модели дерева решений на валидационной выборке: 0.8\n",
      "Максимальная глубина дерева наилучшей модели на валидационной выборке: 4\n"
     ]
    }
   ],
   "source": [
    "print(\"Accuracy наилучшей модели дерева решений на валидационной выборке:\", best_result.round(2))\n",
    "print('Максимальная глубина дерева наилучшей модели на валидационной выборке:', max_depth)"
   ]
  },
  {
   "cell_type": "markdown",
   "metadata": {},
   "source": [
    "**Краткий вывод**  \n",
    "Наилучшая модель дерева решений показала `accuracy` равное 0.80 с гиперпараметром `max_depth = 4`."
   ]
  },
  {
   "cell_type": "markdown",
   "metadata": {},
   "source": [
    "## Случайный лес  \n",
    "\n",
    "Гиперпараметры: 1) `n_estimators` - число деревьев в лесу;  2) `max_depth` - глубина дерева. "
   ]
  },
  {
   "cell_type": "code",
   "execution_count": 15,
   "metadata": {},
   "outputs": [],
   "source": [
    "best_model = None\n",
    "best_result = 0\n",
    "best_est = 0\n",
    "best_depth = 0\n",
    "\n",
    "for est in range(10, 51, 10):\n",
    "    for depth in range (1, 11):\n",
    "        forest = RandomForestClassifier(random_state=12345, n_estimators=est, max_depth=depth) # обучим модель с заданным количеством деревьев\n",
    "        forest.fit(features_train, target_train) # обучим модель на тренировочной выборке\n",
    "        result = forest.score(features_valid, target_valid) # посчитаем качество модели на валидационной выборке\n",
    "        if result > best_result:\n",
    "            best_model = forest # сохраним наилучшую модель\n",
    "            best_result = result#  сохраним наилучшее значение метрики accuracy на валидационных данных\n",
    "            best_est = est # сохраним число деревьев\n",
    "            best_depth = depth # сохраним глубину"
   ]
  },
  {
   "cell_type": "code",
   "execution_count": 16,
   "metadata": {},
   "outputs": [
    {
     "name": "stdout",
     "output_type": "stream",
     "text": [
      "Accuracy наилучшей модели случайного леса на валидационной выборке: 0.81\n",
      "Число деревьев наилучшей модели случайного леса на валидационной выборке: 50\n",
      "Глубина деревьев наилучшей модели случайного леса на валидационной выборке: 4\n"
     ]
    }
   ],
   "source": [
    "print(\"Accuracy наилучшей модели случайного леса на валидационной выборке:\", best_result.round(2))\n",
    "print('Число деревьев наилучшей модели случайного леса на валидационной выборке:', est)\n",
    "print('Глубина деревьев наилучшей модели случайного леса на валидационной выборке:', max_depth)"
   ]
  },
  {
   "cell_type": "markdown",
   "metadata": {},
   "source": [
    "**Краткий вывод**  \n",
    "Наилучшая модель случайного леса с гиперпараметрами `n_estimators` = 50 и `max_depth` = 4 показала `accuracy` равное 0.81, что выше, чем у предыдущей модели. \n",
    "\n",
    "Проверим качество логистической модели. "
   ]
  },
  {
   "cell_type": "markdown",
   "metadata": {},
   "source": [
    "## Логистическая регрессия \n",
    "\n",
    "Для постоянства результата зададим `random_state=12345`.  \n",
    "Добавим дополнительные гиперпараметры: `solver='lbfgs'` (выбираем алготритм) и `max_iter=1000` (число итераций обучения). \n",
    "\n",
    "Алгоритм `'lbfgs'` — один из самых распространённых. Он подходит для большинства задач и поэтому выбираем его. "
   ]
  },
  {
   "cell_type": "code",
   "execution_count": 17,
   "metadata": {},
   "outputs": [
    {
     "name": "stdout",
     "output_type": "stream",
     "text": [
      "0.7\n"
     ]
    }
   ],
   "source": [
    "logistic = LogisticRegression(random_state=12345, solver='lbfgs', max_iter=1000) # зададим модель\n",
    "logistic.fit(features_train, target_train) # обучим модель\n",
    "print(logistic.score(features_valid, target_valid).round(2)) # проверим качество модели"
   ]
  },
  {
   "cell_type": "markdown",
   "metadata": {},
   "source": [
    "**Краткий вывод**  \n",
    "Логистическая регрессия показала самое маленькое `accuracy` = 0.70 по сравнению с остальными моделями. "
   ]
  },
  {
   "cell_type": "markdown",
   "metadata": {},
   "source": [
    "**Вывод** \n",
    "\n",
    "Самое высокое качество показала модель случайного леса. Проверим далее её качество на тестовой выборке. "
   ]
  },
  {
   "cell_type": "markdown",
   "metadata": {},
   "source": [
    "## Проверка качества модели на тестовой выборке"
   ]
  },
  {
   "cell_type": "code",
   "execution_count": 18,
   "metadata": {},
   "outputs": [],
   "source": [
    "features_train, features_test, target_train, target_test = train_test_split(\n",
    "    features, target, test_size=0.25, random_state=12345) # отделяем 25% данных для тестовой выборки"
   ]
  },
  {
   "cell_type": "code",
   "execution_count": 19,
   "metadata": {},
   "outputs": [
    {
     "name": "stdout",
     "output_type": "stream",
     "text": [
      "Accuracy наилучшей модели на тестовой выборке: 0.79\n"
     ]
    }
   ],
   "source": [
    "#  инициализируем модель с наилучшим значением метрики accuracy\n",
    "forest = RandomForestClassifier(random_state=12345, n_estimators=50, max_depth=3) \n",
    "\n",
    "# обучите модель на тестовой выборке\n",
    "forest.fit(features_train, target_train) # обучим модель\n",
    "\n",
    "print(\"Accuracy наилучшей модели на тестовой выборке:\", forest.score(features_test, target_test).round(2)) # оценим качество"
   ]
  },
  {
   "cell_type": "code",
   "execution_count": 20,
   "metadata": {},
   "outputs": [
    {
     "data": {
      "text/plain": [
       "0.7910447761194029"
      ]
     },
     "execution_count": 20,
     "metadata": {},
     "output_type": "execute_result"
    }
   ],
   "source": [
    "accuracy_score(target_test, forest.predict(features_test))"
   ]
  },
  {
   "cell_type": "markdown",
   "metadata": {},
   "source": [
    "**Краткий вывод** \n",
    "\n",
    "Показатель `accuracy` на тестовой выборке равен 0.79. На валидационной выборк была получена точность, равная 0.81. Результаты на тестовой выборке незначительно отличаются от результатов валидационной набора данных. Можно утверждать, что модель вполне рабочая. Она не переобучена и не недобучена. "
   ]
  },
  {
   "cell_type": "markdown",
   "metadata": {},
   "source": [
    "Проверим еще важность полученных весов.  Потом приму решение может быть стоит поменять модель. А поскольку дерево решений склонно к переобучению, то лучше использовать для предсказания логистическую регрессию."
   ]
  },
  {
   "cell_type": "code",
   "execution_count": 21,
   "metadata": {},
   "outputs": [
    {
     "data": {
      "text/plain": [
       "array([0.3321078 , 0.18104671, 0.48684549])"
      ]
     },
     "execution_count": 21,
     "metadata": {},
     "output_type": "execute_result"
    }
   ],
   "source": [
    "tree.feature_importances_"
   ]
  },
  {
   "cell_type": "code",
   "execution_count": 22,
   "metadata": {},
   "outputs": [
    {
     "data": {
      "image/png": "[encoded data removed]",
      "text/plain": [
       "<Figure size 432x288 with 1 Axes>"
      ]
     },
     "metadata": {},
     "output_type": "display_data"
    }
   ],
   "source": [
    "feature_names = features_test.columns\n",
    "importances = forest.feature_importances_\n",
    "std = np.std([tree.feature_importances_ for tree in forest.estimators_], axis=0)\n",
    "\n",
    "forest_importances = pd.Series(importances, index=feature_names)\n",
    "\n",
    "fig, ax = plt.subplots()\n",
    "forest_importances.plot.bar(yerr=std, ax=ax)\n",
    "ax.set_title(\"Feature importances using MDI\")\n",
    "ax.set_ylabel(\"Mean decrease in impurity\")\n",
    "fig.tight_layout()"
   ]
  },
  {
   "cell_type": "code",
   "execution_count": 23,
   "metadata": {},
   "outputs": [
    {
     "data": {
      "image/png": "[encoded data removed]",
      "text/plain": [
       "<Figure size 432x288 with 2 Axes>"
      ]
     },
     "metadata": {},
     "output_type": "display_data"
    }
   ],
   "source": [
    "# построим матрицу ошибок\n",
    "target_pred = forest.predict(features_test)\n",
    "plot_confusion_matrix(estimator=forest, X=features_test, y_true=target_test,\n",
    "                      normalize='true', cmap='Blues');"
   ]
  },
  {
   "cell_type": "markdown",
   "metadata": {},
   "source": [
    "**Краткий вывод**  \n",
    "Веса коэффициентов в сумме дают 1, что верно. Среди коэффициентов наибольший вес имеет израсходованный интернет-трафик (`mb_used`), наименьший - число отправленных сообщений (`messages`).  \n",
    "\n",
    "Наша модель хорошо предсказывает отрицательные (нулевые) значения, но не очень хорошо положительные значения. Это вероятнее всего связано с дисбалансом классов. "
   ]
  },
  {
   "cell_type": "markdown",
   "metadata": {},
   "source": [
    "## Проверка модели на вменяемость"
   ]
  },
  {
   "cell_type": "markdown",
   "metadata": {},
   "source": [
    "Для проверки модели на вменяемость создадим последовательность заполненную 1 или 0 в качестве целевого признака. Затем можно попробовать сгенерировать случайную последовательность из 0 и 1**, используя DummyClassifier()**. \n",
    "\n",
    "И проверим как работает модель на этих данных."
   ]
  },
  {
   "cell_type": "code",
   "execution_count": 24,
   "metadata": {},
   "outputs": [
    {
     "name": "stdout",
     "output_type": "stream",
     "text": [
      "Тренировочная выборка: \n",
      " 0   69.13\n",
      "1   30.87\n",
      "Name: is_ultra, dtype: float64 \n",
      "\n",
      "Тестовая выборка: \n",
      " 0   70.02\n",
      "1   29.98\n",
      "Name: is_ultra, dtype: float64\n"
     ]
    }
   ],
   "source": [
    "# проверим как распределены 0 и 1 в тестовой выборке и тренировочной\n",
    "print('Тренировочная выборка: \\n', target_train.value_counts() / len(target_train) *100, '\\n')\n",
    "print('Тестовая выборка: \\n', target_test.value_counts() / len(target_test) *100)"
   ]
  },
  {
   "cell_type": "markdown",
   "metadata": {},
   "source": [
    "Приблизительно одинакое распределение. Можно сказать, что данные одной природы. "
   ]
  },
  {
   "cell_type": "code",
   "execution_count": 25,
   "metadata": {},
   "outputs": [
    {
     "name": "stdout",
     "output_type": "stream",
     "text": [
      "Accuracy на cлучайной выборке: 0.17\n"
     ]
    }
   ],
   "source": [
    "# проверим на случайном векторе из 1 \n",
    "random_series = pd.Series(1, index=range(0,len(target_test)))\n",
    "print(\"Accuracy на cлучайной выборке:\", forest.score(features_test, random_series).round(2)) # оценим качество"
   ]
  },
  {
   "cell_type": "code",
   "execution_count": 26,
   "metadata": {},
   "outputs": [
    {
     "data": {
      "text/plain": [
       "0.2998"
      ]
     },
     "execution_count": 26,
     "metadata": {},
     "output_type": "execute_result"
    }
   ],
   "source": [
    "# оценим долю правильных ответов алгоритма\n",
    "accuracy_score(target_test, random_series).round(4)"
   ]
  },
  {
   "cell_type": "code",
   "execution_count": 27,
   "metadata": {},
   "outputs": [
    {
     "name": "stdout",
     "output_type": "stream",
     "text": [
      "Accuracy на cлучайной выборке: 0.7002\n"
     ]
    }
   ],
   "source": [
    "# проверим на случайном векторе из 1 \n",
    "random_series = pd.Series(0, index =range(0,len(target_test)))\n",
    "print(\"Accuracy на cлучайной выборке:\", accuracy_score(target_test, random_series).round(4)) # оценим качество"
   ]
  },
  {
   "cell_type": "code",
   "execution_count": 28,
   "metadata": {},
   "outputs": [
    {
     "data": {
      "image/png": "[encoded data removed]",
      "text/plain": [
       "<Figure size 432x288 with 2 Axes>"
      ]
     },
     "metadata": {},
     "output_type": "display_data"
    }
   ],
   "source": [
    "# Построим DummyClassifier и проверим как эта модель предсказывает целевую переменную\n",
    "\n",
    "clf_dummy = DummyClassifier(strategy='most_frequent', random_state=12345) \n",
    "\n",
    "# обучение модели\n",
    "clf_dummy.fit(features_train, target_train)\n",
    "\n",
    "target_dummy_pred = clf_dummy.predict(features_test) # предскажем\n",
    "\n",
    "plot_confusion_matrix(estimator=clf_dummy, X=features_test, y_true=target_test,\n",
    "                      normalize='true', cmap='Blues');"
   ]
  },
  {
   "cell_type": "code",
   "execution_count": 29,
   "metadata": {},
   "outputs": [
    {
     "name": "stdout",
     "output_type": "stream",
     "text": [
      "Accuracy DummyClassifier: 0.7002487562189055\n"
     ]
    }
   ],
   "source": [
    "print(\"Accuracy DummyClassifier:\", clf_dummy.score(features_test, target_test))"
   ]
  },
  {
   "cell_type": "markdown",
   "metadata": {},
   "source": [
    "Итак, `accuracy` модели Random Forest Classifier выше, чем у константных моделей. Dummy Classifier отлично угадывает отрицательные значения (нулевые значения: является клиентов тарифа `smart`), но абсолютно не угадывает положительные значения. \n"
   ]
  },
  {
   "cell_type": "markdown",
   "metadata": {},
   "source": [
    "## Общий вывод"
   ]
  },
  {
   "cell_type": "markdown",
   "metadata": {},
   "source": [
    "В рамках этого проекта были протестированы три модели классификации. По метрике `accuracy` лучший результат показала модель случайного леса (`0.81` на валидационной выборке и `0.79` на тестовой выборке). Модель успешно прошла проверку на вменяемость, хотя наша модель предсказывает лишь 44% истинно положительных значений. Это может быть связано с дисбалансом классов. В дальнейшем для улучшения модели нужно провести балансировку классов и заново проверить качество модели. "
   ]
  }
 ],
 "metadata": {
  "ExecuteTimeLog": [
   {
    "duration": 55466,
    "start_time": "2022-05-04T07:09:52.963Z"
   },
   {
    "duration": 3,
    "start_time": "2022-05-04T07:10:48.431Z"
   },
   {
    "duration": 175,
    "start_time": "2022-05-04T07:10:48.435Z"
   },
   {
    "duration": 10,
    "start_time": "2022-05-04T07:10:48.612Z"
   },
   {
    "duration": 14,
    "start_time": "2022-05-04T07:10:48.624Z"
   },
   {
    "duration": 5,
    "start_time": "2022-05-04T07:10:48.640Z"
   },
   {
    "duration": 312,
    "start_time": "2022-05-04T07:10:48.647Z"
   },
   {
    "duration": 368,
    "start_time": "2022-05-04T07:10:48.960Z"
   },
   {
    "duration": 6,
    "start_time": "2022-05-04T07:10:49.329Z"
   },
   {
    "duration": 307,
    "start_time": "2022-05-04T07:10:49.338Z"
   },
   {
    "duration": 4,
    "start_time": "2022-05-04T07:10:49.646Z"
   },
   {
    "duration": 7,
    "start_time": "2022-05-04T07:10:49.652Z"
   },
   {
    "duration": 30,
    "start_time": "2022-05-04T07:10:49.660Z"
   },
   {
    "duration": 4,
    "start_time": "2022-05-04T07:10:49.691Z"
   },
   {
    "duration": 3429,
    "start_time": "2022-05-04T07:10:49.696Z"
   },
   {
    "duration": 3,
    "start_time": "2022-05-04T07:10:53.127Z"
   },
   {
    "duration": 20,
    "start_time": "2022-05-04T07:10:53.132Z"
   },
   {
    "duration": 5,
    "start_time": "2022-05-04T07:10:53.154Z"
   },
   {
    "duration": 115,
    "start_time": "2022-05-04T07:10:53.160Z"
   },
   {
    "duration": 4,
    "start_time": "2022-05-04T07:10:53.277Z"
   },
   {
    "duration": 246,
    "start_time": "2022-05-04T07:10:53.283Z"
   },
   {
    "duration": 7,
    "start_time": "2022-05-04T07:10:53.531Z"
   },
   {
    "duration": 15,
    "start_time": "2022-05-04T07:10:53.540Z"
   },
   {
    "duration": 13,
    "start_time": "2022-05-04T07:10:53.556Z"
   },
   {
    "duration": 3,
    "start_time": "2022-05-04T07:10:53.571Z"
   },
   {
    "duration": 18,
    "start_time": "2022-05-04T07:10:53.575Z"
   },
   {
    "duration": 17,
    "start_time": "2022-05-04T07:10:53.624Z"
   },
   {
    "duration": 6,
    "start_time": "2022-05-04T07:10:53.644Z"
   },
   {
    "duration": 7,
    "start_time": "2022-05-04T07:10:53.651Z"
   },
   {
    "duration": 7,
    "start_time": "2022-05-04T07:10:53.660Z"
   },
   {
    "duration": 141,
    "start_time": "2022-05-04T09:09:41.499Z"
   },
   {
    "duration": 3,
    "start_time": "2022-05-04T09:21:18.434Z"
   },
   {
    "duration": 2,
    "start_time": "2022-05-04T09:21:22.392Z"
   },
   {
    "duration": 16,
    "start_time": "2022-05-04T09:21:23.249Z"
   },
   {
    "duration": 12,
    "start_time": "2022-05-04T09:21:25.942Z"
   },
   {
    "duration": 11,
    "start_time": "2022-05-04T09:21:26.858Z"
   },
   {
    "duration": 11,
    "start_time": "2022-05-04T09:21:28.975Z"
   },
   {
    "duration": 6,
    "start_time": "2022-05-04T09:21:29.248Z"
   },
   {
    "duration": 315,
    "start_time": "2022-05-04T09:21:29.521Z"
   },
   {
    "duration": 390,
    "start_time": "2022-05-04T09:21:29.838Z"
   },
   {
    "duration": 7,
    "start_time": "2022-05-04T09:21:30.230Z"
   },
   {
    "duration": 397,
    "start_time": "2022-05-04T09:21:30.397Z"
   },
   {
    "duration": 4,
    "start_time": "2022-05-04T09:21:31.852Z"
   },
   {
    "duration": 5,
    "start_time": "2022-05-04T09:21:32.148Z"
   },
   {
    "duration": 28,
    "start_time": "2022-05-04T09:21:33.293Z"
   },
   {
    "duration": 3,
    "start_time": "2022-05-04T09:21:33.625Z"
   },
   {
    "duration": 3280,
    "start_time": "2022-05-04T09:21:34.491Z"
   },
   {
    "duration": 4,
    "start_time": "2022-05-04T09:21:37.773Z"
   },
   {
    "duration": 18,
    "start_time": "2022-05-04T09:21:39.436Z"
   },
   {
    "duration": 5,
    "start_time": "2022-05-04T09:21:41.121Z"
   },
   {
    "duration": 98,
    "start_time": "2022-05-04T09:21:44.250Z"
   },
   {
    "duration": 5,
    "start_time": "2022-05-04T09:21:57.398Z"
   },
   {
    "duration": 94,
    "start_time": "2022-05-04T09:21:59.627Z"
   },
   {
    "duration": 4,
    "start_time": "2022-05-04T09:22:03.015Z"
   },
   {
    "duration": 219,
    "start_time": "2022-05-04T09:22:04.475Z"
   },
   {
    "duration": 7,
    "start_time": "2022-05-04T09:22:07.694Z"
   },
   {
    "duration": 13,
    "start_time": "2022-05-04T09:22:09.447Z"
   },
   {
    "duration": 13,
    "start_time": "2022-05-04T09:22:10.685Z"
   },
   {
    "duration": 11,
    "start_time": "2022-05-04T09:22:11.823Z"
   },
   {
    "duration": 10,
    "start_time": "2022-05-04T09:22:17.757Z"
   },
   {
    "duration": 3,
    "start_time": "2022-05-04T09:22:19.324Z"
   },
   {
    "duration": 14,
    "start_time": "2022-05-04T09:22:21.584Z"
   },
   {
    "duration": 18,
    "start_time": "2022-05-04T09:22:22.883Z"
   },
   {
    "duration": 7,
    "start_time": "2022-05-04T09:22:24.461Z"
   },
   {
    "duration": 6,
    "start_time": "2022-05-04T09:22:26.211Z"
   },
   {
    "duration": 7,
    "start_time": "2022-05-04T09:22:28.255Z"
   },
   {
    "duration": 12,
    "start_time": "2022-05-04T09:42:34.413Z"
   },
   {
    "duration": 6,
    "start_time": "2022-05-04T09:42:54.920Z"
   },
   {
    "duration": 13,
    "start_time": "2022-05-04T09:43:06.144Z"
   },
   {
    "duration": 5,
    "start_time": "2022-05-04T09:43:06.838Z"
   },
   {
    "duration": 97,
    "start_time": "2022-05-04T09:43:36.997Z"
   },
   {
    "duration": 13,
    "start_time": "2022-05-04T09:44:15.538Z"
   },
   {
    "duration": 96,
    "start_time": "2022-05-04T09:44:22.298Z"
   },
   {
    "duration": 16,
    "start_time": "2022-05-04T09:44:48.718Z"
   },
   {
    "duration": 14,
    "start_time": "2022-05-04T09:45:24.180Z"
   },
   {
    "duration": 5,
    "start_time": "2022-05-04T09:45:24.690Z"
   },
   {
    "duration": 3,
    "start_time": "2022-05-04T09:45:37.335Z"
   },
   {
    "duration": 13,
    "start_time": "2022-05-04T09:45:38.952Z"
   },
   {
    "duration": 5,
    "start_time": "2022-05-04T09:45:42.496Z"
   },
   {
    "duration": 3,
    "start_time": "2022-05-04T09:51:59.050Z"
   },
   {
    "duration": 180,
    "start_time": "2022-05-04T09:54:01.748Z"
   },
   {
    "duration": 5,
    "start_time": "2022-05-04T09:55:06.665Z"
   },
   {
    "duration": 3,
    "start_time": "2022-05-04T09:55:51.833Z"
   },
   {
    "duration": 3,
    "start_time": "2022-05-04T09:55:52.750Z"
   },
   {
    "duration": 5,
    "start_time": "2022-05-04T09:55:58.003Z"
   },
   {
    "duration": 5,
    "start_time": "2022-05-04T09:56:35.992Z"
   },
   {
    "duration": 14,
    "start_time": "2022-05-04T09:56:38.843Z"
   },
   {
    "duration": 5,
    "start_time": "2022-05-04T09:56:39.583Z"
   },
   {
    "duration": 5,
    "start_time": "2022-05-04T09:56:46.089Z"
   },
   {
    "duration": 13,
    "start_time": "2022-05-04T09:56:48.471Z"
   },
   {
    "duration": 5,
    "start_time": "2022-05-04T09:56:49.079Z"
   },
   {
    "duration": 6,
    "start_time": "2022-05-04T09:57:00.255Z"
   },
   {
    "duration": 5,
    "start_time": "2022-05-04T09:57:08.361Z"
   },
   {
    "duration": 2,
    "start_time": "2022-05-04T10:20:43.022Z"
   },
   {
    "duration": 4,
    "start_time": "2022-05-04T10:22:05.718Z"
   },
   {
    "duration": 146,
    "start_time": "2022-05-04T10:22:21.448Z"
   },
   {
    "duration": 147,
    "start_time": "2022-05-04T10:23:12.460Z"
   },
   {
    "duration": 11,
    "start_time": "2022-05-04T10:26:18.690Z"
   },
   {
    "duration": 122,
    "start_time": "2022-05-04T10:26:47.302Z"
   },
   {
    "duration": 124,
    "start_time": "2022-05-04T10:26:53.641Z"
   },
   {
    "duration": 13,
    "start_time": "2022-05-04T10:50:23.409Z"
   },
   {
    "duration": 4,
    "start_time": "2022-05-04T10:50:34.195Z"
   },
   {
    "duration": 113,
    "start_time": "2022-05-04T10:51:58.506Z"
   },
   {
    "duration": 6833,
    "start_time": "2022-05-04T10:52:07.195Z"
   },
   {
    "duration": 4,
    "start_time": "2022-05-04T10:52:23.217Z"
   },
   {
    "duration": 155,
    "start_time": "2022-05-04T10:52:35.682Z"
   },
   {
    "duration": 122,
    "start_time": "2022-05-04T10:57:46.994Z"
   },
   {
    "duration": 39,
    "start_time": "2022-05-04T10:58:17.830Z"
   },
   {
    "duration": 1466,
    "start_time": "2022-05-04T10:59:17.743Z"
   },
   {
    "duration": 2,
    "start_time": "2022-05-04T10:59:19.212Z"
   },
   {
    "duration": 39,
    "start_time": "2022-05-04T10:59:19.215Z"
   },
   {
    "duration": 12,
    "start_time": "2022-05-04T10:59:19.257Z"
   },
   {
    "duration": 16,
    "start_time": "2022-05-04T10:59:19.271Z"
   },
   {
    "duration": 7,
    "start_time": "2022-05-04T10:59:19.289Z"
   },
   {
    "duration": 514,
    "start_time": "2022-05-04T10:59:19.298Z"
   },
   {
    "duration": 395,
    "start_time": "2022-05-04T10:59:19.814Z"
   },
   {
    "duration": 6,
    "start_time": "2022-05-04T10:59:20.210Z"
   },
   {
    "duration": 324,
    "start_time": "2022-05-04T10:59:20.219Z"
   },
   {
    "duration": 10,
    "start_time": "2022-05-04T10:59:20.545Z"
   },
   {
    "duration": 17,
    "start_time": "2022-05-04T10:59:20.556Z"
   },
   {
    "duration": 33,
    "start_time": "2022-05-04T10:59:20.574Z"
   },
   {
    "duration": 3,
    "start_time": "2022-05-04T10:59:20.609Z"
   },
   {
    "duration": 3269,
    "start_time": "2022-05-04T10:59:20.613Z"
   },
   {
    "duration": 3,
    "start_time": "2022-05-04T10:59:23.884Z"
   },
   {
    "duration": 20,
    "start_time": "2022-05-04T10:59:23.889Z"
   },
   {
    "duration": 4,
    "start_time": "2022-05-04T10:59:23.911Z"
   },
   {
    "duration": 114,
    "start_time": "2022-05-04T10:59:23.917Z"
   },
   {
    "duration": 12,
    "start_time": "2022-05-04T10:59:24.032Z"
   },
   {
    "duration": 4,
    "start_time": "2022-05-04T10:59:24.055Z"
   },
   {
    "duration": 219,
    "start_time": "2022-05-04T10:59:24.060Z"
   },
   {
    "duration": 163,
    "start_time": "2022-05-04T10:59:24.280Z"
   },
   {
    "duration": 11,
    "start_time": "2022-05-04T10:59:24.445Z"
   },
   {
    "duration": 16,
    "start_time": "2022-05-04T10:59:24.458Z"
   },
   {
    "duration": 4,
    "start_time": "2022-05-04T10:59:24.476Z"
   },
   {
    "duration": 8,
    "start_time": "2022-05-04T10:59:24.481Z"
   },
   {
    "duration": 124,
    "start_time": "2022-05-04T11:00:11.044Z"
   },
   {
    "duration": 5,
    "start_time": "2022-05-04T11:00:23.557Z"
   },
   {
    "duration": 132,
    "start_time": "2022-05-04T11:00:43.594Z"
   },
   {
    "duration": 5,
    "start_time": "2022-05-04T11:01:38.502Z"
   },
   {
    "duration": 5,
    "start_time": "2022-05-04T11:02:21.159Z"
   },
   {
    "duration": 120,
    "start_time": "2022-05-04T11:04:29.698Z"
   },
   {
    "duration": 5,
    "start_time": "2022-05-04T11:04:34.031Z"
   },
   {
    "duration": 28,
    "start_time": "2022-05-04T11:07:44.984Z"
   },
   {
    "duration": 21,
    "start_time": "2022-05-04T11:08:14.761Z"
   },
   {
    "duration": 25,
    "start_time": "2022-05-04T11:08:20.460Z"
   },
   {
    "duration": 6,
    "start_time": "2022-05-04T11:08:30.009Z"
   },
   {
    "duration": 6,
    "start_time": "2022-05-04T11:08:30.899Z"
   },
   {
    "duration": 1488,
    "start_time": "2022-05-04T11:21:21.619Z"
   },
   {
    "duration": 2,
    "start_time": "2022-05-04T11:21:23.109Z"
   },
   {
    "duration": 29,
    "start_time": "2022-05-04T11:21:23.113Z"
   },
   {
    "duration": 11,
    "start_time": "2022-05-04T11:21:23.144Z"
   },
   {
    "duration": 12,
    "start_time": "2022-05-04T11:21:23.156Z"
   },
   {
    "duration": 6,
    "start_time": "2022-05-04T11:21:23.170Z"
   },
   {
    "duration": 333,
    "start_time": "2022-05-04T11:21:23.178Z"
   },
   {
    "duration": 469,
    "start_time": "2022-05-04T11:21:23.512Z"
   },
   {
    "duration": 7,
    "start_time": "2022-05-04T11:21:23.983Z"
   },
   {
    "duration": 297,
    "start_time": "2022-05-04T11:21:23.992Z"
   },
   {
    "duration": 4,
    "start_time": "2022-05-04T11:21:24.291Z"
   },
   {
    "duration": 11,
    "start_time": "2022-05-04T11:21:24.296Z"
   },
   {
    "duration": 28,
    "start_time": "2022-05-04T11:21:24.309Z"
   },
   {
    "duration": 16,
    "start_time": "2022-05-04T11:21:24.339Z"
   },
   {
    "duration": 3409,
    "start_time": "2022-05-04T11:21:24.357Z"
   },
   {
    "duration": 3,
    "start_time": "2022-05-04T11:21:27.768Z"
   },
   {
    "duration": 29,
    "start_time": "2022-05-04T11:21:27.773Z"
   },
   {
    "duration": 5,
    "start_time": "2022-05-04T11:21:27.804Z"
   },
   {
    "duration": 110,
    "start_time": "2022-05-04T11:21:27.811Z"
   },
   {
    "duration": 13,
    "start_time": "2022-05-04T11:21:27.923Z"
   },
   {
    "duration": 18,
    "start_time": "2022-05-04T11:21:27.938Z"
   },
   {
    "duration": 219,
    "start_time": "2022-05-04T11:21:27.957Z"
   },
   {
    "duration": 159,
    "start_time": "2022-05-04T11:21:28.178Z"
   },
   {
    "duration": 6,
    "start_time": "2022-05-04T11:21:28.339Z"
   },
   {
    "duration": 12,
    "start_time": "2022-05-04T11:21:28.354Z"
   },
   {
    "duration": 4,
    "start_time": "2022-05-04T11:21:28.368Z"
   },
   {
    "duration": 4,
    "start_time": "2022-05-04T11:21:28.374Z"
   },
   {
    "duration": 151,
    "start_time": "2022-05-04T11:21:28.381Z"
   },
   {
    "duration": 4,
    "start_time": "2022-05-04T11:21:28.534Z"
   },
   {
    "duration": 110,
    "start_time": "2022-05-05T09:19:38.991Z"
   }
  ],
  "kernelspec": {
   "display_name": "Python 3 (ipykernel)",
   "language": "python",
   "name": "python3"
  },
  "language_info": {
   "codemirror_mode": {
    "name": "ipython",
    "version": 3
   },
   "file_extension": ".py",
   "mimetype": "text/x-python",
   "name": "python",
   "nbconvert_exporter": "python",
   "pygments_lexer": "ipython3",
   "version": "3.9.12"
  },
  "toc": {
   "base_numbering": 1,
   "nav_menu": {},
   "number_sections": true,
   "sideBar": true,
   "skip_h1_title": true,
   "title_cell": "Table of Contents",
   "title_sidebar": "Contents",
   "toc_cell": false,
   "toc_position": {},
   "toc_section_display": true,
   "toc_window_display": false
  }
 },
 "nbformat": 4,
 "nbformat_minor": 4
}
