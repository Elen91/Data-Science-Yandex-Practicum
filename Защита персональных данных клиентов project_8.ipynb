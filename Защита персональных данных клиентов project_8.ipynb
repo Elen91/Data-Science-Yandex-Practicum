{
 "cells": [
  {
   "cell_type": "markdown",
   "metadata": {
    "toc": true
   },
   "source": [
    "<h1>Содержание<span class=\"tocSkip\"></span></h1>\n",
    "<div class=\"toc\"><ul class=\"toc-item\"><li><span><a href=\"#Загрузка-данных\" data-toc-modified-id=\"Загрузка-данных-1\"><span class=\"toc-item-num\">1&nbsp;&nbsp;</span>Загрузка данных</a></span></li><li><span><a href=\"#Умножение-матриц\" data-toc-modified-id=\"Умножение-матриц-2\"><span class=\"toc-item-num\">2&nbsp;&nbsp;</span>Умножение матриц</a></span></li><li><span><a href=\"#Алгоритм-преобразования\" data-toc-modified-id=\"Алгоритм-преобразования-3\"><span class=\"toc-item-num\">3&nbsp;&nbsp;</span>Алгоритм преобразования</a></span></li><li><span><a href=\"#Проверка-алгоритма\" data-toc-modified-id=\"Проверка-алгоритма-4\"><span class=\"toc-item-num\">4&nbsp;&nbsp;</span>Проверка алгоритма</a></span><ul class=\"toc-item\"><li><span><a href=\"#Шаг-1\" data-toc-modified-id=\"Шаг-1-4.1\"><span class=\"toc-item-num\">4.1&nbsp;&nbsp;</span>Шаг 1</a></span></li><li><span><a href=\"#Шаг-2\" data-toc-modified-id=\"Шаг-2-4.2\"><span class=\"toc-item-num\">4.2&nbsp;&nbsp;</span>Шаг 2</a></span></li><li><span><a href=\"#Шаг-3.\" data-toc-modified-id=\"Шаг-3.-4.3\"><span class=\"toc-item-num\">4.3&nbsp;&nbsp;</span>Шаг 3.</a></span></li><li><span><a href=\"#Шаг-4\" data-toc-modified-id=\"Шаг-4-4.4\"><span class=\"toc-item-num\">4.4&nbsp;&nbsp;</span>Шаг 4</a></span></li></ul></li><li><span><a href=\"#Чек-лист-проверки\" data-toc-modified-id=\"Чек-лист-проверки-5\"><span class=\"toc-item-num\">5&nbsp;&nbsp;</span>Чек-лист проверки</a></span></li></ul></div>"
   ]
  },
  {
   "cell_type": "markdown",
   "metadata": {},
   "source": [
    "# Защита персональных данных клиентов"
   ]
  },
  {
   "cell_type": "markdown",
   "metadata": {},
   "source": [
    "Вам нужно защитить данные клиентов страховой компании «Хоть потоп». Разработайте такой метод преобразования данных, чтобы по ним было сложно восстановить персональную информацию. Обоснуйте корректность его работы.\n",
    "\n",
    "Нужно защитить данные, чтобы при преобразовании качество моделей машинного обучения не ухудшилось. Подбирать наилучшую модель не требуется."
   ]
  },
  {
   "cell_type": "markdown",
   "metadata": {},
   "source": [
    "План: \n",
    "1. Загрузить и изучить данные. \n",
    "2. Ответить на вопрос \"Изменится ли качество линейной регрессии если умножить признаки на обратимую матрицу?\" и обосновать решение.  \n",
    "3. Предложить алгоритм преобразования данных для решения задачи. Обосновать почему качество линейной регрессии не поменяется.\n",
    "4. Запрограммировать этот алгоритм, применив матричные операции. Проверить что качество линейной регрессии из sklearn не отличается до и после преобразования. Примените метрику $R^2$."
   ]
  },
  {
   "cell_type": "markdown",
   "metadata": {},
   "source": [
    "## Загрузка данных"
   ]
  },
  {
   "cell_type": "code",
   "execution_count": 1,
   "metadata": {},
   "outputs": [],
   "source": [
    "import pandas as pd\n",
    "import numpy as np\n",
    "\n",
    "# импорт метрики качества \n",
    "from sklearn.metrics import r2_score\n",
    "\n",
    "# импорт моделей \n",
    "from sklearn.linear_model import LinearRegression \n",
    "\n",
    "from sklearn.model_selection import train_test_split"
   ]
  },
  {
   "cell_type": "code",
   "execution_count": 2,
   "metadata": {},
   "outputs": [],
   "source": [
    "# чтение данных\n",
    "try:\n",
    "    data = pd.read_csv('/datasets/insurance.csv')\n",
    "except:\n",
    "    data = pd.read_csv('insurance.csv')"
   ]
  },
  {
   "cell_type": "code",
   "execution_count": 3,
   "metadata": {},
   "outputs": [
    {
     "data": {
      "text/html": [
       "<div>\n",
       "<style scoped>\n",
       "    .dataframe tbody tr th:only-of-type {\n",
       "        vertical-align: middle;\n",
       "    }\n",
       "\n",
       "    .dataframe tbody tr th {\n",
       "        vertical-align: top;\n",
       "    }\n",
       "\n",
       "    .dataframe thead th {\n",
       "        text-align: right;\n",
       "    }\n",
       "</style>\n",
       "<table border=\"1\" class=\"dataframe\">\n",
       "  <thead>\n",
       "    <tr style=\"text-align: right;\">\n",
       "      <th></th>\n",
       "      <th>Пол</th>\n",
       "      <th>Возраст</th>\n",
       "      <th>Зарплата</th>\n",
       "      <th>Члены семьи</th>\n",
       "      <th>Страховые выплаты</th>\n",
       "    </tr>\n",
       "  </thead>\n",
       "  <tbody>\n",
       "    <tr>\n",
       "      <th>0</th>\n",
       "      <td>1</td>\n",
       "      <td>41.0</td>\n",
       "      <td>49600.0</td>\n",
       "      <td>1</td>\n",
       "      <td>0</td>\n",
       "    </tr>\n",
       "    <tr>\n",
       "      <th>1</th>\n",
       "      <td>0</td>\n",
       "      <td>46.0</td>\n",
       "      <td>38000.0</td>\n",
       "      <td>1</td>\n",
       "      <td>1</td>\n",
       "    </tr>\n",
       "    <tr>\n",
       "      <th>2</th>\n",
       "      <td>0</td>\n",
       "      <td>29.0</td>\n",
       "      <td>21000.0</td>\n",
       "      <td>0</td>\n",
       "      <td>0</td>\n",
       "    </tr>\n",
       "    <tr>\n",
       "      <th>3</th>\n",
       "      <td>0</td>\n",
       "      <td>21.0</td>\n",
       "      <td>41700.0</td>\n",
       "      <td>2</td>\n",
       "      <td>0</td>\n",
       "    </tr>\n",
       "    <tr>\n",
       "      <th>4</th>\n",
       "      <td>1</td>\n",
       "      <td>28.0</td>\n",
       "      <td>26100.0</td>\n",
       "      <td>0</td>\n",
       "      <td>0</td>\n",
       "    </tr>\n",
       "  </tbody>\n",
       "</table>\n",
       "</div>"
      ],
      "text/plain": [
       "   Пол  Возраст  Зарплата  Члены семьи  Страховые выплаты\n",
       "0    1     41.0   49600.0            1                  0\n",
       "1    0     46.0   38000.0            1                  1\n",
       "2    0     29.0   21000.0            0                  0\n",
       "3    0     21.0   41700.0            2                  0\n",
       "4    1     28.0   26100.0            0                  0"
      ]
     },
     "execution_count": 3,
     "metadata": {},
     "output_type": "execute_result"
    }
   ],
   "source": [
    "data.head()"
   ]
  },
  {
   "cell_type": "code",
   "execution_count": 4,
   "metadata": {},
   "outputs": [
    {
     "name": "stdout",
     "output_type": "stream",
     "text": [
      "<class 'pandas.core.frame.DataFrame'>\n",
      "RangeIndex: 5000 entries, 0 to 4999\n",
      "Data columns (total 5 columns):\n",
      " #   Column             Non-Null Count  Dtype  \n",
      "---  ------             --------------  -----  \n",
      " 0   Пол                5000 non-null   int64  \n",
      " 1   Возраст            5000 non-null   float64\n",
      " 2   Зарплата           5000 non-null   float64\n",
      " 3   Члены семьи        5000 non-null   int64  \n",
      " 4   Страховые выплаты  5000 non-null   int64  \n",
      "dtypes: float64(2), int64(3)\n",
      "memory usage: 195.4 KB\n"
     ]
    }
   ],
   "source": [
    "data.info()"
   ]
  },
  {
   "cell_type": "code",
   "execution_count": 5,
   "metadata": {},
   "outputs": [
    {
     "name": "stdout",
     "output_type": "stream",
     "text": [
      "Index(['gender', 'age', 'salary', 'family_members', 'insurance_payments'], dtype='object')\n"
     ]
    }
   ],
   "source": [
    "# переименуем названия признаков\n",
    "data.rename(columns={\"Пол\": \"gender\", \n",
    "                     \"Возраст\": \"age\",\n",
    "                     \"Зарплата\": \"salary\",\n",
    "                     \"Члены семьи\": \"family_members\",\n",
    "                     \"Страховые выплаты\": \"insurance_payments\"}, inplace = True)\n",
    "print(data.columns)"
   ]
  },
  {
   "cell_type": "markdown",
   "metadata": {},
   "source": [
    "**Краткий вывод**  \n",
    "В базе 5 признаков. В датасете нет миссингов, типы данных подходят для обучения линейной регресси. Только названия признаков были на русском языке, переименовала их. "
   ]
  },
  {
   "cell_type": "markdown",
   "metadata": {},
   "source": [
    "## Умножение матриц"
   ]
  },
  {
   "cell_type": "markdown",
   "metadata": {},
   "source": [
    "В этом задании вы можете записывать формулы в *Jupyter Notebook.*\n",
    "\n",
    "Чтобы записать формулу внутри текста, окружите её символами доллара \\\\$; если снаружи —  двойными символами \\\\$\\\\$. Эти формулы записываются на языке вёрстки *LaTeX.* \n",
    "\n",
    "Для примера мы записали формулы линейной регрессии. Можете их скопировать и отредактировать, чтобы решить задачу.\n",
    "\n",
    "Работать в *LaTeX* необязательно."
   ]
  },
  {
   "cell_type": "markdown",
   "metadata": {},
   "source": [
    "Обозначения:\n",
    "\n",
    "- $X$ — матрица признаков (нулевой столбец состоит из единиц)\n",
    "\n",
    "- $y$ — вектор целевого признака\n",
    "\n",
    "- $P$ — матрица, на которую умножаются признаки\n",
    "\n",
    "- $w$ — вектор весов линейной регрессии (нулевой элемент равен сдвигу)"
   ]
  },
  {
   "cell_type": "markdown",
   "metadata": {},
   "source": [
    "Предсказания:\n",
    "\n",
    "$$\n",
    "a = Xw\n",
    "$$\n",
    "\n",
    "Задача обучения:\n",
    "\n",
    "$$\n",
    "w = \\arg\\min_w MSE(Xw, y)\n",
    "$$\n",
    "\n",
    "Формула обучения:\n",
    "\n",
    "$$\n",
    "w = (X^T X)^{-1} X^T y\n",
    "$$"
   ]
  },
  {
   "cell_type": "markdown",
   "metadata": {},
   "source": [
    "**Ответ:**  Нет, не изменится. \n",
    "\n",
    "**Обоснование:** \n",
    "\n",
    "Предсказания\n",
    "$$\n",
    "a = Xw\\qquad (0)\n",
    "$$\n",
    "\n",
    "Формула обучения линейной регрессии\n",
    "\n",
    "$$\n",
    "w = (X^T X)^{-1} X^T y\\qquad (1)\n",
    "$$\n",
    "\n",
    "Умножим матрицу признаков на обратимую матрицу $P$ \n",
    "$$\n",
    "a' = XPw' \\qquad (2)\n",
    "$$\n",
    "\n",
    "Тогда формула обучения линейной регресси примет вид: \n",
    "$$\n",
    "w' = ((XP)^T XP)^{-1} (XP)^T y \\qquad (3)\n",
    "$$\n",
    "\n",
    "Преобразуем выражение для $w'$:\n",
    "\n",
    "$$ \n",
    "w' = ((XP)^T(XP))^{-1} (XP)^Ty = (P^TX^T XP)^{-1} P^T X^T y = P^{-1} (X^T X)^{-1} (P^T)^{-1}P^T X^T y\\qquad (4)\n",
    "$$ \n",
    "\n",
    "По свойствам умножения матриц $(P^T)^{-1}P^T = E$ (единичной матрицу)\n",
    "\n",
    "Действительно: пусть $A = P^T$, тогда $A^{-1}A => E$.  \n",
    "И еще из свойств матричного умножения знаем, что при умножении матрицы/вектора на единичную матрицу получается та же матрица/вектор.  \n",
    "\n",
    "Тогда в $(4)$ можно опустить $(P^T)^{-1}P^T$ и получим: \n",
    "$$\n",
    "w' = P^{-1} (X^T X)^{-1} X^T y\\qquad (5)\n",
    "$$ \n",
    "\n",
    "Из $(1) => (X^T X)^{-1} X^T y = w$. \n",
    "\n",
    "Подставим это значение в $(5)$ и получим:\n",
    "$$ \n",
    "w' = P^{-1} (X^T X)^{-1} X^T y = P^{-1}w\n",
    "$$ \n",
    "\n",
    "Получили: \n",
    "$$\n",
    "w'= P^{-1}w\\qquad (6)\n",
    "$$\n",
    "\n",
    "Подставим вместо $w'$ в формуле для предсказаний $(2)$ значение $P^{-1}w$:\n",
    "\n",
    "$a'= XPP^{-1}w = Xw = a$\n",
    "\n",
    "Получили, что после всех преобразования и применений свойств матричного умножения, что\n",
    "\n",
    "$a' = a$\n",
    "\n",
    "Теперь вспомним, что задача обучения заключалась в \n",
    "$$\n",
    "w = \\arg\\min_w MSE(Xw, y)\n",
    "$$\n",
    "\n",
    "Преобразованная задача будет выглядеть так:\n",
    "\n",
    "$$\n",
    "w' = \\arg\\min_w MSE(XPw', y)\n",
    "$$\n",
    "\n",
    "Подставим вместо $w'$ полученное значени $(6)$. Получим:\n",
    "\n",
    "$$\n",
    "w' = \\arg\\min_w MSE(XPw', y) = \\arg\\min_w MSE(XPP^{-1}w, y) = \\arg\\min_w MSE(Xw, y)\n",
    "$$\n",
    "\n",
    "Получили взаимно-однозначное соответствие параметров исходной и преобразованной задач. Минимум достигается при одном и том же значени фукнции потерь.  \n",
    "Следовательно, при умножении матрицы признаков на обратимую матрицу качество линейной регрессии не изменится. "
   ]
  },
  {
   "cell_type": "markdown",
   "metadata": {},
   "source": [
    "## Алгоритм преобразования"
   ]
  },
  {
   "cell_type": "markdown",
   "metadata": {},
   "source": [
    "**Алгоритм**\n",
    "\n",
    "1. Отделить целевой признак от набора данных. Разделить датасет на обучающую и тестовую.  \n",
    "2. Сгенерировать и зафиксировать случайную квадратную матрицу в качестве ключа шифрования.  \n",
    "3. Провести матричное умножение набора данных и ключа шифрования. \n",
    "4. Обучить линейную регрессию для исходной базы и зашифрованной базы. Сравнить качество двух моделей. "
   ]
  },
  {
   "cell_type": "markdown",
   "metadata": {},
   "source": [
    "**Обоснование**\n",
    "\n",
    "\n",
    "Отделить целевой признак и остальные признаки, а также поделить выборку на обучающую и тестовую нужно для обучения модели: как в исходной задаче, так и в преобразованной. \n",
    "\n",
    "В предыдущем пункте было доказано, что качество линейной регрессии не изменится если умножить матрицу признаков на обратимую матрицу. Помним, что обратимаю матрица - квадратная и невырожденная (определитель отличен от (не равен) нуля). Опираясь на жто свойство мы можем зашифровать исходные признаки, умножив матрицу на сгенерированную случайным образом обратимую матрицу.\n",
    "\n",
    "Затем следует стандартная задача обучения: для исходной задачи и преобразованной. Сравним метрику $R^2-score$ и проверим изменилось ли качество или нет. "
   ]
  },
  {
   "cell_type": "markdown",
   "metadata": {},
   "source": [
    "## Проверка алгоритма\n",
    "\n",
    "### Шаг 1"
   ]
  },
  {
   "cell_type": "code",
   "execution_count": 6,
   "metadata": {},
   "outputs": [],
   "source": [
    "# отделим целевой и остальные признаки\n",
    "features = data.drop('insurance_payments', axis=1)\n",
    "target = data['insurance_payments']"
   ]
  },
  {
   "cell_type": "code",
   "execution_count": 7,
   "metadata": {},
   "outputs": [],
   "source": [
    "# разделим выборку на обучающую и тестовую\n",
    "features_train, features_test, target_train, target_test = train_test_split(features, target,\n",
    "                                                                            test_size=0.25, random_state=12345)"
   ]
  },
  {
   "cell_type": "markdown",
   "metadata": {},
   "source": [
    "### Шаг 2"
   ]
  },
  {
   "cell_type": "code",
   "execution_count": 8,
   "metadata": {},
   "outputs": [],
   "source": [
    "# сгенерируем случайную матрицу 4х4\n",
    "np.random.seed(100)\n",
    "state = np.random.get_state()\n",
    "random_matrix = np.random.random((4, 4))"
   ]
  },
  {
   "cell_type": "code",
   "execution_count": 9,
   "metadata": {},
   "outputs": [
    {
     "data": {
      "text/plain": [
       "array([[0.54340494, 0.27836939, 0.42451759, 0.84477613],\n",
       "       [0.00471886, 0.12156912, 0.67074908, 0.82585276],\n",
       "       [0.13670659, 0.57509333, 0.89132195, 0.20920212],\n",
       "       [0.18532822, 0.10837689, 0.21969749, 0.97862378]])"
      ]
     },
     "execution_count": 9,
     "metadata": {},
     "output_type": "execute_result"
    }
   ],
   "source": [
    "random_matrix"
   ]
  },
  {
   "cell_type": "code",
   "execution_count": 10,
   "metadata": {},
   "outputs": [
    {
     "data": {
      "text/plain": [
       "-0.07920228403931696"
      ]
     },
     "execution_count": 10,
     "metadata": {},
     "output_type": "execute_result"
    }
   ],
   "source": [
    "# проверим, что полученная матрица невырожденная, \n",
    "# иными словами проверим, что её определитель отличен от нуля\n",
    "\n",
    "np.linalg.det(random_matrix)"
   ]
  },
  {
   "cell_type": "markdown",
   "metadata": {},
   "source": [
    "**Краткий вывод** \n",
    "\n",
    "Определитель матрицы отличен от нуля, значит матрица обратимая. Можно приступить к выполнению следующего шага. "
   ]
  },
  {
   "cell_type": "markdown",
   "metadata": {},
   "source": [
    "### Шаг 3. \n",
    "Зашифруем признаки. "
   ]
  },
  {
   "cell_type": "code",
   "execution_count": 11,
   "metadata": {},
   "outputs": [],
   "source": [
    "features_train_code = features_train.values.dot(random_matrix)\n",
    "features_test_code = features_test.values.dot(random_matrix)"
   ]
  },
  {
   "cell_type": "code",
   "execution_count": 12,
   "metadata": {},
   "outputs": [
    {
     "data": {
      "text/html": [
       "<div>\n",
       "<style scoped>\n",
       "    .dataframe tbody tr th:only-of-type {\n",
       "        vertical-align: middle;\n",
       "    }\n",
       "\n",
       "    .dataframe tbody tr th {\n",
       "        vertical-align: top;\n",
       "    }\n",
       "\n",
       "    .dataframe thead th {\n",
       "        text-align: right;\n",
       "    }\n",
       "</style>\n",
       "<table border=\"1\" class=\"dataframe\">\n",
       "  <thead>\n",
       "    <tr style=\"text-align: right;\">\n",
       "      <th></th>\n",
       "      <th>gender</th>\n",
       "      <th>age</th>\n",
       "      <th>salary</th>\n",
       "      <th>family_members</th>\n",
       "    </tr>\n",
       "  </thead>\n",
       "  <tbody>\n",
       "    <tr>\n",
       "      <th>0</th>\n",
       "      <td>4949.710191</td>\n",
       "      <td>20823.992744</td>\n",
       "      <td>32295.341172</td>\n",
       "      <td>7610.451889</td>\n",
       "    </tr>\n",
       "    <tr>\n",
       "      <th>1</th>\n",
       "      <td>7875.003412</td>\n",
       "      <td>33129.787495</td>\n",
       "      <td>51363.374555</td>\n",
       "      <td>12078.966004</td>\n",
       "    </tr>\n",
       "    <tr>\n",
       "      <th>2</th>\n",
       "      <td>5618.977168</td>\n",
       "      <td>23640.334428</td>\n",
       "      <td>36655.015990</td>\n",
       "      <td>8625.613131</td>\n",
       "    </tr>\n",
       "    <tr>\n",
       "      <th>3</th>\n",
       "      <td>6165.822402</td>\n",
       "      <td>25941.194022</td>\n",
       "      <td>40222.986804</td>\n",
       "      <td>9465.725030</td>\n",
       "    </tr>\n",
       "    <tr>\n",
       "      <th>4</th>\n",
       "      <td>6917.879817</td>\n",
       "      <td>29103.951004</td>\n",
       "      <td>45123.465003</td>\n",
       "      <td>10614.837768</td>\n",
       "    </tr>\n",
       "  </tbody>\n",
       "</table>\n",
       "</div>"
      ],
      "text/plain": [
       "        gender           age        salary  family_members\n",
       "0  4949.710191  20823.992744  32295.341172     7610.451889\n",
       "1  7875.003412  33129.787495  51363.374555    12078.966004\n",
       "2  5618.977168  23640.334428  36655.015990     8625.613131\n",
       "3  6165.822402  25941.194022  40222.986804     9465.725030\n",
       "4  6917.879817  29103.951004  45123.465003    10614.837768"
      ]
     },
     "execution_count": 12,
     "metadata": {},
     "output_type": "execute_result"
    }
   ],
   "source": [
    "features_train_code = pd.DataFrame(features_train_code, columns=features_train.columns)\n",
    "features_train_code.head()"
   ]
  },
  {
   "cell_type": "code",
   "execution_count": 13,
   "metadata": {},
   "outputs": [
    {
     "data": {
      "text/html": [
       "<div>\n",
       "<style scoped>\n",
       "    .dataframe tbody tr th:only-of-type {\n",
       "        vertical-align: middle;\n",
       "    }\n",
       "\n",
       "    .dataframe tbody tr th {\n",
       "        vertical-align: top;\n",
       "    }\n",
       "\n",
       "    .dataframe thead th {\n",
       "        text-align: right;\n",
       "    }\n",
       "</style>\n",
       "<table border=\"1\" class=\"dataframe\">\n",
       "  <thead>\n",
       "    <tr style=\"text-align: right;\">\n",
       "      <th></th>\n",
       "      <th>gender</th>\n",
       "      <th>age</th>\n",
       "      <th>salary</th>\n",
       "      <th>family_members</th>\n",
       "    </tr>\n",
       "  </thead>\n",
       "  <tbody>\n",
       "    <tr>\n",
       "      <th>0</th>\n",
       "      <td>5332.454033</td>\n",
       "      <td>22433.085136</td>\n",
       "      <td>34784.569728</td>\n",
       "      <td>8190.050399</td>\n",
       "    </tr>\n",
       "    <tr>\n",
       "      <th>1</th>\n",
       "      <td>5892.660615</td>\n",
       "      <td>24792.817708</td>\n",
       "      <td>38449.953080</td>\n",
       "      <td>9059.861349</td>\n",
       "    </tr>\n",
       "    <tr>\n",
       "      <th>2</th>\n",
       "      <td>5756.074866</td>\n",
       "      <td>24216.448734</td>\n",
       "      <td>37551.238008</td>\n",
       "      <td>8840.462375</td>\n",
       "    </tr>\n",
       "    <tr>\n",
       "      <th>3</th>\n",
       "      <td>4757.483698</td>\n",
       "      <td>20015.679246</td>\n",
       "      <td>31031.418992</td>\n",
       "      <td>7296.750905</td>\n",
       "    </tr>\n",
       "    <tr>\n",
       "      <th>4</th>\n",
       "      <td>5469.198373</td>\n",
       "      <td>23009.151019</td>\n",
       "      <td>35681.257675</td>\n",
       "      <td>8405.859343</td>\n",
       "    </tr>\n",
       "  </tbody>\n",
       "</table>\n",
       "</div>"
      ],
      "text/plain": [
       "        gender           age        salary  family_members\n",
       "0  5332.454033  22433.085136  34784.569728     8190.050399\n",
       "1  5892.660615  24792.817708  38449.953080     9059.861349\n",
       "2  5756.074866  24216.448734  37551.238008     8840.462375\n",
       "3  4757.483698  20015.679246  31031.418992     7296.750905\n",
       "4  5469.198373  23009.151019  35681.257675     8405.859343"
      ]
     },
     "execution_count": 13,
     "metadata": {},
     "output_type": "execute_result"
    }
   ],
   "source": [
    "features_test_code = pd.DataFrame(features_test_code, columns=features_test.columns)\n",
    "features_test_code.head()"
   ]
  },
  {
   "cell_type": "markdown",
   "metadata": {},
   "source": [
    "Итак, все необходимые преобразования выполнены. Перейдем к обучению линейной регрессии и проверке качества моделей. "
   ]
  },
  {
   "cell_type": "markdown",
   "metadata": {},
   "source": [
    "### Шаг 4"
   ]
  },
  {
   "cell_type": "code",
   "execution_count": 14,
   "metadata": {},
   "outputs": [
    {
     "data": {
      "text/plain": [
       "0.43522757127026546"
      ]
     },
     "execution_count": 14,
     "metadata": {},
     "output_type": "execute_result"
    }
   ],
   "source": [
    "# обучим линейную регрессию для исходных данных\n",
    "model = LinearRegression().fit(features_train, target_train)\n",
    "predictions = model.predict(features_test)\n",
    "\n",
    "# проверим качество модели для исходной задачи\n",
    "r2_score(target_test, predictions)"
   ]
  },
  {
   "cell_type": "code",
   "execution_count": 15,
   "metadata": {},
   "outputs": [
    {
     "data": {
      "text/plain": [
       "0.4352275712686613"
      ]
     },
     "execution_count": 15,
     "metadata": {},
     "output_type": "execute_result"
    }
   ],
   "source": [
    "# обучим линейную регрессию для зашифрованных данных\n",
    "model = LinearRegression().fit(features_train_code, target_train)\n",
    "predictions = model.predict(features_test_code)\n",
    "\n",
    "# проверим качество модели для преобразованной задачи\n",
    "r2_score(target_test, predictions)"
   ]
  },
  {
   "cell_type": "markdown",
   "metadata": {},
   "source": [
    "**Вывод** \n",
    "\n",
    "Качество модели до и после преобразования практически одинаковые. "
   ]
  }
 ],
 "metadata": {
  "ExecuteTimeLog": [
   {
    "duration": 1167,
    "start_time": "2022-06-18T13:41:41.449Z"
   },
   {
    "duration": 76,
    "start_time": "2022-06-18T13:41:50.259Z"
   },
   {
    "duration": 28,
    "start_time": "2022-06-18T13:41:56.210Z"
   },
   {
    "duration": 11,
    "start_time": "2022-06-18T13:42:06.084Z"
   },
   {
    "duration": 4,
    "start_time": "2022-06-18T13:42:14.291Z"
   },
   {
    "duration": 5,
    "start_time": "2022-06-18T13:43:32.932Z"
   },
   {
    "duration": 6,
    "start_time": "2022-06-18T13:43:43.607Z"
   },
   {
    "duration": 4,
    "start_time": "2022-06-18T13:44:08.098Z"
   },
   {
    "duration": 4,
    "start_time": "2022-06-18T13:44:08.824Z"
   },
   {
    "duration": 4,
    "start_time": "2022-06-18T13:44:29.207Z"
   },
   {
    "duration": 10,
    "start_time": "2022-06-18T13:44:33.841Z"
   },
   {
    "duration": 9,
    "start_time": "2022-06-18T13:44:42.344Z"
   },
   {
    "duration": 10,
    "start_time": "2022-06-18T13:45:21.700Z"
   },
   {
    "duration": 11,
    "start_time": "2022-06-18T13:45:27.965Z"
   },
   {
    "duration": 1098,
    "start_time": "2022-06-18T20:40:30.022Z"
   },
   {
    "duration": 29,
    "start_time": "2022-06-18T20:40:31.122Z"
   },
   {
    "duration": 16,
    "start_time": "2022-06-18T20:40:31.152Z"
   },
   {
    "duration": 12,
    "start_time": "2022-06-18T20:40:31.170Z"
   },
   {
    "duration": 4,
    "start_time": "2022-06-18T20:40:31.184Z"
   },
   {
    "duration": 6,
    "start_time": "2022-06-18T20:40:31.190Z"
   },
   {
    "duration": 19,
    "start_time": "2022-06-18T20:40:31.197Z"
   },
   {
    "duration": 12,
    "start_time": "2022-06-18T20:40:31.218Z"
   },
   {
    "duration": 18,
    "start_time": "2022-06-18T20:40:31.231Z"
   },
   {
    "duration": 5,
    "start_time": "2022-06-18T20:41:38.169Z"
   },
   {
    "duration": 4,
    "start_time": "2022-06-18T20:42:38.596Z"
   },
   {
    "duration": 25,
    "start_time": "2022-06-18T20:42:38.601Z"
   },
   {
    "duration": 13,
    "start_time": "2022-06-18T20:42:38.628Z"
   },
   {
    "duration": 18,
    "start_time": "2022-06-18T20:42:38.643Z"
   },
   {
    "duration": 23,
    "start_time": "2022-06-18T20:42:38.662Z"
   }
  ],
  "kernelspec": {
   "display_name": "Python 3 (ipykernel)",
   "language": "python",
   "name": "python3"
  },
  "language_info": {
   "codemirror_mode": {
    "name": "ipython",
    "version": 3
   },
   "file_extension": ".py",
   "mimetype": "text/x-python",
   "name": "python",
   "nbconvert_exporter": "python",
   "pygments_lexer": "ipython3",
   "version": "3.9.12"
  },
  "toc": {
   "base_numbering": 1,
   "nav_menu": {},
   "number_sections": true,
   "sideBar": true,
   "skip_h1_title": true,
   "title_cell": "Содержание",
   "title_sidebar": "Contents",
   "toc_cell": true,
   "toc_position": {},
   "toc_section_display": true,
   "toc_window_display": true
  }
 },
 "nbformat": 4,
 "nbformat_minor": 2
}
