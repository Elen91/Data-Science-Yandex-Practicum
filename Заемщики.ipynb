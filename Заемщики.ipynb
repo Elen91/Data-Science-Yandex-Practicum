{
 "cells": [
  {
   "cell_type": "markdown",
   "id": "142f54bd",
   "metadata": {},
   "source": [
    "# Исследование надежности заемщиков."
   ]
  },
  {
   "cell_type": "markdown",
   "id": "63162ea0",
   "metadata": {},
   "source": [
    "## Описание проекта\n",
    "\n",
    "Заказчик — кредитный отдел банка. Нужно разобраться, влияет ли семейное положение и количество детей клиента на факт погашения кредита в срок. Входные данные от банка — статистика о платёжеспособности клиентов.\n",
    "\n",
    "Результаты исследования будут учтены при построении модели кредитного скоринга — специальной системы, которая оценивает способность потенциального заёмщика вернуть кредит банку.\n",
    "\n",
    "**Цель исследования** — проверьте ответить на следующие исследовательские вопросы:\n",
    "* Есть ли зависимость между количеством детей и возвратом кредита в срок?\n",
    "* Есть ли зависимость между семейным положением и возвратом кредита в срок?\n",
    "* Есть ли зависимость между уровнем дохода и возвратом кредита в срок?\n",
    "* Как разные цели кредита влияют на его возврат в срок?"
   ]
  },
  {
   "cell_type": "markdown",
   "id": "d172ec9c",
   "metadata": {},
   "source": [
    "### Шаг 1. Обзор данных"
   ]
  },
  {
   "cell_type": "code",
   "execution_count": 1,
   "id": "3f2032a4",
   "metadata": {},
   "outputs": [],
   "source": [
    "# импортируем библиотеку pandas\n",
    "import pandas as pd \n",
    "\n",
    "# импортируем библиотеку seaborn для визуализации\n",
    "import seaborn as sns"
   ]
  },
  {
   "cell_type": "code",
   "execution_count": 2,
   "id": "c2ce03fe",
   "metadata": {},
   "outputs": [],
   "source": [
    "# загрузим данные и сохраним в переменную data\n",
    "#data = pd.read_csv('data.csv')\n",
    "data = pd.read_csv('/datasets/data.csv')"
   ]
  },
  {
   "cell_type": "code",
   "execution_count": 3,
   "id": "1cb6eddd",
   "metadata": {},
   "outputs": [
    {
     "data": {
      "text/html": [
       "<div>\n",
       "<style scoped>\n",
       "    .dataframe tbody tr th:only-of-type {\n",
       "        vertical-align: middle;\n",
       "    }\n",
       "\n",
       "    .dataframe tbody tr th {\n",
       "        vertical-align: top;\n",
       "    }\n",
       "\n",
       "    .dataframe thead th {\n",
       "        text-align: right;\n",
       "    }\n",
       "</style>\n",
       "<table border=\"1\" class=\"dataframe\">\n",
       "  <thead>\n",
       "    <tr style=\"text-align: right;\">\n",
       "      <th></th>\n",
       "      <th>children</th>\n",
       "      <th>days_employed</th>\n",
       "      <th>dob_years</th>\n",
       "      <th>education</th>\n",
       "      <th>education_id</th>\n",
       "      <th>family_status</th>\n",
       "      <th>family_status_id</th>\n",
       "      <th>gender</th>\n",
       "      <th>income_type</th>\n",
       "      <th>debt</th>\n",
       "      <th>total_income</th>\n",
       "      <th>purpose</th>\n",
       "    </tr>\n",
       "  </thead>\n",
       "  <tbody>\n",
       "    <tr>\n",
       "      <td>0</td>\n",
       "      <td>1</td>\n",
       "      <td>-8437.673028</td>\n",
       "      <td>42</td>\n",
       "      <td>высшее</td>\n",
       "      <td>0</td>\n",
       "      <td>женат / замужем</td>\n",
       "      <td>0</td>\n",
       "      <td>F</td>\n",
       "      <td>сотрудник</td>\n",
       "      <td>0</td>\n",
       "      <td>253875.639453</td>\n",
       "      <td>покупка жилья</td>\n",
       "    </tr>\n",
       "    <tr>\n",
       "      <td>1</td>\n",
       "      <td>1</td>\n",
       "      <td>-4024.803754</td>\n",
       "      <td>36</td>\n",
       "      <td>среднее</td>\n",
       "      <td>1</td>\n",
       "      <td>женат / замужем</td>\n",
       "      <td>0</td>\n",
       "      <td>F</td>\n",
       "      <td>сотрудник</td>\n",
       "      <td>0</td>\n",
       "      <td>112080.014102</td>\n",
       "      <td>приобретение автомобиля</td>\n",
       "    </tr>\n",
       "    <tr>\n",
       "      <td>2</td>\n",
       "      <td>0</td>\n",
       "      <td>-5623.422610</td>\n",
       "      <td>33</td>\n",
       "      <td>Среднее</td>\n",
       "      <td>1</td>\n",
       "      <td>женат / замужем</td>\n",
       "      <td>0</td>\n",
       "      <td>M</td>\n",
       "      <td>сотрудник</td>\n",
       "      <td>0</td>\n",
       "      <td>145885.952297</td>\n",
       "      <td>покупка жилья</td>\n",
       "    </tr>\n",
       "    <tr>\n",
       "      <td>3</td>\n",
       "      <td>3</td>\n",
       "      <td>-4124.747207</td>\n",
       "      <td>32</td>\n",
       "      <td>среднее</td>\n",
       "      <td>1</td>\n",
       "      <td>женат / замужем</td>\n",
       "      <td>0</td>\n",
       "      <td>M</td>\n",
       "      <td>сотрудник</td>\n",
       "      <td>0</td>\n",
       "      <td>267628.550329</td>\n",
       "      <td>дополнительное образование</td>\n",
       "    </tr>\n",
       "    <tr>\n",
       "      <td>4</td>\n",
       "      <td>0</td>\n",
       "      <td>340266.072047</td>\n",
       "      <td>53</td>\n",
       "      <td>среднее</td>\n",
       "      <td>1</td>\n",
       "      <td>гражданский брак</td>\n",
       "      <td>1</td>\n",
       "      <td>F</td>\n",
       "      <td>пенсионер</td>\n",
       "      <td>0</td>\n",
       "      <td>158616.077870</td>\n",
       "      <td>сыграть свадьбу</td>\n",
       "    </tr>\n",
       "  </tbody>\n",
       "</table>\n",
       "</div>"
      ],
      "text/plain": [
       "   children  days_employed  dob_years education  education_id  \\\n",
       "0         1   -8437.673028         42    высшее             0   \n",
       "1         1   -4024.803754         36   среднее             1   \n",
       "2         0   -5623.422610         33   Среднее             1   \n",
       "3         3   -4124.747207         32   среднее             1   \n",
       "4         0  340266.072047         53   среднее             1   \n",
       "\n",
       "      family_status  family_status_id gender income_type  debt   total_income  \\\n",
       "0   женат / замужем                 0      F   сотрудник     0  253875.639453   \n",
       "1   женат / замужем                 0      F   сотрудник     0  112080.014102   \n",
       "2   женат / замужем                 0      M   сотрудник     0  145885.952297   \n",
       "3   женат / замужем                 0      M   сотрудник     0  267628.550329   \n",
       "4  гражданский брак                 1      F   пенсионер     0  158616.077870   \n",
       "\n",
       "                      purpose  \n",
       "0               покупка жилья  \n",
       "1     приобретение автомобиля  \n",
       "2               покупка жилья  \n",
       "3  дополнительное образование  \n",
       "4             сыграть свадьбу  "
      ]
     },
     "execution_count": 3,
     "metadata": {},
     "output_type": "execute_result"
    }
   ],
   "source": [
    "# посмотрим на первые 5 строк датасета и проверим как загрузились данные\n",
    "data.head(5)"
   ]
  },
  {
   "cell_type": "markdown",
   "id": "c3f5b410",
   "metadata": {},
   "source": [
    "На первый взгляд, данные загрузились корректно. \n",
    "\n",
    "Посмотрим на общую информацию о данных"
   ]
  },
  {
   "cell_type": "code",
   "execution_count": 4,
   "id": "addffdb4",
   "metadata": {},
   "outputs": [
    {
     "name": "stdout",
     "output_type": "stream",
     "text": [
      "<class 'pandas.core.frame.DataFrame'>\n",
      "RangeIndex: 21525 entries, 0 to 21524\n",
      "Data columns (total 12 columns):\n",
      "children            21525 non-null int64\n",
      "days_employed       19351 non-null float64\n",
      "dob_years           21525 non-null int64\n",
      "education           21525 non-null object\n",
      "education_id        21525 non-null int64\n",
      "family_status       21525 non-null object\n",
      "family_status_id    21525 non-null int64\n",
      "gender              21525 non-null object\n",
      "income_type         21525 non-null object\n",
      "debt                21525 non-null int64\n",
      "total_income        19351 non-null float64\n",
      "purpose             21525 non-null object\n",
      "dtypes: float64(2), int64(5), object(5)\n",
      "memory usage: 2.0+ MB\n"
     ]
    }
   ],
   "source": [
    "data.info()"
   ]
  },
  {
   "cell_type": "markdown",
   "id": "6d387f0e",
   "metadata": {},
   "source": [
    "В датасете 12 столбцов (переменных) и 21525 строк (данные по клиентам). Есть три типа данных float64, int64 и object. \n",
    "\n",
    "Согласно документации к данным: \n",
    "* `children` — количество детей в семье\n",
    "* `days_employed` — общий трудовой стаж в днях\n",
    "* `dob_years` — возраст клиента в годах\n",
    "* `education` — уровень образования клиента\n",
    "* `education_id` — идентификатор уровня образования\n",
    "* `family_status` — семейное положение\n",
    "* `family_status_id` — идентификатор семейного положения\n",
    "* `gender` — пол клиента\n",
    "* `income_type` — тип занятости\n",
    "* `debt` — имел ли задолженность по возврату кредитов\n",
    "* `total_income` — ежемесячный доход\n",
    "* `purpose` — цель получения кредита\n",
    "\n",
    "В двух столбцах `days_employed` (стаж работы в днях) и `total_income` (ежемесячный доход) есть пропуски (миссинги). "
   ]
  },
  {
   "cell_type": "markdown",
   "id": "7d487481",
   "metadata": {},
   "source": [
    "#### Выводы \n",
    "В каждой строке таблицы представлены данные о каждом клиенте банка. Часть данных описывает семейные характеристики (семейное положение, число детей), другая часть описывает трудовые характеристики (стаж, доход), третья - личные характеристики такие, как пол, возраст. Оставшаяся часть раскрывает кредитную историю клиента и цель для получения кредита. \n",
    "Уровень образования и семейное положение представлено в двух форматах: числовом и строковом. Каждые уровень в соседней колонке закодирован числом. Далее мы этим воспользуемся. \n",
    "\n",
    "Предварительно можно утверждать, что, данных достаточно для проверки гипотез. Но встречаются пропуски в данных. Следует отметить, что названия колонок соответствуют хорошему стилю. \n",
    "\n",
    "Чтобы двигаться дальше, нужно устранить проблемы в данных.\n"
   ]
  },
  {
   "cell_type": "markdown",
   "id": "ed0a1d9e",
   "metadata": {},
   "source": [
    "## Предобработка данных"
   ]
  },
  {
   "cell_type": "markdown",
   "id": "a5d38eb1",
   "metadata": {},
   "source": [
    "### Шаг 2.1 Заполнение пропусков\n",
    "\n",
    "Сначала посчитаем количество пропусков"
   ]
  },
  {
   "cell_type": "code",
   "execution_count": 5,
   "id": "a3a916b1",
   "metadata": {},
   "outputs": [
    {
     "data": {
      "text/plain": [
       "children               0\n",
       "days_employed       2174\n",
       "dob_years              0\n",
       "education              0\n",
       "education_id           0\n",
       "family_status          0\n",
       "family_status_id       0\n",
       "gender                 0\n",
       "income_type            0\n",
       "debt                   0\n",
       "total_income        2174\n",
       "purpose                0\n",
       "dtype: int64"
      ]
     },
     "execution_count": 5,
     "metadata": {},
     "output_type": "execute_result"
    }
   ],
   "source": [
    "# подсчёт пропусков\n",
    "data.isna().sum() "
   ]
  },
  {
   "cell_type": "code",
   "execution_count": 6,
   "id": "e07379c4",
   "metadata": {},
   "outputs": [
    {
     "data": {
      "text/plain": [
       "children             0.000000\n",
       "days_employed       10.099884\n",
       "dob_years            0.000000\n",
       "education            0.000000\n",
       "education_id         0.000000\n",
       "family_status        0.000000\n",
       "family_status_id     0.000000\n",
       "gender               0.000000\n",
       "income_type          0.000000\n",
       "debt                 0.000000\n",
       "total_income        10.099884\n",
       "purpose              0.000000\n",
       "dtype: float64"
      ]
     },
     "execution_count": 6,
     "metadata": {},
     "output_type": "execute_result"
    }
   ],
   "source": [
    "data.isna().sum() / len(data) * 100"
   ]
  },
  {
   "cell_type": "markdown",
   "id": "61baaa17",
   "metadata": {},
   "source": [
    "   Доля пропусков составляет примерно 10%. Отсутствие данных о стаже и ежемесячный доход можно объяснить тем, что клиент еще нигде не работал и не работает в настоящее время. Представляется, что пропуски неслучайные\n",
    "Посмотрим на данные, где пропуски"
   ]
  },
  {
   "cell_type": "code",
   "execution_count": 7,
   "id": "c39afab3",
   "metadata": {
    "scrolled": true
   },
   "outputs": [
    {
     "data": {
      "text/plain": [
       "2174"
      ]
     },
     "execution_count": 7,
     "metadata": {},
     "output_type": "execute_result"
    }
   ],
   "source": [
    "data[data['days_employed'].isna() & data['total_income'].isna()].shape[0]"
   ]
  },
  {
   "cell_type": "markdown",
   "id": "00275b12",
   "metadata": {},
   "source": [
    "Видим, что пропуски по этим данным у одних и тех же клиентов. Взглянем на первые 10 строк данных с пропусками."
   ]
  },
  {
   "cell_type": "code",
   "execution_count": 8,
   "id": "6e36e80a",
   "metadata": {},
   "outputs": [
    {
     "data": {
      "text/html": [
       "<div>\n",
       "<style scoped>\n",
       "    .dataframe tbody tr th:only-of-type {\n",
       "        vertical-align: middle;\n",
       "    }\n",
       "\n",
       "    .dataframe tbody tr th {\n",
       "        vertical-align: top;\n",
       "    }\n",
       "\n",
       "    .dataframe thead th {\n",
       "        text-align: right;\n",
       "    }\n",
       "</style>\n",
       "<table border=\"1\" class=\"dataframe\">\n",
       "  <thead>\n",
       "    <tr style=\"text-align: right;\">\n",
       "      <th></th>\n",
       "      <th>children</th>\n",
       "      <th>days_employed</th>\n",
       "      <th>dob_years</th>\n",
       "      <th>education</th>\n",
       "      <th>education_id</th>\n",
       "      <th>family_status</th>\n",
       "      <th>family_status_id</th>\n",
       "      <th>gender</th>\n",
       "      <th>income_type</th>\n",
       "      <th>debt</th>\n",
       "      <th>total_income</th>\n",
       "      <th>purpose</th>\n",
       "    </tr>\n",
       "  </thead>\n",
       "  <tbody>\n",
       "    <tr>\n",
       "      <td>12</td>\n",
       "      <td>0</td>\n",
       "      <td>NaN</td>\n",
       "      <td>65</td>\n",
       "      <td>среднее</td>\n",
       "      <td>1</td>\n",
       "      <td>гражданский брак</td>\n",
       "      <td>1</td>\n",
       "      <td>M</td>\n",
       "      <td>пенсионер</td>\n",
       "      <td>0</td>\n",
       "      <td>NaN</td>\n",
       "      <td>сыграть свадьбу</td>\n",
       "    </tr>\n",
       "    <tr>\n",
       "      <td>26</td>\n",
       "      <td>0</td>\n",
       "      <td>NaN</td>\n",
       "      <td>41</td>\n",
       "      <td>среднее</td>\n",
       "      <td>1</td>\n",
       "      <td>женат / замужем</td>\n",
       "      <td>0</td>\n",
       "      <td>M</td>\n",
       "      <td>госслужащий</td>\n",
       "      <td>0</td>\n",
       "      <td>NaN</td>\n",
       "      <td>образование</td>\n",
       "    </tr>\n",
       "    <tr>\n",
       "      <td>29</td>\n",
       "      <td>0</td>\n",
       "      <td>NaN</td>\n",
       "      <td>63</td>\n",
       "      <td>среднее</td>\n",
       "      <td>1</td>\n",
       "      <td>Не женат / не замужем</td>\n",
       "      <td>4</td>\n",
       "      <td>F</td>\n",
       "      <td>пенсионер</td>\n",
       "      <td>0</td>\n",
       "      <td>NaN</td>\n",
       "      <td>строительство жилой недвижимости</td>\n",
       "    </tr>\n",
       "    <tr>\n",
       "      <td>41</td>\n",
       "      <td>0</td>\n",
       "      <td>NaN</td>\n",
       "      <td>50</td>\n",
       "      <td>среднее</td>\n",
       "      <td>1</td>\n",
       "      <td>женат / замужем</td>\n",
       "      <td>0</td>\n",
       "      <td>F</td>\n",
       "      <td>госслужащий</td>\n",
       "      <td>0</td>\n",
       "      <td>NaN</td>\n",
       "      <td>сделка с подержанным автомобилем</td>\n",
       "    </tr>\n",
       "    <tr>\n",
       "      <td>55</td>\n",
       "      <td>0</td>\n",
       "      <td>NaN</td>\n",
       "      <td>54</td>\n",
       "      <td>среднее</td>\n",
       "      <td>1</td>\n",
       "      <td>гражданский брак</td>\n",
       "      <td>1</td>\n",
       "      <td>F</td>\n",
       "      <td>пенсионер</td>\n",
       "      <td>1</td>\n",
       "      <td>NaN</td>\n",
       "      <td>сыграть свадьбу</td>\n",
       "    </tr>\n",
       "    <tr>\n",
       "      <td>65</td>\n",
       "      <td>0</td>\n",
       "      <td>NaN</td>\n",
       "      <td>21</td>\n",
       "      <td>среднее</td>\n",
       "      <td>1</td>\n",
       "      <td>Не женат / не замужем</td>\n",
       "      <td>4</td>\n",
       "      <td>M</td>\n",
       "      <td>компаньон</td>\n",
       "      <td>0</td>\n",
       "      <td>NaN</td>\n",
       "      <td>операции с коммерческой недвижимостью</td>\n",
       "    </tr>\n",
       "    <tr>\n",
       "      <td>67</td>\n",
       "      <td>0</td>\n",
       "      <td>NaN</td>\n",
       "      <td>52</td>\n",
       "      <td>высшее</td>\n",
       "      <td>0</td>\n",
       "      <td>женат / замужем</td>\n",
       "      <td>0</td>\n",
       "      <td>F</td>\n",
       "      <td>пенсионер</td>\n",
       "      <td>0</td>\n",
       "      <td>NaN</td>\n",
       "      <td>покупка жилья для семьи</td>\n",
       "    </tr>\n",
       "    <tr>\n",
       "      <td>72</td>\n",
       "      <td>1</td>\n",
       "      <td>NaN</td>\n",
       "      <td>32</td>\n",
       "      <td>высшее</td>\n",
       "      <td>0</td>\n",
       "      <td>женат / замужем</td>\n",
       "      <td>0</td>\n",
       "      <td>M</td>\n",
       "      <td>госслужащий</td>\n",
       "      <td>0</td>\n",
       "      <td>NaN</td>\n",
       "      <td>операции с коммерческой недвижимостью</td>\n",
       "    </tr>\n",
       "    <tr>\n",
       "      <td>82</td>\n",
       "      <td>2</td>\n",
       "      <td>NaN</td>\n",
       "      <td>50</td>\n",
       "      <td>высшее</td>\n",
       "      <td>0</td>\n",
       "      <td>женат / замужем</td>\n",
       "      <td>0</td>\n",
       "      <td>F</td>\n",
       "      <td>сотрудник</td>\n",
       "      <td>0</td>\n",
       "      <td>NaN</td>\n",
       "      <td>жилье</td>\n",
       "    </tr>\n",
       "    <tr>\n",
       "      <td>83</td>\n",
       "      <td>0</td>\n",
       "      <td>NaN</td>\n",
       "      <td>52</td>\n",
       "      <td>среднее</td>\n",
       "      <td>1</td>\n",
       "      <td>женат / замужем</td>\n",
       "      <td>0</td>\n",
       "      <td>M</td>\n",
       "      <td>сотрудник</td>\n",
       "      <td>0</td>\n",
       "      <td>NaN</td>\n",
       "      <td>жилье</td>\n",
       "    </tr>\n",
       "  </tbody>\n",
       "</table>\n",
       "</div>"
      ],
      "text/plain": [
       "    children  days_employed  dob_years education  education_id  \\\n",
       "12         0            NaN         65   среднее             1   \n",
       "26         0            NaN         41   среднее             1   \n",
       "29         0            NaN         63   среднее             1   \n",
       "41         0            NaN         50   среднее             1   \n",
       "55         0            NaN         54   среднее             1   \n",
       "65         0            NaN         21   среднее             1   \n",
       "67         0            NaN         52    высшее             0   \n",
       "72         1            NaN         32    высшее             0   \n",
       "82         2            NaN         50    высшее             0   \n",
       "83         0            NaN         52   среднее             1   \n",
       "\n",
       "            family_status  family_status_id gender  income_type  debt  \\\n",
       "12       гражданский брак                 1      M    пенсионер     0   \n",
       "26        женат / замужем                 0      M  госслужащий     0   \n",
       "29  Не женат / не замужем                 4      F    пенсионер     0   \n",
       "41        женат / замужем                 0      F  госслужащий     0   \n",
       "55       гражданский брак                 1      F    пенсионер     1   \n",
       "65  Не женат / не замужем                 4      M    компаньон     0   \n",
       "67        женат / замужем                 0      F    пенсионер     0   \n",
       "72        женат / замужем                 0      M  госслужащий     0   \n",
       "82        женат / замужем                 0      F    сотрудник     0   \n",
       "83        женат / замужем                 0      M    сотрудник     0   \n",
       "\n",
       "    total_income                                purpose  \n",
       "12           NaN                        сыграть свадьбу  \n",
       "26           NaN                            образование  \n",
       "29           NaN       строительство жилой недвижимости  \n",
       "41           NaN       сделка с подержанным автомобилем  \n",
       "55           NaN                        сыграть свадьбу  \n",
       "65           NaN  операции с коммерческой недвижимостью  \n",
       "67           NaN                покупка жилья для семьи  \n",
       "72           NaN  операции с коммерческой недвижимостью  \n",
       "82           NaN                                  жилье  \n",
       "83           NaN                                  жилье  "
      ]
     },
     "execution_count": 8,
     "metadata": {},
     "output_type": "execute_result"
    }
   ],
   "source": [
    "data[data['days_employed'].isna() & data['total_income'].isna()].head(10)"
   ]
  },
  {
   "cell_type": "markdown",
   "id": "102b7f2e",
   "metadata": {},
   "source": [
    "Сложно найти объяснение тому, почему нет данных о стаже и ежемесячном доходе. Возможно, что клиенты не указали эти данные. "
   ]
  },
  {
   "cell_type": "markdown",
   "id": "0c9bca36",
   "metadata": {},
   "source": [
    "Не все пропущенные значения влияют на исследование. Так, в нашем случае, в стаж (`days_employed`) пропуски не важны для вашей работы. \n",
    "Но важны пропуски в переменной \"ежемесячный доход\" (`total_income`).\n",
    "Заполним пропуски явными значениями. В данном случае переменные количественные и их лучше заменить медианным значением, поскольку медианное значение устойчиво к аномальным значениям (выбросам в данных / экстремально высоких или экстремальных низких значениях).\n",
    "Но перед этим, сначала проверим данные на наличие аномалий и исправим их. И затем заполним пропуски медианным значением."
   ]
  },
  {
   "cell_type": "markdown",
   "id": "f8cb3a29",
   "metadata": {},
   "source": [
    "### Шаг 2.2 Проверка данных на аномалии и исправления."
   ]
  },
  {
   "cell_type": "markdown",
   "id": "f301749d",
   "metadata": {},
   "source": [
    "Посмотрим на описательную статистику по всем количественным данным."
   ]
  },
  {
   "cell_type": "code",
   "execution_count": 9,
   "id": "46afee72",
   "metadata": {},
   "outputs": [
    {
     "data": {
      "text/html": [
       "<div>\n",
       "<style scoped>\n",
       "    .dataframe tbody tr th:only-of-type {\n",
       "        vertical-align: middle;\n",
       "    }\n",
       "\n",
       "    .dataframe tbody tr th {\n",
       "        vertical-align: top;\n",
       "    }\n",
       "\n",
       "    .dataframe thead th {\n",
       "        text-align: right;\n",
       "    }\n",
       "</style>\n",
       "<table border=\"1\" class=\"dataframe\">\n",
       "  <thead>\n",
       "    <tr style=\"text-align: right;\">\n",
       "      <th></th>\n",
       "      <th>children</th>\n",
       "      <th>days_employed</th>\n",
       "      <th>dob_years</th>\n",
       "      <th>education_id</th>\n",
       "      <th>family_status_id</th>\n",
       "      <th>debt</th>\n",
       "      <th>total_income</th>\n",
       "    </tr>\n",
       "  </thead>\n",
       "  <tbody>\n",
       "    <tr>\n",
       "      <td>count</td>\n",
       "      <td>21525.000000</td>\n",
       "      <td>19351.000000</td>\n",
       "      <td>21525.000000</td>\n",
       "      <td>21525.000000</td>\n",
       "      <td>21525.000000</td>\n",
       "      <td>21525.000000</td>\n",
       "      <td>1.935100e+04</td>\n",
       "    </tr>\n",
       "    <tr>\n",
       "      <td>mean</td>\n",
       "      <td>0.538908</td>\n",
       "      <td>63046.497661</td>\n",
       "      <td>43.293380</td>\n",
       "      <td>0.817236</td>\n",
       "      <td>0.972544</td>\n",
       "      <td>0.080883</td>\n",
       "      <td>1.674223e+05</td>\n",
       "    </tr>\n",
       "    <tr>\n",
       "      <td>std</td>\n",
       "      <td>1.381587</td>\n",
       "      <td>140827.311974</td>\n",
       "      <td>12.574584</td>\n",
       "      <td>0.548138</td>\n",
       "      <td>1.420324</td>\n",
       "      <td>0.272661</td>\n",
       "      <td>1.029716e+05</td>\n",
       "    </tr>\n",
       "    <tr>\n",
       "      <td>min</td>\n",
       "      <td>-1.000000</td>\n",
       "      <td>-18388.949901</td>\n",
       "      <td>0.000000</td>\n",
       "      <td>0.000000</td>\n",
       "      <td>0.000000</td>\n",
       "      <td>0.000000</td>\n",
       "      <td>2.066726e+04</td>\n",
       "    </tr>\n",
       "    <tr>\n",
       "      <td>25%</td>\n",
       "      <td>0.000000</td>\n",
       "      <td>-2747.423625</td>\n",
       "      <td>33.000000</td>\n",
       "      <td>1.000000</td>\n",
       "      <td>0.000000</td>\n",
       "      <td>0.000000</td>\n",
       "      <td>1.030532e+05</td>\n",
       "    </tr>\n",
       "    <tr>\n",
       "      <td>50%</td>\n",
       "      <td>0.000000</td>\n",
       "      <td>-1203.369529</td>\n",
       "      <td>42.000000</td>\n",
       "      <td>1.000000</td>\n",
       "      <td>0.000000</td>\n",
       "      <td>0.000000</td>\n",
       "      <td>1.450179e+05</td>\n",
       "    </tr>\n",
       "    <tr>\n",
       "      <td>75%</td>\n",
       "      <td>1.000000</td>\n",
       "      <td>-291.095954</td>\n",
       "      <td>53.000000</td>\n",
       "      <td>1.000000</td>\n",
       "      <td>1.000000</td>\n",
       "      <td>0.000000</td>\n",
       "      <td>2.034351e+05</td>\n",
       "    </tr>\n",
       "    <tr>\n",
       "      <td>max</td>\n",
       "      <td>20.000000</td>\n",
       "      <td>401755.400475</td>\n",
       "      <td>75.000000</td>\n",
       "      <td>4.000000</td>\n",
       "      <td>4.000000</td>\n",
       "      <td>1.000000</td>\n",
       "      <td>2.265604e+06</td>\n",
       "    </tr>\n",
       "  </tbody>\n",
       "</table>\n",
       "</div>"
      ],
      "text/plain": [
       "           children  days_employed     dob_years  education_id  \\\n",
       "count  21525.000000   19351.000000  21525.000000  21525.000000   \n",
       "mean       0.538908   63046.497661     43.293380      0.817236   \n",
       "std        1.381587  140827.311974     12.574584      0.548138   \n",
       "min       -1.000000  -18388.949901      0.000000      0.000000   \n",
       "25%        0.000000   -2747.423625     33.000000      1.000000   \n",
       "50%        0.000000   -1203.369529     42.000000      1.000000   \n",
       "75%        1.000000    -291.095954     53.000000      1.000000   \n",
       "max       20.000000  401755.400475     75.000000      4.000000   \n",
       "\n",
       "       family_status_id          debt  total_income  \n",
       "count      21525.000000  21525.000000  1.935100e+04  \n",
       "mean           0.972544      0.080883  1.674223e+05  \n",
       "std            1.420324      0.272661  1.029716e+05  \n",
       "min            0.000000      0.000000  2.066726e+04  \n",
       "25%            0.000000      0.000000  1.030532e+05  \n",
       "50%            0.000000      0.000000  1.450179e+05  \n",
       "75%            1.000000      0.000000  2.034351e+05  \n",
       "max            4.000000      1.000000  2.265604e+06  "
      ]
     },
     "execution_count": 9,
     "metadata": {},
     "output_type": "execute_result"
    }
   ],
   "source": [
    "data.describe()"
   ]
  },
  {
   "cell_type": "code",
   "execution_count": 10,
   "id": "4072e3ef",
   "metadata": {},
   "outputs": [
    {
     "data": {
      "text/plain": [
       "children                 0.000000\n",
       "days_employed        -1203.369529\n",
       "dob_years               42.000000\n",
       "education_id             1.000000\n",
       "family_status_id         0.000000\n",
       "debt                     0.000000\n",
       "total_income        145017.937533\n",
       "dtype: float64"
      ]
     },
     "execution_count": 10,
     "metadata": {},
     "output_type": "execute_result"
    }
   ],
   "source": [
    "data.median()"
   ]
  },
  {
   "cell_type": "markdown",
   "id": "1dd32e7b",
   "metadata": {},
   "source": [
    "В колонке `chidren` минимальное значение равно -1, вероятнее всего это произошла ошибка при вводе данных. \n",
    "Довольно странные значения наблюдаются в колонке `days_employed` - переменная \"стаж\". По идее, стаж не может быть отрицательным. Также странным кажется максимальное значение в этой переменной, поскольку 401755.400475 дней это более 1100 лет. Нужно будет внимательнее изучить данные в этой колонке.\n",
    "Переменная \"возраст клиента\" (`dob_years`) не вызывает каких-либо подозрений. Так же, как и колонки `education_id`,  `family_status_id` и `debt` - это по сути категориальные данные, хотя и представлены в числовом виде. "
   ]
  },
  {
   "cell_type": "markdown",
   "id": "80aa75d8",
   "metadata": {},
   "source": [
    "Посмотрим на данные в колонке - число детей. "
   ]
  },
  {
   "cell_type": "code",
   "execution_count": 11,
   "id": "479f3bf0",
   "metadata": {},
   "outputs": [
    {
     "data": {
      "text/plain": [
       "array([ 1,  0,  3,  2, -1,  4, 20,  5])"
      ]
     },
     "execution_count": 11,
     "metadata": {},
     "output_type": "execute_result"
    }
   ],
   "source": [
    "# посмотрим на уникальные значения в коллонке\n",
    "data['children'].unique()"
   ]
  },
  {
   "cell_type": "code",
   "execution_count": 12,
   "id": "419c5e21",
   "metadata": {},
   "outputs": [
    {
     "data": {
      "text/plain": [
       " 0     14149\n",
       " 1      4818\n",
       " 2      2055\n",
       " 3       330\n",
       " 20       76\n",
       "-1        47\n",
       " 4        41\n",
       " 5         9\n",
       "Name: children, dtype: int64"
      ]
     },
     "execution_count": 12,
     "metadata": {},
     "output_type": "execute_result"
    }
   ],
   "source": [
    "# посмотрим на число уникальных значений\n",
    "data['children'].value_counts()"
   ]
  },
  {
   "cell_type": "markdown",
   "id": "d29eb5bf",
   "metadata": {},
   "source": [
    "Видим, что в данных -1 встречается 47 раз. Посмотрим на данные в таблице."
   ]
  },
  {
   "cell_type": "code",
   "execution_count": 13,
   "id": "756743f2",
   "metadata": {},
   "outputs": [
    {
     "data": {
      "text/html": [
       "<div>\n",
       "<style scoped>\n",
       "    .dataframe tbody tr th:only-of-type {\n",
       "        vertical-align: middle;\n",
       "    }\n",
       "\n",
       "    .dataframe tbody tr th {\n",
       "        vertical-align: top;\n",
       "    }\n",
       "\n",
       "    .dataframe thead th {\n",
       "        text-align: right;\n",
       "    }\n",
       "</style>\n",
       "<table border=\"1\" class=\"dataframe\">\n",
       "  <thead>\n",
       "    <tr style=\"text-align: right;\">\n",
       "      <th></th>\n",
       "      <th>children</th>\n",
       "      <th>days_employed</th>\n",
       "      <th>dob_years</th>\n",
       "      <th>education</th>\n",
       "      <th>education_id</th>\n",
       "      <th>family_status</th>\n",
       "      <th>family_status_id</th>\n",
       "      <th>gender</th>\n",
       "      <th>income_type</th>\n",
       "      <th>debt</th>\n",
       "      <th>total_income</th>\n",
       "      <th>purpose</th>\n",
       "    </tr>\n",
       "  </thead>\n",
       "  <tbody>\n",
       "    <tr>\n",
       "      <td>291</td>\n",
       "      <td>-1</td>\n",
       "      <td>-4417.703588</td>\n",
       "      <td>46</td>\n",
       "      <td>среднее</td>\n",
       "      <td>1</td>\n",
       "      <td>гражданский брак</td>\n",
       "      <td>1</td>\n",
       "      <td>F</td>\n",
       "      <td>сотрудник</td>\n",
       "      <td>0</td>\n",
       "      <td>102816.346412</td>\n",
       "      <td>профильное образование</td>\n",
       "    </tr>\n",
       "    <tr>\n",
       "      <td>705</td>\n",
       "      <td>-1</td>\n",
       "      <td>-902.084528</td>\n",
       "      <td>50</td>\n",
       "      <td>среднее</td>\n",
       "      <td>1</td>\n",
       "      <td>женат / замужем</td>\n",
       "      <td>0</td>\n",
       "      <td>F</td>\n",
       "      <td>госслужащий</td>\n",
       "      <td>0</td>\n",
       "      <td>137882.899271</td>\n",
       "      <td>приобретение автомобиля</td>\n",
       "    </tr>\n",
       "    <tr>\n",
       "      <td>742</td>\n",
       "      <td>-1</td>\n",
       "      <td>-3174.456205</td>\n",
       "      <td>57</td>\n",
       "      <td>среднее</td>\n",
       "      <td>1</td>\n",
       "      <td>женат / замужем</td>\n",
       "      <td>0</td>\n",
       "      <td>F</td>\n",
       "      <td>сотрудник</td>\n",
       "      <td>0</td>\n",
       "      <td>64268.044444</td>\n",
       "      <td>дополнительное образование</td>\n",
       "    </tr>\n",
       "    <tr>\n",
       "      <td>800</td>\n",
       "      <td>-1</td>\n",
       "      <td>349987.852217</td>\n",
       "      <td>54</td>\n",
       "      <td>среднее</td>\n",
       "      <td>1</td>\n",
       "      <td>Не женат / не замужем</td>\n",
       "      <td>4</td>\n",
       "      <td>F</td>\n",
       "      <td>пенсионер</td>\n",
       "      <td>0</td>\n",
       "      <td>86293.724153</td>\n",
       "      <td>дополнительное образование</td>\n",
       "    </tr>\n",
       "    <tr>\n",
       "      <td>941</td>\n",
       "      <td>-1</td>\n",
       "      <td>NaN</td>\n",
       "      <td>57</td>\n",
       "      <td>Среднее</td>\n",
       "      <td>1</td>\n",
       "      <td>женат / замужем</td>\n",
       "      <td>0</td>\n",
       "      <td>F</td>\n",
       "      <td>пенсионер</td>\n",
       "      <td>0</td>\n",
       "      <td>NaN</td>\n",
       "      <td>на покупку своего автомобиля</td>\n",
       "    </tr>\n",
       "    <tr>\n",
       "      <td>1363</td>\n",
       "      <td>-1</td>\n",
       "      <td>-1195.264956</td>\n",
       "      <td>55</td>\n",
       "      <td>СРЕДНЕЕ</td>\n",
       "      <td>1</td>\n",
       "      <td>женат / замужем</td>\n",
       "      <td>0</td>\n",
       "      <td>F</td>\n",
       "      <td>компаньон</td>\n",
       "      <td>0</td>\n",
       "      <td>69550.699692</td>\n",
       "      <td>профильное образование</td>\n",
       "    </tr>\n",
       "    <tr>\n",
       "      <td>1929</td>\n",
       "      <td>-1</td>\n",
       "      <td>-1461.303336</td>\n",
       "      <td>38</td>\n",
       "      <td>среднее</td>\n",
       "      <td>1</td>\n",
       "      <td>Не женат / не замужем</td>\n",
       "      <td>4</td>\n",
       "      <td>M</td>\n",
       "      <td>сотрудник</td>\n",
       "      <td>0</td>\n",
       "      <td>109121.569013</td>\n",
       "      <td>покупка жилья</td>\n",
       "    </tr>\n",
       "    <tr>\n",
       "      <td>2073</td>\n",
       "      <td>-1</td>\n",
       "      <td>-2539.761232</td>\n",
       "      <td>42</td>\n",
       "      <td>среднее</td>\n",
       "      <td>1</td>\n",
       "      <td>в разводе</td>\n",
       "      <td>3</td>\n",
       "      <td>F</td>\n",
       "      <td>компаньон</td>\n",
       "      <td>0</td>\n",
       "      <td>162638.609373</td>\n",
       "      <td>покупка жилья</td>\n",
       "    </tr>\n",
       "    <tr>\n",
       "      <td>3814</td>\n",
       "      <td>-1</td>\n",
       "      <td>-3045.290443</td>\n",
       "      <td>26</td>\n",
       "      <td>Среднее</td>\n",
       "      <td>1</td>\n",
       "      <td>гражданский брак</td>\n",
       "      <td>1</td>\n",
       "      <td>F</td>\n",
       "      <td>госслужащий</td>\n",
       "      <td>0</td>\n",
       "      <td>131892.785435</td>\n",
       "      <td>на проведение свадьбы</td>\n",
       "    </tr>\n",
       "    <tr>\n",
       "      <td>4201</td>\n",
       "      <td>-1</td>\n",
       "      <td>-901.101738</td>\n",
       "      <td>41</td>\n",
       "      <td>среднее</td>\n",
       "      <td>1</td>\n",
       "      <td>женат / замужем</td>\n",
       "      <td>0</td>\n",
       "      <td>F</td>\n",
       "      <td>госслужащий</td>\n",
       "      <td>0</td>\n",
       "      <td>226375.766751</td>\n",
       "      <td>операции со своей недвижимостью</td>\n",
       "    </tr>\n",
       "    <tr>\n",
       "      <td>4402</td>\n",
       "      <td>-1</td>\n",
       "      <td>398001.302888</td>\n",
       "      <td>64</td>\n",
       "      <td>СРЕДНЕЕ</td>\n",
       "      <td>1</td>\n",
       "      <td>женат / замужем</td>\n",
       "      <td>0</td>\n",
       "      <td>F</td>\n",
       "      <td>пенсионер</td>\n",
       "      <td>0</td>\n",
       "      <td>163264.062064</td>\n",
       "      <td>покупка недвижимости</td>\n",
       "    </tr>\n",
       "    <tr>\n",
       "      <td>4542</td>\n",
       "      <td>-1</td>\n",
       "      <td>-1811.899756</td>\n",
       "      <td>32</td>\n",
       "      <td>среднее</td>\n",
       "      <td>1</td>\n",
       "      <td>женат / замужем</td>\n",
       "      <td>0</td>\n",
       "      <td>F</td>\n",
       "      <td>сотрудник</td>\n",
       "      <td>0</td>\n",
       "      <td>160544.718446</td>\n",
       "      <td>образование</td>\n",
       "    </tr>\n",
       "    <tr>\n",
       "      <td>5272</td>\n",
       "      <td>-1</td>\n",
       "      <td>-1143.485347</td>\n",
       "      <td>46</td>\n",
       "      <td>среднее</td>\n",
       "      <td>1</td>\n",
       "      <td>вдовец / вдова</td>\n",
       "      <td>2</td>\n",
       "      <td>F</td>\n",
       "      <td>сотрудник</td>\n",
       "      <td>0</td>\n",
       "      <td>278708.018820</td>\n",
       "      <td>покупка недвижимости</td>\n",
       "    </tr>\n",
       "    <tr>\n",
       "      <td>6013</td>\n",
       "      <td>-1</td>\n",
       "      <td>-1361.258696</td>\n",
       "      <td>46</td>\n",
       "      <td>высшее</td>\n",
       "      <td>0</td>\n",
       "      <td>женат / замужем</td>\n",
       "      <td>0</td>\n",
       "      <td>F</td>\n",
       "      <td>сотрудник</td>\n",
       "      <td>0</td>\n",
       "      <td>143008.454914</td>\n",
       "      <td>строительство собственной недвижимости</td>\n",
       "    </tr>\n",
       "    <tr>\n",
       "      <td>6385</td>\n",
       "      <td>-1</td>\n",
       "      <td>370215.476226</td>\n",
       "      <td>48</td>\n",
       "      <td>среднее</td>\n",
       "      <td>1</td>\n",
       "      <td>вдовец / вдова</td>\n",
       "      <td>2</td>\n",
       "      <td>F</td>\n",
       "      <td>пенсионер</td>\n",
       "      <td>0</td>\n",
       "      <td>36052.447435</td>\n",
       "      <td>образование</td>\n",
       "    </tr>\n",
       "    <tr>\n",
       "      <td>7190</td>\n",
       "      <td>-1</td>\n",
       "      <td>-5928.202068</td>\n",
       "      <td>34</td>\n",
       "      <td>СРЕДНЕЕ</td>\n",
       "      <td>1</td>\n",
       "      <td>женат / замужем</td>\n",
       "      <td>0</td>\n",
       "      <td>M</td>\n",
       "      <td>сотрудник</td>\n",
       "      <td>0</td>\n",
       "      <td>184315.121979</td>\n",
       "      <td>приобретение автомобиля</td>\n",
       "    </tr>\n",
       "    <tr>\n",
       "      <td>7278</td>\n",
       "      <td>-1</td>\n",
       "      <td>-526.318451</td>\n",
       "      <td>51</td>\n",
       "      <td>среднее</td>\n",
       "      <td>1</td>\n",
       "      <td>женат / замужем</td>\n",
       "      <td>0</td>\n",
       "      <td>F</td>\n",
       "      <td>сотрудник</td>\n",
       "      <td>0</td>\n",
       "      <td>146928.769439</td>\n",
       "      <td>операции с коммерческой недвижимостью</td>\n",
       "    </tr>\n",
       "    <tr>\n",
       "      <td>7615</td>\n",
       "      <td>-1</td>\n",
       "      <td>NaN</td>\n",
       "      <td>35</td>\n",
       "      <td>среднее</td>\n",
       "      <td>1</td>\n",
       "      <td>женат / замужем</td>\n",
       "      <td>0</td>\n",
       "      <td>M</td>\n",
       "      <td>сотрудник</td>\n",
       "      <td>0</td>\n",
       "      <td>NaN</td>\n",
       "      <td>образование</td>\n",
       "    </tr>\n",
       "    <tr>\n",
       "      <td>7685</td>\n",
       "      <td>-1</td>\n",
       "      <td>-3237.360455</td>\n",
       "      <td>53</td>\n",
       "      <td>среднее</td>\n",
       "      <td>1</td>\n",
       "      <td>вдовец / вдова</td>\n",
       "      <td>2</td>\n",
       "      <td>F</td>\n",
       "      <td>сотрудник</td>\n",
       "      <td>0</td>\n",
       "      <td>159676.174958</td>\n",
       "      <td>строительство жилой недвижимости</td>\n",
       "    </tr>\n",
       "    <tr>\n",
       "      <td>8229</td>\n",
       "      <td>-1</td>\n",
       "      <td>-1803.441074</td>\n",
       "      <td>54</td>\n",
       "      <td>высшее</td>\n",
       "      <td>0</td>\n",
       "      <td>женат / замужем</td>\n",
       "      <td>0</td>\n",
       "      <td>F</td>\n",
       "      <td>компаньон</td>\n",
       "      <td>0</td>\n",
       "      <td>138809.082930</td>\n",
       "      <td>покупка недвижимости</td>\n",
       "    </tr>\n",
       "    <tr>\n",
       "      <td>8251</td>\n",
       "      <td>-1</td>\n",
       "      <td>-3113.998449</td>\n",
       "      <td>31</td>\n",
       "      <td>среднее</td>\n",
       "      <td>1</td>\n",
       "      <td>гражданский брак</td>\n",
       "      <td>1</td>\n",
       "      <td>F</td>\n",
       "      <td>сотрудник</td>\n",
       "      <td>0</td>\n",
       "      <td>54412.056005</td>\n",
       "      <td>свой автомобиль</td>\n",
       "    </tr>\n",
       "    <tr>\n",
       "      <td>8561</td>\n",
       "      <td>-1</td>\n",
       "      <td>-195.479496</td>\n",
       "      <td>31</td>\n",
       "      <td>среднее</td>\n",
       "      <td>1</td>\n",
       "      <td>женат / замужем</td>\n",
       "      <td>0</td>\n",
       "      <td>F</td>\n",
       "      <td>сотрудник</td>\n",
       "      <td>0</td>\n",
       "      <td>145577.881522</td>\n",
       "      <td>ремонт жилью</td>\n",
       "    </tr>\n",
       "    <tr>\n",
       "      <td>9565</td>\n",
       "      <td>-1</td>\n",
       "      <td>-2896.629686</td>\n",
       "      <td>34</td>\n",
       "      <td>высшее</td>\n",
       "      <td>0</td>\n",
       "      <td>женат / замужем</td>\n",
       "      <td>0</td>\n",
       "      <td>M</td>\n",
       "      <td>сотрудник</td>\n",
       "      <td>0</td>\n",
       "      <td>126754.656529</td>\n",
       "      <td>операции с недвижимостью</td>\n",
       "    </tr>\n",
       "    <tr>\n",
       "      <td>9574</td>\n",
       "      <td>-1</td>\n",
       "      <td>-2710.419901</td>\n",
       "      <td>28</td>\n",
       "      <td>высшее</td>\n",
       "      <td>0</td>\n",
       "      <td>женат / замужем</td>\n",
       "      <td>0</td>\n",
       "      <td>M</td>\n",
       "      <td>госслужащий</td>\n",
       "      <td>0</td>\n",
       "      <td>303137.161001</td>\n",
       "      <td>получение дополнительного образования</td>\n",
       "    </tr>\n",
       "    <tr>\n",
       "      <td>10177</td>\n",
       "      <td>-1</td>\n",
       "      <td>-1743.604011</td>\n",
       "      <td>37</td>\n",
       "      <td>среднее</td>\n",
       "      <td>1</td>\n",
       "      <td>женат / замужем</td>\n",
       "      <td>0</td>\n",
       "      <td>M</td>\n",
       "      <td>сотрудник</td>\n",
       "      <td>0</td>\n",
       "      <td>310367.509001</td>\n",
       "      <td>получение образования</td>\n",
       "    </tr>\n",
       "    <tr>\n",
       "      <td>10365</td>\n",
       "      <td>-1</td>\n",
       "      <td>345774.125957</td>\n",
       "      <td>63</td>\n",
       "      <td>ВЫСШЕЕ</td>\n",
       "      <td>0</td>\n",
       "      <td>вдовец / вдова</td>\n",
       "      <td>2</td>\n",
       "      <td>F</td>\n",
       "      <td>пенсионер</td>\n",
       "      <td>0</td>\n",
       "      <td>170762.751325</td>\n",
       "      <td>строительство жилой недвижимости</td>\n",
       "    </tr>\n",
       "    <tr>\n",
       "      <td>10918</td>\n",
       "      <td>-1</td>\n",
       "      <td>340499.039342</td>\n",
       "      <td>50</td>\n",
       "      <td>среднее</td>\n",
       "      <td>1</td>\n",
       "      <td>женат / замужем</td>\n",
       "      <td>0</td>\n",
       "      <td>M</td>\n",
       "      <td>пенсионер</td>\n",
       "      <td>0</td>\n",
       "      <td>170762.773162</td>\n",
       "      <td>покупка своего жилья</td>\n",
       "    </tr>\n",
       "    <tr>\n",
       "      <td>11109</td>\n",
       "      <td>-1</td>\n",
       "      <td>-3438.463024</td>\n",
       "      <td>59</td>\n",
       "      <td>среднее</td>\n",
       "      <td>1</td>\n",
       "      <td>женат / замужем</td>\n",
       "      <td>0</td>\n",
       "      <td>F</td>\n",
       "      <td>сотрудник</td>\n",
       "      <td>0</td>\n",
       "      <td>219874.012345</td>\n",
       "      <td>операции с жильем</td>\n",
       "    </tr>\n",
       "    <tr>\n",
       "      <td>11268</td>\n",
       "      <td>-1</td>\n",
       "      <td>-1048.782203</td>\n",
       "      <td>30</td>\n",
       "      <td>высшее</td>\n",
       "      <td>0</td>\n",
       "      <td>гражданский брак</td>\n",
       "      <td>1</td>\n",
       "      <td>F</td>\n",
       "      <td>компаньон</td>\n",
       "      <td>0</td>\n",
       "      <td>321603.700207</td>\n",
       "      <td>на покупку автомобиля</td>\n",
       "    </tr>\n",
       "    <tr>\n",
       "      <td>11617</td>\n",
       "      <td>-1</td>\n",
       "      <td>-370.827130</td>\n",
       "      <td>27</td>\n",
       "      <td>среднее</td>\n",
       "      <td>1</td>\n",
       "      <td>женат / замужем</td>\n",
       "      <td>0</td>\n",
       "      <td>F</td>\n",
       "      <td>компаньон</td>\n",
       "      <td>0</td>\n",
       "      <td>164591.260338</td>\n",
       "      <td>покупка жилья для сдачи</td>\n",
       "    </tr>\n",
       "    <tr>\n",
       "      <td>12304</td>\n",
       "      <td>-1</td>\n",
       "      <td>-8493.101252</td>\n",
       "      <td>61</td>\n",
       "      <td>неоконченное высшее</td>\n",
       "      <td>2</td>\n",
       "      <td>женат / замужем</td>\n",
       "      <td>0</td>\n",
       "      <td>M</td>\n",
       "      <td>сотрудник</td>\n",
       "      <td>0</td>\n",
       "      <td>315006.182056</td>\n",
       "      <td>недвижимость</td>\n",
       "    </tr>\n",
       "    <tr>\n",
       "      <td>13786</td>\n",
       "      <td>-1</td>\n",
       "      <td>NaN</td>\n",
       "      <td>42</td>\n",
       "      <td>среднее</td>\n",
       "      <td>1</td>\n",
       "      <td>Не женат / не замужем</td>\n",
       "      <td>4</td>\n",
       "      <td>M</td>\n",
       "      <td>компаньон</td>\n",
       "      <td>0</td>\n",
       "      <td>NaN</td>\n",
       "      <td>автомобиль</td>\n",
       "    </tr>\n",
       "    <tr>\n",
       "      <td>14357</td>\n",
       "      <td>-1</td>\n",
       "      <td>-268.337037</td>\n",
       "      <td>23</td>\n",
       "      <td>среднее</td>\n",
       "      <td>1</td>\n",
       "      <td>в разводе</td>\n",
       "      <td>3</td>\n",
       "      <td>F</td>\n",
       "      <td>компаньон</td>\n",
       "      <td>0</td>\n",
       "      <td>92257.579312</td>\n",
       "      <td>покупка жилой недвижимости</td>\n",
       "    </tr>\n",
       "    <tr>\n",
       "      <td>15147</td>\n",
       "      <td>-1</td>\n",
       "      <td>-9851.184337</td>\n",
       "      <td>44</td>\n",
       "      <td>среднее</td>\n",
       "      <td>1</td>\n",
       "      <td>в разводе</td>\n",
       "      <td>3</td>\n",
       "      <td>F</td>\n",
       "      <td>сотрудник</td>\n",
       "      <td>0</td>\n",
       "      <td>110990.810581</td>\n",
       "      <td>свой автомобиль</td>\n",
       "    </tr>\n",
       "    <tr>\n",
       "      <td>15435</td>\n",
       "      <td>-1</td>\n",
       "      <td>-3614.220232</td>\n",
       "      <td>40</td>\n",
       "      <td>высшее</td>\n",
       "      <td>0</td>\n",
       "      <td>гражданский брак</td>\n",
       "      <td>1</td>\n",
       "      <td>F</td>\n",
       "      <td>сотрудник</td>\n",
       "      <td>0</td>\n",
       "      <td>98127.537462</td>\n",
       "      <td>сыграть свадьбу</td>\n",
       "    </tr>\n",
       "    <tr>\n",
       "      <td>16129</td>\n",
       "      <td>-1</td>\n",
       "      <td>-457.861760</td>\n",
       "      <td>33</td>\n",
       "      <td>среднее</td>\n",
       "      <td>1</td>\n",
       "      <td>женат / замужем</td>\n",
       "      <td>0</td>\n",
       "      <td>F</td>\n",
       "      <td>сотрудник</td>\n",
       "      <td>1</td>\n",
       "      <td>149641.079451</td>\n",
       "      <td>автомобиль</td>\n",
       "    </tr>\n",
       "    <tr>\n",
       "      <td>16265</td>\n",
       "      <td>-1</td>\n",
       "      <td>-2802.218127</td>\n",
       "      <td>40</td>\n",
       "      <td>высшее</td>\n",
       "      <td>0</td>\n",
       "      <td>женат / замужем</td>\n",
       "      <td>0</td>\n",
       "      <td>M</td>\n",
       "      <td>сотрудник</td>\n",
       "      <td>0</td>\n",
       "      <td>111984.472021</td>\n",
       "      <td>покупка жилья</td>\n",
       "    </tr>\n",
       "    <tr>\n",
       "      <td>17095</td>\n",
       "      <td>-1</td>\n",
       "      <td>-2809.693200</td>\n",
       "      <td>34</td>\n",
       "      <td>среднее</td>\n",
       "      <td>1</td>\n",
       "      <td>женат / замужем</td>\n",
       "      <td>0</td>\n",
       "      <td>F</td>\n",
       "      <td>сотрудник</td>\n",
       "      <td>0</td>\n",
       "      <td>182543.890127</td>\n",
       "      <td>на покупку подержанного автомобиля</td>\n",
       "    </tr>\n",
       "    <tr>\n",
       "      <td>17429</td>\n",
       "      <td>-1</td>\n",
       "      <td>-895.379738</td>\n",
       "      <td>37</td>\n",
       "      <td>среднее</td>\n",
       "      <td>1</td>\n",
       "      <td>женат / замужем</td>\n",
       "      <td>0</td>\n",
       "      <td>F</td>\n",
       "      <td>компаньон</td>\n",
       "      <td>0</td>\n",
       "      <td>214814.018780</td>\n",
       "      <td>жилье</td>\n",
       "    </tr>\n",
       "    <tr>\n",
       "      <td>17657</td>\n",
       "      <td>-1</td>\n",
       "      <td>-4571.957475</td>\n",
       "      <td>41</td>\n",
       "      <td>среднее</td>\n",
       "      <td>1</td>\n",
       "      <td>женат / замужем</td>\n",
       "      <td>0</td>\n",
       "      <td>F</td>\n",
       "      <td>сотрудник</td>\n",
       "      <td>0</td>\n",
       "      <td>122105.415823</td>\n",
       "      <td>операции со своей недвижимостью</td>\n",
       "    </tr>\n",
       "    <tr>\n",
       "      <td>18219</td>\n",
       "      <td>-1</td>\n",
       "      <td>-3575.215641</td>\n",
       "      <td>33</td>\n",
       "      <td>среднее</td>\n",
       "      <td>1</td>\n",
       "      <td>женат / замужем</td>\n",
       "      <td>0</td>\n",
       "      <td>F</td>\n",
       "      <td>сотрудник</td>\n",
       "      <td>0</td>\n",
       "      <td>128362.023879</td>\n",
       "      <td>высшее образование</td>\n",
       "    </tr>\n",
       "    <tr>\n",
       "      <td>19100</td>\n",
       "      <td>-1</td>\n",
       "      <td>-617.246968</td>\n",
       "      <td>38</td>\n",
       "      <td>среднее</td>\n",
       "      <td>1</td>\n",
       "      <td>Не женат / не замужем</td>\n",
       "      <td>4</td>\n",
       "      <td>M</td>\n",
       "      <td>сотрудник</td>\n",
       "      <td>0</td>\n",
       "      <td>122205.497527</td>\n",
       "      <td>строительство жилой недвижимости</td>\n",
       "    </tr>\n",
       "    <tr>\n",
       "      <td>19366</td>\n",
       "      <td>-1</td>\n",
       "      <td>-372.034749</td>\n",
       "      <td>43</td>\n",
       "      <td>СРЕДНЕЕ</td>\n",
       "      <td>1</td>\n",
       "      <td>женат / замужем</td>\n",
       "      <td>0</td>\n",
       "      <td>M</td>\n",
       "      <td>сотрудник</td>\n",
       "      <td>0</td>\n",
       "      <td>155588.766795</td>\n",
       "      <td>сделка с подержанным автомобилем</td>\n",
       "    </tr>\n",
       "    <tr>\n",
       "      <td>19417</td>\n",
       "      <td>-1</td>\n",
       "      <td>350340.760224</td>\n",
       "      <td>28</td>\n",
       "      <td>среднее</td>\n",
       "      <td>1</td>\n",
       "      <td>в разводе</td>\n",
       "      <td>3</td>\n",
       "      <td>F</td>\n",
       "      <td>пенсионер</td>\n",
       "      <td>0</td>\n",
       "      <td>52872.993654</td>\n",
       "      <td>автомобили</td>\n",
       "    </tr>\n",
       "    <tr>\n",
       "      <td>20393</td>\n",
       "      <td>-1</td>\n",
       "      <td>355157.107212</td>\n",
       "      <td>69</td>\n",
       "      <td>среднее</td>\n",
       "      <td>1</td>\n",
       "      <td>Не женат / не замужем</td>\n",
       "      <td>4</td>\n",
       "      <td>F</td>\n",
       "      <td>пенсионер</td>\n",
       "      <td>0</td>\n",
       "      <td>116521.045858</td>\n",
       "      <td>операции с недвижимостью</td>\n",
       "    </tr>\n",
       "    <tr>\n",
       "      <td>20717</td>\n",
       "      <td>-1</td>\n",
       "      <td>-661.822321</td>\n",
       "      <td>32</td>\n",
       "      <td>высшее</td>\n",
       "      <td>0</td>\n",
       "      <td>женат / замужем</td>\n",
       "      <td>0</td>\n",
       "      <td>F</td>\n",
       "      <td>сотрудник</td>\n",
       "      <td>0</td>\n",
       "      <td>137405.384917</td>\n",
       "      <td>покупка жилой недвижимости</td>\n",
       "    </tr>\n",
       "    <tr>\n",
       "      <td>21140</td>\n",
       "      <td>-1</td>\n",
       "      <td>-1422.668059</td>\n",
       "      <td>44</td>\n",
       "      <td>среднее</td>\n",
       "      <td>1</td>\n",
       "      <td>женат / замужем</td>\n",
       "      <td>0</td>\n",
       "      <td>F</td>\n",
       "      <td>компаньон</td>\n",
       "      <td>0</td>\n",
       "      <td>169562.091999</td>\n",
       "      <td>операции со своей недвижимостью</td>\n",
       "    </tr>\n",
       "  </tbody>\n",
       "</table>\n",
       "</div>"
      ],
      "text/plain": [
       "       children  days_employed  dob_years            education  education_id  \\\n",
       "291          -1   -4417.703588         46              среднее             1   \n",
       "705          -1    -902.084528         50              среднее             1   \n",
       "742          -1   -3174.456205         57              среднее             1   \n",
       "800          -1  349987.852217         54              среднее             1   \n",
       "941          -1            NaN         57              Среднее             1   \n",
       "1363         -1   -1195.264956         55              СРЕДНЕЕ             1   \n",
       "1929         -1   -1461.303336         38              среднее             1   \n",
       "2073         -1   -2539.761232         42              среднее             1   \n",
       "3814         -1   -3045.290443         26              Среднее             1   \n",
       "4201         -1    -901.101738         41              среднее             1   \n",
       "4402         -1  398001.302888         64              СРЕДНЕЕ             1   \n",
       "4542         -1   -1811.899756         32              среднее             1   \n",
       "5272         -1   -1143.485347         46              среднее             1   \n",
       "6013         -1   -1361.258696         46               высшее             0   \n",
       "6385         -1  370215.476226         48              среднее             1   \n",
       "7190         -1   -5928.202068         34              СРЕДНЕЕ             1   \n",
       "7278         -1    -526.318451         51              среднее             1   \n",
       "7615         -1            NaN         35              среднее             1   \n",
       "7685         -1   -3237.360455         53              среднее             1   \n",
       "8229         -1   -1803.441074         54               высшее             0   \n",
       "8251         -1   -3113.998449         31              среднее             1   \n",
       "8561         -1    -195.479496         31              среднее             1   \n",
       "9565         -1   -2896.629686         34               высшее             0   \n",
       "9574         -1   -2710.419901         28               высшее             0   \n",
       "10177        -1   -1743.604011         37              среднее             1   \n",
       "10365        -1  345774.125957         63               ВЫСШЕЕ             0   \n",
       "10918        -1  340499.039342         50              среднее             1   \n",
       "11109        -1   -3438.463024         59              среднее             1   \n",
       "11268        -1   -1048.782203         30               высшее             0   \n",
       "11617        -1    -370.827130         27              среднее             1   \n",
       "12304        -1   -8493.101252         61  неоконченное высшее             2   \n",
       "13786        -1            NaN         42              среднее             1   \n",
       "14357        -1    -268.337037         23              среднее             1   \n",
       "15147        -1   -9851.184337         44              среднее             1   \n",
       "15435        -1   -3614.220232         40               высшее             0   \n",
       "16129        -1    -457.861760         33              среднее             1   \n",
       "16265        -1   -2802.218127         40               высшее             0   \n",
       "17095        -1   -2809.693200         34              среднее             1   \n",
       "17429        -1    -895.379738         37              среднее             1   \n",
       "17657        -1   -4571.957475         41              среднее             1   \n",
       "18219        -1   -3575.215641         33              среднее             1   \n",
       "19100        -1    -617.246968         38              среднее             1   \n",
       "19366        -1    -372.034749         43              СРЕДНЕЕ             1   \n",
       "19417        -1  350340.760224         28              среднее             1   \n",
       "20393        -1  355157.107212         69              среднее             1   \n",
       "20717        -1    -661.822321         32               высшее             0   \n",
       "21140        -1   -1422.668059         44              среднее             1   \n",
       "\n",
       "               family_status  family_status_id gender  income_type  debt  \\\n",
       "291         гражданский брак                 1      F    сотрудник     0   \n",
       "705          женат / замужем                 0      F  госслужащий     0   \n",
       "742          женат / замужем                 0      F    сотрудник     0   \n",
       "800    Не женат / не замужем                 4      F    пенсионер     0   \n",
       "941          женат / замужем                 0      F    пенсионер     0   \n",
       "1363         женат / замужем                 0      F    компаньон     0   \n",
       "1929   Не женат / не замужем                 4      M    сотрудник     0   \n",
       "2073               в разводе                 3      F    компаньон     0   \n",
       "3814        гражданский брак                 1      F  госслужащий     0   \n",
       "4201         женат / замужем                 0      F  госслужащий     0   \n",
       "4402         женат / замужем                 0      F    пенсионер     0   \n",
       "4542         женат / замужем                 0      F    сотрудник     0   \n",
       "5272          вдовец / вдова                 2      F    сотрудник     0   \n",
       "6013         женат / замужем                 0      F    сотрудник     0   \n",
       "6385          вдовец / вдова                 2      F    пенсионер     0   \n",
       "7190         женат / замужем                 0      M    сотрудник     0   \n",
       "7278         женат / замужем                 0      F    сотрудник     0   \n",
       "7615         женат / замужем                 0      M    сотрудник     0   \n",
       "7685          вдовец / вдова                 2      F    сотрудник     0   \n",
       "8229         женат / замужем                 0      F    компаньон     0   \n",
       "8251        гражданский брак                 1      F    сотрудник     0   \n",
       "8561         женат / замужем                 0      F    сотрудник     0   \n",
       "9565         женат / замужем                 0      M    сотрудник     0   \n",
       "9574         женат / замужем                 0      M  госслужащий     0   \n",
       "10177        женат / замужем                 0      M    сотрудник     0   \n",
       "10365         вдовец / вдова                 2      F    пенсионер     0   \n",
       "10918        женат / замужем                 0      M    пенсионер     0   \n",
       "11109        женат / замужем                 0      F    сотрудник     0   \n",
       "11268       гражданский брак                 1      F    компаньон     0   \n",
       "11617        женат / замужем                 0      F    компаньон     0   \n",
       "12304        женат / замужем                 0      M    сотрудник     0   \n",
       "13786  Не женат / не замужем                 4      M    компаньон     0   \n",
       "14357              в разводе                 3      F    компаньон     0   \n",
       "15147              в разводе                 3      F    сотрудник     0   \n",
       "15435       гражданский брак                 1      F    сотрудник     0   \n",
       "16129        женат / замужем                 0      F    сотрудник     1   \n",
       "16265        женат / замужем                 0      M    сотрудник     0   \n",
       "17095        женат / замужем                 0      F    сотрудник     0   \n",
       "17429        женат / замужем                 0      F    компаньон     0   \n",
       "17657        женат / замужем                 0      F    сотрудник     0   \n",
       "18219        женат / замужем                 0      F    сотрудник     0   \n",
       "19100  Не женат / не замужем                 4      M    сотрудник     0   \n",
       "19366        женат / замужем                 0      M    сотрудник     0   \n",
       "19417              в разводе                 3      F    пенсионер     0   \n",
       "20393  Не женат / не замужем                 4      F    пенсионер     0   \n",
       "20717        женат / замужем                 0      F    сотрудник     0   \n",
       "21140        женат / замужем                 0      F    компаньон     0   \n",
       "\n",
       "        total_income                                 purpose  \n",
       "291    102816.346412                  профильное образование  \n",
       "705    137882.899271                 приобретение автомобиля  \n",
       "742     64268.044444              дополнительное образование  \n",
       "800     86293.724153              дополнительное образование  \n",
       "941              NaN            на покупку своего автомобиля  \n",
       "1363    69550.699692                  профильное образование  \n",
       "1929   109121.569013                           покупка жилья  \n",
       "2073   162638.609373                           покупка жилья  \n",
       "3814   131892.785435                   на проведение свадьбы  \n",
       "4201   226375.766751         операции со своей недвижимостью  \n",
       "4402   163264.062064                    покупка недвижимости  \n",
       "4542   160544.718446                             образование  \n",
       "5272   278708.018820                    покупка недвижимости  \n",
       "6013   143008.454914  строительство собственной недвижимости  \n",
       "6385    36052.447435                             образование  \n",
       "7190   184315.121979                 приобретение автомобиля  \n",
       "7278   146928.769439   операции с коммерческой недвижимостью  \n",
       "7615             NaN                             образование  \n",
       "7685   159676.174958        строительство жилой недвижимости  \n",
       "8229   138809.082930                    покупка недвижимости  \n",
       "8251    54412.056005                         свой автомобиль  \n",
       "8561   145577.881522                            ремонт жилью  \n",
       "9565   126754.656529                операции с недвижимостью  \n",
       "9574   303137.161001   получение дополнительного образования  \n",
       "10177  310367.509001                   получение образования  \n",
       "10365  170762.751325        строительство жилой недвижимости  \n",
       "10918  170762.773162                    покупка своего жилья  \n",
       "11109  219874.012345                       операции с жильем  \n",
       "11268  321603.700207                   на покупку автомобиля  \n",
       "11617  164591.260338                 покупка жилья для сдачи  \n",
       "12304  315006.182056                            недвижимость  \n",
       "13786            NaN                              автомобиль  \n",
       "14357   92257.579312              покупка жилой недвижимости  \n",
       "15147  110990.810581                         свой автомобиль  \n",
       "15435   98127.537462                         сыграть свадьбу  \n",
       "16129  149641.079451                              автомобиль  \n",
       "16265  111984.472021                           покупка жилья  \n",
       "17095  182543.890127      на покупку подержанного автомобиля  \n",
       "17429  214814.018780                                   жилье  \n",
       "17657  122105.415823         операции со своей недвижимостью  \n",
       "18219  128362.023879                      высшее образование  \n",
       "19100  122205.497527        строительство жилой недвижимости  \n",
       "19366  155588.766795        сделка с подержанным автомобилем  \n",
       "19417   52872.993654                              автомобили  \n",
       "20393  116521.045858                операции с недвижимостью  \n",
       "20717  137405.384917              покупка жилой недвижимости  \n",
       "21140  169562.091999         операции со своей недвижимостью  "
      ]
     },
     "execution_count": 13,
     "metadata": {},
     "output_type": "execute_result"
    }
   ],
   "source": [
    "data[data['children'] == -1]"
   ]
  },
  {
   "cell_type": "markdown",
   "id": "79469673",
   "metadata": {},
   "source": [
    "Поскольку отрицательное число детей быть не может. Заменим -1 на значение по модулю. Для этого воспользуемся функцией abs()."
   ]
  },
  {
   "cell_type": "code",
   "execution_count": 14,
   "id": "4f5ee978",
   "metadata": {},
   "outputs": [],
   "source": [
    "data['children'] = data['children'].replace(-1, 1)"
   ]
  },
  {
   "cell_type": "code",
   "execution_count": 15,
   "id": "a65e62ed",
   "metadata": {},
   "outputs": [
    {
     "data": {
      "text/plain": [
       "0     14149\n",
       "1      4865\n",
       "2      2055\n",
       "3       330\n",
       "4        41\n",
       "20       76\n",
       "5         9\n",
       "Name: children, dtype: int64"
      ]
     },
     "execution_count": 15,
     "metadata": {},
     "output_type": "execute_result"
    }
   ],
   "source": [
    "# проверяем\n",
    "data['children'].value_counts(sort=False)"
   ]
  },
  {
   "cell_type": "markdown",
   "id": "11f36bef",
   "metadata": {},
   "source": [
    "У 76 клиентов есть 20 детей (!)\n",
    "\n",
    "Изучим данные клинетов, у которых 20 детей."
   ]
  },
  {
   "cell_type": "code",
   "execution_count": 16,
   "id": "0b6d7bb2",
   "metadata": {},
   "outputs": [
    {
     "data": {
      "text/html": [
       "<div>\n",
       "<style scoped>\n",
       "    .dataframe tbody tr th:only-of-type {\n",
       "        vertical-align: middle;\n",
       "    }\n",
       "\n",
       "    .dataframe tbody tr th {\n",
       "        vertical-align: top;\n",
       "    }\n",
       "\n",
       "    .dataframe thead th {\n",
       "        text-align: right;\n",
       "    }\n",
       "</style>\n",
       "<table border=\"1\" class=\"dataframe\">\n",
       "  <thead>\n",
       "    <tr style=\"text-align: right;\">\n",
       "      <th></th>\n",
       "      <th>children</th>\n",
       "      <th>days_employed</th>\n",
       "      <th>dob_years</th>\n",
       "      <th>education</th>\n",
       "      <th>education_id</th>\n",
       "      <th>family_status</th>\n",
       "      <th>family_status_id</th>\n",
       "      <th>gender</th>\n",
       "      <th>income_type</th>\n",
       "      <th>debt</th>\n",
       "      <th>total_income</th>\n",
       "      <th>purpose</th>\n",
       "    </tr>\n",
       "  </thead>\n",
       "  <tbody>\n",
       "    <tr>\n",
       "      <td>606</td>\n",
       "      <td>20</td>\n",
       "      <td>-880.221113</td>\n",
       "      <td>21</td>\n",
       "      <td>среднее</td>\n",
       "      <td>1</td>\n",
       "      <td>женат / замужем</td>\n",
       "      <td>0</td>\n",
       "      <td>M</td>\n",
       "      <td>компаньон</td>\n",
       "      <td>0</td>\n",
       "      <td>145334.865002</td>\n",
       "      <td>покупка жилья</td>\n",
       "    </tr>\n",
       "    <tr>\n",
       "      <td>720</td>\n",
       "      <td>20</td>\n",
       "      <td>-855.595512</td>\n",
       "      <td>44</td>\n",
       "      <td>среднее</td>\n",
       "      <td>1</td>\n",
       "      <td>женат / замужем</td>\n",
       "      <td>0</td>\n",
       "      <td>F</td>\n",
       "      <td>компаньон</td>\n",
       "      <td>0</td>\n",
       "      <td>112998.738649</td>\n",
       "      <td>покупка недвижимости</td>\n",
       "    </tr>\n",
       "    <tr>\n",
       "      <td>1074</td>\n",
       "      <td>20</td>\n",
       "      <td>-3310.411598</td>\n",
       "      <td>56</td>\n",
       "      <td>среднее</td>\n",
       "      <td>1</td>\n",
       "      <td>женат / замужем</td>\n",
       "      <td>0</td>\n",
       "      <td>F</td>\n",
       "      <td>сотрудник</td>\n",
       "      <td>1</td>\n",
       "      <td>229518.537004</td>\n",
       "      <td>получение образования</td>\n",
       "    </tr>\n",
       "    <tr>\n",
       "      <td>2510</td>\n",
       "      <td>20</td>\n",
       "      <td>-2714.161249</td>\n",
       "      <td>59</td>\n",
       "      <td>высшее</td>\n",
       "      <td>0</td>\n",
       "      <td>вдовец / вдова</td>\n",
       "      <td>2</td>\n",
       "      <td>F</td>\n",
       "      <td>сотрудник</td>\n",
       "      <td>0</td>\n",
       "      <td>264474.835577</td>\n",
       "      <td>операции с коммерческой недвижимостью</td>\n",
       "    </tr>\n",
       "    <tr>\n",
       "      <td>2941</td>\n",
       "      <td>20</td>\n",
       "      <td>-2161.591519</td>\n",
       "      <td>0</td>\n",
       "      <td>среднее</td>\n",
       "      <td>1</td>\n",
       "      <td>женат / замужем</td>\n",
       "      <td>0</td>\n",
       "      <td>F</td>\n",
       "      <td>сотрудник</td>\n",
       "      <td>0</td>\n",
       "      <td>199739.941398</td>\n",
       "      <td>на покупку автомобиля</td>\n",
       "    </tr>\n",
       "    <tr>\n",
       "      <td>...</td>\n",
       "      <td>...</td>\n",
       "      <td>...</td>\n",
       "      <td>...</td>\n",
       "      <td>...</td>\n",
       "      <td>...</td>\n",
       "      <td>...</td>\n",
       "      <td>...</td>\n",
       "      <td>...</td>\n",
       "      <td>...</td>\n",
       "      <td>...</td>\n",
       "      <td>...</td>\n",
       "      <td>...</td>\n",
       "    </tr>\n",
       "    <tr>\n",
       "      <td>21008</td>\n",
       "      <td>20</td>\n",
       "      <td>-1240.257910</td>\n",
       "      <td>40</td>\n",
       "      <td>среднее</td>\n",
       "      <td>1</td>\n",
       "      <td>женат / замужем</td>\n",
       "      <td>0</td>\n",
       "      <td>F</td>\n",
       "      <td>сотрудник</td>\n",
       "      <td>1</td>\n",
       "      <td>133524.010303</td>\n",
       "      <td>свой автомобиль</td>\n",
       "    </tr>\n",
       "    <tr>\n",
       "      <td>21325</td>\n",
       "      <td>20</td>\n",
       "      <td>-601.174883</td>\n",
       "      <td>37</td>\n",
       "      <td>среднее</td>\n",
       "      <td>1</td>\n",
       "      <td>женат / замужем</td>\n",
       "      <td>0</td>\n",
       "      <td>F</td>\n",
       "      <td>компаньон</td>\n",
       "      <td>0</td>\n",
       "      <td>102986.065978</td>\n",
       "      <td>профильное образование</td>\n",
       "    </tr>\n",
       "    <tr>\n",
       "      <td>21390</td>\n",
       "      <td>20</td>\n",
       "      <td>NaN</td>\n",
       "      <td>53</td>\n",
       "      <td>среднее</td>\n",
       "      <td>1</td>\n",
       "      <td>женат / замужем</td>\n",
       "      <td>0</td>\n",
       "      <td>M</td>\n",
       "      <td>компаньон</td>\n",
       "      <td>0</td>\n",
       "      <td>NaN</td>\n",
       "      <td>покупка жилой недвижимости</td>\n",
       "    </tr>\n",
       "    <tr>\n",
       "      <td>21404</td>\n",
       "      <td>20</td>\n",
       "      <td>-494.788448</td>\n",
       "      <td>52</td>\n",
       "      <td>среднее</td>\n",
       "      <td>1</td>\n",
       "      <td>женат / замужем</td>\n",
       "      <td>0</td>\n",
       "      <td>M</td>\n",
       "      <td>компаньон</td>\n",
       "      <td>0</td>\n",
       "      <td>156629.683642</td>\n",
       "      <td>операции со своей недвижимостью</td>\n",
       "    </tr>\n",
       "    <tr>\n",
       "      <td>21491</td>\n",
       "      <td>20</td>\n",
       "      <td>-173.954460</td>\n",
       "      <td>27</td>\n",
       "      <td>среднее</td>\n",
       "      <td>1</td>\n",
       "      <td>женат / замужем</td>\n",
       "      <td>0</td>\n",
       "      <td>F</td>\n",
       "      <td>сотрудник</td>\n",
       "      <td>0</td>\n",
       "      <td>155520.899688</td>\n",
       "      <td>на покупку подержанного автомобиля</td>\n",
       "    </tr>\n",
       "  </tbody>\n",
       "</table>\n",
       "<p>76 rows × 12 columns</p>\n",
       "</div>"
      ],
      "text/plain": [
       "       children  days_employed  dob_years education  education_id  \\\n",
       "606          20    -880.221113         21   среднее             1   \n",
       "720          20    -855.595512         44   среднее             1   \n",
       "1074         20   -3310.411598         56   среднее             1   \n",
       "2510         20   -2714.161249         59    высшее             0   \n",
       "2941         20   -2161.591519          0   среднее             1   \n",
       "...         ...            ...        ...       ...           ...   \n",
       "21008        20   -1240.257910         40   среднее             1   \n",
       "21325        20    -601.174883         37   среднее             1   \n",
       "21390        20            NaN         53   среднее             1   \n",
       "21404        20    -494.788448         52   среднее             1   \n",
       "21491        20    -173.954460         27   среднее             1   \n",
       "\n",
       "         family_status  family_status_id gender income_type  debt  \\\n",
       "606    женат / замужем                 0      M   компаньон     0   \n",
       "720    женат / замужем                 0      F   компаньон     0   \n",
       "1074   женат / замужем                 0      F   сотрудник     1   \n",
       "2510    вдовец / вдова                 2      F   сотрудник     0   \n",
       "2941   женат / замужем                 0      F   сотрудник     0   \n",
       "...                ...               ...    ...         ...   ...   \n",
       "21008  женат / замужем                 0      F   сотрудник     1   \n",
       "21325  женат / замужем                 0      F   компаньон     0   \n",
       "21390  женат / замужем                 0      M   компаньон     0   \n",
       "21404  женат / замужем                 0      M   компаньон     0   \n",
       "21491  женат / замужем                 0      F   сотрудник     0   \n",
       "\n",
       "        total_income                                purpose  \n",
       "606    145334.865002                          покупка жилья  \n",
       "720    112998.738649                   покупка недвижимости  \n",
       "1074   229518.537004                  получение образования  \n",
       "2510   264474.835577  операции с коммерческой недвижимостью  \n",
       "2941   199739.941398                  на покупку автомобиля  \n",
       "...              ...                                    ...  \n",
       "21008  133524.010303                        свой автомобиль  \n",
       "21325  102986.065978                 профильное образование  \n",
       "21390            NaN             покупка жилой недвижимости  \n",
       "21404  156629.683642        операции со своей недвижимостью  \n",
       "21491  155520.899688     на покупку подержанного автомобиля  \n",
       "\n",
       "[76 rows x 12 columns]"
      ]
     },
     "execution_count": 16,
     "metadata": {},
     "output_type": "execute_result"
    }
   ],
   "source": [
    "data[data['children'] == 20]"
   ]
  },
  {
   "cell_type": "code",
   "execution_count": 17,
   "id": "4c66a43d",
   "metadata": {},
   "outputs": [
    {
     "data": {
      "text/html": [
       "<div>\n",
       "<style scoped>\n",
       "    .dataframe tbody tr th:only-of-type {\n",
       "        vertical-align: middle;\n",
       "    }\n",
       "\n",
       "    .dataframe tbody tr th {\n",
       "        vertical-align: top;\n",
       "    }\n",
       "\n",
       "    .dataframe thead th {\n",
       "        text-align: right;\n",
       "    }\n",
       "</style>\n",
       "<table border=\"1\" class=\"dataframe\">\n",
       "  <thead>\n",
       "    <tr style=\"text-align: right;\">\n",
       "      <th></th>\n",
       "      <th>children</th>\n",
       "      <th>days_employed</th>\n",
       "      <th>dob_years</th>\n",
       "      <th>education_id</th>\n",
       "      <th>family_status_id</th>\n",
       "      <th>debt</th>\n",
       "      <th>total_income</th>\n",
       "    </tr>\n",
       "  </thead>\n",
       "  <tbody>\n",
       "    <tr>\n",
       "      <td>count</td>\n",
       "      <td>76.0</td>\n",
       "      <td>67.000000</td>\n",
       "      <td>76.000000</td>\n",
       "      <td>76.000000</td>\n",
       "      <td>76.000000</td>\n",
       "      <td>76.000000</td>\n",
       "      <td>67.000000</td>\n",
       "    </tr>\n",
       "    <tr>\n",
       "      <td>mean</td>\n",
       "      <td>20.0</td>\n",
       "      <td>35779.535997</td>\n",
       "      <td>41.815789</td>\n",
       "      <td>0.842105</td>\n",
       "      <td>0.815789</td>\n",
       "      <td>0.105263</td>\n",
       "      <td>168720.526180</td>\n",
       "    </tr>\n",
       "    <tr>\n",
       "      <td>std</td>\n",
       "      <td>0.0</td>\n",
       "      <td>112008.279425</td>\n",
       "      <td>12.065058</td>\n",
       "      <td>0.433671</td>\n",
       "      <td>1.363432</td>\n",
       "      <td>0.308931</td>\n",
       "      <td>80851.738318</td>\n",
       "    </tr>\n",
       "    <tr>\n",
       "      <td>min</td>\n",
       "      <td>20.0</td>\n",
       "      <td>-11937.171389</td>\n",
       "      <td>0.000000</td>\n",
       "      <td>0.000000</td>\n",
       "      <td>0.000000</td>\n",
       "      <td>0.000000</td>\n",
       "      <td>53971.576721</td>\n",
       "    </tr>\n",
       "    <tr>\n",
       "      <td>25%</td>\n",
       "      <td>20.0</td>\n",
       "      <td>-2629.663890</td>\n",
       "      <td>33.750000</td>\n",
       "      <td>1.000000</td>\n",
       "      <td>0.000000</td>\n",
       "      <td>0.000000</td>\n",
       "      <td>114668.631192</td>\n",
       "    </tr>\n",
       "    <tr>\n",
       "      <td>50%</td>\n",
       "      <td>20.0</td>\n",
       "      <td>-957.251278</td>\n",
       "      <td>41.500000</td>\n",
       "      <td>1.000000</td>\n",
       "      <td>0.000000</td>\n",
       "      <td>0.000000</td>\n",
       "      <td>144544.530170</td>\n",
       "    </tr>\n",
       "    <tr>\n",
       "      <td>75%</td>\n",
       "      <td>20.0</td>\n",
       "      <td>-478.364082</td>\n",
       "      <td>50.000000</td>\n",
       "      <td>1.000000</td>\n",
       "      <td>1.000000</td>\n",
       "      <td>0.000000</td>\n",
       "      <td>218033.697152</td>\n",
       "    </tr>\n",
       "    <tr>\n",
       "      <td>max</td>\n",
       "      <td>20.0</td>\n",
       "      <td>385267.263676</td>\n",
       "      <td>69.000000</td>\n",
       "      <td>2.000000</td>\n",
       "      <td>4.000000</td>\n",
       "      <td>1.000000</td>\n",
       "      <td>441721.334145</td>\n",
       "    </tr>\n",
       "  </tbody>\n",
       "</table>\n",
       "</div>"
      ],
      "text/plain": [
       "       children  days_employed  dob_years  education_id  family_status_id  \\\n",
       "count      76.0      67.000000  76.000000     76.000000         76.000000   \n",
       "mean       20.0   35779.535997  41.815789      0.842105          0.815789   \n",
       "std         0.0  112008.279425  12.065058      0.433671          1.363432   \n",
       "min        20.0  -11937.171389   0.000000      0.000000          0.000000   \n",
       "25%        20.0   -2629.663890  33.750000      1.000000          0.000000   \n",
       "50%        20.0    -957.251278  41.500000      1.000000          0.000000   \n",
       "75%        20.0    -478.364082  50.000000      1.000000          1.000000   \n",
       "max        20.0  385267.263676  69.000000      2.000000          4.000000   \n",
       "\n",
       "            debt   total_income  \n",
       "count  76.000000      67.000000  \n",
       "mean    0.105263  168720.526180  \n",
       "std     0.308931   80851.738318  \n",
       "min     0.000000   53971.576721  \n",
       "25%     0.000000  114668.631192  \n",
       "50%     0.000000  144544.530170  \n",
       "75%     0.000000  218033.697152  \n",
       "max     1.000000  441721.334145  "
      ]
     },
     "execution_count": 17,
     "metadata": {},
     "output_type": "execute_result"
    }
   ],
   "source": [
    "data[data['children'] == 20].describe() # рассмотрим описательную статистику"
   ]
  },
  {
   "cell_type": "code",
   "execution_count": 18,
   "id": "1c5b148e",
   "metadata": {},
   "outputs": [
    {
     "data": {
      "text/plain": [
       "1    60\n",
       "0    14\n",
       "2     2\n",
       "Name: education_id, dtype: int64"
      ]
     },
     "execution_count": 18,
     "metadata": {},
     "output_type": "execute_result"
    }
   ],
   "source": [
    "data[data['children'] == 20]['education_id'].value_counts()"
   ]
  },
  {
   "cell_type": "code",
   "execution_count": 19,
   "id": "77b0dc79",
   "metadata": {},
   "outputs": [
    {
     "data": {
      "text/plain": [
       "женат / замужем          49\n",
       "гражданский брак         12\n",
       "Не женат / не замужем     9\n",
       "вдовец / вдова            4\n",
       "в разводе                 2\n",
       "Name: family_status, dtype: int64"
      ]
     },
     "execution_count": 19,
     "metadata": {},
     "output_type": "execute_result"
    }
   ],
   "source": [
    "data[data['children'] == 20]['family_status'].value_counts()"
   ]
  },
  {
   "cell_type": "code",
   "execution_count": 20,
   "id": "b535450f",
   "metadata": {},
   "outputs": [
    {
     "data": {
      "text/plain": [
       "F    47\n",
       "M    29\n",
       "Name: gender, dtype: int64"
      ]
     },
     "execution_count": 20,
     "metadata": {},
     "output_type": "execute_result"
    }
   ],
   "source": [
    "data[data['children'] == 20]['gender'].value_counts()"
   ]
  },
  {
   "cell_type": "code",
   "execution_count": 21,
   "id": "05ff9440",
   "metadata": {},
   "outputs": [],
   "source": [
    "data.drop(data[data['children'] == 20].index, inplace=True) # удаляем клиентов с 20 детьми"
   ]
  },
  {
   "cell_type": "markdown",
   "id": "2845230c",
   "metadata": {},
   "source": [
    "Удалили строки с аномальными значениями в колонке `\"children\"`, и заменили отрицательные значения на положительные.\n",
    "\n",
    "Рассмотрим внимательнее данные в колонке стаж. Посмотрим данные, где `days_employed` принимает положительные значения."
   ]
  },
  {
   "cell_type": "code",
   "execution_count": 22,
   "id": "79419fe0",
   "metadata": {},
   "outputs": [
    {
     "data": {
      "text/html": [
       "<div>\n",
       "<style scoped>\n",
       "    .dataframe tbody tr th:only-of-type {\n",
       "        vertical-align: middle;\n",
       "    }\n",
       "\n",
       "    .dataframe tbody tr th {\n",
       "        vertical-align: top;\n",
       "    }\n",
       "\n",
       "    .dataframe thead th {\n",
       "        text-align: right;\n",
       "    }\n",
       "</style>\n",
       "<table border=\"1\" class=\"dataframe\">\n",
       "  <thead>\n",
       "    <tr style=\"text-align: right;\">\n",
       "      <th></th>\n",
       "      <th>children</th>\n",
       "      <th>days_employed</th>\n",
       "      <th>dob_years</th>\n",
       "      <th>education</th>\n",
       "      <th>education_id</th>\n",
       "      <th>family_status</th>\n",
       "      <th>family_status_id</th>\n",
       "      <th>gender</th>\n",
       "      <th>income_type</th>\n",
       "      <th>debt</th>\n",
       "      <th>total_income</th>\n",
       "      <th>purpose</th>\n",
       "    </tr>\n",
       "  </thead>\n",
       "  <tbody>\n",
       "    <tr>\n",
       "      <td>20444</td>\n",
       "      <td>0</td>\n",
       "      <td>328728.720605</td>\n",
       "      <td>72</td>\n",
       "      <td>среднее</td>\n",
       "      <td>1</td>\n",
       "      <td>вдовец / вдова</td>\n",
       "      <td>2</td>\n",
       "      <td>F</td>\n",
       "      <td>пенсионер</td>\n",
       "      <td>0</td>\n",
       "      <td>96519.339647</td>\n",
       "      <td>покупка жилья для семьи</td>\n",
       "    </tr>\n",
       "    <tr>\n",
       "      <td>9328</td>\n",
       "      <td>2</td>\n",
       "      <td>328734.923996</td>\n",
       "      <td>41</td>\n",
       "      <td>высшее</td>\n",
       "      <td>0</td>\n",
       "      <td>женат / замужем</td>\n",
       "      <td>0</td>\n",
       "      <td>M</td>\n",
       "      <td>пенсионер</td>\n",
       "      <td>0</td>\n",
       "      <td>126997.497760</td>\n",
       "      <td>операции со своей недвижимостью</td>\n",
       "    </tr>\n",
       "    <tr>\n",
       "      <td>17782</td>\n",
       "      <td>0</td>\n",
       "      <td>328771.341387</td>\n",
       "      <td>56</td>\n",
       "      <td>среднее</td>\n",
       "      <td>1</td>\n",
       "      <td>женат / замужем</td>\n",
       "      <td>0</td>\n",
       "      <td>F</td>\n",
       "      <td>пенсионер</td>\n",
       "      <td>0</td>\n",
       "      <td>68648.047062</td>\n",
       "      <td>операции с коммерческой недвижимостью</td>\n",
       "    </tr>\n",
       "    <tr>\n",
       "      <td>14783</td>\n",
       "      <td>0</td>\n",
       "      <td>328795.726728</td>\n",
       "      <td>62</td>\n",
       "      <td>высшее</td>\n",
       "      <td>0</td>\n",
       "      <td>женат / замужем</td>\n",
       "      <td>0</td>\n",
       "      <td>F</td>\n",
       "      <td>пенсионер</td>\n",
       "      <td>0</td>\n",
       "      <td>79940.196752</td>\n",
       "      <td>на покупку своего автомобиля</td>\n",
       "    </tr>\n",
       "    <tr>\n",
       "      <td>7229</td>\n",
       "      <td>1</td>\n",
       "      <td>328827.345667</td>\n",
       "      <td>32</td>\n",
       "      <td>среднее</td>\n",
       "      <td>1</td>\n",
       "      <td>гражданский брак</td>\n",
       "      <td>1</td>\n",
       "      <td>F</td>\n",
       "      <td>пенсионер</td>\n",
       "      <td>0</td>\n",
       "      <td>122162.965695</td>\n",
       "      <td>сыграть свадьбу</td>\n",
       "    </tr>\n",
       "    <tr>\n",
       "      <td>5332</td>\n",
       "      <td>0</td>\n",
       "      <td>328834.274455</td>\n",
       "      <td>55</td>\n",
       "      <td>среднее</td>\n",
       "      <td>1</td>\n",
       "      <td>женат / замужем</td>\n",
       "      <td>0</td>\n",
       "      <td>F</td>\n",
       "      <td>пенсионер</td>\n",
       "      <td>0</td>\n",
       "      <td>49802.142892</td>\n",
       "      <td>профильное образование</td>\n",
       "    </tr>\n",
       "  </tbody>\n",
       "</table>\n",
       "</div>"
      ],
      "text/plain": [
       "       children  days_employed  dob_years education  education_id  \\\n",
       "20444         0  328728.720605         72   среднее             1   \n",
       "9328          2  328734.923996         41    высшее             0   \n",
       "17782         0  328771.341387         56   среднее             1   \n",
       "14783         0  328795.726728         62    высшее             0   \n",
       "7229          1  328827.345667         32   среднее             1   \n",
       "5332          0  328834.274455         55   среднее             1   \n",
       "\n",
       "          family_status  family_status_id gender income_type  debt  \\\n",
       "20444    вдовец / вдова                 2      F   пенсионер     0   \n",
       "9328    женат / замужем                 0      M   пенсионер     0   \n",
       "17782   женат / замужем                 0      F   пенсионер     0   \n",
       "14783   женат / замужем                 0      F   пенсионер     0   \n",
       "7229   гражданский брак                 1      F   пенсионер     0   \n",
       "5332    женат / замужем                 0      F   пенсионер     0   \n",
       "\n",
       "        total_income                                purpose  \n",
       "20444   96519.339647                покупка жилья для семьи  \n",
       "9328   126997.497760        операции со своей недвижимостью  \n",
       "17782   68648.047062  операции с коммерческой недвижимостью  \n",
       "14783   79940.196752           на покупку своего автомобиля  \n",
       "7229   122162.965695                        сыграть свадьбу  \n",
       "5332    49802.142892                 профильное образование  "
      ]
     },
     "execution_count": 22,
     "metadata": {},
     "output_type": "execute_result"
    }
   ],
   "source": [
    "data[data['days_employed'] > 0].sort_values(by = 'days_employed').head(6)"
   ]
  },
  {
   "cell_type": "code",
   "execution_count": 23,
   "id": "18d56095",
   "metadata": {},
   "outputs": [
    {
     "data": {
      "text/html": [
       "<div>\n",
       "<style scoped>\n",
       "    .dataframe tbody tr th:only-of-type {\n",
       "        vertical-align: middle;\n",
       "    }\n",
       "\n",
       "    .dataframe tbody tr th {\n",
       "        vertical-align: top;\n",
       "    }\n",
       "\n",
       "    .dataframe thead th {\n",
       "        text-align: right;\n",
       "    }\n",
       "</style>\n",
       "<table border=\"1\" class=\"dataframe\">\n",
       "  <thead>\n",
       "    <tr style=\"text-align: right;\">\n",
       "      <th></th>\n",
       "      <th>children</th>\n",
       "      <th>days_employed</th>\n",
       "      <th>dob_years</th>\n",
       "      <th>education</th>\n",
       "      <th>education_id</th>\n",
       "      <th>family_status</th>\n",
       "      <th>family_status_id</th>\n",
       "      <th>gender</th>\n",
       "      <th>income_type</th>\n",
       "      <th>debt</th>\n",
       "      <th>total_income</th>\n",
       "      <th>purpose</th>\n",
       "    </tr>\n",
       "  </thead>\n",
       "  <tbody>\n",
       "    <tr>\n",
       "      <td>4697</td>\n",
       "      <td>0</td>\n",
       "      <td>401635.032697</td>\n",
       "      <td>56</td>\n",
       "      <td>среднее</td>\n",
       "      <td>1</td>\n",
       "      <td>женат / замужем</td>\n",
       "      <td>0</td>\n",
       "      <td>F</td>\n",
       "      <td>пенсионер</td>\n",
       "      <td>0</td>\n",
       "      <td>48242.322502</td>\n",
       "      <td>покупка недвижимости</td>\n",
       "    </tr>\n",
       "    <tr>\n",
       "      <td>7794</td>\n",
       "      <td>0</td>\n",
       "      <td>401663.850046</td>\n",
       "      <td>61</td>\n",
       "      <td>среднее</td>\n",
       "      <td>1</td>\n",
       "      <td>гражданский брак</td>\n",
       "      <td>1</td>\n",
       "      <td>F</td>\n",
       "      <td>пенсионер</td>\n",
       "      <td>0</td>\n",
       "      <td>48286.441362</td>\n",
       "      <td>свадьба</td>\n",
       "    </tr>\n",
       "    <tr>\n",
       "      <td>2156</td>\n",
       "      <td>0</td>\n",
       "      <td>401674.466633</td>\n",
       "      <td>60</td>\n",
       "      <td>среднее</td>\n",
       "      <td>1</td>\n",
       "      <td>женат / замужем</td>\n",
       "      <td>0</td>\n",
       "      <td>M</td>\n",
       "      <td>пенсионер</td>\n",
       "      <td>0</td>\n",
       "      <td>325395.724541</td>\n",
       "      <td>автомобили</td>\n",
       "    </tr>\n",
       "    <tr>\n",
       "      <td>7664</td>\n",
       "      <td>1</td>\n",
       "      <td>401675.093434</td>\n",
       "      <td>61</td>\n",
       "      <td>среднее</td>\n",
       "      <td>1</td>\n",
       "      <td>женат / замужем</td>\n",
       "      <td>0</td>\n",
       "      <td>F</td>\n",
       "      <td>пенсионер</td>\n",
       "      <td>0</td>\n",
       "      <td>126214.519212</td>\n",
       "      <td>операции с жильем</td>\n",
       "    </tr>\n",
       "    <tr>\n",
       "      <td>10006</td>\n",
       "      <td>0</td>\n",
       "      <td>401715.811749</td>\n",
       "      <td>69</td>\n",
       "      <td>высшее</td>\n",
       "      <td>0</td>\n",
       "      <td>Не женат / не замужем</td>\n",
       "      <td>4</td>\n",
       "      <td>F</td>\n",
       "      <td>пенсионер</td>\n",
       "      <td>0</td>\n",
       "      <td>57390.256908</td>\n",
       "      <td>получение образования</td>\n",
       "    </tr>\n",
       "    <tr>\n",
       "      <td>6954</td>\n",
       "      <td>0</td>\n",
       "      <td>401755.400475</td>\n",
       "      <td>56</td>\n",
       "      <td>среднее</td>\n",
       "      <td>1</td>\n",
       "      <td>вдовец / вдова</td>\n",
       "      <td>2</td>\n",
       "      <td>F</td>\n",
       "      <td>пенсионер</td>\n",
       "      <td>0</td>\n",
       "      <td>176278.441171</td>\n",
       "      <td>ремонт жилью</td>\n",
       "    </tr>\n",
       "  </tbody>\n",
       "</table>\n",
       "</div>"
      ],
      "text/plain": [
       "       children  days_employed  dob_years education  education_id  \\\n",
       "4697          0  401635.032697         56   среднее             1   \n",
       "7794          0  401663.850046         61   среднее             1   \n",
       "2156          0  401674.466633         60   среднее             1   \n",
       "7664          1  401675.093434         61   среднее             1   \n",
       "10006         0  401715.811749         69    высшее             0   \n",
       "6954          0  401755.400475         56   среднее             1   \n",
       "\n",
       "               family_status  family_status_id gender income_type  debt  \\\n",
       "4697         женат / замужем                 0      F   пенсионер     0   \n",
       "7794        гражданский брак                 1      F   пенсионер     0   \n",
       "2156         женат / замужем                 0      M   пенсионер     0   \n",
       "7664         женат / замужем                 0      F   пенсионер     0   \n",
       "10006  Не женат / не замужем                 4      F   пенсионер     0   \n",
       "6954          вдовец / вдова                 2      F   пенсионер     0   \n",
       "\n",
       "        total_income                purpose  \n",
       "4697    48242.322502   покупка недвижимости  \n",
       "7794    48286.441362                свадьба  \n",
       "2156   325395.724541             автомобили  \n",
       "7664   126214.519212      операции с жильем  \n",
       "10006   57390.256908  получение образования  \n",
       "6954   176278.441171           ремонт жилью  "
      ]
     },
     "execution_count": 23,
     "metadata": {},
     "output_type": "execute_result"
    }
   ],
   "source": [
    "data[data['days_employed'] > 0].sort_values(by = 'days_employed').tail(6)"
   ]
  },
  {
   "cell_type": "markdown",
   "id": "5e051b42",
   "metadata": {},
   "source": [
    "Возможно, что положительные значения в `days_employed` у пенсионеров? Проверим"
   ]
  },
  {
   "cell_type": "code",
   "execution_count": 24,
   "id": "aaf219d3",
   "metadata": {},
   "outputs": [
    {
     "data": {
      "text/plain": [
       "3438"
      ]
     },
     "execution_count": 24,
     "metadata": {},
     "output_type": "execute_result"
    }
   ],
   "source": [
    "data[data['days_employed'] > 0].shape[0]"
   ]
  },
  {
   "cell_type": "code",
   "execution_count": 25,
   "id": "fe89e5c5",
   "metadata": {},
   "outputs": [
    {
     "data": {
      "text/plain": [
       "3436"
      ]
     },
     "execution_count": 25,
     "metadata": {},
     "output_type": "execute_result"
    }
   ],
   "source": [
    "data[(data['days_employed'] > 0) & (data['income_type'] == 'пенсионер')].shape[0]"
   ]
  },
  {
   "cell_type": "code",
   "execution_count": 26,
   "id": "a73321b1",
   "metadata": {},
   "outputs": [
    {
     "data": {
      "text/html": [
       "<div>\n",
       "<style scoped>\n",
       "    .dataframe tbody tr th:only-of-type {\n",
       "        vertical-align: middle;\n",
       "    }\n",
       "\n",
       "    .dataframe tbody tr th {\n",
       "        vertical-align: top;\n",
       "    }\n",
       "\n",
       "    .dataframe thead th {\n",
       "        text-align: right;\n",
       "    }\n",
       "</style>\n",
       "<table border=\"1\" class=\"dataframe\">\n",
       "  <thead>\n",
       "    <tr style=\"text-align: right;\">\n",
       "      <th></th>\n",
       "      <th>children</th>\n",
       "      <th>days_employed</th>\n",
       "      <th>dob_years</th>\n",
       "      <th>education</th>\n",
       "      <th>education_id</th>\n",
       "      <th>family_status</th>\n",
       "      <th>family_status_id</th>\n",
       "      <th>gender</th>\n",
       "      <th>income_type</th>\n",
       "      <th>debt</th>\n",
       "      <th>total_income</th>\n",
       "      <th>purpose</th>\n",
       "    </tr>\n",
       "  </thead>\n",
       "  <tbody>\n",
       "    <tr>\n",
       "      <td>3133</td>\n",
       "      <td>1</td>\n",
       "      <td>337524.466835</td>\n",
       "      <td>31</td>\n",
       "      <td>среднее</td>\n",
       "      <td>1</td>\n",
       "      <td>женат / замужем</td>\n",
       "      <td>0</td>\n",
       "      <td>M</td>\n",
       "      <td>безработный</td>\n",
       "      <td>1</td>\n",
       "      <td>59956.991984</td>\n",
       "      <td>покупка жилья для сдачи</td>\n",
       "    </tr>\n",
       "    <tr>\n",
       "      <td>14798</td>\n",
       "      <td>0</td>\n",
       "      <td>395302.838654</td>\n",
       "      <td>45</td>\n",
       "      <td>Высшее</td>\n",
       "      <td>0</td>\n",
       "      <td>гражданский брак</td>\n",
       "      <td>1</td>\n",
       "      <td>F</td>\n",
       "      <td>безработный</td>\n",
       "      <td>0</td>\n",
       "      <td>202722.511368</td>\n",
       "      <td>ремонт жилью</td>\n",
       "    </tr>\n",
       "  </tbody>\n",
       "</table>\n",
       "</div>"
      ],
      "text/plain": [
       "       children  days_employed  dob_years education  education_id  \\\n",
       "3133          1  337524.466835         31   среднее             1   \n",
       "14798         0  395302.838654         45    Высшее             0   \n",
       "\n",
       "          family_status  family_status_id gender  income_type  debt  \\\n",
       "3133    женат / замужем                 0      M  безработный     1   \n",
       "14798  гражданский брак                 1      F  безработный     0   \n",
       "\n",
       "        total_income                  purpose  \n",
       "3133    59956.991984  покупка жилья для сдачи  \n",
       "14798  202722.511368             ремонт жилью  "
      ]
     },
     "execution_count": 26,
     "metadata": {},
     "output_type": "execute_result"
    }
   ],
   "source": [
    "data[(data['days_employed'] > 0) & (data['income_type'] != 'пенсионер')]"
   ]
  },
  {
   "cell_type": "markdown",
   "id": "67484a51",
   "metadata": {},
   "source": [
    "В основном получается, что положительный стаж у категории \"пенсионер\". Но все равно странно. "
   ]
  },
  {
   "cell_type": "code",
   "execution_count": 27,
   "id": "3811e67e",
   "metadata": {},
   "outputs": [
    {
     "data": {
      "text/plain": [
       "328728.72060451825"
      ]
     },
     "execution_count": 27,
     "metadata": {},
     "output_type": "execute_result"
    }
   ],
   "source": [
    "data[data['days_employed'] > 0]['days_employed'].min()"
   ]
  },
  {
   "cell_type": "code",
   "execution_count": 28,
   "id": "9d730c0e",
   "metadata": {},
   "outputs": [
    {
     "data": {
      "text/plain": [
       "16.01939484358245"
      ]
     },
     "execution_count": 28,
     "metadata": {},
     "output_type": "execute_result"
    }
   ],
   "source": [
    "# найдем долю аномальных значений\n",
    "3436/len(data) * 100"
   ]
  },
  {
   "cell_type": "markdown",
   "id": "9bc26cda",
   "metadata": {},
   "source": [
    "Но все равно странно. Минимальное положительное значение равно 328728.72060451825, а это примерно 900 лет. Такого быть не может. \n",
    "Доля аномальных значений около 16%, это много. Удалять из дасета не будем. Поэтому заменим такие аномальные значения медианным значением.Точно также заменим пропуски медианным значением.\n",
    "Трудно объяснить причину почему в данных `days_employed` значения представлены таким образом. Я бы обратилась к тем, кто выгружал данные, но сделать это в рамках проекта невозможно."
   ]
  },
  {
   "cell_type": "markdown",
   "id": "c562d08e",
   "metadata": {},
   "source": [
    "В `total_income` видим, что размах в данных довольно большой. В тому же медиана и среднее сильно отличаются друг от друга.\n",
    "\n",
    "Посмотрим на данные более подробно. Разделим данные на 3 категории данные из колонки `total_income`."
   ]
  },
  {
   "cell_type": "code",
   "execution_count": 29,
   "id": "c6b6683f",
   "metadata": {},
   "outputs": [
    {
     "data": {
      "text/plain": [
       "low       19239\n",
       "medium       38\n",
       "high          7\n",
       "Name: total_income, dtype: int64"
      ]
     },
     "execution_count": 29,
     "metadata": {},
     "output_type": "execute_result"
    }
   ],
   "source": [
    "pd.cut(data['total_income'], 3, labels=[\"low\", \"medium\", \"high\"]).value_counts()"
   ]
  },
  {
   "cell_type": "markdown",
   "id": "5a1c13e8",
   "metadata": {},
   "source": [
    "Итак, замечаем, что очень много низких значений. Поэтому лучше заменить пропуски в `total_income` на медианное значение.\n",
    "\n",
    "Проверим есть ли аномалии в столблцах возраста и пола."
   ]
  },
  {
   "cell_type": "code",
   "execution_count": 30,
   "id": "9bf9e821",
   "metadata": {},
   "outputs": [
    {
     "data": {
      "text/html": [
       "<div>\n",
       "<style scoped>\n",
       "    .dataframe tbody tr th:only-of-type {\n",
       "        vertical-align: middle;\n",
       "    }\n",
       "\n",
       "    .dataframe tbody tr th {\n",
       "        vertical-align: top;\n",
       "    }\n",
       "\n",
       "    .dataframe thead th {\n",
       "        text-align: right;\n",
       "    }\n",
       "</style>\n",
       "<table border=\"1\" class=\"dataframe\">\n",
       "  <thead>\n",
       "    <tr style=\"text-align: right;\">\n",
       "      <th></th>\n",
       "      <th>children</th>\n",
       "      <th>days_employed</th>\n",
       "      <th>dob_years</th>\n",
       "      <th>education</th>\n",
       "      <th>education_id</th>\n",
       "      <th>family_status</th>\n",
       "      <th>family_status_id</th>\n",
       "      <th>gender</th>\n",
       "      <th>income_type</th>\n",
       "      <th>debt</th>\n",
       "      <th>total_income</th>\n",
       "      <th>purpose</th>\n",
       "    </tr>\n",
       "  </thead>\n",
       "  <tbody>\n",
       "    <tr>\n",
       "      <td>9169</td>\n",
       "      <td>1</td>\n",
       "      <td>-5248.554336</td>\n",
       "      <td>35</td>\n",
       "      <td>среднее</td>\n",
       "      <td>1</td>\n",
       "      <td>гражданский брак</td>\n",
       "      <td>1</td>\n",
       "      <td>M</td>\n",
       "      <td>сотрудник</td>\n",
       "      <td>0</td>\n",
       "      <td>1.726276e+06</td>\n",
       "      <td>дополнительное образование</td>\n",
       "    </tr>\n",
       "    <tr>\n",
       "      <td>12412</td>\n",
       "      <td>0</td>\n",
       "      <td>-1477.438114</td>\n",
       "      <td>44</td>\n",
       "      <td>высшее</td>\n",
       "      <td>0</td>\n",
       "      <td>женат / замужем</td>\n",
       "      <td>0</td>\n",
       "      <td>M</td>\n",
       "      <td>компаньон</td>\n",
       "      <td>0</td>\n",
       "      <td>2.265604e+06</td>\n",
       "      <td>ремонт жилью</td>\n",
       "    </tr>\n",
       "    <tr>\n",
       "      <td>17178</td>\n",
       "      <td>0</td>\n",
       "      <td>-5734.127087</td>\n",
       "      <td>42</td>\n",
       "      <td>высшее</td>\n",
       "      <td>0</td>\n",
       "      <td>гражданский брак</td>\n",
       "      <td>1</td>\n",
       "      <td>M</td>\n",
       "      <td>компаньон</td>\n",
       "      <td>0</td>\n",
       "      <td>1.711309e+06</td>\n",
       "      <td>сыграть свадьбу</td>\n",
       "    </tr>\n",
       "    <tr>\n",
       "      <td>17503</td>\n",
       "      <td>0</td>\n",
       "      <td>-2285.476482</td>\n",
       "      <td>43</td>\n",
       "      <td>среднее</td>\n",
       "      <td>1</td>\n",
       "      <td>женат / замужем</td>\n",
       "      <td>0</td>\n",
       "      <td>M</td>\n",
       "      <td>компаньон</td>\n",
       "      <td>0</td>\n",
       "      <td>1.597613e+06</td>\n",
       "      <td>операции с недвижимостью</td>\n",
       "    </tr>\n",
       "    <tr>\n",
       "      <td>18368</td>\n",
       "      <td>1</td>\n",
       "      <td>-333.935516</td>\n",
       "      <td>41</td>\n",
       "      <td>ВЫСШЕЕ</td>\n",
       "      <td>0</td>\n",
       "      <td>гражданский брак</td>\n",
       "      <td>1</td>\n",
       "      <td>M</td>\n",
       "      <td>компаньон</td>\n",
       "      <td>0</td>\n",
       "      <td>1.551153e+06</td>\n",
       "      <td>свадьба</td>\n",
       "    </tr>\n",
       "    <tr>\n",
       "      <td>19606</td>\n",
       "      <td>1</td>\n",
       "      <td>-2577.664662</td>\n",
       "      <td>39</td>\n",
       "      <td>высшее</td>\n",
       "      <td>0</td>\n",
       "      <td>женат / замужем</td>\n",
       "      <td>0</td>\n",
       "      <td>M</td>\n",
       "      <td>компаньон</td>\n",
       "      <td>1</td>\n",
       "      <td>2.200852e+06</td>\n",
       "      <td>строительство недвижимости</td>\n",
       "    </tr>\n",
       "    <tr>\n",
       "      <td>20809</td>\n",
       "      <td>0</td>\n",
       "      <td>-4719.273476</td>\n",
       "      <td>61</td>\n",
       "      <td>среднее</td>\n",
       "      <td>1</td>\n",
       "      <td>Не женат / не замужем</td>\n",
       "      <td>4</td>\n",
       "      <td>F</td>\n",
       "      <td>сотрудник</td>\n",
       "      <td>0</td>\n",
       "      <td>1.715018e+06</td>\n",
       "      <td>покупка жилья для семьи</td>\n",
       "    </tr>\n",
       "  </tbody>\n",
       "</table>\n",
       "</div>"
      ],
      "text/plain": [
       "       children  days_employed  dob_years education  education_id  \\\n",
       "9169          1   -5248.554336         35   среднее             1   \n",
       "12412         0   -1477.438114         44    высшее             0   \n",
       "17178         0   -5734.127087         42    высшее             0   \n",
       "17503         0   -2285.476482         43   среднее             1   \n",
       "18368         1    -333.935516         41    ВЫСШЕЕ             0   \n",
       "19606         1   -2577.664662         39    высшее             0   \n",
       "20809         0   -4719.273476         61   среднее             1   \n",
       "\n",
       "               family_status  family_status_id gender income_type  debt  \\\n",
       "9169        гражданский брак                 1      M   сотрудник     0   \n",
       "12412        женат / замужем                 0      M   компаньон     0   \n",
       "17178       гражданский брак                 1      M   компаньон     0   \n",
       "17503        женат / замужем                 0      M   компаньон     0   \n",
       "18368       гражданский брак                 1      M   компаньон     0   \n",
       "19606        женат / замужем                 0      M   компаньон     1   \n",
       "20809  Не женат / не замужем                 4      F   сотрудник     0   \n",
       "\n",
       "       total_income                     purpose  \n",
       "9169   1.726276e+06  дополнительное образование  \n",
       "12412  2.265604e+06                ремонт жилью  \n",
       "17178  1.711309e+06             сыграть свадьбу  \n",
       "17503  1.597613e+06    операции с недвижимостью  \n",
       "18368  1.551153e+06                     свадьба  \n",
       "19606  2.200852e+06  строительство недвижимости  \n",
       "20809  1.715018e+06     покупка жилья для семьи  "
      ]
     },
     "execution_count": 30,
     "metadata": {},
     "output_type": "execute_result"
    }
   ],
   "source": [
    "# рассмотрим данные, гдe очень высокий ежемесячный доход\n",
    "data[pd.cut(data['total_income'], 3, labels=[\"low\", \"medium\", \"high\"]) == 'high']"
   ]
  },
  {
   "cell_type": "markdown",
   "id": "1bd09dc0",
   "metadata": {},
   "source": [
    "Итак, у таких клиентов уровень образования высшее или среднее, в основном они женаты или замужем. 6 из 7 являются мужчинами. Если обратить внимание на род занятости, то это в основном компаньоны. Вполне можно предположить, что эти люди являются успешными предпринимателями, за исключением двух сотрудников. \n",
    "\n",
    "Посмотрим, общую долю компаньонов во всем датасете."
   ]
  },
  {
   "cell_type": "code",
   "execution_count": 31,
   "id": "c8af3d5e",
   "metadata": {},
   "outputs": [
    {
     "data": {
      "text/plain": [
       "сотрудник          51.638771\n",
       "компаньон          23.604830\n",
       "пенсионер          17.935568\n",
       "госслужащий         6.792857\n",
       "предприниматель     0.009324\n",
       "безработный         0.009324\n",
       "студент             0.004662\n",
       "в декрете           0.004662\n",
       "Name: income_type, dtype: float64"
      ]
     },
     "execution_count": 31,
     "metadata": {},
     "output_type": "execute_result"
    }
   ],
   "source": [
    "data['income_type'].value_counts() / len(data) * 100"
   ]
  },
  {
   "cell_type": "markdown",
   "id": "3c3b3cbf",
   "metadata": {},
   "source": [
    "Рассмотрим ежемесячный доход для каждой категории занятости"
   ]
  },
  {
   "cell_type": "code",
   "execution_count": 32,
   "id": "b8efbbd8",
   "metadata": {},
   "outputs": [
    {
     "data": {
      "text/plain": [
       "income_type\n",
       "предприниматель    499163.144947\n",
       "компаньон          172450.279990\n",
       "госслужащий        150420.150276\n",
       "сотрудник          142594.396847\n",
       "безработный        131339.751676\n",
       "пенсионер          118406.283533\n",
       "студент             98201.625314\n",
       "в декрете           53829.130729\n",
       "Name: total_income, dtype: float64"
      ]
     },
     "execution_count": 32,
     "metadata": {},
     "output_type": "execute_result"
    }
   ],
   "source": [
    "data.groupby('income_type')['total_income'].median().sort_values(ascending=False)"
   ]
  },
  {
   "cell_type": "code",
   "execution_count": 33,
   "id": "61ffb377",
   "metadata": {},
   "outputs": [
    {
     "data": {
      "text/plain": [
       "income_type\n",
       "предприниматель    499163.144947\n",
       "компаньон          202522.888321\n",
       "госслужащий        170831.866373\n",
       "сотрудник          161345.582776\n",
       "пенсионер          137150.779099\n",
       "безработный        131339.751676\n",
       "студент             98201.625314\n",
       "в декрете           53829.130729\n",
       "Name: total_income, dtype: float64"
      ]
     },
     "execution_count": 33,
     "metadata": {},
     "output_type": "execute_result"
    }
   ],
   "source": [
    "data.groupby('income_type')['total_income'].mean().sort_values(ascending=False)"
   ]
  },
  {
   "cell_type": "code",
   "execution_count": 34,
   "id": "9c74f3e7",
   "metadata": {},
   "outputs": [
    {
     "data": {
      "text/html": [
       "<div>\n",
       "<style scoped>\n",
       "    .dataframe tbody tr th:only-of-type {\n",
       "        vertical-align: middle;\n",
       "    }\n",
       "\n",
       "    .dataframe tbody tr th {\n",
       "        vertical-align: top;\n",
       "    }\n",
       "\n",
       "    .dataframe thead th {\n",
       "        text-align: right;\n",
       "    }\n",
       "</style>\n",
       "<table border=\"1\" class=\"dataframe\">\n",
       "  <thead>\n",
       "    <tr style=\"text-align: right;\">\n",
       "      <th></th>\n",
       "      <th>children</th>\n",
       "      <th>days_employed</th>\n",
       "      <th>dob_years</th>\n",
       "      <th>education</th>\n",
       "      <th>education_id</th>\n",
       "      <th>family_status</th>\n",
       "      <th>family_status_id</th>\n",
       "      <th>gender</th>\n",
       "      <th>income_type</th>\n",
       "      <th>debt</th>\n",
       "      <th>total_income</th>\n",
       "      <th>purpose</th>\n",
       "    </tr>\n",
       "  </thead>\n",
       "  <tbody>\n",
       "    <tr>\n",
       "      <td>5936</td>\n",
       "      <td>0</td>\n",
       "      <td>NaN</td>\n",
       "      <td>58</td>\n",
       "      <td>высшее</td>\n",
       "      <td>0</td>\n",
       "      <td>женат / замужем</td>\n",
       "      <td>0</td>\n",
       "      <td>M</td>\n",
       "      <td>предприниматель</td>\n",
       "      <td>0</td>\n",
       "      <td>NaN</td>\n",
       "      <td>покупка жилой недвижимости</td>\n",
       "    </tr>\n",
       "    <tr>\n",
       "      <td>18697</td>\n",
       "      <td>0</td>\n",
       "      <td>-520.848083</td>\n",
       "      <td>27</td>\n",
       "      <td>высшее</td>\n",
       "      <td>0</td>\n",
       "      <td>гражданский брак</td>\n",
       "      <td>1</td>\n",
       "      <td>F</td>\n",
       "      <td>предприниматель</td>\n",
       "      <td>0</td>\n",
       "      <td>499163.144947</td>\n",
       "      <td>на проведение свадьбы</td>\n",
       "    </tr>\n",
       "  </tbody>\n",
       "</table>\n",
       "</div>"
      ],
      "text/plain": [
       "       children  days_employed  dob_years education  education_id  \\\n",
       "5936          0            NaN         58    высшее             0   \n",
       "18697         0    -520.848083         27    высшее             0   \n",
       "\n",
       "          family_status  family_status_id gender      income_type  debt  \\\n",
       "5936    женат / замужем                 0      M  предприниматель     0   \n",
       "18697  гражданский брак                 1      F  предприниматель     0   \n",
       "\n",
       "        total_income                     purpose  \n",
       "5936             NaN  покупка жилой недвижимости  \n",
       "18697  499163.144947       на проведение свадьбы  "
      ]
     },
     "execution_count": 34,
     "metadata": {},
     "output_type": "execute_result"
    }
   ],
   "source": [
    "data[data['income_type'] == 'предприниматель']"
   ]
  },
  {
   "cell_type": "markdown",
   "id": "78c2b04b",
   "metadata": {},
   "source": [
    "Итак, если исключить предпринимателей (их всего 2 в датасете, и только у одного указан дохож), то средний и медианный ежемесячный доход у компаньонов выше, чем у остальных категорий работников. Вполне возможно, что у некоторых компаньонов довольно успешный бизнес.\n",
    "Медианное значение `'total_income'` равно `145020.80`, что в целом похоже на правду, если смотреть на медианные и средние доходы в разрезе категорий работников.  \n",
    "Предлагаю удалить из датасета клиента-\"предпринимателя\", у которого не указан ежемесячный доход. "
   ]
  },
  {
   "cell_type": "code",
   "execution_count": 35,
   "id": "bb9b38fe",
   "metadata": {},
   "outputs": [],
   "source": [
    "data.drop(data[data['income_type'] == 'предприниматель'].index, inplace=True) # удаляем клиентов с 20 детьми"
   ]
  },
  {
   "cell_type": "markdown",
   "id": "c4e90181",
   "metadata": {},
   "source": [
    "Рассмотрим также различия в доходах в зависимости от пола."
   ]
  },
  {
   "cell_type": "code",
   "execution_count": 36,
   "id": "03b4a88a",
   "metadata": {},
   "outputs": [
    {
     "data": {
      "text/plain": [
       "F      14188\n",
       "M       7258\n",
       "XNA        1\n",
       "Name: gender, dtype: int64"
      ]
     },
     "execution_count": 36,
     "metadata": {},
     "output_type": "execute_result"
    }
   ],
   "source": [
    "data['gender'].value_counts() "
   ]
  },
  {
   "cell_type": "markdown",
   "id": "1f53781a",
   "metadata": {},
   "source": [
    "Женщин клиентов практически в два раза больше, чем мужчин. \n",
    "\n",
    "И у нас есть строка, где неверно указан пол клиента."
   ]
  },
  {
   "cell_type": "code",
   "execution_count": 37,
   "id": "d81e6ba2",
   "metadata": {},
   "outputs": [
    {
     "data": {
      "text/html": [
       "<div>\n",
       "<style scoped>\n",
       "    .dataframe tbody tr th:only-of-type {\n",
       "        vertical-align: middle;\n",
       "    }\n",
       "\n",
       "    .dataframe tbody tr th {\n",
       "        vertical-align: top;\n",
       "    }\n",
       "\n",
       "    .dataframe thead th {\n",
       "        text-align: right;\n",
       "    }\n",
       "</style>\n",
       "<table border=\"1\" class=\"dataframe\">\n",
       "  <thead>\n",
       "    <tr style=\"text-align: right;\">\n",
       "      <th></th>\n",
       "      <th>children</th>\n",
       "      <th>days_employed</th>\n",
       "      <th>dob_years</th>\n",
       "      <th>education</th>\n",
       "      <th>education_id</th>\n",
       "      <th>family_status</th>\n",
       "      <th>family_status_id</th>\n",
       "      <th>gender</th>\n",
       "      <th>income_type</th>\n",
       "      <th>debt</th>\n",
       "      <th>total_income</th>\n",
       "      <th>purpose</th>\n",
       "    </tr>\n",
       "  </thead>\n",
       "  <tbody>\n",
       "    <tr>\n",
       "      <td>10701</td>\n",
       "      <td>0</td>\n",
       "      <td>-2358.600502</td>\n",
       "      <td>24</td>\n",
       "      <td>неоконченное высшее</td>\n",
       "      <td>2</td>\n",
       "      <td>гражданский брак</td>\n",
       "      <td>1</td>\n",
       "      <td>XNA</td>\n",
       "      <td>компаньон</td>\n",
       "      <td>0</td>\n",
       "      <td>203905.157261</td>\n",
       "      <td>покупка недвижимости</td>\n",
       "    </tr>\n",
       "  </tbody>\n",
       "</table>\n",
       "</div>"
      ],
      "text/plain": [
       "       children  days_employed  dob_years            education  education_id  \\\n",
       "10701         0   -2358.600502         24  неоконченное высшее             2   \n",
       "\n",
       "          family_status  family_status_id gender income_type  debt  \\\n",
       "10701  гражданский брак                 1    XNA   компаньон     0   \n",
       "\n",
       "        total_income               purpose  \n",
       "10701  203905.157261  покупка недвижимости  "
      ]
     },
     "execution_count": 37,
     "metadata": {},
     "output_type": "execute_result"
    }
   ],
   "source": [
    "data[data['gender'] == 'XNA']"
   ]
  },
  {
   "cell_type": "markdown",
   "id": "7a4935d3",
   "metadata": {},
   "source": [
    "В общем, выглядит странно, конечно. Этот клиент является компаньоном, и него довольно высокий ежемесячный доход. Посмотрим, какова доля компаньонов среди клиентов, у которых доход больше 200000 ед."
   ]
  },
  {
   "cell_type": "code",
   "execution_count": 38,
   "id": "b467b4d0",
   "metadata": {},
   "outputs": [
    {
     "data": {
      "text/plain": [
       "сотрудник      47.056492\n",
       "компаньон      34.687810\n",
       "пенсионер      10.941526\n",
       "госслужащий     7.294351\n",
       "безработный     0.019822\n",
       "Name: income_type, dtype: float64"
      ]
     },
     "execution_count": 38,
     "metadata": {},
     "output_type": "execute_result"
    }
   ],
   "source": [
    "(data[data['total_income'] > 200000]['income_type']\n",
    " .value_counts() / len(data[data['total_income'] > 200000]) * 100)"
   ]
  },
  {
   "cell_type": "code",
   "execution_count": 39,
   "id": "110c9b6a",
   "metadata": {},
   "outputs": [
    {
     "data": {
      "text/plain": [
       "сотрудник      53.378283\n",
       "пенсионер      20.255654\n",
       "компаньон      19.721871\n",
       "госслужащий     6.623121\n",
       "студент         0.007023\n",
       "в декрете       0.007023\n",
       "безработный     0.007023\n",
       "Name: income_type, dtype: float64"
      ]
     },
     "execution_count": 39,
     "metadata": {},
     "output_type": "execute_result"
    }
   ],
   "source": [
    "(data[data['total_income'] <= 200000]['income_type']\n",
    " .value_counts() / len(data[data['total_income'] <= 200000]) * 100)"
   ]
  },
  {
   "cell_type": "markdown",
   "id": "7c46518c",
   "metadata": {},
   "source": [
    "Доля компаньонов, у которых доход больше 200000 ед., довольно большая, можно удалить одного клиента из анализа."
   ]
  },
  {
   "cell_type": "code",
   "execution_count": 40,
   "id": "0be2493b",
   "metadata": {},
   "outputs": [],
   "source": [
    "data.drop(data[data['gender'] == 'XNA'].index, inplace=True) # удаляем клиентов с 20 детьми"
   ]
  },
  {
   "cell_type": "code",
   "execution_count": 41,
   "id": "a0414fcd",
   "metadata": {},
   "outputs": [
    {
     "data": {
      "text/plain": [
       "gender\n",
       "F    134148.57593\n",
       "M    167756.23024\n",
       "Name: total_income, dtype: float64"
      ]
     },
     "execution_count": 41,
     "metadata": {},
     "output_type": "execute_result"
    }
   ],
   "source": [
    "data.groupby('gender')['total_income'].median()"
   ]
  },
  {
   "cell_type": "code",
   "execution_count": 42,
   "id": "56ddd43c",
   "metadata": {},
   "outputs": [
    {
     "data": {
      "text/plain": [
       "gender\n",
       "F    154048.885895\n",
       "M    193216.720443\n",
       "Name: total_income, dtype: float64"
      ]
     },
     "execution_count": 42,
     "metadata": {},
     "output_type": "execute_result"
    }
   ],
   "source": [
    "data.groupby('gender')['total_income'].mean()"
   ]
  },
  {
   "cell_type": "markdown",
   "id": "605eef6e",
   "metadata": {},
   "source": [
    "И среднее, и медианное значение дохода у мужчин больше. \n",
    "\n",
    "Рассмотрим различия в доходах в зависимости от пола и типа занятости."
   ]
  },
  {
   "cell_type": "code",
   "execution_count": 43,
   "id": "308cf19e",
   "metadata": {},
   "outputs": [
    {
     "data": {
      "text/plain": [
       "gender  income_type\n",
       "F       сотрудник      6776\n",
       "        компаньон      3187\n",
       "        пенсионер      3150\n",
       "        госслужащий    1073\n",
       "        безработный       1\n",
       "        в декрете         1\n",
       "M       сотрудник      4300\n",
       "        компаньон      1875\n",
       "        пенсионер       697\n",
       "        госслужащий     384\n",
       "        безработный       1\n",
       "        студент           1\n",
       "Name: income_type, dtype: int64"
      ]
     },
     "execution_count": 43,
     "metadata": {},
     "output_type": "execute_result"
    }
   ],
   "source": [
    "data.groupby('gender')['income_type'].value_counts()"
   ]
  },
  {
   "cell_type": "markdown",
   "id": "a80d07f2",
   "metadata": {},
   "source": [
    "\n",
    "Видим, что распределение по типу занятости у мужчин и женщин одинаковая. Но поскольку женщин практически в два раза больше, чем мужчин, и медианные значения ежемесячного дохода различаются, то лучше заменить пропуски в `'total_income'` для мужчин и женщин отдельно. У каждой категории по полу свое медианное значение.\n"
   ]
  },
  {
   "cell_type": "markdown",
   "id": "37010446",
   "metadata": {},
   "source": [
    "### Замена пропусков и аномальных значений"
   ]
  },
  {
   "cell_type": "code",
   "execution_count": 44,
   "id": "5262774f",
   "metadata": {},
   "outputs": [],
   "source": [
    "# заменяем пропуски медианным значением \n",
    "data.loc[data['gender'] == 'F', 'total_income'] = data.loc[data['gender'] == 'F', 'total_income'].fillna(data['total_income'].median())"
   ]
  },
  {
   "cell_type": "code",
   "execution_count": 45,
   "id": "ac0eb104",
   "metadata": {},
   "outputs": [
    {
     "data": {
      "text/plain": [
       "0"
      ]
     },
     "execution_count": 45,
     "metadata": {},
     "output_type": "execute_result"
    }
   ],
   "source": [
    "# проверим что миссингов не осталось\n",
    "data.loc[data['gender'] == 'F', 'total_income'].isnull().sum() "
   ]
  },
  {
   "cell_type": "code",
   "execution_count": 46,
   "id": "6502e271",
   "metadata": {},
   "outputs": [
    {
     "data": {
      "text/plain": [
       "686"
      ]
     },
     "execution_count": 46,
     "metadata": {},
     "output_type": "execute_result"
    }
   ],
   "source": [
    "# проверим что остались миссинги у мужчин\n",
    "data.loc[data['gender'] == 'M', 'total_income'].isnull().sum() # проверяем, что пропусков не осталось"
   ]
  },
  {
   "cell_type": "code",
   "execution_count": 47,
   "id": "cdf7f3a9",
   "metadata": {},
   "outputs": [],
   "source": [
    "# заменяем пропуски медианным значением \n",
    "data.loc[data['gender'] == 'M', 'total_income'] = data.loc[data['gender'] == 'M', 'total_income'].fillna(data['total_income'].median())"
   ]
  },
  {
   "cell_type": "code",
   "execution_count": 48,
   "id": "fd054853",
   "metadata": {},
   "outputs": [
    {
     "data": {
      "text/plain": [
       "0"
      ]
     },
     "execution_count": 48,
     "metadata": {},
     "output_type": "execute_result"
    }
   ],
   "source": [
    "data['total_income'].isnull().sum() # проверяем, что пропусков не осталось"
   ]
  },
  {
   "cell_type": "code",
   "execution_count": 49,
   "id": "cc7af70a",
   "metadata": {},
   "outputs": [],
   "source": [
    "# заменияем аномалии\n",
    "# сначала найдем медианное значение по отрицательным значениям\n",
    "days_employed_median = abs(data[data['days_employed'] <= 0]['days_employed'].median())"
   ]
  },
  {
   "cell_type": "code",
   "execution_count": 50,
   "id": "c559af8a",
   "metadata": {},
   "outputs": [],
   "source": [
    "# напишем функцию, которая будет заменять старое значение в строке на новое\n",
    "def replace_data(days):\n",
    "    if days > 0:\n",
    "        return days_employed_median\n",
    "    else:\n",
    "        return days"
   ]
  },
  {
   "cell_type": "code",
   "execution_count": 51,
   "id": "38dc3561",
   "metadata": {},
   "outputs": [],
   "source": [
    "data['days_employed'] = data['days_employed'].apply(replace_data)"
   ]
  },
  {
   "cell_type": "code",
   "execution_count": 52,
   "id": "e0c77e73",
   "metadata": {},
   "outputs": [],
   "source": [
    "# заменияем аномалии в days_employed\n",
    "# сначала избавимся от отрицательных чисел\n",
    "data['days_employed'] = data['days_employed'].abs()"
   ]
  },
  {
   "cell_type": "code",
   "execution_count": 53,
   "id": "d2798c03",
   "metadata": {},
   "outputs": [
    {
     "data": {
      "text/plain": [
       "count    19282.000000\n",
       "mean      2225.035854\n",
       "std       2106.993077\n",
       "min         24.141633\n",
       "25%        928.043735\n",
       "50%       1631.100855\n",
       "75%       2747.944869\n",
       "max      18388.949901\n",
       "Name: days_employed, dtype: float64"
      ]
     },
     "execution_count": 53,
     "metadata": {},
     "output_type": "execute_result"
    }
   ],
   "source": [
    "data['days_employed'].describe()"
   ]
  },
  {
   "cell_type": "markdown",
   "id": "3ea92d18",
   "metadata": {},
   "source": [
    "Заменили аномалии на медианное значение. Теперь заменим пропуски."
   ]
  },
  {
   "cell_type": "code",
   "execution_count": 54,
   "id": "b87926a3",
   "metadata": {},
   "outputs": [],
   "source": [
    "# заменяем пропуски в переменной стаж\n",
    "data['days_employed'] = data['days_employed'].fillna(data['days_employed'].median())"
   ]
  },
  {
   "cell_type": "code",
   "execution_count": 55,
   "id": "c2af4086",
   "metadata": {},
   "outputs": [
    {
     "data": {
      "text/plain": [
       "0"
      ]
     },
     "execution_count": 55,
     "metadata": {},
     "output_type": "execute_result"
    }
   ],
   "source": [
    "# проверяем, что пропусков не осталось\n",
    "data['days_employed'].isnull().sum() # проверяем, что пропусков не осталось"
   ]
  },
  {
   "cell_type": "markdown",
   "id": "2bea871e",
   "metadata": {},
   "source": [
    "Пропуски заменили медианным значением в `'days_employed'`, но числа в этом столбце отрицательные. Хорошо бы заменить на положительные. Но поскольку в дальнейшем анализе эти данные нам не понадобятся, то проще игнорировать этот столбец, а лучше обратиться к работникам, которые выгружают данные и выяснить причину такого формата данных."
   ]
  },
  {
   "cell_type": "markdown",
   "id": "b8509605",
   "metadata": {},
   "source": [
    "Итак, заменили все пропуски в данных."
   ]
  },
  {
   "cell_type": "code",
   "execution_count": 107,
   "id": "c6751feb",
   "metadata": {},
   "outputs": [
    {
     "data": {
      "text/plain": [
       "array([ 0, 19, 20, 21, 22, 23, 24, 25, 26, 27, 28, 29, 30, 31, 32, 33, 34,\n",
       "       35, 36, 37, 38, 39, 40, 41, 42, 43, 44, 45, 46, 47, 48, 49, 50, 51,\n",
       "       52, 53, 54, 55, 56, 57, 58, 59, 60, 61, 62, 63, 64, 65, 66, 67, 68,\n",
       "       69, 70, 71, 72, 73, 74, 75])"
      ]
     },
     "execution_count": 107,
     "metadata": {},
     "output_type": "execute_result"
    }
   ],
   "source": [
    "# КОД РЕВЬЮЕРА\n",
    "\n",
    "data.dob_years.sort_values().unique()"
   ]
  },
  {
   "cell_type": "markdown",
   "id": "d5850017",
   "metadata": {},
   "source": [
    "### Шаг 2.3. Изменение типов данных.\n",
    "\n",
    "Заменим вещественный тип данных в столбце `total_income` на целочисленный, например, с помощью метода `astype()`."
   ]
  },
  {
   "cell_type": "code",
   "execution_count": 56,
   "id": "b2b792ba",
   "metadata": {},
   "outputs": [],
   "source": [
    "data['total_income'] = data['total_income'].astype('int')"
   ]
  },
  {
   "cell_type": "code",
   "execution_count": 57,
   "id": "b2b9f999",
   "metadata": {},
   "outputs": [
    {
     "name": "stdout",
     "output_type": "stream",
     "text": [
      "<class 'pandas.core.frame.DataFrame'>\n",
      "Int64Index: 21446 entries, 0 to 21524\n",
      "Data columns (total 12 columns):\n",
      "children            21446 non-null int64\n",
      "days_employed       21446 non-null float64\n",
      "dob_years           21446 non-null int64\n",
      "education           21446 non-null object\n",
      "education_id        21446 non-null int64\n",
      "family_status       21446 non-null object\n",
      "family_status_id    21446 non-null int64\n",
      "gender              21446 non-null object\n",
      "income_type         21446 non-null object\n",
      "debt                21446 non-null int64\n",
      "total_income        21446 non-null int64\n",
      "purpose             21446 non-null object\n",
      "dtypes: float64(1), int64(6), object(5)\n",
      "memory usage: 2.1+ MB\n"
     ]
    }
   ],
   "source": [
    "data.info()"
   ]
  },
  {
   "cell_type": "markdown",
   "id": "81f4a891",
   "metadata": {},
   "source": [
    "Изменение прошло успешно."
   ]
  },
  {
   "cell_type": "markdown",
   "id": "c7c08c4f",
   "metadata": {},
   "source": [
    "### Шаг 2.4. Удаление дубликатов.\n",
    "\n",
    "Проверим данные на наличие дубликатов. Как явных, так и неявных.\n",
    "Сначала попробуем выявить неявные дубли в категориальных переменных, появившихся из-за разного регистра, опечаток, транслитерацией и прочее в колонках семейное положение, тип занятости и цель кредитования нет.\n",
    "\n",
    "Потом выясним есть ли явные дубликаты с помощью методов `duplicated()` и `sum()`. Метод `duplicated()` находит явные дубли в таблице и возрващает булево значение (True/False), их можно просуммировать и найти общее число дублей."
   ]
  },
  {
   "cell_type": "code",
   "execution_count": 58,
   "id": "9b32bd97",
   "metadata": {},
   "outputs": [
    {
     "data": {
      "text/plain": [
       "array(['высшее', 'среднее', 'Среднее', 'СРЕДНЕЕ', 'ВЫСШЕЕ',\n",
       "       'неоконченное высшее', 'начальное', 'Высшее',\n",
       "       'НЕОКОНЧЕННОЕ ВЫСШЕЕ', 'Неоконченное высшее', 'НАЧАЛЬНОЕ',\n",
       "       'Начальное', 'Ученая степень', 'УЧЕНАЯ СТЕПЕНЬ', 'ученая степень'],\n",
       "      dtype=object)"
      ]
     },
     "execution_count": 58,
     "metadata": {},
     "output_type": "execute_result"
    }
   ],
   "source": [
    "# рассмотрим переменную education\n",
    "data['education'].unique()"
   ]
  },
  {
   "cell_type": "code",
   "execution_count": 59,
   "id": "8383b61b",
   "metadata": {},
   "outputs": [
    {
     "data": {
      "text/plain": [
       "среднее                13698\n",
       "высшее                  4704\n",
       "СРЕДНЕЕ                  770\n",
       "Среднее                  705\n",
       "неоконченное высшее      665\n",
       "ВЫСШЕЕ                   272\n",
       "Высшее                   268\n",
       "начальное                250\n",
       "Неоконченное высшее       47\n",
       "НЕОКОНЧЕННОЕ ВЫСШЕЕ       29\n",
       "НАЧАЛЬНОЕ                 17\n",
       "Начальное                 15\n",
       "ученая степень             4\n",
       "УЧЕНАЯ СТЕПЕНЬ             1\n",
       "Ученая степень             1\n",
       "Name: education, dtype: int64"
      ]
     },
     "execution_count": 59,
     "metadata": {},
     "output_type": "execute_result"
    }
   ],
   "source": [
    "data['education'].value_counts()"
   ]
  },
  {
   "cell_type": "markdown",
   "id": "d90a5c47",
   "metadata": {},
   "source": [
    "Есть неявные дубли. Приведем все к единому нижнему регистру. "
   ]
  },
  {
   "cell_type": "code",
   "execution_count": 60,
   "id": "969222e0",
   "metadata": {},
   "outputs": [],
   "source": [
    "data['education'] = data['education'].str.lower()"
   ]
  },
  {
   "cell_type": "code",
   "execution_count": 61,
   "id": "a2875125",
   "metadata": {},
   "outputs": [
    {
     "data": {
      "text/plain": [
       "среднее                15173\n",
       "высшее                  5244\n",
       "неоконченное высшее      741\n",
       "начальное                282\n",
       "ученая степень             6\n",
       "Name: education, dtype: int64"
      ]
     },
     "execution_count": 61,
     "metadata": {},
     "output_type": "execute_result"
    }
   ],
   "source": [
    "data['education'].value_counts()"
   ]
  },
  {
   "cell_type": "code",
   "execution_count": 62,
   "id": "055bfb21",
   "metadata": {},
   "outputs": [
    {
     "data": {
      "text/plain": [
       "array(['женат / замужем', 'гражданский брак', 'вдовец / вдова',\n",
       "       'в разводе', 'Не женат / не замужем'], dtype=object)"
      ]
     },
     "execution_count": 62,
     "metadata": {},
     "output_type": "execute_result"
    }
   ],
   "source": [
    "# проверим есть ли неявные дубли в колонке семейное положение\n",
    "data['family_status'].unique()"
   ]
  },
  {
   "cell_type": "code",
   "execution_count": 63,
   "id": "38dfc6ad",
   "metadata": {},
   "outputs": [
    {
     "data": {
      "text/plain": [
       "array(['сотрудник', 'пенсионер', 'компаньон', 'госслужащий',\n",
       "       'безработный', 'студент', 'в декрете'], dtype=object)"
      ]
     },
     "execution_count": 63,
     "metadata": {},
     "output_type": "execute_result"
    }
   ],
   "source": [
    "# проверим есть ли неявные дубли в колонке тип занятости\n",
    "data['income_type'].unique()"
   ]
  },
  {
   "cell_type": "code",
   "execution_count": 64,
   "id": "81a2eacb",
   "metadata": {},
   "outputs": [
    {
     "data": {
      "text/plain": [
       "array(['автомобили', 'автомобиль', 'высшее образование',\n",
       "       'дополнительное образование', 'жилье',\n",
       "       'заняться высшим образованием', 'заняться образованием',\n",
       "       'на покупку автомобиля', 'на покупку подержанного автомобиля',\n",
       "       'на покупку своего автомобиля', 'на проведение свадьбы',\n",
       "       'недвижимость', 'образование', 'операции с жильем',\n",
       "       'операции с коммерческой недвижимостью',\n",
       "       'операции с недвижимостью', 'операции со своей недвижимостью',\n",
       "       'покупка жилой недвижимости', 'покупка жилья',\n",
       "       'покупка жилья для сдачи', 'покупка жилья для семьи',\n",
       "       'покупка коммерческой недвижимости', 'покупка недвижимости',\n",
       "       'покупка своего жилья', 'получение высшего образования',\n",
       "       'получение дополнительного образования', 'получение образования',\n",
       "       'приобретение автомобиля', 'профильное образование',\n",
       "       'ремонт жилью', 'свадьба', 'свой автомобиль',\n",
       "       'сделка с автомобилем', 'сделка с подержанным автомобилем',\n",
       "       'строительство жилой недвижимости', 'строительство недвижимости',\n",
       "       'строительство собственной недвижимости', 'сыграть свадьбу'],\n",
       "      dtype=object)"
      ]
     },
     "execution_count": 64,
     "metadata": {},
     "output_type": "execute_result"
    }
   ],
   "source": [
    "# проверим есть ли неявные дубли в колонке цель кредитования\n",
    "data['purpose'].sort_values().unique()"
   ]
  },
  {
   "cell_type": "markdown",
   "id": "be086c9f",
   "metadata": {},
   "source": [
    "Неявных дублей, вызванных из-за разного регистра, опечаток, транслитерацией и прочее в колонках семейное положение, тип занятости и цель кредитования нет."
   ]
  },
  {
   "cell_type": "code",
   "execution_count": 65,
   "id": "8eec6786",
   "metadata": {},
   "outputs": [
    {
     "data": {
      "text/plain": [
       "71"
      ]
     },
     "execution_count": 65,
     "metadata": {},
     "output_type": "execute_result"
    }
   ],
   "source": [
    "data.duplicated().sum()"
   ]
  },
  {
   "cell_type": "markdown",
   "id": "f50d9334",
   "metadata": {},
   "source": [
    "В данных 71 явный дубликат. Дубли могли возникнуть из-за того, что данные о клиенте могли быть внесены несколько раз. Удалим их при помощи метода `drop_duplicates()` и обновим индексацию."
   ]
  },
  {
   "cell_type": "code",
   "execution_count": 66,
   "id": "e0a83276",
   "metadata": {},
   "outputs": [],
   "source": [
    "data = data.drop_duplicates().reset_index(drop=True)"
   ]
  },
  {
   "cell_type": "code",
   "execution_count": 67,
   "id": "71591a5e",
   "metadata": {},
   "outputs": [
    {
     "data": {
      "text/plain": [
       "0"
      ]
     },
     "execution_count": 67,
     "metadata": {},
     "output_type": "execute_result"
    }
   ],
   "source": [
    "data.duplicated().sum() # проверяем"
   ]
  },
  {
   "cell_type": "markdown",
   "id": "2d77416b",
   "metadata": {},
   "source": [
    "Дублей не осталось."
   ]
  },
  {
   "cell_type": "markdown",
   "id": "e5617737",
   "metadata": {},
   "source": [
    "### Шаг 2.5. Формирование дополнительных датафреймов словарей, декомпозиция исходного датафрейма.\n",
    "\n",
    "Сейчас в данных в четырех колонках представлены по сути две информации. В колонке `education` и `family_status` уровень образования и семейное положение соответственно в виде строки, а в колонках `education_id` и `family_status_id` их числовая кодировка. \n",
    "Для того, чтобы упростить работу с таблицей создадим два новых датафрейма со столбцами `education` и `education_id`, `family_status` и `family_status_id`. Новые датафреймы будут выступать в качестве «словарей», к которым мы сможем затем обращаться по идентификатору."
   ]
  },
  {
   "cell_type": "code",
   "execution_count": 68,
   "id": "8ac0665e",
   "metadata": {},
   "outputs": [
    {
     "data": {
      "text/html": [
       "<div>\n",
       "<style scoped>\n",
       "    .dataframe tbody tr th:only-of-type {\n",
       "        vertical-align: middle;\n",
       "    }\n",
       "\n",
       "    .dataframe tbody tr th {\n",
       "        vertical-align: top;\n",
       "    }\n",
       "\n",
       "    .dataframe thead th {\n",
       "        text-align: right;\n",
       "    }\n",
       "</style>\n",
       "<table border=\"1\" class=\"dataframe\">\n",
       "  <thead>\n",
       "    <tr style=\"text-align: right;\">\n",
       "      <th></th>\n",
       "      <th>education_id</th>\n",
       "      <th>education</th>\n",
       "    </tr>\n",
       "  </thead>\n",
       "  <tbody>\n",
       "    <tr>\n",
       "      <td>0</td>\n",
       "      <td>0</td>\n",
       "      <td>высшее</td>\n",
       "    </tr>\n",
       "    <tr>\n",
       "      <td>1</td>\n",
       "      <td>1</td>\n",
       "      <td>среднее</td>\n",
       "    </tr>\n",
       "    <tr>\n",
       "      <td>2</td>\n",
       "      <td>1</td>\n",
       "      <td>среднее</td>\n",
       "    </tr>\n",
       "    <tr>\n",
       "      <td>3</td>\n",
       "      <td>1</td>\n",
       "      <td>среднее</td>\n",
       "    </tr>\n",
       "    <tr>\n",
       "      <td>4</td>\n",
       "      <td>1</td>\n",
       "      <td>среднее</td>\n",
       "    </tr>\n",
       "  </tbody>\n",
       "</table>\n",
       "</div>"
      ],
      "text/plain": [
       "   education_id education\n",
       "0             0    высшее\n",
       "1             1   среднее\n",
       "2             1   среднее\n",
       "3             1   среднее\n",
       "4             1   среднее"
      ]
     },
     "metadata": {},
     "output_type": "display_data"
    }
   ],
   "source": [
    "# создадим датафрейм education_level\n",
    "education_level = data[['education_id', 'education']]\n",
    "display(education_level.head(5))"
   ]
  },
  {
   "cell_type": "code",
   "execution_count": 69,
   "id": "72697015",
   "metadata": {},
   "outputs": [],
   "source": [
    "# удалим дубли в education_level\n",
    "education_level = education_level.drop_duplicates().reset_index(drop=True)"
   ]
  },
  {
   "cell_type": "code",
   "execution_count": 70,
   "id": "bd327c4d",
   "metadata": {},
   "outputs": [
    {
     "data": {
      "text/html": [
       "<div>\n",
       "<style scoped>\n",
       "    .dataframe tbody tr th:only-of-type {\n",
       "        vertical-align: middle;\n",
       "    }\n",
       "\n",
       "    .dataframe tbody tr th {\n",
       "        vertical-align: top;\n",
       "    }\n",
       "\n",
       "    .dataframe thead th {\n",
       "        text-align: right;\n",
       "    }\n",
       "</style>\n",
       "<table border=\"1\" class=\"dataframe\">\n",
       "  <thead>\n",
       "    <tr style=\"text-align: right;\">\n",
       "      <th></th>\n",
       "      <th>education_id</th>\n",
       "      <th>education</th>\n",
       "    </tr>\n",
       "  </thead>\n",
       "  <tbody>\n",
       "    <tr>\n",
       "      <td>0</td>\n",
       "      <td>0</td>\n",
       "      <td>высшее</td>\n",
       "    </tr>\n",
       "    <tr>\n",
       "      <td>1</td>\n",
       "      <td>1</td>\n",
       "      <td>среднее</td>\n",
       "    </tr>\n",
       "    <tr>\n",
       "      <td>2</td>\n",
       "      <td>2</td>\n",
       "      <td>неоконченное высшее</td>\n",
       "    </tr>\n",
       "    <tr>\n",
       "      <td>3</td>\n",
       "      <td>3</td>\n",
       "      <td>начальное</td>\n",
       "    </tr>\n",
       "    <tr>\n",
       "      <td>4</td>\n",
       "      <td>4</td>\n",
       "      <td>ученая степень</td>\n",
       "    </tr>\n",
       "  </tbody>\n",
       "</table>\n",
       "</div>"
      ],
      "text/plain": [
       "   education_id            education\n",
       "0             0               высшее\n",
       "1             1              среднее\n",
       "2             2  неоконченное высшее\n",
       "3             3            начальное\n",
       "4             4       ученая степень"
      ]
     },
     "metadata": {},
     "output_type": "display_data"
    }
   ],
   "source": [
    "display(education_level)"
   ]
  },
  {
   "cell_type": "code",
   "execution_count": 71,
   "id": "295e48b8",
   "metadata": {},
   "outputs": [
    {
     "data": {
      "text/html": [
       "<div>\n",
       "<style scoped>\n",
       "    .dataframe tbody tr th:only-of-type {\n",
       "        vertical-align: middle;\n",
       "    }\n",
       "\n",
       "    .dataframe tbody tr th {\n",
       "        vertical-align: top;\n",
       "    }\n",
       "\n",
       "    .dataframe thead th {\n",
       "        text-align: right;\n",
       "    }\n",
       "</style>\n",
       "<table border=\"1\" class=\"dataframe\">\n",
       "  <thead>\n",
       "    <tr style=\"text-align: right;\">\n",
       "      <th></th>\n",
       "      <th>family_status_id</th>\n",
       "      <th>family_status</th>\n",
       "    </tr>\n",
       "  </thead>\n",
       "  <tbody>\n",
       "    <tr>\n",
       "      <td>0</td>\n",
       "      <td>0</td>\n",
       "      <td>женат / замужем</td>\n",
       "    </tr>\n",
       "    <tr>\n",
       "      <td>1</td>\n",
       "      <td>0</td>\n",
       "      <td>женат / замужем</td>\n",
       "    </tr>\n",
       "    <tr>\n",
       "      <td>2</td>\n",
       "      <td>0</td>\n",
       "      <td>женат / замужем</td>\n",
       "    </tr>\n",
       "    <tr>\n",
       "      <td>3</td>\n",
       "      <td>0</td>\n",
       "      <td>женат / замужем</td>\n",
       "    </tr>\n",
       "    <tr>\n",
       "      <td>4</td>\n",
       "      <td>1</td>\n",
       "      <td>гражданский брак</td>\n",
       "    </tr>\n",
       "  </tbody>\n",
       "</table>\n",
       "</div>"
      ],
      "text/plain": [
       "   family_status_id     family_status\n",
       "0                 0   женат / замужем\n",
       "1                 0   женат / замужем\n",
       "2                 0   женат / замужем\n",
       "3                 0   женат / замужем\n",
       "4                 1  гражданский брак"
      ]
     },
     "metadata": {},
     "output_type": "display_data"
    }
   ],
   "source": [
    "# создадим датафрейм family_status\n",
    "family_status = data[['family_status_id', 'family_status']]\n",
    "display(family_status.head(5))"
   ]
  },
  {
   "cell_type": "code",
   "execution_count": 72,
   "id": "1b052797",
   "metadata": {},
   "outputs": [],
   "source": [
    "# удалим дубли \n",
    "family_status = family_status.drop_duplicates().reset_index(drop=True)"
   ]
  },
  {
   "cell_type": "code",
   "execution_count": 73,
   "id": "c6f861b9",
   "metadata": {},
   "outputs": [
    {
     "data": {
      "text/html": [
       "<div>\n",
       "<style scoped>\n",
       "    .dataframe tbody tr th:only-of-type {\n",
       "        vertical-align: middle;\n",
       "    }\n",
       "\n",
       "    .dataframe tbody tr th {\n",
       "        vertical-align: top;\n",
       "    }\n",
       "\n",
       "    .dataframe thead th {\n",
       "        text-align: right;\n",
       "    }\n",
       "</style>\n",
       "<table border=\"1\" class=\"dataframe\">\n",
       "  <thead>\n",
       "    <tr style=\"text-align: right;\">\n",
       "      <th></th>\n",
       "      <th>family_status_id</th>\n",
       "      <th>family_status</th>\n",
       "    </tr>\n",
       "  </thead>\n",
       "  <tbody>\n",
       "    <tr>\n",
       "      <td>0</td>\n",
       "      <td>0</td>\n",
       "      <td>женат / замужем</td>\n",
       "    </tr>\n",
       "    <tr>\n",
       "      <td>1</td>\n",
       "      <td>1</td>\n",
       "      <td>гражданский брак</td>\n",
       "    </tr>\n",
       "    <tr>\n",
       "      <td>2</td>\n",
       "      <td>2</td>\n",
       "      <td>вдовец / вдова</td>\n",
       "    </tr>\n",
       "    <tr>\n",
       "      <td>3</td>\n",
       "      <td>3</td>\n",
       "      <td>в разводе</td>\n",
       "    </tr>\n",
       "    <tr>\n",
       "      <td>4</td>\n",
       "      <td>4</td>\n",
       "      <td>Не женат / не замужем</td>\n",
       "    </tr>\n",
       "  </tbody>\n",
       "</table>\n",
       "</div>"
      ],
      "text/plain": [
       "   family_status_id          family_status\n",
       "0                 0        женат / замужем\n",
       "1                 1       гражданский брак\n",
       "2                 2         вдовец / вдова\n",
       "3                 3              в разводе\n",
       "4                 4  Не женат / не замужем"
      ]
     },
     "metadata": {},
     "output_type": "display_data"
    }
   ],
   "source": [
    "display(family_status)"
   ]
  },
  {
   "cell_type": "markdown",
   "id": "3f7c16f7",
   "metadata": {},
   "source": [
    "Удалим колонки `education` и `family_status` из основного датафрейма."
   ]
  },
  {
   "cell_type": "code",
   "execution_count": 74,
   "id": "33e175d7",
   "metadata": {},
   "outputs": [],
   "source": [
    "# воспользуемся методом drop\n",
    "data.drop(columns = ['education', 'family_status'],axis = 1, inplace=True)"
   ]
  },
  {
   "cell_type": "code",
   "execution_count": 75,
   "id": "1fd12709",
   "metadata": {},
   "outputs": [
    {
     "data": {
      "text/plain": [
       "Index(['children', 'days_employed', 'dob_years', 'education_id',\n",
       "       'family_status_id', 'gender', 'income_type', 'debt', 'total_income',\n",
       "       'purpose'],\n",
       "      dtype='object')"
      ]
     },
     "execution_count": 75,
     "metadata": {},
     "output_type": "execute_result"
    }
   ],
   "source": [
    "# проверим\n",
    "data.columns"
   ]
  },
  {
   "cell_type": "markdown",
   "id": "627d54e4",
   "metadata": {},
   "source": [
    "Столбцы удалены."
   ]
  },
  {
   "cell_type": "markdown",
   "id": "102b5c1e",
   "metadata": {},
   "source": [
    "### Шаг 2.6. Категоризация дохода.\n",
    "\n",
    "На основании диапазонов, указанных ниже, создадим столбец `total_income_category` с категориями:\n",
    "* `0–30000` — `'E'`;\n",
    "* `30001–50000` — `'D'`;\n",
    "* `50001–200000` — `'C'`;\n",
    "* `200001–1000000` — `'B'`;\n",
    "* `1000001 и выше` — `'A'`.\n",
    "\n",
    "Например, кредитополучателю с доходом `25000` нужно назначить категорию `'E'`, а клиенту, получающему `235000`, — `'B'`."
   ]
  },
  {
   "cell_type": "code",
   "execution_count": 76,
   "id": "80df8d5b",
   "metadata": {},
   "outputs": [],
   "source": [
    "# пропишем функцию, которая поможет выполнить эту задачу\n",
    "\n",
    "def income_group(income):\n",
    "    if income <= 30000:\n",
    "        return 'E'\n",
    "    elif income <= 50000:\n",
    "        return 'D'\n",
    "    elif income <= 200000:\n",
    "        return 'C'\n",
    "    elif income <= 1000000:\n",
    "        return 'B'\n",
    "    else:\n",
    "        return 'A'"
   ]
  },
  {
   "cell_type": "code",
   "execution_count": 77,
   "id": "f5d94d7f",
   "metadata": {},
   "outputs": [
    {
     "name": "stdout",
     "output_type": "stream",
     "text": [
      "E\n",
      "E\n",
      "D\n",
      "C\n",
      "B\n",
      "A\n"
     ]
    }
   ],
   "source": [
    "# проверим, что функция работает\n",
    "array = [0, 25000, 45000, 65000, 235000, 1000010]\n",
    "for item in array:\n",
    "    print(income_group(item))"
   ]
  },
  {
   "cell_type": "markdown",
   "id": "10384684",
   "metadata": {},
   "source": [
    "Функция работает.  \n",
    "Применим её к колонке `total_income`."
   ]
  },
  {
   "cell_type": "code",
   "execution_count": 78,
   "id": "7b46e522",
   "metadata": {},
   "outputs": [
    {
     "data": {
      "text/html": [
       "<div>\n",
       "<style scoped>\n",
       "    .dataframe tbody tr th:only-of-type {\n",
       "        vertical-align: middle;\n",
       "    }\n",
       "\n",
       "    .dataframe tbody tr th {\n",
       "        vertical-align: top;\n",
       "    }\n",
       "\n",
       "    .dataframe thead th {\n",
       "        text-align: right;\n",
       "    }\n",
       "</style>\n",
       "<table border=\"1\" class=\"dataframe\">\n",
       "  <thead>\n",
       "    <tr style=\"text-align: right;\">\n",
       "      <th></th>\n",
       "      <th>children</th>\n",
       "      <th>days_employed</th>\n",
       "      <th>dob_years</th>\n",
       "      <th>education_id</th>\n",
       "      <th>family_status_id</th>\n",
       "      <th>gender</th>\n",
       "      <th>income_type</th>\n",
       "      <th>debt</th>\n",
       "      <th>total_income</th>\n",
       "      <th>purpose</th>\n",
       "      <th>total_income_category</th>\n",
       "    </tr>\n",
       "  </thead>\n",
       "  <tbody>\n",
       "    <tr>\n",
       "      <td>0</td>\n",
       "      <td>1</td>\n",
       "      <td>8437.673028</td>\n",
       "      <td>42</td>\n",
       "      <td>0</td>\n",
       "      <td>0</td>\n",
       "      <td>F</td>\n",
       "      <td>сотрудник</td>\n",
       "      <td>0</td>\n",
       "      <td>253875</td>\n",
       "      <td>покупка жилья</td>\n",
       "      <td>B</td>\n",
       "    </tr>\n",
       "    <tr>\n",
       "      <td>1</td>\n",
       "      <td>1</td>\n",
       "      <td>4024.803754</td>\n",
       "      <td>36</td>\n",
       "      <td>1</td>\n",
       "      <td>0</td>\n",
       "      <td>F</td>\n",
       "      <td>сотрудник</td>\n",
       "      <td>0</td>\n",
       "      <td>112080</td>\n",
       "      <td>приобретение автомобиля</td>\n",
       "      <td>C</td>\n",
       "    </tr>\n",
       "    <tr>\n",
       "      <td>2</td>\n",
       "      <td>0</td>\n",
       "      <td>5623.422610</td>\n",
       "      <td>33</td>\n",
       "      <td>1</td>\n",
       "      <td>0</td>\n",
       "      <td>M</td>\n",
       "      <td>сотрудник</td>\n",
       "      <td>0</td>\n",
       "      <td>145885</td>\n",
       "      <td>покупка жилья</td>\n",
       "      <td>C</td>\n",
       "    </tr>\n",
       "    <tr>\n",
       "      <td>3</td>\n",
       "      <td>3</td>\n",
       "      <td>4124.747207</td>\n",
       "      <td>32</td>\n",
       "      <td>1</td>\n",
       "      <td>0</td>\n",
       "      <td>M</td>\n",
       "      <td>сотрудник</td>\n",
       "      <td>0</td>\n",
       "      <td>267628</td>\n",
       "      <td>дополнительное образование</td>\n",
       "      <td>B</td>\n",
       "    </tr>\n",
       "    <tr>\n",
       "      <td>4</td>\n",
       "      <td>0</td>\n",
       "      <td>1631.100855</td>\n",
       "      <td>53</td>\n",
       "      <td>1</td>\n",
       "      <td>1</td>\n",
       "      <td>F</td>\n",
       "      <td>пенсионер</td>\n",
       "      <td>0</td>\n",
       "      <td>158616</td>\n",
       "      <td>сыграть свадьбу</td>\n",
       "      <td>C</td>\n",
       "    </tr>\n",
       "    <tr>\n",
       "      <td>5</td>\n",
       "      <td>0</td>\n",
       "      <td>926.185831</td>\n",
       "      <td>27</td>\n",
       "      <td>0</td>\n",
       "      <td>1</td>\n",
       "      <td>M</td>\n",
       "      <td>компаньон</td>\n",
       "      <td>0</td>\n",
       "      <td>255763</td>\n",
       "      <td>покупка жилья</td>\n",
       "      <td>B</td>\n",
       "    </tr>\n",
       "    <tr>\n",
       "      <td>6</td>\n",
       "      <td>0</td>\n",
       "      <td>2879.202052</td>\n",
       "      <td>43</td>\n",
       "      <td>0</td>\n",
       "      <td>0</td>\n",
       "      <td>F</td>\n",
       "      <td>компаньон</td>\n",
       "      <td>0</td>\n",
       "      <td>240525</td>\n",
       "      <td>операции с жильем</td>\n",
       "      <td>B</td>\n",
       "    </tr>\n",
       "    <tr>\n",
       "      <td>7</td>\n",
       "      <td>0</td>\n",
       "      <td>152.779569</td>\n",
       "      <td>50</td>\n",
       "      <td>1</td>\n",
       "      <td>0</td>\n",
       "      <td>M</td>\n",
       "      <td>сотрудник</td>\n",
       "      <td>0</td>\n",
       "      <td>135823</td>\n",
       "      <td>образование</td>\n",
       "      <td>C</td>\n",
       "    </tr>\n",
       "    <tr>\n",
       "      <td>8</td>\n",
       "      <td>2</td>\n",
       "      <td>6929.865299</td>\n",
       "      <td>35</td>\n",
       "      <td>0</td>\n",
       "      <td>1</td>\n",
       "      <td>F</td>\n",
       "      <td>сотрудник</td>\n",
       "      <td>0</td>\n",
       "      <td>95856</td>\n",
       "      <td>на проведение свадьбы</td>\n",
       "      <td>C</td>\n",
       "    </tr>\n",
       "    <tr>\n",
       "      <td>9</td>\n",
       "      <td>0</td>\n",
       "      <td>2188.756445</td>\n",
       "      <td>41</td>\n",
       "      <td>1</td>\n",
       "      <td>0</td>\n",
       "      <td>M</td>\n",
       "      <td>сотрудник</td>\n",
       "      <td>0</td>\n",
       "      <td>144425</td>\n",
       "      <td>покупка жилья для семьи</td>\n",
       "      <td>C</td>\n",
       "    </tr>\n",
       "  </tbody>\n",
       "</table>\n",
       "</div>"
      ],
      "text/plain": [
       "   children  days_employed  dob_years  education_id  family_status_id gender  \\\n",
       "0         1    8437.673028         42             0                 0      F   \n",
       "1         1    4024.803754         36             1                 0      F   \n",
       "2         0    5623.422610         33             1                 0      M   \n",
       "3         3    4124.747207         32             1                 0      M   \n",
       "4         0    1631.100855         53             1                 1      F   \n",
       "5         0     926.185831         27             0                 1      M   \n",
       "6         0    2879.202052         43             0                 0      F   \n",
       "7         0     152.779569         50             1                 0      M   \n",
       "8         2    6929.865299         35             0                 1      F   \n",
       "9         0    2188.756445         41             1                 0      M   \n",
       "\n",
       "  income_type  debt  total_income                     purpose  \\\n",
       "0   сотрудник     0        253875               покупка жилья   \n",
       "1   сотрудник     0        112080     приобретение автомобиля   \n",
       "2   сотрудник     0        145885               покупка жилья   \n",
       "3   сотрудник     0        267628  дополнительное образование   \n",
       "4   пенсионер     0        158616             сыграть свадьбу   \n",
       "5   компаньон     0        255763               покупка жилья   \n",
       "6   компаньон     0        240525           операции с жильем   \n",
       "7   сотрудник     0        135823                 образование   \n",
       "8   сотрудник     0         95856       на проведение свадьбы   \n",
       "9   сотрудник     0        144425     покупка жилья для семьи   \n",
       "\n",
       "  total_income_category  \n",
       "0                     B  \n",
       "1                     C  \n",
       "2                     C  \n",
       "3                     B  \n",
       "4                     C  \n",
       "5                     B  \n",
       "6                     B  \n",
       "7                     C  \n",
       "8                     C  \n",
       "9                     C  "
      ]
     },
     "metadata": {},
     "output_type": "display_data"
    }
   ],
   "source": [
    "# использоуем собственную функцию и метод apply()\n",
    "data['total_income_category'] = data['total_income'].apply(income_group)\n",
    "display(data.head(10))"
   ]
  },
  {
   "cell_type": "code",
   "execution_count": 79,
   "id": "c9c4fb4c",
   "metadata": {},
   "outputs": [
    {
     "data": {
      "text/plain": [
       "C    15959\n",
       "B     5019\n",
       "D      350\n",
       "A       25\n",
       "E       22\n",
       "Name: total_income_category, dtype: int64"
      ]
     },
     "execution_count": 79,
     "metadata": {},
     "output_type": "execute_result"
    }
   ],
   "source": [
    "data['total_income_category'].value_counts() # посмотрим как распределились наши данные"
   ]
  },
  {
   "cell_type": "markdown",
   "id": "d84068f9",
   "metadata": {},
   "source": [
    "Большая часть клиентов попадают в категорию `'C'`, реже встречаются клинеты с доходом выше 200000 ден.ед."
   ]
  },
  {
   "cell_type": "markdown",
   "id": "02a92f31",
   "metadata": {},
   "source": [
    "### Шаг 2.7. Категоризация целей кредита.\n",
    "\n",
    "Создайдим функцию, которая на основании данных из столбца `purpose` сформирует новый столбец `purpose_category`, в который войдут следующие категории:\n",
    "* `'операции с автомобилем'`,\n",
    "* `'операции с недвижимостью'`,\n",
    "* `'проведение свадьбы'`,\n",
    "* `'получение образования'`.  \n",
    "\n",
    "Например, если в столбце purpose находится подстрока `'на покупку автомобиля'`, то в столбце `purpose_category` должна появиться строка `'операции с автомобилем'`.\n",
    "\n",
    "Для этого изучим данные в столбце `purpose` и определим, какие подстроки помогут нам правильно определить категорию."
   ]
  },
  {
   "cell_type": "code",
   "execution_count": 80,
   "id": "28d805ab",
   "metadata": {},
   "outputs": [
    {
     "data": {
      "text/plain": [
       "array(['автомобили', 'автомобиль', 'высшее образование',\n",
       "       'дополнительное образование', 'жилье',\n",
       "       'заняться высшим образованием', 'заняться образованием',\n",
       "       'на покупку автомобиля', 'на покупку подержанного автомобиля',\n",
       "       'на покупку своего автомобиля', 'на проведение свадьбы',\n",
       "       'недвижимость', 'образование', 'операции с жильем',\n",
       "       'операции с коммерческой недвижимостью',\n",
       "       'операции с недвижимостью', 'операции со своей недвижимостью',\n",
       "       'покупка жилой недвижимости', 'покупка жилья',\n",
       "       'покупка жилья для сдачи', 'покупка жилья для семьи',\n",
       "       'покупка коммерческой недвижимости', 'покупка недвижимости',\n",
       "       'покупка своего жилья', 'получение высшего образования',\n",
       "       'получение дополнительного образования', 'получение образования',\n",
       "       'приобретение автомобиля', 'профильное образование',\n",
       "       'ремонт жилью', 'свадьба', 'свой автомобиль',\n",
       "       'сделка с автомобилем', 'сделка с подержанным автомобилем',\n",
       "       'строительство жилой недвижимости', 'строительство недвижимости',\n",
       "       'строительство собственной недвижимости', 'сыграть свадьбу'],\n",
       "      dtype=object)"
      ]
     },
     "execution_count": 80,
     "metadata": {},
     "output_type": "execute_result"
    }
   ],
   "source": [
    "data['purpose'].sort_values().unique()"
   ]
  },
  {
   "cell_type": "code",
   "execution_count": 81,
   "id": "23519fd5",
   "metadata": {},
   "outputs": [],
   "source": [
    "# напишем функцию \n",
    "def purpose_group(row):\n",
    "    if 'автомобил' in row: # если слово 'автомобил' содержатся в row\n",
    "        return 'операции с автомобилем' # то возвращаем такое значение и т.д.\n",
    "    elif 'образовани' in row:\n",
    "        return 'получение образования'\n",
    "    elif 'свадьб' in row:\n",
    "        return 'проведение свадьбы'\n",
    "    else:\n",
    "        return 'операции с недвижимостью'"
   ]
  },
  {
   "cell_type": "code",
   "execution_count": 82,
   "id": "024ea786",
   "metadata": {},
   "outputs": [],
   "source": [
    "data['purpose_category'] = data['purpose'].apply(purpose_group)"
   ]
  },
  {
   "cell_type": "code",
   "execution_count": 83,
   "id": "043710b9",
   "metadata": {},
   "outputs": [
    {
     "data": {
      "text/plain": [
       "операции с недвижимостью    10773\n",
       "операции с автомобилем       4290\n",
       "получение образования        3998\n",
       "проведение свадьбы           2314\n",
       "Name: purpose_category, dtype: int64"
      ]
     },
     "execution_count": 83,
     "metadata": {},
     "output_type": "execute_result"
    }
   ],
   "source": [
    "data['purpose_category'].value_counts()"
   ]
  },
  {
   "cell_type": "markdown",
   "id": "f61e2063",
   "metadata": {},
   "source": [
    "Итак, мы категоризировали цели кредита. Видим, что большинство клинетов берут кредит для совершения операций с недвижимостью. Реже берут кредит (или реже указывают, что цель кредита) на проведение свадьбы."
   ]
  },
  {
   "cell_type": "markdown",
   "id": "2dca54d2",
   "metadata": {},
   "source": [
    "Данные подготовлены. Приступим к анализу данных и ответим на поставленные вопросы."
   ]
  },
  {
   "cell_type": "markdown",
   "id": "bf3842ca",
   "metadata": {},
   "source": [
    "### Ответы на вопросы."
   ]
  },
  {
   "cell_type": "markdown",
   "id": "337a1e4c",
   "metadata": {},
   "source": [
    "##### Вопрос 1: Есть ли зависимость между количеством детей и возвратом кредита в срок?"
   ]
  },
  {
   "cell_type": "markdown",
   "id": "bec9bb17",
   "metadata": {},
   "source": [
    "Для ответа на этот вопрос построим график `bar-plot` и найдем  долю тех, у кого была задолжность по кредиту в зависимости от числа детей."
   ]
  },
  {
   "cell_type": "code",
   "execution_count": 84,
   "id": "7017844d",
   "metadata": {},
   "outputs": [
    {
     "data": {
      "text/plain": [
       "children\n",
       "0    7.545429\n",
       "1    9.165808\n",
       "2    9.454191\n",
       "3    8.181818\n",
       "4    9.756098\n",
       "5    0.000000\n",
       "Name: debt, dtype: float64"
      ]
     },
     "execution_count": 84,
     "metadata": {},
     "output_type": "execute_result"
    }
   ],
   "source": [
    "data.groupby('children')['debt'].mean() * 100 # найдем долю"
   ]
  },
  {
   "cell_type": "markdown",
   "id": "8e1a960a",
   "metadata": {},
   "source": [
    "Итак, видим, что больших различий в задолжностей по кредиту в зависимости от числа детей не видим. Хотя доля должников меньше у группы клиентов без детей, а наибольшая доля задолжностей наблюдается у клиентов, у которых 20 детей. Абсолютно нет должников среди клиентов, у которых 5 детей. \n",
    "\n",
    "Но давайте посмотрим еще раз на распределение клиентов по числу детей. "
   ]
  },
  {
   "cell_type": "code",
   "execution_count": 85,
   "id": "f1d04edb",
   "metadata": {},
   "outputs": [
    {
     "data": {
      "text/plain": [
       "children\n",
       "0    14088\n",
       "1     4855\n",
       "2     2052\n",
       "3      330\n",
       "4       41\n",
       "5        9\n",
       "Name: children, dtype: int64"
      ]
     },
     "execution_count": 85,
     "metadata": {},
     "output_type": "execute_result"
    }
   ],
   "source": [
    "data.groupby('children')['children'].count()"
   ]
  },
  {
   "cell_type": "markdown",
   "id": "f283eef1",
   "metadata": {},
   "source": [
    "Как видно из аутпута выше, крайне мало людей, у которых более 3 детей. Число клиентов у которых 3 детей тоже на порядок меньше, чем клиентов у которых 1-2 ребенка. Давайте объединим категории клиентов у которых 3 и более детей в группу \"более 2-х детей\""
   ]
  },
  {
   "cell_type": "code",
   "execution_count": 86,
   "id": "05ddda30",
   "metadata": {},
   "outputs": [],
   "source": [
    "# напишем функцию \n",
    "def children_group(num):\n",
    "    if num > 2:\n",
    "        return 'более 2-х детей'\n",
    "    elif num == 2:\n",
    "        return '2 детей'\n",
    "    elif num == 1:\n",
    "        return '1 ребенок'\n",
    "    else:\n",
    "        return 'нет детей'"
   ]
  },
  {
   "cell_type": "code",
   "execution_count": 87,
   "id": "464635af",
   "metadata": {},
   "outputs": [],
   "source": [
    "data['children_category'] = data['children'].apply(children_group)"
   ]
  },
  {
   "cell_type": "code",
   "execution_count": 88,
   "id": "783c111a",
   "metadata": {},
   "outputs": [
    {
     "data": {
      "text/plain": [
       "children_category\n",
       "1 ребенок           4855\n",
       "2 детей             2052\n",
       "более 2-х детей      380\n",
       "нет детей          14088\n",
       "Name: children_category, dtype: int64"
      ]
     },
     "execution_count": 88,
     "metadata": {},
     "output_type": "execute_result"
    }
   ],
   "source": [
    "data.groupby('children_category')['children_category'].count()"
   ]
  },
  {
   "cell_type": "code",
   "execution_count": 89,
   "id": "a8052a72",
   "metadata": {},
   "outputs": [
    {
     "data": {
      "text/plain": [
       "children_category\n",
       "1 ребенок          9.165808\n",
       "2 детей            9.454191\n",
       "более 2-х детей    8.157895\n",
       "нет детей          7.545429\n",
       "Name: debt, dtype: float64"
      ]
     },
     "execution_count": 89,
     "metadata": {},
     "output_type": "execute_result"
    }
   ],
   "source": [
    "data.groupby('children_category')['debt'].mean() * 100 # найдем долю"
   ]
  },
  {
   "cell_type": "markdown",
   "id": "d076f0ca",
   "metadata": {},
   "source": [
    "Результаты немного изменились для категории клиентов \"более 2-х детей\", но представленность этой категории в общей выборке достаточно мала."
   ]
  },
  {
   "cell_type": "code",
   "execution_count": 90,
   "id": "843f469e",
   "metadata": {},
   "outputs": [
    {
     "data": {
      "text/plain": [
       "<matplotlib.axes._subplots.AxesSubplot at 0x7f68d36424d0>"
      ]
     },
     "execution_count": 90,
     "metadata": {},
     "output_type": "execute_result"
    },
    {
     "data": {
      "image/png": "[encoded data removed]",
      "text/plain": [
       "<Figure size 432x288 with 1 Axes>"
      ]
     },
     "metadata": {
      "needs_background": "light"
     },
     "output_type": "display_data"
    }
   ],
   "source": [
    "# построим график \n",
    "sns.barplot(x='children_category', y='debt', data=data)"
   ]
  },
  {
   "cell_type": "markdown",
   "id": "0ea779a6",
   "metadata": {},
   "source": [
    "##### Вывод 1:"
   ]
  },
  {
   "cell_type": "markdown",
   "id": "b2520af4",
   "metadata": {},
   "source": [
    "Полученные результаты показывают, что клиенты, у которых нет детей чаще возвращают кредит. Клиенты, у которых 1-2 ребенка имеют больше задолжностей по кредиту. Многодетные клиенты (более 2-х детей) в среднем возвращают кредит чаще, чем клиенты с 1-2 ребенком, но поскольку таких клиентов мало, то тут все-таки требуется более детальная проверка. \n",
    "Можно было бы также поделить выборку на две группы: есть дети и нет детей. И посмотреть среднюю задолжность. Но задача стояла в проверке поиска связи между числом детей и возвратом кредита в срок."
   ]
  },
  {
   "cell_type": "markdown",
   "id": "37922ef2",
   "metadata": {},
   "source": [
    "Проверим каковы различия в средней задолжности в зависимости от наличия детей. Добавим дихотомическую переменную есть "
   ]
  },
  {
   "cell_type": "code",
   "execution_count": 91,
   "id": "0cb93a9c",
   "metadata": {},
   "outputs": [],
   "source": [
    "# напишем функцию \n",
    "def has_children(num):\n",
    "    if num == 0:\n",
    "        return 'нет детей'\n",
    "    else:\n",
    "        return 'есть дети'"
   ]
  },
  {
   "cell_type": "code",
   "execution_count": 92,
   "id": "898002be",
   "metadata": {},
   "outputs": [],
   "source": [
    "data['has_children'] = data['children'].apply(has_children)"
   ]
  },
  {
   "cell_type": "code",
   "execution_count": 93,
   "id": "df65ff5d",
   "metadata": {},
   "outputs": [
    {
     "data": {
      "text/plain": [
       "has_children\n",
       "есть дети     7287\n",
       "нет детей    14088\n",
       "Name: children_category, dtype: int64"
      ]
     },
     "execution_count": 93,
     "metadata": {},
     "output_type": "execute_result"
    }
   ],
   "source": [
    "data.groupby('has_children')['children_category'].count()"
   ]
  },
  {
   "cell_type": "code",
   "execution_count": 94,
   "id": "3509dc40",
   "metadata": {},
   "outputs": [
    {
     "data": {
      "text/plain": [
       "has_children\n",
       "есть дети    9.194456\n",
       "нет детей    7.545429\n",
       "Name: debt, dtype: float64"
      ]
     },
     "execution_count": 94,
     "metadata": {},
     "output_type": "execute_result"
    }
   ],
   "source": [
    "data.groupby('has_children')['debt'].mean() * 100 # найдем долю"
   ]
  },
  {
   "cell_type": "markdown",
   "id": "9793daa1",
   "metadata": {},
   "source": [
    "\n",
    "Как видно из результатов, средняя задолжность у клиентов без детей меньше, чем у клиентов с детьми.\n",
    "\n"
   ]
  },
  {
   "cell_type": "markdown",
   "id": "43b845c5",
   "metadata": {},
   "source": [
    "##### Вопрос 2: Есть ли зависимость между семейным положением и возвратом кредита в срок?"
   ]
  },
  {
   "cell_type": "markdown",
   "id": "034d0e53",
   "metadata": {},
   "source": [
    "Так же, как и в предыдущем вопросе построим график bar-plot и найдем долю тех, у кого была задолжность по кредиту в зависимости от семейного положения."
   ]
  },
  {
   "cell_type": "code",
   "execution_count": 95,
   "id": "81a5586f",
   "metadata": {},
   "outputs": [
    {
     "data": {
      "text/html": [
       "<div>\n",
       "<style scoped>\n",
       "    .dataframe tbody tr th:only-of-type {\n",
       "        vertical-align: middle;\n",
       "    }\n",
       "\n",
       "    .dataframe tbody tr th {\n",
       "        vertical-align: top;\n",
       "    }\n",
       "\n",
       "    .dataframe thead th {\n",
       "        text-align: right;\n",
       "    }\n",
       "</style>\n",
       "<table border=\"1\" class=\"dataframe\">\n",
       "  <thead>\n",
       "    <tr style=\"text-align: right;\">\n",
       "      <th></th>\n",
       "      <th>debt</th>\n",
       "    </tr>\n",
       "    <tr>\n",
       "      <th>family_status_id</th>\n",
       "      <th></th>\n",
       "    </tr>\n",
       "  </thead>\n",
       "  <tbody>\n",
       "    <tr>\n",
       "      <td>0</td>\n",
       "      <td>7.551469</td>\n",
       "    </tr>\n",
       "    <tr>\n",
       "      <td>1</td>\n",
       "      <td>9.306261</td>\n",
       "    </tr>\n",
       "    <tr>\n",
       "      <td>2</td>\n",
       "      <td>6.596859</td>\n",
       "    </tr>\n",
       "    <tr>\n",
       "      <td>3</td>\n",
       "      <td>7.041073</td>\n",
       "    </tr>\n",
       "    <tr>\n",
       "      <td>4</td>\n",
       "      <td>9.746519</td>\n",
       "    </tr>\n",
       "  </tbody>\n",
       "</table>\n",
       "</div>"
      ],
      "text/plain": [
       "                      debt\n",
       "family_status_id          \n",
       "0                 7.551469\n",
       "1                 9.306261\n",
       "2                 6.596859\n",
       "3                 7.041073\n",
       "4                 9.746519"
      ]
     },
     "metadata": {},
     "output_type": "display_data"
    }
   ],
   "source": [
    "data_family_status = data.pivot_table(index=['family_status_id'], values='debt', aggfunc='mean') * 100\n",
    "display(data_family_status)"
   ]
  },
  {
   "cell_type": "code",
   "execution_count": 96,
   "id": "675b524a",
   "metadata": {},
   "outputs": [],
   "source": [
    "data_family_status = data_family_status.merge(family_status, on='family_status_id', how='left')"
   ]
  },
  {
   "cell_type": "code",
   "execution_count": 97,
   "id": "b3dc328b",
   "metadata": {},
   "outputs": [
    {
     "data": {
      "text/html": [
       "<div>\n",
       "<style scoped>\n",
       "    .dataframe tbody tr th:only-of-type {\n",
       "        vertical-align: middle;\n",
       "    }\n",
       "\n",
       "    .dataframe tbody tr th {\n",
       "        vertical-align: top;\n",
       "    }\n",
       "\n",
       "    .dataframe thead th {\n",
       "        text-align: right;\n",
       "    }\n",
       "</style>\n",
       "<table border=\"1\" class=\"dataframe\">\n",
       "  <thead>\n",
       "    <tr style=\"text-align: right;\">\n",
       "      <th></th>\n",
       "      <th>family_status_id</th>\n",
       "      <th>debt</th>\n",
       "      <th>family_status</th>\n",
       "    </tr>\n",
       "  </thead>\n",
       "  <tbody>\n",
       "    <tr>\n",
       "      <td>0</td>\n",
       "      <td>0</td>\n",
       "      <td>7.551469</td>\n",
       "      <td>женат / замужем</td>\n",
       "    </tr>\n",
       "    <tr>\n",
       "      <td>1</td>\n",
       "      <td>1</td>\n",
       "      <td>9.306261</td>\n",
       "      <td>гражданский брак</td>\n",
       "    </tr>\n",
       "    <tr>\n",
       "      <td>2</td>\n",
       "      <td>2</td>\n",
       "      <td>6.596859</td>\n",
       "      <td>вдовец / вдова</td>\n",
       "    </tr>\n",
       "    <tr>\n",
       "      <td>3</td>\n",
       "      <td>3</td>\n",
       "      <td>7.041073</td>\n",
       "      <td>в разводе</td>\n",
       "    </tr>\n",
       "    <tr>\n",
       "      <td>4</td>\n",
       "      <td>4</td>\n",
       "      <td>9.746519</td>\n",
       "      <td>Не женат / не замужем</td>\n",
       "    </tr>\n",
       "  </tbody>\n",
       "</table>\n",
       "</div>"
      ],
      "text/plain": [
       "   family_status_id      debt          family_status\n",
       "0                 0  7.551469        женат / замужем\n",
       "1                 1  9.306261       гражданский брак\n",
       "2                 2  6.596859         вдовец / вдова\n",
       "3                 3  7.041073              в разводе\n",
       "4                 4  9.746519  Не женат / не замужем"
      ]
     },
     "execution_count": 97,
     "metadata": {},
     "output_type": "execute_result"
    }
   ],
   "source": [
    "data_family_status"
   ]
  },
  {
   "cell_type": "code",
   "execution_count": 98,
   "id": "74d2ed3f",
   "metadata": {},
   "outputs": [
    {
     "data": {
      "text/plain": [
       "<matplotlib.axes._subplots.AxesSubplot at 0x7f68d3664290>"
      ]
     },
     "execution_count": 98,
     "metadata": {},
     "output_type": "execute_result"
    },
    {
     "data": {
      "image/png": "[encoded data removed]",
      "text/plain": [
       "<Figure size 432x288 with 1 Axes>"
      ]
     },
     "metadata": {
      "needs_background": "light"
     },
     "output_type": "display_data"
    }
   ],
   "source": [
    "# построим график \n",
    "sns.barplot(x='family_status', y='debt', data=data_family_status)"
   ]
  },
  {
   "cell_type": "code",
   "execution_count": 99,
   "id": "9a534e02",
   "metadata": {},
   "outputs": [
    {
     "data": {
      "text/plain": [
       "family_status_id\n",
       "0    12289\n",
       "1     4137\n",
       "2      955\n",
       "3     1193\n",
       "4     2801\n",
       "Name: family_status_id, dtype: int64"
      ]
     },
     "execution_count": 99,
     "metadata": {},
     "output_type": "execute_result"
    }
   ],
   "source": [
    "# проверим распределение людей по семейному положению\n",
    "data.groupby('family_status_id')['family_status_id'].count()"
   ]
  },
  {
   "cell_type": "markdown",
   "id": "e8d89f22",
   "metadata": {},
   "source": [
    "##### Вывод 2:"
   ]
  },
  {
   "cell_type": "markdown",
   "id": "b5608143",
   "metadata": {},
   "source": [
    "Результаты показывают, что не женатые и не замужные клиенты, а также клиенты, состоящие в гражданском браке чаще имеют задолжности по кредиту. Чаще всего возвращают в срок клиенты-вдовцы(вдовы). Промежуточное положение занимают клиенты в браке и разведенные.  "
   ]
  },
  {
   "cell_type": "markdown",
   "id": "4f49924f",
   "metadata": {},
   "source": [
    "##### Вопрос 3: Есть ли зависимость между уровнем дохода и возвратом кредита в срок?"
   ]
  },
  {
   "cell_type": "markdown",
   "id": "649a6559",
   "metadata": {},
   "source": [
    "Проверим существует ли зависимость между уровнем дохода и возвратом кредита в срок. Для этого воспользуемся переменной, где клиенты распределены по категориям в зависимости от ежемесячного дохода."
   ]
  },
  {
   "cell_type": "code",
   "execution_count": 100,
   "id": "4e243d08",
   "metadata": {},
   "outputs": [
    {
     "data": {
      "text/plain": [
       "total_income_category\n",
       "A    8.000000\n",
       "B    7.053198\n",
       "C    8.484241\n",
       "D    6.000000\n",
       "E    9.090909\n",
       "Name: debt, dtype: float64"
      ]
     },
     "execution_count": 100,
     "metadata": {},
     "output_type": "execute_result"
    }
   ],
   "source": [
    "data.groupby('total_income_category')['debt'].mean() * 100 # найдем долю"
   ]
  },
  {
   "cell_type": "code",
   "execution_count": 101,
   "id": "2d8bef57",
   "metadata": {},
   "outputs": [
    {
     "data": {
      "text/plain": [
       "total_income_category\n",
       "A       25\n",
       "B     5019\n",
       "C    15959\n",
       "D      350\n",
       "E       22\n",
       "Name: total_income_category, dtype: int64"
      ]
     },
     "execution_count": 101,
     "metadata": {},
     "output_type": "execute_result"
    }
   ],
   "source": [
    "data.groupby('total_income_category')['total_income_category'].count() # напомним как были распределены клиенты по доходу"
   ]
  },
  {
   "cell_type": "markdown",
   "id": "6c4431dc",
   "metadata": {},
   "source": [
    "##### Вывод 3:"
   ]
  },
  {
   "cell_type": "markdown",
   "id": "2b0732f2",
   "metadata": {},
   "source": [
    "Клиенты с низким уровнем дохода (менее 30000) реже возвращают кредит в срок. Но таких клиентов так же, как и клиентов с ежемесячным доходом свыше 1000000 крайне мало в дататсете. Поэтому сложно судить насколько будут верны эти данные для большей выборки клиентов, представляющих эти категории.\n",
    "\n",
    "Средний процент задолжности у наиболее распространенной категории клиентов (`'C'`) составляет 8,5%. Иными словами, каждый 9 не возвращает кредит в срок. \n",
    "Чаще всего кредит возвращают в срок клиенты с доходом от 30001–50000 и 200001–1000000. "
   ]
  },
  {
   "cell_type": "markdown",
   "id": "d4289a3f",
   "metadata": {},
   "source": [
    "##### Вопрос 4: Как разные цели кредита связаны с его возвратом в срок?"
   ]
  },
  {
   "cell_type": "markdown",
   "id": "7ae32a48",
   "metadata": {},
   "source": [
    "И теперь проверим связаны задолжности по кредиту с его целями. \n",
    "Построим сводную таблицу со средними значениями."
   ]
  },
  {
   "cell_type": "code",
   "execution_count": 102,
   "id": "d907ee42",
   "metadata": {},
   "outputs": [
    {
     "data": {
      "text/plain": [
       "purpose_category\n",
       "операции с автомобилем      9.347319\n",
       "операции с недвижимостью    7.240323\n",
       "получение образования       9.229615\n",
       "проведение свадьбы          7.908384\n",
       "Name: debt, dtype: float64"
      ]
     },
     "execution_count": 102,
     "metadata": {},
     "output_type": "execute_result"
    }
   ],
   "source": [
    "data.groupby('purpose_category')['debt'].mean() * 100 # найдем долю"
   ]
  },
  {
   "cell_type": "code",
   "execution_count": 103,
   "id": "5d8a0fe3",
   "metadata": {},
   "outputs": [
    {
     "data": {
      "text/plain": [
       "purpose_category\n",
       "операции с автомобилем       4290\n",
       "операции с недвижимостью    10773\n",
       "получение образования        3998\n",
       "проведение свадьбы           2314\n",
       "Name: purpose_category, dtype: int64"
      ]
     },
     "execution_count": 103,
     "metadata": {},
     "output_type": "execute_result"
    }
   ],
   "source": [
    "data.groupby('purpose_category')['purpose_category'].count() "
   ]
  },
  {
   "cell_type": "markdown",
   "id": "85e48e84",
   "metadata": {},
   "source": [
    "##### Вывод 4:"
   ]
  },
  {
   "cell_type": "markdown",
   "id": "4a7d086e",
   "metadata": {},
   "source": [
    "Клиенты в среднем чаще возвращают кредит вовремя, если целью кредита были операции с недвижимостью. По кредитам полученным для проведения операций с автомобилями или для получения образования, в среднем имеется больше задолжностей."
   ]
  },
  {
   "cell_type": "markdown",
   "id": "fe777a81",
   "metadata": {},
   "source": [
    "## Общий вывод:"
   ]
  },
  {
   "cell_type": "markdown",
   "id": "4d7d2395",
   "metadata": {},
   "source": [
    "Мы ответили на четыре исследовательских вопроса и установили:\n",
    "\n",
    "1) Исследование зависимости возрата кредита в срок и количеством детей у клиента показало, что клиенты без детей скорее закроют кредит в срок, чем клиенты у которых есть дети. Средний процент невозврата среди клиентов с детьми составляет 9% против 7,5% у клиентов без детей. \n",
    "Хотя здесь непременно требуется статистический анализ данных для проверки достоверности полученных результатов.\n",
    "\n",
    "2) Возрат кредита в срок отличается также в зависимости от семейного положения клиента. Так не женатые / не замужные клиенты  и клиенты, состоящие в гражданском браке, реже возвращают по кредиту по сравнению с остальными клиентами (средний процент 9,7% и 9,3% соответственно). Клиенты-вдовцы(вдовы) в среднем чаще возвращают кредит в срок (6,6%). Промежуточное положение занимают клиенты в браке и разведенные (7-7,5%).\n",
    "\n",
    "3) Задолжности по кредиту связаны и ежемесячным доходом. Клиенты с низким уровнем дохода (менее `30000`) в среднем имеют больше задолжностей по кредиту. Клиенты с ежемесячным доходом свыше `1000000` тоже в среднем имеют больше задолжностей по кредитам (9%), чем клиенты других категорий (`B`, `C`, `D`). Но отметим, что клиентов категорий `E` и `A` крайне мало в наших данных (в сумее менее 50 человек). Поэтому сложно судить насколько будут верны эти данные для большей выборки клиентов, представляющих эти категории. Средний процент задолжности у наиболее распространенной категории клиентов (`C`) составляет 8,5%. Чаще всего кредит возвращают в срок клиенты с доходом от `30001–50000` и `200001–1000000` (6% и 7% соответственно).\n",
    "\n",
    "4) Возрат кредита в срок также различается в зависимости от цели кредита. Самые надежные клиенты - это те, кто берет кредит с целью проведения операций с недвижимостью. Средний процент задолжности у этих клинетов составляет 7,2%. Клиенты, которые берут кредиты на образование или автокредиты, в среднем показывают относительной высокий процент задолжности (примерно 9%). "
   ]
  }
 ],
 "metadata": {
  "ExecuteTimeLog": [
   {
    "duration": 597,
    "start_time": "2022-02-24T16:14:58.599Z"
   },
   {
    "duration": 598,
    "start_time": "2022-03-06T21:03:40.991Z"
   },
   {
    "duration": 1439,
    "start_time": "2022-03-06T21:03:41.591Z"
   },
   {
    "duration": -1289,
    "start_time": "2022-03-06T21:03:44.323Z"
   },
   {
    "duration": -1289,
    "start_time": "2022-03-06T21:03:44.324Z"
   },
   {
    "duration": -1289,
    "start_time": "2022-03-06T21:03:44.325Z"
   },
   {
    "duration": -1290,
    "start_time": "2022-03-06T21:03:44.328Z"
   },
   {
    "duration": -1327,
    "start_time": "2022-03-06T21:03:44.371Z"
   },
   {
    "duration": -1329,
    "start_time": "2022-03-06T21:03:44.375Z"
   },
   {
    "duration": -1332,
    "start_time": "2022-03-06T21:03:44.379Z"
   },
   {
    "duration": -1334,
    "start_time": "2022-03-06T21:03:44.382Z"
   },
   {
    "duration": -1335,
    "start_time": "2022-03-06T21:03:44.384Z"
   },
   {
    "duration": -1336,
    "start_time": "2022-03-06T21:03:44.386Z"
   },
   {
    "duration": -1337,
    "start_time": "2022-03-06T21:03:44.388Z"
   },
   {
    "duration": -1337,
    "start_time": "2022-03-06T21:03:44.389Z"
   },
   {
    "duration": -1337,
    "start_time": "2022-03-06T21:03:44.391Z"
   },
   {
    "duration": -1336,
    "start_time": "2022-03-06T21:03:44.392Z"
   },
   {
    "duration": -1336,
    "start_time": "2022-03-06T21:03:44.393Z"
   },
   {
    "duration": -1337,
    "start_time": "2022-03-06T21:03:44.395Z"
   },
   {
    "duration": -1336,
    "start_time": "2022-03-06T21:03:44.396Z"
   },
   {
    "duration": -1362,
    "start_time": "2022-03-06T21:03:44.423Z"
   },
   {
    "duration": -1363,
    "start_time": "2022-03-06T21:03:44.424Z"
   },
   {
    "duration": -1364,
    "start_time": "2022-03-06T21:03:44.426Z"
   },
   {
    "duration": -1364,
    "start_time": "2022-03-06T21:03:44.427Z"
   },
   {
    "duration": -1365,
    "start_time": "2022-03-06T21:03:44.429Z"
   },
   {
    "duration": -1365,
    "start_time": "2022-03-06T21:03:44.430Z"
   },
   {
    "duration": -1366,
    "start_time": "2022-03-06T21:03:44.432Z"
   },
   {
    "duration": -1366,
    "start_time": "2022-03-06T21:03:44.433Z"
   },
   {
    "duration": -1367,
    "start_time": "2022-03-06T21:03:44.435Z"
   },
   {
    "duration": -1367,
    "start_time": "2022-03-06T21:03:44.436Z"
   },
   {
    "duration": -1367,
    "start_time": "2022-03-06T21:03:44.437Z"
   },
   {
    "duration": -1404,
    "start_time": "2022-03-06T21:03:44.475Z"
   },
   {
    "duration": -1405,
    "start_time": "2022-03-06T21:03:44.477Z"
   },
   {
    "duration": -1409,
    "start_time": "2022-03-06T21:03:44.482Z"
   },
   {
    "duration": -1410,
    "start_time": "2022-03-06T21:03:44.484Z"
   },
   {
    "duration": -1411,
    "start_time": "2022-03-06T21:03:44.486Z"
   },
   {
    "duration": -1412,
    "start_time": "2022-03-06T21:03:44.488Z"
   },
   {
    "duration": -1413,
    "start_time": "2022-03-06T21:03:44.490Z"
   },
   {
    "duration": -1413,
    "start_time": "2022-03-06T21:03:44.491Z"
   },
   {
    "duration": -1414,
    "start_time": "2022-03-06T21:03:44.493Z"
   },
   {
    "duration": -1414,
    "start_time": "2022-03-06T21:03:44.494Z"
   },
   {
    "duration": -1415,
    "start_time": "2022-03-06T21:03:44.496Z"
   },
   {
    "duration": -1416,
    "start_time": "2022-03-06T21:03:44.497Z"
   },
   {
    "duration": -1415,
    "start_time": "2022-03-06T21:03:44.498Z"
   },
   {
    "duration": -1448,
    "start_time": "2022-03-06T21:03:44.531Z"
   },
   {
    "duration": -1398,
    "start_time": "2022-03-06T21:03:44.536Z"
   },
   {
    "duration": -1398,
    "start_time": "2022-03-06T21:03:44.538Z"
   },
   {
    "duration": -1399,
    "start_time": "2022-03-06T21:03:44.540Z"
   },
   {
    "duration": -1400,
    "start_time": "2022-03-06T21:03:44.542Z"
   },
   {
    "duration": -1400,
    "start_time": "2022-03-06T21:03:44.543Z"
   },
   {
    "duration": -1400,
    "start_time": "2022-03-06T21:03:44.544Z"
   },
   {
    "duration": -1401,
    "start_time": "2022-03-06T21:03:44.546Z"
   },
   {
    "duration": -1400,
    "start_time": "2022-03-06T21:03:44.547Z"
   },
   {
    "duration": -1400,
    "start_time": "2022-03-06T21:03:44.548Z"
   },
   {
    "duration": -1399,
    "start_time": "2022-03-06T21:03:44.549Z"
   },
   {
    "duration": -1400,
    "start_time": "2022-03-06T21:03:44.551Z"
   },
   {
    "duration": -1431,
    "start_time": "2022-03-06T21:03:44.584Z"
   },
   {
    "duration": -1435,
    "start_time": "2022-03-06T21:03:44.590Z"
   },
   {
    "duration": -1437,
    "start_time": "2022-03-06T21:03:44.594Z"
   },
   {
    "duration": -1440,
    "start_time": "2022-03-06T21:03:44.598Z"
   },
   {
    "duration": -1440,
    "start_time": "2022-03-06T21:03:44.600Z"
   },
   {
    "duration": -1440,
    "start_time": "2022-03-06T21:03:44.602Z"
   },
   {
    "duration": -1441,
    "start_time": "2022-03-06T21:03:44.604Z"
   },
   {
    "duration": -1439,
    "start_time": "2022-03-06T21:03:44.605Z"
   },
   {
    "duration": -1440,
    "start_time": "2022-03-06T21:03:44.607Z"
   },
   {
    "duration": -1439,
    "start_time": "2022-03-06T21:03:44.608Z"
   },
   {
    "duration": -1437,
    "start_time": "2022-03-06T21:03:44.609Z"
   },
   {
    "duration": -1438,
    "start_time": "2022-03-06T21:03:44.611Z"
   },
   {
    "duration": -1438,
    "start_time": "2022-03-06T21:03:44.612Z"
   },
   {
    "duration": -1438,
    "start_time": "2022-03-06T21:03:44.613Z"
   },
   {
    "duration": -1439,
    "start_time": "2022-03-06T21:03:44.614Z"
   },
   {
    "duration": -1459,
    "start_time": "2022-03-06T21:03:44.635Z"
   },
   {
    "duration": -1400,
    "start_time": "2022-03-06T21:03:44.637Z"
   },
   {
    "duration": -1407,
    "start_time": "2022-03-06T21:03:44.646Z"
   },
   {
    "duration": -1407,
    "start_time": "2022-03-06T21:03:44.648Z"
   },
   {
    "duration": -1407,
    "start_time": "2022-03-06T21:03:44.649Z"
   },
   {
    "duration": 155,
    "start_time": "2022-03-06T21:14:35.518Z"
   },
   {
    "duration": 570,
    "start_time": "2022-03-06T21:14:38.534Z"
   },
   {
    "duration": 49,
    "start_time": "2022-03-06T21:14:39.995Z"
   },
   {
    "duration": 17,
    "start_time": "2022-03-06T21:14:44.350Z"
   },
   {
    "duration": 11,
    "start_time": "2022-03-06T21:14:52.032Z"
   },
   {
    "duration": 9,
    "start_time": "2022-03-06T21:14:55.939Z"
   },
   {
    "duration": 542,
    "start_time": "2022-03-06T21:15:03.851Z"
   },
   {
    "duration": 47,
    "start_time": "2022-03-06T21:15:04.395Z"
   },
   {
    "duration": 17,
    "start_time": "2022-03-06T21:15:04.444Z"
   },
   {
    "duration": 12,
    "start_time": "2022-03-06T21:15:04.463Z"
   },
   {
    "duration": 11,
    "start_time": "2022-03-06T21:15:04.477Z"
   },
   {
    "duration": 12,
    "start_time": "2022-03-06T21:15:04.490Z"
   },
   {
    "duration": 8,
    "start_time": "2022-03-06T21:15:04.533Z"
   },
   {
    "duration": 15,
    "start_time": "2022-03-06T21:15:04.542Z"
   },
   {
    "duration": 29,
    "start_time": "2022-03-06T21:15:04.561Z"
   },
   {
    "duration": 86,
    "start_time": "2022-03-06T21:15:04.593Z"
   },
   {
    "duration": 5,
    "start_time": "2022-03-06T21:15:04.681Z"
   },
   {
    "duration": 7,
    "start_time": "2022-03-06T21:15:04.688Z"
   },
   {
    "duration": 39,
    "start_time": "2022-03-06T21:15:04.697Z"
   },
   {
    "duration": 5,
    "start_time": "2022-03-06T21:15:04.738Z"
   },
   {
    "duration": 6,
    "start_time": "2022-03-06T21:15:04.745Z"
   },
   {
    "duration": 14,
    "start_time": "2022-03-06T21:15:04.752Z"
   },
   {
    "duration": 13,
    "start_time": "2022-03-06T21:15:04.767Z"
   },
   {
    "duration": 5,
    "start_time": "2022-03-06T21:15:04.781Z"
   },
   {
    "duration": 6,
    "start_time": "2022-03-06T21:15:04.787Z"
   },
   {
    "duration": 46,
    "start_time": "2022-03-06T21:15:04.795Z"
   },
   {
    "duration": 6,
    "start_time": "2022-03-06T21:15:04.842Z"
   },
   {
    "duration": 9,
    "start_time": "2022-03-06T21:15:04.849Z"
   },
   {
    "duration": 4,
    "start_time": "2022-03-06T21:15:04.859Z"
   },
   {
    "duration": 6,
    "start_time": "2022-03-06T21:15:04.864Z"
   },
   {
    "duration": 7,
    "start_time": "2022-03-06T21:15:04.871Z"
   },
   {
    "duration": 3,
    "start_time": "2022-03-06T21:15:04.879Z"
   },
   {
    "duration": 47,
    "start_time": "2022-03-06T21:15:04.887Z"
   },
   {
    "duration": 8,
    "start_time": "2022-03-06T21:15:04.937Z"
   },
   {
    "duration": 3,
    "start_time": "2022-03-06T21:15:04.947Z"
   },
   {
    "duration": 4,
    "start_time": "2022-03-06T21:15:04.952Z"
   },
   {
    "duration": 5,
    "start_time": "2022-03-06T21:15:04.957Z"
   },
   {
    "duration": 12,
    "start_time": "2022-03-06T21:15:04.963Z"
   },
   {
    "duration": 4,
    "start_time": "2022-03-06T21:15:04.977Z"
   },
   {
    "duration": 6,
    "start_time": "2022-03-06T21:15:04.983Z"
   },
   {
    "duration": 51,
    "start_time": "2022-03-06T21:15:04.991Z"
   },
   {
    "duration": 10,
    "start_time": "2022-03-06T21:15:05.044Z"
   },
   {
    "duration": 6,
    "start_time": "2022-03-06T21:15:05.055Z"
   },
   {
    "duration": 5,
    "start_time": "2022-03-06T21:15:05.062Z"
   },
   {
    "duration": 17,
    "start_time": "2022-03-06T21:15:05.068Z"
   },
   {
    "duration": 48,
    "start_time": "2022-03-06T21:15:05.086Z"
   },
   {
    "duration": 19,
    "start_time": "2022-03-06T21:15:05.136Z"
   },
   {
    "duration": 15,
    "start_time": "2022-03-06T21:15:05.157Z"
   },
   {
    "duration": 8,
    "start_time": "2022-03-06T21:15:05.174Z"
   },
   {
    "duration": 8,
    "start_time": "2022-03-06T21:15:05.184Z"
   },
   {
    "duration": 6,
    "start_time": "2022-03-06T21:15:05.193Z"
   },
   {
    "duration": 9,
    "start_time": "2022-03-06T21:15:05.234Z"
   },
   {
    "duration": 7,
    "start_time": "2022-03-06T21:15:05.245Z"
   },
   {
    "duration": 9,
    "start_time": "2022-03-06T21:15:05.254Z"
   },
   {
    "duration": 6,
    "start_time": "2022-03-06T21:15:05.264Z"
   },
   {
    "duration": 5,
    "start_time": "2022-03-06T21:15:05.272Z"
   },
   {
    "duration": 4,
    "start_time": "2022-03-06T21:15:05.279Z"
   },
   {
    "duration": 5,
    "start_time": "2022-03-06T21:15:05.284Z"
   },
   {
    "duration": 19,
    "start_time": "2022-03-06T21:15:05.333Z"
   },
   {
    "duration": 9,
    "start_time": "2022-03-06T21:15:05.354Z"
   },
   {
    "duration": 18,
    "start_time": "2022-03-06T21:15:05.365Z"
   },
   {
    "duration": 3,
    "start_time": "2022-03-06T21:15:05.385Z"
   },
   {
    "duration": 11,
    "start_time": "2022-03-06T21:15:05.390Z"
   },
   {
    "duration": 37,
    "start_time": "2022-03-06T21:15:05.402Z"
   },
   {
    "duration": 14,
    "start_time": "2022-03-06T21:15:05.441Z"
   },
   {
    "duration": 10,
    "start_time": "2022-03-06T21:15:05.457Z"
   },
   {
    "duration": 4,
    "start_time": "2022-03-06T21:15:05.468Z"
   },
   {
    "duration": 12,
    "start_time": "2022-03-06T21:15:05.473Z"
   },
   {
    "duration": 14,
    "start_time": "2022-03-06T21:15:05.486Z"
   },
   {
    "duration": 7,
    "start_time": "2022-03-06T21:15:05.501Z"
   },
   {
    "duration": 526,
    "start_time": "2022-03-06T21:15:05.532Z"
   },
   {
    "duration": 515,
    "start_time": "2022-03-06T21:15:06.059Z"
   },
   {
    "duration": 13,
    "start_time": "2022-03-06T21:15:06.575Z"
   },
   {
    "duration": 6,
    "start_time": "2022-03-06T21:15:06.589Z"
   },
   {
    "duration": 10,
    "start_time": "2022-03-06T21:15:06.596Z"
   },
   {
    "duration": 165,
    "start_time": "2022-03-06T21:15:06.608Z"
   },
   {
    "duration": 5,
    "start_time": "2022-03-06T21:15:06.775Z"
   },
   {
    "duration": 7,
    "start_time": "2022-03-06T21:15:06.782Z"
   },
   {
    "duration": 7,
    "start_time": "2022-03-06T21:15:06.791Z"
   },
   {
    "duration": 7,
    "start_time": "2022-03-06T21:15:06.799Z"
   },
   {
    "duration": 33,
    "start_time": "2022-03-06T21:15:06.807Z"
   },
   {
    "duration": 770,
    "start_time": "2022-03-07T11:27:43.376Z"
   },
   {
    "duration": 61,
    "start_time": "2022-03-07T11:27:44.149Z"
   },
   {
    "duration": 26,
    "start_time": "2022-03-07T11:27:44.214Z"
   },
   {
    "duration": 16,
    "start_time": "2022-03-07T11:27:44.243Z"
   },
   {
    "duration": 13,
    "start_time": "2022-03-07T11:27:44.282Z"
   },
   {
    "duration": 17,
    "start_time": "2022-03-07T11:27:44.298Z"
   },
   {
    "duration": 9,
    "start_time": "2022-03-07T11:27:44.318Z"
   },
   {
    "duration": 55,
    "start_time": "2022-03-07T11:27:44.329Z"
   },
   {
    "duration": 46,
    "start_time": "2022-03-07T11:27:44.387Z"
   },
   {
    "duration": 96,
    "start_time": "2022-03-07T11:27:44.436Z"
   },
   {
    "duration": 6,
    "start_time": "2022-03-07T11:27:44.534Z"
   },
   {
    "duration": 10,
    "start_time": "2022-03-07T11:27:44.542Z"
   },
   {
    "duration": 56,
    "start_time": "2022-03-07T11:27:44.554Z"
   },
   {
    "duration": 8,
    "start_time": "2022-03-07T11:27:44.612Z"
   },
   {
    "duration": 13,
    "start_time": "2022-03-07T11:27:44.623Z"
   },
   {
    "duration": 28,
    "start_time": "2022-03-07T11:27:44.638Z"
   },
   {
    "duration": 21,
    "start_time": "2022-03-07T11:27:44.683Z"
   },
   {
    "duration": 7,
    "start_time": "2022-03-07T11:27:44.706Z"
   },
   {
    "duration": 12,
    "start_time": "2022-03-07T11:27:44.715Z"
   },
   {
    "duration": 57,
    "start_time": "2022-03-07T11:27:44.729Z"
   },
   {
    "duration": 13,
    "start_time": "2022-03-07T11:27:44.789Z"
   },
   {
    "duration": 14,
    "start_time": "2022-03-07T11:27:44.805Z"
   },
   {
    "duration": 8,
    "start_time": "2022-03-07T11:27:44.821Z"
   },
   {
    "duration": 7,
    "start_time": "2022-03-07T11:27:44.831Z"
   },
   {
    "duration": 43,
    "start_time": "2022-03-07T11:27:44.840Z"
   },
   {
    "duration": 3,
    "start_time": "2022-03-07T11:27:44.886Z"
   },
   {
    "duration": 12,
    "start_time": "2022-03-07T11:27:44.896Z"
   },
   {
    "duration": 20,
    "start_time": "2022-03-07T11:27:44.911Z"
   },
   {
    "duration": 5,
    "start_time": "2022-03-07T11:27:44.933Z"
   },
   {
    "duration": 11,
    "start_time": "2022-03-07T11:27:44.940Z"
   },
   {
    "duration": 5,
    "start_time": "2022-03-07T11:27:44.983Z"
   },
   {
    "duration": 28,
    "start_time": "2022-03-07T11:27:44.990Z"
   },
   {
    "duration": 23,
    "start_time": "2022-03-07T11:27:45.021Z"
   },
   {
    "duration": 13,
    "start_time": "2022-03-07T11:27:45.047Z"
   },
   {
    "duration": 35,
    "start_time": "2022-03-07T11:27:45.062Z"
   },
   {
    "duration": 24,
    "start_time": "2022-03-07T11:27:45.099Z"
   },
   {
    "duration": 12,
    "start_time": "2022-03-07T11:27:45.126Z"
   },
   {
    "duration": 7,
    "start_time": "2022-03-07T11:27:45.141Z"
   },
   {
    "duration": 38,
    "start_time": "2022-03-07T11:27:45.150Z"
   },
   {
    "duration": 23,
    "start_time": "2022-03-07T11:27:45.191Z"
   },
   {
    "duration": 23,
    "start_time": "2022-03-07T11:27:45.216Z"
   },
   {
    "duration": 50,
    "start_time": "2022-03-07T11:27:45.242Z"
   },
   {
    "duration": 10,
    "start_time": "2022-03-07T11:27:45.295Z"
   },
   {
    "duration": 11,
    "start_time": "2022-03-07T11:27:45.308Z"
   },
   {
    "duration": 9,
    "start_time": "2022-03-07T11:27:45.321Z"
   },
   {
    "duration": 14,
    "start_time": "2022-03-07T11:27:45.332Z"
   },
   {
    "duration": 38,
    "start_time": "2022-03-07T11:27:45.348Z"
   },
   {
    "duration": 13,
    "start_time": "2022-03-07T11:27:45.389Z"
   },
   {
    "duration": 8,
    "start_time": "2022-03-07T11:27:45.404Z"
   },
   {
    "duration": 15,
    "start_time": "2022-03-07T11:27:45.415Z"
   },
   {
    "duration": 7,
    "start_time": "2022-03-07T11:27:45.432Z"
   },
   {
    "duration": 7,
    "start_time": "2022-03-07T11:27:45.441Z"
   },
   {
    "duration": 54,
    "start_time": "2022-03-07T11:27:45.450Z"
   },
   {
    "duration": 9,
    "start_time": "2022-03-07T11:27:45.507Z"
   },
   {
    "duration": 31,
    "start_time": "2022-03-07T11:27:45.519Z"
   },
   {
    "duration": 35,
    "start_time": "2022-03-07T11:27:45.553Z"
   },
   {
    "duration": 29,
    "start_time": "2022-03-07T11:27:45.590Z"
   },
   {
    "duration": 11,
    "start_time": "2022-03-07T11:27:45.622Z"
   },
   {
    "duration": 17,
    "start_time": "2022-03-07T11:27:45.635Z"
   },
   {
    "duration": 7,
    "start_time": "2022-03-07T11:27:45.654Z"
   },
   {
    "duration": 5,
    "start_time": "2022-03-07T11:27:45.663Z"
   },
   {
    "duration": 17,
    "start_time": "2022-03-07T11:27:45.683Z"
   },
   {
    "duration": 12,
    "start_time": "2022-03-07T11:27:45.703Z"
   },
   {
    "duration": 9,
    "start_time": "2022-03-07T11:27:45.718Z"
   },
   {
    "duration": 702,
    "start_time": "2022-03-07T11:27:45.729Z"
   },
   {
    "duration": 879,
    "start_time": "2022-03-07T11:27:46.433Z"
   },
   {
    "duration": 20,
    "start_time": "2022-03-07T11:27:47.314Z"
   },
   {
    "duration": 10,
    "start_time": "2022-03-07T11:27:47.337Z"
   },
   {
    "duration": 37,
    "start_time": "2022-03-07T11:27:47.350Z"
   },
   {
    "duration": 259,
    "start_time": "2022-03-07T11:27:47.390Z"
   },
   {
    "duration": 9,
    "start_time": "2022-03-07T11:27:47.651Z"
   },
   {
    "duration": 12,
    "start_time": "2022-03-07T11:27:47.681Z"
   },
   {
    "duration": 9,
    "start_time": "2022-03-07T11:27:47.696Z"
   },
   {
    "duration": 10,
    "start_time": "2022-03-07T11:27:47.707Z"
   },
   {
    "duration": 10,
    "start_time": "2022-03-07T11:27:47.720Z"
   },
   {
    "duration": 507,
    "start_time": "2022-03-09T17:42:02.851Z"
   },
   {
    "duration": 46,
    "start_time": "2022-03-09T17:42:03.359Z"
   },
   {
    "duration": 15,
    "start_time": "2022-03-09T17:42:03.406Z"
   },
   {
    "duration": 9,
    "start_time": "2022-03-09T17:42:03.422Z"
   },
   {
    "duration": 9,
    "start_time": "2022-03-09T17:42:03.432Z"
   },
   {
    "duration": 11,
    "start_time": "2022-03-09T17:42:03.442Z"
   },
   {
    "duration": 6,
    "start_time": "2022-03-09T17:42:03.454Z"
   },
   {
    "duration": 12,
    "start_time": "2022-03-09T17:42:03.462Z"
   },
   {
    "duration": 51,
    "start_time": "2022-03-09T17:42:03.475Z"
   },
   {
    "duration": 44,
    "start_time": "2022-03-09T17:42:03.528Z"
   },
   {
    "duration": 4,
    "start_time": "2022-03-09T17:42:03.573Z"
   },
   {
    "duration": 7,
    "start_time": "2022-03-09T17:42:03.578Z"
   },
   {
    "duration": 35,
    "start_time": "2022-03-09T17:42:03.586Z"
   },
   {
    "duration": 4,
    "start_time": "2022-03-09T17:42:03.622Z"
   },
   {
    "duration": 6,
    "start_time": "2022-03-09T17:42:03.627Z"
   },
   {
    "duration": 18,
    "start_time": "2022-03-09T17:42:16.161Z"
   },
   {
    "duration": 24,
    "start_time": "2022-03-09T17:44:00.631Z"
   },
   {
    "duration": 20,
    "start_time": "2022-03-09T17:45:13.403Z"
   },
   {
    "duration": 7,
    "start_time": "2022-03-09T17:45:57.085Z"
   },
   {
    "duration": 529,
    "start_time": "2022-03-09T17:47:05.269Z"
   },
   {
    "duration": 58,
    "start_time": "2022-03-09T17:47:05.799Z"
   },
   {
    "duration": 15,
    "start_time": "2022-03-09T17:47:05.858Z"
   },
   {
    "duration": 10,
    "start_time": "2022-03-09T17:47:05.875Z"
   },
   {
    "duration": 8,
    "start_time": "2022-03-09T17:47:05.887Z"
   },
   {
    "duration": 10,
    "start_time": "2022-03-09T17:47:05.896Z"
   },
   {
    "duration": 5,
    "start_time": "2022-03-09T17:47:05.908Z"
   },
   {
    "duration": 11,
    "start_time": "2022-03-09T17:47:05.914Z"
   },
   {
    "duration": 25,
    "start_time": "2022-03-09T17:47:05.927Z"
   },
   {
    "duration": 69,
    "start_time": "2022-03-09T17:47:05.954Z"
   },
   {
    "duration": 3,
    "start_time": "2022-03-09T17:47:06.025Z"
   },
   {
    "duration": 10,
    "start_time": "2022-03-09T17:47:06.029Z"
   },
   {
    "duration": 18,
    "start_time": "2022-03-09T17:47:06.040Z"
   },
   {
    "duration": 5,
    "start_time": "2022-03-09T17:47:06.059Z"
   },
   {
    "duration": 7,
    "start_time": "2022-03-09T17:47:06.065Z"
   },
   {
    "duration": 34,
    "start_time": "2022-03-09T17:47:06.073Z"
   },
   {
    "duration": 22,
    "start_time": "2022-03-09T17:47:06.109Z"
   },
   {
    "duration": 7,
    "start_time": "2022-03-09T17:47:14.198Z"
   },
   {
    "duration": 7,
    "start_time": "2022-03-09T17:47:34.332Z"
   },
   {
    "duration": 6,
    "start_time": "2022-03-09T17:48:43.041Z"
   },
   {
    "duration": 7,
    "start_time": "2022-03-09T17:49:50.238Z"
   },
   {
    "duration": 4,
    "start_time": "2022-03-09T17:52:27.122Z"
   },
   {
    "duration": 3,
    "start_time": "2022-03-09T17:52:30.218Z"
   },
   {
    "duration": 3,
    "start_time": "2022-03-09T17:52:36.981Z"
   },
   {
    "duration": 3,
    "start_time": "2022-03-09T17:52:43.980Z"
   },
   {
    "duration": 495,
    "start_time": "2022-03-09T17:55:31.997Z"
   },
   {
    "duration": 317,
    "start_time": "2022-03-09T17:59:09.297Z"
   },
   {
    "duration": 3,
    "start_time": "2022-03-09T17:59:11.567Z"
   },
   {
    "duration": 264,
    "start_time": "2022-03-09T17:59:29.843Z"
   },
   {
    "duration": 4,
    "start_time": "2022-03-09T18:02:55.458Z"
   },
   {
    "duration": 3,
    "start_time": "2022-03-09T18:02:58.385Z"
   },
   {
    "duration": 3,
    "start_time": "2022-03-09T18:03:08.380Z"
   },
   {
    "duration": 259,
    "start_time": "2022-03-09T18:04:13.257Z"
   },
   {
    "duration": 6,
    "start_time": "2022-03-09T18:04:37.009Z"
   },
   {
    "duration": 3,
    "start_time": "2022-03-09T18:04:39.059Z"
   },
   {
    "duration": 1361,
    "start_time": "2022-03-09T18:04:58.566Z"
   },
   {
    "duration": 63,
    "start_time": "2022-03-09T18:04:59.929Z"
   },
   {
    "duration": 19,
    "start_time": "2022-03-09T18:04:59.994Z"
   },
   {
    "duration": 22,
    "start_time": "2022-03-09T18:05:00.016Z"
   },
   {
    "duration": 12,
    "start_time": "2022-03-09T18:05:00.039Z"
   },
   {
    "duration": 21,
    "start_time": "2022-03-09T18:05:00.053Z"
   },
   {
    "duration": 7,
    "start_time": "2022-03-09T18:05:00.075Z"
   },
   {
    "duration": 27,
    "start_time": "2022-03-09T18:05:00.083Z"
   },
   {
    "duration": 28,
    "start_time": "2022-03-09T18:05:00.113Z"
   },
   {
    "duration": 63,
    "start_time": "2022-03-09T18:05:00.143Z"
   },
   {
    "duration": 4,
    "start_time": "2022-03-09T18:05:00.208Z"
   },
   {
    "duration": 8,
    "start_time": "2022-03-09T18:05:00.214Z"
   },
   {
    "duration": 31,
    "start_time": "2022-03-09T18:05:00.224Z"
   },
   {
    "duration": 12,
    "start_time": "2022-03-09T18:05:00.256Z"
   },
   {
    "duration": 18,
    "start_time": "2022-03-09T18:05:00.270Z"
   },
   {
    "duration": 37,
    "start_time": "2022-03-09T18:05:00.289Z"
   },
   {
    "duration": 24,
    "start_time": "2022-03-09T18:05:00.327Z"
   },
   {
    "duration": 7,
    "start_time": "2022-03-09T18:05:00.353Z"
   },
   {
    "duration": 16,
    "start_time": "2022-03-09T18:05:00.361Z"
   },
   {
    "duration": 9,
    "start_time": "2022-03-09T18:05:00.378Z"
   },
   {
    "duration": 22,
    "start_time": "2022-03-09T18:05:00.389Z"
   },
   {
    "duration": 343,
    "start_time": "2022-03-09T18:05:09.779Z"
   },
   {
    "duration": 20,
    "start_time": "2022-03-09T18:05:24.850Z"
   },
   {
    "duration": 6,
    "start_time": "2022-03-09T18:06:20.689Z"
   },
   {
    "duration": 3,
    "start_time": "2022-03-09T18:06:22.686Z"
   },
   {
    "duration": 3,
    "start_time": "2022-03-09T18:06:29.367Z"
   },
   {
    "duration": 14,
    "start_time": "2022-03-09T18:08:49.384Z"
   },
   {
    "duration": 13,
    "start_time": "2022-03-09T18:09:02.363Z"
   },
   {
    "duration": 7,
    "start_time": "2022-03-09T18:09:05.863Z"
   },
   {
    "duration": 7,
    "start_time": "2022-03-09T18:09:09.007Z"
   },
   {
    "duration": 13,
    "start_time": "2022-03-09T18:09:14.441Z"
   },
   {
    "duration": 6,
    "start_time": "2022-03-09T18:09:19.117Z"
   },
   {
    "duration": 9,
    "start_time": "2022-03-09T18:09:32.774Z"
   },
   {
    "duration": 83,
    "start_time": "2022-03-09T18:10:03.303Z"
   },
   {
    "duration": 236,
    "start_time": "2022-03-09T18:12:26.073Z"
   },
   {
    "duration": 10,
    "start_time": "2022-03-09T18:12:42.564Z"
   },
   {
    "duration": 21,
    "start_time": "2022-03-09T18:13:01.839Z"
   },
   {
    "duration": 8,
    "start_time": "2022-03-09T18:13:24.223Z"
   },
   {
    "duration": 20,
    "start_time": "2022-03-09T18:13:27.344Z"
   },
   {
    "duration": 15,
    "start_time": "2022-03-09T18:13:32.590Z"
   },
   {
    "duration": 255,
    "start_time": "2022-03-09T18:18:10.679Z"
   },
   {
    "duration": 25,
    "start_time": "2022-03-09T18:18:15.952Z"
   },
   {
    "duration": 6,
    "start_time": "2022-03-09T18:18:52.129Z"
   },
   {
    "duration": 7,
    "start_time": "2022-03-09T18:19:27.788Z"
   },
   {
    "duration": 11,
    "start_time": "2022-03-09T18:20:17.872Z"
   },
   {
    "duration": 8,
    "start_time": "2022-03-09T18:20:49.069Z"
   },
   {
    "duration": 8,
    "start_time": "2022-03-09T18:20:57.875Z"
   },
   {
    "duration": 8,
    "start_time": "2022-03-09T18:21:11.842Z"
   },
   {
    "duration": 7,
    "start_time": "2022-03-09T18:22:25.414Z"
   },
   {
    "duration": 7,
    "start_time": "2022-03-09T18:22:30.174Z"
   },
   {
    "duration": 285,
    "start_time": "2022-03-09T18:26:22.694Z"
   },
   {
    "duration": 348,
    "start_time": "2022-03-09T18:26:26.023Z"
   },
   {
    "duration": 294,
    "start_time": "2022-03-09T18:26:34.304Z"
   },
   {
    "duration": 5,
    "start_time": "2022-03-09T18:26:48.500Z"
   },
   {
    "duration": 8,
    "start_time": "2022-03-09T18:31:55.593Z"
   },
   {
    "duration": 7,
    "start_time": "2022-03-09T18:32:40.694Z"
   },
   {
    "duration": 6,
    "start_time": "2022-03-09T18:33:04.109Z"
   },
   {
    "duration": 7,
    "start_time": "2022-03-09T18:33:23.658Z"
   },
   {
    "duration": 11,
    "start_time": "2022-03-09T18:34:02.104Z"
   },
   {
    "duration": 9,
    "start_time": "2022-03-09T18:38:56.773Z"
   },
   {
    "duration": 8,
    "start_time": "2022-03-09T18:39:11.845Z"
   },
   {
    "duration": 7,
    "start_time": "2022-03-09T18:39:29.915Z"
   },
   {
    "duration": 12,
    "start_time": "2022-03-09T18:39:42.058Z"
   },
   {
    "duration": 11,
    "start_time": "2022-03-09T18:39:53.978Z"
   },
   {
    "duration": 9,
    "start_time": "2022-03-09T18:40:03.529Z"
   },
   {
    "duration": 8,
    "start_time": "2022-03-09T18:40:17.442Z"
   },
   {
    "duration": 12,
    "start_time": "2022-03-09T18:40:27.801Z"
   },
   {
    "duration": 11,
    "start_time": "2022-03-09T18:40:31.332Z"
   },
   {
    "duration": 8,
    "start_time": "2022-03-09T18:41:53.354Z"
   },
   {
    "duration": 7,
    "start_time": "2022-03-09T18:41:54.436Z"
   },
   {
    "duration": 7,
    "start_time": "2022-03-09T18:42:00.053Z"
   },
   {
    "duration": 7,
    "start_time": "2022-03-09T18:44:11.784Z"
   },
   {
    "duration": 9,
    "start_time": "2022-03-09T18:44:26.665Z"
   },
   {
    "duration": 10,
    "start_time": "2022-03-09T18:50:57.114Z"
   },
   {
    "duration": 11,
    "start_time": "2022-03-09T18:51:07.531Z"
   },
   {
    "duration": 329,
    "start_time": "2022-03-10T07:25:18.188Z"
   },
   {
    "duration": 317,
    "start_time": "2022-03-10T07:27:32.637Z"
   },
   {
    "duration": 180,
    "start_time": "2022-03-10T07:27:41.893Z"
   },
   {
    "duration": 1073,
    "start_time": "2022-03-10T07:27:53.594Z"
   },
   {
    "duration": 45,
    "start_time": "2022-03-10T07:27:54.669Z"
   },
   {
    "duration": 22,
    "start_time": "2022-03-10T07:27:54.716Z"
   },
   {
    "duration": 12,
    "start_time": "2022-03-10T07:27:54.741Z"
   },
   {
    "duration": 11,
    "start_time": "2022-03-10T07:27:54.755Z"
   },
   {
    "duration": 12,
    "start_time": "2022-03-10T07:27:54.768Z"
   },
   {
    "duration": 7,
    "start_time": "2022-03-10T07:27:54.782Z"
   },
   {
    "duration": 52,
    "start_time": "2022-03-10T07:27:54.792Z"
   },
   {
    "duration": 33,
    "start_time": "2022-03-10T07:27:54.847Z"
   },
   {
    "duration": 76,
    "start_time": "2022-03-10T07:27:54.882Z"
   },
   {
    "duration": 4,
    "start_time": "2022-03-10T07:27:54.959Z"
   },
   {
    "duration": 7,
    "start_time": "2022-03-10T07:27:54.965Z"
   },
   {
    "duration": 22,
    "start_time": "2022-03-10T07:27:54.974Z"
   },
   {
    "duration": 4,
    "start_time": "2022-03-10T07:27:54.998Z"
   },
   {
    "duration": 7,
    "start_time": "2022-03-10T07:27:55.003Z"
   },
   {
    "duration": 24,
    "start_time": "2022-03-10T07:27:55.038Z"
   },
   {
    "duration": 29,
    "start_time": "2022-03-10T07:27:55.064Z"
   },
   {
    "duration": 7,
    "start_time": "2022-03-10T07:27:55.094Z"
   },
   {
    "duration": 37,
    "start_time": "2022-03-10T07:27:55.102Z"
   },
   {
    "duration": 12,
    "start_time": "2022-03-10T07:27:55.140Z"
   },
   {
    "duration": 7,
    "start_time": "2022-03-10T07:27:55.154Z"
   },
   {
    "duration": 15,
    "start_time": "2022-03-10T07:27:55.163Z"
   },
   {
    "duration": 16,
    "start_time": "2022-03-10T07:27:55.181Z"
   },
   {
    "duration": 5,
    "start_time": "2022-03-10T07:27:55.200Z"
   },
   {
    "duration": 39,
    "start_time": "2022-03-10T07:27:55.207Z"
   },
   {
    "duration": 17,
    "start_time": "2022-03-10T07:27:55.248Z"
   },
   {
    "duration": 8,
    "start_time": "2022-03-10T07:27:55.266Z"
   },
   {
    "duration": 13,
    "start_time": "2022-03-10T07:27:55.275Z"
   },
   {
    "duration": 15,
    "start_time": "2022-03-10T07:27:55.289Z"
   },
   {
    "duration": 8,
    "start_time": "2022-03-10T07:27:55.306Z"
   },
   {
    "duration": 10,
    "start_time": "2022-03-10T07:27:55.338Z"
   },
   {
    "duration": 11,
    "start_time": "2022-03-10T07:27:55.350Z"
   },
   {
    "duration": 12,
    "start_time": "2022-03-10T07:27:55.363Z"
   },
   {
    "duration": 23,
    "start_time": "2022-03-10T07:27:55.377Z"
   },
   {
    "duration": 14,
    "start_time": "2022-03-10T07:27:55.402Z"
   },
   {
    "duration": 28,
    "start_time": "2022-03-10T07:27:55.418Z"
   },
   {
    "duration": 10,
    "start_time": "2022-03-10T07:27:55.447Z"
   },
   {
    "duration": 10,
    "start_time": "2022-03-10T07:27:55.458Z"
   },
   {
    "duration": 7,
    "start_time": "2022-03-10T07:27:55.470Z"
   },
   {
    "duration": 10,
    "start_time": "2022-03-10T07:27:55.479Z"
   },
   {
    "duration": 9,
    "start_time": "2022-03-10T07:27:55.490Z"
   },
   {
    "duration": 42,
    "start_time": "2022-03-10T07:27:55.500Z"
   },
   {
    "duration": 406,
    "start_time": "2022-03-10T07:28:04.300Z"
   },
   {
    "duration": 194,
    "start_time": "2022-03-10T07:28:11.374Z"
   },
   {
    "duration": 147,
    "start_time": "2022-03-10T07:29:16.071Z"
   },
   {
    "duration": 7,
    "start_time": "2022-03-10T07:29:35.573Z"
   },
   {
    "duration": 9,
    "start_time": "2022-03-10T07:29:43.498Z"
   },
   {
    "duration": 9,
    "start_time": "2022-03-10T07:29:57.334Z"
   },
   {
    "duration": 9,
    "start_time": "2022-03-10T07:30:17.484Z"
   },
   {
    "duration": 6,
    "start_time": "2022-03-10T07:30:22.430Z"
   },
   {
    "duration": 1165,
    "start_time": "2022-03-10T07:31:06.118Z"
   },
   {
    "duration": 48,
    "start_time": "2022-03-10T07:31:07.285Z"
   },
   {
    "duration": 15,
    "start_time": "2022-03-10T07:31:07.335Z"
   },
   {
    "duration": 19,
    "start_time": "2022-03-10T07:31:07.351Z"
   },
   {
    "duration": 10,
    "start_time": "2022-03-10T07:31:07.371Z"
   },
   {
    "duration": 12,
    "start_time": "2022-03-10T07:31:07.383Z"
   },
   {
    "duration": 15,
    "start_time": "2022-03-10T07:31:07.397Z"
   },
   {
    "duration": 28,
    "start_time": "2022-03-10T07:31:07.414Z"
   },
   {
    "duration": 33,
    "start_time": "2022-03-10T07:31:07.444Z"
   },
   {
    "duration": 77,
    "start_time": "2022-03-10T07:31:07.478Z"
   },
   {
    "duration": 3,
    "start_time": "2022-03-10T07:31:07.557Z"
   },
   {
    "duration": 11,
    "start_time": "2022-03-10T07:31:07.562Z"
   },
   {
    "duration": 24,
    "start_time": "2022-03-10T07:31:07.574Z"
   },
   {
    "duration": 8,
    "start_time": "2022-03-10T07:31:07.600Z"
   },
   {
    "duration": 6,
    "start_time": "2022-03-10T07:31:07.610Z"
   },
   {
    "duration": 39,
    "start_time": "2022-03-10T07:31:07.618Z"
   },
   {
    "duration": 34,
    "start_time": "2022-03-10T07:31:07.659Z"
   },
   {
    "duration": 6,
    "start_time": "2022-03-10T07:31:07.695Z"
   },
   {
    "duration": 8,
    "start_time": "2022-03-10T07:31:07.702Z"
   },
   {
    "duration": 28,
    "start_time": "2022-03-10T07:31:07.711Z"
   },
   {
    "duration": 9,
    "start_time": "2022-03-10T07:31:07.740Z"
   },
   {
    "duration": 18,
    "start_time": "2022-03-10T07:31:07.750Z"
   },
   {
    "duration": 15,
    "start_time": "2022-03-10T07:31:07.771Z"
   },
   {
    "duration": 5,
    "start_time": "2022-03-10T07:31:07.787Z"
   },
   {
    "duration": 12,
    "start_time": "2022-03-10T07:31:07.794Z"
   },
   {
    "duration": 38,
    "start_time": "2022-03-10T07:31:07.808Z"
   },
   {
    "duration": 5,
    "start_time": "2022-03-10T07:31:07.848Z"
   },
   {
    "duration": 12,
    "start_time": "2022-03-10T07:31:07.855Z"
   },
   {
    "duration": 17,
    "start_time": "2022-03-10T07:31:07.868Z"
   },
   {
    "duration": 8,
    "start_time": "2022-03-10T07:31:07.886Z"
   },
   {
    "duration": 43,
    "start_time": "2022-03-10T07:31:07.895Z"
   },
   {
    "duration": 8,
    "start_time": "2022-03-10T07:31:07.940Z"
   },
   {
    "duration": 13,
    "start_time": "2022-03-10T07:31:07.950Z"
   },
   {
    "duration": 14,
    "start_time": "2022-03-10T07:31:07.965Z"
   },
   {
    "duration": 9,
    "start_time": "2022-03-10T07:31:07.980Z"
   },
   {
    "duration": 14,
    "start_time": "2022-03-10T07:31:07.991Z"
   },
   {
    "duration": 39,
    "start_time": "2022-03-10T07:31:08.006Z"
   },
   {
    "duration": 11,
    "start_time": "2022-03-10T07:31:08.047Z"
   },
   {
    "duration": 7,
    "start_time": "2022-03-10T07:31:08.060Z"
   },
   {
    "duration": 10,
    "start_time": "2022-03-10T07:31:08.069Z"
   },
   {
    "duration": 8,
    "start_time": "2022-03-10T07:31:08.081Z"
   },
   {
    "duration": 10,
    "start_time": "2022-03-10T07:31:08.091Z"
   },
   {
    "duration": 10,
    "start_time": "2022-03-10T07:31:15.503Z"
   },
   {
    "duration": 6,
    "start_time": "2022-03-10T07:31:27.905Z"
   },
   {
    "duration": 7,
    "start_time": "2022-03-10T07:31:42.150Z"
   },
   {
    "duration": 7,
    "start_time": "2022-03-10T07:32:03.225Z"
   },
   {
    "duration": 7,
    "start_time": "2022-03-10T07:32:28.424Z"
   },
   {
    "duration": 10,
    "start_time": "2022-03-10T07:32:42.815Z"
   },
   {
    "duration": 5,
    "start_time": "2022-03-10T07:32:46.462Z"
   },
   {
    "duration": 6,
    "start_time": "2022-03-10T07:37:43.498Z"
   },
   {
    "duration": 4,
    "start_time": "2022-03-10T07:40:41.579Z"
   },
   {
    "duration": 14,
    "start_time": "2022-03-10T07:40:52.288Z"
   },
   {
    "duration": 1133,
    "start_time": "2022-03-10T07:43:02.161Z"
   },
   {
    "duration": 47,
    "start_time": "2022-03-10T07:43:03.296Z"
   },
   {
    "duration": 15,
    "start_time": "2022-03-10T07:43:03.345Z"
   },
   {
    "duration": 16,
    "start_time": "2022-03-10T07:43:03.362Z"
   },
   {
    "duration": 14,
    "start_time": "2022-03-10T07:43:03.380Z"
   },
   {
    "duration": 15,
    "start_time": "2022-03-10T07:43:03.396Z"
   },
   {
    "duration": 6,
    "start_time": "2022-03-10T07:43:03.412Z"
   },
   {
    "duration": 16,
    "start_time": "2022-03-10T07:43:03.437Z"
   },
   {
    "duration": 31,
    "start_time": "2022-03-10T07:43:03.456Z"
   },
   {
    "duration": 71,
    "start_time": "2022-03-10T07:43:03.489Z"
   },
   {
    "duration": 4,
    "start_time": "2022-03-10T07:43:03.561Z"
   },
   {
    "duration": 8,
    "start_time": "2022-03-10T07:43:03.566Z"
   },
   {
    "duration": 22,
    "start_time": "2022-03-10T07:43:03.576Z"
   },
   {
    "duration": 4,
    "start_time": "2022-03-10T07:43:03.600Z"
   },
   {
    "duration": 33,
    "start_time": "2022-03-10T07:43:03.606Z"
   },
   {
    "duration": 27,
    "start_time": "2022-03-10T07:43:03.641Z"
   },
   {
    "duration": 35,
    "start_time": "2022-03-10T07:43:03.670Z"
   },
   {
    "duration": 6,
    "start_time": "2022-03-10T07:43:03.706Z"
   },
   {
    "duration": 27,
    "start_time": "2022-03-10T07:43:03.714Z"
   },
   {
    "duration": 11,
    "start_time": "2022-03-10T07:43:03.743Z"
   },
   {
    "duration": 6,
    "start_time": "2022-03-10T07:43:03.755Z"
   },
   {
    "duration": 27,
    "start_time": "2022-03-10T07:43:03.763Z"
   },
   {
    "duration": 15,
    "start_time": "2022-03-10T07:43:03.792Z"
   },
   {
    "duration": 6,
    "start_time": "2022-03-10T07:43:03.808Z"
   },
   {
    "duration": 30,
    "start_time": "2022-03-10T07:43:03.815Z"
   },
   {
    "duration": 17,
    "start_time": "2022-03-10T07:43:03.847Z"
   },
   {
    "duration": 11,
    "start_time": "2022-03-10T07:43:03.867Z"
   },
   {
    "duration": 14,
    "start_time": "2022-03-10T07:43:03.879Z"
   },
   {
    "duration": 18,
    "start_time": "2022-03-10T07:43:03.894Z"
   },
   {
    "duration": 8,
    "start_time": "2022-03-10T07:43:03.939Z"
   },
   {
    "duration": 10,
    "start_time": "2022-03-10T07:43:03.949Z"
   },
   {
    "duration": 8,
    "start_time": "2022-03-10T07:43:03.960Z"
   },
   {
    "duration": 13,
    "start_time": "2022-03-10T07:43:03.970Z"
   },
   {
    "duration": 10,
    "start_time": "2022-03-10T07:43:03.985Z"
   },
   {
    "duration": 46,
    "start_time": "2022-03-10T07:43:03.996Z"
   },
   {
    "duration": 15,
    "start_time": "2022-03-10T07:43:04.044Z"
   },
   {
    "duration": 12,
    "start_time": "2022-03-10T07:43:04.061Z"
   },
   {
    "duration": 12,
    "start_time": "2022-03-10T07:43:04.074Z"
   },
   {
    "duration": 7,
    "start_time": "2022-03-10T07:43:04.087Z"
   },
   {
    "duration": 7,
    "start_time": "2022-03-10T07:43:04.096Z"
   },
   {
    "duration": 38,
    "start_time": "2022-03-10T07:43:04.104Z"
   },
   {
    "duration": 9,
    "start_time": "2022-03-10T07:43:04.144Z"
   },
   {
    "duration": 9,
    "start_time": "2022-03-10T07:43:04.154Z"
   },
   {
    "duration": 7,
    "start_time": "2022-03-10T07:43:04.165Z"
   },
   {
    "duration": 7,
    "start_time": "2022-03-10T07:43:04.173Z"
   },
   {
    "duration": 8,
    "start_time": "2022-03-10T07:43:04.181Z"
   },
   {
    "duration": 4,
    "start_time": "2022-03-10T07:43:04.191Z"
   },
   {
    "duration": 3,
    "start_time": "2022-03-10T07:45:43.899Z"
   },
   {
    "duration": 7,
    "start_time": "2022-03-10T07:47:04.287Z"
   },
   {
    "duration": 220,
    "start_time": "2022-03-10T07:47:23.350Z"
   },
   {
    "duration": 7,
    "start_time": "2022-03-10T07:47:33.865Z"
   },
   {
    "duration": 48,
    "start_time": "2022-03-10T07:51:02.968Z"
   },
   {
    "duration": 127,
    "start_time": "2022-03-10T07:51:28.379Z"
   },
   {
    "duration": 3,
    "start_time": "2022-03-10T07:51:32.411Z"
   },
   {
    "duration": 8,
    "start_time": "2022-03-10T07:51:36.105Z"
   },
   {
    "duration": 4,
    "start_time": "2022-03-10T07:51:37.506Z"
   },
   {
    "duration": 8,
    "start_time": "2022-03-10T07:51:38.341Z"
   },
   {
    "duration": 5,
    "start_time": "2022-03-10T07:51:55.619Z"
   },
   {
    "duration": 5,
    "start_time": "2022-03-10T07:51:56.750Z"
   },
   {
    "duration": 1177,
    "start_time": "2022-03-10T07:52:09.309Z"
   },
   {
    "duration": 80,
    "start_time": "2022-03-10T07:52:10.488Z"
   },
   {
    "duration": 16,
    "start_time": "2022-03-10T07:52:10.570Z"
   },
   {
    "duration": 20,
    "start_time": "2022-03-10T07:52:10.588Z"
   },
   {
    "duration": 34,
    "start_time": "2022-03-10T07:52:10.610Z"
   },
   {
    "duration": 11,
    "start_time": "2022-03-10T07:52:10.646Z"
   },
   {
    "duration": 6,
    "start_time": "2022-03-10T07:52:10.659Z"
   },
   {
    "duration": 16,
    "start_time": "2022-03-10T07:52:10.666Z"
   },
   {
    "duration": 81,
    "start_time": "2022-03-10T07:52:10.684Z"
   },
   {
    "duration": 93,
    "start_time": "2022-03-10T07:52:10.767Z"
   },
   {
    "duration": 4,
    "start_time": "2022-03-10T07:52:10.862Z"
   },
   {
    "duration": 14,
    "start_time": "2022-03-10T07:52:10.868Z"
   },
   {
    "duration": 23,
    "start_time": "2022-03-10T07:52:10.884Z"
   },
   {
    "duration": 4,
    "start_time": "2022-03-10T07:52:10.909Z"
   },
   {
    "duration": 28,
    "start_time": "2022-03-10T07:52:10.914Z"
   },
   {
    "duration": 29,
    "start_time": "2022-03-10T07:52:10.943Z"
   },
   {
    "duration": 31,
    "start_time": "2022-03-10T07:52:10.974Z"
   },
   {
    "duration": 7,
    "start_time": "2022-03-10T07:52:11.006Z"
   },
   {
    "duration": 8,
    "start_time": "2022-03-10T07:52:11.038Z"
   },
   {
    "duration": 8,
    "start_time": "2022-03-10T07:52:11.048Z"
   },
   {
    "duration": 8,
    "start_time": "2022-03-10T07:52:11.058Z"
   },
   {
    "duration": 15,
    "start_time": "2022-03-10T07:52:11.068Z"
   },
   {
    "duration": 15,
    "start_time": "2022-03-10T07:52:11.084Z"
   },
   {
    "duration": 38,
    "start_time": "2022-03-10T07:52:11.100Z"
   },
   {
    "duration": 9,
    "start_time": "2022-03-10T07:52:11.140Z"
   },
   {
    "duration": 14,
    "start_time": "2022-03-10T07:52:11.151Z"
   },
   {
    "duration": 5,
    "start_time": "2022-03-10T07:52:11.168Z"
   },
   {
    "duration": 5,
    "start_time": "2022-03-10T07:52:11.175Z"
   },
   {
    "duration": 14,
    "start_time": "2022-03-10T07:52:11.182Z"
   },
   {
    "duration": 45,
    "start_time": "2022-03-10T07:52:11.198Z"
   },
   {
    "duration": 8,
    "start_time": "2022-03-10T07:52:11.245Z"
   },
   {
    "duration": 11,
    "start_time": "2022-03-10T07:52:11.255Z"
   },
   {
    "duration": 7,
    "start_time": "2022-03-10T07:52:11.268Z"
   },
   {
    "duration": 13,
    "start_time": "2022-03-10T07:52:11.277Z"
   },
   {
    "duration": 9,
    "start_time": "2022-03-10T07:52:11.292Z"
   },
   {
    "duration": 41,
    "start_time": "2022-03-10T07:52:11.303Z"
   },
   {
    "duration": 16,
    "start_time": "2022-03-10T07:52:11.346Z"
   },
   {
    "duration": 12,
    "start_time": "2022-03-10T07:52:11.364Z"
   },
   {
    "duration": 13,
    "start_time": "2022-03-10T07:52:11.378Z"
   },
   {
    "duration": 7,
    "start_time": "2022-03-10T07:52:11.392Z"
   },
   {
    "duration": 38,
    "start_time": "2022-03-10T07:52:11.401Z"
   },
   {
    "duration": 8,
    "start_time": "2022-03-10T07:52:11.440Z"
   },
   {
    "duration": 15,
    "start_time": "2022-03-10T07:52:11.450Z"
   },
   {
    "duration": 14,
    "start_time": "2022-03-10T07:52:11.467Z"
   },
   {
    "duration": 7,
    "start_time": "2022-03-10T07:52:11.483Z"
   },
   {
    "duration": 7,
    "start_time": "2022-03-10T07:52:11.492Z"
   },
   {
    "duration": 44,
    "start_time": "2022-03-10T07:52:11.501Z"
   },
   {
    "duration": 5,
    "start_time": "2022-03-10T07:52:11.547Z"
   },
   {
    "duration": 7,
    "start_time": "2022-03-10T07:52:11.554Z"
   },
   {
    "duration": 3,
    "start_time": "2022-03-10T07:52:11.563Z"
   },
   {
    "duration": 10,
    "start_time": "2022-03-10T07:52:11.568Z"
   },
   {
    "duration": 5,
    "start_time": "2022-03-10T07:52:11.580Z"
   },
   {
    "duration": 13,
    "start_time": "2022-03-10T07:52:11.586Z"
   },
   {
    "duration": 5,
    "start_time": "2022-03-10T07:52:14.158Z"
   },
   {
    "duration": 5,
    "start_time": "2022-03-10T07:52:15.945Z"
   },
   {
    "duration": 4,
    "start_time": "2022-03-10T07:52:23.107Z"
   },
   {
    "duration": 14,
    "start_time": "2022-03-10T07:52:24.466Z"
   },
   {
    "duration": 5,
    "start_time": "2022-03-10T07:52:29.295Z"
   },
   {
    "duration": 7,
    "start_time": "2022-03-10T07:52:30.275Z"
   },
   {
    "duration": 11,
    "start_time": "2022-03-10T07:52:33.133Z"
   },
   {
    "duration": 9,
    "start_time": "2022-03-10T07:52:33.824Z"
   },
   {
    "duration": 5,
    "start_time": "2022-03-10T07:52:36.155Z"
   },
   {
    "duration": 5,
    "start_time": "2022-03-10T07:52:37.441Z"
   },
   {
    "duration": 19,
    "start_time": "2022-03-10T07:52:38.267Z"
   },
   {
    "duration": 18,
    "start_time": "2022-03-10T07:52:39.757Z"
   },
   {
    "duration": 20,
    "start_time": "2022-03-10T07:52:41.010Z"
   },
   {
    "duration": 16,
    "start_time": "2022-03-10T07:52:41.720Z"
   },
   {
    "duration": 9,
    "start_time": "2022-03-10T07:52:45.576Z"
   },
   {
    "duration": 8,
    "start_time": "2022-03-10T07:52:46.561Z"
   },
   {
    "duration": 6,
    "start_time": "2022-03-10T07:52:47.355Z"
   },
   {
    "duration": 9,
    "start_time": "2022-03-10T07:52:48.684Z"
   },
   {
    "duration": 6,
    "start_time": "2022-03-10T07:52:49.669Z"
   },
   {
    "duration": 7,
    "start_time": "2022-03-10T07:52:50.432Z"
   },
   {
    "duration": 6,
    "start_time": "2022-03-10T07:52:51.807Z"
   },
   {
    "duration": 4,
    "start_time": "2022-03-10T07:52:52.640Z"
   },
   {
    "duration": 4,
    "start_time": "2022-03-10T07:52:57.112Z"
   },
   {
    "duration": 4,
    "start_time": "2022-03-10T07:52:58.808Z"
   },
   {
    "duration": 18,
    "start_time": "2022-03-10T07:53:02.252Z"
   },
   {
    "duration": 7,
    "start_time": "2022-03-10T07:53:03.986Z"
   },
   {
    "duration": 20,
    "start_time": "2022-03-10T07:53:08.197Z"
   },
   {
    "duration": 4,
    "start_time": "2022-03-10T07:53:09.942Z"
   },
   {
    "duration": 10,
    "start_time": "2022-03-10T07:53:10.674Z"
   },
   {
    "duration": 7,
    "start_time": "2022-03-10T07:53:11.287Z"
   },
   {
    "duration": 12,
    "start_time": "2022-03-10T07:53:15.053Z"
   },
   {
    "duration": 8,
    "start_time": "2022-03-10T08:50:13.243Z"
   },
   {
    "duration": 7,
    "start_time": "2022-03-10T08:51:04.967Z"
   },
   {
    "duration": 4,
    "start_time": "2022-03-10T08:51:20.528Z"
   },
   {
    "duration": 7,
    "start_time": "2022-03-10T08:51:21.426Z"
   },
   {
    "duration": 10,
    "start_time": "2022-03-10T08:51:22.291Z"
   },
   {
    "duration": 7,
    "start_time": "2022-03-10T08:51:25.716Z"
   },
   {
    "duration": 529,
    "start_time": "2022-03-10T08:51:47.031Z"
   },
   {
    "duration": 3,
    "start_time": "2022-03-10T08:59:28.036Z"
   },
   {
    "duration": 7,
    "start_time": "2022-03-10T09:00:03.290Z"
   },
   {
    "duration": 8,
    "start_time": "2022-03-10T09:00:09.169Z"
   },
   {
    "duration": 8,
    "start_time": "2022-03-10T09:00:54.518Z"
   },
   {
    "duration": 12,
    "start_time": "2022-03-10T09:00:55.766Z"
   },
   {
    "duration": 9,
    "start_time": "2022-03-10T09:01:14.561Z"
   },
   {
    "duration": 16,
    "start_time": "2022-03-10T09:02:07.038Z"
   },
   {
    "duration": 7,
    "start_time": "2022-03-10T09:02:10.516Z"
   },
   {
    "duration": 8,
    "start_time": "2022-03-10T09:02:12.338Z"
   },
   {
    "duration": 162,
    "start_time": "2022-03-10T09:02:25.267Z"
   },
   {
    "duration": 6,
    "start_time": "2022-03-10T09:02:28.301Z"
   },
   {
    "duration": 8,
    "start_time": "2022-03-10T09:02:48.030Z"
   },
   {
    "duration": 7,
    "start_time": "2022-03-10T09:02:48.761Z"
   },
   {
    "duration": 9,
    "start_time": "2022-03-10T09:02:57.086Z"
   },
   {
    "duration": 9,
    "start_time": "2022-03-10T09:02:57.845Z"
   },
   {
    "duration": 1824,
    "start_time": "2022-03-10T19:28:27.519Z"
   },
   {
    "duration": 63,
    "start_time": "2022-03-10T19:28:29.346Z"
   },
   {
    "duration": 23,
    "start_time": "2022-03-10T19:28:29.412Z"
   },
   {
    "duration": 17,
    "start_time": "2022-03-10T19:28:29.438Z"
   },
   {
    "duration": 32,
    "start_time": "2022-03-10T19:28:29.457Z"
   },
   {
    "duration": 15,
    "start_time": "2022-03-10T19:28:29.491Z"
   },
   {
    "duration": 7,
    "start_time": "2022-03-10T19:28:29.509Z"
   },
   {
    "duration": 22,
    "start_time": "2022-03-10T19:28:29.520Z"
   },
   {
    "duration": 86,
    "start_time": "2022-03-10T19:28:29.545Z"
   },
   {
    "duration": 93,
    "start_time": "2022-03-10T19:28:29.633Z"
   },
   {
    "duration": 5,
    "start_time": "2022-03-10T19:28:29.728Z"
   },
   {
    "duration": 26,
    "start_time": "2022-03-10T19:28:29.735Z"
   },
   {
    "duration": 43,
    "start_time": "2022-03-10T19:28:29.764Z"
   },
   {
    "duration": 5,
    "start_time": "2022-03-10T19:28:29.809Z"
   },
   {
    "duration": 10,
    "start_time": "2022-03-10T19:28:29.816Z"
   },
   {
    "duration": 59,
    "start_time": "2022-03-10T19:28:29.829Z"
   },
   {
    "duration": 44,
    "start_time": "2022-03-10T19:28:29.891Z"
   },
   {
    "duration": 9,
    "start_time": "2022-03-10T19:28:29.938Z"
   },
   {
    "duration": 41,
    "start_time": "2022-03-10T19:28:29.949Z"
   },
   {
    "duration": 12,
    "start_time": "2022-03-10T19:28:29.993Z"
   },
   {
    "duration": 11,
    "start_time": "2022-03-10T19:28:30.008Z"
   },
   {
    "duration": 65,
    "start_time": "2022-03-10T19:28:30.022Z"
   },
   {
    "duration": 28,
    "start_time": "2022-03-10T19:28:30.095Z"
   },
   {
    "duration": 9,
    "start_time": "2022-03-10T19:28:30.128Z"
   },
   {
    "duration": 49,
    "start_time": "2022-03-10T19:28:30.140Z"
   },
   {
    "duration": 26,
    "start_time": "2022-03-10T19:28:30.192Z"
   },
   {
    "duration": 20,
    "start_time": "2022-03-10T19:28:30.221Z"
   },
   {
    "duration": 10,
    "start_time": "2022-03-10T19:28:30.243Z"
   },
   {
    "duration": 35,
    "start_time": "2022-03-10T19:28:30.256Z"
   },
   {
    "duration": 24,
    "start_time": "2022-03-10T19:28:30.294Z"
   },
   {
    "duration": 11,
    "start_time": "2022-03-10T19:28:30.321Z"
   },
   {
    "duration": 56,
    "start_time": "2022-03-10T19:28:30.334Z"
   },
   {
    "duration": 25,
    "start_time": "2022-03-10T19:28:30.393Z"
   },
   {
    "duration": 28,
    "start_time": "2022-03-10T19:28:30.421Z"
   },
   {
    "duration": 24,
    "start_time": "2022-03-10T19:28:30.451Z"
   },
   {
    "duration": 19,
    "start_time": "2022-03-10T19:28:30.477Z"
   },
   {
    "duration": 34,
    "start_time": "2022-03-10T19:28:30.499Z"
   },
   {
    "duration": 26,
    "start_time": "2022-03-10T19:28:30.536Z"
   },
   {
    "duration": 31,
    "start_time": "2022-03-10T19:28:30.565Z"
   },
   {
    "duration": 16,
    "start_time": "2022-03-10T19:28:30.599Z"
   },
   {
    "duration": 14,
    "start_time": "2022-03-10T19:28:30.618Z"
   },
   {
    "duration": 22,
    "start_time": "2022-03-10T19:28:30.635Z"
   },
   {
    "duration": 51,
    "start_time": "2022-03-10T19:28:30.659Z"
   },
   {
    "duration": 15,
    "start_time": "2022-03-10T19:28:30.713Z"
   },
   {
    "duration": 42,
    "start_time": "2022-03-10T19:28:30.730Z"
   },
   {
    "duration": 43,
    "start_time": "2022-03-10T19:28:30.775Z"
   },
   {
    "duration": 45,
    "start_time": "2022-03-10T19:28:30.820Z"
   },
   {
    "duration": 25,
    "start_time": "2022-03-10T19:28:30.867Z"
   },
   {
    "duration": 33,
    "start_time": "2022-03-10T19:28:30.894Z"
   },
   {
    "duration": 13,
    "start_time": "2022-03-10T19:28:30.929Z"
   },
   {
    "duration": 28,
    "start_time": "2022-03-10T19:28:30.944Z"
   },
   {
    "duration": 22,
    "start_time": "2022-03-10T19:28:30.974Z"
   },
   {
    "duration": 21,
    "start_time": "2022-03-10T19:28:30.999Z"
   },
   {
    "duration": 8,
    "start_time": "2022-03-10T19:28:31.023Z"
   },
   {
    "duration": 24,
    "start_time": "2022-03-10T19:28:31.033Z"
   },
   {
    "duration": 25,
    "start_time": "2022-03-10T19:28:31.060Z"
   },
   {
    "duration": 43,
    "start_time": "2022-03-10T19:28:31.087Z"
   },
   {
    "duration": 15,
    "start_time": "2022-03-10T19:28:31.133Z"
   },
   {
    "duration": 33,
    "start_time": "2022-03-10T19:28:31.150Z"
   },
   {
    "duration": 32,
    "start_time": "2022-03-10T19:28:31.185Z"
   },
   {
    "duration": 14,
    "start_time": "2022-03-10T19:28:31.220Z"
   },
   {
    "duration": 29,
    "start_time": "2022-03-10T19:28:31.236Z"
   },
   {
    "duration": 17,
    "start_time": "2022-03-10T19:28:31.268Z"
   },
   {
    "duration": 42,
    "start_time": "2022-03-10T19:28:31.287Z"
   },
   {
    "duration": 41,
    "start_time": "2022-03-10T19:28:31.331Z"
   },
   {
    "duration": 32,
    "start_time": "2022-03-10T19:28:31.374Z"
   },
   {
    "duration": 31,
    "start_time": "2022-03-10T19:28:31.409Z"
   },
   {
    "duration": 12,
    "start_time": "2022-03-10T19:28:31.449Z"
   },
   {
    "duration": 29,
    "start_time": "2022-03-10T19:28:31.465Z"
   },
   {
    "duration": 35,
    "start_time": "2022-03-10T19:28:31.497Z"
   },
   {
    "duration": 27,
    "start_time": "2022-03-10T19:28:31.535Z"
   },
   {
    "duration": 22,
    "start_time": "2022-03-10T19:28:31.565Z"
   },
   {
    "duration": 29,
    "start_time": "2022-03-10T19:28:31.590Z"
   },
   {
    "duration": 21,
    "start_time": "2022-03-10T19:28:31.622Z"
   },
   {
    "duration": 20,
    "start_time": "2022-03-10T19:28:31.646Z"
   },
   {
    "duration": 17,
    "start_time": "2022-03-10T19:28:31.669Z"
   },
   {
    "duration": 12,
    "start_time": "2022-03-10T19:28:31.689Z"
   },
   {
    "duration": 46,
    "start_time": "2022-03-10T19:28:31.704Z"
   },
   {
    "duration": 18,
    "start_time": "2022-03-10T19:28:31.753Z"
   },
   {
    "duration": 39,
    "start_time": "2022-03-10T19:28:31.773Z"
   },
   {
    "duration": 24,
    "start_time": "2022-03-10T19:28:31.814Z"
   },
   {
    "duration": 36,
    "start_time": "2022-03-10T19:28:31.841Z"
   },
   {
    "duration": 18,
    "start_time": "2022-03-10T19:28:31.879Z"
   },
   {
    "duration": 29,
    "start_time": "2022-03-10T19:28:31.899Z"
   },
   {
    "duration": 17,
    "start_time": "2022-03-10T19:28:31.931Z"
   },
   {
    "duration": 15,
    "start_time": "2022-03-10T19:28:31.950Z"
   },
   {
    "duration": 34,
    "start_time": "2022-03-10T19:28:31.967Z"
   },
   {
    "duration": 22,
    "start_time": "2022-03-10T19:28:32.003Z"
   },
   {
    "duration": 16,
    "start_time": "2022-03-10T19:28:32.027Z"
   },
   {
    "duration": 1011,
    "start_time": "2022-03-10T19:28:32.045Z"
   },
   {
    "duration": 4,
    "start_time": "2022-03-10T19:28:33.059Z"
   },
   {
    "duration": 29,
    "start_time": "2022-03-10T19:28:33.065Z"
   },
   {
    "duration": 14,
    "start_time": "2022-03-10T19:28:33.096Z"
   },
   {
    "duration": 9,
    "start_time": "2022-03-10T19:28:33.112Z"
   },
   {
    "duration": 22,
    "start_time": "2022-03-10T19:28:33.123Z"
   },
   {
    "duration": 9,
    "start_time": "2022-03-10T19:28:33.188Z"
   },
   {
    "duration": 21,
    "start_time": "2022-03-10T19:28:33.200Z"
   },
   {
    "duration": 271,
    "start_time": "2022-03-10T19:28:33.223Z"
   },
   {
    "duration": 7,
    "start_time": "2022-03-10T19:28:33.496Z"
   },
   {
    "duration": 27,
    "start_time": "2022-03-10T19:28:33.506Z"
   },
   {
    "duration": 12,
    "start_time": "2022-03-10T19:28:33.536Z"
   },
   {
    "duration": 37,
    "start_time": "2022-03-10T19:28:33.551Z"
   },
   {
    "duration": 13,
    "start_time": "2022-03-10T19:28:33.591Z"
   },
   {
    "duration": 6,
    "start_time": "2022-03-10T19:28:40.059Z"
   },
   {
    "duration": 346,
    "start_time": "2022-03-10T19:28:44.344Z"
   },
   {
    "duration": 6,
    "start_time": "2022-03-10T19:28:49.421Z"
   },
   {
    "duration": 10,
    "start_time": "2022-03-10T19:28:56.580Z"
   }
  ],
  "kernelspec": {
   "display_name": "Python 3 (ipykernel)",
   "language": "python",
   "name": "python3"
  },
  "language_info": {
   "codemirror_mode": {
    "name": "ipython",
    "version": 3
   },
   "file_extension": ".py",
   "mimetype": "text/x-python",
   "name": "python",
   "nbconvert_exporter": "python",
   "pygments_lexer": "ipython3",
   "version": "3.9.12"
  },
  "toc": {
   "base_numbering": 1,
   "nav_menu": {},
   "number_sections": true,
   "sideBar": true,
   "skip_h1_title": true,
   "title_cell": "Table of Contents",
   "title_sidebar": "Contents",
   "toc_cell": false,
   "toc_position": {
    "height": "calc(100% - 180px)",
    "left": "10px",
    "top": "150px",
    "width": "317.589px"
   },
   "toc_section_display": true,
   "toc_window_display": true
  }
 },
 "nbformat": 4,
 "nbformat_minor": 5
}
