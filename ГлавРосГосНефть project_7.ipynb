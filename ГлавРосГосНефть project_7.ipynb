{
 "cells": [
  {
   "cell_type": "markdown",
   "metadata": {},
   "source": [
    "<h1>Содержание<span class=\"tocSkip\"></span></h1>\n",
    "<div class=\"toc\"><ul class=\"toc-item\"><li><span><a href=\"#Описание-проекта\" data-toc-modified-id=\"Описание-проекта-0\"><span class=\"toc-item-num\">0&nbsp;&nbsp;</span>Описание проекта</a></span></li><li><span><a href=\"#Изучение-данных-из-файла\" data-toc-modified-id=\"Изучение-данных-из-файла-1\"><span class=\"toc-item-num\">1&nbsp;&nbsp;</span>Изучение данных из файла</a></span></li><li><span><a href=\"#Предобработка-данных\" data-toc-modified-id=\"Предобработка-данных-2\"><span class=\"toc-item-num\">2&nbsp;&nbsp;</span>Предобработка данных</a><li><span><a href=\"#Обучение-модели\" data-toc-modified-id=\"Обучение-модели-3\"><span class=\"toc-item-num\">3&nbsp;&nbsp;</span>Обучение модели</a></span></li><li><span><a href=\"#Расчет-прибыли\" data-toc-modified-id=\"Расчет-прибыли-4\"><span class=\"toc-item-num\">4&nbsp;&nbsp;</span>Расчет прибыли</a><li><span><a href=\"#Расчет-рисков\" data-toc-modified-id=\"Расчет-рисков-5\"><span class=\"toc-item-num\">5&nbsp;&nbsp;</span>Расчет рисков</a></span></li><li><span><a href=\"#Общий-вывод\" data-toc-modified-id=\"Общий-вывод-6\"><span class=\"toc-item-num\">6&nbsp;&nbsp;</span>Общий вывод</a></span></li></ul></div>"
   ]
  },
  {
   "cell_type": "markdown",
   "metadata": {},
   "source": [
    "## Описание проекта\n",
    "\n",
    "**Контекст**. Нужно решить, где бурить новую скважину добывающей компании `«ГлавРосГосНефть»`.\n",
    "\n",
    "Шаги для выбора локации обычно такие:\n",
    "- в избранном регионе собирают характеристики для скважин: качество нефти и объём её запасов;  \n",
    "- строят модель для предсказания объёма запасов в новых скважинах;  \n",
    "- выбирают скважины с самыми высокими оценками значений;  \n",
    "- определяют регион с максимальной суммарной прибылью отобранных скважин.\n",
    "\n",
    "**Цель**: построить модель для определения региона, где добыча принесёт наибольшую прибыль. Проанализировать возможную прибыль и риски техникой `Bootstrap`. \n",
    "\n",
    "**Условия задачи**:\n",
    "* Для обучения модели подходит только линейная регрессия (остальные — недостаточно предсказуемые).  \n",
    "* При разведке региона исследуют 500 точек, из которых с помощью машинного обучения выбирают 200 лучших для разработки.  \n",
    "* Бюджет на разработку скважин в регионе — 10 млрд рублей.  \n",
    "* При нынешних ценах один баррель сырья приносит 450 рублей дохода. Доход с каждой единицы продукта составляет 450 тыс. рублей, поскольку объём указан в тысячах баррелей.  \n",
    "* После оценки рисков нужно оставить лишь те регионы, в которых вероятность убытков меньше 2.5%. Среди них выбирают регион с наибольшей средней прибылью.  \n",
    "\n",
    "### Описание данных\n",
    "Даны три датасета, в которых предоставлены пробы нефти в трёх регионах. Характеристики для каждой скважины в регионе уже известны.\n",
    "\n",
    "Данные о геологоразведки в трех регионах: \n",
    "**Признаки**  \n",
    "* `id` — уникальный идентификатор скважины;\n",
    "* `f0`, `f1`, `f2` — три признака точек (неважно, что они означают, но сами признаки значимы);\n",
    "\n",
    "**Целевой признак**\n",
    "* `product` — объём запасов в скважине (тыс. баррелей)."
   ]
  },
  {
   "cell_type": "markdown",
   "metadata": {},
   "source": [
    "### План  \n",
    "1) Изучу данные. Проведу преобработку данных.  \n",
    "2) Обучу модель линейной регрессии (как уже дано в условиях задачи) и проверю модель для каждого региона.  \n",
    "3) Напишу функцию для расчета прибыли по выбранным скважинам и предсказаниям модели.  \n",
    "4) Посчитаю риски и прибыль для каждого региона с применением техники Bootstrap.  \n"
   ]
  },
  {
   "cell_type": "code",
   "execution_count": 1,
   "metadata": {},
   "outputs": [],
   "source": [
    "# Имопрт библиотек \n",
    "import pandas as pd \n",
    "import numpy as np\n",
    "\n",
    "# для графиков\n",
    "import seaborn as sns\n",
    "from matplotlib import pyplot as plt\n",
    "\n",
    "# импорт моделей \n",
    "from sklearn.linear_model import LinearRegression \n",
    "\n",
    "from sklearn.model_selection import train_test_split\n",
    "from sklearn.preprocessing import StandardScaler \n",
    "\n",
    "# импорт метрик оценки качества моделей\n",
    "from sklearn.metrics import mean_squared_error"
   ]
  },
  {
   "cell_type": "code",
   "execution_count": 2,
   "metadata": {},
   "outputs": [],
   "source": [
    "# два числа после запятой\n",
    "pd.options.display.float_format = '{:,.2f}'.format"
   ]
  },
  {
   "cell_type": "markdown",
   "metadata": {},
   "source": [
    "## Изучение данных из файла"
   ]
  },
  {
   "cell_type": "code",
   "execution_count": 3,
   "metadata": {},
   "outputs": [],
   "source": [
    "# читаем данные\n",
    "try:\n",
    "    data_0 = pd.read_csv('/datasets/geo_data_0.csv')\n",
    "    data_1 = pd.read_csv('/datasets/geo_data_1.csv')\n",
    "    data_2 = pd.read_csv('/datasets/geo_data_2.csv')\n",
    "except:\n",
    "    data_0 = pd.read_csv('geo_data_0.csv')\n",
    "    data_1 = pd.read_csv('geo_data_1.csv')\n",
    "    data_2 = pd.read_csv('geo_data_2.csv')"
   ]
  },
  {
   "cell_type": "code",
   "execution_count": 4,
   "metadata": {},
   "outputs": [
    {
     "data": {
      "text/html": [
       "<div>\n",
       "<style scoped>\n",
       "    .dataframe tbody tr th:only-of-type {\n",
       "        vertical-align: middle;\n",
       "    }\n",
       "\n",
       "    .dataframe tbody tr th {\n",
       "        vertical-align: top;\n",
       "    }\n",
       "\n",
       "    .dataframe thead th {\n",
       "        text-align: right;\n",
       "    }\n",
       "</style>\n",
       "<table border=\"1\" class=\"dataframe\">\n",
       "  <thead>\n",
       "    <tr style=\"text-align: right;\">\n",
       "      <th></th>\n",
       "      <th>id</th>\n",
       "      <th>f0</th>\n",
       "      <th>f1</th>\n",
       "      <th>f2</th>\n",
       "      <th>product</th>\n",
       "    </tr>\n",
       "  </thead>\n",
       "  <tbody>\n",
       "    <tr>\n",
       "      <th>0</th>\n",
       "      <td>txEyH</td>\n",
       "      <td>0.71</td>\n",
       "      <td>-0.50</td>\n",
       "      <td>1.22</td>\n",
       "      <td>105.28</td>\n",
       "    </tr>\n",
       "    <tr>\n",
       "      <th>1</th>\n",
       "      <td>2acmU</td>\n",
       "      <td>1.33</td>\n",
       "      <td>-0.34</td>\n",
       "      <td>4.37</td>\n",
       "      <td>73.04</td>\n",
       "    </tr>\n",
       "    <tr>\n",
       "      <th>2</th>\n",
       "      <td>409Wp</td>\n",
       "      <td>1.02</td>\n",
       "      <td>0.15</td>\n",
       "      <td>1.42</td>\n",
       "      <td>85.27</td>\n",
       "    </tr>\n",
       "    <tr>\n",
       "      <th>3</th>\n",
       "      <td>iJLyR</td>\n",
       "      <td>-0.03</td>\n",
       "      <td>0.14</td>\n",
       "      <td>2.98</td>\n",
       "      <td>168.62</td>\n",
       "    </tr>\n",
       "    <tr>\n",
       "      <th>4</th>\n",
       "      <td>Xdl7t</td>\n",
       "      <td>1.99</td>\n",
       "      <td>0.16</td>\n",
       "      <td>4.75</td>\n",
       "      <td>154.04</td>\n",
       "    </tr>\n",
       "  </tbody>\n",
       "</table>\n",
       "</div>"
      ],
      "text/plain": [
       "      id    f0    f1   f2  product\n",
       "0  txEyH  0.71 -0.50 1.22   105.28\n",
       "1  2acmU  1.33 -0.34 4.37    73.04\n",
       "2  409Wp  1.02  0.15 1.42    85.27\n",
       "3  iJLyR -0.03  0.14 2.98   168.62\n",
       "4  Xdl7t  1.99  0.16 4.75   154.04"
      ]
     },
     "metadata": {},
     "output_type": "display_data"
    },
    {
     "name": "stdout",
     "output_type": "stream",
     "text": [
      "\n",
      "\n",
      "<class 'pandas.core.frame.DataFrame'>\n",
      "RangeIndex: 100000 entries, 0 to 99999\n",
      "Data columns (total 5 columns):\n",
      " #   Column   Non-Null Count   Dtype  \n",
      "---  ------   --------------   -----  \n",
      " 0   id       100000 non-null  object \n",
      " 1   f0       100000 non-null  float64\n",
      " 2   f1       100000 non-null  float64\n",
      " 3   f2       100000 non-null  float64\n",
      " 4   product  100000 non-null  float64\n",
      "dtypes: float64(4), object(1)\n",
      "memory usage: 3.8+ MB\n"
     ]
    },
    {
     "data": {
      "text/plain": [
       "None"
      ]
     },
     "metadata": {},
     "output_type": "display_data"
    }
   ],
   "source": [
    "display(data_0.head())\n",
    "print(\"\\n\")\n",
    "display(data_0.info())"
   ]
  },
  {
   "cell_type": "code",
   "execution_count": 5,
   "metadata": {},
   "outputs": [
    {
     "data": {
      "text/html": [
       "<div>\n",
       "<style scoped>\n",
       "    .dataframe tbody tr th:only-of-type {\n",
       "        vertical-align: middle;\n",
       "    }\n",
       "\n",
       "    .dataframe tbody tr th {\n",
       "        vertical-align: top;\n",
       "    }\n",
       "\n",
       "    .dataframe thead th {\n",
       "        text-align: right;\n",
       "    }\n",
       "</style>\n",
       "<table border=\"1\" class=\"dataframe\">\n",
       "  <thead>\n",
       "    <tr style=\"text-align: right;\">\n",
       "      <th></th>\n",
       "      <th>id</th>\n",
       "      <th>f0</th>\n",
       "      <th>f1</th>\n",
       "      <th>f2</th>\n",
       "      <th>product</th>\n",
       "    </tr>\n",
       "  </thead>\n",
       "  <tbody>\n",
       "    <tr>\n",
       "      <th>0</th>\n",
       "      <td>kBEdx</td>\n",
       "      <td>-15.00</td>\n",
       "      <td>-8.28</td>\n",
       "      <td>-0.01</td>\n",
       "      <td>3.18</td>\n",
       "    </tr>\n",
       "    <tr>\n",
       "      <th>1</th>\n",
       "      <td>62mP7</td>\n",
       "      <td>14.27</td>\n",
       "      <td>-3.48</td>\n",
       "      <td>1.00</td>\n",
       "      <td>26.95</td>\n",
       "    </tr>\n",
       "    <tr>\n",
       "      <th>2</th>\n",
       "      <td>vyE1P</td>\n",
       "      <td>6.26</td>\n",
       "      <td>-5.95</td>\n",
       "      <td>5.00</td>\n",
       "      <td>134.77</td>\n",
       "    </tr>\n",
       "    <tr>\n",
       "      <th>3</th>\n",
       "      <td>KcrkZ</td>\n",
       "      <td>-13.08</td>\n",
       "      <td>-11.51</td>\n",
       "      <td>5.00</td>\n",
       "      <td>137.95</td>\n",
       "    </tr>\n",
       "    <tr>\n",
       "      <th>4</th>\n",
       "      <td>AHL4O</td>\n",
       "      <td>12.70</td>\n",
       "      <td>-8.15</td>\n",
       "      <td>5.00</td>\n",
       "      <td>134.77</td>\n",
       "    </tr>\n",
       "  </tbody>\n",
       "</table>\n",
       "</div>"
      ],
      "text/plain": [
       "      id     f0     f1    f2  product\n",
       "0  kBEdx -15.00  -8.28 -0.01     3.18\n",
       "1  62mP7  14.27  -3.48  1.00    26.95\n",
       "2  vyE1P   6.26  -5.95  5.00   134.77\n",
       "3  KcrkZ -13.08 -11.51  5.00   137.95\n",
       "4  AHL4O  12.70  -8.15  5.00   134.77"
      ]
     },
     "metadata": {},
     "output_type": "display_data"
    },
    {
     "name": "stdout",
     "output_type": "stream",
     "text": [
      "\n",
      "\n",
      "<class 'pandas.core.frame.DataFrame'>\n",
      "RangeIndex: 100000 entries, 0 to 99999\n",
      "Data columns (total 5 columns):\n",
      " #   Column   Non-Null Count   Dtype  \n",
      "---  ------   --------------   -----  \n",
      " 0   id       100000 non-null  object \n",
      " 1   f0       100000 non-null  float64\n",
      " 2   f1       100000 non-null  float64\n",
      " 3   f2       100000 non-null  float64\n",
      " 4   product  100000 non-null  float64\n",
      "dtypes: float64(4), object(1)\n",
      "memory usage: 3.8+ MB\n"
     ]
    },
    {
     "data": {
      "text/plain": [
       "None"
      ]
     },
     "metadata": {},
     "output_type": "display_data"
    }
   ],
   "source": [
    "display(data_1.head())\n",
    "print(\"\\n\")\n",
    "display(data_1.info())"
   ]
  },
  {
   "cell_type": "code",
   "execution_count": 6,
   "metadata": {},
   "outputs": [
    {
     "data": {
      "text/html": [
       "<div>\n",
       "<style scoped>\n",
       "    .dataframe tbody tr th:only-of-type {\n",
       "        vertical-align: middle;\n",
       "    }\n",
       "\n",
       "    .dataframe tbody tr th {\n",
       "        vertical-align: top;\n",
       "    }\n",
       "\n",
       "    .dataframe thead th {\n",
       "        text-align: right;\n",
       "    }\n",
       "</style>\n",
       "<table border=\"1\" class=\"dataframe\">\n",
       "  <thead>\n",
       "    <tr style=\"text-align: right;\">\n",
       "      <th></th>\n",
       "      <th>id</th>\n",
       "      <th>f0</th>\n",
       "      <th>f1</th>\n",
       "      <th>f2</th>\n",
       "      <th>product</th>\n",
       "    </tr>\n",
       "  </thead>\n",
       "  <tbody>\n",
       "    <tr>\n",
       "      <th>0</th>\n",
       "      <td>fwXo0</td>\n",
       "      <td>-1.15</td>\n",
       "      <td>0.96</td>\n",
       "      <td>-0.83</td>\n",
       "      <td>27.76</td>\n",
       "    </tr>\n",
       "    <tr>\n",
       "      <th>1</th>\n",
       "      <td>WJtFt</td>\n",
       "      <td>0.26</td>\n",
       "      <td>0.27</td>\n",
       "      <td>-2.53</td>\n",
       "      <td>56.07</td>\n",
       "    </tr>\n",
       "    <tr>\n",
       "      <th>2</th>\n",
       "      <td>ovLUW</td>\n",
       "      <td>0.19</td>\n",
       "      <td>0.29</td>\n",
       "      <td>-5.59</td>\n",
       "      <td>62.87</td>\n",
       "    </tr>\n",
       "    <tr>\n",
       "      <th>3</th>\n",
       "      <td>q6cA6</td>\n",
       "      <td>2.24</td>\n",
       "      <td>-0.55</td>\n",
       "      <td>0.93</td>\n",
       "      <td>114.57</td>\n",
       "    </tr>\n",
       "    <tr>\n",
       "      <th>4</th>\n",
       "      <td>WPMUX</td>\n",
       "      <td>-0.52</td>\n",
       "      <td>1.72</td>\n",
       "      <td>5.90</td>\n",
       "      <td>149.60</td>\n",
       "    </tr>\n",
       "  </tbody>\n",
       "</table>\n",
       "</div>"
      ],
      "text/plain": [
       "      id    f0    f1    f2  product\n",
       "0  fwXo0 -1.15  0.96 -0.83    27.76\n",
       "1  WJtFt  0.26  0.27 -2.53    56.07\n",
       "2  ovLUW  0.19  0.29 -5.59    62.87\n",
       "3  q6cA6  2.24 -0.55  0.93   114.57\n",
       "4  WPMUX -0.52  1.72  5.90   149.60"
      ]
     },
     "metadata": {},
     "output_type": "display_data"
    },
    {
     "name": "stdout",
     "output_type": "stream",
     "text": [
      "\n",
      "\n",
      "<class 'pandas.core.frame.DataFrame'>\n",
      "RangeIndex: 100000 entries, 0 to 99999\n",
      "Data columns (total 5 columns):\n",
      " #   Column   Non-Null Count   Dtype  \n",
      "---  ------   --------------   -----  \n",
      " 0   id       100000 non-null  object \n",
      " 1   f0       100000 non-null  float64\n",
      " 2   f1       100000 non-null  float64\n",
      " 3   f2       100000 non-null  float64\n",
      " 4   product  100000 non-null  float64\n",
      "dtypes: float64(4), object(1)\n",
      "memory usage: 3.8+ MB\n"
     ]
    },
    {
     "data": {
      "text/plain": [
       "None"
      ]
     },
     "metadata": {},
     "output_type": "display_data"
    }
   ],
   "source": [
    "display(data_2.head())\n",
    "print(\"\\n\")\n",
    "display(data_2.info())"
   ]
  },
  {
   "cell_type": "code",
   "execution_count": 7,
   "metadata": {},
   "outputs": [
    {
     "name": "stdout",
     "output_type": "stream",
     "text": [
      "Число дублей по 'id' в первом регионе: 10\n",
      "Число дублей по 'id' во втором регионе: 4\n",
      "Число дублей по 'id' в третьем регионе: 4\n"
     ]
    }
   ],
   "source": [
    "print(\"Число дублей по 'id' в первом регионе:\", data_0['id'].duplicated().sum())\n",
    "print(\"Число дублей по 'id' во втором регионе:\", data_1['id'].duplicated().sum())\n",
    "print(\"Число дублей по 'id' в третьем регионе:\", data_2['id'].duplicated().sum())"
   ]
  },
  {
   "cell_type": "markdown",
   "metadata": {},
   "source": [
    "**Краткие выводы**\n",
    "\n",
    "Даны три датсета. В каждом датасете предоставлены пробы нефти по трем признакам и объемы запасов в каждой скважине. \n",
    "\n",
    "В датасетах есть дубли по `id` скважин. Можем ближе посмотреть на дубли."
   ]
  },
  {
   "cell_type": "code",
   "execution_count": 8,
   "metadata": {},
   "outputs": [
    {
     "data": {
      "text/html": [
       "<div>\n",
       "<style scoped>\n",
       "    .dataframe tbody tr th:only-of-type {\n",
       "        vertical-align: middle;\n",
       "    }\n",
       "\n",
       "    .dataframe tbody tr th {\n",
       "        vertical-align: top;\n",
       "    }\n",
       "\n",
       "    .dataframe thead th {\n",
       "        text-align: right;\n",
       "    }\n",
       "</style>\n",
       "<table border=\"1\" class=\"dataframe\">\n",
       "  <thead>\n",
       "    <tr style=\"text-align: right;\">\n",
       "      <th></th>\n",
       "      <th>id</th>\n",
       "      <th>f0</th>\n",
       "      <th>f1</th>\n",
       "      <th>f2</th>\n",
       "      <th>product</th>\n",
       "    </tr>\n",
       "  </thead>\n",
       "  <tbody>\n",
       "    <tr>\n",
       "      <th>7530</th>\n",
       "      <td>HZww2</td>\n",
       "      <td>1.06</td>\n",
       "      <td>-0.37</td>\n",
       "      <td>10.43</td>\n",
       "      <td>158.83</td>\n",
       "    </tr>\n",
       "    <tr>\n",
       "      <th>41724</th>\n",
       "      <td>bxg6G</td>\n",
       "      <td>-0.82</td>\n",
       "      <td>0.55</td>\n",
       "      <td>3.63</td>\n",
       "      <td>93.01</td>\n",
       "    </tr>\n",
       "    <tr>\n",
       "      <th>51970</th>\n",
       "      <td>A5aEY</td>\n",
       "      <td>-0.18</td>\n",
       "      <td>0.94</td>\n",
       "      <td>-2.09</td>\n",
       "      <td>33.02</td>\n",
       "    </tr>\n",
       "    <tr>\n",
       "      <th>63593</th>\n",
       "      <td>QcMuo</td>\n",
       "      <td>0.64</td>\n",
       "      <td>-0.47</td>\n",
       "      <td>0.86</td>\n",
       "      <td>64.58</td>\n",
       "    </tr>\n",
       "    <tr>\n",
       "      <th>66136</th>\n",
       "      <td>74z30</td>\n",
       "      <td>1.08</td>\n",
       "      <td>-0.31</td>\n",
       "      <td>6.99</td>\n",
       "      <td>127.64</td>\n",
       "    </tr>\n",
       "    <tr>\n",
       "      <th>69163</th>\n",
       "      <td>AGS9W</td>\n",
       "      <td>-0.93</td>\n",
       "      <td>0.12</td>\n",
       "      <td>-3.66</td>\n",
       "      <td>19.23</td>\n",
       "    </tr>\n",
       "    <tr>\n",
       "      <th>75715</th>\n",
       "      <td>Tdehs</td>\n",
       "      <td>0.11</td>\n",
       "      <td>0.43</td>\n",
       "      <td>3.22</td>\n",
       "      <td>60.96</td>\n",
       "    </tr>\n",
       "    <tr>\n",
       "      <th>90815</th>\n",
       "      <td>fiKDv</td>\n",
       "      <td>0.05</td>\n",
       "      <td>0.84</td>\n",
       "      <td>6.39</td>\n",
       "      <td>137.35</td>\n",
       "    </tr>\n",
       "    <tr>\n",
       "      <th>92341</th>\n",
       "      <td>TtcGQ</td>\n",
       "      <td>0.11</td>\n",
       "      <td>1.02</td>\n",
       "      <td>0.91</td>\n",
       "      <td>101.32</td>\n",
       "    </tr>\n",
       "    <tr>\n",
       "      <th>97785</th>\n",
       "      <td>bsk9y</td>\n",
       "      <td>0.38</td>\n",
       "      <td>0.01</td>\n",
       "      <td>0.16</td>\n",
       "      <td>160.64</td>\n",
       "    </tr>\n",
       "  </tbody>\n",
       "</table>\n",
       "</div>"
      ],
      "text/plain": [
       "          id    f0    f1    f2  product\n",
       "7530   HZww2  1.06 -0.37 10.43   158.83\n",
       "41724  bxg6G -0.82  0.55  3.63    93.01\n",
       "51970  A5aEY -0.18  0.94 -2.09    33.02\n",
       "63593  QcMuo  0.64 -0.47  0.86    64.58\n",
       "66136  74z30  1.08 -0.31  6.99   127.64\n",
       "69163  AGS9W -0.93  0.12 -3.66    19.23\n",
       "75715  Tdehs  0.11  0.43  3.22    60.96\n",
       "90815  fiKDv  0.05  0.84  6.39   137.35\n",
       "92341  TtcGQ  0.11  1.02  0.91   101.32\n",
       "97785  bsk9y  0.38  0.01  0.16   160.64"
      ]
     },
     "execution_count": 8,
     "metadata": {},
     "output_type": "execute_result"
    }
   ],
   "source": [
    "data_0.loc[data_0['id'].duplicated()]"
   ]
  },
  {
   "cell_type": "code",
   "execution_count": 9,
   "metadata": {},
   "outputs": [
    {
     "data": {
      "text/html": [
       "<div>\n",
       "<style scoped>\n",
       "    .dataframe tbody tr th:only-of-type {\n",
       "        vertical-align: middle;\n",
       "    }\n",
       "\n",
       "    .dataframe tbody tr th {\n",
       "        vertical-align: top;\n",
       "    }\n",
       "\n",
       "    .dataframe thead th {\n",
       "        text-align: right;\n",
       "    }\n",
       "</style>\n",
       "<table border=\"1\" class=\"dataframe\">\n",
       "  <thead>\n",
       "    <tr style=\"text-align: right;\">\n",
       "      <th></th>\n",
       "      <th>id</th>\n",
       "      <th>f0</th>\n",
       "      <th>f1</th>\n",
       "      <th>f2</th>\n",
       "      <th>product</th>\n",
       "    </tr>\n",
       "  </thead>\n",
       "  <tbody>\n",
       "    <tr>\n",
       "      <th>931</th>\n",
       "      <td>HZww2</td>\n",
       "      <td>0.76</td>\n",
       "      <td>0.37</td>\n",
       "      <td>1.86</td>\n",
       "      <td>30.68</td>\n",
       "    </tr>\n",
       "    <tr>\n",
       "      <th>7530</th>\n",
       "      <td>HZww2</td>\n",
       "      <td>1.06</td>\n",
       "      <td>-0.37</td>\n",
       "      <td>10.43</td>\n",
       "      <td>158.83</td>\n",
       "    </tr>\n",
       "  </tbody>\n",
       "</table>\n",
       "</div>"
      ],
      "text/plain": [
       "         id   f0    f1    f2  product\n",
       "931   HZww2 0.76  0.37  1.86    30.68\n",
       "7530  HZww2 1.06 -0.37 10.43   158.83"
      ]
     },
     "execution_count": 9,
     "metadata": {},
     "output_type": "execute_result"
    }
   ],
   "source": [
    "data_0.loc[data_0['id'] == 'HZww2']"
   ]
  },
  {
   "cell_type": "code",
   "execution_count": 10,
   "metadata": {},
   "outputs": [
    {
     "data": {
      "text/html": [
       "<div>\n",
       "<style scoped>\n",
       "    .dataframe tbody tr th:only-of-type {\n",
       "        vertical-align: middle;\n",
       "    }\n",
       "\n",
       "    .dataframe tbody tr th {\n",
       "        vertical-align: top;\n",
       "    }\n",
       "\n",
       "    .dataframe thead th {\n",
       "        text-align: right;\n",
       "    }\n",
       "</style>\n",
       "<table border=\"1\" class=\"dataframe\">\n",
       "  <thead>\n",
       "    <tr style=\"text-align: right;\">\n",
       "      <th></th>\n",
       "      <th>id</th>\n",
       "      <th>f0</th>\n",
       "      <th>f1</th>\n",
       "      <th>f2</th>\n",
       "      <th>product</th>\n",
       "    </tr>\n",
       "  </thead>\n",
       "  <tbody>\n",
       "    <tr>\n",
       "      <th>1364</th>\n",
       "      <td>bxg6G</td>\n",
       "      <td>0.41</td>\n",
       "      <td>0.86</td>\n",
       "      <td>-3.65</td>\n",
       "      <td>73.60</td>\n",
       "    </tr>\n",
       "    <tr>\n",
       "      <th>41724</th>\n",
       "      <td>bxg6G</td>\n",
       "      <td>-0.82</td>\n",
       "      <td>0.55</td>\n",
       "      <td>3.63</td>\n",
       "      <td>93.01</td>\n",
       "    </tr>\n",
       "  </tbody>\n",
       "</table>\n",
       "</div>"
      ],
      "text/plain": [
       "          id    f0   f1    f2  product\n",
       "1364   bxg6G  0.41 0.86 -3.65    73.60\n",
       "41724  bxg6G -0.82 0.55  3.63    93.01"
      ]
     },
     "execution_count": 10,
     "metadata": {},
     "output_type": "execute_result"
    }
   ],
   "source": [
    "data_0.loc[data_0['id'] == 'bxg6G']"
   ]
  },
  {
   "cell_type": "code",
   "execution_count": 11,
   "metadata": {},
   "outputs": [
    {
     "data": {
      "text/html": [
       "<div>\n",
       "<style scoped>\n",
       "    .dataframe tbody tr th:only-of-type {\n",
       "        vertical-align: middle;\n",
       "    }\n",
       "\n",
       "    .dataframe tbody tr th {\n",
       "        vertical-align: top;\n",
       "    }\n",
       "\n",
       "    .dataframe thead th {\n",
       "        text-align: right;\n",
       "    }\n",
       "</style>\n",
       "<table border=\"1\" class=\"dataframe\">\n",
       "  <thead>\n",
       "    <tr style=\"text-align: right;\">\n",
       "      <th></th>\n",
       "      <th>id</th>\n",
       "      <th>f0</th>\n",
       "      <th>f1</th>\n",
       "      <th>f2</th>\n",
       "      <th>product</th>\n",
       "    </tr>\n",
       "  </thead>\n",
       "  <tbody>\n",
       "    <tr>\n",
       "      <th>3389</th>\n",
       "      <td>A5aEY</td>\n",
       "      <td>-0.04</td>\n",
       "      <td>0.16</td>\n",
       "      <td>0.21</td>\n",
       "      <td>89.25</td>\n",
       "    </tr>\n",
       "    <tr>\n",
       "      <th>51970</th>\n",
       "      <td>A5aEY</td>\n",
       "      <td>-0.18</td>\n",
       "      <td>0.94</td>\n",
       "      <td>-2.09</td>\n",
       "      <td>33.02</td>\n",
       "    </tr>\n",
       "  </tbody>\n",
       "</table>\n",
       "</div>"
      ],
      "text/plain": [
       "          id    f0   f1    f2  product\n",
       "3389   A5aEY -0.04 0.16  0.21    89.25\n",
       "51970  A5aEY -0.18 0.94 -2.09    33.02"
      ]
     },
     "execution_count": 11,
     "metadata": {},
     "output_type": "execute_result"
    }
   ],
   "source": [
    "data_0.loc[data_0['id'] == 'A5aEY']"
   ]
  },
  {
   "cell_type": "code",
   "execution_count": 12,
   "metadata": {},
   "outputs": [
    {
     "data": {
      "text/html": [
       "<div>\n",
       "<style scoped>\n",
       "    .dataframe tbody tr th:only-of-type {\n",
       "        vertical-align: middle;\n",
       "    }\n",
       "\n",
       "    .dataframe tbody tr th {\n",
       "        vertical-align: top;\n",
       "    }\n",
       "\n",
       "    .dataframe thead th {\n",
       "        text-align: right;\n",
       "    }\n",
       "</style>\n",
       "<table border=\"1\" class=\"dataframe\">\n",
       "  <thead>\n",
       "    <tr style=\"text-align: right;\">\n",
       "      <th></th>\n",
       "      <th>id</th>\n",
       "      <th>f0</th>\n",
       "      <th>f1</th>\n",
       "      <th>f2</th>\n",
       "      <th>product</th>\n",
       "    </tr>\n",
       "  </thead>\n",
       "  <tbody>\n",
       "    <tr>\n",
       "      <th>41906</th>\n",
       "      <td>LHZR0</td>\n",
       "      <td>-8.99</td>\n",
       "      <td>-4.29</td>\n",
       "      <td>2.01</td>\n",
       "      <td>57.09</td>\n",
       "    </tr>\n",
       "    <tr>\n",
       "      <th>82178</th>\n",
       "      <td>bfPNe</td>\n",
       "      <td>-6.20</td>\n",
       "      <td>-4.82</td>\n",
       "      <td>3.00</td>\n",
       "      <td>84.04</td>\n",
       "    </tr>\n",
       "    <tr>\n",
       "      <th>82873</th>\n",
       "      <td>wt4Uk</td>\n",
       "      <td>10.26</td>\n",
       "      <td>-9.38</td>\n",
       "      <td>4.99</td>\n",
       "      <td>134.77</td>\n",
       "    </tr>\n",
       "    <tr>\n",
       "      <th>84461</th>\n",
       "      <td>5ltQ6</td>\n",
       "      <td>18.21</td>\n",
       "      <td>2.19</td>\n",
       "      <td>3.99</td>\n",
       "      <td>107.81</td>\n",
       "    </tr>\n",
       "  </tbody>\n",
       "</table>\n",
       "</div>"
      ],
      "text/plain": [
       "          id    f0    f1   f2  product\n",
       "41906  LHZR0 -8.99 -4.29 2.01    57.09\n",
       "82178  bfPNe -6.20 -4.82 3.00    84.04\n",
       "82873  wt4Uk 10.26 -9.38 4.99   134.77\n",
       "84461  5ltQ6 18.21  2.19 3.99   107.81"
      ]
     },
     "execution_count": 12,
     "metadata": {},
     "output_type": "execute_result"
    }
   ],
   "source": [
    "data_1.loc[data_1['id'].duplicated()]"
   ]
  },
  {
   "cell_type": "code",
   "execution_count": 13,
   "metadata": {},
   "outputs": [
    {
     "data": {
      "text/html": [
       "<div>\n",
       "<style scoped>\n",
       "    .dataframe tbody tr th:only-of-type {\n",
       "        vertical-align: middle;\n",
       "    }\n",
       "\n",
       "    .dataframe tbody tr th {\n",
       "        vertical-align: top;\n",
       "    }\n",
       "\n",
       "    .dataframe thead th {\n",
       "        text-align: right;\n",
       "    }\n",
       "</style>\n",
       "<table border=\"1\" class=\"dataframe\">\n",
       "  <thead>\n",
       "    <tr style=\"text-align: right;\">\n",
       "      <th></th>\n",
       "      <th>id</th>\n",
       "      <th>f0</th>\n",
       "      <th>f1</th>\n",
       "      <th>f2</th>\n",
       "      <th>product</th>\n",
       "    </tr>\n",
       "  </thead>\n",
       "  <tbody>\n",
       "    <tr>\n",
       "      <th>1305</th>\n",
       "      <td>LHZR0</td>\n",
       "      <td>11.17</td>\n",
       "      <td>-1.95</td>\n",
       "      <td>3.00</td>\n",
       "      <td>80.86</td>\n",
       "    </tr>\n",
       "    <tr>\n",
       "      <th>41906</th>\n",
       "      <td>LHZR0</td>\n",
       "      <td>-8.99</td>\n",
       "      <td>-4.29</td>\n",
       "      <td>2.01</td>\n",
       "      <td>57.09</td>\n",
       "    </tr>\n",
       "  </tbody>\n",
       "</table>\n",
       "</div>"
      ],
      "text/plain": [
       "          id    f0    f1   f2  product\n",
       "1305   LHZR0 11.17 -1.95 3.00    80.86\n",
       "41906  LHZR0 -8.99 -4.29 2.01    57.09"
      ]
     },
     "execution_count": 13,
     "metadata": {},
     "output_type": "execute_result"
    }
   ],
   "source": [
    "data_1.loc[data_1['id'] == \"LHZR0\"]"
   ]
  },
  {
   "cell_type": "code",
   "execution_count": 14,
   "metadata": {},
   "outputs": [
    {
     "data": {
      "text/html": [
       "<div>\n",
       "<style scoped>\n",
       "    .dataframe tbody tr th:only-of-type {\n",
       "        vertical-align: middle;\n",
       "    }\n",
       "\n",
       "    .dataframe tbody tr th {\n",
       "        vertical-align: top;\n",
       "    }\n",
       "\n",
       "    .dataframe thead th {\n",
       "        text-align: right;\n",
       "    }\n",
       "</style>\n",
       "<table border=\"1\" class=\"dataframe\">\n",
       "  <thead>\n",
       "    <tr style=\"text-align: right;\">\n",
       "      <th></th>\n",
       "      <th>id</th>\n",
       "      <th>f0</th>\n",
       "      <th>f1</th>\n",
       "      <th>f2</th>\n",
       "      <th>product</th>\n",
       "    </tr>\n",
       "  </thead>\n",
       "  <tbody>\n",
       "    <tr>\n",
       "      <th>47591</th>\n",
       "      <td>wt4Uk</td>\n",
       "      <td>-9.09</td>\n",
       "      <td>-8.11</td>\n",
       "      <td>-0.00</td>\n",
       "      <td>3.18</td>\n",
       "    </tr>\n",
       "    <tr>\n",
       "      <th>82873</th>\n",
       "      <td>wt4Uk</td>\n",
       "      <td>10.26</td>\n",
       "      <td>-9.38</td>\n",
       "      <td>4.99</td>\n",
       "      <td>134.77</td>\n",
       "    </tr>\n",
       "  </tbody>\n",
       "</table>\n",
       "</div>"
      ],
      "text/plain": [
       "          id    f0    f1    f2  product\n",
       "47591  wt4Uk -9.09 -8.11 -0.00     3.18\n",
       "82873  wt4Uk 10.26 -9.38  4.99   134.77"
      ]
     },
     "execution_count": 14,
     "metadata": {},
     "output_type": "execute_result"
    }
   ],
   "source": [
    "data_1.loc[data_1['id'] == \"wt4Uk\"]"
   ]
  },
  {
   "cell_type": "code",
   "execution_count": 15,
   "metadata": {},
   "outputs": [
    {
     "data": {
      "text/html": [
       "<div>\n",
       "<style scoped>\n",
       "    .dataframe tbody tr th:only-of-type {\n",
       "        vertical-align: middle;\n",
       "    }\n",
       "\n",
       "    .dataframe tbody tr th {\n",
       "        vertical-align: top;\n",
       "    }\n",
       "\n",
       "    .dataframe thead th {\n",
       "        text-align: right;\n",
       "    }\n",
       "</style>\n",
       "<table border=\"1\" class=\"dataframe\">\n",
       "  <thead>\n",
       "    <tr style=\"text-align: right;\">\n",
       "      <th></th>\n",
       "      <th>id</th>\n",
       "      <th>f0</th>\n",
       "      <th>f1</th>\n",
       "      <th>f2</th>\n",
       "      <th>product</th>\n",
       "    </tr>\n",
       "  </thead>\n",
       "  <tbody>\n",
       "    <tr>\n",
       "      <th>43233</th>\n",
       "      <td>xCHr8</td>\n",
       "      <td>-0.85</td>\n",
       "      <td>2.10</td>\n",
       "      <td>5.60</td>\n",
       "      <td>184.39</td>\n",
       "    </tr>\n",
       "    <tr>\n",
       "      <th>49564</th>\n",
       "      <td>VF7Jo</td>\n",
       "      <td>-0.88</td>\n",
       "      <td>0.56</td>\n",
       "      <td>0.72</td>\n",
       "      <td>136.23</td>\n",
       "    </tr>\n",
       "    <tr>\n",
       "      <th>55967</th>\n",
       "      <td>KUPhW</td>\n",
       "      <td>1.21</td>\n",
       "      <td>3.18</td>\n",
       "      <td>5.54</td>\n",
       "      <td>132.83</td>\n",
       "    </tr>\n",
       "    <tr>\n",
       "      <th>95090</th>\n",
       "      <td>Vcm5J</td>\n",
       "      <td>2.59</td>\n",
       "      <td>1.99</td>\n",
       "      <td>2.48</td>\n",
       "      <td>92.33</td>\n",
       "    </tr>\n",
       "  </tbody>\n",
       "</table>\n",
       "</div>"
      ],
      "text/plain": [
       "          id    f0   f1   f2  product\n",
       "43233  xCHr8 -0.85 2.10 5.60   184.39\n",
       "49564  VF7Jo -0.88 0.56 0.72   136.23\n",
       "55967  KUPhW  1.21 3.18 5.54   132.83\n",
       "95090  Vcm5J  2.59 1.99 2.48    92.33"
      ]
     },
     "execution_count": 15,
     "metadata": {},
     "output_type": "execute_result"
    }
   ],
   "source": [
    "data_2.loc[data_2['id'].duplicated()]"
   ]
  },
  {
   "cell_type": "code",
   "execution_count": 16,
   "metadata": {},
   "outputs": [
    {
     "data": {
      "text/html": [
       "<div>\n",
       "<style scoped>\n",
       "    .dataframe tbody tr th:only-of-type {\n",
       "        vertical-align: middle;\n",
       "    }\n",
       "\n",
       "    .dataframe tbody tr th {\n",
       "        vertical-align: top;\n",
       "    }\n",
       "\n",
       "    .dataframe thead th {\n",
       "        text-align: right;\n",
       "    }\n",
       "</style>\n",
       "<table border=\"1\" class=\"dataframe\">\n",
       "  <thead>\n",
       "    <tr style=\"text-align: right;\">\n",
       "      <th></th>\n",
       "      <th>id</th>\n",
       "      <th>f0</th>\n",
       "      <th>f1</th>\n",
       "      <th>f2</th>\n",
       "      <th>product</th>\n",
       "    </tr>\n",
       "  </thead>\n",
       "  <tbody>\n",
       "    <tr>\n",
       "      <th>28039</th>\n",
       "      <td>xCHr8</td>\n",
       "      <td>1.63</td>\n",
       "      <td>0.37</td>\n",
       "      <td>-2.38</td>\n",
       "      <td>6.12</td>\n",
       "    </tr>\n",
       "    <tr>\n",
       "      <th>43233</th>\n",
       "      <td>xCHr8</td>\n",
       "      <td>-0.85</td>\n",
       "      <td>2.10</td>\n",
       "      <td>5.60</td>\n",
       "      <td>184.39</td>\n",
       "    </tr>\n",
       "  </tbody>\n",
       "</table>\n",
       "</div>"
      ],
      "text/plain": [
       "          id    f0   f1    f2  product\n",
       "28039  xCHr8  1.63 0.37 -2.38     6.12\n",
       "43233  xCHr8 -0.85 2.10  5.60   184.39"
      ]
     },
     "execution_count": 16,
     "metadata": {},
     "output_type": "execute_result"
    }
   ],
   "source": [
    "data_2.loc[data_2['id'] == \"xCHr8\"]"
   ]
  },
  {
   "cell_type": "code",
   "execution_count": 17,
   "metadata": {},
   "outputs": [
    {
     "data": {
      "text/html": [
       "<div>\n",
       "<style scoped>\n",
       "    .dataframe tbody tr th:only-of-type {\n",
       "        vertical-align: middle;\n",
       "    }\n",
       "\n",
       "    .dataframe tbody tr th {\n",
       "        vertical-align: top;\n",
       "    }\n",
       "\n",
       "    .dataframe thead th {\n",
       "        text-align: right;\n",
       "    }\n",
       "</style>\n",
       "<table border=\"1\" class=\"dataframe\">\n",
       "  <thead>\n",
       "    <tr style=\"text-align: right;\">\n",
       "      <th></th>\n",
       "      <th>id</th>\n",
       "      <th>f0</th>\n",
       "      <th>f1</th>\n",
       "      <th>f2</th>\n",
       "      <th>product</th>\n",
       "    </tr>\n",
       "  </thead>\n",
       "  <tbody>\n",
       "    <tr>\n",
       "      <th>66136</th>\n",
       "      <td>74z30</td>\n",
       "      <td>1.08</td>\n",
       "      <td>-0.31</td>\n",
       "      <td>6.99</td>\n",
       "      <td>127.64</td>\n",
       "    </tr>\n",
       "    <tr>\n",
       "      <th>64022</th>\n",
       "      <td>74z30</td>\n",
       "      <td>0.74</td>\n",
       "      <td>0.46</td>\n",
       "      <td>5.15</td>\n",
       "      <td>140.77</td>\n",
       "    </tr>\n",
       "    <tr>\n",
       "      <th>51970</th>\n",
       "      <td>A5aEY</td>\n",
       "      <td>-0.18</td>\n",
       "      <td>0.94</td>\n",
       "      <td>-2.09</td>\n",
       "      <td>33.02</td>\n",
       "    </tr>\n",
       "    <tr>\n",
       "      <th>3389</th>\n",
       "      <td>A5aEY</td>\n",
       "      <td>-0.04</td>\n",
       "      <td>0.16</td>\n",
       "      <td>0.21</td>\n",
       "      <td>89.25</td>\n",
       "    </tr>\n",
       "    <tr>\n",
       "      <th>69163</th>\n",
       "      <td>AGS9W</td>\n",
       "      <td>-0.93</td>\n",
       "      <td>0.12</td>\n",
       "      <td>-3.66</td>\n",
       "      <td>19.23</td>\n",
       "    </tr>\n",
       "    <tr>\n",
       "      <th>42529</th>\n",
       "      <td>AGS9W</td>\n",
       "      <td>1.45</td>\n",
       "      <td>-0.48</td>\n",
       "      <td>0.68</td>\n",
       "      <td>126.37</td>\n",
       "    </tr>\n",
       "    <tr>\n",
       "      <th>931</th>\n",
       "      <td>HZww2</td>\n",
       "      <td>0.76</td>\n",
       "      <td>0.37</td>\n",
       "      <td>1.86</td>\n",
       "      <td>30.68</td>\n",
       "    </tr>\n",
       "    <tr>\n",
       "      <th>7530</th>\n",
       "      <td>HZww2</td>\n",
       "      <td>1.06</td>\n",
       "      <td>-0.37</td>\n",
       "      <td>10.43</td>\n",
       "      <td>158.83</td>\n",
       "    </tr>\n",
       "    <tr>\n",
       "      <th>63593</th>\n",
       "      <td>QcMuo</td>\n",
       "      <td>0.64</td>\n",
       "      <td>-0.47</td>\n",
       "      <td>0.86</td>\n",
       "      <td>64.58</td>\n",
       "    </tr>\n",
       "    <tr>\n",
       "      <th>1949</th>\n",
       "      <td>QcMuo</td>\n",
       "      <td>0.51</td>\n",
       "      <td>-0.32</td>\n",
       "      <td>-2.22</td>\n",
       "      <td>75.50</td>\n",
       "    </tr>\n",
       "    <tr>\n",
       "      <th>75715</th>\n",
       "      <td>Tdehs</td>\n",
       "      <td>0.11</td>\n",
       "      <td>0.43</td>\n",
       "      <td>3.22</td>\n",
       "      <td>60.96</td>\n",
       "    </tr>\n",
       "    <tr>\n",
       "      <th>21426</th>\n",
       "      <td>Tdehs</td>\n",
       "      <td>0.83</td>\n",
       "      <td>0.30</td>\n",
       "      <td>-0.05</td>\n",
       "      <td>96.04</td>\n",
       "    </tr>\n",
       "    <tr>\n",
       "      <th>92341</th>\n",
       "      <td>TtcGQ</td>\n",
       "      <td>0.11</td>\n",
       "      <td>1.02</td>\n",
       "      <td>0.91</td>\n",
       "      <td>101.32</td>\n",
       "    </tr>\n",
       "    <tr>\n",
       "      <th>60140</th>\n",
       "      <td>TtcGQ</td>\n",
       "      <td>0.57</td>\n",
       "      <td>-0.10</td>\n",
       "      <td>6.44</td>\n",
       "      <td>85.35</td>\n",
       "    </tr>\n",
       "    <tr>\n",
       "      <th>89582</th>\n",
       "      <td>bsk9y</td>\n",
       "      <td>0.40</td>\n",
       "      <td>-0.40</td>\n",
       "      <td>10.12</td>\n",
       "      <td>163.43</td>\n",
       "    </tr>\n",
       "    <tr>\n",
       "      <th>97785</th>\n",
       "      <td>bsk9y</td>\n",
       "      <td>0.38</td>\n",
       "      <td>0.01</td>\n",
       "      <td>0.16</td>\n",
       "      <td>160.64</td>\n",
       "    </tr>\n",
       "    <tr>\n",
       "      <th>41724</th>\n",
       "      <td>bxg6G</td>\n",
       "      <td>-0.82</td>\n",
       "      <td>0.55</td>\n",
       "      <td>3.63</td>\n",
       "      <td>93.01</td>\n",
       "    </tr>\n",
       "    <tr>\n",
       "      <th>1364</th>\n",
       "      <td>bxg6G</td>\n",
       "      <td>0.41</td>\n",
       "      <td>0.86</td>\n",
       "      <td>-3.65</td>\n",
       "      <td>73.60</td>\n",
       "    </tr>\n",
       "    <tr>\n",
       "      <th>16633</th>\n",
       "      <td>fiKDv</td>\n",
       "      <td>0.16</td>\n",
       "      <td>1.03</td>\n",
       "      <td>5.59</td>\n",
       "      <td>95.82</td>\n",
       "    </tr>\n",
       "    <tr>\n",
       "      <th>90815</th>\n",
       "      <td>fiKDv</td>\n",
       "      <td>0.05</td>\n",
       "      <td>0.84</td>\n",
       "      <td>6.39</td>\n",
       "      <td>137.35</td>\n",
       "    </tr>\n",
       "  </tbody>\n",
       "</table>\n",
       "</div>"
      ],
      "text/plain": [
       "          id    f0    f1    f2  product\n",
       "66136  74z30  1.08 -0.31  6.99   127.64\n",
       "64022  74z30  0.74  0.46  5.15   140.77\n",
       "51970  A5aEY -0.18  0.94 -2.09    33.02\n",
       "3389   A5aEY -0.04  0.16  0.21    89.25\n",
       "69163  AGS9W -0.93  0.12 -3.66    19.23\n",
       "42529  AGS9W  1.45 -0.48  0.68   126.37\n",
       "931    HZww2  0.76  0.37  1.86    30.68\n",
       "7530   HZww2  1.06 -0.37 10.43   158.83\n",
       "63593  QcMuo  0.64 -0.47  0.86    64.58\n",
       "1949   QcMuo  0.51 -0.32 -2.22    75.50\n",
       "75715  Tdehs  0.11  0.43  3.22    60.96\n",
       "21426  Tdehs  0.83  0.30 -0.05    96.04\n",
       "92341  TtcGQ  0.11  1.02  0.91   101.32\n",
       "60140  TtcGQ  0.57 -0.10  6.44    85.35\n",
       "89582  bsk9y  0.40 -0.40 10.12   163.43\n",
       "97785  bsk9y  0.38  0.01  0.16   160.64\n",
       "41724  bxg6G -0.82  0.55  3.63    93.01\n",
       "1364   bxg6G  0.41  0.86 -3.65    73.60\n",
       "16633  fiKDv  0.16  1.03  5.59    95.82\n",
       "90815  fiKDv  0.05  0.84  6.39   137.35"
      ]
     },
     "execution_count": 17,
     "metadata": {},
     "output_type": "execute_result"
    }
   ],
   "source": [
    "###Код ревьюера\n",
    "data_0.loc[data_0['id'].duplicated(keep=False)].sort_values('id')"
   ]
  },
  {
   "cell_type": "markdown",
   "metadata": {},
   "source": [
    "**Краткие выводы**\n",
    "\n",
    "В общем, какие-то странные дубли. Избавимся от дублей."
   ]
  },
  {
   "cell_type": "code",
   "execution_count": 18,
   "metadata": {},
   "outputs": [],
   "source": [
    "data_0 = data_0.drop_duplicates(subset=['id']).reset_index(drop=True)\n",
    "data_1 = data_1.drop_duplicates(subset=['id']).reset_index(drop=True)\n",
    "data_2 = data_2.drop_duplicates(subset=['id']).reset_index(drop=True)"
   ]
  },
  {
   "cell_type": "code",
   "execution_count": 19,
   "metadata": {},
   "outputs": [
    {
     "name": "stdout",
     "output_type": "stream",
     "text": [
      "Число дублей по 'id' в первом регионе: 0\n",
      "Число дублей по 'id' во втором регионе: 0\n",
      "Число дублей по 'id' в третьем регионе: 0\n"
     ]
    }
   ],
   "source": [
    "print(\"Число дублей по 'id' в первом регионе:\", data_0['id'].duplicated().sum())\n",
    "print(\"Число дублей по 'id' во втором регионе:\", data_1['id'].duplicated().sum())\n",
    "print(\"Число дублей по 'id' в третьем регионе:\", data_2['id'].duplicated().sum())"
   ]
  },
  {
   "cell_type": "markdown",
   "metadata": {},
   "source": [
    "<div class=\"alert alert-success\">\n",
    "\n",
    "**Комментарий ревьюера ✔️:**\n",
    "    \n",
    "Хорошо, что не забываешь проверять данные на дубликаты!"
   ]
  },
  {
   "cell_type": "markdown",
   "metadata": {},
   "source": [
    "Избавились от дублей. \n",
    "\n",
    "Теперь рассмотрим распределения признаков и на корреляции между ними.  "
   ]
  },
  {
   "cell_type": "code",
   "execution_count": 20,
   "metadata": {},
   "outputs": [
    {
     "data": {
      "image/png": "[encoded data removed]",
      "text/plain": [
       "<Figure size 1080x288 with 3 Axes>"
      ]
     },
     "metadata": {},
     "output_type": "display_data"
    }
   ],
   "source": [
    "# посмотрим на распределения первого датасета\n",
    "\n",
    "sns.set_theme(style=\"ticks\")\n",
    "fig, axes = plt.subplots(1, 3, figsize=(15,4))\n",
    "\n",
    "axes[0].hist(x=data_0[['f0']])\n",
    "axes[0].set_title('Feature_1')\n",
    "\n",
    "axes[1].hist(x=data_0[['f1']]) \n",
    "axes[1].set_title('Feature_2')\n",
    "\n",
    "axes[2].hist(x=data_0[['f2']]) \n",
    "axes[2].set_title('Feature_3')\n",
    "\n",
    "plt.show()"
   ]
  },
  {
   "cell_type": "markdown",
   "metadata": {},
   "source": [
    "**Краткий вывод**\n",
    "\n",
    "Разный масштаб данных, нужно будет привезти к единому масштабу. Распределение третьего признака похоже на нормальное. Распределение первого признака напоминает нормальное, но в определенными аномальными значениями, а распределение третьего больше похоже на равномерное, если не учитывать крайня распределения."
   ]
  },
  {
   "cell_type": "code",
   "execution_count": 21,
   "metadata": {},
   "outputs": [
    {
     "data": {
      "image/png": "[encoded data removed]",
      "text/plain": [
       "<Figure size 1080x288 with 3 Axes>"
      ]
     },
     "metadata": {},
     "output_type": "display_data"
    }
   ],
   "source": [
    "# посмотрим на распределения второго датасета\n",
    "\n",
    "sns.set_theme(style=\"ticks\")\n",
    "fig, axes = plt.subplots(1, 3, figsize=(15,4))\n",
    "\n",
    "axes[0].hist(x=data_1[['f0']])\n",
    "axes[0].set_title('Feature_1')\n",
    "\n",
    "axes[1].hist(x=data_1[['f1']]) \n",
    "axes[1].set_title('Feature_2')\n",
    "\n",
    "axes[2].hist(x=data_1[['f2']]) \n",
    "axes[2].set_title('Feature_3')\n",
    "\n",
    "plt.show()"
   ]
  },
  {
   "cell_type": "markdown",
   "metadata": {},
   "source": [
    "**Краткий вывод**\n",
    "\n",
    "Разный масштаб данных, который нужно будет приводить к единому. Распределение первого и второго признаков похожи на нормальное. "
   ]
  },
  {
   "cell_type": "code",
   "execution_count": 22,
   "metadata": {},
   "outputs": [
    {
     "data": {
      "image/png": "[encoded data removed]",
      "text/plain": [
       "<Figure size 1080x288 with 3 Axes>"
      ]
     },
     "metadata": {},
     "output_type": "display_data"
    }
   ],
   "source": [
    "# посмотрим на распределения третьего датасета\n",
    "\n",
    "sns.set_theme(style=\"ticks\")\n",
    "fig, axes = plt.subplots(1, 3, figsize=(15,4))\n",
    "\n",
    "axes[0].hist(x=data_2[['f0']])\n",
    "axes[0].set_title('Feature_1')\n",
    "\n",
    "axes[1].hist(x=data_2[['f1']]) \n",
    "axes[1].set_title('Feature_2')\n",
    "\n",
    "axes[2].hist(x=data_2[['f2']]) \n",
    "axes[2].set_title('Feature_3')\n",
    "\n",
    "plt.show()"
   ]
  },
  {
   "cell_type": "markdown",
   "metadata": {},
   "source": [
    "**Краткий вывод**\n",
    "\n",
    "Распределения похожи на нормальные. Разный масштаб данных.\n",
    "\n",
    "Рассмотрим **корреляции** между признаками."
   ]
  },
  {
   "cell_type": "code",
   "execution_count": 23,
   "metadata": {},
   "outputs": [
    {
     "data": {
      "image/png": "[encoded data removed]",
      "text/plain": [
       "<Figure size 648x648 with 16 Axes>"
      ]
     },
     "metadata": {},
     "output_type": "display_data"
    }
   ],
   "source": [
    "# матрица корреляций data_0\n",
    "(\n",
    "    pd.plotting\n",
    "    .scatter_matrix(data_0.drop('id', axis=1), \n",
    "                    figsize=(9, 9))\n",
    ");"
   ]
  },
  {
   "cell_type": "code",
   "execution_count": 24,
   "metadata": {},
   "outputs": [
    {
     "data": {
      "image/png": "[encoded data removed]",
      "text/plain": [
       "<Figure size 360x360 with 2 Axes>"
      ]
     },
     "metadata": {},
     "output_type": "display_data"
    }
   ],
   "source": [
    "plt.figure(figsize=(5,5))\n",
    "(\n",
    "    sns.heatmap(data_0.drop('id', axis=1)\n",
    "                .corr(), \n",
    "                annot=True, \n",
    "                cmap=\"Blues\", \n",
    "                fmt='.2f', \n",
    "                annot_kws={'size':16})\n",
    ");"
   ]
  },
  {
   "cell_type": "markdown",
   "metadata": {},
   "source": [
    "**Краткие выводы**\n",
    "\n",
    "Линейные корреляции между признаками практически отсутствуют. Может быть существует нелинейная связь между первым (`f0`) и вторым (`f1`) признаками. \n",
    "Наблюдается слабая связь между целевым признаком и третьим признаком (`f2`)"
   ]
  },
  {
   "cell_type": "code",
   "execution_count": 25,
   "metadata": {},
   "outputs": [
    {
     "data": {
      "image/png": "[encoded data removed]",
      "text/plain": [
       "<Figure size 648x648 with 16 Axes>"
      ]
     },
     "metadata": {},
     "output_type": "display_data"
    }
   ],
   "source": [
    "# матрица корреляций data_1\n",
    "(\n",
    "    pd.plotting\n",
    "    .scatter_matrix(data_1.drop('id', axis=1), \n",
    "                    figsize=(9, 9))\n",
    ");"
   ]
  },
  {
   "cell_type": "code",
   "execution_count": 26,
   "metadata": {},
   "outputs": [
    {
     "data": {
      "image/png": "[encoded data removed]",
      "text/plain": [
       "<Figure size 360x360 with 2 Axes>"
      ]
     },
     "metadata": {},
     "output_type": "display_data"
    }
   ],
   "source": [
    "plt.figure(figsize=(5,5))\n",
    "(\n",
    "    sns.heatmap(data_1.drop('id', axis=1)\n",
    "                .corr(), \n",
    "                annot=True, \n",
    "                cmap=\"Blues\", \n",
    "                fmt='.2f', \n",
    "                annot_kws={'size':16})\n",
    ");"
   ]
  },
  {
   "cell_type": "markdown",
   "metadata": {},
   "source": [
    "**Краткий вывод**\n",
    "\n",
    "Между признаками отсутствует линейная связь. Любопытно, что обнаружена сильная линейная положительная связь между третьим (`f2`) и целевым признаками.  "
   ]
  },
  {
   "cell_type": "code",
   "execution_count": 27,
   "metadata": {},
   "outputs": [
    {
     "data": {
      "image/png": "[encoded data removed]",
      "text/plain": [
       "<Figure size 648x648 with 16 Axes>"
      ]
     },
     "metadata": {},
     "output_type": "display_data"
    }
   ],
   "source": [
    "# матрица корреляций data_2\n",
    "(\n",
    "    pd.plotting\n",
    "    .scatter_matrix(data_2.drop('id', axis=1), \n",
    "                    figsize=(9, 9))\n",
    ");"
   ]
  },
  {
   "cell_type": "code",
   "execution_count": 28,
   "metadata": {},
   "outputs": [
    {
     "data": {
      "image/png": "[encoded data removed]",
      "text/plain": [
       "<Figure size 360x360 with 2 Axes>"
      ]
     },
     "metadata": {},
     "output_type": "display_data"
    }
   ],
   "source": [
    "plt.figure(figsize=(5,5))\n",
    "(\n",
    "    sns.heatmap(data_2.drop('id', axis=1)\n",
    "                .corr(), \n",
    "                annot=True, \n",
    "                cmap=\"Blues\", \n",
    "                fmt='.2f', \n",
    "                annot_kws={'size':16})\n",
    ");"
   ]
  },
  {
   "cell_type": "markdown",
   "metadata": {},
   "source": [
    "**Краткий вывод**\n",
    "\n",
    "Здесь, так же, как и выше, отсутсвуют линейные связи между признаками. Обнаржена слабая связь между третьим (`f2`) и целевым признаками. "
   ]
  },
  {
   "cell_type": "markdown",
   "metadata": {},
   "source": [
    "## Предобработка данных \n",
    "\n",
    "### Выбросы\n",
    "\n",
    "Посмотрим на разброс в данных, чтобы понять есть ли сильные аномалии в данных и стоит ли избавиться от выбросов."
   ]
  },
  {
   "cell_type": "code",
   "execution_count": 29,
   "metadata": {},
   "outputs": [
    {
     "data": {
      "image/png": "[encoded data removed]",
      "text/plain": [
       "<Figure size 432x288 with 1 Axes>"
      ]
     },
     "metadata": {},
     "output_type": "display_data"
    }
   ],
   "source": [
    "data_0.drop(['id', 'product'], axis=1).boxplot();"
   ]
  },
  {
   "cell_type": "code",
   "execution_count": 30,
   "metadata": {},
   "outputs": [
    {
     "data": {
      "image/png": "[encoded data removed]",
      "text/plain": [
       "<Figure size 432x288 with 1 Axes>"
      ]
     },
     "metadata": {},
     "output_type": "display_data"
    }
   ],
   "source": [
    "data_0[['product']].boxplot();"
   ]
  },
  {
   "cell_type": "code",
   "execution_count": 31,
   "metadata": {},
   "outputs": [
    {
     "data": {
      "image/png": "[encoded data removed]",
      "text/plain": [
       "<Figure size 432x288 with 1 Axes>"
      ]
     },
     "metadata": {},
     "output_type": "display_data"
    }
   ],
   "source": [
    "data_1.drop(['id', 'product'], axis=1).boxplot();"
   ]
  },
  {
   "cell_type": "code",
   "execution_count": 32,
   "metadata": {},
   "outputs": [
    {
     "data": {
      "image/png": "[encoded data removed]",
      "text/plain": [
       "<Figure size 432x288 with 1 Axes>"
      ]
     },
     "metadata": {},
     "output_type": "display_data"
    }
   ],
   "source": [
    "data_1[['product']].boxplot();"
   ]
  },
  {
   "cell_type": "code",
   "execution_count": 33,
   "metadata": {},
   "outputs": [
    {
     "data": {
      "image/png": "[encoded data removed]",
      "text/plain": [
       "<Figure size 432x288 with 1 Axes>"
      ]
     },
     "metadata": {},
     "output_type": "display_data"
    }
   ],
   "source": [
    "data_2.drop(['id', 'product'], axis=1).boxplot();"
   ]
  },
  {
   "cell_type": "code",
   "execution_count": 34,
   "metadata": {},
   "outputs": [
    {
     "data": {
      "image/png": "[encoded data removed]",
      "text/plain": [
       "<Figure size 432x288 with 1 Axes>"
      ]
     },
     "metadata": {},
     "output_type": "display_data"
    }
   ],
   "source": [
    "data_2[['product']].boxplot();"
   ]
  },
  {
   "cell_type": "markdown",
   "metadata": {},
   "source": [
    "В данных присутствуют выбросы, однако нельзя сказать, что совсем аномальные. Удалять выбросы не будем. "
   ]
  },
  {
   "cell_type": "markdown",
   "metadata": {},
   "source": [
    "### Масштабирование данных\n",
    "\n",
    "Итак, масштабируем наши переменные при помощи `StandardScaler`\n",
    "\n",
    "\n",
    "Перед масштабированием разделим выборку на обучающую и валидационную в соотношении 75:25 (как указано в условии задания).\n",
    "\n",
    "\n"
   ]
  },
  {
   "cell_type": "code",
   "execution_count": 35,
   "metadata": {},
   "outputs": [],
   "source": [
    "# разделим выборку на обучающую и валидационную data_0\n",
    "target_0 = data_0['product']\n",
    "features_0 = data_0.drop(['id', 'product'], axis=1)\n",
    "features_train_0, features_valid_0, target_train_0, target_valid_0 = train_test_split(\n",
    "    features_0, target_0, test_size=0.25, random_state=12345)"
   ]
  },
  {
   "cell_type": "code",
   "execution_count": 36,
   "metadata": {},
   "outputs": [],
   "source": [
    "# разделим выборку на обучающую и валидационную data_1\n",
    "target_1 = data_1['product']\n",
    "features_1 = data_1.drop(['id', 'product'], axis=1)\n",
    "features_train_1, features_valid_1, target_train_1, target_valid_1 = train_test_split(\n",
    "    features_1, target_1, test_size=0.25, random_state=12345)"
   ]
  },
  {
   "cell_type": "code",
   "execution_count": 37,
   "metadata": {},
   "outputs": [],
   "source": [
    "# разделим выборку на обучающую и валидационную data_2\n",
    "target_2 = data_2['product']\n",
    "features_2 = data_2.drop(['id', 'product'], axis=1)\n",
    "features_train_2, features_valid_2, target_train_2, target_valid_2 = train_test_split(\n",
    "    features_2, target_2, test_size=0.25, random_state=12345)"
   ]
  },
  {
   "cell_type": "code",
   "execution_count": 38,
   "metadata": {},
   "outputs": [],
   "source": [
    "# стандартизируем выборку data_0\n",
    "scaler_0 = StandardScaler()\n",
    "scaler_0.fit(features_train_0) \n",
    "features_train_0 = scaler_0.transform(features_train_0)\n",
    "\n",
    "# преобразуем валидационную и тренировочную выборки\n",
    "features_valid_0 = scaler_0.transform(features_valid_0)"
   ]
  },
  {
   "cell_type": "code",
   "execution_count": 39,
   "metadata": {},
   "outputs": [],
   "source": [
    "# стандартизируем выборку data_1\n",
    "scaler_1 = StandardScaler()\n",
    "scaler_1.fit(features_train_1) \n",
    "features_train_1 = scaler_1.transform(features_train_1)\n",
    "\n",
    "# преобразуем валидационную и тренировочную выборки\n",
    "features_valid_1 = scaler_1.transform(features_valid_1)"
   ]
  },
  {
   "cell_type": "code",
   "execution_count": 40,
   "metadata": {},
   "outputs": [],
   "source": [
    "# стандартизируем выборку data_2\n",
    "scaler_2 = StandardScaler()\n",
    "scaler_2.fit(features_train_2) \n",
    "features_train_2 = scaler_2.transform(features_train_2)\n",
    "\n",
    "# преобразуем валидационную и тренировочную выборки\n",
    "features_valid_2 = scaler_2.transform(features_valid_2)"
   ]
  },
  {
   "cell_type": "markdown",
   "metadata": {},
   "source": [
    "Данные машстабированы. Перейдем к обучению модели. \n",
    "\n",
    "\n",
    "## Обучение модели"
   ]
  },
  {
   "cell_type": "code",
   "execution_count": 41,
   "metadata": {},
   "outputs": [],
   "source": [
    "model = LinearRegression()"
   ]
  },
  {
   "cell_type": "code",
   "execution_count": 42,
   "metadata": {},
   "outputs": [
    {
     "name": "stdout",
     "output_type": "stream",
     "text": [
      "Средний запас предсказанного сырья: 92.78915638280621\n",
      "RMSE = 37.853527328872964\n"
     ]
    }
   ],
   "source": [
    "# обучение модели в первом регионе\n",
    "model.fit(features_train_0, target_train_0)\n",
    "predicted_valid_0 = model.predict(features_valid_0)\n",
    "mse = mean_squared_error(target_valid_0, predicted_valid_0)\n",
    "\n",
    "print('Средний запас предсказанного сырья:', predicted_valid_0.mean())\n",
    "print(\"RMSE =\", mse ** 0.5)"
   ]
  },
  {
   "cell_type": "code",
   "execution_count": 43,
   "metadata": {},
   "outputs": [],
   "source": [
    "# сохраним предсказанные по значения по валидационной выборке и целевые показатели в отдельный датасет\n",
    "target_0 = pd.DataFrame(target_valid_0)\n",
    "target_0['predicted_valid'] = model.predict(features_valid_0)"
   ]
  },
  {
   "cell_type": "code",
   "execution_count": 44,
   "metadata": {},
   "outputs": [
    {
     "name": "stdout",
     "output_type": "stream",
     "text": [
      "Средний запас предсказанного сырья: 69.1783195703043\n",
      "RMSE = 0.8920592647717033\n"
     ]
    }
   ],
   "source": [
    "# обучение модели в первом регионе\n",
    "model.fit(features_train_1, target_train_1)\n",
    "predicted_valid_1 = model.predict(features_valid_1)\n",
    "mse = mean_squared_error(target_valid_1, predicted_valid_1)\n",
    "\n",
    "print('Средний запас предсказанного сырья:', predicted_valid_1.mean())\n",
    "print(\"RMSE =\", mse ** 0.5)"
   ]
  },
  {
   "cell_type": "code",
   "execution_count": 45,
   "metadata": {},
   "outputs": [],
   "source": [
    "# сохраним предсказанные по значения по валидационной выборке и целевые показатели в отдельный датасет\n",
    "target_1 = pd.DataFrame(target_valid_1)\n",
    "target_1['predicted_valid'] = model.predict(features_valid_1)"
   ]
  },
  {
   "cell_type": "code",
   "execution_count": 46,
   "metadata": {},
   "outputs": [
    {
     "name": "stdout",
     "output_type": "stream",
     "text": [
      "Средний запас предсказанного сырья: 94.86572480562035\n",
      "RMSE = 40.07585073246016\n"
     ]
    }
   ],
   "source": [
    "# обучение модели в первом регионе\n",
    "model.fit(features_train_2, target_train_2)\n",
    "predicted_valid_2 = model.predict(features_valid_2)\n",
    "mse = mean_squared_error(target_valid_2, predicted_valid_2)\n",
    "\n",
    "print('Средний запас предсказанного сырья:', predicted_valid_2.mean())\n",
    "print(\"RMSE =\", mse ** 0.5)"
   ]
  },
  {
   "cell_type": "code",
   "execution_count": 47,
   "metadata": {},
   "outputs": [],
   "source": [
    "# сохраним предсказанные по значения по валидационной выборке и целевые показатели в отдельный датасет\n",
    "target_2 = pd.DataFrame(target_valid_2)\n",
    "target_2['predicted_valid'] = model.predict(features_valid_2)"
   ]
  },
  {
   "cell_type": "code",
   "execution_count": 48,
   "metadata": {},
   "outputs": [
    {
     "data": {
      "text/html": [
       "<div>\n",
       "<style scoped>\n",
       "    .dataframe tbody tr th:only-of-type {\n",
       "        vertical-align: middle;\n",
       "    }\n",
       "\n",
       "    .dataframe tbody tr th {\n",
       "        vertical-align: top;\n",
       "    }\n",
       "\n",
       "    .dataframe thead th {\n",
       "        text-align: right;\n",
       "    }\n",
       "</style>\n",
       "<table border=\"1\" class=\"dataframe\">\n",
       "  <thead>\n",
       "    <tr style=\"text-align: right;\">\n",
       "      <th></th>\n",
       "      <th>product</th>\n",
       "      <th>predicted_valid</th>\n",
       "    </tr>\n",
       "  </thead>\n",
       "  <tbody>\n",
       "    <tr>\n",
       "      <th>49466</th>\n",
       "      <td>123.57</td>\n",
       "      <td>103.95</td>\n",
       "    </tr>\n",
       "    <tr>\n",
       "      <th>55493</th>\n",
       "      <td>63.44</td>\n",
       "      <td>73.69</td>\n",
       "    </tr>\n",
       "    <tr>\n",
       "      <th>11689</th>\n",
       "      <td>88.72</td>\n",
       "      <td>101.02</td>\n",
       "    </tr>\n",
       "    <tr>\n",
       "      <th>13769</th>\n",
       "      <td>51.42</td>\n",
       "      <td>94.05</td>\n",
       "    </tr>\n",
       "    <tr>\n",
       "      <th>72389</th>\n",
       "      <td>102.57</td>\n",
       "      <td>87.56</td>\n",
       "    </tr>\n",
       "  </tbody>\n",
       "</table>\n",
       "</div>"
      ],
      "text/plain": [
       "       product  predicted_valid\n",
       "49466   123.57           103.95\n",
       "55493    63.44            73.69\n",
       "11689    88.72           101.02\n",
       "13769    51.42            94.05\n",
       "72389   102.57            87.56"
      ]
     },
     "execution_count": 48,
     "metadata": {},
     "output_type": "execute_result"
    }
   ],
   "source": [
    "target_0.head()"
   ]
  },
  {
   "cell_type": "code",
   "execution_count": 49,
   "metadata": {},
   "outputs": [
    {
     "data": {
      "text/html": [
       "<div>\n",
       "<style scoped>\n",
       "    .dataframe tbody tr th:only-of-type {\n",
       "        vertical-align: middle;\n",
       "    }\n",
       "\n",
       "    .dataframe tbody tr th {\n",
       "        vertical-align: top;\n",
       "    }\n",
       "\n",
       "    .dataframe thead th {\n",
       "        text-align: right;\n",
       "    }\n",
       "</style>\n",
       "<table border=\"1\" class=\"dataframe\">\n",
       "  <thead>\n",
       "    <tr style=\"text-align: right;\">\n",
       "      <th></th>\n",
       "      <th>product</th>\n",
       "      <th>predicted_valid</th>\n",
       "    </tr>\n",
       "  </thead>\n",
       "  <tbody>\n",
       "    <tr>\n",
       "      <th>71747</th>\n",
       "      <td>53.91</td>\n",
       "      <td>53.41</td>\n",
       "    </tr>\n",
       "    <tr>\n",
       "      <th>80489</th>\n",
       "      <td>137.95</td>\n",
       "      <td>137.86</td>\n",
       "    </tr>\n",
       "    <tr>\n",
       "      <th>2655</th>\n",
       "      <td>30.13</td>\n",
       "      <td>29.75</td>\n",
       "    </tr>\n",
       "    <tr>\n",
       "      <th>71170</th>\n",
       "      <td>84.04</td>\n",
       "      <td>83.19</td>\n",
       "    </tr>\n",
       "    <tr>\n",
       "      <th>91137</th>\n",
       "      <td>0.00</td>\n",
       "      <td>1.24</td>\n",
       "    </tr>\n",
       "  </tbody>\n",
       "</table>\n",
       "</div>"
      ],
      "text/plain": [
       "       product  predicted_valid\n",
       "71747    53.91            53.41\n",
       "80489   137.95           137.86\n",
       "2655     30.13            29.75\n",
       "71170    84.04            83.19\n",
       "91137     0.00             1.24"
      ]
     },
     "execution_count": 49,
     "metadata": {},
     "output_type": "execute_result"
    }
   ],
   "source": [
    "target_1.head()"
   ]
  },
  {
   "cell_type": "code",
   "execution_count": 50,
   "metadata": {},
   "outputs": [
    {
     "data": {
      "text/html": [
       "<div>\n",
       "<style scoped>\n",
       "    .dataframe tbody tr th:only-of-type {\n",
       "        vertical-align: middle;\n",
       "    }\n",
       "\n",
       "    .dataframe tbody tr th {\n",
       "        vertical-align: top;\n",
       "    }\n",
       "\n",
       "    .dataframe thead th {\n",
       "        text-align: right;\n",
       "    }\n",
       "</style>\n",
       "<table border=\"1\" class=\"dataframe\">\n",
       "  <thead>\n",
       "    <tr style=\"text-align: right;\">\n",
       "      <th></th>\n",
       "      <th>product</th>\n",
       "      <th>predicted_valid</th>\n",
       "    </tr>\n",
       "  </thead>\n",
       "  <tbody>\n",
       "    <tr>\n",
       "      <th>71747</th>\n",
       "      <td>97.65</td>\n",
       "      <td>76.46</td>\n",
       "    </tr>\n",
       "    <tr>\n",
       "      <th>80489</th>\n",
       "      <td>66.64</td>\n",
       "      <td>109.42</td>\n",
       "    </tr>\n",
       "    <tr>\n",
       "      <th>2655</th>\n",
       "      <td>57.78</td>\n",
       "      <td>89.92</td>\n",
       "    </tr>\n",
       "    <tr>\n",
       "      <th>71170</th>\n",
       "      <td>35.06</td>\n",
       "      <td>83.70</td>\n",
       "    </tr>\n",
       "    <tr>\n",
       "      <th>91137</th>\n",
       "      <td>82.05</td>\n",
       "      <td>86.76</td>\n",
       "    </tr>\n",
       "  </tbody>\n",
       "</table>\n",
       "</div>"
      ],
      "text/plain": [
       "       product  predicted_valid\n",
       "71747    97.65            76.46\n",
       "80489    66.64           109.42\n",
       "2655     57.78            89.92\n",
       "71170    35.06            83.70\n",
       "91137    82.05            86.76"
      ]
     },
     "execution_count": 50,
     "metadata": {},
     "output_type": "execute_result"
    }
   ],
   "source": [
    "target_2.head()"
   ]
  },
  {
   "cell_type": "markdown",
   "metadata": {},
   "source": [
    "**Краткие выводы**\n",
    "\n",
    "Любопытно (не знаю, мб на практике это нормально), что модель с наименьшим RMSE получилась во втором регионе. Самый большой RMSE получен в третьем регионе.\n",
    "\n",
    "По поводу среднего запаса предсказанного сырья, наибольшее значение получено в третьем регионе, затем в первом. Наименьший средний запас предсказанного сырья обнаружен во втором регионе. "
   ]
  },
  {
   "cell_type": "markdown",
   "metadata": {},
   "source": [
    "## Расчет прибыли"
   ]
  },
  {
   "cell_type": "code",
   "execution_count": 51,
   "metadata": {},
   "outputs": [
    {
     "name": "stdout",
     "output_type": "stream",
     "text": [
      "Достаточный объём сырья для безубыточной разработки новой скважины равен 111.11\n"
     ]
    }
   ],
   "source": [
    "# сохраним ключевые значения для расчётов в отдельных переменных\n",
    "revenue = 10**10\n",
    "profit = 450 * 10**3\n",
    "wells = 200\n",
    "\n",
    "# найдем достаточный объём сырья для безубыточной разработки новой скважины\n",
    "volume = revenue / (profit * wells)\n",
    "\n",
    "print(f'Достаточный объём сырья для безубыточной разработки новой скважины равен {volume:.2f}')"
   ]
  },
  {
   "cell_type": "markdown",
   "metadata": {},
   "source": [
    "**Краткий вывод**\n",
    "\n",
    "Итак, достаточный объем равен 111,11. \n",
    "Сравним этот показатель со средним значением по регионам. "
   ]
  },
  {
   "cell_type": "code",
   "execution_count": 52,
   "metadata": {},
   "outputs": [
    {
     "name": "stdout",
     "output_type": "stream",
     "text": [
      "Средний объем сырья в скважинах первого региона равен 92.50\n",
      "Средний объем сырья в скважинах второго региона равен 68.82\n",
      "Средний объем сырья в скважинах третьего региона равен 95.00\n"
     ]
    }
   ],
   "source": [
    "print(f'Средний объем сырья в скважинах первого региона равен {data_0[\"product\"].mean():.2f}')\n",
    "print(f'Средний объем сырья в скважинах второго региона равен {data_1[\"product\"].mean():.2f}')\n",
    "print(f'Средний объем сырья в скважинах третьего региона равен {data_2[\"product\"].mean():.2f}')"
   ]
  },
  {
   "cell_type": "markdown",
   "metadata": {},
   "source": [
    "**Краткий вывод** \n",
    "\n",
    "Средний объем сырья в регионах меньше, чем достаточный объем сырья для безубыточной разработки новых скважин. \n",
    "\n",
    "Продолжим работу. "
   ]
  },
  {
   "cell_type": "markdown",
   "metadata": {},
   "source": [
    "Напишем **функцию** для расчёта прибыли по выбранным скважинам и предсказаниям модели. Согласно условию задачи функция должна выбирать скважины с максимальными значениями предсказаний, затем суммировать целевое значение объема сырья, соответствующего этим предсказаниям и возращать прибыль для полученного объема сырья."
   ]
  },
  {
   "cell_type": "code",
   "execution_count": 53,
   "metadata": {},
   "outputs": [],
   "source": [
    "def income_calculation(data, target, predicted, count): # на входе функция получает датасет и названия колонок с признаками\n",
    "    top = data.sort_values(by=predicted, ascending=False)[:count].copy() # находим 200 точек с наибольшими предсказанными запасами сырья\n",
    "    volume = top[target].sum() # суммируем целевое значение объема сырья, соответствующего предсказаниям\n",
    "    income = volume * profit # рассчитываем прибыль\n",
    "    return income"
   ]
  },
  {
   "cell_type": "code",
   "execution_count": 54,
   "metadata": {},
   "outputs": [
    {
     "name": "stdout",
     "output_type": "stream",
     "text": [
      "Прибыль для полученного объема сырья в первом регионе равна 13365187237.700287\n"
     ]
    }
   ],
   "source": [
    "(\n",
    "    print('Прибыль для полученного объема сырья в первом регионе равна',\n",
    "        income_calculation(data=target_0, target='product', predicted='predicted_valid', count=200))\n",
    ")"
   ]
  },
  {
   "cell_type": "code",
   "execution_count": 55,
   "metadata": {},
   "outputs": [
    {
     "name": "stdout",
     "output_type": "stream",
     "text": [
      "Прибыль для полученного объема сырья в третьем регионе равна 12415086696.68151\n"
     ]
    }
   ],
   "source": [
    "(\n",
    "    print('Прибыль для полученного объема сырья в третьем регионе равна',\n",
    "        income_calculation(data=target_1, target='product', predicted='predicted_valid', count=200))\n",
    ")"
   ]
  },
  {
   "cell_type": "code",
   "execution_count": 56,
   "metadata": {},
   "outputs": [
    {
     "name": "stdout",
     "output_type": "stream",
     "text": [
      "Прибыль для полученного объема сырья в третьем регионе равна 12501283853.282063\n"
     ]
    }
   ],
   "source": [
    "(\n",
    "    print('Прибыль для полученного объема сырья в третьем регионе равна',\n",
    "        income_calculation(data=target_2, target='product', predicted='predicted_valid', count=200))\n",
    ")"
   ]
  },
  {
   "cell_type": "markdown",
   "metadata": {},
   "source": [
    "**Краткий вывод**\n",
    "\n",
    "Пока по полученным данным можно делать вывод, что выгоднее всего бурлить скважины в перво регионе. Хотя во всех трех регионах прибыльно пробурлить скважины. "
   ]
  },
  {
   "cell_type": "markdown",
   "metadata": {},
   "source": [
    "Теперь оценим риски и прибыль для каждого региона при помощи Bootstrap.\n",
    "\n",
    "## Расчет рисков"
   ]
  },
  {
   "cell_type": "markdown",
   "metadata": {},
   "source": [
    "Посчитайте риски и прибыль для каждого региона:"
   ]
  },
  {
   "cell_type": "code",
   "execution_count": 57,
   "metadata": {},
   "outputs": [],
   "source": [
    "state = np.random.RandomState(12345)"
   ]
  },
  {
   "cell_type": "code",
   "execution_count": 58,
   "metadata": {},
   "outputs": [
    {
     "name": "stdout",
     "output_type": "stream",
     "text": [
      "Средняя прибыль с 1000 выборок в первом регионе: 10380613470.017597\n"
     ]
    }
   ],
   "source": [
    "# найдем среднюю прибыль для первого региона\n",
    "values = []\n",
    "for i in range(1000):\n",
    "    subsample = target_0.sample(n=500, replace=True, random_state=state)\n",
    "    values.append(income_calculation(subsample, 'product', 'predicted_valid', 200))\n",
    "    \n",
    "values = pd.Series(values) # получили распределение прибыли с 1000 выборок\n",
    "mean = values.mean() # средняя прибыль с 1000 выборок\n",
    "print(\"Средняя прибыль с 1000 выборок в первом регионе:\", mean)"
   ]
  },
  {
   "cell_type": "code",
   "execution_count": 59,
   "metadata": {},
   "outputs": [
    {
     "data": {
      "image/png": "[encoded data removed]",
      "text/plain": [
       "<Figure size 432x288 with 1 Axes>"
      ]
     },
     "metadata": {},
     "output_type": "display_data"
    }
   ],
   "source": [
    "# построим гистограмму распределения прибыли с 1000 выборок\n",
    "values.hist(bins=15);"
   ]
  },
  {
   "cell_type": "markdown",
   "metadata": {},
   "source": [
    "Получилось распределение похожее на нормальное. \n",
    "\n",
    "Найдем 95%-процентый интервал для средней прибыли."
   ]
  },
  {
   "cell_type": "code",
   "execution_count": 60,
   "metadata": {},
   "outputs": [
    {
     "name": "stdout",
     "output_type": "stream",
     "text": [
      "Доверительный интервал в первом регионе (9857057260.26, 10890976833.85)\n"
     ]
    }
   ],
   "source": [
    "lower = values.quantile(0.025) \n",
    "upper = values.quantile(0.975) \n",
    "\n",
    "print(f'Доверительный интервал в первом регионе ({lower:.2f}, {upper:.2f})')"
   ]
  },
  {
   "cell_type": "code",
   "execution_count": 61,
   "metadata": {},
   "outputs": [
    {
     "name": "stdout",
     "output_type": "stream",
     "text": [
      "Вероятность убыток в первом регионе равна 0.077\n"
     ]
    }
   ],
   "source": [
    "# найдем риск убытка для первого региона\n",
    "# для этого найдем отношение количества убыточных выборок ко всей тысяче\n",
    "loss_0 = values[values<=10**10].shape[0] / values.shape[0]\n",
    "print(f'Вероятность убыток в первом регионе равна {loss_0}')"
   ]
  },
  {
   "cell_type": "markdown",
   "metadata": {},
   "source": [
    "**Краткий вывод**\n",
    "\n",
    "Итак, вероятность убыток в первом регионе равна ~0.187~ 0.077. \n",
    "\n",
    "Теперь найдем распределения средней прибыли с 1000 выборок, среднюю прибыль, 95%-процентный интервал и оценим риск убыток в двух остальных регионах. "
   ]
  },
  {
   "cell_type": "code",
   "execution_count": 62,
   "metadata": {},
   "outputs": [
    {
     "name": "stdout",
     "output_type": "stream",
     "text": [
      "Средняя прибыль с 1000 выборок во втором регионе: 10479159869.981588\n",
      "Доверительный интервал во втором регионе (10073849212.02, 10917953817.72)\n"
     ]
    }
   ],
   "source": [
    "# найдем среднюю прибыль для второго региона\n",
    "values = []\n",
    "for i in range(1000):\n",
    "    subsample = target_1.sample(n=500, replace=True, random_state=state)\n",
    "    values.append(income_calculation(subsample, 'product', 'predicted_valid', 200))\n",
    "\n",
    "values = pd.Series(values)\n",
    "mean = values.mean()\n",
    "print(\"Средняя прибыль с 1000 выборок во втором регионе:\", mean)\n",
    "\n",
    "# 95% доверительный интервал\n",
    "lower = values.quantile(0.025) \n",
    "upper = values.quantile(0.975) \n",
    "\n",
    "print(f'Доверительный интервал во втором регионе ({lower:.2f}, {upper:.2f})')"
   ]
  },
  {
   "cell_type": "code",
   "execution_count": 63,
   "metadata": {},
   "outputs": [
    {
     "data": {
      "image/png": "[encoded data removed]",
      "text/plain": [
       "<Figure size 432x288 with 1 Axes>"
      ]
     },
     "metadata": {},
     "output_type": "display_data"
    }
   ],
   "source": [
    "# построим гистограмму распределения прибыли с 1000 выборок\n",
    "values.hist(bins=15);"
   ]
  },
  {
   "cell_type": "code",
   "execution_count": 64,
   "metadata": {},
   "outputs": [
    {
     "name": "stdout",
     "output_type": "stream",
     "text": [
      "Вероятность убыток во втором регионе равна 0.006\n"
     ]
    }
   ],
   "source": [
    "# найдем риск убытка \n",
    "loss_1 = values[values<=10**10].shape[0] / values.shape[0]\n",
    "print(f'Вероятность убыток во втором регионе равна {loss_1}')"
   ]
  },
  {
   "cell_type": "markdown",
   "metadata": {},
   "source": [
    "**Краткий вывод**\n",
    "\n",
    "Во втором регионе очень малая вероятность убытков. "
   ]
  },
  {
   "cell_type": "code",
   "execution_count": 65,
   "metadata": {},
   "outputs": [
    {
     "name": "stdout",
     "output_type": "stream",
     "text": [
      "Средняя прибыль с 1000 выборок в третьем регионе: 10315441916.02349\n",
      "Доверительный интервал в третьем регионе (9783734949.97, 10811060708.24)\n"
     ]
    }
   ],
   "source": [
    "# найдем среднюю прибыль для третьего региона\n",
    "values = []\n",
    "for i in range(1000):\n",
    "    subsample = target_2.sample(n=500, replace=True, random_state=state)\n",
    "    values.append(income_calculation(subsample, 'product', 'predicted_valid', 200))\n",
    "\n",
    "values = pd.Series(values)\n",
    "mean = values.mean()\n",
    "print(\"Средняя прибыль с 1000 выборок в третьем регионе:\", mean)\n",
    "\n",
    "# 95% доверительный интервал\n",
    "lower = values.quantile(0.025) \n",
    "upper = values.quantile(0.975) \n",
    "\n",
    "print(f'Доверительный интервал в третьем регионе ({lower:.2f}, {upper:.2f})')"
   ]
  },
  {
   "cell_type": "code",
   "execution_count": 66,
   "metadata": {},
   "outputs": [
    {
     "data": {
      "image/png": "[encoded data removed]",
      "text/plain": [
       "<Figure size 432x288 with 1 Axes>"
      ]
     },
     "metadata": {},
     "output_type": "display_data"
    }
   ],
   "source": [
    "# построим гистограмму распределения прибыли с 1000 выборок\n",
    "values.hist(bins=15);"
   ]
  },
  {
   "cell_type": "code",
   "execution_count": 67,
   "metadata": {},
   "outputs": [
    {
     "name": "stdout",
     "output_type": "stream",
     "text": [
      "Вероятность убыток во третьем регионе равна 0.124\n"
     ]
    }
   ],
   "source": [
    "# найдем риск убытка \n",
    "loss_2 = values[values<=10**10].shape[0] / values.shape[0]\n",
    "print(f'Вероятность убыток во третьем регионе равна {loss_2}')"
   ]
  },
  {
   "cell_type": "markdown",
   "metadata": {},
   "source": [
    "**Краткий вывод** Риск убыток в третьем регионе составляет всего ~1%~ 12%. "
   ]
  },
  {
   "cell_type": "markdown",
   "metadata": {},
   "source": [
    "## Общий вывод\n",
    "\n",
    "Проведя анализ, кажется разумным проводить работы по бурлению скважин во **втором** регионе. Здесь средняя прибыль с 200 скважин с самым большим предсказанным запасом сырья выше $10^{10}$ руб. и выше в остальных регионах, и нижний конец доверительного интервала для средней прибыли с 1000 выборок выше 10 млрд. руб. Риск убыток составляет лишь `0,6%`, что меньше двух других регионах. "
   ]
  },
  {
   "cell_type": "markdown",
   "metadata": {},
   "source": [
    "### Дополнительно\n",
    "\n",
    "##  Масштабирование с помощью RobustScaler"
   ]
  },
  {
   "cell_type": "code",
   "execution_count": 68,
   "metadata": {},
   "outputs": [],
   "source": [
    "from sklearn.preprocessing import RobustScaler"
   ]
  },
  {
   "cell_type": "code",
   "execution_count": 69,
   "metadata": {},
   "outputs": [],
   "source": [
    "# разделим выборку на обучающую и валидационную data_0\n",
    "target_0 = data_0['product']\n",
    "features_0 = data_0.drop(['id', 'product'], axis=1)\n",
    "features_train_0, features_valid_0, target_train_0, target_valid_0 = train_test_split(\n",
    "    features_0, target_0, test_size=0.25, random_state=12345)"
   ]
  },
  {
   "cell_type": "code",
   "execution_count": 70,
   "metadata": {},
   "outputs": [],
   "source": [
    "# разделим выборку на обучающую и валидационную data_1\n",
    "target_1 = data_1['product']\n",
    "features_1 = data_1.drop(['id', 'product'], axis=1)\n",
    "features_train_1, features_valid_1, target_train_1, target_valid_1 = train_test_split(\n",
    "    features_1, target_1, test_size=0.25, random_state=12345)"
   ]
  },
  {
   "cell_type": "code",
   "execution_count": 71,
   "metadata": {},
   "outputs": [],
   "source": [
    "# разделим выборку на обучающую и валидационную data_2\n",
    "target_2 = data_2['product']\n",
    "features_2 = data_2.drop(['id', 'product'], axis=1)\n",
    "features_train_2, features_valid_2, target_train_2, target_valid_2 = train_test_split(\n",
    "    features_2, target_2, test_size=0.25, random_state=12345)"
   ]
  },
  {
   "cell_type": "code",
   "execution_count": 72,
   "metadata": {},
   "outputs": [],
   "source": [
    "# стандартизируем выборку data_0\n",
    "scaler_0 = RobustScaler()\n",
    "scaler_0.fit(features_train_0) \n",
    "features_train_0 = scaler_0.transform(features_train_0)\n",
    "\n",
    "# преобразуем валидационную и тренировочную выборки\n",
    "features_valid_0 = scaler_0.transform(features_valid_0)"
   ]
  },
  {
   "cell_type": "code",
   "execution_count": 73,
   "metadata": {},
   "outputs": [],
   "source": [
    "# стандартизируем выборку data_1\n",
    "scaler_1 = RobustScaler()\n",
    "scaler_1.fit(features_train_1) \n",
    "features_train_1 = scaler_1.transform(features_train_1)\n",
    "\n",
    "# преобразуем валидационную и тренировочную выборки\n",
    "features_valid_1 = scaler_1.transform(features_valid_1)"
   ]
  },
  {
   "cell_type": "code",
   "execution_count": 74,
   "metadata": {},
   "outputs": [],
   "source": [
    "# стандартизируем выборку data_2\n",
    "scaler_2 = RobustScaler()\n",
    "scaler_2.fit(features_train_2) \n",
    "features_train_2 = scaler_2.transform(features_train_2)\n",
    "\n",
    "# преобразуем валидационную и тренировочную выборки\n",
    "features_valid_2 = scaler_2.transform(features_valid_2)"
   ]
  },
  {
   "cell_type": "markdown",
   "metadata": {},
   "source": [
    "### Обучение модели"
   ]
  },
  {
   "cell_type": "code",
   "execution_count": 75,
   "metadata": {},
   "outputs": [],
   "source": [
    "model = LinearRegression()"
   ]
  },
  {
   "cell_type": "code",
   "execution_count": 76,
   "metadata": {},
   "outputs": [
    {
     "name": "stdout",
     "output_type": "stream",
     "text": [
      "Средний запас предсказанного сырья: 92.78915638280621\n",
      "RMSE = 37.853527328872964\n"
     ]
    }
   ],
   "source": [
    "# обучение модели в первом регионе\n",
    "model.fit(features_train_0, target_train_0)\n",
    "predicted_valid_0 = model.predict(features_valid_0)\n",
    "mse = mean_squared_error(target_valid_0, predicted_valid_0)\n",
    "\n",
    "print('Средний запас предсказанного сырья:', predicted_valid_0.mean())\n",
    "print(\"RMSE =\", mse ** 0.5)"
   ]
  },
  {
   "cell_type": "code",
   "execution_count": 77,
   "metadata": {},
   "outputs": [
    {
     "name": "stdout",
     "output_type": "stream",
     "text": [
      "Средний запас предсказанного сырья: 69.1783195703043\n",
      "RMSE = 0.8920592647717033\n"
     ]
    }
   ],
   "source": [
    "# обучение модели в первом регионе\n",
    "model.fit(features_train_1, target_train_1)\n",
    "predicted_valid_1 = model.predict(features_valid_1)\n",
    "mse = mean_squared_error(target_valid_1, predicted_valid_1)\n",
    "\n",
    "print('Средний запас предсказанного сырья:', predicted_valid_1.mean())\n",
    "print(\"RMSE =\", mse ** 0.5)"
   ]
  },
  {
   "cell_type": "code",
   "execution_count": 78,
   "metadata": {},
   "outputs": [
    {
     "name": "stdout",
     "output_type": "stream",
     "text": [
      "Средний запас предсказанного сырья: 94.86572480562035\n",
      "RMSE = 40.07585073246016\n"
     ]
    }
   ],
   "source": [
    "# обучение модели в первом регионе\n",
    "model.fit(features_train_2, target_train_2)\n",
    "predicted_valid_2 = model.predict(features_valid_2)\n",
    "mse = mean_squared_error(target_valid_2, predicted_valid_2)\n",
    "\n",
    "print('Средний запас предсказанного сырья:', predicted_valid_2.mean())\n",
    "print(\"RMSE =\", mse ** 0.5)"
   ]
  },
  {
   "cell_type": "markdown",
   "metadata": {},
   "source": [
    "На качестве модели применение другого метода шкалирования не отразилось. Вероятнее всего это отразится на коэффициентах регрессии. "
   ]
  },
  {
   "cell_type": "code",
   "execution_count": 79,
   "metadata": {},
   "outputs": [
    {
     "name": "stdout",
     "output_type": "stream",
     "text": [
      "Feature: 0, Score: 0.12062\n",
      "Feature: 1, Score: -0.14458\n",
      "Feature: 2, Score: 27.15400\n"
     ]
    },
    {
     "data": {
      "image/png": "[encoded data removed]",
      "text/plain": [
       "<Figure size 432x288 with 1 Axes>"
      ]
     },
     "metadata": {},
     "output_type": "display_data"
    }
   ],
   "source": [
    "# для последнего региона\n",
    "importance = model.coef_\n",
    "# summarize feature importance\n",
    "for i,v in enumerate(importance):\n",
    "    print('Feature: %0d, Score: %.5f' % (i,v))\n",
    "# plot feature importance\n",
    "plt.bar([x for x in range(len(importance))], importance)\n",
    "plt.show()"
   ]
  },
  {
   "cell_type": "markdown",
   "metadata": {},
   "source": [
    "## Без масштабирования"
   ]
  },
  {
   "cell_type": "code",
   "execution_count": 80,
   "metadata": {},
   "outputs": [],
   "source": [
    "# разделим выборку на обучающую и валидационную data_0\n",
    "target_0 = data_0['product']\n",
    "features_0 = data_0.drop(['id', 'product'], axis=1)\n",
    "features_train_0, features_valid_0, target_train_0, target_valid_0 = train_test_split(\n",
    "    features_0, target_0, test_size=0.25, random_state=12345)"
   ]
  },
  {
   "cell_type": "code",
   "execution_count": 81,
   "metadata": {},
   "outputs": [],
   "source": [
    "# разделим выборку на обучающую и валидационную data_1\n",
    "target_1 = data_1['product']\n",
    "features_1 = data_1.drop(['id', 'product'], axis=1)\n",
    "features_train_1, features_valid_1, target_train_1, target_valid_1 = train_test_split(\n",
    "    features_1, target_1, test_size=0.25, random_state=12345)"
   ]
  },
  {
   "cell_type": "code",
   "execution_count": 82,
   "metadata": {},
   "outputs": [],
   "source": [
    "# разделим выборку на обучающую и валидационную data_2\n",
    "target_2 = data_2['product']\n",
    "features_2 = data_2.drop(['id', 'product'], axis=1)\n",
    "features_train_2, features_valid_2, target_train_2, target_valid_2 = train_test_split(\n",
    "    features_2, target_2, test_size=0.25, random_state=12345)"
   ]
  },
  {
   "cell_type": "code",
   "execution_count": 83,
   "metadata": {},
   "outputs": [],
   "source": [
    "model = LinearRegression()"
   ]
  },
  {
   "cell_type": "code",
   "execution_count": 84,
   "metadata": {},
   "outputs": [
    {
     "name": "stdout",
     "output_type": "stream",
     "text": [
      "Средний запас предсказанного сырья: 92.78915638280621\n",
      "RMSE = 37.853527328872964\n"
     ]
    }
   ],
   "source": [
    "# обучение модели в первом регионе\n",
    "model.fit(features_train_0, target_train_0)\n",
    "predicted_valid_0 = model.predict(features_valid_0)\n",
    "mse = mean_squared_error(target_valid_0, predicted_valid_0)\n",
    "\n",
    "print('Средний запас предсказанного сырья:', predicted_valid_0.mean())\n",
    "print(\"RMSE =\", mse ** 0.5)"
   ]
  },
  {
   "cell_type": "code",
   "execution_count": 85,
   "metadata": {},
   "outputs": [
    {
     "name": "stdout",
     "output_type": "stream",
     "text": [
      "Средний запас предсказанного сырья: 69.17831957030432\n",
      "RMSE = 0.892059264771703\n"
     ]
    }
   ],
   "source": [
    "# обучение модели в первом регионе\n",
    "model.fit(features_train_1, target_train_1)\n",
    "predicted_valid_1 = model.predict(features_valid_1)\n",
    "mse = mean_squared_error(target_valid_1, predicted_valid_1)\n",
    "\n",
    "print('Средний запас предсказанного сырья:', predicted_valid_1.mean())\n",
    "print(\"RMSE =\", mse ** 0.5)"
   ]
  },
  {
   "cell_type": "code",
   "execution_count": 86,
   "metadata": {},
   "outputs": [
    {
     "name": "stdout",
     "output_type": "stream",
     "text": [
      "Средний запас предсказанного сырья: 94.86572480562035\n",
      "RMSE = 40.07585073246016\n"
     ]
    }
   ],
   "source": [
    "# обучение модели в первом регионе\n",
    "model.fit(features_train_2, target_train_2)\n",
    "predicted_valid_2 = model.predict(features_valid_2)\n",
    "mse = mean_squared_error(target_valid_2, predicted_valid_2)\n",
    "\n",
    "print('Средний запас предсказанного сырья:', predicted_valid_2.mean())\n",
    "print(\"RMSE =\", mse ** 0.5)"
   ]
  },
  {
   "cell_type": "code",
   "execution_count": 87,
   "metadata": {},
   "outputs": [
    {
     "name": "stdout",
     "output_type": "stream",
     "text": [
      "Feature: 0, Score: 0.05210\n",
      "Feature: 1, Score: -0.06164\n",
      "Feature: 2, Score: 5.77203\n"
     ]
    },
    {
     "data": {
      "image/png": "[encoded data removed]",
      "text/plain": [
       "<Figure size 432x288 with 1 Axes>"
      ]
     },
     "metadata": {},
     "output_type": "display_data"
    }
   ],
   "source": [
    "# для последнего региона\n",
    "importance = model.coef_\n",
    "# summarize feature importance\n",
    "for i,v in enumerate(importance):\n",
    "    print('Feature: %0d, Score: %.5f' % (i,v))\n",
    "# plot feature importance\n",
    "plt.bar([x for x in range(len(importance))], importance)\n",
    "plt.show()"
   ]
  },
  {
   "cell_type": "markdown",
   "metadata": {},
   "source": [
    "Проведение масштабирование другим способом отражается на величине коэффициентов, но не отражается на показателях метрик.\n"
   ]
  }
 ],
 "metadata": {
  "ExecuteTimeLog": [
   {
    "duration": 1475,
    "start_time": "2022-05-25T20:08:32.008Z"
   },
   {
    "duration": 3,
    "start_time": "2022-05-25T20:08:33.484Z"
   },
   {
    "duration": 891,
    "start_time": "2022-05-25T20:08:33.488Z"
   },
   {
    "duration": 24,
    "start_time": "2022-05-25T20:08:34.381Z"
   },
   {
    "duration": 20,
    "start_time": "2022-05-25T20:08:34.407Z"
   },
   {
    "duration": 35,
    "start_time": "2022-05-25T20:08:34.429Z"
   },
   {
    "duration": 40,
    "start_time": "2022-05-25T20:08:34.466Z"
   },
   {
    "duration": 17,
    "start_time": "2022-05-25T20:08:34.508Z"
   },
   {
    "duration": 32,
    "start_time": "2022-05-25T20:08:34.527Z"
   },
   {
    "duration": 21,
    "start_time": "2022-05-25T20:08:34.561Z"
   },
   {
    "duration": 13,
    "start_time": "2022-05-25T20:08:34.583Z"
   },
   {
    "duration": 17,
    "start_time": "2022-05-25T20:08:34.598Z"
   },
   {
    "duration": 14,
    "start_time": "2022-05-25T20:08:34.617Z"
   },
   {
    "duration": 26,
    "start_time": "2022-05-25T20:08:34.633Z"
   },
   {
    "duration": 16,
    "start_time": "2022-05-25T20:08:34.660Z"
   },
   {
    "duration": 15,
    "start_time": "2022-05-25T20:08:34.677Z"
   },
   {
    "duration": 94,
    "start_time": "2022-05-25T20:08:34.693Z"
   },
   {
    "duration": 30,
    "start_time": "2022-05-25T20:08:34.789Z"
   },
   {
    "duration": 329,
    "start_time": "2022-05-25T20:08:34.821Z"
   },
   {
    "duration": 332,
    "start_time": "2022-05-25T20:08:35.152Z"
   },
   {
    "duration": 314,
    "start_time": "2022-05-25T20:08:35.486Z"
   },
   {
    "duration": 4518,
    "start_time": "2022-05-25T20:08:35.803Z"
   },
   {
    "duration": 385,
    "start_time": "2022-05-25T20:08:40.323Z"
   },
   {
    "duration": 4306,
    "start_time": "2022-05-25T20:08:40.710Z"
   },
   {
    "duration": 320,
    "start_time": "2022-05-25T20:08:45.018Z"
   },
   {
    "duration": 4408,
    "start_time": "2022-05-25T20:08:45.340Z"
   },
   {
    "duration": 307,
    "start_time": "2022-05-25T20:08:49.758Z"
   },
   {
    "duration": 282,
    "start_time": "2022-05-25T20:08:50.067Z"
   },
   {
    "duration": 156,
    "start_time": "2022-05-25T20:08:50.358Z"
   },
   {
    "duration": 325,
    "start_time": "2022-05-25T20:08:50.516Z"
   },
   {
    "duration": 164,
    "start_time": "2022-05-25T20:08:50.843Z"
   },
   {
    "duration": 282,
    "start_time": "2022-05-25T20:08:51.008Z"
   },
   {
    "duration": 268,
    "start_time": "2022-05-25T20:08:51.292Z"
   },
   {
    "duration": 11,
    "start_time": "2022-05-25T20:08:51.561Z"
   },
   {
    "duration": 21,
    "start_time": "2022-05-25T20:08:51.573Z"
   },
   {
    "duration": 19,
    "start_time": "2022-05-25T20:08:51.595Z"
   },
   {
    "duration": 11,
    "start_time": "2022-05-25T20:08:51.616Z"
   },
   {
    "duration": 21,
    "start_time": "2022-05-25T20:08:51.628Z"
   },
   {
    "duration": 13,
    "start_time": "2022-05-25T20:08:51.651Z"
   },
   {
    "duration": 5,
    "start_time": "2022-05-25T20:08:51.666Z"
   },
   {
    "duration": 92,
    "start_time": "2022-05-25T20:08:51.675Z"
   },
   {
    "duration": 100,
    "start_time": "2022-05-25T20:08:51.769Z"
   },
   {
    "duration": 189,
    "start_time": "2022-05-25T20:08:51.874Z"
   },
   {
    "duration": 99,
    "start_time": "2022-05-25T20:08:52.069Z"
   },
   {
    "duration": 195,
    "start_time": "2022-05-25T20:08:52.175Z"
   },
   {
    "duration": 189,
    "start_time": "2022-05-25T20:08:52.375Z"
   },
   {
    "duration": 191,
    "start_time": "2022-05-25T20:08:52.571Z"
   },
   {
    "duration": 24,
    "start_time": "2022-05-25T20:08:52.764Z"
   },
   {
    "duration": 13,
    "start_time": "2022-05-25T20:08:52.790Z"
   },
   {
    "duration": 15,
    "start_time": "2022-05-25T20:08:52.805Z"
   },
   {
    "duration": 27,
    "start_time": "2022-05-25T20:08:52.821Z"
   },
   {
    "duration": 10,
    "start_time": "2022-05-25T20:08:52.849Z"
   },
   {
    "duration": 32,
    "start_time": "2022-05-25T20:08:52.860Z"
   },
   {
    "duration": 12,
    "start_time": "2022-05-25T20:08:52.894Z"
   },
   {
    "duration": 28,
    "start_time": "2022-05-25T20:08:52.908Z"
   },
   {
    "duration": 18,
    "start_time": "2022-05-25T20:08:52.938Z"
   },
   {
    "duration": 711,
    "start_time": "2022-05-25T20:08:52.959Z"
   },
   {
    "duration": 155,
    "start_time": "2022-05-25T20:08:53.672Z"
   },
   {
    "duration": 6,
    "start_time": "2022-05-25T20:08:53.828Z"
   },
   {
    "duration": 31,
    "start_time": "2022-05-25T20:08:53.836Z"
   },
   {
    "duration": 697,
    "start_time": "2022-05-25T20:08:53.868Z"
   },
   {
    "duration": 138,
    "start_time": "2022-05-25T20:08:54.567Z"
   },
   {
    "duration": 4,
    "start_time": "2022-05-25T20:08:54.707Z"
   },
   {
    "duration": 687,
    "start_time": "2022-05-25T20:08:54.712Z"
   },
   {
    "duration": 146,
    "start_time": "2022-05-25T20:08:55.400Z"
   },
   {
    "duration": 14,
    "start_time": "2022-05-25T20:08:55.547Z"
   },
   {
    "duration": 4,
    "start_time": "2022-05-25T20:11:12.460Z"
   },
   {
    "duration": 8,
    "start_time": "2022-05-25T20:11:12.466Z"
   },
   {
    "duration": 371,
    "start_time": "2022-05-25T20:11:12.475Z"
   },
   {
    "duration": 24,
    "start_time": "2022-05-25T20:11:12.848Z"
   },
   {
    "duration": 20,
    "start_time": "2022-05-25T20:11:12.874Z"
   },
   {
    "duration": 21,
    "start_time": "2022-05-25T20:11:12.895Z"
   },
   {
    "duration": 77,
    "start_time": "2022-05-25T20:11:12.918Z"
   },
   {
    "duration": 24,
    "start_time": "2022-05-25T20:11:12.997Z"
   },
   {
    "duration": 37,
    "start_time": "2022-05-25T20:11:13.023Z"
   },
   {
    "duration": 23,
    "start_time": "2022-05-25T20:11:13.061Z"
   },
   {
    "duration": 20,
    "start_time": "2022-05-25T20:11:13.085Z"
   },
   {
    "duration": 25,
    "start_time": "2022-05-25T20:11:13.108Z"
   },
   {
    "duration": 32,
    "start_time": "2022-05-25T20:11:13.134Z"
   },
   {
    "duration": 17,
    "start_time": "2022-05-25T20:11:13.168Z"
   },
   {
    "duration": 21,
    "start_time": "2022-05-25T20:11:13.186Z"
   },
   {
    "duration": 12,
    "start_time": "2022-05-25T20:11:13.209Z"
   },
   {
    "duration": 23,
    "start_time": "2022-05-25T20:11:28.555Z"
   },
   {
    "duration": 24,
    "start_time": "2022-05-25T20:11:38.562Z"
   },
   {
    "duration": 31,
    "start_time": "2022-05-25T20:11:57.204Z"
   },
   {
    "duration": 13,
    "start_time": "2022-05-25T20:26:28.143Z"
   },
   {
    "duration": 11,
    "start_time": "2022-05-25T20:26:29.120Z"
   },
   {
    "duration": 12,
    "start_time": "2022-05-25T20:26:31.527Z"
   },
   {
    "duration": 11,
    "start_time": "2022-05-25T20:26:32.320Z"
   },
   {
    "duration": 12,
    "start_time": "2022-05-25T20:26:34.221Z"
   },
   {
    "duration": 13,
    "start_time": "2022-05-25T20:26:34.734Z"
   },
   {
    "duration": 3,
    "start_time": "2022-05-25T20:26:38.213Z"
   },
   {
    "duration": 15,
    "start_time": "2022-05-25T20:26:38.813Z"
   },
   {
    "duration": 8,
    "start_time": "2022-05-25T20:26:42.481Z"
   },
   {
    "duration": 15,
    "start_time": "2022-05-25T20:26:42.863Z"
   },
   {
    "duration": 9,
    "start_time": "2022-05-25T20:26:45.455Z"
   },
   {
    "duration": 12,
    "start_time": "2022-05-25T20:26:45.777Z"
   },
   {
    "duration": 9,
    "start_time": "2022-05-25T20:26:47.225Z"
   },
   {
    "duration": 4,
    "start_time": "2022-05-25T20:27:13.622Z"
   },
   {
    "duration": 3,
    "start_time": "2022-05-25T20:27:18.893Z"
   },
   {
    "duration": 346,
    "start_time": "2022-05-25T20:27:19.304Z"
   },
   {
    "duration": 21,
    "start_time": "2022-05-25T20:27:19.652Z"
   },
   {
    "duration": 21,
    "start_time": "2022-05-25T20:27:19.675Z"
   },
   {
    "duration": 21,
    "start_time": "2022-05-25T20:27:19.846Z"
   },
   {
    "duration": 44,
    "start_time": "2022-05-25T20:27:20.065Z"
   },
   {
    "duration": 18,
    "start_time": "2022-05-25T20:27:20.486Z"
   },
   {
    "duration": 13,
    "start_time": "2022-05-25T20:27:20.686Z"
   },
   {
    "duration": 14,
    "start_time": "2022-05-25T20:27:20.893Z"
   },
   {
    "duration": 14,
    "start_time": "2022-05-25T20:27:21.087Z"
   },
   {
    "duration": 17,
    "start_time": "2022-05-25T20:27:21.324Z"
   },
   {
    "duration": 13,
    "start_time": "2022-05-25T20:27:21.553Z"
   },
   {
    "duration": 14,
    "start_time": "2022-05-25T20:27:21.783Z"
   },
   {
    "duration": 18,
    "start_time": "2022-05-25T20:27:22.107Z"
   },
   {
    "duration": 13,
    "start_time": "2022-05-25T20:27:22.327Z"
   },
   {
    "duration": 26,
    "start_time": "2022-05-25T20:27:23.174Z"
   },
   {
    "duration": 64,
    "start_time": "2022-05-25T20:27:24.455Z"
   },
   {
    "duration": 37,
    "start_time": "2022-05-25T20:27:25.894Z"
   },
   {
    "duration": 405,
    "start_time": "2022-05-25T20:27:26.993Z"
   },
   {
    "duration": 301,
    "start_time": "2022-05-25T20:27:28.161Z"
   },
   {
    "duration": 295,
    "start_time": "2022-05-25T20:27:29.224Z"
   },
   {
    "duration": 4620,
    "start_time": "2022-05-25T20:27:29.644Z"
   },
   {
    "duration": 337,
    "start_time": "2022-05-25T20:27:34.266Z"
   },
   {
    "duration": 4351,
    "start_time": "2022-05-25T20:27:34.604Z"
   },
   {
    "duration": 435,
    "start_time": "2022-05-25T20:27:38.957Z"
   },
   {
    "duration": 4358,
    "start_time": "2022-05-25T20:27:39.394Z"
   },
   {
    "duration": 316,
    "start_time": "2022-05-25T20:27:43.753Z"
   },
   {
    "duration": 298,
    "start_time": "2022-05-25T20:27:44.070Z"
   },
   {
    "duration": 178,
    "start_time": "2022-05-25T20:27:44.369Z"
   },
   {
    "duration": 303,
    "start_time": "2022-05-25T20:27:44.549Z"
   },
   {
    "duration": 270,
    "start_time": "2022-05-25T20:27:44.854Z"
   },
   {
    "duration": 292,
    "start_time": "2022-05-25T20:27:45.126Z"
   },
   {
    "duration": 164,
    "start_time": "2022-05-25T20:27:45.420Z"
   },
   {
    "duration": 11,
    "start_time": "2022-05-25T20:27:45.586Z"
   },
   {
    "duration": 12,
    "start_time": "2022-05-25T20:27:45.598Z"
   },
   {
    "duration": 11,
    "start_time": "2022-05-25T20:27:45.611Z"
   },
   {
    "duration": 17,
    "start_time": "2022-05-25T20:27:54.034Z"
   },
   {
    "duration": 18,
    "start_time": "2022-05-25T20:28:07.266Z"
   },
   {
    "duration": 17,
    "start_time": "2022-05-25T20:28:13.304Z"
   },
   {
    "duration": 3,
    "start_time": "2022-05-25T20:28:18.344Z"
   },
   {
    "duration": 12,
    "start_time": "2022-05-25T20:28:20.753Z"
   },
   {
    "duration": 6,
    "start_time": "2022-05-25T20:28:26.174Z"
   },
   {
    "duration": 14,
    "start_time": "2022-05-25T20:28:29.391Z"
   },
   {
    "duration": 5,
    "start_time": "2022-05-25T20:28:34.442Z"
   },
   {
    "duration": 11,
    "start_time": "2022-05-25T20:28:42.213Z"
   },
   {
    "duration": 12,
    "start_time": "2022-05-25T20:28:52.102Z"
   },
   {
    "duration": 12,
    "start_time": "2022-05-25T20:28:54.703Z"
   },
   {
    "duration": 3,
    "start_time": "2022-05-25T20:28:57.403Z"
   },
   {
    "duration": 12,
    "start_time": "2022-05-25T20:28:58.030Z"
   },
   {
    "duration": 15,
    "start_time": "2022-05-25T20:29:05.015Z"
   },
   {
    "duration": 12,
    "start_time": "2022-05-25T20:29:05.455Z"
   },
   {
    "duration": 12,
    "start_time": "2022-05-25T20:29:05.946Z"
   },
   {
    "duration": 12,
    "start_time": "2022-05-25T20:29:06.365Z"
   },
   {
    "duration": 12,
    "start_time": "2022-05-25T20:29:06.908Z"
   },
   {
    "duration": 11,
    "start_time": "2022-05-25T20:29:07.822Z"
   },
   {
    "duration": 3,
    "start_time": "2022-05-25T20:29:09.233Z"
   },
   {
    "duration": 16,
    "start_time": "2022-05-25T20:29:10.320Z"
   },
   {
    "duration": 6,
    "start_time": "2022-05-25T20:29:20.764Z"
   },
   {
    "duration": 12,
    "start_time": "2022-05-25T20:29:21.254Z"
   },
   {
    "duration": 6,
    "start_time": "2022-05-25T20:29:22.023Z"
   },
   {
    "duration": 12,
    "start_time": "2022-05-25T20:29:22.304Z"
   },
   {
    "duration": 12,
    "start_time": "2022-05-25T20:36:02.859Z"
   },
   {
    "duration": 12,
    "start_time": "2022-05-25T20:36:03.415Z"
   },
   {
    "duration": 12,
    "start_time": "2022-05-25T20:36:04.018Z"
   },
   {
    "duration": 15,
    "start_time": "2022-05-25T20:36:09.577Z"
   },
   {
    "duration": 6,
    "start_time": "2022-05-25T20:36:10.817Z"
   },
   {
    "duration": 15,
    "start_time": "2022-05-25T20:36:12.835Z"
   },
   {
    "duration": 7,
    "start_time": "2022-05-25T20:36:14.215Z"
   },
   {
    "duration": 14,
    "start_time": "2022-05-25T20:36:15.358Z"
   },
   {
    "duration": 9,
    "start_time": "2022-05-25T20:36:16.125Z"
   },
   {
    "duration": 15,
    "start_time": "2022-05-25T20:36:22.185Z"
   },
   {
    "duration": 10,
    "start_time": "2022-05-25T20:36:22.202Z"
   },
   {
    "duration": 378,
    "start_time": "2022-05-25T20:36:22.214Z"
   },
   {
    "duration": 25,
    "start_time": "2022-05-25T20:36:22.594Z"
   },
   {
    "duration": 39,
    "start_time": "2022-05-25T20:36:22.621Z"
   },
   {
    "duration": 22,
    "start_time": "2022-05-25T20:36:22.662Z"
   },
   {
    "duration": 50,
    "start_time": "2022-05-25T20:36:22.686Z"
   },
   {
    "duration": 31,
    "start_time": "2022-05-25T20:36:22.759Z"
   },
   {
    "duration": 22,
    "start_time": "2022-05-25T20:36:22.792Z"
   },
   {
    "duration": 42,
    "start_time": "2022-05-25T20:36:22.818Z"
   },
   {
    "duration": 23,
    "start_time": "2022-05-25T20:36:22.862Z"
   },
   {
    "duration": 20,
    "start_time": "2022-05-25T20:36:22.887Z"
   },
   {
    "duration": 22,
    "start_time": "2022-05-25T20:36:22.909Z"
   },
   {
    "duration": 37,
    "start_time": "2022-05-25T20:36:22.933Z"
   },
   {
    "duration": 24,
    "start_time": "2022-05-25T20:36:22.972Z"
   },
   {
    "duration": 19,
    "start_time": "2022-05-25T20:36:22.998Z"
   },
   {
    "duration": 45,
    "start_time": "2022-05-25T20:36:23.019Z"
   },
   {
    "duration": 75,
    "start_time": "2022-05-25T20:36:23.066Z"
   },
   {
    "duration": 41,
    "start_time": "2022-05-25T20:36:23.143Z"
   },
   {
    "duration": 325,
    "start_time": "2022-05-25T20:36:23.185Z"
   },
   {
    "duration": 311,
    "start_time": "2022-05-25T20:36:23.512Z"
   },
   {
    "duration": 303,
    "start_time": "2022-05-25T20:36:23.824Z"
   },
   {
    "duration": 4572,
    "start_time": "2022-05-25T20:36:24.129Z"
   },
   {
    "duration": 317,
    "start_time": "2022-05-25T20:36:28.702Z"
   },
   {
    "duration": 4325,
    "start_time": "2022-05-25T20:36:29.021Z"
   },
   {
    "duration": 333,
    "start_time": "2022-05-25T20:36:33.348Z"
   },
   {
    "duration": 4523,
    "start_time": "2022-05-25T20:36:33.683Z"
   },
   {
    "duration": 352,
    "start_time": "2022-05-25T20:36:38.209Z"
   },
   {
    "duration": 305,
    "start_time": "2022-05-25T20:36:38.562Z"
   },
   {
    "duration": 161,
    "start_time": "2022-05-25T20:36:38.868Z"
   },
   {
    "duration": 309,
    "start_time": "2022-05-25T20:36:39.030Z"
   },
   {
    "duration": 153,
    "start_time": "2022-05-25T20:36:39.341Z"
   },
   {
    "duration": 414,
    "start_time": "2022-05-25T20:36:39.496Z"
   },
   {
    "duration": 170,
    "start_time": "2022-05-25T20:36:39.912Z"
   },
   {
    "duration": 11,
    "start_time": "2022-05-25T20:36:40.084Z"
   },
   {
    "duration": 11,
    "start_time": "2022-05-25T20:36:40.097Z"
   },
   {
    "duration": 11,
    "start_time": "2022-05-25T20:36:40.110Z"
   },
   {
    "duration": 3,
    "start_time": "2022-05-25T20:36:49.653Z"
   },
   {
    "duration": 113,
    "start_time": "2022-05-25T20:36:50.746Z"
   },
   {
    "duration": 7,
    "start_time": "2022-05-25T20:36:51.705Z"
   },
   {
    "duration": 15,
    "start_time": "2022-05-25T20:36:52.279Z"
   },
   {
    "duration": 7,
    "start_time": "2022-05-25T20:36:53.315Z"
   },
   {
    "duration": 18,
    "start_time": "2022-05-25T20:36:53.895Z"
   },
   {
    "duration": 9,
    "start_time": "2022-05-25T20:36:54.575Z"
   },
   {
    "duration": 8,
    "start_time": "2022-05-25T20:36:59.384Z"
   },
   {
    "duration": 4,
    "start_time": "2022-05-25T20:45:06.867Z"
   },
   {
    "duration": 1179,
    "start_time": "2022-05-25T20:49:24.510Z"
   },
   {
    "duration": 3,
    "start_time": "2022-05-25T20:49:25.690Z"
   },
   {
    "duration": 367,
    "start_time": "2022-05-25T20:49:25.694Z"
   },
   {
    "duration": 25,
    "start_time": "2022-05-25T20:49:26.063Z"
   },
   {
    "duration": 18,
    "start_time": "2022-05-25T20:49:26.089Z"
   },
   {
    "duration": 19,
    "start_time": "2022-05-25T20:49:26.109Z"
   },
   {
    "duration": 65,
    "start_time": "2022-05-25T20:49:26.130Z"
   },
   {
    "duration": 17,
    "start_time": "2022-05-25T20:49:26.196Z"
   },
   {
    "duration": 11,
    "start_time": "2022-05-25T20:49:26.215Z"
   },
   {
    "duration": 37,
    "start_time": "2022-05-25T20:49:26.228Z"
   },
   {
    "duration": 16,
    "start_time": "2022-05-25T20:49:26.266Z"
   },
   {
    "duration": 18,
    "start_time": "2022-05-25T20:49:26.284Z"
   },
   {
    "duration": 12,
    "start_time": "2022-05-25T20:49:26.304Z"
   },
   {
    "duration": 12,
    "start_time": "2022-05-25T20:49:26.319Z"
   },
   {
    "duration": 43,
    "start_time": "2022-05-25T20:49:26.333Z"
   },
   {
    "duration": 13,
    "start_time": "2022-05-25T20:49:26.378Z"
   },
   {
    "duration": 30,
    "start_time": "2022-05-25T20:49:26.392Z"
   },
   {
    "duration": 98,
    "start_time": "2022-05-25T20:49:26.423Z"
   },
   {
    "duration": 42,
    "start_time": "2022-05-25T20:49:26.523Z"
   },
   {
    "duration": 346,
    "start_time": "2022-05-25T20:49:26.567Z"
   },
   {
    "duration": 361,
    "start_time": "2022-05-25T20:49:26.914Z"
   },
   {
    "duration": 327,
    "start_time": "2022-05-25T20:49:27.277Z"
   },
   {
    "duration": 4332,
    "start_time": "2022-05-25T20:49:27.606Z"
   },
   {
    "duration": 337,
    "start_time": "2022-05-25T20:49:31.939Z"
   },
   {
    "duration": 4168,
    "start_time": "2022-05-25T20:49:32.278Z"
   },
   {
    "duration": 304,
    "start_time": "2022-05-25T20:49:36.448Z"
   },
   {
    "duration": 4412,
    "start_time": "2022-05-25T20:49:36.759Z"
   },
   {
    "duration": 294,
    "start_time": "2022-05-25T20:49:41.173Z"
   },
   {
    "duration": 297,
    "start_time": "2022-05-25T20:49:41.468Z"
   },
   {
    "duration": 153,
    "start_time": "2022-05-25T20:49:41.767Z"
   },
   {
    "duration": 297,
    "start_time": "2022-05-25T20:49:41.922Z"
   },
   {
    "duration": 152,
    "start_time": "2022-05-25T20:49:42.221Z"
   },
   {
    "duration": 298,
    "start_time": "2022-05-25T20:49:42.375Z"
   },
   {
    "duration": 285,
    "start_time": "2022-05-25T20:49:42.674Z"
   },
   {
    "duration": 14,
    "start_time": "2022-05-25T20:49:42.961Z"
   },
   {
    "duration": 16,
    "start_time": "2022-05-25T20:49:42.977Z"
   },
   {
    "duration": 19,
    "start_time": "2022-05-25T20:49:42.995Z"
   },
   {
    "duration": 15,
    "start_time": "2022-05-25T20:49:43.018Z"
   },
   {
    "duration": 12,
    "start_time": "2022-05-25T20:49:43.059Z"
   },
   {
    "duration": 11,
    "start_time": "2022-05-25T20:49:43.073Z"
   },
   {
    "duration": 3,
    "start_time": "2022-05-25T20:49:43.088Z"
   },
   {
    "duration": 70,
    "start_time": "2022-05-25T20:49:43.093Z"
   },
   {
    "duration": 93,
    "start_time": "2022-05-25T20:49:43.166Z"
   },
   {
    "duration": 109,
    "start_time": "2022-05-25T20:49:43.262Z"
   },
   {
    "duration": 186,
    "start_time": "2022-05-25T20:49:43.375Z"
   },
   {
    "duration": 111,
    "start_time": "2022-05-25T20:49:43.567Z"
   },
   {
    "duration": 96,
    "start_time": "2022-05-25T20:49:43.765Z"
   },
   {
    "duration": 102,
    "start_time": "2022-05-25T20:49:43.868Z"
   },
   {
    "duration": 91,
    "start_time": "2022-05-25T20:49:43.972Z"
   },
   {
    "duration": 13,
    "start_time": "2022-05-25T20:49:44.065Z"
   },
   {
    "duration": 6,
    "start_time": "2022-05-25T20:49:44.079Z"
   },
   {
    "duration": 8,
    "start_time": "2022-05-25T20:49:44.086Z"
   },
   {
    "duration": 4,
    "start_time": "2022-05-25T20:49:44.095Z"
   },
   {
    "duration": 12,
    "start_time": "2022-05-25T20:49:44.101Z"
   },
   {
    "duration": 8,
    "start_time": "2022-05-25T20:49:44.115Z"
   },
   {
    "duration": 6,
    "start_time": "2022-05-25T20:49:44.125Z"
   },
   {
    "duration": 3,
    "start_time": "2022-05-25T20:49:44.158Z"
   },
   {
    "duration": 725,
    "start_time": "2022-05-25T20:49:44.163Z"
   },
   {
    "duration": 148,
    "start_time": "2022-05-25T20:49:44.889Z"
   },
   {
    "duration": 6,
    "start_time": "2022-05-25T20:49:45.038Z"
   },
   {
    "duration": 19,
    "start_time": "2022-05-25T20:49:45.046Z"
   },
   {
    "duration": 695,
    "start_time": "2022-05-25T20:49:45.066Z"
   },
   {
    "duration": 130,
    "start_time": "2022-05-25T20:49:45.762Z"
   },
   {
    "duration": 3,
    "start_time": "2022-05-25T20:49:45.894Z"
   },
   {
    "duration": 711,
    "start_time": "2022-05-25T20:49:45.899Z"
   },
   {
    "duration": 162,
    "start_time": "2022-05-25T20:49:46.611Z"
   },
   {
    "duration": 4,
    "start_time": "2022-05-25T20:49:46.775Z"
   },
   {
    "duration": 4,
    "start_time": "2022-05-25T20:53:18.692Z"
   },
   {
    "duration": 719,
    "start_time": "2022-05-25T20:53:24.168Z"
   },
   {
    "duration": 152,
    "start_time": "2022-05-25T20:53:24.889Z"
   },
   {
    "duration": 7,
    "start_time": "2022-05-25T20:53:27.028Z"
   },
   {
    "duration": 6,
    "start_time": "2022-05-25T20:53:27.903Z"
   },
   {
    "duration": 680,
    "start_time": "2022-05-25T20:53:33.999Z"
   },
   {
    "duration": 133,
    "start_time": "2022-05-25T20:53:35.020Z"
   },
   {
    "duration": 4,
    "start_time": "2022-05-25T20:53:39.319Z"
   },
   {
    "duration": 676,
    "start_time": "2022-05-25T20:53:40.850Z"
   },
   {
    "duration": 129,
    "start_time": "2022-05-25T20:53:41.592Z"
   },
   {
    "duration": 4,
    "start_time": "2022-05-25T20:53:42.628Z"
   },
   {
    "duration": 734,
    "start_time": "2022-05-25T20:54:21.100Z"
   },
   {
    "duration": 140,
    "start_time": "2022-05-25T20:54:21.918Z"
   },
   {
    "duration": 4,
    "start_time": "2022-05-25T20:54:23.108Z"
   },
   {
    "duration": 4,
    "start_time": "2022-05-25T20:54:42.849Z"
   },
   {
    "duration": 758,
    "start_time": "2022-05-25T20:54:46.720Z"
   },
   {
    "duration": 149,
    "start_time": "2022-05-25T20:54:47.480Z"
   },
   {
    "duration": 5,
    "start_time": "2022-05-25T20:54:50.269Z"
   },
   {
    "duration": 5,
    "start_time": "2022-05-25T20:54:51.220Z"
   },
   {
    "duration": 755,
    "start_time": "2022-05-25T20:54:52.912Z"
   },
   {
    "duration": 149,
    "start_time": "2022-05-25T20:54:53.669Z"
   },
   {
    "duration": 4,
    "start_time": "2022-05-25T20:54:54.463Z"
   },
   {
    "duration": 719,
    "start_time": "2022-05-25T20:54:55.783Z"
   },
   {
    "duration": 147,
    "start_time": "2022-05-25T20:54:56.504Z"
   },
   {
    "duration": 5,
    "start_time": "2022-05-25T20:54:57.508Z"
   },
   {
    "duration": 4,
    "start_time": "2022-05-25T20:55:14.992Z"
   },
   {
    "duration": 1311,
    "start_time": "2022-05-25T20:55:32.121Z"
   },
   {
    "duration": 3,
    "start_time": "2022-05-25T20:55:33.434Z"
   },
   {
    "duration": 366,
    "start_time": "2022-05-25T20:55:33.438Z"
   },
   {
    "duration": 25,
    "start_time": "2022-05-25T20:55:33.805Z"
   },
   {
    "duration": 36,
    "start_time": "2022-05-25T20:55:33.831Z"
   },
   {
    "duration": 19,
    "start_time": "2022-05-25T20:55:33.868Z"
   },
   {
    "duration": 40,
    "start_time": "2022-05-25T20:55:33.889Z"
   },
   {
    "duration": 38,
    "start_time": "2022-05-25T20:55:33.930Z"
   },
   {
    "duration": 17,
    "start_time": "2022-05-25T20:55:33.970Z"
   },
   {
    "duration": 17,
    "start_time": "2022-05-25T20:55:33.989Z"
   },
   {
    "duration": 16,
    "start_time": "2022-05-25T20:55:34.007Z"
   },
   {
    "duration": 22,
    "start_time": "2022-05-25T20:55:34.024Z"
   },
   {
    "duration": 14,
    "start_time": "2022-05-25T20:55:34.059Z"
   },
   {
    "duration": 16,
    "start_time": "2022-05-25T20:55:34.074Z"
   },
   {
    "duration": 18,
    "start_time": "2022-05-25T20:55:34.092Z"
   },
   {
    "duration": 12,
    "start_time": "2022-05-25T20:55:34.112Z"
   },
   {
    "duration": 47,
    "start_time": "2022-05-25T20:55:34.125Z"
   },
   {
    "duration": 72,
    "start_time": "2022-05-25T20:55:34.174Z"
   },
   {
    "duration": 40,
    "start_time": "2022-05-25T20:55:34.248Z"
   },
   {
    "duration": 320,
    "start_time": "2022-05-25T20:55:34.289Z"
   },
   {
    "duration": 323,
    "start_time": "2022-05-25T20:55:34.611Z"
   },
   {
    "duration": 306,
    "start_time": "2022-05-25T20:55:34.936Z"
   },
   {
    "duration": 4400,
    "start_time": "2022-05-25T20:55:35.243Z"
   },
   {
    "duration": 315,
    "start_time": "2022-05-25T20:55:39.644Z"
   },
   {
    "duration": 4230,
    "start_time": "2022-05-25T20:55:39.960Z"
   },
   {
    "duration": 292,
    "start_time": "2022-05-25T20:55:44.192Z"
   },
   {
    "duration": 4404,
    "start_time": "2022-05-25T20:55:44.485Z"
   },
   {
    "duration": 277,
    "start_time": "2022-05-25T20:55:48.892Z"
   },
   {
    "duration": 294,
    "start_time": "2022-05-25T20:55:49.171Z"
   },
   {
    "duration": 163,
    "start_time": "2022-05-25T20:55:49.467Z"
   },
   {
    "duration": 321,
    "start_time": "2022-05-25T20:55:49.631Z"
   },
   {
    "duration": 167,
    "start_time": "2022-05-25T20:55:49.953Z"
   },
   {
    "duration": 307,
    "start_time": "2022-05-25T20:55:50.122Z"
   },
   {
    "duration": 285,
    "start_time": "2022-05-25T20:55:50.431Z"
   },
   {
    "duration": 11,
    "start_time": "2022-05-25T20:55:50.718Z"
   },
   {
    "duration": 12,
    "start_time": "2022-05-25T20:55:50.731Z"
   },
   {
    "duration": 24,
    "start_time": "2022-05-25T20:55:50.744Z"
   },
   {
    "duration": 10,
    "start_time": "2022-05-25T20:55:50.770Z"
   },
   {
    "duration": 11,
    "start_time": "2022-05-25T20:55:50.782Z"
   },
   {
    "duration": 10,
    "start_time": "2022-05-25T20:55:50.794Z"
   },
   {
    "duration": 3,
    "start_time": "2022-05-25T20:55:50.805Z"
   },
   {
    "duration": 53,
    "start_time": "2022-05-25T20:55:50.809Z"
   },
   {
    "duration": 100,
    "start_time": "2022-05-25T20:55:50.866Z"
   },
   {
    "duration": 207,
    "start_time": "2022-05-25T20:55:50.969Z"
   },
   {
    "duration": 83,
    "start_time": "2022-05-25T20:55:51.180Z"
   },
   {
    "duration": 204,
    "start_time": "2022-05-25T20:55:51.264Z"
   },
   {
    "duration": 92,
    "start_time": "2022-05-25T20:55:51.471Z"
   },
   {
    "duration": 195,
    "start_time": "2022-05-25T20:55:51.565Z"
   },
   {
    "duration": 10,
    "start_time": "2022-05-25T20:55:51.762Z"
   },
   {
    "duration": 10,
    "start_time": "2022-05-25T20:55:51.773Z"
   },
   {
    "duration": 9,
    "start_time": "2022-05-25T20:55:51.784Z"
   },
   {
    "duration": 10,
    "start_time": "2022-05-25T20:55:51.794Z"
   },
   {
    "duration": 4,
    "start_time": "2022-05-25T20:55:51.805Z"
   },
   {
    "duration": 10,
    "start_time": "2022-05-25T20:55:51.810Z"
   },
   {
    "duration": 7,
    "start_time": "2022-05-25T20:55:51.821Z"
   },
   {
    "duration": 36,
    "start_time": "2022-05-25T20:55:51.829Z"
   },
   {
    "duration": 3,
    "start_time": "2022-05-25T20:55:51.866Z"
   },
   {
    "duration": 726,
    "start_time": "2022-05-25T20:55:51.871Z"
   },
   {
    "duration": 155,
    "start_time": "2022-05-25T20:55:52.599Z"
   },
   {
    "duration": 6,
    "start_time": "2022-05-25T20:55:52.758Z"
   },
   {
    "duration": 8,
    "start_time": "2022-05-25T20:55:52.766Z"
   },
   {
    "duration": 755,
    "start_time": "2022-05-25T20:55:52.776Z"
   },
   {
    "duration": 165,
    "start_time": "2022-05-25T20:55:53.534Z"
   },
   {
    "duration": 3,
    "start_time": "2022-05-25T20:55:53.701Z"
   },
   {
    "duration": 713,
    "start_time": "2022-05-25T20:55:53.706Z"
   },
   {
    "duration": 147,
    "start_time": "2022-05-25T20:55:54.421Z"
   },
   {
    "duration": 4,
    "start_time": "2022-05-25T20:55:54.570Z"
   },
   {
    "duration": 4,
    "start_time": "2022-05-25T20:56:25.804Z"
   },
   {
    "duration": 3,
    "start_time": "2022-05-25T20:56:31.669Z"
   },
   {
    "duration": 796,
    "start_time": "2022-05-25T20:56:32.432Z"
   },
   {
    "duration": 139,
    "start_time": "2022-05-25T20:56:34.057Z"
   },
   {
    "duration": 5,
    "start_time": "2022-05-25T20:56:35.887Z"
   },
   {
    "duration": 4,
    "start_time": "2022-05-25T20:56:37.087Z"
   },
   {
    "duration": 3,
    "start_time": "2022-05-25T20:57:37.740Z"
   },
   {
    "duration": 8,
    "start_time": "2022-05-25T20:57:38.990Z"
   },
   {
    "duration": 7,
    "start_time": "2022-05-25T20:57:39.439Z"
   },
   {
    "duration": 7,
    "start_time": "2022-05-25T20:57:39.959Z"
   },
   {
    "duration": 3,
    "start_time": "2022-05-25T20:57:42.889Z"
   },
   {
    "duration": 726,
    "start_time": "2022-05-25T20:57:48.251Z"
   },
   {
    "duration": 167,
    "start_time": "2022-05-25T20:57:52.670Z"
   },
   {
    "duration": 6,
    "start_time": "2022-05-25T20:57:56.815Z"
   },
   {
    "duration": 4,
    "start_time": "2022-05-25T20:58:02.347Z"
   },
   {
    "duration": 108,
    "start_time": "2022-05-25T20:58:10.411Z"
   },
   {
    "duration": 686,
    "start_time": "2022-05-25T20:58:16.381Z"
   },
   {
    "duration": 130,
    "start_time": "2022-05-25T20:58:19.540Z"
   },
   {
    "duration": 4,
    "start_time": "2022-05-25T20:58:20.532Z"
   },
   {
    "duration": 743,
    "start_time": "2022-05-25T20:58:26.878Z"
   },
   {
    "duration": 138,
    "start_time": "2022-05-25T20:58:28.360Z"
   },
   {
    "duration": 5,
    "start_time": "2022-05-25T20:58:31.771Z"
   },
   {
    "duration": 758,
    "start_time": "2022-05-25T20:58:42.603Z"
   },
   {
    "duration": 141,
    "start_time": "2022-05-25T20:58:44.249Z"
   },
   {
    "duration": 5,
    "start_time": "2022-05-25T20:58:47.639Z"
   },
   {
    "duration": 4,
    "start_time": "2022-05-25T20:58:53.579Z"
   },
   {
    "duration": 4,
    "start_time": "2022-05-25T20:59:34.167Z"
   },
   {
    "duration": 4,
    "start_time": "2022-05-25T21:00:02.206Z"
   },
   {
    "duration": 4,
    "start_time": "2022-05-25T21:00:08.069Z"
   },
   {
    "duration": 4,
    "start_time": "2022-05-25T21:00:46.589Z"
   },
   {
    "duration": 762,
    "start_time": "2022-05-25T21:00:54.590Z"
   },
   {
    "duration": 145,
    "start_time": "2022-05-25T21:00:56.179Z"
   },
   {
    "duration": 6,
    "start_time": "2022-05-25T21:01:00.767Z"
   },
   {
    "duration": 5,
    "start_time": "2022-05-25T21:01:01.739Z"
   },
   {
    "duration": 732,
    "start_time": "2022-05-25T21:01:08.382Z"
   },
   {
    "duration": 132,
    "start_time": "2022-05-25T21:01:09.885Z"
   },
   {
    "duration": 5,
    "start_time": "2022-05-25T21:01:13.750Z"
   },
   {
    "duration": 758,
    "start_time": "2022-05-25T21:01:21.289Z"
   },
   {
    "duration": 282,
    "start_time": "2022-05-25T21:01:22.655Z"
   },
   {
    "duration": 5,
    "start_time": "2022-05-25T21:01:26.259Z"
   },
   {
    "duration": 4,
    "start_time": "2022-05-25T21:01:38.390Z"
   },
   {
    "duration": 694,
    "start_time": "2022-05-25T21:01:43.340Z"
   },
   {
    "duration": 129,
    "start_time": "2022-05-25T21:01:46.269Z"
   },
   {
    "duration": 6,
    "start_time": "2022-05-25T21:01:48.262Z"
   },
   {
    "duration": 5,
    "start_time": "2022-05-25T21:01:51.069Z"
   },
   {
    "duration": 4,
    "start_time": "2022-05-25T21:01:55.363Z"
   },
   {
    "duration": 4,
    "start_time": "2022-05-25T21:02:00.544Z"
   },
   {
    "duration": 699,
    "start_time": "2022-05-25T21:02:04.748Z"
   },
   {
    "duration": 131,
    "start_time": "2022-05-25T21:02:05.623Z"
   },
   {
    "duration": 6,
    "start_time": "2022-05-25T21:02:09.100Z"
   },
   {
    "duration": 735,
    "start_time": "2022-05-25T21:02:10.830Z"
   },
   {
    "duration": 130,
    "start_time": "2022-05-25T21:02:12.540Z"
   },
   {
    "duration": 4,
    "start_time": "2022-05-25T21:02:13.527Z"
   },
   {
    "duration": 1288,
    "start_time": "2022-05-25T21:02:31.419Z"
   },
   {
    "duration": 3,
    "start_time": "2022-05-25T21:02:32.709Z"
   },
   {
    "duration": 416,
    "start_time": "2022-05-25T21:02:32.714Z"
   },
   {
    "duration": 29,
    "start_time": "2022-05-25T21:02:33.131Z"
   },
   {
    "duration": 18,
    "start_time": "2022-05-25T21:02:33.162Z"
   },
   {
    "duration": 19,
    "start_time": "2022-05-25T21:02:33.181Z"
   },
   {
    "duration": 64,
    "start_time": "2022-05-25T21:02:33.201Z"
   },
   {
    "duration": 22,
    "start_time": "2022-05-25T21:02:33.267Z"
   },
   {
    "duration": 15,
    "start_time": "2022-05-25T21:02:33.290Z"
   },
   {
    "duration": 14,
    "start_time": "2022-05-25T21:02:33.306Z"
   },
   {
    "duration": 14,
    "start_time": "2022-05-25T21:02:33.321Z"
   },
   {
    "duration": 17,
    "start_time": "2022-05-25T21:02:33.359Z"
   },
   {
    "duration": 26,
    "start_time": "2022-05-25T21:02:33.378Z"
   },
   {
    "duration": 12,
    "start_time": "2022-05-25T21:02:33.407Z"
   },
   {
    "duration": 21,
    "start_time": "2022-05-25T21:02:33.421Z"
   },
   {
    "duration": 24,
    "start_time": "2022-05-25T21:02:33.443Z"
   },
   {
    "duration": 44,
    "start_time": "2022-05-25T21:02:33.469Z"
   },
   {
    "duration": 87,
    "start_time": "2022-05-25T21:02:33.514Z"
   },
   {
    "duration": 30,
    "start_time": "2022-05-25T21:02:33.603Z"
   },
   {
    "duration": 331,
    "start_time": "2022-05-25T21:02:33.634Z"
   },
   {
    "duration": 311,
    "start_time": "2022-05-25T21:02:33.967Z"
   },
   {
    "duration": 302,
    "start_time": "2022-05-25T21:02:34.280Z"
   },
   {
    "duration": 4433,
    "start_time": "2022-05-25T21:02:34.584Z"
   },
   {
    "duration": 346,
    "start_time": "2022-05-25T21:02:39.019Z"
   },
   {
    "duration": 4376,
    "start_time": "2022-05-25T21:02:39.367Z"
   },
   {
    "duration": 319,
    "start_time": "2022-05-25T21:02:43.745Z"
   },
   {
    "duration": 4479,
    "start_time": "2022-05-25T21:02:44.065Z"
   },
   {
    "duration": 322,
    "start_time": "2022-05-25T21:02:48.546Z"
   },
   {
    "duration": 293,
    "start_time": "2022-05-25T21:02:48.870Z"
   },
   {
    "duration": 156,
    "start_time": "2022-05-25T21:02:49.165Z"
   },
   {
    "duration": 292,
    "start_time": "2022-05-25T21:02:49.322Z"
   },
   {
    "duration": 160,
    "start_time": "2022-05-25T21:02:49.615Z"
   },
   {
    "duration": 299,
    "start_time": "2022-05-25T21:02:49.776Z"
   },
   {
    "duration": 283,
    "start_time": "2022-05-25T21:02:50.077Z"
   },
   {
    "duration": 12,
    "start_time": "2022-05-25T21:02:50.362Z"
   },
   {
    "duration": 14,
    "start_time": "2022-05-25T21:02:50.375Z"
   },
   {
    "duration": 18,
    "start_time": "2022-05-25T21:02:50.390Z"
   },
   {
    "duration": 30,
    "start_time": "2022-05-25T21:02:50.409Z"
   },
   {
    "duration": 12,
    "start_time": "2022-05-25T21:02:50.441Z"
   },
   {
    "duration": 17,
    "start_time": "2022-05-25T21:02:50.455Z"
   },
   {
    "duration": 12,
    "start_time": "2022-05-25T21:02:50.476Z"
   },
   {
    "duration": 29,
    "start_time": "2022-05-25T21:02:50.489Z"
   },
   {
    "duration": 114,
    "start_time": "2022-05-25T21:02:50.560Z"
   },
   {
    "duration": 207,
    "start_time": "2022-05-25T21:02:50.676Z"
   },
   {
    "duration": 105,
    "start_time": "2022-05-25T21:02:50.958Z"
   },
   {
    "duration": 195,
    "start_time": "2022-05-25T21:02:51.065Z"
   },
   {
    "duration": 99,
    "start_time": "2022-05-25T21:02:51.262Z"
   },
   {
    "duration": 99,
    "start_time": "2022-05-25T21:02:51.364Z"
   },
   {
    "duration": 12,
    "start_time": "2022-05-25T21:02:51.464Z"
   },
   {
    "duration": 9,
    "start_time": "2022-05-25T21:02:51.477Z"
   },
   {
    "duration": 7,
    "start_time": "2022-05-25T21:02:51.487Z"
   },
   {
    "duration": 12,
    "start_time": "2022-05-25T21:02:51.495Z"
   },
   {
    "duration": 57,
    "start_time": "2022-05-25T21:02:51.508Z"
   },
   {
    "duration": 15,
    "start_time": "2022-05-25T21:02:51.566Z"
   },
   {
    "duration": 7,
    "start_time": "2022-05-25T21:02:51.583Z"
   },
   {
    "duration": 6,
    "start_time": "2022-05-25T21:02:51.592Z"
   },
   {
    "duration": 5,
    "start_time": "2022-05-25T21:02:51.600Z"
   },
   {
    "duration": 697,
    "start_time": "2022-05-25T21:02:51.607Z"
   },
   {
    "duration": 156,
    "start_time": "2022-05-25T21:02:52.305Z"
   },
   {
    "duration": 7,
    "start_time": "2022-05-25T21:02:52.462Z"
   },
   {
    "duration": 9,
    "start_time": "2022-05-25T21:02:52.470Z"
   },
   {
    "duration": 5,
    "start_time": "2022-05-25T21:02:52.481Z"
   },
   {
    "duration": 721,
    "start_time": "2022-05-25T21:02:52.487Z"
   },
   {
    "duration": 138,
    "start_time": "2022-05-25T21:02:53.209Z"
   },
   {
    "duration": 4,
    "start_time": "2022-05-25T21:02:53.348Z"
   },
   {
    "duration": 717,
    "start_time": "2022-05-25T21:02:53.359Z"
   },
   {
    "duration": 167,
    "start_time": "2022-05-25T21:02:54.078Z"
   },
   {
    "duration": 14,
    "start_time": "2022-05-25T21:02:54.247Z"
   },
   {
    "duration": 4,
    "start_time": "2022-05-25T21:04:08.566Z"
   },
   {
    "duration": 1140,
    "start_time": "2022-05-25T21:04:12.378Z"
   },
   {
    "duration": 5,
    "start_time": "2022-05-25T21:04:34.248Z"
   },
   {
    "duration": 676,
    "start_time": "2022-05-25T21:04:38.089Z"
   },
   {
    "duration": 174,
    "start_time": "2022-05-25T21:04:42.940Z"
   },
   {
    "duration": 6,
    "start_time": "2022-05-25T21:04:45.627Z"
   },
   {
    "duration": 41,
    "start_time": "2022-05-25T21:06:56.173Z"
   },
   {
    "duration": 30,
    "start_time": "2022-05-25T21:08:45.966Z"
   },
   {
    "duration": 13,
    "start_time": "2022-05-26T06:43:26.932Z"
   },
   {
    "duration": 4,
    "start_time": "2022-05-26T06:43:47.110Z"
   },
   {
    "duration": 4,
    "start_time": "2022-05-26T06:44:01.763Z"
   },
   {
    "duration": 4,
    "start_time": "2022-05-26T06:44:14.648Z"
   },
   {
    "duration": 4,
    "start_time": "2022-05-26T06:45:27.108Z"
   },
   {
    "duration": 2694,
    "start_time": "2022-05-26T06:45:57.155Z"
   },
   {
    "duration": 3,
    "start_time": "2022-05-26T06:45:59.852Z"
   },
   {
    "duration": 1183,
    "start_time": "2022-05-26T06:45:59.856Z"
   },
   {
    "duration": 41,
    "start_time": "2022-05-26T06:46:01.044Z"
   },
   {
    "duration": 38,
    "start_time": "2022-05-26T06:46:01.088Z"
   },
   {
    "duration": 69,
    "start_time": "2022-05-26T06:46:01.129Z"
   },
   {
    "duration": 98,
    "start_time": "2022-05-26T06:46:01.201Z"
   },
   {
    "duration": 28,
    "start_time": "2022-05-26T06:46:01.306Z"
   },
   {
    "duration": 53,
    "start_time": "2022-05-26T06:46:01.337Z"
   },
   {
    "duration": 78,
    "start_time": "2022-05-26T06:46:01.393Z"
   },
   {
    "duration": 84,
    "start_time": "2022-05-26T06:46:01.473Z"
   },
   {
    "duration": 105,
    "start_time": "2022-05-26T06:46:01.560Z"
   },
   {
    "duration": 36,
    "start_time": "2022-05-26T06:46:01.667Z"
   },
   {
    "duration": 101,
    "start_time": "2022-05-26T06:46:01.706Z"
   },
   {
    "duration": 57,
    "start_time": "2022-05-26T06:46:01.817Z"
   },
   {
    "duration": 111,
    "start_time": "2022-05-26T06:46:01.877Z"
   },
   {
    "duration": 128,
    "start_time": "2022-05-26T06:46:01.990Z"
   },
   {
    "duration": 142,
    "start_time": "2022-05-26T06:46:02.120Z"
   },
   {
    "duration": 49,
    "start_time": "2022-05-26T06:46:02.264Z"
   },
   {
    "duration": 445,
    "start_time": "2022-05-26T06:46:02.314Z"
   },
   {
    "duration": 384,
    "start_time": "2022-05-26T06:46:02.761Z"
   },
   {
    "duration": 370,
    "start_time": "2022-05-26T06:46:03.147Z"
   },
   {
    "duration": 5430,
    "start_time": "2022-05-26T06:46:03.526Z"
   },
   {
    "duration": 415,
    "start_time": "2022-05-26T06:46:08.961Z"
   },
   {
    "duration": 5316,
    "start_time": "2022-05-26T06:46:09.378Z"
   },
   {
    "duration": 311,
    "start_time": "2022-05-26T06:46:14.695Z"
   },
   {
    "duration": 5641,
    "start_time": "2022-05-26T06:46:15.014Z"
   },
   {
    "duration": 331,
    "start_time": "2022-05-26T06:46:20.661Z"
   },
   {
    "duration": 389,
    "start_time": "2022-05-26T06:46:20.993Z"
   },
   {
    "duration": 190,
    "start_time": "2022-05-26T06:46:21.384Z"
   },
   {
    "duration": 372,
    "start_time": "2022-05-26T06:46:21.576Z"
   },
   {
    "duration": 193,
    "start_time": "2022-05-26T06:46:21.950Z"
   },
   {
    "duration": 370,
    "start_time": "2022-05-26T06:46:22.145Z"
   },
   {
    "duration": 337,
    "start_time": "2022-05-26T06:46:22.516Z"
   },
   {
    "duration": 12,
    "start_time": "2022-05-26T06:46:22.855Z"
   },
   {
    "duration": 26,
    "start_time": "2022-05-26T06:46:22.869Z"
   },
   {
    "duration": 16,
    "start_time": "2022-05-26T06:46:22.897Z"
   },
   {
    "duration": 36,
    "start_time": "2022-05-26T06:46:22.914Z"
   },
   {
    "duration": 12,
    "start_time": "2022-05-26T06:46:22.952Z"
   },
   {
    "duration": 10,
    "start_time": "2022-05-26T06:46:22.966Z"
   },
   {
    "duration": 3,
    "start_time": "2022-05-26T06:46:22.977Z"
   },
   {
    "duration": 157,
    "start_time": "2022-05-26T06:46:22.982Z"
   },
   {
    "duration": 86,
    "start_time": "2022-05-26T06:46:23.141Z"
   },
   {
    "duration": 89,
    "start_time": "2022-05-26T06:46:23.230Z"
   },
   {
    "duration": 182,
    "start_time": "2022-05-26T06:46:23.321Z"
   },
   {
    "duration": 78,
    "start_time": "2022-05-26T06:46:23.533Z"
   },
   {
    "duration": 182,
    "start_time": "2022-05-26T06:46:23.618Z"
   },
   {
    "duration": 142,
    "start_time": "2022-05-26T06:46:23.802Z"
   },
   {
    "duration": 27,
    "start_time": "2022-05-26T06:46:23.946Z"
   },
   {
    "duration": 15,
    "start_time": "2022-05-26T06:46:23.975Z"
   },
   {
    "duration": 52,
    "start_time": "2022-05-26T06:46:23.992Z"
   },
   {
    "duration": 19,
    "start_time": "2022-05-26T06:46:24.046Z"
   },
   {
    "duration": 30,
    "start_time": "2022-05-26T06:46:24.067Z"
   },
   {
    "duration": 53,
    "start_time": "2022-05-26T06:46:24.099Z"
   },
   {
    "duration": 27,
    "start_time": "2022-05-26T06:46:24.154Z"
   },
   {
    "duration": 16,
    "start_time": "2022-05-26T06:46:24.183Z"
   },
   {
    "duration": 35,
    "start_time": "2022-05-26T06:46:24.200Z"
   },
   {
    "duration": 822,
    "start_time": "2022-05-26T06:46:24.237Z"
   },
   {
    "duration": 175,
    "start_time": "2022-05-26T06:46:25.061Z"
   },
   {
    "duration": 6,
    "start_time": "2022-05-26T06:46:25.238Z"
   },
   {
    "duration": 33,
    "start_time": "2022-05-26T06:46:25.246Z"
   },
   {
    "duration": 778,
    "start_time": "2022-05-26T06:55:00.403Z"
   },
   {
    "duration": 5,
    "start_time": "2022-05-26T06:55:10.128Z"
   },
   {
    "duration": 765,
    "start_time": "2022-05-26T06:55:44.524Z"
   },
   {
    "duration": 734,
    "start_time": "2022-05-26T06:56:04.429Z"
   },
   {
    "duration": 74,
    "start_time": "2022-05-26T06:56:36.985Z"
   },
   {
    "duration": 6,
    "start_time": "2022-05-26T06:56:50.146Z"
   },
   {
    "duration": 1253,
    "start_time": "2022-05-26T06:57:13.930Z"
   },
   {
    "duration": 2,
    "start_time": "2022-05-26T06:57:15.185Z"
   },
   {
    "duration": 455,
    "start_time": "2022-05-26T06:57:15.195Z"
   },
   {
    "duration": 24,
    "start_time": "2022-05-26T06:57:15.652Z"
   },
   {
    "duration": 46,
    "start_time": "2022-05-26T06:57:15.678Z"
   },
   {
    "duration": 24,
    "start_time": "2022-05-26T06:57:15.726Z"
   },
   {
    "duration": 63,
    "start_time": "2022-05-26T06:57:15.752Z"
   },
   {
    "duration": 24,
    "start_time": "2022-05-26T06:57:15.817Z"
   },
   {
    "duration": 13,
    "start_time": "2022-05-26T06:57:15.843Z"
   },
   {
    "duration": 16,
    "start_time": "2022-05-26T06:57:15.857Z"
   },
   {
    "duration": 29,
    "start_time": "2022-05-26T06:57:15.875Z"
   },
   {
    "duration": 35,
    "start_time": "2022-05-26T06:57:15.906Z"
   },
   {
    "duration": 20,
    "start_time": "2022-05-26T06:57:15.944Z"
   },
   {
    "duration": 31,
    "start_time": "2022-05-26T06:57:15.968Z"
   },
   {
    "duration": 25,
    "start_time": "2022-05-26T06:57:16.001Z"
   },
   {
    "duration": 26,
    "start_time": "2022-05-26T06:57:16.028Z"
   },
   {
    "duration": 46,
    "start_time": "2022-05-26T06:57:16.056Z"
   },
   {
    "duration": 88,
    "start_time": "2022-05-26T06:57:16.104Z"
   },
   {
    "duration": 65,
    "start_time": "2022-05-26T06:57:16.193Z"
   },
   {
    "duration": 364,
    "start_time": "2022-05-26T06:57:16.259Z"
   },
   {
    "duration": 347,
    "start_time": "2022-05-26T06:57:16.628Z"
   },
   {
    "duration": 356,
    "start_time": "2022-05-26T06:57:16.977Z"
   },
   {
    "duration": 5518,
    "start_time": "2022-05-26T06:57:17.335Z"
   },
   {
    "duration": 368,
    "start_time": "2022-05-26T06:57:22.856Z"
   },
   {
    "duration": 5355,
    "start_time": "2022-05-26T06:57:23.227Z"
   },
   {
    "duration": 358,
    "start_time": "2022-05-26T06:57:28.583Z"
   },
   {
    "duration": 5535,
    "start_time": "2022-05-26T06:57:28.943Z"
   },
   {
    "duration": 338,
    "start_time": "2022-05-26T06:57:34.480Z"
   },
   {
    "duration": 348,
    "start_time": "2022-05-26T06:57:34.828Z"
   },
   {
    "duration": 181,
    "start_time": "2022-05-26T06:57:35.178Z"
   },
   {
    "duration": 348,
    "start_time": "2022-05-26T06:57:35.360Z"
   },
   {
    "duration": 159,
    "start_time": "2022-05-26T06:57:35.712Z"
   },
   {
    "duration": 369,
    "start_time": "2022-05-26T06:57:35.873Z"
   },
   {
    "duration": 340,
    "start_time": "2022-05-26T06:57:36.244Z"
   },
   {
    "duration": 22,
    "start_time": "2022-05-26T06:57:36.585Z"
   },
   {
    "duration": 28,
    "start_time": "2022-05-26T06:57:36.608Z"
   },
   {
    "duration": 15,
    "start_time": "2022-05-26T06:57:36.641Z"
   },
   {
    "duration": 13,
    "start_time": "2022-05-26T06:57:36.658Z"
   },
   {
    "duration": 10,
    "start_time": "2022-05-26T06:57:36.673Z"
   },
   {
    "duration": 20,
    "start_time": "2022-05-26T06:57:36.685Z"
   },
   {
    "duration": 27,
    "start_time": "2022-05-26T06:57:36.715Z"
   },
   {
    "duration": 15,
    "start_time": "2022-05-26T06:57:36.744Z"
   },
   {
    "duration": 5,
    "start_time": "2022-05-26T06:57:36.761Z"
   },
   {
    "duration": 138,
    "start_time": "2022-05-26T06:57:36.804Z"
   },
   {
    "duration": 194,
    "start_time": "2022-05-26T06:57:36.947Z"
   },
   {
    "duration": 199,
    "start_time": "2022-05-26T06:57:37.146Z"
   },
   {
    "duration": 152,
    "start_time": "2022-05-26T06:57:37.352Z"
   },
   {
    "duration": 133,
    "start_time": "2022-05-26T06:57:37.506Z"
   },
   {
    "duration": 13,
    "start_time": "2022-05-26T06:57:37.641Z"
   },
   {
    "duration": 13,
    "start_time": "2022-05-26T06:57:37.656Z"
   },
   {
    "duration": 4,
    "start_time": "2022-05-26T06:57:37.672Z"
   },
   {
    "duration": 49,
    "start_time": "2022-05-26T06:57:37.678Z"
   },
   {
    "duration": 11,
    "start_time": "2022-05-26T06:57:37.729Z"
   },
   {
    "duration": 9,
    "start_time": "2022-05-26T06:57:37.742Z"
   },
   {
    "duration": 11,
    "start_time": "2022-05-26T06:57:37.753Z"
   },
   {
    "duration": 7,
    "start_time": "2022-05-26T06:57:37.766Z"
   },
   {
    "duration": 3,
    "start_time": "2022-05-26T06:57:37.775Z"
   },
   {
    "duration": 773,
    "start_time": "2022-05-26T06:57:37.780Z"
   },
   {
    "duration": 174,
    "start_time": "2022-05-26T06:57:38.555Z"
   },
   {
    "duration": 7,
    "start_time": "2022-05-26T06:57:38.731Z"
   },
   {
    "duration": 8,
    "start_time": "2022-05-26T06:57:38.740Z"
   },
   {
    "duration": 845,
    "start_time": "2022-05-26T06:57:38.750Z"
   },
   {
    "duration": 178,
    "start_time": "2022-05-26T06:57:39.604Z"
   },
   {
    "duration": 9,
    "start_time": "2022-05-26T06:57:39.785Z"
   },
   {
    "duration": 772,
    "start_time": "2022-05-26T06:57:39.796Z"
   },
   {
    "duration": 183,
    "start_time": "2022-05-26T06:57:40.570Z"
   },
   {
    "duration": 5,
    "start_time": "2022-05-26T06:57:40.755Z"
   },
   {
    "duration": 89,
    "start_time": "2022-05-26T07:05:06.649Z"
   },
   {
    "duration": 99,
    "start_time": "2022-05-26T07:15:58.717Z"
   },
   {
    "duration": 7,
    "start_time": "2022-05-26T07:16:11.033Z"
   },
   {
    "duration": 18,
    "start_time": "2022-05-26T07:16:16.281Z"
   },
   {
    "duration": 13,
    "start_time": "2022-05-26T07:16:16.664Z"
   },
   {
    "duration": 13,
    "start_time": "2022-05-26T07:16:17.074Z"
   },
   {
    "duration": 32,
    "start_time": "2022-05-26T07:16:25.427Z"
   },
   {
    "duration": 12,
    "start_time": "2022-05-26T07:16:25.854Z"
   },
   {
    "duration": 17,
    "start_time": "2022-05-26T07:16:33.668Z"
   },
   {
    "duration": 21,
    "start_time": "2022-05-26T07:16:43.264Z"
   },
   {
    "duration": 35,
    "start_time": "2022-05-26T07:16:46.390Z"
   },
   {
    "duration": 3,
    "start_time": "2022-05-26T07:17:32.685Z"
   },
   {
    "duration": 137,
    "start_time": "2022-05-26T07:17:33.085Z"
   },
   {
    "duration": 145,
    "start_time": "2022-05-26T07:17:34.165Z"
   },
   {
    "duration": 106,
    "start_time": "2022-05-26T07:17:34.788Z"
   },
   {
    "duration": 27,
    "start_time": "2022-05-26T07:17:35.682Z"
   },
   {
    "duration": 20,
    "start_time": "2022-05-26T07:17:36.634Z"
   },
   {
    "duration": 9,
    "start_time": "2022-05-26T07:17:38.373Z"
   },
   {
    "duration": 20,
    "start_time": "2022-05-26T07:19:22.832Z"
   },
   {
    "duration": 32,
    "start_time": "2022-05-26T07:19:23.103Z"
   },
   {
    "duration": 21,
    "start_time": "2022-05-26T07:19:23.323Z"
   },
   {
    "duration": 5,
    "start_time": "2022-05-26T07:19:46.814Z"
   },
   {
    "duration": 29,
    "start_time": "2022-05-26T07:19:47.189Z"
   },
   {
    "duration": 14,
    "start_time": "2022-05-26T07:19:48.725Z"
   },
   {
    "duration": 15,
    "start_time": "2022-05-26T07:19:49.669Z"
   },
   {
    "duration": 12,
    "start_time": "2022-05-26T07:19:50.583Z"
   },
   {
    "duration": 51,
    "start_time": "2022-05-26T07:19:52.002Z"
   },
   {
    "duration": 240,
    "start_time": "2022-05-26T07:28:20.848Z"
   },
   {
    "duration": 60,
    "start_time": "2022-05-26T07:30:38.477Z"
   },
   {
    "duration": 19,
    "start_time": "2022-05-26T07:30:44.891Z"
   },
   {
    "duration": 132,
    "start_time": "2022-05-26T07:30:58.518Z"
   },
   {
    "duration": 213,
    "start_time": "2022-05-26T07:31:29.990Z"
   },
   {
    "duration": 22,
    "start_time": "2022-05-26T07:31:30.261Z"
   },
   {
    "duration": 26,
    "start_time": "2022-05-26T07:31:30.887Z"
   },
   {
    "duration": 157,
    "start_time": "2022-05-26T07:31:32.915Z"
   },
   {
    "duration": 18,
    "start_time": "2022-05-26T07:31:42.363Z"
   },
   {
    "duration": 15,
    "start_time": "2022-05-26T07:31:42.629Z"
   },
   {
    "duration": 20,
    "start_time": "2022-05-26T07:31:42.957Z"
   },
   {
    "duration": 4,
    "start_time": "2022-05-26T07:31:43.290Z"
   },
   {
    "duration": 57,
    "start_time": "2022-05-26T07:31:43.761Z"
   },
   {
    "duration": 21,
    "start_time": "2022-05-26T07:31:44.447Z"
   },
   {
    "duration": 30,
    "start_time": "2022-05-26T07:31:45.485Z"
   },
   {
    "duration": 16,
    "start_time": "2022-05-26T07:31:51.923Z"
   },
   {
    "duration": 20,
    "start_time": "2022-05-26T07:31:52.285Z"
   },
   {
    "duration": 16,
    "start_time": "2022-05-26T07:31:52.633Z"
   },
   {
    "duration": 18,
    "start_time": "2022-05-26T07:31:52.937Z"
   },
   {
    "duration": 22,
    "start_time": "2022-05-26T07:31:53.252Z"
   },
   {
    "duration": 26,
    "start_time": "2022-05-26T07:31:53.792Z"
   },
   {
    "duration": 17,
    "start_time": "2022-05-26T07:31:55.111Z"
   },
   {
    "duration": 43,
    "start_time": "2022-05-26T07:31:55.411Z"
   },
   {
    "duration": 22,
    "start_time": "2022-05-26T07:31:55.716Z"
   },
   {
    "duration": 20,
    "start_time": "2022-05-26T07:31:56.010Z"
   },
   {
    "duration": 155,
    "start_time": "2022-05-26T07:31:57.186Z"
   },
   {
    "duration": 18,
    "start_time": "2022-05-26T07:32:02.322Z"
   },
   {
    "duration": 14,
    "start_time": "2022-05-26T07:32:02.560Z"
   },
   {
    "duration": 15,
    "start_time": "2022-05-26T07:32:02.861Z"
   },
   {
    "duration": 3,
    "start_time": "2022-05-26T07:32:03.138Z"
   },
   {
    "duration": 24,
    "start_time": "2022-05-26T07:32:03.446Z"
   },
   {
    "duration": 33,
    "start_time": "2022-05-26T07:32:03.816Z"
   },
   {
    "duration": 26,
    "start_time": "2022-05-26T07:32:04.288Z"
   },
   {
    "duration": 161,
    "start_time": "2022-05-26T07:32:05.711Z"
   },
   {
    "duration": 1418,
    "start_time": "2022-05-26T07:33:10.436Z"
   },
   {
    "duration": 2,
    "start_time": "2022-05-26T07:33:11.856Z"
   },
   {
    "duration": 523,
    "start_time": "2022-05-26T07:33:11.860Z"
   },
   {
    "duration": 43,
    "start_time": "2022-05-26T07:33:12.385Z"
   },
   {
    "duration": 44,
    "start_time": "2022-05-26T07:33:12.435Z"
   },
   {
    "duration": 38,
    "start_time": "2022-05-26T07:33:12.481Z"
   },
   {
    "duration": 98,
    "start_time": "2022-05-26T07:33:12.521Z"
   },
   {
    "duration": 28,
    "start_time": "2022-05-26T07:33:12.621Z"
   },
   {
    "duration": 13,
    "start_time": "2022-05-26T07:33:12.651Z"
   },
   {
    "duration": 30,
    "start_time": "2022-05-26T07:33:12.667Z"
   },
   {
    "duration": 62,
    "start_time": "2022-05-26T07:33:12.698Z"
   },
   {
    "duration": 26,
    "start_time": "2022-05-26T07:33:12.762Z"
   },
   {
    "duration": 22,
    "start_time": "2022-05-26T07:33:12.790Z"
   },
   {
    "duration": 53,
    "start_time": "2022-05-26T07:33:12.814Z"
   },
   {
    "duration": 32,
    "start_time": "2022-05-26T07:33:12.869Z"
   },
   {
    "duration": 41,
    "start_time": "2022-05-26T07:33:12.903Z"
   },
   {
    "duration": 39,
    "start_time": "2022-05-26T07:33:12.946Z"
   },
   {
    "duration": 148,
    "start_time": "2022-05-26T07:33:12.988Z"
   },
   {
    "duration": 74,
    "start_time": "2022-05-26T07:33:13.143Z"
   },
   {
    "duration": 450,
    "start_time": "2022-05-26T07:33:13.224Z"
   },
   {
    "duration": 501,
    "start_time": "2022-05-26T07:33:13.676Z"
   },
   {
    "duration": 442,
    "start_time": "2022-05-26T07:33:14.179Z"
   },
   {
    "duration": 5895,
    "start_time": "2022-05-26T07:33:14.622Z"
   },
   {
    "duration": 324,
    "start_time": "2022-05-26T07:33:20.526Z"
   },
   {
    "duration": 5636,
    "start_time": "2022-05-26T07:33:20.852Z"
   },
   {
    "duration": 430,
    "start_time": "2022-05-26T07:33:26.495Z"
   },
   {
    "duration": 5831,
    "start_time": "2022-05-26T07:33:26.927Z"
   },
   {
    "duration": 351,
    "start_time": "2022-05-26T07:33:32.762Z"
   },
   {
    "duration": 384,
    "start_time": "2022-05-26T07:33:33.115Z"
   },
   {
    "duration": 195,
    "start_time": "2022-05-26T07:33:33.500Z"
   },
   {
    "duration": 398,
    "start_time": "2022-05-26T07:33:33.696Z"
   },
   {
    "duration": 191,
    "start_time": "2022-05-26T07:33:34.097Z"
   },
   {
    "duration": 388,
    "start_time": "2022-05-26T07:33:34.297Z"
   },
   {
    "duration": 321,
    "start_time": "2022-05-26T07:33:34.688Z"
   },
   {
    "duration": 16,
    "start_time": "2022-05-26T07:33:35.011Z"
   },
   {
    "duration": 27,
    "start_time": "2022-05-26T07:33:35.029Z"
   },
   {
    "duration": 14,
    "start_time": "2022-05-26T07:33:35.058Z"
   },
   {
    "duration": 31,
    "start_time": "2022-05-26T07:33:35.075Z"
   },
   {
    "duration": 19,
    "start_time": "2022-05-26T07:33:35.108Z"
   },
   {
    "duration": 27,
    "start_time": "2022-05-26T07:33:35.129Z"
   },
   {
    "duration": 4,
    "start_time": "2022-05-26T07:33:35.158Z"
   },
   {
    "duration": 132,
    "start_time": "2022-05-26T07:33:35.163Z"
   },
   {
    "duration": 21,
    "start_time": "2022-05-26T07:33:35.301Z"
   },
   {
    "duration": 173,
    "start_time": "2022-05-26T07:33:35.330Z"
   },
   {
    "duration": 97,
    "start_time": "2022-05-26T07:33:35.507Z"
   },
   {
    "duration": 134,
    "start_time": "2022-05-26T07:33:35.613Z"
   },
   {
    "duration": 81,
    "start_time": "2022-05-26T07:33:35.750Z"
   },
   {
    "duration": 63,
    "start_time": "2022-05-26T07:33:35.896Z"
   },
   {
    "duration": 18,
    "start_time": "2022-05-26T07:33:35.961Z"
   },
   {
    "duration": 68,
    "start_time": "2022-05-26T07:33:35.982Z"
   },
   {
    "duration": 17,
    "start_time": "2022-05-26T07:33:36.053Z"
   },
   {
    "duration": 45,
    "start_time": "2022-05-26T07:33:36.072Z"
   },
   {
    "duration": 26,
    "start_time": "2022-05-26T07:33:36.119Z"
   },
   {
    "duration": 26,
    "start_time": "2022-05-26T07:33:36.147Z"
   },
   {
    "duration": 12,
    "start_time": "2022-05-26T07:33:36.174Z"
   },
   {
    "duration": 78,
    "start_time": "2022-05-26T07:33:36.189Z"
   },
   {
    "duration": 17,
    "start_time": "2022-05-26T07:33:36.269Z"
   },
   {
    "duration": 796,
    "start_time": "2022-05-26T07:33:36.288Z"
   },
   {
    "duration": 212,
    "start_time": "2022-05-26T07:33:37.085Z"
   },
   {
    "duration": 9,
    "start_time": "2022-05-26T07:33:37.299Z"
   },
   {
    "duration": 43,
    "start_time": "2022-05-26T07:33:37.310Z"
   },
   {
    "duration": 792,
    "start_time": "2022-05-26T07:33:37.355Z"
   },
   {
    "duration": 162,
    "start_time": "2022-05-26T07:33:38.148Z"
   },
   {
    "duration": 5,
    "start_time": "2022-05-26T07:33:38.312Z"
   },
   {
    "duration": 825,
    "start_time": "2022-05-26T07:33:38.318Z"
   },
   {
    "duration": 194,
    "start_time": "2022-05-26T07:33:39.148Z"
   },
   {
    "duration": 12,
    "start_time": "2022-05-26T07:33:39.348Z"
   },
   {
    "duration": 12,
    "start_time": "2022-05-26T07:33:39.362Z"
   },
   {
    "duration": 47,
    "start_time": "2022-05-26T07:33:39.376Z"
   },
   {
    "duration": 41,
    "start_time": "2022-05-26T07:33:39.425Z"
   },
   {
    "duration": 18,
    "start_time": "2022-05-26T07:33:39.469Z"
   },
   {
    "duration": 40,
    "start_time": "2022-05-26T07:33:39.490Z"
   },
   {
    "duration": 52,
    "start_time": "2022-05-26T07:33:39.533Z"
   },
   {
    "duration": 25,
    "start_time": "2022-05-26T07:33:39.587Z"
   },
   {
    "duration": 20,
    "start_time": "2022-05-26T07:33:39.615Z"
   },
   {
    "duration": 23,
    "start_time": "2022-05-26T07:33:39.637Z"
   },
   {
    "duration": 51,
    "start_time": "2022-05-26T07:33:39.662Z"
   },
   {
    "duration": 130,
    "start_time": "2022-05-26T07:33:39.715Z"
   },
   {
    "duration": 298,
    "start_time": "2022-05-26T07:33:39.893Z"
   },
   {
    "duration": 20,
    "start_time": "2022-05-26T07:33:40.194Z"
   },
   {
    "duration": 35,
    "start_time": "2022-05-26T07:33:40.223Z"
   },
   {
    "duration": 16,
    "start_time": "2022-05-26T07:33:40.264Z"
   },
   {
    "duration": 8,
    "start_time": "2022-05-26T07:33:40.282Z"
   },
   {
    "duration": 114,
    "start_time": "2022-05-26T07:33:40.293Z"
   },
   {
    "duration": 126,
    "start_time": "2022-05-26T07:33:40.414Z"
   },
   {
    "duration": 107,
    "start_time": "2022-05-26T07:33:40.599Z"
   },
   {
    "duration": 208,
    "start_time": "2022-05-26T07:33:40.750Z"
   },
   {
    "duration": 57,
    "start_time": "2022-05-26T10:58:20.586Z"
   },
   {
    "duration": 34,
    "start_time": "2022-05-26T11:15:48.779Z"
   }
  ],
  "kernelspec": {
   "display_name": "Python 3 (ipykernel)",
   "language": "python",
   "name": "python3"
  },
  "language_info": {
   "codemirror_mode": {
    "name": "ipython",
    "version": 3
   },
   "file_extension": ".py",
   "mimetype": "text/x-python",
   "name": "python",
   "nbconvert_exporter": "python",
   "pygments_lexer": "ipython3",
   "version": "3.9.12"
  },
  "toc": {
   "base_numbering": 1,
   "nav_menu": {},
   "number_sections": true,
   "sideBar": true,
   "skip_h1_title": true,
   "title_cell": "Table of Contents",
   "title_sidebar": "Contents",
   "toc_cell": false,
   "toc_position": {},
   "toc_section_display": true,
   "toc_window_display": false
  }
 },
 "nbformat": 4,
 "nbformat_minor": 4
}
