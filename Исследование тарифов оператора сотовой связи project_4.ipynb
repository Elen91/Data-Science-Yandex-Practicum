{
 "cells": [
  {
   "cell_type": "markdown",
   "metadata": {},
   "source": [
    "<h1>Содержание<span class=\"tocSkip\"></span></h1>\n",
    "<div class=\"toc\"><ul class=\"toc-item\"><li><span><a href=\"#Изучение-данных-из-файла\" data-toc-modified-id=\"Изучение-данных-из-файла-1\"><span class=\"toc-item-num\">1&nbsp;&nbsp;</span>Изучение данных из файла</a></span></li><li><span><a href=\"#Предобработка-данных\" data-toc-modified-id=\"Предобработка-данных-2\"><span class=\"toc-item-num\">2&nbsp;&nbsp;</span>Предобработка данных</a></span></li><li><span><a href=\"#Исследовательский-анализ\" data-toc-modified-id=\"Исследовательский-анализ-3\"><span class=\"toc-item-num\">3&nbsp;&nbsp;</span>Исследовательский анализ</a></span><ul class=\"toc-item\"><li><span><a href=\"#Анализ-помесячной-выручки-по-пользователям\" data-toc-modified-id=\"Анализ-помесячной-выручки-по-пользователям-3.1\"><span class=\"toc-item-num\">3.1&nbsp;&nbsp;</span>Анализ помесячной выручки по пользователям</a></span><li><span><a href=\"#Анализ-поведения-пользователей\" data-toc-modified-id=\"Анализ-поведения-пользователей-3.2\"><span class=\"toc-item-num\">3.2&nbsp;&nbsp;</span>Анализ поведения пользователей</a></span></li></ul></li><li><span><a href=\"#Статистический-анализ-данных\" data-toc-modified-id=\"Статистический-анализ-данных-4\"><span class=\"toc-item-num\">4&nbsp;&nbsp;</span>Статистический анализ данных</a></span></li><li><span><a href=\"#Общий-вывод\" data-toc-modified-id=\"Общий-вывод-5\"><span class=\"toc-item-num\">5&nbsp;&nbsp;</span>Общий вывод</a></span></li></ul></div>"
   ]
  },
  {
   "cell_type": "markdown",
   "metadata": {},
   "source": [
    "# Исследование тарифов оператора сотовой связи  \n",
    "\n",
    "Вы аналитик компании «Мегалайн» — федерального оператора сотовой связи. Клиентам предлагают два тарифных плана: «Смарт» и «Ультра». Чтобы скорректировать рекламный бюджет, коммерческий департамент хочет понять, какой тариф приносит больше денег.  \n",
    "Вам предстоит сделать предварительный анализ тарифов на небольшой выборке клиентов. В вашем распоряжении данные 500 пользователей «Мегалайна»: кто они, откуда, каким тарифом пользуются, сколько звонков и сообщений каждый отправил за 2018 год. Нужно проанализировать поведение клиентов и сделать вывод — какой тариф лучше.  \n",
    "\n",
    "**Описание тарифов**  \n",
    "Тариф «Смарт»  \n",
    "- Ежемесячная плата: 550 рублей  \n",
    "- Включено 500 минут разговора, 50 сообщений и 15 Гб интернет-трафика  \n",
    "- Стоимость услуг сверх тарифного пакета:  \n",
    "    минута разговора: 3 рубля  \n",
    "    сообщение: 3 рубля  \n",
    "    1 Гб интернет-трафика: 200 рублей  \n",
    "\n",
    "**Тариф «Ультра»**  \n",
    "- Ежемесячная плата: 1950 рублей  \n",
    "- Включено 3000 минут разговора, 1000 сообщений и 30 Гб интернет-трафика  \n",
    "- Стоимость услуг сверх тарифного пакета:  \n",
    "    минута разговора: 1 рубль  \n",
    "    сообщение: 1 рубль   \n",
    "    1 Гб интернет-трафика: 150 рублей  \n",
    "    \n",
    "*Примечание:*   \n",
    "«Мегалайн» всегда округляет секунды до минут, а мегабайты — до гигабайт. Каждый звонок округляется отдельно: даже если он длился всего 1 секунду, будет засчитан как 1 минута.  \n",
    "Для веб-трафика отдельные сессии не считаются. Вместо этого общая сумма за месяц округляется в бо́льшую сторону. Если абонент использует 1025 мегабайт в этом месяце, с него возьмут плату за 2 гигабайта."
   ]
  },
  {
   "cell_type": "markdown",
   "metadata": {},
   "source": [
    "### Описание данных  \n",
    "\n",
    "**Таблица** `users` (информация о пользователях):  \n",
    "`user_id` — уникальный идентификатор пользователя  \n",
    "`first_name` — имя пользователя  \n",
    "`last_name` — фамилия пользователя  \n",
    "`age` — возраст пользователя (годы)  \n",
    "`reg_date` — дата подключения тарифа (день, месяц, год)  \n",
    "`churn_date` — дата прекращения пользования тарифом (если значение пропущено, то тариф ещё действовал на момент выгрузки данных)  \n",
    "`city` — город проживания пользователя  \n",
    "`tariff` — название тарифного плана  \n",
    "\n",
    "**Таблица** `calls` (информация о звонках):  \n",
    "`id` — уникальный номер звонка  \n",
    "`call_date` — дата звонка  \n",
    "`duration` — длительность звонка в минутах  \n",
    "`user_id` — идентификатор пользователя, сделавшего звонок  \n",
    "\n",
    "**Таблица** `messages` (информация о сообщениях):  \n",
    "`id` — уникальный номер сообщения  \n",
    "`message_date` — дата сообщения  \n",
    "`user_id` — идентификатор пользователя, отправившего сообщение  \n",
    "\n",
    "**Таблица** `internet` (информация об интернет-сессиях):  \n",
    "`id` — уникальный номер сессии  \n",
    "`mb_used` — объём потраченного за сессию интернет-трафика (в мегабайтах)  \n",
    "`session_date` — дата интернет-сессии  \n",
    "`user_id` — идентификатор пользователя   \n",
    "\n",
    "**Таблица** `tariffs` (информация о тарифах):  \n",
    "`tariff_name` — название тарифа  \n",
    "`rub_monthly_fee` — ежемесячная абонентская плата в рублях  \n",
    "`minutes_included` — количество минут разговора в месяц, включённых в абонентскую плату  \n",
    "`messages_included` — количество сообщений в месяц, включённых в абонентскую плату  \n",
    "`mb_per_month_included` — объём интернет-трафика, включённого в абонентскую плату (в мегабайтах)  \n",
    "`rub_per_minute` — стоимость минуты разговора сверх тарифного пакета (например, если в тарифе 100 минут разговора в месяц, то со 101 минуты будет взиматься плата)  \n",
    "`rub_per_message` — стоимость отправки сообщения сверх тарифного пакета  \n",
    "`rub_per_gb` — стоимость дополнительного гигабайта интернет-трафика сверх тарифного пакета (1 гигабайт = 1024 мегабайта)"
   ]
  },
  {
   "cell_type": "markdown",
   "metadata": {},
   "source": [
    "## План работы \n",
    "\n",
    "1) Вначале изучим данные из файлов: сколько переменных и их типы, число записей, число миссингов.  \n",
    "2) Затем приступим к преобработке данных: заменим типы переменных если нужно, примем решение, что делать с миссингами: оставить, удалить или заменить синтетическими данными.  \n",
    "3) Посчитаем необходимые дополнительные сведения в соответствии с ТЗ: количество сделанных звонков и израсходованных минут разговора по месяцам; количество отправленных сообщений по месяцам; объем израсходованного интернет-трафика по месяцам; помесячную выручку с каждого пользователя.  \n",
    "4) Проанализируем данные (исследовательский анализ данных): проанализируем поведение пользователей, проведем анализ помесячной выручки по пользователям.  \n",
    "5) Проведем статистический анализ данных и проверим две гипотезы: средняя выручка пользователей тарифов «Ультра» и «Смарт» различаются; средняя выручка пользователей из Москвы отличается от выручки пользователей из других регионов."
   ]
  },
  {
   "cell_type": "markdown",
   "metadata": {},
   "source": [
    "## Изучение данных из файла"
   ]
  },
  {
   "cell_type": "code",
   "execution_count": 62,
   "metadata": {},
   "outputs": [],
   "source": [
    "import pandas as pd \n",
    "import numpy as np \n",
    "import seaborn as sns\n",
    "import math\n",
    "import statistics # для построения доверительных интервалов\n",
    "from matplotlib import pyplot as plt\n",
    "from math import sqrt\n",
    "\n",
    "#from pandas.api.types import CategoricalDtype\n",
    "\n",
    "from scipy import stats as st\n",
    "\n",
    "pd.options.display.float_format = '{:,.2f}'.format"
   ]
  },
  {
   "cell_type": "code",
   "execution_count": 63,
   "metadata": {},
   "outputs": [],
   "source": [
    "# загрузим данные и сохраним в переменную data\n",
    "users = pd.read_csv('/datasets/users.csv')\n",
    "calls = pd.read_csv('/datasets/calls.csv')\n",
    "messages = pd.read_csv('/datasets/messages.csv')\n",
    "internet = pd.read_csv('/datasets/internet.csv')\n",
    "tariffs = pd.read_csv('/datasets/tariffs.csv')\n",
    "\n",
    "# users = pd.read_csv('users.csv')\n",
    "# calls = pd.read_csv('calls.csv')\n",
    "# messages = pd.read_csv('messages.csv')\n",
    "# internet = pd.read_csv('internet.csv')\n",
    "# tariffs = pd.read_csv('tariffs.csv')"
   ]
  },
  {
   "cell_type": "markdown",
   "metadata": {},
   "source": [
    "## Предобработка данных"
   ]
  },
  {
   "cell_type": "markdown",
   "metadata": {},
   "source": [
    "#### Информация о пользователях"
   ]
  },
  {
   "cell_type": "code",
   "execution_count": 64,
   "metadata": {},
   "outputs": [
    {
     "data": {
      "text/html": [
       "<div>\n",
       "<style scoped>\n",
       "    .dataframe tbody tr th:only-of-type {\n",
       "        vertical-align: middle;\n",
       "    }\n",
       "\n",
       "    .dataframe tbody tr th {\n",
       "        vertical-align: top;\n",
       "    }\n",
       "\n",
       "    .dataframe thead th {\n",
       "        text-align: right;\n",
       "    }\n",
       "</style>\n",
       "<table border=\"1\" class=\"dataframe\">\n",
       "  <thead>\n",
       "    <tr style=\"text-align: right;\">\n",
       "      <th></th>\n",
       "      <th>user_id</th>\n",
       "      <th>age</th>\n",
       "      <th>churn_date</th>\n",
       "      <th>city</th>\n",
       "      <th>first_name</th>\n",
       "      <th>last_name</th>\n",
       "      <th>reg_date</th>\n",
       "      <th>tariff</th>\n",
       "    </tr>\n",
       "  </thead>\n",
       "  <tbody>\n",
       "    <tr>\n",
       "      <th>0</th>\n",
       "      <td>1000</td>\n",
       "      <td>52</td>\n",
       "      <td>NaN</td>\n",
       "      <td>Краснодар</td>\n",
       "      <td>Рафаил</td>\n",
       "      <td>Верещагин</td>\n",
       "      <td>2018-05-25</td>\n",
       "      <td>ultra</td>\n",
       "    </tr>\n",
       "    <tr>\n",
       "      <th>1</th>\n",
       "      <td>1001</td>\n",
       "      <td>41</td>\n",
       "      <td>NaN</td>\n",
       "      <td>Москва</td>\n",
       "      <td>Иван</td>\n",
       "      <td>Ежов</td>\n",
       "      <td>2018-11-01</td>\n",
       "      <td>smart</td>\n",
       "    </tr>\n",
       "    <tr>\n",
       "      <th>2</th>\n",
       "      <td>1002</td>\n",
       "      <td>59</td>\n",
       "      <td>NaN</td>\n",
       "      <td>Стерлитамак</td>\n",
       "      <td>Евгений</td>\n",
       "      <td>Абрамович</td>\n",
       "      <td>2018-06-17</td>\n",
       "      <td>smart</td>\n",
       "    </tr>\n",
       "    <tr>\n",
       "      <th>3</th>\n",
       "      <td>1003</td>\n",
       "      <td>23</td>\n",
       "      <td>NaN</td>\n",
       "      <td>Москва</td>\n",
       "      <td>Белла</td>\n",
       "      <td>Белякова</td>\n",
       "      <td>2018-08-17</td>\n",
       "      <td>ultra</td>\n",
       "    </tr>\n",
       "    <tr>\n",
       "      <th>4</th>\n",
       "      <td>1004</td>\n",
       "      <td>68</td>\n",
       "      <td>NaN</td>\n",
       "      <td>Новокузнецк</td>\n",
       "      <td>Татьяна</td>\n",
       "      <td>Авдеенко</td>\n",
       "      <td>2018-05-14</td>\n",
       "      <td>ultra</td>\n",
       "    </tr>\n",
       "  </tbody>\n",
       "</table>\n",
       "</div>"
      ],
      "text/plain": [
       "   user_id  age churn_date         city first_name  last_name    reg_date  \\\n",
       "0     1000   52        NaN    Краснодар     Рафаил  Верещагин  2018-05-25   \n",
       "1     1001   41        NaN       Москва       Иван       Ежов  2018-11-01   \n",
       "2     1002   59        NaN  Стерлитамак    Евгений  Абрамович  2018-06-17   \n",
       "3     1003   23        NaN       Москва      Белла   Белякова  2018-08-17   \n",
       "4     1004   68        NaN  Новокузнецк    Татьяна   Авдеенко  2018-05-14   \n",
       "\n",
       "  tariff  \n",
       "0  ultra  \n",
       "1  smart  \n",
       "2  smart  \n",
       "3  ultra  \n",
       "4  ultra  "
      ]
     },
     "execution_count": 64,
     "metadata": {},
     "output_type": "execute_result"
    }
   ],
   "source": [
    "# посмотрим повнимательнее на наши датасеты\n",
    "users.head()"
   ]
  },
  {
   "cell_type": "code",
   "execution_count": 65,
   "metadata": {},
   "outputs": [
    {
     "name": "stdout",
     "output_type": "stream",
     "text": [
      "<class 'pandas.core.frame.DataFrame'>\n",
      "RangeIndex: 500 entries, 0 to 499\n",
      "Data columns (total 8 columns):\n",
      " #   Column      Non-Null Count  Dtype \n",
      "---  ------      --------------  ----- \n",
      " 0   user_id     500 non-null    int64 \n",
      " 1   age         500 non-null    int64 \n",
      " 2   churn_date  38 non-null     object\n",
      " 3   city        500 non-null    object\n",
      " 4   first_name  500 non-null    object\n",
      " 5   last_name   500 non-null    object\n",
      " 6   reg_date    500 non-null    object\n",
      " 7   tariff      500 non-null    object\n",
      "dtypes: int64(2), object(6)\n",
      "memory usage: 31.4+ KB\n"
     ]
    }
   ],
   "source": [
    "users.info()"
   ]
  },
  {
   "cell_type": "code",
   "execution_count": 66,
   "metadata": {},
   "outputs": [
    {
     "data": {
      "text/plain": [
       "user_id         0\n",
       "age             0\n",
       "churn_date    462\n",
       "city            0\n",
       "first_name      0\n",
       "last_name       0\n",
       "reg_date        0\n",
       "tariff          0\n",
       "dtype: int64"
      ]
     },
     "execution_count": 66,
     "metadata": {},
     "output_type": "execute_result"
    }
   ],
   "source": [
    "users.isna().sum()"
   ]
  },
  {
   "cell_type": "code",
   "execution_count": 67,
   "metadata": {},
   "outputs": [
    {
     "data": {
      "text/plain": [
       "0"
      ]
     },
     "execution_count": 67,
     "metadata": {},
     "output_type": "execute_result"
    }
   ],
   "source": [
    "users.duplicated().sum()"
   ]
  },
  {
   "cell_type": "code",
   "execution_count": 68,
   "metadata": {},
   "outputs": [
    {
     "data": {
      "text/plain": [
       "0"
      ]
     },
     "execution_count": 68,
     "metadata": {},
     "output_type": "execute_result"
    }
   ],
   "source": [
    "# проверим есть ли дубли по именам\n",
    "users[['first_name', 'last_name']].agg(' '.join, axis=1) .str.lower().duplicated().sum()"
   ]
  },
  {
   "cell_type": "code",
   "execution_count": 69,
   "metadata": {},
   "outputs": [
    {
     "data": {
      "text/plain": [
       "0"
      ]
     },
     "execution_count": 69,
     "metadata": {},
     "output_type": "execute_result"
    }
   ],
   "source": [
    "users[['user_id']].duplicated().sum()"
   ]
  },
  {
   "cell_type": "markdown",
   "metadata": {},
   "source": [
    "В данных `users` информация о 500 пользователях. Всего в датасете 8 переменных, из которых два определились как числовые, а остальные как тип object. В даннах необходимо поменять тип данных с object на тип datе в столбце reg_date, поскольку в ней содержатся информация о дате подключения тарифа.  Полных дублей нет.\n",
    "По поводу миссингов. Миссинги только в столбце `churn_date` - дата прекращения пользования тарифом, но как уже описано в документации, если в данных есть миссинги (462 - очень много, около 92%), то тариф ещё действовал на момент выгрузки данных. Эти миссинги оставляем без изменений.  \n",
    "Также есть желание изменить тип с int на str в столбце `user_id`. Но сначала проверю какой тип у этого параментра в других датасетах."
   ]
  },
  {
   "cell_type": "code",
   "execution_count": 70,
   "metadata": {},
   "outputs": [],
   "source": [
    "# поменяем тип данных\n",
    "users['reg_date'] = pd.to_datetime(users['reg_date'], format='%Y-%m-%d')"
   ]
  },
  {
   "cell_type": "code",
   "execution_count": 71,
   "metadata": {},
   "outputs": [
    {
     "name": "stdout",
     "output_type": "stream",
     "text": [
      "<class 'pandas.core.frame.DataFrame'>\n",
      "RangeIndex: 500 entries, 0 to 499\n",
      "Data columns (total 8 columns):\n",
      " #   Column      Non-Null Count  Dtype         \n",
      "---  ------      --------------  -----         \n",
      " 0   user_id     500 non-null    int64         \n",
      " 1   age         500 non-null    int64         \n",
      " 2   churn_date  38 non-null     object        \n",
      " 3   city        500 non-null    object        \n",
      " 4   first_name  500 non-null    object        \n",
      " 5   last_name   500 non-null    object        \n",
      " 6   reg_date    500 non-null    datetime64[ns]\n",
      " 7   tariff      500 non-null    object        \n",
      "dtypes: datetime64[ns](1), int64(2), object(5)\n",
      "memory usage: 31.4+ KB\n"
     ]
    }
   ],
   "source": [
    "users.info() # проверим"
   ]
  },
  {
   "cell_type": "code",
   "execution_count": 72,
   "metadata": {},
   "outputs": [
    {
     "data": {
      "text/plain": [
       "count   500.00\n",
       "mean     46.59\n",
       "std      16.67\n",
       "min      18.00\n",
       "25%      32.00\n",
       "50%      46.00\n",
       "75%      62.00\n",
       "max      75.00\n",
       "Name: age, dtype: float64"
      ]
     },
     "execution_count": 72,
     "metadata": {},
     "output_type": "execute_result"
    }
   ],
   "source": [
    "# посмотрим как распределены данные в age \n",
    "users['age'].describe()"
   ]
  },
  {
   "cell_type": "code",
   "execution_count": 73,
   "metadata": {},
   "outputs": [
    {
     "data": {
      "text/plain": [
       "<AxesSubplot:>"
      ]
     },
     "execution_count": 73,
     "metadata": {},
     "output_type": "execute_result"
    },
    {
     "data": {
      "image/png": "[encoded data removed]",
      "text/plain": [
       "<Figure size 432x288 with 1 Axes>"
      ]
     },
     "metadata": {
      "needs_background": "light"
     },
     "output_type": "display_data"
    }
   ],
   "source": [
    "users['age'].hist()"
   ]
  },
  {
   "cell_type": "markdown",
   "metadata": {},
   "source": [
    "Средний возраст пользователей - 46,5 лет, медианный - 46 лет. Самому юному пользователю 18 лет, а самому старшему - 75 лет. Судя пр гистограмме, данные распределены более-менее равномерно по возрасту."
   ]
  },
  {
   "cell_type": "code",
   "execution_count": 74,
   "metadata": {},
   "outputs": [
    {
     "data": {
      "text/html": [
       "<div>\n",
       "<style scoped>\n",
       "    .dataframe tbody tr th:only-of-type {\n",
       "        vertical-align: middle;\n",
       "    }\n",
       "\n",
       "    .dataframe tbody tr th {\n",
       "        vertical-align: top;\n",
       "    }\n",
       "\n",
       "    .dataframe thead th {\n",
       "        text-align: right;\n",
       "    }\n",
       "</style>\n",
       "<table border=\"1\" class=\"dataframe\">\n",
       "  <thead>\n",
       "    <tr style=\"text-align: right;\">\n",
       "      <th></th>\n",
       "      <th>city</th>\n",
       "    </tr>\n",
       "  </thead>\n",
       "  <tbody>\n",
       "    <tr>\n",
       "      <th>Москва</th>\n",
       "      <td>99</td>\n",
       "    </tr>\n",
       "    <tr>\n",
       "      <th>Санкт-Петербург</th>\n",
       "      <td>39</td>\n",
       "    </tr>\n",
       "    <tr>\n",
       "      <th>Новосибирск</th>\n",
       "      <td>16</td>\n",
       "    </tr>\n",
       "    <tr>\n",
       "      <th>Омск</th>\n",
       "      <td>14</td>\n",
       "    </tr>\n",
       "    <tr>\n",
       "      <th>Казань</th>\n",
       "      <td>14</td>\n",
       "    </tr>\n",
       "    <tr>\n",
       "      <th>...</th>\n",
       "      <td>...</td>\n",
       "    </tr>\n",
       "    <tr>\n",
       "      <th>Нижневартовск</th>\n",
       "      <td>1</td>\n",
       "    </tr>\n",
       "    <tr>\n",
       "      <th>Иваново</th>\n",
       "      <td>1</td>\n",
       "    </tr>\n",
       "    <tr>\n",
       "      <th>Архангельск</th>\n",
       "      <td>1</td>\n",
       "    </tr>\n",
       "    <tr>\n",
       "      <th>Подольск</th>\n",
       "      <td>1</td>\n",
       "    </tr>\n",
       "    <tr>\n",
       "      <th>Химки</th>\n",
       "      <td>1</td>\n",
       "    </tr>\n",
       "  </tbody>\n",
       "</table>\n",
       "<p>76 rows × 1 columns</p>\n",
       "</div>"
      ],
      "text/plain": [
       "                 city\n",
       "Москва             99\n",
       "Санкт-Петербург    39\n",
       "Новосибирск        16\n",
       "Омск               14\n",
       "Казань             14\n",
       "...               ...\n",
       "Нижневартовск       1\n",
       "Иваново             1\n",
       "Архангельск         1\n",
       "Подольск            1\n",
       "Химки               1\n",
       "\n",
       "[76 rows x 1 columns]"
      ]
     },
     "execution_count": 74,
     "metadata": {},
     "output_type": "execute_result"
    }
   ],
   "source": [
    "# выясним из каких населенных пунктов наши пользователи\n",
    "users['city'].value_counts().to_frame()"
   ]
  },
  {
   "cell_type": "code",
   "execution_count": 75,
   "metadata": {},
   "outputs": [
    {
     "data": {
      "text/html": [
       "<div>\n",
       "<style scoped>\n",
       "    .dataframe tbody tr th:only-of-type {\n",
       "        vertical-align: middle;\n",
       "    }\n",
       "\n",
       "    .dataframe tbody tr th {\n",
       "        vertical-align: top;\n",
       "    }\n",
       "\n",
       "    .dataframe thead th {\n",
       "        text-align: right;\n",
       "    }\n",
       "</style>\n",
       "<table border=\"1\" class=\"dataframe\">\n",
       "  <thead>\n",
       "    <tr style=\"text-align: right;\">\n",
       "      <th></th>\n",
       "      <th>city</th>\n",
       "    </tr>\n",
       "  </thead>\n",
       "  <tbody>\n",
       "    <tr>\n",
       "      <th>Сургут</th>\n",
       "      <td>2</td>\n",
       "    </tr>\n",
       "    <tr>\n",
       "      <th>Калининград</th>\n",
       "      <td>2</td>\n",
       "    </tr>\n",
       "    <tr>\n",
       "      <th>Тамбов</th>\n",
       "      <td>2</td>\n",
       "    </tr>\n",
       "    <tr>\n",
       "      <th>Ижевск</th>\n",
       "      <td>2</td>\n",
       "    </tr>\n",
       "    <tr>\n",
       "      <th>Волжский</th>\n",
       "      <td>2</td>\n",
       "    </tr>\n",
       "    <tr>\n",
       "      <th>Нижневартовск</th>\n",
       "      <td>1</td>\n",
       "    </tr>\n",
       "    <tr>\n",
       "      <th>Иваново</th>\n",
       "      <td>1</td>\n",
       "    </tr>\n",
       "    <tr>\n",
       "      <th>Архангельск</th>\n",
       "      <td>1</td>\n",
       "    </tr>\n",
       "    <tr>\n",
       "      <th>Подольск</th>\n",
       "      <td>1</td>\n",
       "    </tr>\n",
       "    <tr>\n",
       "      <th>Химки</th>\n",
       "      <td>1</td>\n",
       "    </tr>\n",
       "  </tbody>\n",
       "</table>\n",
       "</div>"
      ],
      "text/plain": [
       "               city\n",
       "Сургут            2\n",
       "Калининград       2\n",
       "Тамбов            2\n",
       "Ижевск            2\n",
       "Волжский          2\n",
       "Нижневартовск     1\n",
       "Иваново           1\n",
       "Архангельск       1\n",
       "Подольск          1\n",
       "Химки             1"
      ]
     },
     "execution_count": 75,
     "metadata": {},
     "output_type": "execute_result"
    }
   ],
   "source": [
    "users['city'].value_counts().to_frame().tail(10)"
   ]
  },
  {
   "cell_type": "markdown",
   "metadata": {},
   "source": [
    "Пользователи представлены в 76 населенных пунктах. Больше всего пользователей в Москве, а затем идут Санкт-Петербург, Новосибирск, Казань и Омск. Меньше всего (по 1 пользователю) в Химках, Иваново, Нижневартовске, Архангельске и Подольске."
   ]
  },
  {
   "cell_type": "code",
   "execution_count": 76,
   "metadata": {},
   "outputs": [
    {
     "data": {
      "text/plain": [
       "array([2018])"
      ]
     },
     "execution_count": 76,
     "metadata": {},
     "output_type": "execute_result"
    }
   ],
   "source": [
    "# выясним за какой период выгружены данные\n",
    "users['reg_date'].dt.year.unique()"
   ]
  },
  {
   "cell_type": "code",
   "execution_count": 77,
   "metadata": {},
   "outputs": [
    {
     "data": {
      "text/plain": [
       "array([ 1,  2,  3,  4,  5,  6,  7,  8,  9, 10, 11, 12])"
      ]
     },
     "execution_count": 77,
     "metadata": {},
     "output_type": "execute_result"
    }
   ],
   "source": [
    "users['reg_date'].dt.month.sort_values().unique()"
   ]
  },
  {
   "cell_type": "code",
   "execution_count": 78,
   "metadata": {},
   "outputs": [
    {
     "data": {
      "text/plain": [
       "smart    351\n",
       "ultra    149\n",
       "Name: tariff, dtype: int64"
      ]
     },
     "execution_count": 78,
     "metadata": {},
     "output_type": "execute_result"
    }
   ],
   "source": [
    "# как распределены клиенты по тарифам\n",
    "users['tariff'].value_counts()"
   ]
  },
  {
   "cell_type": "markdown",
   "metadata": {},
   "source": [
    "Видим, что большинство пользователей используют тариф `smart` (351 против 149)."
   ]
  },
  {
   "cell_type": "markdown",
   "metadata": {},
   "source": [
    "Данные выгружены за весь 2018 год."
   ]
  },
  {
   "cell_type": "markdown",
   "metadata": {},
   "source": [
    "#### Информация о звонках"
   ]
  },
  {
   "cell_type": "code",
   "execution_count": 79,
   "metadata": {},
   "outputs": [
    {
     "data": {
      "text/html": [
       "<div>\n",
       "<style scoped>\n",
       "    .dataframe tbody tr th:only-of-type {\n",
       "        vertical-align: middle;\n",
       "    }\n",
       "\n",
       "    .dataframe tbody tr th {\n",
       "        vertical-align: top;\n",
       "    }\n",
       "\n",
       "    .dataframe thead th {\n",
       "        text-align: right;\n",
       "    }\n",
       "</style>\n",
       "<table border=\"1\" class=\"dataframe\">\n",
       "  <thead>\n",
       "    <tr style=\"text-align: right;\">\n",
       "      <th></th>\n",
       "      <th>id</th>\n",
       "      <th>call_date</th>\n",
       "      <th>duration</th>\n",
       "      <th>user_id</th>\n",
       "    </tr>\n",
       "  </thead>\n",
       "  <tbody>\n",
       "    <tr>\n",
       "      <th>0</th>\n",
       "      <td>1000_0</td>\n",
       "      <td>2018-07-25</td>\n",
       "      <td>0.00</td>\n",
       "      <td>1000</td>\n",
       "    </tr>\n",
       "    <tr>\n",
       "      <th>1</th>\n",
       "      <td>1000_1</td>\n",
       "      <td>2018-08-17</td>\n",
       "      <td>0.00</td>\n",
       "      <td>1000</td>\n",
       "    </tr>\n",
       "    <tr>\n",
       "      <th>2</th>\n",
       "      <td>1000_2</td>\n",
       "      <td>2018-06-11</td>\n",
       "      <td>2.85</td>\n",
       "      <td>1000</td>\n",
       "    </tr>\n",
       "    <tr>\n",
       "      <th>3</th>\n",
       "      <td>1000_3</td>\n",
       "      <td>2018-09-21</td>\n",
       "      <td>13.80</td>\n",
       "      <td>1000</td>\n",
       "    </tr>\n",
       "    <tr>\n",
       "      <th>4</th>\n",
       "      <td>1000_4</td>\n",
       "      <td>2018-12-15</td>\n",
       "      <td>5.18</td>\n",
       "      <td>1000</td>\n",
       "    </tr>\n",
       "  </tbody>\n",
       "</table>\n",
       "</div>"
      ],
      "text/plain": [
       "       id   call_date  duration  user_id\n",
       "0  1000_0  2018-07-25      0.00     1000\n",
       "1  1000_1  2018-08-17      0.00     1000\n",
       "2  1000_2  2018-06-11      2.85     1000\n",
       "3  1000_3  2018-09-21     13.80     1000\n",
       "4  1000_4  2018-12-15      5.18     1000"
      ]
     },
     "execution_count": 79,
     "metadata": {},
     "output_type": "execute_result"
    }
   ],
   "source": [
    "# посмотрим на датасет calls (информация о звонках)\n",
    "calls.head()"
   ]
  },
  {
   "cell_type": "code",
   "execution_count": 80,
   "metadata": {},
   "outputs": [
    {
     "name": "stdout",
     "output_type": "stream",
     "text": [
      "<class 'pandas.core.frame.DataFrame'>\n",
      "RangeIndex: 202607 entries, 0 to 202606\n",
      "Data columns (total 4 columns):\n",
      " #   Column     Non-Null Count   Dtype  \n",
      "---  ------     --------------   -----  \n",
      " 0   id         202607 non-null  object \n",
      " 1   call_date  202607 non-null  object \n",
      " 2   duration   202607 non-null  float64\n",
      " 3   user_id    202607 non-null  int64  \n",
      "dtypes: float64(1), int64(1), object(2)\n",
      "memory usage: 6.2+ MB\n"
     ]
    }
   ],
   "source": [
    "calls.info()"
   ]
  },
  {
   "cell_type": "code",
   "execution_count": 81,
   "metadata": {},
   "outputs": [
    {
     "data": {
      "text/html": [
       "<div>\n",
       "<style scoped>\n",
       "    .dataframe tbody tr th:only-of-type {\n",
       "        vertical-align: middle;\n",
       "    }\n",
       "\n",
       "    .dataframe tbody tr th {\n",
       "        vertical-align: top;\n",
       "    }\n",
       "\n",
       "    .dataframe thead th {\n",
       "        text-align: right;\n",
       "    }\n",
       "</style>\n",
       "<table border=\"1\" class=\"dataframe\">\n",
       "  <thead>\n",
       "    <tr style=\"text-align: right;\">\n",
       "      <th></th>\n",
       "      <th>id</th>\n",
       "      <th>user_id</th>\n",
       "    </tr>\n",
       "  </thead>\n",
       "  <tbody>\n",
       "    <tr>\n",
       "      <th>115</th>\n",
       "      <td>1000_115</td>\n",
       "      <td>1000</td>\n",
       "    </tr>\n",
       "    <tr>\n",
       "      <th>116</th>\n",
       "      <td>1000_116</td>\n",
       "      <td>1000</td>\n",
       "    </tr>\n",
       "    <tr>\n",
       "      <th>117</th>\n",
       "      <td>1000_117</td>\n",
       "      <td>1000</td>\n",
       "    </tr>\n",
       "    <tr>\n",
       "      <th>118</th>\n",
       "      <td>1000_118</td>\n",
       "      <td>1000</td>\n",
       "    </tr>\n",
       "  </tbody>\n",
       "</table>\n",
       "</div>"
      ],
      "text/plain": [
       "           id  user_id\n",
       "115  1000_115     1000\n",
       "116  1000_116     1000\n",
       "117  1000_117     1000\n",
       "118  1000_118     1000"
      ]
     },
     "execution_count": 81,
     "metadata": {},
     "output_type": "execute_result"
    }
   ],
   "source": [
    "calls[['id', 'user_id']][115:119]"
   ]
  },
  {
   "cell_type": "code",
   "execution_count": 82,
   "metadata": {},
   "outputs": [
    {
     "data": {
      "text/plain": [
       "0"
      ]
     },
     "execution_count": 82,
     "metadata": {},
     "output_type": "execute_result"
    }
   ],
   "source": [
    "calls['id'].duplicated().sum()"
   ]
  },
  {
   "cell_type": "markdown",
   "metadata": {},
   "source": [
    "Датасет `calls` полный, здесь нет пропущенных значений. В базе есть информация по 202607 звонкам. Тип параметра `call_date` также заменим на тип date. Тип столбца `user_id` целочисленный, оставим без изменений. Дублей по айди звонков нет.  \n",
    "Заметим, также в столбце `id` - уникальный номер звонка начинается с айди уникального пользователя, а после нижнего подчеркивания идет порядковый номер совершенного звонка, что в дальнейшем нам может понадобится."
   ]
  },
  {
   "cell_type": "code",
   "execution_count": 83,
   "metadata": {},
   "outputs": [],
   "source": [
    "# поменяем тип данных\n",
    "calls['call_date'] = pd.to_datetime(calls['call_date'], format='%Y-%m-%d')"
   ]
  },
  {
   "cell_type": "code",
   "execution_count": 84,
   "metadata": {},
   "outputs": [
    {
     "name": "stdout",
     "output_type": "stream",
     "text": [
      "<class 'pandas.core.frame.DataFrame'>\n",
      "RangeIndex: 202607 entries, 0 to 202606\n",
      "Data columns (total 4 columns):\n",
      " #   Column     Non-Null Count   Dtype         \n",
      "---  ------     --------------   -----         \n",
      " 0   id         202607 non-null  object        \n",
      " 1   call_date  202607 non-null  datetime64[ns]\n",
      " 2   duration   202607 non-null  float64       \n",
      " 3   user_id    202607 non-null  int64         \n",
      "dtypes: datetime64[ns](1), float64(1), int64(1), object(1)\n",
      "memory usage: 6.2+ MB\n"
     ]
    }
   ],
   "source": [
    "calls.info()"
   ]
  },
  {
   "cell_type": "code",
   "execution_count": 85,
   "metadata": {},
   "outputs": [
    {
     "data": {
      "text/plain": [
       "<AxesSubplot:>"
      ]
     },
     "execution_count": 85,
     "metadata": {},
     "output_type": "execute_result"
    },
    {
     "data": {
      "image/png": "[encoded data removed]",
      "text/plain": [
       "<Figure size 432x288 with 1 Axes>"
      ]
     },
     "metadata": {
      "needs_background": "light"
     },
     "output_type": "display_data"
    }
   ],
   "source": [
    "# посмотрим на статистику по длительности звонков\n",
    "calls['duration'].hist()"
   ]
  },
  {
   "cell_type": "code",
   "execution_count": 86,
   "metadata": {},
   "outputs": [
    {
     "data": {
      "text/plain": [
       "count   202,607.00\n",
       "mean          6.76\n",
       "std           5.84\n",
       "min           0.00\n",
       "25%           1.30\n",
       "50%           6.00\n",
       "75%          10.70\n",
       "max          38.00\n",
       "Name: duration, dtype: float64"
      ]
     },
     "execution_count": 86,
     "metadata": {},
     "output_type": "execute_result"
    }
   ],
   "source": [
    "calls['duration'].describe()"
   ]
  },
  {
   "cell_type": "markdown",
   "metadata": {},
   "source": [
    "Судя по гистограмме и описательной статистике очень много коротких звонков (от 0 до 4 минут). При этом медианная продолжительность звонка равна 6 минутам, минимальная - 0, а максимальная - 38 минутам. Среднее равно 6,75 мин, а стандартное отклонение - 5,84 мин.\n",
    "\n",
    "Каких-либо аномалий в данных не наблюдается.\n",
    "\n",
    "Проверим, что данные в этом датасете тоже выгржены за 2018 год."
   ]
  },
  {
   "cell_type": "code",
   "execution_count": 87,
   "metadata": {},
   "outputs": [
    {
     "data": {
      "text/plain": [
       "array([2018])"
      ]
     },
     "metadata": {},
     "output_type": "display_data"
    },
    {
     "data": {
      "text/plain": [
       "array([ 1,  2,  3,  4,  5,  6,  7,  8,  9, 10, 11, 12])"
      ]
     },
     "metadata": {},
     "output_type": "display_data"
    }
   ],
   "source": [
    "display(calls['call_date'].dt.year.unique())\n",
    "display(calls['call_date'].dt.month.sort_values().unique())"
   ]
  },
  {
   "cell_type": "markdown",
   "metadata": {},
   "source": [
    "Все верно."
   ]
  },
  {
   "cell_type": "markdown",
   "metadata": {},
   "source": [
    "#### Информация о сообщениях"
   ]
  },
  {
   "cell_type": "code",
   "execution_count": 88,
   "metadata": {},
   "outputs": [
    {
     "name": "stdout",
     "output_type": "stream",
     "text": [
      "<class 'pandas.core.frame.DataFrame'>\n",
      "RangeIndex: 123036 entries, 0 to 123035\n",
      "Data columns (total 3 columns):\n",
      " #   Column        Non-Null Count   Dtype \n",
      "---  ------        --------------   ----- \n",
      " 0   id            123036 non-null  object\n",
      " 1   message_date  123036 non-null  object\n",
      " 2   user_id       123036 non-null  int64 \n",
      "dtypes: int64(1), object(2)\n",
      "memory usage: 2.8+ MB\n"
     ]
    }
   ],
   "source": [
    "# рассмотрим базу messages (информация о сообщениях)\n",
    "messages.info()"
   ]
  },
  {
   "cell_type": "code",
   "execution_count": 89,
   "metadata": {},
   "outputs": [
    {
     "data": {
      "text/html": [
       "<div>\n",
       "<style scoped>\n",
       "    .dataframe tbody tr th:only-of-type {\n",
       "        vertical-align: middle;\n",
       "    }\n",
       "\n",
       "    .dataframe tbody tr th {\n",
       "        vertical-align: top;\n",
       "    }\n",
       "\n",
       "    .dataframe thead th {\n",
       "        text-align: right;\n",
       "    }\n",
       "</style>\n",
       "<table border=\"1\" class=\"dataframe\">\n",
       "  <thead>\n",
       "    <tr style=\"text-align: right;\">\n",
       "      <th></th>\n",
       "      <th>id</th>\n",
       "      <th>message_date</th>\n",
       "      <th>user_id</th>\n",
       "    </tr>\n",
       "  </thead>\n",
       "  <tbody>\n",
       "    <tr>\n",
       "      <th>0</th>\n",
       "      <td>1000_0</td>\n",
       "      <td>2018-06-27</td>\n",
       "      <td>1000</td>\n",
       "    </tr>\n",
       "    <tr>\n",
       "      <th>1</th>\n",
       "      <td>1000_1</td>\n",
       "      <td>2018-10-08</td>\n",
       "      <td>1000</td>\n",
       "    </tr>\n",
       "    <tr>\n",
       "      <th>2</th>\n",
       "      <td>1000_2</td>\n",
       "      <td>2018-08-04</td>\n",
       "      <td>1000</td>\n",
       "    </tr>\n",
       "    <tr>\n",
       "      <th>3</th>\n",
       "      <td>1000_3</td>\n",
       "      <td>2018-06-16</td>\n",
       "      <td>1000</td>\n",
       "    </tr>\n",
       "    <tr>\n",
       "      <th>4</th>\n",
       "      <td>1000_4</td>\n",
       "      <td>2018-12-05</td>\n",
       "      <td>1000</td>\n",
       "    </tr>\n",
       "    <tr>\n",
       "      <th>5</th>\n",
       "      <td>1000_5</td>\n",
       "      <td>2018-06-20</td>\n",
       "      <td>1000</td>\n",
       "    </tr>\n",
       "    <tr>\n",
       "      <th>6</th>\n",
       "      <td>1000_6</td>\n",
       "      <td>2018-11-19</td>\n",
       "      <td>1000</td>\n",
       "    </tr>\n",
       "    <tr>\n",
       "      <th>7</th>\n",
       "      <td>1000_7</td>\n",
       "      <td>2018-10-29</td>\n",
       "      <td>1000</td>\n",
       "    </tr>\n",
       "    <tr>\n",
       "      <th>8</th>\n",
       "      <td>1000_8</td>\n",
       "      <td>2018-06-25</td>\n",
       "      <td>1000</td>\n",
       "    </tr>\n",
       "    <tr>\n",
       "      <th>9</th>\n",
       "      <td>1000_9</td>\n",
       "      <td>2018-12-18</td>\n",
       "      <td>1000</td>\n",
       "    </tr>\n",
       "  </tbody>\n",
       "</table>\n",
       "</div>"
      ],
      "text/plain": [
       "       id message_date  user_id\n",
       "0  1000_0   2018-06-27     1000\n",
       "1  1000_1   2018-10-08     1000\n",
       "2  1000_2   2018-08-04     1000\n",
       "3  1000_3   2018-06-16     1000\n",
       "4  1000_4   2018-12-05     1000\n",
       "5  1000_5   2018-06-20     1000\n",
       "6  1000_6   2018-11-19     1000\n",
       "7  1000_7   2018-10-29     1000\n",
       "8  1000_8   2018-06-25     1000\n",
       "9  1000_9   2018-12-18     1000"
      ]
     },
     "execution_count": 89,
     "metadata": {},
     "output_type": "execute_result"
    }
   ],
   "source": [
    "messages.head(10)"
   ]
  },
  {
   "cell_type": "code",
   "execution_count": 90,
   "metadata": {},
   "outputs": [
    {
     "data": {
      "text/plain": [
       "0"
      ]
     },
     "execution_count": 90,
     "metadata": {},
     "output_type": "execute_result"
    }
   ],
   "source": [
    "messages['id'].duplicated().sum()"
   ]
  },
  {
   "cell_type": "markdown",
   "metadata": {},
   "source": [
    "Уникальный айди сообщению присвоен по такому же принципу, что и уникальные айди звонков. В датасете есть информация по 123036 сообщениям. Пропусков и дублей нет. Заменим тип у колонки с датами."
   ]
  },
  {
   "cell_type": "code",
   "execution_count": 91,
   "metadata": {},
   "outputs": [],
   "source": [
    "messages['message_date'] = pd.to_datetime(messages['message_date'], format='%Y-%m-%d')"
   ]
  },
  {
   "cell_type": "code",
   "execution_count": 92,
   "metadata": {},
   "outputs": [
    {
     "data": {
      "text/plain": [
       "array([2018])"
      ]
     },
     "metadata": {},
     "output_type": "display_data"
    },
    {
     "data": {
      "text/plain": [
       "array([ 1,  2,  3,  4,  5,  6,  7,  8,  9, 10, 11, 12])"
      ]
     },
     "metadata": {},
     "output_type": "display_data"
    }
   ],
   "source": [
    "# проверим, что данные выгружены за 2018 года\n",
    "display(messages['message_date'].dt.year.unique())\n",
    "display(messages['message_date'].dt.month.sort_values().unique())"
   ]
  },
  {
   "cell_type": "markdown",
   "metadata": {},
   "source": [
    "Верно, данные в датасете `message_date` выгружены за 2018 год."
   ]
  },
  {
   "cell_type": "markdown",
   "metadata": {},
   "source": [
    "#### Информация об интернет-сессиях"
   ]
  },
  {
   "cell_type": "code",
   "execution_count": 93,
   "metadata": {},
   "outputs": [
    {
     "data": {
      "text/html": [
       "<div>\n",
       "<style scoped>\n",
       "    .dataframe tbody tr th:only-of-type {\n",
       "        vertical-align: middle;\n",
       "    }\n",
       "\n",
       "    .dataframe tbody tr th {\n",
       "        vertical-align: top;\n",
       "    }\n",
       "\n",
       "    .dataframe thead th {\n",
       "        text-align: right;\n",
       "    }\n",
       "</style>\n",
       "<table border=\"1\" class=\"dataframe\">\n",
       "  <thead>\n",
       "    <tr style=\"text-align: right;\">\n",
       "      <th></th>\n",
       "      <th>Unnamed: 0</th>\n",
       "      <th>id</th>\n",
       "      <th>mb_used</th>\n",
       "      <th>session_date</th>\n",
       "      <th>user_id</th>\n",
       "    </tr>\n",
       "  </thead>\n",
       "  <tbody>\n",
       "    <tr>\n",
       "      <th>0</th>\n",
       "      <td>0</td>\n",
       "      <td>1000_0</td>\n",
       "      <td>112.95</td>\n",
       "      <td>2018-11-25</td>\n",
       "      <td>1000</td>\n",
       "    </tr>\n",
       "    <tr>\n",
       "      <th>1</th>\n",
       "      <td>1</td>\n",
       "      <td>1000_1</td>\n",
       "      <td>1,052.81</td>\n",
       "      <td>2018-09-07</td>\n",
       "      <td>1000</td>\n",
       "    </tr>\n",
       "    <tr>\n",
       "      <th>2</th>\n",
       "      <td>2</td>\n",
       "      <td>1000_2</td>\n",
       "      <td>1,197.26</td>\n",
       "      <td>2018-06-25</td>\n",
       "      <td>1000</td>\n",
       "    </tr>\n",
       "    <tr>\n",
       "      <th>3</th>\n",
       "      <td>3</td>\n",
       "      <td>1000_3</td>\n",
       "      <td>550.27</td>\n",
       "      <td>2018-08-22</td>\n",
       "      <td>1000</td>\n",
       "    </tr>\n",
       "    <tr>\n",
       "      <th>4</th>\n",
       "      <td>4</td>\n",
       "      <td>1000_4</td>\n",
       "      <td>302.56</td>\n",
       "      <td>2018-09-24</td>\n",
       "      <td>1000</td>\n",
       "    </tr>\n",
       "    <tr>\n",
       "      <th>5</th>\n",
       "      <td>5</td>\n",
       "      <td>1000_5</td>\n",
       "      <td>399.97</td>\n",
       "      <td>2018-10-02</td>\n",
       "      <td>1000</td>\n",
       "    </tr>\n",
       "    <tr>\n",
       "      <th>6</th>\n",
       "      <td>6</td>\n",
       "      <td>1000_6</td>\n",
       "      <td>540.08</td>\n",
       "      <td>2018-09-07</td>\n",
       "      <td>1000</td>\n",
       "    </tr>\n",
       "    <tr>\n",
       "      <th>7</th>\n",
       "      <td>7</td>\n",
       "      <td>1000_7</td>\n",
       "      <td>415.70</td>\n",
       "      <td>2018-07-11</td>\n",
       "      <td>1000</td>\n",
       "    </tr>\n",
       "    <tr>\n",
       "      <th>8</th>\n",
       "      <td>8</td>\n",
       "      <td>1000_8</td>\n",
       "      <td>505.40</td>\n",
       "      <td>2018-10-08</td>\n",
       "      <td>1000</td>\n",
       "    </tr>\n",
       "    <tr>\n",
       "      <th>9</th>\n",
       "      <td>9</td>\n",
       "      <td>1000_9</td>\n",
       "      <td>345.54</td>\n",
       "      <td>2018-09-03</td>\n",
       "      <td>1000</td>\n",
       "    </tr>\n",
       "  </tbody>\n",
       "</table>\n",
       "</div>"
      ],
      "text/plain": [
       "   Unnamed: 0      id  mb_used session_date  user_id\n",
       "0           0  1000_0   112.95   2018-11-25     1000\n",
       "1           1  1000_1 1,052.81   2018-09-07     1000\n",
       "2           2  1000_2 1,197.26   2018-06-25     1000\n",
       "3           3  1000_3   550.27   2018-08-22     1000\n",
       "4           4  1000_4   302.56   2018-09-24     1000\n",
       "5           5  1000_5   399.97   2018-10-02     1000\n",
       "6           6  1000_6   540.08   2018-09-07     1000\n",
       "7           7  1000_7   415.70   2018-07-11     1000\n",
       "8           8  1000_8   505.40   2018-10-08     1000\n",
       "9           9  1000_9   345.54   2018-09-03     1000"
      ]
     },
     "execution_count": 93,
     "metadata": {},
     "output_type": "execute_result"
    }
   ],
   "source": [
    "# рассмотрим датасет internet (информация об интернет-сессиях)\n",
    "internet.head(10)"
   ]
  },
  {
   "cell_type": "code",
   "execution_count": 94,
   "metadata": {},
   "outputs": [
    {
     "name": "stdout",
     "output_type": "stream",
     "text": [
      "<class 'pandas.core.frame.DataFrame'>\n",
      "RangeIndex: 149396 entries, 0 to 149395\n",
      "Data columns (total 5 columns):\n",
      " #   Column        Non-Null Count   Dtype  \n",
      "---  ------        --------------   -----  \n",
      " 0   Unnamed: 0    149396 non-null  int64  \n",
      " 1   id            149396 non-null  object \n",
      " 2   mb_used       149396 non-null  float64\n",
      " 3   session_date  149396 non-null  object \n",
      " 4   user_id       149396 non-null  int64  \n",
      "dtypes: float64(1), int64(2), object(2)\n",
      "memory usage: 5.7+ MB\n"
     ]
    }
   ],
   "source": [
    "internet.info()"
   ]
  },
  {
   "cell_type": "code",
   "execution_count": 95,
   "metadata": {},
   "outputs": [
    {
     "data": {
      "text/plain": [
       "0"
      ]
     },
     "execution_count": 95,
     "metadata": {},
     "output_type": "execute_result"
    }
   ],
   "source": [
    "internet['id'].duplicated().sum()"
   ]
  },
  {
   "cell_type": "markdown",
   "metadata": {},
   "source": [
    "В базе содержится информация о 149396 сессиях в интернете, без дублей. Данные полные, без миссингов. Следует поменять тип данных в колонке `session_date`. Еще нужно взглянуть на колонку `Unnamed: 0`, в документации к датасету нет информации про эту переменную. Возможно этот столбец дублирует индексы строк."
   ]
  },
  {
   "cell_type": "code",
   "execution_count": 96,
   "metadata": {},
   "outputs": [],
   "source": [
    "# поменяем тип данных\n",
    "internet['session_date'] = pd.to_datetime(internet['session_date'], format='%Y-%m-%d')"
   ]
  },
  {
   "cell_type": "code",
   "execution_count": 97,
   "metadata": {},
   "outputs": [
    {
     "data": {
      "text/plain": [
       "100    100\n",
       "101    101\n",
       "102    102\n",
       "103    103\n",
       "104    104\n",
       "105    105\n",
       "106    106\n",
       "107    107\n",
       "108    108\n",
       "109    109\n",
       "Name: Unnamed: 0, dtype: int64"
      ]
     },
     "execution_count": 97,
     "metadata": {},
     "output_type": "execute_result"
    }
   ],
   "source": [
    "internet['Unnamed: 0'][100:110]"
   ]
  },
  {
   "cell_type": "code",
   "execution_count": 98,
   "metadata": {},
   "outputs": [
    {
     "data": {
      "text/plain": [
       "149386    149386\n",
       "149387    149387\n",
       "149388    149388\n",
       "149389    149389\n",
       "149390    149390\n",
       "149391    149391\n",
       "149392    149392\n",
       "149393    149393\n",
       "149394    149394\n",
       "149395    149395\n",
       "Name: Unnamed: 0, dtype: int64"
      ]
     },
     "execution_count": 98,
     "metadata": {},
     "output_type": "execute_result"
    }
   ],
   "source": [
    "internet['Unnamed: 0'].tail(10)"
   ]
  },
  {
   "cell_type": "code",
   "execution_count": 99,
   "metadata": {},
   "outputs": [
    {
     "data": {
      "text/plain": [
       "149396"
      ]
     },
     "execution_count": 99,
     "metadata": {},
     "output_type": "execute_result"
    }
   ],
   "source": [
    "internet['Unnamed: 0'].nunique()"
   ]
  },
  {
   "cell_type": "markdown",
   "metadata": {},
   "source": [
    "Видимо и правду колонке `'Unnamed: 0'` дублирует индекс. Избавимся от нее."
   ]
  },
  {
   "cell_type": "code",
   "execution_count": 100,
   "metadata": {},
   "outputs": [],
   "source": [
    "internet.drop(columns = ['Unnamed: 0'], inplace=True)"
   ]
  },
  {
   "cell_type": "code",
   "execution_count": 101,
   "metadata": {},
   "outputs": [
    {
     "name": "stdout",
     "output_type": "stream",
     "text": [
      "<class 'pandas.core.frame.DataFrame'>\n",
      "RangeIndex: 149396 entries, 0 to 149395\n",
      "Data columns (total 4 columns):\n",
      " #   Column        Non-Null Count   Dtype         \n",
      "---  ------        --------------   -----         \n",
      " 0   id            149396 non-null  object        \n",
      " 1   mb_used       149396 non-null  float64       \n",
      " 2   session_date  149396 non-null  datetime64[ns]\n",
      " 3   user_id       149396 non-null  int64         \n",
      "dtypes: datetime64[ns](1), float64(1), int64(1), object(1)\n",
      "memory usage: 4.6+ MB\n"
     ]
    }
   ],
   "source": [
    "internet.info() # проверим, что удаление прошло"
   ]
  },
  {
   "cell_type": "code",
   "execution_count": 102,
   "metadata": {},
   "outputs": [
    {
     "data": {
      "text/plain": [
       "array([2018])"
      ]
     },
     "metadata": {},
     "output_type": "display_data"
    },
    {
     "data": {
      "text/plain": [
       "array([ 1,  2,  3,  4,  5,  6,  7,  8,  9, 10, 11, 12])"
      ]
     },
     "metadata": {},
     "output_type": "display_data"
    }
   ],
   "source": [
    "# проверим, что данные выгружены за 2018 год\n",
    "display(internet['session_date'].dt.year.unique())\n",
    "display(internet['session_date'].dt.month.sort_values().unique())"
   ]
  },
  {
   "cell_type": "markdown",
   "metadata": {},
   "source": [
    "Все верно. Теперь проверим на распределение значений в колонке `mb_used`."
   ]
  },
  {
   "cell_type": "code",
   "execution_count": 103,
   "metadata": {},
   "outputs": [
    {
     "data": {
      "text/plain": [
       "<AxesSubplot:>"
      ]
     },
     "execution_count": 103,
     "metadata": {},
     "output_type": "execute_result"
    },
    {
     "data": {
      "image/png": "[encoded data removed]",
      "text/plain": [
       "<Figure size 432x288 with 1 Axes>"
      ]
     },
     "metadata": {
      "needs_background": "light"
     },
     "output_type": "display_data"
    }
   ],
   "source": [
    "internet['mb_used'].hist()"
   ]
  },
  {
   "cell_type": "code",
   "execution_count": 104,
   "metadata": {},
   "outputs": [
    {
     "data": {
      "text/plain": [
       "count   149,396.00\n",
       "mean        370.19\n",
       "std         278.30\n",
       "min           0.00\n",
       "25%         138.19\n",
       "50%         348.01\n",
       "75%         559.55\n",
       "max       1,724.83\n",
       "Name: mb_used, dtype: float64"
      ]
     },
     "execution_count": 104,
     "metadata": {},
     "output_type": "execute_result"
    }
   ],
   "source": [
    "internet['mb_used'].describe()"
   ]
  },
  {
   "cell_type": "markdown",
   "metadata": {},
   "source": [
    "В среднем интернет-трафик пользователей составляет 370 мгб, ст.откл. - 278 мгб. Минимальное число - 0 мгб, максимальное - 1724 мгб. Распределение скошено вправо. Чаще всего пользователи за 2018 год в среднем потратили от 0 до 500 мгб."
   ]
  },
  {
   "cell_type": "code",
   "execution_count": 105,
   "metadata": {},
   "outputs": [
    {
     "data": {
      "text/html": [
       "<div>\n",
       "<style scoped>\n",
       "    .dataframe tbody tr th:only-of-type {\n",
       "        vertical-align: middle;\n",
       "    }\n",
       "\n",
       "    .dataframe tbody tr th {\n",
       "        vertical-align: top;\n",
       "    }\n",
       "\n",
       "    .dataframe thead th {\n",
       "        text-align: right;\n",
       "    }\n",
       "</style>\n",
       "<table border=\"1\" class=\"dataframe\">\n",
       "  <thead>\n",
       "    <tr style=\"text-align: right;\">\n",
       "      <th></th>\n",
       "      <th>messages_included</th>\n",
       "      <th>mb_per_month_included</th>\n",
       "      <th>minutes_included</th>\n",
       "      <th>rub_monthly_fee</th>\n",
       "      <th>rub_per_gb</th>\n",
       "      <th>rub_per_message</th>\n",
       "      <th>rub_per_minute</th>\n",
       "      <th>tariff_name</th>\n",
       "    </tr>\n",
       "  </thead>\n",
       "  <tbody>\n",
       "    <tr>\n",
       "      <th>0</th>\n",
       "      <td>50</td>\n",
       "      <td>15360</td>\n",
       "      <td>500</td>\n",
       "      <td>550</td>\n",
       "      <td>200</td>\n",
       "      <td>3</td>\n",
       "      <td>3</td>\n",
       "      <td>smart</td>\n",
       "    </tr>\n",
       "    <tr>\n",
       "      <th>1</th>\n",
       "      <td>1000</td>\n",
       "      <td>30720</td>\n",
       "      <td>3000</td>\n",
       "      <td>1950</td>\n",
       "      <td>150</td>\n",
       "      <td>1</td>\n",
       "      <td>1</td>\n",
       "      <td>ultra</td>\n",
       "    </tr>\n",
       "  </tbody>\n",
       "</table>\n",
       "</div>"
      ],
      "text/plain": [
       "   messages_included  mb_per_month_included  minutes_included  \\\n",
       "0                 50                  15360               500   \n",
       "1               1000                  30720              3000   \n",
       "\n",
       "   rub_monthly_fee  rub_per_gb  rub_per_message  rub_per_minute tariff_name  \n",
       "0              550         200                3               3       smart  \n",
       "1             1950         150                1               1       ultra  "
      ]
     },
     "execution_count": 105,
     "metadata": {},
     "output_type": "execute_result"
    }
   ],
   "source": [
    "# рассмотрим датасет tariffs (информация о тарифах)\n",
    "tariffs.head()"
   ]
  },
  {
   "cell_type": "code",
   "execution_count": 106,
   "metadata": {},
   "outputs": [
    {
     "data": {
      "text/plain": [
       "(2, 8)"
      ]
     },
     "execution_count": 106,
     "metadata": {},
     "output_type": "execute_result"
    }
   ],
   "source": [
    "tariffs.shape"
   ]
  },
  {
   "cell_type": "code",
   "execution_count": 107,
   "metadata": {},
   "outputs": [
    {
     "name": "stdout",
     "output_type": "stream",
     "text": [
      "<class 'pandas.core.frame.DataFrame'>\n",
      "RangeIndex: 2 entries, 0 to 1\n",
      "Data columns (total 8 columns):\n",
      " #   Column                 Non-Null Count  Dtype \n",
      "---  ------                 --------------  ----- \n",
      " 0   messages_included      2 non-null      int64 \n",
      " 1   mb_per_month_included  2 non-null      int64 \n",
      " 2   minutes_included       2 non-null      int64 \n",
      " 3   rub_monthly_fee        2 non-null      int64 \n",
      " 4   rub_per_gb             2 non-null      int64 \n",
      " 5   rub_per_message        2 non-null      int64 \n",
      " 6   rub_per_minute         2 non-null      int64 \n",
      " 7   tariff_name            2 non-null      object\n",
      "dtypes: int64(7), object(1)\n",
      "memory usage: 256.0+ bytes\n"
     ]
    }
   ],
   "source": [
    "tariffs.info()"
   ]
  },
  {
   "cell_type": "markdown",
   "metadata": {},
   "source": [
    "В этой таблице только две строки (поскольку всего 2 тарифа). По каждому тарифу представлены информация о ежемесячное абонентской плате (в руб.), лимит минут, сообщений и интернет-трафика в месяц включено в абонентскую плату, а также стоимость услуг (минут звонка, сообщений и интернет-трафика) после исчерпания тарифного пакета.  \n",
    "\n",
    "Данные полные."
   ]
  },
  {
   "cell_type": "markdown",
   "metadata": {},
   "source": [
    "### Выводы \n",
    "\n",
    "Даны 5 датасетов: первый датасет содержит информацию о клиентах, во втором содержится информация по уникальным звонкам, сделанных за изучаемый период, в третьем - информация об исходящих сообщениях, в четвертом - про интернет-трафик (информация об уникальных интернет-сессиях), и пятый датасет дает нам информацию про тарифы, которые исследуем. \n",
    "В каждом датасете данные представлены за один период - 2018 год. Аномальных значений или явных ошибок в данных не обнаружено.  \n",
    "Всего 500 пользователей, эти 500 пользователей совершили более 200 тыс. звонков, направили более 120 тыс сообщений и совершали практически 150 тыс. интернет-сессий. Кажется вполне логичным объединить 4 базы, которые включают уникальный айди пользователя в один большой датасет. Но тогда появится много миссингов, потому что длины баз про совершенные звонки, отправленные сообщения и выполненные интернет-сессии различаются. Пока данные объединять не буду, если дальнейшем анализе возникнет необходимость объединить, то тогда сделаю.  \n",
    "А так, можно будет подготовить сводные таблицы по таблицам `calls`, `messengers`, `internet` и их объединить с `users`. "
   ]
  },
  {
   "cell_type": "markdown",
   "metadata": {},
   "source": [
    "## Исследовательский анализ"
   ]
  },
  {
   "cell_type": "markdown",
   "metadata": {},
   "source": [
    "### Анализ помесячной выручки по пользователям\n",
    "\n",
    "**Задание**.\n",
    "\n",
    "Посчитайте для каждого пользователя:  \n",
    "- количество сделанных звонков и израсходованных минут разговора по месяцам;  \n",
    "- количество отправленных сообщений по месяцам;  \n",
    "- объем израсходованного интернет-трафика по месяцам;  \n",
    "- помесячную выручку с каждого пользователя (вычтите бесплатный лимит из суммарного количества звонков, сообщений и интернет-трафика; остаток умножьте на значение из тарифного плана; прибавьте абонентскую плату, соответствующую тарифному плану)."
   ]
  },
  {
   "cell_type": "markdown",
   "metadata": {},
   "source": [
    "\n",
    "Поскольку «Мегалайн» всегда округляет секунды до минут, то округлим наши данные звонкам. По поводу округления мегабайт до гигабайт, мне кажется разумным округлить трафик после того, как будет посчитан суммарный трафик по месяцам, поскольку есть сомнения по поводу того, что трафик округляется до гигабайт при каждом сеансе. \n",
    "\n"
   ]
  },
  {
   "cell_type": "code",
   "execution_count": 108,
   "metadata": {},
   "outputs": [
    {
     "data": {
      "text/plain": [
       "0   0.00\n",
       "1   0.00\n",
       "2   3.00\n",
       "Name: duration, dtype: float64"
      ]
     },
     "metadata": {},
     "output_type": "display_data"
    }
   ],
   "source": [
    "calls['duration'] = np.ceil(calls['duration'])\n",
    "display(calls['duration'].head(3))\n"
   ]
  },
  {
   "cell_type": "markdown",
   "metadata": {},
   "source": [
    "Ниже округлила интернет-трафик по обычным правилам вверх. Затем далее ниже буду перводить в гигайбайты.\n"
   ]
  },
  {
   "cell_type": "code",
   "execution_count": 109,
   "metadata": {},
   "outputs": [],
   "source": [
    "internet['mb_used'] = np.ceil(internet['mb_used'])"
   ]
  },
  {
   "cell_type": "markdown",
   "metadata": {},
   "source": [
    "Добавим в наши датасеты с информацией по звонкам, сообщениям и интернет-сессиям столбец с месяцами."
   ]
  },
  {
   "cell_type": "code",
   "execution_count": 110,
   "metadata": {},
   "outputs": [],
   "source": [
    "calls['month'] = calls['call_date'].dt.month_name()\n",
    "messages['month'] = messages['message_date'].dt.month_name()\n",
    "internet['month'] = internet['session_date'].dt.month_name()"
   ]
  },
  {
   "cell_type": "code",
   "execution_count": 111,
   "metadata": {},
   "outputs": [],
   "source": [
    "# создадим словарь для того, чтобы отсортировать значения в данных по месяцам\n",
    "month_dict = (\n",
    "    {'January': 0, \n",
    "     'February': 1, \n",
    "     'March': 2,\n",
    "     'April': 3, \n",
    "     'May': 4, \n",
    "     'June': 5, \n",
    "     'July': 6, \n",
    "     'August': 7, \n",
    "     'September': 8, \n",
    "     'October': 9, \n",
    "     'November': 10,\n",
    "     'December': 11} \n",
    ")"
   ]
  },
  {
   "cell_type": "code",
   "execution_count": 112,
   "metadata": {},
   "outputs": [],
   "source": [
    "calls_pivot = (\n",
    "    calls\n",
    "    .pivot_table(index=['month', 'user_id'], \n",
    "                 values='duration', \n",
    "                 aggfunc=['count', 'sum'])\n",
    "    .sort_values(by=['month'], key=lambda x: x.map(month_dict))\n",
    ")"
   ]
  },
  {
   "cell_type": "code",
   "execution_count": 113,
   "metadata": {},
   "outputs": [
    {
     "name": "stdout",
     "output_type": "stream",
     "text": [
      "0.0\n",
      "nan\n"
     ]
    }
   ],
   "source": [
    "# Код ревьюера\n",
    "\n",
    "# От пустой будет 0\n",
    "print(pd.Series([np.nan]).sum())\n",
    "\n",
    "# От пустой будет 1\n",
    "print(pd.Series([np.nan]).sum(skipna=False))"
   ]
  },
  {
   "cell_type": "code",
   "execution_count": 114,
   "metadata": {},
   "outputs": [
    {
     "data": {
      "text/html": [
       "<div>\n",
       "<style scoped>\n",
       "    .dataframe tbody tr th:only-of-type {\n",
       "        vertical-align: middle;\n",
       "    }\n",
       "\n",
       "    .dataframe tbody tr th {\n",
       "        vertical-align: top;\n",
       "    }\n",
       "\n",
       "    .dataframe thead th {\n",
       "        text-align: right;\n",
       "    }\n",
       "</style>\n",
       "<table border=\"1\" class=\"dataframe\">\n",
       "  <thead>\n",
       "    <tr style=\"text-align: right;\">\n",
       "      <th></th>\n",
       "      <th></th>\n",
       "      <th>duration</th>\n",
       "    </tr>\n",
       "    <tr>\n",
       "      <th>month</th>\n",
       "      <th>user_id</th>\n",
       "      <th></th>\n",
       "    </tr>\n",
       "  </thead>\n",
       "  <tbody>\n",
       "    <tr>\n",
       "      <th rowspan=\"5\" valign=\"top\">April</th>\n",
       "      <th>1005</th>\n",
       "      <td>712.00</td>\n",
       "    </tr>\n",
       "    <tr>\n",
       "      <th>1006</th>\n",
       "      <td>356.00</td>\n",
       "    </tr>\n",
       "    <tr>\n",
       "      <th>1007</th>\n",
       "      <td>198.00</td>\n",
       "    </tr>\n",
       "    <tr>\n",
       "      <th>1009</th>\n",
       "      <td>324.00</td>\n",
       "    </tr>\n",
       "    <tr>\n",
       "      <th>1011</th>\n",
       "      <td>371.00</td>\n",
       "    </tr>\n",
       "    <tr>\n",
       "      <th>...</th>\n",
       "      <th>...</th>\n",
       "      <td>...</td>\n",
       "    </tr>\n",
       "    <tr>\n",
       "      <th rowspan=\"5\" valign=\"top\">September</th>\n",
       "      <th>1494</th>\n",
       "      <td>501.00</td>\n",
       "    </tr>\n",
       "    <tr>\n",
       "      <th>1495</th>\n",
       "      <td>813.00</td>\n",
       "    </tr>\n",
       "    <tr>\n",
       "      <th>1496</th>\n",
       "      <td>486.00</td>\n",
       "    </tr>\n",
       "    <tr>\n",
       "      <th>1498</th>\n",
       "      <td>471.00</td>\n",
       "    </tr>\n",
       "    <tr>\n",
       "      <th>1499</th>\n",
       "      <td>70.00</td>\n",
       "    </tr>\n",
       "  </tbody>\n",
       "</table>\n",
       "<p>3174 rows × 1 columns</p>\n",
       "</div>"
      ],
      "text/plain": [
       "                   duration\n",
       "month     user_id          \n",
       "April     1005       712.00\n",
       "          1006       356.00\n",
       "          1007       198.00\n",
       "          1009       324.00\n",
       "          1011       371.00\n",
       "...                     ...\n",
       "September 1494       501.00\n",
       "          1495       813.00\n",
       "          1496       486.00\n",
       "          1498       471.00\n",
       "          1499        70.00\n",
       "\n",
       "[3174 rows x 1 columns]"
      ]
     },
     "execution_count": 114,
     "metadata": {},
     "output_type": "execute_result"
    }
   ],
   "source": [
    "# Код ревьюера\n",
    "\n",
    "calls_copy = calls.copy()\n",
    "calls_copy['month'] = calls_copy['month'].astype('category')\n",
    "\n",
    "calls_copy.groupby(['month','user_id']).agg({'duration' : lambda x : x.sum(skipna=False)}).dropna()"
   ]
  },
  {
   "cell_type": "code",
   "execution_count": 115,
   "metadata": {},
   "outputs": [
    {
     "data": {
      "text/html": [
       "<div>\n",
       "<style scoped>\n",
       "    .dataframe tbody tr th:only-of-type {\n",
       "        vertical-align: middle;\n",
       "    }\n",
       "\n",
       "    .dataframe tbody tr th {\n",
       "        vertical-align: top;\n",
       "    }\n",
       "\n",
       "    .dataframe thead tr th {\n",
       "        text-align: left;\n",
       "    }\n",
       "\n",
       "    .dataframe thead tr:last-of-type th {\n",
       "        text-align: right;\n",
       "    }\n",
       "</style>\n",
       "<table border=\"1\" class=\"dataframe\">\n",
       "  <thead>\n",
       "    <tr>\n",
       "      <th></th>\n",
       "      <th></th>\n",
       "      <th>count</th>\n",
       "      <th>sum</th>\n",
       "    </tr>\n",
       "    <tr>\n",
       "      <th></th>\n",
       "      <th></th>\n",
       "      <th>duration</th>\n",
       "      <th>duration</th>\n",
       "    </tr>\n",
       "    <tr>\n",
       "      <th>month</th>\n",
       "      <th>user_id</th>\n",
       "      <th></th>\n",
       "      <th></th>\n",
       "    </tr>\n",
       "  </thead>\n",
       "  <tbody>\n",
       "    <tr>\n",
       "      <th rowspan=\"10\" valign=\"top\">January</th>\n",
       "      <th>1429</th>\n",
       "      <td>10</td>\n",
       "      <td>70.00</td>\n",
       "    </tr>\n",
       "    <tr>\n",
       "      <th>1254</th>\n",
       "      <td>59</td>\n",
       "      <td>466.00</td>\n",
       "    </tr>\n",
       "    <tr>\n",
       "      <th>1238</th>\n",
       "      <td>8</td>\n",
       "      <td>55.00</td>\n",
       "    </tr>\n",
       "    <tr>\n",
       "      <th>1227</th>\n",
       "      <td>67</td>\n",
       "      <td>471.00</td>\n",
       "    </tr>\n",
       "    <tr>\n",
       "      <th>1219</th>\n",
       "      <td>18</td>\n",
       "      <td>146.00</td>\n",
       "    </tr>\n",
       "    <tr>\n",
       "      <th>1204</th>\n",
       "      <td>50</td>\n",
       "      <td>305.00</td>\n",
       "    </tr>\n",
       "    <tr>\n",
       "      <th>1193</th>\n",
       "      <td>53</td>\n",
       "      <td>388.00</td>\n",
       "    </tr>\n",
       "    <tr>\n",
       "      <th>1176</th>\n",
       "      <td>25</td>\n",
       "      <td>187.00</td>\n",
       "    </tr>\n",
       "    <tr>\n",
       "      <th>1168</th>\n",
       "      <td>38</td>\n",
       "      <td>277.00</td>\n",
       "    </tr>\n",
       "    <tr>\n",
       "      <th>1155</th>\n",
       "      <td>44</td>\n",
       "      <td>337.00</td>\n",
       "    </tr>\n",
       "  </tbody>\n",
       "</table>\n",
       "</div>"
      ],
      "text/plain": [
       "                   count      sum\n",
       "                duration duration\n",
       "month   user_id                  \n",
       "January 1429          10    70.00\n",
       "        1254          59   466.00\n",
       "        1238           8    55.00\n",
       "        1227          67   471.00\n",
       "        1219          18   146.00\n",
       "        1204          50   305.00\n",
       "        1193          53   388.00\n",
       "        1176          25   187.00\n",
       "        1168          38   277.00\n",
       "        1155          44   337.00"
      ]
     },
     "execution_count": 115,
     "metadata": {},
     "output_type": "execute_result"
    }
   ],
   "source": [
    "calls_pivot.head(10)"
   ]
  },
  {
   "cell_type": "code",
   "execution_count": 116,
   "metadata": {},
   "outputs": [
    {
     "data": {
      "text/plain": [
       "3174"
      ]
     },
     "execution_count": 116,
     "metadata": {},
     "output_type": "execute_result"
    }
   ],
   "source": [
    "calls_pivot.shape[0]"
   ]
  },
  {
   "cell_type": "code",
   "execution_count": 117,
   "metadata": {},
   "outputs": [
    {
     "data": {
      "text/html": [
       "<div>\n",
       "<style scoped>\n",
       "    .dataframe tbody tr th:only-of-type {\n",
       "        vertical-align: middle;\n",
       "    }\n",
       "\n",
       "    .dataframe tbody tr th {\n",
       "        vertical-align: top;\n",
       "    }\n",
       "\n",
       "    .dataframe thead th {\n",
       "        text-align: right;\n",
       "    }\n",
       "</style>\n",
       "<table border=\"1\" class=\"dataframe\">\n",
       "  <thead>\n",
       "    <tr style=\"text-align: right;\">\n",
       "      <th></th>\n",
       "      <th></th>\n",
       "      <th>duration</th>\n",
       "    </tr>\n",
       "    <tr>\n",
       "      <th>user_id</th>\n",
       "      <th>call_date</th>\n",
       "      <th></th>\n",
       "    </tr>\n",
       "  </thead>\n",
       "  <tbody>\n",
       "    <tr>\n",
       "      <th rowspan=\"5\" valign=\"top\">1000</th>\n",
       "      <th>5</th>\n",
       "      <td>159.00</td>\n",
       "    </tr>\n",
       "    <tr>\n",
       "      <th>6</th>\n",
       "      <td>172.00</td>\n",
       "    </tr>\n",
       "    <tr>\n",
       "      <th>7</th>\n",
       "      <td>340.00</td>\n",
       "    </tr>\n",
       "    <tr>\n",
       "      <th>8</th>\n",
       "      <td>408.00</td>\n",
       "    </tr>\n",
       "    <tr>\n",
       "      <th>9</th>\n",
       "      <td>466.00</td>\n",
       "    </tr>\n",
       "    <tr>\n",
       "      <th>...</th>\n",
       "      <th>...</th>\n",
       "      <td>...</td>\n",
       "    </tr>\n",
       "    <tr>\n",
       "      <th>1498</th>\n",
       "      <th>10</th>\n",
       "      <td>247.00</td>\n",
       "    </tr>\n",
       "    <tr>\n",
       "      <th rowspan=\"4\" valign=\"top\">1499</th>\n",
       "      <th>9</th>\n",
       "      <td>70.00</td>\n",
       "    </tr>\n",
       "    <tr>\n",
       "      <th>10</th>\n",
       "      <td>449.00</td>\n",
       "    </tr>\n",
       "    <tr>\n",
       "      <th>11</th>\n",
       "      <td>612.00</td>\n",
       "    </tr>\n",
       "    <tr>\n",
       "      <th>12</th>\n",
       "      <td>492.00</td>\n",
       "    </tr>\n",
       "  </tbody>\n",
       "</table>\n",
       "<p>3174 rows × 1 columns</p>\n",
       "</div>"
      ],
      "text/plain": [
       "                   duration\n",
       "user_id call_date          \n",
       "1000    5            159.00\n",
       "        6            172.00\n",
       "        7            340.00\n",
       "        8            408.00\n",
       "        9            466.00\n",
       "...                     ...\n",
       "1498    10           247.00\n",
       "1499    9             70.00\n",
       "        10           449.00\n",
       "        11           612.00\n",
       "        12           492.00\n",
       "\n",
       "[3174 rows x 1 columns]"
      ]
     },
     "execution_count": 117,
     "metadata": {},
     "output_type": "execute_result"
    }
   ],
   "source": [
    "calls.groupby(['user_id',calls['call_date'].dt.month]).agg(duration=('duration','sum'))"
   ]
  },
  {
   "cell_type": "code",
   "execution_count": 118,
   "metadata": {},
   "outputs": [],
   "source": [
    "# переименуем двухэтажные названия столбцов\n",
    "calls_pivot.columns = ['count_of_calls', 'full_duration']"
   ]
  },
  {
   "cell_type": "code",
   "execution_count": 119,
   "metadata": {},
   "outputs": [
    {
     "data": {
      "text/html": [
       "<div>\n",
       "<style scoped>\n",
       "    .dataframe tbody tr th:only-of-type {\n",
       "        vertical-align: middle;\n",
       "    }\n",
       "\n",
       "    .dataframe tbody tr th {\n",
       "        vertical-align: top;\n",
       "    }\n",
       "\n",
       "    .dataframe thead th {\n",
       "        text-align: right;\n",
       "    }\n",
       "</style>\n",
       "<table border=\"1\" class=\"dataframe\">\n",
       "  <thead>\n",
       "    <tr style=\"text-align: right;\">\n",
       "      <th></th>\n",
       "      <th></th>\n",
       "      <th>count_of_calls</th>\n",
       "      <th>full_duration</th>\n",
       "    </tr>\n",
       "    <tr>\n",
       "      <th>month</th>\n",
       "      <th>user_id</th>\n",
       "      <th></th>\n",
       "      <th></th>\n",
       "    </tr>\n",
       "  </thead>\n",
       "  <tbody>\n",
       "    <tr>\n",
       "      <th rowspan=\"5\" valign=\"top\">January</th>\n",
       "      <th>1429</th>\n",
       "      <td>10</td>\n",
       "      <td>70.00</td>\n",
       "    </tr>\n",
       "    <tr>\n",
       "      <th>1254</th>\n",
       "      <td>59</td>\n",
       "      <td>466.00</td>\n",
       "    </tr>\n",
       "    <tr>\n",
       "      <th>1238</th>\n",
       "      <td>8</td>\n",
       "      <td>55.00</td>\n",
       "    </tr>\n",
       "    <tr>\n",
       "      <th>1227</th>\n",
       "      <td>67</td>\n",
       "      <td>471.00</td>\n",
       "    </tr>\n",
       "    <tr>\n",
       "      <th>1219</th>\n",
       "      <td>18</td>\n",
       "      <td>146.00</td>\n",
       "    </tr>\n",
       "  </tbody>\n",
       "</table>\n",
       "</div>"
      ],
      "text/plain": [
       "                 count_of_calls  full_duration\n",
       "month   user_id                               \n",
       "January 1429                 10          70.00\n",
       "        1254                 59         466.00\n",
       "        1238                  8          55.00\n",
       "        1227                 67         471.00\n",
       "        1219                 18         146.00"
      ]
     },
     "execution_count": 119,
     "metadata": {},
     "output_type": "execute_result"
    }
   ],
   "source": [
    "calls_pivot.head(5) # проверим"
   ]
  },
  {
   "cell_type": "code",
   "execution_count": 120,
   "metadata": {},
   "outputs": [],
   "source": [
    "# найдем количество отправленных сообщений по месяцам\n",
    "messages_pivot = (\n",
    "    messages\n",
    "    .pivot_table(index=['month', 'user_id'], \n",
    "                 values='id', \n",
    "                 aggfunc='count')\n",
    "    .sort_values(by=['month'], key=lambda x: x.map(month_dict))\n",
    ")"
   ]
  },
  {
   "cell_type": "code",
   "execution_count": 121,
   "metadata": {},
   "outputs": [
    {
     "data": {
      "text/html": [
       "<div>\n",
       "<style scoped>\n",
       "    .dataframe tbody tr th:only-of-type {\n",
       "        vertical-align: middle;\n",
       "    }\n",
       "\n",
       "    .dataframe tbody tr th {\n",
       "        vertical-align: top;\n",
       "    }\n",
       "\n",
       "    .dataframe thead th {\n",
       "        text-align: right;\n",
       "    }\n",
       "</style>\n",
       "<table border=\"1\" class=\"dataframe\">\n",
       "  <thead>\n",
       "    <tr style=\"text-align: right;\">\n",
       "      <th></th>\n",
       "      <th></th>\n",
       "      <th>id</th>\n",
       "    </tr>\n",
       "    <tr>\n",
       "      <th>month</th>\n",
       "      <th>user_id</th>\n",
       "      <th></th>\n",
       "    </tr>\n",
       "  </thead>\n",
       "  <tbody>\n",
       "    <tr>\n",
       "      <th rowspan=\"10\" valign=\"top\">January</th>\n",
       "      <th>1433</th>\n",
       "      <td>74</td>\n",
       "    </tr>\n",
       "    <tr>\n",
       "      <th>1238</th>\n",
       "      <td>34</td>\n",
       "    </tr>\n",
       "    <tr>\n",
       "      <th>1227</th>\n",
       "      <td>27</td>\n",
       "    </tr>\n",
       "    <tr>\n",
       "      <th>1219</th>\n",
       "      <td>3</td>\n",
       "    </tr>\n",
       "    <tr>\n",
       "      <th>1189</th>\n",
       "      <td>1</td>\n",
       "    </tr>\n",
       "    <tr>\n",
       "      <th>1176</th>\n",
       "      <td>20</td>\n",
       "    </tr>\n",
       "    <tr>\n",
       "      <th>1168</th>\n",
       "      <td>14</td>\n",
       "    </tr>\n",
       "    <tr>\n",
       "      <th>1155</th>\n",
       "      <td>48</td>\n",
       "    </tr>\n",
       "    <tr>\n",
       "      <th>1282</th>\n",
       "      <td>29</td>\n",
       "    </tr>\n",
       "    <tr>\n",
       "      <th>1135</th>\n",
       "      <td>1</td>\n",
       "    </tr>\n",
       "  </tbody>\n",
       "</table>\n",
       "</div>"
      ],
      "text/plain": [
       "                 id\n",
       "month   user_id    \n",
       "January 1433     74\n",
       "        1238     34\n",
       "        1227     27\n",
       "        1219      3\n",
       "        1189      1\n",
       "        1176     20\n",
       "        1168     14\n",
       "        1155     48\n",
       "        1282     29\n",
       "        1135      1"
      ]
     },
     "execution_count": 121,
     "metadata": {},
     "output_type": "execute_result"
    }
   ],
   "source": [
    "messages_pivot.head(10)"
   ]
  },
  {
   "cell_type": "code",
   "execution_count": 122,
   "metadata": {},
   "outputs": [],
   "source": [
    "messages_pivot.columns = ['count_of_messages']"
   ]
  },
  {
   "cell_type": "code",
   "execution_count": 123,
   "metadata": {},
   "outputs": [],
   "source": [
    "# найдем объем израсходованного интернет-трафика по месяцам\n",
    "internet_pivot = (\n",
    "    internet\n",
    "    .pivot_table(index=['month', 'user_id'], \n",
    "                 values='mb_used', \n",
    "                 aggfunc='sum')\n",
    "    .sort_values(by=['month'], key=lambda x: x.map(month_dict))\n",
    ")\n"
   ]
  },
  {
   "cell_type": "code",
   "execution_count": 124,
   "metadata": {},
   "outputs": [
    {
     "data": {
      "text/html": [
       "<div>\n",
       "<style scoped>\n",
       "    .dataframe tbody tr th:only-of-type {\n",
       "        vertical-align: middle;\n",
       "    }\n",
       "\n",
       "    .dataframe tbody tr th {\n",
       "        vertical-align: top;\n",
       "    }\n",
       "\n",
       "    .dataframe thead th {\n",
       "        text-align: right;\n",
       "    }\n",
       "</style>\n",
       "<table border=\"1\" class=\"dataframe\">\n",
       "  <thead>\n",
       "    <tr style=\"text-align: right;\">\n",
       "      <th></th>\n",
       "      <th></th>\n",
       "      <th>mb_used</th>\n",
       "    </tr>\n",
       "    <tr>\n",
       "      <th>month</th>\n",
       "      <th>user_id</th>\n",
       "      <th></th>\n",
       "    </tr>\n",
       "  </thead>\n",
       "  <tbody>\n",
       "    <tr>\n",
       "      <th rowspan=\"10\" valign=\"top\">January</th>\n",
       "      <th>1433</th>\n",
       "      <td>9,462.00</td>\n",
       "    </tr>\n",
       "    <tr>\n",
       "      <th>1254</th>\n",
       "      <td>19,707.00</td>\n",
       "    </tr>\n",
       "    <tr>\n",
       "      <th>1238</th>\n",
       "      <td>10,897.00</td>\n",
       "    </tr>\n",
       "    <tr>\n",
       "      <th>1227</th>\n",
       "      <td>16,648.00</td>\n",
       "    </tr>\n",
       "    <tr>\n",
       "      <th>1219</th>\n",
       "      <td>7,064.00</td>\n",
       "    </tr>\n",
       "    <tr>\n",
       "      <th>1204</th>\n",
       "      <td>15,854.00</td>\n",
       "    </tr>\n",
       "    <tr>\n",
       "      <th>1193</th>\n",
       "      <td>7,150.00</td>\n",
       "    </tr>\n",
       "    <tr>\n",
       "      <th>1176</th>\n",
       "      <td>6,864.00</td>\n",
       "    </tr>\n",
       "    <tr>\n",
       "      <th>1168</th>\n",
       "      <td>8,161.00</td>\n",
       "    </tr>\n",
       "    <tr>\n",
       "      <th>1155</th>\n",
       "      <td>20,151.00</td>\n",
       "    </tr>\n",
       "  </tbody>\n",
       "</table>\n",
       "</div>"
      ],
      "text/plain": [
       "                  mb_used\n",
       "month   user_id          \n",
       "January 1433     9,462.00\n",
       "        1254    19,707.00\n",
       "        1238    10,897.00\n",
       "        1227    16,648.00\n",
       "        1219     7,064.00\n",
       "        1204    15,854.00\n",
       "        1193     7,150.00\n",
       "        1176     6,864.00\n",
       "        1168     8,161.00\n",
       "        1155    20,151.00"
      ]
     },
     "execution_count": 124,
     "metadata": {},
     "output_type": "execute_result"
    }
   ],
   "source": [
    "internet_pivot.head(10)"
   ]
  },
  {
   "cell_type": "code",
   "execution_count": 125,
   "metadata": {},
   "outputs": [],
   "source": [
    "internet_pivot.columns = ['mb_duration']"
   ]
  },
  {
   "cell_type": "markdown",
   "metadata": {},
   "source": [
    "Объединим получившиеся сводные таблицы в один общий"
   ]
  },
  {
   "cell_type": "code",
   "execution_count": 126,
   "metadata": {},
   "outputs": [],
   "source": [
    "data = calls_pivot.join([messages_pivot, internet_pivot], how='outer')"
   ]
  },
  {
   "cell_type": "code",
   "execution_count": 127,
   "metadata": {},
   "outputs": [
    {
     "name": "stdout",
     "output_type": "stream",
     "text": [
      "<class 'pandas.core.frame.DataFrame'>\n",
      "MultiIndex: 3214 entries, ('April', 1005) to ('September', 1499)\n",
      "Data columns (total 4 columns):\n",
      " #   Column             Non-Null Count  Dtype  \n",
      "---  ------             --------------  -----  \n",
      " 0   count_of_calls     3174 non-null   float64\n",
      " 1   full_duration      3174 non-null   float64\n",
      " 2   count_of_messages  2717 non-null   float64\n",
      " 3   mb_duration        3203 non-null   float64\n",
      "dtypes: float64(4)\n",
      "memory usage: 130.4+ KB\n"
     ]
    }
   ],
   "source": [
    "data.info()"
   ]
  },
  {
   "cell_type": "code",
   "execution_count": 128,
   "metadata": {},
   "outputs": [],
   "source": [
    "data = (\n",
    "    data.sort_values(by=['month'], key=lambda x: x.map(month_dict))\n",
    ")"
   ]
  },
  {
   "cell_type": "code",
   "execution_count": 129,
   "metadata": {},
   "outputs": [
    {
     "data": {
      "text/html": [
       "<div>\n",
       "<style scoped>\n",
       "    .dataframe tbody tr th:only-of-type {\n",
       "        vertical-align: middle;\n",
       "    }\n",
       "\n",
       "    .dataframe tbody tr th {\n",
       "        vertical-align: top;\n",
       "    }\n",
       "\n",
       "    .dataframe thead th {\n",
       "        text-align: right;\n",
       "    }\n",
       "</style>\n",
       "<table border=\"1\" class=\"dataframe\">\n",
       "  <thead>\n",
       "    <tr style=\"text-align: right;\">\n",
       "      <th></th>\n",
       "      <th></th>\n",
       "      <th>count_of_calls</th>\n",
       "      <th>full_duration</th>\n",
       "      <th>count_of_messages</th>\n",
       "      <th>mb_duration</th>\n",
       "    </tr>\n",
       "    <tr>\n",
       "      <th>month</th>\n",
       "      <th>user_id</th>\n",
       "      <th></th>\n",
       "      <th></th>\n",
       "      <th></th>\n",
       "      <th></th>\n",
       "    </tr>\n",
       "  </thead>\n",
       "  <tbody>\n",
       "    <tr>\n",
       "      <th rowspan=\"5\" valign=\"top\">January</th>\n",
       "      <th>1429</th>\n",
       "      <td>10.00</td>\n",
       "      <td>70.00</td>\n",
       "      <td>NaN</td>\n",
       "      <td>2,149.00</td>\n",
       "    </tr>\n",
       "    <tr>\n",
       "      <th>1254</th>\n",
       "      <td>59.00</td>\n",
       "      <td>466.00</td>\n",
       "      <td>NaN</td>\n",
       "      <td>19,707.00</td>\n",
       "    </tr>\n",
       "    <tr>\n",
       "      <th>1238</th>\n",
       "      <td>8.00</td>\n",
       "      <td>55.00</td>\n",
       "      <td>34.00</td>\n",
       "      <td>10,897.00</td>\n",
       "    </tr>\n",
       "    <tr>\n",
       "      <th>1227</th>\n",
       "      <td>67.00</td>\n",
       "      <td>471.00</td>\n",
       "      <td>27.00</td>\n",
       "      <td>16,648.00</td>\n",
       "    </tr>\n",
       "    <tr>\n",
       "      <th>1219</th>\n",
       "      <td>18.00</td>\n",
       "      <td>146.00</td>\n",
       "      <td>3.00</td>\n",
       "      <td>7,064.00</td>\n",
       "    </tr>\n",
       "  </tbody>\n",
       "</table>\n",
       "</div>"
      ],
      "text/plain": [
       "                 count_of_calls  full_duration  count_of_messages  mb_duration\n",
       "month   user_id                                                               \n",
       "January 1429              10.00          70.00                NaN     2,149.00\n",
       "        1254              59.00         466.00                NaN    19,707.00\n",
       "        1238               8.00          55.00              34.00    10,897.00\n",
       "        1227              67.00         471.00              27.00    16,648.00\n",
       "        1219              18.00         146.00               3.00     7,064.00"
      ]
     },
     "execution_count": 129,
     "metadata": {},
     "output_type": "execute_result"
    }
   ],
   "source": [
    "data.head(5)"
   ]
  },
  {
   "cell_type": "code",
   "execution_count": 130,
   "metadata": {},
   "outputs": [
    {
     "data": {
      "text/plain": [
       "count_of_calls        40\n",
       "full_duration         40\n",
       "count_of_messages    497\n",
       "mb_duration           11\n",
       "dtype: int64"
      ]
     },
     "execution_count": 130,
     "metadata": {},
     "output_type": "execute_result"
    }
   ],
   "source": [
    "data.isna().sum()"
   ]
  },
  {
   "cell_type": "markdown",
   "metadata": {},
   "source": [
    "Видим, что в наших данных есть миссинги. Вероятнее всего, если нет данных, то пользователь пользовался той или иной услугой, например, не звонил в определенный месяц, или не писал сообщения, или не использовал интернет. Заменим миссинги нулями."
   ]
  },
  {
   "cell_type": "code",
   "execution_count": 131,
   "metadata": {},
   "outputs": [],
   "source": [
    "data.fillna(0, inplace=True)"
   ]
  },
  {
   "cell_type": "code",
   "execution_count": 132,
   "metadata": {},
   "outputs": [
    {
     "data": {
      "text/plain": [
       "count_of_calls       0\n",
       "full_duration        0\n",
       "count_of_messages    0\n",
       "mb_duration          0\n",
       "dtype: int64"
      ]
     },
     "execution_count": 132,
     "metadata": {},
     "output_type": "execute_result"
    }
   ],
   "source": [
    "# проверим\n",
    "data.isna().sum()"
   ]
  },
  {
   "cell_type": "markdown",
   "metadata": {},
   "source": [
    "Миссингов не осталось.   \n",
    "Теперь добавим в таблицу информацию по тарифам из `users`."
   ]
  },
  {
   "cell_type": "code",
   "execution_count": 133,
   "metadata": {},
   "outputs": [],
   "source": [
    "data = data.join(users.set_index('user_id'), on='user_id')"
   ]
  },
  {
   "cell_type": "code",
   "execution_count": 134,
   "metadata": {},
   "outputs": [
    {
     "data": {
      "text/html": [
       "<div>\n",
       "<style scoped>\n",
       "    .dataframe tbody tr th:only-of-type {\n",
       "        vertical-align: middle;\n",
       "    }\n",
       "\n",
       "    .dataframe tbody tr th {\n",
       "        vertical-align: top;\n",
       "    }\n",
       "\n",
       "    .dataframe thead th {\n",
       "        text-align: right;\n",
       "    }\n",
       "</style>\n",
       "<table border=\"1\" class=\"dataframe\">\n",
       "  <thead>\n",
       "    <tr style=\"text-align: right;\">\n",
       "      <th></th>\n",
       "      <th></th>\n",
       "      <th>count_of_calls</th>\n",
       "      <th>full_duration</th>\n",
       "      <th>count_of_messages</th>\n",
       "      <th>mb_duration</th>\n",
       "      <th>age</th>\n",
       "      <th>churn_date</th>\n",
       "      <th>city</th>\n",
       "      <th>first_name</th>\n",
       "      <th>last_name</th>\n",
       "      <th>reg_date</th>\n",
       "      <th>tariff</th>\n",
       "    </tr>\n",
       "    <tr>\n",
       "      <th>month</th>\n",
       "      <th>user_id</th>\n",
       "      <th></th>\n",
       "      <th></th>\n",
       "      <th></th>\n",
       "      <th></th>\n",
       "      <th></th>\n",
       "      <th></th>\n",
       "      <th></th>\n",
       "      <th></th>\n",
       "      <th></th>\n",
       "      <th></th>\n",
       "      <th></th>\n",
       "    </tr>\n",
       "  </thead>\n",
       "  <tbody>\n",
       "    <tr>\n",
       "      <th rowspan=\"5\" valign=\"top\">January</th>\n",
       "      <th>1429</th>\n",
       "      <td>10.00</td>\n",
       "      <td>70.00</td>\n",
       "      <td>0.00</td>\n",
       "      <td>2,149.00</td>\n",
       "      <td>54</td>\n",
       "      <td>NaN</td>\n",
       "      <td>Санкт-Петербург</td>\n",
       "      <td>Джулия</td>\n",
       "      <td>Белякова</td>\n",
       "      <td>2018-01-26</td>\n",
       "      <td>smart</td>\n",
       "    </tr>\n",
       "    <tr>\n",
       "      <th>1254</th>\n",
       "      <td>59.00</td>\n",
       "      <td>466.00</td>\n",
       "      <td>0.00</td>\n",
       "      <td>19,707.00</td>\n",
       "      <td>75</td>\n",
       "      <td>2018-08-17</td>\n",
       "      <td>Москва</td>\n",
       "      <td>Александра</td>\n",
       "      <td>Сухарева</td>\n",
       "      <td>2018-01-04</td>\n",
       "      <td>ultra</td>\n",
       "    </tr>\n",
       "    <tr>\n",
       "      <th>1238</th>\n",
       "      <td>8.00</td>\n",
       "      <td>55.00</td>\n",
       "      <td>34.00</td>\n",
       "      <td>10,897.00</td>\n",
       "      <td>57</td>\n",
       "      <td>NaN</td>\n",
       "      <td>Ростов-на-Дону</td>\n",
       "      <td>Радислав</td>\n",
       "      <td>Наумов</td>\n",
       "      <td>2018-01-08</td>\n",
       "      <td>smart</td>\n",
       "    </tr>\n",
       "    <tr>\n",
       "      <th>1227</th>\n",
       "      <td>67.00</td>\n",
       "      <td>471.00</td>\n",
       "      <td>27.00</td>\n",
       "      <td>16,648.00</td>\n",
       "      <td>66</td>\n",
       "      <td>NaN</td>\n",
       "      <td>Санкт-Петербург</td>\n",
       "      <td>Раиса</td>\n",
       "      <td>Калинина</td>\n",
       "      <td>2018-01-09</td>\n",
       "      <td>smart</td>\n",
       "    </tr>\n",
       "    <tr>\n",
       "      <th>1219</th>\n",
       "      <td>18.00</td>\n",
       "      <td>146.00</td>\n",
       "      <td>3.00</td>\n",
       "      <td>7,064.00</td>\n",
       "      <td>75</td>\n",
       "      <td>NaN</td>\n",
       "      <td>Киров</td>\n",
       "      <td>Кузьма</td>\n",
       "      <td>Некрасов</td>\n",
       "      <td>2018-01-21</td>\n",
       "      <td>smart</td>\n",
       "    </tr>\n",
       "  </tbody>\n",
       "</table>\n",
       "</div>"
      ],
      "text/plain": [
       "                 count_of_calls  full_duration  count_of_messages  \\\n",
       "month   user_id                                                     \n",
       "January 1429              10.00          70.00               0.00   \n",
       "        1254              59.00         466.00               0.00   \n",
       "        1238               8.00          55.00              34.00   \n",
       "        1227              67.00         471.00              27.00   \n",
       "        1219              18.00         146.00               3.00   \n",
       "\n",
       "                 mb_duration  age  churn_date             city  first_name  \\\n",
       "month   user_id                                                              \n",
       "January 1429        2,149.00   54         NaN  Санкт-Петербург      Джулия   \n",
       "        1254       19,707.00   75  2018-08-17           Москва  Александра   \n",
       "        1238       10,897.00   57         NaN   Ростов-на-Дону    Радислав   \n",
       "        1227       16,648.00   66         NaN  Санкт-Петербург       Раиса   \n",
       "        1219        7,064.00   75         NaN            Киров      Кузьма   \n",
       "\n",
       "                last_name   reg_date tariff  \n",
       "month   user_id                              \n",
       "January 1429     Белякова 2018-01-26  smart  \n",
       "        1254     Сухарева 2018-01-04  ultra  \n",
       "        1238       Наумов 2018-01-08  smart  \n",
       "        1227     Калинина 2018-01-09  smart  \n",
       "        1219     Некрасов 2018-01-21  smart  "
      ]
     },
     "execution_count": 134,
     "metadata": {},
     "output_type": "execute_result"
    }
   ],
   "source": [
    "data.head(5)"
   ]
  },
  {
   "cell_type": "markdown",
   "metadata": {},
   "source": [
    "Сработало!!!\n",
    "\n",
    "Теперь посчитаем помесячную выручку с каждого пользователя. Для этого вычтем бесплатный лимит из суммарного количества звонков, сообщений и интернет-трафика; остаток умножим на значение из тарифного плана; прибавим абонентскую плату, соответствующую тарифному плану. \n",
    "\n",
    "Но для начала нужно добавить информацию по трафикам из `tariffs`"
   ]
  },
  {
   "cell_type": "code",
   "execution_count": 135,
   "metadata": {},
   "outputs": [],
   "source": [
    "data = data.rename(columns={'tariff': 'tariff_name'})"
   ]
  },
  {
   "cell_type": "code",
   "execution_count": 136,
   "metadata": {},
   "outputs": [
    {
     "data": {
      "text/html": [
       "<div>\n",
       "<style scoped>\n",
       "    .dataframe tbody tr th:only-of-type {\n",
       "        vertical-align: middle;\n",
       "    }\n",
       "\n",
       "    .dataframe tbody tr th {\n",
       "        vertical-align: top;\n",
       "    }\n",
       "\n",
       "    .dataframe thead th {\n",
       "        text-align: right;\n",
       "    }\n",
       "</style>\n",
       "<table border=\"1\" class=\"dataframe\">\n",
       "  <thead>\n",
       "    <tr style=\"text-align: right;\">\n",
       "      <th></th>\n",
       "      <th></th>\n",
       "      <th>count_of_calls</th>\n",
       "      <th>full_duration</th>\n",
       "      <th>count_of_messages</th>\n",
       "      <th>mb_duration</th>\n",
       "      <th>age</th>\n",
       "      <th>churn_date</th>\n",
       "      <th>city</th>\n",
       "      <th>first_name</th>\n",
       "      <th>last_name</th>\n",
       "      <th>reg_date</th>\n",
       "      <th>tariff_name</th>\n",
       "    </tr>\n",
       "    <tr>\n",
       "      <th>month</th>\n",
       "      <th>user_id</th>\n",
       "      <th></th>\n",
       "      <th></th>\n",
       "      <th></th>\n",
       "      <th></th>\n",
       "      <th></th>\n",
       "      <th></th>\n",
       "      <th></th>\n",
       "      <th></th>\n",
       "      <th></th>\n",
       "      <th></th>\n",
       "      <th></th>\n",
       "    </tr>\n",
       "  </thead>\n",
       "  <tbody>\n",
       "    <tr>\n",
       "      <th rowspan=\"5\" valign=\"top\">January</th>\n",
       "      <th>1429</th>\n",
       "      <td>10.00</td>\n",
       "      <td>70.00</td>\n",
       "      <td>0.00</td>\n",
       "      <td>2,149.00</td>\n",
       "      <td>54</td>\n",
       "      <td>NaN</td>\n",
       "      <td>Санкт-Петербург</td>\n",
       "      <td>Джулия</td>\n",
       "      <td>Белякова</td>\n",
       "      <td>2018-01-26</td>\n",
       "      <td>smart</td>\n",
       "    </tr>\n",
       "    <tr>\n",
       "      <th>1254</th>\n",
       "      <td>59.00</td>\n",
       "      <td>466.00</td>\n",
       "      <td>0.00</td>\n",
       "      <td>19,707.00</td>\n",
       "      <td>75</td>\n",
       "      <td>2018-08-17</td>\n",
       "      <td>Москва</td>\n",
       "      <td>Александра</td>\n",
       "      <td>Сухарева</td>\n",
       "      <td>2018-01-04</td>\n",
       "      <td>ultra</td>\n",
       "    </tr>\n",
       "    <tr>\n",
       "      <th>1238</th>\n",
       "      <td>8.00</td>\n",
       "      <td>55.00</td>\n",
       "      <td>34.00</td>\n",
       "      <td>10,897.00</td>\n",
       "      <td>57</td>\n",
       "      <td>NaN</td>\n",
       "      <td>Ростов-на-Дону</td>\n",
       "      <td>Радислав</td>\n",
       "      <td>Наумов</td>\n",
       "      <td>2018-01-08</td>\n",
       "      <td>smart</td>\n",
       "    </tr>\n",
       "    <tr>\n",
       "      <th>1227</th>\n",
       "      <td>67.00</td>\n",
       "      <td>471.00</td>\n",
       "      <td>27.00</td>\n",
       "      <td>16,648.00</td>\n",
       "      <td>66</td>\n",
       "      <td>NaN</td>\n",
       "      <td>Санкт-Петербург</td>\n",
       "      <td>Раиса</td>\n",
       "      <td>Калинина</td>\n",
       "      <td>2018-01-09</td>\n",
       "      <td>smart</td>\n",
       "    </tr>\n",
       "    <tr>\n",
       "      <th>1219</th>\n",
       "      <td>18.00</td>\n",
       "      <td>146.00</td>\n",
       "      <td>3.00</td>\n",
       "      <td>7,064.00</td>\n",
       "      <td>75</td>\n",
       "      <td>NaN</td>\n",
       "      <td>Киров</td>\n",
       "      <td>Кузьма</td>\n",
       "      <td>Некрасов</td>\n",
       "      <td>2018-01-21</td>\n",
       "      <td>smart</td>\n",
       "    </tr>\n",
       "  </tbody>\n",
       "</table>\n",
       "</div>"
      ],
      "text/plain": [
       "                 count_of_calls  full_duration  count_of_messages  \\\n",
       "month   user_id                                                     \n",
       "January 1429              10.00          70.00               0.00   \n",
       "        1254              59.00         466.00               0.00   \n",
       "        1238               8.00          55.00              34.00   \n",
       "        1227              67.00         471.00              27.00   \n",
       "        1219              18.00         146.00               3.00   \n",
       "\n",
       "                 mb_duration  age  churn_date             city  first_name  \\\n",
       "month   user_id                                                              \n",
       "January 1429        2,149.00   54         NaN  Санкт-Петербург      Джулия   \n",
       "        1254       19,707.00   75  2018-08-17           Москва  Александра   \n",
       "        1238       10,897.00   57         NaN   Ростов-на-Дону    Радислав   \n",
       "        1227       16,648.00   66         NaN  Санкт-Петербург       Раиса   \n",
       "        1219        7,064.00   75         NaN            Киров      Кузьма   \n",
       "\n",
       "                last_name   reg_date tariff_name  \n",
       "month   user_id                                   \n",
       "January 1429     Белякова 2018-01-26       smart  \n",
       "        1254     Сухарева 2018-01-04       ultra  \n",
       "        1238       Наумов 2018-01-08       smart  \n",
       "        1227     Калинина 2018-01-09       smart  \n",
       "        1219     Некрасов 2018-01-21       smart  "
      ]
     },
     "execution_count": 136,
     "metadata": {},
     "output_type": "execute_result"
    }
   ],
   "source": [
    "data.head(5)"
   ]
  },
  {
   "cell_type": "code",
   "execution_count": 137,
   "metadata": {},
   "outputs": [],
   "source": [
    "data = data.merge(tariffs, on='tariff_name')"
   ]
  },
  {
   "cell_type": "code",
   "execution_count": 138,
   "metadata": {},
   "outputs": [
    {
     "data": {
      "text/html": [
       "<div>\n",
       "<style scoped>\n",
       "    .dataframe tbody tr th:only-of-type {\n",
       "        vertical-align: middle;\n",
       "    }\n",
       "\n",
       "    .dataframe tbody tr th {\n",
       "        vertical-align: top;\n",
       "    }\n",
       "\n",
       "    .dataframe thead th {\n",
       "        text-align: right;\n",
       "    }\n",
       "</style>\n",
       "<table border=\"1\" class=\"dataframe\">\n",
       "  <thead>\n",
       "    <tr style=\"text-align: right;\">\n",
       "      <th></th>\n",
       "      <th>count_of_calls</th>\n",
       "      <th>full_duration</th>\n",
       "      <th>count_of_messages</th>\n",
       "      <th>mb_duration</th>\n",
       "      <th>age</th>\n",
       "      <th>churn_date</th>\n",
       "      <th>city</th>\n",
       "      <th>first_name</th>\n",
       "      <th>last_name</th>\n",
       "      <th>reg_date</th>\n",
       "      <th>tariff_name</th>\n",
       "      <th>messages_included</th>\n",
       "      <th>mb_per_month_included</th>\n",
       "      <th>minutes_included</th>\n",
       "      <th>rub_monthly_fee</th>\n",
       "      <th>rub_per_gb</th>\n",
       "      <th>rub_per_message</th>\n",
       "      <th>rub_per_minute</th>\n",
       "    </tr>\n",
       "  </thead>\n",
       "  <tbody>\n",
       "    <tr>\n",
       "      <th>3209</th>\n",
       "      <td>153.00</td>\n",
       "      <td>1,199.00</td>\n",
       "      <td>45.00</td>\n",
       "      <td>29,339.00</td>\n",
       "      <td>28</td>\n",
       "      <td>NaN</td>\n",
       "      <td>Кострома</td>\n",
       "      <td>Лилия</td>\n",
       "      <td>Ананьева</td>\n",
       "      <td>2018-01-24</td>\n",
       "      <td>ultra</td>\n",
       "      <td>1000</td>\n",
       "      <td>30720</td>\n",
       "      <td>3000</td>\n",
       "      <td>1950</td>\n",
       "      <td>150</td>\n",
       "      <td>1</td>\n",
       "      <td>1</td>\n",
       "    </tr>\n",
       "    <tr>\n",
       "      <th>3210</th>\n",
       "      <td>114.00</td>\n",
       "      <td>841.00</td>\n",
       "      <td>178.00</td>\n",
       "      <td>25,130.00</td>\n",
       "      <td>30</td>\n",
       "      <td>NaN</td>\n",
       "      <td>Кемерово</td>\n",
       "      <td>Клавдия</td>\n",
       "      <td>Абдулина</td>\n",
       "      <td>2018-09-29</td>\n",
       "      <td>ultra</td>\n",
       "      <td>1000</td>\n",
       "      <td>30720</td>\n",
       "      <td>3000</td>\n",
       "      <td>1950</td>\n",
       "      <td>150</td>\n",
       "      <td>1</td>\n",
       "      <td>1</td>\n",
       "    </tr>\n",
       "    <tr>\n",
       "      <th>3211</th>\n",
       "      <td>48.00</td>\n",
       "      <td>407.00</td>\n",
       "      <td>118.00</td>\n",
       "      <td>12,503.00</td>\n",
       "      <td>48</td>\n",
       "      <td>NaN</td>\n",
       "      <td>Нижний Новгород</td>\n",
       "      <td>Святослав</td>\n",
       "      <td>Жданов</td>\n",
       "      <td>2018-08-17</td>\n",
       "      <td>ultra</td>\n",
       "      <td>1000</td>\n",
       "      <td>30720</td>\n",
       "      <td>3000</td>\n",
       "      <td>1950</td>\n",
       "      <td>150</td>\n",
       "      <td>1</td>\n",
       "      <td>1</td>\n",
       "    </tr>\n",
       "    <tr>\n",
       "      <th>3212</th>\n",
       "      <td>37.00</td>\n",
       "      <td>278.00</td>\n",
       "      <td>224.00</td>\n",
       "      <td>31,972.00</td>\n",
       "      <td>19</td>\n",
       "      <td>NaN</td>\n",
       "      <td>Самара</td>\n",
       "      <td>Алексей</td>\n",
       "      <td>Медведев</td>\n",
       "      <td>2018-10-14</td>\n",
       "      <td>ultra</td>\n",
       "      <td>1000</td>\n",
       "      <td>30720</td>\n",
       "      <td>3000</td>\n",
       "      <td>1950</td>\n",
       "      <td>150</td>\n",
       "      <td>1</td>\n",
       "      <td>1</td>\n",
       "    </tr>\n",
       "    <tr>\n",
       "      <th>3213</th>\n",
       "      <td>27.00</td>\n",
       "      <td>188.00</td>\n",
       "      <td>6.00</td>\n",
       "      <td>11,884.00</td>\n",
       "      <td>63</td>\n",
       "      <td>NaN</td>\n",
       "      <td>Набережные Челны</td>\n",
       "      <td>Валерий</td>\n",
       "      <td>Галкин</td>\n",
       "      <td>2018-11-12</td>\n",
       "      <td>ultra</td>\n",
       "      <td>1000</td>\n",
       "      <td>30720</td>\n",
       "      <td>3000</td>\n",
       "      <td>1950</td>\n",
       "      <td>150</td>\n",
       "      <td>1</td>\n",
       "      <td>1</td>\n",
       "    </tr>\n",
       "  </tbody>\n",
       "</table>\n",
       "</div>"
      ],
      "text/plain": [
       "      count_of_calls  full_duration  count_of_messages  mb_duration  age  \\\n",
       "3209          153.00       1,199.00              45.00    29,339.00   28   \n",
       "3210          114.00         841.00             178.00    25,130.00   30   \n",
       "3211           48.00         407.00             118.00    12,503.00   48   \n",
       "3212           37.00         278.00             224.00    31,972.00   19   \n",
       "3213           27.00         188.00               6.00    11,884.00   63   \n",
       "\n",
       "     churn_date              city first_name last_name   reg_date tariff_name  \\\n",
       "3209        NaN          Кострома      Лилия  Ананьева 2018-01-24       ultra   \n",
       "3210        NaN          Кемерово    Клавдия  Абдулина 2018-09-29       ultra   \n",
       "3211        NaN   Нижний Новгород  Святослав    Жданов 2018-08-17       ultra   \n",
       "3212        NaN            Самара    Алексей  Медведев 2018-10-14       ultra   \n",
       "3213        NaN  Набережные Челны    Валерий    Галкин 2018-11-12       ultra   \n",
       "\n",
       "      messages_included  mb_per_month_included  minutes_included  \\\n",
       "3209               1000                  30720              3000   \n",
       "3210               1000                  30720              3000   \n",
       "3211               1000                  30720              3000   \n",
       "3212               1000                  30720              3000   \n",
       "3213               1000                  30720              3000   \n",
       "\n",
       "      rub_monthly_fee  rub_per_gb  rub_per_message  rub_per_minute  \n",
       "3209             1950         150                1               1  \n",
       "3210             1950         150                1               1  \n",
       "3211             1950         150                1               1  \n",
       "3212             1950         150                1               1  \n",
       "3213             1950         150                1               1  "
      ]
     },
     "execution_count": 138,
     "metadata": {},
     "output_type": "execute_result"
    }
   ],
   "source": [
    "data.tail(5)"
   ]
  },
  {
   "cell_type": "code",
   "execution_count": 139,
   "metadata": {},
   "outputs": [
    {
     "name": "stdout",
     "output_type": "stream",
     "text": [
      "<class 'pandas.core.frame.DataFrame'>\n",
      "Int64Index: 3214 entries, 0 to 3213\n",
      "Data columns (total 18 columns):\n",
      " #   Column                 Non-Null Count  Dtype         \n",
      "---  ------                 --------------  -----         \n",
      " 0   count_of_calls         3214 non-null   float64       \n",
      " 1   full_duration          3214 non-null   float64       \n",
      " 2   count_of_messages      3214 non-null   float64       \n",
      " 3   mb_duration            3214 non-null   float64       \n",
      " 4   age                    3214 non-null   int64         \n",
      " 5   churn_date             187 non-null    object        \n",
      " 6   city                   3214 non-null   object        \n",
      " 7   first_name             3214 non-null   object        \n",
      " 8   last_name              3214 non-null   object        \n",
      " 9   reg_date               3214 non-null   datetime64[ns]\n",
      " 10  tariff_name            3214 non-null   object        \n",
      " 11  messages_included      3214 non-null   int64         \n",
      " 12  mb_per_month_included  3214 non-null   int64         \n",
      " 13  minutes_included       3214 non-null   int64         \n",
      " 14  rub_monthly_fee        3214 non-null   int64         \n",
      " 15  rub_per_gb             3214 non-null   int64         \n",
      " 16  rub_per_message        3214 non-null   int64         \n",
      " 17  rub_per_minute         3214 non-null   int64         \n",
      "dtypes: datetime64[ns](1), float64(4), int64(8), object(5)\n",
      "memory usage: 477.1+ KB\n"
     ]
    }
   ],
   "source": [
    "data.info()"
   ]
  },
  {
   "cell_type": "markdown",
   "metadata": {},
   "source": [
    "Миссинги есть только в `churn_date`, но их мы оставляем как есть. Миссинги в этой колонке означают, что тарифом на момент выгрузки данных еще пользовались."
   ]
  },
  {
   "cell_type": "code",
   "execution_count": 140,
   "metadata": {},
   "outputs": [
    {
     "data": {
      "text/plain": [
       "0        -430.00\n",
       "1        -445.00\n",
       "2         -29.00\n",
       "3        -354.00\n",
       "4        -195.00\n",
       "          ...   \n",
       "3209   -1,801.00\n",
       "3210   -2,159.00\n",
       "3211   -2,593.00\n",
       "3212   -2,722.00\n",
       "3213   -2,812.00\n",
       "Name: over_call, Length: 3214, dtype: float64"
      ]
     },
     "execution_count": 140,
     "metadata": {},
     "output_type": "execute_result"
    }
   ],
   "source": [
    "#вычтем бесплатный лимит из суммарного количества звонков, сообщений и интернет-трафика; \n",
    "# остаток умножим на значение из тарифного плана; \n",
    "# поскольку у Мегалайна оплата начинается, когда длительность звонка 1 сек и больше,\n",
    "# то представляется корректным вычести из суммарной длительности звонков бесплатный лимит\n",
    "# потому что в суммарное кол-во звонков входят также и звонки длительностью 0 сек.\n",
    "# не забудем округлить full_duration в большую сторону\n",
    "data['over_call'] = data['full_duration'] - data['minutes_included']\n",
    "data['over_call']"
   ]
  },
  {
   "cell_type": "markdown",
   "metadata": {},
   "source": [
    "Итак, у нас есть как положительные остатки, так и отрицательные. Положительный остаток означает, что лимит по тарифу был исчерпан и далее звонки оплачивались согласно тарифному плану. Значит умножать на значение из тарифного плана нужно только положительные остатки."
   ]
  },
  {
   "cell_type": "code",
   "execution_count": 141,
   "metadata": {},
   "outputs": [],
   "source": [
    "data['rub_over_call'] = 0"
   ]
  },
  {
   "cell_type": "code",
   "execution_count": 142,
   "metadata": {},
   "outputs": [],
   "source": [
    "data.loc[data['over_call'] > 0, 'rub_over_call'] = (\n",
    "    data.loc[data['over_call'] > 0, 'over_call'] * data.loc[data['over_call'] > 0,'rub_per_minute']\n",
    ")"
   ]
  },
  {
   "cell_type": "code",
   "execution_count": 143,
   "metadata": {},
   "outputs": [],
   "source": [
    "# проделаем то же самое для сообщений и интернет-трафика\n",
    "data['over_messages'] = data['count_of_messages'] - data['messages_included']\n",
    "data['rub_over_messages'] = 0\n",
    "data.loc[data['over_messages'] > 0, 'rub_over_messages'] = data.loc[data['over_messages'] > 0, :]['over_messages'] * data.loc[data['over_messages'] > 0]['rub_per_message']"
   ]
  },
  {
   "cell_type": "code",
   "execution_count": 144,
   "metadata": {},
   "outputs": [
    {
     "data": {
      "text/html": [
       "<div>\n",
       "<style scoped>\n",
       "    .dataframe tbody tr th:only-of-type {\n",
       "        vertical-align: middle;\n",
       "    }\n",
       "\n",
       "    .dataframe tbody tr th {\n",
       "        vertical-align: top;\n",
       "    }\n",
       "\n",
       "    .dataframe thead th {\n",
       "        text-align: right;\n",
       "    }\n",
       "</style>\n",
       "<table border=\"1\" class=\"dataframe\">\n",
       "  <thead>\n",
       "    <tr style=\"text-align: right;\">\n",
       "      <th></th>\n",
       "      <th>mb_duration</th>\n",
       "      <th>mb_per_month_included</th>\n",
       "      <th>over_internet</th>\n",
       "    </tr>\n",
       "  </thead>\n",
       "  <tbody>\n",
       "    <tr>\n",
       "      <th>1</th>\n",
       "      <td>10,897.00</td>\n",
       "      <td>15360</td>\n",
       "      <td>-4,463.00</td>\n",
       "    </tr>\n",
       "    <tr>\n",
       "      <th>2</th>\n",
       "      <td>16,648.00</td>\n",
       "      <td>15360</td>\n",
       "      <td>1,288.00</td>\n",
       "    </tr>\n",
       "    <tr>\n",
       "      <th>3</th>\n",
       "      <td>7,064.00</td>\n",
       "      <td>15360</td>\n",
       "      <td>-8,296.00</td>\n",
       "    </tr>\n",
       "    <tr>\n",
       "      <th>4</th>\n",
       "      <td>15,854.00</td>\n",
       "      <td>15360</td>\n",
       "      <td>494.00</td>\n",
       "    </tr>\n",
       "    <tr>\n",
       "      <th>5</th>\n",
       "      <td>7,150.00</td>\n",
       "      <td>15360</td>\n",
       "      <td>-8,210.00</td>\n",
       "    </tr>\n",
       "    <tr>\n",
       "      <th>6</th>\n",
       "      <td>6,864.00</td>\n",
       "      <td>15360</td>\n",
       "      <td>-8,496.00</td>\n",
       "    </tr>\n",
       "    <tr>\n",
       "      <th>7</th>\n",
       "      <td>20,151.00</td>\n",
       "      <td>15360</td>\n",
       "      <td>4,791.00</td>\n",
       "    </tr>\n",
       "    <tr>\n",
       "      <th>8</th>\n",
       "      <td>1,601.00</td>\n",
       "      <td>15360</td>\n",
       "      <td>-13,759.00</td>\n",
       "    </tr>\n",
       "    <tr>\n",
       "      <th>9</th>\n",
       "      <td>10,215.00</td>\n",
       "      <td>15360</td>\n",
       "      <td>-5,145.00</td>\n",
       "    </tr>\n",
       "  </tbody>\n",
       "</table>\n",
       "</div>"
      ],
      "text/plain": [
       "   mb_duration  mb_per_month_included  over_internet\n",
       "1    10,897.00                  15360      -4,463.00\n",
       "2    16,648.00                  15360       1,288.00\n",
       "3     7,064.00                  15360      -8,296.00\n",
       "4    15,854.00                  15360         494.00\n",
       "5     7,150.00                  15360      -8,210.00\n",
       "6     6,864.00                  15360      -8,496.00\n",
       "7    20,151.00                  15360       4,791.00\n",
       "8     1,601.00                  15360     -13,759.00\n",
       "9    10,215.00                  15360      -5,145.00"
      ]
     },
     "execution_count": 144,
     "metadata": {},
     "output_type": "execute_result"
    }
   ],
   "source": [
    "data['over_internet'] = data['mb_duration'] - data['mb_per_month_included']\n",
    "data[['mb_duration', 'mb_per_month_included', 'over_internet']][1:10]"
   ]
  },
  {
   "cell_type": "markdown",
   "metadata": {},
   "source": [
    "Дополнительный интернет оплачивается по гигабайтам (1 Гб == 1024 Мб). Чтобы корректно посчитать разделить положительный остаток на 1024 Мб и округлить вверх до целых, а затем умножить на стоимость 1 дополнительного Гб"
   ]
  },
  {
   "cell_type": "code",
   "execution_count": 145,
   "metadata": {},
   "outputs": [],
   "source": [
    "data['rub_over_internet'] = 0\n",
    "data.loc[data['over_internet'] > 0, 'rub_over_internet'] = (\n",
    "    (data.loc[data['over_internet'] > 0, 'over_internet'] / 1024)\n",
    "    .apply(math.ceil) * \n",
    "    data.loc[data['over_internet'] > 0]['rub_per_gb']\n",
    ")"
   ]
  },
  {
   "cell_type": "code",
   "execution_count": 146,
   "metadata": {},
   "outputs": [
    {
     "data": {
      "text/html": [
       "<div>\n",
       "<style scoped>\n",
       "    .dataframe tbody tr th:only-of-type {\n",
       "        vertical-align: middle;\n",
       "    }\n",
       "\n",
       "    .dataframe tbody tr th {\n",
       "        vertical-align: top;\n",
       "    }\n",
       "\n",
       "    .dataframe thead th {\n",
       "        text-align: right;\n",
       "    }\n",
       "</style>\n",
       "<table border=\"1\" class=\"dataframe\">\n",
       "  <thead>\n",
       "    <tr style=\"text-align: right;\">\n",
       "      <th></th>\n",
       "      <th>count_of_calls</th>\n",
       "      <th>full_duration</th>\n",
       "      <th>count_of_messages</th>\n",
       "      <th>mb_duration</th>\n",
       "      <th>age</th>\n",
       "      <th>churn_date</th>\n",
       "      <th>city</th>\n",
       "      <th>first_name</th>\n",
       "      <th>last_name</th>\n",
       "      <th>reg_date</th>\n",
       "      <th>...</th>\n",
       "      <th>rub_monthly_fee</th>\n",
       "      <th>rub_per_gb</th>\n",
       "      <th>rub_per_message</th>\n",
       "      <th>rub_per_minute</th>\n",
       "      <th>over_call</th>\n",
       "      <th>rub_over_call</th>\n",
       "      <th>over_messages</th>\n",
       "      <th>rub_over_messages</th>\n",
       "      <th>over_internet</th>\n",
       "      <th>rub_over_internet</th>\n",
       "    </tr>\n",
       "  </thead>\n",
       "  <tbody>\n",
       "    <tr>\n",
       "      <th>0</th>\n",
       "      <td>10.00</td>\n",
       "      <td>70.00</td>\n",
       "      <td>0.00</td>\n",
       "      <td>2,149.00</td>\n",
       "      <td>54</td>\n",
       "      <td>NaN</td>\n",
       "      <td>Санкт-Петербург</td>\n",
       "      <td>Джулия</td>\n",
       "      <td>Белякова</td>\n",
       "      <td>2018-01-26</td>\n",
       "      <td>...</td>\n",
       "      <td>550</td>\n",
       "      <td>200</td>\n",
       "      <td>3</td>\n",
       "      <td>3</td>\n",
       "      <td>-430.00</td>\n",
       "      <td>0.00</td>\n",
       "      <td>-50.00</td>\n",
       "      <td>0.00</td>\n",
       "      <td>-13,211.00</td>\n",
       "      <td>0</td>\n",
       "    </tr>\n",
       "    <tr>\n",
       "      <th>1</th>\n",
       "      <td>8.00</td>\n",
       "      <td>55.00</td>\n",
       "      <td>34.00</td>\n",
       "      <td>10,897.00</td>\n",
       "      <td>57</td>\n",
       "      <td>NaN</td>\n",
       "      <td>Ростов-на-Дону</td>\n",
       "      <td>Радислав</td>\n",
       "      <td>Наумов</td>\n",
       "      <td>2018-01-08</td>\n",
       "      <td>...</td>\n",
       "      <td>550</td>\n",
       "      <td>200</td>\n",
       "      <td>3</td>\n",
       "      <td>3</td>\n",
       "      <td>-445.00</td>\n",
       "      <td>0.00</td>\n",
       "      <td>-16.00</td>\n",
       "      <td>0.00</td>\n",
       "      <td>-4,463.00</td>\n",
       "      <td>0</td>\n",
       "    </tr>\n",
       "    <tr>\n",
       "      <th>2</th>\n",
       "      <td>67.00</td>\n",
       "      <td>471.00</td>\n",
       "      <td>27.00</td>\n",
       "      <td>16,648.00</td>\n",
       "      <td>66</td>\n",
       "      <td>NaN</td>\n",
       "      <td>Санкт-Петербург</td>\n",
       "      <td>Раиса</td>\n",
       "      <td>Калинина</td>\n",
       "      <td>2018-01-09</td>\n",
       "      <td>...</td>\n",
       "      <td>550</td>\n",
       "      <td>200</td>\n",
       "      <td>3</td>\n",
       "      <td>3</td>\n",
       "      <td>-29.00</td>\n",
       "      <td>0.00</td>\n",
       "      <td>-23.00</td>\n",
       "      <td>0.00</td>\n",
       "      <td>1,288.00</td>\n",
       "      <td>400</td>\n",
       "    </tr>\n",
       "    <tr>\n",
       "      <th>3</th>\n",
       "      <td>18.00</td>\n",
       "      <td>146.00</td>\n",
       "      <td>3.00</td>\n",
       "      <td>7,064.00</td>\n",
       "      <td>75</td>\n",
       "      <td>NaN</td>\n",
       "      <td>Киров</td>\n",
       "      <td>Кузьма</td>\n",
       "      <td>Некрасов</td>\n",
       "      <td>2018-01-21</td>\n",
       "      <td>...</td>\n",
       "      <td>550</td>\n",
       "      <td>200</td>\n",
       "      <td>3</td>\n",
       "      <td>3</td>\n",
       "      <td>-354.00</td>\n",
       "      <td>0.00</td>\n",
       "      <td>-47.00</td>\n",
       "      <td>0.00</td>\n",
       "      <td>-8,296.00</td>\n",
       "      <td>0</td>\n",
       "    </tr>\n",
       "    <tr>\n",
       "      <th>4</th>\n",
       "      <td>50.00</td>\n",
       "      <td>305.00</td>\n",
       "      <td>0.00</td>\n",
       "      <td>15,854.00</td>\n",
       "      <td>18</td>\n",
       "      <td>NaN</td>\n",
       "      <td>Москва</td>\n",
       "      <td>Мирослава</td>\n",
       "      <td>Лазарева</td>\n",
       "      <td>2018-01-04</td>\n",
       "      <td>...</td>\n",
       "      <td>550</td>\n",
       "      <td>200</td>\n",
       "      <td>3</td>\n",
       "      <td>3</td>\n",
       "      <td>-195.00</td>\n",
       "      <td>0.00</td>\n",
       "      <td>-50.00</td>\n",
       "      <td>0.00</td>\n",
       "      <td>494.00</td>\n",
       "      <td>200</td>\n",
       "    </tr>\n",
       "  </tbody>\n",
       "</table>\n",
       "<p>5 rows × 24 columns</p>\n",
       "</div>"
      ],
      "text/plain": [
       "   count_of_calls  full_duration  count_of_messages  mb_duration  age  \\\n",
       "0           10.00          70.00               0.00     2,149.00   54   \n",
       "1            8.00          55.00              34.00    10,897.00   57   \n",
       "2           67.00         471.00              27.00    16,648.00   66   \n",
       "3           18.00         146.00               3.00     7,064.00   75   \n",
       "4           50.00         305.00               0.00    15,854.00   18   \n",
       "\n",
       "  churn_date             city first_name last_name   reg_date  ...  \\\n",
       "0        NaN  Санкт-Петербург     Джулия  Белякова 2018-01-26  ...   \n",
       "1        NaN   Ростов-на-Дону   Радислав    Наумов 2018-01-08  ...   \n",
       "2        NaN  Санкт-Петербург      Раиса  Калинина 2018-01-09  ...   \n",
       "3        NaN            Киров     Кузьма  Некрасов 2018-01-21  ...   \n",
       "4        NaN           Москва  Мирослава  Лазарева 2018-01-04  ...   \n",
       "\n",
       "  rub_monthly_fee  rub_per_gb  rub_per_message  rub_per_minute  over_call  \\\n",
       "0             550         200                3               3    -430.00   \n",
       "1             550         200                3               3    -445.00   \n",
       "2             550         200                3               3     -29.00   \n",
       "3             550         200                3               3    -354.00   \n",
       "4             550         200                3               3    -195.00   \n",
       "\n",
       "   rub_over_call  over_messages  rub_over_messages  over_internet  \\\n",
       "0           0.00         -50.00               0.00     -13,211.00   \n",
       "1           0.00         -16.00               0.00      -4,463.00   \n",
       "2           0.00         -23.00               0.00       1,288.00   \n",
       "3           0.00         -47.00               0.00      -8,296.00   \n",
       "4           0.00         -50.00               0.00         494.00   \n",
       "\n",
       "   rub_over_internet  \n",
       "0                  0  \n",
       "1                  0  \n",
       "2                400  \n",
       "3                  0  \n",
       "4                200  \n",
       "\n",
       "[5 rows x 24 columns]"
      ]
     },
     "execution_count": 146,
     "metadata": {},
     "output_type": "execute_result"
    }
   ],
   "source": [
    "data.head(5)"
   ]
  },
  {
   "cell_type": "code",
   "execution_count": 147,
   "metadata": {},
   "outputs": [],
   "source": [
    "# посчитаем сумму по трем новым параметрам - сколько заплатили пользователи после исчерпания лимита \n",
    "# и прибавим абонентскую плату, соответствующую тарифному плану\n",
    "data['proceeds'] = data[['rub_monthly_fee', 'rub_over_call', 'rub_over_messages','rub_over_internet']].apply(sum, axis=1)"
   ]
  },
  {
   "cell_type": "markdown",
   "metadata": {},
   "source": [
    "Итак, мы нашли помесячную выручку с каждого пользователя. Посмотрим на то, что у нас в итоге получилось."
   ]
  },
  {
   "cell_type": "code",
   "execution_count": 148,
   "metadata": {},
   "outputs": [
    {
     "data": {
      "image/png": "[encoded data removed]",
      "text/plain": [
       "<Figure size 432x288 with 1 Axes>"
      ]
     },
     "metadata": {
      "needs_background": "light"
     },
     "output_type": "display_data"
    }
   ],
   "source": [
    "data['proceeds'].hist();"
   ]
  },
  {
   "cell_type": "code",
   "execution_count": 149,
   "metadata": {},
   "outputs": [
    {
     "data": {
      "text/plain": [
       "count   3,214.00\n",
       "mean    1,532.59\n",
       "std       799.65\n",
       "min       550.00\n",
       "25%       750.00\n",
       "50%     1,667.50\n",
       "75%     1,950.00\n",
       "max     6,770.00\n",
       "Name: proceeds, dtype: float64"
      ]
     },
     "execution_count": 149,
     "metadata": {},
     "output_type": "execute_result"
    }
   ],
   "source": [
    "data['proceeds'].describe()"
   ]
  },
  {
   "cell_type": "code",
   "execution_count": 150,
   "metadata": {},
   "outputs": [
    {
     "data": {
      "text/html": [
       "<div>\n",
       "<style scoped>\n",
       "    .dataframe tbody tr th:only-of-type {\n",
       "        vertical-align: middle;\n",
       "    }\n",
       "\n",
       "    .dataframe tbody tr th {\n",
       "        vertical-align: top;\n",
       "    }\n",
       "\n",
       "    .dataframe thead th {\n",
       "        text-align: right;\n",
       "    }\n",
       "</style>\n",
       "<table border=\"1\" class=\"dataframe\">\n",
       "  <thead>\n",
       "    <tr style=\"text-align: right;\">\n",
       "      <th></th>\n",
       "      <th>count</th>\n",
       "      <th>mean</th>\n",
       "      <th>std</th>\n",
       "      <th>min</th>\n",
       "      <th>25%</th>\n",
       "      <th>50%</th>\n",
       "      <th>75%</th>\n",
       "      <th>max</th>\n",
       "    </tr>\n",
       "    <tr>\n",
       "      <th>tariff_name</th>\n",
       "      <th></th>\n",
       "      <th></th>\n",
       "      <th></th>\n",
       "      <th></th>\n",
       "      <th></th>\n",
       "      <th></th>\n",
       "      <th></th>\n",
       "      <th></th>\n",
       "    </tr>\n",
       "  </thead>\n",
       "  <tbody>\n",
       "    <tr>\n",
       "      <th>smart</th>\n",
       "      <td>2,229.00</td>\n",
       "      <td>1,294.64</td>\n",
       "      <td>820.93</td>\n",
       "      <td>550.00</td>\n",
       "      <td>550.00</td>\n",
       "      <td>1,038.00</td>\n",
       "      <td>1,750.00</td>\n",
       "      <td>6,770.00</td>\n",
       "    </tr>\n",
       "    <tr>\n",
       "      <th>ultra</th>\n",
       "      <td>985.00</td>\n",
       "      <td>2,071.07</td>\n",
       "      <td>378.80</td>\n",
       "      <td>1,950.00</td>\n",
       "      <td>1,950.00</td>\n",
       "      <td>1,950.00</td>\n",
       "      <td>1,950.00</td>\n",
       "      <td>4,800.00</td>\n",
       "    </tr>\n",
       "  </tbody>\n",
       "</table>\n",
       "</div>"
      ],
      "text/plain": [
       "               count     mean    std      min      25%      50%      75%  \\\n",
       "tariff_name                                                                \n",
       "smart       2,229.00 1,294.64 820.93   550.00   550.00 1,038.00 1,750.00   \n",
       "ultra         985.00 2,071.07 378.80 1,950.00 1,950.00 1,950.00 1,950.00   \n",
       "\n",
       "                 max  \n",
       "tariff_name           \n",
       "smart       6,770.00  \n",
       "ultra       4,800.00  "
      ]
     },
     "execution_count": 150,
     "metadata": {},
     "output_type": "execute_result"
    }
   ],
   "source": [
    "data.groupby('tariff_name')['proceeds'].describe()"
   ]
  },
  {
   "cell_type": "markdown",
   "metadata": {},
   "source": [
    "### Выводы\n",
    "\n",
    "Видим, что распределение имеет два пика. Возможно, что два пика вызваны различиями в распределениях выручки у разных групп пользователей, например, групп клиентов разных тарифов, или групп пользователей из разных регионов.\n",
    "\n",
    "В среднем в год с пользователей компания получает выручка 1533 руб. (медиана == 1667.5 руб.), ст.откл. == 800 руб. Минимальная выручка составила 550 руб., а максимальная 6770 руб.  \n",
    "\n",
    "Это можно проверить построив распределения гистограмм для разных групп. Например, проверим по тарифам."
   ]
  },
  {
   "cell_type": "code",
   "execution_count": 151,
   "metadata": {},
   "outputs": [],
   "source": [
    "# оставлю в комментариях, чтобы не дублировать информацию\n",
    "#data[(data['tariff_name'] == 'smart')]['proceeds'].hist(bins=15);"
   ]
  },
  {
   "cell_type": "code",
   "execution_count": 152,
   "metadata": {},
   "outputs": [],
   "source": [
    "#data[(data['tariff_name'] == 'ultra')]['proceeds'].hist(bins=10);"
   ]
  },
  {
   "cell_type": "markdown",
   "metadata": {},
   "source": [
    "Обратим внимание на значения оси абцисс. Действительно, два пика вызваны различиями в распределениях выручки у пользователей по тарифам. "
   ]
  },
  {
   "cell_type": "code",
   "execution_count": 153,
   "metadata": {},
   "outputs": [
    {
     "data": {
      "image/png": "[encoded data removed]",
      "text/plain": [
       "<Figure size 432x288 with 1 Axes>"
      ]
     },
     "metadata": {
      "needs_background": "light"
     },
     "output_type": "display_data"
    }
   ],
   "source": [
    "# Код ревьюера\n",
    "\n",
    "data[(data['tariff_name'] == 'smart')]['proceeds'].hist(bins=15, label='smart', alpha=0.5, color='c')\n",
    "data[(data['tariff_name'] == 'ultra')]['proceeds'].hist(bins=15, label='ultra', alpha=0.5, color='orange')\n",
    "plt.legend();"
   ]
  },
  {
   "cell_type": "markdown",
   "metadata": {},
   "source": [
    "Сравнение по тарифам показывает, что несмотря на то, что пользователей тарифа `ultra` меньше, выручка по этим клиентам выше. Средняя выручка составляет 2071 руб., при небольшом стандартном отклонении в 379 руб. Максимальная выручка в этом сегменте пользователей составила 4800 руб. При этом если посмотреть на квартили, то можно заметить, что как минимум не менее 75% пользователей не исчерпывали лимит и платили только абонентскую плату. Посчитаем, сколько пользователей тарифа `ultra` переплатили за исследуемый год."
   ]
  },
  {
   "cell_type": "code",
   "execution_count": 154,
   "metadata": {},
   "outputs": [
    {
     "data": {
      "text/plain": [
       "134"
      ]
     },
     "execution_count": 154,
     "metadata": {},
     "output_type": "execute_result"
    }
   ],
   "source": [
    "data[(data['tariff_name'] == 'ultra') & (data['proceeds'] > 1950)].shape[0] "
   ]
  },
  {
   "cell_type": "code",
   "execution_count": 155,
   "metadata": {},
   "outputs": [
    {
     "data": {
      "text/plain": [
       "13.604060913705585"
      ]
     },
     "execution_count": 155,
     "metadata": {},
     "output_type": "execute_result"
    }
   ],
   "source": [
    "(data.loc[(data['tariff_name'] == 'ultra'),'proceeds'] > 1950).mean() * 100"
   ]
  },
  {
   "cell_type": "markdown",
   "metadata": {},
   "source": [
    "Всего 134 пользователя тарифка `ultra` переплатили за исследуемый год (приблизительно 13,6%)."
   ]
  },
  {
   "cell_type": "markdown",
   "metadata": {},
   "source": [
    "Пользователей тарифа `smart` изначально было больше. Средняя годовая выручка по пользователям здесь составляет около 1295 руб., при этом медианная выручка равна 1038.0, что говорит о правостореннем скосе (см. гистограмму выше). Среднее квадратичное отклонение в этом сегменте выше, чем в сегменте пользователей `ultra`. Чуть больше четверти пользователей (27%) данного тарифа укладываются в тарифный пакет. Большинство используют минуты, сообщения и/или интернет за дополнительную плату по тарифному плану. Также отметим, что максимальная выручка в этом сегменте пользователей составила 6770 руб."
   ]
  },
  {
   "cell_type": "markdown",
   "metadata": {},
   "source": [
    "### Анализ поведения пользователей  \n",
    "\n",
    "**Задание**  \n",
    "Опишите поведение клиентов оператора, исходя из выборки.  \n",
    "* Сколько минут разговора, сколько сообщений и какой объём интернет-трафика требуется пользователям каждого тарифа в месяц?   \n",
    "* Посчитайте среднее количество, дисперсию и стандартное отклонение.  \n",
    "* Постройте гистограммы. ~(сделано выше в разделе Предобработка данных)~  \n",
    "* Опишите распределения."
   ]
  },
  {
   "cell_type": "code",
   "execution_count": 156,
   "metadata": {},
   "outputs": [
    {
     "data": {
      "text/html": [
       "<div>\n",
       "<style scoped>\n",
       "    .dataframe tbody tr th:only-of-type {\n",
       "        vertical-align: middle;\n",
       "    }\n",
       "\n",
       "    .dataframe tbody tr th {\n",
       "        vertical-align: top;\n",
       "    }\n",
       "\n",
       "    .dataframe thead tr th {\n",
       "        text-align: left;\n",
       "    }\n",
       "\n",
       "    .dataframe thead tr:last-of-type th {\n",
       "        text-align: right;\n",
       "    }\n",
       "</style>\n",
       "<table border=\"1\" class=\"dataframe\">\n",
       "  <thead>\n",
       "    <tr>\n",
       "      <th></th>\n",
       "      <th colspan=\"4\" halign=\"left\">full_duration</th>\n",
       "      <th colspan=\"4\" halign=\"left\">count_of_messages</th>\n",
       "      <th colspan=\"4\" halign=\"left\">mb_duration</th>\n",
       "    </tr>\n",
       "    <tr>\n",
       "      <th></th>\n",
       "      <th>mean</th>\n",
       "      <th>median</th>\n",
       "      <th>var</th>\n",
       "      <th>std</th>\n",
       "      <th>mean</th>\n",
       "      <th>median</th>\n",
       "      <th>var</th>\n",
       "      <th>std</th>\n",
       "      <th>mean</th>\n",
       "      <th>median</th>\n",
       "      <th>var</th>\n",
       "      <th>std</th>\n",
       "    </tr>\n",
       "    <tr>\n",
       "      <th>tariff_name</th>\n",
       "      <th></th>\n",
       "      <th></th>\n",
       "      <th></th>\n",
       "      <th></th>\n",
       "      <th></th>\n",
       "      <th></th>\n",
       "      <th></th>\n",
       "      <th></th>\n",
       "      <th></th>\n",
       "      <th></th>\n",
       "      <th></th>\n",
       "      <th></th>\n",
       "    </tr>\n",
       "  </thead>\n",
       "  <tbody>\n",
       "    <tr>\n",
       "      <th>smart</th>\n",
       "      <td>417</td>\n",
       "      <td>422</td>\n",
       "      <td>36219</td>\n",
       "      <td>190</td>\n",
       "      <td>33</td>\n",
       "      <td>28</td>\n",
       "      <td>796</td>\n",
       "      <td>28</td>\n",
       "      <td>16229</td>\n",
       "      <td>16531</td>\n",
       "      <td>34545911</td>\n",
       "      <td>5877</td>\n",
       "    </tr>\n",
       "    <tr>\n",
       "      <th>ultra</th>\n",
       "      <td>526</td>\n",
       "      <td>518</td>\n",
       "      <td>100873</td>\n",
       "      <td>317</td>\n",
       "      <td>49</td>\n",
       "      <td>38</td>\n",
       "      <td>2285</td>\n",
       "      <td>47</td>\n",
       "      <td>19486</td>\n",
       "      <td>19324</td>\n",
       "      <td>101935621</td>\n",
       "      <td>10096</td>\n",
       "    </tr>\n",
       "  </tbody>\n",
       "</table>\n",
       "</div>"
      ],
      "text/plain": [
       "            full_duration                     count_of_messages               \\\n",
       "                     mean median     var  std              mean median   var   \n",
       "tariff_name                                                                    \n",
       "smart                 417    422   36219  190                33     28   796   \n",
       "ultra                 526    518  100873  317                49     38  2285   \n",
       "\n",
       "                mb_duration                           \n",
       "            std        mean median        var    std  \n",
       "tariff_name                                           \n",
       "smart        28       16229  16531   34545911   5877  \n",
       "ultra        47       19486  19324  101935621  10096  "
      ]
     },
     "execution_count": 156,
     "metadata": {},
     "output_type": "execute_result"
    }
   ],
   "source": [
    "# посмотрим на описательную статистику\n",
    "data[['tariff_name','full_duration', 'count_of_messages', 'mb_duration']] \\\n",
    "    .groupby('tariff_name') \\\n",
    "    .agg(['mean', 'median', 'var', 'std']) \\\n",
    "    .astype(int)"
   ]
  },
  {
   "cell_type": "code",
   "execution_count": 157,
   "metadata": {},
   "outputs": [
    {
     "data": {
      "text/html": [
       "<div>\n",
       "<style scoped>\n",
       "    .dataframe tbody tr th:only-of-type {\n",
       "        vertical-align: middle;\n",
       "    }\n",
       "\n",
       "    .dataframe tbody tr th {\n",
       "        vertical-align: top;\n",
       "    }\n",
       "\n",
       "    .dataframe thead th {\n",
       "        text-align: right;\n",
       "    }\n",
       "</style>\n",
       "<table border=\"1\" class=\"dataframe\">\n",
       "  <thead>\n",
       "    <tr style=\"text-align: right;\">\n",
       "      <th></th>\n",
       "      <th>count</th>\n",
       "      <th>mean</th>\n",
       "      <th>std</th>\n",
       "      <th>min</th>\n",
       "      <th>25%</th>\n",
       "      <th>50%</th>\n",
       "      <th>75%</th>\n",
       "      <th>max</th>\n",
       "    </tr>\n",
       "    <tr>\n",
       "      <th>tariff_name</th>\n",
       "      <th></th>\n",
       "      <th></th>\n",
       "      <th></th>\n",
       "      <th></th>\n",
       "      <th></th>\n",
       "      <th></th>\n",
       "      <th></th>\n",
       "      <th></th>\n",
       "    </tr>\n",
       "  </thead>\n",
       "  <tbody>\n",
       "    <tr>\n",
       "      <th>smart</th>\n",
       "      <td>2,229.00</td>\n",
       "      <td>1,294.64</td>\n",
       "      <td>820.93</td>\n",
       "      <td>550.00</td>\n",
       "      <td>550.00</td>\n",
       "      <td>1,038.00</td>\n",
       "      <td>1,750.00</td>\n",
       "      <td>6,770.00</td>\n",
       "    </tr>\n",
       "    <tr>\n",
       "      <th>ultra</th>\n",
       "      <td>985.00</td>\n",
       "      <td>2,071.07</td>\n",
       "      <td>378.80</td>\n",
       "      <td>1,950.00</td>\n",
       "      <td>1,950.00</td>\n",
       "      <td>1,950.00</td>\n",
       "      <td>1,950.00</td>\n",
       "      <td>4,800.00</td>\n",
       "    </tr>\n",
       "  </tbody>\n",
       "</table>\n",
       "</div>"
      ],
      "text/plain": [
       "               count     mean    std      min      25%      50%      75%  \\\n",
       "tariff_name                                                                \n",
       "smart       2,229.00 1,294.64 820.93   550.00   550.00 1,038.00 1,750.00   \n",
       "ultra         985.00 2,071.07 378.80 1,950.00 1,950.00 1,950.00 1,950.00   \n",
       "\n",
       "                 max  \n",
       "tariff_name           \n",
       "smart       6,770.00  \n",
       "ultra       4,800.00  "
      ]
     },
     "execution_count": 157,
     "metadata": {},
     "output_type": "execute_result"
    }
   ],
   "source": [
    "data.groupby('tariff_name')['proceeds'].describe()"
   ]
  },
  {
   "cell_type": "markdown",
   "metadata": {},
   "source": [
    "- Пользователям тарифа **smart** в среднем требуется около 417 минут звонков (медианное значение == 422), в среднем отправляют 33 сообщения (медиана - 28) и тратят приблизительно 17 Гб интернет-трафика в месяц. Медианный платеж по тарифу – 1038 рублей. \n",
    "\n",
    "\n",
    "- Пользователям тарифа **ultra** в среднем требуется около 526 минут звонков (медиана - 518), в среднем отправляют 49 сообщений (медиана - 38) и тратят до 20 Гб интернет-трафика в месяц. Медианный платеж по тарифу – 1950 рублей.\n",
    "    \n",
    "Построим гистограммы для наших переменных. Гистограммы для интернет-трафика уже построены тобой, Алексей, я воспользуюсь твоим кодом.\n"
   ]
  },
  {
   "cell_type": "code",
   "execution_count": 158,
   "metadata": {},
   "outputs": [
    {
     "data": {
      "image/png": "[encoded data removed]",
      "text/plain": [
       "<Figure size 432x288 with 1 Axes>"
      ]
     },
     "metadata": {
      "needs_background": "light"
     },
     "output_type": "display_data"
    }
   ],
   "source": [
    "# гистограмма распределения длительности звонков\n",
    "data[data['tariff_name'] == 'smart']['full_duration'].hist(bins=30,label='smart',alpha=0.5)\n",
    "data[data['tariff_name'] == 'ultra']['full_duration'].hist(bins=30,label='ultra',alpha=0.7)\n",
    "plt.legend();"
   ]
  },
  {
   "cell_type": "markdown",
   "metadata": {},
   "source": [
    "\n",
    "    \n",
    "Видим, что распределение минут звонков отличается у пользователей разных тарифов отличаются. У пользователей тарифа `smart` распределение близко к нормальному, а у пользователей тарифа `ultra` оно больше похоже на равномерное (по самым грубым оценкам). У пользователей тарифа `ultra` наблюдается длинный правый хвост - с большими значениями. \n"
   ]
  },
  {
   "cell_type": "code",
   "execution_count": 159,
   "metadata": {},
   "outputs": [
    {
     "data": {
      "image/png": "[encoded data removed]",
      "text/plain": [
       "<Figure size 432x288 with 1 Axes>"
      ]
     },
     "metadata": {
      "needs_background": "light"
     },
     "output_type": "display_data"
    }
   ],
   "source": [
    "# гистограмма распределения числа отправляемых сообщений\n",
    "data[data['tariff_name'] == 'smart']['count_of_messages'].hist(bins=30,label='smart',alpha=0.5)\n",
    "data[data['tariff_name'] == 'ultra']['count_of_messages'].hist(bins=30,label='ultra',alpha=0.7)\n",
    "plt.legend();"
   ]
  },
  {
   "cell_type": "markdown",
   "metadata": {},
   "source": [
    "\n",
    "Распределения скошены вправо. У обоих распределение наблюдаются пиковые значения в области нуля. Снова видим, что у пользователей тарифа `ultra` распределение более пологое. \n"
   ]
  },
  {
   "cell_type": "code",
   "execution_count": 160,
   "metadata": {},
   "outputs": [
    {
     "data": {
      "image/png": "[encoded data removed]",
      "text/plain": [
       "<Figure size 432x288 with 1 Axes>"
      ]
     },
     "metadata": {
      "needs_background": "light"
     },
     "output_type": "display_data"
    }
   ],
   "source": [
    "# Код ревьюера\n",
    "\n",
    "# гистограмма распределения расходов интернет-трафика\n",
    "data[data['tariff_name'] == 'smart']['mb_duration'].hist(bins=30,label='smart',alpha=0.5)\n",
    "data[data['tariff_name'] == 'ultra']['mb_duration'].hist(bins=30,label='ultra',alpha=0.7)\n",
    "plt.legend();"
   ]
  },
  {
   "cell_type": "markdown",
   "metadata": {},
   "source": [
    "\n",
    "Распределения интернет-трафика напоминают нормальные распределения: у пользователей тарифа `smart` меньше дисперсии в данных, чем у пользователей тарифа `ultra`, чем могут объясняться различия в виде распределений. \n"
   ]
  },
  {
   "cell_type": "markdown",
   "metadata": {},
   "source": [
    "### Выводы  \n",
    "\n",
    "- Пользователям тарифа `smart` в среднем требуется около `417` минут звонков, в среднем отправляют `33` сообщения и тратят приблизительно `17` Гб интернет-трафика в месяц. Медианный платеж по тарифу – `1038` рублей. \n",
    "\n",
    "\n",
    "- Пользователям тарифа `ultra` в среднем требуется около `526` минут звонков, в среднем отправляют `49` сообщений и тратят до `20` Гб интернет-трафика в месяц. Медианный платеж по тарифу – `1950` рублей.  \n",
    "\n",
    "- Распределение минут звонков отличается у пользователей разных тарифов отличаются. У пользователей тарифа `smart` распределение близко к нормальному, а у пользователей тарифа `ultra` оно больше похоже на равномерное (по самым грубым оценкам). У пользователей тарифа `ultra` наблюдается длинный правый хвост - с большими значениями. \n",
    "\n",
    "- Распределения по отправленным сообщениям скошены вправо. Пиковые значения распределений вне зависимости от тарифа находятся в области нуля. Тем не менее у пользователей тарифа `ultra` распределение более пологое. \n",
    "\n",
    "- Распределения интернет-трафика напоминают нормальные распределения: у пользователей тарифа `smart` меньше дисперсии в данных, чем у пользователей тарифа `ultra`, что может объяснять различия в виде распределений. \n"
   ]
  },
  {
   "cell_type": "markdown",
   "metadata": {},
   "source": [
    "## Статистический анализ данных\n",
    "\n",
    "**Задание**  \n",
    "* ***Проверьте гипотезы:***\n",
    "    - средняя выручка пользователей тарифов «Ультра» и «Смарт» различаются;\n",
    "    - средняя выручка пользователей из Москвы отличается от выручки пользователей из других регионов.  \n",
    "\n",
    "Пороговое значение `alpha` задайте самостоятельно.\n",
    "  \n",
    "* ***Поясните:***\n",
    "    - как вы формулировали нулевую и альтернативную гипотезы;\n",
    "    - какой критерий использовали для проверки гипотез и почему."
   ]
  },
  {
   "cell_type": "code",
   "execution_count": 161,
   "metadata": {},
   "outputs": [
    {
     "data": {
      "text/plain": [
       "Index(['count_of_calls', 'full_duration', 'count_of_messages', 'mb_duration',\n",
       "       'age', 'churn_date', 'city', 'first_name', 'last_name', 'reg_date',\n",
       "       'tariff_name', 'messages_included', 'mb_per_month_included',\n",
       "       'minutes_included', 'rub_monthly_fee', 'rub_per_gb', 'rub_per_message',\n",
       "       'rub_per_minute', 'over_call', 'rub_over_call', 'over_messages',\n",
       "       'rub_over_messages', 'over_internet', 'rub_over_internet', 'proceeds'],\n",
       "      dtype='object')"
      ]
     },
     "execution_count": 161,
     "metadata": {},
     "output_type": "execute_result"
    }
   ],
   "source": [
    "# вспомним какие данные у нас есть в база data\n",
    "data.columns"
   ]
  },
  {
   "cell_type": "markdown",
   "metadata": {},
   "source": [
    "Итак, в базе есть все, что нам нужно. В колонке `'tariff_name'` есть названия тарифа; в столбце `'city'` - названия населенного пункта, а в колонке `'proceeds'` выручка по пользователям по месяцам. Среднюю выручки найдем по параметру `'proceeds'`. \n"
   ]
  },
  {
   "cell_type": "markdown",
   "metadata": {},
   "source": [
    "**Задание 1.**\n",
    "\n",
    "Проверим различаются ли средние выручки пользователей тарифов «Ультра» и «Смарт».  \n",
    "\n",
    "Итак, сформулируем *нулевую* и *альтернативную* гипотезы:  \n",
    "$H_0$: Средняя выручка пользователей тарифов `Ультра` и `Смарт` не различаются.  \n",
    "$H_1$: Средняя выручка пользователей тарифов `Ультра` и `Смарт` различаются. \n",
    "\n",
    "Мы проверяем двухстороннюю гипотезу о равенстве средних в двух независимых выборках. Для проверки гипотезы будем применять t-test. Наши выборки независимы, нормальная распределенность выборочных средних обеспечивается Центральной предельной теоремой. А по поводу равенства дисперсий есть сомнения. А еще помним, что размеры выборок разные (ниже еще раз в этом убедимся), поэтому при применении t-теста укажем, что дисперсии не равны. \n",
    "\n",
    "Критический уровень $\\alpha$ установим равным 0.05."
   ]
  },
  {
   "cell_type": "code",
   "execution_count": 162,
   "metadata": {},
   "outputs": [
    {
     "name": "stdout",
     "output_type": "stream",
     "text": [
      "(985, 25)\n",
      "(2229, 25)\n"
     ]
    }
   ],
   "source": [
    "ultra = data.query('tariff_name == \"ultra\"').copy()\n",
    "print(ultra.shape)\n",
    "\n",
    "smart = data.query('tariff_name == \"smart\"').copy()\n",
    "print(smart.shape)"
   ]
  },
  {
   "cell_type": "markdown",
   "metadata": {},
   "source": [
    "Действительно, выборка пользователей тарифа `Ультра` в разы меньше."
   ]
  },
  {
   "cell_type": "code",
   "execution_count": 163,
   "metadata": {},
   "outputs": [
    {
     "name": "stdout",
     "output_type": "stream",
     "text": [
      "p-значение: 2.7240946993530856e-246\n",
      "Отвергаем нулевую гипотезу. Средняя выручка пользователей тарифов «Ультра» и «Смарт» различаются.\n"
     ]
    }
   ],
   "source": [
    "# применим t-test\n",
    "\n",
    "alpha = .05 # критический уровень статистической значимости\n",
    "# если p-value окажется меньше него - отвегнем гипотезу\n",
    "\n",
    "results = st.ttest_ind(ultra['proceeds'], smart['proceeds'], equal_var=False)\n",
    "\n",
    "print('p-значение:', results.pvalue)\n",
    "\n",
    "if results.pvalue < alpha:\n",
    "    print(\"Отвергаем нулевую гипотезу. Средняя выручка пользователей тарифов «Ультра» и «Смарт» различаются.\")\n",
    "else:\n",
    "    print(\"Не получилось отвергнуть нулевую гипотезу. Средняя выручка пользователей тарифов «Ультра» и «Смарт» НЕ различаются.\") "
   ]
  },
  {
   "cell_type": "code",
   "execution_count": 164,
   "metadata": {},
   "outputs": [],
   "source": [
    "def plot_confidence_interval(x, values, z=1.96, color='#2187bb', horizontal_line_width=0.25):\n",
    "    mean = statistics.mean(values)\n",
    "    stdev = statistics.stdev(values)\n",
    "    confidence_interval = z * stdev / sqrt(len(values))\n",
    "\n",
    "    left = x - horizontal_line_width / 2\n",
    "    top = mean - confidence_interval\n",
    "    right = x + horizontal_line_width / 2\n",
    "    bottom = mean + confidence_interval\n",
    "    plt.plot([x, x], [top, bottom], color=color)\n",
    "    plt.plot([left, right], [top, top], color=color)\n",
    "    plt.plot([left, right], [bottom, bottom], color=color)\n",
    "    plt.plot(x, mean, 'o', color='#f44336')\n",
    "    return mean, confidence_interval"
   ]
  },
  {
   "cell_type": "code",
   "execution_count": 165,
   "metadata": {},
   "outputs": [
    {
     "data": {
      "image/png": "[encoded data removed]",
      "text/plain": [
       "<Figure size 432x288 with 1 Axes>"
      ]
     },
     "metadata": {
      "needs_background": "light"
     },
     "output_type": "display_data"
    }
   ],
   "source": [
    "plt.xticks([1, 2], ['smart', 'ultra'])\n",
    "plt.title('Confidence Interval')\n",
    "plot_confidence_interval(1, smart['proceeds'])\n",
    "plot_confidence_interval(2, ultra['proceeds'])\n",
    "plt.show()"
   ]
  },
  {
   "cell_type": "markdown",
   "metadata": {},
   "source": [
    "**Вывод**\n",
    "\n",
    "Итак, мы видим, что средняя выручка пользователей тарифов «Ультра» и «Смарт» различаются статистически значимо различаются ($p < \\alpha = 0.05$)"
   ]
  },
  {
   "cell_type": "code",
   "execution_count": 166,
   "metadata": {},
   "outputs": [
    {
     "name": "stdout",
     "output_type": "stream",
     "text": [
      "Средняя выручка по тарифу \"Ультра\" равна  2071\n",
      "Средняя выручка по тарифу \"Смарт\" равна  1295\n"
     ]
    }
   ],
   "source": [
    "# посмотрим на значения средних выручек\n",
    "print('Средняя выручка по тарифу \"Ультра\" равна ', round(ultra['proceeds'].mean()))\n",
    "print('Средняя выручка по тарифу \"Смарт\" равна ', round(smart['proceeds'].mean()))"
   ]
  },
  {
   "cell_type": "markdown",
   "metadata": {},
   "source": [
    "Выручка по тарифу `Ультра` больше."
   ]
  },
  {
   "cell_type": "markdown",
   "metadata": {},
   "source": [
    "**Задание 2.**\n",
    "\n",
    "Проверим различается ли средняя выручка пользователей из Москвы отличается от выручки пользователей из других регионов.\n",
    "\n",
    "Итак, сформулируем *нулевую* и *альтернативную* гипотезы:  \n",
    "$H_0$: Средняя выручка пользователей из Москвы НЕ отличается от средней выручки пользователей из других регионов.  \n",
    "$H_1$: Средняя выручка пользователей из Москвы отличается от средней выручки пользователей из других регионов. \n",
    "\n",
    "Так же, как и в первом задании, мы проверяем двухстороннюю гипотезу о равенстве средних в двух независимых выборках. Для проверки гипотезы будем применять t-test. Наши выборки независимы, нормальная распределенность выборочных средних обеспечивается Центральной предельной теоремой. Еще нужно проверить размеры выборок, и потом при применении t-теста решить указывать, что дисперсии не равны или нет. \n",
    "\n",
    "Критический уровень $\\alpha$ установим равным 0.05."
   ]
  },
  {
   "cell_type": "code",
   "execution_count": 167,
   "metadata": {},
   "outputs": [
    {
     "name": "stdout",
     "output_type": "stream",
     "text": [
      "(611, 25)\n",
      "(2603, 25)\n"
     ]
    }
   ],
   "source": [
    "# не будем создавать новую переменную для выделения групп пользователей из Москвы и других регионов\n",
    "moscow = data.query('city == \"Москва\"').copy()\n",
    "print(moscow.shape)\n",
    "\n",
    "other_region = data.query('city != \"Москва\"').copy()\n",
    "print(other_region.shape)"
   ]
  },
  {
   "cell_type": "markdown",
   "metadata": {},
   "source": [
    "Видим, что пользователей из Москвы меньше по сравнению с общим числом пользователей из других регионов. Хотя, напомним, что если сравнивать отдельно по каждому региону, то пользователей из Москвы намного больше. \n",
    "\n",
    "Итак, приступим к проверке гипотезы. В t-test укажем, что дисперсии не равны."
   ]
  },
  {
   "cell_type": "code",
   "execution_count": 168,
   "metadata": {},
   "outputs": [
    {
     "name": "stdout",
     "output_type": "stream",
     "text": [
      "Средняя выручка пользователей из Москвы равна  1551\n",
      "Средняя выручка пользователей из других регионов равна  1528\n"
     ]
    }
   ],
   "source": [
    "# посмотрим на значения средних\n",
    "print('Средняя выручка пользователей из Москвы равна ', round(moscow['proceeds'].mean()))\n",
    "print('Средняя выручка пользователей из других регионов равна ', round(other_region['proceeds'].mean()))"
   ]
  },
  {
   "cell_type": "markdown",
   "metadata": {},
   "source": [
    "Видим, что значения средних довольно близки, хотя по Москве чуть больше."
   ]
  },
  {
   "cell_type": "code",
   "execution_count": 169,
   "metadata": {},
   "outputs": [
    {
     "name": "stdout",
     "output_type": "stream",
     "text": [
      "p-значение: 0.5126564657748214\n",
      "Не получилось отвергнуть нулевую гипотезу. Средняя выручка пользователей из Москвы НЕ отличается от средней выручки пользователей из других регионов.\n"
     ]
    }
   ],
   "source": [
    "# применим t-test\n",
    "\n",
    "alpha = .05 # критический уровень статистической значимости\n",
    "# если p-value окажется меньше него - отвегнем гипотезу\n",
    "\n",
    "results = st.ttest_ind(moscow['proceeds'], other_region['proceeds'], equal_var=False)\n",
    "\n",
    "print('p-значение:', results.pvalue)\n",
    "\n",
    "if results.pvalue < alpha:\n",
    "    print(\"Отвергаем нулевую гипотезу. Средняя выручка пользователей из Москвы отличается от средней выручки пользователей из других регионов.\")\n",
    "else:\n",
    "    print(\"Не получилось отвергнуть нулевую гипотезу. Средняя выручка пользователей из Москвы НЕ отличается от средней выручки пользователей из других регионов.\") "
   ]
  },
  {
   "cell_type": "code",
   "execution_count": 170,
   "metadata": {},
   "outputs": [
    {
     "data": {
      "image/png": "[encoded data removed]",
      "text/plain": [
       "<Figure size 432x288 with 1 Axes>"
      ]
     },
     "metadata": {
      "needs_background": "light"
     },
     "output_type": "display_data"
    }
   ],
   "source": [
    "plt.xticks([1, 2], ['Moscow', 'Other regions'])\n",
    "plt.title('Confidence Interval')\n",
    "plot_confidence_interval(1, moscow['proceeds'])\n",
    "plot_confidence_interval(2, other_region['proceeds'])\n",
    "plt.show()"
   ]
  },
  {
   "cell_type": "markdown",
   "metadata": {},
   "source": [
    "**Вывод** \n",
    "\n",
    "Нулевая гипотеза о равенстве средней выручки в двух выборках не удалось отвергнуть. Средняя пользователей из Москвы статистически значимо НЕ отличается от средней выручки пользователей из других регионов."
   ]
  },
  {
   "cell_type": "markdown",
   "metadata": {},
   "source": [
    "## Общий вывод"
   ]
  },
  {
   "cell_type": "markdown",
   "metadata": {},
   "source": [
    "В данном проекте анализировались данные 500 пользователей «Мегалайна». Было дано 5 датасетов: в первом содержалась информация о пользователях (id, ФИО, регион, каким тарифом пользуются), во втором и третьем информация о звонках и сообщений соответственно, в четвертом - информация про использованный объем интернет трафика, и последнем информация по сами тарифы. Данные были за `2018` год. Основной целью проекта являлось провести анализ поведения клиентов и выяснить какой тариф лучше. \n",
    "\n",
    "1) В изучаемых данных практически полностью отсутствовали пропущенные значения, также не было обнаружено аномальных значений или явных ошибок в данных не обнаружено.  \n",
    "2) Пользователи распределились неровно по тарифам. Большая часть клиентов (`70%`) используют тариф `Смарт`. Распределение по регионам тоже неравномерное: большая часть клиентов из Москвы (`20%`).  \n",
    "3) Распределение пользователей по возрасту больше похоже на равномерное. Медианный возраст пользователей - `46` лет. Самому юному пользователю `18` лет, а самому старшему - `75` лет.  \n",
    "4) За `2018` год исследуемые `500` пользователей совершили более `200` тыс. звонков (средняя длительность звонка - `6,75` мин., ст. отк. - `5,84` мин.), направили более `120` тыс сообщений и совершали практически `150` тыс. интернет-сессий (средний объем интернет-трафика - `370` Мб, ст.откл. - `278` Мб).  \n",
    "5) В рамках проекта была найдена средняя выручка по каждому пользователю по месяцам. В среднем в год с пользователей компания получает выручка `1533` руб. (медиана - `1667.5` руб.), ст.откл. - `800` руб. Минимальная выручка составила `550` руб., а максимальная составила `6770` руб. Гистограмма распределения выручки показало наличие двух пиков.  \n",
    "6) Сравнение по тарифам показывает, что несмотря на то, что пользователей тарифа `Ультра` меньше, выручка по этим клиентам выше. Средняя выручка составила `2071` руб., при небольшом стандартном отклонении в `379` руб. Большая часть клиентов (`84%`) укладываются в тарифный пакет и как правило не пользуются дополнительными услугами. Средняя годовая выручка пользователей тарифа `Смарт` составила примерно `1295` руб., при этом медианная выручка равна `1038` руб.  Чуть больше четверти пользователей (`27%`) тарифа `Смарт` укладываются в тарифный пакет. Большинство используют минуты, сообщения и/или интернет за дополнительную плату по тарифному плану.  \n",
    "7) Анализ поведения пользователей показывает:  \n",
    "\n",
    "- пользователям тарифа `Смарт` в среднем требуется около `417` минут звонков, в среднем отправляют `33` сообщения и тратят приблизительно `17` Гб интернет-трафика в месяц. Медианный платеж по тарифу – `1038` рублей;\n",
    "- пользователям тарифа `Ультра` в среднем требуется около `526` минут звонков, в среднем отправляют `49` сообщений и тратят до `20` Гб интернет-трафика в месяц. Медианный платеж по тарифу – `1950` рублей;\n",
    "- распределение минут звонков отличается у пользователей разных тарифов отличаются. У пользователей тарифа `Смарт` распределение близко к нормальному, а у пользователей тарифа `Ультра` оно больше похоже на равномерное (по самым грубым оценкам). У пользователей тарифа `Ультра` наблюдается длинный правый хвост - с большими значениями;\n",
    "- распределения по отправленным сообщениям скошены вправо. Пиковые значения распределений вне зависимости от тарифа находятся в области нуля. Тем не менее у пользователей тарифа `Ультра` распределение более пологое;\n",
    "- распределения интернет-трафика напоминают нормальные распределения: у пользователей тарифа `Смарт` меньше дисперсии в данных, чем у пользователей тарифа `Ультра`, что может объяснять различия в виде распределений.\n",
    "\n",
    "8) Статистический анализ данных показал: \n",
    "\n",
    "- существуют статистически значимые различия между средней выручке пользователей разных тарифов ($p < 0.05$). Средняя выручка по тарифу `Ультра` больше, чем средняя выручка по тарифу `Смарт`, несмотря на то, что в целом пользователей тарифа `Ультра` меньше;  \n",
    "- не обнаружено статистически значимых различий в средней выручке пользователей из Москвы и других регионов.\n",
    "\n",
    "Таким образом, на основании проделанного исследования можно делать вывод, что тариф `Ультра` является более выгодным для компании \"Мегалайн\". Несмотря на то, что пользователей этого тарифа меньше, средняя выручка по тарифу больше. \n",
    "\n",
    "*p.s. Теперь понятно почему Мегафон практически всегда стремится избавиться от недорогих пакетных тарифов и оставить только дорогие, хотя пользователям не всегда нужны предоставляемые лимиты услуг в таких объемах ...*\n"
   ]
  }
 ],
 "metadata": {
  "ExecuteTimeLog": [
   {
    "duration": 85,
    "start_time": "2022-04-19T10:52:48.792Z"
   },
   {
    "duration": 43,
    "start_time": "2022-04-19T10:56:57.943Z"
   },
   {
    "duration": 1504,
    "start_time": "2022-04-19T10:57:03.101Z"
   },
   {
    "duration": 354,
    "start_time": "2022-04-19T10:57:04.607Z"
   },
   {
    "duration": 12,
    "start_time": "2022-04-19T10:57:04.963Z"
   },
   {
    "duration": 11,
    "start_time": "2022-04-19T10:57:04.977Z"
   },
   {
    "duration": 27,
    "start_time": "2022-04-19T10:57:04.990Z"
   },
   {
    "duration": 11,
    "start_time": "2022-04-19T10:57:05.019Z"
   },
   {
    "duration": 42,
    "start_time": "2022-04-19T10:57:05.032Z"
   },
   {
    "duration": 6,
    "start_time": "2022-04-19T10:57:05.076Z"
   },
   {
    "duration": 15,
    "start_time": "2022-04-19T10:57:05.083Z"
   },
   {
    "duration": 13,
    "start_time": "2022-04-19T10:57:05.101Z"
   },
   {
    "duration": 232,
    "start_time": "2022-04-19T10:57:05.116Z"
   },
   {
    "duration": 9,
    "start_time": "2022-04-19T10:57:05.349Z"
   },
   {
    "duration": 9,
    "start_time": "2022-04-19T10:57:05.359Z"
   },
   {
    "duration": 7,
    "start_time": "2022-04-19T10:57:05.370Z"
   },
   {
    "duration": 30,
    "start_time": "2022-04-19T10:57:05.378Z"
   },
   {
    "duration": 5,
    "start_time": "2022-04-19T10:57:05.410Z"
   },
   {
    "duration": 10,
    "start_time": "2022-04-19T10:57:05.416Z"
   },
   {
    "duration": 26,
    "start_time": "2022-04-19T10:57:05.428Z"
   },
   {
    "duration": 8,
    "start_time": "2022-04-19T10:57:05.456Z"
   },
   {
    "duration": 96,
    "start_time": "2022-04-19T10:57:05.466Z"
   },
   {
    "duration": 37,
    "start_time": "2022-04-19T10:57:05.563Z"
   },
   {
    "duration": 21,
    "start_time": "2022-04-19T10:57:05.602Z"
   },
   {
    "duration": 233,
    "start_time": "2022-04-19T10:57:05.625Z"
   },
   {
    "duration": 16,
    "start_time": "2022-04-19T10:57:05.859Z"
   },
   {
    "duration": 71,
    "start_time": "2022-04-19T10:57:05.876Z"
   },
   {
    "duration": 18,
    "start_time": "2022-04-19T10:57:05.949Z"
   },
   {
    "duration": 6,
    "start_time": "2022-04-19T10:57:05.969Z"
   },
   {
    "duration": 48,
    "start_time": "2022-04-19T10:57:05.979Z"
   },
   {
    "duration": 24,
    "start_time": "2022-04-19T10:57:06.028Z"
   },
   {
    "duration": 34,
    "start_time": "2022-04-19T10:57:06.053Z"
   },
   {
    "duration": 22,
    "start_time": "2022-04-19T10:57:06.088Z"
   },
   {
    "duration": 24,
    "start_time": "2022-04-19T10:57:06.111Z"
   },
   {
    "duration": 20,
    "start_time": "2022-04-19T10:57:06.136Z"
   },
   {
    "duration": 26,
    "start_time": "2022-04-19T10:57:06.157Z"
   },
   {
    "duration": 23,
    "start_time": "2022-04-19T10:57:06.185Z"
   },
   {
    "duration": 5,
    "start_time": "2022-04-19T10:57:06.209Z"
   },
   {
    "duration": 13,
    "start_time": "2022-04-19T10:57:06.215Z"
   },
   {
    "duration": 8,
    "start_time": "2022-04-19T10:57:06.229Z"
   },
   {
    "duration": 20,
    "start_time": "2022-04-19T10:57:06.238Z"
   },
   {
    "duration": 73,
    "start_time": "2022-04-19T10:57:06.259Z"
   },
   {
    "duration": 221,
    "start_time": "2022-04-19T10:57:06.334Z"
   },
   {
    "duration": 13,
    "start_time": "2022-04-19T10:57:06.557Z"
   },
   {
    "duration": 8,
    "start_time": "2022-04-19T10:57:06.571Z"
   },
   {
    "duration": 28,
    "start_time": "2022-04-19T10:57:06.580Z"
   },
   {
    "duration": 12,
    "start_time": "2022-04-19T10:57:06.610Z"
   },
   {
    "duration": 152,
    "start_time": "2022-04-19T10:57:06.624Z"
   },
   {
    "duration": 62,
    "start_time": "2022-04-19T10:57:06.778Z"
   },
   {
    "duration": 99,
    "start_time": "2022-04-19T10:57:06.841Z"
   },
   {
    "duration": 9,
    "start_time": "2022-04-19T10:57:06.942Z"
   },
   {
    "duration": 6,
    "start_time": "2022-04-19T10:57:06.952Z"
   },
   {
    "duration": 9,
    "start_time": "2022-04-19T10:57:06.959Z"
   },
   {
    "duration": 59,
    "start_time": "2022-04-19T10:57:06.970Z"
   },
   {
    "duration": 7,
    "start_time": "2022-04-19T10:57:07.031Z"
   },
   {
    "duration": 8,
    "start_time": "2022-04-19T10:57:07.039Z"
   },
   {
    "duration": 46,
    "start_time": "2022-04-19T10:57:07.048Z"
   },
   {
    "duration": 7,
    "start_time": "2022-04-19T10:57:07.107Z"
   },
   {
    "duration": 4,
    "start_time": "2022-04-19T10:57:07.116Z"
   },
   {
    "duration": 154,
    "start_time": "2022-04-19T10:57:07.122Z"
   },
   {
    "duration": 10,
    "start_time": "2022-04-19T10:57:07.277Z"
   },
   {
    "duration": 24,
    "start_time": "2022-04-19T10:57:07.289Z"
   },
   {
    "duration": 6,
    "start_time": "2022-04-19T10:57:07.315Z"
   },
   {
    "duration": 3,
    "start_time": "2022-04-19T10:57:07.323Z"
   },
   {
    "duration": 6,
    "start_time": "2022-04-19T10:57:07.327Z"
   },
   {
    "duration": 7,
    "start_time": "2022-04-19T10:57:07.334Z"
   },
   {
    "duration": 14,
    "start_time": "2022-04-19T10:57:07.342Z"
   },
   {
    "duration": 5,
    "start_time": "2022-04-19T10:57:07.357Z"
   },
   {
    "duration": 52,
    "start_time": "2022-04-19T10:57:07.363Z"
   },
   {
    "duration": 9,
    "start_time": "2022-04-19T10:57:07.417Z"
   },
   {
    "duration": 14,
    "start_time": "2022-04-19T10:57:07.427Z"
   },
   {
    "duration": 15,
    "start_time": "2022-04-19T10:57:07.442Z"
   },
   {
    "duration": 8,
    "start_time": "2022-04-19T10:57:07.458Z"
   },
   {
    "duration": 7,
    "start_time": "2022-04-19T10:57:07.467Z"
   },
   {
    "duration": 36,
    "start_time": "2022-04-19T10:57:07.475Z"
   },
   {
    "duration": 9,
    "start_time": "2022-04-19T10:57:07.512Z"
   },
   {
    "duration": 11,
    "start_time": "2022-04-19T10:57:07.522Z"
   },
   {
    "duration": 11,
    "start_time": "2022-04-19T10:57:07.534Z"
   },
   {
    "duration": 20,
    "start_time": "2022-04-19T10:57:07.547Z"
   },
   {
    "duration": 63,
    "start_time": "2022-04-19T10:57:07.568Z"
   },
   {
    "duration": 209,
    "start_time": "2022-04-19T10:57:07.633Z"
   },
   {
    "duration": 7,
    "start_time": "2022-04-19T10:57:07.844Z"
   },
   {
    "duration": 17,
    "start_time": "2022-04-19T10:57:07.853Z"
   },
   {
    "duration": 264,
    "start_time": "2022-04-19T10:57:07.876Z"
   },
   {
    "duration": 222,
    "start_time": "2022-04-19T10:57:08.141Z"
   },
   {
    "duration": 303,
    "start_time": "2022-04-19T10:57:08.365Z"
   },
   {
    "duration": 7,
    "start_time": "2022-04-19T10:57:08.669Z"
   },
   {
    "duration": 65,
    "start_time": "2022-04-19T10:57:08.677Z"
   },
   {
    "duration": 11,
    "start_time": "2022-04-19T10:57:08.744Z"
   },
   {
    "duration": 308,
    "start_time": "2022-04-19T10:57:08.756Z"
   },
   {
    "duration": 297,
    "start_time": "2022-04-19T10:57:09.066Z"
   },
   {
    "duration": 8,
    "start_time": "2022-04-19T10:57:09.364Z"
   },
   {
    "duration": 44,
    "start_time": "2022-04-19T10:57:09.373Z"
   },
   {
    "duration": 91,
    "start_time": "2022-04-19T10:57:09.419Z"
   },
   {
    "duration": 0,
    "start_time": "2022-04-19T10:57:09.512Z"
   },
   {
    "duration": 0,
    "start_time": "2022-04-19T10:57:09.513Z"
   },
   {
    "duration": 0,
    "start_time": "2022-04-19T10:57:09.514Z"
   },
   {
    "duration": 0,
    "start_time": "2022-04-19T10:57:09.515Z"
   },
   {
    "duration": 0,
    "start_time": "2022-04-19T10:57:09.516Z"
   },
   {
    "duration": 0,
    "start_time": "2022-04-19T10:57:09.517Z"
   },
   {
    "duration": 0,
    "start_time": "2022-04-19T10:57:09.517Z"
   },
   {
    "duration": 0,
    "start_time": "2022-04-19T10:57:09.518Z"
   },
   {
    "duration": 0,
    "start_time": "2022-04-19T10:57:09.519Z"
   },
   {
    "duration": 0,
    "start_time": "2022-04-19T10:57:09.585Z"
   },
   {
    "duration": 0,
    "start_time": "2022-04-19T10:57:09.607Z"
   },
   {
    "duration": 0,
    "start_time": "2022-04-19T10:57:09.608Z"
   },
   {
    "duration": 0,
    "start_time": "2022-04-19T10:57:09.609Z"
   },
   {
    "duration": 0,
    "start_time": "2022-04-19T10:57:09.610Z"
   },
   {
    "duration": 0,
    "start_time": "2022-04-19T10:57:09.610Z"
   },
   {
    "duration": 0,
    "start_time": "2022-04-19T10:57:09.611Z"
   },
   {
    "duration": 0,
    "start_time": "2022-04-19T10:57:09.612Z"
   },
   {
    "duration": 0,
    "start_time": "2022-04-19T10:57:09.613Z"
   },
   {
    "duration": 0,
    "start_time": "2022-04-19T10:57:09.614Z"
   },
   {
    "duration": 0,
    "start_time": "2022-04-19T10:57:09.615Z"
   },
   {
    "duration": 0,
    "start_time": "2022-04-19T10:57:09.615Z"
   },
   {
    "duration": 0,
    "start_time": "2022-04-19T10:57:09.617Z"
   },
   {
    "duration": 0,
    "start_time": "2022-04-19T10:57:09.617Z"
   },
   {
    "duration": 0,
    "start_time": "2022-04-19T10:57:09.618Z"
   },
   {
    "duration": 0,
    "start_time": "2022-04-19T10:57:09.619Z"
   },
   {
    "duration": 0,
    "start_time": "2022-04-19T10:57:09.620Z"
   },
   {
    "duration": 0,
    "start_time": "2022-04-19T10:57:09.621Z"
   },
   {
    "duration": 0,
    "start_time": "2022-04-19T10:57:09.622Z"
   },
   {
    "duration": 0,
    "start_time": "2022-04-19T10:57:09.623Z"
   },
   {
    "duration": 0,
    "start_time": "2022-04-19T10:57:09.624Z"
   },
   {
    "duration": 0,
    "start_time": "2022-04-19T10:57:09.625Z"
   },
   {
    "duration": 0,
    "start_time": "2022-04-19T10:57:09.626Z"
   },
   {
    "duration": 0,
    "start_time": "2022-04-19T10:57:09.627Z"
   },
   {
    "duration": 0,
    "start_time": "2022-04-19T10:57:09.628Z"
   },
   {
    "duration": 73,
    "start_time": "2022-04-19T11:00:05.680Z"
   },
   {
    "duration": 54,
    "start_time": "2022-04-19T11:05:15.288Z"
   },
   {
    "duration": 40,
    "start_time": "2022-04-19T11:06:20.024Z"
   },
   {
    "duration": 280,
    "start_time": "2022-04-19T11:06:20.066Z"
   },
   {
    "duration": 62,
    "start_time": "2022-04-19T11:06:20.347Z"
   },
   {
    "duration": 276,
    "start_time": "2022-04-19T11:06:20.411Z"
   },
   {
    "duration": 57,
    "start_time": "2022-04-19T11:06:20.689Z"
   },
   {
    "duration": 317,
    "start_time": "2022-04-19T11:06:20.748Z"
   },
   {
    "duration": 22,
    "start_time": "2022-04-19T11:06:21.067Z"
   },
   {
    "duration": 31,
    "start_time": "2022-04-19T11:06:21.091Z"
   },
   {
    "duration": 8,
    "start_time": "2022-04-19T11:06:21.124Z"
   },
   {
    "duration": 0,
    "start_time": "2022-04-19T11:06:21.135Z"
   },
   {
    "duration": 0,
    "start_time": "2022-04-19T11:06:21.136Z"
   },
   {
    "duration": 0,
    "start_time": "2022-04-19T11:06:21.137Z"
   },
   {
    "duration": 0,
    "start_time": "2022-04-19T11:06:21.138Z"
   },
   {
    "duration": 0,
    "start_time": "2022-04-19T11:06:21.139Z"
   },
   {
    "duration": 0,
    "start_time": "2022-04-19T11:06:21.141Z"
   },
   {
    "duration": 0,
    "start_time": "2022-04-19T11:06:21.142Z"
   },
   {
    "duration": 0,
    "start_time": "2022-04-19T11:06:21.143Z"
   },
   {
    "duration": 0,
    "start_time": "2022-04-19T11:06:21.144Z"
   },
   {
    "duration": 0,
    "start_time": "2022-04-19T11:06:21.145Z"
   },
   {
    "duration": 0,
    "start_time": "2022-04-19T11:06:21.146Z"
   },
   {
    "duration": 0,
    "start_time": "2022-04-19T11:06:21.148Z"
   },
   {
    "duration": 0,
    "start_time": "2022-04-19T11:06:21.148Z"
   },
   {
    "duration": 0,
    "start_time": "2022-04-19T11:06:21.150Z"
   },
   {
    "duration": 0,
    "start_time": "2022-04-19T11:06:21.151Z"
   },
   {
    "duration": 0,
    "start_time": "2022-04-19T11:06:21.152Z"
   },
   {
    "duration": 0,
    "start_time": "2022-04-19T11:06:21.152Z"
   },
   {
    "duration": 0,
    "start_time": "2022-04-19T11:06:21.153Z"
   },
   {
    "duration": 0,
    "start_time": "2022-04-19T11:06:21.154Z"
   },
   {
    "duration": 0,
    "start_time": "2022-04-19T11:06:21.155Z"
   },
   {
    "duration": 0,
    "start_time": "2022-04-19T11:06:21.156Z"
   },
   {
    "duration": 0,
    "start_time": "2022-04-19T11:06:21.157Z"
   },
   {
    "duration": 0,
    "start_time": "2022-04-19T11:06:21.208Z"
   },
   {
    "duration": 0,
    "start_time": "2022-04-19T11:06:21.209Z"
   },
   {
    "duration": 0,
    "start_time": "2022-04-19T11:06:21.209Z"
   },
   {
    "duration": 0,
    "start_time": "2022-04-19T11:06:21.211Z"
   },
   {
    "duration": 4,
    "start_time": "2022-04-19T11:07:30.851Z"
   },
   {
    "duration": 424,
    "start_time": "2022-04-19T11:07:30.857Z"
   },
   {
    "duration": 9,
    "start_time": "2022-04-19T11:07:31.283Z"
   },
   {
    "duration": 30,
    "start_time": "2022-04-19T11:07:31.294Z"
   },
   {
    "duration": 16,
    "start_time": "2022-04-19T11:07:31.325Z"
   },
   {
    "duration": 17,
    "start_time": "2022-04-19T11:07:31.342Z"
   },
   {
    "duration": 23,
    "start_time": "2022-04-19T11:07:31.360Z"
   },
   {
    "duration": 8,
    "start_time": "2022-04-19T11:07:31.384Z"
   },
   {
    "duration": 19,
    "start_time": "2022-04-19T11:07:31.394Z"
   },
   {
    "duration": 17,
    "start_time": "2022-04-19T11:07:31.415Z"
   },
   {
    "duration": 221,
    "start_time": "2022-04-19T11:07:31.434Z"
   },
   {
    "duration": 8,
    "start_time": "2022-04-19T11:07:31.656Z"
   },
   {
    "duration": 7,
    "start_time": "2022-04-19T11:07:31.666Z"
   },
   {
    "duration": 6,
    "start_time": "2022-04-19T11:07:31.675Z"
   },
   {
    "duration": 26,
    "start_time": "2022-04-19T11:07:31.682Z"
   },
   {
    "duration": 8,
    "start_time": "2022-04-19T11:07:31.709Z"
   },
   {
    "duration": 10,
    "start_time": "2022-04-19T11:07:31.718Z"
   },
   {
    "duration": 24,
    "start_time": "2022-04-19T11:07:31.730Z"
   },
   {
    "duration": 9,
    "start_time": "2022-04-19T11:07:31.756Z"
   },
   {
    "duration": 82,
    "start_time": "2022-04-19T11:07:31.767Z"
   },
   {
    "duration": 33,
    "start_time": "2022-04-19T11:07:31.851Z"
   },
   {
    "duration": 26,
    "start_time": "2022-04-19T11:07:31.886Z"
   },
   {
    "duration": 241,
    "start_time": "2022-04-19T11:07:31.914Z"
   },
   {
    "duration": 15,
    "start_time": "2022-04-19T11:07:32.157Z"
   },
   {
    "duration": 72,
    "start_time": "2022-04-19T11:07:32.173Z"
   },
   {
    "duration": 18,
    "start_time": "2022-04-19T11:07:32.247Z"
   },
   {
    "duration": 7,
    "start_time": "2022-04-19T11:07:32.267Z"
   },
   {
    "duration": 46,
    "start_time": "2022-04-19T11:07:32.275Z"
   },
   {
    "duration": 20,
    "start_time": "2022-04-19T11:07:32.325Z"
   },
   {
    "duration": 34,
    "start_time": "2022-04-19T11:07:32.346Z"
   },
   {
    "duration": 27,
    "start_time": "2022-04-19T11:07:32.382Z"
   },
   {
    "duration": 22,
    "start_time": "2022-04-19T11:07:32.410Z"
   },
   {
    "duration": 20,
    "start_time": "2022-04-19T11:07:32.433Z"
   },
   {
    "duration": 25,
    "start_time": "2022-04-19T11:07:32.454Z"
   },
   {
    "duration": 28,
    "start_time": "2022-04-19T11:07:32.480Z"
   },
   {
    "duration": 4,
    "start_time": "2022-04-19T11:07:32.510Z"
   },
   {
    "duration": 12,
    "start_time": "2022-04-19T11:07:32.515Z"
   },
   {
    "duration": 7,
    "start_time": "2022-04-19T11:07:32.529Z"
   },
   {
    "duration": 17,
    "start_time": "2022-04-19T11:07:32.538Z"
   },
   {
    "duration": 67,
    "start_time": "2022-04-19T11:07:32.556Z"
   },
   {
    "duration": 236,
    "start_time": "2022-04-19T11:07:32.624Z"
   },
   {
    "duration": 13,
    "start_time": "2022-04-19T11:07:32.861Z"
   },
   {
    "duration": 7,
    "start_time": "2022-04-19T11:07:32.876Z"
   },
   {
    "duration": 24,
    "start_time": "2022-04-19T11:07:32.884Z"
   },
   {
    "duration": 16,
    "start_time": "2022-04-19T11:07:32.909Z"
   },
   {
    "duration": 137,
    "start_time": "2022-04-19T11:07:32.926Z"
   },
   {
    "duration": 65,
    "start_time": "2022-04-19T11:07:33.064Z"
   },
   {
    "duration": 96,
    "start_time": "2022-04-19T11:07:33.131Z"
   },
   {
    "duration": 9,
    "start_time": "2022-04-19T11:07:33.229Z"
   },
   {
    "duration": 4,
    "start_time": "2022-04-19T11:07:33.240Z"
   },
   {
    "duration": 10,
    "start_time": "2022-04-19T11:07:33.246Z"
   },
   {
    "duration": 63,
    "start_time": "2022-04-19T11:07:33.258Z"
   },
   {
    "duration": 7,
    "start_time": "2022-04-19T11:07:33.322Z"
   },
   {
    "duration": 7,
    "start_time": "2022-04-19T11:07:33.330Z"
   },
   {
    "duration": 44,
    "start_time": "2022-04-19T11:07:33.339Z"
   },
   {
    "duration": 22,
    "start_time": "2022-04-19T11:07:33.385Z"
   },
   {
    "duration": 2,
    "start_time": "2022-04-19T11:07:33.409Z"
   },
   {
    "duration": 177,
    "start_time": "2022-04-19T11:07:33.412Z"
   },
   {
    "duration": 18,
    "start_time": "2022-04-19T11:07:33.590Z"
   },
   {
    "duration": 27,
    "start_time": "2022-04-19T11:07:33.610Z"
   },
   {
    "duration": 14,
    "start_time": "2022-04-19T11:07:33.639Z"
   },
   {
    "duration": 7,
    "start_time": "2022-04-19T11:07:33.655Z"
   },
   {
    "duration": 9,
    "start_time": "2022-04-19T11:07:33.663Z"
   },
   {
    "duration": 7,
    "start_time": "2022-04-19T11:07:33.673Z"
   },
   {
    "duration": 23,
    "start_time": "2022-04-19T11:07:33.681Z"
   },
   {
    "duration": 4,
    "start_time": "2022-04-19T11:07:33.706Z"
   },
   {
    "duration": 15,
    "start_time": "2022-04-19T11:07:33.711Z"
   },
   {
    "duration": 7,
    "start_time": "2022-04-19T11:07:33.727Z"
   },
   {
    "duration": 15,
    "start_time": "2022-04-19T11:07:33.736Z"
   },
   {
    "duration": 12,
    "start_time": "2022-04-19T11:07:33.752Z"
   },
   {
    "duration": 7,
    "start_time": "2022-04-19T11:07:33.766Z"
   },
   {
    "duration": 33,
    "start_time": "2022-04-19T11:07:33.775Z"
   },
   {
    "duration": 10,
    "start_time": "2022-04-19T11:07:33.809Z"
   },
   {
    "duration": 9,
    "start_time": "2022-04-19T11:07:33.820Z"
   },
   {
    "duration": 11,
    "start_time": "2022-04-19T11:07:33.830Z"
   },
   {
    "duration": 9,
    "start_time": "2022-04-19T11:07:33.842Z"
   },
   {
    "duration": 19,
    "start_time": "2022-04-19T11:07:33.853Z"
   },
   {
    "duration": 68,
    "start_time": "2022-04-19T11:07:33.874Z"
   },
   {
    "duration": 215,
    "start_time": "2022-04-19T11:07:33.943Z"
   },
   {
    "duration": 8,
    "start_time": "2022-04-19T11:07:34.160Z"
   },
   {
    "duration": 39,
    "start_time": "2022-04-19T11:07:34.169Z"
   },
   {
    "duration": 232,
    "start_time": "2022-04-19T11:07:34.210Z"
   },
   {
    "duration": 212,
    "start_time": "2022-04-19T11:07:34.448Z"
   },
   {
    "duration": 300,
    "start_time": "2022-04-19T11:07:34.662Z"
   },
   {
    "duration": 6,
    "start_time": "2022-04-19T11:07:34.963Z"
   },
   {
    "duration": 60,
    "start_time": "2022-04-19T11:07:34.971Z"
   },
   {
    "duration": 11,
    "start_time": "2022-04-19T11:07:35.033Z"
   },
   {
    "duration": 288,
    "start_time": "2022-04-19T11:07:35.045Z"
   },
   {
    "duration": 241,
    "start_time": "2022-04-19T11:07:35.335Z"
   },
   {
    "duration": 7,
    "start_time": "2022-04-19T11:07:35.577Z"
   },
   {
    "duration": 24,
    "start_time": "2022-04-19T11:07:35.606Z"
   },
   {
    "duration": 34,
    "start_time": "2022-04-19T11:07:35.632Z"
   },
   {
    "duration": 273,
    "start_time": "2022-04-19T11:07:35.668Z"
   },
   {
    "duration": 49,
    "start_time": "2022-04-19T11:07:35.943Z"
   },
   {
    "duration": 277,
    "start_time": "2022-04-19T11:07:35.993Z"
   },
   {
    "duration": 56,
    "start_time": "2022-04-19T11:07:36.271Z"
   },
   {
    "duration": 350,
    "start_time": "2022-04-19T11:07:36.328Z"
   },
   {
    "duration": 31,
    "start_time": "2022-04-19T11:07:36.680Z"
   },
   {
    "duration": 15,
    "start_time": "2022-04-19T11:07:36.713Z"
   },
   {
    "duration": 19,
    "start_time": "2022-04-19T11:07:36.730Z"
   },
   {
    "duration": 239,
    "start_time": "2022-04-19T11:07:36.750Z"
   },
   {
    "duration": 20,
    "start_time": "2022-04-19T11:07:36.991Z"
   },
   {
    "duration": 24,
    "start_time": "2022-04-19T11:07:37.013Z"
   },
   {
    "duration": 17,
    "start_time": "2022-04-19T11:07:37.039Z"
   },
   {
    "duration": 23,
    "start_time": "2022-04-19T11:07:37.057Z"
   },
   {
    "duration": 317,
    "start_time": "2022-04-19T11:07:37.081Z"
   },
   {
    "duration": 25,
    "start_time": "2022-04-19T11:07:37.400Z"
   },
   {
    "duration": 22,
    "start_time": "2022-04-19T11:07:37.427Z"
   },
   {
    "duration": 27,
    "start_time": "2022-04-19T11:07:37.451Z"
   },
   {
    "duration": 38,
    "start_time": "2022-04-19T11:07:37.507Z"
   },
   {
    "duration": 12,
    "start_time": "2022-04-19T11:07:37.546Z"
   },
   {
    "duration": 306,
    "start_time": "2022-04-19T11:07:37.560Z"
   },
   {
    "duration": 38,
    "start_time": "2022-04-19T11:07:37.869Z"
   },
   {
    "duration": 258,
    "start_time": "2022-04-19T11:07:37.909Z"
   },
   {
    "duration": 12,
    "start_time": "2022-04-19T11:07:38.169Z"
   },
   {
    "duration": 30,
    "start_time": "2022-04-19T11:07:38.183Z"
   },
   {
    "duration": 242,
    "start_time": "2022-04-19T11:07:38.215Z"
   },
   {
    "duration": 8,
    "start_time": "2022-04-19T11:07:38.459Z"
   },
   {
    "duration": 315,
    "start_time": "2022-04-19T11:07:38.469Z"
   },
   {
    "duration": 5,
    "start_time": "2022-04-19T11:07:38.786Z"
   },
   {
    "duration": 25,
    "start_time": "2022-04-19T11:07:38.793Z"
   },
   {
    "duration": 6,
    "start_time": "2022-04-19T11:07:38.819Z"
   },
   {
    "duration": 5,
    "start_time": "2022-04-19T11:07:38.827Z"
   },
   {
    "duration": 12,
    "start_time": "2022-04-19T11:07:38.834Z"
   },
   {
    "duration": 4,
    "start_time": "2022-04-19T11:07:38.848Z"
   },
   {
    "duration": 7,
    "start_time": "2022-04-19T11:07:38.854Z"
   },
   {
    "duration": 1036,
    "start_time": "2022-04-19T11:11:22.418Z"
   },
   {
    "duration": 321,
    "start_time": "2022-04-19T11:11:33.760Z"
   },
   {
    "duration": 299,
    "start_time": "2022-04-19T11:11:38.988Z"
   },
   {
    "duration": 331,
    "start_time": "2022-04-19T11:11:54.951Z"
   },
   {
    "duration": 306,
    "start_time": "2022-04-19T11:13:35.945Z"
   },
   {
    "duration": 422,
    "start_time": "2022-04-19T11:13:45.689Z"
   },
   {
    "duration": 11,
    "start_time": "2022-04-19T11:17:53.980Z"
   },
   {
    "duration": 9,
    "start_time": "2022-04-19T11:18:51.615Z"
   },
   {
    "duration": 964,
    "start_time": "2022-04-19T11:18:58.647Z"
   },
   {
    "duration": 65,
    "start_time": "2022-04-19T11:19:12.064Z"
   },
   {
    "duration": 63,
    "start_time": "2022-04-19T11:19:26.859Z"
   },
   {
    "duration": 5,
    "start_time": "2022-04-19T11:19:47.061Z"
   },
   {
    "duration": 85,
    "start_time": "2022-04-19T11:25:57.454Z"
   },
   {
    "duration": 78,
    "start_time": "2022-04-20T08:49:40.586Z"
   },
   {
    "duration": 46,
    "start_time": "2022-04-20T08:50:03.697Z"
   },
   {
    "duration": 1315,
    "start_time": "2022-04-20T08:50:16.174Z"
   },
   {
    "duration": 403,
    "start_time": "2022-04-20T08:50:17.491Z"
   },
   {
    "duration": 14,
    "start_time": "2022-04-20T08:50:17.896Z"
   },
   {
    "duration": 21,
    "start_time": "2022-04-20T08:50:17.913Z"
   },
   {
    "duration": 8,
    "start_time": "2022-04-20T08:50:17.936Z"
   },
   {
    "duration": 9,
    "start_time": "2022-04-20T08:50:17.946Z"
   },
   {
    "duration": 44,
    "start_time": "2022-04-20T08:50:17.956Z"
   },
   {
    "duration": 6,
    "start_time": "2022-04-20T08:50:21.156Z"
   },
   {
    "duration": 3,
    "start_time": "2022-04-20T09:56:06.686Z"
   },
   {
    "duration": 863,
    "start_time": "2022-04-20T09:56:06.692Z"
   },
   {
    "duration": 10,
    "start_time": "2022-04-20T09:56:07.556Z"
   },
   {
    "duration": 34,
    "start_time": "2022-04-20T09:56:07.568Z"
   },
   {
    "duration": 12,
    "start_time": "2022-04-20T09:56:07.603Z"
   },
   {
    "duration": 18,
    "start_time": "2022-04-20T09:56:07.617Z"
   },
   {
    "duration": 39,
    "start_time": "2022-04-20T09:56:07.637Z"
   },
   {
    "duration": 9,
    "start_time": "2022-04-20T09:56:07.678Z"
   },
   {
    "duration": 13,
    "start_time": "2022-04-20T09:56:07.690Z"
   },
   {
    "duration": 24,
    "start_time": "2022-04-20T09:56:07.705Z"
   },
   {
    "duration": 14,
    "start_time": "2022-04-20T09:56:07.731Z"
   },
   {
    "duration": 143,
    "start_time": "2022-04-20T09:56:07.746Z"
   },
   {
    "duration": 10,
    "start_time": "2022-04-20T09:56:07.891Z"
   },
   {
    "duration": 24,
    "start_time": "2022-04-20T09:56:07.903Z"
   },
   {
    "duration": 15,
    "start_time": "2022-04-20T09:56:07.930Z"
   },
   {
    "duration": 23,
    "start_time": "2022-04-20T09:56:07.947Z"
   },
   {
    "duration": 15,
    "start_time": "2022-04-20T09:56:07.972Z"
   },
   {
    "duration": 24,
    "start_time": "2022-04-20T09:56:07.989Z"
   },
   {
    "duration": 47,
    "start_time": "2022-04-20T09:56:08.016Z"
   },
   {
    "duration": 11,
    "start_time": "2022-04-20T09:56:08.064Z"
   },
   {
    "duration": 97,
    "start_time": "2022-04-20T09:56:08.076Z"
   },
   {
    "duration": 41,
    "start_time": "2022-04-20T09:56:08.174Z"
   },
   {
    "duration": 19,
    "start_time": "2022-04-20T09:56:08.217Z"
   },
   {
    "duration": 164,
    "start_time": "2022-04-20T09:56:08.240Z"
   },
   {
    "duration": 16,
    "start_time": "2022-04-20T09:56:08.407Z"
   },
   {
    "duration": 81,
    "start_time": "2022-04-20T09:56:08.425Z"
   },
   {
    "duration": 22,
    "start_time": "2022-04-20T09:56:08.508Z"
   },
   {
    "duration": 7,
    "start_time": "2022-04-20T09:56:08.532Z"
   },
   {
    "duration": 57,
    "start_time": "2022-04-20T09:56:08.541Z"
   },
   {
    "duration": 27,
    "start_time": "2022-04-20T09:56:08.600Z"
   },
   {
    "duration": 46,
    "start_time": "2022-04-20T09:56:08.629Z"
   },
   {
    "duration": 10,
    "start_time": "2022-04-20T09:56:08.677Z"
   },
   {
    "duration": 27,
    "start_time": "2022-04-20T09:56:08.688Z"
   },
   {
    "duration": 25,
    "start_time": "2022-04-20T09:56:08.717Z"
   },
   {
    "duration": 48,
    "start_time": "2022-04-20T09:56:08.744Z"
   },
   {
    "duration": 8,
    "start_time": "2022-04-20T09:56:08.794Z"
   },
   {
    "duration": 8,
    "start_time": "2022-04-20T09:56:08.803Z"
   },
   {
    "duration": 17,
    "start_time": "2022-04-20T09:56:08.813Z"
   },
   {
    "duration": 10,
    "start_time": "2022-04-20T09:56:08.831Z"
   },
   {
    "duration": 35,
    "start_time": "2022-04-20T09:56:08.843Z"
   },
   {
    "duration": 44,
    "start_time": "2022-04-20T09:56:08.880Z"
   },
   {
    "duration": 170,
    "start_time": "2022-04-20T09:56:08.926Z"
   },
   {
    "duration": 13,
    "start_time": "2022-04-20T09:56:09.098Z"
   },
   {
    "duration": 8,
    "start_time": "2022-04-20T09:56:09.113Z"
   },
   {
    "duration": 6,
    "start_time": "2022-04-20T09:56:09.122Z"
   },
   {
    "duration": 12,
    "start_time": "2022-04-20T09:56:09.130Z"
   },
   {
    "duration": 171,
    "start_time": "2022-04-20T09:56:09.144Z"
   },
   {
    "duration": 33,
    "start_time": "2022-04-20T09:56:13.232Z"
   },
   {
    "duration": 25,
    "start_time": "2022-04-20T09:56:57.965Z"
   },
   {
    "duration": 21,
    "start_time": "2022-04-20T09:57:08.704Z"
   },
   {
    "duration": 22,
    "start_time": "2022-04-20T09:57:17.333Z"
   },
   {
    "duration": 25,
    "start_time": "2022-04-20T09:58:02.349Z"
   },
   {
    "duration": 107,
    "start_time": "2022-04-20T09:58:54.116Z"
   },
   {
    "duration": 11,
    "start_time": "2022-04-20T09:58:55.105Z"
   },
   {
    "duration": 4,
    "start_time": "2022-04-20T09:58:58.076Z"
   },
   {
    "duration": 33,
    "start_time": "2022-04-20T09:59:13.296Z"
   },
   {
    "duration": 98,
    "start_time": "2022-04-20T09:59:15.786Z"
   },
   {
    "duration": 10,
    "start_time": "2022-04-20T09:59:16.516Z"
   },
   {
    "duration": 4,
    "start_time": "2022-04-20T09:59:18.783Z"
   },
   {
    "duration": 4,
    "start_time": "2022-04-20T10:21:57.377Z"
   },
   {
    "duration": 54,
    "start_time": "2022-04-20T10:22:46.395Z"
   },
   {
    "duration": 154,
    "start_time": "2022-04-20T10:23:03.487Z"
   },
   {
    "duration": 3,
    "start_time": "2022-04-20T10:23:12.573Z"
   },
   {
    "duration": 443,
    "start_time": "2022-04-20T10:23:12.579Z"
   },
   {
    "duration": 10,
    "start_time": "2022-04-20T10:23:13.025Z"
   },
   {
    "duration": 26,
    "start_time": "2022-04-20T10:23:13.036Z"
   },
   {
    "duration": 12,
    "start_time": "2022-04-20T10:23:13.065Z"
   },
   {
    "duration": 12,
    "start_time": "2022-04-20T10:23:13.079Z"
   },
   {
    "duration": 23,
    "start_time": "2022-04-20T10:23:13.093Z"
   },
   {
    "duration": 11,
    "start_time": "2022-04-20T10:23:13.118Z"
   },
   {
    "duration": 6,
    "start_time": "2022-04-20T10:23:13.130Z"
   },
   {
    "duration": 13,
    "start_time": "2022-04-20T10:23:13.138Z"
   },
   {
    "duration": 7,
    "start_time": "2022-04-20T10:23:13.175Z"
   },
   {
    "duration": 138,
    "start_time": "2022-04-20T10:23:13.184Z"
   },
   {
    "duration": 9,
    "start_time": "2022-04-20T10:23:13.323Z"
   },
   {
    "duration": 10,
    "start_time": "2022-04-20T10:23:13.334Z"
   },
   {
    "duration": 9,
    "start_time": "2022-04-20T10:23:13.345Z"
   },
   {
    "duration": 23,
    "start_time": "2022-04-20T10:23:13.355Z"
   },
   {
    "duration": 10,
    "start_time": "2022-04-20T10:23:13.379Z"
   },
   {
    "duration": 12,
    "start_time": "2022-04-20T10:23:13.390Z"
   },
   {
    "duration": 32,
    "start_time": "2022-04-20T10:23:13.404Z"
   },
   {
    "duration": 11,
    "start_time": "2022-04-20T10:23:13.438Z"
   },
   {
    "duration": 85,
    "start_time": "2022-04-20T10:23:13.473Z"
   },
   {
    "duration": 32,
    "start_time": "2022-04-20T10:23:13.573Z"
   },
   {
    "duration": 21,
    "start_time": "2022-04-20T10:23:13.607Z"
   },
   {
    "duration": 259,
    "start_time": "2022-04-20T10:23:13.630Z"
   },
   {
    "duration": 17,
    "start_time": "2022-04-20T10:23:13.891Z"
   },
   {
    "duration": 76,
    "start_time": "2022-04-20T10:23:13.909Z"
   },
   {
    "duration": 19,
    "start_time": "2022-04-20T10:23:13.986Z"
   },
   {
    "duration": 7,
    "start_time": "2022-04-20T10:23:14.007Z"
   },
   {
    "duration": 56,
    "start_time": "2022-04-20T10:23:14.018Z"
   },
   {
    "duration": 20,
    "start_time": "2022-04-20T10:23:14.076Z"
   },
   {
    "duration": 36,
    "start_time": "2022-04-20T10:23:14.098Z"
   },
   {
    "duration": 10,
    "start_time": "2022-04-20T10:23:14.135Z"
   },
   {
    "duration": 47,
    "start_time": "2022-04-20T10:23:14.147Z"
   },
   {
    "duration": 27,
    "start_time": "2022-04-20T10:23:14.196Z"
   },
   {
    "duration": 25,
    "start_time": "2022-04-20T10:23:14.225Z"
   },
   {
    "duration": 22,
    "start_time": "2022-04-20T10:23:14.252Z"
   },
   {
    "duration": 5,
    "start_time": "2022-04-20T10:23:14.276Z"
   },
   {
    "duration": 13,
    "start_time": "2022-04-20T10:23:14.282Z"
   },
   {
    "duration": 9,
    "start_time": "2022-04-20T10:23:14.297Z"
   },
   {
    "duration": 20,
    "start_time": "2022-04-20T10:23:14.307Z"
   },
   {
    "duration": 75,
    "start_time": "2022-04-20T10:23:14.329Z"
   },
   {
    "duration": 169,
    "start_time": "2022-04-20T10:23:14.406Z"
   },
   {
    "duration": 14,
    "start_time": "2022-04-20T10:23:14.577Z"
   },
   {
    "duration": 8,
    "start_time": "2022-04-20T10:23:14.593Z"
   },
   {
    "duration": 8,
    "start_time": "2022-04-20T10:23:14.602Z"
   },
   {
    "duration": 12,
    "start_time": "2022-04-20T10:23:14.611Z"
   },
   {
    "duration": 175,
    "start_time": "2022-04-20T10:23:14.625Z"
   },
   {
    "duration": 28,
    "start_time": "2022-04-20T10:23:14.801Z"
   },
   {
    "duration": 4,
    "start_time": "2022-04-20T10:23:14.830Z"
   },
   {
    "duration": 235,
    "start_time": "2022-04-20T10:23:19.281Z"
   },
   {
    "duration": 238,
    "start_time": "2022-04-20T10:25:40.084Z"
   },
   {
    "duration": 10,
    "start_time": "2022-04-20T10:26:27.087Z"
   },
   {
    "duration": 135,
    "start_time": "2022-04-20T10:26:49.439Z"
   },
   {
    "duration": 91,
    "start_time": "2022-04-20T10:26:53.260Z"
   },
   {
    "duration": 10,
    "start_time": "2022-04-20T10:26:55.639Z"
   },
   {
    "duration": 10,
    "start_time": "2022-04-20T10:27:11.190Z"
   },
   {
    "duration": 5,
    "start_time": "2022-04-20T10:27:15.532Z"
   },
   {
    "duration": 6,
    "start_time": "2022-04-20T10:27:38.210Z"
   },
   {
    "duration": 62,
    "start_time": "2022-04-20T10:37:59.326Z"
   },
   {
    "duration": 11,
    "start_time": "2022-04-20T10:38:01.091Z"
   },
   {
    "duration": 26,
    "start_time": "2022-04-20T10:38:03.575Z"
   },
   {
    "duration": 23,
    "start_time": "2022-04-20T10:38:37.113Z"
   },
   {
    "duration": 9,
    "start_time": "2022-04-20T10:38:45.533Z"
   },
   {
    "duration": 7,
    "start_time": "2022-04-20T10:38:50.130Z"
   },
   {
    "duration": 9,
    "start_time": "2022-04-20T10:39:20.649Z"
   },
   {
    "duration": 14,
    "start_time": "2022-04-20T10:39:34.892Z"
   },
   {
    "duration": 152,
    "start_time": "2022-04-20T10:39:52.920Z"
   },
   {
    "duration": 3,
    "start_time": "2022-04-20T10:39:58.118Z"
   },
   {
    "duration": 87,
    "start_time": "2022-04-20T10:39:59.072Z"
   },
   {
    "duration": 10,
    "start_time": "2022-04-20T10:40:01.698Z"
   },
   {
    "duration": 3,
    "start_time": "2022-04-20T10:40:13.547Z"
   },
   {
    "duration": 46,
    "start_time": "2022-04-20T10:43:58.224Z"
   },
   {
    "duration": 7,
    "start_time": "2022-04-20T10:43:59.093Z"
   },
   {
    "duration": 3,
    "start_time": "2022-04-20T10:44:05.134Z"
   },
   {
    "duration": 47,
    "start_time": "2022-04-20T10:44:36.219Z"
   },
   {
    "duration": 10,
    "start_time": "2022-04-20T10:44:37.111Z"
   },
   {
    "duration": 3,
    "start_time": "2022-04-20T10:44:41.448Z"
   },
   {
    "duration": 26,
    "start_time": "2022-04-20T10:44:43.374Z"
   },
   {
    "duration": 12,
    "start_time": "2022-04-20T10:44:44.090Z"
   },
   {
    "duration": 10,
    "start_time": "2022-04-20T10:44:47.610Z"
   },
   {
    "duration": 107,
    "start_time": "2022-04-20T10:45:12.591Z"
   },
   {
    "duration": 83,
    "start_time": "2022-04-20T10:45:17.983Z"
   },
   {
    "duration": 6,
    "start_time": "2022-04-20T10:45:22.649Z"
   },
   {
    "duration": 11,
    "start_time": "2022-04-20T10:45:23.450Z"
   },
   {
    "duration": 7,
    "start_time": "2022-04-20T10:45:26.387Z"
   },
   {
    "duration": 3,
    "start_time": "2022-04-20T10:45:29.707Z"
   },
   {
    "duration": 7,
    "start_time": "2022-04-20T10:45:30.908Z"
   },
   {
    "duration": 7,
    "start_time": "2022-04-20T10:45:37.762Z"
   },
   {
    "duration": 17,
    "start_time": "2022-04-20T10:45:38.676Z"
   },
   {
    "duration": 4,
    "start_time": "2022-04-20T10:49:29.446Z"
   },
   {
    "duration": 15,
    "start_time": "2022-04-20T10:49:30.135Z"
   },
   {
    "duration": 7,
    "start_time": "2022-04-20T10:49:32.877Z"
   },
   {
    "duration": 16,
    "start_time": "2022-04-20T10:49:33.593Z"
   },
   {
    "duration": 14,
    "start_time": "2022-04-20T10:49:41.473Z"
   },
   {
    "duration": 9,
    "start_time": "2022-04-20T10:49:59.570Z"
   },
   {
    "duration": 4,
    "start_time": "2022-04-20T10:50:34.244Z"
   },
   {
    "duration": 7,
    "start_time": "2022-04-20T10:51:24.424Z"
   },
   {
    "duration": 7,
    "start_time": "2022-04-20T10:51:34.425Z"
   },
   {
    "duration": 6,
    "start_time": "2022-04-20T10:52:07.334Z"
   },
   {
    "duration": 8,
    "start_time": "2022-04-20T10:52:40.797Z"
   },
   {
    "duration": 13,
    "start_time": "2022-04-20T10:52:43.678Z"
   },
   {
    "duration": 9,
    "start_time": "2022-04-20T10:55:16.216Z"
   },
   {
    "duration": 23,
    "start_time": "2022-04-20T10:55:19.506Z"
   },
   {
    "duration": 23,
    "start_time": "2022-04-20T10:55:23.870Z"
   },
   {
    "duration": 8,
    "start_time": "2022-04-20T10:56:48.176Z"
   },
   {
    "duration": 24,
    "start_time": "2022-04-20T10:56:51.525Z"
   },
   {
    "duration": 22,
    "start_time": "2022-04-20T10:56:55.706Z"
   },
   {
    "duration": 129,
    "start_time": "2022-04-20T10:56:57.465Z"
   },
   {
    "duration": 9,
    "start_time": "2022-04-20T10:56:59.276Z"
   },
   {
    "duration": 22,
    "start_time": "2022-04-20T10:57:01.524Z"
   },
   {
    "duration": 7,
    "start_time": "2022-04-20T11:00:25.491Z"
   },
   {
    "duration": 6,
    "start_time": "2022-04-20T11:01:03.705Z"
   },
   {
    "duration": 7,
    "start_time": "2022-04-20T11:01:09.682Z"
   },
   {
    "duration": 6,
    "start_time": "2022-04-20T11:01:14.142Z"
   },
   {
    "duration": 83,
    "start_time": "2022-04-20T11:03:23.804Z"
   },
   {
    "duration": 157,
    "start_time": "2022-04-20T12:16:48.998Z"
   },
   {
    "duration": 13,
    "start_time": "2022-04-20T12:16:50.656Z"
   },
   {
    "duration": 48,
    "start_time": "2022-04-22T09:34:16.501Z"
   },
   {
    "duration": 1405,
    "start_time": "2022-04-22T09:34:27.487Z"
   },
   {
    "duration": 417,
    "start_time": "2022-04-22T09:34:28.894Z"
   },
   {
    "duration": 24,
    "start_time": "2022-04-22T09:34:29.314Z"
   },
   {
    "duration": 16,
    "start_time": "2022-04-22T09:34:29.341Z"
   },
   {
    "duration": 25,
    "start_time": "2022-04-22T09:34:29.359Z"
   },
   {
    "duration": 14,
    "start_time": "2022-04-22T09:34:29.387Z"
   },
   {
    "duration": 30,
    "start_time": "2022-04-22T09:34:29.404Z"
   },
   {
    "duration": 33,
    "start_time": "2022-04-22T09:34:29.436Z"
   },
   {
    "duration": 11,
    "start_time": "2022-04-22T09:34:29.470Z"
   },
   {
    "duration": 23,
    "start_time": "2022-04-22T09:34:29.484Z"
   },
   {
    "duration": 13,
    "start_time": "2022-04-22T09:34:29.509Z"
   },
   {
    "duration": 145,
    "start_time": "2022-04-22T09:34:29.524Z"
   },
   {
    "duration": 13,
    "start_time": "2022-04-22T09:34:29.673Z"
   },
   {
    "duration": 28,
    "start_time": "2022-04-22T09:34:29.688Z"
   },
   {
    "duration": 7,
    "start_time": "2022-04-22T09:34:29.718Z"
   },
   {
    "duration": 8,
    "start_time": "2022-04-22T09:34:29.727Z"
   },
   {
    "duration": 10,
    "start_time": "2022-04-22T09:34:29.737Z"
   },
   {
    "duration": 17,
    "start_time": "2022-04-22T09:34:29.749Z"
   },
   {
    "duration": 39,
    "start_time": "2022-04-22T09:34:29.774Z"
   },
   {
    "duration": 12,
    "start_time": "2022-04-22T09:34:29.815Z"
   },
   {
    "duration": 98,
    "start_time": "2022-04-22T09:34:29.828Z"
   },
   {
    "duration": 52,
    "start_time": "2022-04-22T09:34:29.928Z"
   },
   {
    "duration": 25,
    "start_time": "2022-04-22T09:34:29.982Z"
   },
   {
    "duration": 186,
    "start_time": "2022-04-22T09:34:30.009Z"
   },
   {
    "duration": 17,
    "start_time": "2022-04-22T09:34:30.197Z"
   },
   {
    "duration": 90,
    "start_time": "2022-04-22T09:34:30.216Z"
   },
   {
    "duration": 21,
    "start_time": "2022-04-22T09:34:30.308Z"
   },
   {
    "duration": 34,
    "start_time": "2022-04-22T09:34:30.333Z"
   },
   {
    "duration": 84,
    "start_time": "2022-04-22T09:34:30.369Z"
   },
   {
    "duration": 55,
    "start_time": "2022-04-22T09:34:30.455Z"
   },
   {
    "duration": 66,
    "start_time": "2022-04-22T09:34:30.511Z"
   },
   {
    "duration": 15,
    "start_time": "2022-04-22T09:34:30.581Z"
   },
   {
    "duration": 34,
    "start_time": "2022-04-22T09:34:30.598Z"
   },
   {
    "duration": 29,
    "start_time": "2022-04-22T09:34:30.635Z"
   },
   {
    "duration": 40,
    "start_time": "2022-04-22T09:34:30.672Z"
   },
   {
    "duration": 6,
    "start_time": "2022-04-22T09:34:30.714Z"
   },
   {
    "duration": 11,
    "start_time": "2022-04-22T09:34:30.722Z"
   },
   {
    "duration": 34,
    "start_time": "2022-04-22T09:34:30.735Z"
   },
   {
    "duration": 22,
    "start_time": "2022-04-22T09:34:30.771Z"
   },
   {
    "duration": 44,
    "start_time": "2022-04-22T09:34:30.796Z"
   },
   {
    "duration": 51,
    "start_time": "2022-04-22T09:34:30.843Z"
   },
   {
    "duration": 172,
    "start_time": "2022-04-22T09:34:30.896Z"
   },
   {
    "duration": 17,
    "start_time": "2022-04-22T09:34:31.075Z"
   },
   {
    "duration": 14,
    "start_time": "2022-04-22T09:34:31.094Z"
   },
   {
    "duration": 6,
    "start_time": "2022-04-22T09:34:31.111Z"
   },
   {
    "duration": 12,
    "start_time": "2022-04-22T09:34:31.119Z"
   },
   {
    "duration": 17,
    "start_time": "2022-04-22T09:34:31.134Z"
   },
   {
    "duration": 161,
    "start_time": "2022-04-22T09:43:05.902Z"
   },
   {
    "duration": 4,
    "start_time": "2022-04-22T09:43:06.581Z"
   },
   {
    "duration": 127,
    "start_time": "2022-04-22T09:43:07.049Z"
   },
   {
    "duration": 11,
    "start_time": "2022-04-22T09:43:09.196Z"
   },
   {
    "duration": 4,
    "start_time": "2022-04-22T09:43:11.657Z"
   },
   {
    "duration": 52,
    "start_time": "2022-04-22T09:43:12.625Z"
   },
   {
    "duration": 4,
    "start_time": "2022-04-22T09:43:14.790Z"
   },
   {
    "duration": 9,
    "start_time": "2022-04-22T09:43:16.305Z"
   },
   {
    "duration": 54,
    "start_time": "2022-04-22T09:43:17.356Z"
   },
   {
    "duration": 9,
    "start_time": "2022-04-22T09:43:17.957Z"
   },
   {
    "duration": 3,
    "start_time": "2022-04-22T09:43:18.567Z"
   },
   {
    "duration": 45,
    "start_time": "2022-04-22T09:43:19.099Z"
   },
   {
    "duration": 10,
    "start_time": "2022-04-22T09:43:19.854Z"
   },
   {
    "duration": 4,
    "start_time": "2022-04-22T09:43:21.309Z"
   },
   {
    "duration": 21,
    "start_time": "2022-04-22T09:43:22.248Z"
   },
   {
    "duration": 18,
    "start_time": "2022-04-22T09:43:23.170Z"
   },
   {
    "duration": 6,
    "start_time": "2022-04-22T09:43:24.846Z"
   },
   {
    "duration": 11,
    "start_time": "2022-04-22T09:43:25.398Z"
   },
   {
    "duration": 6,
    "start_time": "2022-04-22T09:43:26.412Z"
   },
   {
    "duration": 3,
    "start_time": "2022-04-22T09:43:28.240Z"
   },
   {
    "duration": 7,
    "start_time": "2022-04-22T09:43:28.735Z"
   },
   {
    "duration": 7,
    "start_time": "2022-04-22T09:43:30.038Z"
   },
   {
    "duration": 15,
    "start_time": "2022-04-22T09:43:30.540Z"
   },
   {
    "duration": 7,
    "start_time": "2022-04-22T09:43:31.885Z"
   },
   {
    "duration": 16,
    "start_time": "2022-04-22T09:43:32.586Z"
   },
   {
    "duration": 8,
    "start_time": "2022-04-22T09:43:33.137Z"
   },
   {
    "duration": 18,
    "start_time": "2022-04-22T09:43:34.206Z"
   },
   {
    "duration": 21,
    "start_time": "2022-04-22T09:43:35.051Z"
   },
   {
    "duration": 12,
    "start_time": "2022-04-22T09:43:36.964Z"
   },
   {
    "duration": 3,
    "start_time": "2022-04-22T09:44:23.569Z"
   },
   {
    "duration": 6,
    "start_time": "2022-04-22T09:44:24.395Z"
   },
   {
    "duration": 10,
    "start_time": "2022-04-22T09:44:28.830Z"
   },
   {
    "duration": 13,
    "start_time": "2022-04-22T09:44:31.487Z"
   },
   {
    "duration": 9,
    "start_time": "2022-04-22T09:44:51.515Z"
   },
   {
    "duration": 24,
    "start_time": "2022-04-22T09:44:53.827Z"
   },
   {
    "duration": 23,
    "start_time": "2022-04-22T09:44:57.288Z"
   },
   {
    "duration": 147,
    "start_time": "2022-04-22T09:44:59.045Z"
   },
   {
    "duration": 153,
    "start_time": "2022-04-22T09:45:04.939Z"
   },
   {
    "duration": 10,
    "start_time": "2022-04-22T09:45:06.588Z"
   },
   {
    "duration": 20,
    "start_time": "2022-04-22T09:45:08.051Z"
   },
   {
    "duration": 139,
    "start_time": "2022-04-22T09:45:28.561Z"
   },
   {
    "duration": 203,
    "start_time": "2022-04-22T09:45:32.243Z"
   },
   {
    "duration": 188,
    "start_time": "2022-04-22T09:45:37.031Z"
   },
   {
    "duration": 10,
    "start_time": "2022-04-22T09:45:41.974Z"
   },
   {
    "duration": 6,
    "start_time": "2022-04-22T09:45:44.397Z"
   },
   {
    "duration": 72,
    "start_time": "2022-04-22T09:48:59.324Z"
   },
   {
    "duration": 16,
    "start_time": "2022-04-22T09:49:20.513Z"
   },
   {
    "duration": 13,
    "start_time": "2022-04-22T09:49:29.787Z"
   },
   {
    "duration": 5,
    "start_time": "2022-04-22T09:49:45.473Z"
   },
   {
    "duration": 10,
    "start_time": "2022-04-22T09:58:36.328Z"
   },
   {
    "duration": 5,
    "start_time": "2022-04-22T09:59:54.833Z"
   },
   {
    "duration": 1250,
    "start_time": "2022-04-22T10:01:03.399Z"
   },
   {
    "duration": 466,
    "start_time": "2022-04-22T10:01:04.652Z"
   },
   {
    "duration": 16,
    "start_time": "2022-04-22T10:01:05.119Z"
   },
   {
    "duration": 15,
    "start_time": "2022-04-22T10:01:05.137Z"
   },
   {
    "duration": 26,
    "start_time": "2022-04-22T10:01:05.154Z"
   },
   {
    "duration": 13,
    "start_time": "2022-04-22T10:01:05.183Z"
   },
   {
    "duration": 30,
    "start_time": "2022-04-22T10:01:05.198Z"
   },
   {
    "duration": 17,
    "start_time": "2022-04-22T10:01:05.229Z"
   },
   {
    "duration": 11,
    "start_time": "2022-04-22T10:01:05.248Z"
   },
   {
    "duration": 27,
    "start_time": "2022-04-22T10:01:05.262Z"
   },
   {
    "duration": 15,
    "start_time": "2022-04-22T10:01:05.291Z"
   },
   {
    "duration": 149,
    "start_time": "2022-04-22T10:01:05.307Z"
   },
   {
    "duration": 10,
    "start_time": "2022-04-22T10:01:05.457Z"
   },
   {
    "duration": 28,
    "start_time": "2022-04-22T10:01:05.473Z"
   },
   {
    "duration": 14,
    "start_time": "2022-04-22T10:01:05.502Z"
   },
   {
    "duration": 10,
    "start_time": "2022-04-22T10:01:05.519Z"
   },
   {
    "duration": 9,
    "start_time": "2022-04-22T10:01:05.531Z"
   },
   {
    "duration": 12,
    "start_time": "2022-04-22T10:01:05.542Z"
   },
   {
    "duration": 44,
    "start_time": "2022-04-22T10:01:05.556Z"
   },
   {
    "duration": 11,
    "start_time": "2022-04-22T10:01:05.602Z"
   },
   {
    "duration": 106,
    "start_time": "2022-04-22T10:01:05.616Z"
   },
   {
    "duration": 37,
    "start_time": "2022-04-22T10:01:05.724Z"
   },
   {
    "duration": 36,
    "start_time": "2022-04-22T10:01:05.763Z"
   },
   {
    "duration": 187,
    "start_time": "2022-04-22T10:01:05.801Z"
   },
   {
    "duration": 19,
    "start_time": "2022-04-22T10:01:05.990Z"
   },
   {
    "duration": 80,
    "start_time": "2022-04-22T10:01:06.011Z"
   },
   {
    "duration": 25,
    "start_time": "2022-04-22T10:01:06.092Z"
   },
   {
    "duration": 9,
    "start_time": "2022-04-22T10:01:06.123Z"
   },
   {
    "duration": 68,
    "start_time": "2022-04-22T10:01:06.134Z"
   },
   {
    "duration": 25,
    "start_time": "2022-04-22T10:01:06.204Z"
   },
   {
    "duration": 61,
    "start_time": "2022-04-22T10:01:06.231Z"
   },
   {
    "duration": 12,
    "start_time": "2022-04-22T10:01:06.294Z"
   },
   {
    "duration": 31,
    "start_time": "2022-04-22T10:01:06.308Z"
   },
   {
    "duration": 51,
    "start_time": "2022-04-22T10:01:06.341Z"
   },
   {
    "duration": 26,
    "start_time": "2022-04-22T10:01:06.395Z"
   },
   {
    "duration": 5,
    "start_time": "2022-04-22T10:01:06.423Z"
   },
   {
    "duration": 9,
    "start_time": "2022-04-22T10:01:06.430Z"
   },
   {
    "duration": 36,
    "start_time": "2022-04-22T10:01:06.440Z"
   },
   {
    "duration": 17,
    "start_time": "2022-04-22T10:01:06.482Z"
   },
   {
    "duration": 31,
    "start_time": "2022-04-22T10:01:06.503Z"
   },
   {
    "duration": 69,
    "start_time": "2022-04-22T10:01:06.536Z"
   },
   {
    "duration": 178,
    "start_time": "2022-04-22T10:01:06.607Z"
   },
   {
    "duration": 15,
    "start_time": "2022-04-22T10:01:06.787Z"
   },
   {
    "duration": 9,
    "start_time": "2022-04-22T10:01:06.804Z"
   },
   {
    "duration": 18,
    "start_time": "2022-04-22T10:01:06.814Z"
   },
   {
    "duration": 14,
    "start_time": "2022-04-22T10:01:06.834Z"
   },
   {
    "duration": 31,
    "start_time": "2022-04-22T10:01:06.851Z"
   },
   {
    "duration": 158,
    "start_time": "2022-04-22T10:01:06.884Z"
   },
   {
    "duration": 4,
    "start_time": "2022-04-22T10:01:07.043Z"
   },
   {
    "duration": 126,
    "start_time": "2022-04-22T10:01:07.049Z"
   },
   {
    "duration": 12,
    "start_time": "2022-04-22T10:01:07.177Z"
   },
   {
    "duration": 8,
    "start_time": "2022-04-22T10:01:07.191Z"
   },
   {
    "duration": 54,
    "start_time": "2022-04-22T10:01:07.200Z"
   },
   {
    "duration": 21,
    "start_time": "2022-04-22T10:01:07.256Z"
   },
   {
    "duration": 12,
    "start_time": "2022-04-22T10:01:07.278Z"
   },
   {
    "duration": 46,
    "start_time": "2022-04-22T10:01:07.291Z"
   },
   {
    "duration": 8,
    "start_time": "2022-04-22T10:01:07.339Z"
   },
   {
    "duration": 42,
    "start_time": "2022-04-22T10:01:07.349Z"
   },
   {
    "duration": 46,
    "start_time": "2022-04-22T10:01:07.393Z"
   },
   {
    "duration": 9,
    "start_time": "2022-04-22T10:01:07.440Z"
   },
   {
    "duration": 6,
    "start_time": "2022-04-22T10:01:07.450Z"
   },
   {
    "duration": 9,
    "start_time": "2022-04-22T10:01:07.472Z"
   },
   {
    "duration": 32,
    "start_time": "2022-04-22T10:01:07.483Z"
   },
   {
    "duration": 12,
    "start_time": "2022-04-22T10:01:07.517Z"
   },
   {
    "duration": 9,
    "start_time": "2022-04-22T10:01:07.530Z"
   },
   {
    "duration": 14,
    "start_time": "2022-04-22T10:01:07.541Z"
   },
   {
    "duration": 26,
    "start_time": "2022-04-22T10:01:07.556Z"
   },
   {
    "duration": 12,
    "start_time": "2022-04-22T10:01:07.584Z"
   },
   {
    "duration": 11,
    "start_time": "2022-04-22T10:01:07.597Z"
   },
   {
    "duration": 12,
    "start_time": "2022-04-22T10:01:07.610Z"
   },
   {
    "duration": 20,
    "start_time": "2022-04-22T10:01:07.623Z"
   },
   {
    "duration": 5,
    "start_time": "2022-04-22T10:01:07.645Z"
   },
   {
    "duration": 26,
    "start_time": "2022-04-22T10:01:07.651Z"
   },
   {
    "duration": 17,
    "start_time": "2022-04-22T10:01:07.679Z"
   },
   {
    "duration": 29,
    "start_time": "2022-04-22T10:01:07.699Z"
   },
   {
    "duration": 15,
    "start_time": "2022-04-22T10:01:07.730Z"
   },
   {
    "duration": 31,
    "start_time": "2022-04-22T10:01:07.747Z"
   },
   {
    "duration": 15,
    "start_time": "2022-04-22T10:01:07.781Z"
   },
   {
    "duration": 13,
    "start_time": "2022-04-22T10:01:07.798Z"
   },
   {
    "duration": 10,
    "start_time": "2022-04-22T10:01:07.813Z"
   },
   {
    "duration": 11,
    "start_time": "2022-04-22T10:01:07.825Z"
   },
   {
    "duration": 9,
    "start_time": "2022-04-22T10:01:26.325Z"
   },
   {
    "duration": 24,
    "start_time": "2022-04-22T10:01:28.950Z"
   },
   {
    "duration": 26,
    "start_time": "2022-04-22T10:01:34.329Z"
   },
   {
    "duration": 151,
    "start_time": "2022-04-22T10:01:35.858Z"
   },
   {
    "duration": 10,
    "start_time": "2022-04-22T10:01:37.103Z"
   },
   {
    "duration": 23,
    "start_time": "2022-04-22T10:01:38.241Z"
   },
   {
    "duration": 168,
    "start_time": "2022-04-22T10:01:40.918Z"
   },
   {
    "duration": 229,
    "start_time": "2022-04-22T10:01:42.729Z"
   },
   {
    "duration": 1317,
    "start_time": "2022-04-22T10:02:21.646Z"
   },
   {
    "duration": 462,
    "start_time": "2022-04-22T10:02:22.965Z"
   },
   {
    "duration": 19,
    "start_time": "2022-04-22T10:02:23.429Z"
   },
   {
    "duration": 27,
    "start_time": "2022-04-22T10:02:23.450Z"
   },
   {
    "duration": 23,
    "start_time": "2022-04-22T10:02:23.481Z"
   },
   {
    "duration": 9,
    "start_time": "2022-04-22T10:02:23.505Z"
   },
   {
    "duration": 26,
    "start_time": "2022-04-22T10:02:23.516Z"
   },
   {
    "duration": 7,
    "start_time": "2022-04-22T10:02:23.544Z"
   },
   {
    "duration": 21,
    "start_time": "2022-04-22T10:02:23.553Z"
   },
   {
    "duration": 29,
    "start_time": "2022-04-22T10:02:23.583Z"
   },
   {
    "duration": 16,
    "start_time": "2022-04-22T10:02:23.615Z"
   },
   {
    "duration": 159,
    "start_time": "2022-04-22T10:02:23.633Z"
   },
   {
    "duration": 11,
    "start_time": "2022-04-22T10:02:23.794Z"
   },
   {
    "duration": 17,
    "start_time": "2022-04-22T10:02:23.809Z"
   },
   {
    "duration": 9,
    "start_time": "2022-04-22T10:02:23.828Z"
   },
   {
    "duration": 13,
    "start_time": "2022-04-22T10:02:23.839Z"
   },
   {
    "duration": 32,
    "start_time": "2022-04-22T10:02:23.854Z"
   },
   {
    "duration": 19,
    "start_time": "2022-04-22T10:02:23.887Z"
   },
   {
    "duration": 28,
    "start_time": "2022-04-22T10:02:23.909Z"
   },
   {
    "duration": 12,
    "start_time": "2022-04-22T10:02:23.939Z"
   },
   {
    "duration": 106,
    "start_time": "2022-04-22T10:02:23.953Z"
   },
   {
    "duration": 56,
    "start_time": "2022-04-22T10:02:24.061Z"
   },
   {
    "duration": 21,
    "start_time": "2022-04-22T10:02:24.119Z"
   },
   {
    "duration": 186,
    "start_time": "2022-04-22T10:02:24.141Z"
   },
   {
    "duration": 17,
    "start_time": "2022-04-22T10:02:24.329Z"
   },
   {
    "duration": 79,
    "start_time": "2022-04-22T10:02:24.347Z"
   },
   {
    "duration": 21,
    "start_time": "2022-04-22T10:02:24.428Z"
   },
   {
    "duration": 28,
    "start_time": "2022-04-22T10:02:24.452Z"
   },
   {
    "duration": 53,
    "start_time": "2022-04-22T10:02:24.482Z"
   },
   {
    "duration": 24,
    "start_time": "2022-04-22T10:02:24.537Z"
   },
   {
    "duration": 40,
    "start_time": "2022-04-22T10:02:24.563Z"
   },
   {
    "duration": 11,
    "start_time": "2022-04-22T10:02:24.605Z"
   },
   {
    "duration": 26,
    "start_time": "2022-04-22T10:02:24.617Z"
   },
   {
    "duration": 32,
    "start_time": "2022-04-22T10:02:24.673Z"
   },
   {
    "duration": 32,
    "start_time": "2022-04-22T10:02:24.707Z"
   },
   {
    "duration": 6,
    "start_time": "2022-04-22T10:02:24.742Z"
   },
   {
    "duration": 30,
    "start_time": "2022-04-22T10:02:24.750Z"
   },
   {
    "duration": 14,
    "start_time": "2022-04-22T10:02:24.783Z"
   },
   {
    "duration": 11,
    "start_time": "2022-04-22T10:02:24.799Z"
   },
   {
    "duration": 25,
    "start_time": "2022-04-22T10:02:24.812Z"
   },
   {
    "duration": 74,
    "start_time": "2022-04-22T10:02:24.842Z"
   },
   {
    "duration": 197,
    "start_time": "2022-04-22T10:02:24.918Z"
   },
   {
    "duration": 15,
    "start_time": "2022-04-22T10:02:25.117Z"
   },
   {
    "duration": 12,
    "start_time": "2022-04-22T10:02:25.134Z"
   },
   {
    "duration": 47,
    "start_time": "2022-04-22T10:02:25.148Z"
   },
   {
    "duration": 19,
    "start_time": "2022-04-22T10:02:25.197Z"
   },
   {
    "duration": 11,
    "start_time": "2022-04-22T10:02:25.218Z"
   },
   {
    "duration": 159,
    "start_time": "2022-04-22T10:02:25.231Z"
   },
   {
    "duration": 3,
    "start_time": "2022-04-22T10:02:25.393Z"
   },
   {
    "duration": 130,
    "start_time": "2022-04-22T10:02:25.398Z"
   },
   {
    "duration": 11,
    "start_time": "2022-04-22T10:02:25.529Z"
   },
   {
    "duration": 16,
    "start_time": "2022-04-22T10:02:25.542Z"
   },
   {
    "duration": 64,
    "start_time": "2022-04-22T10:02:25.560Z"
   },
   {
    "duration": 3,
    "start_time": "2022-04-22T10:02:25.626Z"
   },
   {
    "duration": 15,
    "start_time": "2022-04-22T10:02:25.631Z"
   },
   {
    "duration": 91,
    "start_time": "2022-04-22T10:02:25.648Z"
   },
   {
    "duration": 10,
    "start_time": "2022-04-22T10:02:25.741Z"
   },
   {
    "duration": 23,
    "start_time": "2022-04-22T10:02:25.753Z"
   },
   {
    "duration": 62,
    "start_time": "2022-04-22T10:02:25.779Z"
   },
   {
    "duration": 10,
    "start_time": "2022-04-22T10:02:25.842Z"
   },
   {
    "duration": 7,
    "start_time": "2022-04-22T10:02:25.854Z"
   },
   {
    "duration": 36,
    "start_time": "2022-04-22T10:02:25.862Z"
   },
   {
    "duration": 14,
    "start_time": "2022-04-22T10:02:25.900Z"
   },
   {
    "duration": 10,
    "start_time": "2022-04-22T10:02:25.915Z"
   },
   {
    "duration": 12,
    "start_time": "2022-04-22T10:02:25.927Z"
   },
   {
    "duration": 41,
    "start_time": "2022-04-22T10:02:25.941Z"
   },
   {
    "duration": 13,
    "start_time": "2022-04-22T10:02:25.984Z"
   },
   {
    "duration": 11,
    "start_time": "2022-04-22T10:02:25.998Z"
   },
   {
    "duration": 10,
    "start_time": "2022-04-22T10:02:26.011Z"
   },
   {
    "duration": 20,
    "start_time": "2022-04-22T10:02:26.023Z"
   },
   {
    "duration": 8,
    "start_time": "2022-04-22T10:02:26.045Z"
   },
   {
    "duration": 28,
    "start_time": "2022-04-22T10:02:26.055Z"
   },
   {
    "duration": 15,
    "start_time": "2022-04-22T10:02:26.086Z"
   },
   {
    "duration": 38,
    "start_time": "2022-04-22T10:02:26.104Z"
   },
   {
    "duration": 35,
    "start_time": "2022-04-22T10:02:26.144Z"
   },
   {
    "duration": 12,
    "start_time": "2022-04-22T10:02:26.182Z"
   },
   {
    "duration": 6,
    "start_time": "2022-04-22T10:02:26.197Z"
   },
   {
    "duration": 12,
    "start_time": "2022-04-22T10:02:26.206Z"
   },
   {
    "duration": 16,
    "start_time": "2022-04-22T10:02:26.220Z"
   },
   {
    "duration": 17,
    "start_time": "2022-04-22T10:02:26.238Z"
   },
   {
    "duration": 32,
    "start_time": "2022-04-22T10:02:26.257Z"
   },
   {
    "duration": 26,
    "start_time": "2022-04-22T10:02:26.291Z"
   },
   {
    "duration": 25,
    "start_time": "2022-04-22T10:02:26.319Z"
   },
   {
    "duration": 168,
    "start_time": "2022-04-22T10:02:26.345Z"
   },
   {
    "duration": 13,
    "start_time": "2022-04-22T10:02:26.516Z"
   },
   {
    "duration": 51,
    "start_time": "2022-04-22T10:02:26.532Z"
   },
   {
    "duration": 152,
    "start_time": "2022-04-22T10:02:26.585Z"
   },
   {
    "duration": 221,
    "start_time": "2022-04-22T10:02:26.739Z"
   },
   {
    "duration": 197,
    "start_time": "2022-04-22T10:02:33.561Z"
   },
   {
    "duration": 7,
    "start_time": "2022-04-22T10:02:36.269Z"
   },
   {
    "duration": 7,
    "start_time": "2022-04-22T10:02:37.044Z"
   },
   {
    "duration": 5,
    "start_time": "2022-04-22T10:02:56.642Z"
   },
   {
    "duration": 1571,
    "start_time": "2022-04-22T10:04:26.197Z"
   },
   {
    "duration": 13,
    "start_time": "2022-04-22T10:04:58.504Z"
   },
   {
    "duration": 11,
    "start_time": "2022-04-22T10:06:30.470Z"
   },
   {
    "duration": 10,
    "start_time": "2022-04-22T11:20:36.452Z"
   },
   {
    "duration": 1250,
    "start_time": "2022-04-22T11:22:19.679Z"
   },
   {
    "duration": 418,
    "start_time": "2022-04-22T11:22:20.931Z"
   },
   {
    "duration": 15,
    "start_time": "2022-04-22T11:22:21.351Z"
   },
   {
    "duration": 13,
    "start_time": "2022-04-22T11:22:21.368Z"
   },
   {
    "duration": 12,
    "start_time": "2022-04-22T11:22:21.383Z"
   },
   {
    "duration": 13,
    "start_time": "2022-04-22T11:22:21.396Z"
   },
   {
    "duration": 29,
    "start_time": "2022-04-22T11:22:21.411Z"
   },
   {
    "duration": 10,
    "start_time": "2022-04-22T11:22:21.442Z"
   },
   {
    "duration": 19,
    "start_time": "2022-04-22T11:22:21.454Z"
   },
   {
    "duration": 13,
    "start_time": "2022-04-22T11:22:21.476Z"
   },
   {
    "duration": 16,
    "start_time": "2022-04-22T11:22:21.491Z"
   },
   {
    "duration": 164,
    "start_time": "2022-04-22T11:22:21.509Z"
   },
   {
    "duration": 10,
    "start_time": "2022-04-22T11:22:21.674Z"
   },
   {
    "duration": 10,
    "start_time": "2022-04-22T11:22:21.687Z"
   },
   {
    "duration": 10,
    "start_time": "2022-04-22T11:22:21.699Z"
   },
   {
    "duration": 8,
    "start_time": "2022-04-22T11:22:21.711Z"
   },
   {
    "duration": 10,
    "start_time": "2022-04-22T11:22:21.721Z"
   },
   {
    "duration": 11,
    "start_time": "2022-04-22T11:22:21.733Z"
   },
   {
    "duration": 27,
    "start_time": "2022-04-22T11:22:21.773Z"
   },
   {
    "duration": 10,
    "start_time": "2022-04-22T11:22:21.802Z"
   },
   {
    "duration": 116,
    "start_time": "2022-04-22T11:22:21.814Z"
   },
   {
    "duration": 43,
    "start_time": "2022-04-22T11:22:21.931Z"
   },
   {
    "duration": 21,
    "start_time": "2022-04-22T11:22:21.976Z"
   },
   {
    "duration": 189,
    "start_time": "2022-04-22T11:22:21.998Z"
   },
   {
    "duration": 22,
    "start_time": "2022-04-22T11:22:22.188Z"
   },
   {
    "duration": 79,
    "start_time": "2022-04-22T11:22:22.212Z"
   },
   {
    "duration": 21,
    "start_time": "2022-04-22T11:22:22.293Z"
   },
   {
    "duration": 8,
    "start_time": "2022-04-22T11:22:22.316Z"
   },
   {
    "duration": 65,
    "start_time": "2022-04-22T11:22:22.326Z"
   },
   {
    "duration": 29,
    "start_time": "2022-04-22T11:22:22.393Z"
   },
   {
    "duration": 55,
    "start_time": "2022-04-22T11:22:22.424Z"
   },
   {
    "duration": 12,
    "start_time": "2022-04-22T11:22:22.481Z"
   },
   {
    "duration": 36,
    "start_time": "2022-04-22T11:22:22.496Z"
   },
   {
    "duration": 47,
    "start_time": "2022-04-22T11:22:22.534Z"
   },
   {
    "duration": 38,
    "start_time": "2022-04-22T11:22:22.583Z"
   },
   {
    "duration": 6,
    "start_time": "2022-04-22T11:22:22.623Z"
   },
   {
    "duration": 18,
    "start_time": "2022-04-22T11:22:22.631Z"
   },
   {
    "duration": 26,
    "start_time": "2022-04-22T11:22:22.651Z"
   },
   {
    "duration": 11,
    "start_time": "2022-04-22T11:22:22.680Z"
   },
   {
    "duration": 38,
    "start_time": "2022-04-22T11:22:22.694Z"
   },
   {
    "duration": 69,
    "start_time": "2022-04-22T11:22:22.739Z"
   },
   {
    "duration": 177,
    "start_time": "2022-04-22T11:22:22.811Z"
   },
   {
    "duration": 16,
    "start_time": "2022-04-22T11:22:22.990Z"
   },
   {
    "duration": 21,
    "start_time": "2022-04-22T11:22:23.007Z"
   },
   {
    "duration": 13,
    "start_time": "2022-04-22T11:22:23.030Z"
   },
   {
    "duration": 20,
    "start_time": "2022-04-22T11:22:23.045Z"
   },
   {
    "duration": 14,
    "start_time": "2022-04-22T11:22:23.073Z"
   },
   {
    "duration": 157,
    "start_time": "2022-04-22T11:22:23.089Z"
   },
   {
    "duration": 3,
    "start_time": "2022-04-22T11:22:23.249Z"
   },
   {
    "duration": 129,
    "start_time": "2022-04-22T11:22:23.253Z"
   },
   {
    "duration": 11,
    "start_time": "2022-04-22T11:22:23.384Z"
   },
   {
    "duration": 12,
    "start_time": "2022-04-22T11:22:23.397Z"
   },
   {
    "duration": 66,
    "start_time": "2022-04-22T11:22:23.410Z"
   },
   {
    "duration": 3,
    "start_time": "2022-04-22T11:22:23.478Z"
   },
   {
    "duration": 19,
    "start_time": "2022-04-22T11:22:23.482Z"
   },
   {
    "duration": 61,
    "start_time": "2022-04-22T11:22:23.503Z"
   },
   {
    "duration": 9,
    "start_time": "2022-04-22T11:22:23.566Z"
   },
   {
    "duration": 14,
    "start_time": "2022-04-22T11:22:23.577Z"
   },
   {
    "duration": 51,
    "start_time": "2022-04-22T11:22:23.592Z"
   },
   {
    "duration": 8,
    "start_time": "2022-04-22T11:22:23.645Z"
   },
   {
    "duration": 18,
    "start_time": "2022-04-22T11:22:23.655Z"
   },
   {
    "duration": 11,
    "start_time": "2022-04-22T11:22:23.675Z"
   },
   {
    "duration": 27,
    "start_time": "2022-04-22T11:22:23.688Z"
   },
   {
    "duration": 11,
    "start_time": "2022-04-22T11:22:23.717Z"
   },
   {
    "duration": 10,
    "start_time": "2022-04-22T11:22:23.730Z"
   },
   {
    "duration": 33,
    "start_time": "2022-04-22T11:22:23.742Z"
   },
   {
    "duration": 8,
    "start_time": "2022-04-22T11:22:23.777Z"
   },
   {
    "duration": 11,
    "start_time": "2022-04-22T11:22:23.787Z"
   },
   {
    "duration": 24,
    "start_time": "2022-04-22T11:22:23.800Z"
   },
   {
    "duration": 21,
    "start_time": "2022-04-22T11:22:23.825Z"
   },
   {
    "duration": 18,
    "start_time": "2022-04-22T11:22:23.848Z"
   },
   {
    "duration": 11,
    "start_time": "2022-04-22T11:22:23.868Z"
   },
   {
    "duration": 25,
    "start_time": "2022-04-22T11:22:23.880Z"
   },
   {
    "duration": 17,
    "start_time": "2022-04-22T11:22:23.907Z"
   },
   {
    "duration": 28,
    "start_time": "2022-04-22T11:22:23.926Z"
   },
   {
    "duration": 23,
    "start_time": "2022-04-22T11:22:23.956Z"
   },
   {
    "duration": 14,
    "start_time": "2022-04-22T11:22:23.981Z"
   },
   {
    "duration": 32,
    "start_time": "2022-04-22T11:22:23.997Z"
   },
   {
    "duration": 14,
    "start_time": "2022-04-22T11:22:24.031Z"
   },
   {
    "duration": 11,
    "start_time": "2022-04-22T11:22:24.047Z"
   },
   {
    "duration": 12,
    "start_time": "2022-04-22T11:22:24.060Z"
   },
   {
    "duration": 8,
    "start_time": "2022-04-22T11:22:24.074Z"
   },
   {
    "duration": 25,
    "start_time": "2022-04-22T11:22:24.084Z"
   },
   {
    "duration": 35,
    "start_time": "2022-04-22T11:22:24.111Z"
   },
   {
    "duration": 137,
    "start_time": "2022-04-22T11:22:24.148Z"
   },
   {
    "duration": 9,
    "start_time": "2022-04-22T11:22:24.287Z"
   },
   {
    "duration": 26,
    "start_time": "2022-04-22T11:22:24.298Z"
   },
   {
    "duration": 149,
    "start_time": "2022-04-22T11:22:24.327Z"
   },
   {
    "duration": 221,
    "start_time": "2022-04-22T11:22:24.478Z"
   },
   {
    "duration": 198,
    "start_time": "2022-04-22T11:22:24.702Z"
   },
   {
    "duration": 7,
    "start_time": "2022-04-22T11:22:24.902Z"
   },
   {
    "duration": 17,
    "start_time": "2022-04-22T11:22:24.911Z"
   },
   {
    "duration": 4,
    "start_time": "2022-04-22T11:23:59.397Z"
   },
   {
    "duration": 7,
    "start_time": "2022-04-22T11:24:09.163Z"
   },
   {
    "duration": 5,
    "start_time": "2022-04-22T11:24:19.093Z"
   },
   {
    "duration": 1247,
    "start_time": "2022-04-22T11:25:15.790Z"
   },
   {
    "duration": 409,
    "start_time": "2022-04-22T11:25:17.039Z"
   },
   {
    "duration": 20,
    "start_time": "2022-04-22T11:25:17.449Z"
   },
   {
    "duration": 12,
    "start_time": "2022-04-22T11:25:17.472Z"
   },
   {
    "duration": 13,
    "start_time": "2022-04-22T11:25:17.485Z"
   },
   {
    "duration": 9,
    "start_time": "2022-04-22T11:25:17.499Z"
   },
   {
    "duration": 27,
    "start_time": "2022-04-22T11:25:17.510Z"
   },
   {
    "duration": 12,
    "start_time": "2022-04-22T11:25:17.539Z"
   },
   {
    "duration": 22,
    "start_time": "2022-04-22T11:25:17.553Z"
   },
   {
    "duration": 26,
    "start_time": "2022-04-22T11:25:17.578Z"
   },
   {
    "duration": 14,
    "start_time": "2022-04-22T11:25:17.606Z"
   },
   {
    "duration": 146,
    "start_time": "2022-04-22T11:25:17.622Z"
   },
   {
    "duration": 11,
    "start_time": "2022-04-22T11:25:17.769Z"
   },
   {
    "duration": 21,
    "start_time": "2022-04-22T11:25:17.781Z"
   },
   {
    "duration": 24,
    "start_time": "2022-04-22T11:25:17.804Z"
   },
   {
    "duration": 13,
    "start_time": "2022-04-22T11:25:17.830Z"
   },
   {
    "duration": 21,
    "start_time": "2022-04-22T11:25:17.845Z"
   },
   {
    "duration": 19,
    "start_time": "2022-04-22T11:25:17.868Z"
   },
   {
    "duration": 35,
    "start_time": "2022-04-22T11:25:17.888Z"
   },
   {
    "duration": 11,
    "start_time": "2022-04-22T11:25:17.924Z"
   },
   {
    "duration": 102,
    "start_time": "2022-04-22T11:25:17.936Z"
   },
   {
    "duration": 47,
    "start_time": "2022-04-22T11:25:18.039Z"
   },
   {
    "duration": 20,
    "start_time": "2022-04-22T11:25:18.088Z"
   },
   {
    "duration": 178,
    "start_time": "2022-04-22T11:25:18.110Z"
   },
   {
    "duration": 18,
    "start_time": "2022-04-22T11:25:18.289Z"
   },
   {
    "duration": 82,
    "start_time": "2022-04-22T11:25:18.309Z"
   },
   {
    "duration": 20,
    "start_time": "2022-04-22T11:25:18.393Z"
   },
   {
    "duration": 11,
    "start_time": "2022-04-22T11:25:18.418Z"
   },
   {
    "duration": 67,
    "start_time": "2022-04-22T11:25:18.430Z"
   },
   {
    "duration": 23,
    "start_time": "2022-04-22T11:25:18.498Z"
   },
   {
    "duration": 54,
    "start_time": "2022-04-22T11:25:18.523Z"
   },
   {
    "duration": 10,
    "start_time": "2022-04-22T11:25:18.579Z"
   },
   {
    "duration": 25,
    "start_time": "2022-04-22T11:25:18.591Z"
   },
   {
    "duration": 26,
    "start_time": "2022-04-22T11:25:18.618Z"
   },
   {
    "duration": 25,
    "start_time": "2022-04-22T11:25:18.674Z"
   },
   {
    "duration": 13,
    "start_time": "2022-04-22T11:25:18.700Z"
   },
   {
    "duration": 8,
    "start_time": "2022-04-22T11:25:18.714Z"
   },
   {
    "duration": 22,
    "start_time": "2022-04-22T11:25:18.723Z"
   },
   {
    "duration": 36,
    "start_time": "2022-04-22T11:25:18.746Z"
   },
   {
    "duration": 27,
    "start_time": "2022-04-22T11:25:18.783Z"
   },
   {
    "duration": 49,
    "start_time": "2022-04-22T11:25:18.812Z"
   },
   {
    "duration": 176,
    "start_time": "2022-04-22T11:25:18.862Z"
   },
   {
    "duration": 14,
    "start_time": "2022-04-22T11:25:19.039Z"
   },
   {
    "duration": 19,
    "start_time": "2022-04-22T11:25:19.055Z"
   },
   {
    "duration": 17,
    "start_time": "2022-04-22T11:25:19.076Z"
   },
   {
    "duration": 31,
    "start_time": "2022-04-22T11:25:19.095Z"
   },
   {
    "duration": 16,
    "start_time": "2022-04-22T11:25:19.128Z"
   },
   {
    "duration": 10,
    "start_time": "2022-04-22T11:25:19.146Z"
   },
   {
    "duration": 149,
    "start_time": "2022-04-22T11:25:19.157Z"
   },
   {
    "duration": 4,
    "start_time": "2022-04-22T11:25:19.307Z"
   },
   {
    "duration": 127,
    "start_time": "2022-04-22T11:25:19.312Z"
   },
   {
    "duration": 10,
    "start_time": "2022-04-22T11:25:19.441Z"
   },
   {
    "duration": 21,
    "start_time": "2022-04-22T11:25:19.452Z"
   },
   {
    "duration": 50,
    "start_time": "2022-04-22T11:25:19.475Z"
   },
   {
    "duration": 3,
    "start_time": "2022-04-22T11:25:19.526Z"
   },
   {
    "duration": 10,
    "start_time": "2022-04-22T11:25:19.531Z"
   },
   {
    "duration": 69,
    "start_time": "2022-04-22T11:25:19.543Z"
   },
   {
    "duration": 7,
    "start_time": "2022-04-22T11:25:19.614Z"
   },
   {
    "duration": 9,
    "start_time": "2022-04-22T11:25:19.622Z"
   },
   {
    "duration": 71,
    "start_time": "2022-04-22T11:25:19.633Z"
   },
   {
    "duration": 8,
    "start_time": "2022-04-22T11:25:19.706Z"
   },
   {
    "duration": 1466,
    "start_time": "2022-04-22T11:25:19.716Z"
   },
   {
    "duration": 0,
    "start_time": "2022-04-22T11:25:21.184Z"
   },
   {
    "duration": 0,
    "start_time": "2022-04-22T11:25:21.186Z"
   },
   {
    "duration": 0,
    "start_time": "2022-04-22T11:25:21.187Z"
   },
   {
    "duration": 0,
    "start_time": "2022-04-22T11:25:21.189Z"
   },
   {
    "duration": 0,
    "start_time": "2022-04-22T11:25:21.190Z"
   },
   {
    "duration": 0,
    "start_time": "2022-04-22T11:25:21.191Z"
   },
   {
    "duration": 0,
    "start_time": "2022-04-22T11:25:21.192Z"
   },
   {
    "duration": 0,
    "start_time": "2022-04-22T11:25:21.193Z"
   },
   {
    "duration": 0,
    "start_time": "2022-04-22T11:25:21.194Z"
   },
   {
    "duration": 0,
    "start_time": "2022-04-22T11:25:21.195Z"
   },
   {
    "duration": 0,
    "start_time": "2022-04-22T11:25:21.197Z"
   },
   {
    "duration": 0,
    "start_time": "2022-04-22T11:25:21.198Z"
   },
   {
    "duration": 0,
    "start_time": "2022-04-22T11:25:21.199Z"
   },
   {
    "duration": 0,
    "start_time": "2022-04-22T11:25:21.200Z"
   },
   {
    "duration": 0,
    "start_time": "2022-04-22T11:25:21.201Z"
   },
   {
    "duration": 0,
    "start_time": "2022-04-22T11:25:21.202Z"
   },
   {
    "duration": 0,
    "start_time": "2022-04-22T11:25:21.203Z"
   },
   {
    "duration": 0,
    "start_time": "2022-04-22T11:25:21.204Z"
   },
   {
    "duration": 0,
    "start_time": "2022-04-22T11:25:21.205Z"
   },
   {
    "duration": 0,
    "start_time": "2022-04-22T11:25:21.206Z"
   },
   {
    "duration": 0,
    "start_time": "2022-04-22T11:25:21.207Z"
   },
   {
    "duration": 0,
    "start_time": "2022-04-22T11:25:21.208Z"
   },
   {
    "duration": 0,
    "start_time": "2022-04-22T11:25:21.209Z"
   },
   {
    "duration": 0,
    "start_time": "2022-04-22T11:25:21.210Z"
   },
   {
    "duration": 0,
    "start_time": "2022-04-22T11:25:21.211Z"
   },
   {
    "duration": 0,
    "start_time": "2022-04-22T11:25:21.212Z"
   },
   {
    "duration": 0,
    "start_time": "2022-04-22T11:25:21.213Z"
   },
   {
    "duration": 0,
    "start_time": "2022-04-22T11:25:21.214Z"
   },
   {
    "duration": 0,
    "start_time": "2022-04-22T11:25:21.215Z"
   },
   {
    "duration": 0,
    "start_time": "2022-04-22T11:25:21.216Z"
   },
   {
    "duration": 1453,
    "start_time": "2022-04-22T11:25:34.455Z"
   },
   {
    "duration": 22,
    "start_time": "2022-04-22T11:25:49.349Z"
   },
   {
    "duration": 13,
    "start_time": "2022-04-22T11:25:49.829Z"
   },
   {
    "duration": 7,
    "start_time": "2022-04-22T11:25:50.891Z"
   },
   {
    "duration": 14,
    "start_time": "2022-04-22T11:25:51.277Z"
   },
   {
    "duration": 8,
    "start_time": "2022-04-22T11:25:51.592Z"
   },
   {
    "duration": 3,
    "start_time": "2022-04-22T11:25:53.046Z"
   },
   {
    "duration": 6,
    "start_time": "2022-04-22T11:25:55.464Z"
   },
   {
    "duration": 8,
    "start_time": "2022-04-22T11:25:56.271Z"
   },
   {
    "duration": 25,
    "start_time": "2022-04-22T11:25:56.653Z"
   },
   {
    "duration": 5,
    "start_time": "2022-04-22T11:25:57.783Z"
   },
   {
    "duration": 16,
    "start_time": "2022-04-22T11:25:58.040Z"
   },
   {
    "duration": 8,
    "start_time": "2022-04-22T11:25:58.243Z"
   },
   {
    "duration": 17,
    "start_time": "2022-04-22T11:25:58.476Z"
   },
   {
    "duration": 15,
    "start_time": "2022-04-22T11:25:58.689Z"
   },
   {
    "duration": 10,
    "start_time": "2022-04-22T11:25:59.482Z"
   },
   {
    "duration": 4,
    "start_time": "2022-04-22T11:26:00.732Z"
   },
   {
    "duration": 8,
    "start_time": "2022-04-22T11:26:00.981Z"
   },
   {
    "duration": 17,
    "start_time": "2022-04-22T11:26:02.041Z"
   },
   {
    "duration": 1681,
    "start_time": "2022-04-22T11:26:02.374Z"
   },
   {
    "duration": 0,
    "start_time": "2022-04-22T11:26:04.058Z"
   },
   {
    "duration": 383,
    "start_time": "2022-04-22T11:26:54.590Z"
   },
   {
    "duration": 3,
    "start_time": "2022-04-22T11:27:05.334Z"
   },
   {
    "duration": 21,
    "start_time": "2022-04-22T11:27:07.465Z"
   },
   {
    "duration": 13,
    "start_time": "2022-04-22T11:27:08.293Z"
   },
   {
    "duration": 6,
    "start_time": "2022-04-22T11:27:12.777Z"
   },
   {
    "duration": 12,
    "start_time": "2022-04-22T11:27:12.975Z"
   },
   {
    "duration": 6,
    "start_time": "2022-04-22T11:27:13.175Z"
   },
   {
    "duration": 4,
    "start_time": "2022-04-22T11:27:13.621Z"
   },
   {
    "duration": 7,
    "start_time": "2022-04-22T11:27:13.858Z"
   },
   {
    "duration": 7,
    "start_time": "2022-04-22T11:27:14.288Z"
   },
   {
    "duration": 17,
    "start_time": "2022-04-22T11:27:14.505Z"
   },
   {
    "duration": 5,
    "start_time": "2022-04-22T11:27:15.230Z"
   },
   {
    "duration": 17,
    "start_time": "2022-04-22T11:27:15.582Z"
   },
   {
    "duration": 8,
    "start_time": "2022-04-22T11:27:15.974Z"
   },
   {
    "duration": 21,
    "start_time": "2022-04-22T11:27:16.350Z"
   },
   {
    "duration": 13,
    "start_time": "2022-04-22T11:27:16.731Z"
   },
   {
    "duration": 7,
    "start_time": "2022-04-22T11:27:17.894Z"
   },
   {
    "duration": 3,
    "start_time": "2022-04-22T11:27:19.225Z"
   },
   {
    "duration": 7,
    "start_time": "2022-04-22T11:27:19.462Z"
   },
   {
    "duration": 10,
    "start_time": "2022-04-22T11:27:21.095Z"
   },
   {
    "duration": 1234,
    "start_time": "2022-04-22T11:27:37.603Z"
   },
   {
    "duration": 416,
    "start_time": "2022-04-22T11:27:38.839Z"
   },
   {
    "duration": 15,
    "start_time": "2022-04-22T11:27:39.257Z"
   },
   {
    "duration": 12,
    "start_time": "2022-04-22T11:27:39.275Z"
   },
   {
    "duration": 6,
    "start_time": "2022-04-22T11:27:39.289Z"
   },
   {
    "duration": 10,
    "start_time": "2022-04-22T11:27:39.296Z"
   },
   {
    "duration": 25,
    "start_time": "2022-04-22T11:27:39.307Z"
   },
   {
    "duration": 40,
    "start_time": "2022-04-22T11:27:39.334Z"
   },
   {
    "duration": 7,
    "start_time": "2022-04-22T11:27:39.377Z"
   },
   {
    "duration": 14,
    "start_time": "2022-04-22T11:27:39.387Z"
   },
   {
    "duration": 16,
    "start_time": "2022-04-22T11:27:39.403Z"
   },
   {
    "duration": 156,
    "start_time": "2022-04-22T11:27:39.421Z"
   },
   {
    "duration": 10,
    "start_time": "2022-04-22T11:27:39.579Z"
   },
   {
    "duration": 11,
    "start_time": "2022-04-22T11:27:39.590Z"
   },
   {
    "duration": 7,
    "start_time": "2022-04-22T11:27:39.603Z"
   },
   {
    "duration": 6,
    "start_time": "2022-04-22T11:27:39.612Z"
   },
   {
    "duration": 6,
    "start_time": "2022-04-22T11:27:39.620Z"
   },
   {
    "duration": 10,
    "start_time": "2022-04-22T11:27:39.628Z"
   },
   {
    "duration": 53,
    "start_time": "2022-04-22T11:27:39.640Z"
   },
   {
    "duration": 11,
    "start_time": "2022-04-22T11:27:39.695Z"
   },
   {
    "duration": 106,
    "start_time": "2022-04-22T11:27:39.707Z"
   },
   {
    "duration": 38,
    "start_time": "2022-04-22T11:27:39.816Z"
   },
   {
    "duration": 33,
    "start_time": "2022-04-22T11:27:39.856Z"
   },
   {
    "duration": 161,
    "start_time": "2022-04-22T11:27:39.890Z"
   },
   {
    "duration": 26,
    "start_time": "2022-04-22T11:27:40.053Z"
   },
   {
    "duration": 61,
    "start_time": "2022-04-22T11:27:40.082Z"
   },
   {
    "duration": 36,
    "start_time": "2022-04-22T11:27:40.145Z"
   },
   {
    "duration": 9,
    "start_time": "2022-04-22T11:27:40.185Z"
   },
   {
    "duration": 35,
    "start_time": "2022-04-22T11:27:40.196Z"
   },
   {
    "duration": 43,
    "start_time": "2022-04-22T11:27:40.233Z"
   },
   {
    "duration": 35,
    "start_time": "2022-04-22T11:27:40.278Z"
   },
   {
    "duration": 10,
    "start_time": "2022-04-22T11:27:40.315Z"
   },
   {
    "duration": 25,
    "start_time": "2022-04-22T11:27:40.326Z"
   },
   {
    "duration": 27,
    "start_time": "2022-04-22T11:27:40.374Z"
   },
   {
    "duration": 35,
    "start_time": "2022-04-22T11:27:40.403Z"
   },
   {
    "duration": 5,
    "start_time": "2022-04-22T11:27:40.440Z"
   },
   {
    "duration": 14,
    "start_time": "2022-04-22T11:27:40.447Z"
   },
   {
    "duration": 14,
    "start_time": "2022-04-22T11:27:40.472Z"
   },
   {
    "duration": 10,
    "start_time": "2022-04-22T11:27:40.488Z"
   },
   {
    "duration": 20,
    "start_time": "2022-04-22T11:27:40.500Z"
   },
   {
    "duration": 69,
    "start_time": "2022-04-22T11:27:40.522Z"
   },
   {
    "duration": 162,
    "start_time": "2022-04-22T11:27:40.593Z"
   },
   {
    "duration": 23,
    "start_time": "2022-04-22T11:27:40.757Z"
   },
   {
    "duration": 7,
    "start_time": "2022-04-22T11:27:40.782Z"
   },
   {
    "duration": 6,
    "start_time": "2022-04-22T11:27:40.791Z"
   },
   {
    "duration": 13,
    "start_time": "2022-04-22T11:27:40.798Z"
   },
   {
    "duration": 9,
    "start_time": "2022-04-22T11:27:40.812Z"
   },
   {
    "duration": 3,
    "start_time": "2022-04-22T11:27:40.823Z"
   },
   {
    "duration": 183,
    "start_time": "2022-04-22T11:27:40.828Z"
   },
   {
    "duration": 3,
    "start_time": "2022-04-22T11:27:41.013Z"
   },
   {
    "duration": 132,
    "start_time": "2022-04-22T11:27:41.018Z"
   },
   {
    "duration": 10,
    "start_time": "2022-04-22T11:27:41.151Z"
   },
   {
    "duration": 11,
    "start_time": "2022-04-22T11:27:41.163Z"
   },
   {
    "duration": 53,
    "start_time": "2022-04-22T11:27:41.175Z"
   },
   {
    "duration": 3,
    "start_time": "2022-04-22T11:27:41.230Z"
   },
   {
    "duration": 11,
    "start_time": "2022-04-22T11:27:41.234Z"
   },
   {
    "duration": 45,
    "start_time": "2022-04-22T11:27:41.274Z"
   },
   {
    "duration": 7,
    "start_time": "2022-04-22T11:27:41.321Z"
   },
   {
    "duration": 9,
    "start_time": "2022-04-22T11:27:41.329Z"
   },
   {
    "duration": 65,
    "start_time": "2022-04-22T11:27:41.340Z"
   },
   {
    "duration": 8,
    "start_time": "2022-04-22T11:27:41.407Z"
   },
   {
    "duration": 11,
    "start_time": "2022-04-22T11:27:41.417Z"
   },
   {
    "duration": 25,
    "start_time": "2022-04-22T11:27:41.430Z"
   },
   {
    "duration": 26,
    "start_time": "2022-04-22T11:27:41.457Z"
   },
   {
    "duration": 6,
    "start_time": "2022-04-22T11:27:41.485Z"
   },
   {
    "duration": 16,
    "start_time": "2022-04-22T11:27:41.493Z"
   },
   {
    "duration": 10,
    "start_time": "2022-04-22T11:27:41.510Z"
   },
   {
    "duration": 5,
    "start_time": "2022-04-22T11:27:41.522Z"
   },
   {
    "duration": 8,
    "start_time": "2022-04-22T11:27:41.529Z"
   },
   {
    "duration": 39,
    "start_time": "2022-04-22T11:27:41.539Z"
   },
   {
    "duration": 19,
    "start_time": "2022-04-22T11:27:41.580Z"
   },
   {
    "duration": 12,
    "start_time": "2022-04-22T11:27:41.602Z"
   },
   {
    "duration": 25,
    "start_time": "2022-04-22T11:27:41.616Z"
   },
   {
    "duration": 11,
    "start_time": "2022-04-22T11:27:41.643Z"
   },
   {
    "duration": 27,
    "start_time": "2022-04-22T11:27:41.656Z"
   },
   {
    "duration": 18,
    "start_time": "2022-04-22T11:27:41.685Z"
   },
   {
    "duration": 34,
    "start_time": "2022-04-22T11:27:41.706Z"
   },
   {
    "duration": 41,
    "start_time": "2022-04-22T11:27:41.742Z"
   },
   {
    "duration": 19,
    "start_time": "2022-04-22T11:27:41.786Z"
   },
   {
    "duration": 22,
    "start_time": "2022-04-22T11:27:41.807Z"
   },
   {
    "duration": 14,
    "start_time": "2022-04-22T11:27:41.831Z"
   },
   {
    "duration": 12,
    "start_time": "2022-04-22T11:27:41.850Z"
   },
   {
    "duration": 25,
    "start_time": "2022-04-22T11:27:45.384Z"
   },
   {
    "duration": 24,
    "start_time": "2022-04-22T11:27:50.896Z"
   },
   {
    "duration": 128,
    "start_time": "2022-04-22T11:27:52.177Z"
   },
   {
    "duration": 9,
    "start_time": "2022-04-22T11:27:52.703Z"
   },
   {
    "duration": 18,
    "start_time": "2022-04-22T11:27:53.504Z"
   },
   {
    "duration": 137,
    "start_time": "2022-04-22T11:28:06.594Z"
   },
   {
    "duration": 210,
    "start_time": "2022-04-22T11:28:06.836Z"
   },
   {
    "duration": 194,
    "start_time": "2022-04-22T11:28:10.176Z"
   },
   {
    "duration": 7,
    "start_time": "2022-04-22T11:28:18.167Z"
   },
   {
    "duration": 7,
    "start_time": "2022-04-22T11:28:19.017Z"
   },
   {
    "duration": 13,
    "start_time": "2022-04-22T11:28:44.166Z"
   },
   {
    "duration": 13,
    "start_time": "2022-04-22T11:29:21.652Z"
   },
   {
    "duration": 96,
    "start_time": "2022-04-22T11:32:24.843Z"
   },
   {
    "duration": 9,
    "start_time": "2022-04-22T11:32:33.778Z"
   },
   {
    "duration": 10,
    "start_time": "2022-04-22T11:32:40.897Z"
   },
   {
    "duration": 19,
    "start_time": "2022-04-22T11:33:02.393Z"
   },
   {
    "duration": 229,
    "start_time": "2022-04-22T11:35:48.976Z"
   },
   {
    "duration": 209,
    "start_time": "2022-04-22T11:35:57.131Z"
   },
   {
    "duration": 100,
    "start_time": "2022-04-22T11:38:44.476Z"
   },
   {
    "duration": 56,
    "start_time": "2022-04-22T11:39:17.740Z"
   },
   {
    "duration": 49,
    "start_time": "2022-04-22T11:39:47.705Z"
   },
   {
    "duration": 47,
    "start_time": "2022-04-22T11:40:19.564Z"
   },
   {
    "duration": 20,
    "start_time": "2022-04-22T11:40:45.849Z"
   },
   {
    "duration": 3,
    "start_time": "2022-04-22T11:42:22.987Z"
   },
   {
    "duration": 21,
    "start_time": "2022-04-22T11:42:28.605Z"
   },
   {
    "duration": 30,
    "start_time": "2022-04-22T11:42:35.061Z"
   },
   {
    "duration": 20,
    "start_time": "2022-04-22T11:42:53.195Z"
   },
   {
    "duration": 13,
    "start_time": "2022-04-22T11:43:00.166Z"
   },
   {
    "duration": 18,
    "start_time": "2022-04-22T11:43:06.580Z"
   },
   {
    "duration": 90,
    "start_time": "2022-04-22T11:43:47.538Z"
   },
   {
    "duration": 22,
    "start_time": "2022-04-22T11:43:59.897Z"
   },
   {
    "duration": 23,
    "start_time": "2022-04-22T11:44:23.739Z"
   },
   {
    "duration": 244,
    "start_time": "2022-04-22T11:47:11.052Z"
   },
   {
    "duration": 228,
    "start_time": "2022-04-22T11:47:36.782Z"
   },
   {
    "duration": 340,
    "start_time": "2022-04-22T11:47:51.631Z"
   },
   {
    "duration": 220,
    "start_time": "2022-04-22T11:48:44.112Z"
   },
   {
    "duration": 224,
    "start_time": "2022-04-22T11:48:52.427Z"
   },
   {
    "duration": 256,
    "start_time": "2022-04-22T11:48:57.815Z"
   },
   {
    "duration": 218,
    "start_time": "2022-04-22T11:49:10.931Z"
   },
   {
    "duration": 2,
    "start_time": "2022-04-22T16:43:56.360Z"
   },
   {
    "duration": 2,
    "start_time": "2022-04-22T16:43:57.068Z"
   },
   {
    "duration": 1155,
    "start_time": "2022-04-22T16:49:17.033Z"
   },
   {
    "duration": 422,
    "start_time": "2022-04-22T16:49:18.190Z"
   },
   {
    "duration": 14,
    "start_time": "2022-04-22T16:49:18.613Z"
   },
   {
    "duration": 16,
    "start_time": "2022-04-22T16:49:18.629Z"
   },
   {
    "duration": 9,
    "start_time": "2022-04-22T16:49:18.646Z"
   },
   {
    "duration": 8,
    "start_time": "2022-04-22T16:49:18.657Z"
   },
   {
    "duration": 31,
    "start_time": "2022-04-22T16:49:18.675Z"
   },
   {
    "duration": 6,
    "start_time": "2022-04-22T16:49:18.707Z"
   },
   {
    "duration": 6,
    "start_time": "2022-04-22T16:49:18.714Z"
   },
   {
    "duration": 14,
    "start_time": "2022-04-22T16:49:18.722Z"
   },
   {
    "duration": 11,
    "start_time": "2022-04-22T16:49:18.737Z"
   },
   {
    "duration": 186,
    "start_time": "2022-04-22T16:49:18.750Z"
   },
   {
    "duration": 9,
    "start_time": "2022-04-22T16:49:18.938Z"
   },
   {
    "duration": 27,
    "start_time": "2022-04-22T16:49:18.949Z"
   },
   {
    "duration": 7,
    "start_time": "2022-04-22T16:49:18.978Z"
   },
   {
    "duration": 14,
    "start_time": "2022-04-22T16:49:18.987Z"
   },
   {
    "duration": 21,
    "start_time": "2022-04-22T16:49:19.002Z"
   },
   {
    "duration": 15,
    "start_time": "2022-04-22T16:49:19.025Z"
   },
   {
    "duration": 44,
    "start_time": "2022-04-22T16:49:19.042Z"
   },
   {
    "duration": 11,
    "start_time": "2022-04-22T16:49:19.088Z"
   },
   {
    "duration": 100,
    "start_time": "2022-04-22T16:49:19.101Z"
   },
   {
    "duration": 37,
    "start_time": "2022-04-22T16:49:19.202Z"
   },
   {
    "duration": 20,
    "start_time": "2022-04-22T16:49:19.241Z"
   },
   {
    "duration": 183,
    "start_time": "2022-04-22T16:49:19.263Z"
   },
   {
    "duration": 16,
    "start_time": "2022-04-22T16:49:19.447Z"
   },
   {
    "duration": 69,
    "start_time": "2022-04-22T16:49:19.465Z"
   },
   {
    "duration": 19,
    "start_time": "2022-04-22T16:49:19.536Z"
   },
   {
    "duration": 13,
    "start_time": "2022-04-22T16:49:19.580Z"
   },
   {
    "duration": 35,
    "start_time": "2022-04-22T16:49:19.595Z"
   },
   {
    "duration": 21,
    "start_time": "2022-04-22T16:49:19.632Z"
   },
   {
    "duration": 53,
    "start_time": "2022-04-22T16:49:19.654Z"
   },
   {
    "duration": 9,
    "start_time": "2022-04-22T16:49:19.709Z"
   },
   {
    "duration": 28,
    "start_time": "2022-04-22T16:49:19.720Z"
   },
   {
    "duration": 50,
    "start_time": "2022-04-22T16:49:19.749Z"
   },
   {
    "duration": 25,
    "start_time": "2022-04-22T16:49:19.801Z"
   },
   {
    "duration": 5,
    "start_time": "2022-04-22T16:49:19.828Z"
   },
   {
    "duration": 6,
    "start_time": "2022-04-22T16:49:19.835Z"
   },
   {
    "duration": 36,
    "start_time": "2022-04-22T16:49:19.842Z"
   },
   {
    "duration": 12,
    "start_time": "2022-04-22T16:49:19.880Z"
   },
   {
    "duration": 32,
    "start_time": "2022-04-22T16:49:19.894Z"
   },
   {
    "duration": 61,
    "start_time": "2022-04-22T16:49:19.928Z"
   },
   {
    "duration": 179,
    "start_time": "2022-04-22T16:49:19.991Z"
   },
   {
    "duration": 16,
    "start_time": "2022-04-22T16:49:20.176Z"
   },
   {
    "duration": 8,
    "start_time": "2022-04-22T16:49:20.194Z"
   },
   {
    "duration": 7,
    "start_time": "2022-04-22T16:49:20.203Z"
   },
   {
    "duration": 14,
    "start_time": "2022-04-22T16:49:20.211Z"
   },
   {
    "duration": 10,
    "start_time": "2022-04-22T16:49:20.227Z"
   },
   {
    "duration": 38,
    "start_time": "2022-04-22T16:49:20.239Z"
   },
   {
    "duration": 170,
    "start_time": "2022-04-22T16:49:20.279Z"
   },
   {
    "duration": 4,
    "start_time": "2022-04-22T16:49:20.451Z"
   },
   {
    "duration": 128,
    "start_time": "2022-04-22T16:49:20.456Z"
   },
   {
    "duration": 11,
    "start_time": "2022-04-22T16:49:20.586Z"
   },
   {
    "duration": 6,
    "start_time": "2022-04-22T16:49:20.598Z"
   },
   {
    "duration": 48,
    "start_time": "2022-04-22T16:49:20.606Z"
   },
   {
    "duration": 3,
    "start_time": "2022-04-22T16:49:20.656Z"
   },
   {
    "duration": 12,
    "start_time": "2022-04-22T16:49:20.676Z"
   },
   {
    "duration": 45,
    "start_time": "2022-04-22T16:49:20.690Z"
   },
   {
    "duration": 9,
    "start_time": "2022-04-22T16:49:20.737Z"
   },
   {
    "duration": 8,
    "start_time": "2022-04-22T16:49:20.748Z"
   },
   {
    "duration": 47,
    "start_time": "2022-04-22T16:49:20.776Z"
   },
   {
    "duration": 8,
    "start_time": "2022-04-22T16:49:20.825Z"
   },
   {
    "duration": 6,
    "start_time": "2022-04-22T16:49:20.835Z"
   },
   {
    "duration": 46,
    "start_time": "2022-04-22T16:49:20.842Z"
   },
   {
    "duration": 12,
    "start_time": "2022-04-22T16:49:20.890Z"
   },
   {
    "duration": 10,
    "start_time": "2022-04-22T16:49:20.904Z"
   },
   {
    "duration": 17,
    "start_time": "2022-04-22T16:49:20.915Z"
   },
   {
    "duration": 15,
    "start_time": "2022-04-22T16:49:20.934Z"
   },
   {
    "duration": 9,
    "start_time": "2022-04-22T16:49:20.950Z"
   },
   {
    "duration": 17,
    "start_time": "2022-04-22T16:49:20.961Z"
   },
   {
    "duration": 25,
    "start_time": "2022-04-22T16:49:20.981Z"
   },
   {
    "duration": 17,
    "start_time": "2022-04-22T16:49:21.008Z"
   },
   {
    "duration": 7,
    "start_time": "2022-04-22T16:49:21.027Z"
   },
   {
    "duration": 17,
    "start_time": "2022-04-22T16:49:21.036Z"
   },
   {
    "duration": 12,
    "start_time": "2022-04-22T16:49:21.055Z"
   },
   {
    "duration": 17,
    "start_time": "2022-04-22T16:49:21.077Z"
   },
   {
    "duration": 29,
    "start_time": "2022-04-22T16:49:21.096Z"
   },
   {
    "duration": 9,
    "start_time": "2022-04-22T16:49:21.126Z"
   },
   {
    "duration": 5,
    "start_time": "2022-04-22T16:49:21.137Z"
   },
   {
    "duration": 7,
    "start_time": "2022-04-22T16:49:21.144Z"
   },
   {
    "duration": 9,
    "start_time": "2022-04-22T16:49:21.153Z"
   },
   {
    "duration": 15,
    "start_time": "2022-04-22T16:49:21.164Z"
   },
   {
    "duration": 8,
    "start_time": "2022-04-22T16:49:21.186Z"
   },
   {
    "duration": 17,
    "start_time": "2022-04-22T16:49:21.196Z"
   },
   {
    "duration": 23,
    "start_time": "2022-04-22T16:49:21.215Z"
   },
   {
    "duration": 162,
    "start_time": "2022-04-22T16:49:21.240Z"
   },
   {
    "duration": 9,
    "start_time": "2022-04-22T16:49:21.403Z"
   },
   {
    "duration": 16,
    "start_time": "2022-04-22T16:49:21.414Z"
   },
   {
    "duration": 2,
    "start_time": "2022-04-22T16:49:21.432Z"
   },
   {
    "duration": 15,
    "start_time": "2022-04-22T16:49:21.435Z"
   },
   {
    "duration": 205,
    "start_time": "2022-04-22T16:49:21.452Z"
   },
   {
    "duration": 14,
    "start_time": "2022-04-22T16:49:21.659Z"
   },
   {
    "duration": 18,
    "start_time": "2022-04-22T16:49:21.675Z"
   },
   {
    "duration": 30,
    "start_time": "2022-04-22T16:49:21.695Z"
   },
   {
    "duration": 17,
    "start_time": "2022-04-22T16:49:21.727Z"
   },
   {
    "duration": 363,
    "start_time": "2022-04-22T16:49:21.746Z"
   },
   {
    "duration": 263,
    "start_time": "2022-04-22T16:49:22.111Z"
   },
   {
    "duration": 280,
    "start_time": "2022-04-22T16:49:22.377Z"
   },
   {
    "duration": 5,
    "start_time": "2022-04-22T16:49:22.659Z"
   },
   {
    "duration": 28,
    "start_time": "2022-04-22T16:49:22.674Z"
   },
   {
    "duration": 12,
    "start_time": "2022-04-22T16:49:22.704Z"
   },
   {
    "duration": 5,
    "start_time": "2022-04-22T16:49:22.718Z"
   },
   {
    "duration": 14,
    "start_time": "2022-04-22T16:49:22.725Z"
   },
   {
    "duration": 5,
    "start_time": "2022-04-22T16:49:22.741Z"
   },
   {
    "duration": 32,
    "start_time": "2022-04-22T16:49:22.747Z"
   },
   {
    "duration": 4,
    "start_time": "2022-04-22T16:52:22.849Z"
   },
   {
    "duration": 195,
    "start_time": "2022-04-22T16:53:53.745Z"
   },
   {
    "duration": 8,
    "start_time": "2022-04-22T16:54:27.561Z"
   },
   {
    "duration": 99,
    "start_time": "2022-04-22T16:54:34.167Z"
   },
   {
    "duration": 4,
    "start_time": "2022-04-22T16:55:03.926Z"
   },
   {
    "duration": 99,
    "start_time": "2022-04-22T16:55:11.250Z"
   },
   {
    "duration": 107,
    "start_time": "2022-04-22T16:55:52.691Z"
   },
   {
    "duration": 1189,
    "start_time": "2022-04-22T16:56:11.741Z"
   },
   {
    "duration": 413,
    "start_time": "2022-04-22T16:56:12.932Z"
   },
   {
    "duration": 14,
    "start_time": "2022-04-22T16:56:13.347Z"
   },
   {
    "duration": 22,
    "start_time": "2022-04-22T16:56:13.363Z"
   },
   {
    "duration": 10,
    "start_time": "2022-04-22T16:56:13.388Z"
   },
   {
    "duration": 7,
    "start_time": "2022-04-22T16:56:13.400Z"
   },
   {
    "duration": 24,
    "start_time": "2022-04-22T16:56:13.409Z"
   },
   {
    "duration": 6,
    "start_time": "2022-04-22T16:56:13.435Z"
   },
   {
    "duration": 5,
    "start_time": "2022-04-22T16:56:13.443Z"
   },
   {
    "duration": 18,
    "start_time": "2022-04-22T16:56:13.476Z"
   },
   {
    "duration": 10,
    "start_time": "2022-04-22T16:56:13.496Z"
   },
   {
    "duration": 154,
    "start_time": "2022-04-22T16:56:13.508Z"
   },
   {
    "duration": 16,
    "start_time": "2022-04-22T16:56:13.664Z"
   },
   {
    "duration": 19,
    "start_time": "2022-04-22T16:56:13.684Z"
   },
   {
    "duration": 9,
    "start_time": "2022-04-22T16:56:13.704Z"
   },
   {
    "duration": 11,
    "start_time": "2022-04-22T16:56:13.715Z"
   },
   {
    "duration": 8,
    "start_time": "2022-04-22T16:56:13.728Z"
   },
   {
    "duration": 18,
    "start_time": "2022-04-22T16:56:13.738Z"
   },
   {
    "duration": 38,
    "start_time": "2022-04-22T16:56:13.758Z"
   },
   {
    "duration": 10,
    "start_time": "2022-04-22T16:56:13.798Z"
   },
   {
    "duration": 97,
    "start_time": "2022-04-22T16:56:13.810Z"
   },
   {
    "duration": 35,
    "start_time": "2022-04-22T16:56:13.908Z"
   },
   {
    "duration": 41,
    "start_time": "2022-04-22T16:56:13.945Z"
   },
   {
    "duration": 162,
    "start_time": "2022-04-22T16:56:13.989Z"
   },
   {
    "duration": 15,
    "start_time": "2022-04-22T16:56:14.153Z"
   },
   {
    "duration": 65,
    "start_time": "2022-04-22T16:56:14.169Z"
   },
   {
    "duration": 43,
    "start_time": "2022-04-22T16:56:14.236Z"
   },
   {
    "duration": 11,
    "start_time": "2022-04-22T16:56:14.281Z"
   },
   {
    "duration": 42,
    "start_time": "2022-04-22T16:56:14.293Z"
   },
   {
    "duration": 23,
    "start_time": "2022-04-22T16:56:14.336Z"
   },
   {
    "duration": 46,
    "start_time": "2022-04-22T16:56:14.361Z"
   },
   {
    "duration": 9,
    "start_time": "2022-04-22T16:56:14.408Z"
   },
   {
    "duration": 24,
    "start_time": "2022-04-22T16:56:14.418Z"
   },
   {
    "duration": 50,
    "start_time": "2022-04-22T16:56:14.444Z"
   },
   {
    "duration": 28,
    "start_time": "2022-04-22T16:56:14.495Z"
   },
   {
    "duration": 5,
    "start_time": "2022-04-22T16:56:14.524Z"
   },
   {
    "duration": 7,
    "start_time": "2022-04-22T16:56:14.530Z"
   },
   {
    "duration": 46,
    "start_time": "2022-04-22T16:56:14.538Z"
   },
   {
    "duration": 11,
    "start_time": "2022-04-22T16:56:14.586Z"
   },
   {
    "duration": 21,
    "start_time": "2022-04-22T16:56:14.599Z"
   },
   {
    "duration": 64,
    "start_time": "2022-04-22T16:56:14.625Z"
   },
   {
    "duration": 167,
    "start_time": "2022-04-22T16:56:14.691Z"
   },
   {
    "duration": 26,
    "start_time": "2022-04-22T16:56:14.860Z"
   },
   {
    "duration": 9,
    "start_time": "2022-04-22T16:56:14.888Z"
   },
   {
    "duration": 6,
    "start_time": "2022-04-22T16:56:14.898Z"
   },
   {
    "duration": 14,
    "start_time": "2022-04-22T16:56:14.905Z"
   },
   {
    "duration": 12,
    "start_time": "2022-04-22T16:56:14.920Z"
   },
   {
    "duration": 5,
    "start_time": "2022-04-22T16:56:14.934Z"
   },
   {
    "duration": 182,
    "start_time": "2022-04-22T16:56:14.941Z"
   },
   {
    "duration": 4,
    "start_time": "2022-04-22T16:56:15.125Z"
   },
   {
    "duration": 117,
    "start_time": "2022-04-22T16:56:15.130Z"
   },
   {
    "duration": 9,
    "start_time": "2022-04-22T16:56:15.249Z"
   },
   {
    "duration": 22,
    "start_time": "2022-04-22T16:56:15.260Z"
   },
   {
    "duration": 55,
    "start_time": "2022-04-22T16:56:15.284Z"
   },
   {
    "duration": 2,
    "start_time": "2022-04-22T16:56:15.341Z"
   },
   {
    "duration": 11,
    "start_time": "2022-04-22T16:56:15.345Z"
   },
   {
    "duration": 56,
    "start_time": "2022-04-22T16:56:15.358Z"
   },
   {
    "duration": 7,
    "start_time": "2022-04-22T16:56:15.416Z"
   },
   {
    "duration": 7,
    "start_time": "2022-04-22T16:56:15.424Z"
   },
   {
    "duration": 63,
    "start_time": "2022-04-22T16:56:15.432Z"
   },
   {
    "duration": 8,
    "start_time": "2022-04-22T16:56:15.496Z"
   },
   {
    "duration": 5,
    "start_time": "2022-04-22T16:56:15.505Z"
   },
   {
    "duration": 24,
    "start_time": "2022-04-22T16:56:15.511Z"
   },
   {
    "duration": 11,
    "start_time": "2022-04-22T16:56:15.537Z"
   },
   {
    "duration": 31,
    "start_time": "2022-04-22T16:56:15.550Z"
   },
   {
    "duration": 12,
    "start_time": "2022-04-22T16:56:15.583Z"
   },
   {
    "duration": 10,
    "start_time": "2022-04-22T16:56:15.597Z"
   },
   {
    "duration": 4,
    "start_time": "2022-04-22T16:56:15.609Z"
   },
   {
    "duration": 9,
    "start_time": "2022-04-22T16:56:15.614Z"
   },
   {
    "duration": 6,
    "start_time": "2022-04-22T16:56:15.624Z"
   },
   {
    "duration": 16,
    "start_time": "2022-04-22T16:56:15.631Z"
   },
   {
    "duration": 32,
    "start_time": "2022-04-22T16:56:15.649Z"
   },
   {
    "duration": 17,
    "start_time": "2022-04-22T16:56:15.684Z"
   },
   {
    "duration": 9,
    "start_time": "2022-04-22T16:56:15.703Z"
   },
   {
    "duration": 14,
    "start_time": "2022-04-22T16:56:15.713Z"
   },
   {
    "duration": 14,
    "start_time": "2022-04-22T16:56:15.729Z"
   },
   {
    "duration": 41,
    "start_time": "2022-04-22T16:56:15.744Z"
   },
   {
    "duration": 15,
    "start_time": "2022-04-22T16:56:15.787Z"
   },
   {
    "duration": 13,
    "start_time": "2022-04-22T16:56:15.804Z"
   },
   {
    "duration": 17,
    "start_time": "2022-04-22T16:56:15.819Z"
   },
   {
    "duration": 11,
    "start_time": "2022-04-22T16:56:15.838Z"
   },
   {
    "duration": 10,
    "start_time": "2022-04-22T16:56:15.851Z"
   },
   {
    "duration": 33,
    "start_time": "2022-04-22T16:56:15.863Z"
   },
   {
    "duration": 30,
    "start_time": "2022-04-22T16:56:15.898Z"
   },
   {
    "duration": 156,
    "start_time": "2022-04-22T16:56:15.931Z"
   },
   {
    "duration": 9,
    "start_time": "2022-04-22T16:56:16.089Z"
   },
   {
    "duration": 18,
    "start_time": "2022-04-22T16:56:16.099Z"
   },
   {
    "duration": 2,
    "start_time": "2022-04-22T16:56:16.119Z"
   },
   {
    "duration": 4,
    "start_time": "2022-04-22T16:56:16.123Z"
   },
   {
    "duration": 209,
    "start_time": "2022-04-22T16:56:16.129Z"
   },
   {
    "duration": 6,
    "start_time": "2022-04-22T16:56:16.340Z"
   },
   {
    "duration": 12,
    "start_time": "2022-04-22T16:56:16.347Z"
   },
   {
    "duration": 34,
    "start_time": "2022-04-22T16:56:16.361Z"
   },
   {
    "duration": 16,
    "start_time": "2022-04-22T16:56:16.397Z"
   },
   {
    "duration": 316,
    "start_time": "2022-04-22T16:56:16.415Z"
   },
   {
    "duration": 248,
    "start_time": "2022-04-22T16:56:16.732Z"
   },
   {
    "duration": 232,
    "start_time": "2022-04-22T16:56:16.982Z"
   },
   {
    "duration": 6,
    "start_time": "2022-04-22T16:56:17.217Z"
   },
   {
    "duration": 13,
    "start_time": "2022-04-22T16:56:17.225Z"
   },
   {
    "duration": 5,
    "start_time": "2022-04-22T16:56:17.240Z"
   },
   {
    "duration": 30,
    "start_time": "2022-04-22T16:56:17.247Z"
   },
   {
    "duration": 108,
    "start_time": "2022-04-22T16:56:17.280Z"
   },
   {
    "duration": 5,
    "start_time": "2022-04-22T16:56:17.389Z"
   },
   {
    "duration": 12,
    "start_time": "2022-04-22T16:56:17.395Z"
   },
   {
    "duration": 6,
    "start_time": "2022-04-22T16:56:17.408Z"
   },
   {
    "duration": 6,
    "start_time": "2022-04-22T16:56:17.416Z"
   },
   {
    "duration": 126,
    "start_time": "2022-04-22T16:56:17.424Z"
   },
   {
    "duration": 55,
    "start_time": "2022-04-23T11:31:37.035Z"
   },
   {
    "duration": 1587,
    "start_time": "2022-04-23T11:31:40.187Z"
   },
   {
    "duration": 475,
    "start_time": "2022-04-23T11:31:41.776Z"
   },
   {
    "duration": 14,
    "start_time": "2022-04-23T11:31:42.253Z"
   },
   {
    "duration": 15,
    "start_time": "2022-04-23T11:31:42.272Z"
   },
   {
    "duration": 10,
    "start_time": "2022-04-23T11:31:42.288Z"
   },
   {
    "duration": 9,
    "start_time": "2022-04-23T11:31:42.299Z"
   },
   {
    "duration": 53,
    "start_time": "2022-04-23T11:31:42.310Z"
   },
   {
    "duration": 6,
    "start_time": "2022-04-23T11:31:42.365Z"
   },
   {
    "duration": 6,
    "start_time": "2022-04-23T11:31:42.373Z"
   },
   {
    "duration": 12,
    "start_time": "2022-04-23T11:31:42.381Z"
   },
   {
    "duration": 9,
    "start_time": "2022-04-23T11:31:42.394Z"
   },
   {
    "duration": 153,
    "start_time": "2022-04-23T11:31:42.404Z"
   },
   {
    "duration": 13,
    "start_time": "2022-04-23T11:31:42.558Z"
   },
   {
    "duration": 9,
    "start_time": "2022-04-23T11:31:42.572Z"
   },
   {
    "duration": 6,
    "start_time": "2022-04-23T11:31:42.583Z"
   },
   {
    "duration": 7,
    "start_time": "2022-04-23T11:31:42.591Z"
   },
   {
    "duration": 8,
    "start_time": "2022-04-23T11:31:42.600Z"
   },
   {
    "duration": 44,
    "start_time": "2022-04-23T11:31:42.609Z"
   },
   {
    "duration": 30,
    "start_time": "2022-04-23T11:31:42.655Z"
   },
   {
    "duration": 10,
    "start_time": "2022-04-23T11:31:42.686Z"
   },
   {
    "duration": 88,
    "start_time": "2022-04-23T11:31:42.698Z"
   },
   {
    "duration": 31,
    "start_time": "2022-04-23T11:31:42.788Z"
   },
   {
    "duration": 31,
    "start_time": "2022-04-23T11:31:42.821Z"
   },
   {
    "duration": 153,
    "start_time": "2022-04-23T11:31:42.854Z"
   },
   {
    "duration": 14,
    "start_time": "2022-04-23T11:31:43.009Z"
   },
   {
    "duration": 86,
    "start_time": "2022-04-23T11:31:43.025Z"
   },
   {
    "duration": 41,
    "start_time": "2022-04-23T11:31:43.113Z"
   },
   {
    "duration": 10,
    "start_time": "2022-04-23T11:31:43.159Z"
   },
   {
    "duration": 32,
    "start_time": "2022-04-23T11:31:43.171Z"
   },
   {
    "duration": 50,
    "start_time": "2022-04-23T11:31:43.205Z"
   },
   {
    "duration": 43,
    "start_time": "2022-04-23T11:31:43.257Z"
   },
   {
    "duration": 11,
    "start_time": "2022-04-23T11:31:43.302Z"
   },
   {
    "duration": 53,
    "start_time": "2022-04-23T11:31:43.314Z"
   },
   {
    "duration": 22,
    "start_time": "2022-04-23T11:31:43.369Z"
   },
   {
    "duration": 24,
    "start_time": "2022-04-23T11:31:43.392Z"
   },
   {
    "duration": 4,
    "start_time": "2022-04-23T11:31:43.418Z"
   },
   {
    "duration": 29,
    "start_time": "2022-04-23T11:31:43.424Z"
   },
   {
    "duration": 14,
    "start_time": "2022-04-23T11:31:43.457Z"
   },
   {
    "duration": 8,
    "start_time": "2022-04-23T11:31:43.473Z"
   },
   {
    "duration": 18,
    "start_time": "2022-04-23T11:31:43.483Z"
   },
   {
    "duration": 66,
    "start_time": "2022-04-23T11:31:43.503Z"
   },
   {
    "duration": 194,
    "start_time": "2022-04-23T11:31:43.571Z"
   },
   {
    "duration": 15,
    "start_time": "2022-04-23T11:31:43.767Z"
   },
   {
    "duration": 10,
    "start_time": "2022-04-23T11:31:43.784Z"
   },
   {
    "duration": 7,
    "start_time": "2022-04-23T11:31:43.796Z"
   },
   {
    "duration": 13,
    "start_time": "2022-04-23T11:31:43.804Z"
   },
   {
    "duration": 37,
    "start_time": "2022-04-23T11:31:43.818Z"
   },
   {
    "duration": 8,
    "start_time": "2022-04-23T11:31:43.857Z"
   },
   {
    "duration": 144,
    "start_time": "2022-04-23T11:31:43.867Z"
   },
   {
    "duration": 3,
    "start_time": "2022-04-23T11:31:44.013Z"
   },
   {
    "duration": 141,
    "start_time": "2022-04-23T11:31:44.018Z"
   },
   {
    "duration": 89,
    "start_time": "2022-04-23T11:31:44.163Z"
   },
   {
    "duration": 0,
    "start_time": "2022-04-23T11:31:44.257Z"
   },
   {
    "duration": 0,
    "start_time": "2022-04-23T11:31:44.258Z"
   },
   {
    "duration": 0,
    "start_time": "2022-04-23T11:31:44.259Z"
   },
   {
    "duration": 0,
    "start_time": "2022-04-23T11:31:44.260Z"
   },
   {
    "duration": 0,
    "start_time": "2022-04-23T11:31:44.261Z"
   },
   {
    "duration": 0,
    "start_time": "2022-04-23T11:31:44.263Z"
   },
   {
    "duration": 0,
    "start_time": "2022-04-23T11:31:44.264Z"
   },
   {
    "duration": 0,
    "start_time": "2022-04-23T11:31:44.265Z"
   },
   {
    "duration": 0,
    "start_time": "2022-04-23T11:31:44.266Z"
   },
   {
    "duration": 0,
    "start_time": "2022-04-23T11:31:44.267Z"
   },
   {
    "duration": 0,
    "start_time": "2022-04-23T11:31:44.268Z"
   },
   {
    "duration": 0,
    "start_time": "2022-04-23T11:31:44.270Z"
   },
   {
    "duration": 0,
    "start_time": "2022-04-23T11:31:44.271Z"
   },
   {
    "duration": 0,
    "start_time": "2022-04-23T11:31:44.272Z"
   },
   {
    "duration": 0,
    "start_time": "2022-04-23T11:31:44.273Z"
   },
   {
    "duration": 0,
    "start_time": "2022-04-23T11:31:44.274Z"
   },
   {
    "duration": 0,
    "start_time": "2022-04-23T11:31:44.280Z"
   },
   {
    "duration": 0,
    "start_time": "2022-04-23T11:31:44.280Z"
   },
   {
    "duration": 0,
    "start_time": "2022-04-23T11:31:44.285Z"
   },
   {
    "duration": 0,
    "start_time": "2022-04-23T11:31:44.286Z"
   },
   {
    "duration": 0,
    "start_time": "2022-04-23T11:31:44.288Z"
   },
   {
    "duration": 0,
    "start_time": "2022-04-23T11:31:44.289Z"
   },
   {
    "duration": 0,
    "start_time": "2022-04-23T11:31:44.290Z"
   },
   {
    "duration": 0,
    "start_time": "2022-04-23T11:31:44.291Z"
   },
   {
    "duration": 0,
    "start_time": "2022-04-23T11:31:44.292Z"
   },
   {
    "duration": 0,
    "start_time": "2022-04-23T11:31:44.293Z"
   },
   {
    "duration": 0,
    "start_time": "2022-04-23T11:31:44.294Z"
   },
   {
    "duration": 0,
    "start_time": "2022-04-23T11:31:44.296Z"
   },
   {
    "duration": 0,
    "start_time": "2022-04-23T11:31:44.297Z"
   },
   {
    "duration": 0,
    "start_time": "2022-04-23T11:31:44.298Z"
   },
   {
    "duration": 0,
    "start_time": "2022-04-23T11:31:44.350Z"
   },
   {
    "duration": 0,
    "start_time": "2022-04-23T11:31:44.351Z"
   },
   {
    "duration": 1,
    "start_time": "2022-04-23T11:31:44.351Z"
   },
   {
    "duration": 0,
    "start_time": "2022-04-23T11:31:44.352Z"
   },
   {
    "duration": 0,
    "start_time": "2022-04-23T11:31:44.354Z"
   },
   {
    "duration": 0,
    "start_time": "2022-04-23T11:31:44.355Z"
   },
   {
    "duration": 0,
    "start_time": "2022-04-23T11:31:44.355Z"
   },
   {
    "duration": 0,
    "start_time": "2022-04-23T11:31:44.356Z"
   },
   {
    "duration": 0,
    "start_time": "2022-04-23T11:31:44.357Z"
   },
   {
    "duration": 0,
    "start_time": "2022-04-23T11:31:44.357Z"
   },
   {
    "duration": 0,
    "start_time": "2022-04-23T11:31:44.358Z"
   },
   {
    "duration": 0,
    "start_time": "2022-04-23T11:31:44.359Z"
   },
   {
    "duration": 0,
    "start_time": "2022-04-23T11:31:44.361Z"
   },
   {
    "duration": 0,
    "start_time": "2022-04-23T11:31:44.361Z"
   },
   {
    "duration": 0,
    "start_time": "2022-04-23T11:31:44.362Z"
   },
   {
    "duration": 1,
    "start_time": "2022-04-23T11:31:44.363Z"
   },
   {
    "duration": 0,
    "start_time": "2022-04-23T11:31:44.364Z"
   },
   {
    "duration": 0,
    "start_time": "2022-04-23T11:31:44.365Z"
   },
   {
    "duration": 0,
    "start_time": "2022-04-23T11:31:44.366Z"
   },
   {
    "duration": 0,
    "start_time": "2022-04-23T11:31:44.367Z"
   },
   {
    "duration": 0,
    "start_time": "2022-04-23T11:31:44.368Z"
   },
   {
    "duration": 0,
    "start_time": "2022-04-23T11:31:44.369Z"
   },
   {
    "duration": 0,
    "start_time": "2022-04-23T11:31:44.370Z"
   },
   {
    "duration": 0,
    "start_time": "2022-04-23T11:31:44.371Z"
   },
   {
    "duration": 0,
    "start_time": "2022-04-23T11:31:44.372Z"
   },
   {
    "duration": 0,
    "start_time": "2022-04-23T11:31:44.372Z"
   },
   {
    "duration": 84,
    "start_time": "2022-04-23T11:32:32.048Z"
   },
   {
    "duration": 4,
    "start_time": "2022-04-23T11:33:22.018Z"
   },
   {
    "duration": 24,
    "start_time": "2022-04-23T11:33:29.053Z"
   },
   {
    "duration": 5,
    "start_time": "2022-04-23T11:33:32.386Z"
   },
   {
    "duration": 5,
    "start_time": "2022-04-23T11:33:54.741Z"
   },
   {
    "duration": 5,
    "start_time": "2022-04-23T11:34:45.343Z"
   },
   {
    "duration": 304,
    "start_time": "2022-04-23T11:35:22.509Z"
   },
   {
    "duration": 202,
    "start_time": "2022-04-23T11:35:27.126Z"
   },
   {
    "duration": 3,
    "start_time": "2022-04-23T11:36:09.230Z"
   },
   {
    "duration": 436,
    "start_time": "2022-04-23T11:36:09.235Z"
   },
   {
    "duration": 10,
    "start_time": "2022-04-23T11:36:09.673Z"
   },
   {
    "duration": 11,
    "start_time": "2022-04-23T11:36:09.685Z"
   },
   {
    "duration": 7,
    "start_time": "2022-04-23T11:36:09.699Z"
   },
   {
    "duration": 8,
    "start_time": "2022-04-23T11:36:09.708Z"
   },
   {
    "duration": 51,
    "start_time": "2022-04-23T11:36:09.717Z"
   },
   {
    "duration": 7,
    "start_time": "2022-04-23T11:36:09.770Z"
   },
   {
    "duration": 7,
    "start_time": "2022-04-23T11:36:09.778Z"
   },
   {
    "duration": 13,
    "start_time": "2022-04-23T11:36:09.786Z"
   },
   {
    "duration": 8,
    "start_time": "2022-04-23T11:36:09.802Z"
   },
   {
    "duration": 144,
    "start_time": "2022-04-23T11:36:09.812Z"
   },
   {
    "duration": 11,
    "start_time": "2022-04-23T11:36:09.960Z"
   },
   {
    "duration": 12,
    "start_time": "2022-04-23T11:36:09.973Z"
   },
   {
    "duration": 8,
    "start_time": "2022-04-23T11:36:09.986Z"
   },
   {
    "duration": 9,
    "start_time": "2022-04-23T11:36:09.995Z"
   },
   {
    "duration": 8,
    "start_time": "2022-04-23T11:36:10.006Z"
   },
   {
    "duration": 44,
    "start_time": "2022-04-23T11:36:10.015Z"
   },
   {
    "duration": 30,
    "start_time": "2022-04-23T11:36:10.062Z"
   },
   {
    "duration": 10,
    "start_time": "2022-04-23T11:36:10.094Z"
   },
   {
    "duration": 79,
    "start_time": "2022-04-23T11:36:10.105Z"
   },
   {
    "duration": 29,
    "start_time": "2022-04-23T11:36:10.185Z"
   },
   {
    "duration": 41,
    "start_time": "2022-04-23T11:36:10.216Z"
   },
   {
    "duration": 229,
    "start_time": "2022-04-23T11:36:10.260Z"
   },
   {
    "duration": 15,
    "start_time": "2022-04-23T11:36:10.491Z"
   },
   {
    "duration": 87,
    "start_time": "2022-04-23T11:36:10.508Z"
   },
   {
    "duration": 30,
    "start_time": "2022-04-23T11:36:10.597Z"
   },
   {
    "duration": 26,
    "start_time": "2022-04-23T11:36:10.629Z"
   },
   {
    "duration": 47,
    "start_time": "2022-04-23T11:36:10.661Z"
   },
   {
    "duration": 44,
    "start_time": "2022-04-23T11:36:10.710Z"
   },
   {
    "duration": 46,
    "start_time": "2022-04-23T11:36:10.756Z"
   },
   {
    "duration": 9,
    "start_time": "2022-04-23T11:36:10.804Z"
   },
   {
    "duration": 38,
    "start_time": "2022-04-23T11:36:10.815Z"
   },
   {
    "duration": 25,
    "start_time": "2022-04-23T11:36:10.855Z"
   },
   {
    "duration": 23,
    "start_time": "2022-04-23T11:36:10.882Z"
   },
   {
    "duration": 5,
    "start_time": "2022-04-23T11:36:10.906Z"
   },
   {
    "duration": 5,
    "start_time": "2022-04-23T11:36:10.913Z"
   },
   {
    "duration": 41,
    "start_time": "2022-04-23T11:36:10.920Z"
   },
   {
    "duration": 17,
    "start_time": "2022-04-23T11:36:10.962Z"
   },
   {
    "duration": 24,
    "start_time": "2022-04-23T11:36:10.981Z"
   },
   {
    "duration": 67,
    "start_time": "2022-04-23T11:36:11.007Z"
   },
   {
    "duration": 161,
    "start_time": "2022-04-23T11:36:11.075Z"
   },
   {
    "duration": 20,
    "start_time": "2022-04-23T11:36:11.238Z"
   },
   {
    "duration": 15,
    "start_time": "2022-04-23T11:36:11.259Z"
   },
   {
    "duration": 4,
    "start_time": "2022-04-23T11:36:11.275Z"
   },
   {
    "duration": 19,
    "start_time": "2022-04-23T11:36:11.280Z"
   },
   {
    "duration": 11,
    "start_time": "2022-04-23T11:36:11.301Z"
   },
   {
    "duration": 8,
    "start_time": "2022-04-23T11:36:11.313Z"
   },
   {
    "duration": 231,
    "start_time": "2022-04-23T11:36:11.322Z"
   },
   {
    "duration": 4,
    "start_time": "2022-04-23T11:36:11.555Z"
   },
   {
    "duration": 138,
    "start_time": "2022-04-23T11:36:11.561Z"
   },
   {
    "duration": 6,
    "start_time": "2022-04-23T11:36:11.701Z"
   },
   {
    "duration": 251,
    "start_time": "2022-04-23T11:36:11.709Z"
   },
   {
    "duration": 9,
    "start_time": "2022-04-23T11:36:11.962Z"
   },
   {
    "duration": 9,
    "start_time": "2022-04-23T11:36:11.972Z"
   },
   {
    "duration": 44,
    "start_time": "2022-04-23T11:36:11.983Z"
   },
   {
    "duration": 23,
    "start_time": "2022-04-23T11:36:12.029Z"
   },
   {
    "duration": 19,
    "start_time": "2022-04-23T11:36:12.060Z"
   },
   {
    "duration": 40,
    "start_time": "2022-04-23T11:36:12.081Z"
   },
   {
    "duration": 7,
    "start_time": "2022-04-23T11:36:12.123Z"
   },
   {
    "duration": 15,
    "start_time": "2022-04-23T11:36:12.132Z"
   },
   {
    "duration": 57,
    "start_time": "2022-04-23T11:36:12.149Z"
   },
   {
    "duration": 7,
    "start_time": "2022-04-23T11:36:12.208Z"
   },
   {
    "duration": 5,
    "start_time": "2022-04-23T11:36:12.217Z"
   },
   {
    "duration": 26,
    "start_time": "2022-04-23T11:36:12.223Z"
   },
   {
    "duration": 14,
    "start_time": "2022-04-23T11:36:12.251Z"
   },
   {
    "duration": 13,
    "start_time": "2022-04-23T11:36:12.267Z"
   },
   {
    "duration": 9,
    "start_time": "2022-04-23T11:36:12.282Z"
   },
   {
    "duration": 10,
    "start_time": "2022-04-23T11:36:12.293Z"
   },
   {
    "duration": 6,
    "start_time": "2022-04-23T11:36:12.305Z"
   },
   {
    "duration": 8,
    "start_time": "2022-04-23T11:36:12.312Z"
   },
   {
    "duration": 12,
    "start_time": "2022-04-23T11:36:12.322Z"
   },
   {
    "duration": 30,
    "start_time": "2022-04-23T11:36:12.336Z"
   },
   {
    "duration": 10,
    "start_time": "2022-04-23T11:36:12.368Z"
   },
   {
    "duration": 15,
    "start_time": "2022-04-23T11:36:12.380Z"
   },
   {
    "duration": 10,
    "start_time": "2022-04-23T11:36:12.397Z"
   },
   {
    "duration": 16,
    "start_time": "2022-04-23T11:36:12.408Z"
   },
   {
    "duration": 34,
    "start_time": "2022-04-23T11:36:12.426Z"
   },
   {
    "duration": 8,
    "start_time": "2022-04-23T11:36:12.462Z"
   },
   {
    "duration": 10,
    "start_time": "2022-04-23T11:36:12.472Z"
   },
   {
    "duration": 10,
    "start_time": "2022-04-23T11:36:12.484Z"
   },
   {
    "duration": 10,
    "start_time": "2022-04-23T11:36:12.496Z"
   },
   {
    "duration": 12,
    "start_time": "2022-04-23T11:36:12.514Z"
   },
   {
    "duration": 41,
    "start_time": "2022-04-23T11:36:12.528Z"
   },
   {
    "duration": 26,
    "start_time": "2022-04-23T11:36:12.571Z"
   },
   {
    "duration": 36,
    "start_time": "2022-04-23T11:36:12.599Z"
   },
   {
    "duration": 178,
    "start_time": "2022-04-23T11:36:12.638Z"
   },
   {
    "duration": 10,
    "start_time": "2022-04-23T11:36:12.819Z"
   },
   {
    "duration": 36,
    "start_time": "2022-04-23T11:36:12.831Z"
   },
   {
    "duration": 3,
    "start_time": "2022-04-23T11:36:12.869Z"
   },
   {
    "duration": 5,
    "start_time": "2022-04-23T11:36:12.873Z"
   },
   {
    "duration": 226,
    "start_time": "2022-04-23T11:36:12.879Z"
   },
   {
    "duration": 7,
    "start_time": "2022-04-23T11:36:13.106Z"
   },
   {
    "duration": 6,
    "start_time": "2022-04-23T11:36:13.115Z"
   },
   {
    "duration": 45,
    "start_time": "2022-04-23T11:36:13.123Z"
   },
   {
    "duration": 16,
    "start_time": "2022-04-23T11:36:13.169Z"
   },
   {
    "duration": 226,
    "start_time": "2022-04-23T11:36:13.187Z"
   },
   {
    "duration": 312,
    "start_time": "2022-04-23T11:36:13.414Z"
   },
   {
    "duration": 294,
    "start_time": "2022-04-23T11:36:13.728Z"
   },
   {
    "duration": 5,
    "start_time": "2022-04-23T11:36:14.024Z"
   },
   {
    "duration": 26,
    "start_time": "2022-04-23T11:36:14.031Z"
   },
   {
    "duration": 8,
    "start_time": "2022-04-23T11:36:14.059Z"
   },
   {
    "duration": 16,
    "start_time": "2022-04-23T11:36:14.069Z"
   },
   {
    "duration": 109,
    "start_time": "2022-04-23T11:36:14.087Z"
   },
   {
    "duration": 6,
    "start_time": "2022-04-23T11:36:14.197Z"
   },
   {
    "duration": 11,
    "start_time": "2022-04-23T11:36:14.204Z"
   },
   {
    "duration": 4,
    "start_time": "2022-04-23T11:36:14.217Z"
   },
   {
    "duration": 34,
    "start_time": "2022-04-23T11:36:14.223Z"
   },
   {
    "duration": 146,
    "start_time": "2022-04-23T11:36:14.259Z"
   }
  ],
  "kernelspec": {
   "display_name": "Python 3 (ipykernel)",
   "language": "python",
   "name": "python3"
  },
  "language_info": {
   "codemirror_mode": {
    "name": "ipython",
    "version": 3
   },
   "file_extension": ".py",
   "mimetype": "text/x-python",
   "name": "python",
   "nbconvert_exporter": "python",
   "pygments_lexer": "ipython3",
   "version": "3.9.12"
  },
  "toc": {
   "base_numbering": 1,
   "nav_menu": {},
   "number_sections": true,
   "sideBar": true,
   "skip_h1_title": true,
   "title_cell": "Table of Contents",
   "title_sidebar": "Contents",
   "toc_cell": false,
   "toc_position": {},
   "toc_section_display": true,
   "toc_window_display": false
  }
 },
 "nbformat": 4,
 "nbformat_minor": 2
}
